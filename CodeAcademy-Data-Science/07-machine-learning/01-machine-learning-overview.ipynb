{
 "cells": [
  {
   "cell_type": "markdown",
   "metadata": {},
   "source": [
    "# Machine Learning\n",
    "\n",
    "'The ability of machines to learn without being explicitly programmed'.\n",
    "\n",
    "![Machine Learning Timeline](img/machine-learning-timeline.png)"
   ]
  },
  {
   "cell_type": "markdown",
   "metadata": {},
   "source": [
    "There are two categories:\n",
    "\n",
    "**Supervised Learning** \n",
    "\n",
    "The algorithm is trained on labeled data, discovers the properties that make up the desired result. When you then show it unlabeled data it predicts the likelihood that the item matches the desired result. For credit card fraud detection you would pass in as input a set of transactions. For each transaction, the program would predict if it is fraudulent or not.\n",
    "\n",
    "Supervised learning problems can be further grouped into regression and classification problems:\n",
    " - regression: we are trying to predict a continuous-valued output, e.g stock price, house prices in a specific city\n",
    " - clasification: we are trying to predict a discrete number of values, e.g. is this the picture human or cat, is this email spam.\n",
    "\n",
    "**Unsupervised Learning**\n",
    "\n",
    "The algorithm looks for patterns in unlabeled data and groups them into clusters, e.g. clustering of a news feed into topics, clustering users for recommendations, search engine groups similar objects into a cluster etc. The program learns to recognize the inherent structure in the input data\n"
   ]
  },
  {
   "cell_type": "code",
   "execution_count": null,
   "metadata": {},
   "outputs": [],
   "source": []
  }
 ],
 "metadata": {
  "kernelspec": {
   "display_name": "Python 3",
   "language": "python",
   "name": "python3"
  },
  "language_info": {
   "codemirror_mode": {
    "name": "ipython",
    "version": 3
   },
   "file_extension": ".py",
   "mimetype": "text/x-python",
   "name": "python",
   "nbconvert_exporter": "python",
   "pygments_lexer": "ipython3",
   "version": "3.7.0"
  }
 },
 "nbformat": 4,
 "nbformat_minor": 2
}
