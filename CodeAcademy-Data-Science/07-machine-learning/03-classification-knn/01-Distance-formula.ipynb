{
 "cells": [
  {
   "cell_type": "markdown",
   "metadata": {},
   "source": [
    "# Distance Formula\n",
    "\n",
    "\n",
    "**Representing points**\n",
    "\n",
    "We will use lists to represent points, thus a 2D point would be `[2,3]`, while a 5D point would be `[1,2,3,4,5]`. To find the distance between two points, they must hae the same dimensions.\n",
    "\n",
    "\n",
    "There are a number of ways to determine the distance between two points:\n",
    "\n",
    "**Euclidean Distance**\n",
    "\n",
    "Most commonly used distance formula. \n",
    " - First calculate the squared difference between each dimension\n",
    " - 2nd add up all of these squared differences and take the square root"
   ]
  },
  {
   "cell_type": "code",
   "execution_count": 1,
   "metadata": {},
   "outputs": [
    {
     "name": "stdout",
     "output_type": "stream",
     "text": [
      "3.605551275463989\n",
      "7.810249675906654\n"
     ]
    }
   ],
   "source": [
    "# calculate the Euclidean distance between two points\n",
    "def euclidean_distance(pt1, pt2):\n",
    "  distance = 0\n",
    "  for i in range(len(pt1)):\n",
    "    distance += (pt1[i] - pt2[i]) ** 2\n",
    "  return distance ** 0.5 # square root\n",
    "\n",
    "print(euclidean_distance([1,2], [4,0]))\n",
    "print(euclidean_distance([5,4,3], [1,7,9]))"
   ]
  },
  {
   "cell_type": "markdown",
   "metadata": {},
   "source": [
    "**Manhattan Distance**\n",
    "\n",
    "Called Manhattan distance because it's similar to how you might navigate when walking city blocks. It will always be greater than or equal to Euclidean distance.\n",
    " - Sum the absolute value of the difference between each dimension\n"
   ]
  },
  {
   "cell_type": "code",
   "execution_count": 2,
   "metadata": {},
   "outputs": [
    {
     "name": "stdout",
     "output_type": "stream",
     "text": [
      "5\n",
      "13\n"
     ]
    }
   ],
   "source": [
    "def manhattan_distance(pt1, pt2):\n",
    "  distance = 0\n",
    "  for i in range(len(pt1)):\n",
    "    distance += abs(pt1[i] - pt2[i])\n",
    "  return distance\n",
    "\n",
    "print(manhattan_distance([1,2], [4,0]))\n",
    "print(manhattan_distance([5,4,3], [1,7,9]))"
   ]
  },
  {
   "cell_type": "markdown",
   "metadata": {},
   "source": [
    "**Hamming Distance**\n",
    "\n",
    "Hamming distance only cares about whether the dimensions are exactly equal. When finding the Hamming distance between two points, add one for every dimension that has different values.\n",
    "\n",
    "Used in spell checking algorithms. For example, the Hamming distance between the word \"there\" and the typo \"thete\" is one. Each letter is a dimension, and each dimension has the same value except for one."
   ]
  },
  {
   "cell_type": "code",
   "execution_count": 3,
   "metadata": {},
   "outputs": [
    {
     "name": "stdout",
     "output_type": "stream",
     "text": [
      "2\n",
      "3\n"
     ]
    }
   ],
   "source": [
    "def hamming_distance(pt1, pt2):\n",
    "  distance = 0\n",
    "  for i in range(len(pt1)):\n",
    "    if pt1[i] != pt2[i]:\n",
    "      distance += 1\n",
    "  return distance\n",
    "\n",
    "print(hamming_distance([1,2], [4,0]))\n",
    "print(hamming_distance([5,4,3], [1,7,9]))"
   ]
  },
  {
   "cell_type": "markdown",
   "metadata": {},
   "source": [
    "The Python `SciPy` library has an implementation of each of these methods:\n",
    " - Euclidean distance `.euclidean()`\n",
    " - Manhattan distance `.cityblock()`\n",
    " - Hamming distance `.hamming()`\n",
    " \n",
    "Note:\n",
    "\n",
    "`Scipy`'s implementation of Hamming distance will always return a number between 0 an 1. Rather than summing the number of differences in dimensions, it sums those differences and then divides by the total number of dimensions. For example, the Hamming distance between [1, 2, 3] and [7, 2, -10] is 2. In scipy's version, it would be 2/3."
   ]
  },
  {
   "cell_type": "code",
   "execution_count": 4,
   "metadata": {},
   "outputs": [
    {
     "name": "stdout",
     "output_type": "stream",
     "text": [
      "3.605551275463989\n",
      "5\n",
      "0.6666666666666666\n"
     ]
    }
   ],
   "source": [
    "from scipy.spatial import distance\n",
    "\n",
    "print(distance.euclidean([1,2], [4,0]))\n",
    "print(distance.cityblock([1,2], [4,0]))\n",
    "print(distance.hamming([5,4,9], [1,7,9]))"
   ]
  }
 ],
 "metadata": {
  "kernelspec": {
   "display_name": "Python 3",
   "language": "python",
   "name": "python3"
  },
  "language_info": {
   "codemirror_mode": {
    "name": "ipython",
    "version": 3
   },
   "file_extension": ".py",
   "mimetype": "text/x-python",
   "name": "python",
   "nbconvert_exporter": "python",
   "pygments_lexer": "ipython3",
   "version": "3.7.0"
  }
 },
 "nbformat": 4,
 "nbformat_minor": 2
}
