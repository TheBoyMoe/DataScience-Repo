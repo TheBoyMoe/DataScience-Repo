{
 "cells": [
  {
   "cell_type": "markdown",
   "metadata": {},
   "source": [
    "# Bayes Theorem\n",
    "\n",
    "Describes the probability of an event, based on prior knowledge of conditions that might be related to the event. For example, if cancer is related to age, then, using Bayes' theorem, a person's age can be used to more accurately assess the probability that they have cancer, compared to the assessment of the probability of cancer made without knowledge of the person's age.\n",
    "\n",
    "A Bayesian approach to statistics incorporates prior knowledge. The prior knowledge, or `prior` is an additional piece of information that tells us how likely an event is.\n",
    "\n",
    "If two events are dependent, then when one event occurs, the probability of the other event occurring changes in a predictable way.\n",
    "\n",
    "If two events are independent, then the occurrence of one event does not affect the probability of the other event.\n",
    "\n",
    "If we assume that the probability of an event occuring is `P(event)`, then the probability of event `A` occuring is `P(A)` and the probability of event `B` is `P(B)`. "
   ]
  },
  {
   "cell_type": "markdown",
   "metadata": {},
   "source": [
    "### Independent Events\n",
    "\n",
    "Assuming the two events are independent, then the probality of both events occuring is:\n",
    "\n",
    "![Bayes Equation](img/bayes-equation-1.png)\n",
    "\n",
    "The symbol `n` means `and`, `P(A n B)` means the probability of both `A` and `B` occuring.\n",
    "The probability of rolling a pair of dice and getting two sixes(each is independent):\n",
    "\n",
    "![Bayes Equation](img/bayes-equation-2.png)"
   ]
  },
  {
   "cell_type": "markdown",
   "metadata": {},
   "source": [
    "#### Example\n",
    "\n",
    "Assuming that a test is 99% accurate and that the disease that it detects occurs in 1 in 100000 patients.\n",
    "\n",
    "What is the probability that the patient had the disease and the test correctly diagnosed the disease?"
   ]
  },
  {
   "cell_type": "code",
   "execution_count": 2,
   "metadata": {},
   "outputs": [
    {
     "name": "stdout",
     "output_type": "stream",
     "text": [
      "9.9e-06\n"
     ]
    }
   ],
   "source": [
    "p_disease_and_correct = 0.99 * 1.0 / 100000; print(p_disease_and_correct)"
   ]
  },
  {
   "cell_type": "markdown",
   "metadata": {},
   "source": [
    "What is the probability that the patient does not have the disease and the test incorrectly diagnosed the disease?"
   ]
  },
  {
   "cell_type": "code",
   "execution_count": 3,
   "metadata": {},
   "outputs": [
    {
     "name": "stdout",
     "output_type": "stream",
     "text": [
      "0.0099999\n"
     ]
    }
   ],
   "source": [
    "p_no_disease_and_incorrect = 0.01 * 99999.0 / 100000; print(p_no_disease_and_incorrect)"
   ]
  },
  {
   "cell_type": "markdown",
   "metadata": {},
   "source": [
    "The patient had the disease, and the test correctly diagnosed the disease ≈ 0.00001.\n",
    "\n",
    "The patient didn't have the disease and the test incorrectly diagnosed that they had the disease ≈ 0.01.\n",
    "\n",
    "Conclusion: it is approx. 1,000 times more likely that the test was incorrect than that the patient had this rare disease."
   ]
  },
  {
   "cell_type": "markdown",
   "metadata": {},
   "source": [
    "We're able to come to this conclusion because we had more information than just the accuracy of the test; we also knew the prevalence of this disease. That extra information about how we expect the world to work is called a `prior`.\n",
    "\n",
    "When we only use the first piece of information (the result of the test), it's called a `Frequentist Approach` or `Frequentist Inference` to statistics. When we incorporate our prior, it's called a `Bayesian Approach` or `Bayesian Inference`. The `Frequentist Approach` does not incorporate the prior"
   ]
  },
  {
   "cell_type": "markdown",
   "metadata": {},
   "source": [
    "### Dependent Events\n",
    "\n",
    "If we have two events (A and B), we write the probability that event A will happen, given that event B already happened as `P(A|B)`. \n",
    "\n",
    "Continuing our example, if we want to find the probability that the patient has the disease given the test came back positive, `P(rare disease | positive result)`, we can use the following formula, `Bayes theorem`:\n",
    "\n",
    "![Bayes theorem](img/bayes-equation-3.png)\n",
    "\n",
    "It is important to note that on the right side of the equation, we have the term `P(B|A)`. This is the probability that event B will happen given that event A has already happened. This is very different from `P(A|B)`, which is the probability we are trying to solve for."
   ]
  },
  {
   "cell_type": "markdown",
   "metadata": {},
   "source": [
    "Calculate `P(positive result | rare disease)`, or `P(B|A)` - the probability of a positive test result, given that a patient really has this rare disease."
   ]
  },
  {
   "cell_type": "code",
   "execution_count": 7,
   "metadata": {},
   "outputs": [],
   "source": [
    "p_positive_given_disease = 0.99"
   ]
  },
  {
   "cell_type": "markdown",
   "metadata": {},
   "source": [
    "The test is 99% accurate; given the fact that the patient has the disease, we know that there is a 99% probability that the test will return a positive result."
   ]
  },
  {
   "cell_type": "markdown",
   "metadata": {},
   "source": [
    "What is `P(rare disease)`, or `P(A)` - the probability that a randomly selected patient has the rare disease?"
   ]
  },
  {
   "cell_type": "code",
   "execution_count": 8,
   "metadata": {},
   "outputs": [],
   "source": [
    "p_disease = 0.000001"
   ]
  },
  {
   "cell_type": "markdown",
   "metadata": {},
   "source": [
    "Calculate `P(positive result)` or `P(B)`. There are two ways to get a positive result:\n",
    "\n",
    " - The patient had the disease, and the test correctly diagnosed the disease.\n",
    "\n",
    " - The patient didn't have the disease and the test incorrectly diagnosed that they had the disease.\n",
    "\n",
    "The `P(positive result)` is the probability of either event:\n",
    "\n",
    "![Bayes Theorem](img/bayes-equation-5.png)"
   ]
  },
  {
   "cell_type": "markdown",
   "metadata": {},
   "source": [
    "The probability that the patient had the disease, and the test correctly diagnosed the disease is:\n",
    "\n",
    "```py\n",
    "1.0 / 100000.0 * 0.99\n",
    "```\n",
    "\n",
    "The probability that the patient didn't have the disease and the test incorrectly diagnosed that they had the disease is:\n",
    "\n",
    "```py\n",
    "99999.0 / 100000.0 * 0.01\n",
    "```"
   ]
  },
  {
   "cell_type": "code",
   "execution_count": 9,
   "metadata": {},
   "outputs": [
    {
     "name": "stdout",
     "output_type": "stream",
     "text": [
      "0.010009800000000001\n"
     ]
    }
   ],
   "source": [
    "p_positive = (1.0/100000 * 0.99) + (99999.0/100000 * 0.01); print(p_positive)"
   ]
  },
  {
   "cell_type": "code",
   "execution_count": 13,
   "metadata": {},
   "outputs": [
    {
     "name": "stdout",
     "output_type": "stream",
     "text": [
      "9.890307498651321e-05\n"
     ]
    }
   ],
   "source": [
    "p_disease_given_positive = (p_positive_given_disease) * (p_disease) / (p_positive)\n",
    "print(p_disease_given_positive)"
   ]
  },
  {
   "cell_type": "markdown",
   "metadata": {},
   "source": [
    "## Classifying Spam using Bayes Theorem\n",
    "\n",
    "If we consider the word 'enhancement' which often appears in spam, we can create a basic spam filter with the following 3 facts:\n",
    "\n",
    "1. \"enhancement\" appears in just 0.1% of non-spam emails\n",
    "\n",
    "2. \"enhancement\" appears in 5% of spam emails\n",
    "\n",
    "3. Spam emails make up about 20% of total emails\n",
    "\n",
    "Given that an email contains \"enhancement\", what is the probability that the email is spam?\n"
   ]
  },
  {
   "cell_type": "markdown",
   "metadata": {},
   "source": [
    "In this example, we are dealing with 2 probabilities:\n",
    "\n",
    "`P(enhancement)` - the probability that it is an ordinary email that contains the word.\n",
    "\n",
    "`P(spam)` - that the email is spam.\n",
    "\n",
    "Using Bayes Theorem, we need to calculate `P(A|B)` or `P(spam|enhancement)`"
   ]
  },
  {
   "cell_type": "markdown",
   "metadata": {},
   "source": [
    "`P(spam)` - probability that an email is spam - 20%"
   ]
  },
  {
   "cell_type": "code",
   "execution_count": 15,
   "metadata": {},
   "outputs": [],
   "source": [
    "p_spam = 0.2 # 20% of email is spam"
   ]
  },
  {
   "cell_type": "markdown",
   "metadata": {},
   "source": [
    "`P(enhancement | spam)` - given that an email is spam, what is the probabilty that it contains the word 'enhancement'."
   ]
  },
  {
   "cell_type": "code",
   "execution_count": 16,
   "metadata": {},
   "outputs": [],
   "source": [
    "p_enhancement_given_spam = 0.05 # enhancement appears in 5% of spam"
   ]
  },
  {
   "cell_type": "markdown",
   "metadata": {},
   "source": [
    "What is the probability that any email (spam or non-spam) contains \"enhancement\".\n",
    "\n",
    "`P(enhancement)` = (`P(enhancement|spam)` * `P(spam)`) + (`P(enhancement|not spam)` * `P(not spam)`)"
   ]
  },
  {
   "cell_type": "code",
   "execution_count": 17,
   "metadata": {},
   "outputs": [],
   "source": [
    "p_enhancement = 0.05 * 0.2 + 0.001 * (1 - 0.2)"
   ]
  },
  {
   "cell_type": "code",
   "execution_count": 18,
   "metadata": {},
   "outputs": [
    {
     "name": "stdout",
     "output_type": "stream",
     "text": [
      "0.9259259259259259\n"
     ]
    }
   ],
   "source": [
    "p_spam_enhancement = p_enhancement_given_spam * p_spam / p_enhancement\n",
    "print(p_spam_enhancement)"
   ]
  }
 ],
 "metadata": {
  "kernelspec": {
   "display_name": "Python 3",
   "language": "python",
   "name": "python3"
  },
  "language_info": {
   "codemirror_mode": {
    "name": "ipython",
    "version": 3
   },
   "file_extension": ".py",
   "mimetype": "text/x-python",
   "name": "python",
   "nbconvert_exporter": "python",
   "pygments_lexer": "ipython3",
   "version": "3.7.0"
  }
 },
 "nbformat": 4,
 "nbformat_minor": 2
}
