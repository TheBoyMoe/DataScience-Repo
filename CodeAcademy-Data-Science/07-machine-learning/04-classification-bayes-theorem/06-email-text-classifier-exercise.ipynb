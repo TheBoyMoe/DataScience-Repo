{
 "cells": [
  {
   "cell_type": "markdown",
   "metadata": {},
   "source": [
    "# Scikit-Learn Naive Bayes Text Classifier"
   ]
  },
  {
   "cell_type": "markdown",
   "metadata": {},
   "source": [
    "Using Scikit-Learn's Naive Bayes module to distinguish between emails, e.g. how effective is the classifier at distinguishing between emails about hockey vs those about tech."
   ]
  },
  {
   "cell_type": "code",
   "execution_count": 1,
   "metadata": {},
   "outputs": [
    {
     "name": "stdout",
     "output_type": "stream",
     "text": [
      "['alt.atheism', 'comp.graphics', 'comp.os.ms-windows.misc', 'comp.sys.ibm.pc.hardware', 'comp.sys.mac.hardware', 'comp.windows.x', 'misc.forsale', 'rec.autos', 'rec.motorcycles', 'rec.sport.baseball', 'rec.sport.hockey', 'sci.crypt', 'sci.electronics', 'sci.med', 'sci.space', 'soc.religion.christian', 'talk.politics.guns', 'talk.politics.mideast', 'talk.politics.misc', 'talk.religion.misc']\n"
     ]
    }
   ],
   "source": [
    "from sklearn.datasets import fetch_20newsgroups\n",
    "from sklearn.naive_bayes import MultinomialNB\n",
    "from sklearn.feature_extraction.text import CountVectorizer\n",
    "\n",
    "emails = fetch_20newsgroups()\n",
    "print(emails.target_names) # display different categories"
   ]
  },
  {
   "cell_type": "code",
   "execution_count": 2,
   "metadata": {},
   "outputs": [],
   "source": [
    "# examine the dataset\n",
    "# emails = fetch_20newsgroups()\n",
    "# print(emails.data[5])\n",
    "\n",
    "# email labels\n",
    "# print(emails.target[5])\n",
    "# print(emails.target_names)\n",
    "\n",
    "# categories of interest\n",
    "categories = ['comp.os.ms-windows.misc', 'comp.windows.x']"
   ]
  },
  {
   "cell_type": "code",
   "execution_count": 3,
   "metadata": {},
   "outputs": [],
   "source": [
    "# split data into training and test sets, adding a 'random_state' ensures that your \n",
    "# data is split in the same way each time you run your code\n",
    "train_emails = fetch_20newsgroups(\n",
    "  categories=categories, \n",
    "  subset='train',\n",
    "  shuffle=True,\n",
    "  random_state=108\n",
    ")\n",
    "\n",
    "test_emails = fetch_20newsgroups(\n",
    "  categories=categories, \n",
    "  subset='test',\n",
    "  shuffle=True,\n",
    "  random_state=108\n",
    ")"
   ]
  },
  {
   "cell_type": "code",
   "execution_count": 4,
   "metadata": {},
   "outputs": [],
   "source": [
    "#  transform these emails into lists of word counts using the 'CountVectorizer' object\n",
    "counter = CountVectorizer()\n",
    "\n",
    "# create dataset with all the possible words that can exist in our emails\n",
    "counter.fit(test_emails.data + train_emails.data)\n",
    "\n",
    "# make a list of the counts of our words in our training & test set.\n",
    "train_counts = counter.transform(train_emails.data)\n",
    "test_counts = counter.transform(test_emails.data)"
   ]
  },
  {
   "cell_type": "code",
   "execution_count": 5,
   "metadata": {},
   "outputs": [
    {
     "name": "stdout",
     "output_type": "stream",
     "text": [
      "0.5044359949302915\n"
     ]
    }
   ],
   "source": [
    "# scikit's NB classifier\n",
    "classifier = MultinomialNB()\n",
    "\n",
    "# train our model - takes 2 args, training_set & the labels associated \n",
    "# with the training emails\n",
    "classifier.fit(train_counts, train_emails.target)\n",
    "\n",
    "# measure the accuracy of the NB classifier using .score(), takes the the \n",
    "# test set and the test labels\n",
    "# returns the percentage of classifications a classifier correctly made.\n",
    "print(classifier.score(test_counts, test_emails.target))"
   ]
  },
  {
   "cell_type": "code",
   "execution_count": 6,
   "metadata": {},
   "outputs": [],
   "source": [
    "# TEST ===================================================================\n",
    "# categories = ['rec.sport.baseball', 'rec.sport.hockey'] --> 0.9723618090452262 \n",
    "# --> does a good job of distingushing between baseball and hock emails\n",
    "\n",
    "# categories = ['comp.sys.ibm.pc.hardware', 'rec.sport.hockey'] --> 0.9974715549936789\n",
    "\n",
    "# categories = ['sci.space', 'sci.electronics'] --> 0.9796696315120712\n",
    "\n",
    "# categories = ['comp.os.ms-windows.misc', 'comp.windows.x'] --> 0.5044359949302915"
   ]
  }
 ],
 "metadata": {
  "kernelspec": {
   "display_name": "Python 3",
   "language": "python",
   "name": "python3"
  },
  "language_info": {
   "codemirror_mode": {
    "name": "ipython",
    "version": 3
   },
   "file_extension": ".py",
   "mimetype": "text/x-python",
   "name": "python",
   "nbconvert_exporter": "python",
   "pygments_lexer": "ipython3",
   "version": "3.7.0"
  }
 },
 "nbformat": 4,
 "nbformat_minor": 2
}
