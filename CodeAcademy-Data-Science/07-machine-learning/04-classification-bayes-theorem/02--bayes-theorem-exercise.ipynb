{
 "cells": [
  {
   "cell_type": "markdown",
   "metadata": {},
   "source": [
    "# Bayes Theorem Exercise\n",
    "\n",
    "Given that a student answered a question correctly, what is the probability that she really knows the material?\n",
    "\n",
    "The given facts:\n",
    "\n",
    "1. There is a question on the exam that 60% of students know the correct answer to.\n",
    "\n",
    "2. Given that a student knows the correct answer, there is still a 15% chance that the student picked the wrong answer.\n",
    "\n",
    "3. Given that a student does not know the answer, there is still a 20% chance that the student picks the correct answer by guessing."
   ]
  },
  {
   "cell_type": "markdown",
   "metadata": {},
   "source": [
    "`P(A|B)` = (`P(B|A)` * `P(A)`) / `P(B)`"
   ]
  },
  {
   "cell_type": "markdown",
   "metadata": {},
   "source": [
    "`P(A|B)` = `P(knows the material | answers correctly)`\n",
    "`P(B|A)` = `P(answers correctly | knows the material)` # 1 - 0.15 = 0.85\n",
    "`P(A)` = `P(knows the material)` # 0.6\n",
    "`P(B)` = `P(answers correctly)` # 0.59 "
   ]
  },
  {
   "cell_type": "markdown",
   "metadata": {},
   "source": [
    "A = 'knows the material'\n",
    "B = 'answers correctly'\n",
    "\n",
    "`P(knows the material | answers correctly)` = (`P(answers correctly | knows the material)` * `P(knows the material)`) / `P(answers correctly)`"
   ]
  },
  {
   "cell_type": "markdown",
   "metadata": {},
   "source": [
    "Given that a student knows he material, what is the probability that they answer correctly?\n",
    "--> `P(B|A)`"
   ]
  },
  {
   "cell_type": "markdown",
   "metadata": {},
   "source": [
    "What is the probbility that the student knows the material?\n",
    "--> `P(A)`"
   ]
  },
  {
   "cell_type": "markdown",
   "metadata": {},
   "source": [
    "What is the probaility that any student answers correctly?\n",
    "--> `P(B)` = `P(answers correctly | knows the material)` * `P(knows the material)` OR (+) \\\n",
    "            `P(answers correctly | does not know the material)` * `P(does not know the material)`"
   ]
  },
  {
   "cell_type": "code",
   "execution_count": 1,
   "metadata": {},
   "outputs": [
    {
     "name": "stdout",
     "output_type": "stream",
     "text": [
      "0.5900000000000001\n"
     ]
    }
   ],
   "source": [
    "print(0.85 * 0.6 + 0.2 * 0.4)"
   ]
  },
  {
   "cell_type": "markdown",
   "metadata": {},
   "source": [
    "Given that the student answered correctly, that they knew the material?\n",
    "--> `P(A|B)`"
   ]
  },
  {
   "cell_type": "code",
   "execution_count": 2,
   "metadata": {},
   "outputs": [
    {
     "name": "stdout",
     "output_type": "stream",
     "text": [
      "0.864406779661017\n"
     ]
    }
   ],
   "source": [
    "print(0.85 * 0.6 / 0.59)"
   ]
  }
 ],
 "metadata": {
  "kernelspec": {
   "display_name": "Python 3",
   "language": "python",
   "name": "python3"
  },
  "language_info": {
   "codemirror_mode": {
    "name": "ipython",
    "version": 3
   },
   "file_extension": ".py",
   "mimetype": "text/x-python",
   "name": "python",
   "nbconvert_exporter": "python",
   "pygments_lexer": "ipython3",
   "version": "3.7.0"
  }
 },
 "nbformat": 4,
 "nbformat_minor": 2
}
