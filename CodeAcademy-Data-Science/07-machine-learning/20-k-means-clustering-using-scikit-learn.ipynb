{
 "cells": [
  {
   "cell_type": "markdown",
   "metadata": {},
   "source": [
    "# Implementing K-Means using Scikit-Learn\n",
    "\n",
    "Scikit-Learn provides the `sklearn.cluster` module to enable K-Means Clustering analysis, which you can import.\n",
    "\n",
    "```py\n",
    "from sklearn.cluster import KMeans\n",
    "```\n",
    "\n",
    "1. create a model and specfiy the number of clusters, `k`.\n",
    "\n",
    "```py\n",
    "model = KMeans(n_clusters = k)\n",
    "```\n",
    "\n",
    "2. use the `fit()` method to compute K-Means clustering, passing in our dataset `X`.\n",
    "\n",
    "```py\n",
    "model.fit(X)\n",
    "```\n",
    "\n",
    "3. we can now predict the closest cluster each sample in `X` belongs to, and obtain the labels for the cluster samples\n",
    "\n",
    "```py\n",
    "labels = model.predict(X)\n",
    "```"
   ]
  },
  {
   "cell_type": "code",
   "execution_count": 1,
   "metadata": {},
   "outputs": [
    {
     "name": "stdout",
     "output_type": "stream",
     "text": [
      "[0 0 0 0 0 0 0 0 0 0 0 0 0 0 0 0 0 0 0 0 0 0 0 0 0 0 0 0 0 0 0 0 0 0 0 0 0\n",
      " 0 0 0 0 0 0 0 0 0 0 0 0 0 1 1 2 1 1 1 1 1 1 1 1 1 1 1 1 1 1 1 1 1 1 1 1 1\n",
      " 1 1 1 2 1 1 1 1 1 1 1 1 1 1 1 1 1 1 1 1 1 1 1 1 1 1 2 1 2 2 2 2 1 2 2 2 2\n",
      " 2 2 1 1 2 2 2 2 1 2 1 2 1 2 2 1 1 2 2 2 2 2 1 2 2 2 2 1 2 2 2 1 2 2 2 1 2\n",
      " 2 1]\n"
     ]
    }
   ],
   "source": [
    "import matplotlib.pyplot as plt\n",
    "import numpy as np\n",
    "import pandas as pd\n",
    "from sklearn import datasets\n",
    "from sklearn.cluster import KMeans\n",
    "\n",
    "iris = datasets.load_iris()\n",
    "samples = iris.data\n",
    "\n",
    "# Use KMeans() to create a model that finds 3 clusters\n",
    "model = KMeans(n_clusters = 3)\n",
    "\n",
    "# Use .fit() to fit the model to samples\n",
    "model.fit(samples)\n",
    "\n",
    "# Use .predict() to predict the labels for samples\n",
    "# we can get the actual labels using iris.target \n",
    "labels = model.predict(samples) \n",
    "\n",
    "# Print the labels\n",
    "print(labels)\n",
    "\n"
   ]
  },
  {
   "cell_type": "markdown",
   "metadata": {},
   "source": [
    "With this model, we can now 'feed it' new data samples and predict their labels using the `predict()` method.\n",
    "\n",
    "Note: Since the cluster centroids are randomly initialized, running the model repeatedly can produce different clusters with the same input data."
   ]
  },
  {
   "cell_type": "code",
   "execution_count": 2,
   "metadata": {},
   "outputs": [
    {
     "data": {
      "text/plain": [
       "Text(0,0.5,'petal length (cm)')"
      ]
     },
     "execution_count": 2,
     "metadata": {},
     "output_type": "execute_result"
    },
    {
     "data": {
      "image/png": "[encoded data removed]",
      "text/plain": [
       "<Figure size 432x288 with 1 Axes>"
      ]
     },
     "metadata": {
      "needs_background": "light"
     },
     "output_type": "display_data"
    }
   ],
   "source": [
    "new_samples = np.array([[5.7, 4.4, 1.5, 0.4], [6.5, 3. , 5.5, 0.4], [5.8, 2.7, 5.1, 1.9]])\n",
    "new_labels = model.predict(new_samples) # predict labels\n",
    "# print(new_labels) # [0 2 2]\n",
    "\n",
    "# We can now plot are results, using the `labels` numbers as the colours.\n",
    "x = samples[:, 0]\n",
    "y = samples[:, 0]\n",
    "plt.scatter(x, y, c=labels, alpha=0.5)\n",
    "\n",
    "plt.xlabel('sepal length (cm)')\n",
    "plt.ylabel('petal length (cm)')"
   ]
  },
  {
   "cell_type": "markdown",
   "metadata": {},
   "source": [
    "### Do the clusters correspond to the actual Species"
   ]
  },
  {
   "cell_type": "markdown",
   "metadata": {},
   "source": [
    "We can get the actual labels for the iris dataset:"
   ]
  },
  {
   "cell_type": "code",
   "execution_count": 3,
   "metadata": {},
   "outputs": [
    {
     "name": "stdout",
     "output_type": "stream",
     "text": [
      "[0 0 0 0 0 0 0 0 0 0 0 0 0 0 0 0 0 0 0 0 0 0 0 0 0 0 0 0 0 0 0 0 0 0 0 0 0\n",
      " 0 0 0 0 0 0 0 0 0 0 0 0 0 1 1 1 1 1 1 1 1 1 1 1 1 1 1 1 1 1 1 1 1 1 1 1 1\n",
      " 1 1 1 1 1 1 1 1 1 1 1 1 1 1 1 1 1 1 1 1 1 1 1 1 1 1 2 2 2 2 2 2 2 2 2 2 2\n",
      " 2 2 2 2 2 2 2 2 2 2 2 2 2 2 2 2 2 2 2 2 2 2 2 2 2 2 2 2 2 2 2 2 2 2 2 2 2\n",
      " 2 2]\n",
      "[0 0 0 0 0 0 0 0 0 0 0 0 0 0 0 0 0 0 0 0 0 0 0 0 0 0 0 0 0 0 0 0 0 0 0 0 0\n",
      " 0 0 0 0 0 0 0 0 0 0 0 0 0 1 1 2 1 1 1 1 1 1 1 1 1 1 1 1 1 1 1 1 1 1 1 1 1\n",
      " 1 1 1 2 1 1 1 1 1 1 1 1 1 1 1 1 1 1 1 1 1 1 1 1 1 1 2 1 2 2 2 2 1 2 2 2 2\n",
      " 2 2 1 1 2 2 2 2 1 2 1 2 1 2 2 1 1 2 2 2 2 2 1 2 2 2 2 1 2 2 2 1 2 2 2 1 2\n",
      " 2 1]\n"
     ]
    }
   ],
   "source": [
    "target = iris.target\n",
    "print(target)\n",
    "print(labels)"
   ]
  },
  {
   "cell_type": "markdown",
   "metadata": {},
   "source": [
    "According to the metadata:\n",
    "\n",
    " - `0`'s are Iris-setosa\n",
    " - `1`'s are Iris-versicolor\n",
    " - `2`'s are Iris-virginica\n",
    " \n",
    "We can change the target values to the actual species: "
   ]
  },
  {
   "cell_type": "code",
   "execution_count": 4,
   "metadata": {},
   "outputs": [],
   "source": [
    "species = np.chararray(target.shape, itemsize=150)\n",
    "\n",
    "for i in range(len(samples)):\n",
    "  if target[i] == 0:\n",
    "    species[i] = 'setosa'\n",
    "  elif target[i] == 1:\n",
    "    species[i] = 'versicolor'\n",
    "  elif target[i] == 2: \n",
    "    species[i] = 'virginica'\n",
    "  "
   ]
  },
  {
   "cell_type": "markdown",
   "metadata": {},
   "source": [
    "We will use the Pandas library to perform a cross-tabulation. Cross-tabulations enable you to examine relationships within the data that might not be readily apparent when analyzing total survey responses."
   ]
  },
  {
   "cell_type": "code",
   "execution_count": 5,
   "metadata": {},
   "outputs": [
    {
     "name": "stdout",
     "output_type": "stream",
     "text": [
      "     labels       species\n",
      "0         0     b'setosa'\n",
      "1         0     b'setosa'\n",
      "2         0     b'setosa'\n",
      "3         0     b'setosa'\n",
      "4         0     b'setosa'\n",
      "5         0     b'setosa'\n",
      "6         0     b'setosa'\n",
      "7         0     b'setosa'\n",
      "8         0     b'setosa'\n",
      "9         0     b'setosa'\n",
      "10        0     b'setosa'\n",
      "11        0     b'setosa'\n",
      "12        0     b'setosa'\n",
      "13        0     b'setosa'\n",
      "14        0     b'setosa'\n",
      "15        0     b'setosa'\n",
      "16        0     b'setosa'\n",
      "17        0     b'setosa'\n",
      "18        0     b'setosa'\n",
      "19        0     b'setosa'\n",
      "20        0     b'setosa'\n",
      "21        0     b'setosa'\n",
      "22        0     b'setosa'\n",
      "23        0     b'setosa'\n",
      "24        0     b'setosa'\n",
      "25        0     b'setosa'\n",
      "26        0     b'setosa'\n",
      "27        0     b'setosa'\n",
      "28        0     b'setosa'\n",
      "29        0     b'setosa'\n",
      "..      ...           ...\n",
      "120       2  b'virginica'\n",
      "121       1  b'virginica'\n",
      "122       2  b'virginica'\n",
      "123       1  b'virginica'\n",
      "124       2  b'virginica'\n",
      "125       2  b'virginica'\n",
      "126       1  b'virginica'\n",
      "127       1  b'virginica'\n",
      "128       2  b'virginica'\n",
      "129       2  b'virginica'\n",
      "130       2  b'virginica'\n",
      "131       2  b'virginica'\n",
      "132       2  b'virginica'\n",
      "133       1  b'virginica'\n",
      "134       2  b'virginica'\n",
      "135       2  b'virginica'\n",
      "136       2  b'virginica'\n",
      "137       2  b'virginica'\n",
      "138       1  b'virginica'\n",
      "139       2  b'virginica'\n",
      "140       2  b'virginica'\n",
      "141       2  b'virginica'\n",
      "142       1  b'virginica'\n",
      "143       2  b'virginica'\n",
      "144       2  b'virginica'\n",
      "145       2  b'virginica'\n",
      "146       1  b'virginica'\n",
      "147       2  b'virginica'\n",
      "148       2  b'virginica'\n",
      "149       1  b'virginica'\n",
      "\n",
      "[150 rows x 2 columns]\n"
     ]
    }
   ],
   "source": [
    "df = pd.DataFrame({'labels': labels, 'species': species}) \n",
    "print(df)"
   ]
  },
  {
   "cell_type": "markdown",
   "metadata": {},
   "source": [
    "Use the the crosstab() method to perform cross-tabulation:"
   ]
  },
  {
   "cell_type": "code",
   "execution_count": 6,
   "metadata": {},
   "outputs": [
    {
     "name": "stdout",
     "output_type": "stream",
     "text": [
      "species  b'setosa'  b'versicolor'  b'virginica'\n",
      "labels                                         \n",
      "0               50              0             0\n",
      "1                0             48            14\n",
      "2                0              2            36\n"
     ]
    }
   ],
   "source": [
    "ct = pd.crosstab(df['labels'], df['species'])\n",
    "print(ct)"
   ]
  },
  {
   "cell_type": "code",
   "execution_count": null,
   "metadata": {},
   "outputs": [],
   "source": []
  }
 ],
 "metadata": {
  "kernelspec": {
   "display_name": "Python 3",
   "language": "python",
   "name": "python3"
  },
  "language_info": {
   "codemirror_mode": {
    "name": "ipython",
    "version": 3
   },
   "file_extension": ".py",
   "mimetype": "text/x-python",
   "name": "python",
   "nbconvert_exporter": "python",
   "pygments_lexer": "ipython3",
   "version": "3.7.0"
  }
 },
 "nbformat": 4,
 "nbformat_minor": 2
}
