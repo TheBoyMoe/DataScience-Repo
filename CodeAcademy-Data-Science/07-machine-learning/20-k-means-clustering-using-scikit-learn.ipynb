{
 "cells": [
  {
   "cell_type": "markdown",
   "metadata": {},
   "source": [
    "# Implementing K-Means using Scikit-Learn\n",
    "\n",
    "Scikit-Learn provides the `sklearn.cluster` module to enable K-Means Clustering analysis, which you can import.\n",
    "\n",
    "```py\n",
    "from sklearn.cluster import KMeans\n",
    "```\n",
    "\n",
    "1. create a model and specfiy the number of clusters, `k`.\n",
    "\n",
    "```py\n",
    "model = KMeans(n_clusters = k)\n",
    "```\n",
    "\n",
    "2. use the `fit()` method to compute K-Means clustering, passing in our dataset `X`.\n",
    "\n",
    "```py\n",
    "model.fit(X)\n",
    "```\n",
    "\n",
    "3. we can now predict the closest cluster each sample in `X` belongs to, and obtain the labels for the cluster samples\n",
    "\n",
    "```py\n",
    "labels = model.predict(X)\n",
    "```"
   ]
  },
  {
   "cell_type": "code",
   "execution_count": 1,
   "metadata": {},
   "outputs": [
    {
     "name": "stdout",
     "output_type": "stream",
     "text": [
      "[1 1 1 1 1 1 1 1 1 1 1 1 1 1 1 1 1 1 1 1 1 1 1 1 1 1 1 1 1 1 1 1 1 1 1 1 1\n",
      " 1 1 1 1 1 1 1 1 1 1 1 1 1 0 0 2 0 0 0 0 0 0 0 0 0 0 0 0 0 0 0 0 0 0 0 0 0\n",
      " 0 0 0 2 0 0 0 0 0 0 0 0 0 0 0 0 0 0 0 0 0 0 0 0 0 0 2 0 2 2 2 2 0 2 2 2 2\n",
      " 2 2 0 0 2 2 2 2 0 2 0 2 0 2 2 0 0 2 2 2 2 2 0 2 2 2 2 0 2 2 2 0 2 2 2 0 2\n",
      " 2 0]\n"
     ]
    }
   ],
   "source": [
    "import matplotlib.pyplot as plt\n",
    "import numpy as np\n",
    "import pandas as pd\n",
    "from sklearn import datasets\n",
    "from sklearn.cluster import KMeans\n",
    "\n",
    "iris = datasets.load_iris()\n",
    "samples = iris.data\n",
    "\n",
    "# Use KMeans() to create a model that finds 3 clusters\n",
    "model = KMeans(n_clusters = 3)\n",
    "\n",
    "# Use .fit() to fit the model to samples\n",
    "model.fit(samples)\n",
    "\n",
    "# Use .predict() to predict the labels for samples\n",
    "# we can get the actual labels using iris.target \n",
    "labels = model.predict(samples) \n",
    "\n",
    "# Print the labels\n",
    "print(labels)\n",
    "\n"
   ]
  },
  {
   "cell_type": "markdown",
   "metadata": {},
   "source": [
    "With this model, we can now 'feed it' new data samples and predict their labels using the `predict()` method.\n",
    "\n",
    "Note: Since the cluster centroids are randomly initialized, running the model repeatedly can produce different clusters with the same input data."
   ]
  },
  {
   "cell_type": "code",
   "execution_count": 2,
   "metadata": {},
   "outputs": [
    {
     "data": {
      "text/plain": [
       "Text(0,0.5,'petal length (cm)')"
      ]
     },
     "execution_count": 2,
     "metadata": {},
     "output_type": "execute_result"
    },
    {
     "data": {
      "image/png": "[encoded data removed]",
      "text/plain": [
       "<Figure size 432x288 with 1 Axes>"
      ]
     },
     "metadata": {
      "needs_background": "light"
     },
     "output_type": "display_data"
    }
   ],
   "source": [
    "new_samples = np.array([[5.7, 4.4, 1.5, 0.4], [6.5, 3. , 5.5, 0.4], [5.8, 2.7, 5.1, 1.9]])\n",
    "new_labels = model.predict(new_samples) # predict labels\n",
    "# print(new_labels) # [0 2 2]\n",
    "\n",
    "# We can now plot are results, using the `labels` numbers as the colours.\n",
    "x = samples[:, 0]\n",
    "y = samples[:, 0]\n",
    "plt.scatter(x, y, c=labels, alpha=0.5)\n",
    "\n",
    "plt.xlabel('sepal length (cm)')\n",
    "plt.ylabel('petal length (cm)')"
   ]
  },
  {
   "cell_type": "markdown",
   "metadata": {},
   "source": [
    "### Do the clusters correspond to the actual Species"
   ]
  },
  {
   "cell_type": "markdown",
   "metadata": {},
   "source": [
    "We can get the actual labels for the iris dataset:"
   ]
  },
  {
   "cell_type": "code",
   "execution_count": 3,
   "metadata": {},
   "outputs": [
    {
     "name": "stdout",
     "output_type": "stream",
     "text": [
      "[0 0 0 0 0 0 0 0 0 0 0 0 0 0 0 0 0 0 0 0 0 0 0 0 0 0 0 0 0 0 0 0 0 0 0 0 0\n",
      " 0 0 0 0 0 0 0 0 0 0 0 0 0 1 1 1 1 1 1 1 1 1 1 1 1 1 1 1 1 1 1 1 1 1 1 1 1\n",
      " 1 1 1 1 1 1 1 1 1 1 1 1 1 1 1 1 1 1 1 1 1 1 1 1 1 1 2 2 2 2 2 2 2 2 2 2 2\n",
      " 2 2 2 2 2 2 2 2 2 2 2 2 2 2 2 2 2 2 2 2 2 2 2 2 2 2 2 2 2 2 2 2 2 2 2 2 2\n",
      " 2 2]\n",
      "[1 1 1 1 1 1 1 1 1 1 1 1 1 1 1 1 1 1 1 1 1 1 1 1 1 1 1 1 1 1 1 1 1 1 1 1 1\n",
      " 1 1 1 1 1 1 1 1 1 1 1 1 1 0 0 2 0 0 0 0 0 0 0 0 0 0 0 0 0 0 0 0 0 0 0 0 0\n",
      " 0 0 0 2 0 0 0 0 0 0 0 0 0 0 0 0 0 0 0 0 0 0 0 0 0 0 2 0 2 2 2 2 0 2 2 2 2\n",
      " 2 2 0 0 2 2 2 2 0 2 0 2 0 2 2 0 0 2 2 2 2 2 0 2 2 2 2 0 2 2 2 0 2 2 2 0 2\n",
      " 2 0]\n"
     ]
    }
   ],
   "source": [
    "target = iris.target\n",
    "print(target)\n",
    "print(labels)"
   ]
  },
  {
   "cell_type": "markdown",
   "metadata": {},
   "source": [
    "According to the metadata:\n",
    "\n",
    " - `0`'s are Iris-setosa\n",
    " - `1`'s are Iris-versicolor\n",
    " - `2`'s are Iris-virginica\n",
    " \n",
    "We can change the target values to the actual species: "
   ]
  },
  {
   "cell_type": "code",
   "execution_count": 4,
   "metadata": {},
   "outputs": [],
   "source": [
    "species = np.chararray(target.shape, itemsize=150)\n",
    "\n",
    "for i in range(len(samples)):\n",
    "  if target[i] == 0:\n",
    "    species[i] = 'setosa'\n",
    "  elif target[i] == 1:\n",
    "    species[i] = 'versicolor'\n",
    "  elif target[i] == 2: \n",
    "    species[i] = 'virginica'\n",
    "  "
   ]
  },
  {
   "cell_type": "markdown",
   "metadata": {},
   "source": [
    "We will use the Pandas library to perform a cross-tabulation. Cross-tabulations enable you to examine relationships within the data that might not be readily apparent when analyzing total survey responses."
   ]
  },
  {
   "cell_type": "code",
   "execution_count": 5,
   "metadata": {},
   "outputs": [
    {
     "name": "stdout",
     "output_type": "stream",
     "text": [
      "     labels       species\n",
      "0         1     b'setosa'\n",
      "1         1     b'setosa'\n",
      "2         1     b'setosa'\n",
      "3         1     b'setosa'\n",
      "4         1     b'setosa'\n",
      "5         1     b'setosa'\n",
      "6         1     b'setosa'\n",
      "7         1     b'setosa'\n",
      "8         1     b'setosa'\n",
      "9         1     b'setosa'\n",
      "10        1     b'setosa'\n",
      "11        1     b'setosa'\n",
      "12        1     b'setosa'\n",
      "13        1     b'setosa'\n",
      "14        1     b'setosa'\n",
      "15        1     b'setosa'\n",
      "16        1     b'setosa'\n",
      "17        1     b'setosa'\n",
      "18        1     b'setosa'\n",
      "19        1     b'setosa'\n",
      "20        1     b'setosa'\n",
      "21        1     b'setosa'\n",
      "22        1     b'setosa'\n",
      "23        1     b'setosa'\n",
      "24        1     b'setosa'\n",
      "25        1     b'setosa'\n",
      "26        1     b'setosa'\n",
      "27        1     b'setosa'\n",
      "28        1     b'setosa'\n",
      "29        1     b'setosa'\n",
      "..      ...           ...\n",
      "120       2  b'virginica'\n",
      "121       0  b'virginica'\n",
      "122       2  b'virginica'\n",
      "123       0  b'virginica'\n",
      "124       2  b'virginica'\n",
      "125       2  b'virginica'\n",
      "126       0  b'virginica'\n",
      "127       0  b'virginica'\n",
      "128       2  b'virginica'\n",
      "129       2  b'virginica'\n",
      "130       2  b'virginica'\n",
      "131       2  b'virginica'\n",
      "132       2  b'virginica'\n",
      "133       0  b'virginica'\n",
      "134       2  b'virginica'\n",
      "135       2  b'virginica'\n",
      "136       2  b'virginica'\n",
      "137       2  b'virginica'\n",
      "138       0  b'virginica'\n",
      "139       2  b'virginica'\n",
      "140       2  b'virginica'\n",
      "141       2  b'virginica'\n",
      "142       0  b'virginica'\n",
      "143       2  b'virginica'\n",
      "144       2  b'virginica'\n",
      "145       2  b'virginica'\n",
      "146       0  b'virginica'\n",
      "147       2  b'virginica'\n",
      "148       2  b'virginica'\n",
      "149       0  b'virginica'\n",
      "\n",
      "[150 rows x 2 columns]\n"
     ]
    }
   ],
   "source": [
    "df = pd.DataFrame({'labels': labels, 'species': species}) \n",
    "print(df)"
   ]
  },
  {
   "cell_type": "markdown",
   "metadata": {},
   "source": [
    "Use the the crosstab() method to perform cross-tabulation:"
   ]
  },
  {
   "cell_type": "code",
   "execution_count": 6,
   "metadata": {},
   "outputs": [
    {
     "name": "stdout",
     "output_type": "stream",
     "text": [
      "species  b'setosa'  b'versicolor'  b'virginica'\n",
      "labels                                         \n",
      "0                0             48            14\n",
      "1               50              0             0\n",
      "2                0              2            36\n"
     ]
    }
   ],
   "source": [
    "ct = pd.crosstab(df['labels'], df['species'])\n",
    "print(ct)"
   ]
  },
  {
   "cell_type": "markdown",
   "metadata": {},
   "source": [
    "### Choosing the Number of Clusters\n",
    "\n",
    "We knew with the iris data to pick a `k` value of 3 since there are 3 species of iris in the dataset.\n",
    "\n",
    "How do we pick the number of clusters or `k`? How do we identify a 'good' cluster?\n",
    "\n",
    "A 'good' cluster is one where the sample data points are bunched together. How spread out the data points are is measured by `inertia` (the tendency to remain unchanged). This is the distance from each data point to the `centroid` of it's cluster. The lower the `inertia` the better our model is. We can check the `inertia` of a model using:\n",
    "\n",
    "```py\n",
    "print(model.inertia_)\n",
    "```"
   ]
  },
  {
   "cell_type": "markdown",
   "metadata": {},
   "source": [
    "If we plot `k` vs their inertias for the iris data:\n",
    "\n",
    "![number of clusters](img/number-of-clusters.png)\n",
    "\n",
    "One method to interpret the graph is to use the `elbow method`. The goal is to have a low inertia with the least number of clusters. We can see that the curve decreases rapidly from `k` of 1 to 2, less so from 2 to 3, and is relatively flat after a `k` of 3, the rate in the decrease of inertia is relatively small. `k` of 3 is the `elbow` in the plot, or the optimal number of clusters - low inertia with the least number of clusters."
   ]
  },
  {
   "cell_type": "code",
   "execution_count": 9,
   "metadata": {},
   "outputs": [
    {
     "name": "stdout",
     "output_type": "stream",
     "text": [
      "[680.8244, 152.36870647733906, 78.94084142614602, 57.31787321428571, 46.53558205128205, 38.93873974358974, 34.51155576776165, 29.906856755965457]\n"
     ]
    }
   ],
   "source": [
    "# calculate k-means for a series of values of k\n",
    "num_clusters = [1,2,3,4,5,6,7,8]\n",
    "inertias = []\n",
    "\n",
    "for k in num_clusters:\n",
    "  model = KMeans(n_clusters=k)\n",
    "  model.fit(samples)\n",
    "  inertias.append(model.inertia_)\n",
    "print(inertias)"
   ]
  },
  {
   "cell_type": "code",
   "execution_count": 10,
   "metadata": {},
   "outputs": [
    {
     "data": {
      "text/plain": [
       "Text(0,0.5,'Inertia')"
      ]
     },
     "execution_count": 10,
     "metadata": {},
     "output_type": "execute_result"
    },
    {
     "data": {
      "image/png": "[encoded data removed]",
      "text/plain": [
       "<Figure size 432x288 with 1 Axes>"
      ]
     },
     "metadata": {
      "needs_background": "light"
     },
     "output_type": "display_data"
    }
   ],
   "source": [
    "# plot inertias vs clusters\n",
    "plt.plot(num_clusters, inertias, '-o')\n",
    "plt.xlabel('Number of clusters(k)')\n",
    "plt.ylabel('Inertia')"
   ]
  },
  {
   "cell_type": "markdown",
   "metadata": {},
   "source": [
    "## NOTE: Loading Data\n",
    "\n",
    "```py\n",
    "training_data = pd.read_csv(\"http://archive.ics.uci.edu/ml/machine-learning-databases/optdigits/optdigits.tra\", header=None)\n",
    "```\n",
    "\n",
    "When loading csv data, files with the `tra` and `tes` have already been split into training and test sets respectively. You will need to load each separetly."
   ]
  }
 ],
 "metadata": {
  "kernelspec": {
   "display_name": "Python 3",
   "language": "python",
   "name": "python3"
  },
  "language_info": {
   "codemirror_mode": {
    "name": "ipython",
    "version": 3
   },
   "file_extension": ".py",
   "mimetype": "text/x-python",
   "name": "python",
   "nbconvert_exporter": "python",
   "pygments_lexer": "ipython3",
   "version": "3.7.0"
  }
 },
 "nbformat": 4,
 "nbformat_minor": 2
}
