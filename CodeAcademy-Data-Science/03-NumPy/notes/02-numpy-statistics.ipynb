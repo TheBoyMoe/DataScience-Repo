{
 "cells": [
  {
   "cell_type": "markdown",
   "metadata": {},
   "source": [
    "# Statistics in NumPy\n",
    "\n",
    "Numpy docs: https://docs.scipy.org/doc/numpy-1.15.4/reference/\n",
    "\n",
    "The statistical concepts covered include:\n",
    "\n",
    "- Mean - is the average\n",
    "- Median - value lying in the mid-point(middle value) of the set that has been ordered from lowest to highest. If the length of our dataset was an even number, the median would be the value halfway between the two central values. (Mode is the value that occurs most often)\n",
    "- Percentiles - determine the value a given percentage of observations lie below, 75% of values lie below 4.265\n",
    "- Interquartile Range\n",
    "- Outliers - values that lie outside of the majority.\n",
    "- Standard Deviation - a value expressing by how much the members of a group differ from the mean for the group(determine how similar or different the members of the dataset are)"
   ]
  },
  {
   "cell_type": "markdown",
   "metadata": {},
   "source": [
    "**5-number summary**\n",
    "\n",
    "- the min\n",
    "- 1st quartile(25%)\n",
    "- the median\n",
    "- 3rd quartile(75%)\n",
    "- the max"
   ]
  },
  {
   "cell_type": "markdown",
   "metadata": {},
   "source": [
    "### Single-varible Datasets 1-D"
   ]
  },
  {
   "cell_type": "code",
   "execution_count": 1,
   "metadata": {},
   "outputs": [
    {
     "data": {
      "text/plain": [
       "20"
      ]
     },
     "execution_count": 1,
     "metadata": {},
     "output_type": "execute_result"
    }
   ],
   "source": [
    "import numpy as np\n",
    "\n",
    "my_array = np.array([32,56,68,23,12,98,67,45,90,65,23,54,24,78,71,12,27,52,56,97])\n",
    "len(my_array)"
   ]
  },
  {
   "cell_type": "code",
   "execution_count": 2,
   "metadata": {},
   "outputs": [
    {
     "data": {
      "text/plain": [
       "array([12, 12, 23, 23, 24, 27, 32, 45, 52, 54, 56, 56, 65, 67, 68, 71, 78,\n",
       "       90, 97, 98])"
      ]
     },
     "execution_count": 2,
     "metadata": {},
     "output_type": "execute_result"
    }
   ],
   "source": [
    "np.sort(my_array)"
   ]
  },
  {
   "cell_type": "code",
   "execution_count": 3,
   "metadata": {},
   "outputs": [
    {
     "data": {
      "text/plain": [
       "52.5"
      ]
     },
     "execution_count": 3,
     "metadata": {},
     "output_type": "execute_result"
    }
   ],
   "source": [
    "np.mean(my_array) # the average"
   ]
  },
  {
   "cell_type": "markdown",
   "metadata": {},
   "source": [
    "**Determine the % of values in the dataset that match a condition**\n",
    "\n",
    "We can also execute a condition on each element in the array in turn prior to determining the `mean`. If the condition is matched, True, the value is included in the calculation, otherwise it is not.\n",
    "\n",
    "The percentage of values in the data set returning 'True' will be calculated by dividing the total number of 'True' values by the 'Total' data set size."
   ]
  },
  {
   "cell_type": "code",
   "execution_count": 4,
   "metadata": {},
   "outputs": [
    {
     "data": {
      "text/plain": [
       "0.3"
      ]
     },
     "execution_count": 4,
     "metadata": {},
     "output_type": "execute_result"
    }
   ],
   "source": [
    "# percentage of values > 67\n",
    "np.mean(my_array > 67)"
   ]
  },
  {
   "cell_type": "code",
   "execution_count": 5,
   "metadata": {},
   "outputs": [
    {
     "data": {
      "text/plain": [
       "0.35"
      ]
     },
     "execution_count": 5,
     "metadata": {},
     "output_type": "execute_result"
    }
   ],
   "source": [
    "# % of values < 45\n",
    "np.mean(my_array < 45)"
   ]
  },
  {
   "cell_type": "code",
   "execution_count": 6,
   "metadata": {},
   "outputs": [
    {
     "data": {
      "text/plain": [
       "55.0"
      ]
     },
     "execution_count": 6,
     "metadata": {},
     "output_type": "execute_result"
    }
   ],
   "source": [
    "np.median(my_array) # value lying in the mid-point of the dataset - sorting makes no difference"
   ]
  },
  {
   "cell_type": "code",
   "execution_count": 7,
   "metadata": {},
   "outputs": [
    {
     "data": {
      "text/plain": [
       "55.0"
      ]
     },
     "execution_count": 7,
     "metadata": {},
     "output_type": "execute_result"
    }
   ],
   "source": [
    "np.percentile(my_array, 50) # same as the median"
   ]
  },
  {
   "cell_type": "code",
   "execution_count": 8,
   "metadata": {},
   "outputs": [
    {
     "data": {
      "text/plain": [
       "26.498113140372844"
      ]
     },
     "execution_count": 8,
     "metadata": {},
     "output_type": "execute_result"
    }
   ],
   "source": [
    "np.std(my_array) # expresses by how much values differ from the mean"
   ]
  },
  {
   "cell_type": "markdown",
   "metadata": {},
   "source": [
    "The Nth percentile is the point where N% of samples lie below.\n",
    "\n",
    "The difference between the 1st and 3rd percentiles is called the `interquartile range`. 50% of the data set will lie within this range. The smaller the value, the less 'variance' in the data set - the less spread out the data is, and vice versa."
   ]
  },
  {
   "cell_type": "code",
   "execution_count": 9,
   "metadata": {},
   "outputs": [
    {
     "data": {
      "text/plain": [
       "26.25"
      ]
     },
     "execution_count": 9,
     "metadata": {},
     "output_type": "execute_result"
    }
   ],
   "source": [
    "np.percentile(my_array, 25)"
   ]
  },
  {
   "cell_type": "code",
   "execution_count": 10,
   "metadata": {},
   "outputs": [
    {
     "data": {
      "text/plain": [
       "68.75"
      ]
     },
     "execution_count": 10,
     "metadata": {},
     "output_type": "execute_result"
    }
   ],
   "source": [
    "np.percentile(my_array, 75)"
   ]
  },
  {
   "cell_type": "code",
   "execution_count": 11,
   "metadata": {},
   "outputs": [
    {
     "data": {
      "text/plain": [
       "12"
      ]
     },
     "execution_count": 11,
     "metadata": {},
     "output_type": "execute_result"
    }
   ],
   "source": [
    "np.min(my_array)"
   ]
  },
  {
   "cell_type": "code",
   "execution_count": 12,
   "metadata": {},
   "outputs": [
    {
     "data": {
      "text/plain": [
       "98"
      ]
     },
     "execution_count": 12,
     "metadata": {},
     "output_type": "execute_result"
    }
   ],
   "source": [
    "np.max(my_array)"
   ]
  },
  {
   "cell_type": "markdown",
   "metadata": {},
   "source": [
    "### 2-D Datasets"
   ]
  },
  {
   "cell_type": "code",
   "execution_count": 13,
   "metadata": {},
   "outputs": [
    {
     "data": {
      "text/plain": [
       "array([[ 2,  4,  6,  8],\n",
       "       [ 3,  6,  9, 12],\n",
       "       [ 4,  8, 12, 16],\n",
       "       [ 5, 10, 15, 20]])"
      ]
     },
     "execution_count": 13,
     "metadata": {},
     "output_type": "execute_result"
    }
   ],
   "source": [
    "my_2d_array = np.array([[2,4,6,8], [3,6,9,12], [4,8,12,16], [5,10,15,20]])\n",
    "my_2d_array"
   ]
  },
  {
   "cell_type": "code",
   "execution_count": 14,
   "metadata": {},
   "outputs": [
    {
     "data": {
      "text/plain": [
       "8.75"
      ]
     },
     "execution_count": 14,
     "metadata": {},
     "output_type": "execute_result"
    }
   ],
   "source": [
    "np.mean(my_2d_array)"
   ]
  },
  {
   "cell_type": "code",
   "execution_count": 15,
   "metadata": {},
   "outputs": [
    {
     "data": {
      "text/plain": [
       "array([ 5. ,  7.5, 10. , 12.5])"
      ]
     },
     "execution_count": 15,
     "metadata": {},
     "output_type": "execute_result"
    }
   ],
   "source": [
    "# mean of each row\n",
    "np.mean(my_2d_array, axis=1)"
   ]
  },
  {
   "cell_type": "code",
   "execution_count": 16,
   "metadata": {},
   "outputs": [
    {
     "data": {
      "text/plain": [
       "array([ 3.5,  7. , 10.5, 14. ])"
      ]
     },
     "execution_count": 16,
     "metadata": {},
     "output_type": "execute_result"
    }
   ],
   "source": [
    "# mean of each column\n",
    "np.mean(my_2d_array, axis=0)"
   ]
  },
  {
   "cell_type": "markdown",
   "metadata": {},
   "source": [
    "### Statistical Distributions"
   ]
  },
  {
   "cell_type": "code",
   "execution_count": 17,
   "metadata": {},
   "outputs": [],
   "source": [
    "from matplotlib import pyplot as plt\n",
    "%matplotlib inline"
   ]
  },
  {
   "cell_type": "markdown",
   "metadata": {},
   "source": [
    "**Normal Distribution**\n",
    "\n",
    "We can generate a normal distribution using numpy and the random number generator:\n",
    "\n",
    "```py\n",
    "data = np.random.normal(loc, scale, size)\n",
    "```\n",
    "Where:\n",
    "\n",
    "- `loc` is the mean\n",
    "- `scale` is the std dev\n",
    "- `size` number of data points\n",
    "\n",
    "Numpy can generate many distributions, e.g. `normal`, `binomial`, `chisquare`, `exponential`, `geometric`, `poison`, etc.\n",
    "\n",
    "Ref docs: https://docs.scipy.org/doc/numpy-1.15.4/reference/routines.random.html"
   ]
  },
  {
   "cell_type": "markdown",
   "metadata": {},
   "source": [
    "When comparing mean with standard deviation we can say:\n",
    "\n",
    "- **68%** of our samples will fall between +/- 1 standard deviation of the mean, **no matter the mean or std deviation**\n",
    "\n",
    "- **95%** of our samples will fall between +/- 2 standard deviations of the mean\n",
    "\n",
    "- **99.7%** of our samples will fall between +/- 3 standard deviations of the mean"
   ]
  },
  {
   "cell_type": "markdown",
   "metadata": {},
   "source": [
    "Looking at the example below, for dataset a:\n",
    "\n",
    "- 68% of values lie within a rangeof **8.4 +-1.7**\n",
    "\n",
    "- 95% of values lise within the range **8.4 +-3.4**"
   ]
  },
  {
   "cell_type": "code",
   "execution_count": 18,
   "metadata": {},
   "outputs": [
    {
     "data": {
      "image/png": "[encoded data removed]",
      "text/plain": [
       "<Figure size 432x288 with 1 Axes>"
      ]
     },
     "metadata": {
      "needs_background": "light"
     },
     "output_type": "display_data"
    }
   ],
   "source": [
    "data_a = np.random.normal(8.4, 1.7, size=1000000)\n",
    "data_b = np.random.normal(1.3, 0.5, size=1000000)\n",
    "bin_size = int(np.sqrt(1000000))\n",
    "\n",
    "# plot the data\n",
    "plt.hist(data_a, bins=bin_size, label='Dataset A')\n",
    "plt.hist(data_b, bins=bin_size, label='Dataset B')\n",
    "plt.xlabel('Random Number Range')\n",
    "plt.ylabel('Number of Data Points')\n",
    "plt.legend(loc=2)\n",
    "plt.show()"
   ]
  },
  {
   "cell_type": "markdown",
   "metadata": {},
   "source": [
    "**Binomial Distribution**\n",
    "\n",
    "Tells us how likely a given event is likely to occur, given it's probability of success and the number of trials(samples).\n",
    "\n",
    "We can generate a binomial distribution with `numpy` using `np.random.binomial()` method.\n",
    "\n",
    "```py\n",
    "np.random.binomial(N, P, size)\n",
    "```\n",
    "\n",
    "Where:\n",
    "\n",
    "- `N` the number of samples/trials\n",
    "- `P` probability of success\n",
    "- `size` number of experiments (number of times we repeat the experiment)"
   ]
  },
  {
   "cell_type": "code",
   "execution_count": 19,
   "metadata": {},
   "outputs": [
    {
     "data": {
      "image/png": "[encoded data removed]",
      "text/plain": [
       "<Figure size 432x288 with 1 Axes>"
      ]
     },
     "metadata": {
      "needs_background": "light"
     },
     "output_type": "display_data"
    }
   ],
   "source": [
    "# Let's generate 10,000 \"experiments\"\n",
    "# N = 10 shots\n",
    "# P = 0.30 (30% he'll get a free throw)\n",
    "\n",
    "a = np.random.binomial(10, 0.30, size=10000)\n",
    "plt.hist(a, range=(0, 10), bins=10)\n",
    "plt.xlabel('Number of \"Free Throws\"')\n",
    "plt.ylabel('Frequency')\n",
    "plt.show()"
   ]
  }
 ],
 "metadata": {
  "kernelspec": {
   "display_name": "Python 3",
   "language": "python",
   "name": "python3"
  },
  "language_info": {
   "codemirror_mode": {
    "name": "ipython",
    "version": 3
   },
   "file_extension": ".py",
   "mimetype": "text/x-python",
   "name": "python",
   "nbconvert_exporter": "python",
   "pygments_lexer": "ipython3",
   "version": "3.7.1"
  }
 },
 "nbformat": 4,
 "nbformat_minor": 2
}
