{
 "cells": [
  {
   "cell_type": "markdown",
   "metadata": {},
   "source": [
    "# Statistical distribution and NumPy/Matplotlib"
   ]
  },
  {
   "cell_type": "markdown",
   "metadata": {},
   "source": [
    "### Plotting datasets"
   ]
  },
  {
   "cell_type": "code",
   "execution_count": 1,
   "metadata": {},
   "outputs": [],
   "source": [
    "import numpy as np\n",
    "from matplotlib import pyplot as plt"
   ]
  },
  {
   "cell_type": "markdown",
   "metadata": {},
   "source": [
    "When we first look at a dataset, we want to\n",
    "    - determine if some values occur more than others  \n",
    "    - determine the min and max values, or dataset range  \n",
    "    - identify any outliers\n",
    "    \n",
    "We can visualize this with a histogram"
   ]
  },
  {
   "cell_type": "markdown",
   "metadata": {},
   "source": [
    "If we have a dataset with values from 0-50, instead of determining how many, 0s, 1s,2s, etc, there are. We may be interested in knowing how many values there are between 0-5, 6-10, etc. These groupings are called `bins`."
   ]
  },
  {
   "cell_type": "markdown",
   "metadata": {},
   "source": [
    "`Bins` are always the same size. There width is the distance from the min-max value of the bin, in this example 5."
   ]
  },
  {
   "cell_type": "markdown",
   "metadata": {},
   "source": [
    "Histograms are graphed using the `Matplotlib` package"
   ]
  },
  {
   "cell_type": "markdown",
   "metadata": {},
   "source": [
    "Automatically make a histogram with 10 bins of equal width that span the entire range of our data.\n",
    "\n",
    "```py\n",
    "plt.hist([numpy array])\n",
    "\n",
    "plt.show() # plot the graph\n",
    "```"
   ]
  },
  {
   "cell_type": "markdown",
   "metadata": {},
   "source": [
    "If you want a different number of bins, use the keyword bins\n",
    "\n",
    "```py\n",
    "plt.hist([numpy array], bins=5) # create 5 equal size bins\n",
    "```"
   ]
  },
  {
   "cell_type": "markdown",
   "metadata": {},
   "source": [
    "If you want a different range, you can pass in the minimum and maximum values that you want to histogram using the keyword range. Pass in a tuple of two numbers. The first number is the minimum value that we want to plot and the second value is the number that we want to plot up to, but not including."
   ]
  },
  {
   "cell_type": "markdown",
   "metadata": {},
   "source": [
    " If our dataset contained values between 0 and 100, but we only wanted to histogram numbers between 20 and 50"
   ]
  },
  {
   "cell_type": "markdown",
   "metadata": {},
   "source": [
    "```py\n",
    "plt.hist([numpy array], range=(20, 51)) # default 10 bins\n",
    "```"
   ]
  },
  {
   "cell_type": "code",
   "execution_count": 5,
   "metadata": {},
   "outputs": [],
   "source": [
    "d = np.array([1, 1, 1, 2, 2, 2, 2, 2, 3, 3, 4, 4, 4, 4, 5])"
   ]
  },
  {
   "cell_type": "code",
   "execution_count": 10,
   "metadata": {},
   "outputs": [
    {
     "data": {
      "image/png": "[encoded data removed]",
      "text/plain": [
       "<Figure size 432x288 with 1 Axes>"
      ]
     },
     "metadata": {
      "needs_background": "light"
     },
     "output_type": "display_data"
    }
   ],
   "source": [
    "plt.hist(d, range=(1,6), bins=5)\n",
    "plt.show()"
   ]
  },
  {
   "cell_type": "markdown",
   "metadata": {},
   "source": [
    "Histograms can be classified based on the shape of the graphed values\n",
    "    - `Unimodal distribution` has one distinct peak  \n",
    "    - `Bimodal distribution` has two distict peaks - dataset has two distict populations  \n",
    "    - `Multimodal distribution` has more than two peaks\n",
    "    - `Uniform distribution` does not have any distinct peaks"
   ]
  },
  {
   "cell_type": "markdown",
   "metadata": {},
   "source": [
    "`Unimodal distributions` can be further classified\n",
    "    - `symmetrical` - has approx. equal numbers of values either side of the dataset. The `mean` and `median` values are approx. the same.\n",
    "    - `skew-right` has a long tail on the right of the peak(peak is to the left, tail to the right), but most of the data is on the left(median value is less than the mean/avg)\n",
    "    - `skew-left` has a long tail on the left of the peak(peak is to the right, tail to the left), but most of the data is on the right(median value is greater than the mean) "
   ]
  },
  {
   "cell_type": "markdown",
   "metadata": {},
   "source": [
    "### Normal distribution"
   ]
  },
  {
   "cell_type": "markdown",
   "metadata": {},
   "source": [
    "The most common distribution, unimodal, symmetric distribution. Common example, peoples height, blood pressure of healthy individuals"
   ]
  },
  {
   "cell_type": "markdown",
   "metadata": {},
   "source": [
    "Normal distributions are defined by their mean and standard deviation. The mean sets the \"middle\" of the distribution, and the standard deviation sets the \"width\" of the distribution. A larger standard deviation leads to a wider distribution, and vice versa."
   ]
  },
  {
   "cell_type": "code",
   "execution_count": null,
   "metadata": {},
   "outputs": [],
   "source": [
    "2"
   ]
  }
 ],
 "metadata": {
  "kernelspec": {
   "display_name": "Python 3",
   "language": "python",
   "name": "python3"
  },
  "language_info": {
   "codemirror_mode": {
    "name": "ipython",
    "version": 3
   },
   "file_extension": ".py",
   "mimetype": "text/x-python",
   "name": "python",
   "nbconvert_exporter": "python",
   "pygments_lexer": "ipython3",
   "version": "3.7.0"
  }
 },
 "nbformat": 4,
 "nbformat_minor": 2
}
