{
 "cells": [
  {
   "cell_type": "markdown",
   "metadata": {},
   "source": [
    "# NumPy\n",
    "\n",
    "NumPy(Numerical Python) has many uses including:\n",
    "\n",
    "- efficiently working with many numbers at once\n",
    "- generating random numbers\n",
    "- performing many different numerical functions (i.e., calculating sin, cos, tan, mean, median, etc.)\n",
    "\n",
    "### One Dimensional Arrays\n",
    "\n",
    "One dimensional(1-D) arrays are `single variable` datasets - contain a singe value for each property/data point."
   ]
  },
  {
   "cell_type": "markdown",
   "metadata": {},
   "source": [
    "Start by importing the NumPy package at the top of your file:\n",
    "`import numpy as np`\n",
    "\n",
    "Numpy uses an `array` data structure to organise data items.\n",
    "\n",
    "- can be any data type, including strings, numbers and other arrays (MUST be of the same data type, otherwise numpy will try and upcast the value, e.g. ints cast to floats).\n",
    "- transform a regular list into a NumPy array by using `.array()`\n",
    "- common data types(dtype) include int(8/16/32/64), float(16/32/64/128), bool and string(fixed length)\n",
    "- special numerical types nan(NaN) and inf(Infinity) - use isnan() and isinf() to identify nan and inf values, do not use ==."
   ]
  },
  {
   "cell_type": "code",
   "execution_count": 2,
   "metadata": {},
   "outputs": [
    {
     "data": {
      "text/plain": [
       "array([1, 2, 3, 4, 5, 6])"
      ]
     },
     "execution_count": 2,
     "metadata": {},
     "output_type": "execute_result"
    }
   ],
   "source": [
    "import numpy as np\n",
    "\n",
    "# you can create a numpy array directly from a python list\n",
    "my_array = np.array([1,2,3,4,5,6])\n",
    "my_array"
   ]
  },
  {
   "cell_type": "code",
   "execution_count": 4,
   "metadata": {},
   "outputs": [
    {
     "data": {
      "text/plain": [
       "array([1., 2., 3., 4., 5., 6., 7., 8.], dtype=float32)"
      ]
     },
     "execution_count": 4,
     "metadata": {},
     "output_type": "execute_result"
    }
   ],
   "source": [
    "# you can also explicitly set the data type with the `dtype` keyword\n",
    "my_array = np.array([1,2,3,4,5,6,7,8], dtype='float32')\n",
    "my_array"
   ]
  },
  {
   "cell_type": "code",
   "execution_count": 9,
   "metadata": {},
   "outputs": [
    {
     "data": {
      "text/plain": [
       "array(['1', '2', '3', '4', '5', '6'], dtype='<U1')"
      ]
     },
     "execution_count": 9,
     "metadata": {},
     "output_type": "execute_result"
    }
   ],
   "source": [
    "my_array = np.array([1,2,3,4,5,6], dtype='str')\n",
    "my_array"
   ]
  },
  {
   "cell_type": "code",
   "execution_count": 10,
   "metadata": {},
   "outputs": [
    {
     "data": {
      "text/plain": [
       "array([ True, False,  True, False,  True, False])"
      ]
     },
     "execution_count": 10,
     "metadata": {},
     "output_type": "execute_result"
    }
   ],
   "source": [
    "my_array = np.array([1,0,1,0,1,0], dtype='bool')\n",
    "my_array"
   ]
  },
  {
   "cell_type": "code",
   "execution_count": 11,
   "metadata": {},
   "outputs": [
    {
     "data": {
      "text/plain": [
       "array([ True,  True,  True,  True, False, False])"
      ]
     },
     "execution_count": 11,
     "metadata": {},
     "output_type": "execute_result"
    }
   ],
   "source": [
    "my_array = np.array([1,2,3,4,0,0], dtype='bool')\n",
    "my_array"
   ]
  },
  {
   "cell_type": "code",
   "execution_count": 13,
   "metadata": {},
   "outputs": [
    {
     "data": {
      "text/plain": [
       "[True, True, True, True, False, False]"
      ]
     },
     "execution_count": 13,
     "metadata": {},
     "output_type": "execute_result"
    }
   ],
   "source": [
    "# convert a numpy array to python list\n",
    "my_array = list(my_array)\n",
    "my_array"
   ]
  },
  {
   "cell_type": "markdown",
   "metadata": {},
   "source": [
    "You can **import data** directly into numpy arrays from **csv** files using the `.genfromtxt()`. The method takes two arguments, the firl path and the delimiter used to separate the values."
   ]
  },
  {
   "cell_type": "code",
   "execution_count": 15,
   "metadata": {},
   "outputs": [
    {
     "data": {
      "text/plain": [
       "array([1., 2., 3., 4., 5., 6., 7., 8., 9., 0.])"
      ]
     },
     "execution_count": 15,
     "metadata": {},
     "output_type": "execute_result"
    }
   ],
   "source": [
    "my_array = np.genfromtxt('data/sample.csv', delimiter=',')\n",
    "my_array"
   ]
  },
  {
   "cell_type": "code",
   "execution_count": 18,
   "metadata": {},
   "outputs": [
    {
     "data": {
      "text/plain": [
       "array([[      nan,       nan,       nan, ...,       nan,       nan,\n",
       "              nan],\n",
       "       [ 892.    ,    3.    ,       nan, ...,    7.8292,       nan,\n",
       "              nan],\n",
       "       [ 893.    ,    3.    ,       nan, ...,    7.    ,       nan,\n",
       "              nan],\n",
       "       ...,\n",
       "       [1307.    ,    3.    ,       nan, ...,    7.25  ,       nan,\n",
       "              nan],\n",
       "       [1308.    ,    3.    ,       nan, ...,    8.05  ,       nan,\n",
       "              nan],\n",
       "       [1309.    ,    3.    ,       nan, ...,   22.3583,       nan,\n",
       "              nan]])"
      ]
     },
     "execution_count": 18,
     "metadata": {},
     "output_type": "execute_result"
    }
   ],
   "source": [
    "# all the fields in the csv file need to be of the same datatype\n",
    "my_array = np.genfromtxt('data/test.csv', delimiter=',')\n",
    "my_array"
   ]
  },
  {
   "cell_type": "code",
   "execution_count": 21,
   "metadata": {},
   "outputs": [
    {
     "data": {
      "text/plain": [
       "array([[      nan,       nan],\n",
       "       [8.920e+02, 0.000e+00],\n",
       "       [8.930e+02, 1.000e+00],\n",
       "       [8.940e+02, 0.000e+00],\n",
       "       [8.950e+02, 0.000e+00],\n",
       "       [8.960e+02, 1.000e+00],\n",
       "       [8.970e+02, 0.000e+00],\n",
       "       [8.980e+02, 1.000e+00],\n",
       "       [8.990e+02, 0.000e+00],\n",
       "       [9.000e+02, 1.000e+00],\n",
       "       [9.010e+02, 0.000e+00],\n",
       "       [9.020e+02, 0.000e+00],\n",
       "       [9.030e+02, 0.000e+00],\n",
       "       [9.040e+02, 1.000e+00],\n",
       "       [9.050e+02, 0.000e+00],\n",
       "       [9.060e+02, 1.000e+00],\n",
       "       [9.070e+02, 1.000e+00],\n",
       "       [9.080e+02, 0.000e+00],\n",
       "       [9.090e+02, 0.000e+00],\n",
       "       [9.100e+02, 1.000e+00],\n",
       "       [9.110e+02, 1.000e+00],\n",
       "       [9.120e+02, 0.000e+00],\n",
       "       [9.130e+02, 0.000e+00],\n",
       "       [9.140e+02, 1.000e+00],\n",
       "       [9.150e+02, 0.000e+00],\n",
       "       [9.160e+02, 1.000e+00],\n",
       "       [9.170e+02, 0.000e+00],\n",
       "       [9.180e+02, 1.000e+00],\n",
       "       [9.190e+02, 0.000e+00],\n",
       "       [9.200e+02, 0.000e+00],\n",
       "       [9.210e+02, 0.000e+00],\n",
       "       [9.220e+02, 0.000e+00],\n",
       "       [9.230e+02, 0.000e+00],\n",
       "       [9.240e+02, 1.000e+00],\n",
       "       [9.250e+02, 1.000e+00],\n",
       "       [9.260e+02, 0.000e+00],\n",
       "       [9.270e+02, 0.000e+00],\n",
       "       [9.280e+02, 1.000e+00],\n",
       "       [9.290e+02, 1.000e+00],\n",
       "       [9.300e+02, 0.000e+00],\n",
       "       [9.310e+02, 0.000e+00],\n",
       "       [9.320e+02, 0.000e+00],\n",
       "       [9.330e+02, 0.000e+00],\n",
       "       [9.340e+02, 0.000e+00],\n",
       "       [9.350e+02, 1.000e+00],\n",
       "       [9.360e+02, 1.000e+00],\n",
       "       [9.370e+02, 0.000e+00],\n",
       "       [9.380e+02, 0.000e+00],\n",
       "       [9.390e+02, 0.000e+00],\n",
       "       [9.400e+02, 1.000e+00],\n",
       "       [9.410e+02, 1.000e+00],\n",
       "       [9.420e+02, 0.000e+00],\n",
       "       [9.430e+02, 0.000e+00],\n",
       "       [9.440e+02, 1.000e+00],\n",
       "       [9.450e+02, 1.000e+00],\n",
       "       [9.460e+02, 0.000e+00],\n",
       "       [9.470e+02, 0.000e+00],\n",
       "       [9.480e+02, 0.000e+00],\n",
       "       [9.490e+02, 0.000e+00],\n",
       "       [9.500e+02, 0.000e+00],\n",
       "       [9.510e+02, 1.000e+00],\n",
       "       [9.520e+02, 0.000e+00],\n",
       "       [9.530e+02, 0.000e+00],\n",
       "       [9.540e+02, 0.000e+00],\n",
       "       [9.550e+02, 1.000e+00],\n",
       "       [9.560e+02, 0.000e+00],\n",
       "       [9.570e+02, 1.000e+00],\n",
       "       [9.580e+02, 1.000e+00],\n",
       "       [9.590e+02, 0.000e+00],\n",
       "       [9.600e+02, 0.000e+00],\n",
       "       [9.610e+02, 1.000e+00],\n",
       "       [9.620e+02, 1.000e+00],\n",
       "       [9.630e+02, 0.000e+00],\n",
       "       [9.640e+02, 1.000e+00],\n",
       "       [9.650e+02, 0.000e+00],\n",
       "       [9.660e+02, 1.000e+00],\n",
       "       [9.670e+02, 0.000e+00],\n",
       "       [9.680e+02, 0.000e+00],\n",
       "       [9.690e+02, 1.000e+00],\n",
       "       [9.700e+02, 0.000e+00],\n",
       "       [9.710e+02, 1.000e+00],\n",
       "       [9.720e+02, 0.000e+00],\n",
       "       [9.730e+02, 0.000e+00],\n",
       "       [9.740e+02, 0.000e+00],\n",
       "       [9.750e+02, 0.000e+00],\n",
       "       [9.760e+02, 0.000e+00],\n",
       "       [9.770e+02, 0.000e+00],\n",
       "       [9.780e+02, 1.000e+00],\n",
       "       [9.790e+02, 1.000e+00],\n",
       "       [9.800e+02, 1.000e+00],\n",
       "       [9.810e+02, 0.000e+00],\n",
       "       [9.820e+02, 1.000e+00],\n",
       "       [9.830e+02, 0.000e+00],\n",
       "       [9.840e+02, 1.000e+00],\n",
       "       [9.850e+02, 0.000e+00],\n",
       "       [9.860e+02, 0.000e+00],\n",
       "       [9.870e+02, 0.000e+00],\n",
       "       [9.880e+02, 1.000e+00],\n",
       "       [9.890e+02, 0.000e+00],\n",
       "       [9.900e+02, 1.000e+00],\n",
       "       [9.910e+02, 0.000e+00],\n",
       "       [9.920e+02, 1.000e+00],\n",
       "       [9.930e+02, 0.000e+00],\n",
       "       [9.940e+02, 0.000e+00],\n",
       "       [9.950e+02, 0.000e+00],\n",
       "       [9.960e+02, 1.000e+00],\n",
       "       [9.970e+02, 0.000e+00],\n",
       "       [9.980e+02, 0.000e+00],\n",
       "       [9.990e+02, 0.000e+00],\n",
       "       [1.000e+03, 0.000e+00],\n",
       "       [1.001e+03, 0.000e+00],\n",
       "       [1.002e+03, 0.000e+00],\n",
       "       [1.003e+03, 1.000e+00],\n",
       "       [1.004e+03, 1.000e+00],\n",
       "       [1.005e+03, 1.000e+00],\n",
       "       [1.006e+03, 1.000e+00],\n",
       "       [1.007e+03, 0.000e+00],\n",
       "       [1.008e+03, 0.000e+00],\n",
       "       [1.009e+03, 1.000e+00],\n",
       "       [1.010e+03, 0.000e+00],\n",
       "       [1.011e+03, 1.000e+00],\n",
       "       [1.012e+03, 1.000e+00],\n",
       "       [1.013e+03, 0.000e+00],\n",
       "       [1.014e+03, 1.000e+00],\n",
       "       [1.015e+03, 0.000e+00],\n",
       "       [1.016e+03, 0.000e+00],\n",
       "       [1.017e+03, 1.000e+00],\n",
       "       [1.018e+03, 0.000e+00],\n",
       "       [1.019e+03, 1.000e+00],\n",
       "       [1.020e+03, 0.000e+00],\n",
       "       [1.021e+03, 0.000e+00],\n",
       "       [1.022e+03, 0.000e+00],\n",
       "       [1.023e+03, 0.000e+00],\n",
       "       [1.024e+03, 1.000e+00],\n",
       "       [1.025e+03, 0.000e+00],\n",
       "       [1.026e+03, 0.000e+00],\n",
       "       [1.027e+03, 0.000e+00],\n",
       "       [1.028e+03, 0.000e+00],\n",
       "       [1.029e+03, 0.000e+00],\n",
       "       [1.030e+03, 1.000e+00],\n",
       "       [1.031e+03, 0.000e+00],\n",
       "       [1.032e+03, 1.000e+00],\n",
       "       [1.033e+03, 1.000e+00],\n",
       "       [1.034e+03, 0.000e+00],\n",
       "       [1.035e+03, 0.000e+00],\n",
       "       [1.036e+03, 0.000e+00],\n",
       "       [1.037e+03, 0.000e+00],\n",
       "       [1.038e+03, 0.000e+00],\n",
       "       [1.039e+03, 0.000e+00],\n",
       "       [1.040e+03, 0.000e+00],\n",
       "       [1.041e+03, 0.000e+00],\n",
       "       [1.042e+03, 1.000e+00],\n",
       "       [1.043e+03, 0.000e+00],\n",
       "       [1.044e+03, 0.000e+00],\n",
       "       [1.045e+03, 1.000e+00],\n",
       "       [1.046e+03, 0.000e+00],\n",
       "       [1.047e+03, 0.000e+00],\n",
       "       [1.048e+03, 1.000e+00],\n",
       "       [1.049e+03, 1.000e+00],\n",
       "       [1.050e+03, 0.000e+00],\n",
       "       [1.051e+03, 1.000e+00],\n",
       "       [1.052e+03, 1.000e+00],\n",
       "       [1.053e+03, 0.000e+00],\n",
       "       [1.054e+03, 1.000e+00],\n",
       "       [1.055e+03, 0.000e+00],\n",
       "       [1.056e+03, 0.000e+00],\n",
       "       [1.057e+03, 1.000e+00],\n",
       "       [1.058e+03, 0.000e+00],\n",
       "       [1.059e+03, 0.000e+00],\n",
       "       [1.060e+03, 1.000e+00],\n",
       "       [1.061e+03, 1.000e+00],\n",
       "       [1.062e+03, 0.000e+00],\n",
       "       [1.063e+03, 0.000e+00],\n",
       "       [1.064e+03, 0.000e+00],\n",
       "       [1.065e+03, 0.000e+00],\n",
       "       [1.066e+03, 0.000e+00],\n",
       "       [1.067e+03, 1.000e+00],\n",
       "       [1.068e+03, 1.000e+00],\n",
       "       [1.069e+03, 0.000e+00],\n",
       "       [1.070e+03, 1.000e+00],\n",
       "       [1.071e+03, 1.000e+00],\n",
       "       [1.072e+03, 0.000e+00],\n",
       "       [1.073e+03, 0.000e+00],\n",
       "       [1.074e+03, 1.000e+00],\n",
       "       [1.075e+03, 0.000e+00],\n",
       "       [1.076e+03, 1.000e+00],\n",
       "       [1.077e+03, 0.000e+00],\n",
       "       [1.078e+03, 1.000e+00],\n",
       "       [1.079e+03, 0.000e+00],\n",
       "       [1.080e+03, 1.000e+00],\n",
       "       [1.081e+03, 0.000e+00],\n",
       "       [1.082e+03, 0.000e+00],\n",
       "       [1.083e+03, 0.000e+00],\n",
       "       [1.084e+03, 0.000e+00],\n",
       "       [1.085e+03, 0.000e+00],\n",
       "       [1.086e+03, 0.000e+00],\n",
       "       [1.087e+03, 0.000e+00],\n",
       "       [1.088e+03, 0.000e+00],\n",
       "       [1.089e+03, 1.000e+00],\n",
       "       [1.090e+03, 0.000e+00],\n",
       "       [1.091e+03, 1.000e+00],\n",
       "       [1.092e+03, 1.000e+00],\n",
       "       [1.093e+03, 0.000e+00],\n",
       "       [1.094e+03, 0.000e+00],\n",
       "       [1.095e+03, 1.000e+00],\n",
       "       [1.096e+03, 0.000e+00],\n",
       "       [1.097e+03, 0.000e+00],\n",
       "       [1.098e+03, 1.000e+00],\n",
       "       [1.099e+03, 0.000e+00],\n",
       "       [1.100e+03, 1.000e+00],\n",
       "       [1.101e+03, 0.000e+00],\n",
       "       [1.102e+03, 0.000e+00],\n",
       "       [1.103e+03, 0.000e+00],\n",
       "       [1.104e+03, 0.000e+00],\n",
       "       [1.105e+03, 1.000e+00],\n",
       "       [1.106e+03, 1.000e+00],\n",
       "       [1.107e+03, 0.000e+00],\n",
       "       [1.108e+03, 1.000e+00],\n",
       "       [1.109e+03, 0.000e+00],\n",
       "       [1.110e+03, 1.000e+00],\n",
       "       [1.111e+03, 0.000e+00],\n",
       "       [1.112e+03, 1.000e+00],\n",
       "       [1.113e+03, 0.000e+00],\n",
       "       [1.114e+03, 1.000e+00],\n",
       "       [1.115e+03, 0.000e+00],\n",
       "       [1.116e+03, 1.000e+00],\n",
       "       [1.117e+03, 1.000e+00],\n",
       "       [1.118e+03, 0.000e+00],\n",
       "       [1.119e+03, 1.000e+00],\n",
       "       [1.120e+03, 0.000e+00],\n",
       "       [1.121e+03, 0.000e+00],\n",
       "       [1.122e+03, 0.000e+00],\n",
       "       [1.123e+03, 1.000e+00],\n",
       "       [1.124e+03, 0.000e+00],\n",
       "       [1.125e+03, 0.000e+00],\n",
       "       [1.126e+03, 0.000e+00],\n",
       "       [1.127e+03, 0.000e+00],\n",
       "       [1.128e+03, 0.000e+00],\n",
       "       [1.129e+03, 0.000e+00],\n",
       "       [1.130e+03, 1.000e+00],\n",
       "       [1.131e+03, 1.000e+00],\n",
       "       [1.132e+03, 1.000e+00],\n",
       "       [1.133e+03, 1.000e+00],\n",
       "       [1.134e+03, 0.000e+00],\n",
       "       [1.135e+03, 0.000e+00],\n",
       "       [1.136e+03, 0.000e+00],\n",
       "       [1.137e+03, 0.000e+00],\n",
       "       [1.138e+03, 1.000e+00],\n",
       "       [1.139e+03, 0.000e+00],\n",
       "       [1.140e+03, 1.000e+00],\n",
       "       [1.141e+03, 1.000e+00],\n",
       "       [1.142e+03, 1.000e+00],\n",
       "       [1.143e+03, 0.000e+00],\n",
       "       [1.144e+03, 0.000e+00],\n",
       "       [1.145e+03, 0.000e+00],\n",
       "       [1.146e+03, 0.000e+00],\n",
       "       [1.147e+03, 0.000e+00],\n",
       "       [1.148e+03, 0.000e+00],\n",
       "       [1.149e+03, 0.000e+00],\n",
       "       [1.150e+03, 1.000e+00],\n",
       "       [1.151e+03, 0.000e+00],\n",
       "       [1.152e+03, 0.000e+00],\n",
       "       [1.153e+03, 0.000e+00],\n",
       "       [1.154e+03, 1.000e+00],\n",
       "       [1.155e+03, 1.000e+00],\n",
       "       [1.156e+03, 0.000e+00],\n",
       "       [1.157e+03, 0.000e+00],\n",
       "       [1.158e+03, 0.000e+00],\n",
       "       [1.159e+03, 0.000e+00],\n",
       "       [1.160e+03, 1.000e+00],\n",
       "       [1.161e+03, 0.000e+00],\n",
       "       [1.162e+03, 0.000e+00],\n",
       "       [1.163e+03, 0.000e+00],\n",
       "       [1.164e+03, 1.000e+00],\n",
       "       [1.165e+03, 1.000e+00],\n",
       "       [1.166e+03, 0.000e+00],\n",
       "       [1.167e+03, 1.000e+00],\n",
       "       [1.168e+03, 0.000e+00],\n",
       "       [1.169e+03, 0.000e+00],\n",
       "       [1.170e+03, 0.000e+00],\n",
       "       [1.171e+03, 0.000e+00],\n",
       "       [1.172e+03, 1.000e+00],\n",
       "       [1.173e+03, 0.000e+00],\n",
       "       [1.174e+03, 1.000e+00],\n",
       "       [1.175e+03, 1.000e+00],\n",
       "       [1.176e+03, 1.000e+00],\n",
       "       [1.177e+03, 0.000e+00],\n",
       "       [1.178e+03, 0.000e+00],\n",
       "       [1.179e+03, 0.000e+00],\n",
       "       [1.180e+03, 0.000e+00],\n",
       "       [1.181e+03, 0.000e+00],\n",
       "       [1.182e+03, 0.000e+00],\n",
       "       [1.183e+03, 1.000e+00],\n",
       "       [1.184e+03, 0.000e+00],\n",
       "       [1.185e+03, 0.000e+00],\n",
       "       [1.186e+03, 0.000e+00],\n",
       "       [1.187e+03, 0.000e+00],\n",
       "       [1.188e+03, 1.000e+00],\n",
       "       [1.189e+03, 0.000e+00],\n",
       "       [1.190e+03, 0.000e+00],\n",
       "       [1.191e+03, 0.000e+00],\n",
       "       [1.192e+03, 0.000e+00],\n",
       "       [1.193e+03, 0.000e+00],\n",
       "       [1.194e+03, 0.000e+00],\n",
       "       [1.195e+03, 0.000e+00],\n",
       "       [1.196e+03, 1.000e+00],\n",
       "       [1.197e+03, 1.000e+00],\n",
       "       [1.198e+03, 0.000e+00],\n",
       "       [1.199e+03, 0.000e+00],\n",
       "       [1.200e+03, 0.000e+00],\n",
       "       [1.201e+03, 1.000e+00],\n",
       "       [1.202e+03, 0.000e+00],\n",
       "       [1.203e+03, 0.000e+00],\n",
       "       [1.204e+03, 0.000e+00],\n",
       "       [1.205e+03, 1.000e+00],\n",
       "       [1.206e+03, 1.000e+00],\n",
       "       [1.207e+03, 1.000e+00],\n",
       "       [1.208e+03, 0.000e+00],\n",
       "       [1.209e+03, 0.000e+00],\n",
       "       [1.210e+03, 0.000e+00],\n",
       "       [1.211e+03, 0.000e+00],\n",
       "       [1.212e+03, 0.000e+00],\n",
       "       [1.213e+03, 0.000e+00],\n",
       "       [1.214e+03, 0.000e+00],\n",
       "       [1.215e+03, 0.000e+00],\n",
       "       [1.216e+03, 1.000e+00],\n",
       "       [1.217e+03, 0.000e+00],\n",
       "       [1.218e+03, 1.000e+00],\n",
       "       [1.219e+03, 0.000e+00],\n",
       "       [1.220e+03, 0.000e+00],\n",
       "       [1.221e+03, 0.000e+00],\n",
       "       [1.222e+03, 1.000e+00],\n",
       "       [1.223e+03, 0.000e+00],\n",
       "       [1.224e+03, 0.000e+00],\n",
       "       [1.225e+03, 1.000e+00],\n",
       "       [1.226e+03, 0.000e+00],\n",
       "       [1.227e+03, 0.000e+00],\n",
       "       [1.228e+03, 0.000e+00],\n",
       "       [1.229e+03, 0.000e+00],\n",
       "       [1.230e+03, 0.000e+00],\n",
       "       [1.231e+03, 0.000e+00],\n",
       "       [1.232e+03, 0.000e+00],\n",
       "       [1.233e+03, 0.000e+00],\n",
       "       [1.234e+03, 0.000e+00],\n",
       "       [1.235e+03, 1.000e+00],\n",
       "       [1.236e+03, 0.000e+00],\n",
       "       [1.237e+03, 1.000e+00],\n",
       "       [1.238e+03, 0.000e+00],\n",
       "       [1.239e+03, 1.000e+00],\n",
       "       [1.240e+03, 0.000e+00],\n",
       "       [1.241e+03, 1.000e+00],\n",
       "       [1.242e+03, 1.000e+00],\n",
       "       [1.243e+03, 0.000e+00],\n",
       "       [1.244e+03, 0.000e+00],\n",
       "       [1.245e+03, 0.000e+00],\n",
       "       [1.246e+03, 1.000e+00],\n",
       "       [1.247e+03, 0.000e+00],\n",
       "       [1.248e+03, 1.000e+00],\n",
       "       [1.249e+03, 0.000e+00],\n",
       "       [1.250e+03, 0.000e+00],\n",
       "       [1.251e+03, 1.000e+00],\n",
       "       [1.252e+03, 0.000e+00],\n",
       "       [1.253e+03, 1.000e+00],\n",
       "       [1.254e+03, 1.000e+00],\n",
       "       [1.255e+03, 0.000e+00],\n",
       "       [1.256e+03, 1.000e+00],\n",
       "       [1.257e+03, 1.000e+00],\n",
       "       [1.258e+03, 0.000e+00],\n",
       "       [1.259e+03, 1.000e+00],\n",
       "       [1.260e+03, 1.000e+00],\n",
       "       [1.261e+03, 0.000e+00],\n",
       "       [1.262e+03, 0.000e+00],\n",
       "       [1.263e+03, 1.000e+00],\n",
       "       [1.264e+03, 0.000e+00],\n",
       "       [1.265e+03, 0.000e+00],\n",
       "       [1.266e+03, 1.000e+00],\n",
       "       [1.267e+03, 1.000e+00],\n",
       "       [1.268e+03, 1.000e+00],\n",
       "       [1.269e+03, 0.000e+00],\n",
       "       [1.270e+03, 0.000e+00],\n",
       "       [1.271e+03, 0.000e+00],\n",
       "       [1.272e+03, 0.000e+00],\n",
       "       [1.273e+03, 0.000e+00],\n",
       "       [1.274e+03, 1.000e+00],\n",
       "       [1.275e+03, 1.000e+00],\n",
       "       [1.276e+03, 0.000e+00],\n",
       "       [1.277e+03, 1.000e+00],\n",
       "       [1.278e+03, 0.000e+00],\n",
       "       [1.279e+03, 0.000e+00],\n",
       "       [1.280e+03, 0.000e+00],\n",
       "       [1.281e+03, 0.000e+00],\n",
       "       [1.282e+03, 0.000e+00],\n",
       "       [1.283e+03, 1.000e+00],\n",
       "       [1.284e+03, 0.000e+00],\n",
       "       [1.285e+03, 0.000e+00],\n",
       "       [1.286e+03, 0.000e+00],\n",
       "       [1.287e+03, 1.000e+00],\n",
       "       [1.288e+03, 0.000e+00],\n",
       "       [1.289e+03, 1.000e+00],\n",
       "       [1.290e+03, 0.000e+00],\n",
       "       [1.291e+03, 0.000e+00],\n",
       "       [1.292e+03, 1.000e+00],\n",
       "       [1.293e+03, 0.000e+00],\n",
       "       [1.294e+03, 1.000e+00],\n",
       "       [1.295e+03, 0.000e+00],\n",
       "       [1.296e+03, 0.000e+00],\n",
       "       [1.297e+03, 0.000e+00],\n",
       "       [1.298e+03, 0.000e+00],\n",
       "       [1.299e+03, 0.000e+00],\n",
       "       [1.300e+03, 1.000e+00],\n",
       "       [1.301e+03, 1.000e+00],\n",
       "       [1.302e+03, 1.000e+00],\n",
       "       [1.303e+03, 1.000e+00],\n",
       "       [1.304e+03, 1.000e+00],\n",
       "       [1.305e+03, 0.000e+00],\n",
       "       [1.306e+03, 1.000e+00],\n",
       "       [1.307e+03, 0.000e+00],\n",
       "       [1.308e+03, 0.000e+00],\n",
       "       [1.309e+03, 0.000e+00]])"
      ]
     },
     "execution_count": 21,
     "metadata": {},
     "output_type": "execute_result"
    }
   ],
   "source": [
    "np.genfromtxt('data/gender_submission.csv', delimiter=',')"
   ]
  },
  {
   "cell_type": "markdown",
   "metadata": {},
   "source": [
    "### Performing operations on NumPy arrays\n",
    "\n",
    "Numpy arrays are more efficient than lists when performing operations. Numpy arrays allow you to perform 'element-wise operations', e.g. addition/multiplication/etc on elements in the array directly.\n",
    "\n",
    "Note: these operations depend on ALL the elements in the arrays being of the SAME type"
   ]
  },
  {
   "cell_type": "code",
   "execution_count": 54,
   "metadata": {},
   "outputs": [
    {
     "data": {
      "text/plain": [
       "array([ 4,  5,  6,  7,  8,  9, 10, 11])"
      ]
     },
     "execution_count": 54,
     "metadata": {},
     "output_type": "execute_result"
    }
   ],
   "source": [
    "a = np.array([1,2,3,4,5,6,7,8])\n",
    "a += 3\n",
    "a"
   ]
  },
  {
   "cell_type": "code",
   "execution_count": 55,
   "metadata": {},
   "outputs": [
    {
     "data": {
      "text/plain": [
       "array([2, 3, 4, 5, 6, 7, 8, 9])"
      ]
     },
     "execution_count": 55,
     "metadata": {},
     "output_type": "execute_result"
    }
   ],
   "source": [
    "a -= 2\n",
    "a"
   ]
  },
  {
   "cell_type": "code",
   "execution_count": 56,
   "metadata": {},
   "outputs": [
    {
     "data": {
      "text/plain": [
       "array([ 4,  9, 16, 25, 36, 49, 64, 81])"
      ]
     },
     "execution_count": 56,
     "metadata": {},
     "output_type": "execute_result"
    }
   ],
   "source": [
    "a **= 2\n",
    "a"
   ]
  },
  {
   "cell_type": "code",
   "execution_count": 51,
   "metadata": {},
   "outputs": [
    {
     "data": {
      "text/plain": [
       "array([2., 3., 4., 5., 6., 7., 8., 9.])"
      ]
     },
     "execution_count": 51,
     "metadata": {},
     "output_type": "execute_result"
    }
   ],
   "source": [
    "np.sqrt(a)"
   ]
  },
  {
   "cell_type": "markdown",
   "metadata": {},
   "source": [
    "**Adding/Substracting NumPy Arrays**\n",
    "\n",
    "Two (or more) Numpy arrays can be added/multiplied/divided or subtracted. They must have the same number of elements, the arrays must have the same **shape**. Individual elements in the same positions will be added/subtracted. Numpy performs all calculations element-wise (i.e. element by element)."
   ]
  },
  {
   "cell_type": "code",
   "execution_count": 38,
   "metadata": {},
   "outputs": [
    {
     "data": {
      "text/plain": [
       "array([258, 279, 246, 274, 270])"
      ]
     },
     "execution_count": 38,
     "metadata": {},
     "output_type": "execute_result"
    }
   ],
   "source": [
    "test_1 = np.array([92, 94, 88, 91, 87])\n",
    "test_2 = np.array([79, 100, 86, 93, 91])\n",
    "test_3 = np.array([87, 85, 72, 90, 92])\n",
    "test_1 + test_2 + test_3"
   ]
  },
  {
   "cell_type": "code",
   "execution_count": 40,
   "metadata": {},
   "outputs": [
    {
     "data": {
      "text/plain": [
       "array([-6781, -8406, -6104, -8279, -8285])"
      ]
     },
     "execution_count": 40,
     "metadata": {},
     "output_type": "execute_result"
    }
   ],
   "source": [
    "# follows rules of presedence\n",
    "test_1 - test_2 * test_3"
   ]
  },
  {
   "cell_type": "code",
   "execution_count": 41,
   "metadata": {},
   "outputs": [
    {
     "data": {
      "text/plain": [
       "array([193.3164557 , 173.9       , 161.6744186 , 179.06451613,\n",
       "       174.95604396])"
      ]
     },
     "execution_count": 41,
     "metadata": {},
     "output_type": "execute_result"
    }
   ],
   "source": [
    "test_1 / test_2 * test_3 + test_1"
   ]
  },
  {
   "cell_type": "code",
   "execution_count": 43,
   "metadata": {},
   "outputs": [
    {
     "ename": "ValueError",
     "evalue": "operands could not be broadcast together with shapes (2,) (5,) ",
     "output_type": "error",
     "traceback": [
      "\u001b[0;31m---------------------------------------------------------------------------\u001b[0m",
      "\u001b[0;31mValueError\u001b[0m                                Traceback (most recent call last)",
      "\u001b[0;32m<ipython-input-43-72c9b0adfe3c>\u001b[0m in \u001b[0;36m<module>\u001b[0;34m\u001b[0m\n\u001b[1;32m      2\u001b[0m \u001b[0mtest_4\u001b[0m \u001b[0;34m=\u001b[0m \u001b[0mnp\u001b[0m\u001b[0;34m.\u001b[0m\u001b[0marray\u001b[0m\u001b[0;34m(\u001b[0m\u001b[0;34m[\u001b[0m\u001b[0;36m10\u001b[0m\u001b[0;34m,\u001b[0m \u001b[0;36m20\u001b[0m\u001b[0;34m]\u001b[0m\u001b[0;34m)\u001b[0m\u001b[0;34m\u001b[0m\u001b[0;34m\u001b[0m\u001b[0m\n\u001b[1;32m      3\u001b[0m \u001b[0mtest_5\u001b[0m \u001b[0;34m=\u001b[0m \u001b[0mnp\u001b[0m\u001b[0;34m.\u001b[0m\u001b[0marray\u001b[0m\u001b[0;34m(\u001b[0m\u001b[0;34m[\u001b[0m\u001b[0;36m1\u001b[0m\u001b[0;34m,\u001b[0m\u001b[0;36m2\u001b[0m\u001b[0;34m,\u001b[0m\u001b[0;36m3\u001b[0m\u001b[0;34m,\u001b[0m\u001b[0;36m4\u001b[0m\u001b[0;34m,\u001b[0m\u001b[0;36m5\u001b[0m\u001b[0;34m]\u001b[0m\u001b[0;34m)\u001b[0m\u001b[0;34m\u001b[0m\u001b[0;34m\u001b[0m\u001b[0m\n\u001b[0;32m----> 4\u001b[0;31m \u001b[0mtest_4\u001b[0m \u001b[0;34m+\u001b[0m \u001b[0mtest_5\u001b[0m\u001b[0;34m\u001b[0m\u001b[0;34m\u001b[0m\u001b[0m\n\u001b[0m",
      "\u001b[0;31mValueError\u001b[0m: operands could not be broadcast together with shapes (2,) (5,) "
     ]
    }
   ],
   "source": [
    "# the arrays must have the same number of values(shape)\n",
    "test_4 = np.array([10, 20])\n",
    "test_5 = np.array([1,2,3,4,5])\n",
    "test_4 + test_5"
   ]
  },
  {
   "cell_type": "markdown",
   "metadata": {},
   "source": [
    "### Selecting Elements\n",
    "\n",
    "You can select elements fomr a numpy array in the same way you do with Python lists, single lements with positive or negative integers, and ranges to select multiple elements."
   ]
  },
  {
   "cell_type": "code",
   "execution_count": 57,
   "metadata": {},
   "outputs": [
    {
     "data": {
      "text/plain": [
       "array([ 4,  9, 16, 25, 36, 49, 64, 81])"
      ]
     },
     "execution_count": 57,
     "metadata": {},
     "output_type": "execute_result"
    }
   ],
   "source": [
    "a"
   ]
  },
  {
   "cell_type": "code",
   "execution_count": 58,
   "metadata": {},
   "outputs": [
    {
     "data": {
      "text/plain": [
       "49"
      ]
     },
     "execution_count": 58,
     "metadata": {},
     "output_type": "execute_result"
    }
   ],
   "source": [
    "a[-3]"
   ]
  },
  {
   "cell_type": "code",
   "execution_count": 62,
   "metadata": {},
   "outputs": [
    {
     "data": {
      "text/plain": [
       "array([81, 64, 49])"
      ]
     },
     "execution_count": 62,
     "metadata": {},
     "output_type": "execute_result"
    }
   ],
   "source": [
    "# start from -1, and go from back to front(3rd arg)\n",
    "a[-1:-4:-1]"
   ]
  },
  {
   "cell_type": "code",
   "execution_count": 63,
   "metadata": {},
   "outputs": [
    {
     "data": {
      "text/plain": [
       "array([ 4,  9, 16, 25, 36, 49, 64, 81])"
      ]
     },
     "execution_count": 63,
     "metadata": {},
     "output_type": "execute_result"
    }
   ],
   "source": [
    "# the array itself remains unchanged\n",
    "a"
   ]
  },
  {
   "cell_type": "markdown",
   "metadata": {},
   "source": [
    "### Logical Operations\n",
    "\n",
    "You can perform element-wise logical operations on NumPy arrays."
   ]
  },
  {
   "cell_type": "code",
   "execution_count": 99,
   "metadata": {},
   "outputs": [
    {
     "data": {
      "text/plain": [
       "array([False, False,  True,  True,  True,  True,  True,  True])"
      ]
     },
     "execution_count": 99,
     "metadata": {},
     "output_type": "execute_result"
    }
   ],
   "source": [
    "# determine which elements are > 12\n",
    "a > 12"
   ]
  },
  {
   "cell_type": "code",
   "execution_count": 98,
   "metadata": {},
   "outputs": [
    {
     "data": {
      "text/plain": [
       "array([36, 49, 64, 81])"
      ]
     },
     "execution_count": 98,
     "metadata": {},
     "output_type": "execute_result"
    }
   ],
   "source": [
    "# only return those elements > 32\n",
    "a[a > 32]"
   ]
  },
  {
   "cell_type": "code",
   "execution_count": 97,
   "metadata": {},
   "outputs": [
    {
     "data": {
      "text/plain": [
       "array([16, 25, 36])"
      ]
     },
     "execution_count": 97,
     "metadata": {},
     "output_type": "execute_result"
    }
   ],
   "source": [
    "# you can combine logical 'and' and 'or'(you need to surround each evaluation with '()')\n",
    "a[(a > 15) & (a < 45)]"
   ]
  },
  {
   "cell_type": "code",
   "execution_count": 3,
   "metadata": {},
   "outputs": [
    {
     "name": "stdout",
     "output_type": "stream",
     "text": [
      "[178.56 165.21 189.43]\n"
     ]
    }
   ],
   "source": [
    "import numpy as np\n",
    "\n",
    "heights = [123.34, 143.34, 156.34, 178.56, 165.21, 189.43, 153.54]\n",
    "ages = [23, 43, 34, 54, 46, 65, 25]\n",
    "\n",
    "np_heights = np.array(heights)\n",
    "np_ages = np.array(ages)\n",
    "\n",
    "np_results = np_heights[np_ages > 45] # return that particular item when evaluation == True\n",
    "print(np_results)"
   ]
  },
  {
   "cell_type": "code",
   "execution_count": 4,
   "metadata": {},
   "outputs": [
    {
     "name": "stdout",
     "output_type": "stream",
     "text": [
      "[123.34 143.34 156.34 153.54]\n"
     ]
    }
   ],
   "source": [
    "other_heights = np_heights[np_ages <= 45]\n",
    "print(other_heights)"
   ]
  },
  {
   "cell_type": "markdown",
   "metadata": {},
   "source": [
    "### Two Dimensional Arrays\n",
    "\n",
    "Numpy supports 2-D arrays - nested arrays are all the SAME size, and Type(having one string or float value convrets all values to strings or floats). Boolean `True`/`False` converted to `1`/`0`. 2-D arrays are often used to represent a set of samples."
   ]
  },
  {
   "cell_type": "code",
   "execution_count": 102,
   "metadata": {},
   "outputs": [],
   "source": [
    "test_6 = np.array([[1,2,3,4], [5,3,7,8], [2,3,0,5], [4,5,6,7]])\n",
    "test_7 = np.array([[1,0,1,0], [1,0,1,0], [1,0,1,0], [1,0,1,0]])\n",
    "test_8 = np.array([[4,5,6,7], [6,7,8,9], [1,0,0,1], [6,5,4,3]])"
   ]
  },
  {
   "cell_type": "markdown",
   "metadata": {},
   "source": [
    "You can carry out operations on 2-D arrays, e.g. operations on individual elements or adding/subtracting/multiplying or dividing two or more arrays together. Arrays must have the same shape, and be of the same `dtype`."
   ]
  },
  {
   "cell_type": "code",
   "execution_count": 103,
   "metadata": {},
   "outputs": [
    {
     "data": {
      "text/plain": [
       "array([[ 2,  4,  6,  8],\n",
       "       [10,  6, 14, 16],\n",
       "       [ 4,  6,  0, 10],\n",
       "       [ 8, 10, 12, 14]])"
      ]
     },
     "execution_count": 103,
     "metadata": {},
     "output_type": "execute_result"
    }
   ],
   "source": [
    "test_6 * 2"
   ]
  },
  {
   "cell_type": "code",
   "execution_count": 104,
   "metadata": {},
   "outputs": [
    {
     "data": {
      "text/plain": [
       "array([[ 5,  2,  9,  4],\n",
       "       [11,  3, 15,  8],\n",
       "       [ 3,  3,  0,  5],\n",
       "       [10,  5, 10,  7]])"
      ]
     },
     "execution_count": 104,
     "metadata": {},
     "output_type": "execute_result"
    }
   ],
   "source": [
    "test_6 + test_7 * test_8"
   ]
  },
  {
   "cell_type": "markdown",
   "metadata": {},
   "source": [
    "#### **Selecting elements from a 2-D array**\n",
    "\n",
    "Specify both the `row` and the `column` index(rows start from zero)\n",
    "\n",
    "NOTE:\n",
    "\n",
    "In a 2-D array, the axes correspond to the interior arrays in the following way:\n",
    "\n",
    "axis=0 are values that share an index (in the same column) and axis=1 are values share an array (in the same row) - the answer is flipped!\n",
    "\n",
    "We can also think of **axis=0 == columns** and **axis=1 == rows**.\n",
    "\n",
    "```py\n",
    "        0  1  2  3  4\n",
    "     0 [[1, 3, 4, 7, 0],\n",
    "     1 [3, 5, 7, 9, 2],\n",
    "     2 [2, 4, 6, 8, 1]])\n",
    "\n",
    "```"
   ]
  },
  {
   "cell_type": "code",
   "execution_count": 112,
   "metadata": {},
   "outputs": [
    {
     "data": {
      "text/plain": [
       "4"
      ]
     },
     "execution_count": 112,
     "metadata": {},
     "output_type": "execute_result"
    }
   ],
   "source": [
    "a = np.array([[1,3,4,7,0], [3,5,7,9,2], [2,4,6,8,1]])\n",
    "a[2,1] # row/col"
   ]
  },
  {
   "cell_type": "markdown",
   "metadata": {},
   "source": [
    "To select an entire column, use `:` as the **row** index"
   ]
  },
  {
   "cell_type": "code",
   "execution_count": 113,
   "metadata": {},
   "outputs": [
    {
     "data": {
      "text/plain": [
       "array([3, 5, 4])"
      ]
     },
     "execution_count": 113,
     "metadata": {},
     "output_type": "execute_result"
    }
   ],
   "source": [
    "a[:, 1]"
   ]
  },
  {
   "cell_type": "code",
   "execution_count": 114,
   "metadata": {},
   "outputs": [
    {
     "data": {
      "text/plain": [
       "array([1, 3, 2])"
      ]
     },
     "execution_count": 114,
     "metadata": {},
     "output_type": "execute_result"
    }
   ],
   "source": [
    "a[:, 0]"
   ]
  },
  {
   "cell_type": "markdown",
   "metadata": {},
   "source": [
    "To select an entire row, insert `:` as the **column** index."
   ]
  },
  {
   "cell_type": "code",
   "execution_count": 115,
   "metadata": {},
   "outputs": [
    {
     "data": {
      "text/plain": [
       "array([3, 5, 7, 9, 2])"
      ]
     },
     "execution_count": 115,
     "metadata": {},
     "output_type": "execute_result"
    }
   ],
   "source": [
    "a[1, :]"
   ]
  },
  {
   "cell_type": "code",
   "execution_count": 116,
   "metadata": {},
   "outputs": [
    {
     "data": {
      "text/plain": [
       "array([1, 3, 4, 7, 0])"
      ]
     },
     "execution_count": 116,
     "metadata": {},
     "output_type": "execute_result"
    }
   ],
   "source": [
    "a[0, :]"
   ]
  },
  {
   "cell_type": "markdown",
   "metadata": {},
   "source": [
    "To select a range **from** a row"
   ]
  },
  {
   "cell_type": "code",
   "execution_count": 117,
   "metadata": {},
   "outputs": [
    {
     "data": {
      "text/plain": [
       "array([5, 7, 9])"
      ]
     },
     "execution_count": 117,
     "metadata": {},
     "output_type": "execute_result"
    }
   ],
   "source": [
    "# 2nd row, elements 1-3 inclusive\n",
    "a[1, 1:4]"
   ]
  },
  {
   "cell_type": "code",
   "execution_count": null,
   "metadata": {},
   "outputs": [],
   "source": []
  }
 ],
 "metadata": {
  "kernelspec": {
   "display_name": "Python 3",
   "language": "python",
   "name": "python3"
  },
  "language_info": {
   "codemirror_mode": {
    "name": "ipython",
    "version": 3
   },
   "file_extension": ".py",
   "mimetype": "text/x-python",
   "name": "python",
   "nbconvert_exporter": "python",
   "pygments_lexer": "ipython3",
   "version": "3.7.1"
  }
 },
 "nbformat": 4,
 "nbformat_minor": 2
}
