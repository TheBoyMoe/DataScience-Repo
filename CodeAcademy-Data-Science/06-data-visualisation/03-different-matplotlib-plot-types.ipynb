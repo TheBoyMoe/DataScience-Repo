{
 "cells": [
  {
   "cell_type": "markdown",
   "metadata": {},
   "source": [
    "# Different Plot Types"
   ]
  },
  {
   "cell_type": "markdown",
   "metadata": {},
   "source": [
    "### Simple Bar Chart\n",
    "\n",
    "You can create a bar chart with `plt.bar()`. Takes two args, 1st is a list of x-values, 2nd a list of y-values which are the bar heights. "
   ]
  },
  {
   "cell_type": "code",
   "execution_count": 1,
   "metadata": {},
   "outputs": [
    {
     "data": {
      "text/plain": [
       "<Figure size 640x480 with 1 Axes>"
      ]
     },
     "metadata": {},
     "output_type": "display_data"
    }
   ],
   "source": [
    "from matplotlib import pyplot as plt\n",
    "\n",
    "heights = [88, 225, 365, 687, 4333, 10756, 30687, 60190, 90553]\n",
    "x_values = range(len(heights))\n",
    "plt.bar(x_values, heights)\n",
    "plt.show()"
   ]
  },
  {
   "cell_type": "code",
   "execution_count": 2,
   "metadata": {},
   "outputs": [
    {
     "name": "stderr",
     "output_type": "stream",
     "text": [
      "/media/theboymo/d64061fd-29fa-457c-8209-b6a7ed06885f/home/theboymo/Anaconda-installation/lib/python3.7/site-packages/matplotlib/cbook/deprecation.py:107: MatplotlibDeprecationWarning: Adding an axes using the same arguments as a previous axes currently reuses the earlier instance.  In a future version, a new instance will always be created and returned.  Meanwhile, this warning can be suppressed, and the future behavior ensured, by passing a unique label to each axes instance.\n",
      "  warnings.warn(message, mplDeprecation, stacklevel=1)\n"
     ]
    },
    {
     "data": {
      "image/png": "[encoded data removed]",
      "text/plain": [
       "<Figure size 432x288 with 1 Axes>"
      ]
     },
     "metadata": {
      "needs_background": "light"
     },
     "output_type": "display_data"
    }
   ],
   "source": [
    "drinks = [\"cappuccino\", \"latte\", \"chai\", \"americano\", \"mocha\", \"espresso\"]\n",
    "x_vals = range(len(drinks))\n",
    "sales =  [91, 76, 56, 66, 52, 27]\n",
    "plt.bar(x_vals, sales)\n",
    "plt.xlabel('Coffee')\n",
    "plt.ylabel('Number sold')\n",
    "plt.title('Coffee Sales during the Month')\n",
    "ax4 = plt.subplot()\n",
    "ax4.set_xticks([0,1,2,3,4,5]) # matches number of columns\n",
    "ax4.set_xticklabels(drinks, rotation=30) # associate the drinks with the columns\n",
    "\n",
    "plt.show()"
   ]
  },
  {
   "cell_type": "markdown",
   "metadata": {},
   "source": [
    "Note: \n",
    " - use the `rotation` keyword when the labels are quite long  \n",
    " - set the x-ticks before we set the x-labels because the default ticks won’t necessarily be one tick per bar"
   ]
  },
  {
   "cell_type": "markdown",
   "metadata": {},
   "source": [
    "## Side-By-Side Bars\n",
    "\n",
    "Used to compare two sets of data on the same axis.\n",
    "\n",
    "To create side-by-side bar chart of two datasets, use the following template, editing the `n`, `t`, `d`, `w` values:\n",
    "\n",
    "```py\n",
    "# for the 1st dataset\n",
    "n = 1  # This is our first dataset (out of 2)\n",
    "t = 2 # Number of datasets\n",
    "d = 7 # Number of sets of bars\n",
    "w = 0.8 # Width of each bar(default)\n",
    "x_values1 = [t*element + w*n for element in range(d)]\n",
    "\n",
    "# for the 2nd dataset\n",
    "n = 2  # This is our second dataset (out of 2)\n",
    "t = 2 # Number of datasets\n",
    "d = 7 # Number of sets of bars\n",
    "w = 0.8 # Width of each bar\n",
    "x_values2 = [t*element + w*n for element in range(d)]\n",
    "```\n",
    "\n"
   ]
  },
  {
   "cell_type": "markdown",
   "metadata": {},
   "source": [
    "#### Example"
   ]
  },
  {
   "cell_type": "code",
   "execution_count": 3,
   "metadata": {},
   "outputs": [
    {
     "data": {
      "image/png": "[encoded data removed]",
      "text/plain": [
       "<Figure size 432x288 with 1 Axes>"
      ]
     },
     "metadata": {
      "needs_background": "light"
     },
     "output_type": "display_data"
    }
   ],
   "source": [
    "drinks = [\"cappuccino\", \"latte\", \"chai\", \"americano\", \"mocha\", \"espresso\"]\n",
    "sales1 =  [91, 76, 56, 66, 52, 27]\n",
    "sales2 = [65, 82, 36, 68, 38, 40]\n",
    "\n",
    "plt.xlabel('Drink')\n",
    "plt.ylabel('Sales')\n",
    "plt.title('Coffee Sales')\n",
    "\n",
    "# sales 1\n",
    "n = 1 # This is our first dataset (out of 2) \n",
    "t = 2 # Number of datasets \n",
    "d = 6 # Number of sets of bars \n",
    "w = 0.8 # Width of each bar \n",
    "store1_x = [t*element + w*n for element in range(d)]\n",
    "plt.bar(store1_x, sales1)\n",
    "\n",
    "# sales 2\n",
    "n = 2  # This is our second dataset (out of 2)\n",
    "t = 2 # Number of datasets\n",
    "d = 6 # Number of sets of bars\n",
    "w = 0.8 # Width of each bar\n",
    "store2_x = [t*element + w*n for element in range(d)]\n",
    "plt.bar(store2_x, sales2)\n",
    "\n",
    "plt.show()"
   ]
  },
  {
   "cell_type": "markdown",
   "metadata": {},
   "source": [
    "### Stacked Bars\n",
    "\n",
    "If we want to compare two sets of data while preserving knowledge of the total between them, we can also stack the bars instead of putting them side by side.\n",
    "\n",
    "We do this by using the keyword bottom. The top set of bars will have bottom set to the heights of the other set of bars. The first set of bars is plotted normally:\n",
    "\n",
    "```py\n",
    "video_game_hours = [1, 2, 2, 1, 2]\n",
    "plt.bar(range(len(video_game_hours)), video_game_hours)\n",
    "```\n",
    "\n",
    "The second set of bars has `bottom` specified:\n",
    "\n",
    "```py\n",
    "book_hours = [2, 3, 4, 2, 1]\n",
    "plt.bar(range(len(book_hours)), book_hours, bottom=video_game_hours)\n",
    "```\n",
    "\n",
    "This starts the book_hours bars at the heights of the video_game_hours bars. "
   ]
  },
  {
   "cell_type": "markdown",
   "metadata": {},
   "source": [
    "#### Example"
   ]
  },
  {
   "cell_type": "code",
   "execution_count": 4,
   "metadata": {},
   "outputs": [
    {
     "data": {
      "image/png": "[encoded data removed]",
      "text/plain": [
       "<Figure size 432x288 with 1 Axes>"
      ]
     },
     "metadata": {
      "needs_background": "light"
     },
     "output_type": "display_data"
    }
   ],
   "source": [
    "drinks = [\"cappuccino\", \"latte\", \"chai\", \"americano\", \"mocha\", \"espresso\"]\n",
    "sales1 =  [91, 76, 56, 66, 52, 27]\n",
    "sales2 = [65, 82, 36, 68, 38, 40]\n",
    "plt.xlabel('Drink')\n",
    "plt.ylabel('Sales')\n",
    "plt.title('Coffee Sales')\n",
    "plt.bar(range(len(drinks)), sales1)\n",
    "plt.bar(range(len(drinks)), sales2, bottom=sales1)\n",
    "plt.legend(['Location 1', 'Location 2'])\n",
    "plt.show()"
   ]
  },
  {
   "cell_type": "markdown",
   "metadata": {},
   "source": [
    "### Error Bars\n",
    "\n",
    "To display error visually in a bar chart, we often use error bars to show where each bar could be, taking errors into account. The `error bar` is the large 'I' symbol at the top of the bar. It signifies the level of uncertainty with regards to the columns height, or value. Greater height, greater the uncertainty and potential for error.\n",
    "To set the `error bar`, use the `yerr` keyword, passing it as an optional arg to `plt.bar`, e,g, an error rate of +/-2 would be `yerr=2`. To make sure the `error bar` is easy to see, use the keyword `capsize=10`.\n",
    "\n",
    "```plt\n",
    "values = [10, 13, 11, 15, 20]\n",
    "yerr = 2\n",
    "plt.bar(range(len(values)), values, yerr=yerr, capsize=10)\n",
    "plt.show()\n",
    "```\n",
    "\n",
    "You can use `error bars` of different heights by assining a list of values to `yerr`. The list is read in order, the 1st value coresponding to the 1st column and so on.\n",
    "\n",
    "```py\n",
    "values = [10, 13, 11, 15, 20]\n",
    "yerr = [1, 3, 0.5, 2, 4]\n",
    "plt.bar(range(len(values)), values, yerr=yerr, capsize=10)\n",
    "plt.show()\n",
    "```"
   ]
  },
  {
   "cell_type": "markdown",
   "metadata": {},
   "source": [
    "#### Example"
   ]
  },
  {
   "cell_type": "code",
   "execution_count": 5,
   "metadata": {},
   "outputs": [
    {
     "data": {
      "image/png": "[encoded data removed]",
      "text/plain": [
       "<Figure size 432x288 with 1 Axes>"
      ]
     },
     "metadata": {
      "needs_background": "light"
     },
     "output_type": "display_data"
    }
   ],
   "source": [
    "drinks = [\"cappuccino\", \"latte\", \"chai\", \"americano\", \"mocha\", \"espresso\"]\n",
    "ounces_of_milk = [6, 9, 4, 0, 9, 0]\n",
    "error = [0.6, 0.9, 0.4, 0, 0.9, 0]\n",
    "\n",
    "plt.bar(range(len(ounces_of_milk)), ounces_of_milk, yerr=error, capsize=5)\n",
    "plt.show()"
   ]
  },
  {
   "cell_type": "markdown",
   "metadata": {},
   "source": [
    "### Fill Between\n",
    "\n",
    "We can display the degree of uncertainty in a result displayed in a line graph using the `plt.fill_between()` method. It shades in the area above and below the line to demonstrate the potential error. This allows you to plot projections, showing the level of +/- error level.\n",
    "\n",
    "This method takes 3 args, x-values list, the lower bound for y-values, and the upper bound for y values. An optional 4th arg, `alpha` sets the transparency value (between 0 to 1) for the shaded area."
   ]
  },
  {
   "cell_type": "code",
   "execution_count": 6,
   "metadata": {},
   "outputs": [
    {
     "data": {
      "image/png": "[encoded data removed]",
      "text/plain": [
       "<Figure size 432x288 with 1 Axes>"
      ]
     },
     "metadata": {
      "needs_background": "light"
     },
     "output_type": "display_data"
    }
   ],
   "source": [
    "x_values = range(10)\n",
    "y_values = [10, 12, 13, 13, 15, 19, 20, 22, 23, 29]\n",
    "y_lower = [8, 10, 11, 11, 13, 17, 18, 20, 21, 27]\n",
    "y_upper = [12, 14, 15, 15, 17, 21, 22, 24, 25, 31]\n",
    "\n",
    "plt.fill_between(x_values, y_lower, y_upper, alpha=0.2) #this is the shaded error\n",
    "plt.plot(x_values, y_values) #this is the line itself\n",
    "plt.show()"
   ]
  },
  {
   "cell_type": "markdown",
   "metadata": {},
   "source": [
    "In order to calculate the lower/upper bound use a `list comprehension`, e.g.\n",
    "\n",
    "```py\n",
    "# calculate the lower bound that is 2 below th y_value\n",
    "y_lower = [i - 2 for i in y_values]\n",
    "\n",
    "# calculate the upper_bound that is 2 higher than the y_value\n",
    "y_upper = [i + 2 for i in y_values]\n",
    "```"
   ]
  },
  {
   "cell_type": "markdown",
   "metadata": {},
   "source": [
    "#### Example"
   ]
  },
  {
   "cell_type": "code",
   "execution_count": 7,
   "metadata": {},
   "outputs": [
    {
     "ename": "NameError",
     "evalue": "name 'ax' is not defined",
     "output_type": "error",
     "traceback": [
      "\u001b[0;31m---------------------------------------------------------------------------\u001b[0m",
      "\u001b[0;31mNameError\u001b[0m                                 Traceback (most recent call last)",
      "\u001b[0;32m<ipython-input-7-0e172ee5fcdc>\u001b[0m in \u001b[0;36m<module>\u001b[0;34m()\u001b[0m\n\u001b[1;32m     10\u001b[0m \u001b[0;34m\u001b[0m\u001b[0m\n\u001b[1;32m     11\u001b[0m \u001b[0;31m# ax = plt.subplot() already defined\u001b[0m\u001b[0;34m\u001b[0m\u001b[0;34m\u001b[0m\u001b[0m\n\u001b[0;32m---> 12\u001b[0;31m \u001b[0max\u001b[0m\u001b[0;34m.\u001b[0m\u001b[0mset_xticks\u001b[0m\u001b[0;34m(\u001b[0m\u001b[0mmonths\u001b[0m\u001b[0;34m)\u001b[0m\u001b[0;34m\u001b[0m\u001b[0m\n\u001b[0m\u001b[1;32m     13\u001b[0m \u001b[0max\u001b[0m\u001b[0;34m.\u001b[0m\u001b[0mset_xticklabels\u001b[0m\u001b[0;34m(\u001b[0m\u001b[0mmonth_names\u001b[0m\u001b[0;34m)\u001b[0m\u001b[0;34m\u001b[0m\u001b[0m\n\u001b[1;32m     14\u001b[0m \u001b[0;34m\u001b[0m\u001b[0m\n",
      "\u001b[0;31mNameError\u001b[0m: name 'ax' is not defined"
     ]
    },
    {
     "data": {
      "image/png": "[encoded data removed]",
      "text/plain": [
       "<Figure size 432x288 with 1 Axes>"
      ]
     },
     "metadata": {
      "needs_background": "light"
     },
     "output_type": "display_data"
    }
   ],
   "source": [
    "months = range(12)\n",
    "month_names = [\"Jan\", \"Feb\", \"Mar\", \"Apr\", \"May\", \"Jun\", \"Jul\", \"Aug\", \"Sep\", \"Oct\", \"Nov\", \"Dec\"]\n",
    "revenue = [16000, 14000, 17500, 19500, 21500, 21500, 22000, 23000, 20000, 19500, 18000, 16500]\n",
    "\n",
    "#your work here\n",
    "plt.plot(months, revenue)\n",
    "plt.xlabel('Months')\n",
    "plt.ylabel('Revenue')\n",
    "plt.title('Monthly revenue')\n",
    "\n",
    "# ax = plt.subplot() already defined\n",
    "ax.set_xticks(months)\n",
    "ax.set_xticklabels(month_names)\n",
    "\n",
    "y_lower = [i * 0.9 for i in revenue]\n",
    "y_upper = [i * 1.1 for i in revenue]\n",
    "plt.fill_between(months, y_lower, y_upper, alpha=0.2)\n",
    "plt.show()"
   ]
  },
  {
   "cell_type": "markdown",
   "metadata": {},
   "source": [
    "### Pie Chart\n",
    "\n",
    "Used when we want to disply a dataset as a proportion of a whole, e.g. what proportion of team members own a dog, cat, bird or no pet?. Use the `plt.pie()` method, which takes a list of values."
   ]
  },
  {
   "cell_type": "code",
   "execution_count": null,
   "metadata": {},
   "outputs": [],
   "source": [
    "budget_data = [500, 1000, 750, 300, 100]\n",
    "\n",
    "plt.pie(budget_data)\n",
    "plt.axis('equal') # dy default piecharts appear tilted\n",
    "plt.show()"
   ]
  },
  {
   "cell_type": "markdown",
   "metadata": {},
   "source": [
    "We can also add a legend or labels to indicate what each slice represents.\n",
    "\n",
    "1. To add a legend, use the `plt.legend()`, passing a string list of the names/labels\n",
    "2. To add a label for each slice, use the `labels` keyword, passing a string list, with the `plt.pie()` method."
   ]
  },
  {
   "cell_type": "code",
   "execution_count": null,
   "metadata": {},
   "outputs": [],
   "source": [
    "# To add a legend\n",
    "budget_data = [500, 1000, 750, 300, 100]\n",
    "budget_categories = ['marketing', 'payroll', 'engineering', 'design', 'misc']\n",
    "\n",
    "plt.pie(budget_data)\n",
    "plt.axis('equal')\n",
    "plt.legend(budget_categories)\n",
    "plt.show()"
   ]
  },
  {
   "cell_type": "code",
   "execution_count": null,
   "metadata": {},
   "outputs": [],
   "source": [
    "# To add labels\n",
    "budget_data = [500, 1000, 750, 300, 100]\n",
    "budget_categories = ['marketing', 'payroll', 'engineering', 'design', 'misc']\n",
    "\n",
    "plt.pie(budget_data, labels=budget_categories, )\n",
    "plt.axis('equal')\n",
    "plt.show()"
   ]
  },
  {
   "cell_type": "markdown",
   "metadata": {},
   "source": [
    "We can add the percentage of the total that each slice occupies, with the `autopct` keyword. We pass in string formatting instructions to format the labels how we want.\n",
    "- '%0.2f' — 2 decimal places, like 4.08\n",
    "- '%0.2f%%' — 2 decimal places, but with a percent sign at the end, like 4.08%(You need two consecutive percent signs because the first one acts as an escape character)\n",
    "- '%d%%' — rounded to the nearest int and with a percent sign at the end, like 4%"
   ]
  },
  {
   "cell_type": "code",
   "execution_count": null,
   "metadata": {},
   "outputs": [],
   "source": [
    "budget_data = [500, 1000, 750, 300, 100]\n",
    "budget_categories = ['marketing', 'payroll', 'engineering', 'design', 'misc']\n",
    "\n",
    "plt.pie(budget_data, labels=budget_categories, autopct='%0.1f%%')\n",
    "plt.axis('equal')\n",
    "plt.show()"
   ]
  },
  {
   "cell_type": "markdown",
   "metadata": {},
   "source": [
    "### Histogram\n",
    "\n",
    "Histograms are best for examining the shape of data, is the distribution uniform, binomial, skewed left/rigt, etc.\n",
    "\n",
    "The dataset is divided into `bins`. Each bin having a range of values, e.g. 0 -10, 10-20, 20-30, etc. The ranges are always the same size, in this example 10. Each column has the same width. The width of each bin is the distance between the minimum and maximum values of each bin. The height of each column is the number of elements from the dataset that fall within that bin.\n",
    "\n",
    "To plot a histogram, use `plt.hist()`, which takes a list of values. By default `.hist()` finds the min and max values in the dataset and creates 10 equally spaced bins.\n",
    "\n",
    "To configure the number of bins, use the `bins` keyword(optional) to set the number of bins we want to divide the data into. Use the `range` keyword(optional) to set the min and max values to plot.\n",
    "\n",
    "```py\n",
    "# plot values falling between 60 and 90, dividing the resultant data into 20 bins(columns)\n",
    "plt.hist(dataset, range=(60, 90), bins=20)\n",
    "```"
   ]
  },
  {
   "cell_type": "markdown",
   "metadata": {},
   "source": [
    "We can plot multiple Histograms on the same plot. Since these may well overlap eachother we can employ the `alpha` keyword, selecting a value between 0 and 1, to set the histograms transparency.\n",
    "\n",
    "```py\n",
    "plt.hist(a, range=(55, 75), bins=20, alpha=0.5)\n",
    "plt.hist(b, range=(55, 75), bins=20, alpha=0.5)\n",
    "```\n",
    "\n",
    "Another option is to draw the historams as simply outlines by employing the `histtype='step'` keyword/value pair.\n",
    "\n",
    "```py\n",
    "plt.hist(a, range=(55, 75), bins=20, histtype='step')\n",
    "plt.hist(b, range=(55, 75), bins=20, histtype='step')\n",
    "```"
   ]
  },
  {
   "cell_type": "markdown",
   "metadata": {},
   "source": [
    "Another problem arises when one dataset has many more sample values resulting in the histogram that is much larger than the histogram you're trying to caompare it against - making qualitative comparison difficult.\n",
    "\n",
    "This can be solved by `normalizing` the histograms by using the `normed=True` keyword/value. This command divides the height of each column by a constant such that the total shaded area of the histogram sums to 1.\n",
    "\n",
    "```py\n",
    "a = normal(loc=64, scale=2, size=10000)\n",
    "b = normal(loc=70, scale=2, size=100000)\n",
    "\n",
    "plt.hist(a, range=(55, 75), bins=20, alpha=0.5, normed=True)\n",
    "plt.hist(b, range=(55, 75), bins=20, alpha=0.5, normed=True)\n",
    "plt.show()\n",
    "```"
   ]
  },
  {
   "cell_type": "code",
   "execution_count": null,
   "metadata": {},
   "outputs": [],
   "source": []
  }
 ],
 "metadata": {
  "kernelspec": {
   "display_name": "Python 3",
   "language": "python",
   "name": "python3"
  },
  "language_info": {
   "codemirror_mode": {
    "name": "ipython",
    "version": 3
   },
   "file_extension": ".py",
   "mimetype": "text/x-python",
   "name": "python",
   "nbconvert_exporter": "python",
   "pygments_lexer": "ipython3",
   "version": "3.7.0"
  }
 },
 "nbformat": 4,
 "nbformat_minor": 2
}
