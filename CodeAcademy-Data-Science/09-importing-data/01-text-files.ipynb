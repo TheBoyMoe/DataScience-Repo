{
 "cells": [
  {
   "cell_type": "markdown",
   "metadata": {},
   "source": [
    "# Importing data from text files"
   ]
  },
  {
   "cell_type": "markdown",
   "metadata": {},
   "source": [
    "### Reading text files\n",
    "\n",
    "Basic steps:\n",
    "\n",
    "1. assign the file to a variable(optional)\n",
    "\n",
    "```py\n",
    "filename = 'data/my_file.txt'\n",
    "```\n",
    "\n",
    "2. open a connection to the file, using `open()`, and set the mode using `mode` attribute, in this case `read`(ensures you cannot write to it by accident). Creates a file object.\n",
    "\n",
    "```py\n",
    "file = open(filename, mode='r')\n",
    "```\n",
    "To write to a file use `mode='w'`.\n",
    "\n",
    "3. read the contents of the file using `.read()` as one 'go' and assign to a variable.\n",
    "\n",
    "```py\n",
    "text = file.read()\n",
    "```\n",
    "\n",
    "4. once you're done, close the connection to the file - prevent memort leaks.\n",
    "\n",
    "```py\n",
    "file.close()\n",
    "```\n",
    "\n",
    "You can check if the file is closed with `file.closed`, which returns a boolean.\n",
    "\n",
    "You can avoid having to `open` and `close` a connection to the file by using the `with` **context manager**:\n",
    "\n",
    "```py\n",
    "with open('data/filename.txt', mode='r') as file:\n",
    "    text = file.read()\n",
    "```\n",
    "Within the construct of the **connection manager**, the variable `file` will be bound to `open('data/filename.txt')`. This file connection is automatically closed outside of the context manager and is considered best practice."
   ]
  },
  {
   "cell_type": "code",
   "execution_count": 3,
   "metadata": {},
   "outputs": [
    {
     "name": "stdout",
     "output_type": "stream",
     "text": [
      "False\n"
     ]
    }
   ],
   "source": [
    "file = open('data/seaslug.txt', mode='r')\n",
    "print(file.closed)"
   ]
  },
  {
   "cell_type": "code",
   "execution_count": 4,
   "metadata": {},
   "outputs": [
    {
     "name": "stdout",
     "output_type": "stream",
     "text": [
      "Time\tPercent\n",
      "99\t0.067\n",
      "99\t0.133\n",
      "99\t0.067\n",
      "99\t0\n",
      "99\t0\n",
      "0\t0.5\n",
      "0\t0.467\n",
      "0\t0.857\n",
      "0\t0.5\n",
      "0\t0.357\n",
      "0\t0.533\n",
      "5\t0.467\n",
      "5\t0.467\n",
      "5\t0.125\n",
      "5\t0.4\n",
      "5\t0.214\n",
      "5\t0.4\n",
      "10\t0.067\n",
      "10\t0.067\n",
      "10\t0.333\n",
      "10\t0.333\n",
      "10\t0.133\n",
      "10\t0.133\n",
      "15\t0.267\n",
      "15\t0.286\n",
      "15\t0.333\n",
      "15\t0.214\n",
      "15\t0\n",
      "15\t0\n",
      "20\t0.267\n",
      "20\t0.2\n",
      "20\t0.267\n",
      "20\t0.437\n",
      "20\t0.077\n",
      "20\t0.067\n",
      "25\t0.133\n",
      "25\t0.267\n",
      "25\t0.412\n",
      "25\t0\n",
      "25\t0.067\n",
      "25\t0.133\n",
      "30\t0\n",
      "30\t0.071\n",
      "30\t0\n",
      "30\t0.067\n",
      "30\t0.067\n",
      "30\t0.133\n",
      "\n"
     ]
    }
   ],
   "source": [
    "text = file.read()\n",
    "print(text)"
   ]
  },
  {
   "cell_type": "code",
   "execution_count": 5,
   "metadata": {},
   "outputs": [
    {
     "name": "stdout",
     "output_type": "stream",
     "text": [
      "True\n"
     ]
    }
   ],
   "source": [
    "file.close()\n",
    "print(file.closed)"
   ]
  },
  {
   "cell_type": "markdown",
   "metadata": {},
   "source": [
    "### Reading text files line by line\n",
    "\n",
    "For large files we'll want to read files a line at a time. We can do so with `.readline()` method which reads the file contents one line at a time and maintaining the state."
   ]
  },
  {
   "cell_type": "code",
   "execution_count": null,
   "metadata": {},
   "outputs": [],
   "source": [
    "with open('data/seaslug.txt', mode='r') as file"
   ]
  }
 ],
 "metadata": {
  "kernelspec": {
   "display_name": "Python 3",
   "language": "python",
   "name": "python3"
  },
  "language_info": {
   "codemirror_mode": {
    "name": "ipython",
    "version": 3
   },
   "file_extension": ".py",
   "mimetype": "text/x-python",
   "name": "python",
   "nbconvert_exporter": "python",
   "pygments_lexer": "ipython3",
   "version": "3.7.1"
  }
 },
 "nbformat": 4,
 "nbformat_minor": 2
}
