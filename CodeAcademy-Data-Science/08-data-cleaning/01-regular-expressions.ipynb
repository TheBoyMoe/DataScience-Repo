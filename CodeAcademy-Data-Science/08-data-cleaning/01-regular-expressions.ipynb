{
 "cells": [
  {
   "cell_type": "markdown",
   "metadata": {},
   "source": [
    "# Regular Expressions\n",
    "\n",
    "A regular expression is a special sequence of characters that describe a pattern of text that should be found, or matched, in a string or document.\n",
    "\n",
    "By matching text, we can identify how often and where certain pieces of text occur, as well as have the opportunity to replace or update these pieces of text if needed.\n",
    "\n",
    "Regular expressions are used in a number of situations, including:\n",
    "\n",
    " - verifying and parsing user input, text files and code\n",
    " \n",
    " - examining test results\n",
    " \n",
    " - finding keywords in emails and web pages"
   ]
  },
  {
   "cell_type": "markdown",
   "metadata": {},
   "source": [
    "### Literals\n",
    "\n",
    "The simplest text we can match with regular expressions are literals. This is where our regular expression contains the exact text that we want to match, e.g. the regex `abc` will match the text `abc`.\n",
    "\n",
    "At times we want to match for just part of the text, e.g. match the regex `nan` in the text `I like bananas`.\n",
    "\n",
    "We can match both numerical digits, `0-9` as well as alphabetical characters and special characters, `()`, `@`, `[]`, etc.\n",
    "\n",
    "Regular expressions operate by moving character by character, from left to right, through a piece of text. When the regular expression finds a character that matches the first piece of the expression, it looks to find a continuous sequence of matching characters."
   ]
  },
  {
   "cell_type": "markdown",
   "metadata": {},
   "source": [
    "### Alternation\n",
    "\n",
    "When you want to match **either** possibility. Use a pipe, `|`, symbol. Allows us to match the characters on either side of the `|`. Thus the **regex** `baboons|gorillas` will match `baboons` in the text `I love baboons`, but will also match `gorillas` in  the text `I love gorillas`."
   ]
  },
  {
   "cell_type": "markdown",
   "metadata": {},
   "source": [
    "### Character Sets\n",
    "\n",
    "Denoted by a pair of brackets, `[]`, let us match one character from a series of characters, allowing for matches with incorrect or different spellings, introducing some flexibility.\n",
    "\n",
    "The regex con`[sc]`en`[sc]`us will match `consensus`, the correct spelling of the word, but also match the following three incorrect spellings: `concensus`, `consencus`, and `concencus`. The letters inside the first brackets, `s` and `c`, are the different possibilities for the character that comes after `con` and before `en`. For the 2nd set of brackets the match could be `s` or `c`.\n",
    "\n",
    "Thus the regex `[cat]` will match the characters `c`,`a`, or `t`, but not the text `cat`.\n",
    "\n",
    "By adding the carrot, `^`, symbol in front of a character set, we can **negate** the set, and match any character **NOT** in the set. Thus the character set `[^cat]` will match any character that is **NOT** `c`, `a`, or `t`.\n",
    "\n",
    "```py\n",
    "# Possible Solution 1\n",
    "# Regex: [chr]at\n",
    "# Possible Solution 2\n",
    "# Regex: [^ems]at\n",
    "```"
   ]
  },
  {
   "cell_type": "markdown",
   "metadata": {},
   "source": [
    "### Wildcards\n",
    "\n",
    "When we don't know what characters are in the text, just that there are some charaters, we can use the **wildcard** or `.` character.\n",
    "\n",
    "Wildcards will match any single character (letter, digit, symbol or whitespace) in a piece of text. They are useful when we do not care about the specific value of a character, but only that a character exists!\n",
    "\n",
    "To match any 9-character piece of text, we could use the regex `.........`. It will match `orangutan`, `marsupial` or any other 9-characer string.\n",
    "\n",
    "If you want to match an actual period in your text, use the escape, `\\`, charater. Thus, the regex `om\\.jo` woiuld match `T=tom.jones`."
   ]
  },
  {
   "cell_type": "markdown",
   "metadata": {},
   "source": [
    "### Ranges\n",
    "\n"
   ]
  },
  {
   "cell_type": "markdown",
   "metadata": {},
   "source": [
    "Ranges allow you to specify a range of characters without having to type out each single one. The `-` character allows us to specify that we are interested in matching a range of characters. When combined with a character set, you're matching any one character of the range to a single character in the text.\n",
    "\n",
    "Thus `[a-g]` is equivalent to `[abcdefg]`, `[0-9]` is equivalent to `[0123456789]`. You can also match multiple ranges with the same character set, e.g. `[A-Za-z0-9]` will match any upper or lowercase letter, or any digit. \n",
    "\n",
    "The regex `I adopted [2-9] [b-h]ats` will match the text `I adopted 4 bats` as well as `I adopted 8 cats` and even `I adopted 5 hats`."
   ]
  },
  {
   "cell_type": "markdown",
   "metadata": {},
   "source": [
    "### Shorthand Character Classes\n",
    "\n",
    "Allow you to represent common character ranges with a simplified notation, so making your regex's simpler to wrtite. Thus:\n",
    "\n",
    " - `\\w` - represents `[A-Za-z0-9_]`, and matches a single uppercase character, lowercase character, number or underscore.\n",
    " \n",
    " - `\\d` - represents `[0-9]`, and matches a single digit character.\n",
    " \n",
    " - `\\s` - represents `[ \\t\\r\\n\\f]`, whitespace characters, matching a single space, tab, carriage return, line break or form feed.\n",
    " \n",
    "The regex \\d\\s\\w\\w\\w\\w\\w\\w\\w matches a digit character, followed by a whitespace character, followed by 7 word characters. Thus the regex would matche the text `3 monkeys`.\n",
    "\n",
    "We also have the negated shorthand character classes. These shorthands will match any single character that is **NOT** in the regular shorthand classes.\n",
    "\n",
    " - `\\W` - **non-word character**, represents the regex range `[^A-Za-z0-9_]`, matching any character that is not included in the range represented by `\\w`.\n",
    " \n",
    " - `\\D` - **non-digit character**, represents the regex range `[^0-9]`, matching any character that is not included in the range represented by `\\d`.\n",
    " \n",
    " - `\\S` - **non-whitespace character**, represents the regex range `[^ \\t\\r\\n\\f]`, matching any character that is not included in the range represented by `\\s`."
   ]
  },
  {
   "cell_type": "markdown",
   "metadata": {},
   "source": [
    "### Grouping\n",
    "\n",
    "Grouping, denoted with paranthesis, `()`, lets us group parts of a regular expression together, allowing us to limit **alternation** to a particular part of the regex. Thus, the regex `I love (baboons|gorillas)` will match the text `I love baboons` or `I love gorillas`. The regex `I love baboons|gorillas` would match `I love baboons` or `gorillas`.\n",
    "\n",
    "The **grouping** is limited to within the `()`, the reach of `|` is limited to within the parenthesis."
   ]
  },
  {
   "cell_type": "markdown",
   "metadata": {},
   "source": [
    "### Quantifiers - Fixed\n",
    "\n",
    "Fixed quantifiers, denoted with `{}`, let us indicate the exact number of characters we wish to match for, or provide a range, e.g. between 3 and 6.\n",
    "\n",
    " - `\\w{3}` - will match for exactly 3 word characters\n",
    " \n",
    " - `\\w{4,7}` - will match at a minimum of 4 word characters and a maximum of 7 word characters.\n",
    " \n",
    "Thus `\\w\\w\\w\\w\\w\\w\\s\\w\\w\\w\\w\\w\\w` could be replaced with `\\w{6}\\s\\w{6}`.\n",
    "\n",
    "The regex `roa{3}r` will match the characters `ro` followed by 3 `a`s, and then the character `r`, such as in the text `roaaar`. The regex `roa{3,7}r` will match the characters `r`o followed by at least 3 `a`s and at most 7 `a`s, followed by an `r`, matching the strings `roaaar`, `roaaaaar` and `roaaaaaaar`.\n",
    "\n",
    "An important note is that quantifiers are considered to be **greedy**. This means that they will match the greatest quantity of characters they possibly can. For example, the regex `mo{2,4}` with match the text `moooo` in the string `moooo`, and not return a match of `moo`, or `mooo`. This is because the fixed quantifier wants to match the largest number of `o`s as possible, which is 4 in the string `moooo`."
   ]
  },
  {
   "cell_type": "markdown",
   "metadata": {},
   "source": [
    "### Quantifiers - Optional\n",
    "\n",
    "Optional quantiifers, indicated with a `?`, allow us to indicate a character in a regex that is optional, i.e. it can appear `0` or `1` time. The `?` only applies to the character directly before it. Thus, the regex `humou?r` matches `humor` or `humour`.\n",
    "\n",
    "With all quantifiers, we can take advantage of grouping to make even more advanced regexes. The regex `The monkey ate a (rotten)? banana` will match both `The monkey ate a rotten banana` and `The monkey ate a banana`, the whole grouping has been made optional.\n",
    "\n",
    "Since the `?` is a metacharacter, you need to use the escape character in your regex in order to match a question mark `?` in a piece of text."
   ]
  },
  {
   "cell_type": "markdown",
   "metadata": {},
   "source": [
    "### Quantifiers - 0 or More, 1 or More\n",
    "\n",
    "We can use the astrix, `*`, to match the preceding character `0` or more times. This means that the character doesn't need to appear, can appear once, or can appear many many times.\n",
    "\n",
    "Thus, the regex `meo*w` will match `me`, followed by 0 or more `o`s, followed by a `w`, e.g. `mew`, `meow`, `meooow`, and `meoooooooooooow`, are all valid matches.\n",
    "\n",
    "We can also use the plus symbol, `+`, to match the preceding character `1` or more times.\n",
    "\n",
    "The regex `meo+w` will match the characters `me`, followed by 1 or more `o`s, followed by a `w`. Thus the regex will match `meow`, `meooow`, and `meoooooooooooow`, but not `mew`.\n",
    "\n",
    "In order to match the symbols `*` and `+` in a selection of text, you need to use the escape character in your regex."
   ]
  },
  {
   "cell_type": "markdown",
   "metadata": {},
   "source": [
    "#### phone number regex\n",
    "\n",
    "```py\n",
    "\\d? ?\\(?\\d{3}\\)?-? ?\\.?\\d{3}-? ?\\.?\\d{4}\n",
    "```\n",
    "Matches:\n",
    "\n",
    "```py\n",
    "718-555-3810\n",
    "9175552849\n",
    "1 212 555 3821\n",
    "(917)5551298\n",
    "212.555.8731\n",
    "```"
   ]
  },
  {
   "cell_type": "markdown",
   "metadata": {},
   "source": [
    "#### Example\n",
    "\n",
    "The regular expression `\\w{1} \\w+ \\d* \\w+! ` does NOT match:\n",
    "\n",
    "`I adopted 14 meerkats!`\n",
    "\n",
    "`I love 5 giraffes!`\n",
    "\n",
    "`I rescued 2 alligators!`\n",
    "\n",
    "`I hate snakes!`\n",
    "\n",
    "Ans: The regex will not match the text `I hate snakes!` because there is only one space character between the characters matched by `\\w+` and `\\w+!`, where the regex calls for two space characters."
   ]
  },
  {
   "cell_type": "markdown",
   "metadata": {},
   "source": [
    "### Anchors\n",
    "\n",
    "We can use the **anchors** `^` and `$` symbols to match text at the start and end of a string, respectively.\n",
    "\n",
    "The regex `^Monkeys: my mortal enemy$` will match the text `Monkeys: my mortal enemy` exactly. The `^` ensures the the string starts with `Monkeys`, and the `$` ensures the string ends with `enemy`.\n",
    "\n",
    "In order to match the symbols `^` and `$`, you need to use the escape character in your regex."
   ]
  },
  {
   "cell_type": "markdown",
   "metadata": {},
   "source": [
    "### Resource Links\n",
    "\n",
    "[Literals](https://s3.amazonaws.com/codecademy-content/courses/regex/build/index_all.html?query=0)  \n",
    "[Alteration](https://s3.amazonaws.com/codecademy-content/courses/regex/build/index_all.html?query=1)  \n",
    "[Character Sets](https://s3.amazonaws.com/codecademy-content/courses/regex/build/index_all.html?query=2)  \n",
    "[Wildcards](https://s3.amazonaws.com/codecademy-content/courses/regex/build/index_all.html?query=3)  \n",
    "[Ranges](https://s3.amazonaws.com/codecademy-content/courses/regex/build/index_all.html?query=4)  \n",
    "[Shorthand Character Classes](https://s3.amazonaws.com/codecademy-content/courses/regex/build/index_all.html?query=5)  \n",
    "[Grouping](https://s3.amazonaws.com/codecademy-content/courses/regex/build/index_all.html?query=6)  \n",
    "[Fixed Quantifiers](https://s3.amazonaws.com/codecademy-content/courses/regex/build/index_all.html?query=7)  \n",
    "[Optional Quantifier](https://s3.amazonaws.com/codecademy-content/courses/regex/build/index_all.html?query=8)  \n",
    "[Quantifiers - 0 or more, 1 or more](https://s3.amazonaws.com/codecademy-content/courses/regex/build/index_all.html?query=9)  \n",
    "[Anchors](https://s3.amazonaws.com/codecademy-content/courses/regex/build/index_all.html?query=10)"
   ]
  }
 ],
 "metadata": {
  "kernelspec": {
   "display_name": "Python 3",
   "language": "python",
   "name": "python3"
  },
  "language_info": {
   "codemirror_mode": {
    "name": "ipython",
    "version": 3
   },
   "file_extension": ".py",
   "mimetype": "text/x-python",
   "name": "python",
   "nbconvert_exporter": "python",
   "pygments_lexer": "ipython3",
   "version": "3.7.1"
  }
 },
 "nbformat": 4,
 "nbformat_minor": 2
}
