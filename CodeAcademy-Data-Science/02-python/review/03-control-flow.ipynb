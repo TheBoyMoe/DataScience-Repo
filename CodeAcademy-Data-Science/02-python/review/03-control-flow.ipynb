{
 "cells": [
  {
   "cell_type": "markdown",
   "metadata": {},
   "source": [
    "# Control Flow\n",
    "\n",
    "In order to build control flow into our program we use `Boolean Expressions`, statemetns that evaluate as either `True` or `False`. You can create a boolean expression by using `relational operators` or `comparators`, `>`, `>=`, `<`, `<=`, `==` and `!=`. Relational operators compare two items and return either `True` or `False`.\n",
    "\n",
    "You must use a Relational operator, otherwise a `SyntaxError` is raised."
   ]
  },
  {
   "cell_type": "code",
   "execution_count": 12,
   "metadata": {},
   "outputs": [
    {
     "ename": "SyntaxError",
     "evalue": "invalid syntax (<ipython-input-12-4d08b0d93cf6>, line 1)",
     "output_type": "error",
     "traceback": [
      "\u001b[0;36m  File \u001b[0;32m\"<ipython-input-12-4d08b0d93cf6>\"\u001b[0;36m, line \u001b[0;32m1\u001b[0m\n\u001b[0;31m    if 7 = 0:\u001b[0m\n\u001b[0m         ^\u001b[0m\n\u001b[0;31mSyntaxError\u001b[0m\u001b[0;31m:\u001b[0m invalid syntax\n"
     ]
    }
   ],
   "source": [
    "if 7 = 0:\n",
    "    print('condition evaluates as True')"
   ]
  },
  {
   "cell_type": "markdown",
   "metadata": {},
   "source": [
    "`True` and `False` are `bool` types. Any variable assigned one of these values is a `boolean variable`. The easiest way to create one is to assign `True` or `False` to a variable.\n",
    "\n",
    "```py\n",
    "variable_one = True\n",
    "```\n",
    "\n",
    "You can also assign the result of a boolean expression to a variable(boolean variable)\n",
    "\n",
    "```py\n",
    "variable_two = 7 != 5\n",
    "```"
   ]
  },
  {
   "cell_type": "markdown",
   "metadata": {},
   "source": [
    "### if Statements\n",
    "\n",
    "We can check a conditional statement, boolean expression, with an `if` statement. It is the building block of control flow.\n",
    "\n",
    "```py\n",
    "if 7 > 5:\n",
    "    print('7 is greater than 5')\n",
    "```\n",
    "\n",
    "The colon, `:` tells the interpreter that a code block follows and is ONLY excuted if the condition, `7 > 5` is `True`."
   ]
  },
  {
   "cell_type": "markdown",
   "metadata": {},
   "source": [
    "### Logical Operators\n",
    "\n",
    "Often, we will require more than one boolean expression in a conditional statement, e.g. two events need to occur for the condition to be `True`. In these cases, you can build larger boolean expressions using `boolean` or `logical` operators, `and`, `or` and `not`. These operators combine smaller boolean expressions into larger boolean expressions.\n",
    "\n",
    "`and` - combines two boolean conditions, both must evaluate as `True`.\n",
    "\n",
    "`or` - either condition must evaluate as `True`. If the 1st is `True`, the 2nd is not evaluated.\n",
    "\n",
    "`not` - when applied to any boolean expression it reverses the boolean value. So if we have a `True` statement and apply a `not` operator we get a `False` statement. Evuivalent to the `!` operator in other languages."
   ]
  },
  {
   "cell_type": "code",
   "execution_count": 1,
   "metadata": {},
   "outputs": [
    {
     "data": {
      "text/plain": [
       "True"
      ]
     },
     "execution_count": 1,
     "metadata": {},
     "output_type": "execute_result"
    }
   ],
   "source": [
    "not True == False"
   ]
  },
  {
   "cell_type": "code",
   "execution_count": 2,
   "metadata": {},
   "outputs": [
    {
     "data": {
      "text/plain": [
       "False"
      ]
     },
     "execution_count": 2,
     "metadata": {},
     "output_type": "execute_result"
    }
   ],
   "source": [
    "not 7 > 5"
   ]
  },
  {
   "cell_type": "code",
   "execution_count": 3,
   "metadata": {},
   "outputs": [
    {
     "data": {
      "text/plain": [
       "True"
      ]
     },
     "execution_count": 3,
     "metadata": {},
     "output_type": "execute_result"
    }
   ],
   "source": [
    "not 7 < 0"
   ]
  },
  {
   "cell_type": "markdown",
   "metadata": {},
   "source": [
    "### elif and else statements\n",
    "\n",
    "`else` statement is executed when the `if` condition evaluates as `False`\n",
    "\n",
    "```py\n",
    "if 7 < 5:\n",
    "    # do something\n",
    "else:\n",
    "    # do something else\n",
    "```\n",
    "\n",
    "The `elif` statement allows us to add additional checks. By combining `if`, `elif` and `else` statements we can define the order in which we want these check to be carried out since statements are checked from top to bottom. The final `else` statement is the default which is executed if all the other checks evaluate as `False`.\n",
    "\n",
    "```py\n",
    "if a > 100:\n",
    "    # do something to all values > 100\n",
    "elif a > 80:\n",
    "    # do some thing to all values between 81 and 100\n",
    "elif a > 60:\n",
    "    # do this instead to all values between 61 and 80\n",
    "else:\n",
    "    # all values 60 and below\n",
    "```\n",
    "\n",
    "By using `if`, `elif` and `else` together we ensure that only one code block is executed, since the 1st match is executed and the remaing statemetns skipped. If we simply used multiple `if` checks, it would not matter which order they were in, each single one would be evaluated and more than one could, potentially be executed."
   ]
  },
  {
   "cell_type": "code",
   "execution_count": 17,
   "metadata": {},
   "outputs": [
    {
     "name": "stdout",
     "output_type": "stream",
     "text": [
      "Is this printed?\n",
      "This might be printed.\n"
     ]
    }
   ],
   "source": [
    "def print_something(x):\n",
    "  if x <= 2:\n",
    "    print(\"This is printed\")\n",
    "  if x <= 4:\n",
    "    print(\"This is also printed\")\n",
    "  if x <= 6:\n",
    "    print(\"Is this printed?\")\n",
    "  if x <= 8:\n",
    "    print(\"This might be printed.\")\n",
    "\n",
    "print_something(5)"
   ]
  },
  {
   "cell_type": "markdown",
   "metadata": {},
   "source": [
    "### Try and Except Statements\n",
    "\n",
    "We can also use `try` and `except` statements to build control flow in to our code. `try` and `except` statements are used to check, and catch, potential errors that might occur. The general syntax:\n",
    "\n",
    "```py\n",
    "try:\n",
    "    # execute some code\n",
    "    # execute some more\n",
    "except ErrorName:\n",
    "    # execute should 'ErrorName' be raised\n",
    "```\n",
    "\n",
    "If during the excutionof the code in the `try` block an exception is raised that matches the keyword in the `except` statement, then the try statement will terminate and the `except` code block will execute. Otherwise the `try` block terminates with the exception and code execution is terminated.\n",
    "\n",
    "`try` and `except` statements allow you to handle exceptions gracefully and prevent the application from crashing."
   ]
  },
  {
   "cell_type": "code",
   "execution_count": 4,
   "metadata": {},
   "outputs": [
    {
     "ename": "ZeroDivisionError",
     "evalue": "division by zero",
     "output_type": "error",
     "traceback": [
      "\u001b[0;31m---------------------------------------------------------------------------\u001b[0m",
      "\u001b[0;31mZeroDivisionError\u001b[0m                         Traceback (most recent call last)",
      "\u001b[0;32m<ipython-input-4-b1d070507cdc>\u001b[0m in \u001b[0;36m<module>\u001b[0;34m()\u001b[0m\n\u001b[1;32m      1\u001b[0m \u001b[0;32mtry\u001b[0m\u001b[0;34m:\u001b[0m\u001b[0;34m\u001b[0m\u001b[0m\n\u001b[0;32m----> 2\u001b[0;31m     \u001b[0;36m5\u001b[0m\u001b[0;34m/\u001b[0m\u001b[0;36m0\u001b[0m\u001b[0;34m\u001b[0m\u001b[0m\n\u001b[0m\u001b[1;32m      3\u001b[0m \u001b[0;32mexcept\u001b[0m \u001b[0mTypeError\u001b[0m\u001b[0;34m:\u001b[0m\u001b[0;34m\u001b[0m\u001b[0m\n\u001b[1;32m      4\u001b[0m     \u001b[0mprint\u001b[0m\u001b[0;34m(\u001b[0m\u001b[0;34m'Type error thrown'\u001b[0m\u001b[0;34m)\u001b[0m\u001b[0;34m\u001b[0m\u001b[0m\n\u001b[1;32m      5\u001b[0m \u001b[0;34m\u001b[0m\u001b[0m\n",
      "\u001b[0;31mZeroDivisionError\u001b[0m: division by zero"
     ]
    }
   ],
   "source": [
    "try:\n",
    "    5/0\n",
    "except TypeError:\n",
    "    print('Type error thrown')\n",
    "\n",
    "print('You handled it!') # not reached"
   ]
  },
  {
   "cell_type": "code",
   "execution_count": 7,
   "metadata": {},
   "outputs": [
    {
     "name": "stdout",
     "output_type": "stream",
     "text": [
      "You tried dividing by 0\n",
      "You handled it!\n"
     ]
    }
   ],
   "source": [
    "try:\n",
    "    5/0\n",
    "except ZeroDivisionError:\n",
    "    print('You tried dividing by 0')\n",
    "    \n",
    "# excution continues when raised exceptions are handled gracefully \n",
    "print('You handled it!') "
   ]
  },
  {
   "cell_type": "markdown",
   "metadata": {},
   "source": [
    "We can also have multiple except statemetnts when potentially more than one type of error occurs:"
   ]
  },
  {
   "cell_type": "code",
   "execution_count": 8,
   "metadata": {},
   "outputs": [
    {
     "name": "stdout",
     "output_type": "stream",
     "text": [
      "A ZeroDivisionError occurred.\n"
     ]
    }
   ],
   "source": [
    "def divide_two_numbers(x, y):\n",
    "  result = x / y\n",
    "  return result\n",
    "\n",
    "try:\n",
    "  result = divide_two_numbers(2,0)\n",
    "  print(result)\n",
    "except NameError:\n",
    "  print(\"A NameError occurred.\")\n",
    "except ValueError:\n",
    "  print(\"A ValueError occurred.\") \n",
    "except ZeroDivisionError:\n",
    "  print(\"A ZeroDivisionError occurred.\")"
   ]
  },
  {
   "cell_type": "code",
   "execution_count": 18,
   "metadata": {},
   "outputs": [
    {
     "data": {
      "text/plain": [
       "True"
      ]
     },
     "execution_count": 18,
     "metadata": {},
     "output_type": "execute_result"
    }
   ],
   "source": [
    "(4 <= 2 * 3) and (7 + 1 == 8)"
   ]
  },
  {
   "cell_type": "code",
   "execution_count": 19,
   "metadata": {},
   "outputs": [
    {
     "data": {
      "text/plain": [
       "True"
      ]
     },
     "execution_count": 19,
     "metadata": {},
     "output_type": "execute_result"
    }
   ],
   "source": [
    "(12 > 6 * 2) or ( 7 >= 3 + 4)"
   ]
  }
 ],
 "metadata": {
  "kernelspec": {
   "display_name": "Python 3",
   "language": "python",
   "name": "python3"
  },
  "language_info": {
   "codemirror_mode": {
    "name": "ipython",
    "version": 3
   },
   "file_extension": ".py",
   "mimetype": "text/x-python",
   "name": "python",
   "nbconvert_exporter": "python",
   "pygments_lexer": "ipython3",
   "version": "3.7.0"
  }
 },
 "nbformat": 4,
 "nbformat_minor": 2
}
