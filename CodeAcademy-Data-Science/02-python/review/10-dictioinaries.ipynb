{
 "cells": [
  {
   "cell_type": "markdown",
   "metadata": {},
   "source": [
    "# Dictionaries\n",
    "\n",
    "A dictionary is an unordered set(collection) of **key:value** pairs, separated by commas and enclosed in a set of `{}`. A dictionary can be empty, simply a set of `{}`.\n",
    "\n",
    "Dictionaries provide a way to **map** pieces of data to one another, enabling values to be quickly found.\n",
    "\n",
    " - Keys can by **strings** or **numbers**\n",
    " \n",
    " - they **DONT** have to be unique, latter duplicate keys will overwrite earlier ones\n",
    " \n",
    " - values can by any data type, string, integer, float, boolean, list, tuple, dictionary, etc\n",
    " \n",
    " \n",
    "NOTE:\n",
    "\n",
    "Keys can ONLY be data types that are **hashable** - values that are immutable, i.e. strings and numbers(or even booleans). Lists and dictionaries are **mutable** data types and so are **unhashable**. The interpreter will raise a `TypeError` exception - `unhashable type` if you try.\n",
    "\n",
    "Dictionaries in Python rely on each key having a hash value, a specific identifier for the key. If the key can change, that hash value would not be reliable."
   ]
  },
  {
   "cell_type": "code",
   "execution_count": 14,
   "metadata": {},
   "outputs": [
    {
     "data": {
      "text/plain": [
       "{'str': 'new value', 2: 3, 2.3: 'value', 3: 5}"
      ]
     },
     "execution_count": 14,
     "metadata": {},
     "output_type": "execute_result"
    }
   ],
   "source": [
    "map_1 = {'str': 3, 2: 'value', 2.3: 'value', 3: 5, 2: 3, 'str': 'new value'}\n",
    "map_1"
   ]
  },
  {
   "cell_type": "code",
   "execution_count": 15,
   "metadata": {},
   "outputs": [
    {
     "data": {
      "text/plain": [
       "{'a': [1, 2, 3, 4, 5],\n",
       " 'b': (2, 4, 6, 7),\n",
       " 4: True,\n",
       " 9.8: {'a': 3, 'b': 4},\n",
       " True: False}"
      ]
     },
     "execution_count": 15,
     "metadata": {},
     "output_type": "execute_result"
    }
   ],
   "source": [
    "map_2 = {'a': [1,2,3,4,5], 'b': (2,4,6,7), 4: True, 9.8: {'a': 3, 'b': 4}, True: False}\n",
    "map_2"
   ]
  },
  {
   "cell_type": "markdown",
   "metadata": {},
   "source": [
    "## Adding a new Key"
   ]
  },
  {
   "cell_type": "markdown",
   "metadata": {},
   "source": [
    "To add a new **key:value pair**, use the following syntax:\n",
    "\n",
    "```py\n",
    "my_dic['new_key'] = 'new_value'\n",
    "```\n",
    "To add multiple keys, use the `.update()`, passing it a dictionary of **key:value** pairs    "
   ]
  },
  {
   "cell_type": "code",
   "execution_count": 16,
   "metadata": {},
   "outputs": [
    {
     "data": {
      "text/plain": [
       "{'living room': 21,\n",
       " 'kitchen': 23,\n",
       " 'bedroom': 20,\n",
       " 'pantry': 22,\n",
       " 'guest room': 25,\n",
       " 'patio': 34}"
      ]
     },
     "execution_count": 16,
     "metadata": {},
     "output_type": "execute_result"
    }
   ],
   "source": [
    "sensors =  {\"living room\": 21, \"kitchen\": 23, \"bedroom\": 20}\n",
    "sensors.update({\"pantry\": 22, \"guest room\": 25, \"patio\": 34})\n",
    "sensors"
   ]
  },
  {
   "cell_type": "markdown",
   "metadata": {},
   "source": [
    "Whether adding single, or multiple **key:value** pairs, if that particular **key** already exists, it's value will be overwritten with the new value"
   ]
  },
  {
   "cell_type": "code",
   "execution_count": 18,
   "metadata": {},
   "outputs": [
    {
     "data": {
      "text/plain": [
       "{'living room': 21,\n",
       " 'kitchen': 17,\n",
       " 'bedroom': 20,\n",
       " 'pantry': 22,\n",
       " 'guest room': 18,\n",
       " 'patio': 34,\n",
       " 'garage': 16}"
      ]
     },
     "execution_count": 18,
     "metadata": {},
     "output_type": "execute_result"
    }
   ],
   "source": [
    "sensors.update({'guest room': 18, 'kitchen': 17, 'garage': 16})\n",
    "sensors"
   ]
  },
  {
   "cell_type": "markdown",
   "metadata": {},
   "source": [
    "## Combine Two Lists into a Dictionary\n",
    "\n",
    "We can combine two lists into a dictionary using a `list comprehension` using the following syntax:\n",
    "\n",
    "```py\n",
    "my_dic = {key:value for key, value in zip(list_of_keys, list_of_values)}\n",
    "```\n",
    "The values of the first list become the dictionary keys, the values of the 2nd list become the dictionaries values."
   ]
  },
  {
   "cell_type": "code",
   "execution_count": 19,
   "metadata": {},
   "outputs": [
    {
     "data": {
      "text/plain": [
       "{'Jenny': 61, 'Alexus': 70, 'Sam': 67, 'Grace': 64}"
      ]
     },
     "execution_count": 19,
     "metadata": {},
     "output_type": "execute_result"
    }
   ],
   "source": [
    "names = ['Jenny', 'Alexus', 'Sam', 'Grace']\n",
    "heights = [61, 70, 67, 64]\n",
    "students = {name:height for name, height in zip(names, heights)}\n",
    "students"
   ]
  },
  {
   "cell_type": "code",
   "execution_count": 20,
   "metadata": {},
   "outputs": [
    {
     "data": {
      "text/plain": [
       "{'espresso': 64, 'chai': 40, 'decaf': 0, 'drip': 120}"
      ]
     },
     "execution_count": 20,
     "metadata": {},
     "output_type": "execute_result"
    }
   ],
   "source": [
    "drinks = [\"espresso\", \"chai\", \"decaf\", \"drip\"]\n",
    "caffeine = [64, 40, 0, 120]\n",
    "zipped_drinks = zip(drinks, caffeine)\n",
    "drinks_to_caffeine = {drink:caffeine for drink, caffeine in zipped_drinks}\n",
    "drinks_to_caffeine"
   ]
  },
  {
   "cell_type": "code",
   "execution_count": null,
   "metadata": {},
   "outputs": [],
   "source": []
  }
 ],
 "metadata": {
  "kernelspec": {
   "display_name": "Python 3",
   "language": "python",
   "name": "python3"
  },
  "language_info": {
   "codemirror_mode": {
    "name": "ipython",
    "version": 3
   },
   "file_extension": ".py",
   "mimetype": "text/x-python",
   "name": "python",
   "nbconvert_exporter": "python",
   "pygments_lexer": "ipython3",
   "version": "3.7.1"
  }
 },
 "nbformat": 4,
 "nbformat_minor": 2
}
