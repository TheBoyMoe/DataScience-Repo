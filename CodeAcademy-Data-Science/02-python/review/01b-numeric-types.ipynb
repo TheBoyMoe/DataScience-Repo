{
 "cells": [
  {
   "cell_type": "markdown",
   "metadata": {},
   "source": [
    "# Numeric Types"
   ]
  },
  {
   "cell_type": "markdown",
   "metadata": {},
   "source": [
    "Pythons core numeric types are integers and floats, but it also supports complex numbers, and writing integers as hexadecimal, octal or binary values.\n",
    "\n",
    "Sets are also treated as numeric types(see separate note)\n",
    "\n",
    "Integers in Python have **unlimited precesion** - they can grow as large as your systems memory space allows.\n",
    "\n",
    "Python has a number of built-in mathematical function, e.g. `abs()`, `pow()`, `round()`, `int()`, `min()`, `max()`, `sum()`, etc.\n",
    "\n",
    "There a number of utility modules, e.g. `random`, `math`, etc, which you need to import, e.g. `import math`.\n",
    "\n",
    "Python 3.x perform true division. Thus `5/2` will return a decimal. In Python 2.x, the fractional part would be discarded(the number is truncated), returning the rounded down integer. To get true division with Python 2.x, use `//`, e.g. `5 // 2`.\n",
    "\n",
    "Integers in Python are precise, and there is no limit on their size.\n",
    "\n",
    "Floats lack precission, they cannot represent some values exactly due to their limited number of bits. Thus, `1.1 + 2.2 != 3.3`"
   ]
  },
  {
   "cell_type": "code",
   "execution_count": 3,
   "metadata": {},
   "outputs": [
    {
     "data": {
      "text/plain": [
       "False"
      ]
     },
     "execution_count": 3,
     "metadata": {},
     "output_type": "execute_result"
    }
   ],
   "source": [
    "1.1 + 2.2 == 3.3"
   ]
  },
  {
   "cell_type": "code",
   "execution_count": 4,
   "metadata": {},
   "outputs": [
    {
     "data": {
      "text/plain": [
       "3.3000000000000003"
      ]
     },
     "execution_count": 4,
     "metadata": {},
     "output_type": "execute_result"
    }
   ],
   "source": [
    "1.1 + 2.2"
   ]
  },
  {
   "cell_type": "code",
   "execution_count": 5,
   "metadata": {},
   "outputs": [
    {
     "data": {
      "text/plain": [
       "3.3"
      ]
     },
     "execution_count": 5,
     "metadata": {},
     "output_type": "execute_result"
    }
   ],
   "source": [
    "(11 + 22) / 10"
   ]
  },
  {
   "cell_type": "markdown",
   "metadata": {},
   "source": [
    "### Python Expression Operations and Precedence\n",
    "\n",
    "![table 1](imgs/table-1.png)\n",
    "![table 2](imgs/table-2.png)\n",
    "![table 3](imgs/table-3.png)"
   ]
  },
  {
   "cell_type": "markdown",
   "metadata": {},
   "source": [
    "**Note**:\n",
    "\n",
    "- The `X // Y` floor division expression always truncates fractional remainders.\n",
    "- The syntax `[...]` is used for both list literals and list comprehension expressions.\n",
    "- The syntax `(...)` is used for tuples and expression grouping, as well as generator expressions.\n",
    "- The syntax `{...}` is used for dictionary literals, set literals and both dictionary and set comprehensions.\n",
    "- The `yield` expression returns `send(...)` arguments in generators.\n",
    "- The `if/else` selection expression is a shorthand for a multiline `if` statement.\n",
    "- Comparison operators may be chained: `X < Y < Z` produces the same result          as `X < Y and Y < Z`.\n",
    "\n",
    "**Operators lower in the table have higher precedence**\n",
    "\n",
    "Operators in the same row group from left to right when combined, except for:\n",
    "\n",
    "**exponentiation which groups right to left**\n",
    "\n",
    "**comparisons which chain left to right**\n",
    "\n",
    "You can **ignore** precendence if you manually group your expressions using `()`, so they're executed in the order you wish - overrides Python's precedence rules."
   ]
  },
  {
   "cell_type": "markdown",
   "metadata": {},
   "source": [
    "### Mixed types are converted up\n",
    "\n",
    "Where you have mixed numeric types in expressions or comparisons, Python first converts operands up to the type of the most complicated operand, and then performs the math(or comparison) on same-type operands.\n",
    "\n",
    "**Order**:\n",
    "\n",
    "integers are simpler than floating-point numbers, which are simpler than complex numbers.\n",
    "\n",
    "When an integer is mixed with a floating point, the integer is converted up to a floating-point value first, and floating-point math yields the floating-point result:"
   ]
  },
  {
   "cell_type": "code",
   "execution_count": 1,
   "metadata": {},
   "outputs": [
    {
     "data": {
      "text/plain": [
       "41.233"
      ]
     },
     "execution_count": 1,
     "metadata": {},
     "output_type": "execute_result"
    }
   ],
   "source": [
    "40 + 1.233"
   ]
  },
  {
   "cell_type": "markdown",
   "metadata": {},
   "source": [
    "Similarly, any mixed-type expression where one operand is a complex number results in the other operand being converted up to a complex number, and the expression yields a complex result.\n",
    "\n",
    "You can manually convert types to end up with a particular type using the buiit-in `int()` and `float()` methods.\n",
    "\n",
    "**Note**:\n",
    "\n",
    "These conversion types only apply between numeric types.\n",
    "\n",
    "Python **does not** convert across any other type boundaries automatically."
   ]
  },
  {
   "cell_type": "markdown",
   "metadata": {},
   "source": [
    "### Overloading Operators\n",
    "\n",
    "All Python operators may be overloaded, a custom implementation provided.\n",
    "\n",
    "Python itself automatically overloads some operators, such that they perform different actions depending on the type of built-in objects being processed. For example, the `+` operator performs addition when applied to  numbers but performs concatenation when applied to sequence objects such as strings and lists.\n",
    "\n",
    "This property is usually called polymorphism — a term indicating that the meaning of an operation depends on the type of the objects being operated on."
   ]
  },
  {
   "cell_type": "markdown",
   "metadata": {},
   "source": [
    "### Numerical Comparison\n",
    "\n",
    "The expression (A < B < C), for instance, tests whether B is between A and C; it is equivalent to the Boolean test (A < B and B < C). \n",
    "\n",
    "Thus (X < Y > Z) is equivalent to (X < Y and Y > Z)\n",
    "\n",
    "1 == 2 < 3  # Same as: 1 == 2 and 2 < 3\n",
    "#=> False"
   ]
  },
  {
   "cell_type": "markdown",
   "metadata": {},
   "source": [
    "### Numeric Tools\n",
    "\n",
    "**Random**\n",
    "\n",
    "Not built-in, must be imported. Provides a number of useful tools:\n",
    "\n",
    "`.random()` generate a random float between 0 and 1.  \n",
    "`.randint()` generate a random integer between the 1st and 2nd argument, inclusively.  \n",
    "`.choice()` select an item at random from a sequence  \n",
    "`.shuffle()` randomly shuffle a list of items  "
   ]
  },
  {
   "cell_type": "code",
   "execution_count": 13,
   "metadata": {},
   "outputs": [
    {
     "name": "stdout",
     "output_type": "stream",
     "text": [
      "f\n"
     ]
    },
    {
     "data": {
      "text/plain": [
       "['b', 'f', 'd', 'e', 'h', 'a', 'c', 'g']"
      ]
     },
     "execution_count": 13,
     "metadata": {},
     "output_type": "execute_result"
    }
   ],
   "source": [
    "import random\n",
    "\n",
    "lst = ['a', 'b', 'c', 'd', 'e', 'f', 'g', 'h']\n",
    "print(random.choice(lst))\n",
    "random.shuffle(lst)\n",
    "lst"
   ]
  }
 ],
 "metadata": {
  "kernelspec": {
   "display_name": "Python 3",
   "language": "python",
   "name": "python3"
  },
  "language_info": {
   "codemirror_mode": {
    "name": "ipython",
    "version": 3
   },
   "file_extension": ".py",
   "mimetype": "text/x-python",
   "name": "python",
   "nbconvert_exporter": "python",
   "pygments_lexer": "ipython3",
   "version": "3.6.7"
  }
 },
 "nbformat": 4,
 "nbformat_minor": 2
}
