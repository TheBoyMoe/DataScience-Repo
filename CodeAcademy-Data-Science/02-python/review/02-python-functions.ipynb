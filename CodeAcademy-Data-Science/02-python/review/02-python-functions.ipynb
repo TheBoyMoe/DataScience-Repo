{
 "cells": [
  {
   "cell_type": "markdown",
   "metadata": {},
   "source": [
    "# Pyhton Functions"
   ]
  },
  {
   "cell_type": "markdown",
   "metadata": {},
   "source": [
    "### Defining Functions\n",
    "\n",
    "Functions must have a heading with an indented block of code.\n",
    "\n",
    "The heading starts with the `def` keyword(indecates we're defining a function), followed by the function name(snake_case format), followed by parenthesis, `()` and a colon `:`.\n",
    "\n",
    "The indented block performs the operation. Python does not use braces `{}` to define code blocks. Use 2 or 4 spaces, but be consistent.\n",
    "\n",
    "The parenthesis can accept zero, one or more parameters, separated by commas `,`. \n",
    "\n",
    "```py\n",
    "def my_function(param(s)):\n",
    "    # do something\n",
    "    # do something\n",
    "```\n",
    "\n",
    "You can define a function without a function body by using the `pass` keyword, stops the interpreter from raising a `SyntaxError`:\n",
    "\n",
    "```py\n",
    "def my_other_function():\n",
    "    pass\n",
    "```"
   ]
  },
  {
   "cell_type": "code",
   "execution_count": 1,
   "metadata": {},
   "outputs": [
    {
     "ename": "SyntaxError",
     "evalue": "unexpected EOF while parsing (<ipython-input-1-8d2ba8d23c17>, line 1)",
     "output_type": "error",
     "traceback": [
      "\u001b[0;36m  File \u001b[0;32m\"<ipython-input-1-8d2ba8d23c17>\"\u001b[0;36m, line \u001b[0;32m1\u001b[0m\n\u001b[0;31m    def my_other_function():\u001b[0m\n\u001b[0m                            ^\u001b[0m\n\u001b[0;31mSyntaxError\u001b[0m\u001b[0;31m:\u001b[0m unexpected EOF while parsing\n"
     ]
    }
   ],
   "source": [
    "def my_other_function():"
   ]
  },
  {
   "cell_type": "markdown",
   "metadata": {},
   "source": [
    "### Function Parameters\n",
    "\n",
    "Each parameter is just a placeholder for a value that is passed to the function when it is executed. Any parameters that are defined **MUST** be passed to the function as arguments when it is called, otherwise a `TypreError` is thrown."
   ]
  },
  {
   "cell_type": "code",
   "execution_count": 2,
   "metadata": {},
   "outputs": [],
   "source": [
    "def my_function(a, b):\n",
    "    print(a,b)"
   ]
  },
  {
   "cell_type": "code",
   "execution_count": 3,
   "metadata": {},
   "outputs": [
    {
     "ename": "TypeError",
     "evalue": "my_function() missing 2 required positional arguments: 'a' and 'b'",
     "output_type": "error",
     "traceback": [
      "\u001b[0;31m---------------------------------------------------------------------------\u001b[0m",
      "\u001b[0;31mTypeError\u001b[0m                                 Traceback (most recent call last)",
      "\u001b[0;32m<ipython-input-3-33cb1b07ff33>\u001b[0m in \u001b[0;36m<module>\u001b[0;34m()\u001b[0m\n\u001b[1;32m      1\u001b[0m \u001b[0;31m# use a parenthesis, (), following the function name to invoke the function\u001b[0m\u001b[0;34m\u001b[0m\u001b[0;34m\u001b[0m\u001b[0m\n\u001b[0;32m----> 2\u001b[0;31m \u001b[0mmy_function\u001b[0m\u001b[0;34m(\u001b[0m\u001b[0;34m)\u001b[0m\u001b[0;34m\u001b[0m\u001b[0m\n\u001b[0m",
      "\u001b[0;31mTypeError\u001b[0m: my_function() missing 2 required positional arguments: 'a' and 'b'"
     ]
    }
   ],
   "source": [
    "# use a parenthesis, (), following the function name to invoke the function\n",
    "my_function()"
   ]
  },
  {
   "cell_type": "markdown",
   "metadata": {},
   "source": [
    "Primitive values passed as arguments to functions are copied. Objects, e.g. lists and dictionaries are passed as a copy of the reference - it points to the same object. Any changes made to the object in the function are made to the same object."
   ]
  },
  {
   "cell_type": "markdown",
   "metadata": {},
   "source": [
    "Arguments are passed to the function in the order in which they are defined, `positional arguments`.\n",
    "\n",
    "However, we can also pass arguments as `keyword arguments`, where we explicitly refer to the argument's placeholder name in the function call. This means that we can pass the arguments out of order at the time of the functions invocation. Write the function as normal. We simply refer to the 'placeholder` names when the function is called."
   ]
  },
  {
   "cell_type": "code",
   "execution_count": 4,
   "metadata": {},
   "outputs": [
    {
     "name": "stdout",
     "output_type": "stream",
     "text": [
      "10 5\n"
     ]
    }
   ],
   "source": [
    "def my_function_two(value_one, value_two):\n",
    "    print(value_one, value_two)\n",
    "\n",
    "my_function_two(value_two=5, value_one=10)"
   ]
  },
  {
   "cell_type": "code",
   "execution_count": 5,
   "metadata": {},
   "outputs": [
    {
     "name": "stdout",
     "output_type": "stream",
     "text": [
      "5 10\n"
     ]
    }
   ],
   "source": [
    "my_function_two(5,10)"
   ]
  },
  {
   "cell_type": "markdown",
   "metadata": {},
   "source": [
    "We can also define **default values** for parameters using the `=` operator. It is overwritten if the actual argument is supplied on function execution, otherwise the default value is used: "
   ]
  },
  {
   "cell_type": "code",
   "execution_count": 6,
   "metadata": {},
   "outputs": [
    {
     "name": "stdout",
     "output_type": "stream",
     "text": [
      "8\n"
     ]
    }
   ],
   "source": [
    "def my_function_three(a=4):\n",
    "    print(a)\n",
    "\n",
    "my_function_three(8)"
   ]
  },
  {
   "cell_type": "code",
   "execution_count": 7,
   "metadata": {},
   "outputs": [
    {
     "name": "stdout",
     "output_type": "stream",
     "text": [
      "4\n"
     ]
    }
   ],
   "source": [
    "my_function_three()"
   ]
  },
  {
   "cell_type": "markdown",
   "metadata": {},
   "source": [
    "We can combine default values with keyword argumets. Default values and posiitonal arguments. You CAN NOT mix keyword arguments  with positional arguments when the arguments are out of order."
   ]
  },
  {
   "cell_type": "code",
   "execution_count": 8,
   "metadata": {},
   "outputs": [
    {
     "name": "stdout",
     "output_type": "stream",
     "text": [
      "50 20\n"
     ]
    }
   ],
   "source": [
    "# define the function with default values\n",
    "def my_function_four(a=10, b=5):\n",
    "    print(a,b)\n",
    "    \n",
    "# invoke the function, passing the arguments out of order using keyword arguments\n",
    "my_function_four(b=20, a=50)"
   ]
  },
  {
   "cell_type": "code",
   "execution_count": 9,
   "metadata": {},
   "outputs": [
    {
     "name": "stdout",
     "output_type": "stream",
     "text": [
      "10 5\n"
     ]
    }
   ],
   "source": [
    "# invoke the function, relying on the defaults\n",
    "my_function_four()"
   ]
  },
  {
   "cell_type": "code",
   "execution_count": 10,
   "metadata": {},
   "outputs": [
    {
     "name": "stdout",
     "output_type": "stream",
     "text": [
      "10 20\n"
     ]
    }
   ],
   "source": [
    "my_function_four(b=20)"
   ]
  },
  {
   "cell_type": "code",
   "execution_count": 11,
   "metadata": {},
   "outputs": [
    {
     "ename": "SyntaxError",
     "evalue": "positional argument follows keyword argument (<ipython-input-11-1808f40a91c3>, line 1)",
     "output_type": "error",
     "traceback": [
      "\u001b[0;36m  File \u001b[0;32m\"<ipython-input-11-1808f40a91c3>\"\u001b[0;36m, line \u001b[0;32m1\u001b[0m\n\u001b[0;31m    my_function_four(b=20, 5)\u001b[0m\n\u001b[0m                          ^\u001b[0m\n\u001b[0;31mSyntaxError\u001b[0m\u001b[0;31m:\u001b[0m positional argument follows keyword argument\n"
     ]
    }
   ],
   "source": [
    "my_function_four(b=20, 5)"
   ]
  },
  {
   "cell_type": "code",
   "execution_count": 12,
   "metadata": {},
   "outputs": [
    {
     "name": "stdout",
     "output_type": "stream",
     "text": [
      "5 20\n"
     ]
    }
   ],
   "source": [
    "my_function_four(5,b=20)"
   ]
  },
  {
   "cell_type": "markdown",
   "metadata": {},
   "source": [
    "In Python, the amount of whitespace tells the interpreter what is part of a function and what is not. If we wanted to write another line outside of greet_customer(), we would have to unindent the new line:\n",
    "\n",
    "```py\n",
    "def my_function(param(s)):\n",
    "    # do something\n",
    "    # part of the same function\n",
    "    \n",
    "print('outside of the function)\n",
    "```"
   ]
  },
  {
   "cell_type": "markdown",
   "metadata": {},
   "source": [
    "A value must be explicitly returned using the `return` keyword.\n",
    "\n",
    "A function can return MULTIPLE values by separating them with a comma, and then get those values by assigning them to comma variables when the function is invoked:"
   ]
  },
  {
   "cell_type": "code",
   "execution_count": 13,
   "metadata": {},
   "outputs": [
    {
     "name": "stdout",
     "output_type": "stream",
     "text": [
      "20 24\n"
     ]
    }
   ],
   "source": [
    "def my_function_five(a=5, b=4, c=6):\n",
    "    d = a * b\n",
    "    e = b * c\n",
    "    return d, e\n",
    "\n",
    "f, g = my_function_five()\n",
    "print(f, g)"
   ]
  },
  {
   "cell_type": "markdown",
   "metadata": {},
   "source": [
    "Functions in Python have a `scope`. Variables defined inside the function are within the functions `scope` and are not accessible outside of it. Trying to do so raises the `NameError` since the variable does not exist outside the function. Variables defined outside the scope of the function are accessible within it. Variables defined in the `scope` of the 'file' are `global` in `scope`, accessible within all functions defined in that file."
   ]
  },
  {
   "cell_type": "code",
   "execution_count": 14,
   "metadata": {},
   "outputs": [
    {
     "ename": "NameError",
     "evalue": "name 'd' is not defined",
     "output_type": "error",
     "traceback": [
      "\u001b[0;31m---------------------------------------------------------------------------\u001b[0m",
      "\u001b[0;31mNameError\u001b[0m                                 Traceback (most recent call last)",
      "\u001b[0;32m<ipython-input-14-85549cb1de5f>\u001b[0m in \u001b[0;36m<module>\u001b[0;34m()\u001b[0m\n\u001b[0;32m----> 1\u001b[0;31m \u001b[0mprint\u001b[0m\u001b[0;34m(\u001b[0m\u001b[0md\u001b[0m\u001b[0;34m)\u001b[0m\u001b[0;34m\u001b[0m\u001b[0m\n\u001b[0m",
      "\u001b[0;31mNameError\u001b[0m: name 'd' is not defined"
     ]
    }
   ],
   "source": [
    "print(d)"
   ]
  },
  {
   "cell_type": "code",
   "execution_count": 15,
   "metadata": {},
   "outputs": [
    {
     "name": "stdout",
     "output_type": "stream",
     "text": [
      "20\n"
     ]
    }
   ],
   "source": [
    "def my_function_six():\n",
    "    print(f)\n",
    "\n",
    "my_function_six()"
   ]
  }
 ],
 "metadata": {
  "kernelspec": {
   "display_name": "Python 3",
   "language": "python",
   "name": "python3"
  },
  "language_info": {
   "codemirror_mode": {
    "name": "ipython",
    "version": 3
   },
   "file_extension": ".py",
   "mimetype": "text/x-python",
   "name": "python",
   "nbconvert_exporter": "python",
   "pygments_lexer": "ipython3",
   "version": "3.7.1"
  }
 },
 "nbformat": 4,
 "nbformat_minor": 2
}
