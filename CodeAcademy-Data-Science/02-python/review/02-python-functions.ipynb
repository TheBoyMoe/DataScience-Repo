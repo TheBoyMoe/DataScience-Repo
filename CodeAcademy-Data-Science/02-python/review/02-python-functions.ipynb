{
 "cells": [
  {
   "cell_type": "markdown",
   "metadata": {},
   "source": [
    "# Pyhton Functions"
   ]
  },
  {
   "cell_type": "markdown",
   "metadata": {},
   "source": [
    "### Defining Functions\n",
    "\n",
    "Functions must have a heading with an indented block of code.\n",
    "\n",
    "The heading starts with the `def` keyword(indecates we're defining a function), followed by the function name(snake_case format), followed by parenthesis, `()` and a colon `:`.\n",
    "\n",
    "The indented block performs the operation. Python does not use braces `{}` to define code blocks. Use 2 or 4 spaces, but be consistent.\n",
    "\n",
    "The parenthesis can accept zero, one or more parameters, separated by commas `,`. \n",
    "\n",
    "Functions can also be defined wit `doc strings` - **multiline** strings that appear immeadiately after the function definition and describe what the function does.\n",
    "\n",
    "```py\n",
    "def my_function(param(s)):\n",
    "    '''doc string describing the functions purpose'''\n",
    "    # do something\n",
    "    # do something\n",
    "```\n",
    "\n",
    "You can define a function without a function body by using the `pass` keyword, stops the interpreter from raising a `SyntaxError`:\n",
    "\n",
    "```py\n",
    "def my_other_function():\n",
    "    pass\n",
    "```"
   ]
  },
  {
   "cell_type": "code",
   "execution_count": 1,
   "metadata": {},
   "outputs": [
    {
     "ename": "SyntaxError",
     "evalue": "unexpected EOF while parsing (<ipython-input-1-8d2ba8d23c17>, line 1)",
     "output_type": "error",
     "traceback": [
      "\u001b[0;36m  File \u001b[0;32m\"<ipython-input-1-8d2ba8d23c17>\"\u001b[0;36m, line \u001b[0;32m1\u001b[0m\n\u001b[0;31m    def my_other_function():\u001b[0m\n\u001b[0m                            ^\u001b[0m\n\u001b[0;31mSyntaxError\u001b[0m\u001b[0;31m:\u001b[0m unexpected EOF while parsing\n"
     ]
    }
   ],
   "source": [
    "def my_other_function():"
   ]
  },
  {
   "cell_type": "markdown",
   "metadata": {},
   "source": [
    "### Function Parameters\n",
    "\n",
    "Each parameter is just a placeholder for a value that is passed to the function when it is executed. Any parameters that are defined **MUST** be passed to the function as arguments when it is called, otherwise a `TypreError` is thrown."
   ]
  },
  {
   "cell_type": "code",
   "execution_count": 2,
   "metadata": {},
   "outputs": [],
   "source": [
    "def my_function(a, b):\n",
    "    print(a,b)"
   ]
  },
  {
   "cell_type": "code",
   "execution_count": 3,
   "metadata": {},
   "outputs": [
    {
     "ename": "TypeError",
     "evalue": "my_function() missing 2 required positional arguments: 'a' and 'b'",
     "output_type": "error",
     "traceback": [
      "\u001b[0;31m---------------------------------------------------------------------------\u001b[0m",
      "\u001b[0;31mTypeError\u001b[0m                                 Traceback (most recent call last)",
      "\u001b[0;32m<ipython-input-3-33cb1b07ff33>\u001b[0m in \u001b[0;36m<module>\u001b[0;34m()\u001b[0m\n\u001b[1;32m      1\u001b[0m \u001b[0;31m# use a parenthesis, (), following the function name to invoke the function\u001b[0m\u001b[0;34m\u001b[0m\u001b[0;34m\u001b[0m\u001b[0m\n\u001b[0;32m----> 2\u001b[0;31m \u001b[0mmy_function\u001b[0m\u001b[0;34m(\u001b[0m\u001b[0;34m)\u001b[0m\u001b[0;34m\u001b[0m\u001b[0m\n\u001b[0m",
      "\u001b[0;31mTypeError\u001b[0m: my_function() missing 2 required positional arguments: 'a' and 'b'"
     ]
    }
   ],
   "source": [
    "# use a parenthesis, (), following the function name to invoke the function\n",
    "my_function()"
   ]
  },
  {
   "cell_type": "markdown",
   "metadata": {},
   "source": [
    "Primitive values passed as arguments to functions are copied. Objects, e.g. lists and dictionaries are passed as a copy of the reference - it points to the same object. Any changes made to the object in the function are made to the same object."
   ]
  },
  {
   "cell_type": "markdown",
   "metadata": {},
   "source": [
    "Arguments are passed to the function in the order in which they are defined, `positional arguments`.\n",
    "\n",
    "However, we can also pass arguments as `keyword arguments`, where we explicitly refer to the argument's placeholder name in the function call. This means that we can pass the arguments out of order at the time of the functions invocation. Write the function as normal. We simply refer to the 'placeholder` names when the function is called."
   ]
  },
  {
   "cell_type": "code",
   "execution_count": 4,
   "metadata": {},
   "outputs": [
    {
     "name": "stdout",
     "output_type": "stream",
     "text": [
      "10 5\n"
     ]
    }
   ],
   "source": [
    "def my_function_two(value_one, value_two):\n",
    "    print(value_one, value_two)\n",
    "\n",
    "my_function_two(value_two=5, value_one=10)"
   ]
  },
  {
   "cell_type": "code",
   "execution_count": 5,
   "metadata": {},
   "outputs": [
    {
     "name": "stdout",
     "output_type": "stream",
     "text": [
      "5 10\n"
     ]
    }
   ],
   "source": [
    "my_function_two(5,10)"
   ]
  },
  {
   "cell_type": "markdown",
   "metadata": {},
   "source": [
    "We can also define **default values** for parameters using the `=` operator. It is overwritten if the actual argument is supplied on function execution, otherwise the default value is used: "
   ]
  },
  {
   "cell_type": "code",
   "execution_count": 6,
   "metadata": {},
   "outputs": [
    {
     "name": "stdout",
     "output_type": "stream",
     "text": [
      "8\n"
     ]
    }
   ],
   "source": [
    "def my_function_three(a=4):\n",
    "    print(a)\n",
    "\n",
    "my_function_three(8)"
   ]
  },
  {
   "cell_type": "code",
   "execution_count": 7,
   "metadata": {},
   "outputs": [
    {
     "name": "stdout",
     "output_type": "stream",
     "text": [
      "4\n"
     ]
    }
   ],
   "source": [
    "my_function_three()"
   ]
  },
  {
   "cell_type": "markdown",
   "metadata": {},
   "source": [
    "We can combine default values with keyword argumets. Default values and posiitonal arguments. You CAN NOT mix keyword arguments  with positional arguments when the arguments are out of order."
   ]
  },
  {
   "cell_type": "code",
   "execution_count": 8,
   "metadata": {},
   "outputs": [
    {
     "name": "stdout",
     "output_type": "stream",
     "text": [
      "50 20\n"
     ]
    }
   ],
   "source": [
    "# define the function with default values\n",
    "def my_function_four(a=10, b=5):\n",
    "    print(a,b)\n",
    "    \n",
    "# invoke the function, passing the arguments out of order using keyword arguments\n",
    "my_function_four(b=20, a=50)"
   ]
  },
  {
   "cell_type": "code",
   "execution_count": 9,
   "metadata": {},
   "outputs": [
    {
     "name": "stdout",
     "output_type": "stream",
     "text": [
      "10 5\n"
     ]
    }
   ],
   "source": [
    "# invoke the function, relying on the defaults\n",
    "my_function_four()"
   ]
  },
  {
   "cell_type": "code",
   "execution_count": 10,
   "metadata": {},
   "outputs": [
    {
     "name": "stdout",
     "output_type": "stream",
     "text": [
      "10 20\n"
     ]
    }
   ],
   "source": [
    "my_function_four(b=20)"
   ]
  },
  {
   "cell_type": "code",
   "execution_count": 11,
   "metadata": {},
   "outputs": [
    {
     "ename": "SyntaxError",
     "evalue": "positional argument follows keyword argument (<ipython-input-11-1808f40a91c3>, line 1)",
     "output_type": "error",
     "traceback": [
      "\u001b[0;36m  File \u001b[0;32m\"<ipython-input-11-1808f40a91c3>\"\u001b[0;36m, line \u001b[0;32m1\u001b[0m\n\u001b[0;31m    my_function_four(b=20, 5)\u001b[0m\n\u001b[0m                          ^\u001b[0m\n\u001b[0;31mSyntaxError\u001b[0m\u001b[0;31m:\u001b[0m positional argument follows keyword argument\n"
     ]
    }
   ],
   "source": [
    "my_function_four(b=20, 5)"
   ]
  },
  {
   "cell_type": "code",
   "execution_count": 12,
   "metadata": {},
   "outputs": [
    {
     "name": "stdout",
     "output_type": "stream",
     "text": [
      "5 20\n"
     ]
    }
   ],
   "source": [
    "my_function_four(5,b=20)"
   ]
  },
  {
   "cell_type": "markdown",
   "metadata": {},
   "source": [
    "In Python, the amount of whitespace tells the interpreter what is part of a function and what is not. If we wanted to write another line outside of greet_customer(), we would have to unindent the new line:\n",
    "\n",
    "```py\n",
    "def my_function(param(s)):\n",
    "    # do something\n",
    "    # part of the same function\n",
    "    \n",
    "print('outside of the function)\n",
    "```"
   ]
  },
  {
   "cell_type": "markdown",
   "metadata": {},
   "source": [
    "A value must be explicitly returned using the `return` keyword.\n",
    "\n",
    "A function can return MULTIPLE values by separating them with a comma, and then get those values by assigning them to comma variables when the function is invoked:"
   ]
  },
  {
   "cell_type": "code",
   "execution_count": 13,
   "metadata": {},
   "outputs": [
    {
     "name": "stdout",
     "output_type": "stream",
     "text": [
      "20 24\n"
     ]
    }
   ],
   "source": [
    "def my_function_five(a=5, b=4, c=6):\n",
    "    d = a * b\n",
    "    e = b * c\n",
    "    return d, e\n",
    "\n",
    "f, g = my_function_five()\n",
    "print(f, g)"
   ]
  },
  {
   "cell_type": "markdown",
   "metadata": {},
   "source": [
    "Functions in Python have a `scope`. Variables defined inside the function are within the functions `scope` and are not accessible outside of it. Trying to do so raises the `NameError` since the variable does not exist outside the function. Variables defined outside the scope of the function are accessible within it. Variables defined in the `scope` of the 'file' are `global` in `scope`, accessible within all functions defined in that file."
   ]
  },
  {
   "cell_type": "code",
   "execution_count": 14,
   "metadata": {},
   "outputs": [
    {
     "ename": "NameError",
     "evalue": "name 'd' is not defined",
     "output_type": "error",
     "traceback": [
      "\u001b[0;31m---------------------------------------------------------------------------\u001b[0m",
      "\u001b[0;31mNameError\u001b[0m                                 Traceback (most recent call last)",
      "\u001b[0;32m<ipython-input-14-85549cb1de5f>\u001b[0m in \u001b[0;36m<module>\u001b[0;34m()\u001b[0m\n\u001b[0;32m----> 1\u001b[0;31m \u001b[0mprint\u001b[0m\u001b[0;34m(\u001b[0m\u001b[0md\u001b[0m\u001b[0;34m)\u001b[0m\u001b[0;34m\u001b[0m\u001b[0m\n\u001b[0m",
      "\u001b[0;31mNameError\u001b[0m: name 'd' is not defined"
     ]
    }
   ],
   "source": [
    "print(d)"
   ]
  },
  {
   "cell_type": "code",
   "execution_count": 15,
   "metadata": {},
   "outputs": [
    {
     "name": "stdout",
     "output_type": "stream",
     "text": [
      "20\n"
     ]
    }
   ],
   "source": [
    "def my_function_six():\n",
    "    print(f)\n",
    "\n",
    "my_function_six()"
   ]
  },
  {
   "cell_type": "markdown",
   "metadata": {},
   "source": [
    "## Scope\n",
    "\n",
    "There are three types of scope to be aware of:\n",
    "\n",
    "1. `global` scope applies to the main body of the script, variable defined there is accessible everywhere within the file( and **ONLY** that file.\n",
    "\n",
    "2. `local` scope to the function body, variables defined there are accessible only within that function(or nested functions) but NOT outside the function body, and cease to exist once the function has returned.\n",
    "\n",
    "3. `built-in` scope pre-defined by the `built-ins` module. Provides access to `print`, `sum`, etc. To query `builtins` you need to `import builtins`."
   ]
  },
  {
   "cell_type": "markdown",
   "metadata": {},
   "source": [
    "### Global vs Local Scope\n",
    "\n",
    "A function will first look in it's own scope for a variable value, if not found it will look in the local scope."
   ]
  },
  {
   "cell_type": "code",
   "execution_count": 6,
   "metadata": {},
   "outputs": [
    {
     "name": "stdout",
     "output_type": "stream",
     "text": [
      "5\n",
      "10\n"
     ]
    }
   ],
   "source": [
    "# the value of the global variable is unchanged\n",
    "def fn_one(value):\n",
    "    val = value # confined to the function body\n",
    "    return val\n",
    "\n",
    "val = 10\n",
    "\n",
    "print(fn_one(5))\n",
    "print(val)"
   ]
  },
  {
   "cell_type": "markdown",
   "metadata": {},
   "source": [
    "To **alter** a `global varialble` inside a function and have it accessible outside of the function body, use the keyword `global`."
   ]
  },
  {
   "cell_type": "code",
   "execution_count": 10,
   "metadata": {},
   "outputs": [
    {
     "name": "stdout",
     "output_type": "stream",
     "text": [
      "100\n",
      "100\n"
     ]
    }
   ],
   "source": [
    "val = 25\n",
    "\n",
    "def fn_two(value):\n",
    "    global val # access the global variable, has to be done on a separate line\n",
    "    val = value\n",
    "    return val\n",
    "    \n",
    "print(fn_two(100))\n",
    "print(val)"
   ]
  },
  {
   "cell_type": "code",
   "execution_count": 5,
   "metadata": {},
   "outputs": [
    {
     "name": "stdout",
     "output_type": "stream",
     "text": [
      "5\n"
     ]
    }
   ],
   "source": [
    "global_val = 5\n",
    "\n",
    "def fn_three():\n",
    "    print(global_val) # access to global variables\n",
    "    \n",
    "    \n",
    "fn_three()"
   ]
  },
  {
   "cell_type": "code",
   "execution_count": 9,
   "metadata": {},
   "outputs": [],
   "source": [
    "global_val = 10\n",
    "\n",
    "# causes 'UnboundLocalError' - referencing 'local variable' before assignment\n",
    "def fn_four():\n",
    "    print(global_val) \n",
    "    global_val = 20 # declares 'local' variable\n",
    "    \n",
    "# fn_four()"
   ]
  },
  {
   "cell_type": "markdown",
   "metadata": {},
   "source": [
    "Use the keyword `global` within a function to alter(or create) the value of a variable defined in the global scope."
   ]
  },
  {
   "cell_type": "code",
   "execution_count": 12,
   "metadata": {},
   "outputs": [
    {
     "name": "stdout",
     "output_type": "stream",
     "text": [
      "inside 100\n",
      "outside 100\n"
     ]
    }
   ],
   "source": [
    "global_val = 20\n",
    "\n",
    "def fn_five():\n",
    "    global global_val # access the 'global' variable\n",
    "    global_val = 100 # re-assign\n",
    "    print('inside', global_val) \n",
    "    \n",
    "fn_five()\n",
    "print('outside', global_val)"
   ]
  },
  {
   "cell_type": "markdown",
   "metadata": {},
   "source": [
    "### Builtin Scope"
   ]
  },
  {
   "cell_type": "code",
   "execution_count": 13,
   "metadata": {},
   "outputs": [
    {
     "data": {
      "text/plain": [
       "['ArithmeticError',\n",
       " 'AssertionError',\n",
       " 'AttributeError',\n",
       " 'BaseException',\n",
       " 'BlockingIOError',\n",
       " 'BrokenPipeError',\n",
       " 'BufferError',\n",
       " 'BytesWarning',\n",
       " 'ChildProcessError',\n",
       " 'ConnectionAbortedError',\n",
       " 'ConnectionError',\n",
       " 'ConnectionRefusedError',\n",
       " 'ConnectionResetError',\n",
       " 'DeprecationWarning',\n",
       " 'EOFError',\n",
       " 'Ellipsis',\n",
       " 'EnvironmentError',\n",
       " 'Exception',\n",
       " 'False',\n",
       " 'FileExistsError',\n",
       " 'FileNotFoundError',\n",
       " 'FloatingPointError',\n",
       " 'FutureWarning',\n",
       " 'GeneratorExit',\n",
       " 'IOError',\n",
       " 'ImportError',\n",
       " 'ImportWarning',\n",
       " 'IndentationError',\n",
       " 'IndexError',\n",
       " 'InterruptedError',\n",
       " 'IsADirectoryError',\n",
       " 'KeyError',\n",
       " 'KeyboardInterrupt',\n",
       " 'LookupError',\n",
       " 'MemoryError',\n",
       " 'ModuleNotFoundError',\n",
       " 'NameError',\n",
       " 'None',\n",
       " 'NotADirectoryError',\n",
       " 'NotImplemented',\n",
       " 'NotImplementedError',\n",
       " 'OSError',\n",
       " 'OverflowError',\n",
       " 'PendingDeprecationWarning',\n",
       " 'PermissionError',\n",
       " 'ProcessLookupError',\n",
       " 'RecursionError',\n",
       " 'ReferenceError',\n",
       " 'ResourceWarning',\n",
       " 'RuntimeError',\n",
       " 'RuntimeWarning',\n",
       " 'StopAsyncIteration',\n",
       " 'StopIteration',\n",
       " 'SyntaxError',\n",
       " 'SyntaxWarning',\n",
       " 'SystemError',\n",
       " 'SystemExit',\n",
       " 'TabError',\n",
       " 'TimeoutError',\n",
       " 'True',\n",
       " 'TypeError',\n",
       " 'UnboundLocalError',\n",
       " 'UnicodeDecodeError',\n",
       " 'UnicodeEncodeError',\n",
       " 'UnicodeError',\n",
       " 'UnicodeTranslateError',\n",
       " 'UnicodeWarning',\n",
       " 'UserWarning',\n",
       " 'ValueError',\n",
       " 'Warning',\n",
       " 'ZeroDivisionError',\n",
       " '__IPYTHON__',\n",
       " '__build_class__',\n",
       " '__debug__',\n",
       " '__doc__',\n",
       " '__import__',\n",
       " '__loader__',\n",
       " '__name__',\n",
       " '__package__',\n",
       " '__spec__',\n",
       " 'abs',\n",
       " 'all',\n",
       " 'any',\n",
       " 'ascii',\n",
       " 'bin',\n",
       " 'bool',\n",
       " 'breakpoint',\n",
       " 'bytearray',\n",
       " 'bytes',\n",
       " 'callable',\n",
       " 'chr',\n",
       " 'classmethod',\n",
       " 'compile',\n",
       " 'complex',\n",
       " 'copyright',\n",
       " 'credits',\n",
       " 'delattr',\n",
       " 'dict',\n",
       " 'dir',\n",
       " 'display',\n",
       " 'divmod',\n",
       " 'enumerate',\n",
       " 'eval',\n",
       " 'exec',\n",
       " 'filter',\n",
       " 'float',\n",
       " 'format',\n",
       " 'frozenset',\n",
       " 'get_ipython',\n",
       " 'getattr',\n",
       " 'globals',\n",
       " 'hasattr',\n",
       " 'hash',\n",
       " 'help',\n",
       " 'hex',\n",
       " 'id',\n",
       " 'input',\n",
       " 'int',\n",
       " 'isinstance',\n",
       " 'issubclass',\n",
       " 'iter',\n",
       " 'len',\n",
       " 'license',\n",
       " 'list',\n",
       " 'locals',\n",
       " 'map',\n",
       " 'max',\n",
       " 'memoryview',\n",
       " 'min',\n",
       " 'next',\n",
       " 'object',\n",
       " 'oct',\n",
       " 'open',\n",
       " 'ord',\n",
       " 'pow',\n",
       " 'print',\n",
       " 'property',\n",
       " 'range',\n",
       " 'repr',\n",
       " 'reversed',\n",
       " 'round',\n",
       " 'set',\n",
       " 'setattr',\n",
       " 'slice',\n",
       " 'sorted',\n",
       " 'staticmethod',\n",
       " 'str',\n",
       " 'sum',\n",
       " 'super',\n",
       " 'tuple',\n",
       " 'type',\n",
       " 'vars',\n",
       " 'zip']"
      ]
     },
     "execution_count": 13,
     "metadata": {},
     "output_type": "execute_result"
    }
   ],
   "source": [
    "import builtins\n",
    "\n",
    "dir(builtins)"
   ]
  },
  {
   "cell_type": "markdown",
   "metadata": {},
   "source": [
    "## Nested Functions\n",
    "\n",
    "Where you have a nested function, and reference a variable `x` in the nested function:\n",
    "\n",
    "- the interpreter 1st searches the scope of the `local` scope.\n",
    "- if it does not find the variable there, it searches the scope of the `enclosing` function.\n",
    "- if not found there, it searches the `global` scope\n",
    "- if not found there, it will search the `builtin` scope.\n",
    "\n",
    "Known as the `LEGB` rule - local, enclosing, global, builtins,\n",
    "\n",
    "Nested functions also introduce the keyword `nonlocal`"
   ]
  },
  {
   "cell_type": "code",
   "execution_count": 14,
   "metadata": {},
   "outputs": [
    {
     "name": "stdout",
     "output_type": "stream",
     "text": [
      "inner 3\n",
      "outer 5\n"
     ]
    }
   ],
   "source": [
    "def outer():\n",
    "    n = 5\n",
    "    \n",
    "    def inner():\n",
    "        n = 3\n",
    "        print('inner', n)\n",
    "    \n",
    "    inner()\n",
    "    print('outer', n)\n",
    "    \n",
    "outer()"
   ]
  },
  {
   "cell_type": "markdown",
   "metadata": {},
   "source": [
    "Using the keyword `nonlocal` allows you to change(or create) the values of variables defined in the `enclosing` scope of a nested function."
   ]
  },
  {
   "cell_type": "code",
   "execution_count": 16,
   "metadata": {},
   "outputs": [
    {
     "name": "stdout",
     "output_type": "stream",
     "text": [
      "inner 3\n",
      "outer 3\n"
     ]
    }
   ],
   "source": [
    "def outer():\n",
    "    n = 5\n",
    "    \n",
    "    def inner():\n",
    "        nonlocal n\n",
    "        n = 3\n",
    "        print('inner', n)\n",
    "    \n",
    "    inner()\n",
    "    print('outer', n)\n",
    "    \n",
    "outer()"
   ]
  },
  {
   "cell_type": "markdown",
   "metadata": {},
   "source": [
    "One reason for nesting functions is to create a `closure`. This means that the nested or inner function remembers the state of its enclosing scope when called. Thus, anything defined locally in the enclosing scope is available to the inner function even when the outer function has finished execution."
   ]
  },
  {
   "cell_type": "markdown",
   "metadata": {},
   "source": [
    "## Flexible arguments\n",
    "\n",
    "Python's flexible arguments means that you can define any number of parameters in the function header and then pass them **OUT OF ORDER** as long as you refer to the parameter names when executing the function!"
   ]
  },
  {
   "cell_type": "code",
   "execution_count": 1,
   "metadata": {},
   "outputs": [
    {
     "name": "stdout",
     "output_type": "stream",
     "text": [
      "a: 1, b: 2, c: 3\n"
     ]
    }
   ],
   "source": [
    "def fn(a,b,c):\n",
    "    print('a: {}, b: {}, c: {}'.format(a,b,c))\n",
    "    \n",
    "fn(c=3,a=1,b=2)"
   ]
  },
  {
   "cell_type": "markdown",
   "metadata": {},
   "source": [
    "You can assign default values for arguments  with `=` in the function declaration. If the argument is not passed, the default is used.\n",
    "\n",
    "Combining default arguments, with using named arguemnts provides even greater flexibility."
   ]
  },
  {
   "cell_type": "code",
   "execution_count": 3,
   "metadata": {},
   "outputs": [
    {
     "name": "stdout",
     "output_type": "stream",
     "text": [
      "a: 20, b: 2, c: 10\n"
     ]
    }
   ],
   "source": [
    "def fn(a=1,b=2,c=3):\n",
    "        print('a: {}, b: {}, c: {}'.format(a,b,c))\n",
    "fn(c=10, a=20)"
   ]
  },
  {
   "cell_type": "markdown",
   "metadata": {},
   "source": [
    "***args**\n",
    "\n",
    "You can pass a flexible number of arguments(0 or more) by using `*args` in the function declaration. The interpreter creates a `tuple ` with any arguments passed to the function upon execution. You can then loop over the tuple to access the args, one after the other.\n",
    "\n",
    "Note: You don't have to use the keyword `args` in the function definition, as long as which ever identifier you choose is preceeded by `*`."
   ]
  },
  {
   "cell_type": "code",
   "execution_count": 18,
   "metadata": {},
   "outputs": [],
   "source": [
    "def my_func(*args):\n",
    "    for num in args:\n",
    "        print(num)\n",
    "        \n",
    "my_func()"
   ]
  },
  {
   "cell_type": "code",
   "execution_count": 19,
   "metadata": {},
   "outputs": [
    {
     "name": "stdout",
     "output_type": "stream",
     "text": [
      "1\n",
      "2\n",
      "3\n",
      "4\n"
     ]
    }
   ],
   "source": [
    "my_func(1,2,3,4)"
   ]
  },
  {
   "cell_type": "code",
   "execution_count": 20,
   "metadata": {},
   "outputs": [
    {
     "name": "stdout",
     "output_type": "stream",
     "text": [
      "2\n"
     ]
    }
   ],
   "source": [
    "def my_func(val, *args):\n",
    "    print(val)\n",
    "    for num in args:\n",
    "        print(num)\n",
    "        \n",
    "my_func(2)"
   ]
  },
  {
   "cell_type": "code",
   "execution_count": 21,
   "metadata": {},
   "outputs": [
    {
     "name": "stdout",
     "output_type": "stream",
     "text": [
      "a\n",
      "2\n",
      "3\n",
      "4\n",
      "5\n",
      "6\n"
     ]
    }
   ],
   "source": [
    "my_func('a', 2,3,4,5,6)"
   ]
  },
  {
   "cell_type": "markdown",
   "metadata": {},
   "source": [
    "****kwargs**\n",
    "\n",
    "We can use `**kwargs` to pass any number of keyword arguments - arguments preceeded by identifiers. The interpreter converts the identifier/value pairs into a `dictionary` in the function body which you can then iterate over using `.items()` method.\n",
    "\n",
    "- You MUST use identifiers, the interpreter raises a `TypeError`.\n",
    "- You CAN NOT repeat the identifiers, the interpreter raises a `SyntaxError`.\n",
    "- NOTE: you DO NOT need to use the keyword `kwargs`, as long as which ever identifier you use is preceeded by a `**`."
   ]
  },
  {
   "cell_type": "code",
   "execution_count": 29,
   "metadata": {},
   "outputs": [
    {
     "name": "stdout",
     "output_type": "stream",
     "text": [
      "{}\n"
     ]
    }
   ],
   "source": [
    "def print_all(**kwargs):\n",
    "    print(kwargs) # dictionary\n",
    "    for key, value in kwargs.items():\n",
    "        print('{}: {}'.format(key, value))\n",
    "        \n",
    "print_all()"
   ]
  },
  {
   "cell_type": "code",
   "execution_count": 30,
   "metadata": {},
   "outputs": [
    {
     "ename": "TypeError",
     "evalue": "print_all() takes 0 positional arguments but 3 were given",
     "output_type": "error",
     "traceback": [
      "\u001b[0;31m---------------------------------------------------------------------------\u001b[0m",
      "\u001b[0;31mTypeError\u001b[0m                                 Traceback (most recent call last)",
      "\u001b[0;32m<ipython-input-30-360d720f1c30>\u001b[0m in \u001b[0;36m<module>\u001b[0;34m\u001b[0m\n\u001b[0;32m----> 1\u001b[0;31m \u001b[0mprint_all\u001b[0m\u001b[0;34m(\u001b[0m\u001b[0;34m'tom'\u001b[0m\u001b[0;34m,\u001b[0m \u001b[0;34m'sales manager'\u001b[0m\u001b[0;34m,\u001b[0m \u001b[0;36m43\u001b[0m\u001b[0;34m)\u001b[0m\u001b[0;34m\u001b[0m\u001b[0;34m\u001b[0m\u001b[0m\n\u001b[0m",
      "\u001b[0;31mTypeError\u001b[0m: print_all() takes 0 positional arguments but 3 were given"
     ]
    }
   ],
   "source": [
    "print_all('tom', 'sales manager', 43)"
   ]
  },
  {
   "cell_type": "code",
   "execution_count": 31,
   "metadata": {},
   "outputs": [
    {
     "ename": "SyntaxError",
     "evalue": "keyword argument repeated (<ipython-input-31-01ffd427abf6>, line 1)",
     "output_type": "error",
     "traceback": [
      "\u001b[0;36m  File \u001b[0;32m\"<ipython-input-31-01ffd427abf6>\"\u001b[0;36m, line \u001b[0;32m1\u001b[0m\n\u001b[0;31m    print_all(name='tom', name='dick', name='harry')\u001b[0m\n\u001b[0m                         ^\u001b[0m\n\u001b[0;31mSyntaxError\u001b[0m\u001b[0;31m:\u001b[0m keyword argument repeated\n"
     ]
    }
   ],
   "source": [
    "print_all(name='tom', name='dick', name='harry')"
   ]
  },
  {
   "cell_type": "code",
   "execution_count": 32,
   "metadata": {},
   "outputs": [
    {
     "name": "stdout",
     "output_type": "stream",
     "text": [
      "{'name': 'tom', 'position': 'sales manager', 'age': 43}\n",
      "name: tom\n",
      "position: sales manager\n",
      "age: 43\n"
     ]
    }
   ],
   "source": [
    "print_all(name='tom', position='sales manager', age=43)"
   ]
  },
  {
   "cell_type": "code",
   "execution_count": 4,
   "metadata": {},
   "outputs": [
    {
     "name": "stdout",
     "output_type": "stream",
     "text": [
      "a: 1, b: 2\n"
     ]
    }
   ],
   "source": [
    "def fn(a=1, b=2, **kwargs):\n",
    "    print('a: {}, b: {}'.format(a, b))\n",
    "    for k, v in kwargs.items():\n",
    "        print('{}: {}'.format(k, v))\n",
    "        \n",
    "fn()"
   ]
  },
  {
   "cell_type": "code",
   "execution_count": 5,
   "metadata": {},
   "outputs": [
    {
     "name": "stdout",
     "output_type": "stream",
     "text": [
      "a: 20, b: 100\n",
      "name: tom\n",
      "address: 1 the street, london\n",
      "age: 43\n"
     ]
    }
   ],
   "source": [
    "fn(name='tom', address='1 the street, london', age=43, a=20, b=100)"
   ]
  }
 ],
 "metadata": {
  "kernelspec": {
   "display_name": "Python 3",
   "language": "python",
   "name": "python3"
  },
  "language_info": {
   "codemirror_mode": {
    "name": "ipython",
    "version": 3
   },
   "file_extension": ".py",
   "mimetype": "text/x-python",
   "name": "python",
   "nbconvert_exporter": "python",
   "pygments_lexer": "ipython3",
   "version": "3.7.1"
  }
 },
 "nbformat": 4,
 "nbformat_minor": 2
}
