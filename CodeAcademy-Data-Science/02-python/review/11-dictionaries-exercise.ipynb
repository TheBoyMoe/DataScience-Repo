{
 "cells": [
  {
   "cell_type": "markdown",
   "metadata": {},
   "source": [
    "# Dictionaries Exercise"
   ]
  },
  {
   "cell_type": "code",
   "execution_count": 1,
   "metadata": {},
   "outputs": [],
   "source": [
    "letters = [\"A\", \"B\", \"C\", \"D\", \"E\", \"F\", \"G\", \"H\", \"I\", \"J\", \"K\", \"L\", \"M\", \"N\", \"O\", \"P\", \"Q\", \"R\", \"S\", \"T\", \"U\", \"V\", \"W\", \"X\", \"Y\", \"Z\"]\n",
    "points = [1, 3, 3, 2, 1, 4, 2, 4, 1, 8, 5, 1, 3, 4, 1, 3, 10, 1, 1, 1, 1, 4, 4, 8, 4, 10]"
   ]
  },
  {
   "cell_type": "code",
   "execution_count": 5,
   "metadata": {},
   "outputs": [],
   "source": [
    "# combine the two lists using list comprehensions\n",
    "letter_to_points = {letter:point for letter, point in zip(letters, points)}\n",
    "letter_to_points[' '] = 0"
   ]
  },
  {
   "cell_type": "code",
   "execution_count": 8,
   "metadata": {},
   "outputs": [
    {
     "name": "stdout",
     "output_type": "stream",
     "text": [
      "15\n"
     ]
    }
   ],
   "source": [
    "# determine a words score\n",
    "def score_word(word):\n",
    "  point_total = 0\n",
    "  for letter in word:\n",
    "    point_total += letter_to_points.get(letter, 0)\n",
    "  return point_total\n",
    "\n",
    "brownie_points = score_word('BROWNIE')\n",
    "print(brownie_points)"
   ]
  },
  {
   "cell_type": "code",
   "execution_count": 9,
   "metadata": {},
   "outputs": [
    {
     "data": {
      "text/plain": [
       "{'player1': 29, 'wordNerd': 32, 'Lexi Con': 31, 'Prof READER': 31}"
      ]
     },
     "execution_count": 9,
     "metadata": {},
     "output_type": "execute_result"
    }
   ],
   "source": [
    "# map players to a list of words\n",
    "player_to_words = {\n",
    "    'player1': ['BLUE', 'TENNIS', 'EXIT'],\n",
    "    'wordNerd': ['EARTH', 'EYES', 'MACHINE'],\n",
    "    'Lexi Con': ['ERASER', 'BELLY', 'HUSKY'],\n",
    "    'Prof READER': ['ZAP', 'COMA', 'PERIOD']\n",
    "}\n",
    "\n",
    "# determine each players score\n",
    "player_to_points = {}\n",
    "for player, words in player_to_words.items():\n",
    "    player_points = 0\n",
    "    for word in words:\n",
    "        player_points += score_word(word)\n",
    "    player_to_points.update({player: player_points})\n",
    "    \n",
    "player_to_points"
   ]
  },
  {
   "cell_type": "code",
   "execution_count": 10,
   "metadata": {},
   "outputs": [
    {
     "data": {
      "text/plain": [
       "{'player1': ['BLUE', 'TENNIS', 'EXIT', 'HEDGEHOG'],\n",
       " 'wordNerd': ['EARTH', 'EYES', 'MACHINE'],\n",
       " 'Lexi Con': ['ERASER', 'BELLY', 'HUSKY'],\n",
       " 'Prof READER': ['ZAP', 'COMA', 'PERIOD']}"
      ]
     },
     "execution_count": 10,
     "metadata": {},
     "output_type": "execute_result"
    }
   ],
   "source": [
    "# extend the functionality\n",
    "\n",
    "# add the word to the players list\n",
    "def play_word(player, word):\n",
    "    current_list = player_to_words.get(player, [])\n",
    "    current_list.append(word)\n",
    "    player_to_words[player] = current_list\n",
    "    \n",
    "play_word('player1', 'HEDGEHOG')\n",
    "player_to_words"
   ]
  },
  {
   "cell_type": "code",
   "execution_count": 11,
   "metadata": {},
   "outputs": [
    {
     "data": {
      "text/plain": [
       "{'player1': ['BLUE', 'TENNIS', 'EXIT', 'HEDGEHOG'],\n",
       " 'wordNerd': ['EARTH', 'EYES', 'MACHINE'],\n",
       " 'Lexi Con': ['ERASER', 'BELLY', 'HUSKY'],\n",
       " 'Prof READER': ['ZAP', 'COMA', 'PERIOD'],\n",
       " 'player2': ['VIKING']}"
      ]
     },
     "execution_count": 11,
     "metadata": {},
     "output_type": "execute_result"
    }
   ],
   "source": [
    "play_word('player2', 'VIKING')\n",
    "player_to_words"
   ]
  },
  {
   "cell_type": "code",
   "execution_count": 12,
   "metadata": {},
   "outputs": [
    {
     "data": {
      "text/plain": [
       "{'player1': 46,\n",
       " 'wordNerd': 32,\n",
       " 'Lexi Con': 31,\n",
       " 'Prof READER': 31,\n",
       " 'player2': 17}"
      ]
     },
     "execution_count": 12,
     "metadata": {},
     "output_type": "execute_result"
    }
   ],
   "source": [
    "def update_player_totals():\n",
    "    player_to_points = {}\n",
    "    for player, words in player_to_words.items():\n",
    "        player_points = 0\n",
    "        for word in words:\n",
    "            player_points += score_word(word)\n",
    "        player_to_points.update({player: player_points})\n",
    "    return player_to_points\n",
    "\n",
    "update_player_totals()"
   ]
  },
  {
   "cell_type": "code",
   "execution_count": 18,
   "metadata": {
    "scrolled": true
   },
   "outputs": [
    {
     "data": {
      "text/plain": [
       "{'A': 1,\n",
       " 'B': 3,\n",
       " 'C': 3,\n",
       " 'D': 2,\n",
       " 'E': 1,\n",
       " 'F': 4,\n",
       " 'G': 2,\n",
       " 'H': 4,\n",
       " 'I': 1,\n",
       " 'J': 8,\n",
       " 'K': 5,\n",
       " 'L': 1,\n",
       " 'M': 3,\n",
       " 'N': 4,\n",
       " 'O': 1,\n",
       " 'P': 3,\n",
       " 'Q': 10,\n",
       " 'R': 1,\n",
       " 'S': 1,\n",
       " 'T': 1,\n",
       " 'U': 1,\n",
       " 'V': 4,\n",
       " 'W': 4,\n",
       " 'X': 8,\n",
       " 'Y': 4,\n",
       " 'Z': 10,\n",
       " 'a': 1,\n",
       " 'b': 3,\n",
       " 'c': 3,\n",
       " 'd': 2,\n",
       " 'e': 1,\n",
       " 'f': 4,\n",
       " 'g': 2,\n",
       " 'h': 4,\n",
       " 'i': 1,\n",
       " 'j': 8,\n",
       " 'k': 5,\n",
       " 'l': 1,\n",
       " 'm': 3,\n",
       " 'n': 4,\n",
       " 'o': 1,\n",
       " 'p': 3,\n",
       " 'q': 10,\n",
       " 'r': 1,\n",
       " 's': 1,\n",
       " 't': 1,\n",
       " 'u': 1,\n",
       " 'v': 4,\n",
       " 'w': 4,\n",
       " 'x': 8,\n",
       " 'y': 4,\n",
       " 'z': 10}"
      ]
     },
     "execution_count": 18,
     "metadata": {},
     "output_type": "execute_result"
    }
   ],
   "source": [
    "# update both arrays to account for lowercase input\n",
    "points *= 2\n",
    "letters += [letter.lower() for letter in letters]\n",
    "letters_to_points = {letter:point for letter, point in zip(letters, points)}\n",
    "letters_to_points"
   ]
  },
  {
   "cell_type": "code",
   "execution_count": 19,
   "metadata": {},
   "outputs": [
    {
     "name": "stdout",
     "output_type": "stream",
     "text": [
      "{'apple': 2, 'cat': 1, 1: 1}\n",
      "{0: 5}\n"
     ]
    }
   ],
   "source": [
    "# Find the frequency of each element in a list of elements\n",
    "def frequency_dictionary(words):\n",
    "  my_dict = {}\n",
    "  for word in words:\n",
    "    if word in my_dict:\n",
    "      my_dict[word] += 1\n",
    "    else:\n",
    "      my_dict[word] = 1\n",
    "  return my_dict\n",
    "\n",
    "# Uncomment these function calls to test your  function:\n",
    "print(frequency_dictionary([\"apple\", \"apple\", \"cat\", 1]))\n",
    "# should print {\"apple\":2, \"cat\":1, 1:1}\n",
    "print(frequency_dictionary([0,0,0,0,0]))\n",
    "# should print {0:5}"
   ]
  },
  {
   "cell_type": "code",
   "execution_count": null,
   "metadata": {},
   "outputs": [],
   "source": [
    "# return the number of unique values in the dictionary.\n",
    "def unique_values(my_dictionary):\n",
    "  my_dict = {}\n",
    "  for value in my_dictionary.values():\n",
    "    if value in my_dict:\n",
    "      my_dict[value] += 1\n",
    "    else:\n",
    "      my_dict[value] = 1\n",
    "  return len(my_dict.keys())\n",
    "  \n",
    "# Uncomment these function calls to test your  function:\n",
    "print(unique_values({0:3, 1:1, 4:1, 5:3}))\n",
    "# should print 2\n",
    "\n",
    "print(unique_values({0:3, 1:3, 4:3, 5:3}))\n",
    "# should print 1"
   ]
  }
 ],
 "metadata": {
  "kernelspec": {
   "display_name": "Python 3",
   "language": "python",
   "name": "python3"
  },
  "language_info": {
   "codemirror_mode": {
    "name": "ipython",
    "version": 3
   },
   "file_extension": ".py",
   "mimetype": "text/x-python",
   "name": "python",
   "nbconvert_exporter": "python",
   "pygments_lexer": "ipython3",
   "version": "3.7.1"
  }
 },
 "nbformat": 4,
 "nbformat_minor": 2
}
