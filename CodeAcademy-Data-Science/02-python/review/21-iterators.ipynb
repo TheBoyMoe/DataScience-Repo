{
 "cells": [
  {
   "cell_type": "markdown",
   "metadata": {},
   "source": [
    "# Iterators\n",
    "\n",
    "An iterable is anything that returns a steady stream of data, one item at a time. It is most often a collection, e.g. list, dictionary, tuple. It is any object that can have an associated `iter()` method. It is an object that can return an **iterator**. Applying the `iter()` to an iterable creates an **iterator**.\n",
    "\n",
    "An **iterator** is an object that keeps state and produces the next value when you call `next()` on it. We can pass the iterator to `next()` function to retrieve the values one by one from the iterator object.\n",
    "\n",
    "Lists, strings, range objects, dictionaries, tuples and file connections are all iterables.\n",
    "\n",
    "To create an iterator all we have to do is pass an iterable object to the `iter()` function:"
   ]
  },
  {
   "cell_type": "code",
   "execution_count": 4,
   "metadata": {},
   "outputs": [
    {
     "data": {
      "text/plain": [
       "'h'"
      ]
     },
     "execution_count": 4,
     "metadata": {},
     "output_type": "execute_result"
    }
   ],
   "source": [
    "my_iter = 'hello' # iterable\n",
    "it = iter(my_iter) # iterator\n",
    "next(it)"
   ]
  },
  {
   "cell_type": "code",
   "execution_count": 5,
   "metadata": {},
   "outputs": [
    {
     "data": {
      "text/plain": [
       "'e'"
      ]
     },
     "execution_count": 5,
     "metadata": {},
     "output_type": "execute_result"
    }
   ],
   "source": [
    "# the iterator keeps track of state\n",
    "next(it)"
   ]
  },
  {
   "cell_type": "markdown",
   "metadata": {},
   "source": [
    "Once all items have been returned the iterator throws a `StopIteration` exception.\n",
    "\n",
    "We can return all items at once using the `splat` or `*` operator."
   ]
  },
  {
   "cell_type": "code",
   "execution_count": 7,
   "metadata": {},
   "outputs": [
    {
     "name": "stdout",
     "output_type": "stream",
     "text": [
      "l l o\n"
     ]
    }
   ],
   "source": [
    "print(*it) # returned the remaining items"
   ]
  },
  {
   "cell_type": "code",
   "execution_count": 9,
   "metadata": {},
   "outputs": [
    {
     "name": "stdout",
     "output_type": "stream",
     "text": [
      "\n"
     ]
    }
   ],
   "source": [
    "print(*it) # no more to return, need to create another iterator"
   ]
  },
  {
   "cell_type": "code",
   "execution_count": 20,
   "metadata": {},
   "outputs": [],
   "source": [
    "lst = ['jay garrick', 'barry allen', 'wally west', 'bart allen']\n",
    "it_lst = iter(lst)"
   ]
  },
  {
   "cell_type": "code",
   "execution_count": 21,
   "metadata": {},
   "outputs": [
    {
     "data": {
      "text/plain": [
       "'jay garrick'"
      ]
     },
     "execution_count": 21,
     "metadata": {},
     "output_type": "execute_result"
    }
   ],
   "source": [
    "next(it_lst)"
   ]
  },
  {
   "cell_type": "markdown",
   "metadata": {},
   "source": [
    "`range()` doesn't actually create a list; instead, it creates a range object with an iterator that produces the values until it reaches the limit, e.g. `4` for `range(5)`.\n",
    "\n",
    "If `range()` created the actual list, calling it with a value of `10 ** 100` may not work, especially since a number as big as that may go over a regular computer's memory."
   ]
  },
  {
   "cell_type": "code",
   "execution_count": 22,
   "metadata": {},
   "outputs": [
    {
     "name": "stdout",
     "output_type": "stream",
     "text": [
      "0\n",
      "1\n",
      "2\n",
      "3\n",
      "4\n"
     ]
    }
   ],
   "source": [
    "googol = iter(range(10 ** 100))\n",
    "\n",
    "# Print the first 5 values from googol\n",
    "print(next(googol))\n",
    "print(next(googol))\n",
    "print(next(googol))\n",
    "print(next(googol))\n",
    "print(next(googol))"
   ]
  },
  {
   "cell_type": "markdown",
   "metadata": {},
   "source": [
    "There are also functions that take iterators as arguments. For example, the `list()` and `sum()` functions return a list and the sum of elements, respectively."
   ]
  },
  {
   "cell_type": "code",
   "execution_count": 23,
   "metadata": {},
   "outputs": [
    {
     "data": {
      "text/plain": [
       "[0, 1, 2, 3, 4, 5, 6, 7, 8, 9]"
      ]
     },
     "execution_count": 23,
     "metadata": {},
     "output_type": "execute_result"
    }
   ],
   "source": [
    "list(range(10))"
   ]
  },
  {
   "cell_type": "code",
   "execution_count": 24,
   "metadata": {},
   "outputs": [
    {
     "data": {
      "text/plain": [
       "45"
      ]
     },
     "execution_count": 24,
     "metadata": {},
     "output_type": "execute_result"
    }
   ],
   "source": [
    "sum(range(10))"
   ]
  },
  {
   "cell_type": "markdown",
   "metadata": {},
   "source": [
    "`enumerate()` will take any iterable as an argument and returns an `enumerate` object which consists of a sequence of `tuples`, each consisting of the item and it's corresponding index in the iterable. Passing the `enumerate` object to `list()` returns a list of `tuples`."
   ]
  },
  {
   "cell_type": "code",
   "execution_count": 25,
   "metadata": {},
   "outputs": [
    {
     "data": {
      "text/plain": [
       "[(0, 'Thor'),\n",
       " (1, 'Iron Man'),\n",
       " (2, 'Spider Man'),\n",
       " (3, 'Hulk'),\n",
       " (4, 'Black Widow')]"
      ]
     },
     "execution_count": 25,
     "metadata": {},
     "output_type": "execute_result"
    }
   ],
   "source": [
    "avengers = ['Thor', 'Iron Man', 'Spider Man', 'Hulk', 'Black Widow']\n",
    "en = enumerate(avengers)\n",
    "list(en)"
   ]
  },
  {
   "cell_type": "markdown",
   "metadata": {},
   "source": [
    "The `enumerate` object is itself an iterable and we can unpack it using a `for` loop. Once an iterable has been unpacked, e.g. using `list()`, `for loop` or `*`, you have to re-create it. You can only iterate over it or 'unpack' it once"
   ]
  },
  {
   "cell_type": "code",
   "execution_count": 29,
   "metadata": {},
   "outputs": [
    {
     "name": "stdout",
     "output_type": "stream",
     "text": [
      "0: Thor\n",
      "1: Iron Man\n",
      "2: Spider Man\n",
      "3: Hulk\n",
      "4: Black Widow\n"
     ]
    }
   ],
   "source": [
    "for index, value in enumerate(avengers):\n",
    "    print('{i}: {v}'.format(i=index, v=value))"
   ]
  },
  {
   "cell_type": "markdown",
   "metadata": {},
   "source": [
    "Default behaviour is to begin indexing at `0`, that can be altered with the `start` keyword"
   ]
  },
  {
   "cell_type": "code",
   "execution_count": 32,
   "metadata": {},
   "outputs": [
    {
     "name": "stdout",
     "output_type": "stream",
     "text": [
      "100: Thor\n",
      "101: Iron Man\n",
      "102: Spider Man\n",
      "103: Hulk\n",
      "104: Black Widow\n"
     ]
    }
   ],
   "source": [
    "for i, v in enumerate(avengers, start=100):\n",
    "    print(str(i) + ': ' + v)"
   ]
  },
  {
   "cell_type": "markdown",
   "metadata": {},
   "source": [
    "`zip()` will allows us to 'stitch' together an arbitrary number of iterables and returns an iterator(zip object) of `tuples`.\n",
    "\n",
    "Each corresponding item in each iterable is combined together to give a tuple."
   ]
  },
  {
   "cell_type": "code",
   "execution_count": 34,
   "metadata": {},
   "outputs": [
    {
     "data": {
      "text/plain": [
       "zip"
      ]
     },
     "execution_count": 34,
     "metadata": {},
     "output_type": "execute_result"
    }
   ],
   "source": [
    "avengers = ['Thor', 'Iron Man', 'Spider Man', 'Hulk', 'Black Widow', 'Doc Strange']\n",
    "names = ['Odin Son', 'Tony Stark', 'Peter Parker', 'Bruce Banner', 'Nat Ramonov', 'Steven Strange']\n",
    "alive = [True, True, False, True, True, False]\n",
    "z = zip(avengers, names, alive)\n",
    "type(z)"
   ]
  },
  {
   "cell_type": "code",
   "execution_count": 35,
   "metadata": {},
   "outputs": [
    {
     "data": {
      "text/plain": [
       "[('Thor', 'Odin Son', True),\n",
       " ('Iron Man', 'Tony Stark', True),\n",
       " ('Spider Man', 'Peter Parker', False),\n",
       " ('Hulk', 'Bruce Banner', True),\n",
       " ('Black Widow', 'Nat Ramonov', True),\n",
       " ('Doc Strange', 'Steven Strange', False)]"
      ]
     },
     "execution_count": 35,
     "metadata": {},
     "output_type": "execute_result"
    }
   ],
   "source": [
    "list(z)"
   ]
  },
  {
   "cell_type": "markdown",
   "metadata": {},
   "source": [
    "We can unpack the `zip` object with a `for` loop or the `splat` operator"
   ]
  },
  {
   "cell_type": "code",
   "execution_count": 37,
   "metadata": {},
   "outputs": [
    {
     "name": "stdout",
     "output_type": "stream",
     "text": [
      "Thor, Odin Son, True\n",
      "Iron Man, Tony Stark, True\n",
      "Spider Man, Peter Parker, False\n",
      "Hulk, Bruce Banner, True\n",
      "Black Widow, Nat Ramonov, True\n",
      "Doc Strange, Steven Strange, False\n"
     ]
    }
   ],
   "source": [
    "for avenger, name, live in zip(avengers, names, alive):\n",
    "    print('{a}, {n}, {l}'.format(a=avenger, n=name, l=live))"
   ]
  },
  {
   "cell_type": "markdown",
   "metadata": {},
   "source": [
    "The `splat` or `*` operator unpacks an iterable such as a list or a tuple into positional arguments in a function call."
   ]
  },
  {
   "cell_type": "code",
   "execution_count": 39,
   "metadata": {},
   "outputs": [
    {
     "name": "stdout",
     "output_type": "stream",
     "text": [
      "('Thor', 'Odin Son', True) ('Iron Man', 'Tony Stark', True) ('Spider Man', 'Peter Parker', False) ('Hulk', 'Bruce Banner', True) ('Black Widow', 'Nat Ramonov', True) ('Doc Strange', 'Steven Strange', False)\n"
     ]
    }
   ],
   "source": [
    "z = zip(avengers, names, alive)\n",
    "print(*z)"
   ]
  },
  {
   "cell_type": "markdown",
   "metadata": {},
   "source": [
    "You can 'unzip' a `zip` object using `*` in combination with the `zip()` function."
   ]
  },
  {
   "cell_type": "code",
   "execution_count": 44,
   "metadata": {},
   "outputs": [
    {
     "name": "stdout",
     "output_type": "stream",
     "text": [
      "('Thor', 'Iron Man', 'Spider Man', 'Hulk', 'Black Widow', 'Doc Strange')\n",
      "('Odin Son', 'Tony Stark', 'Peter Parker', 'Bruce Banner', 'Nat Ramonov', 'Steven Strange')\n",
      "(True, True, False, True, True, False)\n"
     ]
    }
   ],
   "source": [
    "avengers = ['Thor', 'Iron Man', 'Spider Man', 'Hulk', 'Black Widow', 'Doc Strange']\n",
    "names = ['Odin Son', 'Tony Stark', 'Peter Parker', 'Bruce Banner', 'Nat Ramonov', 'Steven Strange']\n",
    "alive = [True, True, False, True, True, False]\n",
    "z = zip(avengers, names, alive)\n",
    "a, n, l = zip(*z)\n",
    "print(a)\n",
    "print(n)\n",
    "print(l)"
   ]
  }
 ],
 "metadata": {
  "kernelspec": {
   "display_name": "Python 3",
   "language": "python",
   "name": "python3"
  },
  "language_info": {
   "codemirror_mode": {
    "name": "ipython",
    "version": 3
   },
   "file_extension": ".py",
   "mimetype": "text/x-python",
   "name": "python",
   "nbconvert_exporter": "python",
   "pygments_lexer": "ipython3",
   "version": "3.6.7"
  }
 },
 "nbformat": 4,
 "nbformat_minor": 2
}
