{
 "cells": [
  {
   "cell_type": "markdown",
   "metadata": {},
   "source": [
    "# Loops\n",
    "\n",
    "Python provides a number of ways to iterate through a list:\n",
    "\n",
    "`for loop` - iterate though eash element of the loop until the end(loop a fixed number of times).\n",
    "\n",
    "`while loop` - iterate through a list until a particular condition is met.\n",
    "\n",
    "`list comprehensions` - iterate through a list, execute an operation on each list item, and return a new list of the altered items."
   ]
  },
  {
   "cell_type": "markdown",
   "metadata": {},
   "source": [
    "### For Loop\n",
    "\n",
    "Used to iterate over LISTS or when we want to loop a fixed number of times. General syntax:\n",
    "\n",
    "```py\n",
    "for <temporary variable> in <list variable>:\n",
    "    <action>\n",
    "```\n",
    "\n",
    "Everything in the same level of indentation after the for loop declaration is included in the for loop, and run every iteration.\n",
    "\n",
    "When we just want to perform an action a specifi number of times, we can use the following:\n",
    "\n",
    "```py\n",
    "for index in <range>:\n",
    "    <action>\n",
    "```\n",
    "\n",
    "**Break**\n",
    "\n",
    "We can stop a loop before it's completion by using the `break` keyword. When the interpreter hits a `break` statement, control returns to the code outside of the for loop. We would normally execute `break` when a particular condition is met"
   ]
  },
  {
   "cell_type": "code",
   "execution_count": 2,
   "metadata": {},
   "outputs": [
    {
     "name": "stdout",
     "output_type": "stream",
     "text": [
      "1\n",
      "2\n",
      "3\n",
      "4\n",
      "5\n",
      "found it 5\n"
     ]
    }
   ],
   "source": [
    "numbers = [1,2,3,4,5,6,7,8]\n",
    "for num in numbers:\n",
    "    print(num)\n",
    "    if num == 5:\n",
    "        print('found it', num)\n",
    "        break"
   ]
  },
  {
   "cell_type": "markdown",
   "metadata": {},
   "source": [
    "**Continue**\n",
    "\n",
    "We can skip an iteration using the `continue` keyword. Any code following the `continue` keyword is ignored, control returns to the top of the loop for the next iteration."
   ]
  },
  {
   "cell_type": "code",
   "execution_count": 12,
   "metadata": {},
   "outputs": [
    {
     "name": "stdout",
     "output_type": "stream",
     "text": [
      "1\n",
      "2\n",
      "7\n",
      "8\n"
     ]
    }
   ],
   "source": [
    "for num in numbers:\n",
    "    if num > 2 and num < 7:\n",
    "        continue\n",
    "    print(num)"
   ]
  },
  {
   "cell_type": "markdown",
   "metadata": {},
   "source": [
    "### While Loop\n",
    "\n",
    "Executes a code block while some condition is TRUE, each iteration the condition is evaluated to see if it is satisfied. General syntax:\n",
    "\n",
    "```py\n",
    "# often used in conduction with a counter\n",
    "while <condition is true>:\n",
    "    <action>\n",
    "    <update condition>\n",
    "```\n",
    "\n",
    "OR\n",
    "\n",
    "```py\n",
    "while True:\n",
    "    if <condition is true>:\n",
    "        break\n",
    "    <execute action>\n",
    "```\n",
    "\n",
    "While loops can be useful when you don't know how many iterations it will take to satisfy a condition."
   ]
  },
  {
   "cell_type": "markdown",
   "metadata": {},
   "source": [
    "### Nested Loops\n",
    "\n",
    "We use nested loops when handling nested lists and we need to iterate through the individual elements of the list."
   ]
  },
  {
   "cell_type": "code",
   "execution_count": 13,
   "metadata": {},
   "outputs": [
    {
     "data": {
      "text/plain": [
       "96"
      ]
     },
     "execution_count": 13,
     "metadata": {},
     "output_type": "execute_result"
    }
   ],
   "source": [
    "sales_data = [[12, 17, 22], [2, 10, 3], [5, 12, 13]]\n",
    "scoops_sold = 0\n",
    "for location in sales_data:\n",
    "  for scoop in location:\n",
    "    scoops_sold += scoop\n",
    "    \n",
    "scoops_sold"
   ]
  },
  {
   "cell_type": "markdown",
   "metadata": {},
   "source": [
    "### List Comprehensions\n",
    "\n",
    "Are a shorthand technique of being able to iterate through a list of items, manipulate each item and return a new list with the manipulated items.\n",
    "\n",
    "You can do all this with a for loop, `list comprehensions` let you do it with a single line of code. Thus, we can filter the following list to get just the usernames:"
   ]
  },
  {
   "cell_type": "code",
   "execution_count": 15,
   "metadata": {},
   "outputs": [
    {
     "data": {
      "text/plain": [
       "['@coolguy35', '@kewldawg54', '@matchamom']"
      ]
     },
     "execution_count": 15,
     "metadata": {},
     "output_type": "execute_result"
    }
   ],
   "source": [
    "words = [\"@coolguy35\", \"#nofilter\", \"@kewldawg54\", \"reply\", \"timestamp\", \"@matchamom\", \"follow\", \"#updog\"]\n",
    "usernames = []\n",
    "for word in words:\n",
    "    if word[0] == '@':\n",
    "        usernames.append(word)\n",
    "usernames    "
   ]
  },
  {
   "cell_type": "markdown",
   "metadata": {},
   "source": [
    "`list comprehensions` have the following syntax:\n",
    "\n",
    "```py\n",
    "new_list = [<modify item or item> for <item> in <list> <optional check on item prior to action>]\n",
    "```\n",
    "\n",
    "If the optional check returns false, that item is skipped, otherwise it is modified and the result appended to a new list."
   ]
  },
  {
   "cell_type": "code",
   "execution_count": 17,
   "metadata": {},
   "outputs": [
    {
     "data": {
      "text/plain": [
       "['@coolguy35', '@kewldawg54', '@matchamom']"
      ]
     },
     "execution_count": 17,
     "metadata": {},
     "output_type": "execute_result"
    }
   ],
   "source": [
    "new_users = [word for word in words if word[0] == '@']\n",
    "new_users"
   ]
  },
  {
   "cell_type": "code",
   "execution_count": 18,
   "metadata": {},
   "outputs": [
    {
     "data": {
      "text/plain": [
       "['@coolguy35 please follow me',\n",
       " '@kewldawg54 please follow me',\n",
       " '@matchamom please follow me']"
      ]
     },
     "execution_count": 18,
     "metadata": {},
     "output_type": "execute_result"
    }
   ],
   "source": [
    "# add the string ' please follow me' to the end of each user name'\n",
    "new_followers = [word + ' please follow me' for word in usernames if word[0] == '@']\n",
    "new_followers"
   ]
  },
  {
   "cell_type": "code",
   "execution_count": 19,
   "metadata": {},
   "outputs": [
    {
     "data": {
      "text/plain": [
       "[292, 275, 201]"
      ]
     },
     "execution_count": 19,
     "metadata": {},
     "output_type": "execute_result"
    }
   ],
   "source": [
    "# add 100 to each number in the following list if vote > 90\n",
    "my_upvotes = [192, 34, 22, 175, 75, 101, 97]\n",
    "new_votes = [upvote + 100 for upvote in my_upvotes if upvote > 100]\n",
    "new_votes"
   ]
  }
 ],
 "metadata": {
  "kernelspec": {
   "display_name": "Python 3",
   "language": "python",
   "name": "python3"
  },
  "language_info": {
   "codemirror_mode": {
    "name": "ipython",
    "version": 3
   },
   "file_extension": ".py",
   "mimetype": "text/x-python",
   "name": "python",
   "nbconvert_exporter": "python",
   "pygments_lexer": "ipython3",
   "version": "3.7.1"
  }
 },
 "nbformat": 4,
 "nbformat_minor": 2
}
