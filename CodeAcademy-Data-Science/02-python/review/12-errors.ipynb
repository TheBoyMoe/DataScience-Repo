{
 "cells": [
  {
   "cell_type": "markdown",
   "metadata": {},
   "source": [
    "# Error Handling\n",
    "\n",
    "Two common errors encountered are `SyntaxError` and `NameError`\n",
    "\n",
    "`SyntaxError` - there is an error in the way the code was written, e.g. missing paranthesis, improper spacing, punctuation that does not belong, mismatched quotes in a string etc\n",
    "\n",
    "`NameError` - the interpreter encounters a word it does not recognize, e.g. a variable that has not been defined that is being referenced."
   ]
  },
  {
   "cell_type": "markdown",
   "metadata": {},
   "source": [
    "### Other Errors\n",
    "\n",
    "`ZeroDivisionError` - raised when the interpreter tries to divide by zero.\n",
    "\n",
    "`TypeError` - raised when trying to carryout an operation on a type that is not supported, e.g trying to add an `int` with a `string`"
   ]
  },
  {
   "cell_type": "code",
   "execution_count": null,
   "metadata": {},
   "outputs": [],
   "source": []
  }
 ],
 "metadata": {
  "kernelspec": {
   "display_name": "Python 3",
   "language": "python",
   "name": "python3"
  },
  "language_info": {
   "codemirror_mode": {
    "name": "ipython",
    "version": 3
   },
   "file_extension": ".py",
   "mimetype": "text/x-python",
   "name": "python",
   "nbconvert_exporter": "python",
   "pygments_lexer": "ipython3",
   "version": "3.7.0"
  }
 },
 "nbformat": 4,
 "nbformat_minor": 2
}
