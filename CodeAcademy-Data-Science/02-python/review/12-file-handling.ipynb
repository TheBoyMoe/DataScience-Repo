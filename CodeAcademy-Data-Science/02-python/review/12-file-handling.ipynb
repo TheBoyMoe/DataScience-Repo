{
 "cells": [
  {
   "cell_type": "markdown",
   "metadata": {},
   "source": [
    "# File Handling\n",
    "\n",
    "## Reading Files\n",
    "\n",
    "1. `read()`\n",
    "\n",
    "We can open a file with Python's `open()` function. Takes two arguments, the file name/path as a string argument, and optionaly the **mode**, default is **read**, 'r'. Other modes are **write**, 'w' and **append**, 'a'. The operation returns a file object.\n",
    "\n",
    "We can read it's contents using `read()`, which returns a single string."
   ]
  },
  {
   "cell_type": "code",
   "execution_count": 5,
   "metadata": {},
   "outputs": [
    {
     "name": "stdout",
     "output_type": "stream",
     "text": [
      "To one who has been long in city pent,\n",
      "’Tis very sweet to look into the fair\n",
      "And open face of heaven,—to breathe a prayer\n",
      "Full in the smile of the blue firmament.\n"
     ]
    }
   ],
   "source": [
    "with open('keats_sonnet.txt') as sonnet_txt:\n",
    "    contents = sonnet_txt.read()\n",
    "print(contents)"
   ]
  },
  {
   "cell_type": "markdown",
   "metadata": {},
   "source": [
    "2. `readlines()`\n",
    "\n",
    "If you want to read a text file line, by line use `.readlines()`. Reads the whole file, returning a line for each line in the text."
   ]
  },
  {
   "cell_type": "code",
   "execution_count": 8,
   "metadata": {},
   "outputs": [
    {
     "name": "stdout",
     "output_type": "stream",
     "text": [
      "To one who has been long in city pent,\n",
      "\n",
      "’Tis very sweet to look into the fair\n",
      "\n",
      "And open face of heaven,—to breathe a prayer\n",
      "\n",
      "Full in the smile of the blue firmament.\n"
     ]
    }
   ],
   "source": [
    "with open('keats_sonnet.txt') as sonnet_txt:\n",
    "    for line in sonnet_txt.readlines():\n",
    "        print(line)"
   ]
  },
  {
   "cell_type": "markdown",
   "metadata": {},
   "source": [
    "3. `readline()`\n",
    "\n",
    "`readline()` will read the files contents one line at a time, each time it's called(remembering the last line read), it will return the NEXT line.  Once the entire contents have been read, `readline()` returns an empty string, `''`, and does not throw an error."
   ]
  },
  {
   "cell_type": "code",
   "execution_count": 9,
   "metadata": {},
   "outputs": [],
   "source": [
    "with open('keats_sonnet.txt') as sonnet_txt:\n",
    "    first = sonnet_txt.readline()\n",
    "    second = sonnet_txt.readline()\n",
    "    third = sonnet_txt.readline()\n",
    "    fourth = sonnet_txt.readline()\n",
    "    fifth = sonnet_txt.readline()"
   ]
  },
  {
   "cell_type": "code",
   "execution_count": 10,
   "metadata": {},
   "outputs": [
    {
     "name": "stdout",
     "output_type": "stream",
     "text": [
      "Full in the smile of the blue firmament.\n"
     ]
    }
   ],
   "source": [
    "print(fourth)"
   ]
  },
  {
   "cell_type": "code",
   "execution_count": 11,
   "metadata": {},
   "outputs": [
    {
     "name": "stdout",
     "output_type": "stream",
     "text": [
      "\n"
     ]
    }
   ],
   "source": [
    "print(fifth)"
   ]
  },
  {
   "cell_type": "markdown",
   "metadata": {},
   "source": [
    "We can also open and read text files using `.open()` and a loop."
   ]
  },
  {
   "cell_type": "code",
   "execution_count": 2,
   "metadata": {},
   "outputs": [
    {
     "data": {
      "text/plain": [
       "['Afghanistan', 'Albania', 'Algeria', 'Andorra', 'Angola']"
      ]
     },
     "execution_count": 2,
     "metadata": {},
     "output_type": "execute_result"
    }
   ],
   "source": [
    "f = open('countries.txt', 'r')\n",
    "countries = []\n",
    "for country in f:\n",
    "    country = country.strip() # remove line break\n",
    "    countries.append(country)\n",
    "\n",
    "f.close() # don;t forget to close the connection\n",
    "countries[0:5]"
   ]
  },
  {
   "cell_type": "markdown",
   "metadata": {},
   "source": [
    "## Writing Files\n",
    "\n",
    "To write to a file, again we use the `open()` function to open the file, however, we pass in `w` as the second argument to switch `open()` into **write** mode.\n",
    "\n",
    "By default, `open()` is in **read** mode. You can do the same by passing in `r`.\n",
    "\n",
    "To actually **write** to the file object, use `write()` and pass the string to be written as an argument. If the file specified by the `open()` command already exists, it will be overwritten.\n",
    "\n",
    "```py\n",
    "with open('generated_file.txt', 'w') as gen_file:\n",
    "  gen_file.write(\"Start entering some txt \")\n",
    "```\n",
    "\n",
    "Passing `a` as an argument to `open()` puts it into **append** mode, adding the text as a new line to the existing file:\n",
    "\n",
    "```py\n",
    "with open('generated_file.txt', 'a') as gen_file:\n",
    "  gen_file.write(\"... and carry one once more \")\n",
    "```"
   ]
  },
  {
   "cell_type": "code",
   "execution_count": 14,
   "metadata": {},
   "outputs": [],
   "source": [
    "with open('keats_sonnet.txt', 'a') as sonnet_txt:\n",
    "    sonnet_txt.write('\\nAn additional line of text....')"
   ]
  },
  {
   "cell_type": "code",
   "execution_count": 16,
   "metadata": {},
   "outputs": [
    {
     "name": "stdout",
     "output_type": "stream",
     "text": [
      "To one who has been long in city pent,\n",
      "’Tis very sweet to look into the fair\n",
      "And open face of heaven,—to breathe a prayer\n",
      "Full in the smile of the blue firmament.\n",
      "An additional line of text....\n"
     ]
    }
   ],
   "source": [
    "with open('keats_sonnet.txt') as sonnet_txt:\n",
    "    contents = sonnet_txt.read()\n",
    "print(contents)"
   ]
  },
  {
   "cell_type": "markdown",
   "metadata": {},
   "source": [
    "**NOTE**\n",
    "\n",
    "The `with` keyword invokes a `context manager` for the file that we're calling `open()` on. This `context manager` takes care of **opening** the file when we call `open()` and then **closing** the file after we leave the indented block.\n",
    "\n",
    "We need to close the connection to the open file. Leaving it open unnecessarily can lead to memory leaks, affecting performance, or impact other programs that might be trying to access that file.\n",
    "\n",
    "The `with` syntax replaces older ways to access files where you need to call `.close()` on the file object manually.\n",
    "\n",
    "```py\n",
    "fun_cities_file = open('fun_cities.txt', 'a')\n",
    "\n",
    "# We can now append a line to \"fun_cities\".\n",
    "fun_cities_file.write(\"Montréal\")\n",
    "\n",
    "# But we need to remember to close the file\n",
    "fun_cities_file.close()\n",
    "```"
   ]
  },
  {
   "cell_type": "markdown",
   "metadata": {},
   "source": [
    "We can write to file using `.open()` and the `.write()` methods:"
   ]
  },
  {
   "cell_type": "code",
   "execution_count": 5,
   "metadata": {},
   "outputs": [
    {
     "name": "stdout",
     "output_type": "stream",
     "text": [
      "You name > werwer\n",
      "Score for werwer > 234\n",
      "You name > wefwe\n",
      "Score for wefwe > 234\n",
      "You name > rtyrt\n",
      "Score for rtyrt > 7565\n",
      "You name > rhrther\n",
      "Score for rhrther > 234\n",
      "You name > bcvb\n",
      "Score for bcvb > 435\n",
      "You name > quit\n",
      "Quitting....\n"
     ]
    }
   ],
   "source": [
    "f = open('scores.csv', 'w') # set 'write' mode\n",
    "while True:\n",
    "    participant = input('You name > ') # await for input from the user\n",
    "    if participant == 'quit':\n",
    "        print('Quitting....')\n",
    "        break\n",
    "        \n",
    "    score = input('Score for ' + participant + ' > ')\n",
    "    f.write('{},{}\\n'.format(participant, score)) # print each entry on a new line\n",
    "\n",
    "f.close() # don't forget to close"
   ]
  },
  {
   "cell_type": "code",
   "execution_count": 9,
   "metadata": {},
   "outputs": [
    {
     "name": "stdout",
     "output_type": "stream",
     "text": [
      "{'werwer': 234, 'wefwe': 234, 'rtyrt': 7565, 'rhrther': 234, 'bcvb': 435}\n"
     ]
    }
   ],
   "source": [
    "# read the file back, populateing a dictionary with the data \n",
    "f = open('scores.csv', 'r')\n",
    "dict = {}\n",
    "for line in f:\n",
    "    # remove trailing '\\n'\n",
    "    strings = line.strip().split(',')\n",
    "    dict[strings[0]] = int(strings[1])\n",
    "    \n",
    "f.close()\n",
    "print(dict)"
   ]
  },
  {
   "cell_type": "markdown",
   "metadata": {},
   "source": [
    "## Handling CSV Files\n",
    "\n",
    "Reading/writing to text files is a straightforward process sincde no additional libraries are required in order to parse the files contents.\n",
    "\n",
    "### Reading CSV Files\n",
    "\n",
    "CSV files are an example of a text file that impose a structure to their data. They are the usual format used to export data from spreadsheet apps.\n",
    "\n",
    "```py\n",
    "Name,Username,Email\n",
    "Roger Smith,rsmith,wigginsryan@yahoo.com\n",
    "Michelle Beck,mlbeck,hcosta@hotmail.com\n",
    "Ashley Barker,a_bark_x,a_bark_x@turner.com\n",
    "Lynn Gonzales,goodmanjames,lynniegonz@hotmail.com\n",
    "Jennifer Chase,chasej,jchase@ramirez.com\n",
    "```\n",
    "The first row of the CSV file are the labels of the data, each row representing an individual record with each value being separated by a comma."
   ]
  },
  {
   "cell_type": "code",
   "execution_count": 17,
   "metadata": {},
   "outputs": [
    {
     "name": "stdout",
     "output_type": "stream",
     "text": [
      "Name,Age,ID\n",
      "Richard Andrews,43,0de2ecf31df2386377b1d2dc4fae8b16fad05ad0         \n",
      "Hailey Sellers,24,3d9b8a95458c1df2687191e8146a97ca4afb28aa          \n",
      "Jessica Pace,39,a5daa63ef893cb86bc8df1110cc9a5f8e1d0c563            \n",
      "Jasmine Escobar,42,9844e403841ec84b9a2fb3caf9d2a1c9ee042d31         \n",
      "Karen Kelly,26,8338f76ac0e9a76d73d57790f1d9843b185b5428             \n",
      "Patricia Christensen,70,23099bb630c1c64989458393045f08de3bac0eb9    \n",
      "Jessica Hansen,24,a8c035ccd099ef909a46e0d96b76c0f132c9c562          \n",
      "Raymond Adams,53,a051901830ff6c2095524ef92b1541eef9f8c64d           \n",
      "Stephanie AMorrow,53,3bad04a5fc0a7ec33735ae45535f354887988f35        \n",
      "Timothy Ramos,34,b4930920b5256c4e592541297e43a556c8fe33a8\n"
     ]
    }
   ],
   "source": [
    "# open the csv file as any text file\n",
    "with open('logger.csv') as log_csv_file:\n",
    "    contents = log_csv_file.read()\n",
    "print(contents)"
   ]
  },
  {
   "cell_type": "markdown",
   "metadata": {},
   "source": [
    "We can convert that data into a dictionary using the `csv` library's `DictReader` object. Pass the additional keyword argument `newline=''` to the file opening `open()` function so that we don't accidentally mistake a line break in one of our data fields as a new row in our CSV.\n",
    "\n",
    "After opening the file we use `csv.DictReader(users_csv)` which converts the lines of our CSV file to Python **dictionaries** which we can use access methods for. The keys of the dictionary are, by default, the entries in the first line of our CSV file, the labels.\n",
    "\n",
    "When we iterate through the rows of our `user_reader` object, we access all of the rows in our CSV as dictionaries (except for the first row, which we used to label the keys of our dictionary). By accessing the 'Name' key of each of these rows we can grab the name value in that row and append it to our user_names list."
   ]
  },
  {
   "cell_type": "code",
   "execution_count": 26,
   "metadata": {},
   "outputs": [
    {
     "data": {
      "text/plain": [
       "{'0de2ecf31df2386377b1d2dc4fae8b16fad05ad0         ': 'Richard Andrews',\n",
       " '3d9b8a95458c1df2687191e8146a97ca4afb28aa          ': 'Hailey Sellers',\n",
       " 'a5daa63ef893cb86bc8df1110cc9a5f8e1d0c563            ': 'Jessica Pace',\n",
       " '9844e403841ec84b9a2fb3caf9d2a1c9ee042d31         ': 'Jasmine Escobar',\n",
       " '8338f76ac0e9a76d73d57790f1d9843b185b5428             ': 'Karen Kelly',\n",
       " '23099bb630c1c64989458393045f08de3bac0eb9    ': 'Patricia Christensen',\n",
       " 'a8c035ccd099ef909a46e0d96b76c0f132c9c562          ': 'Jessica Hansen',\n",
       " 'a051901830ff6c2095524ef92b1541eef9f8c64d           ': 'Raymond Adams',\n",
       " '3bad04a5fc0a7ec33735ae45535f354887988f35        ': 'Stephanie AMorrow',\n",
       " 'b4930920b5256c4e592541297e43a556c8fe33a8': 'Timothy Ramos'}"
      ]
     },
     "execution_count": 26,
     "metadata": {},
     "output_type": "execute_result"
    }
   ],
   "source": [
    "import csv\n",
    "\n",
    "user_names = []\n",
    "user_ages = []\n",
    "user_ids = []\n",
    "with open('logger.csv', newline='') as users_csv:\n",
    "  user_reader = csv.DictReader(users_csv)\n",
    "  for row in user_reader:\n",
    "    user_names.append(row['Name'])\n",
    "    user_ages.append(row['Age'])\n",
    "    user_ids.append(row['ID'])\n",
    "\n",
    "users = {user_id:user_name for user_id, user_name in zip(user_ids, user_names)}\n",
    "users"
   ]
  },
  {
   "cell_type": "markdown",
   "metadata": {},
   "source": [
    "CSV file don't just use commas as a delimeter to separate values, one common alternative are `TABs` - Tab-Separated files. any delimiter can be used, e.g.\n",
    "\n",
    "```py\n",
    "# addresses.csv\n",
    "Name;Address;Telephone\n",
    "Donna Smith;126 Orr Corner Suite 857\\nEast Michael, LA 54411;906-918-6560\n",
    "Aaron Osborn;6965 Miller Station Suite 485\\nNorth Michelle, KS 64364;815.039.3661x42816\n",
    "Jennifer Barnett;8749 Alicia Vista Apt. 288\\nLake Victoriaberg, TN 51094;397-796-4842x451\n",
    "Joshua Bryan;20116 Stephanie Stravenue\\nWhitneytown, IA 87358;(380)074-6173\n",
    "```\n",
    "\n",
    "In this example we're using a `;`. Notice the newline, `\\n`, character. The possibility of a new line escaped by a `\\n` character in our data is why we pass the `newline=''` keyword argument to the `open()` function. Also notice that many of these addresses have commas in them.\n",
    "\n",
    "```py\n",
    "import csv\n",
    "\n",
    "with open('addresses.csv', newline='') as addresses_csv:\n",
    "  address_reader = csv.DictReader(addresses_csv, delimiter=';')\n",
    "  for row in address_reader:\n",
    "    print(row['Address'])\n",
    "```\n",
    "\n",
    "When we call `csv.DictReader` we pass in the delimiter parameter `;`, and iterate through the file contents."
   ]
  },
  {
   "cell_type": "code",
   "execution_count": 3,
   "metadata": {},
   "outputs": [
    {
     "data": {
      "text/plain": [
       "['978-0-12-995015-8',\n",
       " '978-1-78110-100-1',\n",
       " '978-0-315-25137-3',\n",
       " '978-0-388-70665-7',\n",
       " '978-1-75098-721-6',\n",
       " '978-1-06-483628-6',\n",
       " '978-0-7419-8114-1',\n",
       " '978-1-4457-0480-7',\n",
       " '978-0-657-61030-2',\n",
       " '978-1-5039-7539-2']"
      ]
     },
     "execution_count": 3,
     "metadata": {},
     "output_type": "execute_result"
    }
   ],
   "source": [
    "import csv\n",
    "\n",
    "with open('books.csv') as books_csv:\n",
    "    books_reader = csv.DictReader(books_csv, delimiter='@')\n",
    "    isbn_list = [book['ISBN'] for book in books_reader]\n",
    "isbn_list"
   ]
  },
  {
   "cell_type": "markdown",
   "metadata": {},
   "source": [
    "### Writing to CSV Files\n",
    "\n",
    "We can also write data to csv files which can be imported into a spreadsheet application."
   ]
  },
  {
   "cell_type": "code",
   "execution_count": 6,
   "metadata": {},
   "outputs": [],
   "source": [
    "big_list = [{'name': 'Fredrick Stein', 'userid': 6712359021, 'is_admin': False}, {'name': 'Wiltmore Denis', 'userid': 2525942, 'is_admin': False}, {'name': 'Greely Plonk', 'userid': 15890235, 'is_admin': False}, {'name': 'Dendris Stulo', 'userid': 572189563, 'is_admin': True}] \n",
    "\n",
    "with open('output.csv', 'w') as output_csv: # set to write-mode\n",
    "  # define field labels\n",
    "  fields = ['name', 'userid', 'is_admin'] \n",
    "\n",
    "  # instantiate the csv writer object, passing it the file handler obj and the fields\n",
    "  output_writer = csv.DictWriter(output_csv, fieldnames=fields)\n",
    "\n",
    "  # add lines to the file, one at a time, writing the header first(writes the field labels as the 1st row)\n",
    "  output_writer.writeheader()\n",
    "  # Each item in big_list is a dictionary with each field in fields as the keys.\n",
    "  for item in big_list:\n",
    "    output_writer.writerow(item)"
   ]
  },
  {
   "cell_type": "code",
   "execution_count": 9,
   "metadata": {},
   "outputs": [],
   "source": [
    "access_log = [{'time': '08:39:37', 'limit': 844404, 'address': '1.227.124.181'}, {'time': '13:13:35', 'limit': 543871, 'address': '198.51.139.193'}, {'time': '19:40:45', 'limit': 3021, 'address': '172.1.254.208'}, {'time': '18:57:16', 'limit': 67031769, 'address': '172.58.247.219'}, {'time': '21:17:13', 'limit': 9083, 'address': '124.144.20.113'}, {'time': '23:34:17', 'limit': 65913, 'address': '203.236.149.220'}, {'time': '13:58:05', 'limit': 1541474, 'address': '192.52.206.76'}, {'time': '10:52:00', 'limit': 11465607, 'address': '104.47.149.93'}, {'time': '14:56:12', 'limit': 109, 'address': '192.31.185.7'}, {'time': '18:56:35', 'limit': 6207, 'address': '2.228.164.197'}]\n",
    "fields = ['time', 'address', 'limit']\n",
    "\n",
    "with open('logger.csv', 'w') as logger_csv:\n",
    "  log_writer = csv.DictWriter(logger_csv, fieldnames=fields)\n",
    "  log_writer.writeheader()\n",
    "  for log in access_log:\n",
    "    log_writer.writerow(log)"
   ]
  },
  {
   "cell_type": "markdown",
   "metadata": {},
   "source": [
    "## Handling JSON Files\n",
    "\n",
    "Pyhton comes with the `json` package which allows the writing to and reading of JSON files."
   ]
  },
  {
   "cell_type": "markdown",
   "metadata": {},
   "source": [
    "### Reading JSON\n",
    "\n",
    "The `json` package comes with the `load()` method which parses json files directlly into python dictionaries.\n",
    "\n",
    "```py\n",
    "# purchase.json\n",
    "{\n",
    "  'user': 'ellen_greg',\n",
    "  'action': 'purchase',\n",
    "  'item_id': '14781239',\n",
    "}\n",
    "```\n",
    "\n",
    "```py\n",
    "import json\n",
    "\n",
    "with open('purchase_14781239.json') as purchase_json:\n",
    "  purchase_data = json.load(purchase_json)\n",
    "\n",
    "print(purchase_data['user'])\n",
    "# 'ellen_greg'\n",
    "```\n",
    "Parsing `purchase_json` using `json.load()`, creates a Python dictionary out of the file, and assign the results to purchase_data. We can interact with it just like any other python object. \n"
   ]
  },
  {
   "cell_type": "markdown",
   "metadata": {},
   "source": [
    "### Writing a JSON File\n",
    "\n",
    "We can also translate python objects to JSON, writing the objects to a json file with the `.dump()` method:\n",
    "\n",
    "```py\n",
    "turn_to_json = {\n",
    "  'eventId': 674189,\n",
    "  'dateTime': '2015-02-12T09:23:17.511Z',\n",
    "  'chocolate': 'Semi-sweet Dark',\n",
    "  'isTomatoAFruit': True\n",
    "}\n",
    "```\n",
    "```py\n",
    "import json\n",
    "\n",
    "# set the file name & open the output file in write mode.\n",
    "with open('output.json', 'w') as json_file:\n",
    "  # use .dump() to write the python object to the file object\n",
    "  json.dump(turn_to_json, json_file)\n",
    "```"
   ]
  }
 ],
 "metadata": {
  "kernelspec": {
   "display_name": "Python 3",
   "language": "python",
   "name": "python3"
  },
  "language_info": {
   "codemirror_mode": {
    "name": "ipython",
    "version": 3
   },
   "file_extension": ".py",
   "mimetype": "text/x-python",
   "name": "python",
   "nbconvert_exporter": "python",
   "pygments_lexer": "ipython3",
   "version": "3.7.1"
  }
 },
 "nbformat": 4,
 "nbformat_minor": 2
}
