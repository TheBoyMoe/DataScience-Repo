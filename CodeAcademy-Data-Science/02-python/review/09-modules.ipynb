{
 "cells": [
  {
   "cell_type": "markdown",
   "metadata": {},
   "source": [
    "# Modules\n",
    "\n",
    "Modules, often refered to as libraries, or packages are simply Python declarations that allow you to share and use other peoples code. The gemeral syntax for using module, which goes at the top of your file:\n",
    "\n",
    "```py\n",
    "from <module_name> import <object_name>\n",
    "```\n",
    "\n",
    "You can rename the object, to simplfy referencing it, e.g.\n",
    "\n",
    "```py\n",
    "from <module_name> import <object_name> as <alias>\n",
    "```"
   ]
  },
  {
   "cell_type": "markdown",
   "metadata": {},
   "source": [
    "### Common modules from the Python Standard Library\n",
    "\n",
    "#### Datetime"
   ]
  },
  {
   "cell_type": "code",
   "execution_count": 2,
   "metadata": {},
   "outputs": [
    {
     "data": {
      "text/plain": [
       "datetime.datetime(2018, 12, 13, 18, 42, 14, 268767)"
      ]
     },
     "execution_count": 2,
     "metadata": {},
     "output_type": "execute_result"
    }
   ],
   "source": [
    "from datetime import datetime as dt\n",
    "\n",
    "current_time = dt.now()\n",
    "current_time"
   ]
  },
  {
   "cell_type": "markdown",
   "metadata": {},
   "source": [
    "#### Random"
   ]
  },
  {
   "cell_type": "markdown",
   "metadata": {},
   "source": [
    "Another common module is the `random` module. It provides a number of methods, two common ones are:\n",
    "\n",
    "`random.chioce()` - which takes a list as an argument and returns a number from the list.\n",
    "\n",
    "`random.randint()` -  which takes two numbers as arguments and generates a random number between the two numbers you passed in.\n",
    "\n",
    "`random.sample()` - takes two arguments, the 1st is a `range()`, and the second is an integer indicating the number of random numbers to be returned within the range specified."
   ]
  },
  {
   "cell_type": "code",
   "execution_count": 4,
   "metadata": {},
   "outputs": [
    {
     "name": "stdout",
     "output_type": "stream",
     "text": [
      "97\n"
     ]
    }
   ],
   "source": [
    "import random\n",
    "\n",
    "# Create random_list between 1 and 100 inclusive\n",
    "random_list = [random.randint(1,101) for i in range(101)]\n",
    "\n",
    "# Selectrandomer_number from the list:\n",
    "randomer_number = random.choice(random_list)\n",
    "\n",
    "# Print randomer_number below:\n",
    "print(randomer_number)"
   ]
  },
  {
   "cell_type": "code",
   "execution_count": 5,
   "metadata": {},
   "outputs": [
    {
     "data": {
      "text/plain": [
       "[517, 515, 978, 851, 580, 306, 550, 274, 374, 557, 141, 705]"
      ]
     },
     "execution_count": 5,
     "metadata": {},
     "output_type": "execute_result"
    }
   ],
   "source": [
    "random.sample(range(1000), 12)"
   ]
  },
  {
   "cell_type": "markdown",
   "metadata": {},
   "source": [
    "#### Decimal\n",
    "\n",
    "Floating point arithmetic generally causes rounding errors. In order to perform decimal arithmetic more accurately you can use the `decimal` module's `Decimal` data type."
   ]
  },
  {
   "cell_type": "code",
   "execution_count": 10,
   "metadata": {},
   "outputs": [
    {
     "data": {
      "text/plain": [
       "Decimal('0.45')"
      ]
     },
     "execution_count": 10,
     "metadata": {},
     "output_type": "execute_result"
    }
   ],
   "source": [
    "from decimal import Decimal\n",
    "\n",
    "cost_of_gum = Decimal('0.10')\n",
    "cost_of_gumdrop = Decimal('0.35')\n",
    "\n",
    "cost_of_gum + cost_of_gumdrop"
   ]
  },
  {
   "cell_type": "code",
   "execution_count": 11,
   "metadata": {},
   "outputs": [
    {
     "name": "stdout",
     "output_type": "stream",
     "text": [
      "0.8899999999999999\n",
      "0.34450000000000003\n"
     ]
    }
   ],
   "source": [
    "three_decimal_points = 0.2 + 0.69\n",
    "print(three_decimal_points)\n",
    "\n",
    "four_decimal_points = 0.53 * 0.65\n",
    "print(four_decimal_points)"
   ]
  },
  {
   "cell_type": "code",
   "execution_count": 14,
   "metadata": {},
   "outputs": [
    {
     "data": {
      "text/plain": [
       "Decimal('0.890')"
      ]
     },
     "execution_count": 14,
     "metadata": {},
     "output_type": "execute_result"
    }
   ],
   "source": [
    "Decimal('0.200') + Decimal('0.690')\n"
   ]
  },
  {
   "cell_type": "code",
   "execution_count": 15,
   "metadata": {},
   "outputs": [
    {
     "data": {
      "text/plain": [
       "Decimal('0.3445')"
      ]
     },
     "execution_count": 15,
     "metadata": {},
     "output_type": "execute_result"
    }
   ],
   "source": [
    "Decimal('0.53') * Decimal('0.65')"
   ]
  },
  {
   "cell_type": "markdown",
   "metadata": {},
   "source": [
    "### Namespaces\n",
    "\n",
    "Notice that when we want to invoke the `randint()` function we call `random.randint()`. This is default behavior where Python offers a namespace for the module. A namespace isolates the functions, classes, and variables defined in the module from the code in the file doing the importing. Your local namespace, meanwhile, is where your code is run.\n",
    "\n",
    "Python defaults to naming the namespace after the module being imported. Sometimes, the module's name could also conflict with an object you have defined within your local namespace. This is where **aliasing** using the `as` keyword is used.\n",
    "\n",
    "Aliasing is often used as a convinence when the library name is long and you don't want to type the name.\n",
    "\n",
    "You might also occasionally encounter `import *`. The `*` is known as a \"wildcard\" and matches anything and everything, e.g.\n",
    "\n",
    "```py\n",
    "from math import *\n",
    "```\n",
    "This will import all the methods of the `math` module. Although convient, it also pollutes your local namespace, increasing the odds with a method you have already defined with the same name."
   ]
  },
  {
   "cell_type": "markdown",
   "metadata": {},
   "source": [
    "### Module, Files and Scope\n",
    "\n",
    "Just as functions have scope, variables defined therein are not accessible outside, so files also have scope.\n",
    "\n",
    "Files inside the same directory **DO NOT** have access to each other's variables, functions, classes, or any other code.\n",
    "\n",
    "How do you access methods, classes, etc from a different file? Files are actually modules, so you can import file in another file using the `import` keyword. \n",
    "\n",
    "General syntax:\n",
    "```py\n",
    "from <file_name> import <method_name>\n",
    "\n",
    "## library.py\n",
    "\n",
    "def always_three():\n",
    "  return 3\n",
    "\n",
    "\n",
    "## script.py \n",
    "# - raises the `NameError` exception if you try and call always_three() without import\n",
    "from library import always_three\n",
    "\n",
    "always_three()\n",
    "```"
   ]
  }
 ],
 "metadata": {
  "kernelspec": {
   "display_name": "Python 3",
   "language": "python",
   "name": "python3"
  },
  "language_info": {
   "codemirror_mode": {
    "name": "ipython",
    "version": 3
   },
   "file_extension": ".py",
   "mimetype": "text/x-python",
   "name": "python",
   "nbconvert_exporter": "python",
   "pygments_lexer": "ipython3",
   "version": "3.7.1"
  }
 },
 "nbformat": 4,
 "nbformat_minor": 2
}
