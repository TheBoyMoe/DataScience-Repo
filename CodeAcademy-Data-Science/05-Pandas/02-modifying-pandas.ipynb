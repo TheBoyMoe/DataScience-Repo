{
 "cells": [
  {
   "cell_type": "markdown",
   "metadata": {},
   "source": [
    "# Modifying DataFrames"
   ]
  },
  {
   "cell_type": "markdown",
   "metadata": {},
   "source": [
    "### Add a column to a DataFrame\n",
    "\n",
    "1. assign a list of the SAME length to an existing `DataFrame`\n",
    "\n",
    "```py\n",
    "# setting the column name to `Quantity`\n",
    "df['Quantity'] = [100, 150, 50, 35]\n",
    "```"
   ]
  },
  {
   "cell_type": "code",
   "execution_count": 1,
   "metadata": {},
   "outputs": [
    {
     "name": "stdout",
     "output_type": "stream",
     "text": [
      "   Product ID   Description  Cost to Manufacture  Price\n",
      "0           1  3 inch screw                  0.5   0.75\n",
      "1           2   2 inch nail                  0.1   0.25\n",
      "2           3        hammer                  3.0   5.50\n",
      "3           4   screwdriver                  2.5   3.00\n"
     ]
    }
   ],
   "source": [
    "import pandas as pd\n",
    "\n",
    "df = pd.DataFrame([\n",
    "  [1, '3 inch screw', 0.5, 0.75],\n",
    "  [2, '2 inch nail', 0.10, 0.25],\n",
    "  [3, 'hammer', 3.00, 5.50],\n",
    "  [4, 'screwdriver', 2.50, 3.00]\n",
    "],\n",
    "  columns=['Product ID', 'Description', 'Cost to Manufacture', 'Price']\n",
    ")\n",
    "print(df)"
   ]
  },
  {
   "cell_type": "code",
   "execution_count": 2,
   "metadata": {},
   "outputs": [
    {
     "name": "stdout",
     "output_type": "stream",
     "text": [
      "   Product ID   Description  Cost to Manufacture  Price Sold in Bulk?\n",
      "0           1  3 inch screw                  0.5   0.75           Yes\n",
      "1           2   2 inch nail                  0.1   0.25           Yes\n",
      "2           3        hammer                  3.0   5.50            No\n",
      "3           4   screwdriver                  2.5   3.00            No\n"
     ]
    }
   ],
   "source": [
    "df['Sold in Bulk?'] = ['Yes', 'Yes', 'No', 'No']\n",
    "print(df)"
   ]
  },
  {
   "cell_type": "markdown",
   "metadata": {},
   "source": [
    "2. add a new column that is the same for all rows in the DataFrame.\n",
    "\n",
    "```py\n",
    "df['In Stock?'] = True\n",
    "```"
   ]
  },
  {
   "cell_type": "code",
   "execution_count": 3,
   "metadata": {},
   "outputs": [
    {
     "name": "stdout",
     "output_type": "stream",
     "text": [
      "   Product ID   Description  Cost to Manufacture  Price Sold in Bulk?  \\\n",
      "0           1  3 inch screw                  0.5   0.75           Yes   \n",
      "1           2   2 inch nail                  0.1   0.25           Yes   \n",
      "2           3        hammer                  3.0   5.50            No   \n",
      "3           4   screwdriver                  2.5   3.00            No   \n",
      "\n",
      "  Is taxed?  \n",
      "0       Yes  \n",
      "1       Yes  \n",
      "2       Yes  \n",
      "3       Yes  \n"
     ]
    }
   ],
   "source": [
    "df['Is taxed?'] = 'Yes'\n",
    "print(df)"
   ]
  },
  {
   "cell_type": "markdown",
   "metadata": {},
   "source": [
    "3. add a column by performing a function on the existing columns, e.g. add a column based on the sales tax to be charged for each item\n",
    "\n",
    "```py\n",
    "df['Sales Tax'] = df.Price * 0.075\n",
    "```"
   ]
  },
  {
   "cell_type": "code",
   "execution_count": 4,
   "metadata": {},
   "outputs": [
    {
     "name": "stdout",
     "output_type": "stream",
     "text": [
      "   Product ID   Description  Cost to Manufacture  Price Sold in Bulk?  \\\n",
      "0           1  3 inch screw                  0.5   0.75           Yes   \n",
      "1           2   2 inch nail                  0.1   0.25           Yes   \n",
      "2           3        hammer                  3.0   5.50            No   \n",
      "3           4   screwdriver                  2.5   3.00            No   \n",
      "\n",
      "  Is taxed?  Revenue  \n",
      "0       Yes     0.25  \n",
      "1       Yes     0.15  \n",
      "2       Yes     2.50  \n",
      "3       Yes     0.50  \n"
     ]
    }
   ],
   "source": [
    "df['Revenue'] = df['Price'] - df['Cost to Manufacture']\n",
    "print(df)"
   ]
  },
  {
   "cell_type": "markdown",
   "metadata": {},
   "source": [
    "### Performing column operations\n",
    "\n",
    "We can use the `apply()` function to apply a function to every field in a particular column, e.g. make all the desciptions uppercase"
   ]
  },
  {
   "cell_type": "code",
   "execution_count": 5,
   "metadata": {},
   "outputs": [
    {
     "name": "stdout",
     "output_type": "stream",
     "text": [
      "   Product ID   Description  Cost to Manufacture  Price Sold in Bulk?  \\\n",
      "0           1  3 INCH SCREW                  0.5   0.75           Yes   \n",
      "1           2   2 INCH NAIL                  0.1   0.25           Yes   \n",
      "2           3        HAMMER                  3.0   5.50            No   \n",
      "3           4   SCREWDRIVER                  2.5   3.00            No   \n",
      "\n",
      "  Is taxed?  Revenue  \n",
      "0       Yes     0.25  \n",
      "1       Yes     0.15  \n",
      "2       Yes     2.50  \n",
      "3       Yes     0.50  \n"
     ]
    }
   ],
   "source": [
    "df['Description'] = df.Description.apply(str.upper)\n",
    "print(df)"
   ]
  },
  {
   "cell_type": "markdown",
   "metadata": {},
   "source": [
    "We can pass a `Lambda` function to `apply` when performing column operations, e.g. retrieve the email provider from each users email address\n",
    "\n",
    "```py\n",
    "df['Email Provider'] = df.Email.apply(lambda x: x.split('@')[-1])\n",
    "```"
   ]
  },
  {
   "cell_type": "markdown",
   "metadata": {},
   "source": [
    "#### Example\n",
    "\n",
    "```py\n",
    "        id\tname\thourly_wage\thours_worked\tlast_name\n",
    "0\t10310\tLauren Durham\t19\t43\tDurham\n",
    "1\t18656\tGrace Sellers\t17\t40\tSellers\n",
    "2\t61254\tShirley Rasmussen\t16\t30\tRasmussen\n",
    "3\t16886\tBrian Rojas\t18\t47\tRojas\n",
    "4\t89010\tSamantha Mosley\t11\t38\tMosley\n",
    "5\t87246\tLouis Guzman\t14\t39\tGuzman\n",
    "\n",
    "get_last_name = lambda x: x.split(' ')[-1]\n",
    "df['last_name'] = df.name.apply(get_last_name)\n",
    "print(df)\n",
    "```\n"
   ]
  },
  {
   "cell_type": "markdown",
   "metadata": {},
   "source": [
    "### Performing operations on a row\n",
    "\n",
    "To perform operations on multiple columns at once we operate on the entire row by passing the `axis=1` argument to `apply()`. The input to the lambda function will be the entire row instead of an individual column field. We can then access individual fields within our lambda.\n",
    "\n",
    "To access particular column values in a row, use the syntax `row.column_name` or `row['column_name']`\n",
    "\n",
    "```py\n",
    "Item\tPrice\tIs taxed?\n",
    "Apple\t1.00\tNo\n",
    "Milk\t4.20\tNo\n",
    "Paper Towels\t5.00\tYes\n",
    "Light Bulbs\t3.75\tYes\n",
    "```\n",
    "\n",
    "We want to add a new column that includes the tax where required.\n",
    "\n",
    "If Is taxed? is Yes, then we’ll want to multiply Price by 1.075 (for 7.5% sales tax).\n",
    "\n",
    "If Is taxed? is No, we’ll just have Price without multiplying it.\n",
    "\n",
    "We can create this column using a lambda function and the keyword axis=1:\n",
    "\n",
    "```py\n",
    "df['Price with Tax'] = df.apply(lambda row:\n",
    "     row['Price'] * 1.075\n",
    "     if row['Is taxed?'] == 'Yes'\n",
    "     else row['Price'],\n",
    "     axis=1\n",
    ")\n",
    "```"
   ]
  },
  {
   "cell_type": "markdown",
   "metadata": {},
   "source": [
    "#### Example\n",
    "\n",
    "If an employee worked for more than 40 hours, she needs to be paid overtime (1.5 times the normal hourly wage).\n",
    "\n",
    "For instance, if an employee worked for 43 hours and made $10/hour, she would receive $400 for the first 40 hours that she worked, and an additional $45 for the 3 hours of overtime, for a total for $445.\n",
    "\n",
    "Create a lambda function total_earned that accepts an input row with keys hours_worked and hourly_wage and uses an if statement to calculate the hourly wage.\n",
    "\n",
    "```py\n",
    "# if it were a regular function\n",
    "def total_earned(row):\n",
    "   if row['hours_worked'] <= 40:\n",
    "       return row['hours_worked'] * \\\n",
    "           row['hourly_wage']\n",
    "    else:\n",
    "        return (40 * row['hourly_wage'])\\\n",
    "            + (row['hours_worked'] - 40) * \\\n",
    "            (row['hourly_wage'] * 1.50)\n",
    "```\n",
    "\n",
    "Solution:\n",
    "\n",
    "```py\n",
    "total_earned = lambda row: row['hours_worked'] * row['hourly_wage'] if row['hours_worked'] <= 40 else (40 * row['hourly_wage']) + ((row['hours_worked'] - 40) * row['hourly_wage'] * 1.5)\n",
    "\n",
    "df['total_earned'] = df.apply(total_earned, axis=1)\n",
    "```"
   ]
  },
  {
   "cell_type": "code",
   "execution_count": null,
   "metadata": {},
   "outputs": [],
   "source": []
  }
 ],
 "metadata": {
  "kernelspec": {
   "display_name": "Python 3",
   "language": "python",
   "name": "python3"
  },
  "language_info": {
   "codemirror_mode": {
    "name": "ipython",
    "version": 3
   },
   "file_extension": ".py",
   "mimetype": "text/x-python",
   "name": "python",
   "nbconvert_exporter": "python",
   "pygments_lexer": "ipython3",
   "version": "3.7.0"
  }
 },
 "nbformat": 4,
 "nbformat_minor": 2
}
