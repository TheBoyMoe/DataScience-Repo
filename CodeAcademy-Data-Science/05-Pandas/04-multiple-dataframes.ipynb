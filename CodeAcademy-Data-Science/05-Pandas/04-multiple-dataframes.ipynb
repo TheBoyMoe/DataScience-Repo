{
 "cells": [
  {
   "cell_type": "markdown",
   "metadata": {},
   "source": [
    "# Multiple DataFrames\n",
    "\n",
    "We can merge different `DataFrames` using the `.merge()` method. It looks for columns that are common between 2 `DataFrames` and then looks for rows where those column values are the same. It then combines the the matching rows into a single row in a new table.\n",
    "\n",
    "The `.merge()` method takes the two dataframes as args:\n",
    "\n",
    "```py\n",
    "new_df = pd.merge(orders, customers)\n",
    "```\n",
    "\n",
    "Each `DataFrame` has it's own `.merge()` method, e.g. you could merge orders and customers like so:\n",
    "\n",
    "```py\n",
    "new_df = orders.merge(customers)\n",
    "```\n",
    "\n",
    "Use this technique when you need to merge more than two dataframes together, you can chain the calls like so:\n",
    "\n",
    "```py\n",
    "new_df = orders.merge(customers).merge(products)\n",
    "\n",
    "all_data = visits.merge(cart, how='left').merge(checkout, how='left').merge(purchase, how='left')\n",
    "```"
   ]
  },
  {
   "cell_type": "markdown",
   "metadata": {},
   "source": [
    "### Merge on specific columns\n",
    "\n",
    "It is often the case that we will merge two or more dataframes whose columns don't match. Often tables will have an 'id' column but the 'id' refering to different properties, e.g. product_id vs order_id.\n",
    "\n",
    "One way that we could address this problem is to use `.rename` to rename the columns for our merges.\n",
    "\n",
    "```py\n",
    "pd.merge(\n",
    "    orders,\n",
    "    customers.rename(columns={'id': 'customer_id'}))\n",
    "```"
   ]
  },
  {
   "cell_type": "markdown",
   "metadata": {},
   "source": [
    "In other situations where there are NO matching columns between the the dataframes. In such cases we can use `left_on` and `right_on` to specifiy which columns we want to perform the merge on.\n",
    "\n",
    "```py\n",
    "# match the 'customer_id' in the orders table to the 'id' column in the customers table\n",
    "pd.merge(\n",
    "    orders,\n",
    "    customers,\n",
    "    left_on='customer_id',\n",
    "    right_on='id')\n",
    "```\n",
    "\n",
    "The 'left' table is the one that comes first (orders), and the 'right' table is the one that comes second (customers). This syntax says that we should match the customer_id from orders to the id in customers.\n",
    "\n",
    "When we have two tables, each with an 'id' column, we'll end up with two columns called id, one from the first table and one from the second. Pandas does not permit two columns with the same name, so it will change them to id_x and id_y by default.\n",
    "\n",
    "We can provide a list of `suffixes` to be used instead of `_x` and `_y`.\n",
    "\n",
    "```py\n",
    "pd.merge(\n",
    "    orders,\n",
    "    customers,\n",
    "    left_on='customer_id',\n",
    "    right_on='id',\n",
    "    suffixes=['_order', '_customer']\n",
    ")\n",
    "```\n",
    "\n",
    "```py\n",
    "# match 'product_id' in orders table to 'id' in products\n",
    "orders_products = pd.merge(\n",
    "\t\torders,\n",
    "  \tproducts,\n",
    "  \tleft_on='product_id',\n",
    "  \tright_on='id',\n",
    "  \tsuffixes=['_orders', '_products']\n",
    ")\n",
    "```"
   ]
  },
  {
   "cell_type": "markdown",
   "metadata": {},
   "source": [
    "### Mismatched Merges\n",
    "\n",
    "There are occations when we need to match two dataframes that do NOT have matching values, e.g.\n",
    "\n",
    "```py\n",
    "# orders dataframe\n",
    "\tid\tproduct_id\tcustomer_id\tquantity\ttimestamp\n",
    "0\t1\t3\t2\t1\t2017-01-01\n",
    "1\t2\t2\t2\t3\t2017-01-01\n",
    "2\t3\t5\t1\t1\t2017-01-01\n",
    "3\t4\t2\t3\t2\t2016-02-01\n",
    "4\t5\t3\t3\t3\t2017-02-01\n",
    "\n",
    "# products dataframe\n",
    "\tproduct_id\tdescription\tprice\n",
    "0\t1\tthing-a-ma-jig\t5\n",
    "1\t2\twhatcha-ma-call-it\t10\n",
    "2\t3\tdoo-hickey\t7\n",
    "3\t4\tgizmo\t3\n",
    "```\n",
    "\n",
    "```py\n",
    "pd.merge(df_a, df_b)\n",
    "\n",
    "# OR\n",
    "pd.merge(df_a, df_b, how='inner')\n",
    "```\n",
    "\n",
    "In such cases, any row that does not have a matching value is simply dropped - unmatched rows are dropped. This the default dehaviour.\n",
    "\n",
    "```py\n",
    "# result\n",
    "    id\tproduct_id\tcustomer_id\tquantity\ttimestamp\tdescription\tprice\n",
    "0\t1\t3\t2\t1\t2017-01-01\tdoo-hickey\t7\n",
    "1\t5\t3\t3\t3\t2017-02-01\tdoo-hickey\t7\n",
    "2\t2\t2\t2\t3\t2017-01-01\twhatcha-ma-call-it\t10\n",
    "3\t4\t2\t3\t2\t2016-02-01\twhatcha-ma-call-it\t10\n",
    "```"
   ]
  },
  {
   "cell_type": "markdown",
   "metadata": {},
   "source": [
    "This type of merge (where we only include matching rows) is called an `Inner Merge`."
   ]
  },
  {
   "cell_type": "markdown",
   "metadata": {},
   "source": [
    "When we want to merge tables with mismatched rows, and not loose any we need to perform an `Outer Join` or `Outer Merge`(all rows are included).\n",
    "\n",
    "An `Outer Join` would include all rows from both tables, even if they don't match. Any missing values are filled in with `None` or `nan`."
   ]
  },
  {
   "cell_type": "markdown",
   "metadata": {},
   "source": [
    "```py\n",
    "# company_a\n",
    "name\temail\n",
    "Sally Sparrow\tsally.sparrow@gmail.com\n",
    "Peter Grant\tpgrant@yahoo.com\n",
    "Leslie May\tleslie_may@gmail.com\n",
    "\n",
    "# company_b\n",
    "name\tphone\n",
    "Peter Grant\t212-345-6789\n",
    "Leslie May\t626-987-6543\n",
    "Aaron Burr\t303-456-7891\n",
    "\n",
    "pd.merge(company_a, company_b, how='outer')\n",
    "\n",
    "# result\n",
    "name\t    email\t    phone\n",
    "Sally Sparrow\tsally.sparrow@gmail.com\tnan\n",
    "Peter Grant\tpgrant@yahoo.com\t212-345-6789\n",
    "Leslie May\tleslie_may@gmail.com\t626-987-6543\n",
    "Aaron Burr\tnan\t303-456-7891\n",
    "```"
   ]
  },
  {
   "cell_type": "markdown",
   "metadata": {},
   "source": [
    "### Mismatched rows and Left/Right Merge\n",
    "\n",
    "A Left Merge includes all rows from the first (left) table, but only rows from the second (right) table that match the first table.\n",
    "\n",
    "```py\n",
    "pd.merge(company_a, company_b, how='left')\n",
    "```\n",
    "\n",
    "Right merge is the exact opposite of left merge. The merged table will include all rows from the second (right) table, but only rows from the first (left) table that match the second table.\n",
    "\n",
    "```py\n",
    "pd.merge(company_a, company_b, how=\"right\")\n",
    "```"
   ]
  },
  {
   "cell_type": "markdown",
   "metadata": {},
   "source": [
    "### Concatenating DataFrames\n",
    "\n",
    "We can concatenate dataframes with the `.concat()` method, passing it a list of dataframes\n",
    "\n",
    "```py\n",
    "pd.concat([df1, df2, df3, ...])\n",
    "```\n",
    "\n",
    "**This only works when all the columns are the same**.\n",
    "\n",
    "Use `.reset_index(drop=True)` so the `id` column is reset and the `index` column of old `id`s is dropped."
   ]
  }
 ],
 "metadata": {
  "kernelspec": {
   "display_name": "Python 3",
   "language": "python",
   "name": "python3"
  },
  "language_info": {
   "codemirror_mode": {
    "name": "ipython",
    "version": 3
   },
   "file_extension": ".py",
   "mimetype": "text/x-python",
   "name": "python",
   "nbconvert_exporter": "python",
   "pygments_lexer": "ipython3",
   "version": "3.6.7"
  }
 },
 "nbformat": 4,
 "nbformat_minor": 2
}
