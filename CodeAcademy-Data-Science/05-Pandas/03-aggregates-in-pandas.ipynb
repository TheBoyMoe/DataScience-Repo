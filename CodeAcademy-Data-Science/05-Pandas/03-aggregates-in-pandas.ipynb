{
 "cells": [
  {
   "cell_type": "markdown",
   "metadata": {},
   "source": [
    "# Aggreates in Pandas\n",
    "\n",
    "An aggregate is a way of creating a single number that describes a group of numbers. Common aggregate statistics incluse mean, median, or standard deviation.\n",
    "\n",
    "Common calculations that are carried out:\n",
    "    - mean\tAverage of all values in column\n",
    "    - std\tStandard deviation\n",
    "    - median\tMedian\n",
    "    - max\tMaximum value in column\n",
    "    - min\tMinimum value in column\n",
    "    - count\tNumber of values in column\n",
    "    - nunique\tNumber of unique values in column\n",
    "    - unique\tList of unique values in column\n",
    "    \n",
    "The general syntax:\n",
    "\n",
    "```py\n",
    "df.column_name.command()\n",
    "```\n",
    "\n",
    "```py\n",
    "# The DataFrame customers contains the names and ages of all of your customers. You want to find the median age:\n",
    "print(customers.age)\n",
    ">> [23, 25, 31, 35, 35, 46, 62]\n",
    "print(customers.age.median())\n",
    ">> 35\n",
    "\n",
    "# The DataFrame shipments contains address information for all shipments that you've sent out in the past year. You want to know how many different states:\n",
    "print(shipments.state)\n",
    ">> ['CA', 'CA', 'CA', 'CA', 'NY', 'NY', 'NJ', 'NJ', 'NJ', 'NJ', 'NJ', 'NJ', 'NJ']\n",
    "print(shipments.state.nunique())\n",
    ">> 3\n",
    "\n",
    "# The DataFrame inventory contains a list of types of t-shirts that your company makes. You want a list of the colors that your shirts come in:\n",
    "print(inventory.color)\n",
    ">> ['blue', 'blue', 'blue', 'blue', 'blue', 'green', 'green', 'orange', 'orange', 'orange']\n",
    "print(inventory.color.unique())\n",
    ">> ['blue', 'green', 'orange']\n",
    "```"
   ]
  },
  {
   "cell_type": "code",
   "execution_count": 3,
   "metadata": {},
   "outputs": [
    {
     "name": "stdout",
     "output_type": "stream",
     "text": [
      "<class 'pandas.core.frame.DataFrame'>\n",
      "RangeIndex: 891 entries, 0 to 890\n",
      "Data columns (total 12 columns):\n",
      "PassengerId    891 non-null int64\n",
      "Survived       891 non-null int64\n",
      "Pclass         891 non-null int64\n",
      "Name           891 non-null object\n",
      "Sex            891 non-null object\n",
      "Age            714 non-null float64\n",
      "SibSp          891 non-null int64\n",
      "Parch          891 non-null int64\n",
      "Ticket         891 non-null object\n",
      "Fare           891 non-null float64\n",
      "Cabin          204 non-null object\n",
      "Embarked       889 non-null object\n",
      "dtypes: float64(2), int64(5), object(5)\n",
      "memory usage: 83.6+ KB\n"
     ]
    }
   ],
   "source": [
    "import pandas as pd\n",
    "import numpy as np\n",
    "\n",
    "df_train = pd.read_csv('data/train.csv')\n",
    "df_train.info()"
   ]
  },
  {
   "cell_type": "code",
   "execution_count": 15,
   "metadata": {},
   "outputs": [
    {
     "name": "stdout",
     "output_type": "stream",
     "text": [
      "PClass types [3 1 2]\n",
      "Embarked types ['S' 'C' 'Q' nan]\n"
     ]
    }
   ],
   "source": [
    "print('PClass types', df_train.Pclass.unique())\n",
    "print('Embarked types', df_train.Embarked.unique())"
   ]
  },
  {
   "cell_type": "code",
   "execution_count": 10,
   "metadata": {},
   "outputs": [
    {
     "name": "stdout",
     "output_type": "stream",
     "text": [
      "Max fare 512.3292\n",
      "Average fare 32.204207968574636\n",
      "Median 14.4542\n"
     ]
    }
   ],
   "source": [
    "print('Max fare', df_train['Fare'].max())\n",
    "print('Average fare', df_train['Fare'].mean())\n",
    "print('Median', df_train['Fare'].median())"
   ]
  },
  {
   "cell_type": "code",
   "execution_count": 12,
   "metadata": {},
   "outputs": [
    {
     "data": {
      "text/plain": [
       "count    891.000000\n",
       "mean      32.204208\n",
       "std       49.693429\n",
       "min        0.000000\n",
       "25%        7.910400\n",
       "50%       14.454200\n",
       "75%       31.000000\n",
       "max      512.329200\n",
       "Name: Fare, dtype: float64"
      ]
     },
     "execution_count": 12,
     "metadata": {},
     "output_type": "execute_result"
    }
   ],
   "source": [
    "df_train.Fare.describe()"
   ]
  },
  {
   "cell_type": "code",
   "execution_count": 16,
   "metadata": {},
   "outputs": [
    {
     "data": {
      "text/plain": [
       "count    714.000000\n",
       "mean      29.699118\n",
       "std       14.526497\n",
       "min        0.420000\n",
       "25%       20.125000\n",
       "50%       28.000000\n",
       "75%       38.000000\n",
       "max       80.000000\n",
       "Name: Age, dtype: float64"
      ]
     },
     "execution_count": 16,
     "metadata": {},
     "output_type": "execute_result"
    }
   ],
   "source": [
    "df_train.Age.describe()"
   ]
  },
  {
   "cell_type": "markdown",
   "metadata": {},
   "source": [
    "### Groupby\n",
    "\n",
    "Suppose we have a grade book with columns student, assignment_name, and grade. We want to get an average grade for each student across all assignments. Pandas provides the `.groupby()` method, e.g. groupby student and then calculate the mean.\n",
    "\n",
    "```py\n",
    "grades = df.groupby('student').grade.mean()\n",
    "```\n",
    "\n",
    "The general syntax:\n",
    "\n",
    "```py\n",
    "df.groupby('column1').column2.measurement()\n",
    "```\n",
    "\n",
    "Where:\n",
    "\n",
    "- `column1` the column we group by\n",
    "- `column2` the column we perform the calculation on\n",
    "- `measurement` the functionapplied, e.g. mean(), std(), etc.\n"
   ]
  },
  {
   "cell_type": "code",
   "execution_count": 6,
   "metadata": {},
   "outputs": [
    {
     "name": "stdout",
     "output_type": "stream",
     "text": [
      "<class 'pandas.core.series.Series'>\n"
     ]
    },
    {
     "data": {
      "text/plain": [
       "Pclass\n",
       "1    176\n",
       "2     16\n",
       "3     12\n",
       "Name: Cabin, dtype: int64"
      ]
     },
     "execution_count": 6,
     "metadata": {},
     "output_type": "execute_result"
    }
   ],
   "source": [
    "results = df_train.groupby('Pclass').Cabin.count()\n",
    "print(type(results))\n",
    "results"
   ]
  },
  {
   "cell_type": "markdown",
   "metadata": {},
   "source": [
    "### Example\n",
    "\n",
    "```py\n",
    "    id\tfirst_name\tlast_name\tshoe_type\tshoe_material\tshoe_color\tprice\n",
    "0\t97916\tDouglas\tPerez\tstilettos\tfabric\tbrown\t90\n",
    "1\t67691\tTiffany\tneill\twedges\tleather\tnavy\t94\n",
    "2\t72818\tSusan\tRivas\tsandals\tfaux-leather\twhite\t96\n",
    "3\t28080\tAngela\tHopper\tstilettos\tleather\tred\t96\n",
    "4\t89958\tThomas\tBenjamin\tsandals\tfaux-leather\tnavy\t97\n",
    "\n",
    "# find most expensive shoe for each type\n",
    "pricey_shoes = orders.groupby('shoe_type').price.max()\n",
    "\n",
    "print(type(pricey_shoes))\n",
    "<class 'pandas.core.series.Series'>\n",
    "```"
   ]
  },
  {
   "cell_type": "code",
   "execution_count": null,
   "metadata": {},
   "outputs": [],
   "source": [
    "df_train.groupby('Fare')"
   ]
  },
  {
   "cell_type": "markdown",
   "metadata": {},
   "source": [
    "The result of `.groupby()` is a `Series`. We can turn a `Series` into a `DataFrame` using the `.reset_index()` method. You will generally see `.groupby()` followed by a `.reset_index()`. General syntax:\n",
    "\n",
    "```py\n",
    "df.groupby('column1').column2.measurement().reset_index()\n",
    "```"
   ]
  },
  {
   "cell_type": "markdown",
   "metadata": {},
   "source": [
    "When we use groupby, we often want to rename the column we get as a result.\n",
    "\n",
    "```py\n",
    "id\ttea\tcategory\tcaffeine\tprice\n",
    "0\tearl grey\tblack\t38\t3\n",
    "1\tenglish breakfast\tblack\t41\t3\n",
    "2\tirish breakfast\tblack\t37\t2.5\n",
    "3\tjasmine\tgreen\t23\t4.5\n",
    "```\n",
    "\n",
    "We want to find the number of each category of tea we sell.\n",
    "\n",
    "```py\n",
    "teas_counts = teas.groupby('category').id.count().reset_index()\n",
    "```\n",
    "\n",
    "This will return a `DataFrame`:\n",
    "\n",
    "```py\n",
    "\tcategory\tid\n",
    "0\tblack\t3\n",
    "1\tgreen\t4\n",
    "2\therbal\t8\n",
    "3\twhite\t2\n",
    "```"
   ]
  },
  {
   "cell_type": "markdown",
   "metadata": {},
   "source": [
    "The new column is called `id` because we used the id column of teas to calculate the counts. We actually want to call this column `counts`. Us the `.rename()` method\n",
    "\n",
    "```py\n",
    "teas_counts = teas_counts.rename(columns={\"id\": \"counts\"})\n",
    "```"
   ]
  },
  {
   "cell_type": "markdown",
   "metadata": {},
   "source": [
    "Some operations will require the use of a function due to their complexity. In that case we can use the `.apply()` method. In these cases, combining `groupby` and `apply` , the input to our function will always be a list of values."
   ]
  },
  {
   "cell_type": "markdown",
   "metadata": {},
   "source": [
    "#### Example - calculating percentile\n",
    "\n",
    "```py\n",
    "id\tname\twage\tcategory\n",
    "10131\tSarah Carney\t39\tproduct\n",
    "14189\tHeather Carey\t17\tdesign\n",
    "15004\tGary Mercado\t33\tmarketing\n",
    "...\n",
    "```\n",
    "\n",
    "If we want to calculate the 75th percentile (i.e., the point at which 75% of employees have a lower wage and 25% have a higher wage) for each category, we can use the following combination of apply and a lambda function(requires importing numpy -> np:\n",
    "\n",
    "```py\n",
    "# np.percentile can calculate any percentile over an array of values\n",
    "high_earners = df.groupby('category').wage\n",
    "    .apply(lambda x: np.percentile(x, 75))\n",
    "    .reset_index()\n",
    "```\n",
    "\n",
    "The output, high_earners might look like this:\n",
    "\n",
    "```py\n",
    "\n",
    "    category\twage\n",
    "0\tdesign\t23\n",
    "1\tmarketing\t35\n",
    "2\tproduct\t48\n",
    "...\n",
    "```"
   ]
  },
  {
   "cell_type": "markdown",
   "metadata": {},
   "source": [
    "`groupby` supports grouping by more than one column, simply pass in a list of column names.\n",
    "\n",
    "```py\n",
    "Location\tDate\tDay of Week\tTotal Sales\n",
    "West Village\tFebruary 1\tW\t400\n",
    "West Village\tFebruary 2\tTh\t450\n",
    "Chelsea\tFebruary 1\tW\t375\n",
    "Chelsea\tFebruary 2\tTh\t390\n",
    "```\n",
    "\n",
    "We suspect that sales are different at different locations on different days of the week. In order to test this hypothesis, we could calculate the average sales for each store on each day of the week across multiple months. The code would look like this:\n",
    "\n",
    "```py\n",
    "df.groupby(['Location', 'Day of Week'])['Total Sales'].mean().reset_index()\n",
    "```\n",
    "\n",
    "Returning:\n",
    "\n",
    "```py\n",
    "Location\tDay of Week\tTotal Sales\n",
    "Chelsea\tM\t402.50\n",
    "Chelsea\tTu\t422.75\n",
    "Chelsea\tW\t452.00\n",
    "...\n",
    "West Village\tM\t390\n",
    "West Village\tTu\t400\n",
    "...\n",
    "```"
   ]
  },
  {
   "cell_type": "markdown",
   "metadata": {},
   "source": [
    "Example\n",
    "\n",
    "Continuing the Shoe example:\n",
    "\n",
    "Create a DataFrame with the total number of shoes of each shoe_type/shoe_color combination purchased.\n",
    "\n",
    "```py\n",
    "orders.groupby(['shoe_type', 'shoe_color'])['id'].count().reset_index()\n",
    "\n",
    "\tshoe_type\tshoe_color\tid\n",
    "0\tballet flats\tblack\t2\n",
    "1\tballet flats\tbrown\t11\n",
    "...\n",
    "5\tsandles\tblack\t3\n",
    "6\tsandles\tbrown\t10\n",
    "...\n",
    "```\n",
    "\n",
    "Note: When we're using count(), it doesn't really matter which column we perform the calculation on."
   ]
  },
  {
   "cell_type": "markdown",
   "metadata": {},
   "source": [
    "### Pivot Tables"
   ]
  },
  {
   "cell_type": "markdown",
   "metadata": {},
   "source": [
    "In the example above where we are running a chain of stores and have data about the number of sales at different locations on different days, it would be more useful if we could format the results like so:\n",
    "\n",
    "```py\n",
    "Location\tM\tTu\tW\tTh\tF\tSa\tSu\n",
    "Chelsea\t400\t390\t250\t275\t300\t150\t175\n",
    "West Village\t300\t310\t350\t400\t390\t250\t200\n",
    "...\n",
    "```"
   ]
  },
  {
   "cell_type": "markdown",
   "metadata": {},
   "source": [
    "Reorganizing the table in this way is called `pivoting`, the new table is called a `pivot table`.  The general syntax:\n",
    "\n",
    "```py\n",
    "df.pivot(columns='ColumnToPivot', index='ColumnToBeRows', values='ColumnToBeValues')\n",
    "```\n",
    "\n",
    "For our specific example, we would write the command like this:\n",
    "\n",
    "```py\n",
    "# First use the groupby statement:\n",
    "unpivoted = df.groupby(['Location', 'Day of Week'])['Total Sales'].mean().reset_index()\n",
    "\n",
    "# Now pivot the table\n",
    "pivoted = unpivoted.pivot(\n",
    "    columns='Day of Week',\n",
    "    index='Location',\n",
    "    values='Total Sales')\n",
    "```\n",
    "\n",
    "The result is a new `DataFrame`, add a `reset_index()` to fix indexing"
   ]
  },
  {
   "cell_type": "markdown",
   "metadata": {},
   "source": [
    "Example\n",
    "\n",
    "Continuing the Shoe example:\n",
    "\n",
    "```py\n",
    "shoe_counts = orders.groupby(['shoe_type', 'shoe_color']).id.count().reset_index()\n",
    "\n",
    "shoe_counts_pivot = shoe_counts.pivot(\n",
    "\tcolumns='shoe_color',\n",
    "    index='shoe_type',\n",
    "    values='id'\n",
    ").reset_index()\n",
    "```\n",
    "\n",
    "Resulting with:\n",
    "\n",
    "```py\n",
    "\tshoe_type\tblack\tbrown\tnavy\tred\twhite\n",
    "0\tballet flats\t2.0\t11.0\t17.0\t13.0\t7.0\n",
    "1\tsandals\t3.0\t10.0\t13.0\t14.0\t10.0\n",
    "2\tstilettos\t8.0\t14.0\t7.0\t16.0\t5.0\n",
    "3\twedges\tnan\t13.0\t16.0\t4.0\t17.0\n",
    "```"
   ]
  },
  {
   "cell_type": "code",
   "execution_count": null,
   "metadata": {},
   "outputs": [],
   "source": []
  }
 ],
 "metadata": {
  "kernelspec": {
   "display_name": "Python 3",
   "language": "python",
   "name": "python3"
  },
  "language_info": {
   "codemirror_mode": {
    "name": "ipython",
    "version": 3
   },
   "file_extension": ".py",
   "mimetype": "text/x-python",
   "name": "python",
   "nbconvert_exporter": "python",
   "pygments_lexer": "ipython3",
   "version": "3.6.7"
  }
 },
 "nbformat": 4,
 "nbformat_minor": 2
}
