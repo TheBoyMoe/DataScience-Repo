{
 "cells": [
  {
   "cell_type": "markdown",
   "metadata": {},
   "source": [
    "# Pandas"
   ]
  },
  {
   "cell_type": "markdown",
   "metadata": {},
   "source": [
    "Pandas is a Python module for working with tabular data (i.e., data in a table with rows and columns). You can import the data directly from a file(CSV, Excel spreadsheet) or an SQL query. Panda create a `DataFrame` object to hold the data. DataFrames have rows and columns, each column has a name(string) and each row has an index(integer). The actual values can be strings, integers, floats, tuples, etc."
   ]
  },
  {
   "cell_type": "markdown",
   "metadata": {},
   "source": [
    "#### Create a DataFrame using a Dictionary"
   ]
  },
  {
   "cell_type": "markdown",
   "metadata": {},
   "source": [
    "You can create a `DataFrame` with a dictionary using `pd.DataFrame()`. Each key is a column name and each value is a list of column values. The columns must all be the same length or you will get an error.\n",
    "\n",
    "```py\n",
    "df1 = pd.DataFrame({\n",
    "    'name': ['John Smith', 'Jane Doe', 'Joe Schmo'],\n",
    "    'address': ['123 Main St.', '456 Maple Ave.', '789 Broadway'],\n",
    "    'age': [34, 28, 51]\n",
    "})\n",
    "```\n",
    "\n",
    "```py\n",
    "address\tage\tname\n",
    "123 Main St.\t34\tJohn Smith\n",
    "456 Maple Ave.\t28\tJane Doe\n",
    "789 Broadway\t51\tJoe Schmo\n",
    "```"
   ]
  },
  {
   "cell_type": "code",
   "execution_count": 1,
   "metadata": {},
   "outputs": [
    {
     "name": "stdout",
     "output_type": "stream",
     "text": [
      "   Product ID Product Name  Color\n",
      "0           1      t-shirt   blue\n",
      "1           2      t-shirt  green\n",
      "2           3        skirt    red\n",
      "3           4        skirt  black\n"
     ]
    }
   ],
   "source": [
    "import pandas as pd\n",
    "\n",
    "df1 = pd.DataFrame({\n",
    "  'Product ID': [1, 2, 3, 4],\n",
    "  'Product Name': ['t-shirt', 't-shirt', 'skirt', 'skirt'],\n",
    "  'Color': ['blue', 'green', 'red', 'black']\n",
    "})\n",
    "\n",
    "print(df1)"
   ]
  },
  {
   "cell_type": "markdown",
   "metadata": {},
   "source": [
    "#### Create a DataFrame using a List\n",
    "\n",
    "Each inner list represents a row. Use the keyword `columns` to set the column names. The order of column names matching the order the values appear in the inner list/row."
   ]
  },
  {
   "cell_type": "code",
   "execution_count": 2,
   "metadata": {},
   "outputs": [
    {
     "name": "stdout",
     "output_type": "stream",
     "text": [
      "   Store ID       Location  Number of Employees\n",
      "0         1      San Diego                  100\n",
      "1         2    Los Angeles                  120\n",
      "2         3  San Francisco                   90\n",
      "3         4     Sacramento                  115\n"
     ]
    }
   ],
   "source": [
    "df2 = pd.DataFrame([\n",
    "  [1, 'San Diego', 100],\n",
    "  [2, 'Los Angeles', 120],\n",
    "  [3, 'San Francisco', 90],\n",
    "  [4, 'Sacramento', 115]\n",
    "],\n",
    "  columns=[\n",
    "    'Store ID', 'Location', 'Number of Employees'\n",
    "  ])\n",
    "\n",
    "print(df2)"
   ]
  },
  {
   "cell_type": "markdown",
   "metadata": {},
   "source": [
    "#### Create a DataFrame using a File"
   ]
  },
  {
   "cell_type": "markdown",
   "metadata": {},
   "source": [
    "Most of the time we'll be importing CSV files(text files of comma separated values). The can be obtained from online data sets, exports of Excel or Google Sheets, or exports from SQL databases.\n",
    "\n",
    "The first row of a CSV contains column headings. All subsequent rows contain values. Each column heading and each variable is separated by a comma(NO spaces following commas):\n",
    "\n",
    "```txt\n",
    "column1,column2,column3\n",
    "value1,value2,value3\n",
    "```"
   ]
  },
  {
   "cell_type": "markdown",
   "metadata": {},
   "source": [
    "```txt\n",
    "name,cake_flavor,frosting_flavor,topping\n",
    "Devil's Food,chocolate,chocolate,chocolate shavings\n",
    "Birthday Cake,vanilla,vanilla,rainbow sprinkles\n",
    "Carrot cake,carrot,cream cheese,almonds\n",
    "```"
   ]
  },
  {
   "cell_type": "markdown",
   "metadata": {},
   "source": [
    "To load the csv into a `DataFrame`, use `pd.read_csv()`, the csv file is passed as an argument."
   ]
  },
  {
   "cell_type": "markdown",
   "metadata": {},
   "source": [
    "We can read data from a `DataFrame` and write it to a csv using the `.to_csv()` method. The method is called on the `DataFrame` object, the name of the csv file is passed as an argument, saving the file to the current directory.\n",
    "\n",
    "```py\n",
    "df2.to_csv('new-csv-file.csv')\n",
    "```"
   ]
  },
  {
   "cell_type": "markdown",
   "metadata": {},
   "source": [
    "#### Inspecting a DataFrame"
   ]
  },
  {
   "cell_type": "markdown",
   "metadata": {},
   "source": [
    "Using the `head()` method - by default returns the header row and the first 5 rows. Pass an interger argument, and fetch that number of rows, e.g. `df.head(10)`"
   ]
  },
  {
   "cell_type": "markdown",
   "metadata": {},
   "source": [
    "To view information about the dataset, number and names of columns, datatypes and memory usage, use `df.info()`."
   ]
  },
  {
   "cell_type": "markdown",
   "metadata": {},
   "source": [
    "#### Selecting a single column"
   ]
  },
  {
   "cell_type": "markdown",
   "metadata": {},
   "source": [
    "To select a column of data values, `Series`, use the `df['column name']` format. If the column follows all the rules for naming variables, e.g. doesn't start with a number, contain spaces or special characters, etc, then you can use `dot notation`, e.g. `df.my_column_name`."
   ]
  },
  {
   "cell_type": "code",
   "execution_count": 5,
   "metadata": {},
   "outputs": [],
   "source": [
    "df3 = pd.DataFrame([\n",
    "  ['January', 100, 100, 23, 100],\n",
    "  ['February', 51, 45, 145, 45],\n",
    "  ['March', 81, 96, 65, 96],\n",
    "  ['April', 80, 80, 54, 180],\n",
    "  ['May', 51, 54, 54, 154],\n",
    "  ['June', 112, 109, 79, 129]],\n",
    "  columns=['month', 'clinic_east',\n",
    "           'clinic_north', 'clinic_south',\n",
    "           'clinic_west']\n",
    ")\n",
    "\n",
    "clinic_north = df3.clinic_north"
   ]
  },
  {
   "cell_type": "code",
   "execution_count": 6,
   "metadata": {},
   "outputs": [
    {
     "name": "stdout",
     "output_type": "stream",
     "text": [
      "0    100\n",
      "1     45\n",
      "2     96\n",
      "3     80\n",
      "4     54\n",
      "5    109\n",
      "Name: clinic_north, dtype: int64\n"
     ]
    }
   ],
   "source": [
    "print(clinic_north)"
   ]
  },
  {
   "cell_type": "code",
   "execution_count": 7,
   "metadata": {},
   "outputs": [
    {
     "name": "stdout",
     "output_type": "stream",
     "text": [
      "<class 'pandas.core.series.Series'>\n"
     ]
    }
   ],
   "source": [
    "print(type(clinic_north))"
   ]
  },
  {
   "cell_type": "code",
   "execution_count": 8,
   "metadata": {},
   "outputs": [
    {
     "name": "stdout",
     "output_type": "stream",
     "text": [
      "<class 'pandas.core.frame.DataFrame'>\n"
     ]
    }
   ],
   "source": [
    "print(type(df3))"
   ]
  },
  {
   "cell_type": "markdown",
   "metadata": {},
   "source": [
    "#### Selecting multiple columns"
   ]
  },
  {
   "cell_type": "markdown",
   "metadata": {},
   "source": [
    "To select two or more columns from a DataFrame, we use a comma separated list of column names.\n",
    "\n",
    "```py\n",
    "new_df = orders[['last_name', 'email']]\n",
    "```\n",
    "\n",
    "Note: you need to use a double set of aquare brackets, e.g. `([[]])`"
   ]
  },
  {
   "cell_type": "code",
   "execution_count": 9,
   "metadata": {},
   "outputs": [
    {
     "name": "stdout",
     "output_type": "stream",
     "text": [
      "   clinic_north  clinic_south\n",
      "0           100            23\n",
      "1            45           145\n",
      "2            96            65\n",
      "3            80            54\n",
      "4            54            54\n",
      "5           109            79\n"
     ]
    }
   ],
   "source": [
    "clinic_north_south = df3[['clinic_north', 'clinic_south']]\n",
    "print(clinic_north_south)"
   ]
  },
  {
   "cell_type": "code",
   "execution_count": 10,
   "metadata": {},
   "outputs": [
    {
     "name": "stdout",
     "output_type": "stream",
     "text": [
      "<class 'pandas.core.frame.DataFrame'>\n"
     ]
    }
   ],
   "source": [
    "print(type(clinic_north_south))"
   ]
  },
  {
   "cell_type": "markdown",
   "metadata": {},
   "source": [
    "#### Selecting a single row"
   ]
  },
  {
   "cell_type": "markdown",
   "metadata": {},
   "source": [
    "DataFrames are zero indexed, you can fetch a single row by passing it's index to `iloc[]`. The result is a Pandas Series."
   ]
  },
  {
   "cell_type": "code",
   "execution_count": 11,
   "metadata": {},
   "outputs": [
    {
     "name": "stdout",
     "output_type": "stream",
     "text": [
      "month           March\n",
      "clinic_east        81\n",
      "clinic_north       96\n",
      "clinic_south       65\n",
      "clinic_west        96\n",
      "Name: 2, dtype: object\n"
     ]
    }
   ],
   "source": [
    "march = df3.iloc[2]\n",
    "print(march)"
   ]
  },
  {
   "cell_type": "code",
   "execution_count": 12,
   "metadata": {},
   "outputs": [
    {
     "name": "stdout",
     "output_type": "stream",
     "text": [
      "<class 'pandas.core.series.Series'>\n"
     ]
    }
   ],
   "source": [
    "print(type(march))"
   ]
  },
  {
   "cell_type": "markdown",
   "metadata": {},
   "source": [
    "#### Selecting multiple rows"
   ]
  },
  {
   "cell_type": "markdown",
   "metadata": {},
   "source": [
    "Use the same technique for selecting inner lists within a Python 2D list\n",
    "\n",
    "`df.iloc[3:7]` would select all rows starting at the 3rd row and up to but not including the 7th row (i.e., the 3rd row, 4th row, 5th row, and 6th row)\n",
    "\n",
    "`df.iloc[:4]` would select all rows up to, but not including the 4th row (i.e., the 0th, 1st, 2nd, and 3rd rows)\n",
    "\n",
    "`df.iloc[-3:]` would select the rows starting at the 3rd to last row and up to and including the final row"
   ]
  },
  {
   "cell_type": "code",
   "execution_count": 13,
   "metadata": {},
   "outputs": [
    {
     "name": "stdout",
     "output_type": "stream",
     "text": [
      "   month  clinic_east  clinic_north  clinic_south  clinic_west\n",
      "3  April           80            80            54          180\n",
      "4    May           51            54            54          154\n",
      "5   June          112           109            79          129\n"
     ]
    }
   ],
   "source": [
    "april_may_june = df3.iloc[3:6]\n",
    "print(april_may_june)"
   ]
  },
  {
   "cell_type": "code",
   "execution_count": 14,
   "metadata": {},
   "outputs": [
    {
     "name": "stdout",
     "output_type": "stream",
     "text": [
      "<class 'pandas.core.frame.DataFrame'>\n"
     ]
    }
   ],
   "source": [
    "print(type(april_may_june))"
   ]
  },
  {
   "cell_type": "markdown",
   "metadata": {},
   "source": [
    "#### Selecting a subset of data using Logic"
   ]
  },
  {
   "cell_type": "markdown",
   "metadata": {},
   "source": [
    "```py\n",
    "# select a specific column\n",
    "df[df.MyColumnName == desired_column_value]\n",
    "\n",
    "# select data based on a specific value\n",
    "df[df.age == 30]\n",
    "\n",
    "# select all rows that meet a particular condition\n",
    "df[df.age < 30]\n",
    "\n",
    "# select all rows that do NOT meet a condition\n",
    "df[df.name != 'Clara Oswald']\n",
    "```"
   ]
  },
  {
   "cell_type": "markdown",
   "metadata": {},
   "source": [
    "You can also combine multiple logical statements, as long as each statement is in parentheses.\n",
    "\n",
    "```py\n",
    "# select all rows where the customer's age was under 30 or the customer's name was \"Martha Jones\"\n",
    "df[(df.age < 30) | (df.name == 'Martha Jones')]\n",
    "```"
   ]
  },
  {
   "cell_type": "code",
   "execution_count": 15,
   "metadata": {},
   "outputs": [
    {
     "name": "stdout",
     "output_type": "stream",
     "text": [
      "   month  clinic_east  clinic_north  clinic_south  clinic_west\n",
      "2  March           81            96            65           96\n",
      "3  April           80            80            54          180\n"
     ]
    }
   ],
   "source": [
    "march_april = df3[(df3.month == 'March') | (df3.month == 'April')]\n",
    "print(march_april)"
   ]
  },
  {
   "cell_type": "markdown",
   "metadata": {},
   "source": [
    "You can also use the `isin()` method check if a particular value exists and return the corresponding row, e.g. select the rows where the customer's name is either \"Martha Jones\", \"Rose Tyler\" or \"Amy Pond\"\n",
    "\n",
    "```py\n",
    "df[df.name.isin(['Martha Jones',\n",
    "     'Rose Tyler',\n",
    "     'Amy Pond'])]\n",
    "```"
   ]
  },
  {
   "cell_type": "code",
   "execution_count": 16,
   "metadata": {},
   "outputs": [
    {
     "name": "stdout",
     "output_type": "stream",
     "text": [
      "      month  clinic_east  clinic_north  clinic_south  clinic_west\n",
      "0   January          100           100            23          100\n",
      "1  February           51            45           145           45\n",
      "2     March           81            96            65           96\n"
     ]
    }
   ],
   "source": [
    "january_february_march = df3[df3.month.isin(['January', 'February', 'March'])]\n",
    "print(january_february_march)"
   ]
  },
  {
   "cell_type": "code",
   "execution_count": 17,
   "metadata": {},
   "outputs": [
    {
     "name": "stdout",
     "output_type": "stream",
     "text": [
      "<class 'pandas.core.frame.DataFrame'>\n"
     ]
    }
   ],
   "source": [
    "print(type(january_february_march))"
   ]
  },
  {
   "cell_type": "markdown",
   "metadata": {},
   "source": [
    "#### Reseting DataFram Indices"
   ]
  },
  {
   "cell_type": "markdown",
   "metadata": {},
   "source": [
    "When we select a subset of a DataFrame using logic, we end up with non-consecutive indices. We can fix this using the method `.reset_index()`."
   ]
  },
  {
   "cell_type": "code",
   "execution_count": 18,
   "metadata": {},
   "outputs": [
    {
     "data": {
      "text/html": [
       "<div>\n",
       "<style scoped>\n",
       "    .dataframe tbody tr th:only-of-type {\n",
       "        vertical-align: middle;\n",
       "    }\n",
       "\n",
       "    .dataframe tbody tr th {\n",
       "        vertical-align: top;\n",
       "    }\n",
       "\n",
       "    .dataframe thead th {\n",
       "        text-align: right;\n",
       "    }\n",
       "</style>\n",
       "<table border=\"1\" class=\"dataframe\">\n",
       "  <thead>\n",
       "    <tr style=\"text-align: right;\">\n",
       "      <th></th>\n",
       "      <th>index</th>\n",
       "      <th>month</th>\n",
       "      <th>clinic_east</th>\n",
       "      <th>clinic_north</th>\n",
       "      <th>clinic_south</th>\n",
       "      <th>clinic_west</th>\n",
       "    </tr>\n",
       "  </thead>\n",
       "  <tbody>\n",
       "    <tr>\n",
       "      <th>0</th>\n",
       "      <td>2</td>\n",
       "      <td>March</td>\n",
       "      <td>81</td>\n",
       "      <td>96</td>\n",
       "      <td>65</td>\n",
       "      <td>96</td>\n",
       "    </tr>\n",
       "    <tr>\n",
       "      <th>1</th>\n",
       "      <td>3</td>\n",
       "      <td>April</td>\n",
       "      <td>80</td>\n",
       "      <td>80</td>\n",
       "      <td>54</td>\n",
       "      <td>180</td>\n",
       "    </tr>\n",
       "  </tbody>\n",
       "</table>\n",
       "</div>"
      ],
      "text/plain": [
       "   index  month  clinic_east  clinic_north  clinic_south  clinic_west\n",
       "0      2  March           81            96            65           96\n",
       "1      3  April           80            80            54          180"
      ]
     },
     "execution_count": 18,
     "metadata": {},
     "output_type": "execute_result"
    }
   ],
   "source": [
    "march_april.reset_index()"
   ]
  },
  {
   "cell_type": "markdown",
   "metadata": {},
   "source": [
    "By default, a new `index` column is created with the old indicies and and the indicies reset. You can avoid the `index` column being created by using the `drop=True` option."
   ]
  },
  {
   "cell_type": "code",
   "execution_count": 19,
   "metadata": {},
   "outputs": [
    {
     "data": {
      "text/html": [
       "<div>\n",
       "<style scoped>\n",
       "    .dataframe tbody tr th:only-of-type {\n",
       "        vertical-align: middle;\n",
       "    }\n",
       "\n",
       "    .dataframe tbody tr th {\n",
       "        vertical-align: top;\n",
       "    }\n",
       "\n",
       "    .dataframe thead th {\n",
       "        text-align: right;\n",
       "    }\n",
       "</style>\n",
       "<table border=\"1\" class=\"dataframe\">\n",
       "  <thead>\n",
       "    <tr style=\"text-align: right;\">\n",
       "      <th></th>\n",
       "      <th>month</th>\n",
       "      <th>clinic_east</th>\n",
       "      <th>clinic_north</th>\n",
       "      <th>clinic_south</th>\n",
       "      <th>clinic_west</th>\n",
       "    </tr>\n",
       "  </thead>\n",
       "  <tbody>\n",
       "    <tr>\n",
       "      <th>0</th>\n",
       "      <td>March</td>\n",
       "      <td>81</td>\n",
       "      <td>96</td>\n",
       "      <td>65</td>\n",
       "      <td>96</td>\n",
       "    </tr>\n",
       "    <tr>\n",
       "      <th>1</th>\n",
       "      <td>April</td>\n",
       "      <td>80</td>\n",
       "      <td>80</td>\n",
       "      <td>54</td>\n",
       "      <td>180</td>\n",
       "    </tr>\n",
       "  </tbody>\n",
       "</table>\n",
       "</div>"
      ],
      "text/plain": [
       "   month  clinic_east  clinic_north  clinic_south  clinic_west\n",
       "0  March           81            96            65           96\n",
       "1  April           80            80            54          180"
      ]
     },
     "execution_count": 19,
     "metadata": {},
     "output_type": "execute_result"
    }
   ],
   "source": [
    "march_april.reset_index(drop=True)"
   ]
  },
  {
   "cell_type": "markdown",
   "metadata": {},
   "source": [
    "`.reset_index()` returns a new `DataFrame`, you can avoid this and instead modify the existing data frame with the `inplace=True` option."
   ]
  },
  {
   "cell_type": "code",
   "execution_count": 22,
   "metadata": {},
   "outputs": [
    {
     "name": "stdout",
     "output_type": "stream",
     "text": [
      "      month  clinic_east  clinic_north  clinic_south  clinic_west\n",
      "1  February           51            45           145           45\n",
      "3     April           80            80            54          180\n",
      "5      June          112           109            79          129\n"
     ]
    }
   ],
   "source": [
    "df4 = df3.loc[[1, 3, 5]]\n",
    "print(df4)"
   ]
  },
  {
   "cell_type": "code",
   "execution_count": 23,
   "metadata": {},
   "outputs": [
    {
     "name": "stdout",
     "output_type": "stream",
     "text": [
      "   index     month  clinic_east  clinic_north  clinic_south  clinic_west\n",
      "0      1  February           51            45           145           45\n",
      "1      3     April           80            80            54          180\n",
      "2      5      June          112           109            79          129\n"
     ]
    }
   ],
   "source": [
    "df5 = df4.reset_index()\n",
    "print(df5)"
   ]
  },
  {
   "cell_type": "code",
   "execution_count": 24,
   "metadata": {},
   "outputs": [
    {
     "name": "stdout",
     "output_type": "stream",
     "text": [
      "      month  clinic_east  clinic_north  clinic_south  clinic_west\n",
      "1  February           51            45           145           45\n",
      "3     April           80            80            54          180\n",
      "5      June          112           109            79          129\n"
     ]
    }
   ],
   "source": [
    "print(df4)"
   ]
  },
  {
   "cell_type": "code",
   "execution_count": 26,
   "metadata": {},
   "outputs": [
    {
     "name": "stdout",
     "output_type": "stream",
     "text": [
      "      month  clinic_east  clinic_north  clinic_south  clinic_west\n",
      "0  February           51            45           145           45\n",
      "1     April           80            80            54          180\n",
      "2      June          112           109            79          129\n"
     ]
    }
   ],
   "source": [
    "df4.reset_index(drop=True, inplace=True)\n",
    "print(df4)"
   ]
  },
  {
   "cell_type": "markdown",
   "metadata": {},
   "source": [
    "#### Example:\n",
    "\n",
    "```py\n",
    "import pandas as pd\n",
    "orders = pd.read_csv('shoefly.csv')\n",
    "\n",
    "print(orders.head(20))\n",
    "\n",
    "# fetch all email addresses\n",
    "emails = orders.email\n",
    "print(emails)\n",
    "\n",
    "# find the matching order\n",
    "frances_palmer = orders[(orders.first_name == 'Frances') & (orders.last_name == 'Palmer')]\n",
    "print(frances_palmer)\n",
    "\n",
    "# select all orders of shoe_type: clogs, boots & ballet flats\n",
    "comfy_shoes = orders[(orders.shoe_type == 'clogs') | (orders.shoe_type == 'boots') | (orders.shoe_type == 'ballet flats')]\n",
    "print(comfy_shoes)\n",
    "```"
   ]
  }
 ],
 "metadata": {
  "kernelspec": {
   "display_name": "Python 3",
   "language": "python",
   "name": "python3"
  },
  "language_info": {
   "codemirror_mode": {
    "name": "ipython",
    "version": 3
   },
   "file_extension": ".py",
   "mimetype": "text/x-python",
   "name": "python",
   "nbconvert_exporter": "python",
   "pygments_lexer": "ipython3",
   "version": "3.7.1"
  }
 },
 "nbformat": 4,
 "nbformat_minor": 2
}
