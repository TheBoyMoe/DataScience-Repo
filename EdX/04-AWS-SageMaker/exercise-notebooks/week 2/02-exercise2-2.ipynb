{
 "cells": [
  {
   "cell_type": "markdown",
   "metadata": {},
   "source": [
    "# Exercise 2.2 - SageMaker SDK"
   ]
  },
  {
   "cell_type": "markdown",
   "metadata": {},
   "source": [
    "This exercise introduces you to the Amazon SageMaker high-level Python library - **boto**. The library is provided as an abstraction for training and deploying machine-learned models on Amazon SageMaker.\n",
    "\n",
    "You will repeat the exercise 1.1 Driving Linear Learner steps for the AWS console, but instead of using the console, you will interact with Amazon SageMaker using the high-level Python library from a notebook instance.\n",
    "\n",
    "For more information about the Amazon SageMaker high-level Python library see:\n",
    "\n",
    "[AWS SageMaker Github Repo](https://github.com/aws/sagemaker-python-sdk)  \n",
    "[AWS SageMaker Docs](https://sagemaker.readthedocs.io/en/latest/)  "
   ]
  },
  {
   "cell_type": "markdown",
   "metadata": {},
   "source": [
    "### 1. Start the Amazon SageMaker notebook instance.\n",
    "\n",
    "In this section, you will return to your SageMaker notebook instance and start the instance.\n",
    "\n",
    "- **Sign in** to the AWS Management Console as the **edXSageMakerUser** IAM user.\n",
    "- In the console, click Services > Amazon SageMaker to open the Amazon SageMaker dashboard.\n",
    "- Make sure you are in the **Oregon Region**.\n",
    "- In the left navigation pane, click **Notebook instances**, and then click **Start** next to your edXSageMaker instance.\n",
    "- When the notebook instance status moves to InService, click **Open Jupyter** to open the notebook in a new browser tab."
   ]
  },
  {
   "cell_type": "markdown",
   "metadata": {},
   "source": [
    "### 2. Download notebook code to the notebook instance.\n",
    "\n",
    "In this section, you will download the Amazon-SageMaker-high-level-Python-library.ipynb notebook and training.csv file to your instance.\n",
    "\n",
    "- To download the Amazon-SageMaker-high-level-Python-library.ipynb notebook, **open a terminal window**. For New, click Terminal.\n",
    "- **Run the following commands** to change the directory, and download the notebook and .csv file.\n",
    "\n",
    "```py\n",
    "cd ~/SageMaker/\n",
    "\n",
    "wget https://us-west-2-tcdev.s3.amazonaws.com/courses/AWS-100-MLS/v1.0.0/exercises/notebooks/Amazon-SageMaker-high-level-Python-library.ipynb\n",
    "\n",
    "wget https://us-west-2-tcdev.s3.amazonaws.com/courses/AWS-100-MLS/v1.0.0/exercises/notebooks/training.csv\n",
    "```\n",
    "- Return to the Jupyter notebook home. The browser tab is labeled Home."
   ]
  },
  {
   "cell_type": "markdown",
   "metadata": {},
   "source": [
    "### 3. Run the notebook code on the notebook instance.\n",
    "\n",
    "You now have everything on the notebook instance you need to run the high-level library demonstration. As with the previous notebook exercise, you can **complete the exercise by running each cell in the notebook**.\n",
    "\n",
    "**Note** Ensure you run the final cell in the notebook to delete the endpoint created in this exercise."
   ]
  },
  {
   "cell_type": "markdown",
   "metadata": {},
   "source": [
    "### 4. End running Jupyter processes, and stop the notebook instance.\n",
    "\n",
    "- From the Jupyter notebook home, click Running.\n",
    "- Click **Shutdown** next to the terminal and notebook.\n",
    "- To stop the notebook instance, return to the AWS console, and click Services > Amazon SageMaker to open the Amazon SageMaker dashboard.\n",
    "- In the left navigation pane, click **Notebook instances**, and then click **Stop** next to the edXSageMaker instance."
   ]
  },
  {
   "cell_type": "markdown",
   "metadata": {},
   "source": [
    "### 5. Delete the endpoint configuration and model.\n",
    "\n",
    "- Return to the the Amazon SageMaker dashboard.\n",
    "- In the left navigation pane, click **Endpoints**, and ensure the endpoint created by the notebook is removed.\n",
    "- In the left navigation pane, click **Endpoint configurations**, and choose the option for the endpoint that starts with linear-learner.\n",
    "- For Actions, click Delete.\n",
    "- Click Delete to confirm.\n",
    "- In the left navigation pane, click **Models**, and choose the option for the model that starts with linear-learner.\n",
    "- For Actions, click Delete.\n",
    "- Click Delete to confirm."
   ]
  }
 ],
 "metadata": {
  "kernelspec": {
   "display_name": "Python 3",
   "language": "python",
   "name": "python3"
  },
  "language_info": {
   "codemirror_mode": {
    "name": "ipython",
    "version": 3
   },
   "file_extension": ".py",
   "mimetype": "text/x-python",
   "name": "python",
   "nbconvert_exporter": "python",
   "pygments_lexer": "ipython3",
   "version": "3.6.7"
  }
 },
 "nbformat": 4,
 "nbformat_minor": 2
}
