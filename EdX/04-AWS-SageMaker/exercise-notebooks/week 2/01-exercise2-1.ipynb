{
 "cells": [
  {
   "cell_type": "markdown",
   "metadata": {},
   "source": [
    "# Exercise 2.1\n",
    "\n",
    "### 1. Create an Amazon SageMaker notebook instance.\n",
    "\n",
    "In this section, you will create an Amazon SageMaker notebook instance.\n",
    "\n",
    "- Sign in to the AWS Management Console as the edXSageMakerUser IAM user.\n",
    "- In the console, click Services > Amazon SageMaker to open the Amazon SageMaker dashboard.\n",
    "- Make sure you are in the Oregon Region.\n",
    "- In the left navigation pane, click Notebook instances > Create notebook instance.\n",
    "- For Notebook instance name, enter edXSageMaker in the text box.\n",
    "- Confirm that the IAM role is populated with the role you created in the previous exercise.\n",
    "- Click Create notebook instance.\n",
    "\n",
    "After a few minutes, your notebook instance becomes available. When the notebook instance status moves to InService, continue to the next section."
   ]
  },
  {
   "cell_type": "markdown",
   "metadata": {},
   "source": [
    "### 2. Download Pandas-Demo.ipynb to the notebook instance.\n",
    "\n",
    "In this section, you will interact with your notebook instance for the first time. You will download the Pandas-Demo.ipynb notebook used in the presentation, and then run all the notebook cells on your own instance.\n",
    "\n",
    "- Click the Open link for your new edXSageMaker notebook instance. The Jupyter notebook home opens in a new browser tab.\n",
    "- To download the Pandas-Demo.ipynb notebook, open a terminal window, and for New, click Terminal. A terminal window displays where you can run commands on your notebook instance.\n",
    "- Run the following commands to change the directory and download the notebook:\n",
    "\n",
    "```py\n",
    "cd ~/SageMaker/\n",
    "\n",
    "wget https://us-west-2-tcdev.s3.amazonaws.com/courses/AWS-100-MLS/v1.0.0/exercises/notebooks/Pandas-Demo.ipynb\n",
    "```\n",
    "- Return to the Jupyter notebook home. The browser tab is labeled Home."
   ]
  },
  {
   "cell_type": "markdown",
   "metadata": {},
   "source": [
    "### 3. Run Pandas-Demo.ipynb on the notebook instance.\n",
    "\n",
    "In this section, you will interact with the same notebook from the presentation. Experiment by adding cells and taking a more adventurous tour of the notebook.\n",
    "\n",
    "If your notebook gets into a bad state, restart the kernel. From the notebook, click Kernel > Restart & Clear Output. This restarts the notebook kernel, clearing all set variables.\n",
    "\n",
    "- From the Jupyter notebook home, click Pandas-Demo.ipynb to launch the notebook.\n",
    "- From the notebook, run each individual cell, and inspect the output from each run."
   ]
  },
  {
   "cell_type": "markdown",
   "metadata": {},
   "source": [
    "### 4.  End running Jupyter processes, and stop the notebook instance.\n",
    "\n",
    "In this section, you will end the processes running on your notebook instance and stop the notebook instance. Every notebook and every terminal window running on the instance is a process potentially taking up resources. These processes can be accessed from the Running tab on the Jupyter notebook home. From here, you can return to the running processes or shut them down.\n",
    "\n",
    "The final step of the exercise is to stop the notebook instance. Your notebook files are persistent on the attached ML storage volume. You will return to the notebook instance in upcoming exercises.\n",
    "\n",
    "- From the Jupyter notebook home, click Running.\n",
    "- Click Shutdown next to the terminal and notebook.\n",
    "- To stop the notebook instance, return to the AWS console, and click Services > Amazon SageMaker to open the Amazon SageMaker dashboard.\n",
    "- In the left navigation pane, click Notebook instances, and then click Stop next to the edXSageMaker instance."
   ]
  }
 ],
 "metadata": {
  "kernelspec": {
   "display_name": "Python 3",
   "language": "python",
   "name": "python3"
  },
  "language_info": {
   "codemirror_mode": {
    "name": "ipython",
    "version": 3
   },
   "file_extension": ".py",
   "mimetype": "text/x-python",
   "name": "python",
   "nbconvert_exporter": "python",
   "pygments_lexer": "ipython3",
   "version": "3.7.1"
  }
 },
 "nbformat": 4,
 "nbformat_minor": 2
}
