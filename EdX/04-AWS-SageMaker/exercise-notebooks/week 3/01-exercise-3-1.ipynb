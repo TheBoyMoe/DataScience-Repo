{
 "cells": [
  {
   "cell_type": "markdown",
   "metadata": {},
   "source": [
    "# Exercise 3.1 - K-Means Cluster Demo\n",
    "\n",
    "In this exercise, you will complete the Amazon SageMaker example notebook for k-means and the MNIST database of handwritten digits. K-means is an unsupervised learning algorithm that attempts to find discrete groupings in data. In this case, the data consists of samples of handwritten digits. The data is provided to the algorithm without labels, as k-means is an unsupervised algorithm.\n",
    "\n",
    "For more details on the [Amazon SageMaker built-in k-means algorithm](https://docs.aws.amazon.com/sagemaker/latest/dg/k-means.html)  "
   ]
  },
  {
   "cell_type": "markdown",
   "metadata": {},
   "source": [
    "### 1. Start the Amazon SageMaker notebook instance.\n",
    "\n",
    "In this section, you will return to your Amazon SageMaker notebook instance and start the instance.\n",
    "\n",
    "- Sign in to the AWS Management Console as the edXSageMakerUser IAM user.\n",
    "- In the console, click Services > Amazon SageMaker to open the Amazon SageMaker dashboard.\n",
    "- Make sure you are in the Oregon Region.\n",
    "- In the left navigation pane, click Notebook instances, and then click Start next to the edXSageMaker instance.\n",
    "- When the notebook instance status moves to InService, click Open to open the notebook in a new browser tab."
   ]
  },
  {
   "cell_type": "markdown",
   "metadata": {},
   "source": [
    "### 2. Start the Amazon SageMaker example.\n",
    "\n",
    "In this section, you will launch the sample kmeans_mnist.ipynb notebook into your notebook instance.\n",
    "\n",
    "The Amazon SageMaker examples are maintained in a [Git repository](https://github.com/awslabs/amazon-sagemaker-examples)  \n",
    "\n",
    "- From the Jupyter notebook home, click SageMaker Examples.\n",
    "- Locate the kmeans_mnist example in SageMaker Python Sdk > kmeans_mnist.ipynb, and click Use.\n",
    "- Click Create copy to copy and launch the example.\n",
    "- To complete the example notebook, run each individual cell, and inspect the output from each run."
   ]
  },
  {
   "cell_type": "markdown",
   "metadata": {},
   "source": [
    "### 3.  End running Jupyter processes, and stop the notebook instance.\n",
    "\n",
    "- From the Jupyter notebook home, click Running.\n",
    "- Click Shutdown next to the terminal and notebook.\n",
    "- To stop the notebook instance, return to the AWS console, and click Services > Amazon SageMaker to open the Amazon SageMaker dashboard.\n",
    "- In the left navigation pane, click Notebook instances, and then click Stop next to the edXSageMaker in"
   ]
  },
  {
   "cell_type": "markdown",
   "metadata": {},
   "source": [
    "### 4. Delete the endpoint configuration and model.\n",
    "\n",
    "- Return to the the Amazon SageMaker dashboard.\n",
    "- In the left navigation pane, click Endpoints, and ensure the endpoint created by the notebook has been removed.\n",
    "- In the left navigation pane, for Endpoint configurations, click the the endpoint that starts with kmeans.\n",
    "- For Actions, click Delete.\n",
    "- Click Delete to confirm.\n",
    "- In the left navigation pane, for Models, click the model that starts with kmeans.\n",
    "- For Actions, click Delete.\n",
    "- Click Delete to confirm."
   ]
  }
 ],
 "metadata": {
  "kernelspec": {
   "display_name": "Python 3",
   "language": "python",
   "name": "python3"
  },
  "language_info": {
   "codemirror_mode": {
    "name": "ipython",
    "version": 3
   },
   "file_extension": ".py",
   "mimetype": "text/x-python",
   "name": "python",
   "nbconvert_exporter": "python",
   "pygments_lexer": "ipython3",
   "version": "3.7.1"
  }
 },
 "nbformat": 4,
 "nbformat_minor": 2
}
