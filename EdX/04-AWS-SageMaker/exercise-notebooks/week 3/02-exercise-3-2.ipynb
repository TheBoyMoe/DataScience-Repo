{
 "cells": [
  {
   "cell_type": "markdown",
   "metadata": {},
   "source": [
    "# Exercise 3.2 - Using XGBoost Algorithm\n",
    "\n",
    "In this exercise, you will complete an Amazon SageMaker example notebook for Customer Churn Prediction with XGBoost. XGBoost (Extreme Gradient Boosting) is a popular and efficient open source implementation of the gradient boosted trees algorithm. Gradient boosting is a supervised learning algorithm that attempts to accurately predict a target variable by combining the estimates of a set of simpler, weaker models.\n",
    "\n",
    "In this example notebook, you will work with a dataset of customers from a fictional mobile operator. The dataset has a churn value, which indicates whether a customer left the service. At the end of the notebook, you will look at optimizing the threshold for predicted churn. A value is assigned to the four states—false positive, true positive, false negative, and true negative. You will use this formula to determine the cutoff value where costs are minimized.\n",
    "\n",
    "For more details on the Amazon SageMaker built-in [XGBoost algorithm](https://docs.aws.amazon.com/sagemaker/latest/dg/xgboost.html)  "
   ]
  },
  {
   "cell_type": "markdown",
   "metadata": {},
   "source": [
    "### 1. Start the Amazon SageMaker notebook instance.\n",
    "\n",
    "In this section, you will return to your Amazon SageMaker notebook instance and start the instance.\n",
    "\n",
    "- Sign in to the AWS Management Console as the edXSageMakerUser IAM user.\n",
    "- In the console, click Services > Amazon SageMaker to open the Amazon SageMaker dashboard.\n",
    "- Make sure you are in the Oregon Region.\n",
    "- In the left navigation pane, click Notebook instances, and then click Start next to the edXSageMaker instance.\n",
    "- When the notebook instance status moves to InService, click Open to open the notebook in a new browser tab."
   ]
  },
  {
   "cell_type": "markdown",
   "metadata": {},
   "source": [
    "### 2. Start the Amazon SageMaker example.\n",
    "\n",
    "In this section, you will launch the sample xgboost_customer_churn.ipynb notebook into your notebook instance.\n",
    "\n",
    "The Amazon SageMaker examples are maintained in a [Git repository](https://github.com/awslabs/amazon-sagemaker-examples)  \n",
    "\n",
    "- From the Jupyter notebook home, click SageMaker Examples.\n",
    "- To open the xgboost_customer_churn example, click Introduction to Applying Machine Learning > xgboost_customer_churn.ipynb, and click Use.\n",
    "- Click Create copy to copy and launch the example.\n",
    "- In the first code cell of the notebook, locate the code that sets the bucket. Update the variable with your REPLACE_WITH_YOUR_INITIALS-sagemaker bucket created in the first exercise.\n",
    "\n",
    "```py\n",
    "bucket = 'REPLACE_WITH_YOUR_INITIALS-sagemaker'\n",
    "```\n",
    "- To complete the example notebook, run each individual cell, and inspect the output from each run."
   ]
  },
  {
   "cell_type": "markdown",
   "metadata": {},
   "source": [
    "### 3. End running Jupyter processes, and stop the notebook instance.\n",
    "\n",
    "- From the Jupyter notebook home, click Running.\n",
    "- Click Shutdown next to the terminal and notebook.\n",
    "- To stop the notebook instance, return to the AWS console, and then click Services > Amazon SageMaker to open the Amazon SageMaker dashboard.\n",
    "- In the left navigation pane, click Notebook instances, and then click Stop next to the edXSageMaker instance."
   ]
  },
  {
   "cell_type": "markdown",
   "metadata": {},
   "source": [
    "### 4. Delete the endpoint configuration and model.\n",
    "\n",
    "- Return to the the Amazon SageMaker dashboard.\n",
    "- In the left navigation pane, click Endpoints, and ensure the endpoint created by the notebook has been removed.\n",
    "- In the left navigation pane, for Endpoint configurations, click the endpoint that starts with xgboost.\n",
    "- For Actions, click Delete.\n",
    "- Click Delete to confirm.\n",
    "- In the left navigation pane, for Models, click the model that starts with xgboost.\n",
    "- For Actions, click Delete.\n",
    "- Click Delete to confirm."
   ]
  }
 ],
 "metadata": {
  "kernelspec": {
   "display_name": "Python 3",
   "language": "python",
   "name": "python3"
  },
  "language_info": {
   "codemirror_mode": {
    "name": "ipython",
    "version": 3
   },
   "file_extension": ".py",
   "mimetype": "text/x-python",
   "name": "python",
   "nbconvert_exporter": "python",
   "pygments_lexer": "ipython3",
   "version": "3.7.1"
  }
 },
 "nbformat": 4,
 "nbformat_minor": 2
}
