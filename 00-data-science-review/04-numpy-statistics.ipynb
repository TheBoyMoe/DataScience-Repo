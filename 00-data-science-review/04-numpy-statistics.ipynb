{
 "cells": [
  {
   "cell_type": "markdown",
   "metadata": {},
   "source": [
    "# Statistical Analysis of Numpy Arrays"
   ]
  },
  {
   "cell_type": "markdown",
   "metadata": {},
   "source": [
    "## Basic statistics\n",
    "\n",
    "Numpy provides `mean`, `median`, `std`, `min`, `max`, `sum`, etc methods that can be executed on 1D and 2D arrays, aswell as on individual rows and columns of 2D arrays."
   ]
  },
  {
   "cell_type": "code",
   "execution_count": 2,
   "metadata": {},
   "outputs": [
    {
     "name": "stdout",
     "output_type": "stream",
     "text": [
      "[[1 2 3 4 5 6 7 8 9 0]\n",
      " [0 9 8 7 6 5 4 3 2 1]\n",
      " [1 2 3 4 5 6 7 8 9 0]\n",
      " [0 9 8 7 6 5 4 3 2 1]\n",
      " [1 2 3 4 5 6 7 8 9 0]\n",
      " [0 9 8 7 6 5 4 3 2 1]]\n"
     ]
    }
   ],
   "source": [
    "import numpy as np\n",
    "import matplotlib.pyplot as plt\n",
    "\n",
    "%matplotlib inline\n",
    "\n",
    "arr = np.array([\n",
    "    [1,2,3,4,5,6,7,8,9,0],\n",
    "    [0,9,8,7,6,5,4,3,2,1],\n",
    "    [1,2,3,4,5,6,7,8,9,0],\n",
    "    [0,9,8,7,6,5,4,3,2,1],\n",
    "    [1,2,3,4,5,6,7,8,9,0],\n",
    "    [0,9,8,7,6,5,4,3,2,1],\n",
    "])\n",
    "print(arr)"
   ]
  },
  {
   "cell_type": "code",
   "execution_count": 3,
   "metadata": {
    "scrolled": true
   },
   "outputs": [
    {
     "name": "stdout",
     "output_type": "stream",
     "text": [
      "4.5\n",
      "[0.5 5.5 5.5 5.5 5.5 5.5 5.5 5.5 5.5 0.5]\n",
      "[4.5 4.5 4.5 4.5 4.5 4.5]\n"
     ]
    }
   ],
   "source": [
    "print(np.mean(arr) ) # whole array\n",
    "print(np.mean(arr, axis=0)) # col\n",
    "print(np.mean(arr, axis=1)) # row"
   ]
  },
  {
   "cell_type": "markdown",
   "metadata": {},
   "source": [
    "Calculate percentiles with `percentile` method."
   ]
  },
  {
   "cell_type": "code",
   "execution_count": 7,
   "metadata": {},
   "outputs": [
    {
     "data": {
      "text/plain": [
       "2.0"
      ]
     },
     "execution_count": 7,
     "metadata": {},
     "output_type": "execute_result"
    }
   ],
   "source": [
    "np.percentile(arr, 25) "
   ]
  },
  {
   "cell_type": "code",
   "execution_count": 8,
   "metadata": {},
   "outputs": [
    {
     "data": {
      "text/plain": [
       "array([2. , 4.5, 7. ])"
      ]
     },
     "execution_count": 8,
     "metadata": {},
     "output_type": "execute_result"
    }
   ],
   "source": [
    "np.percentile(arr, [25,50,75]) # multiple"
   ]
  },
  {
   "cell_type": "markdown",
   "metadata": {},
   "source": [
    "**Determine the percentage of values that match a condition**"
   ]
  },
  {
   "cell_type": "code",
   "execution_count": 6,
   "metadata": {
    "scrolled": true
   },
   "outputs": [
    {
     "name": "stdout",
     "output_type": "stream",
     "text": [
      "0.1\n",
      "0.3\n",
      "0.7\n"
     ]
    }
   ],
   "source": [
    "print(np.mean(arr > 8))\n",
    "print(np.mean((arr > 4) & (arr < 8)))\n",
    "print(np.mean(~((arr > 4) & (arr < 8))))"
   ]
  },
  {
   "cell_type": "markdown",
   "metadata": {},
   "source": [
    "## Numpy Random Module"
   ]
  },
  {
   "cell_type": "markdown",
   "metadata": {},
   "source": [
    "Numpy `random` supports generating various distributions, e.g. `normal`, `binomial`, `exponential`, etc. Use `np.random.normal` to generate a `normal` distribution. The method takes three args; the `mean`, `std` and sample size."
   ]
  },
  {
   "cell_type": "code",
   "execution_count": 12,
   "metadata": {},
   "outputs": [
    {
     "data": {
      "image/png": "[encoded data removed]",
      "text/plain": [
       "<Figure size 432x288 with 1 Axes>"
      ]
     },
     "metadata": {
      "needs_background": "light"
     },
     "output_type": "display_data"
    }
   ],
   "source": [
    "plt.hist(\n",
    "    np.random.normal(5.0, 2.5, size=100000),\n",
    "    bins=int(100000 ** 0.5),\n",
    "    label='Normal Distribution'\n",
    ")\n",
    "plt.legend(loc='best')\n",
    "plt.show()"
   ]
  },
  {
   "cell_type": "markdown",
   "metadata": {},
   "source": [
    "`random` also supports various random number generating methods.\n",
    "\n",
    "* `rand` - generates a random number between `0` and `1`. Supports generating ndarray by passing in the shape req'd as args. \n",
    "\n",
    "* `randint` - generates a random `int`, from `0` and the integer arg passed in, or between 1st and 2nd args passed to the method exclusively."
   ]
  },
  {
   "cell_type": "code",
   "execution_count": 13,
   "metadata": {},
   "outputs": [
    {
     "name": "stdout",
     "output_type": "stream",
     "text": [
      "0.3745401188473625\n"
     ]
    },
    {
     "data": {
      "text/plain": [
       "array([[0.95071431, 0.73199394],\n",
       "       [0.59865848, 0.15601864],\n",
       "       [0.15599452, 0.05808361],\n",
       "       [0.86617615, 0.60111501]])"
      ]
     },
     "execution_count": 13,
     "metadata": {},
     "output_type": "execute_result"
    }
   ],
   "source": [
    "np.random.seed(42)\n",
    "\n",
    "print(np.random.rand()) # single random number\n",
    "np.random.rand(4,2) # 4 * 2 nd array"
   ]
  },
  {
   "cell_type": "code",
   "execution_count": 15,
   "metadata": {},
   "outputs": [
    {
     "data": {
      "text/plain": [
       "array([[[0.19598286, 0.04522729, 0.32533033],\n",
       "        [0.38867729, 0.27134903, 0.82873751]],\n",
       "\n",
       "       [[0.35675333, 0.28093451, 0.54269608],\n",
       "        [0.14092422, 0.80219698, 0.07455064]],\n",
       "\n",
       "       [[0.98688694, 0.77224477, 0.19871568],\n",
       "        [0.00552212, 0.81546143, 0.70685734]],\n",
       "\n",
       "       [[0.72900717, 0.77127035, 0.07404465],\n",
       "        [0.35846573, 0.11586906, 0.86310343]]])"
      ]
     },
     "execution_count": 15,
     "metadata": {},
     "output_type": "execute_result"
    }
   ],
   "source": [
    "np.random.rand(4,2,3)"
   ]
  },
  {
   "cell_type": "code",
   "execution_count": 20,
   "metadata": {},
   "outputs": [
    {
     "name": "stdout",
     "output_type": "stream",
     "text": [
      "2\n"
     ]
    },
    {
     "data": {
      "text/plain": [
       "4"
      ]
     },
     "execution_count": 20,
     "metadata": {},
     "output_type": "execute_result"
    }
   ],
   "source": [
    "print(np.random.randint(6))\n",
    "np.random.randint(1,6)"
   ]
  }
 ],
 "metadata": {
  "kernelspec": {
   "display_name": "Python 3",
   "language": "python",
   "name": "python3"
  },
  "language_info": {
   "codemirror_mode": {
    "name": "ipython",
    "version": 3
   },
   "file_extension": ".py",
   "mimetype": "text/x-python",
   "name": "python",
   "nbconvert_exporter": "python",
   "pygments_lexer": "ipython3",
   "version": "3.6.7"
  }
 },
 "nbformat": 4,
 "nbformat_minor": 2
}
