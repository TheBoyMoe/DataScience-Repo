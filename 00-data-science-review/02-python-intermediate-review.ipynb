{
 "cells": [
  {
   "cell_type": "markdown",
   "metadata": {},
   "source": [
    "# Python Review"
   ]
  },
  {
   "cell_type": "markdown",
   "metadata": {},
   "source": [
    "## Handling Text Files\n",
    "\n",
    "* Open files to read, write, append content using the `open` command. \n",
    "\n",
    "* Use the `mode` attribute with `r`, `a` or `w`, to read, append or write to the file respectively. \n",
    "\n",
    "* Read the files entire contents as a single string using `read` or a line at a time using `readlines`.\n",
    "\n",
    "* Use `readline` to read one line at a time, each time the method is called the next line is returned until an empty string is returned.\n",
    "\n",
    "* Create a file context using `with` so that you don't have to close the file connection.\n",
    "\n",
    "* An exception is raised if the file does not exist."
   ]
  },
  {
   "cell_type": "markdown",
   "metadata": {},
   "source": [
    "### Reading Files"
   ]
  },
  {
   "cell_type": "code",
   "execution_count": 5,
   "metadata": {},
   "outputs": [
    {
     "name": "stdout",
     "output_type": "stream",
     "text": [
      "Lorizzle ipsizzle boom shackalack i saw beyonces tizzles and my pizzle went crizzle \n",
      "amizzle, rizzle adipiscing fo shizzle. Nullizzle sapizzle velit, aliquet volutpizzle, \n",
      "suscipit quis, dang vel, arcu. Pellentesque crackalackin tortor. Sed erizzle. Phat \n",
      "izzle check it out dapibus fo shizzle mah nizzle fo rizzle, mah home g-dizzle \n",
      "tempizzle check out this. Maurizzle fo shizzle nibh et fizzle.\n"
     ]
    }
   ],
   "source": [
    "# read the whole doc\n",
    "with open('./data/dummy_text.txt', mode='r') as f:\n",
    "    print(f.read())"
   ]
  },
  {
   "cell_type": "code",
   "execution_count": 7,
   "metadata": {},
   "outputs": [
    {
     "name": "stdout",
     "output_type": "stream",
     "text": [
      "Lorizzle ipsizzle boom shackalack i saw beyonces tizzles and my pizzle went crizzle \n",
      "\n",
      "amizzle, rizzle adipiscing fo shizzle. Nullizzle sapizzle velit, aliquet volutpizzle, \n",
      "\n",
      "suscipit quis, dang vel, arcu. Pellentesque crackalackin tortor. Sed erizzle. Phat \n",
      "\n",
      "izzle check it out dapibus fo shizzle mah nizzle fo rizzle, mah home g-dizzle \n",
      "\n",
      "tempizzle check out this. Maurizzle fo shizzle nibh et fizzle.\n"
     ]
    }
   ],
   "source": [
    "# read the doc one line a time\n",
    "with open('./data/dummy_text.txt', mode='r') as f:\n",
    "    for line in f.readlines():\n",
    "        print(line)"
   ]
  },
  {
   "cell_type": "code",
   "execution_count": 12,
   "metadata": {},
   "outputs": [
    {
     "name": "stdout",
     "output_type": "stream",
     "text": [
      "Lorizzle ipsizzle boom shackalack i saw beyonces tizzles and my pizzle went crizzle \n",
      "\n",
      "amizzle, rizzle adipiscing fo shizzle. Nullizzle sapizzle velit, aliquet volutpizzle, \n",
      "\n",
      "suscipit quis, dang vel, arcu. Pellentesque crackalackin tortor. Sed erizzle. Phat \n",
      "\n",
      "izzle check it out dapibus fo shizzle mah nizzle fo rizzle, mah home g-dizzle \n",
      "\n",
      "tempizzle check out this. Maurizzle fo shizzle nibh et fizzle.\n"
     ]
    }
   ],
   "source": [
    "# read the file a line at a time\n",
    "with open('./data/dummy_text.txt', mode='r') as f:\n",
    "    line = f.readline()\n",
    "    while line:\n",
    "        print(line)\n",
    "        line = f.readline()"
   ]
  },
  {
   "cell_type": "code",
   "execution_count": 13,
   "metadata": {},
   "outputs": [
    {
     "name": "stdout",
     "output_type": "stream",
     "text": [
      "[Errno 2] No such file or directory: './data/test.txt'\n"
     ]
    }
   ],
   "source": [
    "try:\n",
    "    with open('./data/test.txt', mode='r') as f:\n",
    "        print(f.readlines())\n",
    "except Exception as error:\n",
    "    print(error)"
   ]
  },
  {
   "cell_type": "markdown",
   "metadata": {},
   "source": [
    "### Writing to Files\n",
    "\n",
    "* To write to a file object, set `open` into write mode with `mode='w'` and use `write` passing the the string to be written as an arg.\n",
    "\n",
    "* If the file exists it will be overwritten, otherwise it will be created.\n",
    "\n",
    "* To append to a file, adding the text as a new line, set `open` into append mode with `mode='a'`."
   ]
  },
  {
   "cell_type": "code",
   "execution_count": 25,
   "metadata": {},
   "outputs": [
    {
     "name": "stdout",
     "output_type": "stream",
     "text": [
      "Adding some additional text, not quite gangsta......\n"
     ]
    }
   ],
   "source": [
    "# write to an existing file - overwites the contents\n",
    "with open('./data/dummy_text.txt', mode='w') as f:\n",
    "    f.write('Adding some additional text, not quite gangsta......')\n",
    "    \n",
    "with open('./data/dummy_text.txt', mode='r') as f:\n",
    "    line = f.readline()\n",
    "    while line:\n",
    "        print(line)\n",
    "        line = f.readline()"
   ]
  },
  {
   "cell_type": "code",
   "execution_count": 26,
   "metadata": {
    "scrolled": true
   },
   "outputs": [
    {
     "name": "stdout",
     "output_type": "stream",
     "text": [
      "Adding some additional text, not quite gangsta......\n",
      "\n",
      "Add even more text, still not gangsta!!\n"
     ]
    }
   ],
   "source": [
    "# append to an existing file\n",
    "with open('./data/dummy_text.txt', mode='a') as f:\n",
    "    f.write('\\nAdd even more text, still not gangsta!!')\n",
    "    \n",
    "with open('./data/dummy_text.txt', mode='r') as f:\n",
    "    line = f.readline()\n",
    "    while line:\n",
    "        print(line)\n",
    "        line = f.readline()"
   ]
  },
  {
   "cell_type": "markdown",
   "metadata": {},
   "source": [
    "## Handling JSON Files"
   ]
  },
  {
   "cell_type": "markdown",
   "metadata": {},
   "source": [
    "Python includes the `json` package supoorts the reading and writing of json files.\n",
    "\n",
    "* `load` reads json files and parses the content directly into python dicts. Takes on arg, the file obj to be read.\n",
    "\n",
    "* `dump` translates python dicts into json and writes it to a file. Takes two args, 1st is the python dict to be written, the 2nd is the file object to be written to."
   ]
  },
  {
   "cell_type": "code",
   "execution_count": 28,
   "metadata": {},
   "outputs": [
    {
     "data": {
      "text/plain": [
       "{'GlossEntry': {'ID': 'SGML',\n",
       "  'SortAs': 'SGML',\n",
       "  'GlossTerm': 'Standard Generalized Markup Language',\n",
       "  'Acronym': 'SGML',\n",
       "  'Abbrev': 'ISO 8879:1986',\n",
       "  'GlossDef': {'para': 'A meta-markup language, used to create markup languages such as DocBook.',\n",
       "   'GlossSeeAlso': ['GML', 'XML']},\n",
       "  'GlossSee': 'markup'}}"
      ]
     },
     "execution_count": 28,
     "metadata": {},
     "output_type": "execute_result"
    }
   ],
   "source": [
    "# read json file and parse as python dict\n",
    "import json\n",
    "\n",
    "d_obj = {}\n",
    "with open('./data/dummy.json', 'r') as json_str:\n",
    "    d_obj = json.load(json_str)\n",
    "    \n",
    "d_obj['glossary']['GlossDiv']['GlossList']"
   ]
  },
  {
   "cell_type": "code",
   "execution_count": 30,
   "metadata": {},
   "outputs": [
    {
     "data": {
      "text/plain": [
       "{'GlossEntry': {'ID': 'SGML',\n",
       "  'SortAs': 'SGML',\n",
       "  'GlossTerm': 'Standard Generalized Markup Language',\n",
       "  'Acronym': 'SGML',\n",
       "  'Abbrev': 'ISO 8879:1986',\n",
       "  'GlossDef': {'para': 'A meta-markup language, used to create markup languages such as DocBook.',\n",
       "   'GlossSeeAlso': ['GML', 'XML']},\n",
       "  'GlossSee': 'markup'}}"
      ]
     },
     "execution_count": 30,
     "metadata": {},
     "output_type": "execute_result"
    }
   ],
   "source": [
    "# write python dict to json file\n",
    "with open('./data/dummy2.json', mode='w') as f:\n",
    "    json.dump(d_obj, f)\n",
    "\n",
    "# read the contents back\n",
    "with open('./data/dummy2.json', mode='r') as f:\n",
    "    obj = json.load(f)\n",
    "    \n",
    "obj['glossary']['GlossDiv']['GlossList']"
   ]
  },
  {
   "cell_type": "markdown",
   "metadata": {},
   "source": [
    "## Classes"
   ]
  },
  {
   "cell_type": "markdown",
   "metadata": {},
   "source": [
    "* Inherit from the base class, `object`.\n",
    "\n",
    "* `class variable` are the same for every instance of that class, accessed using **dot notation** (not bracket).\n",
    "\n",
    "* methods add behaviour to a class, called on the class instance. All methods take a minimum of one arg, `self`. when calling the method, `self` is implicitly passed.\n",
    "\n",
    "* if the class needs to be initialized with certain values, define a constructor, `__init__`, for the class. This is implicitly called whenever you initialize a class.\n",
    "\n",
    "* instance variables are specific to each instance and are set by the constructor, `__init__`, at initialization; either passed to or set.\n",
    "\n",
    "* instance variables need to be refered to with `self.<instance name>` in the class description, raises an exception otherwise.\n",
    "\n",
    "* an `AtributeError` is raised if you try to access either instance or class variables that do not exist. Use the `hasattr()` function to check. Takes two args, the instance obj, and attr name, and returns a boolean.\n",
    "\n",
    "* alternatively use `getattr()` function. It takes the obj instance and attr name as args, plus an optional error message as the 3rd arg.\n",
    "\n",
    "* we can list an instance obj attributes with the `dir()` function. It lists the built-in, **dunder** attributes (`__init__`), instance variables, class variables and methods.\n",
    "\n",
    "* all python objects have a `__repr__` method. It is responsible for returning a string representation of the instance. It can be customized by overriding the default definition."
   ]
  },
  {
   "cell_type": "code",
   "execution_count": 54,
   "metadata": {},
   "outputs": [],
   "source": [
    "class Person:\n",
    "    species = 'Homo Sapien' # class variable\n",
    "    \n",
    "    def __init__(self, name, age, gender):\n",
    "        self.name = name # instance variable\n",
    "        self.age = age\n",
    "        self.gender = gender\n",
    "        self.alive = True\n",
    "    \n",
    "    def my_species(self, message):\n",
    "        # use 'self' when refering to class variables\n",
    "        return '{} {}'.format(message, self.species) \n",
    "    \n",
    "    def description(self):\n",
    "        # use 'self' when refering to instnce variables\n",
    "        if self.alive:\n",
    "            return 'My name is {n}, I am a {a} yr old {g}'.format(g=self.gender, n=self.name, a=self.age)\n",
    "        else:\n",
    "            print(\"I'm gone but not forgotten\")"
   ]
  },
  {
   "cell_type": "code",
   "execution_count": 58,
   "metadata": {
    "scrolled": true
   },
   "outputs": [
    {
     "name": "stdout",
     "output_type": "stream",
     "text": [
      "<class '__main__.Person'>\n",
      "Homo Sapien\n",
      "I am a Homo Sapien\n",
      "My name is Tom Jones, I am a 67 yr old male\n",
      "False\n",
      "Object does not have an 'id' attribute\n"
     ]
    }
   ],
   "source": [
    "person = Person('Tom Jones', 67, 'male')\n",
    "\n",
    "print(type(person))\n",
    "print(person.species)\n",
    "print(person.my_species('I am a'))\n",
    "print(person.description())\n",
    "\n",
    "print(hasattr(person, 'id'))\n",
    "print(getattr(person, 'id', \"Object does not have an 'id' attribute\"))"
   ]
  },
  {
   "cell_type": "code",
   "execution_count": 59,
   "metadata": {
    "collapsed": true
   },
   "outputs": [
    {
     "data": {
      "text/plain": [
       "['__class__',\n",
       " '__delattr__',\n",
       " '__dict__',\n",
       " '__dir__',\n",
       " '__doc__',\n",
       " '__eq__',\n",
       " '__format__',\n",
       " '__ge__',\n",
       " '__getattribute__',\n",
       " '__gt__',\n",
       " '__hash__',\n",
       " '__init__',\n",
       " '__init_subclass__',\n",
       " '__le__',\n",
       " '__lt__',\n",
       " '__module__',\n",
       " '__ne__',\n",
       " '__new__',\n",
       " '__reduce__',\n",
       " '__reduce_ex__',\n",
       " '__repr__',\n",
       " '__setattr__',\n",
       " '__sizeof__',\n",
       " '__str__',\n",
       " '__subclasshook__',\n",
       " '__weakref__',\n",
       " 'age',\n",
       " 'alive',\n",
       " 'description',\n",
       " 'gender',\n",
       " 'my_species',\n",
       " 'name',\n",
       " 'species']"
      ]
     },
     "execution_count": 59,
     "metadata": {},
     "output_type": "execute_result"
    }
   ],
   "source": [
    "dir(person)"
   ]
  },
  {
   "cell_type": "code",
   "execution_count": 61,
   "metadata": {
    "scrolled": true
   },
   "outputs": [
    {
     "name": "stdout",
     "output_type": "stream",
     "text": [
      "<__main__.MyClass object at 0x7f15fb7fcba8>\n"
     ]
    }
   ],
   "source": [
    "class MyClass:\n",
    "    pass\n",
    "\n",
    "myClass = MyClass()\n",
    "print(myClass) # by default we get the class name, and the instances location in memory"
   ]
  },
  {
   "cell_type": "code",
   "execution_count": 66,
   "metadata": {},
   "outputs": [
    {
     "name": "stdout",
     "output_type": "stream",
     "text": [
      "Custom definition for MyClass!\n"
     ]
    }
   ],
   "source": [
    "class MySecondClass:\n",
    "    # override builtin method\n",
    "    def __repr__(self):\n",
    "        return 'Custom definition for MyClass!'\n",
    "    \n",
    "myClass = MySecondClass()\n",
    "print(myClass)"
   ]
  }
 ],
 "metadata": {
  "kernelspec": {
   "display_name": "Python 3",
   "language": "python",
   "name": "python3"
  },
  "language_info": {
   "codemirror_mode": {
    "name": "ipython",
    "version": 3
   },
   "file_extension": ".py",
   "mimetype": "text/x-python",
   "name": "python",
   "nbconvert_exporter": "python",
   "pygments_lexer": "ipython3",
   "version": "3.6.7"
  }
 },
 "nbformat": 4,
 "nbformat_minor": 2
}
