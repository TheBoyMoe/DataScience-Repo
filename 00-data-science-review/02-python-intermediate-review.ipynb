{
 "cells": [
  {
   "cell_type": "markdown",
   "metadata": {},
   "source": [
    "# Python Review"
   ]
  },
  {
   "cell_type": "markdown",
   "metadata": {},
   "source": [
    "## Handling Text Files\n",
    "\n",
    "* Open files to read, write, append content using the `open` command. \n",
    "\n",
    "* Use the `mode` attribute with `r`, `a` or `w`, to read, append or write to the file respectively. \n",
    "\n",
    "* Read the files entire contents as a single string using `read` or a line at a time using `readlines`.\n",
    "\n",
    "* Use `readline` to read one line at a time, each time the method is called the next line is returned until an empty string is returned.\n",
    "\n",
    "* Create a file context using `with` so that you don't have to close the file connection.\n",
    "\n",
    "* An exception is raised if the file does not exist."
   ]
  },
  {
   "cell_type": "markdown",
   "metadata": {},
   "source": [
    "### Reading Files"
   ]
  },
  {
   "cell_type": "code",
   "execution_count": 1,
   "metadata": {},
   "outputs": [
    {
     "name": "stdout",
     "output_type": "stream",
     "text": [
      "Adding some additional text, not quite gangsta......\n",
      "Add even more text, still not gangsta!!\n"
     ]
    }
   ],
   "source": [
    "# read the whole doc\n",
    "with open('./data/dummy_text.txt', mode='r') as f:\n",
    "    print(f.read())"
   ]
  },
  {
   "cell_type": "code",
   "execution_count": 2,
   "metadata": {},
   "outputs": [
    {
     "name": "stdout",
     "output_type": "stream",
     "text": [
      "Adding some additional text, not quite gangsta......\n",
      "\n",
      "Add even more text, still not gangsta!!\n"
     ]
    }
   ],
   "source": [
    "# read the doc one line a time\n",
    "with open('./data/dummy_text.txt', mode='r') as f:\n",
    "    for line in f.readlines():\n",
    "        print(line)"
   ]
  },
  {
   "cell_type": "code",
   "execution_count": 3,
   "metadata": {},
   "outputs": [
    {
     "name": "stdout",
     "output_type": "stream",
     "text": [
      "Adding some additional text, not quite gangsta......\n",
      "\n",
      "Add even more text, still not gangsta!!\n"
     ]
    }
   ],
   "source": [
    "# read the file a line at a time\n",
    "with open('./data/dummy_text.txt', mode='r') as f:\n",
    "    line = f.readline()\n",
    "    while line:\n",
    "        print(line)\n",
    "        line = f.readline()"
   ]
  },
  {
   "cell_type": "code",
   "execution_count": 4,
   "metadata": {},
   "outputs": [
    {
     "name": "stdout",
     "output_type": "stream",
     "text": [
      "[Errno 2] No such file or directory: './data/test.txt'\n"
     ]
    }
   ],
   "source": [
    "try:\n",
    "    with open('./data/test.txt', mode='r') as f:\n",
    "        print(f.readlines())\n",
    "except Exception as error:\n",
    "    print(error)"
   ]
  },
  {
   "cell_type": "markdown",
   "metadata": {},
   "source": [
    "### Writing to Files\n",
    "\n",
    "* To write to a file object, set `open` into write mode with `mode='w'` and use `write` passing the the string to be written as an arg.\n",
    "\n",
    "* If the file exists it will be overwritten, otherwise it will be created.\n",
    "\n",
    "* To append to a file, adding the text as a new line, set `open` into append mode with `mode='a'`."
   ]
  },
  {
   "cell_type": "code",
   "execution_count": 5,
   "metadata": {},
   "outputs": [
    {
     "name": "stdout",
     "output_type": "stream",
     "text": [
      "Adding some additional text, not quite gangsta......\n"
     ]
    }
   ],
   "source": [
    "# write to an existing file - overwites the contents\n",
    "with open('./data/dummy_text.txt', mode='w') as f:\n",
    "    f.write('Adding some additional text, not quite gangsta......')\n",
    "    \n",
    "with open('./data/dummy_text.txt', mode='r') as f:\n",
    "    line = f.readline()\n",
    "    while line:\n",
    "        print(line)\n",
    "        line = f.readline()"
   ]
  },
  {
   "cell_type": "code",
   "execution_count": 6,
   "metadata": {
    "scrolled": true
   },
   "outputs": [
    {
     "name": "stdout",
     "output_type": "stream",
     "text": [
      "Adding some additional text, not quite gangsta......\n",
      "\n",
      "Add even more text, still not gangsta!!\n"
     ]
    }
   ],
   "source": [
    "# append to an existing file\n",
    "with open('./data/dummy_text.txt', mode='a') as f:\n",
    "    f.write('\\nAdd even more text, still not gangsta!!')\n",
    "    \n",
    "with open('./data/dummy_text.txt', mode='r') as f:\n",
    "    line = f.readline()\n",
    "    while line:\n",
    "        print(line)\n",
    "        line = f.readline()"
   ]
  },
  {
   "cell_type": "markdown",
   "metadata": {},
   "source": [
    "## Handling JSON Files"
   ]
  },
  {
   "cell_type": "markdown",
   "metadata": {},
   "source": [
    "Python includes the `json` package supoorts the reading and writing of json files.\n",
    "\n",
    "* `load` reads json files and parses the content directly into python dicts. Takes on arg, the file obj to be read.\n",
    "\n",
    "* `dump` translates python dicts into json and writes it to a file. Takes two args, 1st is the python dict to be written, the 2nd is the file object to be written to."
   ]
  },
  {
   "cell_type": "code",
   "execution_count": 7,
   "metadata": {},
   "outputs": [
    {
     "data": {
      "text/plain": [
       "{'GlossEntry': {'ID': 'SGML',\n",
       "  'SortAs': 'SGML',\n",
       "  'GlossTerm': 'Standard Generalized Markup Language',\n",
       "  'Acronym': 'SGML',\n",
       "  'Abbrev': 'ISO 8879:1986',\n",
       "  'GlossDef': {'para': 'A meta-markup language, used to create markup languages such as DocBook.',\n",
       "   'GlossSeeAlso': ['GML', 'XML']},\n",
       "  'GlossSee': 'markup'}}"
      ]
     },
     "execution_count": 7,
     "metadata": {},
     "output_type": "execute_result"
    }
   ],
   "source": [
    "# read json file and parse as python dict\n",
    "import json\n",
    "\n",
    "d_obj = {}\n",
    "with open('./data/dummy.json', 'r') as json_str:\n",
    "    d_obj = json.load(json_str)\n",
    "    \n",
    "d_obj['glossary']['GlossDiv']['GlossList']"
   ]
  },
  {
   "cell_type": "code",
   "execution_count": 8,
   "metadata": {},
   "outputs": [
    {
     "data": {
      "text/plain": [
       "{'GlossEntry': {'ID': 'SGML',\n",
       "  'SortAs': 'SGML',\n",
       "  'GlossTerm': 'Standard Generalized Markup Language',\n",
       "  'Acronym': 'SGML',\n",
       "  'Abbrev': 'ISO 8879:1986',\n",
       "  'GlossDef': {'para': 'A meta-markup language, used to create markup languages such as DocBook.',\n",
       "   'GlossSeeAlso': ['GML', 'XML']},\n",
       "  'GlossSee': 'markup'}}"
      ]
     },
     "execution_count": 8,
     "metadata": {},
     "output_type": "execute_result"
    }
   ],
   "source": [
    "# write python dict to json file\n",
    "with open('./data/dummy2.json', mode='w') as f:\n",
    "    json.dump(d_obj, f)\n",
    "\n",
    "# read the contents back\n",
    "with open('./data/dummy2.json', mode='r') as f:\n",
    "    obj = json.load(f)\n",
    "    \n",
    "obj['glossary']['GlossDiv']['GlossList']"
   ]
  },
  {
   "cell_type": "markdown",
   "metadata": {},
   "source": [
    "## Classes"
   ]
  },
  {
   "cell_type": "markdown",
   "metadata": {},
   "source": [
    "* Inherit from the base class, `object`.\n",
    "\n",
    "* `class variable` are the same for every instance of that class, accessed using **dot notation** (not bracket).\n",
    "\n",
    "* methods add behaviour to a class, called on the class instance. All methods take a minimum of one arg, `self`. when calling the method, `self` is implicitly passed.\n",
    "\n",
    "* if the class needs to be initialized with certain values, define a constructor, `__init__`, for the class. This is implicitly called whenever you initialize a class.\n",
    "\n",
    "* instance variables are specific to each instance and are set by the constructor, `__init__`, at initialization; either passed to or set.\n",
    "\n",
    "* instance variables need to be refered to with `self.<instance name>` in the class description, raises an exception otherwise.\n",
    "\n",
    "* an `AtributeError` is raised if you try to access either instance or class variables that do not exist. Use the `hasattr()` function to check. Takes two args, the instance obj, and attr name, and returns a boolean.\n",
    "\n",
    "* alternatively use `getattr()` function. It takes the obj instance and attr name as args, plus an optional error message as the 3rd arg.\n",
    "\n",
    "* we can list an instance obj attributes with the `dir()` function. It lists the built-in, **dunder** attributes (`__init__`), instance variables, class variables and methods.\n",
    "\n",
    "* all python objects have a `__repr__` method. It is responsible for returning a string representation of the instance. It can be customized by overriding the default definition."
   ]
  },
  {
   "cell_type": "code",
   "execution_count": 9,
   "metadata": {},
   "outputs": [],
   "source": [
    "class Person:\n",
    "    species = 'Homo Sapien' # class variable\n",
    "    \n",
    "    def __init__(self, name, age, gender):\n",
    "        self.name = name # instance variable\n",
    "        self.age = age\n",
    "        self.gender = gender\n",
    "        self.alive = True\n",
    "    \n",
    "    # string representation of the instance\n",
    "    def __repr__(self):\n",
    "        return 'name: {}, age: {}, gender: {}'.format(\n",
    "            self.name, self.age, self.gender\n",
    "        )\n",
    "    \n",
    "    def my_species(self, message):\n",
    "        # use 'self' when refering to class variables\n",
    "        return '{} {}'.format(message, self.species) \n",
    "    \n",
    "    def description(self):\n",
    "        # use 'self' when refering to instnce variables\n",
    "        if self.alive:\n",
    "            return 'My name is {n}, I am a {a} yr old {g}'.format(g=self.gender, n=self.name, a=self.age)\n",
    "        else:\n",
    "            print(\"Gone but not forgotten\")"
   ]
  },
  {
   "cell_type": "code",
   "execution_count": 10,
   "metadata": {
    "scrolled": true
   },
   "outputs": [
    {
     "name": "stdout",
     "output_type": "stream",
     "text": [
      "<class '__main__.Person'>\n",
      "Homo Sapien\n",
      "I am a Homo Sapien\n",
      "My name is Tom Jones, I am a 67 yr old male\n",
      "False\n",
      "Object does not have an 'id' attribute\n",
      "name: Tom Jones, age: 67, gender: male\n"
     ]
    }
   ],
   "source": [
    "person = Person('Tom Jones', 67, 'male')\n",
    "\n",
    "print(type(person))\n",
    "print(person.species)\n",
    "print(person.my_species('I am a'))\n",
    "print(person.description())\n",
    "\n",
    "print(hasattr(person, 'id'))\n",
    "print(getattr(person, 'id', \"Object does not have an 'id' attribute\"))\n",
    "\n",
    "print(person)"
   ]
  },
  {
   "cell_type": "code",
   "execution_count": 11,
   "metadata": {},
   "outputs": [
    {
     "data": {
      "text/plain": [
       "['__class__',\n",
       " '__delattr__',\n",
       " '__dict__',\n",
       " '__dir__',\n",
       " '__doc__',\n",
       " '__eq__',\n",
       " '__format__',\n",
       " '__ge__',\n",
       " '__getattribute__',\n",
       " '__gt__',\n",
       " '__hash__',\n",
       " '__init__',\n",
       " '__init_subclass__',\n",
       " '__le__',\n",
       " '__lt__',\n",
       " '__module__',\n",
       " '__ne__',\n",
       " '__new__',\n",
       " '__reduce__',\n",
       " '__reduce_ex__',\n",
       " '__repr__',\n",
       " '__setattr__',\n",
       " '__sizeof__',\n",
       " '__str__',\n",
       " '__subclasshook__',\n",
       " '__weakref__',\n",
       " 'age',\n",
       " 'alive',\n",
       " 'description',\n",
       " 'gender',\n",
       " 'my_species',\n",
       " 'name',\n",
       " 'species']"
      ]
     },
     "execution_count": 11,
     "metadata": {},
     "output_type": "execute_result"
    }
   ],
   "source": [
    "dir(person)"
   ]
  },
  {
   "cell_type": "code",
   "execution_count": 12,
   "metadata": {
    "scrolled": true
   },
   "outputs": [
    {
     "name": "stdout",
     "output_type": "stream",
     "text": [
      "<__main__.MyClass object at 0x7fd358416828>\n"
     ]
    }
   ],
   "source": [
    "class MyClass:\n",
    "    pass\n",
    "\n",
    "myClass = MyClass()\n",
    "print(myClass) # by default we get the class name, and the instances location in memory"
   ]
  },
  {
   "cell_type": "code",
   "execution_count": 13,
   "metadata": {},
   "outputs": [
    {
     "name": "stdout",
     "output_type": "stream",
     "text": [
      "Custom definition for MyClass!\n"
     ]
    }
   ],
   "source": [
    "class MySecondClass:\n",
    "    # override builtin method\n",
    "    def __repr__(self):\n",
    "        return 'Custom definition for MyClass!'\n",
    "    \n",
    "myClass = MySecondClass()\n",
    "print(myClass)"
   ]
  },
  {
   "cell_type": "markdown",
   "metadata": {},
   "source": [
    "## Subclassing and Inheritance"
   ]
  },
  {
   "cell_type": "markdown",
   "metadata": {},
   "source": [
    "Classes can be subclassed in Python by defining a class and passing the parent class to subclasses class definition. The methods/attributes are inherited by the subclass and can be called on an instance of the subclass."
   ]
  },
  {
   "cell_type": "code",
   "execution_count": 14,
   "metadata": {},
   "outputs": [],
   "source": [
    "class Worker(Person):\n",
    "    pass"
   ]
  },
  {
   "cell_type": "code",
   "execution_count": 15,
   "metadata": {},
   "outputs": [
    {
     "name": "stdout",
     "output_type": "stream",
     "text": [
      "My name is Sidney James, I am a 54 yr old male\n"
     ]
    }
   ],
   "source": [
    "worker = Worker('Sidney James', 54, 'male')\n",
    "print(worker.description())"
   ]
  },
  {
   "cell_type": "markdown",
   "metadata": {},
   "source": [
    "We can validate that the class is a subclass with the `issubclass()` function. takes two args, 1st is the subclass, 2nd is the parent class, and returns a boolean."
   ]
  },
  {
   "cell_type": "code",
   "execution_count": 16,
   "metadata": {
    "scrolled": true
   },
   "outputs": [
    {
     "data": {
      "text/plain": [
       "True"
      ]
     },
     "execution_count": 16,
     "metadata": {},
     "output_type": "execute_result"
    }
   ],
   "source": [
    "issubclass(Worker, Person)"
   ]
  },
  {
   "cell_type": "markdown",
   "metadata": {},
   "source": [
    "When we want to define additional instance variables for a subclass we need to employ `super()` to call the constructor of the **base** class.\n",
    "\n",
    "We can also override method implementations in a subclass by providing a new implementation. There are times when we want to call the base classes method, to do so **prepend** the method call with `super()`."
   ]
  },
  {
   "cell_type": "code",
   "execution_count": 17,
   "metadata": {},
   "outputs": [
    {
     "name": "stdout",
     "output_type": "stream",
     "text": [
      "name: Mike, age: 21, gender: male, id: r3323fsw3r2, subject: Biology\n",
      "My name is Mike, I am a 21 yr old male, id: r3323fsw3r2, subject: Biology\n"
     ]
    },
    {
     "data": {
      "text/plain": [
       "True"
      ]
     },
     "execution_count": 17,
     "metadata": {},
     "output_type": "execute_result"
    }
   ],
   "source": [
    "class Student(Person):\n",
    "    def __init__(self, name, age, gender, Id, subject):\n",
    "        super().__init__(name, age, gender) # call base class\n",
    "        self.Id = Id\n",
    "        self.subject = subject\n",
    "        \n",
    "    def __repr__(self):\n",
    "        return '{}, id: {}, subject: {}'.format(\n",
    "            super().__repr__(), self.Id, self.subject\n",
    "        )\n",
    "    \n",
    "    def description(self):\n",
    "        return '{}, id: {}, subject: {}'.format(\n",
    "            super().description(), self.Id, self.subject\n",
    "        )\n",
    "    \n",
    "student = Student('Mike', 21, 'male', 'r3323fsw3r2', 'Biology')\n",
    "print(student)\n",
    "print(student.description())\n",
    "issubclass(Student, Person)"
   ]
  }
 ],
 "metadata": {
  "kernelspec": {
   "display_name": "Python 3",
   "language": "python",
   "name": "python3"
  },
  "language_info": {
   "codemirror_mode": {
    "name": "ipython",
    "version": 3
   },
   "file_extension": ".py",
   "mimetype": "text/x-python",
   "name": "python",
   "nbconvert_exporter": "python",
   "pygments_lexer": "ipython3",
   "version": "3.6.7"
  }
 },
 "nbformat": 4,
 "nbformat_minor": 2
}
