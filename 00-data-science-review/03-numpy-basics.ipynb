{
 "cells": [
  {
   "cell_type": "markdown",
   "metadata": {},
   "source": [
    "# Numpy"
   ]
  },
  {
   "cell_type": "markdown",
   "metadata": {},
   "source": [
    "## Creating Numpy Arrays"
   ]
  },
  {
   "cell_type": "code",
   "execution_count": 1,
   "metadata": {},
   "outputs": [],
   "source": [
    "import numpy as np"
   ]
  },
  {
   "cell_type": "code",
   "execution_count": 2,
   "metadata": {},
   "outputs": [
    {
     "data": {
      "text/plain": [
       "array(['a', 'b', 'c', 'd', 'e', 'f', 'g'], dtype='<U1')"
      ]
     },
     "execution_count": 2,
     "metadata": {},
     "output_type": "execute_result"
    }
   ],
   "source": [
    "# 1D array using python list, each variable has a single value\n",
    "np.array(list('abcdefg'))"
   ]
  },
  {
   "cell_type": "code",
   "execution_count": 3,
   "metadata": {},
   "outputs": [
    {
     "data": {
      "text/plain": [
       "array(['1', '2', '3', '4', '5', '6'], dtype='<U1')"
      ]
     },
     "execution_count": 3,
     "metadata": {},
     "output_type": "execute_result"
    }
   ],
   "source": [
    "# 1D array using tuple\n",
    "np.array((1,2,3,4,5,6), dtype='str')"
   ]
  },
  {
   "cell_type": "code",
   "execution_count": 4,
   "metadata": {},
   "outputs": [
    {
     "data": {
      "text/plain": [
       "array([ True, False,  True,  True, False, False,  True])"
      ]
     },
     "execution_count": 4,
     "metadata": {},
     "output_type": "execute_result"
    }
   ],
   "source": [
    "# any number 1 or greater is True\n",
    "np.array((1,0,1,1,0,0,1), dtype='bool')"
   ]
  },
  {
   "cell_type": "code",
   "execution_count": 5,
   "metadata": {},
   "outputs": [
    {
     "data": {
      "text/plain": [
       "array([[  1,   2,   3,   4,  -1,   6,   7,   8,  -1,  -1],\n",
       "       [  0,   9,  87,  34,  12,  43,   5,   6,   7,   0],\n",
       "       [123,  -1, 543,  63, 789,  56, 234,  54, 888, 147],\n",
       "       [  1,   2,  -1,   4,   5,   6,   7,  -1,   9,  -1],\n",
       "       [  0,   9,  87,  34,  12,  43,  -1,   6,   7,   0],\n",
       "       [123,  23,  -1,  63, 789,  56, 234,  54, 888,  -1]])"
      ]
     },
     "execution_count": 5,
     "metadata": {},
     "output_type": "execute_result"
    }
   ],
   "source": [
    "# create numpy array from txt file\n",
    "# columns ned to be of the same length and dtype\n",
    "np.genfromtxt('./data/mixed.txt', delimiter=',', dtype='int')"
   ]
  },
  {
   "cell_type": "code",
   "execution_count": 6,
   "metadata": {},
   "outputs": [
    {
     "data": {
      "text/plain": [
       "array([[  1.,   2.,   3.,   4.,  nan,   6.,   7.,   8.,  nan,  nan],\n",
       "       [  0.,   9.,  87.,  34.,  12.,  43.,   5.,   6.,   7.,   0.],\n",
       "       [123.,  nan, 543.,  63., 789.,  56., 234.,  54., 888., 147.],\n",
       "       [  1.,   2.,  nan,   4.,   5.,   6.,   7.,  nan,   9.,  nan],\n",
       "       [  0.,   9.,  87.,  34.,  12.,  43.,  nan,   6.,   7.,   0.],\n",
       "       [123.,  23.,  nan,  63., 789.,  56., 234.,  54., 888.,  nan]])"
      ]
     },
     "execution_count": 6,
     "metadata": {},
     "output_type": "execute_result"
    }
   ],
   "source": [
    "np.genfromtxt('./data/mixed.txt', delimiter=',', dtype='float')"
   ]
  },
  {
   "cell_type": "markdown",
   "metadata": {},
   "source": [
    "## Selecting Elements"
   ]
  },
  {
   "cell_type": "markdown",
   "metadata": {},
   "source": [
    "Select elements from a 1D array as you would from Python lists."
   ]
  },
  {
   "cell_type": "code",
   "execution_count": 7,
   "metadata": {
    "scrolled": true
   },
   "outputs": [
    {
     "name": "stdout",
     "output_type": "stream",
     "text": [
      "[  1  23   5  34  67  34  34  45  78  45   7   3   6 345   5]\n"
     ]
    }
   ],
   "source": [
    "ndarr = np.array((1,23,5,34,67,34,34,45,78,45,7,3,6,345,5), dtype='int')\n",
    "print(ndarr)"
   ]
  },
  {
   "cell_type": "code",
   "execution_count": 8,
   "metadata": {},
   "outputs": [
    {
     "data": {
      "text/plain": [
       "array([345,   6,   3,   7])"
      ]
     },
     "execution_count": 8,
     "metadata": {},
     "output_type": "execute_result"
    }
   ],
   "source": [
    "ndarr[-2:-6:-1]"
   ]
  },
  {
   "cell_type": "code",
   "execution_count": 9,
   "metadata": {
    "scrolled": true
   },
   "outputs": [
    {
     "name": "stdout",
     "output_type": "stream",
     "text": [
      "[  5 345   6   3   7  45  78  45  34  34  67  34   5  23   1]\n"
     ]
    }
   ],
   "source": [
    "print(ndarr[::-1])"
   ]
  },
  {
   "cell_type": "markdown",
   "metadata": {},
   "source": [
    "Selecting elements from 2D arrays, specify the row and the column."
   ]
  },
  {
   "cell_type": "code",
   "execution_count": 10,
   "metadata": {
    "scrolled": true
   },
   "outputs": [
    {
     "name": "stdout",
     "output_type": "stream",
     "text": [
      "[[1 2 3 4 5 6 7 8 9 0]\n",
      " [0 9 8 7 6 5 4 3 2 1]\n",
      " [1 2 3 4 5 6 7 8 9 0]\n",
      " [0 9 8 7 6 5 4 3 2 1]\n",
      " [1 2 3 4 5 6 7 8 9 0]\n",
      " [0 9 8 7 6 5 4 3 2 1]]\n"
     ]
    }
   ],
   "source": [
    "arr = np.array([\n",
    "    [1,2,3,4,5,6,7,8,9,0],\n",
    "    [0,9,8,7,6,5,4,3,2,1],\n",
    "    [1,2,3,4,5,6,7,8,9,0],\n",
    "    [0,9,8,7,6,5,4,3,2,1],\n",
    "    [1,2,3,4,5,6,7,8,9,0],\n",
    "    [0,9,8,7,6,5,4,3,2,1],\n",
    "])\n",
    "print(arr)"
   ]
  },
  {
   "cell_type": "code",
   "execution_count": 11,
   "metadata": {
    "scrolled": true
   },
   "outputs": [
    {
     "name": "stdout",
     "output_type": "stream",
     "text": [
      "[[6 5 4 3 2]\n",
      " [5 6 7 8 9]]\n"
     ]
    }
   ],
   "source": [
    "print(arr[1:3, 4:9]) # row, col"
   ]
  },
  {
   "cell_type": "code",
   "execution_count": 12,
   "metadata": {
    "scrolled": true
   },
   "outputs": [
    {
     "name": "stdout",
     "output_type": "stream",
     "text": [
      "[[5 6 7 8 9]]\n"
     ]
    }
   ],
   "source": [
    "print(arr[:1, 4:9])"
   ]
  },
  {
   "cell_type": "code",
   "execution_count": 13,
   "metadata": {},
   "outputs": [
    {
     "name": "stdout",
     "output_type": "stream",
     "text": [
      "[6 5 6 5 6 5]\n"
     ]
    }
   ],
   "source": [
    "print(arr[:, 5]) # all rows, col index 5"
   ]
  },
  {
   "cell_type": "markdown",
   "metadata": {},
   "source": [
    "## Numpy Array Operations"
   ]
  },
  {
   "cell_type": "code",
   "execution_count": 14,
   "metadata": {},
   "outputs": [
    {
     "data": {
      "text/plain": [
       "array([[1, 0, 1, 1, 1, 0, 0, 0, 0, 1],\n",
       "       [0, 0, 1, 1, 1, 1, 0, 0, 0, 0],\n",
       "       [0, 1, 1, 0, 1, 0, 1, 1, 1, 1],\n",
       "       [1, 1, 0, 1, 0, 1, 1, 0, 0, 0]])"
      ]
     },
     "execution_count": 14,
     "metadata": {},
     "output_type": "execute_result"
    }
   ],
   "source": [
    "# numpy supports element-wise operations\n",
    "arr = np.genfromtxt('./data/numbers.txt', delimiter=',', dtype='int')\n",
    "arr"
   ]
  },
  {
   "cell_type": "code",
   "execution_count": 15,
   "metadata": {},
   "outputs": [
    {
     "data": {
      "text/plain": [
       "array([[0.54030231, 1.        , 0.54030231, 0.54030231, 0.54030231,\n",
       "        1.        , 1.        , 1.        , 1.        , 0.54030231],\n",
       "       [1.        , 1.        , 0.54030231, 0.54030231, 0.54030231,\n",
       "        0.54030231, 1.        , 1.        , 1.        , 1.        ],\n",
       "       [1.        , 0.54030231, 0.54030231, 1.        , 0.54030231,\n",
       "        1.        , 0.54030231, 0.54030231, 0.54030231, 0.54030231],\n",
       "       [0.54030231, 0.54030231, 1.        , 0.54030231, 1.        ,\n",
       "        0.54030231, 0.54030231, 1.        , 1.        , 1.        ]])"
      ]
     },
     "execution_count": 15,
     "metadata": {},
     "output_type": "execute_result"
    }
   ],
   "source": [
    "np.cos(arr)"
   ]
  },
  {
   "cell_type": "code",
   "execution_count": 16,
   "metadata": {},
   "outputs": [
    {
     "data": {
      "text/plain": [
       "array([[3, 0, 3, 3, 3, 0, 0, 0, 0, 3],\n",
       "       [0, 0, 3, 3, 3, 3, 0, 0, 0, 0],\n",
       "       [0, 3, 3, 0, 3, 0, 3, 3, 3, 3],\n",
       "       [3, 3, 0, 3, 0, 3, 3, 0, 0, 0]])"
      ]
     },
     "execution_count": 16,
     "metadata": {},
     "output_type": "execute_result"
    }
   ],
   "source": [
    "arr * 3"
   ]
  },
  {
   "cell_type": "markdown",
   "metadata": {},
   "source": [
    "Operations can be performed on two or more arrays. They must be of the same length, shape and dtype. Operations are performed on the same elements in the same positions - all operations are performed element wise."
   ]
  },
  {
   "cell_type": "code",
   "execution_count": 17,
   "metadata": {
    "scrolled": true
   },
   "outputs": [
    {
     "data": {
      "text/plain": [
       "array([[0.08060461, 1.        , 0.08060461, 0.08060461, 0.08060461,\n",
       "        1.        , 1.        , 1.        , 1.        , 0.08060461],\n",
       "       [1.        , 1.        , 0.08060461, 0.08060461, 0.08060461,\n",
       "        0.08060461, 1.        , 1.        , 1.        , 1.        ],\n",
       "       [1.        , 0.08060461, 0.08060461, 1.        , 0.08060461,\n",
       "        1.        , 0.08060461, 0.08060461, 0.08060461, 0.08060461],\n",
       "       [0.08060461, 0.08060461, 1.        , 0.08060461, 1.        ,\n",
       "        0.08060461, 0.08060461, 1.        , 1.        , 1.        ]])"
      ]
     },
     "execution_count": 17,
     "metadata": {},
     "output_type": "execute_result"
    }
   ],
   "source": [
    "np.cos(arr) * (arr + 1) - arr"
   ]
  },
  {
   "cell_type": "markdown",
   "metadata": {},
   "source": [
    "You can perform element wise logical operations, on the whole array or a selection."
   ]
  },
  {
   "cell_type": "code",
   "execution_count": 18,
   "metadata": {},
   "outputs": [
    {
     "data": {
      "text/plain": [
       "array([[ True,  True, False],\n",
       "       [ True,  True,  True],\n",
       "       [False,  True, False],\n",
       "       [ True, False,  True]])"
      ]
     },
     "execution_count": 18,
     "metadata": {},
     "output_type": "execute_result"
    }
   ],
   "source": [
    "arr[:, 3:6] > 0 # numpy creates a new array with the result of each operation."
   ]
  },
  {
   "cell_type": "code",
   "execution_count": 19,
   "metadata": {},
   "outputs": [
    {
     "data": {
      "text/plain": [
       "array([[1, 0, 1, 1, 1, 0, 0, 0, 0, 1],\n",
       "       [0, 0, 1, 1, 1, 1, 0, 0, 0, 0],\n",
       "       [0, 1, 1, 0, 1, 0, 1, 1, 1, 1],\n",
       "       [1, 1, 0, 1, 0, 1, 1, 0, 0, 0]])"
      ]
     },
     "execution_count": 19,
     "metadata": {},
     "output_type": "execute_result"
    }
   ],
   "source": [
    "arr"
   ]
  },
  {
   "cell_type": "code",
   "execution_count": 20,
   "metadata": {},
   "outputs": [
    {
     "name": "stdout",
     "output_type": "stream",
     "text": [
      "[[1 0 1 1 1 0 0 0 0 1]\n",
      " [0 0 1 1 1 1 0 0 0 0]\n",
      " [0 1 1 0 1 0 1 1 1 1]\n",
      " [1 1 0 1 0 1 1 0 0 0]]\n"
     ]
    }
   ],
   "source": [
    "num_arr = np.array([\n",
    "    [1,2,3,4,5,6,7,8,9,0],\n",
    "    [0,9,8,7,6,5,4,3,2,1],\n",
    "    [1,2,3,4,5,6,7,8,9,0],\n",
    "    [0,9,8,7,6,5,4,3,2,1],\n",
    "    [1,2,3,4,5,6,7,8,9,0],\n",
    "    [0,9,8,7,6,5,4,3,2,1],\n",
    "])\n",
    "print(arr)"
   ]
  },
  {
   "cell_type": "code",
   "execution_count": 21,
   "metadata": {},
   "outputs": [
    {
     "data": {
      "text/plain": [
       "array([[False, False, False, False, False,  True,  True,  True,  True,\n",
       "        False],\n",
       "       [False,  True,  True,  True,  True, False, False, False, False,\n",
       "        False],\n",
       "       [False, False, False, False, False,  True,  True,  True,  True,\n",
       "        False],\n",
       "       [False,  True,  True,  True,  True, False, False, False, False,\n",
       "        False],\n",
       "       [False, False, False, False, False,  True,  True,  True,  True,\n",
       "        False],\n",
       "       [False,  True,  True,  True,  True, False, False, False, False,\n",
       "        False]])"
      ]
     },
     "execution_count": 21,
     "metadata": {},
     "output_type": "execute_result"
    }
   ],
   "source": [
    "num_arr > 5"
   ]
  },
  {
   "cell_type": "markdown",
   "metadata": {},
   "source": [
    "Return only those values that meet the condition, returned 'True'."
   ]
  },
  {
   "cell_type": "code",
   "execution_count": 22,
   "metadata": {},
   "outputs": [
    {
     "data": {
      "text/plain": [
       "array([6, 7, 8, 9, 9, 8, 7, 6, 6, 7, 8, 9, 9, 8, 7, 6, 6, 7, 8, 9, 9, 8,\n",
       "       7, 6])"
      ]
     },
     "execution_count": 22,
     "metadata": {},
     "output_type": "execute_result"
    }
   ],
   "source": [
    "num_arr[num_arr > 5]"
   ]
  },
  {
   "cell_type": "markdown",
   "metadata": {},
   "source": [
    "We can combine logical 'and' and 'or' operations. Use '&' and '|', the conditions must be surronded by '()'. Use `~` to 'flip' the result - apply logical `not`."
   ]
  },
  {
   "cell_type": "code",
   "execution_count": 23,
   "metadata": {},
   "outputs": [
    {
     "data": {
      "text/plain": [
       "array([[False, False, False, False,  True, False, False, False, False,\n",
       "        False],\n",
       "       [False, False, False, False, False,  True, False, False, False,\n",
       "        False],\n",
       "       [False, False, False, False,  True, False, False, False, False,\n",
       "        False],\n",
       "       [False, False, False, False, False,  True, False, False, False,\n",
       "        False],\n",
       "       [False, False, False, False,  True, False, False, False, False,\n",
       "        False],\n",
       "       [False, False, False, False, False,  True, False, False, False,\n",
       "        False]])"
      ]
     },
     "execution_count": 23,
     "metadata": {},
     "output_type": "execute_result"
    }
   ],
   "source": [
    "(num_arr > 4) & (num_arr < 6)"
   ]
  },
  {
   "cell_type": "code",
   "execution_count": 24,
   "metadata": {},
   "outputs": [
    {
     "data": {
      "text/plain": [
       "array([5, 5, 5, 5, 5, 5])"
      ]
     },
     "execution_count": 24,
     "metadata": {},
     "output_type": "execute_result"
    }
   ],
   "source": [
    "num_arr[(num_arr > 4) & (num_arr < 6)]"
   ]
  },
  {
   "cell_type": "markdown",
   "metadata": {},
   "source": [
    "We can also compare numpy arrays element wise, they must be the same **size and shape**."
   ]
  },
  {
   "cell_type": "code",
   "execution_count": 25,
   "metadata": {},
   "outputs": [
    {
     "data": {
      "text/plain": [
       "array([ True, False, False, False, False,  True,  True,  True,  True,\n",
       "       False])"
      ]
     },
     "execution_count": 25,
     "metadata": {},
     "output_type": "execute_result"
    }
   ],
   "source": [
    "arr1 = np.array([1,2,3,4,5,6,7,8,9,0])\n",
    "arr2 = np.array([0,9,8,7,6,5,4,3,2,1])\n",
    "\n",
    "arr1 > arr2"
   ]
  },
  {
   "cell_type": "code",
   "execution_count": 26,
   "metadata": {},
   "outputs": [
    {
     "data": {
      "text/plain": [
       "array([1, 6, 7, 8, 9])"
      ]
     },
     "execution_count": 26,
     "metadata": {},
     "output_type": "execute_result"
    }
   ],
   "source": [
    "arr1[arr1 > arr2] # return those values in arr1 that are greater than arr2"
   ]
  },
  {
   "cell_type": "code",
   "execution_count": 27,
   "metadata": {},
   "outputs": [
    {
     "name": "stdout",
     "output_type": "stream",
     "text": [
      "Heights for people > 40 [143.34 178.56 165.21 189.43]\n",
      "Ages of people taller than 160.0 [54 46 65]\n"
     ]
    }
   ],
   "source": [
    "heights = np.array([123.34, 143.34, 156.34, 178.56, 165.21, 189.43, 153.54])\n",
    "ages = np.array([23, 43, 34, 54, 46, 65, 25])\n",
    "names = np.array(['tom', 'dick', 'harry', 'pete', 'mike', 'john', 'simon'])\n",
    "\n",
    "print('Heights for people > 40', heights[ages > 40])\n",
    "print('Ages of people taller than 160.0', ages[heights > 160.0])"
   ]
  },
  {
   "cell_type": "markdown",
   "metadata": {},
   "source": [
    "You can't use logical `and`, `or` or `not`. Instead `numpy` provides `logical_and`, `logical_or`, and `logical_not` methods."
   ]
  },
  {
   "cell_type": "code",
   "execution_count": 28,
   "metadata": {},
   "outputs": [
    {
     "data": {
      "text/plain": [
       "array([False, False, False,  True, False,  True, False])"
      ]
     },
     "execution_count": 28,
     "metadata": {},
     "output_type": "execute_result"
    }
   ],
   "source": [
    "# find individuals who are taller than 170.0 and older than 25\n",
    "np.logical_and(heights > 170.0, ages > 25)"
   ]
  },
  {
   "cell_type": "code",
   "execution_count": 29,
   "metadata": {},
   "outputs": [
    {
     "data": {
      "text/plain": [
       "array([False, False, False,  True, False,  True, False])"
      ]
     },
     "execution_count": 29,
     "metadata": {},
     "output_type": "execute_result"
    }
   ],
   "source": [
    "(heights > 170.0) & (ages > 25)"
   ]
  },
  {
   "cell_type": "code",
   "execution_count": 30,
   "metadata": {},
   "outputs": [
    {
     "data": {
      "text/plain": [
       "array(['pete', 'john'], dtype='<U5')"
      ]
     },
     "execution_count": 30,
     "metadata": {},
     "output_type": "execute_result"
    }
   ],
   "source": [
    "names[np.logical_and(heights > 170, ages > 25)]"
   ]
  },
  {
   "cell_type": "code",
   "execution_count": 31,
   "metadata": {
    "scrolled": true
   },
   "outputs": [
    {
     "data": {
      "text/plain": [
       "array([ True,  True,  True, False,  True, False,  True])"
      ]
     },
     "execution_count": 31,
     "metadata": {},
     "output_type": "execute_result"
    }
   ],
   "source": [
    "# find individuals who are neither taller than 170 or under 26 (opposite of above)\n",
    "np.logical_not(heights > 170, ages > 25)"
   ]
  },
  {
   "cell_type": "code",
   "execution_count": 32,
   "metadata": {},
   "outputs": [
    {
     "data": {
      "text/plain": [
       "array([ True,  True,  True, False,  True, False,  True])"
      ]
     },
     "execution_count": 32,
     "metadata": {},
     "output_type": "execute_result"
    }
   ],
   "source": [
    "~((heights > 170) & (ages > 25)) # (heights < 170) | (ages < 26)"
   ]
  },
  {
   "cell_type": "code",
   "execution_count": 33,
   "metadata": {
    "scrolled": true
   },
   "outputs": [
    {
     "data": {
      "text/plain": [
       "array(['tom', 'dick', 'harry', 'mike', 'simon'], dtype='<U5')"
      ]
     },
     "execution_count": 33,
     "metadata": {},
     "output_type": "execute_result"
    }
   ],
   "source": [
    "names[np.logical_not(heights > 170, ages > 25)] # (heights < 170) | (ages < 26)"
   ]
  },
  {
   "cell_type": "code",
   "execution_count": 34,
   "metadata": {},
   "outputs": [
    {
     "data": {
      "text/plain": [
       "array([False,  True,  True,  True,  True,  True, False])"
      ]
     },
     "execution_count": 34,
     "metadata": {},
     "output_type": "execute_result"
    }
   ],
   "source": [
    "# find individuals who are EITHER taller than 170.0 OR older than 25\n",
    "np.logical_or(heights > 170.0, ages > 25)"
   ]
  },
  {
   "cell_type": "code",
   "execution_count": 35,
   "metadata": {},
   "outputs": [
    {
     "data": {
      "text/plain": [
       "array([False,  True,  True,  True,  True,  True, False])"
      ]
     },
     "execution_count": 35,
     "metadata": {},
     "output_type": "execute_result"
    }
   ],
   "source": [
    "(heights > 170) | (ages > 25)"
   ]
  },
  {
   "cell_type": "code",
   "execution_count": 36,
   "metadata": {},
   "outputs": [
    {
     "data": {
      "text/plain": [
       "array(['dick', 'harry', 'pete', 'mike', 'john'], dtype='<U5')"
      ]
     },
     "execution_count": 36,
     "metadata": {},
     "output_type": "execute_result"
    }
   ],
   "source": [
    "names[(heights > 170) | (ages > 25)]"
   ]
  },
  {
   "cell_type": "code",
   "execution_count": 37,
   "metadata": {},
   "outputs": [
    {
     "data": {
      "text/plain": [
       "array([[1, 2, 3, 4, 5, 6, 7, 8, 9, 0],\n",
       "       [0, 9, 8, 7, 6, 5, 4, 3, 2, 1],\n",
       "       [1, 2, 3, 4, 5, 6, 7, 8, 9, 0],\n",
       "       [0, 9, 8, 7, 6, 5, 4, 3, 2, 1],\n",
       "       [1, 2, 3, 4, 5, 6, 7, 8, 9, 0],\n",
       "       [0, 9, 8, 7, 6, 5, 4, 3, 2, 1]])"
      ]
     },
     "execution_count": 37,
     "metadata": {},
     "output_type": "execute_result"
    }
   ],
   "source": [
    "num_arr"
   ]
  },
  {
   "cell_type": "code",
   "execution_count": 38,
   "metadata": {},
   "outputs": [
    {
     "data": {
      "text/plain": [
       "array([5, 6, 7, 7, 6, 5, 5, 6, 7, 7, 6, 5, 5, 6, 7, 7, 6, 5])"
      ]
     },
     "execution_count": 38,
     "metadata": {},
     "output_type": "execute_result"
    }
   ],
   "source": [
    "num_arr[(num_arr > 4) & (num_arr < 8)]"
   ]
  },
  {
   "cell_type": "code",
   "execution_count": 39,
   "metadata": {},
   "outputs": [
    {
     "data": {
      "text/plain": [
       "array([1, 2, 3, 4, 8, 9, 0, 0, 9, 8, 4, 3, 2, 1, 1, 2, 3, 4, 8, 9, 0, 0,\n",
       "       9, 8, 4, 3, 2, 1, 1, 2, 3, 4, 8, 9, 0, 0, 9, 8, 4, 3, 2, 1])"
      ]
     },
     "execution_count": 39,
     "metadata": {},
     "output_type": "execute_result"
    }
   ],
   "source": [
    "num_arr[~((num_arr > 4) & (num_arr < 8))]"
   ]
  },
  {
   "cell_type": "markdown",
   "metadata": {},
   "source": [
    "## Iterating over Numpy Arrays"
   ]
  },
  {
   "cell_type": "markdown",
   "metadata": {},
   "source": [
    "You can use a `for` loop to iterate over both 1D and 2D numpy arrays:"
   ]
  },
  {
   "cell_type": "code",
   "execution_count": 42,
   "metadata": {
    "scrolled": true
   },
   "outputs": [
    {
     "name": "stdout",
     "output_type": "stream",
     "text": [
      "['a' 'b' 'c' 'd']: a\n",
      "['a' 'b' 'c' 'd']: b\n",
      "['a' 'b' 'c' 'd']: c\n",
      "['a' 'b' 'c' 'd']: d\n",
      "['h' 'i' 'j' 'k']: h\n",
      "['h' 'i' 'j' 'k']: i\n",
      "['h' 'i' 'j' 'k']: j\n",
      "['h' 'i' 'j' 'k']: k\n",
      "['w' 'x' 'y' 'z']: w\n",
      "['w' 'x' 'y' 'z']: x\n",
      "['w' 'x' 'y' 'z']: y\n",
      "['w' 'x' 'y' 'z']: z\n"
     ]
    }
   ],
   "source": [
    "arr = np.array([\n",
    "    list('abcd'),\n",
    "    list('hijk'),\n",
    "    list('wxyz')\n",
    "])\n",
    "\n",
    "for row in arr:\n",
    "    for value in row:\n",
    "        print('{}: {}'. format(row, value))"
   ]
  },
  {
   "cell_type": "markdown",
   "metadata": {},
   "source": [
    "Alternatively, we can use numpy's `nditer` method to iterate over 1D and 2D arrays."
   ]
  },
  {
   "cell_type": "code",
   "execution_count": 43,
   "metadata": {},
   "outputs": [
    {
     "name": "stdout",
     "output_type": "stream",
     "text": [
      "a\n",
      "b\n",
      "c\n",
      "d\n",
      "h\n",
      "i\n",
      "j\n",
      "k\n",
      "w\n",
      "x\n",
      "y\n",
      "z\n"
     ]
    }
   ],
   "source": [
    "for char in np.nditer(arr):\n",
    "    print(char)"
   ]
  },
  {
   "cell_type": "code",
   "execution_count": 44,
   "metadata": {},
   "outputs": [
    {
     "name": "stdout",
     "output_type": "stream",
     "text": [
      "a\n",
      "b\n",
      "c\n",
      "d\n",
      "e\n",
      "f\n"
     ]
    }
   ],
   "source": [
    "for char in np.nditer(np.array(list('abcdef'))):\n",
    "    print(char)"
   ]
  }
 ],
 "metadata": {
  "kernelspec": {
   "display_name": "Python 3",
   "language": "python",
   "name": "python3"
  },
  "language_info": {
   "codemirror_mode": {
    "name": "ipython",
    "version": 3
   },
   "file_extension": ".py",
   "mimetype": "text/x-python",
   "name": "python",
   "nbconvert_exporter": "python",
   "pygments_lexer": "ipython3",
   "version": "3.6.7"
  }
 },
 "nbformat": 4,
 "nbformat_minor": 2
}
