{
 "cells": [
  {
   "cell_type": "markdown",
   "metadata": {},
   "source": [
    "# Python"
   ]
  },
  {
   "cell_type": "markdown",
   "metadata": {},
   "source": [
    "## 1. Functions"
   ]
  },
  {
   "cell_type": "markdown",
   "metadata": {},
   "source": [
    "* can pass arguments in any order as long as they are named.\n",
    "\n",
    "* can return more than on value by using a tuple, or by separating them wth a comma\n",
    "\n",
    "* can define defaults\n",
    "\n",
    "* any defined parameters must be passed.\n",
    "\n",
    "* primitive values are passed as copies, objects are passed as copies of the reference (points to the same obj).\n",
    "\n",
    "* we can pass args as `keyword arguments`, refer to the arg name **when we're calling the function**\n",
    "\n",
    "* we can mix keyword arguments with positional arguments as long as they are in order.\n",
    "\n",
    "* functions have scope, variables defined within a function are not available outside of it. Variables defined outside are accessible inside a function. Variables defined in the scope of a file are global, accessible to all functions.\n",
    "\n",
    "* functions look in their own scope for variables, then outside.\n",
    "\n",
    "* nested functions follow the scope chain when accessing variables, look in the nested function, then enclosing function then the global scope."
   ]
  },
  {
   "cell_type": "code",
   "execution_count": 30,
   "metadata": {},
   "outputs": [],
   "source": [
    "def my_fnc(val1=1, val2=1, val3=1):\n",
    "    return (val1 * val2, val1 + val2 + val3)"
   ]
  },
  {
   "cell_type": "code",
   "execution_count": 31,
   "metadata": {},
   "outputs": [],
   "source": [
    "def fnc(val1,val2, val3):\n",
    "    return (val1,val2,val3)"
   ]
  },
  {
   "cell_type": "code",
   "execution_count": 32,
   "metadata": {},
   "outputs": [
    {
     "data": {
      "text/plain": [
       "(6, 6)"
      ]
     },
     "execution_count": 32,
     "metadata": {},
     "output_type": "execute_result"
    }
   ],
   "source": [
    "my_fnc(2,3)"
   ]
  },
  {
   "cell_type": "code",
   "execution_count": 33,
   "metadata": {},
   "outputs": [
    {
     "name": "stdout",
     "output_type": "stream",
     "text": [
      "0 15\n"
     ]
    }
   ],
   "source": [
    "a, b = my_fnc(val3=10, val1=0, val2=5)\n",
    "print(a,b)"
   ]
  },
  {
   "cell_type": "code",
   "execution_count": 34,
   "metadata": {},
   "outputs": [
    {
     "data": {
      "text/plain": [
       "(5, 8)"
      ]
     },
     "execution_count": 34,
     "metadata": {},
     "output_type": "execute_result"
    }
   ],
   "source": [
    "my_fnc(5, val3=2) # works here due to default value for val2"
   ]
  },
  {
   "cell_type": "code",
   "execution_count": 38,
   "metadata": {},
   "outputs": [
    {
     "name": "stdout",
     "output_type": "stream",
     "text": [
      "fnc() missing 1 required positional argument: 'val2'\n"
     ]
    }
   ],
   "source": [
    "try:\n",
    "    fnc(5,val3=2)\n",
    "except Exception as error:\n",
    "    print(error)"
   ]
  },
  {
   "cell_type": "markdown",
   "metadata": {},
   "source": [
    "Passing keyword arguments and positional arguments out of order raises a syntax error.\n",
    "\n",
    "```py\n",
    "fnc(5, val=3, 5) # => SyntaxError\n",
    "```"
   ]
  },
  {
   "cell_type": "code",
   "execution_count": 46,
   "metadata": {},
   "outputs": [
    {
     "name": "stdout",
     "output_type": "stream",
     "text": [
      "another_fn() got multiple values for argument 'a'\n"
     ]
    }
   ],
   "source": [
    "def another_fn(a=3, b=4, c=5):\n",
    "    print('a:{}, b:{}, c:{}'.format(a,b,c))\n",
    "\n",
    "try:\n",
    "    another_fn(5, a=10)\n",
    "except TypeError as error:\n",
    "    print(error)"
   ]
  },
  {
   "cell_type": "markdown",
   "metadata": {},
   "source": [
    "### Flexible number of arguments\n",
    "\n",
    "Use `*args` to define a function that accepts any number arguments. The interpreter assigns the arguments to a tuple that can be iterated over."
   ]
  },
  {
   "cell_type": "code",
   "execution_count": 48,
   "metadata": {},
   "outputs": [
    {
     "data": {
      "text/plain": [
       "[3, 1, 5, 2, 7, 8]"
      ]
     },
     "execution_count": 48,
     "metadata": {},
     "output_type": "execute_result"
    }
   ],
   "source": [
    "def fn_args(*args):\n",
    "    nums = []\n",
    "    for num in args:\n",
    "        nums.append(num)\n",
    "    return nums\n",
    "\n",
    "fn_args(3,1,5,2,7,8)"
   ]
  },
  {
   "cell_type": "markdown",
   "metadata": {},
   "source": [
    "Use `**kwargs` to pass any number of keyword arguments to a function, which are converted into a dict of key value pairs that can be iterated over using `.items()`."
   ]
  },
  {
   "cell_type": "code",
   "execution_count": 49,
   "metadata": {},
   "outputs": [
    {
     "name": "stdout",
     "output_type": "stream",
     "text": [
      "key: a, value:3\n",
      "key: b, value:4\n",
      "key: c, value:5\n"
     ]
    }
   ],
   "source": [
    "def fn_kwargs(**kwargs):\n",
    "    for key, value in kwargs.items():\n",
    "        print('key: {}, value:{}'.format(key, value))\n",
    "        \n",
    "fn_kwargs(a=3, b=4, c=5)"
   ]
  },
  {
   "cell_type": "markdown",
   "metadata": {},
   "source": [
    "### Function Scope"
   ]
  },
  {
   "cell_type": "code",
   "execution_count": 12,
   "metadata": {},
   "outputs": [
    {
     "data": {
      "text/plain": [
       "5"
      ]
     },
     "execution_count": 12,
     "metadata": {},
     "output_type": "execute_result"
    }
   ],
   "source": [
    "def fn_one(val):\n",
    "    value = val\n",
    "    return value\n",
    "\n",
    "fn_one(5)"
   ]
  },
  {
   "cell_type": "code",
   "execution_count": 14,
   "metadata": {},
   "outputs": [
    {
     "name": "stdout",
     "output_type": "stream",
     "text": [
      "Variable not accessible\n"
     ]
    }
   ],
   "source": [
    "try:\n",
    "    print(value)\n",
    "except NameError:\n",
    "    print('Variable not accessible')"
   ]
  },
  {
   "cell_type": "code",
   "execution_count": 15,
   "metadata": {},
   "outputs": [
    {
     "name": "stdout",
     "output_type": "stream",
     "text": [
      "Variable not accessible\n"
     ]
    }
   ],
   "source": [
    "try:\n",
    "    print(val)\n",
    "except NameError:\n",
    "    print('Variable not accessible')"
   ]
  },
  {
   "cell_type": "markdown",
   "metadata": {},
   "source": [
    "To alter a `global` variable inside a function, use the `global` keyword."
   ]
  },
  {
   "cell_type": "code",
   "execution_count": 16,
   "metadata": {},
   "outputs": [
    {
     "name": "stdout",
     "output_type": "stream",
     "text": [
      "5\n",
      "10\n"
     ]
    }
   ],
   "source": [
    "val = 10\n",
    "\n",
    "def fn_two(value):\n",
    "    val = value # declares local variable 'val' and assigns it the value 'value'\n",
    "    return val\n",
    "\n",
    "print(fn_two(5))\n",
    "print(val)"
   ]
  },
  {
   "cell_type": "code",
   "execution_count": 17,
   "metadata": {},
   "outputs": [
    {
     "name": "stdout",
     "output_type": "stream",
     "text": [
      "5\n",
      "5\n"
     ]
    }
   ],
   "source": [
    "def fn_three(value):\n",
    "    global val\n",
    "    val = value\n",
    "    return val\n",
    "\n",
    "print(fn_three(5))\n",
    "print(val)"
   ]
  },
  {
   "cell_type": "markdown",
   "metadata": {},
   "source": [
    "Nested functions, used for closures, use the `nonlocal` keyword to change variables in enclosing functions."
   ]
  },
  {
   "cell_type": "code",
   "execution_count": 20,
   "metadata": {},
   "outputs": [
    {
     "name": "stdout",
     "output_type": "stream",
     "text": [
      "5\n"
     ]
    }
   ],
   "source": [
    "def outer():\n",
    "    n = 5\n",
    "    \n",
    "    def inner():\n",
    "        print(n)\n",
    "    inner()   \n",
    "\n",
    "outer()"
   ]
  },
  {
   "cell_type": "code",
   "execution_count": 21,
   "metadata": {},
   "outputs": [
    {
     "name": "stdout",
     "output_type": "stream",
     "text": [
      "10 10\n"
     ]
    }
   ],
   "source": [
    "def outer():\n",
    "    m = 10\n",
    "    n = 5\n",
    "    \n",
    "    def inner():\n",
    "        m = 20 # defines variable local to 'inner'\n",
    "        nonlocal n # access 'n' in enclosing scope\n",
    "        n = 10\n",
    "        \n",
    "    inner()\n",
    "    print(m,n)\n",
    "outer()"
   ]
  }
 ],
 "metadata": {
  "kernelspec": {
   "display_name": "Python 3",
   "language": "python",
   "name": "python3"
  },
  "language_info": {
   "codemirror_mode": {
    "name": "ipython",
    "version": 3
   },
   "file_extension": ".py",
   "mimetype": "text/x-python",
   "name": "python",
   "nbconvert_exporter": "python",
   "pygments_lexer": "ipython3",
   "version": "3.6.7"
  }
 },
 "nbformat": 4,
 "nbformat_minor": 2
}
