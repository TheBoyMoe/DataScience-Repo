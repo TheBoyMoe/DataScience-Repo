{
 "cells": [
  {
   "cell_type": "markdown",
   "metadata": {},
   "source": [
    "# Python"
   ]
  },
  {
   "cell_type": "markdown",
   "metadata": {},
   "source": [
    "## 1. Functions"
   ]
  },
  {
   "cell_type": "markdown",
   "metadata": {},
   "source": [
    "* can pass arguments in any order as long as they are named.\n",
    "\n",
    "* can return more than on value by using a tuple, or by separating them wth a comma\n",
    "\n",
    "* can define defaults\n",
    "\n",
    "* any defined parameters must be passed.\n",
    "\n",
    "* primitive values are passed as copies, objects are passed as copies of the reference (points to the same obj).\n",
    "\n",
    "* we can pass args as `keyword arguments`, refer to the arg name **when we're calling the function**\n",
    "\n",
    "* we can mix keyword arguments with positional arguments as long as they are in order.\n",
    "\n",
    "* functions have scope, variables defined within a function are not available outside of it. Variables defined outside are accessible inside a function. Variables defined in the scope of a file are global, accessible to all functions.\n",
    "\n",
    "* functions look in their own scope for variables, then outside.\n",
    "\n",
    "* nested functions follow the scope chain when accessing variables, look in the nested function, then enclosing function then the global scope."
   ]
  },
  {
   "cell_type": "code",
   "execution_count": 1,
   "metadata": {},
   "outputs": [],
   "source": [
    "def my_fnc(val1=1, val2=1, val3=1):\n",
    "    return (val1 * val2, val1 + val2 + val3)"
   ]
  },
  {
   "cell_type": "code",
   "execution_count": 2,
   "metadata": {},
   "outputs": [],
   "source": [
    "def fnc(val1,val2, val3):\n",
    "    return (val1,val2,val3)"
   ]
  },
  {
   "cell_type": "code",
   "execution_count": 3,
   "metadata": {},
   "outputs": [
    {
     "data": {
      "text/plain": [
       "(6, 6)"
      ]
     },
     "execution_count": 3,
     "metadata": {},
     "output_type": "execute_result"
    }
   ],
   "source": [
    "my_fnc(2,3)"
   ]
  },
  {
   "cell_type": "code",
   "execution_count": 4,
   "metadata": {},
   "outputs": [
    {
     "name": "stdout",
     "output_type": "stream",
     "text": [
      "0 15\n"
     ]
    }
   ],
   "source": [
    "a, b = my_fnc(val3=10, val1=0, val2=5)\n",
    "print(a,b)"
   ]
  },
  {
   "cell_type": "code",
   "execution_count": 5,
   "metadata": {},
   "outputs": [
    {
     "data": {
      "text/plain": [
       "(5, 8)"
      ]
     },
     "execution_count": 5,
     "metadata": {},
     "output_type": "execute_result"
    }
   ],
   "source": [
    "my_fnc(5, val3=2) # works here due to default value for val2"
   ]
  },
  {
   "cell_type": "code",
   "execution_count": 6,
   "metadata": {},
   "outputs": [
    {
     "name": "stdout",
     "output_type": "stream",
     "text": [
      "fnc() missing 1 required positional argument: 'val2'\n"
     ]
    }
   ],
   "source": [
    "try:\n",
    "    fnc(5,val3=2)\n",
    "except Exception as error:\n",
    "    print(error)"
   ]
  },
  {
   "cell_type": "markdown",
   "metadata": {},
   "source": [
    "Passing keyword arguments and positional arguments out of order raises a syntax error.\n",
    "\n",
    "```py\n",
    "fnc(5, val=3, 5) # => SyntaxError\n",
    "```"
   ]
  },
  {
   "cell_type": "code",
   "execution_count": 7,
   "metadata": {},
   "outputs": [
    {
     "name": "stdout",
     "output_type": "stream",
     "text": [
      "another_fn() got multiple values for argument 'a'\n"
     ]
    }
   ],
   "source": [
    "def another_fn(a=3, b=4, c=5):\n",
    "    print('a:{}, b:{}, c:{}'.format(a,b,c))\n",
    "\n",
    "try:\n",
    "    another_fn(5, a=10)\n",
    "except TypeError as error:\n",
    "    print(error)"
   ]
  },
  {
   "cell_type": "markdown",
   "metadata": {},
   "source": [
    "### Flexible number of arguments\n",
    "\n",
    "Use `*args` to define a function that accepts any number arguments. The interpreter assigns the arguments to a tuple that can be iterated over."
   ]
  },
  {
   "cell_type": "code",
   "execution_count": 8,
   "metadata": {},
   "outputs": [
    {
     "data": {
      "text/plain": [
       "[3, 1, 5, 2, 7, 8]"
      ]
     },
     "execution_count": 8,
     "metadata": {},
     "output_type": "execute_result"
    }
   ],
   "source": [
    "def fn_args(*args):\n",
    "    nums = []\n",
    "    for num in args:\n",
    "        nums.append(num)\n",
    "    return nums\n",
    "\n",
    "fn_args(3,1,5,2,7,8)"
   ]
  },
  {
   "cell_type": "markdown",
   "metadata": {},
   "source": [
    "Use `**kwargs` to pass any number of keyword arguments to a function, which are converted into a dict of key value pairs that can be iterated over using `.items()`."
   ]
  },
  {
   "cell_type": "code",
   "execution_count": 9,
   "metadata": {},
   "outputs": [
    {
     "name": "stdout",
     "output_type": "stream",
     "text": [
      "key: a, value:3\n",
      "key: b, value:4\n",
      "key: c, value:5\n"
     ]
    }
   ],
   "source": [
    "def fn_kwargs(**kwargs):\n",
    "    for key, value in kwargs.items():\n",
    "        print('key: {}, value:{}'.format(key, value))\n",
    "        \n",
    "fn_kwargs(a=3, b=4, c=5)"
   ]
  },
  {
   "cell_type": "markdown",
   "metadata": {},
   "source": [
    "### Function Scope"
   ]
  },
  {
   "cell_type": "code",
   "execution_count": 10,
   "metadata": {},
   "outputs": [
    {
     "data": {
      "text/plain": [
       "5"
      ]
     },
     "execution_count": 10,
     "metadata": {},
     "output_type": "execute_result"
    }
   ],
   "source": [
    "def fn_one(val):\n",
    "    value = val\n",
    "    return value\n",
    "\n",
    "fn_one(5)"
   ]
  },
  {
   "cell_type": "code",
   "execution_count": 11,
   "metadata": {},
   "outputs": [
    {
     "name": "stdout",
     "output_type": "stream",
     "text": [
      "Variable not accessible\n"
     ]
    }
   ],
   "source": [
    "try:\n",
    "    print(value)\n",
    "except NameError:\n",
    "    print('Variable not accessible')"
   ]
  },
  {
   "cell_type": "code",
   "execution_count": 12,
   "metadata": {},
   "outputs": [
    {
     "name": "stdout",
     "output_type": "stream",
     "text": [
      "Variable not accessible\n"
     ]
    }
   ],
   "source": [
    "try:\n",
    "    print(val)\n",
    "except NameError:\n",
    "    print('Variable not accessible')"
   ]
  },
  {
   "cell_type": "markdown",
   "metadata": {},
   "source": [
    "To alter a `global` variable inside a function, use the `global` keyword."
   ]
  },
  {
   "cell_type": "code",
   "execution_count": 13,
   "metadata": {},
   "outputs": [
    {
     "name": "stdout",
     "output_type": "stream",
     "text": [
      "5\n",
      "10\n"
     ]
    }
   ],
   "source": [
    "val = 10\n",
    "\n",
    "def fn_two(value):\n",
    "    val = value # declares local variable 'val' and assigns it the value 'value'\n",
    "    return val\n",
    "\n",
    "print(fn_two(5))\n",
    "print(val)"
   ]
  },
  {
   "cell_type": "code",
   "execution_count": 14,
   "metadata": {},
   "outputs": [
    {
     "name": "stdout",
     "output_type": "stream",
     "text": [
      "5\n",
      "5\n"
     ]
    }
   ],
   "source": [
    "def fn_three(value):\n",
    "    global val\n",
    "    val = value\n",
    "    return val\n",
    "\n",
    "print(fn_three(5))\n",
    "print(val)"
   ]
  },
  {
   "cell_type": "markdown",
   "metadata": {},
   "source": [
    "Nested functions, used for closures, use the `nonlocal` keyword to change variables in enclosing functions."
   ]
  },
  {
   "cell_type": "code",
   "execution_count": 15,
   "metadata": {},
   "outputs": [
    {
     "name": "stdout",
     "output_type": "stream",
     "text": [
      "5\n"
     ]
    }
   ],
   "source": [
    "def outer():\n",
    "    n = 5\n",
    "    \n",
    "    def inner():\n",
    "        print(n)\n",
    "    inner()   \n",
    "\n",
    "outer()"
   ]
  },
  {
   "cell_type": "code",
   "execution_count": 16,
   "metadata": {},
   "outputs": [
    {
     "name": "stdout",
     "output_type": "stream",
     "text": [
      "10 10\n"
     ]
    }
   ],
   "source": [
    "def outer():\n",
    "    m = 10\n",
    "    n = 5\n",
    "    \n",
    "    def inner():\n",
    "        m = 20 # defines variable local to 'inner'\n",
    "        nonlocal n # access 'n' in enclosing scope\n",
    "        n = 10\n",
    "        \n",
    "    inner()\n",
    "    print(m,n)\n",
    "outer()"
   ]
  },
  {
   "cell_type": "markdown",
   "metadata": {},
   "source": [
    "## 2. Lists"
   ]
  },
  {
   "cell_type": "markdown",
   "metadata": {},
   "source": [
    "### Enumerate\n",
    "\n",
    "When you need the `index`, generates a series of tuples. You can include the `start` value, which changes the value of the index, NOT the values yielded."
   ]
  },
  {
   "cell_type": "code",
   "execution_count": 17,
   "metadata": {},
   "outputs": [
    {
     "name": "stdout",
     "output_type": "stream",
     "text": [
      "index:0, value:a\n",
      "index:1, value:b\n",
      "index:2, value:c\n",
      "index:3, value:d\n",
      "index:4, value:e\n",
      "index:5, value:f\n"
     ]
    }
   ],
   "source": [
    "l_obj = list('abcdef')\n",
    "for index, value in enumerate(l_obj):\n",
    "    print('index:{}, value:{}'.format(index, value))"
   ]
  },
  {
   "cell_type": "code",
   "execution_count": 18,
   "metadata": {
    "scrolled": true
   },
   "outputs": [
    {
     "name": "stdout",
     "output_type": "stream",
     "text": [
      "index:3, value:a\n",
      "index:4, value:b\n",
      "index:5, value:c\n",
      "index:6, value:d\n",
      "index:7, value:e\n",
      "index:8, value:f\n"
     ]
    }
   ],
   "source": [
    "for i, v in enumerate(l_obj, start=3):\n",
    "    print('index:{}, value:{}'.format(i,v))"
   ]
  },
  {
   "cell_type": "markdown",
   "metadata": {},
   "source": [
    "### Join\n",
    "\n",
    "Concatanate list contents (or string) into a string."
   ]
  },
  {
   "cell_type": "code",
   "execution_count": 19,
   "metadata": {},
   "outputs": [
    {
     "data": {
      "text/plain": [
       "'abcdef'"
      ]
     },
     "execution_count": 19,
     "metadata": {},
     "output_type": "execute_result"
    }
   ],
   "source": [
    "''.join(l_obj)"
   ]
  },
  {
   "cell_type": "code",
   "execution_count": 20,
   "metadata": {},
   "outputs": [
    {
     "data": {
      "text/plain": [
       "'a*b*c*d*e*f'"
      ]
     },
     "execution_count": 20,
     "metadata": {},
     "output_type": "execute_result"
    }
   ],
   "source": [
    "'*'.join(l_obj)"
   ]
  },
  {
   "cell_type": "code",
   "execution_count": 21,
   "metadata": {},
   "outputs": [
    {
     "data": {
      "text/plain": [
       "'h e l l o !'"
      ]
     },
     "execution_count": 21,
     "metadata": {},
     "output_type": "execute_result"
    }
   ],
   "source": [
    "' '.join('hello!')"
   ]
  },
  {
   "cell_type": "markdown",
   "metadata": {},
   "source": [
    "### In\n",
    "\n",
    "Check if a value exists in a list. Returns a boolean."
   ]
  },
  {
   "cell_type": "code",
   "execution_count": 22,
   "metadata": {},
   "outputs": [
    {
     "name": "stdout",
     "output_type": "stream",
     "text": [
      "False\n",
      "True\n"
     ]
    }
   ],
   "source": [
    "print('s' in l_obj)\n",
    "print('a' in l_obj)"
   ]
  },
  {
   "cell_type": "markdown",
   "metadata": {},
   "source": [
    "### Slicing\n",
    "\n",
    "General Syntax:\n",
    "\n",
    "```py\n",
    "list[start:end]\n",
    "\n",
    "list[:end]\n",
    "\n",
    "list[start:]\n",
    "\n",
    "list[start:end:step]\n",
    "\n",
    "list[start:end:-1] # reverse direction\n",
    "```"
   ]
  },
  {
   "cell_type": "code",
   "execution_count": 23,
   "metadata": {},
   "outputs": [
    {
     "data": {
      "text/plain": [
       "['a', 'b', 'c', 'd', 'e', 'f']"
      ]
     },
     "execution_count": 23,
     "metadata": {},
     "output_type": "execute_result"
    }
   ],
   "source": [
    "lst = l_obj[:] # copy\n",
    "lst"
   ]
  },
  {
   "cell_type": "code",
   "execution_count": 24,
   "metadata": {},
   "outputs": [
    {
     "data": {
      "text/plain": [
       "['c', 'd', 'e', 'f']"
      ]
     },
     "execution_count": 24,
     "metadata": {},
     "output_type": "execute_result"
    }
   ],
   "source": [
    "lst[-4:] # start 4th from end, go to end"
   ]
  },
  {
   "cell_type": "code",
   "execution_count": 25,
   "metadata": {},
   "outputs": [
    {
     "data": {
      "text/plain": [
       "['d', 'c', 'b', 'a']"
      ]
     },
     "execution_count": 25,
     "metadata": {},
     "output_type": "execute_result"
    }
   ],
   "source": [
    "lst[-3::-1] # start 3rd from end, reverse direction"
   ]
  },
  {
   "cell_type": "code",
   "execution_count": 26,
   "metadata": {},
   "outputs": [
    {
     "data": {
      "text/plain": [
       "['f', 'e', 'd', 'c', 'b', 'a']"
      ]
     },
     "execution_count": 26,
     "metadata": {},
     "output_type": "execute_result"
    }
   ],
   "source": [
    "lst[::-1] # reverse list copy"
   ]
  },
  {
   "cell_type": "code",
   "execution_count": 27,
   "metadata": {},
   "outputs": [
    {
     "data": {
      "text/plain": [
       "['a', 'b', 'c', 'd', 42, 'f']"
      ]
     },
     "execution_count": 27,
     "metadata": {},
     "output_type": "execute_result"
    }
   ],
   "source": [
    "lst[4] = 42 # re-assign (replace) a single list item\n",
    "lst"
   ]
  },
  {
   "cell_type": "code",
   "execution_count": 28,
   "metadata": {},
   "outputs": [
    {
     "data": {
      "text/plain": [
       "['a', 3, 4, 5, 6, 7, 8, 'd', 42, 'f']"
      ]
     },
     "execution_count": 28,
     "metadata": {},
     "output_type": "execute_result"
    }
   ],
   "source": [
    "lst[1:3] = [3,4,5,6,7,8] # replace multiple list items\n",
    "lst"
   ]
  },
  {
   "cell_type": "markdown",
   "metadata": {},
   "source": [
    "### Del\n",
    "\n",
    "Remove an item(s) from a list given a value(s). Operates **inplace**."
   ]
  },
  {
   "cell_type": "code",
   "execution_count": 29,
   "metadata": {},
   "outputs": [
    {
     "data": {
      "text/plain": [
       "['a', 3, 5, 6, 7, 8, 'd', 42, 'f']"
      ]
     },
     "execution_count": 29,
     "metadata": {},
     "output_type": "execute_result"
    }
   ],
   "source": [
    "del lst[2]\n",
    "lst"
   ]
  },
  {
   "cell_type": "code",
   "execution_count": 30,
   "metadata": {},
   "outputs": [
    {
     "data": {
      "text/plain": [
       "['a', 3, 5, 6, 7, 'f']"
      ]
     },
     "execution_count": 30,
     "metadata": {},
     "output_type": "execute_result"
    }
   ],
   "source": [
    "del lst[5:8] # upto, but not including the last element\n",
    "lst"
   ]
  },
  {
   "cell_type": "markdown",
   "metadata": {},
   "source": [
    "### Sorted\n",
    "\n",
    "Takes list as an argument and returns new list. Optional `reverse=True` argument.\n",
    "\n",
    "Does NOT support string, numerical mix."
   ]
  },
  {
   "cell_type": "code",
   "execution_count": 31,
   "metadata": {},
   "outputs": [
    {
     "name": "stdout",
     "output_type": "stream",
     "text": [
      "'<' not supported between instances of 'int' and 'str'\n"
     ]
    }
   ],
   "source": [
    "try:\n",
    "    rev_lst = sorted(lst, reverse=True)\n",
    "except Exception as error:\n",
    "    print(error)"
   ]
  },
  {
   "cell_type": "markdown",
   "metadata": {},
   "source": [
    "### Zip\n",
    "\n",
    "Combine two or more lists into a zip obj, which can be converted into a list using the `list` function. \n",
    "\n",
    "* Elements are combined element-wise into a list of tuples.\n",
    "\n",
    "* Length of the list is limited to the length of the shortest list passed to `zip`."
   ]
  },
  {
   "cell_type": "code",
   "execution_count": 32,
   "metadata": {},
   "outputs": [
    {
     "data": {
      "text/plain": [
       "[('a', '1', 'l'),\n",
       " ('b', '2', 'm'),\n",
       " ('c', '3', 'n'),\n",
       " ('d', '4', 'o'),\n",
       " ('e', '5', 'p'),\n",
       " ('f', '6', 'q')]"
      ]
     },
     "execution_count": 32,
     "metadata": {},
     "output_type": "execute_result"
    }
   ],
   "source": [
    "lst1 = list('abcdef')\n",
    "lst2 = list('1234567890')\n",
    "lst3 = list('lmnopqrstuvwxyz')\n",
    "list(zip(lst1, lst2, lst3))"
   ]
  },
  {
   "cell_type": "markdown",
   "metadata": {},
   "source": [
    "### Range\n",
    "\n",
    "Generate a list of consecutive numbers.\n",
    "\n",
    "* single argument, starts at 0, returns a range upto but not including the input number.\n",
    "\n",
    "* define a starting point by using two arguments.\n",
    "\n",
    "* define a step by passing a third argument."
   ]
  },
  {
   "cell_type": "code",
   "execution_count": 33,
   "metadata": {},
   "outputs": [
    {
     "data": {
      "text/plain": [
       "[0, 1, 2, 3, 4, 5, 6, 7, 8, 9]"
      ]
     },
     "execution_count": 33,
     "metadata": {},
     "output_type": "execute_result"
    }
   ],
   "source": [
    "list(range(10))"
   ]
  },
  {
   "cell_type": "code",
   "execution_count": 34,
   "metadata": {},
   "outputs": [
    {
     "data": {
      "text/plain": [
       "[4, 5, 6, 7, 8, 9, 10, 11]"
      ]
     },
     "execution_count": 34,
     "metadata": {},
     "output_type": "execute_result"
    }
   ],
   "source": [
    "list(range(4,12))"
   ]
  },
  {
   "cell_type": "code",
   "execution_count": 35,
   "metadata": {},
   "outputs": [
    {
     "data": {
      "text/plain": [
       "[4, 7, 10]"
      ]
     },
     "execution_count": 35,
     "metadata": {},
     "output_type": "execute_result"
    }
   ],
   "source": [
    "list(range(4,12,3))"
   ]
  },
  {
   "cell_type": "code",
   "execution_count": 36,
   "metadata": {},
   "outputs": [
    {
     "data": {
      "text/plain": [
       "[0, 5, 10]"
      ]
     },
     "execution_count": 36,
     "metadata": {},
     "output_type": "execute_result"
    }
   ],
   "source": [
    "list(range(0,len(lst3),5))"
   ]
  },
  {
   "cell_type": "markdown",
   "metadata": {},
   "source": [
    "## List Methods"
   ]
  },
  {
   "cell_type": "markdown",
   "metadata": {},
   "source": [
    "### Append\n",
    "\n",
    "Add a single elements to the end of a list, can be any Python datatype.\n",
    "\n",
    "* takes only a single argument (raises a SyntaxError), returns `None`.\n",
    "\n",
    "* mutates the list"
   ]
  },
  {
   "cell_type": "code",
   "execution_count": 37,
   "metadata": {},
   "outputs": [
    {
     "data": {
      "text/plain": [
       "['a', 3, 5, 6, 7, 'f']"
      ]
     },
     "execution_count": 37,
     "metadata": {},
     "output_type": "execute_result"
    }
   ],
   "source": [
    "lst"
   ]
  },
  {
   "cell_type": "code",
   "execution_count": 38,
   "metadata": {},
   "outputs": [
    {
     "data": {
      "text/plain": [
       "['a',\n",
       " 3,\n",
       " 5,\n",
       " 6,\n",
       " 7,\n",
       " 'f',\n",
       " ['q', 'r', 's', 't', 'u', 'v'],\n",
       " ['q', 'r', 's', 't', 'u', 'v']]"
      ]
     },
     "execution_count": 38,
     "metadata": {},
     "output_type": "execute_result"
    }
   ],
   "source": [
    "lst.append(list('qrstuv'))\n",
    "lst.append(list('qrstuv'))\n",
    "lst"
   ]
  },
  {
   "cell_type": "markdown",
   "metadata": {},
   "source": [
    "### Count\n",
    "\n",
    "Count the number of times a particular item is found in the list, otherwise return `0`."
   ]
  },
  {
   "cell_type": "code",
   "execution_count": 39,
   "metadata": {},
   "outputs": [
    {
     "data": {
      "text/plain": [
       "0"
      ]
     },
     "execution_count": 39,
     "metadata": {},
     "output_type": "execute_result"
    }
   ],
   "source": [
    "lst.count('r')"
   ]
  },
  {
   "cell_type": "code",
   "execution_count": 40,
   "metadata": {},
   "outputs": [
    {
     "data": {
      "text/plain": [
       "2"
      ]
     },
     "execution_count": 40,
     "metadata": {},
     "output_type": "execute_result"
    }
   ],
   "source": [
    "lst.count(list('qrstuv'))"
   ]
  },
  {
   "cell_type": "code",
   "execution_count": 41,
   "metadata": {},
   "outputs": [
    {
     "data": {
      "text/plain": [
       "['a', 3, 5, 6, 7, 'f']"
      ]
     },
     "execution_count": 41,
     "metadata": {},
     "output_type": "execute_result"
    }
   ],
   "source": [
    "del lst[-2:]\n",
    "lst"
   ]
  },
  {
   "cell_type": "markdown",
   "metadata": {},
   "source": [
    "### Index\n",
    "\n",
    "Return the index of 1st occurence of the element, otherwise raise an exception."
   ]
  },
  {
   "cell_type": "code",
   "execution_count": 42,
   "metadata": {},
   "outputs": [
    {
     "name": "stdout",
     "output_type": "stream",
     "text": [
      "['a', 3, 5, 6, 7, 'f', 6]\n",
      "3\n"
     ]
    }
   ],
   "source": [
    "lst.append(6)\n",
    "print(lst)\n",
    "\n",
    "try:\n",
    "    print(lst.index(6))\n",
    "except exception as error:\n",
    "    print(error)"
   ]
  },
  {
   "cell_type": "code",
   "execution_count": 43,
   "metadata": {},
   "outputs": [
    {
     "name": "stdout",
     "output_type": "stream",
     "text": [
      "9 is not in list\n"
     ]
    }
   ],
   "source": [
    "try:\n",
    "    lst.index(9)\n",
    "except Exception as error:\n",
    "    print(error)"
   ]
  },
  {
   "cell_type": "markdown",
   "metadata": {},
   "source": [
    "### Sort\n",
    "\n",
    "Sorts list (numerical or alphabetical) **inplace**, returns `None`."
   ]
  },
  {
   "cell_type": "code",
   "execution_count": 44,
   "metadata": {},
   "outputs": [
    {
     "name": "stdout",
     "output_type": "stream",
     "text": [
      "'<' not supported between instances of 'int' and 'str'\n"
     ]
    }
   ],
   "source": [
    "try:\n",
    "    lst.sort()\n",
    "except Exception as error:\n",
    "    print(error)"
   ]
  },
  {
   "cell_type": "code",
   "execution_count": 45,
   "metadata": {},
   "outputs": [
    {
     "name": "stdout",
     "output_type": "stream",
     "text": [
      "None\n",
      "['A', 'D', 'E', 'S', 'a', 'a', 'b', 'd', 'e', 'e', 'g', 'j', 'n', 'p', 'q', 'r', 's', 'w']\n"
     ]
    }
   ],
   "source": [
    "str_lst = list('eArgwqEpjDdnbSeaas')\n",
    "try:\n",
    "    print(str_lst.sort())\n",
    "except Exception as error:\n",
    "    print(error)\n",
    "    \n",
    "print(str_lst)"
   ]
  },
  {
   "cell_type": "markdown",
   "metadata": {},
   "source": [
    "### Plus (+)\n",
    "\n",
    "Concat two or more lists, any length and datatype. Returns a new list."
   ]
  },
  {
   "cell_type": "code",
   "execution_count": 46,
   "metadata": {},
   "outputs": [
    {
     "data": {
      "text/plain": [
       "[1, 2, 3, 4, 5, 6, 7, 8, 9, 0]"
      ]
     },
     "execution_count": 46,
     "metadata": {},
     "output_type": "execute_result"
    }
   ],
   "source": [
    "lst1 = [1,2,3,4,5]\n",
    "lst2 = [6,7,8,9,0]\n",
    "lst1 + lst2"
   ]
  },
  {
   "cell_type": "code",
   "execution_count": 47,
   "metadata": {},
   "outputs": [
    {
     "data": {
      "text/plain": [
       "[[1, 2, 3, 4, 5], [6, 7, 8, 9, 0]]"
      ]
     },
     "execution_count": 47,
     "metadata": {},
     "output_type": "execute_result"
    }
   ],
   "source": [
    "lst3 = [lst1] + [lst2] # concat 2 nested lists\n",
    "lst3"
   ]
  },
  {
   "cell_type": "markdown",
   "metadata": {},
   "source": [
    "### Insert\n",
    "\n",
    "Insert an item at a given position, 1st arg is the index, 2nd the item. Operates **inplace**."
   ]
  },
  {
   "cell_type": "code",
   "execution_count": 48,
   "metadata": {},
   "outputs": [
    {
     "data": {
      "text/plain": [
       "[[1, 2, 3, 4, 5], ['a', 'b', 'c', 'd', 'e', 'f'], [6, 7, 8, 9, 0]]"
      ]
     },
     "execution_count": 48,
     "metadata": {},
     "output_type": "execute_result"
    }
   ],
   "source": [
    "lst3.insert(1,list('abcdef'))\n",
    "lst3"
   ]
  },
  {
   "cell_type": "markdown",
   "metadata": {},
   "source": [
    "### Remove\n",
    "\n",
    "Remove 1st occurrence of an item, raises an exception if the item does not exist. Operates **inplace**, operation returns `None`."
   ]
  },
  {
   "cell_type": "code",
   "execution_count": 49,
   "metadata": {},
   "outputs": [
    {
     "name": "stdout",
     "output_type": "stream",
     "text": [
      "list.remove(x): x not in list\n"
     ]
    }
   ],
   "source": [
    "try:\n",
    "    lst1.remove(6)\n",
    "except Exception as error:\n",
    "    print(error)"
   ]
  },
  {
   "cell_type": "code",
   "execution_count": 50,
   "metadata": {},
   "outputs": [
    {
     "data": {
      "text/plain": [
       "['a', 'b', 'c', 'd', 'c', 'f', 'e']"
      ]
     },
     "execution_count": 50,
     "metadata": {},
     "output_type": "execute_result"
    }
   ],
   "source": [
    "lst4 = list('abcdecfe')\n",
    "lst4.remove('e')\n",
    "lst4"
   ]
  },
  {
   "cell_type": "markdown",
   "metadata": {},
   "source": [
    "### Pop\n",
    "\n",
    "Removes last element if no argument is supplied, otherwise removes item for supplied index. \n",
    "\n",
    "Operates **inplace**, returns item.\n",
    "Raises an exception if the index is out of range."
   ]
  },
  {
   "cell_type": "code",
   "execution_count": 51,
   "metadata": {},
   "outputs": [
    {
     "name": "stdout",
     "output_type": "stream",
     "text": [
      "e\n"
     ]
    },
    {
     "data": {
      "text/plain": [
       "['a', 'b', 'c', 'd', 'c', 'f']"
      ]
     },
     "execution_count": 51,
     "metadata": {},
     "output_type": "execute_result"
    }
   ],
   "source": [
    "print(lst4.pop())\n",
    "lst4"
   ]
  },
  {
   "cell_type": "code",
   "execution_count": 52,
   "metadata": {},
   "outputs": [
    {
     "name": "stdout",
     "output_type": "stream",
     "text": [
      "c\n"
     ]
    },
    {
     "data": {
      "text/plain": [
       "['a', 'b', 'c', 'd', 'f']"
      ]
     },
     "execution_count": 52,
     "metadata": {},
     "output_type": "execute_result"
    }
   ],
   "source": [
    "print(lst4.pop(4))\n",
    "lst4"
   ]
  },
  {
   "cell_type": "markdown",
   "metadata": {},
   "source": [
    "**Clear** - Removes all items from a list."
   ]
  },
  {
   "cell_type": "markdown",
   "metadata": {},
   "source": [
    "**Reverse** - Reverse items in a list, operates **inplace**."
   ]
  },
  {
   "cell_type": "markdown",
   "metadata": {},
   "source": [
    "**Copy** - shallow copy a list."
   ]
  },
  {
   "cell_type": "markdown",
   "metadata": {},
   "source": [
    "## 3. Loops"
   ]
  },
  {
   "cell_type": "markdown",
   "metadata": {},
   "source": [
    "**For Loops**\n",
    "\n",
    "* Iterate over a list, dictionary or other iterable a fixed number of times.\n",
    "\n",
    "* stop early when a particular condition is met using the `break` keyword.\n",
    "\n",
    "* skip that iteration when a particular condion is met using the `continue` keyword."
   ]
  },
  {
   "cell_type": "markdown",
   "metadata": {},
   "source": [
    "**While Loops**\n",
    "\n",
    "* used when you don't know how many times you're going to iterate through a loop.\n",
    "\n",
    "* continues to execute the same block of code until a particular condition is met.\n",
    "\n",
    "* exit the loop by updating a counter each iteration, or by using `break` to check if a condition has been met.\n",
    "\n",
    "* Do not use `continue`, you can't skip an iteration, **creates an infinite loop**."
   ]
  },
  {
   "cell_type": "markdown",
   "metadata": {},
   "source": [
    "## 4. Strings\n",
    "\n",
    "* An immutable list of characters.\n",
    "\n",
    "* can be accessed and sliced like lists (returns a new string)."
   ]
  },
  {
   "cell_type": "markdown",
   "metadata": {},
   "source": [
    "### In\n",
    "\n",
    "Check for a particular character in a string, returns a boolean."
   ]
  },
  {
   "cell_type": "code",
   "execution_count": 53,
   "metadata": {},
   "outputs": [
    {
     "data": {
      "text/plain": [
       "False"
      ]
     },
     "execution_count": 53,
     "metadata": {},
     "output_type": "execute_result"
    }
   ],
   "source": [
    "'abc' in 'werwerowkjerowpeor pwerj wierj woierj '"
   ]
  },
  {
   "cell_type": "code",
   "execution_count": 54,
   "metadata": {},
   "outputs": [
    {
     "data": {
      "text/plain": [
       "['g', 'e', 'r', 'i', 'u', 'y']"
      ]
     },
     "execution_count": 54,
     "metadata": {},
     "output_type": "execute_result"
    }
   ],
   "source": [
    "# find what characters two strings have in common\n",
    "str1 = 'gergoernerh iuehriureg ebygbeygbeg'\n",
    "str2 = 'itiurruireyrg yerfrgyurf yufugwgge'\n",
    "common = []\n",
    "for i in range(len(str1)):\n",
    "    for j in range(len(str2)):\n",
    "        if str1[i] == ' ':\n",
    "            continue\n",
    "        if str1[i] == str2[j] and str1[i] not in common:\n",
    "            common.append(str1[i])\n",
    "            \n",
    "common"
   ]
  },
  {
   "cell_type": "markdown",
   "metadata": {},
   "source": [
    "**upper** - transform all chars to uppercase, returns new str.\n",
    "\n",
    "**lower** - transform all chars to lower case, returns new string.\n",
    "\n",
    "**title** - transform 1st char in each word to uppercase, returns new str."
   ]
  },
  {
   "cell_type": "code",
   "execution_count": 55,
   "metadata": {},
   "outputs": [
    {
     "name": "stdout",
     "output_type": "stream",
     "text": [
      "ABCDEF GHIJKL MNOPQRST UVWXYZ\n",
      "abcdef ghijkl mnopqrst uvwxyz\n",
      "Abcdef Ghijkl Mnopqrst Uvwxyz\n",
      "AbcDEF ghiJKL mnopQRST uvWxYZ\n"
     ]
    }
   ],
   "source": [
    "str = 'AbcDEF ghiJKL mnopQRST uvWxYZ'\n",
    "print(str.upper())\n",
    "print(str.lower())\n",
    "print(str.title())\n",
    "print(str)"
   ]
  },
  {
   "cell_type": "markdown",
   "metadata": {},
   "source": [
    "### Split\n",
    "\n",
    "Split a string into substrings based on delimeter, otherwise on spaces. Returns new string."
   ]
  },
  {
   "cell_type": "code",
   "execution_count": 56,
   "metadata": {},
   "outputs": [
    {
     "name": "stdout",
     "output_type": "stream",
     "text": [
      "['Lorde', 'Williams', 'Mistral', 'Toomer', 'Qi', 'Whitman', 'Silverstein', 'Boullosa', 'Suraiyya', 'Hughes', 'Rich', 'Giovanni']\n"
     ]
    }
   ],
   "source": [
    "# retrun a list of surnames\n",
    "authors = '''\n",
    "Audre Lorde, William Carlos Williams, Gabriela Mistral, \n",
    "Jean Toomer, An Qi, Walt Whitman, Shel Silverstein, \n",
    "Carmen Boullosa, Kamala Suraiyya, Langston Hughes, \n",
    "Adrienne Rich, Nikki Giovanni\n",
    "'''\n",
    "\n",
    "names = authors.split(', ')\n",
    "last_names = [name.split()[-1] for name in names] \n",
    "print(last_names)"
   ]
  },
  {
   "cell_type": "markdown",
   "metadata": {},
   "source": [
    "`\\n` and `\\t` characters can be used as delimiters."
   ]
  },
  {
   "cell_type": "code",
   "execution_count": 57,
   "metadata": {},
   "outputs": [
    {
     "data": {
      "text/plain": [
       "['',\n",
       " 'Audre Lorde, William Carlos Williams, Gabriela Mistral, ',\n",
       " 'Jean Toomer, An Qi, Walt Whitman, Shel Silverstein, ',\n",
       " 'Carmen Boullosa, Kamala Suraiyya, Langston Hughes, ',\n",
       " 'Adrienne Rich, Nikki Giovanni',\n",
       " '']"
      ]
     },
     "execution_count": 57,
     "metadata": {},
     "output_type": "execute_result"
    }
   ],
   "source": [
    "authors.split('\\n')"
   ]
  },
  {
   "cell_type": "code",
   "execution_count": 58,
   "metadata": {},
   "outputs": [],
   "source": [
    "strs = authors.split('\\n')[1:-1]"
   ]
  },
  {
   "cell_type": "markdown",
   "metadata": {},
   "source": [
    "### Join\n",
    "\n",
    "Concatenates a list of strings with a given delimiter, returning a new string."
   ]
  },
  {
   "cell_type": "code",
   "execution_count": 59,
   "metadata": {},
   "outputs": [
    {
     "data": {
      "text/plain": [
       "'one, two, three'"
      ]
     },
     "execution_count": 59,
     "metadata": {},
     "output_type": "execute_result"
    }
   ],
   "source": [
    "str1 = 'one'\n",
    "str2 = 'two'\n",
    "str3 = 'three'\n",
    "', '.join([str1, str2, str3])"
   ]
  },
  {
   "cell_type": "markdown",
   "metadata": {},
   "source": [
    "### Strip\n",
    "\n",
    "* by default strips any whitespace from both ends of a string. =\n",
    "\n",
    "* optionally, will strip one or more characters if passed as an argument.\n",
    "\n",
    "* returns new string."
   ]
  },
  {
   "cell_type": "code",
   "execution_count": 60,
   "metadata": {},
   "outputs": [
    {
     "data": {
      "text/plain": [
       "['Audre Lorde, William Carlos Williams, Gabriela Mistral',\n",
       " 'Jean Toomer, An Qi, Walt Whitman, Shel Silverstein',\n",
       " 'Carmen Boullosa, Kamala Suraiyya, Langston Hughes',\n",
       " 'Adrienne Rich, Nikki Giovanni']"
      ]
     },
     "execution_count": 60,
     "metadata": {},
     "output_type": "execute_result"
    }
   ],
   "source": [
    "lst = [line.strip(', ') for line in strs]\n",
    "lst"
   ]
  },
  {
   "cell_type": "code",
   "execution_count": 61,
   "metadata": {},
   "outputs": [
    {
     "name": "stdout",
     "output_type": "stream",
     "text": [
      "Audre Lorde, William Carlos Williams, Gabriela Mistral\n",
      "Jean Toomer, An Qi, Walt Whitman, Shel Silverstein\n",
      "Carmen Boullosa, Kamala Suraiyya, Langston Hughes\n",
      "Adrienne Rich, Nikki Giovanni\n"
     ]
    }
   ],
   "source": [
    "# join into a multiline string\n",
    "ms = '\\n'.join(lst)\n",
    "print(ms)"
   ]
  },
  {
   "cell_type": "code",
   "execution_count": 62,
   "metadata": {},
   "outputs": [
    {
     "name": "stdout",
     "output_type": "stream",
     "text": [
      "12\n",
      "['Audre Lorde', 'William Carlos Williams', 'Gabriela Mistral', 'Jean Toomer', 'An Qi', 'Walt Whitman', 'Shel Silverstein', 'Carmen Boullosa', 'Kamala Suraiyya', 'Langston Hughes', 'Adrienne Rich', 'Nikki Giovanni']\n"
     ]
    }
   ],
   "source": [
    "# split into a list of names\n",
    "names = []\n",
    "for line in ms.split('\\n'):\n",
    "    for word in line.split(', '):\n",
    "          names.append(word)\n",
    "            \n",
    "print(len(names))\n",
    "print(names)"
   ]
  },
  {
   "cell_type": "code",
   "execution_count": 63,
   "metadata": {
    "scrolled": true
   },
   "outputs": [
    {
     "data": {
      "text/plain": [
       "['Audre Lorde',\n",
       " 'William Carlos Williams',\n",
       " 'Gabriela Mistral',\n",
       " 'Jean Toomer',\n",
       " 'An Qi',\n",
       " 'Walt Whitman',\n",
       " 'Shel Silverstein',\n",
       " 'Carmen Boullosa',\n",
       " 'Kamala Suraiyya',\n",
       " 'Langston Hughes',\n",
       " 'Adrienne Rich',\n",
       " 'Nikki Giovanni']"
      ]
     },
     "execution_count": 63,
     "metadata": {},
     "output_type": "execute_result"
    }
   ],
   "source": [
    "# alternatively using list comprehension\n",
    "[word for line in ms.split('\\n') for word in line.split(', ')]"
   ]
  },
  {
   "cell_type": "markdown",
   "metadata": {},
   "source": [
    "**replace** - replace all instances of the 1st arg with the 2nd, returns a new string (even if there's no match).\n",
    "\n",
    "**count** - count the number of times the arg appears in the string, otherwise return `0`.\n",
    "\n",
    "**find** - retun the index of the 1st instance of the arg, otherwise `-1`.\n",
    "\n",
    "**index** - like `find`, except raises an exception if match not found.\n",
    "\n",
    "**startswith/endswith** - return `True` if the string starts/ends with the specified arg, otherwise `False`."
   ]
  },
  {
   "cell_type": "code",
   "execution_count": 64,
   "metadata": {},
   "outputs": [
    {
     "data": {
      "text/plain": [
       "False"
      ]
     },
     "execution_count": 64,
     "metadata": {},
     "output_type": "execute_result"
    }
   ],
   "source": [
    "str1 = 'hello world'\n",
    "str2 = 'hello world'.replace('z', ' ')\n",
    "str1 is str2"
   ]
  },
  {
   "cell_type": "code",
   "execution_count": 65,
   "metadata": {},
   "outputs": [
    {
     "name": "stdout",
     "output_type": "stream",
     "text": [
      "True\n",
      "False\n"
     ]
    }
   ],
   "source": [
    "str3 = 'hello world'\n",
    "print(str1 == str3) # same chars\n",
    "print(str1 is str3) # references point to different objects"
   ]
  },
  {
   "cell_type": "markdown",
   "metadata": {},
   "source": [
    "### Format\n",
    "\n",
    "Implements string interpolation in Python, used as an alternative to concatenation."
   ]
  },
  {
   "cell_type": "code",
   "execution_count": 66,
   "metadata": {},
   "outputs": [
    {
     "data": {
      "text/plain": [
       "'a:alpha, b:beta, d:delta'"
      ]
     },
     "execution_count": 66,
     "metadata": {},
     "output_type": "execute_result"
    }
   ],
   "source": [
    "alpha = 'alpha'\n",
    "beta = 'beta'\n",
    "delta = 'delta'\n",
    "'a:{a}, b:{b}, d:{d}'.format(a=alpha, b=beta, d=delta)"
   ]
  },
  {
   "cell_type": "markdown",
   "metadata": {},
   "source": [
    "## Random"
   ]
  },
  {
   "cell_type": "markdown",
   "metadata": {},
   "source": [
    "**seed** - initialize the generator, otherwise uses system time.\n",
    "\n",
    "**choice** - returns a random item from the list arg.\n",
    "\n",
    "**randint** - generates a random number between the 1st and 2nd arg\n",
    "\n",
    "**shuffle** - shuffle the sequence in place, new obj returned for immutable objs.\n",
    "\n",
    "**sample** - return x number of items from a sequence.\n",
    "\n",
    "**random** - return float between 0.0 and 1.0\n",
    "\n",
    "**uniform** - return a random float between the two supplied args."
   ]
  },
  {
   "cell_type": "code",
   "execution_count": 67,
   "metadata": {},
   "outputs": [
    {
     "name": "stdout",
     "output_type": "stream",
     "text": [
      "k\n",
      "14\n",
      "1\n",
      "['e', 'd', 'j', 'c']\n",
      "[1, 8, 9, 4]\n",
      "7\n",
      "0.03178267948178359\n",
      "2.187390479723185\n"
     ]
    }
   ],
   "source": [
    "import random as r\n",
    "\n",
    "r.seed(42)\n",
    "\n",
    "print(r.choice(list('abcdefghijk')))\n",
    "print(r.choice(range(100)))\n",
    "print(r.choice([1,2,3,4,5,6,7,8,9]))\n",
    "\n",
    "print(r.sample(list('abcdefghijk'), 4))\n",
    "print(r.sample(range(10), 4))\n",
    "\n",
    "print(r.randint(1,10))\n",
    "print(r.random())\n",
    "print(r.uniform(2, 4))"
   ]
  },
  {
   "cell_type": "code",
   "execution_count": 68,
   "metadata": {},
   "outputs": [
    {
     "data": {
      "text/plain": [
       "['c', 'b', 'j', 'h', 'e', 'g', 'f', 'k', 'a', 'i', 'd']"
      ]
     },
     "execution_count": 68,
     "metadata": {},
     "output_type": "execute_result"
    }
   ],
   "source": [
    "lst = list('abcdefghijk')\n",
    "r.shuffle(lst)\n",
    "lst"
   ]
  },
  {
   "cell_type": "markdown",
   "metadata": {},
   "source": [
    "## Dictionaries\n",
    "\n",
    "* unordered collection of key-value pairs, order is not guaranteed.\n",
    "\n",
    "* are a means of mapping a 'label' to a piece of 'data'.\n",
    "\n",
    "* although dicts are mutable, the keys ARE NOT (must be hashable), are either strings or numbers.\n",
    "\n",
    "* the values can be any Python data type."
   ]
  },
  {
   "cell_type": "markdown",
   "metadata": {},
   "source": [
    "### Create a dictionary"
   ]
  },
  {
   "cell_type": "code",
   "execution_count": 69,
   "metadata": {},
   "outputs": [
    {
     "name": "stdout",
     "output_type": "stream",
     "text": [
      "{'name': 'Tom Jones', 'age': 67, 'occupation': 'Singer'}\n"
     ]
    }
   ],
   "source": [
    "dict1 = {'name': 'Tom Jones', 'age': 67, 'occupation': 'Singer'}\n",
    "print(dict1)"
   ]
  },
  {
   "cell_type": "code",
   "execution_count": 70,
   "metadata": {},
   "outputs": [
    {
     "data": {
      "text/plain": [
       "{'name': 'Tom Jones', 'age': '67', 'occupation': 'Singer'}"
      ]
     },
     "execution_count": 70,
     "metadata": {},
     "output_type": "execute_result"
    }
   ],
   "source": [
    "dict2 = dict(name='Tom Jones', age='67', occupation='Singer')\n",
    "dict2"
   ]
  },
  {
   "cell_type": "markdown",
   "metadata": {},
   "source": [
    "Combining two lists into a dict using a `dict comprehension`. First list arg is used as the keys, the 2nd as the values."
   ]
  },
  {
   "cell_type": "code",
   "execution_count": 71,
   "metadata": {},
   "outputs": [
    {
     "data": {
      "text/plain": [
       "{'a': 1, 'b': 2, 'c': 3, 'd': 4, 'e': 5, 'f': 6, 'g': 7, 'h': 8}"
      ]
     },
     "execution_count": 71,
     "metadata": {},
     "output_type": "execute_result"
    }
   ],
   "source": [
    "lst1 = list('abcdefgh')\n",
    "lst2 = [1,2,3,4,5,6,7,8]\n",
    "{k:v for k, v in zip(lst1, lst2)}"
   ]
  },
  {
   "cell_type": "markdown",
   "metadata": {},
   "source": [
    "Alternatively, combine `dict` with `zip`."
   ]
  },
  {
   "cell_type": "code",
   "execution_count": 72,
   "metadata": {},
   "outputs": [
    {
     "data": {
      "text/plain": [
       "{'a': 1, 'b': 2, 'c': 3, 'd': 4, 'e': 5, 'f': 6, 'g': 7, 'h': 8}"
      ]
     },
     "execution_count": 72,
     "metadata": {},
     "output_type": "execute_result"
    }
   ],
   "source": [
    "dict(zip(lst1, lst2))"
   ]
  },
  {
   "cell_type": "markdown",
   "metadata": {},
   "source": [
    "### Copy a dictionary\n",
    "\n",
    "Use `copy`, performs a shallow copy, or pass the dict to `dict` constructor."
   ]
  },
  {
   "cell_type": "code",
   "execution_count": 73,
   "metadata": {},
   "outputs": [
    {
     "name": "stdout",
     "output_type": "stream",
     "text": [
      "{'a': 1, 'b': 2, 'c': 3, 'd': 4, 'e': 5, 'f': 6}\n",
      "{'a': 1, 'b': 2, 'c': 3, 'd': 4, 'e': 5, 'f': 6}\n",
      "True\n"
     ]
    },
    {
     "data": {
      "text/plain": [
       "False"
      ]
     },
     "execution_count": 73,
     "metadata": {},
     "output_type": "execute_result"
    }
   ],
   "source": [
    "d = dict(zip(list('abcdef'), [1,2,3,4,5,6]))\n",
    "print(d)\n",
    "e = d.copy()\n",
    "print(e)\n",
    "print(d == e)\n",
    "d is e"
   ]
  },
  {
   "cell_type": "markdown",
   "metadata": {},
   "source": [
    "### Update a dictionary\n",
    "\n",
    "Update single properties (or add new one):"
   ]
  },
  {
   "cell_type": "code",
   "execution_count": 74,
   "metadata": {},
   "outputs": [
    {
     "data": {
      "text/plain": [
       "{'name': 'Tom Jones', 'age': 72, 'occupation': 'Singer'}"
      ]
     },
     "execution_count": 74,
     "metadata": {},
     "output_type": "execute_result"
    }
   ],
   "source": [
    "dict1['age'] = 72\n",
    "dict1"
   ]
  },
  {
   "cell_type": "markdown",
   "metadata": {},
   "source": [
    "Update multiple properties:"
   ]
  },
  {
   "cell_type": "code",
   "execution_count": 75,
   "metadata": {},
   "outputs": [
    {
     "data": {
      "text/plain": [
       "{'name': 'Tom Jones',\n",
       " 'age': 72,\n",
       " 'occupation': 'Singer',\n",
       " 'address': '1 THe House on the Hill, California',\n",
       " 'country': 'USA'}"
      ]
     },
     "execution_count": 75,
     "metadata": {},
     "output_type": "execute_result"
    }
   ],
   "source": [
    "dict1.update({'address': '1 THe House on the Hill, California', 'country': 'USA'})\n",
    "dict1"
   ]
  },
  {
   "cell_type": "code",
   "execution_count": 76,
   "metadata": {},
   "outputs": [
    {
     "data": {
      "text/plain": [
       "{'name': 'Prince',\n",
       " 'age': 52,\n",
       " 'occupation': 'Singer',\n",
       " 'address': 'NPG, Minneapolis',\n",
       " 'country': 'USA'}"
      ]
     },
     "execution_count": 76,
     "metadata": {},
     "output_type": "execute_result"
    }
   ],
   "source": [
    "dict2.update({\n",
    "    'name': 'Prince', 'age': 52, 'address': 'NPG, Minneapolis', 'country': 'USA'\n",
    "})\n",
    "dict2"
   ]
  },
  {
   "cell_type": "markdown",
   "metadata": {},
   "source": [
    "### Accessing a Value\n",
    "\n",
    "Accessing a value, use bracket notation. If kry not present, exception raised."
   ]
  },
  {
   "cell_type": "code",
   "execution_count": 77,
   "metadata": {},
   "outputs": [
    {
     "name": "stdout",
     "output_type": "stream",
     "text": [
      "Key not found 'phone'\n"
     ]
    }
   ],
   "source": [
    "try:\n",
    "    dict1['phone']\n",
    "except Exception as error:\n",
    "    print('Key not found', error)"
   ]
  },
  {
   "cell_type": "markdown",
   "metadata": {},
   "source": [
    "Alternatively, use `get`. exception not thrown, returns `None` if not found. Or pass an error message as an optional 2nd arg."
   ]
  },
  {
   "cell_type": "code",
   "execution_count": 78,
   "metadata": {},
   "outputs": [
    {
     "name": "stdout",
     "output_type": "stream",
     "text": [
      "None\n"
     ]
    }
   ],
   "source": [
    "print(dict1.get('phone'))"
   ]
  },
  {
   "cell_type": "code",
   "execution_count": 79,
   "metadata": {},
   "outputs": [
    {
     "data": {
      "text/plain": [
       "'Key not found'"
      ]
     },
     "execution_count": 79,
     "metadata": {},
     "output_type": "execute_result"
    }
   ],
   "source": [
    "dict1.get('phone', 'Key not found')"
   ]
  },
  {
   "cell_type": "code",
   "execution_count": 80,
   "metadata": {
    "scrolled": true
   },
   "outputs": [
    {
     "data": {
      "text/plain": [
       "'1 THe House on the Hill, California'"
      ]
     },
     "execution_count": 80,
     "metadata": {},
     "output_type": "execute_result"
    }
   ],
   "source": [
    "dict1.get('address')"
   ]
  },
  {
   "cell_type": "markdown",
   "metadata": {},
   "source": [
    "### Remove a value\n",
    "\n",
    "Use `pop` passing the key as an arg. y default `pop` raises an exception if the key is not present. Prevented by supplying an error message as an optional 2nd arg."
   ]
  },
  {
   "cell_type": "code",
   "execution_count": 81,
   "metadata": {},
   "outputs": [
    {
     "data": {
      "text/plain": [
       "'Key not found'"
      ]
     },
     "execution_count": 81,
     "metadata": {},
     "output_type": "execute_result"
    }
   ],
   "source": [
    "dict1.pop('phone', 'Key not found')"
   ]
  },
  {
   "cell_type": "code",
   "execution_count": 82,
   "metadata": {},
   "outputs": [
    {
     "data": {
      "text/plain": [
       "'1 THe House on the Hill, California'"
      ]
     },
     "execution_count": 82,
     "metadata": {},
     "output_type": "execute_result"
    }
   ],
   "source": [
    "dict1.pop('address', 'Key not found')"
   ]
  },
  {
   "cell_type": "code",
   "execution_count": 83,
   "metadata": {},
   "outputs": [
    {
     "data": {
      "text/plain": [
       "'Key not found'"
      ]
     },
     "execution_count": 83,
     "metadata": {},
     "output_type": "execute_result"
    }
   ],
   "source": [
    "dict1.get('address', 'Key not found')"
   ]
  },
  {
   "cell_type": "markdown",
   "metadata": {},
   "source": [
    "Alternatively use `del` and pass the key as the sole arg. Raises an exception if the key is not present."
   ]
  },
  {
   "cell_type": "code",
   "execution_count": 84,
   "metadata": {},
   "outputs": [
    {
     "name": "stdout",
     "output_type": "stream",
     "text": [
      "Key not found: 'address'\n"
     ]
    }
   ],
   "source": [
    "try:\n",
    "    del(dict1['address'])\n",
    "except Exception as error:\n",
    "    print('Key not found:', error)"
   ]
  },
  {
   "cell_type": "markdown",
   "metadata": {},
   "source": [
    "### Get all keys\n",
    "\n",
    "Use the `list` constructor to return a list of all the keys."
   ]
  },
  {
   "cell_type": "code",
   "execution_count": 85,
   "metadata": {},
   "outputs": [
    {
     "data": {
      "text/plain": [
       "['name', 'age', 'occupation', 'country']"
      ]
     },
     "execution_count": 85,
     "metadata": {},
     "output_type": "execute_result"
    }
   ],
   "source": [
    "list(dict1) # return keys"
   ]
  },
  {
   "cell_type": "markdown",
   "metadata": {},
   "source": [
    "Alternatively, use `keys` to return a `dict_keys` object that can be iterated over."
   ]
  },
  {
   "cell_type": "code",
   "execution_count": 86,
   "metadata": {},
   "outputs": [
    {
     "name": "stdout",
     "output_type": "stream",
     "text": [
      "name: Tom Jones\n",
      "age: 72\n",
      "occupation: Singer\n",
      "country: USA\n"
     ]
    }
   ],
   "source": [
    "for k in dict1.keys():\n",
    "    print('{}: {}'.format(k, dict1[k]))"
   ]
  },
  {
   "cell_type": "markdown",
   "metadata": {},
   "source": [
    "### Get all values\n",
    "\n",
    "Use the `values` method to return a `dict_values` obj that can be iterated over."
   ]
  },
  {
   "cell_type": "code",
   "execution_count": 87,
   "metadata": {},
   "outputs": [
    {
     "name": "stdout",
     "output_type": "stream",
     "text": [
      "Prince\n",
      "52\n",
      "Singer\n",
      "NPG, Minneapolis\n",
      "USA\n"
     ]
    }
   ],
   "source": [
    "for v in dict2.values():\n",
    "    print(v)"
   ]
  },
  {
   "cell_type": "markdown",
   "metadata": {},
   "source": [
    "Alternatively, pass the `dict_values` object to `list`, returns a list of all values."
   ]
  },
  {
   "cell_type": "code",
   "execution_count": 88,
   "metadata": {},
   "outputs": [
    {
     "data": {
      "text/plain": [
       "['Prince', 52, 'Singer', 'NPG, Minneapolis', 'USA']"
      ]
     },
     "execution_count": 88,
     "metadata": {},
     "output_type": "execute_result"
    }
   ],
   "source": [
    "list(dict2.values()) # return values"
   ]
  },
  {
   "cell_type": "code",
   "execution_count": 89,
   "metadata": {},
   "outputs": [
    {
     "data": {
      "text/plain": [
       "['name', 'age', 'occupation', 'address', 'country']"
      ]
     },
     "execution_count": 89,
     "metadata": {},
     "output_type": "execute_result"
    }
   ],
   "source": [
    "list(dict2) # return keys"
   ]
  },
  {
   "cell_type": "markdown",
   "metadata": {},
   "source": [
    "### Get items (keys and values)\n",
    "\n",
    "Use `items`, returns a `dict_list` obj that can be iterated over."
   ]
  },
  {
   "cell_type": "code",
   "execution_count": 90,
   "metadata": {
    "scrolled": true
   },
   "outputs": [
    {
     "name": "stdout",
     "output_type": "stream",
     "text": [
      "name: Prince\n",
      "age: 52\n",
      "occupation: Singer\n",
      "address: NPG, Minneapolis\n",
      "country: USA\n"
     ]
    }
   ],
   "source": [
    "oscars = {\n",
    "    \"Best Picture\": \"Moonlight\", \n",
    "    \"Best Actor\": \"Casey Affleck\", \n",
    "    \"Best Actress\": \"Emma Stone\", \n",
    "    \"Animated Feature\": \"Zootopia\"\n",
    "}\n",
    "for k,v in dict2.items():\n",
    "    print('{}: {}'.format(k,v))"
   ]
  }
 ],
 "metadata": {
  "kernelspec": {
   "display_name": "Python 3",
   "language": "python",
   "name": "python3"
  },
  "language_info": {
   "codemirror_mode": {
    "name": "ipython",
    "version": 3
   },
   "file_extension": ".py",
   "mimetype": "text/x-python",
   "name": "python",
   "nbconvert_exporter": "python",
   "pygments_lexer": "ipython3",
   "version": "3.6.7"
  }
 },
 "nbformat": 4,
 "nbformat_minor": 2
}
