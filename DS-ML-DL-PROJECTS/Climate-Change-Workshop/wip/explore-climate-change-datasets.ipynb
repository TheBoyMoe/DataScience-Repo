{
 "cells": [
  {
   "cell_type": "markdown",
   "metadata": {},
   "source": [
    "# Exploratory Data Analysis"
   ]
  },
  {
   "cell_type": "code",
   "execution_count": 5,
   "metadata": {},
   "outputs": [],
   "source": [
    "import pandas as pd\n",
    "import numpy as np\n",
    "import seaborn as sns\n",
    "\n",
    "sns.set_style(\"whitegrid\")\n",
    "sns.set_palette(\"pastel\")\n",
    "%matplotlib inline"
   ]
  },
  {
   "cell_type": "code",
   "execution_count": 6,
   "metadata": {},
   "outputs": [
    {
     "name": "stdout",
     "output_type": "stream",
     "text": [
      "<class 'pandas.core.frame.DataFrame'>\n",
      "RangeIndex: 9870 entries, 0 to 9869\n",
      "Data columns (total 5 columns):\n",
      "ISO_CODE                    9870 non-null object\n",
      "ISO_NAME                    9870 non-null object\n",
      "Year                        9870 non-null int64\n",
      "GHG per capita emissions    9030 non-null float64\n",
      "CO2/cap                     9870 non-null float64\n",
      "dtypes: float64(2), int64(1), object(2)\n",
      "memory usage: 385.6+ KB\n"
     ]
    }
   ],
   "source": [
    "data = pd.read_csv('../data/CO2Emm_Global_1970-16.csv')\n",
    "data.info()"
   ]
  },
  {
   "cell_type": "code",
   "execution_count": 7,
   "metadata": {},
   "outputs": [
    {
     "name": "stdout",
     "output_type": "stream",
     "text": [
      "<class 'pandas.core.frame.DataFrame'>\n",
      "RangeIndex: 182 entries, 0 to 181\n",
      "Data columns (total 4 columns):\n",
      "stk_flow    182 non-null object\n",
      "geo         182 non-null object\n",
      "Year        182 non-null int64\n",
      "Value       182 non-null float64\n",
      "dtypes: float64(1), int64(1), object(2)\n",
      "memory usage: 5.8+ KB\n"
     ]
    }
   ],
   "source": [
    "data = pd.read_csv('../data/EconLossesEU.csv')\n",
    "data.info()"
   ]
  },
  {
   "cell_type": "code",
   "execution_count": 8,
   "metadata": {},
   "outputs": [
    {
     "name": "stdout",
     "output_type": "stream",
     "text": [
      "<class 'pandas.core.frame.DataFrame'>\n",
      "RangeIndex: 629 entries, 0 to 628\n",
      "Data columns (total 3 columns):\n",
      "Year                               629 non-null int64\n",
      "kg of oil equivalent per capita    629 non-null object\n",
      "Country                            629 non-null object\n",
      "dtypes: int64(1), object(2)\n",
      "memory usage: 14.8+ KB\n"
     ]
    }
   ],
   "source": [
    "data = pd.read_csv('../data/EU_EngConsPerCap_00-16.csv')\n",
    "data.info()"
   ]
  },
  {
   "cell_type": "code",
   "execution_count": 10,
   "metadata": {},
   "outputs": [
    {
     "name": "stdout",
     "output_type": "stream",
     "text": [
      "<class 'pandas.core.frame.DataFrame'>\n",
      "RangeIndex: 6720 entries, 0 to 6719\n",
      "Data columns (total 6 columns):\n",
      "Year         6720 non-null int64\n",
      "Country      6720 non-null object\n",
      "Units        6720 non-null object\n",
      "Product      6720 non-null object\n",
      "Indicator    6720 non-null object\n",
      "Value        6720 non-null object\n",
      "dtypes: int64(1), object(5)\n",
      "memory usage: 315.1+ KB\n"
     ]
    }
   ],
   "source": [
    "data = pd.read_csv('../data/EU_RenewableEng_Prod_05-16.csv')\n",
    "data.info()"
   ]
  },
  {
   "cell_type": "code",
   "execution_count": 12,
   "metadata": {},
   "outputs": [
    {
     "name": "stdout",
     "output_type": "stream",
     "text": [
      "<class 'pandas.core.frame.DataFrame'>\n",
      "RangeIndex: 1768 entries, 0 to 1767\n",
      "Data columns (total 4 columns):\n",
      "indic_en    1768 non-null object\n",
      "Year        1768 non-null int64\n",
      "Percent     1768 non-null object\n",
      "Country     1768 non-null object\n",
      "dtypes: int64(1), object(3)\n",
      "memory usage: 55.3+ KB\n"
     ]
    }
   ],
   "source": [
    "data = pd.read_csv('../data/RenewableEnergy_EU_04-16.csv')\n",
    "data.info()"
   ]
  }
 ],
 "metadata": {
  "kernelspec": {
   "display_name": "Python 3",
   "language": "python",
   "name": "python3"
  },
  "language_info": {
   "codemirror_mode": {
    "name": "ipython",
    "version": 3
   },
   "file_extension": ".py",
   "mimetype": "text/x-python",
   "name": "python",
   "nbconvert_exporter": "python",
   "pygments_lexer": "ipython3",
   "version": "3.6.7"
  }
 },
 "nbformat": 4,
 "nbformat_minor": 2
}
