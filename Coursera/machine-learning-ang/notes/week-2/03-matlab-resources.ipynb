{
 "cells": [
  {
   "cell_type": "markdown",
   "metadata": {},
   "source": [
    "# Matlab Resources"
   ]
  },
  {
   "cell_type": "markdown",
   "metadata": {},
   "source": [
    "### Getting Started\n",
    "\n",
    "[What is Matlab](https://www.youtube.com/watch?v=WYG2ZZjgp5M&feature=youtu.be)*  \n",
    "[Matlab Variables](https://www.youtube.com/watch?v=0w9NKt6Fixk&feature=youtu.be)*  \n",
    "[Matlab as a calculator](https://www.youtube.com/watch?v=aRSkNpCSgWY&feature=youtu.be)*  \n",
    "[Matlab Functions](https://www.youtube.com/watch?v=RJp46UVQBic&feature=youtu.be)*  "
   ]
  },
  {
   "cell_type": "markdown",
   "metadata": {},
   "source": [
    "### Vectors\n",
    "\n",
    "[Creating Vectors](https://www.youtube.com/watch?v=R5Mnkrk9Mos&feature=youtu.be)*  \n",
    "[Creating Uniformaly spaced Vectors](https://www.youtube.com/watch?v=_zqTOV5yl8Y&feature=youtu.be)**  \n",
    "[Accessing Elements of a Vector using conditions](https://www.youtube.com/watch?v=8D04GW_foQ0&feature=youtu.be)*  \n",
    "[Calculations with vectors](https://www.youtube.com/watch?v=VQaZ0TvjF0c&feature=youtu.be)*  \n",
    "[Vector Transpose](https://www.youtube.com/watch?v=vgRLwjHBmsg&feature=youtu.be)  "
   ]
  },
  {
   "cell_type": "markdown",
   "metadata": {},
   "source": [
    "### Visualization\n",
    "\n",
    "[Line Plots](https://www.youtube.com/watch?v=-hhJoveE4sY&feature=youtu.be)*  \n",
    "[Annotating Plots](https://www.youtube.com/watch?v=JyovEGPSdoI&feature=youtu.be)*  \n",
    "[Multiple Plots](https://www.youtube.com/watch?v=fBx8EFuXFLM&feature=youtu.be)*  "
   ]
  },
  {
   "cell_type": "markdown",
   "metadata": {},
   "source": [
    "### Matrices\n",
    "\n",
    "[Creating Matrices](https://www.youtube.com/watch?v=qdTdwTh6jMo&feature=youtu.be)*  \n",
    "[Calculating Matrices](https://www.youtube.com/watch?v=mzzJ9gnMrYE&feature=youtu.be)*  \n",
    "[Accessing Elements in Matrices](https://www.youtube.com/watch?v=uWPHxpTuZRA&feature=youtu.be)*  \n",
    "[Matrix Creating Functions](https://www.youtube.com/watch?v=VPcbpVd_mPA&feature=youtu.be)*  \n",
    "[Combining Matricies](https://www.youtube.com/watch?v=ejTr3ekTTyA&feature=youtu.be)  \n",
    "[Determining Array Size and Length](https://www.youtube.com/watch?v=IF9-ffmxuy8&feature=youtu.be)  \n",
    "[Matrix Multiplication](https://www.youtube.com/watch?v=4hsx3bdNjGk&feature=youtu.be)  \n",
    "[Reshaping Arrays](https://www.youtube.com/watch?v=UQpDIHlFo8A&feature=youtu.be)  \n",
    "[Statistical Functions with Matricies](https://www.youtube.com/watch?v=Y97W3_u7cM4&feature=youtu.be)  "
   ]
  },
  {
   "cell_type": "markdown",
   "metadata": {},
   "source": [
    "### Matlab Programming\n",
    "\n",
    "[Logical Variables](https://www.youtube.com/watch?v=bRMg4GsFDQ8&feature=youtu.be)*  \n",
    "[If-Else Statements](https://www.youtube.com/watch?v=JZSuU-Laigo&feature=youtu.be)*  \n",
    "[Writing a For Loop](https://www.youtube.com/watch?v=lg65bzgvI5c&feature=youtu.be)*  \n",
    "[Writing a While Loop](https://www.youtube.com/watch?v=PKH5lCMJXbk&feature=youtu.be)  \n",
    "[Writing Functions](https://www.youtube.com/watch?v=GrcNN04eqXU&feature=youtu.be)  \n",
    "[Passing Functions as Inputs](https://www.youtube.com/watch?v=aNCwR9dRjHs&feature=youtu.be)  "
   ]
  },
  {
   "cell_type": "markdown",
   "metadata": {},
   "source": [
    "### Troubleshooting\n",
    "\n",
    "[Using Online Docs](https://www.youtube.com/watch?v=54n5zJwR8aM&feature=youtu.be)*  \n",
    "[Which Variable of File am I using?](https://www.youtube.com/watch?v=Z09BvGeYNdE&feature=youtu.be)  \n",
    "[Using the Debuggger](https://www.youtube.com/watch?v=DB4aJMnZtNQ&feature=youtu.be)  "
   ]
  }
 ],
 "metadata": {
  "kernelspec": {
   "display_name": "Python 3",
   "language": "python",
   "name": "python3"
  },
  "language_info": {
   "codemirror_mode": {
    "name": "ipython",
    "version": 3
   },
   "file_extension": ".py",
   "mimetype": "text/x-python",
   "name": "python",
   "nbconvert_exporter": "python",
   "pygments_lexer": "ipython3",
   "version": "3.6.7"
  }
 },
 "nbformat": 4,
 "nbformat_minor": 2
}
