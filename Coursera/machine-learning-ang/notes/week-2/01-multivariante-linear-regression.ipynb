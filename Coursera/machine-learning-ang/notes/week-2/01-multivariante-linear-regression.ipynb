{
 "cells": [
  {
   "cell_type": "markdown",
   "metadata": {},
   "source": [
    "# Multivariante Linear Regression"
   ]
  },
  {
   "cell_type": "markdown",
   "metadata": {},
   "source": [
    "### Multiple Features\n",
    "\n",
    "![Multivariant Linear regression](imgs/multivariante-linear-regression-1.png)\n",
    "\n",
    "![Multivariant Linear regression](imgs/multivariante-linear-regression-2.png)\n",
    "\n",
    "![Multivariant Linear regression](imgs/multivariante-linear-regression-3.png)"
   ]
  },
  {
   "cell_type": "markdown",
   "metadata": {},
   "source": [
    "### Gradient Descent for Multiple Features/Variables\n",
    "\n",
    "![Multivariant Linear regression](imgs/multivariante-linear-regression-4.png)\n",
    "\n",
    "![Multivariant Linear regression](imgs/multivariante-linear-regression-5.png)\n",
    "\n",
    "![Multivariant Linear regression](imgs/multivariante-linear-regression-6.png)"
   ]
  },
  {
   "cell_type": "markdown",
   "metadata": {},
   "source": [
    "### Feature Scaling\n",
    "\n",
    "**Note**: 6:20 - The average size of a house is 1000 but 100 is accidentally written instead in the video.\n",
    "\n",
    "We can speed up gradient descent by having each of our input values in roughly the same range. This is because θ will descend quickly on small ranges and slowly on large ranges, and so will oscillate inefficiently down to the optimum when the variables are very uneven.\n",
    "\n",
    "The way to prevent this is to modify the ranges of our input variables so that they are all roughly the same. Ideally:\n",
    "\n",
    "![Multivariant Linear regression](imgs/multivariante-linear-regression-7.png)\n",
    "\n",
    "These aren't exact requirements; we are only trying to speed things up. The goal is to get all input variables into roughly one of these ranges, give or take a few.\n",
    "\n",
    "Two techniques to help with this are **feature scaling** and **mean normalization**. Feature scaling involves dividing the input values by the range (i.e. the maximum value minus the minimum value) of the input variable, resulting in a new range of just 1. Mean normalization involves subtracting the average value for an input variable from the values for that input variable resulting in a new average value for the input variable of just zero. To implement both of these techniques, adjust your input values as shown in this formula:\n",
    "\n",
    "![Multivariant Linear regression](imgs/multivariante-linear-regression-8.png)"
   ]
  },
  {
   "cell_type": "markdown",
   "metadata": {},
   "source": [
    "### Gradient Descent in Practice\n",
    "\n",
    "![Multivariant Linear regression](imgs/multivariante-linear-regression-9.png)\n",
    "\n",
    "![Multivariant Linear regression](imgs/multivariante-linear-regression-10.png)\n",
    "\n",
    "![Multivariant Linear regression](imgs/multivariante-linear-regression-11.png)\n",
    "\n",
    "![Multivariant Linear regression](imgs/multivariante-linear-regression-12.png)\n",
    "\n",
    "![Multivariant Linear regression](imgs/multivariante-linear-regression-13.png)"
   ]
  },
  {
   "cell_type": "markdown",
   "metadata": {},
   "source": [
    "### Features and Polynomial Regression\n",
    "\n",
    "![Multivariant Linear regression](imgs/multivariante-linear-regression-14.png)"
   ]
  },
  {
   "cell_type": "markdown",
   "metadata": {},
   "source": [
    "# Normal Equation\n",
    "\n",
    "**Note**: \n",
    "\n",
    "8:00 to 8:44 - The design matrix X (in the bottom right side of the slide) given in the example should have elements x with subscript 1 and superscripts varying from 1 to m because for all m training sets there are only 2 features x_0 and x_1 \n",
    "\n",
    "12:56 - The X matrix is m by (n+1) and NOT n by n.\n",
    "\n",
    "Gradient descent gives one way of minimizing J. Let’s discuss a second way of doing so, this time performing the minimization explicitly and without resorting to an iterative algorithm. In the \"Normal Equation\" method, we will minimize J by explicitly taking its derivatives with respect to the θj’s, and setting them to zero. This allows us to find the optimum theta without iteration. The normal equation formula is given below:\n",
    "\n",
    "![Multivariant Linear regression](imgs/multivariante-linear-regression-15.png)\n",
    "\n",
    "![Multivariant Linear regression](imgs/multivariante-linear-regression-16.png)\n",
    "\n",
    "![Multivariant Linear regression](imgs/multivariante-linear-regression-17.png)"
   ]
  },
  {
   "cell_type": "markdown",
   "metadata": {},
   "source": [
    "### Normal Equation Non-Invertibility\n",
    "\n",
    "When implementing the normal equation in octave we want to use the 'pinv' function rather than 'inv.' The 'pinv' function will give you a value of θ even if X^TX (Xpow(T) * X) is not invertible.\n",
    "\n",
    "If X^TX is noninvertible, the common causes might be having :\n",
    "\n",
    "- Redundant features, where two features are very closely related (i.e. they are linearly dependent)\n",
    "- Too many features (e.g. m ≤ n). In this case, delete some features or use \"regularization\" (to be explained in a later lesson).\n",
    "\n",
    "Solutions to the above problems include deleting a feature that is linearly dependent with another or deleting one or more features when there are too many features."
   ]
  }
 ],
 "metadata": {
  "kernelspec": {
   "display_name": "Python 3",
   "language": "python",
   "name": "python3"
  },
  "language_info": {
   "codemirror_mode": {
    "name": "ipython",
    "version": 3
   },
   "file_extension": ".py",
   "mimetype": "text/x-python",
   "name": "python",
   "nbconvert_exporter": "python",
   "pygments_lexer": "ipython3",
   "version": "3.6.7"
  }
 },
 "nbformat": 4,
 "nbformat_minor": 2
}
