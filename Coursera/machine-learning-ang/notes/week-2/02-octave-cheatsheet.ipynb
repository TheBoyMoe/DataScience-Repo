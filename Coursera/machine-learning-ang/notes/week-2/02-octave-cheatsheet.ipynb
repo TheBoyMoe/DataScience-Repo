{
 "cells": [
  {
   "cell_type": "markdown",
   "metadata": {},
   "source": [
    "# Octave Cheatsheet"
   ]
  },
  {
   "cell_type": "markdown",
   "metadata": {},
   "source": [
    "### Basic Operations\n",
    "\n",
    "help [command] # returns help docs for that command\n",
    "\n",
    "comment symbol: '%'\n",
    "\n",
    "supress result display: ';' (semi-colon)\n",
    "\n",
    "Math operators: +, -, /, *, ^ (power)\n",
    "\n",
    "Equality operators: '==', '~=' (tilda=)\n",
    "\n",
    "Logical AND/OR: &&, ||\n",
    "\n",
    "print results: disp()\n",
    "\n",
    "format strings: sprintf('dummy txt: %0.2f 0.4f', a, b) # returns formatted string\n",
    "\n",
    "Note: use single quotes, '', to represent strings\n",
    "\n",
    "who --> tells you all the variables that are loaded into the workspace\n",
    "\n",
    "whos --> detailed view of workspace, names, size, data type\n",
    "\n",
    "clear --> deletes ALL variables from the workspace\n",
    "\n",
    "clear <var_name> --> deletes that variable from the workspace\n",
    "\n"
   ]
  },
  {
   "cell_type": "markdown",
   "metadata": {},
   "source": [
    "### Vectors and Matrices\n",
    "\n",
    "**vectors**\n",
    "```py\n",
    "[3 4 5 6 7] # 5 * 1 vector, 5-D vector(1 * 3 matrix)\n",
    "\n",
    "[3; 4; 5; 6; 7] # 1 * 5 vector(column vector - 5 * 1 matrix)\n",
    "\n",
    "1:0.1:2 # starting at 1, increment by 0.1, upto 2(10 * 1 vector, 1 * 10 matrix)\n",
    "```\n",
    "\n",
    "**matrices**\n",
    "```py\n",
    "[2 3; 4 5; 5 6] # 3 * 2 ';' move to next row\n",
    "\n",
    "ones(4,3) # 4 * 3 matrix of 1s\n",
    "\n",
    "ones(4,3) + 1 # 4 * 3 matrix of 2s\n",
    "\n",
    "zeros(3,4) # 3 * 4 matrix of 0s\n",
    "\n",
    "matrix * n # multiplies each element by n, same for '+', '-' and '/'\n",
    "\n",
    "rand(5,3) # 5 * 3 matrix of random numbers\n",
    "\n",
    "randn(5,3) # 5 * 3 matrix drawn from a gaussian distribution\n",
    "\n",
    "eye(5) # 5 * 5 identity matrix -> diagonal row of 1s\n",
    "\n",
    "size([matrix]) # return matrix shape, row by columns\n",
    "\n",
    "length([vector]) # length of vector\n",
    "\n",
    "# get a particular elements from a matrix\n",
    "<matrix>(3,4) # 3rd row, 4th column\n",
    "```"
   ]
  },
  {
   "cell_type": "markdown",
   "metadata": {},
   "source": [
    "### Loading and Saving Files\n",
    "\n",
    "```py\n",
    "# change working dir, within quotes when there is a space in folder names:\n",
    "cd 'path/to/file' \n",
    "\n",
    "# load a file into Octave workspace\n",
    "load <file_name> # file loaded into workspace, assigned to variable of filename\n",
    "\n",
    "# save the value assigned to variable to disk\n",
    "save <file_name> <var_name> \n",
    "\n",
    "# save as a txt file\n",
    "save <file_name.txt> <var_name> -ascii\n",
    "```"
   ]
  }
 ],
 "metadata": {
  "kernelspec": {
   "display_name": "Python 3",
   "language": "python",
   "name": "python3"
  },
  "language_info": {
   "codemirror_mode": {
    "name": "ipython",
    "version": 3
   },
   "file_extension": ".py",
   "mimetype": "text/x-python",
   "name": "python",
   "nbconvert_exporter": "python",
   "pygments_lexer": "ipython3",
   "version": "3.6.7"
  }
 },
 "nbformat": 4,
 "nbformat_minor": 2
}
