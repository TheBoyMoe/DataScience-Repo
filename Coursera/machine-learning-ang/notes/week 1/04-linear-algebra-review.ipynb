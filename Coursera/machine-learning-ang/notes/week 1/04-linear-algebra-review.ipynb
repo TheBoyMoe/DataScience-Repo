{
 "cells": [
  {
   "cell_type": "markdown",
   "metadata": {},
   "source": [
    "# Linear Algebra Review"
   ]
  },
  {
   "cell_type": "markdown",
   "metadata": {},
   "source": [
    "### Matrices and Vectors\n",
    "\n",
    "Matrices are 2-D arrays, the follwing matrix has 4 rows x 3 columns(4 x 3):\n",
    "\n",
    "![Linear Algebra](imgs/linear-algebra-1.png)\n",
    "\n",
    "A vector is a matrix with one column and many rows. Vectors are a subset of matrices. The following vector is a 4 x 1 matrix.\n",
    "\n",
    "![Linear Algebra](imgs/linear-algebra-2.png)\n",
    "\n",
    "![Linear Algebra](imgs/linear-algebra-3.png)"
   ]
  },
  {
   "cell_type": "markdown",
   "metadata": {},
   "source": [
    "### Addition, Subtraction and Scalar Mutiplication(Division)\n",
    "\n",
    "**Note**:\n",
    "\n",
    "- When adding or subtracticing matrices, they **MUST** be of the same dimension.\n",
    "- The operation is **element-wise**\n",
    "\n",
    "- When multiplying/dividing a matrix by a scalar, multiply/divide each element in turn by the scalar.\n",
    "\n",
    "![Linear Algebra](imgs/linear-algebra-4.png)"
   ]
  },
  {
   "cell_type": "markdown",
   "metadata": {},
   "source": [
    "### Matrix-Vector Mutiplication\n",
    "\n",
    "We map the column of the vector onto each row of the matrix, multiplying each element and summing the result.\n",
    "\n",
    "![Linear Algebra](imgs/linear-algebra-5.png)\n",
    "\n",
    "The result is a vector. The number of **columns** of the matrix must equal the number of **rows** of the vector.\n",
    "\n",
    "An **m x n matrix** multiplied by an **n x 1** vector results in an **m x 1** vector.\n",
    "\n",
    "![Linear Algebra](imgs/linear-algebra-6.png)"
   ]
  },
  {
   "cell_type": "markdown",
   "metadata": {},
   "source": [
    "### Matrix-Matrix Multiplication\n",
    "\n",
    "We multiply two matrices by breaking it into several vector multiplications and concatenating the result.\n",
    "\n",
    "![Linear Algebra](imgs/linear-algebra-7.png)\n",
    "\n",
    "An **m x n** matrix multiplied by an **n x o** matrix results in an **m x o** matrix. In the above example, a **3 x 2** matrix times a **2 x 2** matrix resulted in a **3 x 2** matrix.\n",
    "\n",
    "To multiply two matrices, the number of **columns** of the first matrix must **equal** the number of **rows** of the second matrix."
   ]
  },
  {
   "cell_type": "markdown",
   "metadata": {},
   "source": [
    "### Matrix Multiplication Properties\n",
    "\n",
    "![Linear Algebra](imgs/linear-algebra-8.png)\n",
    "\n",
    "The **identity matrix**, when multiplied by any matrix of the same dimensions, results in the original matrix. It's just like multiplying numbers by 1. The identity matrix simply has 1's on the diagonal (upper left to lower right diagonal) and 0's elsewhere.\n",
    "\n",
    "![Linear Algebra](imgs/linear-algebra-9.png)\n",
    "\n",
    "When multiplying the identity matrix after some matrix (A∗I), the square identity matrix's dimension should match the other matrix's columns. When multiplying the identity matrix before some other matrix (I∗A), the square identity matrix's dimension should match the other matrix's rows."
   ]
  },
  {
   "cell_type": "markdown",
   "metadata": {},
   "source": [
    "### Inverse and Transpose\n",
    "\n",
    "The inverse of a matrix A is denoted A^(-1). Multiplying by the inverse results in the identity matrix.\n",
    "\n",
    "A non square matrix does not have an inverse matrix. We can compute inverses of matrices in octave with the pinv(A) function and in Matlab with the inv(A) function. Matrices that don't have an inverse are singular or degenerate.\n",
    "\n",
    "The transposition of a matrix is like rotating the matrix 90° in clockwise direction and then reversing it. We can compute transposition of matrices in matlab with the transpose(A) function or A':\n",
    "\n",
    "![Linear Algebra](imgs/linear-algebra-10.png)"
   ]
  }
 ],
 "metadata": {
  "kernelspec": {
   "display_name": "Python 3",
   "language": "python",
   "name": "python3"
  },
  "language_info": {
   "codemirror_mode": {
    "name": "ipython",
    "version": 3
   },
   "file_extension": ".py",
   "mimetype": "text/x-python",
   "name": "python",
   "nbconvert_exporter": "python",
   "pygments_lexer": "ipython3",
   "version": "3.6.7"
  }
 },
 "nbformat": 4,
 "nbformat_minor": 2
}
