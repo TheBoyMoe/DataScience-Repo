{
 "cells": [
  {
   "cell_type": "markdown",
   "metadata": {},
   "source": [
    "# Linear Regression\n",
    "\n",
    "Linear regression is used to determine the extent to which there is a linear relationship between a dependent variable(target/label) and one or more independent variables(features). There are two types of linear regression, **simple linear regression** and **multiple linear regression**.\n",
    "\n",
    "- in simple linear regression a single independent variable is used to predict the value of a dependent variable. \n",
    "- in multiple linear regression two or more independent variables are used to predict the value of a dependent variable. \n",
    "\n",
    "The difference between the two is the number of independent variables. In both cases there is only a single dependent variable.\n",
    "\n",
    "The dependent variable must be measured on a continuous measurement scale (e.g. 0-100 test score) and the independent variable(s) can be measured on either a categorical (e.g. male versus female) or continuous measurement scale.\n",
    "\n",
    "**Note**:\n",
    "\n",
    "Simple linear regression is similar to **correlation** in that the purpose is to measure to what extent there is a linear relationship between two variables. The major difference between the two is that correlation makes no distinction between independent and dependent variables while linear regression does. In particular, the purpose of linear regression is to \"predict\" the value of the dependent variable based upon the values of one or more independent variables."
   ]
  },
  {
   "cell_type": "markdown",
   "metadata": {},
   "source": [
    "However, most real world phenomena are multi-factorial in nature, meaning there is more than one factor that impacts on, or causes changes in the dependent variable. In order to predict the dependent variable as accurately as possible, it is usually necessary to include multiple independent variables in the model. Multiple linear regression allows us to test how well we can predict a dependent variable on the basis of multiple independent variables.\n",
    "\n",
    "Suppose you have a data set consisting of the gender, height and age of children between 5 and 10 years old. You could use multiple linear regression to predict the height of a child (dependent variable) using both age and gender as predictors (i.e., two independent variables)."
   ]
  }
 ],
 "metadata": {
  "kernelspec": {
   "display_name": "Python 3",
   "language": "python",
   "name": "python3"
  },
  "language_info": {
   "codemirror_mode": {
    "name": "ipython",
    "version": 3
   },
   "file_extension": ".py",
   "mimetype": "text/x-python",
   "name": "python",
   "nbconvert_exporter": "python",
   "pygments_lexer": "ipython3",
   "version": "3.6.7"
  }
 },
 "nbformat": 4,
 "nbformat_minor": 2
}
