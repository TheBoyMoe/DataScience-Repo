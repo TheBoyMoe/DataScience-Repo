{
 "cells": [
  {
   "cell_type": "markdown",
   "metadata": {},
   "source": [
    "# Model and Cost Function"
   ]
  },
  {
   "cell_type": "markdown",
   "metadata": {},
   "source": [
    "### Model Representation\n",
    "\n",
    "To establish notation for future use, we’ll use `x^(i)` to denote the “input” variables (living area in this example), also called input features, and `y^(i)` to denote the “output” or target variable that we are trying to predict (price). A pair `(x^(i), y^(i))` is called a training example, and the dataset that we’ll be using to learn—a list of `m` training examples `(x^(i), y^(i));i=1,...,m` - is called a training set. \n",
    "\n",
    "**Note** that the superscript `(i)` in the notation is simply an index into the training set, and has nothing to do with exponentiation. We will also use `X` to denote the space of input values, and `Y` to denote the space of output values. In this example, `X = Y = ℝ`.\n",
    "\n",
    "To describe the supervised learning problem slightly more formally, our goal is, given a training set, to learn a function `h : X → Y` so that `h(x)` is a “good” predictor for the corresponding value of `y`. For historical reasons, this function `h` is called a `hypothesis`. Seen pictorially, the process is therefore like this:\n",
    "\n",
    "![Linear Regression Model](imgs/linear-regression-1.png)\n",
    "\n",
    "When the target variable that we’re trying to predict is continuous, such as in our housing example, we call the learning problem a **regression problem**. When y can take on only a small number of discrete values (such as if, given the living area, we wanted to predict if a dwelling is a house or an apartment, say), we call it a **classification problem**."
   ]
  },
  {
   "cell_type": "markdown",
   "metadata": {},
   "source": [
    "### Cost Function\n",
    "\n",
    "We can measure the accuracy of our hypothesis function by using a **cost function**. This takes an average difference (actually a fancier version of an average) of all the results of the hypothesis with inputs from `x`'s and the actual output `y`'s.\n",
    "\n",
    "![Cost Function](imgs/cost-function-1.png)\n",
    "\n",
    "This function is otherwise called the \"Squared error function\", or \"Mean squared error\". The mean is halved `(1/2)` as a convenience for the computation of the gradient descent, as the derivative term of the square function will cancel out the `1/2` term. The following image summarizes what the cost function does:\n",
    "\n",
    "![Cost Function](imgs/cost-function-2.png)"
   ]
  },
  {
   "cell_type": "markdown",
   "metadata": {},
   "source": [
    "### Cost Function - Intuition I\n",
    "\n",
    "If we try to think of it in visual terms, our training data set is scattered on the x-y plane. We are trying to make a straight line (defined by hθ(x) which passes through these scattered data points.\n",
    "\n",
    "Our objective is to get the best possible line. The best possible line will be such so that the average squared vertical distances of the scattered points from the line will be the least. Ideally, the line should pass through all the points of our training data set. In such a case, the value of J(θ_0, θ_1) will be 0. The following example shows the ideal situation where we have a cost function of 0.\n",
    "\n",
    "![Cost Function](imgs/cost-function-4.png)\n",
    "\n",
    "When θ_1 = 1, we get a slope of 1 which goes through every single data point in our model. Conversely, when θ = 0.5 we see the vertical distance from our fit to the data points increase.\n",
    "\n",
    "![Cost Function](imgs/cost-function-5.png)\n",
    "\n",
    "This increases our cost function to 0.58. Plotting several other points yields to the following graph:\n",
    "\n",
    "![Cost Function](imgs/cost-function-6.png)\n",
    "\n",
    "Thus as a goal, we should try to minimize the cost function. In this case, θ_1 = 1 is our global minimum."
   ]
  },
  {
   "cell_type": "markdown",
   "metadata": {},
   "source": [
    "### Cost Function - Intuition II\n",
    "\n",
    "A contour plot is a graph that contains many contour lines. A contour line of a two variable function has a constant value at all points of the same line. An example of such a graph is the one to the right below.\n",
    "\n",
    "![Cost Function](imgs/cost-function-7.png)\n",
    "\n",
    "Taking any color and going along the 'circle', one would expect to get the same value of the cost function. For example, the three green points found on the green line above have the same value for J(θ_0,\\θ_1) and as a result, they are found along the same line. The circled x displays the value of the cost function for the graph on the left when θ_0 = 800 and θ_1 = -0.15. Taking another h(x) and plotting its contour plot, one gets the following graphs:\n",
    "\n",
    "\n",
    "![Cost Function](imgs/cost-function-8.png)\n",
    "\n",
    "When θ_0 = 360 and θ_1 = 0, the value of J(θ_0, θ_1) in the contour plot gets closer to the center thus reducing the cost function error. Now giving our hypothesis function a slightly positive slope results in a better fit of the data.\n",
    "\n",
    "![Cost Function](imgs/cost-function-9.png)\n",
    "\n",
    "The graph above minimizes the cost function as much as possible and consequently, the result of θ_1 and θ_0 tend to be around 0.12 and 250 respectively. Plotting those values on our graph to the right seems to put our point in the center of the inner most 'circle'."
   ]
  }
 ],
 "metadata": {
  "kernelspec": {
   "display_name": "Python 3",
   "language": "python",
   "name": "python3"
  },
  "language_info": {
   "codemirror_mode": {
    "name": "ipython",
    "version": 3
   },
   "file_extension": ".py",
   "mimetype": "text/x-python",
   "name": "python",
   "nbconvert_exporter": "python",
   "pygments_lexer": "ipython3",
   "version": "3.6.7"
  }
 },
 "nbformat": 4,
 "nbformat_minor": 2
}
