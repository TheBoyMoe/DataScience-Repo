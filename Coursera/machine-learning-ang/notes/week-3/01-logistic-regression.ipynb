{
 "cells": [
  {
   "cell_type": "markdown",
   "metadata": {},
   "source": [
    "# Logistic Regression\n",
    "\n",
    "Logistic regression is a method for classifying data into discrete outcomes. For example, we might use logistic regression to classify an email as spam or not spam.\n",
    "\n",
    "To attempt classification, one method is to use linear regression and map all predictions greater than 0.5 as a 1 and all less than 0.5 as a 0. However, this method doesn't work well because classification is not actually a linear function.\n",
    "\n",
    "![Logistic Regression](imgs/logistic-regression-1.png)"
   ]
  },
  {
   "cell_type": "markdown",
   "metadata": {},
   "source": [
    "### Hypothesis Representation\n",
    "\n",
    "![Logistic Regression](imgs/logistic-regression-2.png)\n",
    "\n",
    "![Logistic Regression](imgs/logistic-regression-3.png)\n",
    "\n",
    "![Logistic Regression](imgs/logistic-regression-4.png)"
   ]
  },
  {
   "cell_type": "markdown",
   "metadata": {},
   "source": [
    "### Decision Boundary\n",
    "\n",
    "\n",
    "![Logistic Regression](imgs/logistic-regression-5.png)\n",
    "\n",
    "![Logistic Regression](imgs/logistic-regression-6.png)\n",
    "\n",
    "![Logistic Regression](imgs/logistic-regression-7.png)\n",
    "\n",
    "![Logistic Regression](imgs/logistic-regression-8.png)"
   ]
  },
  {
   "cell_type": "markdown",
   "metadata": {},
   "source": [
    "### Logistic regression Cost Function\n",
    "\n",
    "We cannot use the same cost function that we use for linear regression because the Logistic Function will cause the output to be wavy, causing many local optima. In other words, it will not be a convex function.\n",
    "\n",
    "Instead, our cost function for logistic regression looks like:\n",
    "\n",
    "![Logistic Regression](imgs/logistic-regression-9.png)\n",
    "\n",
    "![Logistic Regression](imgs/logistic-regression-10.png)\n",
    "\n",
    "![Logistic Regression](imgs/logistic-regression-11.png)\n",
    "\n",
    "![Logistic Regression](imgs/logistic-regression-12.png)\n",
    "\n",
    "![Logistic Regression](imgs/logistic-regression-13.png)\n",
    "\n",
    "If our correct answer 'y' is 0, then the cost function will be 0 if our hypothesis function also outputs 0. If our hypothesis approaches 1, then the cost function will approach infinity.\n",
    "\n",
    "If our correct answer 'y' is 1, then the cost function will be 0 if our hypothesis function outputs 1. If our hypothesis approaches 0, then the cost function will approach infinity.\n",
    "\n",
    "Note that writing the cost function in this way guarantees that J(θ) is convex for logistic regression."
   ]
  },
  {
   "cell_type": "markdown",
   "metadata": {},
   "source": [
    "### Simplified Cost Function\n",
    "\n",
    "![Logistic Regression](imgs/logistic-regression-14.png)"
   ]
  },
  {
   "cell_type": "markdown",
   "metadata": {},
   "source": [
    "### Gradient Descent\n",
    "\n",
    "![Logistic Regression](imgs/logistic-regression-15.png)"
   ]
  },
  {
   "cell_type": "markdown",
   "metadata": {},
   "source": [
    "### Multiclass Classification - One vs All\n",
    "\n",
    "![Logistic Regression](imgs/logistic-regression-16.png)\n",
    "\n",
    "![Logistic Regression](imgs/logistic-regression-17.png)\n",
    "\n",
    "![Logistic Regression](imgs/logistic-regression-18.png)"
   ]
  }
 ],
 "metadata": {
  "kernelspec": {
   "display_name": "Python 3",
   "language": "python",
   "name": "python3"
  },
  "language_info": {
   "codemirror_mode": {
    "name": "ipython",
    "version": 3
   },
   "file_extension": ".py",
   "mimetype": "text/x-python",
   "name": "python",
   "nbconvert_exporter": "python",
   "pygments_lexer": "ipython3",
   "version": "3.6.7"
  }
 },
 "nbformat": 4,
 "nbformat_minor": 2
}
