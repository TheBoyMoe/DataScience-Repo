{
 "cells": [
  {
   "cell_type": "markdown",
   "metadata": {},
   "source": [
    "# NumPy\n",
    "\n",
    "NumPy(Numerical Python) has many uses including:\n",
    "\n",
    "- efficiently working with many numbers at once\n",
    "- generating random numbers\n",
    "- performing many different numerical functions (i.e., calculating sin, cos, tan, mean, median, etc.)\n",
    "\n",
    "### One Dimensional Arrays\n",
    "\n",
    "One dimensional(1-D) arrays are `single variable` datasets - contain a singe value for each property/data point."
   ]
  },
  {
   "cell_type": "markdown",
   "metadata": {},
   "source": [
    "Start by importing the NumPy package at the top of your file:\n",
    "`import numpy as np`\n",
    "\n",
    "Numpy uses an `array` data structure to organise data items.\n",
    "\n",
    "- can be any data type, including strings, numbers and other arrays (MUST be of the same data type, otherwise numpy will try and upcast the value, e.g. ints cast to floats).\n",
    "- transform a regular list into a NumPy array by using `.array()`\n",
    "- common data types(dtype) include int(8/16/32/64), float(16/32/64/128), bool and string(fixed length)\n",
    "- special numerical types nan(NaN) and inf(Infinity) - use isnan() and isinf() to identify nan and inf values, do not use ==."
   ]
  },
  {
   "cell_type": "code",
   "execution_count": 1,
   "metadata": {},
   "outputs": [
    {
     "data": {
      "text/plain": [
       "array([1, 2, 3, 4, 5, 6])"
      ]
     },
     "execution_count": 1,
     "metadata": {},
     "output_type": "execute_result"
    }
   ],
   "source": [
    "import numpy as np\n",
    "\n",
    "# you can create a numpy array directly from a python list\n",
    "np.array([1,2,3,4,5,6])"
   ]
  },
  {
   "cell_type": "code",
   "execution_count": 2,
   "metadata": {},
   "outputs": [
    {
     "data": {
      "text/plain": [
       "array([1., 2., 3., 4., 5., 6., 7., 8.], dtype=float32)"
      ]
     },
     "execution_count": 2,
     "metadata": {},
     "output_type": "execute_result"
    }
   ],
   "source": [
    "# you can also explicitly set the data type with the `dtype` keyword\n",
    "np.array([1,2,3,4,5,6,7,8], dtype='float32')"
   ]
  },
  {
   "cell_type": "code",
   "execution_count": 3,
   "metadata": {},
   "outputs": [
    {
     "data": {
      "text/plain": [
       "array(['1', '2', '3', '4', '5', '6'], dtype='<U1')"
      ]
     },
     "execution_count": 3,
     "metadata": {},
     "output_type": "execute_result"
    }
   ],
   "source": [
    "np.array([1,2,3,4,5,6], dtype='str')"
   ]
  },
  {
   "cell_type": "code",
   "execution_count": 4,
   "metadata": {
    "scrolled": true
   },
   "outputs": [
    {
     "data": {
      "text/plain": [
       "array([ True, False,  True, False,  True, False])"
      ]
     },
     "execution_count": 4,
     "metadata": {},
     "output_type": "execute_result"
    }
   ],
   "source": [
    "np.array([1,0,1,0,1,0], dtype='bool')"
   ]
  },
  {
   "cell_type": "code",
   "execution_count": 5,
   "metadata": {},
   "outputs": [
    {
     "data": {
      "text/plain": [
       "array([ True,  True,  True,  True, False, False])"
      ]
     },
     "execution_count": 5,
     "metadata": {},
     "output_type": "execute_result"
    }
   ],
   "source": [
    "np.array([1,2,3,4,0,0], dtype='bool')"
   ]
  },
  {
   "cell_type": "code",
   "execution_count": 6,
   "metadata": {},
   "outputs": [
    {
     "data": {
      "text/plain": [
       "[1, 2, 3, 4, 5, 6]"
      ]
     },
     "execution_count": 6,
     "metadata": {},
     "output_type": "execute_result"
    }
   ],
   "source": [
    "# convert a numpy array to python list\n",
    "list(np.array([1,2,3,4,5,6]))"
   ]
  },
  {
   "cell_type": "markdown",
   "metadata": {},
   "source": [
    "You can **import data** directly into numpy arrays from **csv** files using the `.genfromtxt()`. The method takes two arguments, the file path and the delimiter used to separate the values. Optional 3rd arg, `dtype`.\n",
    "\n",
    "Any strings, booleans are replaced by `NaN` when `dtype='float'` and `-1` when the `dtype='int'`."
   ]
  },
  {
   "cell_type": "code",
   "execution_count": 7,
   "metadata": {},
   "outputs": [
    {
     "data": {
      "text/plain": [
       "array([1., 2., 3., 4., 5., 6., 7., 8., 9., 0.])"
      ]
     },
     "execution_count": 7,
     "metadata": {},
     "output_type": "execute_result"
    }
   ],
   "source": [
    "np.genfromtxt('data/sample.csv', delimiter=',')"
   ]
  },
  {
   "cell_type": "code",
   "execution_count": 45,
   "metadata": {},
   "outputs": [
    {
     "data": {
      "text/plain": [
       "array([[      nan,       nan,       nan, ...,       nan,       nan,\n",
       "              nan],\n",
       "       [ 892.    ,    3.    ,       nan, ...,    7.8292,       nan,\n",
       "              nan],\n",
       "       [ 893.    ,    3.    ,       nan, ...,    7.    ,       nan,\n",
       "              nan],\n",
       "       ...,\n",
       "       [1307.    ,    3.    ,       nan, ...,    7.25  ,       nan,\n",
       "              nan],\n",
       "       [1308.    ,    3.    ,       nan, ...,    8.05  ,       nan,\n",
       "              nan],\n",
       "       [1309.    ,    3.    ,       nan, ...,   22.3583,       nan,\n",
       "              nan]])"
      ]
     },
     "execution_count": 45,
     "metadata": {},
     "output_type": "execute_result"
    }
   ],
   "source": [
    "# all the fields in the csv file need to be of the same datatype\n",
    "np.genfromtxt('data/test.csv', delimiter=',', dtype='float')"
   ]
  },
  {
   "cell_type": "code",
   "execution_count": 46,
   "metadata": {},
   "outputs": [
    {
     "data": {
      "text/plain": [
       "array([[  -1,   -1,   -1, ...,   -1,   -1,   -1],\n",
       "       [ 892,    3,   -1, ...,   -1,   -1,   -1],\n",
       "       [ 893,    3,   -1, ...,    7,   -1,   -1],\n",
       "       ...,\n",
       "       [1307,    3,   -1, ...,   -1,   -1,   -1],\n",
       "       [1308,    3,   -1, ...,   -1,   -1,   -1],\n",
       "       [1309,    3,   -1, ...,   -1,   -1,   -1]])"
      ]
     },
     "execution_count": 46,
     "metadata": {},
     "output_type": "execute_result"
    }
   ],
   "source": [
    "np.genfromtxt('./data/test.csv', delimiter=',', dtype='int')"
   ]
  },
  {
   "cell_type": "markdown",
   "metadata": {},
   "source": [
    "### Performing operations on NumPy arrays\n",
    "\n",
    "Numpy arrays are more efficient than lists when performing operations. Numpy arrays allow you to perform 'element-wise operations', e.g. addition/multiplication/etc on elements in the array directly.\n",
    "\n",
    "Note: these operations depend on ALL the elements in the arrays being of the SAME type"
   ]
  },
  {
   "cell_type": "code",
   "execution_count": 10,
   "metadata": {},
   "outputs": [
    {
     "data": {
      "text/plain": [
       "array([ 4,  5,  6,  7,  8,  9, 10, 11])"
      ]
     },
     "execution_count": 10,
     "metadata": {},
     "output_type": "execute_result"
    }
   ],
   "source": [
    "a = np.array([1,2,3,4,5,6,7,8])\n",
    "a += 3\n",
    "a"
   ]
  },
  {
   "cell_type": "code",
   "execution_count": 11,
   "metadata": {},
   "outputs": [
    {
     "data": {
      "text/plain": [
       "array([2, 3, 4, 5, 6, 7, 8, 9])"
      ]
     },
     "execution_count": 11,
     "metadata": {},
     "output_type": "execute_result"
    }
   ],
   "source": [
    "a -= 2\n",
    "a"
   ]
  },
  {
   "cell_type": "code",
   "execution_count": 12,
   "metadata": {},
   "outputs": [
    {
     "data": {
      "text/plain": [
       "array([ 4,  9, 16, 25, 36, 49, 64, 81])"
      ]
     },
     "execution_count": 12,
     "metadata": {},
     "output_type": "execute_result"
    }
   ],
   "source": [
    "a **= 2\n",
    "a"
   ]
  },
  {
   "cell_type": "code",
   "execution_count": 13,
   "metadata": {},
   "outputs": [
    {
     "data": {
      "text/plain": [
       "array([2., 3., 4., 5., 6., 7., 8., 9.])"
      ]
     },
     "execution_count": 13,
     "metadata": {},
     "output_type": "execute_result"
    }
   ],
   "source": [
    "np.sqrt(a)"
   ]
  },
  {
   "cell_type": "markdown",
   "metadata": {},
   "source": [
    "**Adding/Substracting NumPy Arrays**\n",
    "\n",
    "Two (or more) Numpy arrays can be added/multiplied/divided or subtracted. They must have the same number of elements, the arrays must have the same **shape**. Individual elements in the same positions will be added/subtracted. Numpy performs all calculations element-wise (i.e. element by element)."
   ]
  },
  {
   "cell_type": "code",
   "execution_count": 14,
   "metadata": {},
   "outputs": [
    {
     "data": {
      "text/plain": [
       "array([258, 279, 246, 274, 270])"
      ]
     },
     "execution_count": 14,
     "metadata": {},
     "output_type": "execute_result"
    }
   ],
   "source": [
    "test_1 = np.array([92, 94, 88, 91, 87])\n",
    "test_2 = np.array([79, 100, 86, 93, 91])\n",
    "test_3 = np.array([87, 85, 72, 90, 92])\n",
    "test_1 + test_2 + test_3"
   ]
  },
  {
   "cell_type": "code",
   "execution_count": 15,
   "metadata": {},
   "outputs": [
    {
     "data": {
      "text/plain": [
       "array([-6781, -8406, -6104, -8279, -8285])"
      ]
     },
     "execution_count": 15,
     "metadata": {},
     "output_type": "execute_result"
    }
   ],
   "source": [
    "# follows rules of presedence\n",
    "test_1 - test_2 * test_3"
   ]
  },
  {
   "cell_type": "code",
   "execution_count": 16,
   "metadata": {},
   "outputs": [
    {
     "data": {
      "text/plain": [
       "array([193.3164557 , 173.9       , 161.6744186 , 179.06451613,\n",
       "       174.95604396])"
      ]
     },
     "execution_count": 16,
     "metadata": {},
     "output_type": "execute_result"
    }
   ],
   "source": [
    "test_1 / test_2 * test_3 + test_1"
   ]
  },
  {
   "cell_type": "code",
   "execution_count": 17,
   "metadata": {},
   "outputs": [
    {
     "name": "stdout",
     "output_type": "stream",
     "text": [
      "operands could not be broadcast together with shapes (2,) (5,) \n"
     ]
    }
   ],
   "source": [
    "try:\n",
    "    # the arrays must have the same number of values(shape)\n",
    "    test_4 = np.array([10, 20])\n",
    "    test_5 = np.array([1,2,3,4,5])\n",
    "    test_4 + test_5\n",
    "except Exception as error:\n",
    "    print(error)"
   ]
  },
  {
   "cell_type": "markdown",
   "metadata": {},
   "source": [
    "### Selecting Elements\n",
    "\n",
    "You can select elements form a numpy array in the same way you do with Python lists, single lements with positive or negative integers, and ranges to select multiple elements."
   ]
  },
  {
   "cell_type": "code",
   "execution_count": 18,
   "metadata": {},
   "outputs": [
    {
     "data": {
      "text/plain": [
       "array([ 4,  9, 16, 25, 36, 49, 64, 81])"
      ]
     },
     "execution_count": 18,
     "metadata": {},
     "output_type": "execute_result"
    }
   ],
   "source": [
    "a"
   ]
  },
  {
   "cell_type": "code",
   "execution_count": 19,
   "metadata": {},
   "outputs": [
    {
     "data": {
      "text/plain": [
       "49"
      ]
     },
     "execution_count": 19,
     "metadata": {},
     "output_type": "execute_result"
    }
   ],
   "source": [
    "a[-3]"
   ]
  },
  {
   "cell_type": "code",
   "execution_count": 20,
   "metadata": {},
   "outputs": [
    {
     "data": {
      "text/plain": [
       "array([81, 64, 49])"
      ]
     },
     "execution_count": 20,
     "metadata": {},
     "output_type": "execute_result"
    }
   ],
   "source": [
    "# start from -1, and go from back to front(3rd arg)\n",
    "a[-1:-4:-1]"
   ]
  },
  {
   "cell_type": "code",
   "execution_count": 21,
   "metadata": {},
   "outputs": [
    {
     "data": {
      "text/plain": [
       "array([ 4,  9, 16, 25, 36, 49, 64, 81])"
      ]
     },
     "execution_count": 21,
     "metadata": {},
     "output_type": "execute_result"
    }
   ],
   "source": [
    "# the array itself remains unchanged\n",
    "a"
   ]
  },
  {
   "cell_type": "markdown",
   "metadata": {},
   "source": [
    "### Logical Operations\n",
    "\n",
    "You can perform element-wise logical operations on NumPy arrays."
   ]
  },
  {
   "cell_type": "code",
   "execution_count": 22,
   "metadata": {},
   "outputs": [
    {
     "data": {
      "text/plain": [
       "array([False, False,  True,  True,  True,  True,  True,  True])"
      ]
     },
     "execution_count": 22,
     "metadata": {},
     "output_type": "execute_result"
    }
   ],
   "source": [
    "# determine which elements are > 12\n",
    "# the interpreter creates a new numpy array, populates it with the\n",
    "# result of comparing each value in turn\n",
    "a > 12"
   ]
  },
  {
   "cell_type": "code",
   "execution_count": 23,
   "metadata": {},
   "outputs": [
    {
     "data": {
      "text/plain": [
       "array([36, 49, 64, 81])"
      ]
     },
     "execution_count": 23,
     "metadata": {},
     "output_type": "execute_result"
    }
   ],
   "source": [
    "# only return those elements > 32\n",
    "# creates a new array, populating it with those values that 'pass' the comparison\n",
    "a[a > 32]"
   ]
  },
  {
   "cell_type": "code",
   "execution_count": 24,
   "metadata": {},
   "outputs": [
    {
     "data": {
      "text/plain": [
       "array([16, 25, 36])"
      ]
     },
     "execution_count": 24,
     "metadata": {},
     "output_type": "execute_result"
    }
   ],
   "source": [
    "# you can combine logical 'and' and 'or'(you need to surround each evaluation with '()')\n",
    "a[(a > 15) & (a < 45)]"
   ]
  },
  {
   "cell_type": "markdown",
   "metadata": {},
   "source": [
    "You can also compare two numpy arrays element-wise - returns a new array with the values of each elemnts-wise comparison."
   ]
  },
  {
   "cell_type": "code",
   "execution_count": 25,
   "metadata": {},
   "outputs": [
    {
     "data": {
      "text/plain": [
       "array([False,  True,  True, False])"
      ]
     },
     "execution_count": 25,
     "metadata": {},
     "output_type": "execute_result"
    }
   ],
   "source": [
    "import numpy as np\n",
    "\n",
    "my_house = np.array([18.0, 20.0, 10.75, 9.50])\n",
    "your_house = np.array([14.0, 24.0, 14.25, 9.0])\n",
    "\n",
    "my_house < your_house"
   ]
  },
  {
   "cell_type": "code",
   "execution_count": 26,
   "metadata": {},
   "outputs": [
    {
     "name": "stdout",
     "output_type": "stream",
     "text": [
      "[178.56 165.21 189.43]\n"
     ]
    }
   ],
   "source": [
    "import numpy as np\n",
    "\n",
    "heights = [123.34, 143.34, 156.34, 178.56, 165.21, 189.43, 153.54]\n",
    "ages = [23, 43, 34, 54, 46, 65, 25]\n",
    "\n",
    "np_heights = np.array(heights)\n",
    "np_ages = np.array(ages)\n",
    "\n",
    "# return that particular item when evaluation == True\n",
    "# return the heights of anyone over 45 \n",
    "np_results = np_heights[np_ages > 45]\n",
    "\n",
    "print(np_results)"
   ]
  },
  {
   "cell_type": "code",
   "execution_count": 27,
   "metadata": {},
   "outputs": [
    {
     "name": "stdout",
     "output_type": "stream",
     "text": [
      "[123.34 143.34 156.34 153.54]\n"
     ]
    }
   ],
   "source": [
    "# return the heights of people <= 45\n",
    "other_heights = np_heights[np_ages <= 45]\n",
    "print(other_heights)"
   ]
  },
  {
   "cell_type": "markdown",
   "metadata": {},
   "source": [
    "Numpy does not understand `and`, `or` and `not` logical operators, instead use:\n",
    "\n",
    "- `logical_and()`\n",
    "- `logical_or()`\n",
    "- `logical_not()`"
   ]
  },
  {
   "cell_type": "code",
   "execution_count": 28,
   "metadata": {},
   "outputs": [
    {
     "data": {
      "text/plain": [
       "array([ True, False, False,  True, False, False, False])"
      ]
     },
     "execution_count": 28,
     "metadata": {},
     "output_type": "execute_result"
    }
   ],
   "source": [
    "bmi = np.array([21.34, 22.65, 20.67, 21.76, 20.12, 19.87, 24.45])\n",
    "np.logical_and(bmi > 21, bmi < 22) # within the range 21-22"
   ]
  },
  {
   "cell_type": "code",
   "execution_count": 29,
   "metadata": {},
   "outputs": [
    {
     "data": {
      "text/plain": [
       "array([False,  True,  True, False,  True,  True,  True])"
      ]
     },
     "execution_count": 29,
     "metadata": {},
     "output_type": "execute_result"
    }
   ],
   "source": [
    "np.logical_or(bmi < 21, bmi > 22) # outside of the range 21-22"
   ]
  },
  {
   "cell_type": "code",
   "execution_count": 30,
   "metadata": {},
   "outputs": [
    {
     "data": {
      "text/plain": [
       "array([21.34, 21.76])"
      ]
     },
     "execution_count": 30,
     "metadata": {},
     "output_type": "execute_result"
    }
   ],
   "source": [
    "# return those values that lie within the range 21.0-22.0\n",
    "bmi[np.logical_and(bmi > 21, bmi < 22)]"
   ]
  },
  {
   "cell_type": "code",
   "execution_count": 31,
   "metadata": {},
   "outputs": [
    {
     "data": {
      "text/plain": [
       "array([22.65, 20.67, 20.12, 19.87, 24.45])"
      ]
     },
     "execution_count": 31,
     "metadata": {},
     "output_type": "execute_result"
    }
   ],
   "source": [
    "# return those values that lie outside of the range 21.0-22.0\n",
    "bmi[np.logical_or(bmi < 21, bmi > 22)]"
   ]
  },
  {
   "cell_type": "code",
   "execution_count": 32,
   "metadata": {},
   "outputs": [
    {
     "name": "stdout",
     "output_type": "stream",
     "text": [
      "[False  True False  True]\n",
      "[False False False  True]\n"
     ]
    }
   ],
   "source": [
    "my_house = np.array([18.0, 20.0, 10.75, 9.50])\n",
    "your_house = np.array([14.0, 24.0, 14.25, 9.0])\n",
    "\n",
    "# my_house greater than 18.5 or smaller than 10\n",
    "print(np.logical_or(my_house > 18.5, my_house < 10))\n",
    "\n",
    "# Both my_house and your_house smaller than 11\n",
    "print(np.logical_and(my_house < 11, your_house < 11))"
   ]
  },
  {
   "cell_type": "markdown",
   "metadata": {},
   "source": [
    "### Two Dimensional Arrays\n",
    "\n",
    "Numpy supports 2-D arrays - nested arrays are all the SAME size, and Type(having one string or float value convrets all values to strings or floats). Boolean `True`/`False` converted to `1`/`0`. 2-D arrays are often used to represent a set of samples."
   ]
  },
  {
   "cell_type": "code",
   "execution_count": 33,
   "metadata": {},
   "outputs": [],
   "source": [
    "test_6 = np.array([[1,2,3,4], [5,3,7,8], [2,3,0,5], [4,5,6,7]])\n",
    "test_7 = np.array([[1,0,1,0], [1,0,1,0], [1,0,1,0], [1,0,1,0]])\n",
    "test_8 = np.array([[4,5,6,7], [6,7,8,9], [1,0,0,1], [6,5,4,3]])"
   ]
  },
  {
   "cell_type": "markdown",
   "metadata": {},
   "source": [
    "You can carry out operations on 2-D arrays, e.g. operations on individual elements or adding/subtracting/multiplying or dividing two or more arrays together. Arrays must have the same shape, and be of the same `dtype`."
   ]
  },
  {
   "cell_type": "code",
   "execution_count": 34,
   "metadata": {},
   "outputs": [
    {
     "data": {
      "text/plain": [
       "array([[ 2,  4,  6,  8],\n",
       "       [10,  6, 14, 16],\n",
       "       [ 4,  6,  0, 10],\n",
       "       [ 8, 10, 12, 14]])"
      ]
     },
     "execution_count": 34,
     "metadata": {},
     "output_type": "execute_result"
    }
   ],
   "source": [
    "test_6 * 2"
   ]
  },
  {
   "cell_type": "code",
   "execution_count": 35,
   "metadata": {},
   "outputs": [
    {
     "data": {
      "text/plain": [
       "array([[ 5,  2,  9,  4],\n",
       "       [11,  3, 15,  8],\n",
       "       [ 3,  3,  0,  5],\n",
       "       [10,  5, 10,  7]])"
      ]
     },
     "execution_count": 35,
     "metadata": {},
     "output_type": "execute_result"
    }
   ],
   "source": [
    "test_6 + test_7 * test_8"
   ]
  },
  {
   "cell_type": "markdown",
   "metadata": {},
   "source": [
    "#### **Selecting elements from a 2-D array**\n",
    "\n",
    "Specify both the `row` and the `column` index(rows start from zero)\n",
    "\n",
    "NOTE:\n",
    "\n",
    "In a 2-D array, the axes correspond to the interior arrays in the following way:\n",
    "\n",
    "axis=0 are values that share an index (in the same column) and axis=1 are values share an array (in the same row) - the answer is flipped!\n",
    "\n",
    "We can also think of **axis=0 == columns** and **axis=1 == rows**.\n",
    "\n",
    "```py\n",
    "        0  1  2  3  4\n",
    "     0 [[1, 3, 4, 7, 0],\n",
    "     1 [3, 5, 7, 9, 2],\n",
    "     2 [2, 4, 6, 8, 1]])\n",
    "\n",
    "```"
   ]
  },
  {
   "cell_type": "code",
   "execution_count": 36,
   "metadata": {},
   "outputs": [
    {
     "data": {
      "text/plain": [
       "4"
      ]
     },
     "execution_count": 36,
     "metadata": {},
     "output_type": "execute_result"
    }
   ],
   "source": [
    "a = np.array([[1,3,4,7,0], [3,5,7,9,2], [2,4,6,8,1]])\n",
    "a[2,1] # row/col"
   ]
  },
  {
   "cell_type": "markdown",
   "metadata": {},
   "source": [
    "To select an entire column, use `:` as the **row** index"
   ]
  },
  {
   "cell_type": "code",
   "execution_count": 37,
   "metadata": {},
   "outputs": [
    {
     "data": {
      "text/plain": [
       "array([3, 5, 4])"
      ]
     },
     "execution_count": 37,
     "metadata": {},
     "output_type": "execute_result"
    }
   ],
   "source": [
    "a[:, 1]"
   ]
  },
  {
   "cell_type": "code",
   "execution_count": 38,
   "metadata": {},
   "outputs": [
    {
     "data": {
      "text/plain": [
       "array([1, 3, 2])"
      ]
     },
     "execution_count": 38,
     "metadata": {},
     "output_type": "execute_result"
    }
   ],
   "source": [
    "a[:, 0]"
   ]
  },
  {
   "cell_type": "markdown",
   "metadata": {},
   "source": [
    "To select an entire row, insert `:` as the **column** index."
   ]
  },
  {
   "cell_type": "code",
   "execution_count": 39,
   "metadata": {},
   "outputs": [
    {
     "data": {
      "text/plain": [
       "array([3, 5, 7, 9, 2])"
      ]
     },
     "execution_count": 39,
     "metadata": {},
     "output_type": "execute_result"
    }
   ],
   "source": [
    "a[1, :]"
   ]
  },
  {
   "cell_type": "code",
   "execution_count": 40,
   "metadata": {},
   "outputs": [
    {
     "data": {
      "text/plain": [
       "array([1, 3, 4, 7, 0])"
      ]
     },
     "execution_count": 40,
     "metadata": {},
     "output_type": "execute_result"
    }
   ],
   "source": [
    "a[0, :]"
   ]
  },
  {
   "cell_type": "markdown",
   "metadata": {},
   "source": [
    "To select a range **from** a row"
   ]
  },
  {
   "cell_type": "code",
   "execution_count": 41,
   "metadata": {},
   "outputs": [
    {
     "data": {
      "text/plain": [
       "array([5, 7, 9])"
      ]
     },
     "execution_count": 41,
     "metadata": {},
     "output_type": "execute_result"
    }
   ],
   "source": [
    "# 2nd row, elements 1-3 inclusive\n",
    "a[1, 1:4]"
   ]
  },
  {
   "cell_type": "markdown",
   "metadata": {},
   "source": [
    "### Iterating over NumPy Arrays"
   ]
  },
  {
   "cell_type": "code",
   "execution_count": 42,
   "metadata": {},
   "outputs": [
    {
     "name": "stdout",
     "output_type": "stream",
     "text": [
      "1\n",
      "2\n",
      "3\n",
      "4\n"
     ]
    }
   ],
   "source": [
    "import numpy as np\n",
    "\n",
    "# 1-D array, use a 'for' loop\n",
    "np_lst = np.array([1,2,3,4])\n",
    "for num in np_lst:\n",
    "    print(num)"
   ]
  },
  {
   "cell_type": "code",
   "execution_count": 43,
   "metadata": {},
   "outputs": [
    {
     "name": "stdout",
     "output_type": "stream",
     "text": [
      "1\n",
      "2\n",
      "3\n"
     ]
    }
   ],
   "source": [
    "# 2-D array, using a nested 'for' loop\n",
    "np_lst = np.array([[1], [2], [3]])\n",
    "for lst in np_lst:\n",
    "    for num in lst:\n",
    "        print(num)"
   ]
  },
  {
   "cell_type": "code",
   "execution_count": 44,
   "metadata": {},
   "outputs": [
    {
     "name": "stdout",
     "output_type": "stream",
     "text": [
      "1\n",
      "2\n",
      "3\n"
     ]
    }
   ],
   "source": [
    "# 2-D array using numpy's 'np.nditer()' method\n",
    "np_lst = np.array([[1], [2], [3]])\n",
    "for val in np.nditer(np_lst):\n",
    "    print(val)"
   ]
  }
 ],
 "metadata": {
  "kernelspec": {
   "display_name": "Python 3",
   "language": "python",
   "name": "python3"
  },
  "language_info": {
   "codemirror_mode": {
    "name": "ipython",
    "version": 3
   },
   "file_extension": ".py",
   "mimetype": "text/x-python",
   "name": "python",
   "nbconvert_exporter": "python",
   "pygments_lexer": "ipython3",
   "version": "3.6.7"
  }
 },
 "nbformat": 4,
 "nbformat_minor": 2
}
