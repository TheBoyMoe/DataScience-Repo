{
 "cells": [
  {
   "cell_type": "markdown",
   "metadata": {},
   "source": [
    "# Statistical distribution and NumPy/Matplotlib"
   ]
  },
  {
   "cell_type": "markdown",
   "metadata": {},
   "source": [
    "### Plotting datasets"
   ]
  },
  {
   "cell_type": "code",
   "execution_count": 1,
   "metadata": {},
   "outputs": [],
   "source": [
    "import numpy as np\n",
    "from matplotlib import pyplot as plt"
   ]
  },
  {
   "cell_type": "markdown",
   "metadata": {},
   "source": [
    "When we first look at a dataset, we want to\n",
    "    - determine if some values occur more than others  \n",
    "    - determine the min and max values, or dataset range  \n",
    "    - identify any outliers\n",
    "    \n",
    "We can visualize this with a histogram"
   ]
  },
  {
   "cell_type": "markdown",
   "metadata": {},
   "source": [
    "If we have a dataset with values from 0-50, instead of determining how many, 0s, 1s,2s, etc, there are. We may be interested in knowing how many values there are between 0-5, 6-10, etc. These groupings are called `bins`."
   ]
  },
  {
   "cell_type": "markdown",
   "metadata": {},
   "source": [
    "`Bins` are always the same size. There width is the distance from the min-max value of the bin, in this example 5. `bins` must be an integer\n",
    "\n",
    "The `square root rule` is a commonly-used rule of thumb for choosing number of bins: choose the number of bins to be the square root of the number of samples."
   ]
  },
  {
   "cell_type": "markdown",
   "metadata": {},
   "source": [
    "Histograms are graphed using the `Matplotlib` package"
   ]
  },
  {
   "cell_type": "markdown",
   "metadata": {},
   "source": [
    "Automatically make a histogram with 10 bins of equal width that span the entire range of our data.\n",
    "\n",
    "```py\n",
    "plt.hist([numpy array])\n",
    "\n",
    "plt.show() # plot the graph\n",
    "```"
   ]
  },
  {
   "cell_type": "markdown",
   "metadata": {},
   "source": [
    "If you want a different number of bins, use the keyword bins\n",
    "\n",
    "```py\n",
    "plt.hist([numpy array], bins=5) # create 5 equal size bins\n",
    "```"
   ]
  },
  {
   "cell_type": "markdown",
   "metadata": {},
   "source": [
    "If you want a different range, you can pass in the minimum and maximum values that you want to histogram using the keyword range. Pass in a tuple of two numbers. The first number is the minimum value that we want to plot and the second value is the number that we want to plot up to, but not including."
   ]
  },
  {
   "cell_type": "markdown",
   "metadata": {},
   "source": [
    " If our dataset contained values between 0 and 100, but we only wanted to plot numbers between 20 and 50"
   ]
  },
  {
   "cell_type": "markdown",
   "metadata": {},
   "source": [
    "```py\n",
    "plt.hist([numpy array], range=(20, 51)) # default 10 bins\n",
    "```"
   ]
  },
  {
   "cell_type": "code",
   "execution_count": 2,
   "metadata": {},
   "outputs": [],
   "source": [
    "d = np.array([1, 1, 1, 2, 2, 2, 2, 2, 3, 3, 4, 4, 4, 4, 5])"
   ]
  },
  {
   "cell_type": "code",
   "execution_count": 3,
   "metadata": {},
   "outputs": [
    {
     "data": {
      "image/png": "[encoded data removed]",
      "text/plain": [
       "<Figure size 432x288 with 1 Axes>"
      ]
     },
     "metadata": {
      "needs_background": "light"
     },
     "output_type": "display_data"
    }
   ],
   "source": [
    "plt.hist(d, range=(1,6), bins=5)\n",
    "plt.show()"
   ]
  },
  {
   "cell_type": "markdown",
   "metadata": {},
   "source": [
    "Histograms can be classified based on the shape of the graphed values\n",
    "\n",
    "- **Unimodal distribution** has one distinct peak  \n",
    "- **Bimodal distribution** has two distict peaks - dataset has two distict populations \n",
    "- **Multimodal distribution** has more than two peaks\n",
    "- **Uniform distribution** does not have any distinct peaks"
   ]
  },
  {
   "cell_type": "markdown",
   "metadata": {},
   "source": [
    "**Unimodal distributions** can be further classified\n",
    "\n",
    "- `symmetrical` - has approx. equal numbers of values either side of the dataset. The **median** and **mean** are approx. the same. Also known as a **Normal Distribution**\n",
    "\n",
    "- `skew-right` has a long tail on the right of the peak, thus most of the data is on the left - **tail to the right**, peak is to the left. **median < mean**.\n",
    "\n",
    "- `skew-left` has a long tail on the left of the peak, with most of the data on the right - **tail to the left**, peak is to the right. **median > mean**. "
   ]
  },
  {
   "cell_type": "markdown",
   "metadata": {},
   "source": [
    "### Normal distribution"
   ]
  },
  {
   "cell_type": "markdown",
   "metadata": {},
   "source": [
    "The most common distribution is a  unimodal, symmetric distribution or **normal** distribution. Common example, peoples height, blood pressure of healthy individuals\n",
    "\n",
    "Normal distributions are defined by their mean and standard deviation. The **mean sets the \"middle\"** of the distribution, and the **standard deviation sets the \"width\"** of the distribution. A larger standard deviation leads to a wider distribution, and vice versa.\n",
    "\n",
    "We can generate our own normally distributed datasets using NumPy."
   ]
  },
  {
   "cell_type": "markdown",
   "metadata": {},
   "source": [
    "To create these datasets we need a random number generator. NumPy includes several functions for generating random numbers, including one specifically for generating sets of numbers that fit a normal distribution: `np.random.normal()`\n",
    "\n",
    "This function takes 3 arguments:\n",
    "\n",
    "    - loc: the mean for the normal distribution\n",
    "    - scale: the standard deviation of the distribution\n",
    "    - size: the number of random numbers to generate"
   ]
  },
  {
   "cell_type": "code",
   "execution_count": 4,
   "metadata": {},
   "outputs": [
    {
     "name": "stdout",
     "output_type": "stream",
     "text": [
      "[ 1.78435962 -1.28771534  0.60490406 ...  0.33504756  0.29038871\n",
      " -0.0743604 ]\n"
     ]
    }
   ],
   "source": [
    "a = np.random.normal(0, 1, size=100000)\n",
    "print(a)"
   ]
  },
  {
   "cell_type": "code",
   "execution_count": 5,
   "metadata": {},
   "outputs": [
    {
     "data": {
      "image/png": "[encoded data removed]",
      "text/plain": [
       "<Figure size 432x288 with 1 Axes>"
      ]
     },
     "metadata": {
      "needs_background": "light"
     },
     "output_type": "display_data"
    }
   ],
   "source": [
    "plt.hist(a, bins=100) # bins sqrt rule\n",
    "plt.show()"
   ]
  },
  {
   "cell_type": "markdown",
   "metadata": {},
   "source": [
    "### Example\n",
    "\n",
    "Our friend is a paleontologist. He's studying two types of dinosaurs: brachiosaurus and fictionosaurus. He tells us that:\n",
    "\n",
    "Brachiosaurus have femurs (thigh bone) with mean length of 6.7 ft and a standard deviation of 0.7 ft.\n",
    "Fictionosaurus have femurs (thigh bone) with mean length of 7.7 ft and a standard deviation of 0.3 ft.\n",
    "We'd like to know what these distributions look like.\n",
    "\n",
    "Use np.random.normal to fill in b_data (brachiosaurus) and f_data (fictionosaurus) with randomly generated samples with the correct mean and standard deviation. Each dataset should have 1000 samples."
   ]
  },
  {
   "cell_type": "code",
   "execution_count": 6,
   "metadata": {},
   "outputs": [],
   "source": [
    "# Brachiosaurus\n",
    "b_data = np.random.normal(6.7, 0.7,1000)"
   ]
  },
  {
   "cell_type": "code",
   "execution_count": 7,
   "metadata": {},
   "outputs": [],
   "source": [
    "# Fictionosaurus\n",
    "f_data = np.random.normal(7.7, 0.3, 1000)"
   ]
  },
  {
   "cell_type": "code",
   "execution_count": 8,
   "metadata": {},
   "outputs": [
    {
     "data": {
      "image/png": "[encoded data removed]",
      "text/plain": [
       "<Figure size 432x288 with 1 Axes>"
      ]
     },
     "metadata": {
      "needs_background": "light"
     },
     "output_type": "display_data"
    }
   ],
   "source": [
    "plt.hist(b_data,\n",
    "         bins=30, range=(5, 8.5), histtype='step',\n",
    "         label='Brachiosaurus')\n",
    "plt.hist(f_data,\n",
    "         bins=30, range=(5, 8.5), histtype='step',\n",
    "         label='Fictionosaurus')\n",
    "plt.xlabel('Femur Length (ft)')\n",
    "plt.legend(loc=2)\n",
    "plt.show()"
   ]
  },
  {
   "cell_type": "markdown",
   "metadata": {},
   "source": [
    "### Mean and Standard Deviation"
   ]
  },
  {
   "cell_type": "markdown",
   "metadata": {},
   "source": [
    "When comparing mean with standard deviation we can say:"
   ]
  },
  {
   "cell_type": "markdown",
   "metadata": {},
   "source": [
    "**68%** of our samples will fall between +/- 1 standard deviation of the mean(no matter the mean or std deviation)"
   ]
  },
  {
   "cell_type": "markdown",
   "metadata": {},
   "source": [
    "**95%** of our samples will fall between +/- 2 standard deviations of the mean"
   ]
  },
  {
   "cell_type": "markdown",
   "metadata": {},
   "source": [
    "**99.7%** of our samples will fall between +/- 3 standard deviations of the mean"
   ]
  },
  {
   "cell_type": "markdown",
   "metadata": {},
   "source": [
    "Suppose that we have a normal distribution with a mean of 50 and a standard deviation of 10. When we say \"within one standard deviation of the mean\", we'are saying that 68% of the results will lie within the range 40-60(50 +/-10), 40 being the lower bound(one below), and 60 being the upper band(one above)."
   ]
  },
  {
   "cell_type": "markdown",
   "metadata": {},
   "source": [
    "Thus if the data set were of 1000 samples, 680(or 68%) would be within the one std (40-60) range."
   ]
  },
  {
   "cell_type": "markdown",
   "metadata": {},
   "source": [
    "### Binomial Distribution"
   ]
  },
  {
   "cell_type": "markdown",
   "metadata": {},
   "source": [
    "Tells us how likely a given event is likely to occur, given it's probability of success and the number of trials(samples). \n",
    "\n",
    "If a certain basketball player makes 30% of his free throws. Thus if he throws 10 baskets, we expect him to make 3 (30%) free throws.\n",
    "\n",
    "Binomial distribution is important because it allows us to know how likely a certain outcome is, even when it's not the expected one, i.e. making 4 free throws out of 10 baskets thrown. By plotting the distribution you can visually see how likely it is to get 4, 5 or more free throws."
   ]
  },
  {
   "cell_type": "markdown",
   "metadata": {},
   "source": [
    "We can use NumPy's ability to generate a binomial distribution using `np.random.binomial()` to determine the probability of different outcomes.\n",
    "\n",
    "```py\n",
    "np.random.binomial(N, P, size)\n",
    "```\n",
    "\n",
    "The function takes 3 arguments:\n",
    "    - N: The number of samples or trials\n",
    "    - P: The probability of success\n",
    "    - size: The number of experiments"
   ]
  },
  {
   "cell_type": "markdown",
   "metadata": {},
   "source": [
    "Using our basketball player, and choosing a large number of experiments(to be sure that our probabilities converge on the correct answer)"
   ]
  },
  {
   "cell_type": "code",
   "execution_count": 9,
   "metadata": {},
   "outputs": [],
   "source": [
    "# Let's generate 10,000 \"experiments\"\n",
    "# N = 10 shots\n",
    "# P = 0.30 (30% he'll get a free throw)\n",
    "\n",
    "a = np.random.binomial(10, 0.30, size=10000)"
   ]
  },
  {
   "cell_type": "code",
   "execution_count": 10,
   "metadata": {},
   "outputs": [
    {
     "data": {
      "image/png": "[encoded data removed]",
      "text/plain": [
       "<Figure size 432x288 with 1 Axes>"
      ]
     },
     "metadata": {
      "needs_background": "light"
     },
     "output_type": "display_data"
    }
   ],
   "source": [
    "plt.hist(a, range=(0, 10), bins=10)\n",
    "plt.xlabel('Number of \"Free Throws\"')\n",
    "plt.ylabel('Frequency')\n",
    "plt.show()"
   ]
  },
  {
   "cell_type": "markdown",
   "metadata": {},
   "source": [
    "What percent chance did he have of making those 4 shots?"
   ]
  },
  {
   "cell_type": "markdown",
   "metadata": {},
   "source": [
    "We can calculate the probability(percentage chance) using the `np.mean()` function. Remember that taking the mean of a logical statement will give us the percent of values that satisfy our logical statement."
   ]
  },
  {
   "cell_type": "code",
   "execution_count": 11,
   "metadata": {},
   "outputs": [
    {
     "data": {
      "text/plain": [
       "0.2025"
      ]
     },
     "execution_count": 11,
     "metadata": {},
     "output_type": "execute_result"
    }
   ],
   "source": [
    "# calculate the probability that he makes 4 baskets\n",
    "a = np.random.binomial(10, 0.30, size=10000)\n",
    "np.mean(a == 4)"
   ]
  },
  {
   "cell_type": "markdown",
   "metadata": {},
   "source": [
    "Our basketball player has a roughly 20% chance of making 4 baskets.\n",
    "\n",
    "Note: because we're using a random number generator, we'll get a slightly different result each time. With the large size we chose, the calculated probability should be accurate to about 2 decimal places."
   ]
  },
  {
   "cell_type": "markdown",
   "metadata": {},
   "source": [
    "#### Example"
   ]
  },
  {
   "cell_type": "markdown",
   "metadata": {},
   "source": [
    "A person sends 500 emails asking people to donate to their cause, with an estimated probability that 25 people (5%) will open the email and click to donate. There were 10,000 experiments."
   ]
  },
  {
   "cell_type": "code",
   "execution_count": 12,
   "metadata": {},
   "outputs": [
    {
     "data": {
      "image/png": "[encoded data removed]",
      "text/plain": [
       "<Figure size 432x288 with 1 Axes>"
      ]
     },
     "metadata": {
      "needs_background": "light"
     },
     "output_type": "display_data"
    }
   ],
   "source": [
    "emails = np.random.binomial(500, 0.05, 10000)\n",
    "plt.hist(emails)\n",
    "plt.show()"
   ]
  },
  {
   "cell_type": "code",
   "execution_count": 13,
   "metadata": {},
   "outputs": [
    {
     "name": "stdout",
     "output_type": "stream",
     "text": [
      "0.0\n"
     ]
    }
   ],
   "source": [
    "# What is the probability that no one opens the email?\n",
    "no_emails = np.mean(emails == 0)\n",
    "print(no_emails)"
   ]
  },
  {
   "cell_type": "code",
   "execution_count": 14,
   "metadata": {},
   "outputs": [
    {
     "name": "stdout",
     "output_type": "stream",
     "text": [
      "0.0021\n"
     ]
    }
   ],
   "source": [
    "# What’s the probability that 8% or more of people will open the email?\n",
    "# 8% of 500 emails is 40, so we want to know how many experiments had 40 or more emails opened\n",
    "b_test_emails = np.mean(emails >= 40)\n",
    "print(b_test_emails)"
   ]
  },
  {
   "cell_type": "markdown",
   "metadata": {},
   "source": [
    "### Example - Election Results"
   ]
  },
  {
   "cell_type": "code",
   "execution_count": 15,
   "metadata": {},
   "outputs": [],
   "source": [
    "survey_responses = ['Ceballos', 'Kerrigan', 'Ceballos', 'Ceballos', 'Ceballos','Kerrigan', 'Kerrigan', 'Ceballos', 'Ceballos', 'Ceballos', \n",
    "'Kerrigan', 'Kerrigan', 'Ceballos', 'Ceballos', 'Kerrigan', 'Kerrigan', 'Ceballos', 'Ceballos', 'Kerrigan', 'Kerrigan', 'Kerrigan', 'Kerrigan', 'Kerrigan', 'Kerrigan', 'Ceballos', 'Ceballos', 'Ceballos', 'Ceballos', 'Ceballos', 'Ceballos',\n",
    "'Kerrigan', 'Kerrigan', 'Ceballos', 'Ceballos', 'Ceballos', 'Kerrigan', 'Kerrigan', 'Ceballos', 'Ceballos', 'Kerrigan', 'Kerrigan', 'Ceballos', 'Ceballos', 'Kerrigan', 'Kerrigan', 'Kerrigan', 'Kerrigan', 'Kerrigan', 'Kerrigan', 'Ceballos',\n",
    "'Kerrigan', 'Kerrigan', 'Ceballos', 'Ceballos', 'Ceballos', 'Kerrigan', 'Kerrigan', 'Ceballos', 'Ceballos', 'Kerrigan', 'Kerrigan', 'Ceballos', 'Ceballos', 'Kerrigan', 'Kerrigan', 'Kerrigan', 'Kerrigan', 'Kerrigan', 'Kerrigan', 'Ceballos']"
   ]
  },
  {
   "cell_type": "code",
   "execution_count": 16,
   "metadata": {},
   "outputs": [
    {
     "name": "stdout",
     "output_type": "stream",
     "text": [
      "33\n"
     ]
    }
   ],
   "source": [
    "total_ceballos = survey_responses.count('Ceballos')\n",
    "print(total_ceballos)"
   ]
  },
  {
   "cell_type": "code",
   "execution_count": 17,
   "metadata": {},
   "outputs": [
    {
     "name": "stdout",
     "output_type": "stream",
     "text": [
      "37\n"
     ]
    }
   ],
   "source": [
    "total_kerrigan = survey_responses.count('Kerrigan')\n",
    "print(total_kerrigan)"
   ]
  },
  {
   "cell_type": "code",
   "execution_count": 18,
   "metadata": {},
   "outputs": [
    {
     "data": {
      "text/plain": [
       "True"
      ]
     },
     "execution_count": 18,
     "metadata": {},
     "output_type": "execute_result"
    }
   ],
   "source": [
    "len(survey_responses) == total_ceballos + total_kerrigan"
   ]
  },
  {
   "cell_type": "code",
   "execution_count": 19,
   "metadata": {},
   "outputs": [
    {
     "name": "stdout",
     "output_type": "stream",
     "text": [
      "47.14285714285714\n"
     ]
    }
   ],
   "source": [
    "percentage_ceballos = total_ceballos / float(len(survey_responses)) * 100\n",
    "print(percentage_ceballos)"
   ]
  },
  {
   "cell_type": "markdown",
   "metadata": {},
   "source": [
    "In the real election, 54% of the 10,000 town population voted for Cynthia Ceballos. Your supervisors are concerned because this is a very different outcome than what the poll predicted.\n",
    "\n",
    "Generate a binomial distribution that takes the number of total survey responses, the actual success rate, and the size of the town's population as its parameters. Then divide the distribution by the number of survey responses."
   ]
  },
  {
   "cell_type": "code",
   "execution_count": 20,
   "metadata": {},
   "outputs": [
    {
     "name": "stdout",
     "output_type": "stream",
     "text": [
      "[0.62857143 0.5        0.47142857 ... 0.62857143 0.45714286 0.54285714]\n"
     ]
    }
   ],
   "source": [
    "possible_surveys = np.random.binomial(len(survey_responses), 0.54, 10000)/70.\n",
    "print(possible_surveys)"
   ]
  },
  {
   "cell_type": "markdown",
   "metadata": {},
   "source": [
    "NOTE: we've divided the result by the survey size to scale it to our survey size.\n",
    "\n",
    "Also, notice the period at the end of the line of code above. The period ensures that you are dividing each element in a by a float. OR you can wrap your int variable in `float()` method.\n",
    "\n",
    "If you do not include the period, Python will assume you want integer division (an integer divided by an integer). Naturally, integer division returns an integer. For quotients less than 1 (for example, 7 divided by 18), this is problematic. Python will return a 0 (as opposed to a decimal, like 0.388), which can result in erroneous calculations."
   ]
  },
  {
   "cell_type": "code",
   "execution_count": 21,
   "metadata": {},
   "outputs": [
    {
     "data": {
      "image/png": "[encoded data removed]",
      "text/plain": [
       "<Figure size 432x288 with 1 Axes>"
      ]
     },
     "metadata": {
      "needs_background": "light"
     },
     "output_type": "display_data"
    }
   ],
   "source": [
    "# since we're plotting percentages, set the range from 0-1 since all percentages will fall within this range\n",
    "plt.hist(possible_surveys, range=(0,1), bins=20)\n",
    "plt.show()"
   ]
  },
  {
   "cell_type": "markdown",
   "metadata": {},
   "source": [
    "As we saw, 47% of people we surveyed said they would vote for Ceballos, but 54% of people voted for Ceballos in the actual election.\n",
    "\n",
    "Calculate the percentage of surveys that could have an outcome of Ceballos receiving less than 50% of the vote and save it to the variable ceballos_loss_surveys."
   ]
  },
  {
   "cell_type": "code",
   "execution_count": 22,
   "metadata": {},
   "outputs": [
    {
     "name": "stdout",
     "output_type": "stream",
     "text": [
      "0.2201\n"
     ]
    }
   ],
   "source": [
    "# possible_surveys_length = float(len(possible_surveys))\n",
    "# incorrect_predictions = len(possible_surveys[possible_surveys < 0.5])\n",
    "# ceballos_loss_surveys = incorrect_predictions / possible_surveys_length\n",
    "\n",
    "ceballos_loss_surveys = np.mean(possible_surveys < 0.5) # % chance that we get the wrong prediction\n",
    "print(ceballos_loss_surveys)"
   ]
  },
  {
   "cell_type": "markdown",
   "metadata": {},
   "source": [
    "With this current poll, about 20% of the time a survey output would predict Kerrigan winning, even if Ceballos won the actual election.\n",
    "\n",
    "Your co-worker points out that your poll would be more accurate if it had more responders.\n",
    "\n",
    "Generate another binomial distribution, but this time, see what would happen if you had instead surveyed 7,000 people. Divide the distribution by the size of the survey and save your findings to large_survey."
   ]
  },
  {
   "cell_type": "code",
   "execution_count": 23,
   "metadata": {},
   "outputs": [
    {
     "data": {
      "image/png": "[encoded data removed]",
      "text/plain": [
       "<Figure size 432x288 with 1 Axes>"
      ]
     },
     "metadata": {
      "needs_background": "light"
     },
     "output_type": "display_data"
    }
   ],
   "source": [
    "# rpt but with a larger survey length\n",
    "large_survey_size = float(7000)\n",
    "large_survey = np.random.binomial(large_survey_size, 0.54, 10000) / large_survey_size\n",
    "plt.close()\n",
    "plt.hist(large_survey, range=(0,1), bins=20)\n",
    "plt.show()"
   ]
  },
  {
   "cell_type": "markdown",
   "metadata": {},
   "source": [
    "Now, recalculate the percentage of surveys that would have an outcome of Ceballos losing and save it to the variable ceballos_loss_new."
   ]
  },
  {
   "cell_type": "code",
   "execution_count": 24,
   "metadata": {},
   "outputs": [
    {
     "name": "stdout",
     "output_type": "stream",
     "text": [
      "0.0\n"
     ]
    }
   ],
   "source": [
    "incorrect_predictions = len(large_survey[large_survey < 0.5])\n",
    "ceballos_loss_new = incorrect_predictions / large_survey_size\n",
    "print(ceballos_loss_new)"
   ]
  },
  {
   "cell_type": "markdown",
   "metadata": {},
   "source": [
    "The probability of getting the election prediction wrong using a larger survey size is 0%"
   ]
  }
 ],
 "metadata": {
  "kernelspec": {
   "display_name": "Python 3",
   "language": "python",
   "name": "python3"
  },
  "language_info": {
   "codemirror_mode": {
    "name": "ipython",
    "version": 3
   },
   "file_extension": ".py",
   "mimetype": "text/x-python",
   "name": "python",
   "nbconvert_exporter": "python",
   "pygments_lexer": "ipython3",
   "version": "3.6.7"
  }
 },
 "nbformat": 4,
 "nbformat_minor": 2
}
