{
 "cells": [
  {
   "cell_type": "markdown",
   "metadata": {},
   "source": [
    "# Build a Simple MNIST Model with Keras"
   ]
  },
  {
   "cell_type": "markdown",
   "metadata": {},
   "source": [
    "We'll build an accurate model to recognize handwritten digits in the MNIST dataset."
   ]
  },
  {
   "cell_type": "code",
   "execution_count": null,
   "metadata": {},
   "outputs": [],
   "source": [
    "import pandas as pd\n",
    "import numpy as np\n",
    "import matplotlib.pyplot as plt\n",
    "\n",
    "import keras\n",
    "from keras.layers import Dense\n",
    "from keras.models import Sequential\n",
    "from keras.utils import to_categorical\n",
    "from keras.callbacks import EarlyStopping\n",
    "from keras.optimizers import SGD"
   ]
  },
  {
   "cell_type": "code",
   "execution_count": null,
   "metadata": {},
   "outputs": [],
   "source": [
    "# import MNIST dataset, 28 * 28 pixel images flattened to 784 * 1 vectors\n",
    "X = pd.read_csv('./data/train.csv')\n",
    "y = pd.read_csv('./data/test.csv')\n",
    "\n",
    "X.shape, y.shape"
   ]
  },
  {
   "cell_type": "code",
   "execution_count": null,
   "metadata": {},
   "outputs": [],
   "source": [
    "# Create the model: model\n",
    "model = Sequential()\n",
    "\n",
    "# Add the first Dense hidden layer of 50 units to your model with \n",
    "# 'relu' activation. For this data, the input_shape is (784,).\n",
    "model.add(Dense(50, activation='relu', input_shape=(784,)))\n",
    "\n",
    "# Add a second Dense hidden layer with 50 units and a 'relu' activation function.\n",
    "model.add(Dense(50, activation='relu'))\n",
    "\n",
    "# Add the output layer. Your activation function should be 'softmax', and the number of \n",
    "# nodes in this layer should be the same as the number of possible outputs in this case: 10.\n",
    "model.add(Dense(10, activation='softmax'))\n",
    "\n",
    "# Compile model as you have done with previous models: Using 'adam' as the optimizer, \n",
    "# 'categorical_crossentropy' for the loss, and metrics=['accuracy'].\n",
    "model.compile(optimizer='adam', loss='categorical_crossentropy', metrics=['accuracy'])\n",
    "\n",
    "# Fit the model\n",
    "model.fit(X, y, validation_split=0.3)"
   ]
  },
  {
   "cell_type": "markdown",
   "metadata": {},
   "source": [
    "You should see better than 90% accuracy recognizing handwritten digits, even while using a small training set of only 1750 images!"
   ]
  }
 ],
 "metadata": {
  "kernelspec": {
   "display_name": "Python 3",
   "language": "python",
   "name": "python3"
  },
  "language_info": {
   "codemirror_mode": {
    "name": "ipython",
    "version": 3
   },
   "file_extension": ".py",
   "mimetype": "text/x-python",
   "name": "python",
   "nbconvert_exporter": "python",
   "pygments_lexer": "ipython3",
   "version": "3.6.8"
  }
 },
 "nbformat": 4,
 "nbformat_minor": 2
}
