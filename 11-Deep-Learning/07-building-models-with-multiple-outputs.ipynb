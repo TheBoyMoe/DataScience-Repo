{
 "cells": [
  {
   "cell_type": "markdown",
   "metadata": {},
   "source": [
    "# Building Models with Multiple Outputs"
   ]
  },
  {
   "cell_type": "code",
   "execution_count": 1,
   "metadata": {},
   "outputs": [],
   "source": [
    "import pandas as pd\n",
    "import numpy as np\n",
    "from numpy import unique\n",
    "import matplotlib.pyplot as plt"
   ]
  },
  {
   "cell_type": "code",
   "execution_count": 2,
   "metadata": {},
   "outputs": [
    {
     "name": "stderr",
     "output_type": "stream",
     "text": [
      "Using TensorFlow backend.\n"
     ]
    }
   ],
   "source": [
    "from keras.layers import Input, Dense, Embedding, Flatten, Subtract, Add, Concatenate\n",
    "from keras.models import Model\n",
    "from keras.utils import plot_model"
   ]
  },
  {
   "cell_type": "code",
   "execution_count": 3,
   "metadata": {},
   "outputs": [
    {
     "data": {
      "text/plain": [
       "((312178, 8), (4234, 9))"
      ]
     },
     "execution_count": 3,
     "metadata": {},
     "output_type": "execute_result"
    }
   ],
   "source": [
    "# load the data\n",
    "full = pd.read_csv('./data/basket-ball/games_season.csv')\n",
    "tournament = pd.read_csv('./data/basket-ball/games_tourney.csv')\n",
    "full.shape, tournament.shape"
   ]
  },
  {
   "cell_type": "markdown",
   "metadata": {},
   "source": [
    "We'll build one model that makes two predictions: the scores of both teams in a given game. Our inputs will be the seed difference of the two teams, as well as the predicted score difference from the model we built in previous notebooks.\n",
    "\n",
    "The output from our model will be the predicted score for team 1 as well as team 2. This is called \"multiple target regression\": one model making more than one prediction."
   ]
  },
  {
   "cell_type": "code",
   "execution_count": 4,
   "metadata": {},
   "outputs": [],
   "source": [
    "# Create a single input layer with 2 columns.\n",
    "input_tensor = Input(shape=(2,))\n",
    "\n",
    "# Connect this input to a Dense layer with 2 units.\n",
    "output_tensor = Dense(2)(input_tensor)\n",
    "\n",
    "# Create a model with input_tensor as the input and output_tensor as the output.\n",
    "model = Model(input_tensor, output_tensor)\n",
    "\n",
    "# Compile the model\n",
    "model.compile(optimizer='adam', loss='mean_absolute_error')"
   ]
  },
  {
   "cell_type": "markdown",
   "metadata": {},
   "source": [
    "Now that we've defined our 2-output model, we'll fit it to the tournament data. We'll split the data into `tournament_train` and `tournament_test`, so use the training set to fit for now.\n",
    "\n",
    "This model will use the pre-tournament seeds, as well as your pre-tournament predictions from the regular season model we built previously.\n",
    "\n",
    "As a reminder, this model will predict the scores of both teams."
   ]
  },
  {
   "cell_type": "code",
   "execution_count": 9,
   "metadata": {
    "scrolled": false
   },
   "outputs": [
    {
     "name": "stdout",
     "output_type": "stream",
     "text": [
      "(4234, 10)\n"
     ]
    },
    {
     "data": {
      "text/html": [
       "<div>\n",
       "<style scoped>\n",
       "    .dataframe tbody tr th:only-of-type {\n",
       "        vertical-align: middle;\n",
       "    }\n",
       "\n",
       "    .dataframe tbody tr th {\n",
       "        vertical-align: top;\n",
       "    }\n",
       "\n",
       "    .dataframe thead th {\n",
       "        text-align: right;\n",
       "    }\n",
       "</style>\n",
       "<table border=\"1\" class=\"dataframe\">\n",
       "  <thead>\n",
       "    <tr style=\"text-align: right;\">\n",
       "      <th></th>\n",
       "      <th>season</th>\n",
       "      <th>team_1</th>\n",
       "      <th>team_2</th>\n",
       "      <th>home</th>\n",
       "      <th>seed_diff</th>\n",
       "      <th>score_diff</th>\n",
       "      <th>score_1</th>\n",
       "      <th>score_2</th>\n",
       "      <th>won</th>\n",
       "      <th>pred</th>\n",
       "    </tr>\n",
       "  </thead>\n",
       "  <tbody>\n",
       "    <tr>\n",
       "      <th>0</th>\n",
       "      <td>1985</td>\n",
       "      <td>288</td>\n",
       "      <td>73</td>\n",
       "      <td>0</td>\n",
       "      <td>-3</td>\n",
       "      <td>-9</td>\n",
       "      <td>41</td>\n",
       "      <td>50</td>\n",
       "      <td>0</td>\n",
       "      <td>0.065246</td>\n",
       "    </tr>\n",
       "    <tr>\n",
       "      <th>1</th>\n",
       "      <td>1985</td>\n",
       "      <td>5929</td>\n",
       "      <td>73</td>\n",
       "      <td>0</td>\n",
       "      <td>4</td>\n",
       "      <td>6</td>\n",
       "      <td>61</td>\n",
       "      <td>55</td>\n",
       "      <td>1</td>\n",
       "      <td>0.120679</td>\n",
       "    </tr>\n",
       "    <tr>\n",
       "      <th>2</th>\n",
       "      <td>1985</td>\n",
       "      <td>9884</td>\n",
       "      <td>73</td>\n",
       "      <td>0</td>\n",
       "      <td>5</td>\n",
       "      <td>-4</td>\n",
       "      <td>59</td>\n",
       "      <td>63</td>\n",
       "      <td>0</td>\n",
       "      <td>0.105372</td>\n",
       "    </tr>\n",
       "    <tr>\n",
       "      <th>3</th>\n",
       "      <td>1985</td>\n",
       "      <td>73</td>\n",
       "      <td>288</td>\n",
       "      <td>0</td>\n",
       "      <td>3</td>\n",
       "      <td>9</td>\n",
       "      <td>50</td>\n",
       "      <td>41</td>\n",
       "      <td>1</td>\n",
       "      <td>0.062881</td>\n",
       "    </tr>\n",
       "    <tr>\n",
       "      <th>4</th>\n",
       "      <td>1985</td>\n",
       "      <td>3920</td>\n",
       "      <td>410</td>\n",
       "      <td>0</td>\n",
       "      <td>1</td>\n",
       "      <td>-9</td>\n",
       "      <td>54</td>\n",
       "      <td>63</td>\n",
       "      <td>0</td>\n",
       "      <td>0.185282</td>\n",
       "    </tr>\n",
       "  </tbody>\n",
       "</table>\n",
       "</div>"
      ],
      "text/plain": [
       "   season  team_1  team_2  home  seed_diff  score_diff  score_1  score_2  won  \\\n",
       "0    1985     288      73     0         -3          -9       41       50    0   \n",
       "1    1985    5929      73     0          4           6       61       55    1   \n",
       "2    1985    9884      73     0          5          -4       59       63    0   \n",
       "3    1985      73     288     0          3           9       50       41    1   \n",
       "4    1985    3920     410     0          1          -9       54       63    0   \n",
       "\n",
       "       pred  \n",
       "0  0.065246  \n",
       "1  0.120679  \n",
       "2  0.105372  \n",
       "3  0.062881  \n",
       "4  0.185282  "
      ]
     },
     "execution_count": 9,
     "metadata": {},
     "output_type": "execute_result"
    }
   ],
   "source": [
    "# load the data from disc\n",
    "import feather\n",
    "\n",
    "tournament = feather.read_dataframe('./tmp/tournament')\n",
    "print(tournament.shape)\n",
    "tournament.head()"
   ]
  },
  {
   "cell_type": "code",
   "execution_count": 12,
   "metadata": {},
   "outputs": [
    {
     "data": {
      "text/plain": [
       "((3168, 10), (1066, 10))"
      ]
     },
     "execution_count": 12,
     "metadata": {},
     "output_type": "execute_result"
    }
   ],
   "source": [
    "# split tournament dataset into train and test\n",
    "tournament_train, tournament_test = tournament[:3168], tournament[3168:]\n",
    "tournament_train.shape, tournament_test.shape"
   ]
  },
  {
   "cell_type": "code",
   "execution_count": 13,
   "metadata": {
    "collapsed": true
   },
   "outputs": [
    {
     "name": "stdout",
     "output_type": "stream",
     "text": [
      "Epoch 1/100\n",
      "3168/3168 [==============================] - 0s 35us/step - loss: 71.8638\n",
      "Epoch 2/100\n",
      "3168/3168 [==============================] - 0s 1us/step - loss: 71.8626\n",
      "Epoch 3/100\n",
      "3168/3168 [==============================] - 0s 2us/step - loss: 71.8615\n",
      "Epoch 4/100\n",
      "3168/3168 [==============================] - 0s 1us/step - loss: 71.8604\n",
      "Epoch 5/100\n",
      "3168/3168 [==============================] - 0s 1us/step - loss: 71.8593\n",
      "Epoch 6/100\n",
      "3168/3168 [==============================] - 0s 1us/step - loss: 71.8582\n",
      "Epoch 7/100\n",
      "3168/3168 [==============================] - 0s 2us/step - loss: 71.8570\n",
      "Epoch 8/100\n",
      "3168/3168 [==============================] - 0s 1us/step - loss: 71.8559\n",
      "Epoch 9/100\n",
      "3168/3168 [==============================] - 0s 2us/step - loss: 71.8548\n",
      "Epoch 10/100\n",
      "3168/3168 [==============================] - 0s 2us/step - loss: 71.8537\n",
      "Epoch 11/100\n",
      "3168/3168 [==============================] - 0s 1us/step - loss: 71.8526\n",
      "Epoch 12/100\n",
      "3168/3168 [==============================] - 0s 1us/step - loss: 71.8514\n",
      "Epoch 13/100\n",
      "3168/3168 [==============================] - 0s 1us/step - loss: 71.8503\n",
      "Epoch 14/100\n",
      "3168/3168 [==============================] - 0s 1us/step - loss: 71.8492\n",
      "Epoch 15/100\n",
      "3168/3168 [==============================] - 0s 1us/step - loss: 71.8480\n",
      "Epoch 16/100\n",
      "3168/3168 [==============================] - 0s 1us/step - loss: 71.8469\n",
      "Epoch 17/100\n",
      "3168/3168 [==============================] - 0s 1us/step - loss: 71.8458\n",
      "Epoch 18/100\n",
      "3168/3168 [==============================] - 0s 1us/step - loss: 71.8447\n",
      "Epoch 19/100\n",
      "3168/3168 [==============================] - 0s 1us/step - loss: 71.8435\n",
      "Epoch 20/100\n",
      "3168/3168 [==============================] - 0s 1us/step - loss: 71.8424\n",
      "Epoch 21/100\n",
      "3168/3168 [==============================] - 0s 1us/step - loss: 71.8413\n",
      "Epoch 22/100\n",
      "3168/3168 [==============================] - 0s 2us/step - loss: 71.8402\n",
      "Epoch 23/100\n",
      "3168/3168 [==============================] - 0s 2us/step - loss: 71.8390\n",
      "Epoch 24/100\n",
      "3168/3168 [==============================] - 0s 2us/step - loss: 71.8379\n",
      "Epoch 25/100\n",
      "3168/3168 [==============================] - 0s 1us/step - loss: 71.8368\n",
      "Epoch 26/100\n",
      "3168/3168 [==============================] - 0s 2us/step - loss: 71.8357\n",
      "Epoch 27/100\n",
      "3168/3168 [==============================] - 0s 2us/step - loss: 71.8345\n",
      "Epoch 28/100\n",
      "3168/3168 [==============================] - 0s 2us/step - loss: 71.8334\n",
      "Epoch 29/100\n",
      "3168/3168 [==============================] - 0s 4us/step - loss: 71.8323\n",
      "Epoch 30/100\n",
      "3168/3168 [==============================] - 0s 2us/step - loss: 71.8312\n",
      "Epoch 31/100\n",
      "3168/3168 [==============================] - 0s 2us/step - loss: 71.8300\n",
      "Epoch 32/100\n",
      "3168/3168 [==============================] - 0s 2us/step - loss: 71.8289\n",
      "Epoch 33/100\n",
      "3168/3168 [==============================] - 0s 1us/step - loss: 71.8278\n",
      "Epoch 34/100\n",
      "3168/3168 [==============================] - 0s 1us/step - loss: 71.8267\n",
      "Epoch 35/100\n",
      "3168/3168 [==============================] - 0s 3us/step - loss: 71.8255\n",
      "Epoch 36/100\n",
      "3168/3168 [==============================] - 0s 2us/step - loss: 71.8244\n",
      "Epoch 37/100\n",
      "3168/3168 [==============================] - 0s 2us/step - loss: 71.8233\n",
      "Epoch 38/100\n",
      "3168/3168 [==============================] - 0s 2us/step - loss: 71.8221\n",
      "Epoch 39/100\n",
      "3168/3168 [==============================] - 0s 3us/step - loss: 71.8211\n",
      "Epoch 40/100\n",
      "3168/3168 [==============================] - 0s 2us/step - loss: 71.8199\n",
      "Epoch 41/100\n",
      "3168/3168 [==============================] - 0s 1us/step - loss: 71.8188\n",
      "Epoch 42/100\n",
      "3168/3168 [==============================] - 0s 1us/step - loss: 71.8176\n",
      "Epoch 43/100\n",
      "3168/3168 [==============================] - 0s 1us/step - loss: 71.8165\n",
      "Epoch 44/100\n",
      "3168/3168 [==============================] - 0s 2us/step - loss: 71.8154\n",
      "Epoch 45/100\n",
      "3168/3168 [==============================] - 0s 2us/step - loss: 71.8143\n",
      "Epoch 46/100\n",
      "3168/3168 [==============================] - 0s 2us/step - loss: 71.8132\n",
      "Epoch 47/100\n",
      "3168/3168 [==============================] - 0s 2us/step - loss: 71.8120\n",
      "Epoch 48/100\n",
      "3168/3168 [==============================] - 0s 2us/step - loss: 71.8109\n",
      "Epoch 49/100\n",
      "3168/3168 [==============================] - 0s 2us/step - loss: 71.8098\n",
      "Epoch 50/100\n",
      "3168/3168 [==============================] - 0s 2us/step - loss: 71.8087\n",
      "Epoch 51/100\n",
      "3168/3168 [==============================] - 0s 1us/step - loss: 71.8075\n",
      "Epoch 52/100\n",
      "3168/3168 [==============================] - 0s 2us/step - loss: 71.8064\n",
      "Epoch 53/100\n",
      "3168/3168 [==============================] - 0s 2us/step - loss: 71.8053\n",
      "Epoch 54/100\n",
      "3168/3168 [==============================] - 0s 2us/step - loss: 71.8042\n",
      "Epoch 55/100\n",
      "3168/3168 [==============================] - 0s 2us/step - loss: 71.8030\n",
      "Epoch 56/100\n",
      "3168/3168 [==============================] - 0s 2us/step - loss: 71.8019\n",
      "Epoch 57/100\n",
      "3168/3168 [==============================] - 0s 2us/step - loss: 71.8008\n",
      "Epoch 58/100\n",
      "3168/3168 [==============================] - 0s 2us/step - loss: 71.7997\n",
      "Epoch 59/100\n",
      "3168/3168 [==============================] - 0s 2us/step - loss: 71.7985\n",
      "Epoch 60/100\n",
      "3168/3168 [==============================] - 0s 3us/step - loss: 71.7974\n",
      "Epoch 61/100\n",
      "3168/3168 [==============================] - 0s 2us/step - loss: 71.7963\n",
      "Epoch 62/100\n",
      "3168/3168 [==============================] - 0s 2us/step - loss: 71.7952\n",
      "Epoch 63/100\n",
      "3168/3168 [==============================] - 0s 3us/step - loss: 71.7941\n",
      "Epoch 64/100\n",
      "3168/3168 [==============================] - 0s 2us/step - loss: 71.7929\n",
      "Epoch 65/100\n",
      "3168/3168 [==============================] - 0s 2us/step - loss: 71.7918\n",
      "Epoch 66/100\n",
      "3168/3168 [==============================] - 0s 2us/step - loss: 71.7907\n",
      "Epoch 67/100\n",
      "3168/3168 [==============================] - 0s 1us/step - loss: 71.7896\n",
      "Epoch 68/100\n",
      "3168/3168 [==============================] - 0s 1us/step - loss: 71.7884\n",
      "Epoch 69/100\n",
      "3168/3168 [==============================] - 0s 1us/step - loss: 71.7873\n",
      "Epoch 70/100\n",
      "3168/3168 [==============================] - 0s 1us/step - loss: 71.7862\n",
      "Epoch 71/100\n",
      "3168/3168 [==============================] - 0s 1us/step - loss: 71.7851\n",
      "Epoch 72/100\n",
      "3168/3168 [==============================] - 0s 1us/step - loss: 71.7839\n",
      "Epoch 73/100\n",
      "3168/3168 [==============================] - 0s 1us/step - loss: 71.7828\n",
      "Epoch 74/100\n",
      "3168/3168 [==============================] - 0s 1us/step - loss: 71.7817\n",
      "Epoch 75/100\n",
      "3168/3168 [==============================] - 0s 2us/step - loss: 71.7806\n",
      "Epoch 76/100\n",
      "3168/3168 [==============================] - 0s 2us/step - loss: 71.7794\n",
      "Epoch 77/100\n",
      "3168/3168 [==============================] - 0s 2us/step - loss: 71.7783\n",
      "Epoch 78/100\n",
      "3168/3168 [==============================] - 0s 1us/step - loss: 71.7772\n",
      "Epoch 79/100\n",
      "3168/3168 [==============================] - 0s 2us/step - loss: 71.7760\n",
      "Epoch 80/100\n",
      "3168/3168 [==============================] - 0s 1us/step - loss: 71.7749\n",
      "Epoch 81/100\n",
      "3168/3168 [==============================] - 0s 2us/step - loss: 71.7738\n",
      "Epoch 82/100\n",
      "3168/3168 [==============================] - 0s 2us/step - loss: 71.7727\n",
      "Epoch 83/100\n",
      "3168/3168 [==============================] - 0s 2us/step - loss: 71.7715\n",
      "Epoch 84/100\n",
      "3168/3168 [==============================] - 0s 2us/step - loss: 71.7704\n",
      "Epoch 85/100\n",
      "3168/3168 [==============================] - 0s 1us/step - loss: 71.7693\n",
      "Epoch 86/100\n",
      "3168/3168 [==============================] - 0s 2us/step - loss: 71.7682\n",
      "Epoch 87/100\n",
      "3168/3168 [==============================] - 0s 2us/step - loss: 71.7670\n",
      "Epoch 88/100\n",
      "3168/3168 [==============================] - 0s 2us/step - loss: 71.7659\n",
      "Epoch 89/100\n",
      "3168/3168 [==============================] - 0s 2us/step - loss: 71.7648\n",
      "Epoch 90/100\n",
      "3168/3168 [==============================] - 0s 2us/step - loss: 71.7636\n",
      "Epoch 91/100\n",
      "3168/3168 [==============================] - 0s 2us/step - loss: 71.7626\n",
      "Epoch 92/100\n",
      "3168/3168 [==============================] - 0s 2us/step - loss: 71.7614\n",
      "Epoch 93/100\n",
      "3168/3168 [==============================] - 0s 1us/step - loss: 71.7603\n",
      "Epoch 94/100\n",
      "3168/3168 [==============================] - 0s 2us/step - loss: 71.7592\n",
      "Epoch 95/100\n",
      "3168/3168 [==============================] - 0s 4us/step - loss: 71.7581\n",
      "Epoch 96/100\n",
      "3168/3168 [==============================] - 0s 1us/step - loss: 71.7569\n"
     ]
    },
    {
     "name": "stdout",
     "output_type": "stream",
     "text": [
      "Epoch 97/100\n",
      "3168/3168 [==============================] - 0s 2us/step - loss: 71.7558\n",
      "Epoch 98/100\n",
      "3168/3168 [==============================] - 0s 1us/step - loss: 71.7547\n",
      "Epoch 99/100\n",
      "3168/3168 [==============================] - 0s 1us/step - loss: 71.7536\n",
      "Epoch 100/100\n",
      "3168/3168 [==============================] - 0s 2us/step - loss: 71.7525\n"
     ]
    },
    {
     "data": {
      "text/plain": [
       "<keras.callbacks.History at 0x7f66c5799ba8>"
      ]
     },
     "execution_count": 13,
     "metadata": {},
     "output_type": "execute_result"
    }
   ],
   "source": [
    "# Fit the model to the games_tourney_train dataset using 100 epochs and a batch size of 16384.\n",
    "# The input columns are 'seed_diff', and 'pred'.\n",
    "# The target columns are 'score_1' and 'score_2'.\n",
    "model.fit(\n",
    "    tournament_train[['seed_diff', 'pred']],\n",
    "    tournament_train[['score_1', 'score_2']],\n",
    "    verbose=True,\n",
    "    epochs=100,\n",
    "    batch_size=16384\n",
    ")"
   ]
  },
  {
   "cell_type": "markdown",
   "metadata": {},
   "source": [
    "**Inspect the model**"
   ]
  },
  {
   "cell_type": "markdown",
   "metadata": {},
   "source": [
    "We'll use the `.get_weights()` method to inspect your model's weights.\n",
    "\n",
    "* the input layer will have 4 weights: 2 for each input times 2 for each output.\n",
    "\n",
    "* the output layer will have 2 weights, one for each output."
   ]
  },
  {
   "cell_type": "code",
   "execution_count": 16,
   "metadata": {
    "scrolled": true
   },
   "outputs": [
    {
     "name": "stdout",
     "output_type": "stream",
     "text": [
      "[array([[-0.01152442,  1.1569821 ],\n",
      "       [ 1.29076   , -0.3129429 ]], dtype=float32), array([0.10000583, 0.10000583], dtype=float32)]\n",
      "\n",
      "season        1997.045455\n",
      "team_1        5546.025568\n",
      "team_2        5546.025568\n",
      "home             0.000000\n",
      "seed_diff        0.000000\n",
      "score_diff       0.000000\n",
      "score_1         71.912247\n",
      "score_2         71.912247\n",
      "won              0.500000\n",
      "pred             0.124636\n",
      "dtype: float64\n"
     ]
    }
   ],
   "source": [
    "# Print the model's weights\n",
    "print(model.get_weights())\n",
    "print()\n",
    "\n",
    "# Print the column means of the training data\n",
    "print(tournament_train.mean())"
   ]
  },
  {
   "cell_type": "markdown",
   "metadata": {},
   "source": [
    "Both output weights are about `~72`. This is because, on average, a team will score about 72 points in the tournament."
   ]
  },
  {
   "cell_type": "markdown",
   "metadata": {},
   "source": [
    "**Evaluate the model**"
   ]
  },
  {
   "cell_type": "markdown",
   "metadata": {},
   "source": [
    "We'll evaluate the model on the tournament test set to see how well it performs on new data."
   ]
  },
  {
   "cell_type": "code",
   "execution_count": 18,
   "metadata": {},
   "outputs": [
    {
     "name": "stdout",
     "output_type": "stream",
     "text": [
      "1066/1066 [==============================] - 0s 44us/step\n"
     ]
    },
    {
     "data": {
      "text/plain": [
       "68.60479482969245"
      ]
     },
     "execution_count": 18,
     "metadata": {},
     "output_type": "execute_result"
    }
   ],
   "source": [
    "# Evaluate the model on the tournament test data, use the same inputs and outputs as the training set.\n",
    "model.evaluate(\n",
    "    tournament_test[['seed_diff', 'pred']], \n",
    "    tournament_test[['score_1', 'score_2']]\n",
    ")"
   ]
  },
  {
   "cell_type": "markdown",
   "metadata": {},
   "source": [
    "### Build a model that performs both Regression and Classification"
   ]
  },
  {
   "cell_type": "markdown",
   "metadata": {},
   "source": [
    "We'll create a 2-output model that will \n",
    "\n",
    "* predict the score difference  (instead of both team's scores) and \n",
    "\n",
    "* predict the probability that team 1 won the game. \n",
    "\n",
    "It will perform both classification and regression!\n",
    "\n",
    "In this model, turn off the bias, or intercept for each layer. The inputs (seed difference and predicted score difference) have a mean of very close to zero, and the outputs both have means that are close to zero, so the model shouldn't need the bias term to fit the data well."
   ]
  },
  {
   "cell_type": "code",
   "execution_count": 19,
   "metadata": {},
   "outputs": [],
   "source": [
    "# Create an input layer with 2 columns\n",
    "input_tensor = Input(shape=(2,))\n",
    "\n",
    "# The first output layer should have 1 unit with 'linear' activation and no bias term.\n",
    "output_tensor_1 = Dense(1, activation='linear', use_bias=False)(input_tensor)\n",
    "\n",
    "# The second output layer should have 1 unit with 'sigmoid' activation and no bias term. \n",
    "# Use the first output layer as an input to this layer.\n",
    "output_tensor_2 = Dense(1, activation='sigmoid', use_bias=False)(output_tensor_1)\n",
    "\n",
    "# Create a model with 2 outputs\n",
    "model = Model(input_tensor, [output_tensor_1, output_tensor_2])"
   ]
  },
  {
   "cell_type": "markdown",
   "metadata": {},
   "source": [
    "Now that we have a model with 2 outputs, compile it with 2 loss functions: mean absolute error (MAE) for `'score_diff'` and binary cross-entropy (also known as logloss) for `'won'`. Then fit the model with `'seed_diff'` and `'pred'` as inputs. For outputs, predict `'score_diff'` and `'won'`.\n",
    "\n",
    "This model can use the scores of the games to make sure that close games (small score diff) have lower win probabilities than blowouts (large score diff).\n",
    "\n",
    "The regression problem is easier than the classification problem because MAE punishes the model less for a loss due to random chance. For example, if `score_diff` is `-1` and `won` is `0`, that means `team_1` had some bad luck and lost by a single free throw. The data for the easy problem helps the model find a solution to the hard problem."
   ]
  },
  {
   "cell_type": "code",
   "execution_count": 21,
   "metadata": {
    "scrolled": false
   },
   "outputs": [
    {
     "name": "stdout",
     "output_type": "stream",
     "text": [
      "Epoch 1/10\n",
      "3168/3168 [==============================] - 0s 91us/step - loss: 9.7818 - dense_2_loss: 9.2340 - dense_3_loss: 0.5479\n",
      "Epoch 2/10\n",
      "3168/3168 [==============================] - 0s 2us/step - loss: 9.7728 - dense_2_loss: 9.2268 - dense_3_loss: 0.5460\n",
      "Epoch 3/10\n",
      "3168/3168 [==============================] - 0s 2us/step - loss: 9.7645 - dense_2_loss: 9.2201 - dense_3_loss: 0.5444\n",
      "Epoch 4/10\n",
      "3168/3168 [==============================] - 0s 5us/step - loss: 9.7567 - dense_2_loss: 9.2135 - dense_3_loss: 0.5432\n",
      "Epoch 5/10\n",
      "3168/3168 [==============================] - 0s 2us/step - loss: 9.7495 - dense_2_loss: 9.2070 - dense_3_loss: 0.5425\n",
      "Epoch 6/10\n",
      "3168/3168 [==============================] - 0s 2us/step - loss: 9.7431 - dense_2_loss: 9.2010 - dense_3_loss: 0.5421\n",
      "Epoch 7/10\n",
      "3168/3168 [==============================] - 0s 2us/step - loss: 9.7371 - dense_2_loss: 9.1950 - dense_3_loss: 0.5421\n",
      "Epoch 8/10\n",
      "3168/3168 [==============================] - 0s 2us/step - loss: 9.7316 - dense_2_loss: 9.1893 - dense_3_loss: 0.5423\n",
      "Epoch 9/10\n",
      "3168/3168 [==============================] - 0s 2us/step - loss: 9.7266 - dense_2_loss: 9.1840 - dense_3_loss: 0.5426\n",
      "Epoch 10/10\n",
      "3168/3168 [==============================] - 0s 2us/step - loss: 9.7220 - dense_2_loss: 9.1791 - dense_3_loss: 0.5428\n"
     ]
    },
    {
     "data": {
      "text/plain": [
       "<keras.callbacks.History at 0x7f66b4070908>"
      ]
     },
     "execution_count": 21,
     "metadata": {},
     "output_type": "execute_result"
    }
   ],
   "source": [
    "# Import the Adam optimizer\n",
    "from keras.optimizers import Adam\n",
    "\n",
    "# Compile the model with 2 losses: 'mean_absolute_error' and 'binary_crossentropy', \n",
    "# and use the Adam optimizer with a learning rate of 0.01.\n",
    "model.compile(loss=['mean_absolute_error', 'binary_crossentropy'], optimizer=Adam(lr=0.01))\n",
    "\n",
    "# Fit the model with 'seed_diff' and 'pred' columns as the inputs and \n",
    "# 'score_diff' and 'won' columns as the targets. Use 10 epochs and a batch size of 16384.\n",
    "model.fit(\n",
    "    tournament_train[['seed_diff', 'pred']],\n",
    "    [tournament_train[['score_diff']], tournament_train[['won']]],\n",
    "    epochs=10,\n",
    "    verbose=True,\n",
    "    batch_size=16384\n",
    ")"
   ]
  },
  {
   "cell_type": "markdown",
   "metadata": {},
   "source": [
    "**Inspect the Model**"
   ]
  },
  {
   "cell_type": "markdown",
   "metadata": {},
   "source": [
    "Examine the weights for the model. In particular, note the last weight of the model. This weight converts the predicted score difference to a predicted win probability. If you multiply the predicted score difference by the last weight of the model and then apply the sigmoid function, you get the win probability of the game."
   ]
  },
  {
   "cell_type": "code",
   "execution_count": 24,
   "metadata": {
    "scrolled": true
   },
   "outputs": [
    {
     "name": "stdout",
     "output_type": "stream",
     "text": [
      "[array([[1.1135603],\n",
      "       [0.9131878]], dtype=float32), array([[0.14484733]], dtype=float32)]\n",
      "\n",
      "season        1997.045455\n",
      "team_1        5546.025568\n",
      "team_2        5546.025568\n",
      "home             0.000000\n",
      "seed_diff        0.000000\n",
      "score_diff       0.000000\n",
      "score_1         71.912247\n",
      "score_2         71.912247\n",
      "won              0.500000\n",
      "pred             0.124636\n",
      "dtype: float64\n"
     ]
    }
   ],
   "source": [
    "# Print the model weights\n",
    "print(model.get_weights())\n",
    "print()\n",
    "\n",
    "# Print the training data means\n",
    "print(tournament_train.mean())"
   ]
  },
  {
   "cell_type": "code",
   "execution_count": 25,
   "metadata": {},
   "outputs": [
    {
     "name": "stdout",
     "output_type": "stream",
     "text": [
      "0.5349429451582145\n",
      "0.8021838885585818\n"
     ]
    }
   ],
   "source": [
    "# Import the sigmoid function from scipy\n",
    "from scipy.special import expit as sigmoid\n",
    "\n",
    "# Weight from the model\n",
    "weight = 0.14\n",
    "\n",
    "# Print the approximate win probability of a predicted close game (1 point difference)\n",
    "print(sigmoid(1 * weight))\n",
    "\n",
    "# Print the approximate win probability of a predicted blowout game (10 point difference)\n",
    "print(sigmoid(10 * weight)) "
   ]
  },
  {
   "cell_type": "markdown",
   "metadata": {},
   "source": [
    "So `sigmoid(1 * 0.14)` is `0.53`, which represents a pretty close game and `sigmoid(10 * 0.14)` is `0.80`, which represents a pretty likely win. In other words, if the model predicts a win of 1 point, it is less sure of the win than if it predicts 10 points."
   ]
  },
  {
   "cell_type": "markdown",
   "metadata": {},
   "source": [
    "**Evaluate the Model**"
   ]
  },
  {
   "cell_type": "markdown",
   "metadata": {},
   "source": [
    "We'll evaluate your model on the tournament test set to see how well it does on new data.\n",
    "\n",
    "Note that in this case, Keras will return 3 numbers: the first number will be the sum of both the loss functions, and then the next 2 numbers will be the loss functions you used when defining the model."
   ]
  },
  {
   "cell_type": "code",
   "execution_count": 27,
   "metadata": {},
   "outputs": [
    {
     "name": "stdout",
     "output_type": "stream",
     "text": [
      "1066/1066 [==============================] - 0s 103us/step\n"
     ]
    },
    {
     "data": {
      "text/plain": [
       "[9.669232912403558, 9.085774332229013, 0.5834585309699597]"
      ]
     },
     "execution_count": 27,
     "metadata": {},
     "output_type": "execute_result"
    }
   ],
   "source": [
    "# Evaluate the model on new data\n",
    "model.evaluate(\n",
    "    tournament_test[['seed_diff', 'pred']],\n",
    "    [tournament_test[['score_diff']], tournament_test[['won']]]\n",
    ")"
   ]
  }
 ],
 "metadata": {
  "kernelspec": {
   "display_name": "Python 3",
   "language": "python",
   "name": "python3"
  },
  "language_info": {
   "codemirror_mode": {
    "name": "ipython",
    "version": 3
   },
   "file_extension": ".py",
   "mimetype": "text/x-python",
   "name": "python",
   "nbconvert_exporter": "python",
   "pygments_lexer": "ipython3",
   "version": "3.6.8"
  }
 },
 "nbformat": 4,
 "nbformat_minor": 2
}
