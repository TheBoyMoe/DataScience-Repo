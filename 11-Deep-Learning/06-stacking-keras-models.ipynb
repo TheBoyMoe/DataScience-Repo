{
 "cells": [
  {
   "cell_type": "markdown",
   "metadata": {},
   "source": [
    "# Stacking Keras Models"
   ]
  },
  {
   "cell_type": "markdown",
   "metadata": {},
   "source": [
    "Involves taking the predictions of one model and using it as the input of another.\n",
    "\n",
    "Note: The models must be trained on different datasets."
   ]
  },
  {
   "cell_type": "code",
   "execution_count": 1,
   "metadata": {},
   "outputs": [],
   "source": [
    "import pandas as pd\n",
    "import numpy as np\n",
    "from numpy import unique\n",
    "import matplotlib.pyplot as plt"
   ]
  },
  {
   "cell_type": "code",
   "execution_count": 2,
   "metadata": {
    "scrolled": true
   },
   "outputs": [
    {
     "name": "stderr",
     "output_type": "stream",
     "text": [
      "Using TensorFlow backend.\n"
     ]
    }
   ],
   "source": [
    "from keras.layers import Input, Dense, Embedding, Flatten, Subtract, Add, Concatenate\n",
    "from keras.models import Model\n",
    "from keras.utils import plot_model"
   ]
  },
  {
   "cell_type": "code",
   "execution_count": 3,
   "metadata": {},
   "outputs": [
    {
     "data": {
      "text/plain": [
       "((312178, 8), (4234, 9))"
      ]
     },
     "execution_count": 3,
     "metadata": {},
     "output_type": "execute_result"
    }
   ],
   "source": [
    "# load the data\n",
    "full = pd.read_csv('./data/basket-ball/games_season.csv')\n",
    "tournament = pd.read_csv('./data/basket-ball/games_tourney.csv')\n",
    "full.shape, tournament.shape"
   ]
  },
  {
   "cell_type": "markdown",
   "metadata": {},
   "source": [
    "We used the regular season model to make predictions on the tournament dataset, and got pretty good results! Try to improve your predictions for the tournament by modeling it specifically.\n",
    "\n",
    "You'll use the prediction from the regular season model as an input to the tournament model. This is a form of \"model stacking.\"\n",
    "\n",
    "To start, take the regular season model from the previous lesson, and predict on the tournament data. Add this prediction to the tournament data as a new column."
   ]
  },
  {
   "cell_type": "code",
   "execution_count": 4,
   "metadata": {},
   "outputs": [
    {
     "name": "stdout",
     "output_type": "stream",
     "text": [
      "Train on 280960 samples, validate on 31218 samples\n",
      "Epoch 1/1\n",
      "280960/280960 [==============================] - 2s 5us/step - loss: 12.2491 - val_loss: 11.7797\n"
     ]
    },
    {
     "data": {
      "text/plain": [
       "<keras.callbacks.History at 0x7f5a01e5f5c0>"
      ]
     },
     "execution_count": 4,
     "metadata": {},
     "output_type": "execute_result"
    }
   ],
   "source": [
    "#### MODEL from Notebook 5 ######\n",
    "# Build the team strength Layer\n",
    "n_teams = unique(full['team_1']).shape[0]\n",
    "\n",
    "# Create an embedding layer\n",
    "team_lookup = Embedding(\n",
    "    input_dim=n_teams,\n",
    "    output_dim=1,\n",
    "    input_length=1,\n",
    "    name='Team-Strength'\n",
    ")\n",
    "\n",
    "teamid_in = Input(shape=(1,)) # input tensor\n",
    "strength_lookup = team_lookup(teamid_in)\n",
    "strength_lookup_flat = Flatten()(strength_lookup) # flattened output tensor\n",
    "\n",
    "# Combine the operations into a single, re-usable model\n",
    "team_strength_model = Model(teamid_in, strength_lookup_flat, name='Team-Strength-Model')\n",
    "\n",
    "## Create three input layers\n",
    "team_in_1 = Input(shape=(1,), name='Team-1-In')\n",
    "team_in_2 = Input(shape=(1,), name='Team-2-In')\n",
    "home_in = Input(shape=(1,), name='Home-In')\n",
    "\n",
    "# Lookup the team inputs in the team strength model\n",
    "team_1_strength = team_strength_model(team_in_1)\n",
    "team_2_strength = team_strength_model(team_in_2)\n",
    "\n",
    "# Combine the team strengths with the home input using a Concatenate layer, then add a Dense layer\n",
    "out = Concatenate()([team_1_strength, team_2_strength, home_in])\n",
    "out = Dense(1)(out)\n",
    "\n",
    "# Instantiate and compile the model\n",
    "model = Model([team_in_1, team_in_2, home_in], out)\n",
    "model.compile(optimizer='adam', loss='mean_absolute_error')\n",
    "\n",
    "# train the model\n",
    "model.fit(\n",
    "    [full['team_1'], full['team_2'], full['home']],\n",
    "    full['score_diff'],\n",
    "    epochs=1,\n",
    "    verbose=True,\n",
    "    validation_split=0.1,\n",
    "    batch_size=2048\n",
    ")"
   ]
  },
  {
   "cell_type": "code",
   "execution_count": 5,
   "metadata": {
    "scrolled": true
   },
   "outputs": [
    {
     "name": "stdout",
     "output_type": "stream",
     "text": [
      "(4234, 10)\n"
     ]
    },
    {
     "data": {
      "text/html": [
       "<div>\n",
       "<style scoped>\n",
       "    .dataframe tbody tr th:only-of-type {\n",
       "        vertical-align: middle;\n",
       "    }\n",
       "\n",
       "    .dataframe tbody tr th {\n",
       "        vertical-align: top;\n",
       "    }\n",
       "\n",
       "    .dataframe thead th {\n",
       "        text-align: right;\n",
       "    }\n",
       "</style>\n",
       "<table border=\"1\" class=\"dataframe\">\n",
       "  <thead>\n",
       "    <tr style=\"text-align: right;\">\n",
       "      <th></th>\n",
       "      <th>season</th>\n",
       "      <th>team_1</th>\n",
       "      <th>team_2</th>\n",
       "      <th>home</th>\n",
       "      <th>seed_diff</th>\n",
       "      <th>score_diff</th>\n",
       "      <th>score_1</th>\n",
       "      <th>score_2</th>\n",
       "      <th>won</th>\n",
       "      <th>pred</th>\n",
       "    </tr>\n",
       "  </thead>\n",
       "  <tbody>\n",
       "    <tr>\n",
       "      <th>0</th>\n",
       "      <td>1985</td>\n",
       "      <td>288</td>\n",
       "      <td>73</td>\n",
       "      <td>0</td>\n",
       "      <td>-3</td>\n",
       "      <td>-9</td>\n",
       "      <td>41</td>\n",
       "      <td>50</td>\n",
       "      <td>0</td>\n",
       "      <td>0.065246</td>\n",
       "    </tr>\n",
       "    <tr>\n",
       "      <th>1</th>\n",
       "      <td>1985</td>\n",
       "      <td>5929</td>\n",
       "      <td>73</td>\n",
       "      <td>0</td>\n",
       "      <td>4</td>\n",
       "      <td>6</td>\n",
       "      <td>61</td>\n",
       "      <td>55</td>\n",
       "      <td>1</td>\n",
       "      <td>0.120679</td>\n",
       "    </tr>\n",
       "    <tr>\n",
       "      <th>2</th>\n",
       "      <td>1985</td>\n",
       "      <td>9884</td>\n",
       "      <td>73</td>\n",
       "      <td>0</td>\n",
       "      <td>5</td>\n",
       "      <td>-4</td>\n",
       "      <td>59</td>\n",
       "      <td>63</td>\n",
       "      <td>0</td>\n",
       "      <td>0.105372</td>\n",
       "    </tr>\n",
       "    <tr>\n",
       "      <th>3</th>\n",
       "      <td>1985</td>\n",
       "      <td>73</td>\n",
       "      <td>288</td>\n",
       "      <td>0</td>\n",
       "      <td>3</td>\n",
       "      <td>9</td>\n",
       "      <td>50</td>\n",
       "      <td>41</td>\n",
       "      <td>1</td>\n",
       "      <td>0.062881</td>\n",
       "    </tr>\n",
       "    <tr>\n",
       "      <th>4</th>\n",
       "      <td>1985</td>\n",
       "      <td>3920</td>\n",
       "      <td>410</td>\n",
       "      <td>0</td>\n",
       "      <td>1</td>\n",
       "      <td>-9</td>\n",
       "      <td>54</td>\n",
       "      <td>63</td>\n",
       "      <td>0</td>\n",
       "      <td>0.185282</td>\n",
       "    </tr>\n",
       "  </tbody>\n",
       "</table>\n",
       "</div>"
      ],
      "text/plain": [
       "   season  team_1  team_2  home  seed_diff  score_diff  score_1  score_2  won  \\\n",
       "0    1985     288      73     0         -3          -9       41       50    0   \n",
       "1    1985    5929      73     0          4           6       61       55    1   \n",
       "2    1985    9884      73     0          5          -4       59       63    0   \n",
       "3    1985      73     288     0          3           9       50       41    1   \n",
       "4    1985    3920     410     0          1          -9       54       63    0   \n",
       "\n",
       "       pred  \n",
       "0  0.065246  \n",
       "1  0.120679  \n",
       "2  0.105372  \n",
       "3  0.062881  \n",
       "4  0.185282  "
      ]
     },
     "execution_count": 5,
     "metadata": {},
     "output_type": "execute_result"
    }
   ],
   "source": [
    "# Use the model to predict on the games_tourney dataset. \n",
    "# The model has three inputs: 'team_1', 'team_2', and 'home' columns. \n",
    "# Assign the predictions to a new column, 'pred'.\n",
    "tournament['pred'] = model.predict([\n",
    "    tournament['team_1'], \n",
    "    tournament['team_2'], \n",
    "    tournament['home']\n",
    "])\n",
    "print(tournament.shape)\n",
    "tournament.head()"
   ]
  },
  {
   "cell_type": "markdown",
   "metadata": {},
   "source": [
    "### Save tournament set with predictions"
   ]
  },
  {
   "cell_type": "markdown",
   "metadata": {},
   "source": [
    "We'll save the `tournament` dataset with the `pred` column for later (notebook 7)"
   ]
  },
  {
   "cell_type": "code",
   "execution_count": 7,
   "metadata": {},
   "outputs": [],
   "source": [
    "import os\n",
    "\n",
    "os.makedirs('./tmp', exist_ok=True)\n",
    "tournament.to_feather('./tmp/tournament')"
   ]
  },
  {
   "cell_type": "markdown",
   "metadata": {},
   "source": [
    "Now we can try building a model for the tournament data based on our regular season predictions."
   ]
  },
  {
   "cell_type": "markdown",
   "metadata": {},
   "source": [
    "We'll look at a different way to create models with multiple inputs. This method only works for purely numeric data, but its a much simpler approach to making multi-variate neural networks.\n",
    "\n",
    "Now we have three numeric columns in the tournament dataset: `'seed_diff'`, `'home'`, and `'pred'`. We'll create a neural network that uses a single input layer to process all three of these numeric inputs.\n",
    "\n",
    "This model should have a single output to predict the tournament game score difference."
   ]
  },
  {
   "cell_type": "code",
   "execution_count": 8,
   "metadata": {},
   "outputs": [],
   "source": [
    "# Create an input layer with 3 columns\n",
    "input_tensor = Input((3,))\n",
    "\n",
    "# Connect this input to a Dense layer with 1 unit.\n",
    "output_tensor = Dense(1)(input_tensor)\n",
    "\n",
    "# Create a model with input_tensor as the input and output_tensor as the output.\n",
    "model = Model(input_tensor, output_tensor)\n",
    "\n",
    "# Compile the model\n",
    "model.compile(optimizer='adam', loss='mean_absolute_error')"
   ]
  },
  {
   "cell_type": "markdown",
   "metadata": {},
   "source": [
    "Now that we've enriched the tournament dataset and built a model to make use of the new data, fit that model to the tournament data.\n",
    "\n",
    "Note that this model has only one input layer that is capable of handling all 3 inputs, so it's inputs and outputs do not need to be a list.\n",
    "\n",
    "Tournament games are split into a training set and a test set. The tournament games before 2010 are in the training set, and the ones after 2010 are in the test set."
   ]
  },
  {
   "cell_type": "code",
   "execution_count": 10,
   "metadata": {},
   "outputs": [
    {
     "data": {
      "text/plain": [
       "((3168, 10), (1066, 10))"
      ]
     },
     "execution_count": 10,
     "metadata": {},
     "output_type": "execute_result"
    }
   ],
   "source": [
    "# split the tournament dataset into train and test\n",
    "train, test = tournament[:3168], tournament[3168:]\n",
    "train.shape, test.shape"
   ]
  },
  {
   "cell_type": "code",
   "execution_count": 13,
   "metadata": {},
   "outputs": [
    {
     "data": {
      "text/html": [
       "<div>\n",
       "<style scoped>\n",
       "    .dataframe tbody tr th:only-of-type {\n",
       "        vertical-align: middle;\n",
       "    }\n",
       "\n",
       "    .dataframe tbody tr th {\n",
       "        vertical-align: top;\n",
       "    }\n",
       "\n",
       "    .dataframe thead th {\n",
       "        text-align: right;\n",
       "    }\n",
       "</style>\n",
       "<table border=\"1\" class=\"dataframe\">\n",
       "  <thead>\n",
       "    <tr style=\"text-align: right;\">\n",
       "      <th></th>\n",
       "      <th>season</th>\n",
       "      <th>team_1</th>\n",
       "      <th>team_2</th>\n",
       "      <th>home</th>\n",
       "      <th>seed_diff</th>\n",
       "      <th>score_diff</th>\n",
       "      <th>score_1</th>\n",
       "      <th>score_2</th>\n",
       "      <th>won</th>\n",
       "      <th>pred</th>\n",
       "    </tr>\n",
       "  </thead>\n",
       "  <tbody>\n",
       "    <tr>\n",
       "      <th>3163</th>\n",
       "      <td>2009</td>\n",
       "      <td>2902</td>\n",
       "      <td>10688</td>\n",
       "      <td>0</td>\n",
       "      <td>7</td>\n",
       "      <td>-2</td>\n",
       "      <td>59</td>\n",
       "      <td>61</td>\n",
       "      <td>0</td>\n",
       "      <td>0.106128</td>\n",
       "    </tr>\n",
       "    <tr>\n",
       "      <th>3164</th>\n",
       "      <td>2009</td>\n",
       "      <td>10810</td>\n",
       "      <td>10688</td>\n",
       "      <td>0</td>\n",
       "      <td>8</td>\n",
       "      <td>11</td>\n",
       "      <td>60</td>\n",
       "      <td>49</td>\n",
       "      <td>1</td>\n",
       "      <td>0.113019</td>\n",
       "    </tr>\n",
       "    <tr>\n",
       "      <th>3165</th>\n",
       "      <td>2009</td>\n",
       "      <td>7024</td>\n",
       "      <td>10810</td>\n",
       "      <td>0</td>\n",
       "      <td>3</td>\n",
       "      <td>5</td>\n",
       "      <td>60</td>\n",
       "      <td>55</td>\n",
       "      <td>1</td>\n",
       "      <td>0.069208</td>\n",
       "    </tr>\n",
       "    <tr>\n",
       "      <th>3166</th>\n",
       "      <td>2009</td>\n",
       "      <td>7078</td>\n",
       "      <td>10810</td>\n",
       "      <td>0</td>\n",
       "      <td>-9</td>\n",
       "      <td>-18</td>\n",
       "      <td>59</td>\n",
       "      <td>77</td>\n",
       "      <td>0</td>\n",
       "      <td>0.075088</td>\n",
       "    </tr>\n",
       "    <tr>\n",
       "      <th>3167</th>\n",
       "      <td>2009</td>\n",
       "      <td>10688</td>\n",
       "      <td>10810</td>\n",
       "      <td>0</td>\n",
       "      <td>-8</td>\n",
       "      <td>-11</td>\n",
       "      <td>49</td>\n",
       "      <td>60</td>\n",
       "      <td>0</td>\n",
       "      <td>0.068190</td>\n",
       "    </tr>\n",
       "  </tbody>\n",
       "</table>\n",
       "</div>"
      ],
      "text/plain": [
       "      season  team_1  team_2  home  seed_diff  score_diff  score_1  score_2  \\\n",
       "3163    2009    2902   10688     0          7          -2       59       61   \n",
       "3164    2009   10810   10688     0          8          11       60       49   \n",
       "3165    2009    7024   10810     0          3           5       60       55   \n",
       "3166    2009    7078   10810     0         -9         -18       59       77   \n",
       "3167    2009   10688   10810     0         -8         -11       49       60   \n",
       "\n",
       "      won      pred  \n",
       "3163    0  0.106128  \n",
       "3164    1  0.113019  \n",
       "3165    1  0.069208  \n",
       "3166    0  0.075088  \n",
       "3167    0  0.068190  "
      ]
     },
     "execution_count": 13,
     "metadata": {},
     "output_type": "execute_result"
    }
   ],
   "source": [
    "train.tail()"
   ]
  },
  {
   "cell_type": "code",
   "execution_count": 11,
   "metadata": {},
   "outputs": [
    {
     "data": {
      "text/html": [
       "<div>\n",
       "<style scoped>\n",
       "    .dataframe tbody tr th:only-of-type {\n",
       "        vertical-align: middle;\n",
       "    }\n",
       "\n",
       "    .dataframe tbody tr th {\n",
       "        vertical-align: top;\n",
       "    }\n",
       "\n",
       "    .dataframe thead th {\n",
       "        text-align: right;\n",
       "    }\n",
       "</style>\n",
       "<table border=\"1\" class=\"dataframe\">\n",
       "  <thead>\n",
       "    <tr style=\"text-align: right;\">\n",
       "      <th></th>\n",
       "      <th>season</th>\n",
       "      <th>team_1</th>\n",
       "      <th>team_2</th>\n",
       "      <th>home</th>\n",
       "      <th>seed_diff</th>\n",
       "      <th>score_diff</th>\n",
       "      <th>score_1</th>\n",
       "      <th>score_2</th>\n",
       "      <th>won</th>\n",
       "      <th>pred</th>\n",
       "    </tr>\n",
       "  </thead>\n",
       "  <tbody>\n",
       "    <tr>\n",
       "      <th>3168</th>\n",
       "      <td>2010</td>\n",
       "      <td>2365</td>\n",
       "      <td>401</td>\n",
       "      <td>0</td>\n",
       "      <td>15</td>\n",
       "      <td>29</td>\n",
       "      <td>73</td>\n",
       "      <td>44</td>\n",
       "      <td>1</td>\n",
       "      <td>0.169092</td>\n",
       "    </tr>\n",
       "    <tr>\n",
       "      <th>3169</th>\n",
       "      <td>2010</td>\n",
       "      <td>10655</td>\n",
       "      <td>401</td>\n",
       "      <td>0</td>\n",
       "      <td>0</td>\n",
       "      <td>-17</td>\n",
       "      <td>44</td>\n",
       "      <td>61</td>\n",
       "      <td>0</td>\n",
       "      <td>0.161586</td>\n",
       "    </tr>\n",
       "    <tr>\n",
       "      <th>3170</th>\n",
       "      <td>2010</td>\n",
       "      <td>2365</td>\n",
       "      <td>647</td>\n",
       "      <td>0</td>\n",
       "      <td>2</td>\n",
       "      <td>7</td>\n",
       "      <td>78</td>\n",
       "      <td>71</td>\n",
       "      <td>1</td>\n",
       "      <td>0.081605</td>\n",
       "    </tr>\n",
       "    <tr>\n",
       "      <th>3171</th>\n",
       "      <td>2010</td>\n",
       "      <td>6757</td>\n",
       "      <td>647</td>\n",
       "      <td>0</td>\n",
       "      <td>-8</td>\n",
       "      <td>-8</td>\n",
       "      <td>68</td>\n",
       "      <td>76</td>\n",
       "      <td>0</td>\n",
       "      <td>0.083099</td>\n",
       "    </tr>\n",
       "    <tr>\n",
       "      <th>3172</th>\n",
       "      <td>2010</td>\n",
       "      <td>7616</td>\n",
       "      <td>647</td>\n",
       "      <td>0</td>\n",
       "      <td>-11</td>\n",
       "      <td>-9</td>\n",
       "      <td>59</td>\n",
       "      <td>68</td>\n",
       "      <td>0</td>\n",
       "      <td>0.082940</td>\n",
       "    </tr>\n",
       "  </tbody>\n",
       "</table>\n",
       "</div>"
      ],
      "text/plain": [
       "      season  team_1  team_2  home  seed_diff  score_diff  score_1  score_2  \\\n",
       "3168    2010    2365     401     0         15          29       73       44   \n",
       "3169    2010   10655     401     0          0         -17       44       61   \n",
       "3170    2010    2365     647     0          2           7       78       71   \n",
       "3171    2010    6757     647     0         -8          -8       68       76   \n",
       "3172    2010    7616     647     0        -11          -9       59       68   \n",
       "\n",
       "      won      pred  \n",
       "3168    1  0.169092  \n",
       "3169    0  0.161586  \n",
       "3170    1  0.081605  \n",
       "3171    0  0.083099  \n",
       "3172    0  0.082940  "
      ]
     },
     "execution_count": 11,
     "metadata": {},
     "output_type": "execute_result"
    }
   ],
   "source": [
    "test.head()"
   ]
  },
  {
   "cell_type": "code",
   "execution_count": 14,
   "metadata": {},
   "outputs": [
    {
     "name": "stdout",
     "output_type": "stream",
     "text": [
      "Epoch 1/1\n",
      "3168/3168 [==============================] - 0s 109us/step - loss: 9.6182\n"
     ]
    },
    {
     "data": {
      "text/plain": [
       "<keras.callbacks.History at 0x7fed587edb38>"
      ]
     },
     "execution_count": 14,
     "metadata": {},
     "output_type": "execute_result"
    }
   ],
   "source": [
    "# Fit the model to the games_tourney_train dataset using 1 epoch.\n",
    "# The input columns are 'home', 'seed_diff', and 'pred'\n",
    "# The target column is 'score_diff'.\n",
    "model.fit(\n",
    "    train[['home', 'seed_diff', 'pred']], # predictors\n",
    "    train['score_diff'], # target\n",
    "    epochs=1,\n",
    "    verbose=True\n",
    ")"
   ]
  },
  {
   "cell_type": "markdown",
   "metadata": {},
   "source": [
    "Now that we've fit our model to the tournament training data, evaluate it on the tournament test data. Recall that the tournament test data contains games from after 2010."
   ]
  },
  {
   "cell_type": "code",
   "execution_count": 15,
   "metadata": {},
   "outputs": [
    {
     "name": "stdout",
     "output_type": "stream",
     "text": [
      "1066/1066 [==============================] - 0s 84us/step\n"
     ]
    },
    {
     "data": {
      "text/plain": [
       "9.249671923510354"
      ]
     },
     "execution_count": 15,
     "metadata": {},
     "output_type": "execute_result"
    }
   ],
   "source": [
    "# Evaluate the model on the games_tourney_test dataset\n",
    "# Recall that the model's inputs are 'home', 'seed_diff', and 'pred'\n",
    "# columns and the target column is 'score_diff'\n",
    "model.evaluate(\n",
    "    test[['home', 'seed_diff', 'pred']], \n",
    "    test['score_diff']\n",
    ")"
   ]
  }
 ],
 "metadata": {
  "kernelspec": {
   "display_name": "Python 3",
   "language": "python",
   "name": "python3"
  },
  "language_info": {
   "codemirror_mode": {
    "name": "ipython",
    "version": 3
   },
   "file_extension": ".py",
   "mimetype": "text/x-python",
   "name": "python",
   "nbconvert_exporter": "python",
   "pygments_lexer": "ipython3",
   "version": "3.6.8"
  }
 },
 "nbformat": 4,
 "nbformat_minor": 2
}
