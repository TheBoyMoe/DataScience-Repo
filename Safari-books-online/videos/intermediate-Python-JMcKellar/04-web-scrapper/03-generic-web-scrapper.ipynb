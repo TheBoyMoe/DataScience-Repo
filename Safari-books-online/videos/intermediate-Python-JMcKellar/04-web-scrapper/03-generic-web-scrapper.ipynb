{
 "cells": [
  {
   "cell_type": "markdown",
   "metadata": {},
   "source": [
    "# Generic Web Scrapper"
   ]
  },
  {
   "cell_type": "code",
   "execution_count": 17,
   "metadata": {},
   "outputs": [
    {
     "name": "stdout",
     "output_type": "stream",
     "text": [
      "Visiting:  http://cdn.public.hegre.com/galleries/alisa-aphrodisiacal-nudes/alisa-aphrodisiacal-nudes-poster-image-800x.jpg?v=1544645261\n"
     ]
    }
   ],
   "source": [
    "import os\n",
    "import urllib.request\n",
    "from urllib.parse import urljoin\n",
    "from bs4 import BeautifulSoup as bs\n",
    "\n",
    "# base_url = 'http://web.mit.edu/jesstess/www/scraper_test/' # DEBUG - check links are followed\n",
    "base_url = 'https://apod.nasa.gov/apod/archivepix.html'\n",
    "download_directory = 'imgs'\n",
    "\n",
    "# lets store all the links, that we need to visit and that have been visited\n",
    "to_visit = set((base_url,))\n",
    "visited = set()\n",
    "\n",
    "# while there are links to visit(empty sets/lists/dict are False)\n",
    "while to_visit:\n",
    "    # 1. pick a link to visit\n",
    "    current_page = to_visit.pop()\n",
    "    print('Visiting: ', current_page)\n",
    "    visited.add(current_page)\n",
    "    \n",
    "    # 2. visit the link\n",
    "    content = urllib.request.urlopen(current_page).read()\n",
    "    \n",
    "    # 3. extract any new links on the page\n",
    "    for link in bs(content, 'lxml').findAll('a'):\n",
    "        absolute_link = urljoin(current_page, link['href'])\n",
    "        if absolute_link not in visited:\n",
    "            to_visit.add(absolute_link)\n",
    "        else:\n",
    "            print('Page already visited: ', absolute_link)\n",
    "            \n",
    "    # 4. download any images on the page\n",
    "    for img in bs(content, 'lxml').findAll('img'):\n",
    "        img_href = urljoin(current_page, img['src'])\n",
    "        print('Downloading image: ', img_href)\n",
    "        img_name = img_href.split('/')[-1]\n",
    "        urllib.request.urlretrieve(img_href, os.path.join(download_directory, img_name))"
   ]
  },
  {
   "cell_type": "code",
   "execution_count": null,
   "metadata": {},
   "outputs": [],
   "source": []
  }
 ],
 "metadata": {
  "kernelspec": {
   "display_name": "Python 3",
   "language": "python",
   "name": "python3"
  },
  "language_info": {
   "codemirror_mode": {
    "name": "ipython",
    "version": 3
   },
   "file_extension": ".py",
   "mimetype": "text/x-python",
   "name": "python",
   "nbconvert_exporter": "python",
   "pygments_lexer": "ipython3",
   "version": "3.7.1"
  }
 },
 "nbformat": 4,
 "nbformat_minor": 2
}
