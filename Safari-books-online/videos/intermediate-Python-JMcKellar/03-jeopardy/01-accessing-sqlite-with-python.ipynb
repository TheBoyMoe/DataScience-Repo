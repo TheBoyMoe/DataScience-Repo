{
 "cells": [
  {
   "cell_type": "markdown",
   "metadata": {},
   "source": [
    "# Using Python to Interact with a SQL Database"
   ]
  },
  {
   "cell_type": "code",
   "execution_count": 14,
   "metadata": {},
   "outputs": [
    {
     "name": "stdout",
     "output_type": "stream",
     "text": [
      "(2, 6, 0)\n"
     ]
    }
   ],
   "source": [
    "# https://docs.python.org/3/library/sqlite3.html\n",
    "import sqlite3\n",
    "\n",
    "print(sqlite3.version_info)"
   ]
  },
  {
   "cell_type": "code",
   "execution_count": 12,
   "metadata": {},
   "outputs": [
    {
     "name": "stdout",
     "output_type": "stream",
     "text": [
      "<class 'sqlite3.Connection'>\n"
     ]
    }
   ],
   "source": [
    "# open a connection to the dbase\n",
    "connection = sqlite3.connect('jeopardy.db')\n",
    "print(type(connection))"
   ]
  },
  {
   "cell_type": "code",
   "execution_count": 4,
   "metadata": {},
   "outputs": [
    {
     "name": "stdout",
     "output_type": "stream",
     "text": [
      "['DataError', 'DatabaseError', 'Error', 'IntegrityError', 'InterfaceError', 'InternalError', 'NotSupportedError', 'OperationalError', 'ProgrammingError', 'Warning', '__call__', '__class__', '__delattr__', '__dir__', '__doc__', '__enter__', '__eq__', '__exit__', '__format__', '__ge__', '__getattribute__', '__gt__', '__hash__', '__init__', '__init_subclass__', '__le__', '__lt__', '__ne__', '__new__', '__reduce__', '__reduce_ex__', '__repr__', '__setattr__', '__sizeof__', '__str__', '__subclasshook__', 'backup', 'close', 'commit', 'create_aggregate', 'create_collation', 'create_function', 'cursor', 'enable_load_extension', 'execute', 'executemany', 'executescript', 'in_transaction', 'interrupt', 'isolation_level', 'iterdump', 'load_extension', 'rollback', 'row_factory', 'set_authorizer', 'set_progress_handler', 'set_trace_callback', 'text_factory', 'total_changes']\n"
     ]
    }
   ],
   "source": [
    "# methods available - e.g. close, commit, cursor, execute\n",
    "print(dir(connection))"
   ]
  },
  {
   "cell_type": "code",
   "execution_count": 6,
   "metadata": {},
   "outputs": [
    {
     "name": "stdout",
     "output_type": "stream",
     "text": [
      "<class 'sqlite3.Cursor'>\n"
     ]
    }
   ],
   "source": [
    "# cursor - represents where we are currently with a specific query to the database\n",
    "cursor = connection.cursor()\n",
    "print(type(cursor))"
   ]
  },
  {
   "cell_type": "code",
   "execution_count": 8,
   "metadata": {},
   "outputs": [
    {
     "name": "stdout",
     "output_type": "stream",
     "text": [
      "['__class__', '__delattr__', '__dir__', '__doc__', '__eq__', '__format__', '__ge__', '__getattribute__', '__gt__', '__hash__', '__init__', '__init_subclass__', '__iter__', '__le__', '__lt__', '__ne__', '__new__', '__next__', '__reduce__', '__reduce_ex__', '__repr__', '__setattr__', '__sizeof__', '__str__', '__subclasshook__', 'arraysize', 'close', 'connection', 'description', 'execute', 'executemany', 'executescript', 'fetchall', 'fetchmany', 'fetchone', 'lastrowid', 'row_factory', 'rowcount', 'setinputsizes', 'setoutputsize']\n"
     ]
    }
   ],
   "source": [
    "# methods available on cursor\n",
    "print(dir(cursor))"
   ]
  },
  {
   "cell_type": "code",
   "execution_count": 11,
   "metadata": {},
   "outputs": [
    {
     "name": "stdout",
     "output_type": "stream",
     "text": [
      "[(1, 'DETECTIVE FICTION', 1, 0, 0), (2, 'THE OLD TESTAMENT', 2, 0, 0), (3, 'ASIAN HISTORY', 4, 0, 0), (4, 'RIVER SOURCES', 5, 0, 0), (5, 'WORLD RELIGION', 3, 0, 0)]\n"
     ]
    }
   ],
   "source": [
    "cursor.execute('SELECT * FROM category LIMIT 5')\n",
    "print(cursor.fetchall())"
   ]
  },
  {
   "cell_type": "code",
   "execution_count": 18,
   "metadata": {},
   "outputs": [
    {
     "name": "stdout",
     "output_type": "stream",
     "text": [
      "[(1, 'The original author’s last story about this detective was “The Adventure of Shoscombe Old Place”', 1, 1, 200, 'Sherlock Holmes', 0, 1), (2, 'In “The Big Sleep” he says, “I’m 33 years old, went to college once & can still speak English if there’s any demand for it”', 1, 1, 400, 'Marlowe', 0, 2), (3, 'In the April 1841 Graham’s Lady’s and Gentleman’s Magazine, this editor published his new detective story', 1, 1, 600, 'Poe', 0, 3), (4, \"Let's all flock to read Psalm 95, in which humans are compared to these animals\", 2, 2, 200, 'sheep', 0, 1), (5, 'Some say the screech owl in the King James Bible is Lilith, the name given his legendary first wife', 2, 2, 400, 'Adam', 0, 2)]\n"
     ]
    }
   ],
   "source": [
    "cursor.execute('SELECT * FROM clue LIMIT 5')\n",
    "print(cursor.fetchall())"
   ]
  },
  {
   "cell_type": "code",
   "execution_count": 10,
   "metadata": {},
   "outputs": [
    {
     "name": "stdout",
     "output_type": "stream",
     "text": [
      "[('DETECTIVE FICTION',), ('THE OLD TESTAMENT',), ('ASIAN HISTORY',), ('RIVER SOURCES',), ('WORLD RELIGION',), ('SEAN SONG',), ('ANIMATED MOVIES',), ('NEW YORK CITY',), ('AFRICAN WILDLIFE',), ('LITTLE RED RIDING HOOD',)]\n"
     ]
    }
   ],
   "source": [
    "# query the database\n",
    "cursor.execute('SELECT name from category LIMIT 10')\n",
    "results = cursor.fetchall()\n",
    "print(results) # returns a list of tuples conaining the name"
   ]
  },
  {
   "cell_type": "code",
   "execution_count": 19,
   "metadata": {},
   "outputs": [
    {
     "data": {
      "text/plain": [
       "'DETECTIVE FICTION'"
      ]
     },
     "execution_count": 19,
     "metadata": {},
     "output_type": "execute_result"
    }
   ],
   "source": [
    "# to retrieve the actual string value for the 1st tuple\n",
    "category = results[0][0]\n",
    "category"
   ]
  },
  {
   "cell_type": "code",
   "execution_count": 22,
   "metadata": {},
   "outputs": [
    {
     "data": {
      "text/plain": [
       "['DETECTIVE FICTION',\n",
       " 'THE OLD TESTAMENT',\n",
       " 'ASIAN HISTORY',\n",
       " 'RIVER SOURCES',\n",
       " 'WORLD RELIGION',\n",
       " 'SEAN SONG',\n",
       " 'ANIMATED MOVIES',\n",
       " 'NEW YORK CITY',\n",
       " 'AFRICAN WILDLIFE',\n",
       " 'LITTLE RED RIDING HOOD']"
      ]
     },
     "execution_count": 22,
     "metadata": {},
     "output_type": "execute_result"
    }
   ],
   "source": [
    "# retrieve all results\n",
    "categories = [cat[0] for cat in results]\n",
    "categories"
   ]
  },
  {
   "cell_type": "code",
   "execution_count": 23,
   "metadata": {},
   "outputs": [],
   "source": [
    "# close the connection when we're done\n",
    "connection.close()"
   ]
  }
 ],
 "metadata": {
  "kernelspec": {
   "display_name": "Python 3",
   "language": "python",
   "name": "python3"
  },
  "language_info": {
   "codemirror_mode": {
    "name": "ipython",
    "version": 3
   },
   "file_extension": ".py",
   "mimetype": "text/x-python",
   "name": "python",
   "nbconvert_exporter": "python",
   "pygments_lexer": "ipython3",
   "version": "3.7.1"
  }
 },
 "nbformat": 4,
 "nbformat_minor": 2
}
