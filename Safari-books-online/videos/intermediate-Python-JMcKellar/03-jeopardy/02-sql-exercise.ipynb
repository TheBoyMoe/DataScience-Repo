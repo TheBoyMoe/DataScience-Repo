{
 "cells": [
  {
   "cell_type": "markdown",
   "metadata": {},
   "source": [
    "# Sql Exercise"
   ]
  },
  {
   "cell_type": "code",
   "execution_count": 10,
   "metadata": {},
   "outputs": [
    {
     "name": "stdout",
     "output_type": "stream",
     "text": [
      "[(1, 'DETECTIVE FICTION', 1, 0, 0), (2, 'THE OLD TESTAMENT', 2, 0, 0), (3, 'ASIAN HISTORY', 4, 0, 0), (4, 'RIVER SOURCES', 5, 0, 0), (5, 'WORLD RELIGION', 3, 0, 0)]\n",
      "********************************************************************************\n",
      "['DETECTIVE FICTION', 'THE OLD TESTAMENT', 'ASIAN HISTORY', 'RIVER SOURCES', 'WORLD RELIGION']\n"
     ]
    }
   ],
   "source": [
    "# query the category database\n",
    "import sqlite3\n",
    "\n",
    "connection = sqlite3.connect('jeopardy.db')\n",
    "cursor = connection.cursor()\n",
    "cursor.execute('SELECT * FROM category LIMIT 5')\n",
    "results = cursor.fetchall()\n",
    "print(results)\n",
    "categories = [cat[1] for cat in results] # iterate over cursor, grabbing each value\n",
    "connection.close()\n",
    "print('*' * 80)\n",
    "print(categories)"
   ]
  },
  {
   "cell_type": "code",
   "execution_count": 20,
   "metadata": {},
   "outputs": [
    {
     "name": "stdout",
     "output_type": "stream",
     "text": [
      "[$200]\n",
      "Question: The original author’s last story about this detective was “The Adventure of Shoscombe Old Place”\n",
      "Answer: what is Sherlock Holmes\n",
      "[$400]\n",
      "Question: In “The Big Sleep” he says, “I’m 33 years old, went to college once & can still speak English if there’s any demand for it”\n",
      "Answer: what is Marlowe\n"
     ]
    }
   ],
   "source": [
    "# query the clue database\n",
    "connection = sqlite3.connect('jeopardy.db')\n",
    "cursor = connection.cursor()\n",
    "cursor.execute('SELECT text, answer, value FROM clue LIMIT 2')\n",
    "clues = cursor.fetchall()\n",
    "for clue in clues:\n",
    "    print('[${}]'.format(clue[2]))\n",
    "    print('Question: {}'.format(clue[0]))\n",
    "    print('Answer: what is {}'.format(clue[1]))\n",
    "connection.close()"
   ]
  },
  {
   "cell_type": "code",
   "execution_count": null,
   "metadata": {},
   "outputs": [],
   "source": []
  }
 ],
 "metadata": {
  "kernelspec": {
   "display_name": "Python 3",
   "language": "python",
   "name": "python3"
  },
  "language_info": {
   "codemirror_mode": {
    "name": "ipython",
    "version": 3
   },
   "file_extension": ".py",
   "mimetype": "text/x-python",
   "name": "python",
   "nbconvert_exporter": "python",
   "pygments_lexer": "ipython3",
   "version": "3.7.1"
  }
 },
 "nbformat": 4,
 "nbformat_minor": 2
}
