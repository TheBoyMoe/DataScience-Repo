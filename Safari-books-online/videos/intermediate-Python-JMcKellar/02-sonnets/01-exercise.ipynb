{
 "cells": [
  {
   "cell_type": "code",
   "execution_count": 18,
   "metadata": {},
   "outputs": [
    {
     "name": "stdout",
     "output_type": "stream",
     "text": [
      "Total elapsed time 14.1\n",
      "Total new words: 36\n"
     ]
    }
   ],
   "source": [
    "# What words appear in the Sonnets that do not appear in the sowpods(scrabble) dictionary\n",
    "import time\n",
    "\n",
    "my_words = [elt.strip() for elt in open(\"sonnet_words.txt\", \"r\").readlines()]\n",
    "word_list = [elt.strip() for elt in open(\"sowpods.txt\", \"r\").readlines()]\n",
    "\n",
    "counter = 0\n",
    "\n",
    "# measure the length of time it takes the for loop to run\n",
    "# looking up the words in a word list\n",
    "start = time.time()\n",
    "for word in my_words:\n",
    "    if word not in word_list:\n",
    "        # print(word)\n",
    "        counter += 1\n",
    "        \n",
    "stop = time.time()\n",
    "print('Total elapsed time %.1f' % (stop - start))\n",
    "print(\"Total new words: %d\" % counter)"
   ]
  },
  {
   "cell_type": "code",
   "execution_count": 19,
   "metadata": {},
   "outputs": [
    {
     "name": "stdout",
     "output_type": "stream",
     "text": [
      "Total elapsed time 0.0\n",
      "Total new words: 36\n"
     ]
    }
   ],
   "source": [
    "# Version 2 - look up the words in a dictionary\n",
    "\n",
    "# convert wordlist in to dictionary(map to digit 1, since value does not matter)\n",
    "word_dict = {elt:1 for elt in word_list} \n",
    "\n",
    "counter = 0\n",
    "\n",
    "# measure the length of time it takes the for loop to run\n",
    "start = time.time()\n",
    "for word in my_words:\n",
    "    if word not in word_dict:\n",
    "        # print(word)\n",
    "        counter += 1\n",
    "        \n",
    "stop = time.time()\n",
    "print('Total elapsed time %.1f' % (stop - start))\n",
    "print(\"Total new words: %d\" % counter)"
   ]
  },
  {
   "cell_type": "code",
   "execution_count": 20,
   "metadata": {},
   "outputs": [
    {
     "name": "stdout",
     "output_type": "stream",
     "text": [
      "Total elapsed time 0.0\n",
      "Total new words: 36\n"
     ]
    }
   ],
   "source": [
    "# Version 3 - look up the words in a Set\n",
    "# sets have the same look up properties/performance of dictionaries, \n",
    "# without having to create a key:value pair, there are no values\n",
    "\n",
    "# convert wordlist in to set\n",
    "word_set = set(word_list) \n",
    "\n",
    "counter = 0\n",
    "\n",
    "# measure the length of time it takes the for loop to run\n",
    "start = time.time()\n",
    "for word in my_words:\n",
    "    if word not in word_set:\n",
    "        # print(word)\n",
    "        counter += 1\n",
    "        \n",
    "stop = time.time()\n",
    "print('Total elapsed time %.1f' % (stop - start))\n",
    "print(\"Total new words: %d\" % counter)"
   ]
  },
  {
   "cell_type": "markdown",
   "metadata": {},
   "source": [
    "### Key Takeaway\n",
    "\n",
    "Where you want to **lookup** items --> **use a dictionary** (the hash of the key gives you the location)\n",
    "\n",
    "Where **order** or **sorting** of items matter --> **use a list**. \n",
    "\n",
    "For find(and insert) operations in lists the length of time taken is proportional to the length of the list (you have to examine each item in turn unitl you find a match) - you have to traverse the whole list potentially in both operations.\n",
    "   \n",
    "![List Dict Comparison](img/list-dict-1.png)\n",
    "![List Dict Comparison](img/list-dict-2.png)"
   ]
  }
 ],
 "metadata": {
  "kernelspec": {
   "display_name": "Python 3",
   "language": "python",
   "name": "python3"
  },
  "language_info": {
   "codemirror_mode": {
    "name": "ipython",
    "version": 3
   },
   "file_extension": ".py",
   "mimetype": "text/x-python",
   "name": "python",
   "nbconvert_exporter": "python",
   "pygments_lexer": "ipython3",
   "version": "3.7.1"
  }
 },
 "nbformat": 4,
 "nbformat_minor": 2
}
