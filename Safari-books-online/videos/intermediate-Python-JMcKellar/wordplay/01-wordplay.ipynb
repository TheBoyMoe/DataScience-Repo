{
 "cells": [
  {
   "cell_type": "markdown",
   "metadata": {},
   "source": [
    "# Wordplay"
   ]
  },
  {
   "cell_type": "code",
   "execution_count": 1,
   "metadata": {},
   "outputs": [
    {
     "name": "stdout",
     "output_type": "stream",
     "text": [
      "['busuuti', 'busuutis', 'carduus', 'carduuses', 'continuum', 'continuums', 'duumvir', 'duumviral', 'duumvirate', 'duumvirates', 'duumviri', 'duumvirs', 'individuum', 'lituus', 'lituuses', 'menstruum', 'menstruums', 'mutuum', 'mutuums', 'muumuu', 'muumuus', 'paramenstruum', 'paramenstruums', 'residuum', 'residuums', 'squush', 'squushed', 'squushes', 'squushing', 'triduum', 'triduums', 'ultravacuum', 'ultravacuums', 'vacuum', 'vacuumed', 'vacuuming', 'vacuums', 'weltanschauung', 'weltanschauungs']\n"
     ]
    }
   ],
   "source": [
    "import scrabble\n",
    "\n",
    "# print all words containing 'uu'\n",
    "\n",
    "words = []\n",
    "\n",
    "# this particular version takes too long to run\n",
    "# f = open('sowpods.txt', 'r')\n",
    "# scrabble_list = [line.strip() for line in f] # list of scrabble words\n",
    "# for word in scrabble_list:\n",
    "#     if 'uu' in word:\n",
    "#         print(word)\n",
    "#         words.append(word)\n",
    "# f.close()\n",
    "\n",
    "wordlist = scrabble.wordlist\n",
    "for word in wordlist:\n",
    "    if 'uu' in word:\n",
    "        words.append(word)\n",
    "print(words)"
   ]
  },
  {
   "cell_type": "code",
   "execution_count": 2,
   "metadata": {},
   "outputs": [
    {
     "name": "stdout",
     "output_type": "stream",
     "text": [
      "['q', 'x']\n"
     ]
    }
   ],
   "source": [
    "# what are all of the letters that NEVER appear double, e.g. 'rr' in the English Language\n",
    "import string\n",
    "\n",
    "# alphabet = 'abcdefghijklmnopqrstuvwxyz'\n",
    "alphabet = string.ascii_lowercase\n",
    "\n",
    "doubles = []\n",
    "for letter in alphabet:\n",
    "    exists = False\n",
    "    for word in wordlist:\n",
    "        if letter * 2 in word:\n",
    "            exists = True # we've found an example of the letter appearing 'double'\n",
    "            break\n",
    "    if not exists: # if exists is still false\n",
    "        doubles.append(letter)\n",
    "            \n",
    "print(doubles)"
   ]
  },
  {
   "cell_type": "code",
   "execution_count": 3,
   "metadata": {},
   "outputs": [],
   "source": [
    "# find all words that contain all vowels\n",
    "vowels = 'aeiou'\n",
    "has_vowels = []\n",
    "for word in wordlist:\n",
    "    exists = True\n",
    "    for vowel in vowels:\n",
    "        if vowel not in word:\n",
    "            exists = False\n",
    "            break\n",
    "    if exists:\n",
    "        has_vowels.append(word)"
   ]
  },
  {
   "cell_type": "code",
   "execution_count": 21,
   "metadata": {},
   "outputs": [
    {
     "data": {
      "text/plain": [
       "3405"
      ]
     },
     "execution_count": 21,
     "metadata": {},
     "output_type": "execute_result"
    }
   ],
   "source": [
    "len(has_vowels)"
   ]
  },
  {
   "cell_type": "code",
   "execution_count": 26,
   "metadata": {},
   "outputs": [
    {
     "name": "stdout",
     "output_type": "stream",
     "text": [
      "['aa', 'aba', 'abba', 'acca', 'aga', 'aha', 'aia', 'aka', 'ala', 'alula', 'ama', 'ana', 'anana', 'anna', 'araara', 'ataata', 'aua', 'ava', 'awa', 'bib', 'bob', 'boob', 'bub', 'civic', 'dad', 'deed', 'degged', 'deified', 'deked', 'deled', 'denned', 'dered', 'dewed', 'did', 'dod', 'dud', 'ecce', 'ee', 'eke', 'eme', 'ene', 'ere', 'esse', 'eve', 'ewe', 'eye', 'gag', 'gig', 'goog', 'hadedah', 'hah', 'hajjah', 'halalah', 'hallah', 'heh', 'hoh', 'huh', 'iwi', 'kaiak', 'kak', 'kayak', 'keek', 'kook', 'lemel', 'level', 'madam', 'malam', 'mallam', 'mam', 'marram', 'mem', 'mim', 'minim', 'mm', 'mom', 'mum', 'naan', 'nan', 'non', 'noon', 'nun', 'obo', 'oho', 'ono', 'oo', 'oppo', 'otto', 'oxo', 'pap', 'peep', 'pep', 'pip', 'poop', 'pop', 'pullup', 'pup', 'radar', 'redder', 'refer', 'reifier', 'repaper', 'reviver', 'rotator', 'rotavator', 'rotor', 'sagas', 'samas', 'sedes', 'sees', 'seities', 'seles', 'selles', 'sememes', 'semes', 'seres', 'serres', 'sesses', 'sexes', 'shahs', 'simis', 'siris', 'sis', 'solos', 'sos', 'stats', 'stets', 'stots', 'succus', 'sulus', 'sus', 'susus', 'tallat', 'tat', 'tenet', 'terret', 'tet', 'tirrit', 'tit', 'toot', 'torot', 'tot', 'tut', 'ulu', 'umu', 'utu', 'vav', 'waw', 'wow', 'yay', 'ziz', 'zuz', 'zzz']\n",
      "Number:152\n",
      "Palindrome:rotavator\n"
     ]
    }
   ],
   "source": [
    "# what is the longest pallindrome (a word spelt the same forwards and backwords)\n",
    "def reverse_string(word):\n",
    "    lst = [char for char in word]\n",
    "    lst.reverse()\n",
    "    return ''.join(lst)\n",
    "# print(reverse_string('abcdefgh')) # DEBUG\n",
    "\n",
    "# find a palindrome\n",
    "def is_palindrome(word):\n",
    "    reverse_word = reverse_string(word)\n",
    "    return word == reverse_word\n",
    "\n",
    "# iterate through the wordlist looking for palindromes\n",
    "palindromes = []\n",
    "for word in scrabble.wordlist:\n",
    "    if is_palindrome(word):\n",
    "        palindromes.append(word)\n",
    "        \n",
    "# discover the longest palindrome\n",
    "length = 0\n",
    "palindrome = ''\n",
    "for word in palindromes:\n",
    "    if len(word) > length:\n",
    "        length = len(word)\n",
    "        palindrome = word\n",
    "        \n",
    "print(palindromes)\n",
    "print('Number:' + str(len(palindromes)))\n",
    "print('Palindrome:' + palindrome)"
   ]
  },
  {
   "cell_type": "code",
   "execution_count": 28,
   "metadata": {},
   "outputs": [
    {
     "name": "stdout",
     "output_type": "stream",
     "text": [
      "rotavator\n"
     ]
    }
   ],
   "source": [
    "# Find longest palindrom, Video version 1\n",
    "longest = ''\n",
    "for word in scrabble.wordlist:\n",
    "    is_palindrome = True\n",
    "    # check if the word is a palindrome\n",
    "    for i in range(len(word)):\n",
    "        if word[i] != word[-(i + 1)]: # compare front with back\n",
    "            is_palindrome = False\n",
    "    if is_palindrome and len(word) > len(longest):\n",
    "        longest = word\n",
    "        \n",
    "print(longest)"
   ]
  },
  {
   "cell_type": "code",
   "execution_count": 29,
   "metadata": {},
   "outputs": [
    {
     "name": "stdout",
     "output_type": "stream",
     "text": [
      "rotavator\n"
     ]
    }
   ],
   "source": [
    "# Find longest palindrom, Video version 2\n",
    "longest = ''\n",
    "for word in scrabble.wordlist:\n",
    "    if list(word) == list(reversed(word)) and len(word) > len(longest):\n",
    "        longest = word\n",
    "        \n",
    "print(longest)"
   ]
  },
  {
   "cell_type": "code",
   "execution_count": 36,
   "metadata": {},
   "outputs": [
    {
     "name": "stdout",
     "output_type": "stream",
     "text": [
      "rotavator\n"
     ]
    }
   ],
   "source": [
    "# Find longest palindrom, Video version 3\n",
    "# word[:] creates a copy of a string using slice\n",
    "# word[::-1] creates a reversed copy of a string using slice, but starting from the back\n",
    "longest = ''\n",
    "for word in scrabble.wordlist:\n",
    "    if word == word[::-1] and len(word) > len(longest):\n",
    "        longest = word\n",
    "        \n",
    "print(longest)"
   ]
  },
  {
   "cell_type": "code",
   "execution_count": null,
   "metadata": {},
   "outputs": [],
   "source": []
  }
 ],
 "metadata": {
  "kernelspec": {
   "display_name": "Python 3",
   "language": "python",
   "name": "python3"
  },
  "language_info": {
   "codemirror_mode": {
    "name": "ipython",
    "version": 3
   },
   "file_extension": ".py",
   "mimetype": "text/x-python",
   "name": "python",
   "nbconvert_exporter": "python",
   "pygments_lexer": "ipython3",
   "version": "3.7.1"
  }
 },
 "nbformat": 4,
 "nbformat_minor": 2
}
