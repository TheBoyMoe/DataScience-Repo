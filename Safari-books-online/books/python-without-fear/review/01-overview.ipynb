{
 "cells": [
  {
   "cell_type": "markdown",
   "metadata": {},
   "source": [
    "# Python basics\n",
    "\n",
    "Unlike most languages, Python has no “begin block” or “end block” syntax—all relationships are based on indentation.\n",
    "\n",
    "Python has no variable declarations. You create variables by assigning values to them.\n",
    "\n",
    "Python is built heavily on the idea of iteration, which means looping through sequences.\n",
    "\n",
    "The end of a physical line usually terminates a Python statement, there is no statement-terminator. However, an open parenthesis, curly brace, or bracket automatically continues the virtual line to the next physical line. an open parenthesis, bracket or curly brace, creates a situation in which you can freely continue the statement onto other lines, until the parenthesis, etc is matched. This is one case in which indentation doesn’t matter.\n",
    "\n",
    "If you really need to continue a physical line and have no alternative, you can use a backslash, `\\`.\n",
    "\n",
    "**Numbers**\n",
    "\n",
    "In Python, integers are absolutely precise(never lose precision), which means that no matter how high they get, adding 1 always creates a new value. That is not true of floating-point numbers."
   ]
  },
  {
   "cell_type": "code",
   "execution_count": 1,
   "metadata": {},
   "outputs": [
    {
     "name": "stdout",
     "output_type": "stream",
     "text": [
      "10000000000000000000000000000000000000000000000000000000000000000000000000000000000000000000000000000\n"
     ]
    }
   ],
   "source": [
    "googol = 10 ** 100\n",
    "print(googol)"
   ]
  },
  {
   "cell_type": "code",
   "execution_count": 2,
   "metadata": {},
   "outputs": [
    {
     "name": "stdout",
     "output_type": "stream",
     "text": [
      "10000000000000000000000000000000000000000000000000000000000000000000000000000000000000000000000000001\n"
     ]
    }
   ],
   "source": [
    "print(googol + 1)"
   ]
  },
  {
   "cell_type": "markdown",
   "metadata": {},
   "source": [
    "Unlike Python 2, in Python 3, when interger devision produces a fractional result, a floating point number is returned. In Python three this was rounded down."
   ]
  },
  {
   "cell_type": "code",
   "execution_count": 3,
   "metadata": {},
   "outputs": [
    {
     "data": {
      "text/plain": [
       "1.5"
      ]
     },
     "execution_count": 3,
     "metadata": {},
     "output_type": "execute_result"
    }
   ],
   "source": [
    "3/2"
   ]
  },
  {
   "cell_type": "markdown",
   "metadata": {},
   "source": [
    "With Python 2 you can return a float in these situations by ensuring the denominator is a flot, e.g. `3/float(2)`.\n",
    "\n",
    "You can freely integers and floats in math expresions.\n",
    "\n",
    "Floating point numbers have limited precision. Where you need precision, one work around is to multiply the number by 100/1000/etc until you have an integer, perform the operation and then divide it gy the same multiple."
   ]
  },
  {
   "cell_type": "markdown",
   "metadata": {},
   "source": [
    "**variables**\n",
    "\n",
    "In Python, there are NO variable declarations, only assignments.\n",
    "\n",
    "The first letter in a variable (or other symbolic name) must be an underscore, `_`, or a letter.\n",
    "\n",
    "The other characters may be any combination of underscores, letters, and numerals.\n",
    "\n",
    "Python has some shortcuts when it comes to variable assignments:"
   ]
  },
  {
   "cell_type": "code",
   "execution_count": 4,
   "metadata": {},
   "outputs": [
    {
     "name": "stdout",
     "output_type": "stream",
     "text": [
      "5 5 5 5 5\n"
     ]
    }
   ],
   "source": [
    "# assign the same value to multiple variables\n",
    "a = b = c = d = e = 5\n",
    "print(a,b,c,d,e)"
   ]
  },
  {
   "cell_type": "code",
   "execution_count": 8,
   "metadata": {},
   "outputs": [
    {
     "name": "stdout",
     "output_type": "stream",
     "text": [
      "1 2 3 4 5\n"
     ]
    }
   ],
   "source": [
    "# assign multiple values to multiple variables \n",
    "# - serial assignment or tuple assignment\n",
    "a, b, c, d, e = 1, 2, 3, 4, 5\n",
    "print(a, b, c, d, e)"
   ]
  },
  {
   "cell_type": "code",
   "execution_count": 9,
   "metadata": {},
   "outputs": [
    {
     "name": "stdout",
     "output_type": "stream",
     "text": [
      "10 8\n"
     ]
    }
   ],
   "source": [
    "# we can also do operations such as - again, tuple assignment:\n",
    "# the operations occur simultaneously, we don't have to care about the timinig\n",
    "# the operations on the right use the old values\n",
    "a, b = a + b + c + d, a + b + e\n",
    "print(a, b)"
   ]
  }
 ],
 "metadata": {
  "kernelspec": {
   "display_name": "Python 3",
   "language": "python",
   "name": "python3"
  },
  "language_info": {
   "codemirror_mode": {
    "name": "ipython",
    "version": 3
   },
   "file_extension": ".py",
   "mimetype": "text/x-python",
   "name": "python",
   "nbconvert_exporter": "python",
   "pygments_lexer": "ipython3",
   "version": "3.6.7"
  }
 },
 "nbformat": 4,
 "nbformat_minor": 2
}
