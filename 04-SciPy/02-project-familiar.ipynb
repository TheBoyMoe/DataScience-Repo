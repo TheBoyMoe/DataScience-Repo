{
 "cells": [
  {
   "cell_type": "code",
   "execution_count": 1,
   "metadata": {},
   "outputs": [],
   "source": [
    "import numpy as np\n",
    "from scipy.stats import ttest_1samp\n",
    "from scipy.stats import ttest_ind\n",
    "from scipy.stats import chi2_contingency"
   ]
  },
  {
   "cell_type": "markdown",
   "metadata": {},
   "source": [
    "#### Vein pack tests"
   ]
  },
  {
   "cell_type": "code",
   "execution_count": 2,
   "metadata": {},
   "outputs": [],
   "source": [
    "vein_pack_lifespans = [76.93767431371617, 75.99335913014681, 74.79815012354048, 74.50202147158551, 77.48888897587436, 72.14256573154043, 75.99303167191182, 76.34155048095228, 77.48475562999882, 76.5321014800867, 76.25508955276418, 77.58398316566651, 77.04737034962294, 72.87475174594711, 77.43504547002844, 77.4923414107892, 78.32672046879952, 73.34370246887067, 79.96915765236346, 74.83800583300325]"
   ]
  },
  {
   "cell_type": "code",
   "execution_count": 3,
   "metadata": {},
   "outputs": [
    {
     "name": "stdout",
     "output_type": "stream",
     "text": [
      "76.16901335636044\n"
     ]
    }
   ],
   "source": [
    "# actual average lifespan\n",
    "vein_lifespan = np.array(vein_pack_lifespans)\n",
    "vein_lifespan_mean = np.mean(vein_lifespan)\n",
    "print(vein_lifespan_mean)"
   ]
  },
  {
   "cell_type": "code",
   "execution_count": 12,
   "metadata": {},
   "outputs": [
    {
     "name": "stdout",
     "output_type": "stream",
     "text": [
      "0.0000000003\n"
     ]
    }
   ],
   "source": [
    "# expected average life span 71\n",
    "# If it's less than 0.05, we've got significance!\n",
    "# tstat, vein_pack_test = ttest_1samp(vein_lifespan, 71)\n",
    "vein_pack_test = ttest_1samp(vein_pack_lifespans, 71)\n",
    "print(format(vein_pack_test.pvalue, '0.10f'))"
   ]
  },
  {
   "cell_type": "markdown",
   "metadata": {},
   "source": [
    "#### Artery pack tests"
   ]
  },
  {
   "cell_type": "code",
   "execution_count": 5,
   "metadata": {},
   "outputs": [],
   "source": [
    "artery_pack_lifespans = [76.33537008426835, 76.92308231559062, 75.9524416448778, 74.5449834807203, 76.4045042754472, 73.07924888636576, 77.02354461052992, 74.1174204200688, 77.38650656208344, 73.04476583718993, 74.96311850866167, 73.31954301933486, 75.85740137696862, 76.15265351351255, 73.3551028632267, 73.90221256458788, 73.77121195092475, 68.31489830285578, 74.63975717775328, 78.38547730843979]"
   ]
  },
  {
   "cell_type": "code",
   "execution_count": 6,
   "metadata": {},
   "outputs": [
    {
     "name": "stdout",
     "output_type": "stream",
     "text": [
      "74.8736622351704\n"
     ]
    }
   ],
   "source": [
    "# actual average lifespan\n",
    "artery_lifespan = np.array(artery_pack_lifespans)\n",
    "artery_lifespan_mean = np.mean(artery_lifespan)\n",
    "print(artery_lifespan_mean)"
   ]
  },
  {
   "cell_type": "code",
   "execution_count": 13,
   "metadata": {},
   "outputs": [
    {
     "name": "stdout",
     "output_type": "stream",
     "text": [
      "0.05588883079070819\n"
     ]
    }
   ],
   "source": [
    "#  If the p-value from our experiment is less than 0.05, the results are significant \n",
    "# tstat, package_comparison_results = ttest_ind(vein_lifespan, artery_lifespan)\n",
    "package_comparison_results = ttest_ind(vein_pack_lifespans, artery_pack_lifespans)\n",
    "print(package_comparison_results.pvalue)"
   ]
  },
  {
   "cell_type": "markdown",
   "metadata": {},
   "source": [
    "Since the p-value was greater than 0.05, we can't say that there is a significant difference between the life expectancy of the two packages."
   ]
  },
  {
   "cell_type": "markdown",
   "metadata": {},
   "source": [
    "We've sent out a survey collecting the iron counts for our subscribers, and filtered that data into \"low\", \"normal\", and \"high\".\n",
    "\n",
    "We received 200 responses from our Vein Package subscribers. 70% of them had low iron counts, 20% had normal, and 10% of them have high iron counts.\n",
    "\n",
    "We were only able to get 145 responses from our Artery Package subscribers, but only 20% of them had low iron counts. 60% had normal, and 20% have high iron counts.\n",
    "\n",
    "The data has been collated into the `iron_contingency_table`"
   ]
  },
  {
   "cell_type": "code",
   "execution_count": 8,
   "metadata": {},
   "outputs": [],
   "source": [
    "iron_contingency_table = [[140, 29], [40, 87], [20, 29]]"
   ]
  },
  {
   "cell_type": "code",
   "execution_count": 14,
   "metadata": {},
   "outputs": [
    {
     "name": "stdout",
     "output_type": "stream",
     "text": [
      "0.0000000000000000003\n"
     ]
    }
   ],
   "source": [
    "# Chi-Squared returns the test statistic, the p-value(iron_value), the number of degrees of freedom, and the expected frequencies.\n",
    "chi2, iron_value, dof, expected = chi2_contingency(iron_contingency_table)\n",
    "print(format(iron_value, '0.19f'))"
   ]
  },
  {
   "cell_type": "markdown",
   "metadata": {},
   "source": [
    "Conclusion, even though the artery pack does NOT increase your lifespan any more than the vein pack, it does increase your iron levels significantly more."
   ]
  }
 ],
 "metadata": {
  "kernelspec": {
   "display_name": "Python 3",
   "language": "python",
   "name": "python3"
  },
  "language_info": {
   "codemirror_mode": {
    "name": "ipython",
    "version": 3
   },
   "file_extension": ".py",
   "mimetype": "text/x-python",
   "name": "python",
   "nbconvert_exporter": "python",
   "pygments_lexer": "ipython3",
   "version": "3.7.0"
  }
 },
 "nbformat": 4,
 "nbformat_minor": 2
}
