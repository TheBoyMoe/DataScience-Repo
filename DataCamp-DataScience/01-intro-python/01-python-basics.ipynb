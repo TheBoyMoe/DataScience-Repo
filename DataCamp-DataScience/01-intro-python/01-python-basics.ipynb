{
 "cells": [
  {
   "cell_type": "markdown",
   "metadata": {},
   "source": [
    "# Python Basics"
   ]
  },
  {
   "cell_type": "markdown",
   "metadata": {},
   "source": [
    "## Type Coercion\n",
    "\n",
    "In Python you CAN NOT sum numbers(int/float) with strings, e.g."
   ]
  },
  {
   "cell_type": "markdown",
   "metadata": {},
   "source": [
    "The following returns a `TypeError`:\n",
    "\n",
    "```py\n",
    "savings = 100\n",
    "result = 100 * 1.1 ** 7\n",
    "print('I started with $' + savings + ' and ended with $' + result + '.') # TypeError\n",
    "```\n",
    "You CAN NOT add strings with int/floats. You need to use the `str()`, e.g."
   ]
  },
  {
   "cell_type": "code",
   "execution_count": 2,
   "metadata": {},
   "outputs": [
    {
     "name": "stdout",
     "output_type": "stream",
     "text": [
      "I started with $100 and ended with $194.87171000000012.\n"
     ]
    }
   ],
   "source": [
    "savings = 100\n",
    "result = 100 * 1.1 ** 7\n",
    "print('I started with $' + str(savings) + ' and ended with $' + str(result) + '.')"
   ]
  },
  {
   "cell_type": "markdown",
   "metadata": {},
   "source": [
    "IMPLICIT datatype coercion occurs when you add/multiply/divide/substract/modulo between INTERGERS and FLOATS. Fails with ALL other datatypes, except string * number, e.g. `'aa' * 2 -> 'aaaa'`\n",
    "\n",
    "Use EXPLICIT coercian instead\n",
    "\n",
    "Explicit coercion involves using one of the following methods:\n",
    " - `str()` convert any datatype to string\n",
    " - `int()` convert string representations of integers to int(does NOT work with floats), boolean `True` to 1, `False` to 0.\n",
    " - `float()` convert string representations of ints/floats to floats, bool `True` to 1.0, `False` to 0.0. All other values return an error `TypeError` or `ValidError`\n",
    " - `bool()` See list below"
   ]
  },
  {
   "cell_type": "markdown",
   "metadata": {},
   "source": [
    "## 'Truthy' & 'Falsy' Values in Python\n",
    "\n",
    "The following are considered 'False', return `False` when tested with `bool()`\n",
    " - `None`\n",
    " - `False`\n",
    " - `0` and `0.0`\n",
    " - `''`, `[]`, `()`, `{}`\n",
    " \n",
    "ALL other objects are considered `True` \n",
    " \n",
    " "
   ]
  },
  {
   "cell_type": "code",
   "execution_count": null,
   "metadata": {},
   "outputs": [],
   "source": []
  }
 ],
 "metadata": {
  "kernelspec": {
   "display_name": "Python 3",
   "language": "python",
   "name": "python3"
  },
  "language_info": {
   "codemirror_mode": {
    "name": "ipython",
    "version": 3
   },
   "file_extension": ".py",
   "mimetype": "text/x-python",
   "name": "python",
   "nbconvert_exporter": "python",
   "pygments_lexer": "ipython3",
   "version": "3.7.0"
  }
 },
 "nbformat": 4,
 "nbformat_minor": 2
}
