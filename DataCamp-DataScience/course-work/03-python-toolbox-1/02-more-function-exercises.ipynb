{
 "cells": [
  {
   "cell_type": "markdown",
   "metadata": {},
   "source": [
    "# More Function Exercises\n",
    "\n",
    "Generalize the Twitter language analysis of the previous exercise. You will do that by including a default argument that takes a column name."
   ]
  },
  {
   "cell_type": "code",
   "execution_count": 13,
   "metadata": {},
   "outputs": [
    {
     "data": {
      "text/plain": [
       "Index(['contributors', 'coordinates', 'created_at', 'entities',\n",
       "       'extended_entities', 'favorite_count', 'favorited', 'filter_level',\n",
       "       'geo', 'id_str', 'in_reply_to_screen_name', 'in_reply_to_status_id',\n",
       "       'in_reply_to_status_id_str', 'in_reply_to_user_id',\n",
       "       'in_reply_to_user_id_str', 'is_quote_status', 'lang', 'place',\n",
       "       'possibly_sensitive', 'quoted_status', 'quoted_status_id',\n",
       "       'quoted_status_id_str', 'retweet_count', 'retweeted',\n",
       "       'retweeted_status', 'source', 'text', 'timestamp_ms', 'truncated',\n",
       "       'user'],\n",
       "      dtype='object')"
      ]
     },
     "execution_count": 13,
     "metadata": {},
     "output_type": "execute_result"
    }
   ],
   "source": [
    "import pandas as pd\n",
    "\n",
    "tweets_df = pd.read_csv('tweets.csv', index_col='id')\n",
    "tweets_df.columns"
   ]
  },
  {
   "cell_type": "code",
   "execution_count": 4,
   "metadata": {},
   "outputs": [
    {
     "data": {
      "text/plain": [
       "{'en': 97, 'et': 1, 'und': 2}"
      ]
     },
     "execution_count": 4,
     "metadata": {},
     "output_type": "execute_result"
    }
   ],
   "source": [
    "def count_entries(df, col_name='lang'):\n",
    "    \"\"\"Return a dictionary with counts of\n",
    "    occurrences as value for each key.\"\"\"\n",
    "\n",
    "    # Initialize an empty dictionary: cols_count\n",
    "    cols_count = {}\n",
    "\n",
    "    # Extract column from DataFrame: col\n",
    "    col = df[col_name]\n",
    "    \n",
    "    # Iterate over the column in DataFrame\n",
    "    for entry in col:\n",
    "\n",
    "        # If entry is in cols_count, add 1\n",
    "        if entry in cols_count.keys():\n",
    "            cols_count[entry] += 1\n",
    "\n",
    "        # Else add the entry to cols_count, set the value to 1\n",
    "        else:\n",
    "            cols_count[entry] = 1\n",
    "\n",
    "    # Return the cols_count dictionary\n",
    "    return cols_count\n",
    "\n",
    "# Call count_entries(): result1\n",
    "count_entries(tweets_df)"
   ]
  },
  {
   "cell_type": "code",
   "execution_count": 5,
   "metadata": {},
   "outputs": [
    {
     "data": {
      "text/plain": [
       "{'<a href=\"http://twitter.com\" rel=\"nofollow\">Twitter Web Client</a>': 24,\n",
       " '<a href=\"http://www.facebook.com/twitter\" rel=\"nofollow\">Facebook</a>': 1,\n",
       " '<a href=\"http://twitter.com/download/android\" rel=\"nofollow\">Twitter for Android</a>': 26,\n",
       " '<a href=\"http://twitter.com/download/iphone\" rel=\"nofollow\">Twitter for iPhone</a>': 33,\n",
       " '<a href=\"http://www.twitter.com\" rel=\"nofollow\">Twitter for BlackBerry</a>': 2,\n",
       " '<a href=\"http://www.google.com/\" rel=\"nofollow\">Google</a>': 2,\n",
       " '<a href=\"http://twitter.com/#!/download/ipad\" rel=\"nofollow\">Twitter for iPad</a>': 6,\n",
       " '<a href=\"http://linkis.com\" rel=\"nofollow\">Linkis.com</a>': 2,\n",
       " '<a href=\"http://rutracker.org/forum/viewforum.php?f=93\" rel=\"nofollow\">newzlasz</a>': 2,\n",
       " '<a href=\"http://ifttt.com\" rel=\"nofollow\">IFTTT</a>': 1,\n",
       " '<a href=\"http://www.myplume.com/\" rel=\"nofollow\">PlumeÂ forÂ Android</a>': 1}"
      ]
     },
     "execution_count": 5,
     "metadata": {},
     "output_type": "execute_result"
    }
   ],
   "source": [
    "count_entries(tweets_df, 'source')"
   ]
  },
  {
   "cell_type": "markdown",
   "metadata": {},
   "source": [
    "You're now going to generalize this function one step further by allowing the user to pass it a flexible argument, that is, in this case, as many column names as the user would like!"
   ]
  },
  {
   "cell_type": "code",
   "execution_count": 6,
   "metadata": {},
   "outputs": [
    {
     "data": {
      "text/plain": [
       "{'en': 97, 'et': 1, 'und': 2}"
      ]
     },
     "execution_count": 6,
     "metadata": {},
     "output_type": "execute_result"
    }
   ],
   "source": [
    "def count_entries(df, *args):\n",
    "    \"\"\"Return a dictionary with counts of\n",
    "    occurrences as value for each key.\"\"\"\n",
    "    \n",
    "    #Initialize an empty dictionary: cols_count\n",
    "    cols_count = {}\n",
    "    \n",
    "    # Iterate over column names in args\n",
    "    for col_name in args:\n",
    "    \n",
    "        # Extract column from DataFrame: col\n",
    "        col = df[col_name]\n",
    "    \n",
    "        # Iterate over the column in DataFrame\n",
    "        for entry in col:\n",
    "    \n",
    "            # If entry is in cols_count, add 1\n",
    "            if entry in cols_count.keys():\n",
    "                cols_count[entry] += 1\n",
    "    \n",
    "            # Else add the entry to cols_count, set the value to 1\n",
    "            else:\n",
    "                cols_count[entry] = 1\n",
    "\n",
    "    # Return the cols_count dictionary\n",
    "    return cols_count\n",
    "\n",
    "# Call count_entries(): result1\n",
    "count_entries(tweets_df, 'lang')"
   ]
  },
  {
   "cell_type": "code",
   "execution_count": 8,
   "metadata": {},
   "outputs": [
    {
     "data": {
      "text/plain": [
       "{'en': 97,\n",
       " 'et': 1,\n",
       " 'und': 2,\n",
       " '<a href=\"http://twitter.com\" rel=\"nofollow\">Twitter Web Client</a>': 24,\n",
       " '<a href=\"http://www.facebook.com/twitter\" rel=\"nofollow\">Facebook</a>': 1,\n",
       " '<a href=\"http://twitter.com/download/android\" rel=\"nofollow\">Twitter for Android</a>': 26,\n",
       " '<a href=\"http://twitter.com/download/iphone\" rel=\"nofollow\">Twitter for iPhone</a>': 33,\n",
       " '<a href=\"http://www.twitter.com\" rel=\"nofollow\">Twitter for BlackBerry</a>': 2,\n",
       " '<a href=\"http://www.google.com/\" rel=\"nofollow\">Google</a>': 2,\n",
       " '<a href=\"http://twitter.com/#!/download/ipad\" rel=\"nofollow\">Twitter for iPad</a>': 6,\n",
       " '<a href=\"http://linkis.com\" rel=\"nofollow\">Linkis.com</a>': 2,\n",
       " '<a href=\"http://rutracker.org/forum/viewforum.php?f=93\" rel=\"nofollow\">newzlasz</a>': 2,\n",
       " '<a href=\"http://ifttt.com\" rel=\"nofollow\">IFTTT</a>': 1,\n",
       " '<a href=\"http://www.myplume.com/\" rel=\"nofollow\">PlumeÂ forÂ Android</a>': 1}"
      ]
     },
     "execution_count": 8,
     "metadata": {},
     "output_type": "execute_result"
    }
   ],
   "source": [
    "count_entries(tweets_df, 'lang', 'source')"
   ]
  },
  {
   "cell_type": "code",
   "execution_count": 16,
   "metadata": {},
   "outputs": [
    {
     "data": {
      "text/plain": [
       "[{'en': 97, 'et': 1, 'und': 2},\n",
       " {'<a href=\"http://twitter.com\" rel=\"nofollow\">Twitter Web Client</a>': 24,\n",
       "  '<a href=\"http://www.facebook.com/twitter\" rel=\"nofollow\">Facebook</a>': 1,\n",
       "  '<a href=\"http://twitter.com/download/android\" rel=\"nofollow\">Twitter for Android</a>': 26,\n",
       "  '<a href=\"http://twitter.com/download/iphone\" rel=\"nofollow\">Twitter for iPhone</a>': 33,\n",
       "  '<a href=\"http://www.twitter.com\" rel=\"nofollow\">Twitter for BlackBerry</a>': 2,\n",
       "  '<a href=\"http://www.google.com/\" rel=\"nofollow\">Google</a>': 2,\n",
       "  '<a href=\"http://twitter.com/#!/download/ipad\" rel=\"nofollow\">Twitter for iPad</a>': 6,\n",
       "  '<a href=\"http://linkis.com\" rel=\"nofollow\">Linkis.com</a>': 2,\n",
       "  '<a href=\"http://rutracker.org/forum/viewforum.php?f=93\" rel=\"nofollow\">newzlasz</a>': 2,\n",
       "  '<a href=\"http://ifttt.com\" rel=\"nofollow\">IFTTT</a>': 1,\n",
       "  '<a href=\"http://www.myplume.com/\" rel=\"nofollow\">PlumeÂ forÂ Android</a>': 1},\n",
       " {714960401759387648: 1,\n",
       "  714960401977319424: 1,\n",
       "  714960402426236928: 1,\n",
       "  714960402367561730: 2,\n",
       "  714960402149416960: 1,\n",
       "  714960401759412224: 1,\n",
       "  714960402791145472: 2,\n",
       "  714960402346598400: 1,\n",
       "  714960402849927168: 2,\n",
       "  714960402853928960: 2,\n",
       "  714960402279337985: 2,\n",
       "  714960402874957824: 2,\n",
       "  714960403114041344: 2,\n",
       "  714960403332276224: 2,\n",
       "  714960402229116928: 2,\n",
       "  714960403109810176: 2,\n",
       "  714960403290316801: 2,\n",
       "  714960402501644288: 1,\n",
       "  714960403743186944: 2,\n",
       "  714960403915124736: 1,\n",
       "  714960404217200641: 1,\n",
       "  714960404179341312: 1,\n",
       "  714960404418543616: 2,\n",
       "  714960403982196737: 1,\n",
       "  714960403894300672: 1,\n",
       "  714960403940311041: 1,\n",
       "  714960404548493312: 1,\n",
       "  714960404716236801: 1,\n",
       "  714960405450326017: 2,\n",
       "  714960403822804992: 1,\n",
       "  714960403936088064: 1,\n",
       "  714960406213746688: 2,\n",
       "  714960405848854532: 2,\n",
       "  714960406314414080: 2,\n",
       "  714960406519930880: 2,\n",
       "  714960404947070976: 1,\n",
       "  714960406389719041: 2,\n",
       "  714960406750568448: 2,\n",
       "  714960406826074114: 2,\n",
       "  714960406821920768: 2,\n",
       "  714960407040040961: 2,\n",
       "  714960406947598337: 2,\n",
       "  714960406729592833: 2,\n",
       "  714960407270727681: 2,\n",
       "  714960407153287168: 2,\n",
       "  714960407497035776: 2,\n",
       "  714960407576772608: 2,\n",
       "  714960407866302465: 2,\n",
       "  714960407861923841: 2,\n",
       "  714960407119593473: 2,\n",
       "  714960407782367232: 1,\n",
       "  714960408432537600: 2,\n",
       "  714960408088436736: 2,\n",
       "  714960407572537345: 1,\n",
       "  714960408847605760: 1,\n",
       "  714960408767897600: 1,\n",
       "  714960408587558913: 1,\n",
       "  714960408906448896: 1,\n",
       "  714960409145389056: 1,\n",
       "  714960410114273280: 1,\n",
       "  714960410022178817: 1,\n",
       "  714960410345136129: 1,\n",
       "  714960410181570560: 2,\n",
       "  714960410332377088: 1,\n",
       "  714960410194018304: 1},\n",
       " {nan: 97,\n",
       "  \"{'id': '736dc4af8e68929c', 'country': 'United States', 'bounding_box': {'type': 'Polygon', 'coordinates': [[[-95.904492, 35.907134], [-95.904492, 36.017384], [-95.851283, 36.017384], [-95.851283, 35.907134]]]}, 'full_name': 'Bixby, OK', 'name': 'Bixby', 'place_type': 'city', 'url': 'https://api.twitter.com/1.1/geo/id/736dc4af8e68929c.json', 'country_code': 'US', 'attributes': {}}\": 2,\n",
       "  \"{'id': '4723507d8ce23a60', 'country': 'United States', 'bounding_box': {'type': 'Polygon', 'coordinates': [[[-117.243028, 41.987982], [-117.243028, 49.001121], [-111.043497, 49.001121], [-111.043497, 41.987982]]]}, 'full_name': 'Idaho, USA', 'name': 'Idaho', 'place_type': 'admin', 'url': 'https://api.twitter.com/1.1/geo/id/4723507d8ce23a60.json', 'country_code': 'US', 'attributes': {}}\": 1},\n",
       " {0: 100}]"
      ]
     },
     "execution_count": 16,
     "metadata": {},
     "output_type": "execute_result"
    }
   ],
   "source": [
    "def count_entries(df, *args):\n",
    "    \"\"\"Return a dictionary with counts of\n",
    "    occurrences as value for each key.\"\"\"\n",
    "\n",
    "    result = []\n",
    "    \n",
    "    # Iterate over column names in args\n",
    "    for col_name in args:\n",
    "        #Initialize an empty dictionary: cols_count\n",
    "        cols_count = {}\n",
    "    \n",
    "        # Extract column from DataFrame: col\n",
    "        col = df[col_name]\n",
    "    \n",
    "        # Iterate over the column in DataFrame\n",
    "        for entry in col:\n",
    "    \n",
    "            # If entry is in cols_count, add 1\n",
    "            if entry in cols_count.keys():\n",
    "                cols_count[entry] += 1\n",
    "    \n",
    "            # Else add the entry to cols_count, set the value to 1\n",
    "            else:\n",
    "                cols_count[entry] = 1\n",
    "                \n",
    "        # add the col result to the overall result        \n",
    "        result.append(cols_count)\n",
    "\n",
    "    # Return the cols_count dictionary\n",
    "    return result\n",
    "\n",
    "# Call count_entries(): result1\n",
    "count_entries(tweets_df, 'lang', 'source', 'id_str', 'place', 'retweet_count')"
   ]
  }
 ],
 "metadata": {
  "kernelspec": {
   "display_name": "Python 3",
   "language": "python",
   "name": "python3"
  },
  "language_info": {
   "codemirror_mode": {
    "name": "ipython",
    "version": 3
   },
   "file_extension": ".py",
   "mimetype": "text/x-python",
   "name": "python",
   "nbconvert_exporter": "python",
   "pygments_lexer": "ipython3",
   "version": "3.7.1"
  }
 },
 "nbformat": 4,
 "nbformat_minor": 2
}
