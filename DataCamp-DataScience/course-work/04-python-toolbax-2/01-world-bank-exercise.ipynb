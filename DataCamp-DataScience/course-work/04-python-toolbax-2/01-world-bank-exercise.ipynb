{
 "cells": [
  {
   "cell_type": "markdown",
   "metadata": {},
   "source": [
    "# World Bank Exercise\n",
    "\n",
    "Contains over 50 years worth of data on 217 world economies.\n",
    "\n",
    "Indicators included:\n",
    "\n",
    "- popuation\n",
    "- electricity consumption\n",
    "- CO2 emissions\n",
    "- literacy rates\n",
    "- unemployment"
   ]
  },
  {
   "cell_type": "markdown",
   "metadata": {},
   "source": [
    "```py\n",
    "# Zip lists: zipped_lists\n",
    "print(feature_names)\n",
    "\n",
    "['CountryName', 'CountryCode', 'IndicatorName', 'IndicatorCode', 'Year', 'Value']\n",
    "\n",
    "print(row_vals)\n",
    "\n",
    "['Arab World', 'ARB', 'Adolescent fertility rate (births per 1,000 women ages 15-19)', 'SP.ADO.TFRT', '1960', '133.56090740552298']\n",
    "\n",
    "zipped_lists = zip(feature_names, row_vals)\n",
    "\n",
    "# Create a dictionary: rs_dict\n",
    "rs_dict = dict(zipped_lists)\n",
    "\n",
    "# Print the dictionary\n",
    "print(rs_dict)\n",
    "\n",
    "{'IndicatorName': 'Adolescent fertility rate (births per 1,000 women ages 15-19)', 'CountryName': 'Arab World', 'Value': '133.56090740552298', 'Year': '1960', 'IndicatorCode': 'SP.ADO.TFRT', 'CountryCode': 'ARB'}\n",
    "```"
   ]
  },
  {
   "cell_type": "markdown",
   "metadata": {},
   "source": [
    "Refactor the above code into a generic function\n",
    "\n",
    "```py\n",
    "# Define lists2dict()\n",
    "def lists2dict(list1, list2):\n",
    "    \"\"\"Return a dictionary where list1 provides\n",
    "    the keys and list2 provides the values.\"\"\"\n",
    "\n",
    "    # Zip lists: zipped_lists\n",
    "    zipped_lists = zip(list1, list2)\n",
    "\n",
    "    # Create a dictionary: rs_dict\n",
    "    rs_dict = dict(zipped_lists)\n",
    "\n",
    "    # Return the dictionary\n",
    "    return rs_dict\n",
    "\n",
    "# Call lists2dict: rs_fxn\n",
    "rs_fxn = lists2dict(feature_names, row_vals)\n",
    "\n",
    "# Print rs_fxn\n",
    "print(rs_fxn)\n",
    "\n",
    "{'IndicatorName': 'Adolescent fertility rate (births per 1,000 women ages 15-19)', 'CountryName': 'Arab World', 'Value': '133.56090740552298', 'Year': '1960', 'IndicatorCode': 'SP.ADO.TFRT', 'CountryCode': 'ARB'}\n",
    "```"
   ]
  },
  {
   "cell_type": "markdown",
   "metadata": {},
   "source": [
    "Use a list comprehension to generate a list of dicts, where the keys are the header names and the values are the row entries."
   ]
  },
  {
   "cell_type": "markdown",
   "metadata": {},
   "source": [
    "```py\n",
    "print(row_lists[0])\n",
    "\n",
    "['Arab World', 'ARB', 'Age dependency ratio (% of working-age population)', 'SP.POP.DPND', '1960', '87.7976011532547']\n",
    "\n",
    "print(row_lists[1])\n",
    "\n",
    "['Arab World', 'ARB', 'Age dependency ratio, old (% of working-age population)', 'SP.POP.DPND.OL', '1960', '6.634579191565161']\n",
    "\n",
    "# Turn list of lists into list of dicts: list_of_dicts\n",
    "# iterate though list of sample values, combine each value with it's column heading --> dictionary\n",
    "list_of_dicts = [lists2dict(feature_names, sublist) for sublist in row_lists]\n",
    "\n",
    "# Print the first two dictionaries in list_of_dicts\n",
    "print(list_of_dicts[0])\n",
    "\n",
    "{'Value': '133.56090740552298', 'IndicatorCode': 'SP.ADO.TFRT', 'CountryCode': 'ARB', 'IndicatorName': 'Adolescent fertility rate (births per 1,000 women ages 15-19)', 'Year': '1960', 'CountryName': 'Arab World'}\n",
    "\n",
    "print(list_of_dicts[1])\n",
    "\n",
    "{'Value': '87.7976011532547', 'IndicatorCode': 'SP.POP.DPND', 'CountryCode': 'ARB', 'IndicatorName': 'Age dependency ratio (% of working-age population)', 'Year': '1960', 'CountryName': 'Arab World'}\n",
    "```"
   ]
  },
  {
   "cell_type": "markdown",
   "metadata": {},
   "source": [
    "You will now use of all these to convert the list of dictionaries into a pandas DataFrame."
   ]
  },
  {
   "cell_type": "markdown",
   "metadata": {},
   "source": [
    "```py\n",
    "import pandas as pd\n",
    "\n",
    "# Turn list of lists into list of dicts: list_of_dicts\n",
    "list_of_dicts = [lists2dict(feature_names, sublist) for sublist in row_lists]\n",
    "\n",
    "# Turn list of dicts into a DataFrame: df\n",
    "df = pd.DataFrame(list_of_dicts)\n",
    "```"
   ]
  }
 ],
 "metadata": {
  "kernelspec": {
   "display_name": "Python 3",
   "language": "python",
   "name": "python3"
  },
  "language_info": {
   "codemirror_mode": {
    "name": "ipython",
    "version": 3
   },
   "file_extension": ".py",
   "mimetype": "text/x-python",
   "name": "python",
   "nbconvert_exporter": "python",
   "pygments_lexer": "ipython3",
   "version": "3.7.1"
  }
 },
 "nbformat": 4,
 "nbformat_minor": 2
}
