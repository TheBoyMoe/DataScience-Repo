{
 "cells": [
  {
   "cell_type": "markdown",
   "metadata": {},
   "source": [
    "# Filtering, Ordering and Grouping Queries"
   ]
  },
  {
   "cell_type": "markdown",
   "metadata": {},
   "source": [
    "### References\n",
    "\n",
    "[SqlAlchemy Expressions](https://docs.sqlalchemy.org/en/latest/core/sqlelement.html#module-sqlalchemy.sql.expression)  \n"
   ]
  },
  {
   "cell_type": "code",
   "execution_count": 34,
   "metadata": {},
   "outputs": [
    {
     "data": {
      "text/plain": [
       "['census', 'state_fact']"
      ]
     },
     "execution_count": 34,
     "metadata": {},
     "output_type": "execute_result"
    }
   ],
   "source": [
    "from sqlalchemy import create_engine, Table, MetaData, select\n",
    "from sqlalchemy import and_, or_, not_, between\n",
    "\n",
    "# instantiate the database connection\n",
    "engine = create_engine('sqlite:///../data/sqlalchemy/census.sqlite')\n",
    "connection = engine.connect()\n",
    "engine.table_names()"
   ]
  },
  {
   "cell_type": "code",
   "execution_count": 35,
   "metadata": {},
   "outputs": [
    {
     "data": {
      "text/plain": [
       "['state', 'sex', 'age', 'pop2000', 'pop2008']"
      ]
     },
     "execution_count": 35,
     "metadata": {},
     "output_type": "execute_result"
    }
   ],
   "source": [
    "# instantiate the table obj\n",
    "census = Table('census', MetaData(), autoload=True, autoload_with=engine)\n",
    "census.columns.keys()"
   ]
  },
  {
   "cell_type": "markdown",
   "metadata": {},
   "source": [
    "## Where clause"
   ]
  },
  {
   "cell_type": "markdown",
   "metadata": {},
   "source": [
    "We can use the `where()` clause to filter results, which can be combined with:\n",
    "\n",
    "* comparison operators `==`, `<`, `>`, `<=`, `>=` and `!=`.\n",
    "* expressions  (method on column obj):\n",
    "    \n",
    "    * `in_()` match against a list\n",
    "    * `like()` match a gainst a partial value using wildcards\n",
    "    * `any_()`  \n",
    "    * `startswith()`\n",
    "    * `between()` match against a range (function, must be imported)\n",
    "    \n",
    "* conjunctions (must be imported) - support multiple conditions within a `where()` clause\n",
    "   \n",
    "    * `and_()` logical **and**\n",
    "    * `or_()` logical **or**\n",
    "    * `not_()` "
   ]
  },
  {
   "cell_type": "code",
   "execution_count": 36,
   "metadata": {},
   "outputs": [],
   "source": [
    "stmt = select([census])\n",
    "query = stmt.where(\n",
    "            and_(census.columns.state == 'New Jersey', \n",
    "                 census.columns.pop2008 > 70000))       "
   ]
  },
  {
   "cell_type": "markdown",
   "metadata": {},
   "source": [
    "Instead of calling `fetchall()`, we'll iterate over the **results proxy**."
   ]
  },
  {
   "cell_type": "code",
   "execution_count": 37,
   "metadata": {
    "collapsed": true
   },
   "outputs": [
    {
     "name": "stdout",
     "output_type": "stream",
     "text": [
      "New Jersey 68650 71249\n",
      "New Jersey 65564 71097\n",
      "New Jersey 61817 70961\n",
      "New Jersey 59206 70886\n",
      "New Jersey 56977 71595\n",
      "New Jersey 71100 72619\n",
      "New Jersey 68286 73252\n",
      "New Jersey 67763 72477\n",
      "New Jersey 64313 71522\n",
      "New Jersey 62759 72520\n",
      "New Jersey 60526 73425\n",
      "New Jersey 59877 71188\n",
      "New Jersey 98078 120390\n"
     ]
    }
   ],
   "source": [
    "for result in connection.execute(query):\n",
    "    print(result.state, result.pop2000, result.pop2008)"
   ]
  },
  {
   "cell_type": "code",
   "execution_count": 49,
   "metadata": {},
   "outputs": [],
   "source": [
    "query = stmt.where(\n",
    "        and_(census.columns.state.startswith('New'),\n",
    "            between(census.columns.pop2000, 28000, 30000)))"
   ]
  },
  {
   "cell_type": "code",
   "execution_count": 50,
   "metadata": {},
   "outputs": [
    {
     "name": "stdout",
     "output_type": "stream",
     "text": [
      "New Jersey 29440 36620\n",
      "New Jersey 28747 34605\n",
      "New Jersey 28748 25597\n"
     ]
    }
   ],
   "source": [
    "for result in connection.execute(query):\n",
    "    print(result.state, result.pop2000, result.pop2008)"
   ]
  },
  {
   "cell_type": "code",
   "execution_count": 61,
   "metadata": {},
   "outputs": [],
   "source": [
    "states =  ['New York', 'California', 'Texas']\n",
    "query = stmt.where(\n",
    "            and_(census.columns.state.in_(states),\n",
    "                census.columns.pop2008 > 280000))"
   ]
  },
  {
   "cell_type": "code",
   "execution_count": 62,
   "metadata": {
    "collapsed": true
   },
   "outputs": [
    {
     "name": "stdout",
     "output_type": "stream",
     "text": [
      "California 252494 287900\n",
      "California 247978 282445\n",
      "California 255482 284538\n",
      "California 252607 294734\n",
      "California 250964 290319\n",
      "California 245324 284859\n",
      "California 281214 292730\n",
      "California 261885 280827\n",
      "California 234949 285759\n",
      "California 294583 400288\n"
     ]
    }
   ],
   "source": [
    "for result in connection.execute(query):\n",
    "    print(result.state, result.pop2000, result.pop2008)"
   ]
  },
  {
   "cell_type": "code",
   "execution_count": 63,
   "metadata": {},
   "outputs": [],
   "source": [
    "query = stmt.where(\n",
    "  and_(census.columns.state == 'New York',\n",
    "       or_(census.columns.age == 21,\n",
    "          census.columns.age == 37)))"
   ]
  },
  {
   "cell_type": "code",
   "execution_count": 65,
   "metadata": {},
   "outputs": [
    {
     "name": "stdout",
     "output_type": "stream",
     "text": [
      "New York 21 126166 141932\n",
      "New York 37 152078 136270\n",
      "New York 21 124575 142302\n",
      "New York 37 157911 140890\n"
     ]
    }
   ],
   "source": [
    "for result in connection.execute(query):\n",
    "    print(result.state, result.age, result.pop2000, result.pop2008)"
   ]
  },
  {
   "cell_type": "markdown",
   "metadata": {},
   "source": [
    "When you want to use logical `and` with more than two conditions, use `&` making sure to wrap the condition within `()`."
   ]
  },
  {
   "cell_type": "code",
   "execution_count": 76,
   "metadata": {},
   "outputs": [],
   "source": [
    "# select only non-male records from California - chain multiple conditions\n",
    "query = stmt.where(\n",
    "    (census.columns.state == 'California') & \n",
    "    (census.columns.sex != 'M') &\n",
    "    (census.columns.age > 70)\n",
    ")"
   ]
  },
  {
   "cell_type": "code",
   "execution_count": 77,
   "metadata": {
    "collapsed": true
   },
   "outputs": [
    {
     "name": "stdout",
     "output_type": "stream",
     "text": [
      "71 F\n",
      "72 F\n",
      "73 F\n",
      "74 F\n",
      "75 F\n",
      "76 F\n",
      "77 F\n",
      "78 F\n",
      "79 F\n",
      "80 F\n",
      "81 F\n",
      "82 F\n",
      "83 F\n",
      "84 F\n",
      "85 F\n"
     ]
    }
   ],
   "source": [
    "for result in connection.execute(query):\n",
    "    print(result.age, result.sex)"
   ]
  },
  {
   "cell_type": "markdown",
   "metadata": {},
   "source": [
    "## Order by clauses"
   ]
  },
  {
   "cell_type": "markdown",
   "metadata": {},
   "source": [
    "`order_by()` default order is ascending, strings in alphabetical order."
   ]
  },
  {
   "cell_type": "code",
   "execution_count": 78,
   "metadata": {},
   "outputs": [],
   "source": [
    "query = stmt.order_by(census.columns.state)"
   ]
  },
  {
   "cell_type": "code",
   "execution_count": 95,
   "metadata": {},
   "outputs": [],
   "source": [
    "def print_states(query):\n",
    "    states = {}\n",
    "    for result in connection.execute(query):\n",
    "        state = result.state\n",
    "        if state in states:\n",
    "            states[state] += 1\n",
    "        else:\n",
    "            states[state] = 1\n",
    "    return states"
   ]
  },
  {
   "cell_type": "code",
   "execution_count": 96,
   "metadata": {
    "collapsed": true
   },
   "outputs": [
    {
     "data": {
      "text/plain": [
       "{'Alabama': 172,\n",
       " 'Alaska': 172,\n",
       " 'Arizona': 172,\n",
       " 'Arkansas': 172,\n",
       " 'California': 172,\n",
       " 'Colorado': 172,\n",
       " 'Connecticut': 172,\n",
       " 'Delaware': 172,\n",
       " 'District of Columbia': 172,\n",
       " 'Florida': 172,\n",
       " 'Georgia': 172,\n",
       " 'Hawaii': 172,\n",
       " 'Idaho': 172,\n",
       " 'Illinois': 172,\n",
       " 'Indiana': 172,\n",
       " 'Iowa': 172,\n",
       " 'Kansas': 172,\n",
       " 'Kentucky': 172,\n",
       " 'Louisiana': 172,\n",
       " 'Maine': 172,\n",
       " 'Maryland': 172,\n",
       " 'Massachusetts': 172,\n",
       " 'Michigan': 172,\n",
       " 'Minnesota': 172,\n",
       " 'Mississippi': 172,\n",
       " 'Missouri': 172,\n",
       " 'Montana': 172,\n",
       " 'Nebraska': 172,\n",
       " 'Nevada': 172,\n",
       " 'New Hampshire': 172,\n",
       " 'New Jersey': 172,\n",
       " 'New Mexico': 172,\n",
       " 'New York': 172,\n",
       " 'North Carolina': 172,\n",
       " 'North Dakota': 172,\n",
       " 'Ohio': 172,\n",
       " 'Oklahoma': 172,\n",
       " 'Oregon': 172,\n",
       " 'Pennsylvania': 172,\n",
       " 'Rhode Island': 172,\n",
       " 'South Carolina': 172,\n",
       " 'South Dakota': 172,\n",
       " 'Tennessee': 172,\n",
       " 'Texas': 172,\n",
       " 'Utah': 172,\n",
       " 'Vermont': 172,\n",
       " 'Virginia': 172,\n",
       " 'Washington': 172,\n",
       " 'West Virginia': 172,\n",
       " 'Wisconsin': 172,\n",
       " 'Wyoming': 172}"
      ]
     },
     "execution_count": 96,
     "metadata": {},
     "output_type": "execute_result"
    }
   ],
   "source": [
    "print_states(query)"
   ]
  },
  {
   "cell_type": "markdown",
   "metadata": {},
   "source": [
    "To reverse the order, wrap the column with the `desc()` function."
   ]
  },
  {
   "cell_type": "code",
   "execution_count": 115,
   "metadata": {
    "collapsed": true
   },
   "outputs": [
    {
     "data": {
      "text/plain": [
       "{'Wyoming': 172,\n",
       " 'Wisconsin': 172,\n",
       " 'West Virginia': 172,\n",
       " 'Washington': 172,\n",
       " 'Virginia': 172,\n",
       " 'Vermont': 172,\n",
       " 'Utah': 172,\n",
       " 'Texas': 172,\n",
       " 'Tennessee': 172,\n",
       " 'South Dakota': 172,\n",
       " 'South Carolina': 172,\n",
       " 'Rhode Island': 172,\n",
       " 'Pennsylvania': 172,\n",
       " 'Oregon': 172,\n",
       " 'Oklahoma': 172,\n",
       " 'Ohio': 172,\n",
       " 'North Dakota': 172,\n",
       " 'North Carolina': 172,\n",
       " 'New York': 172,\n",
       " 'New Mexico': 172,\n",
       " 'New Jersey': 172,\n",
       " 'New Hampshire': 172,\n",
       " 'Nevada': 172,\n",
       " 'Nebraska': 172,\n",
       " 'Montana': 172,\n",
       " 'Missouri': 172,\n",
       " 'Mississippi': 172,\n",
       " 'Minnesota': 172,\n",
       " 'Michigan': 172,\n",
       " 'Massachusetts': 172,\n",
       " 'Maryland': 172,\n",
       " 'Maine': 172,\n",
       " 'Louisiana': 172,\n",
       " 'Kentucky': 172,\n",
       " 'Kansas': 172,\n",
       " 'Iowa': 172,\n",
       " 'Indiana': 172,\n",
       " 'Illinois': 172,\n",
       " 'Idaho': 172,\n",
       " 'Hawaii': 172,\n",
       " 'Georgia': 172,\n",
       " 'Florida': 172,\n",
       " 'District of Columbia': 172,\n",
       " 'Delaware': 172,\n",
       " 'Connecticut': 172,\n",
       " 'Colorado': 172,\n",
       " 'California': 172,\n",
       " 'Arkansas': 172,\n",
       " 'Arizona': 172,\n",
       " 'Alaska': 172,\n",
       " 'Alabama': 172}"
      ]
     },
     "execution_count": 115,
     "metadata": {},
     "output_type": "execute_result"
    }
   ],
   "source": [
    "from sqlalchemy import desc\n",
    "\n",
    "query = stmt.order_by(desc(census.columns.state))\n",
    "print_states(query)"
   ]
  },
  {
   "cell_type": "markdown",
   "metadata": {},
   "source": [
    "We can order by multiple columns, by passinf in multiple arguments to `order_by`. `order_by` will order by the first column, if there are any duplicates, it will order by the second, and so on."
   ]
  },
  {
   "cell_type": "code",
   "execution_count": 111,
   "metadata": {},
   "outputs": [],
   "source": [
    "query = stmt.where(\n",
    "            (census.columns.state == 'California') & \n",
    "            (census.columns.pop2008 > 270000)) \\\n",
    "            .order_by(census.columns.sex, census.columns.pop2008)"
   ]
  },
  {
   "cell_type": "code",
   "execution_count": 112,
   "metadata": {
    "collapsed": true
   },
   "outputs": [
    {
     "name": "stdout",
     "output_type": "stream",
     "text": [
      "California F 270307\n",
      "California F 270406\n",
      "California F 270948\n",
      "California F 273711\n",
      "California F 274356\n",
      "California F 277301\n",
      "California F 278712\n",
      "California F 285759\n",
      "California F 400288\n",
      "California M 270126\n",
      "California M 271345\n",
      "California M 271675\n",
      "California M 271720\n",
      "California M 272385\n",
      "California M 273041\n",
      "California M 273260\n",
      "California M 273622\n",
      "California M 274754\n",
      "California M 275989\n",
      "California M 276500\n",
      "California M 277848\n",
      "California M 277993\n",
      "California M 278186\n",
      "California M 278270\n",
      "California M 278703\n",
      "California M 279604\n",
      "California M 279872\n",
      "California M 280827\n",
      "California M 282445\n",
      "California M 284538\n",
      "California M 284859\n",
      "California M 287900\n",
      "California M 290319\n",
      "California M 292730\n",
      "California M 294734\n"
     ]
    }
   ],
   "source": [
    "for result in connection.execute(query):\n",
    "    print(result.state, result.sex, result.pop2008)"
   ]
  },
  {
   "cell_type": "code",
   "execution_count": 113,
   "metadata": {
    "scrolled": true
   },
   "outputs": [
    {
     "data": {
      "text/plain": [
       "[('Alabama', 'M', 85, 18259, 26100),\n",
       " ('Alabama', 'F', 85, 49764, 58979),\n",
       " ('Alabama', 'M', 84, 4066, 5295),\n",
       " ('Alabama', 'F', 84, 8418, 9870),\n",
       " ('Alabama', 'M', 83, 4732, 6012),\n",
       " ('Alabama', 'F', 83, 9448, 10825),\n",
       " ('Alabama', 'M', 82, 5188, 6494),\n",
       " ('Alabama', 'F', 82, 9453, 11112),\n",
       " ('Alabama', 'M', 81, 5965, 7537),\n",
       " ('Alabama', 'F', 81, 10680, 12211)]"
      ]
     },
     "execution_count": 113,
     "metadata": {},
     "output_type": "execute_result"
    }
   ],
   "source": [
    "# order by state ascending, age descending\n",
    "query = stmt.order_by(\n",
    "    census.columns.state,\n",
    "    desc(census.columns.age)\n",
    ")\n",
    "\n",
    "connection.execute(query).fetchall()[:10]"
   ]
  },
  {
   "cell_type": "markdown",
   "metadata": {},
   "source": [
    "### SQL Functions\n",
    "\n",
    "* Found in the sqlalchemy `func` module, there are methods such as Count, Sum, etc. \n",
    "* More efficient to use sql functions than looping over results and employing python methods.\n",
    "* also known as **aggregate** functions since they 'collapse' multiple values into one.\n",
    "* call the `scalar()` method on the results proxy obj to get back the actual result.\n",
    "* Don't import `sum` function directly since it will interfer with Python's version."
   ]
  },
  {
   "cell_type": "code",
   "execution_count": 117,
   "metadata": {},
   "outputs": [
    {
     "data": {
      "text/plain": [
       "302876613"
      ]
     },
     "execution_count": 117,
     "metadata": {},
     "output_type": "execute_result"
    }
   ],
   "source": [
    "from sqlalchemy import func\n",
    "\n",
    "# calculate the sum of the 2008 population\n",
    "query = select([func.sum(census.columns.pop2008)])\n",
    "connection.execute(query).scalar()"
   ]
  },
  {
   "cell_type": "code",
   "execution_count": 133,
   "metadata": {},
   "outputs": [
    {
     "data": {
      "text/plain": [
       "8107"
      ]
     },
     "execution_count": 133,
     "metadata": {},
     "output_type": "execute_result"
    }
   ],
   "source": [
    "# count the distinct number of values\n",
    "query = select([func.count(census.columns.pop2008.distinct())])\n",
    "connection.execute(query).scalar()"
   ]
  },
  {
   "cell_type": "code",
   "execution_count": 134,
   "metadata": {},
   "outputs": [
    {
     "data": {
      "text/plain": [
       "51"
      ]
     },
     "execution_count": 134,
     "metadata": {},
     "output_type": "execute_result"
    }
   ],
   "source": [
    "# count the number of states\n",
    "query = select([func.count(census.columns.state.distinct())])\n",
    "connection.execute(query).scalar()"
   ]
  },
  {
   "cell_type": "markdown",
   "metadata": {},
   "source": [
    "### Group by\n",
    "\n",
    "* group rows by common values.\n",
    "* can accept multiple columns, all columns will be grouped or aggregated by a function \n",
    "\n",
    "Calculate the total pop for each gender in 2008."
   ]
  },
  {
   "cell_type": "code",
   "execution_count": 118,
   "metadata": {},
   "outputs": [
    {
     "data": {
      "text/plain": [
       "[('F', 153959198), ('M', 148917415)]"
      ]
     },
     "execution_count": 118,
     "metadata": {},
     "output_type": "execute_result"
    }
   ],
   "source": [
    "stmt = select([census.columns.sex, func.sum(census.columns.pop2008)])\n",
    "query = stmt.group_by(census.columns.sex)\n",
    "connection.execute(query).fetchall()"
   ]
  },
  {
   "cell_type": "code",
   "execution_count": 121,
   "metadata": {},
   "outputs": [
    {
     "data": {
      "text/plain": [
       "[('Alabama', 'F', 2300612),\n",
       " ('Alabama', 'M', 2137947),\n",
       " ('Alaska', 'F', 300043),\n",
       " ('Alaska', 'M', 308545),\n",
       " ('Arizona', 'F', 2583468),\n",
       " ('Arizona', 'M', 2560463),\n",
       " ('Arkansas', 'F', 1370155),\n",
       " ('Arkansas', 'M', 1302279),\n",
       " ('California', 'F', 17033913),\n",
       " ('California', 'M', 16795529)]"
      ]
     },
     "execution_count": 121,
     "metadata": {},
     "output_type": "execute_result"
    }
   ],
   "source": [
    "stmt = select([\n",
    "    census.columns.state, \n",
    "    census.columns.sex, \n",
    "    func.sum(census.columns.pop2000\n",
    ")])\n",
    "query = stmt.group_by(census.columns.state, census.columns.sex)\n",
    "connection.execute(query).fetchall()[:10]"
   ]
  },
  {
   "cell_type": "markdown",
   "metadata": {},
   "source": [
    "Column names are automatically generated for functions in the result set, e.g. `count_1`. We can use the `label()` method on a function to give it a specific name. We can then access the name in the results set."
   ]
  },
  {
   "cell_type": "code",
   "execution_count": 135,
   "metadata": {},
   "outputs": [
    {
     "name": "stdout",
     "output_type": "stream",
     "text": [
      "['state', 'count_1']\n"
     ]
    },
    {
     "data": {
      "text/plain": [
       "[('Alabama', 172),\n",
       " ('Alaska', 172),\n",
       " ('Arizona', 172),\n",
       " ('Arkansas', 172),\n",
       " ('California', 172),\n",
       " ('Colorado', 172),\n",
       " ('Connecticut', 172),\n",
       " ('Delaware', 172),\n",
       " ('District of Columbia', 172),\n",
       " ('Florida', 172)]"
      ]
     },
     "execution_count": 135,
     "metadata": {},
     "output_type": "execute_result"
    }
   ],
   "source": [
    "# select the state and count of ages by state\n",
    "stmt = select([census.columns.state, func.count(census.columns.age)])\n",
    "\n",
    "query = stmt.group_by(census.columns.state)\n",
    "results = connection.execute(query).fetchall()\n",
    "\n",
    "print(results[0].keys())\n",
    "results[:10]"
   ]
  },
  {
   "cell_type": "code",
   "execution_count": 136,
   "metadata": {},
   "outputs": [
    {
     "name": "stdout",
     "output_type": "stream",
     "text": [
      "<class 'list'>\n",
      "['state', 'sex', 'pop2008_sum']\n"
     ]
    },
    {
     "data": {
      "text/plain": [
       "[('Alabama', 'F', 2401960),\n",
       " ('Alabama', 'M', 2247407),\n",
       " ('Alaska', 'F', 325753),\n",
       " ('Alaska', 'M', 338793),\n",
       " ('Arizona', 'F', 3240456),\n",
       " ('Arizona', 'M', 3240311)]"
      ]
     },
     "execution_count": 136,
     "metadata": {},
     "output_type": "execute_result"
    }
   ],
   "source": [
    "stmt = select([\n",
    "    census.columns.state, \n",
    "    census.columns.sex, \n",
    "    func.sum(census.columns.pop2008).label('pop2008_sum')\n",
    "])\n",
    "query = stmt.group_by(census.columns.state, census.columns.sex)\n",
    "results = connection.execute(query).fetchall()\n",
    "print(type(results))\n",
    "print(results[0].keys()) # column namesprint()\n",
    "results[:6]"
   ]
  },
  {
   "cell_type": "markdown",
   "metadata": {},
   "source": [
    "### Using Pandas\n",
    "\n",
    "We can instantiate a pandas dataframe from a sqlalchemy results set, all we need to do if define the column names separately. We can then treat the dataframe just like any other pandas dataframe."
   ]
  },
  {
   "cell_type": "code",
   "execution_count": 138,
   "metadata": {},
   "outputs": [
    {
     "data": {
      "text/html": [
       "<div>\n",
       "<style scoped>\n",
       "    .dataframe tbody tr th:only-of-type {\n",
       "        vertical-align: middle;\n",
       "    }\n",
       "\n",
       "    .dataframe tbody tr th {\n",
       "        vertical-align: top;\n",
       "    }\n",
       "\n",
       "    .dataframe thead th {\n",
       "        text-align: right;\n",
       "    }\n",
       "</style>\n",
       "<table border=\"1\" class=\"dataframe\">\n",
       "  <thead>\n",
       "    <tr style=\"text-align: right;\">\n",
       "      <th></th>\n",
       "      <th>0</th>\n",
       "      <th>1</th>\n",
       "      <th>2</th>\n",
       "    </tr>\n",
       "  </thead>\n",
       "  <tbody>\n",
       "    <tr>\n",
       "      <th>0</th>\n",
       "      <td>Alabama</td>\n",
       "      <td>F</td>\n",
       "      <td>2401960</td>\n",
       "    </tr>\n",
       "    <tr>\n",
       "      <th>1</th>\n",
       "      <td>Alabama</td>\n",
       "      <td>M</td>\n",
       "      <td>2247407</td>\n",
       "    </tr>\n",
       "    <tr>\n",
       "      <th>2</th>\n",
       "      <td>Alaska</td>\n",
       "      <td>F</td>\n",
       "      <td>325753</td>\n",
       "    </tr>\n",
       "    <tr>\n",
       "      <th>3</th>\n",
       "      <td>Alaska</td>\n",
       "      <td>M</td>\n",
       "      <td>338793</td>\n",
       "    </tr>\n",
       "    <tr>\n",
       "      <th>4</th>\n",
       "      <td>Arizona</td>\n",
       "      <td>F</td>\n",
       "      <td>3240456</td>\n",
       "    </tr>\n",
       "    <tr>\n",
       "      <th>5</th>\n",
       "      <td>Arizona</td>\n",
       "      <td>M</td>\n",
       "      <td>3240311</td>\n",
       "    </tr>\n",
       "  </tbody>\n",
       "</table>\n",
       "</div>"
      ],
      "text/plain": [
       "         0  1        2\n",
       "0  Alabama  F  2401960\n",
       "1  Alabama  M  2247407\n",
       "2   Alaska  F   325753\n",
       "3   Alaska  M   338793\n",
       "4  Arizona  F  3240456\n",
       "5  Arizona  M  3240311"
      ]
     },
     "execution_count": 138,
     "metadata": {},
     "output_type": "execute_result"
    }
   ],
   "source": [
    "import pandas as pd\n",
    "import matplotlib.pyplot as plt\n",
    "\n",
    "%matplotlib inline\n",
    "\n",
    "df = pd.DataFrame(results)\n",
    "df[:6]"
   ]
  },
  {
   "cell_type": "code",
   "execution_count": 139,
   "metadata": {},
   "outputs": [
    {
     "data": {
      "text/html": [
       "<div>\n",
       "<style scoped>\n",
       "    .dataframe tbody tr th:only-of-type {\n",
       "        vertical-align: middle;\n",
       "    }\n",
       "\n",
       "    .dataframe tbody tr th {\n",
       "        vertical-align: top;\n",
       "    }\n",
       "\n",
       "    .dataframe thead th {\n",
       "        text-align: right;\n",
       "    }\n",
       "</style>\n",
       "<table border=\"1\" class=\"dataframe\">\n",
       "  <thead>\n",
       "    <tr style=\"text-align: right;\">\n",
       "      <th></th>\n",
       "      <th>state</th>\n",
       "      <th>sex</th>\n",
       "      <th>pop2008_sum</th>\n",
       "    </tr>\n",
       "  </thead>\n",
       "  <tbody>\n",
       "    <tr>\n",
       "      <th>0</th>\n",
       "      <td>Alabama</td>\n",
       "      <td>F</td>\n",
       "      <td>2401960</td>\n",
       "    </tr>\n",
       "    <tr>\n",
       "      <th>1</th>\n",
       "      <td>Alabama</td>\n",
       "      <td>M</td>\n",
       "      <td>2247407</td>\n",
       "    </tr>\n",
       "    <tr>\n",
       "      <th>2</th>\n",
       "      <td>Alaska</td>\n",
       "      <td>F</td>\n",
       "      <td>325753</td>\n",
       "    </tr>\n",
       "    <tr>\n",
       "      <th>3</th>\n",
       "      <td>Alaska</td>\n",
       "      <td>M</td>\n",
       "      <td>338793</td>\n",
       "    </tr>\n",
       "    <tr>\n",
       "      <th>4</th>\n",
       "      <td>Arizona</td>\n",
       "      <td>F</td>\n",
       "      <td>3240456</td>\n",
       "    </tr>\n",
       "    <tr>\n",
       "      <th>5</th>\n",
       "      <td>Arizona</td>\n",
       "      <td>M</td>\n",
       "      <td>3240311</td>\n",
       "    </tr>\n",
       "  </tbody>\n",
       "</table>\n",
       "</div>"
      ],
      "text/plain": [
       "     state sex  pop2008_sum\n",
       "0  Alabama   F      2401960\n",
       "1  Alabama   M      2247407\n",
       "2   Alaska   F       325753\n",
       "3   Alaska   M       338793\n",
       "4  Arizona   F      3240456\n",
       "5  Arizona   M      3240311"
      ]
     },
     "execution_count": 139,
     "metadata": {},
     "output_type": "execute_result"
    }
   ],
   "source": [
    "# use the keys from the first result\n",
    "df.columns = results[0].keys()\n",
    "df[:6]"
   ]
  },
  {
   "cell_type": "code",
   "execution_count": 141,
   "metadata": {},
   "outputs": [
    {
     "data": {
      "image/png": "[encoded data removed]",
      "text/plain": [
       "<Figure size 432x288 with 1 Axes>"
      ]
     },
     "metadata": {
      "needs_background": "light"
     },
     "output_type": "display_data"
    }
   ],
   "source": [
    "df[:20].plot.barh()\n",
    "plt.show()"
   ]
  }
 ],
 "metadata": {
  "kernelspec": {
   "display_name": "Python 3",
   "language": "python",
   "name": "python3"
  },
  "language_info": {
   "codemirror_mode": {
    "name": "ipython",
    "version": 3
   },
   "file_extension": ".py",
   "mimetype": "text/x-python",
   "name": "python",
   "nbconvert_exporter": "python",
   "pygments_lexer": "ipython3",
   "version": "3.6.7"
  }
 },
 "nbformat": 4,
 "nbformat_minor": 2
}
