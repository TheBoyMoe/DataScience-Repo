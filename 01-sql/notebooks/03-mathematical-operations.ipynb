{
 "cells": [
  {
   "cell_type": "markdown",
   "metadata": {},
   "source": [
    "# Mathematical Operations"
   ]
  },
  {
   "cell_type": "code",
   "execution_count": 1,
   "metadata": {},
   "outputs": [
    {
     "name": "stdout",
     "output_type": "stream",
     "text": [
      "Tables: ['census', 'state_fact']\n",
      "Columns: ['state', 'sex', 'age', 'pop2000', 'pop2008']\n",
      "Setup complete!\n"
     ]
    }
   ],
   "source": [
    "from sqlalchemy import create_engine, Table, MetaData, select\n",
    "from sqlalchemy import and_, or_, not_, between, desc, func\n",
    "\n",
    "# instantiate the database connection\n",
    "engine = create_engine('sqlite:///../data/sqlalchemy/census.sqlite')\n",
    "connection = engine.connect()\n",
    "print('Tables:', engine.table_names())\n",
    "\n",
    "# instantiate the table obj\n",
    "census = Table('census', MetaData(), autoload=True, autoload_with=engine)\n",
    "print('Columns:', census.columns.keys())\n",
    "print('Setup complete!')"
   ]
  },
  {
   "cell_type": "markdown",
   "metadata": {},
   "source": [
    "We can perform addition (+), subtraction (-), multiplication (*), division (/), and modulus (%) operations. Note: They behave differently when used with non-numeric column types."
   ]
  },
  {
   "cell_type": "markdown",
   "metadata": {},
   "source": [
    "**Calculate the difference between two numerical columns**\n",
    "\n",
    "Surround the columns with `()` since we're calling `label`."
   ]
  },
  {
   "cell_type": "code",
   "execution_count": 4,
   "metadata": {},
   "outputs": [
    {
     "data": {
      "text/plain": [
       "[(61, 25201), (54, 23503), (55, 21716), (60, 19677), (58, 19526)]"
      ]
     },
     "execution_count": 4,
     "metadata": {},
     "output_type": "execute_result"
    }
   ],
   "source": [
    "stmt = select([\n",
    "    census.columns.age,\n",
    "    (census.columns.pop2008 - census.columns.pop2000).label('pop_change')\n",
    "])\n",
    "query = stmt.group_by(census.columns.age) \\\n",
    "            .order_by(desc('pop_change')) \\\n",
    "            .limit(5)\n",
    "            \n",
    "connection.execute(query).fetchall()"
   ]
  },
  {
   "cell_type": "markdown",
   "metadata": {},
   "source": [
    "**Using the Case statement**\n",
    "\n",
    "* accepts a list of conditions to match and a column to return if the condition is met.\n",
    "* the expression is followed by an `else_` if none of the conditions match. "
   ]
  },
  {
   "cell_type": "code",
   "execution_count": 7,
   "metadata": {},
   "outputs": [
    {
     "data": {
      "text/plain": [
       "19465159"
      ]
     },
     "execution_count": 7,
     "metadata": {},
     "output_type": "execute_result"
    }
   ],
   "source": [
    "from sqlalchemy import case, cast, Float\n",
    "\n",
    "# calculate the sum of the population liivining in 'New York' in 2008\n",
    "# it the condition is met, add the pop2008, else use default\n",
    "query = select([\n",
    "    func.sum(case([\n",
    "        (census.columns.state == 'New York', census.columns.pop2008)\n",
    "    ], else_ = 0))\n",
    "])\n",
    "connection.execute(query).scalar() # use 'fetchall()' when multiple rows"
   ]
  },
  {
   "cell_type": "markdown",
   "metadata": {},
   "source": [
    "**Using the Cast statement**\n",
    "\n",
    "* used when we need to convert datatypes, e.g. ints to floats for division, strings to dates and times. Often when performing integer division, we want to get a float back. While some databases will do this automatically, you can use the `cast()` function to convert an expression to a particular type.\n",
    "* accepts a column or expression and the target type."
   ]
  },
  {
   "cell_type": "code",
   "execution_count": 8,
   "metadata": {},
   "outputs": [
    {
     "data": {
      "text/plain": [
       "6.426761976501632"
      ]
     },
     "execution_count": 8,
     "metadata": {},
     "output_type": "execute_result"
    }
   ],
   "source": [
    "# What percentage of the population lived in 'New York' in 2008\n",
    "query = select([\n",
    "    (func.sum(case([\n",
    "        (census.columns.state == 'New York', census.columns.pop2008)\n",
    "    ], else_ = 0)) /\n",
    "    cast(func.sum(census.columns.pop2008), Float) * 100).label('ny_percent')\n",
    "])\n",
    "connection.execute(query).scalar()"
   ]
  },
  {
   "cell_type": "markdown",
   "metadata": {},
   "source": [
    "**Calculate the percentage of women in the 2000 census**."
   ]
  },
  {
   "cell_type": "code",
   "execution_count": 9,
   "metadata": {},
   "outputs": [
    {
     "data": {
      "text/plain": [
       "51.09467432293413"
      ]
     },
     "execution_count": 9,
     "metadata": {},
     "output_type": "execute_result"
    }
   ],
   "source": [
    "# Build an expression to calculate female population in 2000\n",
    "female_pop2000 = func.sum(\n",
    "    case([\n",
    "        (census.columns.sex == 'F', census.columns.pop2000)\n",
    "    ], else_= 0))\n",
    "\n",
    "# Cast an expression to calculate total population in 2000 to Float\n",
    "total_pop2000 = cast(func.sum(census.columns.pop2000), Float)\n",
    "\n",
    "# Build a query to calculate the percentage of females in 2000: stmt\n",
    "query = select([female_pop2000 / total_pop2000 * 100])\n",
    "\n",
    "# Execute the query and store the scalar result: percent_female\n",
    "connection.execute(query).scalar()"
   ]
  }
 ],
 "metadata": {
  "kernelspec": {
   "display_name": "Python 3",
   "language": "python",
   "name": "python3"
  },
  "language_info": {
   "codemirror_mode": {
    "name": "ipython",
    "version": 3
   },
   "file_extension": ".py",
   "mimetype": "text/x-python",
   "name": "python",
   "nbconvert_exporter": "python",
   "pygments_lexer": "ipython3",
   "version": "3.6.7"
  }
 },
 "nbformat": 4,
 "nbformat_minor": 2
}
