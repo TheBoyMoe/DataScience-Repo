{
 "cells": [
  {
   "cell_type": "markdown",
   "metadata": {},
   "source": [
    "# SQL Joins"
   ]
  },
  {
   "cell_type": "code",
   "execution_count": 21,
   "metadata": {},
   "outputs": [
    {
     "name": "stdout",
     "output_type": "stream",
     "text": [
      "Tables: ['census', 'state_fact']\n",
      "Census: ['state', 'sex', 'age', 'pop2000', 'pop2008']\n",
      "State fact: ['id', 'name', 'abbreviation', 'country', 'type', 'sort', 'status', 'occupied', 'notes', 'fips_state', 'assoc_press', 'standard_federal_region', 'census_region', 'census_region_name', 'census_division', 'census_division_name', 'circuit_court']\n",
      "Setup complete!\n"
     ]
    }
   ],
   "source": [
    "from sqlalchemy import create_engine, Table, MetaData, select\n",
    "from sqlalchemy import and_, or_, not_, between, desc, func\n",
    "from sqlalchemy import case, cast, Float\n",
    "\n",
    "# instantiate the database connection\n",
    "engine = create_engine('sqlite:///../data/sqlalchemy/census.sqlite')\n",
    "connection = engine.connect()\n",
    "print('Tables:', engine.table_names())\n",
    "\n",
    "# instantiate the table obj\n",
    "census = Table('census', MetaData(), autoload=True, autoload_with=engine)\n",
    "print('Census:', census.columns.keys())\n",
    "\n",
    "state_fact = Table('state_fact', MetaData(), autoload=True, autoload_with=engine)\n",
    "print('State fact:', state_fact.columns.keys())\n",
    "\n",
    "print('Setup complete!')"
   ]
  },
  {
   "cell_type": "markdown",
   "metadata": {},
   "source": [
    "Where we have two tables that already have an established relationship, we can use that relationship to automatically join the two tables by just adding the columns we want from each table to the `select` statement.\n",
    "\n",
    "In this case, the `census` and `state_fact` tables have a pre-defined relationship: the `state` column of the former corresponded to the `name` column of the latter."
   ]
  },
  {
   "cell_type": "code",
   "execution_count": 28,
   "metadata": {},
   "outputs": [
    {
     "name": "stdout",
     "output_type": "stream",
     "text": [
      "pop2008 95012\n",
      "abbreviation IL\n"
     ]
    }
   ],
   "source": [
    "stmt = select([\n",
    "    census.columns.pop2008,\n",
    "    state_fact.columns.abbreviation\n",
    "])\n",
    "\n",
    "result = connection.execute(stmt).first()\n",
    "\n",
    "# Loop over the keys in the result object and print the key and value\n",
    "for key in result.keys():\n",
    "    print(key, getattr(result, key))"
   ]
  },
  {
   "cell_type": "code",
   "execution_count": 27,
   "metadata": {},
   "outputs": [
    {
     "name": "stdout",
     "output_type": "stream",
     "text": [
      "pop2000 89600\n",
      "abbreviation IL\n"
     ]
    }
   ],
   "source": [
    "stmt = select([\n",
    "    census.columns.pop2000, \n",
    "    state_fact.columns.abbreviation\n",
    "])\n",
    "\n",
    "# Execute the statement and get the first result: result\n",
    "result = connection.execute(stmt).first()\n",
    "\n",
    "# Loop over the keys in the result object and print the key and value\n",
    "for key in result.keys():\n",
    "    print(key, getattr(result, key))"
   ]
  },
  {
   "cell_type": "markdown",
   "metadata": {},
   "source": [
    "Where we aren't selecting columns from both tables or the two tables don't have a defined relationship, we can still use the `.join()` method on a table to join it with another table and get extra data related to our query. The `join()` takes the table object you want to join in as the first argument and a condition that indicates how the tables are related to the second argument. Finally, we use the `.select_from()` method on the select statement to wrap the join clause. \n",
    "\n",
    "* it needs to some immediately after the `select` function, and before any `where`, `group_by` or `order_by` clauses.\n",
    "* use `select_from`, which is passed `join()` to 'tell' sqlalchemy which tables to join."
   ]
  },
  {
   "cell_type": "markdown",
   "metadata": {},
   "source": [
    "**Determine the total population in 2000, within the 10th Courts duristiction**"
   ]
  },
  {
   "cell_type": "code",
   "execution_count": 25,
   "metadata": {},
   "outputs": [
    {
     "data": {
      "text/plain": [
       "14945252"
      ]
     },
     "execution_count": 25,
     "metadata": {},
     "output_type": "execute_result"
    }
   ],
   "source": [
    "stmt = select([func.sum(census.columns.pop2000)]) # detemine size of population\n",
    "\n",
    "# join the two tables\n",
    "stmt = stmt.select_from(\n",
    "    census.join(\n",
    "        state_fact, \n",
    "        census.columns.state == state_fact.columns.name # join on the following cols\n",
    ")) \n",
    "\n",
    "query = stmt.where(state_fact.columns.circuit_court == '10') # find matching records\n",
    "\n",
    "connection.execute(query).scalar()"
   ]
  },
  {
   "cell_type": "markdown",
   "metadata": {},
   "source": [
    "**Determine population size in East Sout Central in 2000**"
   ]
  },
  {
   "cell_type": "code",
   "execution_count": 26,
   "metadata": {},
   "outputs": [
    {
     "data": {
      "text/plain": [
       "16982311"
      ]
     },
     "execution_count": 26,
     "metadata": {},
     "output_type": "execute_result"
    }
   ],
   "source": [
    "query = stmt.where(state_fact.columns.census_division_name == 'East South Central')\n",
    "\n",
    "connection.execute(query).scalar()"
   ]
  },
  {
   "cell_type": "code",
   "execution_count": 29,
   "metadata": {},
   "outputs": [
    {
     "name": "stdout",
     "output_type": "stream",
     "text": [
      "state Illinois\n",
      "sex M\n",
      "age 0\n",
      "pop2000 89600\n",
      "pop2008 95012\n",
      "id 13\n",
      "name Illinois\n",
      "abbreviation IL\n",
      "country USA\n",
      "type state\n",
      "sort 10\n",
      "status current\n",
      "occupied occupied\n",
      "notes \n",
      "fips_state 17\n",
      "assoc_press Ill.\n",
      "standard_federal_region V\n",
      "census_region 2\n",
      "census_region_name Midwest\n",
      "census_division 3\n",
      "census_division_name East North Central\n",
      "circuit_court 7\n"
     ]
    }
   ],
   "source": [
    "# get all the columns from both tables\n",
    "stmt = select([census, state_fact])\n",
    "\n",
    "# Add a select_from clause that wraps a join for the census and state_fact\n",
    "# tables where the census state column and state_fact name column match\n",
    "stmt = stmt.select_from(\n",
    "    census.join(state_fact, census.columns.state == state_fact.columns.name))\n",
    "\n",
    "# Execute the statement and get the first result\n",
    "result = connection.execute(stmt).first()\n",
    "\n",
    "# Loop over the keys in the result object and print the key and value\n",
    "for key in result.keys():\n",
    "    print(key, getattr(result, key))\n"
   ]
  },
  {
   "cell_type": "code",
   "execution_count": 32,
   "metadata": {
    "collapsed": true
   },
   "outputs": [
    {
     "name": "stdout",
     "output_type": "stream",
     "text": [
      "('Alabama', 'AL', 4649367, 'East South Central')\n",
      "('Alaska', 'AK', 664546, 'Pacific')\n",
      "('Arizona', 'AZ', 6480767, 'Mountain')\n",
      "('Arkansas', 'AR', 2848432, 'West South Central')\n",
      "('California', 'CA', 36609002, 'Pacific')\n",
      "('Colorado', 'CO', 4912947, 'Mountain')\n",
      "('Connecticut', 'CT', 3493783, 'New England')\n",
      "('Delaware', 'DE', 869221, 'South Atlantic')\n",
      "('Florida', 'FL', 18257662, 'South Atlantic')\n",
      "('Georgia', 'GA', 9622508, 'South Atlantic')\n",
      "('Hawaii', 'HI', 1250676, 'Pacific')\n",
      "('Idaho', 'ID', 1518914, 'Mountain')\n",
      "('Illinois', 'IL', 12867077, 'East North Central')\n",
      "('Indiana', 'IN', 6373299, 'East North Central')\n",
      "('Iowa', 'IA', 3000490, 'West North Central')\n",
      "('Kansas', 'KS', 2782245, 'West North Central')\n",
      "('Kentucky', 'KY', 4254964, 'East South Central')\n",
      "('Louisiana', 'LA', 4395797, 'West South Central')\n",
      "('Maine', 'ME', 1312972, 'New England')\n",
      "('Maryland', 'MD', 5604174, 'South Atlantic')\n",
      "('Massachusetts', 'MA', 6492024, 'New England')\n",
      "('Michigan', 'MI', 9998854, 'East North Central')\n",
      "('Minnesota', 'MN', 5215815, 'West North Central')\n",
      "('Mississippi', 'MS', 2922355, 'East South Central')\n",
      "('Missouri', 'MO', 5891974, 'West North Central')\n",
      "('Montana', 'MT', 963802, 'Mountain')\n",
      "('Nebraska', 'NE', 1776757, 'West North Central')\n",
      "('Nevada', 'NV', 2579387, 'Mountain')\n",
      "('New Hampshire', 'NH', 1314533, 'New England')\n",
      "('New Jersey', 'NJ', 8670204, 'Mid-Atlantic')\n",
      "('New Mexico', 'NM', 1974993, 'Mountain')\n",
      "('New York', 'NY', 19465159, 'Mid-Atlantic')\n",
      "('North Carolina', 'NC', 9121606, 'South Atlantic')\n",
      "('North Dakota', 'ND', 634282, 'West North Central')\n",
      "('Ohio', 'OH', 11476782, 'East North Central')\n",
      "('Oklahoma', 'OK', 3620620, 'West South Central')\n",
      "('Oregon', 'OR', 3786824, 'Pacific')\n",
      "('Pennsylvania', 'PA', 12440129, 'Mid-Atlantic')\n",
      "('Rhode Island', 'RI', 1046535, 'New England')\n",
      "('South Carolina', 'SC', 4438870, 'South Atlantic')\n",
      "('South Dakota', 'SD', 800997, 'West North Central')\n",
      "('Tennessee', 'TN', 6202407, 'East South Central')\n",
      "('Texas', 'TX', 24214127, 'West South Central')\n",
      "('Utah', 'UT', 2730919, 'Mountain')\n",
      "('Vermont', 'VT', 620602, 'New England')\n",
      "('Virginia', 'VA', 7648902, 'South Atlantic')\n",
      "('Washington', 'WA', 6502019, 'Pacific')\n",
      "('West Virginia', 'WV', 1812879, 'South Atlantic')\n",
      "('Wisconsin', 'WI', 5625013, 'East North Central')\n",
      "('Wyoming', 'WY', 529490, 'Mountain')\n"
     ]
    }
   ],
   "source": [
    "# Build a statement to select the state, sum of \n",
    "# 2008 population and census division name\n",
    "stmt = select([\n",
    "    census.columns.state,\n",
    "    state_fact.columns.abbreviation,\n",
    "    func.sum(census.columns.pop2008),\n",
    "    state_fact.columns.census_division_name\n",
    "])\n",
    "\n",
    "# Append select_from to join the census and state_fact tables \n",
    "# by the census state and state_fact name columns\n",
    "stmt = stmt.select_from(\n",
    "    census.join(state_fact, census.columns.state == state_fact.columns.name)\n",
    ")\n",
    "\n",
    "# Append a group by for the state_fact name column\n",
    "stmt = stmt.group_by(state_fact.columns.name)\n",
    "\n",
    "# Execute the statement and get the results: results\n",
    "results = connection.execute(stmt).fetchall()\n",
    "\n",
    "# Loop over the the results object and print each record.\n",
    "for record in results:\n",
    "    print(record)"
   ]
  },
  {
   "cell_type": "markdown",
   "metadata": {},
   "source": [
    "## Self Joins"
   ]
  },
  {
   "cell_type": "code",
   "execution_count": 36,
   "metadata": {},
   "outputs": [
    {
     "name": "stdout",
     "output_type": "stream",
     "text": [
      "Tables: ['employees']\n",
      "Columns: ['id', 'name', 'job', 'mgr', 'hiredate', 'sal', 'comm', 'dept']\n",
      "Setup complete!\n"
     ]
    }
   ],
   "source": [
    "# instantiate the database connection\n",
    "engine = create_engine('sqlite:///../data/sqlalchemy/employees.sqlite')\n",
    "connection = engine.connect()\n",
    "print('Tables:', engine.table_names())\n",
    "\n",
    "# instantiate the table obj\n",
    "employees = Table('employees', MetaData(), autoload=True, autoload_with=engine)\n",
    "print('Columns:', employees.columns.keys())\n",
    "\n",
    "print('Setup complete!')"
   ]
  },
  {
   "cell_type": "markdown",
   "metadata": {},
   "source": [
    "We'll create **self** joins when dealing with **hierarchical** tables, where there is an undefined relationship between two of the columns in the table, e.g. the manager in `mgr` column also appears in the `id` column.\n",
    "\n",
    "in order to use this relationship in a query, we use the `alias` method which allows us to refer to the table by another name - you can refer to the same table with two unique names."
   ]
  },
  {
   "cell_type": "markdown",
   "metadata": {},
   "source": [
    "**Create a list of managers and the employees that report to them**"
   ]
  },
  {
   "cell_type": "code",
   "execution_count": 40,
   "metadata": {},
   "outputs": [
    {
     "data": {
      "text/plain": [
       "[('FILLMORE', 'GRANT'),\n",
       " ('FILLMORE', 'ADAMS'),\n",
       " ('FILLMORE', 'MONROE'),\n",
       " ('GARFIELD', 'JOHNSON'),\n",
       " ('GARFIELD', 'LINCOLN'),\n",
       " ('GARFIELD', 'POLK'),\n",
       " ('GARFIELD', 'WASHINGTON'),\n",
       " ('HARDING', 'TAFT'),\n",
       " ('HARDING', 'HOOVER'),\n",
       " ('JACKSON', 'HARDING'),\n",
       " ('JACKSON', 'GARFIELD'),\n",
       " ('JACKSON', 'FILLMORE'),\n",
       " ('JACKSON', 'ROOSEVELT')]"
      ]
     },
     "execution_count": 40,
     "metadata": {},
     "output_type": "execute_result"
    }
   ],
   "source": [
    "# create an alias for the employees table\n",
    "managers = employees.alias()\n",
    "\n",
    "# columns of interest and define alternate names\n",
    "stmt = select([\n",
    "    managers.columns.name.label('manager'),\n",
    "    employees.columns.name.label('employee')\n",
    "])\n",
    "\n",
    "# join the tables\n",
    "stmt = stmt.select_from(\n",
    "    employees.join(\n",
    "        managers,\n",
    "        managers.columns.id == employees.columns.mgr\n",
    "    )\n",
    ")\n",
    "\n",
    "stmt = stmt.order_by(managers.columns.name)\n",
    "connection.execute(stmt).fetchall()"
   ]
  },
  {
   "cell_type": "markdown",
   "metadata": {},
   "source": [
    "If you need to perform a `group_by` or using `func`, treat them as two separate tables. Have the table in the `group_by` and the `alias` in the `func`, or vice versa."
   ]
  },
  {
   "cell_type": "markdown",
   "metadata": {},
   "source": [
    "**Determine the sum each managers employees salary**\n",
    "\n",
    "In the example we apply the function to the employees table, and group by to the managers alias."
   ]
  },
  {
   "cell_type": "code",
   "execution_count": 42,
   "metadata": {},
   "outputs": [
    {
     "data": {
      "text/plain": [
       "[('FILLMORE', Decimal('96000.00')),\n",
       " ('GARFIELD', Decimal('83500.00')),\n",
       " ('HARDING', Decimal('52000.00')),\n",
       " ('JACKSON', Decimal('197000.00'))]"
      ]
     },
     "execution_count": 42,
     "metadata": {},
     "output_type": "execute_result"
    }
   ],
   "source": [
    "managers = employees.alias()\n",
    "\n",
    "stmt = select([\n",
    "    managers.columns.name,\n",
    "    func.sum(employees.columns.sal)\n",
    "])\n",
    "\n",
    "# join the tables\n",
    "stmt = stmt.select_from(\n",
    "    employees.join(\n",
    "        managers,\n",
    "        managers.columns.id == employees.columns.mgr\n",
    "    )\n",
    ")\n",
    "\n",
    "# group by mgr's name and execute the query\n",
    "stmt = stmt.group_by(managers.columns.name)\n",
    "connection.execute(stmt).fetchall()"
   ]
  },
  {
   "cell_type": "markdown",
   "metadata": {},
   "source": [
    "**Count number of employees assigned to each particular manager**"
   ]
  },
  {
   "cell_type": "code",
   "execution_count": 43,
   "metadata": {},
   "outputs": [
    {
     "name": "stdout",
     "output_type": "stream",
     "text": [
      "('FILLMORE', 3)\n",
      "('GARFIELD', 4)\n",
      "('HARDING', 2)\n",
      "('JACKSON', 4)\n"
     ]
    }
   ],
   "source": [
    "# Make an alias of the employees table: managers\n",
    "managers = employees.alias()\n",
    "\n",
    "# Build a query to select managers and counts of their employees: stmt\n",
    "stmt = select([managers.columns.name, func.count(employees.columns.id)])\n",
    "\n",
    "# Append a where clause that ensures the manager id and employee mgr are equal\n",
    "stmt = stmt.where(managers.columns.id == employees.columns.mgr)\n",
    "\n",
    "# Group by Managers Name\n",
    "stmt = stmt.group_by(managers.columns.name)\n",
    "\n",
    "# Execute statement: results\n",
    "results = connection.execute(stmt).fetchall()\n",
    "\n",
    "# print manager\n",
    "for record in results:\n",
    "    print(record)"
   ]
  }
 ],
 "metadata": {
  "kernelspec": {
   "display_name": "Python 3",
   "language": "python",
   "name": "python3"
  },
  "language_info": {
   "codemirror_mode": {
    "name": "ipython",
    "version": 3
   },
   "file_extension": ".py",
   "mimetype": "text/x-python",
   "name": "python",
   "nbconvert_exporter": "python",
   "pygments_lexer": "ipython3",
   "version": "3.6.7"
  }
 },
 "nbformat": 4,
 "nbformat_minor": 2
}
