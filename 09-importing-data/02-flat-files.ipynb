{
 "cells": [
  {
   "cell_type": "markdown",
   "metadata": {},
   "source": [
    "# Importing flat files\n",
    "\n",
    "Flat files are text files containg a single table, without any structured relationships. As apposed to a relational database which consists of multiple tables that can be related. \n",
    "\n",
    "The table consists of records, where each is a row of fields or attributes(features) which at most contain one item of information, relating to a unique sample. `csv` files are examples of flat files.\n",
    "\n",
    "In the `titanic.csv` file, each row is a unique passenger, and each column is a feature or attribute, e.g. name, age, cabin, etc.\n",
    "\n",
    "A flat file may have a `header`, as in `csv` files. It is the first row and describes the contents of the data columns.\n",
    "\n",
    "`txt` and `csv` files are examples of flat files.\n",
    "\n",
    "Values in flat files can be separated by a number of different `delimites`, e.g. commas, space, tab, etc.\n",
    "\n",
    "We generally import them using `NumPy` if you want to manipulate the data as an array, or using `Pandas` if you want to manipulate a dataframe."
   ]
  },
  {
   "cell_type": "markdown",
   "metadata": {},
   "source": [
    "## Importing Flat Files with NumPy\n",
    "\n",
    "Why use NumPy?\n",
    "\n",
    "NumPy arrays are the Python standard for storing numerical data since they're efficient and fast.\n",
    "\n",
    "NumPy arrays are sometimes required by other packages, e.g. `SckitLearn`.\n",
    "\n",
    "NumPy has a number of methods, such as `loadtxt()` and `genfromtxt()` which make importing flat file easy."
   ]
  },
  {
   "cell_type": "markdown",
   "metadata": {},
   "source": [
    "### loadtxt()\n",
    "\n",
    "- Default delimiter is white space, ` `.\n",
    "- By default will import **numerical** only data, interpreter will raise a `ValueError` otherwise.\n",
    "- Use the attribute `dtype=str` to import strings.\n",
    "- if your file has a header with string column names, you can skip it with `skiprows=1` attribute. You can specify how many rows you wish to speak, 1 being the 1st.\n",
    "- specify specific columns to be imported using `usecols=[col1, col2, col4, etc]`, assigning a list of the column indices."
   ]
  },
  {
   "cell_type": "code",
   "execution_count": 10,
   "metadata": {},
   "outputs": [
    {
     "data": {
      "text/plain": [
       "array([[1., 0., 0., ..., 0., 0., 0.],\n",
       "       [0., 0., 0., ..., 0., 0., 0.],\n",
       "       [1., 0., 0., ..., 0., 0., 0.],\n",
       "       ...,\n",
       "       [2., 0., 0., ..., 0., 0., 0.],\n",
       "       [0., 0., 0., ..., 0., 0., 0.],\n",
       "       [5., 0., 0., ..., 0., 0., 0.]])"
      ]
     },
     "execution_count": 10,
     "metadata": {},
     "output_type": "execute_result"
    }
   ],
   "source": [
    "import numpy as np\n",
    "\n",
    "data = np.loadtxt('data/mnist.txt', delimiter=',')\n",
    "data"
   ]
  },
  {
   "cell_type": "code",
   "execution_count": 14,
   "metadata": {},
   "outputs": [
    {
     "data": {
      "text/plain": [
       "array([[9.90e+01, 6.70e-02],\n",
       "       [9.90e+01, 1.33e-01],\n",
       "       [9.90e+01, 6.70e-02],\n",
       "       [9.90e+01, 0.00e+00],\n",
       "       [9.90e+01, 0.00e+00]])"
      ]
     },
     "execution_count": 14,
     "metadata": {},
     "output_type": "execute_result"
    }
   ],
   "source": [
    "# skip the header row, tab delimeter\n",
    "data = np.loadtxt('data/seaslug.txt', delimiter='\\t', skiprows=1)\n",
    "data[0:5] # first 5 rows"
   ]
  },
  {
   "cell_type": "code",
   "execution_count": 19,
   "metadata": {},
   "outputs": [
    {
     "data": {
      "text/plain": [
       "array([[1., 0., 0., 0.],\n",
       "       [0., 0., 0., 0.],\n",
       "       [1., 0., 0., 0.],\n",
       "       [4., 0., 0., 0.],\n",
       "       [0., 0., 0., 0.]])"
      ]
     },
     "execution_count": 19,
     "metadata": {},
     "output_type": "execute_result"
    }
   ],
   "source": [
    "# retrieve the 1st, 3rd, 5th and 9th columns - use the column indecies\n",
    "data = np.loadtxt('data/mnist.txt', delimiter=',', usecols=[0, 2, 4, 8])\n",
    "data[0:5]"
   ]
  },
  {
   "cell_type": "code",
   "execution_count": 21,
   "metadata": {},
   "outputs": [
    {
     "data": {
      "text/plain": [
       "array([[\"'werwer'\", \"'werwer'\", \"'werwer'\", \"'werwer'\", \"'werwer'\",\n",
       "        \"werwerwer'\"],\n",
       "       [\"'werwerw'\", \"'werwer'\", \"'wrwerwer'\", \"'werwer'\", \"'werwer'\",\n",
       "        \"'ewrwer'\"],\n",
       "       [\"'werwer'\", \"'werwer'\", \"'werwer'\", \"'werwerwer'\", \"'werwerwer'\",\n",
       "        \"'wrewer'\"]], dtype='<U11')"
      ]
     },
     "execution_count": 21,
     "metadata": {},
     "output_type": "execute_result"
    }
   ],
   "source": [
    "# import strings\n",
    "data = np.loadtxt('data/dummy.txt', delimiter=',', dtype=str)\n",
    "data"
   ]
  },
  {
   "cell_type": "code",
   "execution_count": 27,
   "metadata": {},
   "outputs": [
    {
     "data": {
      "text/plain": [
       "array([[\"'werwer'\", '3', \"'werwer'\", '5', \"'werwer'\", \"'werwer'\",\n",
       "        \"'werwer'\", \"werwerwer'\"],\n",
       "       [\"'werwerw'\", '3', \"'werwer'\", '6', \"'wrwerwer'\", \"'werwer'\",\n",
       "        \"'werwer'\", \"'ewrwer'\"],\n",
       "       [\"'werwer'\", '3', \"'werwer'\", '8', \"'werwer'\", \"'werwerwer'\",\n",
       "        \"'werwerwer'\", \"'wrewer'\"]], dtype='<U11')"
      ]
     },
     "execution_count": 27,
     "metadata": {},
     "output_type": "execute_result"
    }
   ],
   "source": [
    "# mixed numbers and strings are all imported as strings when 'dtype=str'\n",
    "data = np.loadtxt('data/mixed.txt', delimiter=',', dtype=str)\n",
    "data"
   ]
  },
  {
   "cell_type": "code",
   "execution_count": 30,
   "metadata": {},
   "outputs": [
    {
     "data": {
      "text/plain": [
       "array([['1', '0', '3', ..., '7.25', '', 'S'],\n",
       "       ['2', '1', '1', ..., '71.2833', 'C85', 'C'],\n",
       "       ['3', '1', '3', ..., '7.925', '', 'S'],\n",
       "       ...,\n",
       "       ['889', '0', '3', ..., '23.45', '', 'S'],\n",
       "       ['890', '1', '1', ..., '30.0', 'C148', 'C'],\n",
       "       ['891', '0', '3', ..., '7.75', '', 'Q']], dtype='<U18')"
      ]
     },
     "execution_count": 30,
     "metadata": {},
     "output_type": "execute_result"
    }
   ],
   "source": [
    "# mixed numbers and string csv file\n",
    "data = np.loadtxt('data/titanic.csv', skiprows=1, delimiter=',', dtype=str)\n",
    "data"
   ]
  },
  {
   "cell_type": "code",
   "execution_count": 31,
   "metadata": {},
   "outputs": [
    {
     "data": {
      "text/plain": [
       "array([[1., 0., 0., ..., 0., 0., 0.],\n",
       "       [0., 0., 0., ..., 0., 0., 0.],\n",
       "       [1., 0., 0., ..., 0., 0., 0.],\n",
       "       ...,\n",
       "       [2., 0., 0., ..., 0., 0., 0.],\n",
       "       [0., 0., 0., ..., 0., 0., 0.],\n",
       "       [5., 0., 0., ..., 0., 0., 0.]])"
      ]
     },
     "execution_count": 31,
     "metadata": {},
     "output_type": "execute_result"
    }
   ],
   "source": [
    "# load csv of numerical data\n",
    "data = np.loadtxt('data/mnist.csv', delimiter=',')\n",
    "data"
   ]
  },
  {
   "cell_type": "code",
   "execution_count": 39,
   "metadata": {},
   "outputs": [
    {
     "data": {
      "text/plain": [
       "(47, 2)"
      ]
     },
     "execution_count": 39,
     "metadata": {},
     "output_type": "execute_result"
    }
   ],
   "source": [
    "# import the same file as either string or numerical data\n",
    "file = 'data/seaslug.txt'\n",
    "\n",
    "# Import file: data\n",
    "data = np.loadtxt(file, delimiter='\\t', dtype=str)\n",
    "\n",
    "# Import data as floats, tab-delimited and skip the first row: data_float\n",
    "data_float = np.loadtxt(file, delimiter='\\t', dtype=float, skiprows=1)\n",
    "np.shape(data_float)"
   ]
  },
  {
   "cell_type": "markdown",
   "metadata": {},
   "source": [
    "### genfromtxt()\n",
    "\n",
    "When dealing with files with mixed datatypes, a more robust option is to use numpy's `genfromtxt()` method and set `dtype=None`.  It will figure out what types each column should be.\n",
    "\n",
    "The `names=True` argument tells numpy the file contains a header.\n",
    "\n",
    "Whereas `.loadtxt()` returns a **numpy array**, `genfromtxt()` generates a **structured array**. Numpy arrays must contain elements of all the same data type. A **structured array** is a 1-D array where each element is a row imported from the flat file.  You can test this by checking out the array's shape in the shell by executing `np.shape(data)`.\n",
    "\n",
    "Accessing rows and columns of structured arrays is the same as accessing an alament in a list: to get the `ith` row, merely execute `data[i`] and to get the column with name `'Fare'`, execute `data['Fare']`."
   ]
  },
  {
   "cell_type": "code",
   "execution_count": 41,
   "metadata": {},
   "outputs": [
    {
     "data": {
      "text/plain": [
       "array([(1, 0, 3, 'male', 22., 1, 0, 'A/5 21171',  7.25  , '', 'S'),\n",
       "       (2, 1, 1, 'female', 38., 1, 0, 'PC 17599', 71.2833, 'C85', 'C'),\n",
       "       (3, 1, 3, 'female', 26., 0, 0, 'STON/O2. 3101282',  7.925 , '', 'S'),\n",
       "       (4, 1, 1, 'female', 35., 1, 0, '113803', 53.1   , 'C123', 'S'),\n",
       "       (5, 0, 3, 'male', 35., 0, 0, '373450',  8.05  , '', 'S')],\n",
       "      dtype=[('PassengerId', '<i8'), ('Survived', '<i8'), ('Pclass', '<i8'), ('Sex', '<U6'), ('Age', '<f8'), ('SibSp', '<i8'), ('Parch', '<i8'), ('Ticket', '<U18'), ('Fare', '<f8'), ('Cabin', '<U15'), ('Embarked', '<U1')])"
      ]
     },
     "execution_count": 41,
     "metadata": {},
     "output_type": "execute_result"
    }
   ],
   "source": [
    "# importing titanic data\n",
    "data = np.genfromtxt('data/titanic.csv', delimiter=',', names=True, dtype=None, encoding=None)\n",
    "data[0:5]"
   ]
  },
  {
   "cell_type": "code",
   "execution_count": 42,
   "metadata": {},
   "outputs": [
    {
     "data": {
      "text/plain": [
       "(891,)"
      ]
     },
     "execution_count": 42,
     "metadata": {},
     "output_type": "execute_result"
    }
   ],
   "source": [
    "np.shape(data)"
   ]
  },
  {
   "cell_type": "code",
   "execution_count": 44,
   "metadata": {},
   "outputs": [
    {
     "data": {
      "text/plain": [
       "array([3, 1, 3, 1, 3])"
      ]
     },
     "execution_count": 44,
     "metadata": {},
     "output_type": "execute_result"
    }
   ],
   "source": [
    "data['Pclass'][0:5]"
   ]
  },
  {
   "cell_type": "markdown",
   "metadata": {},
   "source": [
    "### recfromcsv()\n",
    "\n",
    "You'll only need to pass the file to it because it has the defaults `delimiter=','`,  `names=True` and `dtype=None`."
   ]
  },
  {
   "cell_type": "code",
   "execution_count": 46,
   "metadata": {},
   "outputs": [
    {
     "data": {
      "text/plain": [
       "rec.array([(1, 0, 3, 'male', 22., 1, 0, 'A/5 21171',  7.25  , '', 'S'),\n",
       "           (2, 1, 1, 'female', 38., 1, 0, 'PC 17599', 71.2833, 'C85', 'C'),\n",
       "           (3, 1, 3, 'female', 26., 0, 0, 'STON/O2. 3101282',  7.925 , '', 'S'),\n",
       "           (4, 1, 1, 'female', 35., 1, 0, '113803', 53.1   , 'C123', 'S'),\n",
       "           (5, 0, 3, 'male', 35., 0, 0, '373450',  8.05  , '', 'S')],\n",
       "          dtype=[('passengerid', '<i8'), ('survived', '<i8'), ('pclass', '<i8'), ('sex', '<U6'), ('age', '<f8'), ('sibsp', '<i8'), ('parch', '<i8'), ('ticket', '<U18'), ('fare', '<f8'), ('cabin', '<U15'), ('embarked', '<U1')])"
      ]
     },
     "execution_count": 46,
     "metadata": {},
     "output_type": "execute_result"
    }
   ],
   "source": [
    "data = np.recfromcsv('data/titanic.csv', encoding=None)\n",
    "data[:5]"
   ]
  }
 ],
 "metadata": {
  "kernelspec": {
   "display_name": "Python 3",
   "language": "python",
   "name": "python3"
  },
  "language_info": {
   "codemirror_mode": {
    "name": "ipython",
    "version": 3
   },
   "file_extension": ".py",
   "mimetype": "text/x-python",
   "name": "python",
   "nbconvert_exporter": "python",
   "pygments_lexer": "ipython3",
   "version": "3.7.1"
  }
 },
 "nbformat": 4,
 "nbformat_minor": 2
}
