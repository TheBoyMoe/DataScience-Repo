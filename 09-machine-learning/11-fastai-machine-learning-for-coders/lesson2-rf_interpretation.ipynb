{
 "cells": [
  {
   "cell_type": "markdown",
   "metadata": {},
   "source": [
    "**Important: This notebook will only work with fastai-0.7.x. Do not try to run any fastai-1.x code from this path in the repository because it will load fastai-0.7.x**"
   ]
  },
  {
   "cell_type": "markdown",
   "metadata": {},
   "source": [
    "# Random Forest Model interpretation"
   ]
  },
  {
   "cell_type": "code",
   "execution_count": 1,
   "metadata": {},
   "outputs": [],
   "source": [
    "%load_ext autoreload\n",
    "%autoreload 2"
   ]
  },
  {
   "cell_type": "code",
   "execution_count": 2,
   "metadata": {},
   "outputs": [],
   "source": [
    "%matplotlib inline\n",
    "\n",
    "from fastai.imports import *\n",
    "from fastai.structured import *\n",
    "from pandas_summary import DataFrameSummary\n",
    "from sklearn.ensemble import RandomForestRegressor, RandomForestClassifier\n",
    "from IPython.display import display\n",
    "from sklearn import metrics"
   ]
  },
  {
   "cell_type": "code",
   "execution_count": 3,
   "metadata": {},
   "outputs": [],
   "source": [
    "set_plot_sizes(12,14,16)"
   ]
  },
  {
   "cell_type": "markdown",
   "metadata": {},
   "source": [
    "## Load in our data from last lesson"
   ]
  },
  {
   "cell_type": "code",
   "execution_count": 4,
   "metadata": {},
   "outputs": [
    {
     "name": "stdout",
     "output_type": "stream",
     "text": [
      "(401125, 66)\n",
      "(401125,)\n"
     ]
    },
    {
     "data": {
      "text/plain": [
       "{'auctioneerID': 2.0, 'MachineHoursCurrentMeter': 0.0}"
      ]
     },
     "execution_count": 4,
     "metadata": {},
     "output_type": "execute_result"
    }
   ],
   "source": [
    "PATH = \"data/bulldozers/\"\n",
    "\n",
    "# reading data from lesson 2\n",
    "df_raw = pd.read_feather('tmp/bulldozers-raw')\n",
    "# fill in missing values, convert cats to nums, pull out target (dependent variable)\n",
    "df_trn, y_trn, nas = proc_df(df_raw, 'SalePrice')\n",
    "\n",
    "print(df_trn.shape)\n",
    "print(y_trn.shape)\n",
    "nas # keys - numeric cols with missing values, values are the medians"
   ]
  },
  {
   "cell_type": "code",
   "execution_count": null,
   "metadata": {},
   "outputs": [],
   "source": [
    "??is_numeric_dtype"
   ]
  },
  {
   "cell_type": "markdown",
   "metadata": {},
   "source": [
    "**Note**:\n",
    "\n",
    "`nas` is a dictionary of the columns (the keys) which had missing values and the medians (the values) for each of those columns.\n",
    "\n",
    "You can pass `nas` to `proc_df` (3rd arg) when pre-processing your test dataset to ensure it uses those same median values in those columns for any missing values."
   ]
  },
  {
   "cell_type": "code",
   "execution_count": 5,
   "metadata": {},
   "outputs": [],
   "source": [
    "def split_vals(a,n): return a[:n], a[n:]\n",
    "n_valid = 12000\n",
    "n_trn = len(df_trn)-n_valid\n",
    "\n",
    "# split the data into training and validation data sets\n",
    "X_train, X_valid = split_vals(df_trn, n_trn) # data\n",
    "y_train, y_valid = split_vals(y_trn, n_trn) # labels\n",
    "raw_train, raw_valid = split_vals(df_raw, n_trn)"
   ]
  },
  {
   "cell_type": "code",
   "execution_count": 6,
   "metadata": {},
   "outputs": [
    {
     "name": "stdout",
     "output_type": "stream",
     "text": [
      "(389125, 66) (12000, 66) (389125,) (12000,)\n"
     ]
    },
    {
     "data": {
      "text/html": [
       "<div>\n",
       "<style scoped>\n",
       "    .dataframe tbody tr th:only-of-type {\n",
       "        vertical-align: middle;\n",
       "    }\n",
       "\n",
       "    .dataframe tbody tr th {\n",
       "        vertical-align: top;\n",
       "    }\n",
       "\n",
       "    .dataframe thead th {\n",
       "        text-align: right;\n",
       "    }\n",
       "</style>\n",
       "<table border=\"1\" class=\"dataframe\">\n",
       "  <thead>\n",
       "    <tr style=\"text-align: right;\">\n",
       "      <th></th>\n",
       "      <th>155897</th>\n",
       "      <th>61906</th>\n",
       "      <th>219717</th>\n",
       "      <th>28317</th>\n",
       "      <th>244808</th>\n",
       "    </tr>\n",
       "  </thead>\n",
       "  <tbody>\n",
       "    <tr>\n",
       "      <th>SalesID</th>\n",
       "      <td>1550060</td>\n",
       "      <td>1326929</td>\n",
       "      <td>1688492</td>\n",
       "      <td>1259085</td>\n",
       "      <td>1754110</td>\n",
       "    </tr>\n",
       "    <tr>\n",
       "      <th>MachineID</th>\n",
       "      <td>825750</td>\n",
       "      <td>1089476</td>\n",
       "      <td>1303537</td>\n",
       "      <td>1203167</td>\n",
       "      <td>1302417</td>\n",
       "    </tr>\n",
       "    <tr>\n",
       "      <th>ModelID</th>\n",
       "      <td>7026</td>\n",
       "      <td>1526</td>\n",
       "      <td>22982</td>\n",
       "      <td>6633</td>\n",
       "      <td>349</td>\n",
       "    </tr>\n",
       "    <tr>\n",
       "      <th>datasource</th>\n",
       "      <td>132</td>\n",
       "      <td>132</td>\n",
       "      <td>132</td>\n",
       "      <td>132</td>\n",
       "      <td>132</td>\n",
       "    </tr>\n",
       "    <tr>\n",
       "      <th>auctioneerID</th>\n",
       "      <td>10</td>\n",
       "      <td>9</td>\n",
       "      <td>1</td>\n",
       "      <td>2</td>\n",
       "      <td>1</td>\n",
       "    </tr>\n",
       "    <tr>\n",
       "      <th>YearMade</th>\n",
       "      <td>2003</td>\n",
       "      <td>1984</td>\n",
       "      <td>1995</td>\n",
       "      <td>1000</td>\n",
       "      <td>1000</td>\n",
       "    </tr>\n",
       "    <tr>\n",
       "      <th>MachineHoursCurrentMeter</th>\n",
       "      <td>0</td>\n",
       "      <td>0</td>\n",
       "      <td>0</td>\n",
       "      <td>0</td>\n",
       "      <td>0</td>\n",
       "    </tr>\n",
       "    <tr>\n",
       "      <th>UsageBand</th>\n",
       "      <td>-1</td>\n",
       "      <td>-1</td>\n",
       "      <td>-1</td>\n",
       "      <td>-1</td>\n",
       "      <td>-1</td>\n",
       "    </tr>\n",
       "    <tr>\n",
       "      <th>fiModelDesc</th>\n",
       "      <td>396</td>\n",
       "      <td>2096</td>\n",
       "      <td>2742</td>\n",
       "      <td>184</td>\n",
       "      <td>3710</td>\n",
       "    </tr>\n",
       "    <tr>\n",
       "      <th>fiBaseModel</th>\n",
       "      <td>136</td>\n",
       "      <td>681</td>\n",
       "      <td>851</td>\n",
       "      <td>63</td>\n",
       "      <td>1381</td>\n",
       "    </tr>\n",
       "    <tr>\n",
       "      <th>fiSecondaryDesc</th>\n",
       "      <td>0</td>\n",
       "      <td>21</td>\n",
       "      <td>151</td>\n",
       "      <td>0</td>\n",
       "      <td>0</td>\n",
       "    </tr>\n",
       "    <tr>\n",
       "      <th>fiModelSeries</th>\n",
       "      <td>0</td>\n",
       "      <td>0</td>\n",
       "      <td>0</td>\n",
       "      <td>0</td>\n",
       "      <td>34</td>\n",
       "    </tr>\n",
       "    <tr>\n",
       "      <th>fiModelDescriptor</th>\n",
       "      <td>0</td>\n",
       "      <td>71</td>\n",
       "      <td>0</td>\n",
       "      <td>0</td>\n",
       "      <td>0</td>\n",
       "    </tr>\n",
       "    <tr>\n",
       "      <th>ProductSize</th>\n",
       "      <td>0</td>\n",
       "      <td>0</td>\n",
       "      <td>5</td>\n",
       "      <td>0</td>\n",
       "      <td>6</td>\n",
       "    </tr>\n",
       "    <tr>\n",
       "      <th>fiProductClassDesc</th>\n",
       "      <td>43</td>\n",
       "      <td>51</td>\n",
       "      <td>23</td>\n",
       "      <td>39</td>\n",
       "      <td>9</td>\n",
       "    </tr>\n",
       "    <tr>\n",
       "      <th>state</th>\n",
       "      <td>18</td>\n",
       "      <td>41</td>\n",
       "      <td>44</td>\n",
       "      <td>10</td>\n",
       "      <td>9</td>\n",
       "    </tr>\n",
       "    <tr>\n",
       "      <th>ProductGroup</th>\n",
       "      <td>3</td>\n",
       "      <td>5</td>\n",
       "      <td>4</td>\n",
       "      <td>3</td>\n",
       "      <td>4</td>\n",
       "    </tr>\n",
       "    <tr>\n",
       "      <th>ProductGroupDesc</th>\n",
       "      <td>3</td>\n",
       "      <td>5</td>\n",
       "      <td>4</td>\n",
       "      <td>3</td>\n",
       "      <td>4</td>\n",
       "    </tr>\n",
       "    <tr>\n",
       "      <th>Drive_System</th>\n",
       "      <td>0</td>\n",
       "      <td>0</td>\n",
       "      <td>0</td>\n",
       "      <td>0</td>\n",
       "      <td>0</td>\n",
       "    </tr>\n",
       "    <tr>\n",
       "      <th>Enclosure</th>\n",
       "      <td>1</td>\n",
       "      <td>6</td>\n",
       "      <td>1</td>\n",
       "      <td>6</td>\n",
       "      <td>1</td>\n",
       "    </tr>\n",
       "    <tr>\n",
       "      <th>Forks</th>\n",
       "      <td>2</td>\n",
       "      <td>0</td>\n",
       "      <td>0</td>\n",
       "      <td>1</td>\n",
       "      <td>0</td>\n",
       "    </tr>\n",
       "    <tr>\n",
       "      <th>Pad_Type</th>\n",
       "      <td>0</td>\n",
       "      <td>0</td>\n",
       "      <td>0</td>\n",
       "      <td>0</td>\n",
       "      <td>0</td>\n",
       "    </tr>\n",
       "    <tr>\n",
       "      <th>Ride_Control</th>\n",
       "      <td>0</td>\n",
       "      <td>0</td>\n",
       "      <td>0</td>\n",
       "      <td>0</td>\n",
       "      <td>0</td>\n",
       "    </tr>\n",
       "    <tr>\n",
       "      <th>Stick</th>\n",
       "      <td>0</td>\n",
       "      <td>0</td>\n",
       "      <td>0</td>\n",
       "      <td>0</td>\n",
       "      <td>0</td>\n",
       "    </tr>\n",
       "    <tr>\n",
       "      <th>Transmission</th>\n",
       "      <td>0</td>\n",
       "      <td>6</td>\n",
       "      <td>0</td>\n",
       "      <td>0</td>\n",
       "      <td>0</td>\n",
       "    </tr>\n",
       "    <tr>\n",
       "      <th>Turbocharged</th>\n",
       "      <td>0</td>\n",
       "      <td>0</td>\n",
       "      <td>0</td>\n",
       "      <td>0</td>\n",
       "      <td>0</td>\n",
       "    </tr>\n",
       "    <tr>\n",
       "      <th>Blade_Extension</th>\n",
       "      <td>0</td>\n",
       "      <td>0</td>\n",
       "      <td>0</td>\n",
       "      <td>0</td>\n",
       "      <td>0</td>\n",
       "    </tr>\n",
       "    <tr>\n",
       "      <th>Blade_Width</th>\n",
       "      <td>0</td>\n",
       "      <td>0</td>\n",
       "      <td>0</td>\n",
       "      <td>0</td>\n",
       "      <td>0</td>\n",
       "    </tr>\n",
       "    <tr>\n",
       "      <th>Enclosure_Type</th>\n",
       "      <td>0</td>\n",
       "      <td>0</td>\n",
       "      <td>0</td>\n",
       "      <td>0</td>\n",
       "      <td>0</td>\n",
       "    </tr>\n",
       "    <tr>\n",
       "      <th>Engine_Horsepower</th>\n",
       "      <td>0</td>\n",
       "      <td>0</td>\n",
       "      <td>0</td>\n",
       "      <td>0</td>\n",
       "      <td>0</td>\n",
       "    </tr>\n",
       "    <tr>\n",
       "      <th>...</th>\n",
       "      <td>...</td>\n",
       "      <td>...</td>\n",
       "      <td>...</td>\n",
       "      <td>...</td>\n",
       "      <td>...</td>\n",
       "    </tr>\n",
       "    <tr>\n",
       "      <th>Coupler</th>\n",
       "      <td>2</td>\n",
       "      <td>0</td>\n",
       "      <td>3</td>\n",
       "      <td>3</td>\n",
       "      <td>3</td>\n",
       "    </tr>\n",
       "    <tr>\n",
       "      <th>Coupler_System</th>\n",
       "      <td>1</td>\n",
       "      <td>0</td>\n",
       "      <td>0</td>\n",
       "      <td>1</td>\n",
       "      <td>0</td>\n",
       "    </tr>\n",
       "    <tr>\n",
       "      <th>Grouser_Tracks</th>\n",
       "      <td>1</td>\n",
       "      <td>0</td>\n",
       "      <td>0</td>\n",
       "      <td>1</td>\n",
       "      <td>0</td>\n",
       "    </tr>\n",
       "    <tr>\n",
       "      <th>Hydraulics_Flow</th>\n",
       "      <td>3</td>\n",
       "      <td>0</td>\n",
       "      <td>0</td>\n",
       "      <td>3</td>\n",
       "      <td>0</td>\n",
       "    </tr>\n",
       "    <tr>\n",
       "      <th>Track_Type</th>\n",
       "      <td>0</td>\n",
       "      <td>0</td>\n",
       "      <td>2</td>\n",
       "      <td>0</td>\n",
       "      <td>2</td>\n",
       "    </tr>\n",
       "    <tr>\n",
       "      <th>Undercarriage_Pad_Width</th>\n",
       "      <td>0</td>\n",
       "      <td>0</td>\n",
       "      <td>19</td>\n",
       "      <td>0</td>\n",
       "      <td>19</td>\n",
       "    </tr>\n",
       "    <tr>\n",
       "      <th>Stick_Length</th>\n",
       "      <td>0</td>\n",
       "      <td>0</td>\n",
       "      <td>29</td>\n",
       "      <td>0</td>\n",
       "      <td>29</td>\n",
       "    </tr>\n",
       "    <tr>\n",
       "      <th>Thumb</th>\n",
       "      <td>0</td>\n",
       "      <td>0</td>\n",
       "      <td>3</td>\n",
       "      <td>0</td>\n",
       "      <td>3</td>\n",
       "    </tr>\n",
       "    <tr>\n",
       "      <th>Pattern_Changer</th>\n",
       "      <td>0</td>\n",
       "      <td>0</td>\n",
       "      <td>2</td>\n",
       "      <td>0</td>\n",
       "      <td>2</td>\n",
       "    </tr>\n",
       "    <tr>\n",
       "      <th>Grouser_Type</th>\n",
       "      <td>0</td>\n",
       "      <td>0</td>\n",
       "      <td>1</td>\n",
       "      <td>0</td>\n",
       "      <td>1</td>\n",
       "    </tr>\n",
       "    <tr>\n",
       "      <th>Backhoe_Mounting</th>\n",
       "      <td>0</td>\n",
       "      <td>1</td>\n",
       "      <td>0</td>\n",
       "      <td>0</td>\n",
       "      <td>0</td>\n",
       "    </tr>\n",
       "    <tr>\n",
       "      <th>Blade_Type</th>\n",
       "      <td>0</td>\n",
       "      <td>6</td>\n",
       "      <td>0</td>\n",
       "      <td>0</td>\n",
       "      <td>0</td>\n",
       "    </tr>\n",
       "    <tr>\n",
       "      <th>Travel_Controls</th>\n",
       "      <td>0</td>\n",
       "      <td>6</td>\n",
       "      <td>0</td>\n",
       "      <td>0</td>\n",
       "      <td>0</td>\n",
       "    </tr>\n",
       "    <tr>\n",
       "      <th>Differential_Type</th>\n",
       "      <td>0</td>\n",
       "      <td>0</td>\n",
       "      <td>0</td>\n",
       "      <td>0</td>\n",
       "      <td>0</td>\n",
       "    </tr>\n",
       "    <tr>\n",
       "      <th>Steering_Controls</th>\n",
       "      <td>0</td>\n",
       "      <td>0</td>\n",
       "      <td>0</td>\n",
       "      <td>0</td>\n",
       "      <td>0</td>\n",
       "    </tr>\n",
       "    <tr>\n",
       "      <th>saleYear</th>\n",
       "      <td>2006</td>\n",
       "      <td>2002</td>\n",
       "      <td>2004</td>\n",
       "      <td>2002</td>\n",
       "      <td>2000</td>\n",
       "    </tr>\n",
       "    <tr>\n",
       "      <th>saleMonth</th>\n",
       "      <td>3</td>\n",
       "      <td>5</td>\n",
       "      <td>11</td>\n",
       "      <td>6</td>\n",
       "      <td>4</td>\n",
       "    </tr>\n",
       "    <tr>\n",
       "      <th>saleWeek</th>\n",
       "      <td>11</td>\n",
       "      <td>20</td>\n",
       "      <td>47</td>\n",
       "      <td>26</td>\n",
       "      <td>17</td>\n",
       "    </tr>\n",
       "    <tr>\n",
       "      <th>saleDay</th>\n",
       "      <td>16</td>\n",
       "      <td>16</td>\n",
       "      <td>16</td>\n",
       "      <td>30</td>\n",
       "      <td>27</td>\n",
       "    </tr>\n",
       "    <tr>\n",
       "      <th>saleDayofweek</th>\n",
       "      <td>3</td>\n",
       "      <td>3</td>\n",
       "      <td>1</td>\n",
       "      <td>6</td>\n",
       "      <td>3</td>\n",
       "    </tr>\n",
       "    <tr>\n",
       "      <th>saleDayofyear</th>\n",
       "      <td>75</td>\n",
       "      <td>136</td>\n",
       "      <td>321</td>\n",
       "      <td>181</td>\n",
       "      <td>118</td>\n",
       "    </tr>\n",
       "    <tr>\n",
       "      <th>saleIs_month_end</th>\n",
       "      <td>False</td>\n",
       "      <td>False</td>\n",
       "      <td>False</td>\n",
       "      <td>True</td>\n",
       "      <td>False</td>\n",
       "    </tr>\n",
       "    <tr>\n",
       "      <th>saleIs_month_start</th>\n",
       "      <td>False</td>\n",
       "      <td>False</td>\n",
       "      <td>False</td>\n",
       "      <td>False</td>\n",
       "      <td>False</td>\n",
       "    </tr>\n",
       "    <tr>\n",
       "      <th>saleIs_quarter_end</th>\n",
       "      <td>False</td>\n",
       "      <td>False</td>\n",
       "      <td>False</td>\n",
       "      <td>True</td>\n",
       "      <td>False</td>\n",
       "    </tr>\n",
       "    <tr>\n",
       "      <th>saleIs_quarter_start</th>\n",
       "      <td>False</td>\n",
       "      <td>False</td>\n",
       "      <td>False</td>\n",
       "      <td>False</td>\n",
       "      <td>False</td>\n",
       "    </tr>\n",
       "    <tr>\n",
       "      <th>saleIs_year_end</th>\n",
       "      <td>False</td>\n",
       "      <td>False</td>\n",
       "      <td>False</td>\n",
       "      <td>False</td>\n",
       "      <td>False</td>\n",
       "    </tr>\n",
       "    <tr>\n",
       "      <th>saleIs_year_start</th>\n",
       "      <td>False</td>\n",
       "      <td>False</td>\n",
       "      <td>False</td>\n",
       "      <td>False</td>\n",
       "      <td>False</td>\n",
       "    </tr>\n",
       "    <tr>\n",
       "      <th>saleElapsed</th>\n",
       "      <td>1142467200</td>\n",
       "      <td>1021507200</td>\n",
       "      <td>1100563200</td>\n",
       "      <td>1025395200</td>\n",
       "      <td>956793600</td>\n",
       "    </tr>\n",
       "    <tr>\n",
       "      <th>auctioneerID_na</th>\n",
       "      <td>False</td>\n",
       "      <td>False</td>\n",
       "      <td>False</td>\n",
       "      <td>False</td>\n",
       "      <td>False</td>\n",
       "    </tr>\n",
       "    <tr>\n",
       "      <th>MachineHoursCurrentMeter_na</th>\n",
       "      <td>True</td>\n",
       "      <td>True</td>\n",
       "      <td>True</td>\n",
       "      <td>True</td>\n",
       "      <td>True</td>\n",
       "    </tr>\n",
       "  </tbody>\n",
       "</table>\n",
       "<p>66 rows × 5 columns</p>\n",
       "</div>"
      ],
      "text/plain": [
       "                                 155897      61906       219717      28317   \\\n",
       "SalesID                         1550060     1326929     1688492     1259085   \n",
       "MachineID                        825750     1089476     1303537     1203167   \n",
       "ModelID                            7026        1526       22982        6633   \n",
       "datasource                          132         132         132         132   \n",
       "auctioneerID                         10           9           1           2   \n",
       "YearMade                           2003        1984        1995        1000   \n",
       "MachineHoursCurrentMeter              0           0           0           0   \n",
       "UsageBand                            -1          -1          -1          -1   \n",
       "fiModelDesc                         396        2096        2742         184   \n",
       "fiBaseModel                         136         681         851          63   \n",
       "fiSecondaryDesc                       0          21         151           0   \n",
       "fiModelSeries                         0           0           0           0   \n",
       "fiModelDescriptor                     0          71           0           0   \n",
       "ProductSize                           0           0           5           0   \n",
       "fiProductClassDesc                   43          51          23          39   \n",
       "state                                18          41          44          10   \n",
       "ProductGroup                          3           5           4           3   \n",
       "ProductGroupDesc                      3           5           4           3   \n",
       "Drive_System                          0           0           0           0   \n",
       "Enclosure                             1           6           1           6   \n",
       "Forks                                 2           0           0           1   \n",
       "Pad_Type                              0           0           0           0   \n",
       "Ride_Control                          0           0           0           0   \n",
       "Stick                                 0           0           0           0   \n",
       "Transmission                          0           6           0           0   \n",
       "Turbocharged                          0           0           0           0   \n",
       "Blade_Extension                       0           0           0           0   \n",
       "Blade_Width                           0           0           0           0   \n",
       "Enclosure_Type                        0           0           0           0   \n",
       "Engine_Horsepower                     0           0           0           0   \n",
       "...                                 ...         ...         ...         ...   \n",
       "Coupler                               2           0           3           3   \n",
       "Coupler_System                        1           0           0           1   \n",
       "Grouser_Tracks                        1           0           0           1   \n",
       "Hydraulics_Flow                       3           0           0           3   \n",
       "Track_Type                            0           0           2           0   \n",
       "Undercarriage_Pad_Width               0           0          19           0   \n",
       "Stick_Length                          0           0          29           0   \n",
       "Thumb                                 0           0           3           0   \n",
       "Pattern_Changer                       0           0           2           0   \n",
       "Grouser_Type                          0           0           1           0   \n",
       "Backhoe_Mounting                      0           1           0           0   \n",
       "Blade_Type                            0           6           0           0   \n",
       "Travel_Controls                       0           6           0           0   \n",
       "Differential_Type                     0           0           0           0   \n",
       "Steering_Controls                     0           0           0           0   \n",
       "saleYear                           2006        2002        2004        2002   \n",
       "saleMonth                             3           5          11           6   \n",
       "saleWeek                             11          20          47          26   \n",
       "saleDay                              16          16          16          30   \n",
       "saleDayofweek                         3           3           1           6   \n",
       "saleDayofyear                        75         136         321         181   \n",
       "saleIs_month_end                  False       False       False        True   \n",
       "saleIs_month_start                False       False       False       False   \n",
       "saleIs_quarter_end                False       False       False        True   \n",
       "saleIs_quarter_start              False       False       False       False   \n",
       "saleIs_year_end                   False       False       False       False   \n",
       "saleIs_year_start                 False       False       False       False   \n",
       "saleElapsed                  1142467200  1021507200  1100563200  1025395200   \n",
       "auctioneerID_na                   False       False       False       False   \n",
       "MachineHoursCurrentMeter_na        True        True        True        True   \n",
       "\n",
       "                                244808  \n",
       "SalesID                        1754110  \n",
       "MachineID                      1302417  \n",
       "ModelID                            349  \n",
       "datasource                         132  \n",
       "auctioneerID                         1  \n",
       "YearMade                          1000  \n",
       "MachineHoursCurrentMeter             0  \n",
       "UsageBand                           -1  \n",
       "fiModelDesc                       3710  \n",
       "fiBaseModel                       1381  \n",
       "fiSecondaryDesc                      0  \n",
       "fiModelSeries                       34  \n",
       "fiModelDescriptor                    0  \n",
       "ProductSize                          6  \n",
       "fiProductClassDesc                   9  \n",
       "state                                9  \n",
       "ProductGroup                         4  \n",
       "ProductGroupDesc                     4  \n",
       "Drive_System                         0  \n",
       "Enclosure                            1  \n",
       "Forks                                0  \n",
       "Pad_Type                             0  \n",
       "Ride_Control                         0  \n",
       "Stick                                0  \n",
       "Transmission                         0  \n",
       "Turbocharged                         0  \n",
       "Blade_Extension                      0  \n",
       "Blade_Width                          0  \n",
       "Enclosure_Type                       0  \n",
       "Engine_Horsepower                    0  \n",
       "...                                ...  \n",
       "Coupler                              3  \n",
       "Coupler_System                       0  \n",
       "Grouser_Tracks                       0  \n",
       "Hydraulics_Flow                      0  \n",
       "Track_Type                           2  \n",
       "Undercarriage_Pad_Width             19  \n",
       "Stick_Length                        29  \n",
       "Thumb                                3  \n",
       "Pattern_Changer                      2  \n",
       "Grouser_Type                         1  \n",
       "Backhoe_Mounting                     0  \n",
       "Blade_Type                           0  \n",
       "Travel_Controls                      0  \n",
       "Differential_Type                    0  \n",
       "Steering_Controls                    0  \n",
       "saleYear                          2000  \n",
       "saleMonth                            4  \n",
       "saleWeek                            17  \n",
       "saleDay                             27  \n",
       "saleDayofweek                        3  \n",
       "saleDayofyear                      118  \n",
       "saleIs_month_end                 False  \n",
       "saleIs_month_start               False  \n",
       "saleIs_quarter_end               False  \n",
       "saleIs_quarter_start             False  \n",
       "saleIs_year_end                  False  \n",
       "saleIs_year_start                False  \n",
       "saleElapsed                  956793600  \n",
       "auctioneerID_na                  False  \n",
       "MachineHoursCurrentMeter_na       True  \n",
       "\n",
       "[66 rows x 5 columns]"
      ]
     },
     "execution_count": 6,
     "metadata": {},
     "output_type": "execute_result"
    }
   ],
   "source": [
    "print(X_train.shape, X_valid.shape, y_train.shape, y_valid.shape)\n",
    "X_train.sample(5).T"
   ]
  },
  {
   "cell_type": "code",
   "execution_count": 7,
   "metadata": {},
   "outputs": [],
   "source": [
    "# helper functions\n",
    "def rmse(x,y): return math.sqrt(((x-y)**2).mean())\n",
    "\n",
    "def print_score(m):\n",
    "    res = [\n",
    "        rmse(m.predict(X_train), y_train), \n",
    "        rmse(m.predict(X_valid), y_valid),\n",
    "        m.score(X_train, y_train), \n",
    "        m.score(X_valid, y_valid)\n",
    "    ]\n",
    "    if hasattr(m, 'oob_score_'): res.append(m.oob_score_)\n",
    "    print(res)"
   ]
  },
  {
   "cell_type": "markdown",
   "metadata": {},
   "source": [
    "# Confidence based on tree variance"
   ]
  },
  {
   "cell_type": "markdown",
   "metadata": {},
   "source": [
    "For model interpretation, there's no need to use the full dataset on each tree - using a subset will be both faster, and also provide better interpretability (since an overfit model will not provide much variance across trees)."
   ]
  },
  {
   "cell_type": "code",
   "execution_count": 8,
   "metadata": {},
   "outputs": [],
   "source": [
    "# set the number of sample the random forest will use to train the model\n",
    "# big enough that if the model is run multiple times, you don't get diff results\n",
    "set_rf_samples(50000)"
   ]
  },
  {
   "cell_type": "code",
   "execution_count": 9,
   "metadata": {
    "scrolled": true
   },
   "outputs": [
    {
     "name": "stdout",
     "output_type": "stream",
     "text": [
      "[0.206728428343962, 0.2497536196498307, 0.9106827728565976, 0.8886034973301882, 0.8935122171810368]\n"
     ]
    }
   ],
   "source": [
    "m = RandomForestRegressor(\n",
    "    n_estimators=40, \n",
    "    min_samples_leaf=3, \n",
    "    max_features=0.5, \n",
    "    n_jobs=-1, \n",
    "    oob_score=True\n",
    ")\n",
    "m.fit(X_train, y_train)\n",
    "print_score(m)"
   ]
  },
  {
   "cell_type": "markdown",
   "metadata": {},
   "source": [
    "We saw how the model averages predictions across the trees to get an estimate - but how can we know the confidence of the estimate? One simple way is to use the standard deviation of predictions, instead of just the mean. This tells us the *relative* confidence of predictions - that is, for rows where the trees give very different results, you would want to be more cautious of using those results, compared to cases where they are more consistent. Using the same example as in the last lesson when we looked at bagging:"
   ]
  },
  {
   "cell_type": "code",
   "execution_count": 10,
   "metadata": {},
   "outputs": [
    {
     "name": "stdout",
     "output_type": "stream",
     "text": [
      "CPU times: user 2.52 s, sys: 40 ms, total: 2.56 s\n",
      "Wall time: 2.56 s\n"
     ]
    },
    {
     "data": {
      "text/plain": [
       "(9.201622344565912, 0.20570594113638543)"
      ]
     },
     "execution_count": 10,
     "metadata": {},
     "output_type": "execute_result"
    }
   ],
   "source": [
    "# go through each estimator (model) on our 'forest', calling 'predict' on it\n",
    "%time preds = np.stack([t.predict(X_valid) for t in m.estimators_])\n",
    "\n",
    "# grab the first prediction and compute the mean and std for one observation\n",
    "np.mean(preds[:,0]), np.std(preds[:,0])"
   ]
  },
  {
   "cell_type": "markdown",
   "metadata": {},
   "source": [
    "When we use python to loop through trees like this, we're calculating each in series, which is slow! We can use parallel processing to speed things up:"
   ]
  },
  {
   "cell_type": "code",
   "execution_count": 11,
   "metadata": {},
   "outputs": [
    {
     "name": "stdout",
     "output_type": "stream",
     "text": [
      "CPU times: user 104 ms, sys: 92 ms, total: 196 ms\n",
      "Wall time: 1.32 s\n",
      "(40, 12000)\n",
      "\n",
      "[[9.59539 9.62022 9.36176 ... 9.42993 9.59637 9.59637]\n",
      " [9.02761 9.15251 8.97926 ... 9.91229 9.91229 9.91229]\n",
      " [9.19689 9.123   9.31261 ... 9.40102 9.40102 9.40102]\n",
      " ...\n",
      " [9.01734 9.72842 9.85632 ... 9.10187 9.10187 9.10187]\n",
      " [8.9872  9.0221  9.52211 ... 9.75452 9.51209 9.51209]\n",
      " [9.46472 9.09559 9.4851  ... 9.17555 9.53928 9.53928]]\n",
      "\n",
      "[9.59539 9.02761 9.19689 8.97661 9.04667 9.75165 9.27319 9.24211 9.00835 9.14674 9.78273 9.52142 9.20089\n",
      " 9.03093 9.12908 9.18964 9.10275 9.61113 9.14452 9.31928 9.41504 9.05496 9.12552 8.99216 8.98524 9.19673\n",
      " 8.99347 9.17118 9.12107 9.07462 9.1401  9.27162 9.24211 9.08992 9.123   9.14425 9.15706 9.01734 8.9872\n",
      " 9.46472]\n"
     ]
    },
    {
     "data": {
      "text/plain": [
       "(9.201622344565912, 0.20570594113638543)"
      ]
     },
     "execution_count": 11,
     "metadata": {},
     "output_type": "execute_result"
    }
   ],
   "source": [
    "# Python is single threaded, running on a single core\n",
    "# 'parallel_trees' fastai func that parallizes the func that is passed\n",
    "# it takes a random forest (1st arg) and a function to call (2nd arg)\n",
    "# returns a list of the predictions\n",
    "def get_preds(t): \n",
    "    return t.predict(X_valid)\n",
    "\n",
    "%time preds = np.stack(parallel_trees(m, get_preds))\n",
    "print(preds.shape) # 40 estimators, 1 pred from each\n",
    "print()\n",
    "print(preds)\n",
    "print()\n",
    "print(preds[:, 0]) # 40 rows, 1st column\n",
    "np.mean(preds[:,0]), np.std(preds[:,0])"
   ]
  },
  {
   "cell_type": "markdown",
   "metadata": {},
   "source": [
    "We can see that different trees are giving different estimates this this auction. In order to see how prediction confidence varies, we can add this into our dataset."
   ]
  },
  {
   "cell_type": "code",
   "execution_count": 12,
   "metadata": {},
   "outputs": [
    {
     "data": {
      "image/png": "[encoded data removed]",
      "text/plain": [
       "<Figure size 432x288 with 1 Axes>"
      ]
     },
     "metadata": {
      "needs_background": "light"
     },
     "output_type": "display_data"
    }
   ],
   "source": [
    "x = raw_valid.copy()\n",
    "x['pred_std'] = np.std(preds, axis=0)\n",
    "x['pred'] = np.mean(preds, axis=0)\n",
    "x.Enclosure.value_counts().plot.barh();"
   ]
  },
  {
   "cell_type": "code",
   "execution_count": 13,
   "metadata": {},
   "outputs": [
    {
     "data": {
      "text/html": [
       "<div>\n",
       "<style scoped>\n",
       "    .dataframe tbody tr th:only-of-type {\n",
       "        vertical-align: middle;\n",
       "    }\n",
       "\n",
       "    .dataframe tbody tr th {\n",
       "        vertical-align: top;\n",
       "    }\n",
       "\n",
       "    .dataframe thead th {\n",
       "        text-align: right;\n",
       "    }\n",
       "</style>\n",
       "<table border=\"1\" class=\"dataframe\">\n",
       "  <thead>\n",
       "    <tr style=\"text-align: right;\">\n",
       "      <th></th>\n",
       "      <th>Enclosure</th>\n",
       "      <th>SalePrice</th>\n",
       "      <th>pred</th>\n",
       "      <th>pred_std</th>\n",
       "    </tr>\n",
       "  </thead>\n",
       "  <tbody>\n",
       "    <tr>\n",
       "      <th>0</th>\n",
       "      <td>EROPS</td>\n",
       "      <td>9.849178</td>\n",
       "      <td>9.836897</td>\n",
       "      <td>0.279585</td>\n",
       "    </tr>\n",
       "    <tr>\n",
       "      <th>1</th>\n",
       "      <td>EROPS AC</td>\n",
       "      <td>NaN</td>\n",
       "      <td>NaN</td>\n",
       "      <td>NaN</td>\n",
       "    </tr>\n",
       "    <tr>\n",
       "      <th>2</th>\n",
       "      <td>EROPS w AC</td>\n",
       "      <td>10.623971</td>\n",
       "      <td>10.581425</td>\n",
       "      <td>0.260987</td>\n",
       "    </tr>\n",
       "    <tr>\n",
       "      <th>3</th>\n",
       "      <td>NO ROPS</td>\n",
       "      <td>NaN</td>\n",
       "      <td>NaN</td>\n",
       "      <td>NaN</td>\n",
       "    </tr>\n",
       "    <tr>\n",
       "      <th>4</th>\n",
       "      <td>None or Unspecified</td>\n",
       "      <td>NaN</td>\n",
       "      <td>NaN</td>\n",
       "      <td>NaN</td>\n",
       "    </tr>\n",
       "    <tr>\n",
       "      <th>5</th>\n",
       "      <td>OROPS</td>\n",
       "      <td>9.682064</td>\n",
       "      <td>9.682715</td>\n",
       "      <td>0.227470</td>\n",
       "    </tr>\n",
       "  </tbody>\n",
       "</table>\n",
       "</div>"
      ],
      "text/plain": [
       "             Enclosure  SalePrice       pred  pred_std\n",
       "0                EROPS   9.849178   9.836897  0.279585\n",
       "1             EROPS AC        NaN        NaN       NaN\n",
       "2           EROPS w AC  10.623971  10.581425  0.260987\n",
       "3              NO ROPS        NaN        NaN       NaN\n",
       "4  None or Unspecified        NaN        NaN       NaN\n",
       "5                OROPS   9.682064   9.682715  0.227470"
      ]
     },
     "execution_count": 13,
     "metadata": {},
     "output_type": "execute_result"
    }
   ],
   "source": [
    "flds = ['Enclosure', 'SalePrice', 'pred', 'pred_std']\n",
    "enc_summ = x[flds].groupby('Enclosure', as_index=False).mean()\n",
    "enc_summ"
   ]
  },
  {
   "cell_type": "code",
   "execution_count": 14,
   "metadata": {},
   "outputs": [
    {
     "data": {
      "image/png": "[encoded data removed]",
      "text/plain": [
       "<Figure size 432x288 with 1 Axes>"
      ]
     },
     "metadata": {
      "needs_background": "light"
     },
     "output_type": "display_data"
    }
   ],
   "source": [
    "# plot the sale price for each level of enclosure\n",
    "enc_summ = enc_summ[~pd.isnull(enc_summ.SalePrice)]\n",
    "enc_summ.plot('Enclosure', 'SalePrice', 'barh', xlim=(0,11));"
   ]
  },
  {
   "cell_type": "code",
   "execution_count": 15,
   "metadata": {},
   "outputs": [
    {
     "data": {
      "image/png": "[encoded data removed]",
      "text/plain": [
       "<Figure size 432x288 with 1 Axes>"
      ]
     },
     "metadata": {
      "needs_background": "light"
     },
     "output_type": "display_data"
    }
   ],
   "source": [
    "# plot the prediction for each level of enclosure, error bars (confidence interval)\n",
    "enc_summ.plot('Enclosure', 'pred', 'barh', xerr='pred_std', alpha=0.6, xlim=(0,11));"
   ]
  },
  {
   "cell_type": "markdown",
   "metadata": {},
   "source": [
    "**This will tell us if there are any groups or rows that we are not confident of**."
   ]
  },
  {
   "cell_type": "markdown",
   "metadata": {},
   "source": [
    "*Question*: Why are the predictions nearly exactly right, but the error bars are quite wide?"
   ]
  },
  {
   "cell_type": "code",
   "execution_count": 16,
   "metadata": {},
   "outputs": [
    {
     "data": {
      "image/png": "[encoded data removed]",
      "text/plain": [
       "<Figure size 432x288 with 1 Axes>"
      ]
     },
     "metadata": {
      "needs_background": "light"
     },
     "output_type": "display_data"
    }
   ],
   "source": [
    "# repeating the process for product size\n",
    "raw_valid.ProductSize.value_counts().plot.barh();"
   ]
  },
  {
   "cell_type": "code",
   "execution_count": 17,
   "metadata": {},
   "outputs": [
    {
     "data": {
      "text/html": [
       "<div>\n",
       "<style scoped>\n",
       "    .dataframe tbody tr th:only-of-type {\n",
       "        vertical-align: middle;\n",
       "    }\n",
       "\n",
       "    .dataframe tbody tr th {\n",
       "        vertical-align: top;\n",
       "    }\n",
       "\n",
       "    .dataframe thead th {\n",
       "        text-align: right;\n",
       "    }\n",
       "</style>\n",
       "<table border=\"1\" class=\"dataframe\">\n",
       "  <thead>\n",
       "    <tr style=\"text-align: right;\">\n",
       "      <th></th>\n",
       "      <th>SalePrice</th>\n",
       "      <th>pred</th>\n",
       "      <th>pred_std</th>\n",
       "    </tr>\n",
       "    <tr>\n",
       "      <th>ProductSize</th>\n",
       "      <th></th>\n",
       "      <th></th>\n",
       "      <th></th>\n",
       "    </tr>\n",
       "  </thead>\n",
       "  <tbody>\n",
       "    <tr>\n",
       "      <th>Compact</th>\n",
       "      <td>9.735093</td>\n",
       "      <td>9.847701</td>\n",
       "      <td>0.346310</td>\n",
       "    </tr>\n",
       "    <tr>\n",
       "      <th>Large</th>\n",
       "      <td>10.470589</td>\n",
       "      <td>10.386108</td>\n",
       "      <td>0.355299</td>\n",
       "    </tr>\n",
       "    <tr>\n",
       "      <th>Large / Medium</th>\n",
       "      <td>10.691871</td>\n",
       "      <td>10.648355</td>\n",
       "      <td>0.292468</td>\n",
       "    </tr>\n",
       "    <tr>\n",
       "      <th>Medium</th>\n",
       "      <td>10.681511</td>\n",
       "      <td>10.623671</td>\n",
       "      <td>0.282710</td>\n",
       "    </tr>\n",
       "    <tr>\n",
       "      <th>Mini</th>\n",
       "      <td>9.535147</td>\n",
       "      <td>9.568535</td>\n",
       "      <td>0.255876</td>\n",
       "    </tr>\n",
       "    <tr>\n",
       "      <th>Small</th>\n",
       "      <td>10.324448</td>\n",
       "      <td>10.317194</td>\n",
       "      <td>0.301994</td>\n",
       "    </tr>\n",
       "  </tbody>\n",
       "</table>\n",
       "</div>"
      ],
      "text/plain": [
       "                SalePrice       pred  pred_std\n",
       "ProductSize                                   \n",
       "Compact          9.735093   9.847701  0.346310\n",
       "Large           10.470589  10.386108  0.355299\n",
       "Large / Medium  10.691871  10.648355  0.292468\n",
       "Medium          10.681511  10.623671  0.282710\n",
       "Mini             9.535147   9.568535  0.255876\n",
       "Small           10.324448  10.317194  0.301994"
      ]
     },
     "execution_count": 17,
     "metadata": {},
     "output_type": "execute_result"
    }
   ],
   "source": [
    "flds = ['ProductSize', 'SalePrice', 'pred', 'pred_std']\n",
    "summ = x[flds].groupby(flds[0]).mean()\n",
    "summ"
   ]
  },
  {
   "cell_type": "markdown",
   "metadata": {},
   "source": [
    "We can calculate the ratio of the standard deviations of the predictions to the predictions themselves (we expect on average that when you are predicting something that is a bigger number, that your std would be bigger) - the ratios should be approx. the same."
   ]
  },
  {
   "cell_type": "code",
   "execution_count": 18,
   "metadata": {
    "scrolled": true
   },
   "outputs": [
    {
     "data": {
      "text/plain": [
       "ProductSize\n",
       "Compact           0.035167\n",
       "Large             0.034209\n",
       "Small             0.029271\n",
       "Large / Medium    0.027466\n",
       "Mini              0.026741\n",
       "Medium            0.026611\n",
       "dtype: float64"
      ]
     },
     "execution_count": 18,
     "metadata": {},
     "output_type": "execute_result"
    }
   ],
   "source": [
    "(summ.pred_std/summ.pred).sort_values(ascending=False)"
   ]
  },
  {
   "cell_type": "markdown",
   "metadata": {},
   "source": [
    "We can see that our predictions for `Large` and `Compact` are less accurate. We can see from the histogram that they are the smallest groups - with smaller groups the estimators are doing a poorer job of predicitions since they have fewer examples to train on."
   ]
  },
  {
   "cell_type": "markdown",
   "metadata": {},
   "source": [
    "# Feature importance"
   ]
  },
  {
   "cell_type": "markdown",
   "metadata": {},
   "source": [
    "It's not normally enough to just to know that a model can make accurate predictions - we also want to know *how* it's making predictions. The most important way to see this is with *feature importance*.\n",
    "\n",
    "You want to build a random forest as quickly as possible, even if it is only just better than average (baseline model) - to determine which are the columns which matter.\n",
    "\n",
    "The `fastai` library has the `rf_feat_importance` function which takes a random forest model (train 1st) and dataframe and returns a dataframe with the columns in order of importance."
   ]
  },
  {
   "cell_type": "code",
   "execution_count": 19,
   "metadata": {},
   "outputs": [
    {
     "name": "stdout",
     "output_type": "stream",
     "text": [
      "(66, 2)\n"
     ]
    },
    {
     "data": {
      "text/html": [
       "<div>\n",
       "<style scoped>\n",
       "    .dataframe tbody tr th:only-of-type {\n",
       "        vertical-align: middle;\n",
       "    }\n",
       "\n",
       "    .dataframe tbody tr th {\n",
       "        vertical-align: top;\n",
       "    }\n",
       "\n",
       "    .dataframe thead th {\n",
       "        text-align: right;\n",
       "    }\n",
       "</style>\n",
       "<table border=\"1\" class=\"dataframe\">\n",
       "  <thead>\n",
       "    <tr style=\"text-align: right;\">\n",
       "      <th></th>\n",
       "      <th>cols</th>\n",
       "      <th>imp</th>\n",
       "    </tr>\n",
       "  </thead>\n",
       "  <tbody>\n",
       "    <tr>\n",
       "      <th>5</th>\n",
       "      <td>YearMade</td>\n",
       "      <td>0.170713</td>\n",
       "    </tr>\n",
       "    <tr>\n",
       "      <th>37</th>\n",
       "      <td>Coupler_System</td>\n",
       "      <td>0.095599</td>\n",
       "    </tr>\n",
       "    <tr>\n",
       "      <th>13</th>\n",
       "      <td>ProductSize</td>\n",
       "      <td>0.085942</td>\n",
       "    </tr>\n",
       "    <tr>\n",
       "      <th>14</th>\n",
       "      <td>fiProductClassDesc</td>\n",
       "      <td>0.078776</td>\n",
       "    </tr>\n",
       "    <tr>\n",
       "      <th>39</th>\n",
       "      <td>Hydraulics_Flow</td>\n",
       "      <td>0.059714</td>\n",
       "    </tr>\n",
       "    <tr>\n",
       "      <th>2</th>\n",
       "      <td>ModelID</td>\n",
       "      <td>0.059416</td>\n",
       "    </tr>\n",
       "    <tr>\n",
       "      <th>19</th>\n",
       "      <td>Enclosure</td>\n",
       "      <td>0.051660</td>\n",
       "    </tr>\n",
       "    <tr>\n",
       "      <th>63</th>\n",
       "      <td>saleElapsed</td>\n",
       "      <td>0.050440</td>\n",
       "    </tr>\n",
       "    <tr>\n",
       "      <th>38</th>\n",
       "      <td>Grouser_Tracks</td>\n",
       "      <td>0.044102</td>\n",
       "    </tr>\n",
       "    <tr>\n",
       "      <th>10</th>\n",
       "      <td>fiSecondaryDesc</td>\n",
       "      <td>0.042530</td>\n",
       "    </tr>\n",
       "  </tbody>\n",
       "</table>\n",
       "</div>"
      ],
      "text/plain": [
       "                  cols       imp\n",
       "5             YearMade  0.170713\n",
       "37      Coupler_System  0.095599\n",
       "13         ProductSize  0.085942\n",
       "14  fiProductClassDesc  0.078776\n",
       "39     Hydraulics_Flow  0.059714\n",
       "2              ModelID  0.059416\n",
       "19           Enclosure  0.051660\n",
       "63         saleElapsed  0.050440\n",
       "38      Grouser_Tracks  0.044102\n",
       "10     fiSecondaryDesc  0.042530"
      ]
     },
     "execution_count": 19,
     "metadata": {},
     "output_type": "execute_result"
    }
   ],
   "source": [
    "# returns a list of the columns in order of importance\n",
    "fi = rf_feat_importance(m, df_trn);\n",
    "print(fi.shape)\n",
    "fi[:10] "
   ]
  },
  {
   "cell_type": "code",
   "execution_count": 20,
   "metadata": {},
   "outputs": [
    {
     "data": {
      "image/png": "[encoded data removed]",
      "text/plain": [
       "<Figure size 720x432 with 1 Axes>"
      ]
     },
     "metadata": {
      "needs_background": "light"
     },
     "output_type": "display_data"
    }
   ],
   "source": [
    "# plot of feature importance vs columns\n",
    "fi.plot('cols', 'imp', figsize=(10,6), legend=False);"
   ]
  },
  {
   "cell_type": "markdown",
   "metadata": {},
   "source": [
    "We can see that some columns are really important, e.g. `YearMade`, while many are of little to no importance. Means you can focus on the columns which matter."
   ]
  },
  {
   "cell_type": "code",
   "execution_count": 21,
   "metadata": {},
   "outputs": [],
   "source": [
    "def plot_fi(fi): \n",
    "    return fi.plot('cols', 'imp', 'barh', figsize=(12,7), legend=False)"
   ]
  },
  {
   "cell_type": "code",
   "execution_count": 22,
   "metadata": {},
   "outputs": [
    {
     "data": {
      "image/png": "[encoded data removed]",
      "text/plain": [
       "<Figure size 864x504 with 1 Axes>"
      ]
     },
     "metadata": {
      "needs_background": "light"
     },
     "output_type": "display_data"
    }
   ],
   "source": [
    "plot_fi(fi[:30]); # plot the top 30 cols"
   ]
  },
  {
   "cell_type": "code",
   "execution_count": 23,
   "metadata": {},
   "outputs": [],
   "source": [
    "def plot_fi(fi): \n",
    "    return fi.plot('cols', 'imp', 'barh', figsize=(12,20), legend=False)"
   ]
  },
  {
   "cell_type": "code",
   "execution_count": 24,
   "metadata": {},
   "outputs": [
    {
     "data": {
      "text/plain": [
       "<matplotlib.axes._subplots.AxesSubplot at 0x7fcc4f195668>"
      ]
     },
     "execution_count": 24,
     "metadata": {},
     "output_type": "execute_result"
    },
    {
     "data": {
      "image/png": "[encoded data removed]",
      "text/plain": [
       "<Figure size 864x1440 with 1 Axes>"
      ]
     },
     "metadata": {
      "needs_background": "light"
     },
     "output_type": "display_data"
    }
   ],
   "source": [
    "# plotting all columns\n",
    "plot_fi(fi)"
   ]
  },
  {
   "cell_type": "code",
   "execution_count": 25,
   "metadata": {},
   "outputs": [
    {
     "name": "stdout",
     "output_type": "stream",
     "text": [
      "num cols remaining: 25\n",
      "5               YearMade\n",
      "37        Coupler_System\n",
      "13           ProductSize\n",
      "14    fiProductClassDesc\n",
      "39       Hydraulics_Flow\n",
      "2                ModelID\n",
      "19             Enclosure\n",
      "63           saleElapsed\n",
      "38        Grouser_Tracks\n",
      "10       fiSecondaryDesc\n",
      "8            fiModelDesc\n",
      "0                SalesID\n",
      "9            fiBaseModel\n",
      "51              saleYear\n",
      "1              MachineID\n",
      "12     fiModelDescriptor\n",
      "17      ProductGroupDesc\n",
      "30            Hydraulics\n",
      "18          Drive_System\n",
      "15                 state\n",
      "54               saleDay\n",
      "56         saleDayofyear\n",
      "40            Track_Type\n",
      "16          ProductGroup\n",
      "35             Tire_Size\n",
      "Name: cols, dtype: object\n"
     ]
    }
   ],
   "source": [
    "# filter out any columns where imp <= 0.005 (where the results flatten off)\n",
    "to_keep = fi[fi.imp > 0.005].cols;\n",
    "print('num cols remaining:', len(to_keep))\n",
    "print(to_keep)"
   ]
  },
  {
   "cell_type": "markdown",
   "metadata": {},
   "source": [
    "Create a dataframe with just those columns, and split into training and validation sets."
   ]
  },
  {
   "cell_type": "code",
   "execution_count": 26,
   "metadata": {},
   "outputs": [],
   "source": [
    "df_keep = df_trn[to_keep].copy()\n",
    "X_train, X_valid = split_vals(df_keep, n_trn) # split into train and val sets"
   ]
  },
  {
   "cell_type": "markdown",
   "metadata": {},
   "source": [
    "We'll train a new model with the 'important columns."
   ]
  },
  {
   "cell_type": "code",
   "execution_count": 27,
   "metadata": {
    "scrolled": true
   },
   "outputs": [
    {
     "name": "stdout",
     "output_type": "stream",
     "text": [
      "[0.206904895525504, 0.2453207009354764, 0.9105302221247833, 0.8925227940309107, 0.8942705570591046]\n"
     ]
    }
   ],
   "source": [
    "m = RandomForestRegressor(\n",
    "    n_estimators=40, \n",
    "    min_samples_leaf=3, \n",
    "    max_features=0.5,\n",
    "    n_jobs=-1, \n",
    "    oob_score=True\n",
    ")\n",
    "m.fit(X_train, y_train)\n",
    "print_score(m)"
   ]
  },
  {
   "cell_type": "markdown",
   "metadata": {},
   "source": [
    "Very slight improvement in R^2 (0.892 vs 0.889).\n",
    "\n",
    "When removing redundant cols, you also remove sources of co-linearity, i.e' two cols that might be related to each other. Results in making your feature plot clearer - gives you a better picture of which columns are important."
   ]
  },
  {
   "cell_type": "code",
   "execution_count": 28,
   "metadata": {},
   "outputs": [],
   "source": [
    "def plot_fi(fi): \n",
    "    return fi.plot('cols', 'imp', 'barh', figsize=(12,7), legend=False)"
   ]
  },
  {
   "cell_type": "code",
   "execution_count": 29,
   "metadata": {},
   "outputs": [
    {
     "data": {
      "image/png": "[encoded data removed]",
      "text/plain": [
       "<Figure size 864x504 with 1 Axes>"
      ]
     },
     "metadata": {
      "needs_background": "light"
     },
     "output_type": "display_data"
    }
   ],
   "source": [
    "fi = rf_feat_importance(m, df_keep)\n",
    "plot_fi(fi);"
   ]
  },
  {
   "cell_type": "markdown",
   "metadata": {},
   "source": [
    "Using `rf_feature_importance` is a technique that you can use for almost any model.\n",
    "\n",
    "It determines the impact of each column (feature) on the accuracy of predictions (R^2 and RMSE) by taking each column in turn and:\n",
    "\n",
    "* shuffle that particular column, carry out the predictions, calculate R^2/RMSE and determine the difference with the original scores.\n",
    "* repeat the process for each column, returning a dataframe with the features in the order of importance."
   ]
  },
  {
   "cell_type": "markdown",
   "metadata": {},
   "source": [
    "With this knowledge you now want to:\n",
    "\n",
    "* find out what you can about each variable, plot it's histogram, create a scatterplot of it vs the target variable.\n",
    "* do any appear to have a lot of 'noise'\n",
    "* are any of the variables high cardinality categorical which could be split into multiple columns."
   ]
  },
  {
   "cell_type": "markdown",
   "metadata": {},
   "source": [
    "### Overfitting and Hyperparamter Tuning in Random Forests.\n",
    "\n",
    "The most important hyperparamters (the are others, check the docs) are:\n",
    "\n",
    "`set_rf_samples` (20-50k) - sets the size of the subset of ssamples used to train the estimators. Thus a subset size of 20k results in a tree of depth `log2(20k)` and 20k leaf nodes (there is a linear relationship between sample size and number of leaf nodes). By reducing `set_rf_samples` we reduce the trees predictive ability, but by reducing the trees depth (and consequently the models complexity) we reduce overfitting. Overcome trees reduced predictive ability by using **bagging** - create lots of trees, which are not correlated so any errors are canceled out.\n",
    "\n",
    "`min_samples_leaf` (1, 3, 5, 10, 30, 100) - sets the depth of the tree. `min_samples_leaf=1` creates a tree of max depth, leaf nodes with one sample. A value of `2` stops when when the leaf node has 2 samples (unless all the samples are the same in that node for the dependent variable, in which case there is no point in spliting further as no further information will be added). Every doubling of the `min_samples_leaf` removes one layer from the tree and halves the number of leaf nodes. Increasing `min_sample_leaf` will result in a reduction in the predictive accuracy of our model and correlation across our estimators, but reduce overfitting.\n",
    "\n",
    "`max_features` (None, 0.5, sqrt, log2) - by default, all features are used at each split. In situations when using a small number of estimators, e.g. 10, and one feature which is 'highly predicitive', can result in trees where every split is on the same feature, resulting in trees which are very similar. Setting `max_features=0.5` means that each split (decision point) is made on a different half of the features. The overall effect is more varied trees, but less accurate."
   ]
  },
  {
   "cell_type": "markdown",
   "metadata": {},
   "source": [
    "## One-hot encoding"
   ]
  },
  {
   "cell_type": "markdown",
   "metadata": {},
   "source": [
    "`proc_df`'s optional *max_n_cat* argument will turn some categorical variables into new columns.\n",
    "\n",
    "Note: to implement **one-hot-encoding** with `proc_df`, set the `max_n_cat` attribute. The valueis the number of cols to create. Any categorical variable with a greater number of unique values will NOT be converted, but be left as a number.\n",
    "\n",
    "For example, the column **ProductSize** which has 6 categories:\n",
    "\n",
    "* Large\n",
    "* Large / Medium\n",
    "* Medium\n",
    "* Compact\n",
    "* Small\n",
    "* Mini\n",
    "\n",
    "gets turned into 6 new columns:\n",
    "\n",
    "* ProductSize_Large\n",
    "* ProductSize_Large / Medium\n",
    "* ProductSize_Medium\n",
    "* ProductSize_Compact\n",
    "* ProductSize_Small\n",
    "* ProductSize_Mini\n",
    "\n",
    "and the column **ProductSize** gets removed.\n",
    "\n",
    "It will only happen to columns whose number of categories is no bigger than the value of the *max_n_cat* argument.\n",
    "\n",
    "Now some of these new columns may prove to have more important features than in the earlier situation, where all categories were in one column."
   ]
  },
  {
   "cell_type": "code",
   "execution_count": 30,
   "metadata": {},
   "outputs": [
    {
     "name": "stdout",
     "output_type": "stream",
     "text": [
      "[0.20713996040011204, 0.25246944966435914, 0.9103268132218697, 0.8861676659808335, 0.8926231357906164]\n"
     ]
    }
   ],
   "source": [
    "df_trn2, y_trn, nas = proc_df(df_raw, 'SalePrice', max_n_cat=7)\n",
    "X_train, X_valid = split_vals(df_trn2, n_trn)\n",
    "\n",
    "m = RandomForestRegressor(n_estimators=40, min_samples_leaf=3, max_features=0.6, n_jobs=-1, oob_score=True)\n",
    "m.fit(X_train, y_train)\n",
    "print_score(m)"
   ]
  },
  {
   "cell_type": "markdown",
   "metadata": {},
   "source": [
    "There is a slight improvement in `RMSE`, `R^2` and `oob` scores when compared to before, [0.206904895525504, 0.2453207009354764, 0.9105302221247833, 0.8925227940309107, 0.8942705570591046].\n",
    "\n",
    "In addition different fetaures have become important."
   ]
  },
  {
   "cell_type": "code",
   "execution_count": 31,
   "metadata": {},
   "outputs": [
    {
     "data": {
      "image/png": "[encoded data removed]",
      "text/plain": [
       "<Figure size 864x504 with 1 Axes>"
      ]
     },
     "metadata": {
      "needs_background": "light"
     },
     "output_type": "display_data"
    }
   ],
   "source": [
    "fi = rf_feat_importance(m, df_trn2)\n",
    "plot_fi(fi[:25]);"
   ]
  },
  {
   "cell_type": "markdown",
   "metadata": {},
   "source": [
    "# Removing redundant features"
   ]
  },
  {
   "cell_type": "markdown",
   "metadata": {},
   "source": [
    "One thing that makes this harder to interpret is that there seem to be some variables with very similar meanings. Let's try to remove redundent features using a **dendrogram** - a form of **cluster analysis**.\n",
    "\n",
    "With cluster analysis you look at objects, either rows or columns, and find which are similar to each other - measuring the same thing and remove them."
   ]
  },
  {
   "cell_type": "code",
   "execution_count": 33,
   "metadata": {},
   "outputs": [],
   "source": [
    "from scipy.cluster import hierarchy as hc"
   ]
  },
  {
   "cell_type": "markdown",
   "metadata": {},
   "source": [
    "Create **dendogram**, distance measure is based on **Rank Correlation**."
   ]
  },
  {
   "cell_type": "code",
   "execution_count": 34,
   "metadata": {},
   "outputs": [
    {
     "data": {
      "image/png": "[encoded data removed]",
      "text/plain": [
       "<Figure size 1152x720 with 1 Axes>"
      ]
     },
     "metadata": {
      "needs_background": "light"
     },
     "output_type": "display_data"
    }
   ],
   "source": [
    "corr = np.round(scipy.stats.spearmanr(df_keep).correlation, 4)\n",
    "corr_condensed = hc.distance.squareform(1-corr)\n",
    "z = hc.linkage(corr_condensed, method='average')\n",
    "fig = plt.figure(figsize=(16,10))\n",
    "dendrogram = hc.dendrogram(z, labels=df_keep.columns, orientation='left', leaf_font_size=16)\n",
    "plt.show()"
   ]
  },
  {
   "cell_type": "markdown",
   "metadata": {},
   "source": [
    "We can see that `saleYear` and `saleElapsed` are measuring the same thing, as are `ProductGroup` and `ProductGroupDesc`.\n",
    "\n",
    "Let's try removing some of these related features to see if the model can be simplified without impacting the accuracy."
   ]
  },
  {
   "cell_type": "code",
   "execution_count": 35,
   "metadata": {},
   "outputs": [],
   "source": [
    "def get_oob(df):\n",
    "    m = RandomForestRegressor(\n",
    "        n_estimators=30, \n",
    "        min_samples_leaf=5, \n",
    "        max_features=0.6, \n",
    "        n_jobs=-1, \n",
    "        oob_score=True\n",
    "    )\n",
    "    x, _ = split_vals(df, n_trn)\n",
    "    m.fit(x, y_train)\n",
    "    return m.oob_score_"
   ]
  },
  {
   "cell_type": "markdown",
   "metadata": {},
   "source": [
    "Here's our baseline."
   ]
  },
  {
   "cell_type": "code",
   "execution_count": 37,
   "metadata": {},
   "outputs": [
    {
     "data": {
      "text/plain": [
       "0.890030754497739"
      ]
     },
     "execution_count": 37,
     "metadata": {},
     "output_type": "execute_result"
    }
   ],
   "source": [
    "get_oob(df_keep)"
   ]
  },
  {
   "cell_type": "markdown",
   "metadata": {},
   "source": [
    "Now we try removing each variable one at a time - repeat the model training and scoring, removing one of the columns on each iteration and recording the `oob_score`."
   ]
  },
  {
   "cell_type": "code",
   "execution_count": 38,
   "metadata": {},
   "outputs": [
    {
     "name": "stdout",
     "output_type": "stream",
     "text": [
      "saleYear 0.8893117220536251\n",
      "saleElapsed 0.8869423229716659\n",
      "fiModelDesc 0.8888961809611584\n",
      "fiBaseModel 0.8889007713808725\n",
      "Grouser_Tracks 0.8902466567255374\n",
      "Hydraulics_Flow 0.8903733978560141\n",
      "Coupler_System 0.8899211583961898\n",
      "ProductGroup 0.8900719325514128\n",
      "ProductGroupDesc 0.8902492905462155\n"
     ]
    }
   ],
   "source": [
    "for c in (\n",
    "    'saleYear', \n",
    "    'saleElapsed', \n",
    "    'fiModelDesc', \n",
    "    'fiBaseModel', \n",
    "    'Grouser_Tracks', \n",
    "    'Hydraulics_Flow', \n",
    "    'Coupler_System',\n",
    "    'ProductGroup',\n",
    "    'ProductGroupDesc'\n",
    "):\n",
    "    print(c, get_oob(df_keep.drop(c, axis=1)))"
   ]
  },
  {
   "cell_type": "markdown",
   "metadata": {},
   "source": [
    "The `oob_score` are approx. the same for each member of group - we can try and remove one from each group. Re-train and score the model having dropped the columns and checkthe `oob_score`."
   ]
  },
  {
   "cell_type": "code",
   "execution_count": 40,
   "metadata": {},
   "outputs": [
    {
     "data": {
      "text/plain": [
       "0.8895860095697606"
      ]
     },
     "execution_count": 40,
     "metadata": {},
     "output_type": "execute_result"
    }
   ],
   "source": [
    "to_drop = ['saleYear', 'fiBaseModel', 'Grouser_Tracks', 'Hydraulics_Flow', 'ProductGroupDesc']\n",
    "get_oob(df_keep.drop(to_drop, axis=1))"
   ]
  },
  {
   "cell_type": "markdown",
   "metadata": {},
   "source": [
    "Looking good! Let's use this dataframe from here. We'll save the list of columns so we can reuse it later."
   ]
  },
  {
   "cell_type": "code",
   "execution_count": 41,
   "metadata": {},
   "outputs": [],
   "source": [
    "df_keep.drop(to_drop, axis=1, inplace=True)\n",
    "X_train, X_valid = split_vals(df_keep, n_trn)"
   ]
  },
  {
   "cell_type": "code",
   "execution_count": 42,
   "metadata": {},
   "outputs": [],
   "source": [
    "np.save('tmp/keep_cols.npy', np.array(df_keep.columns))"
   ]
  },
  {
   "cell_type": "code",
   "execution_count": 43,
   "metadata": {},
   "outputs": [],
   "source": [
    "keep_cols = np.load('tmp/keep_cols.npy')\n",
    "df_keep = df_trn[keep_cols]"
   ]
  },
  {
   "cell_type": "code",
   "execution_count": 44,
   "metadata": {},
   "outputs": [
    {
     "data": {
      "text/plain": [
       "Index(['YearMade', 'Coupler_System', 'ProductSize', 'fiProductClassDesc',\n",
       "       'ModelID', 'Enclosure', 'saleElapsed', 'fiSecondaryDesc', 'fiModelDesc',\n",
       "       'SalesID', 'MachineID', 'fiModelDescriptor', 'Hydraulics',\n",
       "       'Drive_System', 'state', 'saleDay', 'saleDayofyear', 'Track_Type',\n",
       "       'ProductGroup', 'Tire_Size'],\n",
       "      dtype='object')"
      ]
     },
     "execution_count": 44,
     "metadata": {},
     "output_type": "execute_result"
    }
   ],
   "source": [
    "df_keep.columns"
   ]
  },
  {
   "cell_type": "code",
   "execution_count": 46,
   "metadata": {},
   "outputs": [
    {
     "name": "stdout",
     "output_type": "stream",
     "text": [
      "<class 'pandas.core.frame.DataFrame'>\n",
      "RangeIndex: 401125 entries, 0 to 401124\n",
      "Data columns (total 20 columns):\n",
      "YearMade              401125 non-null int64\n",
      "Coupler_System        401125 non-null int8\n",
      "ProductSize           401125 non-null int8\n",
      "fiProductClassDesc    401125 non-null int8\n",
      "ModelID               401125 non-null int64\n",
      "Enclosure             401125 non-null int8\n",
      "saleElapsed           401125 non-null int64\n",
      "fiSecondaryDesc       401125 non-null int16\n",
      "fiModelDesc           401125 non-null int16\n",
      "SalesID               401125 non-null int64\n",
      "MachineID             401125 non-null int64\n",
      "fiModelDescriptor     401125 non-null int16\n",
      "Hydraulics            401125 non-null int8\n",
      "Drive_System          401125 non-null int8\n",
      "state                 401125 non-null int8\n",
      "saleDay               401125 non-null int64\n",
      "saleDayofyear         401125 non-null int64\n",
      "Track_Type            401125 non-null int8\n",
      "ProductGroup          401125 non-null int8\n",
      "Tire_Size             401125 non-null int8\n",
      "dtypes: int16(3), int64(7), int8(10)\n",
      "memory usage: 27.5 MB\n"
     ]
    }
   ],
   "source": [
    "df_keep.info()"
   ]
  },
  {
   "cell_type": "code",
   "execution_count": 45,
   "metadata": {},
   "outputs": [
    {
     "data": {
      "text/html": [
       "<div>\n",
       "<style scoped>\n",
       "    .dataframe tbody tr th:only-of-type {\n",
       "        vertical-align: middle;\n",
       "    }\n",
       "\n",
       "    .dataframe tbody tr th {\n",
       "        vertical-align: top;\n",
       "    }\n",
       "\n",
       "    .dataframe thead th {\n",
       "        text-align: right;\n",
       "    }\n",
       "</style>\n",
       "<table border=\"1\" class=\"dataframe\">\n",
       "  <thead>\n",
       "    <tr style=\"text-align: right;\">\n",
       "      <th></th>\n",
       "      <th>YearMade</th>\n",
       "      <th>Coupler_System</th>\n",
       "      <th>ProductSize</th>\n",
       "      <th>fiProductClassDesc</th>\n",
       "      <th>ModelID</th>\n",
       "      <th>Enclosure</th>\n",
       "      <th>saleElapsed</th>\n",
       "      <th>fiSecondaryDesc</th>\n",
       "      <th>fiModelDesc</th>\n",
       "      <th>SalesID</th>\n",
       "      <th>MachineID</th>\n",
       "      <th>fiModelDescriptor</th>\n",
       "      <th>Hydraulics</th>\n",
       "      <th>Drive_System</th>\n",
       "      <th>state</th>\n",
       "      <th>saleDay</th>\n",
       "      <th>saleDayofyear</th>\n",
       "      <th>Track_Type</th>\n",
       "      <th>ProductGroup</th>\n",
       "      <th>Tire_Size</th>\n",
       "    </tr>\n",
       "  </thead>\n",
       "  <tbody>\n",
       "    <tr>\n",
       "      <th>0</th>\n",
       "      <td>2004</td>\n",
       "      <td>0</td>\n",
       "      <td>0</td>\n",
       "      <td>59</td>\n",
       "      <td>3157</td>\n",
       "      <td>3</td>\n",
       "      <td>1163635200</td>\n",
       "      <td>41</td>\n",
       "      <td>950</td>\n",
       "      <td>1139246</td>\n",
       "      <td>999089</td>\n",
       "      <td>0</td>\n",
       "      <td>1</td>\n",
       "      <td>0</td>\n",
       "      <td>1</td>\n",
       "      <td>16</td>\n",
       "      <td>320</td>\n",
       "      <td>0</td>\n",
       "      <td>6</td>\n",
       "      <td>17</td>\n",
       "    </tr>\n",
       "    <tr>\n",
       "      <th>1</th>\n",
       "      <td>1996</td>\n",
       "      <td>0</td>\n",
       "      <td>4</td>\n",
       "      <td>62</td>\n",
       "      <td>77</td>\n",
       "      <td>3</td>\n",
       "      <td>1080259200</td>\n",
       "      <td>55</td>\n",
       "      <td>1725</td>\n",
       "      <td>1139248</td>\n",
       "      <td>117657</td>\n",
       "      <td>0</td>\n",
       "      <td>1</td>\n",
       "      <td>0</td>\n",
       "      <td>33</td>\n",
       "      <td>26</td>\n",
       "      <td>86</td>\n",
       "      <td>0</td>\n",
       "      <td>6</td>\n",
       "      <td>12</td>\n",
       "    </tr>\n",
       "    <tr>\n",
       "      <th>2</th>\n",
       "      <td>2001</td>\n",
       "      <td>1</td>\n",
       "      <td>0</td>\n",
       "      <td>39</td>\n",
       "      <td>7009</td>\n",
       "      <td>6</td>\n",
       "      <td>1077753600</td>\n",
       "      <td>0</td>\n",
       "      <td>331</td>\n",
       "      <td>1139249</td>\n",
       "      <td>434808</td>\n",
       "      <td>0</td>\n",
       "      <td>4</td>\n",
       "      <td>0</td>\n",
       "      <td>32</td>\n",
       "      <td>26</td>\n",
       "      <td>57</td>\n",
       "      <td>0</td>\n",
       "      <td>3</td>\n",
       "      <td>0</td>\n",
       "    </tr>\n",
       "    <tr>\n",
       "      <th>3</th>\n",
       "      <td>2001</td>\n",
       "      <td>0</td>\n",
       "      <td>6</td>\n",
       "      <td>8</td>\n",
       "      <td>332</td>\n",
       "      <td>3</td>\n",
       "      <td>1305763200</td>\n",
       "      <td>0</td>\n",
       "      <td>3674</td>\n",
       "      <td>1139251</td>\n",
       "      <td>1026470</td>\n",
       "      <td>0</td>\n",
       "      <td>1</td>\n",
       "      <td>0</td>\n",
       "      <td>44</td>\n",
       "      <td>19</td>\n",
       "      <td>139</td>\n",
       "      <td>0</td>\n",
       "      <td>4</td>\n",
       "      <td>0</td>\n",
       "    </tr>\n",
       "    <tr>\n",
       "      <th>4</th>\n",
       "      <td>2007</td>\n",
       "      <td>1</td>\n",
       "      <td>0</td>\n",
       "      <td>40</td>\n",
       "      <td>17311</td>\n",
       "      <td>1</td>\n",
       "      <td>1248307200</td>\n",
       "      <td>0</td>\n",
       "      <td>4208</td>\n",
       "      <td>1139253</td>\n",
       "      <td>1057373</td>\n",
       "      <td>0</td>\n",
       "      <td>4</td>\n",
       "      <td>0</td>\n",
       "      <td>32</td>\n",
       "      <td>23</td>\n",
       "      <td>204</td>\n",
       "      <td>0</td>\n",
       "      <td>3</td>\n",
       "      <td>0</td>\n",
       "    </tr>\n",
       "  </tbody>\n",
       "</table>\n",
       "</div>"
      ],
      "text/plain": [
       "   YearMade  Coupler_System  ProductSize  fiProductClassDesc  ModelID  \\\n",
       "0      2004               0            0                  59     3157   \n",
       "1      1996               0            4                  62       77   \n",
       "2      2001               1            0                  39     7009   \n",
       "3      2001               0            6                   8      332   \n",
       "4      2007               1            0                  40    17311   \n",
       "\n",
       "   Enclosure  saleElapsed  fiSecondaryDesc  fiModelDesc  SalesID  MachineID  \\\n",
       "0          3   1163635200               41          950  1139246     999089   \n",
       "1          3   1080259200               55         1725  1139248     117657   \n",
       "2          6   1077753600                0          331  1139249     434808   \n",
       "3          3   1305763200                0         3674  1139251    1026470   \n",
       "4          1   1248307200                0         4208  1139253    1057373   \n",
       "\n",
       "   fiModelDescriptor  Hydraulics  Drive_System  state  saleDay  saleDayofyear  \\\n",
       "0                  0           1             0      1       16            320   \n",
       "1                  0           1             0     33       26             86   \n",
       "2                  0           4             0     32       26             57   \n",
       "3                  0           1             0     44       19            139   \n",
       "4                  0           4             0     32       23            204   \n",
       "\n",
       "   Track_Type  ProductGroup  Tire_Size  \n",
       "0           0             6         17  \n",
       "1           0             6         12  \n",
       "2           0             3          0  \n",
       "3           0             4          0  \n",
       "4           0             3          0  "
      ]
     },
     "execution_count": 45,
     "metadata": {},
     "output_type": "execute_result"
    }
   ],
   "source": [
    "df_keep.head()"
   ]
  },
  {
   "cell_type": "markdown",
   "metadata": {},
   "source": [
    "And let's see how this model looks on the full dataset."
   ]
  },
  {
   "cell_type": "code",
   "execution_count": 47,
   "metadata": {},
   "outputs": [],
   "source": [
    "reset_rf_samples()"
   ]
  },
  {
   "cell_type": "code",
   "execution_count": 48,
   "metadata": {},
   "outputs": [
    {
     "name": "stdout",
     "output_type": "stream",
     "text": [
      "[0.1250722836757535, 0.2280900776227126, 0.9673068335674837, 0.9070903637031241, 0.9086021895355618]\n"
     ]
    }
   ],
   "source": [
    "m = RandomForestRegressor(\n",
    "    n_estimators=40, \n",
    "    min_samples_leaf=3, \n",
    "    max_features=0.5, \n",
    "    n_jobs=-1, \n",
    "    oob_score=True\n",
    ")\n",
    "m.fit(X_train, y_train)\n",
    "print_score(m)"
   ]
  },
  {
   "cell_type": "markdown",
   "metadata": {},
   "source": [
    "Original scores:\n",
    "\n",
    "[0.206728428343962, 0.2497536196498307, 0.9106827728565976, 0.8886034973301882, 0.8935122171810368]\n",
    "\n",
    "We've removed columns which had no value and those that we're related to other columns and added no extra value (duplicate features) - resulted in a simpler model, which also producing better scores (RMSE down, R^2 up and oob_score down)."
   ]
  },
  {
   "cell_type": "markdown",
   "metadata": {},
   "source": [
    "# Partial dependence"
   ]
  },
  {
   "cell_type": "markdown",
   "metadata": {},
   "source": [
    "For the features tha are important, how do they relate to the dependent variable."
   ]
  },
  {
   "cell_type": "code",
   "execution_count": null,
   "metadata": {},
   "outputs": [],
   "source": [
    "from pdpbox import pdp\n",
    "from plotnine import *"
   ]
  },
  {
   "cell_type": "code",
   "execution_count": null,
   "metadata": {},
   "outputs": [],
   "source": [
    "set_rf_samples(50000)"
   ]
  },
  {
   "cell_type": "markdown",
   "metadata": {},
   "source": [
    "This next analysis will be a little easier if we use the 1-hot encoded categorical variables, so let's load them up again."
   ]
  },
  {
   "cell_type": "code",
   "execution_count": null,
   "metadata": {},
   "outputs": [],
   "source": [
    "df_trn2, y_trn, nas = proc_df(df_raw, 'SalePrice', max_n_cat=7)\n",
    "X_train, X_valid = split_vals(df_trn2, n_trn)\n",
    "m = RandomForestRegressor(n_estimators=40, min_samples_leaf=3, max_features=0.6, n_jobs=-1)\n",
    "m.fit(X_train, y_train);"
   ]
  },
  {
   "cell_type": "code",
   "execution_count": null,
   "metadata": {},
   "outputs": [],
   "source": [
    "plot_fi(rf_feat_importance(m, df_trn2)[:10]);"
   ]
  },
  {
   "cell_type": "code",
   "execution_count": null,
   "metadata": {},
   "outputs": [],
   "source": [
    "df_raw.plot('YearMade', 'saleElapsed', 'scatter', alpha=0.01, figsize=(10,8));"
   ]
  },
  {
   "cell_type": "code",
   "execution_count": null,
   "metadata": {},
   "outputs": [],
   "source": [
    "x_all = get_sample(df_raw[df_raw.YearMade>1930], 500)"
   ]
  },
  {
   "cell_type": "code",
   "execution_count": null,
   "metadata": {},
   "outputs": [],
   "source": [
    "ggplot(x_all, aes('YearMade', 'SalePrice'))+stat_smooth(se=True, method='loess')"
   ]
  },
  {
   "cell_type": "code",
   "execution_count": null,
   "metadata": {},
   "outputs": [],
   "source": [
    "x = get_sample(X_train[X_train.YearMade>1930], 500)"
   ]
  },
  {
   "cell_type": "code",
   "execution_count": null,
   "metadata": {},
   "outputs": [],
   "source": [
    "def plot_pdp(feat, clusters=None, feat_name=None):\n",
    "    feat_name = feat_name or feat\n",
    "    p = pdp.pdp_isolate(m, x, feat)\n",
    "    return pdp.pdp_plot(p, feat_name, plot_lines=True,\n",
    "                        cluster=clusters is not None,\n",
    "                        n_cluster_centers=clusters)"
   ]
  },
  {
   "cell_type": "code",
   "execution_count": null,
   "metadata": {},
   "outputs": [],
   "source": [
    "plot_pdp('YearMade')"
   ]
  },
  {
   "cell_type": "code",
   "execution_count": null,
   "metadata": {},
   "outputs": [],
   "source": [
    "plot_pdp('YearMade', clusters=5)"
   ]
  },
  {
   "cell_type": "code",
   "execution_count": null,
   "metadata": {},
   "outputs": [],
   "source": [
    "feats = ['saleElapsed', 'YearMade']\n",
    "p = pdp.pdp_interact(m, x, feats)\n",
    "pdp.pdp_interact_plot(p, feats)"
   ]
  },
  {
   "cell_type": "code",
   "execution_count": null,
   "metadata": {},
   "outputs": [],
   "source": [
    "plot_pdp(['Enclosure_EROPS w AC', 'Enclosure_EROPS', 'Enclosure_OROPS'], 5, 'Enclosure')"
   ]
  },
  {
   "cell_type": "code",
   "execution_count": null,
   "metadata": {},
   "outputs": [],
   "source": [
    "df_raw.YearMade[df_raw.YearMade<1950] = 1950\n",
    "df_keep['age'] = df_raw['age'] = df_raw.saleYear-df_raw.YearMade"
   ]
  },
  {
   "cell_type": "code",
   "execution_count": null,
   "metadata": {},
   "outputs": [],
   "source": [
    "X_train, X_valid = split_vals(df_keep, n_trn)\n",
    "m = RandomForestRegressor(n_estimators=40, min_samples_leaf=3, max_features=0.6, n_jobs=-1)\n",
    "m.fit(X_train, y_train)\n",
    "plot_fi(rf_feat_importance(m, df_keep));"
   ]
  },
  {
   "cell_type": "markdown",
   "metadata": {},
   "source": [
    "# Tree interpreter"
   ]
  },
  {
   "cell_type": "code",
   "execution_count": null,
   "metadata": {},
   "outputs": [],
   "source": [
    "from treeinterpreter import treeinterpreter as ti"
   ]
  },
  {
   "cell_type": "code",
   "execution_count": null,
   "metadata": {},
   "outputs": [],
   "source": [
    "df_train, df_valid = split_vals(df_raw[df_keep.columns], n_trn)"
   ]
  },
  {
   "cell_type": "code",
   "execution_count": null,
   "metadata": {},
   "outputs": [],
   "source": [
    "row = X_valid.values[None,0]; row"
   ]
  },
  {
   "cell_type": "code",
   "execution_count": null,
   "metadata": {},
   "outputs": [],
   "source": [
    "prediction, bias, contributions = ti.predict(m, row)"
   ]
  },
  {
   "cell_type": "code",
   "execution_count": null,
   "metadata": {},
   "outputs": [],
   "source": [
    "prediction[0], bias[0]"
   ]
  },
  {
   "cell_type": "code",
   "execution_count": null,
   "metadata": {},
   "outputs": [],
   "source": [
    "idxs = np.argsort(contributions[0])"
   ]
  },
  {
   "cell_type": "code",
   "execution_count": null,
   "metadata": {},
   "outputs": [],
   "source": [
    "[o for o in zip(df_keep.columns[idxs], df_valid.iloc[0][idxs], contributions[0][idxs])]"
   ]
  },
  {
   "cell_type": "code",
   "execution_count": null,
   "metadata": {},
   "outputs": [],
   "source": [
    "contributions[0].sum()"
   ]
  },
  {
   "cell_type": "markdown",
   "metadata": {},
   "source": [
    "# Extrapolation"
   ]
  },
  {
   "cell_type": "code",
   "execution_count": null,
   "metadata": {},
   "outputs": [],
   "source": [
    "df_ext = df_keep.copy()\n",
    "df_ext['is_valid'] = 1\n",
    "df_ext.is_valid[:n_trn] = 0\n",
    "x, y, nas = proc_df(df_ext, 'is_valid')"
   ]
  },
  {
   "cell_type": "code",
   "execution_count": null,
   "metadata": {},
   "outputs": [],
   "source": [
    "m = RandomForestClassifier(n_estimators=40, min_samples_leaf=3, max_features=0.5, n_jobs=-1, oob_score=True)\n",
    "m.fit(x, y);\n",
    "m.oob_score_"
   ]
  },
  {
   "cell_type": "code",
   "execution_count": null,
   "metadata": {},
   "outputs": [],
   "source": [
    "fi = rf_feat_importance(m, x); fi[:10]"
   ]
  },
  {
   "cell_type": "code",
   "execution_count": null,
   "metadata": {},
   "outputs": [],
   "source": [
    "feats=['SalesID', 'saleElapsed', 'MachineID']"
   ]
  },
  {
   "cell_type": "code",
   "execution_count": null,
   "metadata": {},
   "outputs": [],
   "source": [
    "(X_train[feats]/1000).describe()"
   ]
  },
  {
   "cell_type": "code",
   "execution_count": null,
   "metadata": {},
   "outputs": [],
   "source": [
    "(X_valid[feats]/1000).describe()"
   ]
  },
  {
   "cell_type": "code",
   "execution_count": null,
   "metadata": {},
   "outputs": [],
   "source": [
    "x.drop(feats, axis=1, inplace=True)"
   ]
  },
  {
   "cell_type": "code",
   "execution_count": null,
   "metadata": {},
   "outputs": [],
   "source": [
    "m = RandomForestClassifier(n_estimators=40, min_samples_leaf=3, max_features=0.5, n_jobs=-1, oob_score=True)\n",
    "m.fit(x, y);\n",
    "m.oob_score_"
   ]
  },
  {
   "cell_type": "code",
   "execution_count": null,
   "metadata": {},
   "outputs": [],
   "source": [
    "fi = rf_feat_importance(m, x); fi[:10]"
   ]
  },
  {
   "cell_type": "code",
   "execution_count": null,
   "metadata": {},
   "outputs": [],
   "source": [
    "set_rf_samples(50000)"
   ]
  },
  {
   "cell_type": "code",
   "execution_count": null,
   "metadata": {},
   "outputs": [],
   "source": [
    "feats=['SalesID', 'saleElapsed', 'MachineID', 'age', 'YearMade', 'saleDayofyear']"
   ]
  },
  {
   "cell_type": "code",
   "execution_count": null,
   "metadata": {},
   "outputs": [],
   "source": [
    "X_train, X_valid = split_vals(df_keep, n_trn)\n",
    "m = RandomForestRegressor(n_estimators=40, min_samples_leaf=3, max_features=0.5, n_jobs=-1, oob_score=True)\n",
    "m.fit(X_train, y_train)\n",
    "print_score(m)"
   ]
  },
  {
   "cell_type": "code",
   "execution_count": null,
   "metadata": {},
   "outputs": [],
   "source": [
    "for f in feats:\n",
    "    df_subs = df_keep.drop(f, axis=1)\n",
    "    X_train, X_valid = split_vals(df_subs, n_trn)\n",
    "    m = RandomForestRegressor(n_estimators=40, min_samples_leaf=3, max_features=0.5, n_jobs=-1, oob_score=True)\n",
    "    m.fit(X_train, y_train)\n",
    "    print(f)\n",
    "    print_score(m)"
   ]
  },
  {
   "cell_type": "code",
   "execution_count": null,
   "metadata": {},
   "outputs": [],
   "source": [
    "reset_rf_samples()"
   ]
  },
  {
   "cell_type": "code",
   "execution_count": null,
   "metadata": {},
   "outputs": [],
   "source": [
    "df_subs = df_keep.drop(['SalesID', 'MachineID', 'saleDayofyear'], axis=1)\n",
    "X_train, X_valid = split_vals(df_subs, n_trn)\n",
    "m = RandomForestRegressor(n_estimators=40, min_samples_leaf=3, max_features=0.5, n_jobs=-1, oob_score=True)\n",
    "m.fit(X_train, y_train)\n",
    "print_score(m)"
   ]
  },
  {
   "cell_type": "code",
   "execution_count": null,
   "metadata": {},
   "outputs": [],
   "source": [
    "plot_fi(rf_feat_importance(m, X_train));"
   ]
  },
  {
   "cell_type": "code",
   "execution_count": null,
   "metadata": {},
   "outputs": [],
   "source": [
    "np.save('tmp/subs_cols.npy', np.array(df_subs.columns))"
   ]
  },
  {
   "cell_type": "markdown",
   "metadata": {},
   "source": [
    "# Our final model!"
   ]
  },
  {
   "cell_type": "code",
   "execution_count": null,
   "metadata": {},
   "outputs": [],
   "source": [
    "m = RandomForestRegressor(n_estimators=160, max_features=0.5, n_jobs=-1, oob_score=True)\n",
    "%time m.fit(X_train, y_train)\n",
    "print_score(m)"
   ]
  },
  {
   "cell_type": "code",
   "execution_count": null,
   "metadata": {},
   "outputs": [],
   "source": []
  }
 ],
 "metadata": {
  "kernelspec": {
   "display_name": "Python 3",
   "language": "python",
   "name": "python3"
  },
  "language_info": {
   "codemirror_mode": {
    "name": "ipython",
    "version": 3
   },
   "file_extension": ".py",
   "mimetype": "text/x-python",
   "name": "python",
   "nbconvert_exporter": "python",
   "pygments_lexer": "ipython3",
   "version": "3.6.8"
  }
 },
 "nbformat": 4,
 "nbformat_minor": 2
}
