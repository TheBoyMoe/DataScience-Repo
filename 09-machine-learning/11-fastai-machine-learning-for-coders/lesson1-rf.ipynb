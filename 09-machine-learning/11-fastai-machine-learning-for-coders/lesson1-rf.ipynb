{
 "cells": [
  {
   "cell_type": "markdown",
   "metadata": {},
   "source": [
    "**Important: This notebook will only work with fastai-0.7.x. Do not try to run any fastai-1.x code from this path in the repository because it will load fastai-0.7.x**"
   ]
  },
  {
   "cell_type": "markdown",
   "metadata": {},
   "source": [
    "# Intro to Random Forests"
   ]
  },
  {
   "cell_type": "markdown",
   "metadata": {},
   "source": [
    "## About this course"
   ]
  },
  {
   "cell_type": "markdown",
   "metadata": {},
   "source": [
    "### Teaching approach"
   ]
  },
  {
   "cell_type": "markdown",
   "metadata": {},
   "source": [
    "This course is being taught by Jeremy Howard, and was developed by Jeremy along with Rachel Thomas. Rachel has been dealing with a life-threatening illness so will not be teaching as originally planned this year.\n",
    "\n",
    "Jeremy has worked in a number of different areas - feel free to ask about anything that he might be able to help you with at any time, even if not directly related to the current topic:\n",
    "\n",
    "- Management consultant (McKinsey; AT Kearney)\n",
    "- Self-funded startup entrepreneur (Fastmail: first consumer synchronized email; Optimal Decisions: first optimized insurance pricing)\n",
    "- VC-funded startup entrepreneur: (Kaggle; Enlitic: first deep-learning medical company)"
   ]
  },
  {
   "cell_type": "markdown",
   "metadata": {},
   "source": [
    "I'll be using a *top-down* teaching method, which is different from how most math courses operate.  Typically, in a *bottom-up* approach, you first learn all the separate components you will be using, and then you gradually build them up into more complex structures.  The problems with this are that students often lose motivation, don't have a sense of the \"big picture\", and don't know what they'll need.\n",
    "\n",
    "If you took the fast.ai deep learning course, that is what we used.  You can hear more about my teaching philosophy [in this blog post](http://www.fast.ai/2016/10/08/teaching-philosophy/) or [in this talk](https://vimeo.com/214233053).\n",
    "\n",
    "Harvard Professor David Perkins has a book, [Making Learning Whole](https://www.amazon.com/Making-Learning-Whole-Principles-Transform/dp/0470633719) in which he uses baseball as an analogy.  We don't require kids to memorize all the rules of baseball and understand all the technical details before we let them play the game.  Rather, they start playing with a just general sense of it, and then gradually learn more rules/details as time goes on.\n",
    "\n",
    "All that to say, don't worry if you don't understand everything at first!  You're not supposed to.  We will start using some \"black boxes\" such as random forests that haven't yet been explained in detail, and then we'll dig into the lower level details later.\n",
    "\n",
    "To start, focus on what things DO, not what they ARE."
   ]
  },
  {
   "cell_type": "markdown",
   "metadata": {},
   "source": [
    "### Your practice"
   ]
  },
  {
   "cell_type": "markdown",
   "metadata": {},
   "source": [
    "People learn by:\n",
    "1. **doing** (coding and building)\n",
    "2. **explaining** what they've learned (by writing or helping others)\n",
    "\n",
    "Therefore, we suggest that you practice these skills on Kaggle by:\n",
    "1. Entering competitions (*doing*)\n",
    "2. Creating Kaggle kernels (*explaining*)\n",
    "\n",
    "It's OK if you don't get good competition ranks or any kernel votes at first - that's totally normal! Just try to keep improving every day, and you'll see the results over time."
   ]
  },
  {
   "cell_type": "markdown",
   "metadata": {},
   "source": [
    "To get better at technical writing, study the top ranked Kaggle kernels from past competitions, and read posts from well-regarded technical bloggers. Some good role models include:\n",
    "\n",
    "- [Peter Norvig](http://nbviewer.jupyter.org/url/norvig.com/ipython/ProbabilityParadox.ipynb) (more [here](http://norvig.com/ipython/))\n",
    "- [Stephen Merity](https://smerity.com/articles/2017/deepcoder_and_ai_hype.html)\n",
    "- [Julia Evans](https://codewords.recurse.com/issues/five/why-do-neural-networks-think-a-panda-is-a-vulture) (more [here](https://jvns.ca/blog/2014/08/12/what-happens-if-you-write-a-tcp-stack-in-python/))\n",
    "- [Julia Ferraioli](http://blog.juliaferraioli.com/2016/02/exploring-world-using-vision-twilio.html)\n",
    "- [Edwin Chen](http://blog.echen.me/2014/10/07/moving-beyond-ctr-better-recommendations-through-human-evaluation/)\n",
    "- [Slav Ivanov](https://blog.slavv.com/picking-an-optimizer-for-style-transfer-86e7b8cba84b) (fast.ai student)\n",
    "- [Brad Kenstler](https://hackernoon.com/non-artistic-style-transfer-or-how-to-draw-kanye-using-captain-picards-face-c4a50256b814) (fast.ai and USF MSAN student)"
   ]
  },
  {
   "cell_type": "markdown",
   "metadata": {},
   "source": [
    "### Books"
   ]
  },
  {
   "cell_type": "markdown",
   "metadata": {},
   "source": [
    "The more familiarity you have with numeric programming in Python, the better. If you're looking to improve in this area, we strongly suggest Wes McKinney's [Python for Data Analysis, 2nd ed](https://www.amazon.com/Python-Data-Analysis-Wrangling-IPython/dp/1491957662/ref=asap_bc?ie=UTF8).\n",
    "\n",
    "For machine learning with Python, we recommend:\n",
    "\n",
    "- [Introduction to Machine Learning with Python](https://www.amazon.com/Introduction-Machine-Learning-Andreas-Mueller/dp/1449369413): From one of the scikit-learn authors, which is the main library we'll be using\n",
    "- [Python Machine Learning: Machine Learning and Deep Learning with Python, scikit-learn, and TensorFlow, 2nd Edition](https://www.amazon.com/Python-Machine-Learning-scikit-learn-TensorFlow/dp/1787125939/ref=dp_ob_title_bk): New version of a very successful book. A lot of the new material however covers deep learning in Tensorflow, which isn't relevant to this course\n",
    "- [Hands-On Machine Learning with Scikit-Learn and TensorFlow](https://www.amazon.com/Hands-Machine-Learning-Scikit-Learn-TensorFlow/dp/1491962291/ref=pd_lpo_sbs_14_t_0?_encoding=UTF8&psc=1&refRID=MBV2QMFH3EZ6B3YBY40K)\n"
   ]
  },
  {
   "cell_type": "markdown",
   "metadata": {},
   "source": [
    "### Syllabus in brief"
   ]
  },
  {
   "cell_type": "markdown",
   "metadata": {},
   "source": [
    "Depending on time and class interests, we'll cover something like (not necessarily in this order):\n",
    "\n",
    "- Train vs test\n",
    "  - Effective validation set construction\n",
    "- Trees and ensembles\n",
    "  - Creating random forests\n",
    "  - Interpreting random forests\n",
    "- What is ML?  Why do we use it?\n",
    "  - What makes a good ML project?\n",
    "  - Structured vs unstructured data\n",
    "  - Examples of failures/mistakes\n",
    "- Feature engineering\n",
    "  - Domain specific - dates, URLs, text\n",
    "  - Embeddings / latent factors\n",
    "- Regularized models trained with SGD\n",
    "  - GLMs, Elasticnet, etc (NB: see what James covered)\n",
    "- Basic neural nets\n",
    "  - PyTorch\n",
    "  - Broadcasting, Matrix Multiplication\n",
    "  - Training loop, backpropagation\n",
    "- KNN\n",
    "- CV / bootstrap (Diabetes data set?)\n",
    "- Ethical considerations"
   ]
  },
  {
   "cell_type": "markdown",
   "metadata": {},
   "source": [
    "Skip:\n",
    "\n",
    "- Dimensionality reduction\n",
    "- Interactions\n",
    "- Monitoring training\n",
    "- Collaborative filtering\n",
    "- Momentum and LR annealing\n"
   ]
  },
  {
   "cell_type": "markdown",
   "metadata": {},
   "source": [
    "## Imports"
   ]
  },
  {
   "cell_type": "code",
   "execution_count": 1,
   "metadata": {},
   "outputs": [],
   "source": [
    "%load_ext autoreload\n",
    "%autoreload 2\n",
    "\n",
    "%matplotlib inline"
   ]
  },
  {
   "cell_type": "code",
   "execution_count": 2,
   "metadata": {},
   "outputs": [],
   "source": [
    "from fastai.imports import *\n",
    "from fastai.structured import *\n",
    "\n",
    "from pandas_summary import DataFrameSummary\n",
    "from sklearn.ensemble import RandomForestRegressor, RandomForestClassifier\n",
    "from IPython.display import display\n",
    "\n",
    "from sklearn import metrics"
   ]
  },
  {
   "cell_type": "code",
   "execution_count": 3,
   "metadata": {},
   "outputs": [],
   "source": [
    "PATH = \"data/bulldozers/\""
   ]
  },
  {
   "cell_type": "code",
   "execution_count": 4,
   "metadata": {},
   "outputs": [
    {
     "name": "stdout",
     "output_type": "stream",
     "text": [
      "Train.csv\r\n"
     ]
    }
   ],
   "source": [
    "!ls {PATH}"
   ]
  },
  {
   "cell_type": "markdown",
   "metadata": {},
   "source": [
    "# Introduction to *Blue Book for Bulldozers*"
   ]
  },
  {
   "cell_type": "markdown",
   "metadata": {},
   "source": [
    "## About..."
   ]
  },
  {
   "cell_type": "markdown",
   "metadata": {},
   "source": [
    "### ...our teaching"
   ]
  },
  {
   "cell_type": "markdown",
   "metadata": {},
   "source": [
    "At fast.ai we have a distinctive [teaching philosophy](http://www.fast.ai/2016/10/08/teaching-philosophy/) of [\"the whole game\"](https://www.amazon.com/Making-Learning-Whole-Principles-Transform/dp/0470633719/ref=sr_1_1?ie=UTF8&qid=1505094653).  This is different from how most traditional math & technical courses are taught, where you have to learn all the individual elements before you can combine them (Harvard professor David Perkins call this *elementitis*), but it is similar to how topics like *driving* and *baseball* are taught.  That is, you can start driving without [knowing how an internal combustion engine works](https://medium.com/towards-data-science/thoughts-after-taking-the-deeplearning-ai-courses-8568f132153), and children begin playing baseball before they learn all the formal rules."
   ]
  },
  {
   "cell_type": "markdown",
   "metadata": {},
   "source": [
    "### ...our approach to machine learning"
   ]
  },
  {
   "cell_type": "markdown",
   "metadata": {},
   "source": [
    "Most machine learning courses will throw at you dozens of different algorithms, with a brief technical description of the math behind them, and maybe a toy example. You're left confused by the enormous range of techniques shown and have little practical understanding of how to apply them.\n",
    "\n",
    "The good news is that modern machine learning can be distilled down to a couple of key techniques that are of very wide applicability. **Recent studies have shown that the vast majority of datasets can be best modeled with just two methods**:\n",
    "\n",
    "- *Ensembles of decision trees* (i.e. Random Forests and Gradient Boosting Machines), mainly for structured data (such as you might find in a database table at most companies)\n",
    "- *Multi-layered neural networks learnt with SGD* (i.e. shallow and/or deep learning), mainly for unstructured data (such as audio, vision, and natural language)\n",
    "\n",
    "In this course we'll be doing a deep dive into random forests, and simple models learnt with SGD. You'll be learning about gradient boosting and deep learning in part 2."
   ]
  },
  {
   "cell_type": "markdown",
   "metadata": {},
   "source": [
    "### ...this dataset"
   ]
  },
  {
   "cell_type": "markdown",
   "metadata": {},
   "source": [
    "We will be looking at the Blue Book for Bulldozers Kaggle Competition: \"The goal of the contest is to predict the sale price of a particular piece of heavy equiment at auction based on it's usage, equipment type, and configuration.  The data is sourced from auction result postings and includes information on usage and equipment configurations.\"\n",
    "\n",
    "This is a very common type of dataset and prediciton problem, and similar to what you may see in your project or workplace."
   ]
  },
  {
   "cell_type": "markdown",
   "metadata": {},
   "source": [
    "### ...Kaggle Competitions"
   ]
  },
  {
   "cell_type": "markdown",
   "metadata": {},
   "source": [
    "Kaggle is an awesome resource for aspiring data scientists or anyone looking to improve their machine learning skills.  There is nothing like being able to get hands-on practice and receiving real-time feedback to help you improve your skills.\n",
    "\n",
    "Kaggle provides:\n",
    "\n",
    "1. Interesting data sets\n",
    "2. Feedback on how you're doing\n",
    "3. A leader board to see what's good, what's possible, and what's state-of-art.\n",
    "4. Blog posts by winning contestants share useful tips and techniques."
   ]
  },
  {
   "cell_type": "markdown",
   "metadata": {},
   "source": [
    "## The data"
   ]
  },
  {
   "cell_type": "markdown",
   "metadata": {},
   "source": [
    "### Look at the data"
   ]
  },
  {
   "cell_type": "markdown",
   "metadata": {},
   "source": [
    "Kaggle provides info about some of the fields of our dataset; on the [Kaggle Data info](https://www.kaggle.com/c/bluebook-for-bulldozers/data) page they say the following:\n",
    "\n",
    "For this competition, you are predicting the sale price of bulldozers sold at auctions. The data for this competition is split into three parts:\n",
    "\n",
    "- **Train.csv** is the training set, which contains data through the end of 2011.\n",
    "- **Valid.csv** is the validation set, which contains data from January 1, 2012 - April 30, 2012. You make predictions on this set throughout the majority of the competition. Your score on this set is used to create the public leaderboard.\n",
    "- **Test.csv** is the test set, which won't be released until the last week of the competition. It contains data from May 1, 2012 - November 2012. Your score on the test set determines your final rank for the competition.\n",
    "\n",
    "The key fields are in train.csv are:\n",
    "\n",
    "- SalesID: the unique identifier of the sale\n",
    "- MachineID: the unique identifier of a machine.  A machine can be sold multiple times\n",
    "- saleprice: what the machine sold for at auction (only provided in train.csv)\n",
    "- saledate: the date of the sale"
   ]
  },
  {
   "cell_type": "markdown",
   "metadata": {},
   "source": [
    "*Question*\n",
    "\n",
    "What stands out to you from the above description?  What needs to be true of our training and validation sets?"
   ]
  },
  {
   "cell_type": "code",
   "execution_count": 6,
   "metadata": {},
   "outputs": [
    {
     "name": "stdout",
     "output_type": "stream",
     "text": [
      "CPU times: user 2min 5s, sys: 864 ms, total: 2min 6s\n",
      "Wall time: 2min 6s\n",
      "(401125, 53)\n"
     ]
    },
    {
     "data": {
      "text/plain": [
       "Index(['SalesID', 'SalePrice', 'MachineID', 'ModelID', 'datasource',\n",
       "       'auctioneerID', 'YearMade', 'MachineHoursCurrentMeter', 'UsageBand',\n",
       "       'saledate', 'fiModelDesc', 'fiBaseModel', 'fiSecondaryDesc',\n",
       "       'fiModelSeries', 'fiModelDescriptor', 'ProductSize',\n",
       "       'fiProductClassDesc', 'state', 'ProductGroup', 'ProductGroupDesc',\n",
       "       'Drive_System', 'Enclosure', 'Forks', 'Pad_Type', 'Ride_Control',\n",
       "       'Stick', 'Transmission', 'Turbocharged', 'Blade_Extension',\n",
       "       'Blade_Width', 'Enclosure_Type', 'Engine_Horsepower', 'Hydraulics',\n",
       "       'Pushblock', 'Ripper', 'Scarifier', 'Tip_Control', 'Tire_Size',\n",
       "       'Coupler', 'Coupler_System', 'Grouser_Tracks', 'Hydraulics_Flow',\n",
       "       'Track_Type', 'Undercarriage_Pad_Width', 'Stick_Length', 'Thumb',\n",
       "       'Pattern_Changer', 'Grouser_Type', 'Backhoe_Mounting', 'Blade_Type',\n",
       "       'Travel_Controls', 'Differential_Type', 'Steering_Controls'],\n",
       "      dtype='object')"
      ]
     },
     "execution_count": 6,
     "metadata": {},
     "output_type": "execute_result"
    }
   ],
   "source": [
    "%time df_raw = pd.read_csv(f'{PATH}Train.csv', low_memory=False, parse_dates=[\"saledate\"])\n",
    "\n",
    "print(df_raw.shape)\n",
    "df_raw.columns"
   ]
  },
  {
   "cell_type": "markdown",
   "metadata": {},
   "source": [
    "In any sort of data science work, it's **important to look at your data**, to make sure you understand the format, how it's stored, what type of values it holds, etc. Even if you've read descriptions about your data, the actual data may not be what you expect."
   ]
  },
  {
   "cell_type": "code",
   "execution_count": 7,
   "metadata": {},
   "outputs": [],
   "source": [
    "def display_all(df):\n",
    "    with pd.option_context(\"display.max_rows\", 1000, \"display.max_columns\", 1000): \n",
    "        display(df)"
   ]
  },
  {
   "cell_type": "code",
   "execution_count": 8,
   "metadata": {},
   "outputs": [
    {
     "data": {
      "text/html": [
       "<div>\n",
       "<style scoped>\n",
       "    .dataframe tbody tr th:only-of-type {\n",
       "        vertical-align: middle;\n",
       "    }\n",
       "\n",
       "    .dataframe tbody tr th {\n",
       "        vertical-align: top;\n",
       "    }\n",
       "\n",
       "    .dataframe thead th {\n",
       "        text-align: right;\n",
       "    }\n",
       "</style>\n",
       "<table border=\"1\" class=\"dataframe\">\n",
       "  <thead>\n",
       "    <tr style=\"text-align: right;\">\n",
       "      <th></th>\n",
       "      <th>SalesID</th>\n",
       "      <th>SalePrice</th>\n",
       "      <th>MachineID</th>\n",
       "      <th>ModelID</th>\n",
       "      <th>datasource</th>\n",
       "      <th>auctioneerID</th>\n",
       "      <th>YearMade</th>\n",
       "      <th>MachineHoursCurrentMeter</th>\n",
       "      <th>UsageBand</th>\n",
       "      <th>saledate</th>\n",
       "      <th>fiModelDesc</th>\n",
       "      <th>fiBaseModel</th>\n",
       "      <th>fiSecondaryDesc</th>\n",
       "      <th>fiModelSeries</th>\n",
       "      <th>fiModelDescriptor</th>\n",
       "      <th>ProductSize</th>\n",
       "      <th>fiProductClassDesc</th>\n",
       "      <th>state</th>\n",
       "      <th>ProductGroup</th>\n",
       "      <th>ProductGroupDesc</th>\n",
       "      <th>Drive_System</th>\n",
       "      <th>Enclosure</th>\n",
       "      <th>Forks</th>\n",
       "      <th>Pad_Type</th>\n",
       "      <th>Ride_Control</th>\n",
       "      <th>Stick</th>\n",
       "      <th>Transmission</th>\n",
       "      <th>Turbocharged</th>\n",
       "      <th>Blade_Extension</th>\n",
       "      <th>Blade_Width</th>\n",
       "      <th>Enclosure_Type</th>\n",
       "      <th>Engine_Horsepower</th>\n",
       "      <th>Hydraulics</th>\n",
       "      <th>Pushblock</th>\n",
       "      <th>Ripper</th>\n",
       "      <th>Scarifier</th>\n",
       "      <th>Tip_Control</th>\n",
       "      <th>Tire_Size</th>\n",
       "      <th>Coupler</th>\n",
       "      <th>Coupler_System</th>\n",
       "      <th>Grouser_Tracks</th>\n",
       "      <th>Hydraulics_Flow</th>\n",
       "      <th>Track_Type</th>\n",
       "      <th>Undercarriage_Pad_Width</th>\n",
       "      <th>Stick_Length</th>\n",
       "      <th>Thumb</th>\n",
       "      <th>Pattern_Changer</th>\n",
       "      <th>Grouser_Type</th>\n",
       "      <th>Backhoe_Mounting</th>\n",
       "      <th>Blade_Type</th>\n",
       "      <th>Travel_Controls</th>\n",
       "      <th>Differential_Type</th>\n",
       "      <th>Steering_Controls</th>\n",
       "    </tr>\n",
       "  </thead>\n",
       "  <tbody>\n",
       "    <tr>\n",
       "      <th>401120</th>\n",
       "      <td>6333336</td>\n",
       "      <td>10500</td>\n",
       "      <td>1840702</td>\n",
       "      <td>21439</td>\n",
       "      <td>149</td>\n",
       "      <td>1.0</td>\n",
       "      <td>2005</td>\n",
       "      <td>NaN</td>\n",
       "      <td>NaN</td>\n",
       "      <td>2011-11-02</td>\n",
       "      <td>35NX2</td>\n",
       "      <td>35</td>\n",
       "      <td>NX</td>\n",
       "      <td>2</td>\n",
       "      <td>NaN</td>\n",
       "      <td>Mini</td>\n",
       "      <td>Hydraulic Excavator, Track - 3.0 to 4.0 Metric...</td>\n",
       "      <td>Maryland</td>\n",
       "      <td>TEX</td>\n",
       "      <td>Track Excavators</td>\n",
       "      <td>NaN</td>\n",
       "      <td>EROPS</td>\n",
       "      <td>NaN</td>\n",
       "      <td>NaN</td>\n",
       "      <td>NaN</td>\n",
       "      <td>NaN</td>\n",
       "      <td>NaN</td>\n",
       "      <td>NaN</td>\n",
       "      <td>NaN</td>\n",
       "      <td>NaN</td>\n",
       "      <td>NaN</td>\n",
       "      <td>NaN</td>\n",
       "      <td>Auxiliary</td>\n",
       "      <td>NaN</td>\n",
       "      <td>NaN</td>\n",
       "      <td>NaN</td>\n",
       "      <td>NaN</td>\n",
       "      <td>NaN</td>\n",
       "      <td>None or Unspecified</td>\n",
       "      <td>NaN</td>\n",
       "      <td>NaN</td>\n",
       "      <td>NaN</td>\n",
       "      <td>Steel</td>\n",
       "      <td>None or Unspecified</td>\n",
       "      <td>None or Unspecified</td>\n",
       "      <td>None or Unspecified</td>\n",
       "      <td>None or Unspecified</td>\n",
       "      <td>Double</td>\n",
       "      <td>NaN</td>\n",
       "      <td>NaN</td>\n",
       "      <td>NaN</td>\n",
       "      <td>NaN</td>\n",
       "      <td>NaN</td>\n",
       "    </tr>\n",
       "    <tr>\n",
       "      <th>401121</th>\n",
       "      <td>6333337</td>\n",
       "      <td>11000</td>\n",
       "      <td>1830472</td>\n",
       "      <td>21439</td>\n",
       "      <td>149</td>\n",
       "      <td>1.0</td>\n",
       "      <td>2005</td>\n",
       "      <td>NaN</td>\n",
       "      <td>NaN</td>\n",
       "      <td>2011-11-02</td>\n",
       "      <td>35NX2</td>\n",
       "      <td>35</td>\n",
       "      <td>NX</td>\n",
       "      <td>2</td>\n",
       "      <td>NaN</td>\n",
       "      <td>Mini</td>\n",
       "      <td>Hydraulic Excavator, Track - 3.0 to 4.0 Metric...</td>\n",
       "      <td>Maryland</td>\n",
       "      <td>TEX</td>\n",
       "      <td>Track Excavators</td>\n",
       "      <td>NaN</td>\n",
       "      <td>EROPS</td>\n",
       "      <td>NaN</td>\n",
       "      <td>NaN</td>\n",
       "      <td>NaN</td>\n",
       "      <td>NaN</td>\n",
       "      <td>NaN</td>\n",
       "      <td>NaN</td>\n",
       "      <td>NaN</td>\n",
       "      <td>NaN</td>\n",
       "      <td>NaN</td>\n",
       "      <td>NaN</td>\n",
       "      <td>Standard</td>\n",
       "      <td>NaN</td>\n",
       "      <td>NaN</td>\n",
       "      <td>NaN</td>\n",
       "      <td>NaN</td>\n",
       "      <td>NaN</td>\n",
       "      <td>None or Unspecified</td>\n",
       "      <td>NaN</td>\n",
       "      <td>NaN</td>\n",
       "      <td>NaN</td>\n",
       "      <td>Steel</td>\n",
       "      <td>None or Unspecified</td>\n",
       "      <td>None or Unspecified</td>\n",
       "      <td>None or Unspecified</td>\n",
       "      <td>None or Unspecified</td>\n",
       "      <td>Double</td>\n",
       "      <td>NaN</td>\n",
       "      <td>NaN</td>\n",
       "      <td>NaN</td>\n",
       "      <td>NaN</td>\n",
       "      <td>NaN</td>\n",
       "    </tr>\n",
       "    <tr>\n",
       "      <th>401122</th>\n",
       "      <td>6333338</td>\n",
       "      <td>11500</td>\n",
       "      <td>1887659</td>\n",
       "      <td>21439</td>\n",
       "      <td>149</td>\n",
       "      <td>1.0</td>\n",
       "      <td>2005</td>\n",
       "      <td>NaN</td>\n",
       "      <td>NaN</td>\n",
       "      <td>2011-11-02</td>\n",
       "      <td>35NX2</td>\n",
       "      <td>35</td>\n",
       "      <td>NX</td>\n",
       "      <td>2</td>\n",
       "      <td>NaN</td>\n",
       "      <td>Mini</td>\n",
       "      <td>Hydraulic Excavator, Track - 3.0 to 4.0 Metric...</td>\n",
       "      <td>Maryland</td>\n",
       "      <td>TEX</td>\n",
       "      <td>Track Excavators</td>\n",
       "      <td>NaN</td>\n",
       "      <td>EROPS</td>\n",
       "      <td>NaN</td>\n",
       "      <td>NaN</td>\n",
       "      <td>NaN</td>\n",
       "      <td>NaN</td>\n",
       "      <td>NaN</td>\n",
       "      <td>NaN</td>\n",
       "      <td>NaN</td>\n",
       "      <td>NaN</td>\n",
       "      <td>NaN</td>\n",
       "      <td>NaN</td>\n",
       "      <td>Auxiliary</td>\n",
       "      <td>NaN</td>\n",
       "      <td>NaN</td>\n",
       "      <td>NaN</td>\n",
       "      <td>NaN</td>\n",
       "      <td>NaN</td>\n",
       "      <td>None or Unspecified</td>\n",
       "      <td>NaN</td>\n",
       "      <td>NaN</td>\n",
       "      <td>NaN</td>\n",
       "      <td>Steel</td>\n",
       "      <td>None or Unspecified</td>\n",
       "      <td>None or Unspecified</td>\n",
       "      <td>None or Unspecified</td>\n",
       "      <td>None or Unspecified</td>\n",
       "      <td>Double</td>\n",
       "      <td>NaN</td>\n",
       "      <td>NaN</td>\n",
       "      <td>NaN</td>\n",
       "      <td>NaN</td>\n",
       "      <td>NaN</td>\n",
       "    </tr>\n",
       "    <tr>\n",
       "      <th>401123</th>\n",
       "      <td>6333341</td>\n",
       "      <td>9000</td>\n",
       "      <td>1903570</td>\n",
       "      <td>21435</td>\n",
       "      <td>149</td>\n",
       "      <td>2.0</td>\n",
       "      <td>2005</td>\n",
       "      <td>NaN</td>\n",
       "      <td>NaN</td>\n",
       "      <td>2011-10-25</td>\n",
       "      <td>30NX</td>\n",
       "      <td>30</td>\n",
       "      <td>NX</td>\n",
       "      <td>NaN</td>\n",
       "      <td>NaN</td>\n",
       "      <td>Mini</td>\n",
       "      <td>Hydraulic Excavator, Track - 2.0 to 3.0 Metric...</td>\n",
       "      <td>Florida</td>\n",
       "      <td>TEX</td>\n",
       "      <td>Track Excavators</td>\n",
       "      <td>NaN</td>\n",
       "      <td>EROPS</td>\n",
       "      <td>NaN</td>\n",
       "      <td>NaN</td>\n",
       "      <td>NaN</td>\n",
       "      <td>NaN</td>\n",
       "      <td>NaN</td>\n",
       "      <td>NaN</td>\n",
       "      <td>NaN</td>\n",
       "      <td>NaN</td>\n",
       "      <td>NaN</td>\n",
       "      <td>NaN</td>\n",
       "      <td>Standard</td>\n",
       "      <td>NaN</td>\n",
       "      <td>NaN</td>\n",
       "      <td>NaN</td>\n",
       "      <td>NaN</td>\n",
       "      <td>NaN</td>\n",
       "      <td>None or Unspecified</td>\n",
       "      <td>NaN</td>\n",
       "      <td>NaN</td>\n",
       "      <td>NaN</td>\n",
       "      <td>Steel</td>\n",
       "      <td>None or Unspecified</td>\n",
       "      <td>None or Unspecified</td>\n",
       "      <td>None or Unspecified</td>\n",
       "      <td>None or Unspecified</td>\n",
       "      <td>Double</td>\n",
       "      <td>NaN</td>\n",
       "      <td>NaN</td>\n",
       "      <td>NaN</td>\n",
       "      <td>NaN</td>\n",
       "      <td>NaN</td>\n",
       "    </tr>\n",
       "    <tr>\n",
       "      <th>401124</th>\n",
       "      <td>6333342</td>\n",
       "      <td>7750</td>\n",
       "      <td>1926965</td>\n",
       "      <td>21435</td>\n",
       "      <td>149</td>\n",
       "      <td>2.0</td>\n",
       "      <td>2005</td>\n",
       "      <td>NaN</td>\n",
       "      <td>NaN</td>\n",
       "      <td>2011-10-25</td>\n",
       "      <td>30NX</td>\n",
       "      <td>30</td>\n",
       "      <td>NX</td>\n",
       "      <td>NaN</td>\n",
       "      <td>NaN</td>\n",
       "      <td>Mini</td>\n",
       "      <td>Hydraulic Excavator, Track - 2.0 to 3.0 Metric...</td>\n",
       "      <td>Florida</td>\n",
       "      <td>TEX</td>\n",
       "      <td>Track Excavators</td>\n",
       "      <td>NaN</td>\n",
       "      <td>EROPS</td>\n",
       "      <td>NaN</td>\n",
       "      <td>NaN</td>\n",
       "      <td>NaN</td>\n",
       "      <td>NaN</td>\n",
       "      <td>NaN</td>\n",
       "      <td>NaN</td>\n",
       "      <td>NaN</td>\n",
       "      <td>NaN</td>\n",
       "      <td>NaN</td>\n",
       "      <td>NaN</td>\n",
       "      <td>Standard</td>\n",
       "      <td>NaN</td>\n",
       "      <td>NaN</td>\n",
       "      <td>NaN</td>\n",
       "      <td>NaN</td>\n",
       "      <td>NaN</td>\n",
       "      <td>None or Unspecified</td>\n",
       "      <td>NaN</td>\n",
       "      <td>NaN</td>\n",
       "      <td>NaN</td>\n",
       "      <td>Steel</td>\n",
       "      <td>None or Unspecified</td>\n",
       "      <td>None or Unspecified</td>\n",
       "      <td>None or Unspecified</td>\n",
       "      <td>None or Unspecified</td>\n",
       "      <td>Double</td>\n",
       "      <td>NaN</td>\n",
       "      <td>NaN</td>\n",
       "      <td>NaN</td>\n",
       "      <td>NaN</td>\n",
       "      <td>NaN</td>\n",
       "    </tr>\n",
       "  </tbody>\n",
       "</table>\n",
       "</div>"
      ],
      "text/plain": [
       "        SalesID  SalePrice  MachineID  ModelID  datasource  auctioneerID  \\\n",
       "401120  6333336      10500    1840702    21439         149           1.0   \n",
       "401121  6333337      11000    1830472    21439         149           1.0   \n",
       "401122  6333338      11500    1887659    21439         149           1.0   \n",
       "401123  6333341       9000    1903570    21435         149           2.0   \n",
       "401124  6333342       7750    1926965    21435         149           2.0   \n",
       "\n",
       "        YearMade  MachineHoursCurrentMeter UsageBand   saledate fiModelDesc  \\\n",
       "401120      2005                       NaN       NaN 2011-11-02       35NX2   \n",
       "401121      2005                       NaN       NaN 2011-11-02       35NX2   \n",
       "401122      2005                       NaN       NaN 2011-11-02       35NX2   \n",
       "401123      2005                       NaN       NaN 2011-10-25        30NX   \n",
       "401124      2005                       NaN       NaN 2011-10-25        30NX   \n",
       "\n",
       "       fiBaseModel fiSecondaryDesc fiModelSeries fiModelDescriptor  \\\n",
       "401120          35              NX             2               NaN   \n",
       "401121          35              NX             2               NaN   \n",
       "401122          35              NX             2               NaN   \n",
       "401123          30              NX           NaN               NaN   \n",
       "401124          30              NX           NaN               NaN   \n",
       "\n",
       "       ProductSize                                 fiProductClassDesc  \\\n",
       "401120        Mini  Hydraulic Excavator, Track - 3.0 to 4.0 Metric...   \n",
       "401121        Mini  Hydraulic Excavator, Track - 3.0 to 4.0 Metric...   \n",
       "401122        Mini  Hydraulic Excavator, Track - 3.0 to 4.0 Metric...   \n",
       "401123        Mini  Hydraulic Excavator, Track - 2.0 to 3.0 Metric...   \n",
       "401124        Mini  Hydraulic Excavator, Track - 2.0 to 3.0 Metric...   \n",
       "\n",
       "           state ProductGroup  ProductGroupDesc Drive_System Enclosure Forks  \\\n",
       "401120  Maryland          TEX  Track Excavators          NaN     EROPS   NaN   \n",
       "401121  Maryland          TEX  Track Excavators          NaN     EROPS   NaN   \n",
       "401122  Maryland          TEX  Track Excavators          NaN     EROPS   NaN   \n",
       "401123   Florida          TEX  Track Excavators          NaN     EROPS   NaN   \n",
       "401124   Florida          TEX  Track Excavators          NaN     EROPS   NaN   \n",
       "\n",
       "       Pad_Type Ride_Control Stick Transmission Turbocharged Blade_Extension  \\\n",
       "401120      NaN          NaN   NaN          NaN          NaN             NaN   \n",
       "401121      NaN          NaN   NaN          NaN          NaN             NaN   \n",
       "401122      NaN          NaN   NaN          NaN          NaN             NaN   \n",
       "401123      NaN          NaN   NaN          NaN          NaN             NaN   \n",
       "401124      NaN          NaN   NaN          NaN          NaN             NaN   \n",
       "\n",
       "       Blade_Width Enclosure_Type Engine_Horsepower Hydraulics Pushblock  \\\n",
       "401120         NaN            NaN               NaN  Auxiliary       NaN   \n",
       "401121         NaN            NaN               NaN   Standard       NaN   \n",
       "401122         NaN            NaN               NaN  Auxiliary       NaN   \n",
       "401123         NaN            NaN               NaN   Standard       NaN   \n",
       "401124         NaN            NaN               NaN   Standard       NaN   \n",
       "\n",
       "       Ripper Scarifier Tip_Control Tire_Size              Coupler  \\\n",
       "401120    NaN       NaN         NaN       NaN  None or Unspecified   \n",
       "401121    NaN       NaN         NaN       NaN  None or Unspecified   \n",
       "401122    NaN       NaN         NaN       NaN  None or Unspecified   \n",
       "401123    NaN       NaN         NaN       NaN  None or Unspecified   \n",
       "401124    NaN       NaN         NaN       NaN  None or Unspecified   \n",
       "\n",
       "       Coupler_System Grouser_Tracks Hydraulics_Flow Track_Type  \\\n",
       "401120            NaN            NaN             NaN      Steel   \n",
       "401121            NaN            NaN             NaN      Steel   \n",
       "401122            NaN            NaN             NaN      Steel   \n",
       "401123            NaN            NaN             NaN      Steel   \n",
       "401124            NaN            NaN             NaN      Steel   \n",
       "\n",
       "       Undercarriage_Pad_Width         Stick_Length                Thumb  \\\n",
       "401120     None or Unspecified  None or Unspecified  None or Unspecified   \n",
       "401121     None or Unspecified  None or Unspecified  None or Unspecified   \n",
       "401122     None or Unspecified  None or Unspecified  None or Unspecified   \n",
       "401123     None or Unspecified  None or Unspecified  None or Unspecified   \n",
       "401124     None or Unspecified  None or Unspecified  None or Unspecified   \n",
       "\n",
       "            Pattern_Changer Grouser_Type Backhoe_Mounting Blade_Type  \\\n",
       "401120  None or Unspecified       Double              NaN        NaN   \n",
       "401121  None or Unspecified       Double              NaN        NaN   \n",
       "401122  None or Unspecified       Double              NaN        NaN   \n",
       "401123  None or Unspecified       Double              NaN        NaN   \n",
       "401124  None or Unspecified       Double              NaN        NaN   \n",
       "\n",
       "       Travel_Controls Differential_Type Steering_Controls  \n",
       "401120             NaN               NaN               NaN  \n",
       "401121             NaN               NaN               NaN  \n",
       "401122             NaN               NaN               NaN  \n",
       "401123             NaN               NaN               NaN  \n",
       "401124             NaN               NaN               NaN  "
      ]
     },
     "metadata": {},
     "output_type": "display_data"
    }
   ],
   "source": [
    "display_all(df_raw.tail())"
   ]
  },
  {
   "cell_type": "code",
   "execution_count": 9,
   "metadata": {},
   "outputs": [
    {
     "data": {
      "text/html": [
       "<div>\n",
       "<style scoped>\n",
       "    .dataframe tbody tr th:only-of-type {\n",
       "        vertical-align: middle;\n",
       "    }\n",
       "\n",
       "    .dataframe tbody tr th {\n",
       "        vertical-align: top;\n",
       "    }\n",
       "\n",
       "    .dataframe thead th {\n",
       "        text-align: right;\n",
       "    }\n",
       "</style>\n",
       "<table border=\"1\" class=\"dataframe\">\n",
       "  <thead>\n",
       "    <tr style=\"text-align: right;\">\n",
       "      <th></th>\n",
       "      <th>SalesID</th>\n",
       "      <th>SalePrice</th>\n",
       "      <th>MachineID</th>\n",
       "      <th>ModelID</th>\n",
       "      <th>datasource</th>\n",
       "      <th>auctioneerID</th>\n",
       "      <th>YearMade</th>\n",
       "      <th>MachineHoursCurrentMeter</th>\n",
       "      <th>UsageBand</th>\n",
       "      <th>saledate</th>\n",
       "      <th>fiModelDesc</th>\n",
       "      <th>fiBaseModel</th>\n",
       "      <th>fiSecondaryDesc</th>\n",
       "      <th>fiModelSeries</th>\n",
       "      <th>fiModelDescriptor</th>\n",
       "      <th>ProductSize</th>\n",
       "      <th>fiProductClassDesc</th>\n",
       "      <th>state</th>\n",
       "      <th>ProductGroup</th>\n",
       "      <th>ProductGroupDesc</th>\n",
       "      <th>Drive_System</th>\n",
       "      <th>Enclosure</th>\n",
       "      <th>Forks</th>\n",
       "      <th>Pad_Type</th>\n",
       "      <th>Ride_Control</th>\n",
       "      <th>Stick</th>\n",
       "      <th>Transmission</th>\n",
       "      <th>Turbocharged</th>\n",
       "      <th>Blade_Extension</th>\n",
       "      <th>Blade_Width</th>\n",
       "      <th>Enclosure_Type</th>\n",
       "      <th>Engine_Horsepower</th>\n",
       "      <th>Hydraulics</th>\n",
       "      <th>Pushblock</th>\n",
       "      <th>Ripper</th>\n",
       "      <th>Scarifier</th>\n",
       "      <th>Tip_Control</th>\n",
       "      <th>Tire_Size</th>\n",
       "      <th>Coupler</th>\n",
       "      <th>Coupler_System</th>\n",
       "      <th>Grouser_Tracks</th>\n",
       "      <th>Hydraulics_Flow</th>\n",
       "      <th>Track_Type</th>\n",
       "      <th>Undercarriage_Pad_Width</th>\n",
       "      <th>Stick_Length</th>\n",
       "      <th>Thumb</th>\n",
       "      <th>Pattern_Changer</th>\n",
       "      <th>Grouser_Type</th>\n",
       "      <th>Backhoe_Mounting</th>\n",
       "      <th>Blade_Type</th>\n",
       "      <th>Travel_Controls</th>\n",
       "      <th>Differential_Type</th>\n",
       "      <th>Steering_Controls</th>\n",
       "    </tr>\n",
       "  </thead>\n",
       "  <tbody>\n",
       "    <tr>\n",
       "      <th>count</th>\n",
       "      <td>4.011250e+05</td>\n",
       "      <td>401125.000000</td>\n",
       "      <td>4.011250e+05</td>\n",
       "      <td>401125.000000</td>\n",
       "      <td>401125.000000</td>\n",
       "      <td>380989.000000</td>\n",
       "      <td>401125.000000</td>\n",
       "      <td>1.427650e+05</td>\n",
       "      <td>69639</td>\n",
       "      <td>401125</td>\n",
       "      <td>401125</td>\n",
       "      <td>401125</td>\n",
       "      <td>263934</td>\n",
       "      <td>56908</td>\n",
       "      <td>71919</td>\n",
       "      <td>190350</td>\n",
       "      <td>401125</td>\n",
       "      <td>401125</td>\n",
       "      <td>401125</td>\n",
       "      <td>401125</td>\n",
       "      <td>104361</td>\n",
       "      <td>400800</td>\n",
       "      <td>192077</td>\n",
       "      <td>79134</td>\n",
       "      <td>148606</td>\n",
       "      <td>79134</td>\n",
       "      <td>183230</td>\n",
       "      <td>79134</td>\n",
       "      <td>25219</td>\n",
       "      <td>25219</td>\n",
       "      <td>25219</td>\n",
       "      <td>25219</td>\n",
       "      <td>320570</td>\n",
       "      <td>25219</td>\n",
       "      <td>104137</td>\n",
       "      <td>25230</td>\n",
       "      <td>25219</td>\n",
       "      <td>94718</td>\n",
       "      <td>213952</td>\n",
       "      <td>43458</td>\n",
       "      <td>43362</td>\n",
       "      <td>43362</td>\n",
       "      <td>99153</td>\n",
       "      <td>99872</td>\n",
       "      <td>99218</td>\n",
       "      <td>99288</td>\n",
       "      <td>99218</td>\n",
       "      <td>99153</td>\n",
       "      <td>78672</td>\n",
       "      <td>79833</td>\n",
       "      <td>79834</td>\n",
       "      <td>69411</td>\n",
       "      <td>69369</td>\n",
       "    </tr>\n",
       "    <tr>\n",
       "      <th>unique</th>\n",
       "      <td>NaN</td>\n",
       "      <td>NaN</td>\n",
       "      <td>NaN</td>\n",
       "      <td>NaN</td>\n",
       "      <td>NaN</td>\n",
       "      <td>NaN</td>\n",
       "      <td>NaN</td>\n",
       "      <td>NaN</td>\n",
       "      <td>3</td>\n",
       "      <td>3919</td>\n",
       "      <td>4999</td>\n",
       "      <td>1950</td>\n",
       "      <td>175</td>\n",
       "      <td>122</td>\n",
       "      <td>139</td>\n",
       "      <td>6</td>\n",
       "      <td>74</td>\n",
       "      <td>53</td>\n",
       "      <td>6</td>\n",
       "      <td>6</td>\n",
       "      <td>4</td>\n",
       "      <td>6</td>\n",
       "      <td>2</td>\n",
       "      <td>4</td>\n",
       "      <td>3</td>\n",
       "      <td>2</td>\n",
       "      <td>8</td>\n",
       "      <td>2</td>\n",
       "      <td>2</td>\n",
       "      <td>6</td>\n",
       "      <td>3</td>\n",
       "      <td>2</td>\n",
       "      <td>12</td>\n",
       "      <td>2</td>\n",
       "      <td>4</td>\n",
       "      <td>2</td>\n",
       "      <td>3</td>\n",
       "      <td>17</td>\n",
       "      <td>3</td>\n",
       "      <td>2</td>\n",
       "      <td>2</td>\n",
       "      <td>3</td>\n",
       "      <td>2</td>\n",
       "      <td>19</td>\n",
       "      <td>29</td>\n",
       "      <td>3</td>\n",
       "      <td>3</td>\n",
       "      <td>3</td>\n",
       "      <td>2</td>\n",
       "      <td>10</td>\n",
       "      <td>7</td>\n",
       "      <td>4</td>\n",
       "      <td>5</td>\n",
       "    </tr>\n",
       "    <tr>\n",
       "      <th>top</th>\n",
       "      <td>NaN</td>\n",
       "      <td>NaN</td>\n",
       "      <td>NaN</td>\n",
       "      <td>NaN</td>\n",
       "      <td>NaN</td>\n",
       "      <td>NaN</td>\n",
       "      <td>NaN</td>\n",
       "      <td>NaN</td>\n",
       "      <td>Medium</td>\n",
       "      <td>2009-02-16 00:00:00</td>\n",
       "      <td>310G</td>\n",
       "      <td>580</td>\n",
       "      <td>C</td>\n",
       "      <td>II</td>\n",
       "      <td>L</td>\n",
       "      <td>Medium</td>\n",
       "      <td>Backhoe Loader - 14.0 to 15.0 Ft Standard Digg...</td>\n",
       "      <td>Florida</td>\n",
       "      <td>TEX</td>\n",
       "      <td>Track Excavators</td>\n",
       "      <td>Two Wheel Drive</td>\n",
       "      <td>OROPS</td>\n",
       "      <td>None or Unspecified</td>\n",
       "      <td>None or Unspecified</td>\n",
       "      <td>No</td>\n",
       "      <td>Standard</td>\n",
       "      <td>Standard</td>\n",
       "      <td>None or Unspecified</td>\n",
       "      <td>None or Unspecified</td>\n",
       "      <td>14'</td>\n",
       "      <td>None or Unspecified</td>\n",
       "      <td>No</td>\n",
       "      <td>2 Valve</td>\n",
       "      <td>None or Unspecified</td>\n",
       "      <td>None or Unspecified</td>\n",
       "      <td>None or Unspecified</td>\n",
       "      <td>None or Unspecified</td>\n",
       "      <td>None or Unspecified</td>\n",
       "      <td>None or Unspecified</td>\n",
       "      <td>None or Unspecified</td>\n",
       "      <td>None or Unspecified</td>\n",
       "      <td>Standard</td>\n",
       "      <td>Steel</td>\n",
       "      <td>None or Unspecified</td>\n",
       "      <td>None or Unspecified</td>\n",
       "      <td>None or Unspecified</td>\n",
       "      <td>None or Unspecified</td>\n",
       "      <td>Double</td>\n",
       "      <td>None or Unspecified</td>\n",
       "      <td>PAT</td>\n",
       "      <td>None or Unspecified</td>\n",
       "      <td>Standard</td>\n",
       "      <td>Conventional</td>\n",
       "    </tr>\n",
       "    <tr>\n",
       "      <th>freq</th>\n",
       "      <td>NaN</td>\n",
       "      <td>NaN</td>\n",
       "      <td>NaN</td>\n",
       "      <td>NaN</td>\n",
       "      <td>NaN</td>\n",
       "      <td>NaN</td>\n",
       "      <td>NaN</td>\n",
       "      <td>NaN</td>\n",
       "      <td>33985</td>\n",
       "      <td>1932</td>\n",
       "      <td>5039</td>\n",
       "      <td>19798</td>\n",
       "      <td>43235</td>\n",
       "      <td>13202</td>\n",
       "      <td>15875</td>\n",
       "      <td>62274</td>\n",
       "      <td>56166</td>\n",
       "      <td>63944</td>\n",
       "      <td>101167</td>\n",
       "      <td>101167</td>\n",
       "      <td>46139</td>\n",
       "      <td>173932</td>\n",
       "      <td>178300</td>\n",
       "      <td>70614</td>\n",
       "      <td>77685</td>\n",
       "      <td>48829</td>\n",
       "      <td>140328</td>\n",
       "      <td>75211</td>\n",
       "      <td>24692</td>\n",
       "      <td>9615</td>\n",
       "      <td>21923</td>\n",
       "      <td>23937</td>\n",
       "      <td>141404</td>\n",
       "      <td>19463</td>\n",
       "      <td>83452</td>\n",
       "      <td>12719</td>\n",
       "      <td>16207</td>\n",
       "      <td>46339</td>\n",
       "      <td>184582</td>\n",
       "      <td>40430</td>\n",
       "      <td>40515</td>\n",
       "      <td>42784</td>\n",
       "      <td>84880</td>\n",
       "      <td>79651</td>\n",
       "      <td>78820</td>\n",
       "      <td>83093</td>\n",
       "      <td>90255</td>\n",
       "      <td>84653</td>\n",
       "      <td>78652</td>\n",
       "      <td>38612</td>\n",
       "      <td>69923</td>\n",
       "      <td>68073</td>\n",
       "      <td>68679</td>\n",
       "    </tr>\n",
       "    <tr>\n",
       "      <th>first</th>\n",
       "      <td>NaN</td>\n",
       "      <td>NaN</td>\n",
       "      <td>NaN</td>\n",
       "      <td>NaN</td>\n",
       "      <td>NaN</td>\n",
       "      <td>NaN</td>\n",
       "      <td>NaN</td>\n",
       "      <td>NaN</td>\n",
       "      <td>NaN</td>\n",
       "      <td>1989-01-17 00:00:00</td>\n",
       "      <td>NaN</td>\n",
       "      <td>NaN</td>\n",
       "      <td>NaN</td>\n",
       "      <td>NaN</td>\n",
       "      <td>NaN</td>\n",
       "      <td>NaN</td>\n",
       "      <td>NaN</td>\n",
       "      <td>NaN</td>\n",
       "      <td>NaN</td>\n",
       "      <td>NaN</td>\n",
       "      <td>NaN</td>\n",
       "      <td>NaN</td>\n",
       "      <td>NaN</td>\n",
       "      <td>NaN</td>\n",
       "      <td>NaN</td>\n",
       "      <td>NaN</td>\n",
       "      <td>NaN</td>\n",
       "      <td>NaN</td>\n",
       "      <td>NaN</td>\n",
       "      <td>NaN</td>\n",
       "      <td>NaN</td>\n",
       "      <td>NaN</td>\n",
       "      <td>NaN</td>\n",
       "      <td>NaN</td>\n",
       "      <td>NaN</td>\n",
       "      <td>NaN</td>\n",
       "      <td>NaN</td>\n",
       "      <td>NaN</td>\n",
       "      <td>NaN</td>\n",
       "      <td>NaN</td>\n",
       "      <td>NaN</td>\n",
       "      <td>NaN</td>\n",
       "      <td>NaN</td>\n",
       "      <td>NaN</td>\n",
       "      <td>NaN</td>\n",
       "      <td>NaN</td>\n",
       "      <td>NaN</td>\n",
       "      <td>NaN</td>\n",
       "      <td>NaN</td>\n",
       "      <td>NaN</td>\n",
       "      <td>NaN</td>\n",
       "      <td>NaN</td>\n",
       "      <td>NaN</td>\n",
       "    </tr>\n",
       "    <tr>\n",
       "      <th>last</th>\n",
       "      <td>NaN</td>\n",
       "      <td>NaN</td>\n",
       "      <td>NaN</td>\n",
       "      <td>NaN</td>\n",
       "      <td>NaN</td>\n",
       "      <td>NaN</td>\n",
       "      <td>NaN</td>\n",
       "      <td>NaN</td>\n",
       "      <td>NaN</td>\n",
       "      <td>2011-12-30 00:00:00</td>\n",
       "      <td>NaN</td>\n",
       "      <td>NaN</td>\n",
       "      <td>NaN</td>\n",
       "      <td>NaN</td>\n",
       "      <td>NaN</td>\n",
       "      <td>NaN</td>\n",
       "      <td>NaN</td>\n",
       "      <td>NaN</td>\n",
       "      <td>NaN</td>\n",
       "      <td>NaN</td>\n",
       "      <td>NaN</td>\n",
       "      <td>NaN</td>\n",
       "      <td>NaN</td>\n",
       "      <td>NaN</td>\n",
       "      <td>NaN</td>\n",
       "      <td>NaN</td>\n",
       "      <td>NaN</td>\n",
       "      <td>NaN</td>\n",
       "      <td>NaN</td>\n",
       "      <td>NaN</td>\n",
       "      <td>NaN</td>\n",
       "      <td>NaN</td>\n",
       "      <td>NaN</td>\n",
       "      <td>NaN</td>\n",
       "      <td>NaN</td>\n",
       "      <td>NaN</td>\n",
       "      <td>NaN</td>\n",
       "      <td>NaN</td>\n",
       "      <td>NaN</td>\n",
       "      <td>NaN</td>\n",
       "      <td>NaN</td>\n",
       "      <td>NaN</td>\n",
       "      <td>NaN</td>\n",
       "      <td>NaN</td>\n",
       "      <td>NaN</td>\n",
       "      <td>NaN</td>\n",
       "      <td>NaN</td>\n",
       "      <td>NaN</td>\n",
       "      <td>NaN</td>\n",
       "      <td>NaN</td>\n",
       "      <td>NaN</td>\n",
       "      <td>NaN</td>\n",
       "      <td>NaN</td>\n",
       "    </tr>\n",
       "    <tr>\n",
       "      <th>mean</th>\n",
       "      <td>1.919713e+06</td>\n",
       "      <td>31099.712848</td>\n",
       "      <td>1.217903e+06</td>\n",
       "      <td>6889.702980</td>\n",
       "      <td>134.665810</td>\n",
       "      <td>6.556040</td>\n",
       "      <td>1899.156901</td>\n",
       "      <td>3.457955e+03</td>\n",
       "      <td>NaN</td>\n",
       "      <td>NaN</td>\n",
       "      <td>NaN</td>\n",
       "      <td>NaN</td>\n",
       "      <td>NaN</td>\n",
       "      <td>NaN</td>\n",
       "      <td>NaN</td>\n",
       "      <td>NaN</td>\n",
       "      <td>NaN</td>\n",
       "      <td>NaN</td>\n",
       "      <td>NaN</td>\n",
       "      <td>NaN</td>\n",
       "      <td>NaN</td>\n",
       "      <td>NaN</td>\n",
       "      <td>NaN</td>\n",
       "      <td>NaN</td>\n",
       "      <td>NaN</td>\n",
       "      <td>NaN</td>\n",
       "      <td>NaN</td>\n",
       "      <td>NaN</td>\n",
       "      <td>NaN</td>\n",
       "      <td>NaN</td>\n",
       "      <td>NaN</td>\n",
       "      <td>NaN</td>\n",
       "      <td>NaN</td>\n",
       "      <td>NaN</td>\n",
       "      <td>NaN</td>\n",
       "      <td>NaN</td>\n",
       "      <td>NaN</td>\n",
       "      <td>NaN</td>\n",
       "      <td>NaN</td>\n",
       "      <td>NaN</td>\n",
       "      <td>NaN</td>\n",
       "      <td>NaN</td>\n",
       "      <td>NaN</td>\n",
       "      <td>NaN</td>\n",
       "      <td>NaN</td>\n",
       "      <td>NaN</td>\n",
       "      <td>NaN</td>\n",
       "      <td>NaN</td>\n",
       "      <td>NaN</td>\n",
       "      <td>NaN</td>\n",
       "      <td>NaN</td>\n",
       "      <td>NaN</td>\n",
       "      <td>NaN</td>\n",
       "    </tr>\n",
       "    <tr>\n",
       "      <th>std</th>\n",
       "      <td>9.090215e+05</td>\n",
       "      <td>23036.898502</td>\n",
       "      <td>4.409920e+05</td>\n",
       "      <td>6221.777842</td>\n",
       "      <td>8.962237</td>\n",
       "      <td>16.976779</td>\n",
       "      <td>291.797469</td>\n",
       "      <td>2.759026e+04</td>\n",
       "      <td>NaN</td>\n",
       "      <td>NaN</td>\n",
       "      <td>NaN</td>\n",
       "      <td>NaN</td>\n",
       "      <td>NaN</td>\n",
       "      <td>NaN</td>\n",
       "      <td>NaN</td>\n",
       "      <td>NaN</td>\n",
       "      <td>NaN</td>\n",
       "      <td>NaN</td>\n",
       "      <td>NaN</td>\n",
       "      <td>NaN</td>\n",
       "      <td>NaN</td>\n",
       "      <td>NaN</td>\n",
       "      <td>NaN</td>\n",
       "      <td>NaN</td>\n",
       "      <td>NaN</td>\n",
       "      <td>NaN</td>\n",
       "      <td>NaN</td>\n",
       "      <td>NaN</td>\n",
       "      <td>NaN</td>\n",
       "      <td>NaN</td>\n",
       "      <td>NaN</td>\n",
       "      <td>NaN</td>\n",
       "      <td>NaN</td>\n",
       "      <td>NaN</td>\n",
       "      <td>NaN</td>\n",
       "      <td>NaN</td>\n",
       "      <td>NaN</td>\n",
       "      <td>NaN</td>\n",
       "      <td>NaN</td>\n",
       "      <td>NaN</td>\n",
       "      <td>NaN</td>\n",
       "      <td>NaN</td>\n",
       "      <td>NaN</td>\n",
       "      <td>NaN</td>\n",
       "      <td>NaN</td>\n",
       "      <td>NaN</td>\n",
       "      <td>NaN</td>\n",
       "      <td>NaN</td>\n",
       "      <td>NaN</td>\n",
       "      <td>NaN</td>\n",
       "      <td>NaN</td>\n",
       "      <td>NaN</td>\n",
       "      <td>NaN</td>\n",
       "    </tr>\n",
       "    <tr>\n",
       "      <th>min</th>\n",
       "      <td>1.139246e+06</td>\n",
       "      <td>4750.000000</td>\n",
       "      <td>0.000000e+00</td>\n",
       "      <td>28.000000</td>\n",
       "      <td>121.000000</td>\n",
       "      <td>0.000000</td>\n",
       "      <td>1000.000000</td>\n",
       "      <td>0.000000e+00</td>\n",
       "      <td>NaN</td>\n",
       "      <td>NaN</td>\n",
       "      <td>NaN</td>\n",
       "      <td>NaN</td>\n",
       "      <td>NaN</td>\n",
       "      <td>NaN</td>\n",
       "      <td>NaN</td>\n",
       "      <td>NaN</td>\n",
       "      <td>NaN</td>\n",
       "      <td>NaN</td>\n",
       "      <td>NaN</td>\n",
       "      <td>NaN</td>\n",
       "      <td>NaN</td>\n",
       "      <td>NaN</td>\n",
       "      <td>NaN</td>\n",
       "      <td>NaN</td>\n",
       "      <td>NaN</td>\n",
       "      <td>NaN</td>\n",
       "      <td>NaN</td>\n",
       "      <td>NaN</td>\n",
       "      <td>NaN</td>\n",
       "      <td>NaN</td>\n",
       "      <td>NaN</td>\n",
       "      <td>NaN</td>\n",
       "      <td>NaN</td>\n",
       "      <td>NaN</td>\n",
       "      <td>NaN</td>\n",
       "      <td>NaN</td>\n",
       "      <td>NaN</td>\n",
       "      <td>NaN</td>\n",
       "      <td>NaN</td>\n",
       "      <td>NaN</td>\n",
       "      <td>NaN</td>\n",
       "      <td>NaN</td>\n",
       "      <td>NaN</td>\n",
       "      <td>NaN</td>\n",
       "      <td>NaN</td>\n",
       "      <td>NaN</td>\n",
       "      <td>NaN</td>\n",
       "      <td>NaN</td>\n",
       "      <td>NaN</td>\n",
       "      <td>NaN</td>\n",
       "      <td>NaN</td>\n",
       "      <td>NaN</td>\n",
       "      <td>NaN</td>\n",
       "    </tr>\n",
       "    <tr>\n",
       "      <th>25%</th>\n",
       "      <td>1.418371e+06</td>\n",
       "      <td>14500.000000</td>\n",
       "      <td>1.088697e+06</td>\n",
       "      <td>3259.000000</td>\n",
       "      <td>132.000000</td>\n",
       "      <td>1.000000</td>\n",
       "      <td>1985.000000</td>\n",
       "      <td>0.000000e+00</td>\n",
       "      <td>NaN</td>\n",
       "      <td>NaN</td>\n",
       "      <td>NaN</td>\n",
       "      <td>NaN</td>\n",
       "      <td>NaN</td>\n",
       "      <td>NaN</td>\n",
       "      <td>NaN</td>\n",
       "      <td>NaN</td>\n",
       "      <td>NaN</td>\n",
       "      <td>NaN</td>\n",
       "      <td>NaN</td>\n",
       "      <td>NaN</td>\n",
       "      <td>NaN</td>\n",
       "      <td>NaN</td>\n",
       "      <td>NaN</td>\n",
       "      <td>NaN</td>\n",
       "      <td>NaN</td>\n",
       "      <td>NaN</td>\n",
       "      <td>NaN</td>\n",
       "      <td>NaN</td>\n",
       "      <td>NaN</td>\n",
       "      <td>NaN</td>\n",
       "      <td>NaN</td>\n",
       "      <td>NaN</td>\n",
       "      <td>NaN</td>\n",
       "      <td>NaN</td>\n",
       "      <td>NaN</td>\n",
       "      <td>NaN</td>\n",
       "      <td>NaN</td>\n",
       "      <td>NaN</td>\n",
       "      <td>NaN</td>\n",
       "      <td>NaN</td>\n",
       "      <td>NaN</td>\n",
       "      <td>NaN</td>\n",
       "      <td>NaN</td>\n",
       "      <td>NaN</td>\n",
       "      <td>NaN</td>\n",
       "      <td>NaN</td>\n",
       "      <td>NaN</td>\n",
       "      <td>NaN</td>\n",
       "      <td>NaN</td>\n",
       "      <td>NaN</td>\n",
       "      <td>NaN</td>\n",
       "      <td>NaN</td>\n",
       "      <td>NaN</td>\n",
       "    </tr>\n",
       "    <tr>\n",
       "      <th>50%</th>\n",
       "      <td>1.639422e+06</td>\n",
       "      <td>24000.000000</td>\n",
       "      <td>1.279490e+06</td>\n",
       "      <td>4604.000000</td>\n",
       "      <td>132.000000</td>\n",
       "      <td>2.000000</td>\n",
       "      <td>1995.000000</td>\n",
       "      <td>0.000000e+00</td>\n",
       "      <td>NaN</td>\n",
       "      <td>NaN</td>\n",
       "      <td>NaN</td>\n",
       "      <td>NaN</td>\n",
       "      <td>NaN</td>\n",
       "      <td>NaN</td>\n",
       "      <td>NaN</td>\n",
       "      <td>NaN</td>\n",
       "      <td>NaN</td>\n",
       "      <td>NaN</td>\n",
       "      <td>NaN</td>\n",
       "      <td>NaN</td>\n",
       "      <td>NaN</td>\n",
       "      <td>NaN</td>\n",
       "      <td>NaN</td>\n",
       "      <td>NaN</td>\n",
       "      <td>NaN</td>\n",
       "      <td>NaN</td>\n",
       "      <td>NaN</td>\n",
       "      <td>NaN</td>\n",
       "      <td>NaN</td>\n",
       "      <td>NaN</td>\n",
       "      <td>NaN</td>\n",
       "      <td>NaN</td>\n",
       "      <td>NaN</td>\n",
       "      <td>NaN</td>\n",
       "      <td>NaN</td>\n",
       "      <td>NaN</td>\n",
       "      <td>NaN</td>\n",
       "      <td>NaN</td>\n",
       "      <td>NaN</td>\n",
       "      <td>NaN</td>\n",
       "      <td>NaN</td>\n",
       "      <td>NaN</td>\n",
       "      <td>NaN</td>\n",
       "      <td>NaN</td>\n",
       "      <td>NaN</td>\n",
       "      <td>NaN</td>\n",
       "      <td>NaN</td>\n",
       "      <td>NaN</td>\n",
       "      <td>NaN</td>\n",
       "      <td>NaN</td>\n",
       "      <td>NaN</td>\n",
       "      <td>NaN</td>\n",
       "      <td>NaN</td>\n",
       "    </tr>\n",
       "    <tr>\n",
       "      <th>75%</th>\n",
       "      <td>2.242707e+06</td>\n",
       "      <td>40000.000000</td>\n",
       "      <td>1.468067e+06</td>\n",
       "      <td>8724.000000</td>\n",
       "      <td>136.000000</td>\n",
       "      <td>4.000000</td>\n",
       "      <td>2000.000000</td>\n",
       "      <td>3.025000e+03</td>\n",
       "      <td>NaN</td>\n",
       "      <td>NaN</td>\n",
       "      <td>NaN</td>\n",
       "      <td>NaN</td>\n",
       "      <td>NaN</td>\n",
       "      <td>NaN</td>\n",
       "      <td>NaN</td>\n",
       "      <td>NaN</td>\n",
       "      <td>NaN</td>\n",
       "      <td>NaN</td>\n",
       "      <td>NaN</td>\n",
       "      <td>NaN</td>\n",
       "      <td>NaN</td>\n",
       "      <td>NaN</td>\n",
       "      <td>NaN</td>\n",
       "      <td>NaN</td>\n",
       "      <td>NaN</td>\n",
       "      <td>NaN</td>\n",
       "      <td>NaN</td>\n",
       "      <td>NaN</td>\n",
       "      <td>NaN</td>\n",
       "      <td>NaN</td>\n",
       "      <td>NaN</td>\n",
       "      <td>NaN</td>\n",
       "      <td>NaN</td>\n",
       "      <td>NaN</td>\n",
       "      <td>NaN</td>\n",
       "      <td>NaN</td>\n",
       "      <td>NaN</td>\n",
       "      <td>NaN</td>\n",
       "      <td>NaN</td>\n",
       "      <td>NaN</td>\n",
       "      <td>NaN</td>\n",
       "      <td>NaN</td>\n",
       "      <td>NaN</td>\n",
       "      <td>NaN</td>\n",
       "      <td>NaN</td>\n",
       "      <td>NaN</td>\n",
       "      <td>NaN</td>\n",
       "      <td>NaN</td>\n",
       "      <td>NaN</td>\n",
       "      <td>NaN</td>\n",
       "      <td>NaN</td>\n",
       "      <td>NaN</td>\n",
       "      <td>NaN</td>\n",
       "    </tr>\n",
       "    <tr>\n",
       "      <th>max</th>\n",
       "      <td>6.333342e+06</td>\n",
       "      <td>142000.000000</td>\n",
       "      <td>2.486330e+06</td>\n",
       "      <td>37198.000000</td>\n",
       "      <td>172.000000</td>\n",
       "      <td>99.000000</td>\n",
       "      <td>2013.000000</td>\n",
       "      <td>2.483300e+06</td>\n",
       "      <td>NaN</td>\n",
       "      <td>NaN</td>\n",
       "      <td>NaN</td>\n",
       "      <td>NaN</td>\n",
       "      <td>NaN</td>\n",
       "      <td>NaN</td>\n",
       "      <td>NaN</td>\n",
       "      <td>NaN</td>\n",
       "      <td>NaN</td>\n",
       "      <td>NaN</td>\n",
       "      <td>NaN</td>\n",
       "      <td>NaN</td>\n",
       "      <td>NaN</td>\n",
       "      <td>NaN</td>\n",
       "      <td>NaN</td>\n",
       "      <td>NaN</td>\n",
       "      <td>NaN</td>\n",
       "      <td>NaN</td>\n",
       "      <td>NaN</td>\n",
       "      <td>NaN</td>\n",
       "      <td>NaN</td>\n",
       "      <td>NaN</td>\n",
       "      <td>NaN</td>\n",
       "      <td>NaN</td>\n",
       "      <td>NaN</td>\n",
       "      <td>NaN</td>\n",
       "      <td>NaN</td>\n",
       "      <td>NaN</td>\n",
       "      <td>NaN</td>\n",
       "      <td>NaN</td>\n",
       "      <td>NaN</td>\n",
       "      <td>NaN</td>\n",
       "      <td>NaN</td>\n",
       "      <td>NaN</td>\n",
       "      <td>NaN</td>\n",
       "      <td>NaN</td>\n",
       "      <td>NaN</td>\n",
       "      <td>NaN</td>\n",
       "      <td>NaN</td>\n",
       "      <td>NaN</td>\n",
       "      <td>NaN</td>\n",
       "      <td>NaN</td>\n",
       "      <td>NaN</td>\n",
       "      <td>NaN</td>\n",
       "      <td>NaN</td>\n",
       "    </tr>\n",
       "  </tbody>\n",
       "</table>\n",
       "</div>"
      ],
      "text/plain": [
       "             SalesID      SalePrice     MachineID        ModelID  \\\n",
       "count   4.011250e+05  401125.000000  4.011250e+05  401125.000000   \n",
       "unique           NaN            NaN           NaN            NaN   \n",
       "top              NaN            NaN           NaN            NaN   \n",
       "freq             NaN            NaN           NaN            NaN   \n",
       "first            NaN            NaN           NaN            NaN   \n",
       "last             NaN            NaN           NaN            NaN   \n",
       "mean    1.919713e+06   31099.712848  1.217903e+06    6889.702980   \n",
       "std     9.090215e+05   23036.898502  4.409920e+05    6221.777842   \n",
       "min     1.139246e+06    4750.000000  0.000000e+00      28.000000   \n",
       "25%     1.418371e+06   14500.000000  1.088697e+06    3259.000000   \n",
       "50%     1.639422e+06   24000.000000  1.279490e+06    4604.000000   \n",
       "75%     2.242707e+06   40000.000000  1.468067e+06    8724.000000   \n",
       "max     6.333342e+06  142000.000000  2.486330e+06   37198.000000   \n",
       "\n",
       "           datasource   auctioneerID       YearMade  MachineHoursCurrentMeter  \\\n",
       "count   401125.000000  380989.000000  401125.000000              1.427650e+05   \n",
       "unique            NaN            NaN            NaN                       NaN   \n",
       "top               NaN            NaN            NaN                       NaN   \n",
       "freq              NaN            NaN            NaN                       NaN   \n",
       "first             NaN            NaN            NaN                       NaN   \n",
       "last              NaN            NaN            NaN                       NaN   \n",
       "mean       134.665810       6.556040    1899.156901              3.457955e+03   \n",
       "std          8.962237      16.976779     291.797469              2.759026e+04   \n",
       "min        121.000000       0.000000    1000.000000              0.000000e+00   \n",
       "25%        132.000000       1.000000    1985.000000              0.000000e+00   \n",
       "50%        132.000000       2.000000    1995.000000              0.000000e+00   \n",
       "75%        136.000000       4.000000    2000.000000              3.025000e+03   \n",
       "max        172.000000      99.000000    2013.000000              2.483300e+06   \n",
       "\n",
       "       UsageBand             saledate fiModelDesc fiBaseModel fiSecondaryDesc  \\\n",
       "count      69639               401125      401125      401125          263934   \n",
       "unique         3                 3919        4999        1950             175   \n",
       "top       Medium  2009-02-16 00:00:00        310G         580               C   \n",
       "freq       33985                 1932        5039       19798           43235   \n",
       "first        NaN  1989-01-17 00:00:00         NaN         NaN             NaN   \n",
       "last         NaN  2011-12-30 00:00:00         NaN         NaN             NaN   \n",
       "mean         NaN                  NaN         NaN         NaN             NaN   \n",
       "std          NaN                  NaN         NaN         NaN             NaN   \n",
       "min          NaN                  NaN         NaN         NaN             NaN   \n",
       "25%          NaN                  NaN         NaN         NaN             NaN   \n",
       "50%          NaN                  NaN         NaN         NaN             NaN   \n",
       "75%          NaN                  NaN         NaN         NaN             NaN   \n",
       "max          NaN                  NaN         NaN         NaN             NaN   \n",
       "\n",
       "       fiModelSeries fiModelDescriptor ProductSize  \\\n",
       "count          56908             71919      190350   \n",
       "unique           122               139           6   \n",
       "top               II                 L      Medium   \n",
       "freq           13202             15875       62274   \n",
       "first            NaN               NaN         NaN   \n",
       "last             NaN               NaN         NaN   \n",
       "mean             NaN               NaN         NaN   \n",
       "std              NaN               NaN         NaN   \n",
       "min              NaN               NaN         NaN   \n",
       "25%              NaN               NaN         NaN   \n",
       "50%              NaN               NaN         NaN   \n",
       "75%              NaN               NaN         NaN   \n",
       "max              NaN               NaN         NaN   \n",
       "\n",
       "                                       fiProductClassDesc    state  \\\n",
       "count                                              401125   401125   \n",
       "unique                                                 74       53   \n",
       "top     Backhoe Loader - 14.0 to 15.0 Ft Standard Digg...  Florida   \n",
       "freq                                                56166    63944   \n",
       "first                                                 NaN      NaN   \n",
       "last                                                  NaN      NaN   \n",
       "mean                                                  NaN      NaN   \n",
       "std                                                   NaN      NaN   \n",
       "min                                                   NaN      NaN   \n",
       "25%                                                   NaN      NaN   \n",
       "50%                                                   NaN      NaN   \n",
       "75%                                                   NaN      NaN   \n",
       "max                                                   NaN      NaN   \n",
       "\n",
       "       ProductGroup  ProductGroupDesc     Drive_System Enclosure  \\\n",
       "count        401125            401125           104361    400800   \n",
       "unique            6                 6                4         6   \n",
       "top             TEX  Track Excavators  Two Wheel Drive     OROPS   \n",
       "freq         101167            101167            46139    173932   \n",
       "first           NaN               NaN              NaN       NaN   \n",
       "last            NaN               NaN              NaN       NaN   \n",
       "mean            NaN               NaN              NaN       NaN   \n",
       "std             NaN               NaN              NaN       NaN   \n",
       "min             NaN               NaN              NaN       NaN   \n",
       "25%             NaN               NaN              NaN       NaN   \n",
       "50%             NaN               NaN              NaN       NaN   \n",
       "75%             NaN               NaN              NaN       NaN   \n",
       "max             NaN               NaN              NaN       NaN   \n",
       "\n",
       "                      Forks             Pad_Type Ride_Control     Stick  \\\n",
       "count                192077                79134       148606     79134   \n",
       "unique                    2                    4            3         2   \n",
       "top     None or Unspecified  None or Unspecified           No  Standard   \n",
       "freq                 178300                70614        77685     48829   \n",
       "first                   NaN                  NaN          NaN       NaN   \n",
       "last                    NaN                  NaN          NaN       NaN   \n",
       "mean                    NaN                  NaN          NaN       NaN   \n",
       "std                     NaN                  NaN          NaN       NaN   \n",
       "min                     NaN                  NaN          NaN       NaN   \n",
       "25%                     NaN                  NaN          NaN       NaN   \n",
       "50%                     NaN                  NaN          NaN       NaN   \n",
       "75%                     NaN                  NaN          NaN       NaN   \n",
       "max                     NaN                  NaN          NaN       NaN   \n",
       "\n",
       "       Transmission         Turbocharged      Blade_Extension Blade_Width  \\\n",
       "count        183230                79134                25219       25219   \n",
       "unique            8                    2                    2           6   \n",
       "top        Standard  None or Unspecified  None or Unspecified         14'   \n",
       "freq         140328                75211                24692        9615   \n",
       "first           NaN                  NaN                  NaN         NaN   \n",
       "last            NaN                  NaN                  NaN         NaN   \n",
       "mean            NaN                  NaN                  NaN         NaN   \n",
       "std             NaN                  NaN                  NaN         NaN   \n",
       "min             NaN                  NaN                  NaN         NaN   \n",
       "25%             NaN                  NaN                  NaN         NaN   \n",
       "50%             NaN                  NaN                  NaN         NaN   \n",
       "75%             NaN                  NaN                  NaN         NaN   \n",
       "max             NaN                  NaN                  NaN         NaN   \n",
       "\n",
       "             Enclosure_Type Engine_Horsepower Hydraulics            Pushblock  \\\n",
       "count                 25219             25219     320570                25219   \n",
       "unique                    3                 2         12                    2   \n",
       "top     None or Unspecified                No    2 Valve  None or Unspecified   \n",
       "freq                  21923             23937     141404                19463   \n",
       "first                   NaN               NaN        NaN                  NaN   \n",
       "last                    NaN               NaN        NaN                  NaN   \n",
       "mean                    NaN               NaN        NaN                  NaN   \n",
       "std                     NaN               NaN        NaN                  NaN   \n",
       "min                     NaN               NaN        NaN                  NaN   \n",
       "25%                     NaN               NaN        NaN                  NaN   \n",
       "50%                     NaN               NaN        NaN                  NaN   \n",
       "75%                     NaN               NaN        NaN                  NaN   \n",
       "max                     NaN               NaN        NaN                  NaN   \n",
       "\n",
       "                     Ripper            Scarifier          Tip_Control  \\\n",
       "count                104137                25230                25219   \n",
       "unique                    4                    2                    3   \n",
       "top     None or Unspecified  None or Unspecified  None or Unspecified   \n",
       "freq                  83452                12719                16207   \n",
       "first                   NaN                  NaN                  NaN   \n",
       "last                    NaN                  NaN                  NaN   \n",
       "mean                    NaN                  NaN                  NaN   \n",
       "std                     NaN                  NaN                  NaN   \n",
       "min                     NaN                  NaN                  NaN   \n",
       "25%                     NaN                  NaN                  NaN   \n",
       "50%                     NaN                  NaN                  NaN   \n",
       "75%                     NaN                  NaN                  NaN   \n",
       "max                     NaN                  NaN                  NaN   \n",
       "\n",
       "                  Tire_Size              Coupler       Coupler_System  \\\n",
       "count                 94718               213952                43458   \n",
       "unique                   17                    3                    2   \n",
       "top     None or Unspecified  None or Unspecified  None or Unspecified   \n",
       "freq                  46339               184582                40430   \n",
       "first                   NaN                  NaN                  NaN   \n",
       "last                    NaN                  NaN                  NaN   \n",
       "mean                    NaN                  NaN                  NaN   \n",
       "std                     NaN                  NaN                  NaN   \n",
       "min                     NaN                  NaN                  NaN   \n",
       "25%                     NaN                  NaN                  NaN   \n",
       "50%                     NaN                  NaN                  NaN   \n",
       "75%                     NaN                  NaN                  NaN   \n",
       "max                     NaN                  NaN                  NaN   \n",
       "\n",
       "             Grouser_Tracks Hydraulics_Flow Track_Type  \\\n",
       "count                 43362           43362      99153   \n",
       "unique                    2               3          2   \n",
       "top     None or Unspecified        Standard      Steel   \n",
       "freq                  40515           42784      84880   \n",
       "first                   NaN             NaN        NaN   \n",
       "last                    NaN             NaN        NaN   \n",
       "mean                    NaN             NaN        NaN   \n",
       "std                     NaN             NaN        NaN   \n",
       "min                     NaN             NaN        NaN   \n",
       "25%                     NaN             NaN        NaN   \n",
       "50%                     NaN             NaN        NaN   \n",
       "75%                     NaN             NaN        NaN   \n",
       "max                     NaN             NaN        NaN   \n",
       "\n",
       "       Undercarriage_Pad_Width         Stick_Length                Thumb  \\\n",
       "count                    99872                99218                99288   \n",
       "unique                      19                   29                    3   \n",
       "top        None or Unspecified  None or Unspecified  None or Unspecified   \n",
       "freq                     79651                78820                83093   \n",
       "first                      NaN                  NaN                  NaN   \n",
       "last                       NaN                  NaN                  NaN   \n",
       "mean                       NaN                  NaN                  NaN   \n",
       "std                        NaN                  NaN                  NaN   \n",
       "min                        NaN                  NaN                  NaN   \n",
       "25%                        NaN                  NaN                  NaN   \n",
       "50%                        NaN                  NaN                  NaN   \n",
       "75%                        NaN                  NaN                  NaN   \n",
       "max                        NaN                  NaN                  NaN   \n",
       "\n",
       "            Pattern_Changer Grouser_Type     Backhoe_Mounting Blade_Type  \\\n",
       "count                 99218        99153                78672      79833   \n",
       "unique                    3            3                    2         10   \n",
       "top     None or Unspecified       Double  None or Unspecified        PAT   \n",
       "freq                  90255        84653                78652      38612   \n",
       "first                   NaN          NaN                  NaN        NaN   \n",
       "last                    NaN          NaN                  NaN        NaN   \n",
       "mean                    NaN          NaN                  NaN        NaN   \n",
       "std                     NaN          NaN                  NaN        NaN   \n",
       "min                     NaN          NaN                  NaN        NaN   \n",
       "25%                     NaN          NaN                  NaN        NaN   \n",
       "50%                     NaN          NaN                  NaN        NaN   \n",
       "75%                     NaN          NaN                  NaN        NaN   \n",
       "max                     NaN          NaN                  NaN        NaN   \n",
       "\n",
       "            Travel_Controls Differential_Type Steering_Controls  \n",
       "count                 79834             69411             69369  \n",
       "unique                    7                 4                 5  \n",
       "top     None or Unspecified          Standard      Conventional  \n",
       "freq                  69923             68073             68679  \n",
       "first                   NaN               NaN               NaN  \n",
       "last                    NaN               NaN               NaN  \n",
       "mean                    NaN               NaN               NaN  \n",
       "std                     NaN               NaN               NaN  \n",
       "min                     NaN               NaN               NaN  \n",
       "25%                     NaN               NaN               NaN  \n",
       "50%                     NaN               NaN               NaN  \n",
       "75%                     NaN               NaN               NaN  \n",
       "max                     NaN               NaN               NaN  "
      ]
     },
     "metadata": {},
     "output_type": "display_data"
    }
   ],
   "source": [
    "display_all(df_raw.describe(include='all'))"
   ]
  },
  {
   "cell_type": "code",
   "execution_count": 10,
   "metadata": {},
   "outputs": [
    {
     "data": {
      "text/plain": [
       "SalesID                              int64\n",
       "SalePrice                            int64\n",
       "MachineID                            int64\n",
       "ModelID                              int64\n",
       "datasource                           int64\n",
       "auctioneerID                       float64\n",
       "YearMade                             int64\n",
       "MachineHoursCurrentMeter           float64\n",
       "UsageBand                           object\n",
       "saledate                    datetime64[ns]\n",
       "fiModelDesc                         object\n",
       "fiBaseModel                         object\n",
       "fiSecondaryDesc                     object\n",
       "fiModelSeries                       object\n",
       "fiModelDescriptor                   object\n",
       "ProductSize                         object\n",
       "fiProductClassDesc                  object\n",
       "state                               object\n",
       "ProductGroup                        object\n",
       "ProductGroupDesc                    object\n",
       "Drive_System                        object\n",
       "Enclosure                           object\n",
       "Forks                               object\n",
       "Pad_Type                            object\n",
       "Ride_Control                        object\n",
       "Stick                               object\n",
       "Transmission                        object\n",
       "Turbocharged                        object\n",
       "Blade_Extension                     object\n",
       "Blade_Width                         object\n",
       "Enclosure_Type                      object\n",
       "Engine_Horsepower                   object\n",
       "Hydraulics                          object\n",
       "Pushblock                           object\n",
       "Ripper                              object\n",
       "Scarifier                           object\n",
       "Tip_Control                         object\n",
       "Tire_Size                           object\n",
       "Coupler                             object\n",
       "Coupler_System                      object\n",
       "Grouser_Tracks                      object\n",
       "Hydraulics_Flow                     object\n",
       "Track_Type                          object\n",
       "Undercarriage_Pad_Width             object\n",
       "Stick_Length                        object\n",
       "Thumb                               object\n",
       "Pattern_Changer                     object\n",
       "Grouser_Type                        object\n",
       "Backhoe_Mounting                    object\n",
       "Blade_Type                          object\n",
       "Travel_Controls                     object\n",
       "Differential_Type                   object\n",
       "Steering_Controls                   object\n",
       "dtype: object"
      ]
     },
     "metadata": {},
     "output_type": "display_data"
    }
   ],
   "source": [
    "display_all(df_raw.dtypes)"
   ]
  },
  {
   "cell_type": "markdown",
   "metadata": {},
   "source": [
    "It's important to note what metric is being used for a project. Generally, selecting the metric(s) is an important part of the project setup. However, in this case Kaggle tells us what metric to use: RMSLE (root mean squared log error) between the actual and predicted auction prices. Therefore we take the log of the prices, so that RMSE will give us what we need."
   ]
  },
  {
   "cell_type": "code",
   "execution_count": 11,
   "metadata": {},
   "outputs": [],
   "source": [
    "df_raw.SalePrice = np.log(df_raw.SalePrice) # replace sales price with it's log"
   ]
  },
  {
   "cell_type": "code",
   "execution_count": 12,
   "metadata": {},
   "outputs": [
    {
     "name": "stdout",
     "output_type": "stream",
     "text": [
      "(401125, 53)\n"
     ]
    },
    {
     "data": {
      "text/plain": [
       "dtype('float64')"
      ]
     },
     "execution_count": 12,
     "metadata": {},
     "output_type": "execute_result"
    }
   ],
   "source": [
    "print(df_raw.shape)\n",
    "df_raw.SalePrice.dtypes"
   ]
  },
  {
   "cell_type": "markdown",
   "metadata": {},
   "source": [
    "### Initial processing"
   ]
  },
  {
   "cell_type": "code",
   "execution_count": 13,
   "metadata": {},
   "outputs": [
    {
     "name": "stderr",
     "output_type": "stream",
     "text": [
      "/home/theboymo/miniconda3/envs/fastai/lib/python3.6/site-packages/sklearn/ensemble/forest.py:246: FutureWarning: The default value of n_estimators will change from 10 in version 0.20 to 100 in 0.22.\n",
      "  \"10 in version 0.20 to 100 in 0.22.\", FutureWarning)\n"
     ]
    },
    {
     "name": "stdout",
     "output_type": "stream",
     "text": [
      "could not convert string to float: 'Low'\n"
     ]
    }
   ],
   "source": [
    "try:\n",
    "    m = RandomForestRegressor(n_jobs=-1) # sklearn module  \n",
    "    # The following code is supposed to fail due to string values in the input data\n",
    "    m.fit(df_raw.drop('SalePrice', axis=1), df_raw.SalePrice)\n",
    "except Exception as error:\n",
    "    print(error)"
   ]
  },
  {
   "cell_type": "markdown",
   "metadata": {},
   "source": [
    "This dataset contains a mix of **continuous** and **categorical** variables. Random Forests require all variables to be numbers.\n",
    "\n",
    "The following method **extracts particular date fields from a complete datetime for the purpose of constructing categoricals**.  You should always consider this feature extraction step when working with date-time. Without expanding your date-time into these additional fields, you can't capture any trend/cyclical behavior as a function of time at any of these granularities."
   ]
  },
  {
   "cell_type": "code",
   "execution_count": 14,
   "metadata": {},
   "outputs": [
    {
     "data": {
      "text/plain": [
       "0    2006\n",
       "1    2004\n",
       "2    2004\n",
       "3    2011\n",
       "4    2009\n",
       "Name: saleYear, dtype: int64"
      ]
     },
     "execution_count": 14,
     "metadata": {},
     "output_type": "execute_result"
    }
   ],
   "source": [
    "add_datepart(df_raw, 'saledate')\n",
    "df_raw.saleYear.head()"
   ]
  },
  {
   "cell_type": "code",
   "execution_count": 15,
   "metadata": {},
   "outputs": [
    {
     "name": "stdout",
     "output_type": "stream",
     "text": [
      "(401125, 65)\n"
     ]
    },
    {
     "data": {
      "text/plain": [
       "Index(['SalesID', 'SalePrice', 'MachineID', 'ModelID', 'datasource',\n",
       "       'auctioneerID', 'YearMade', 'MachineHoursCurrentMeter', 'UsageBand',\n",
       "       'fiModelDesc', 'fiBaseModel', 'fiSecondaryDesc', 'fiModelSeries',\n",
       "       'fiModelDescriptor', 'ProductSize', 'fiProductClassDesc', 'state',\n",
       "       'ProductGroup', 'ProductGroupDesc', 'Drive_System', 'Enclosure',\n",
       "       'Forks', 'Pad_Type', 'Ride_Control', 'Stick', 'Transmission',\n",
       "       'Turbocharged', 'Blade_Extension', 'Blade_Width', 'Enclosure_Type',\n",
       "       'Engine_Horsepower', 'Hydraulics', 'Pushblock', 'Ripper', 'Scarifier',\n",
       "       'Tip_Control', 'Tire_Size', 'Coupler', 'Coupler_System',\n",
       "       'Grouser_Tracks', 'Hydraulics_Flow', 'Track_Type',\n",
       "       'Undercarriage_Pad_Width', 'Stick_Length', 'Thumb', 'Pattern_Changer',\n",
       "       'Grouser_Type', 'Backhoe_Mounting', 'Blade_Type', 'Travel_Controls',\n",
       "       'Differential_Type', 'Steering_Controls', 'saleYear', 'saleMonth',\n",
       "       'saleWeek', 'saleDay', 'saleDayofweek', 'saleDayofyear',\n",
       "       'saleIs_month_end', 'saleIs_month_start', 'saleIs_quarter_end',\n",
       "       'saleIs_quarter_start', 'saleIs_year_end', 'saleIs_year_start',\n",
       "       'saleElapsed'],\n",
       "      dtype='object')"
      ]
     },
     "execution_count": 15,
     "metadata": {},
     "output_type": "execute_result"
    }
   ],
   "source": [
    "print(df_raw.shape)\n",
    "df_raw.columns # added a series of datetime columns"
   ]
  },
  {
   "cell_type": "markdown",
   "metadata": {},
   "source": [
    "An additional 12 date related columns have been added, such as `saleDay`, `saleWeek`, `saleMonth`, `saleYear`, `saleDayofweek`, `saleDayofyear`, etc."
   ]
  },
  {
   "cell_type": "markdown",
   "metadata": {},
   "source": [
    "The categorical variables are currently stored as strings, which is inefficient, and doesn't provide the numeric coding required for a random forest. Therefore we call `train_cats` to convert strings to pandas categories."
   ]
  },
  {
   "cell_type": "code",
   "execution_count": 16,
   "metadata": {},
   "outputs": [],
   "source": [
    "# Change any columns of strings in a panda's dataframe to a column \n",
    "# of categorical values.\n",
    "train_cats(df_raw)"
   ]
  },
  {
   "cell_type": "code",
   "execution_count": 17,
   "metadata": {},
   "outputs": [
    {
     "name": "stdout",
     "output_type": "stream",
     "text": [
      "(401125, 65)\n"
     ]
    },
    {
     "data": {
      "text/html": [
       "<div>\n",
       "<style scoped>\n",
       "    .dataframe tbody tr th:only-of-type {\n",
       "        vertical-align: middle;\n",
       "    }\n",
       "\n",
       "    .dataframe tbody tr th {\n",
       "        vertical-align: top;\n",
       "    }\n",
       "\n",
       "    .dataframe thead th {\n",
       "        text-align: right;\n",
       "    }\n",
       "</style>\n",
       "<table border=\"1\" class=\"dataframe\">\n",
       "  <thead>\n",
       "    <tr style=\"text-align: right;\">\n",
       "      <th></th>\n",
       "      <th>SalesID</th>\n",
       "      <th>SalePrice</th>\n",
       "      <th>MachineID</th>\n",
       "      <th>ModelID</th>\n",
       "      <th>datasource</th>\n",
       "      <th>auctioneerID</th>\n",
       "      <th>YearMade</th>\n",
       "      <th>MachineHoursCurrentMeter</th>\n",
       "      <th>UsageBand</th>\n",
       "      <th>fiModelDesc</th>\n",
       "      <th>...</th>\n",
       "      <th>saleDay</th>\n",
       "      <th>saleDayofweek</th>\n",
       "      <th>saleDayofyear</th>\n",
       "      <th>saleIs_month_end</th>\n",
       "      <th>saleIs_month_start</th>\n",
       "      <th>saleIs_quarter_end</th>\n",
       "      <th>saleIs_quarter_start</th>\n",
       "      <th>saleIs_year_end</th>\n",
       "      <th>saleIs_year_start</th>\n",
       "      <th>saleElapsed</th>\n",
       "    </tr>\n",
       "  </thead>\n",
       "  <tbody>\n",
       "    <tr>\n",
       "      <th>0</th>\n",
       "      <td>1139246</td>\n",
       "      <td>11.097410</td>\n",
       "      <td>999089</td>\n",
       "      <td>3157</td>\n",
       "      <td>121</td>\n",
       "      <td>3.0</td>\n",
       "      <td>2004</td>\n",
       "      <td>68.0</td>\n",
       "      <td>Low</td>\n",
       "      <td>521D</td>\n",
       "      <td>...</td>\n",
       "      <td>16</td>\n",
       "      <td>3</td>\n",
       "      <td>320</td>\n",
       "      <td>False</td>\n",
       "      <td>False</td>\n",
       "      <td>False</td>\n",
       "      <td>False</td>\n",
       "      <td>False</td>\n",
       "      <td>False</td>\n",
       "      <td>1163635200</td>\n",
       "    </tr>\n",
       "    <tr>\n",
       "      <th>1</th>\n",
       "      <td>1139248</td>\n",
       "      <td>10.950807</td>\n",
       "      <td>117657</td>\n",
       "      <td>77</td>\n",
       "      <td>121</td>\n",
       "      <td>3.0</td>\n",
       "      <td>1996</td>\n",
       "      <td>4640.0</td>\n",
       "      <td>Low</td>\n",
       "      <td>950FII</td>\n",
       "      <td>...</td>\n",
       "      <td>26</td>\n",
       "      <td>4</td>\n",
       "      <td>86</td>\n",
       "      <td>False</td>\n",
       "      <td>False</td>\n",
       "      <td>False</td>\n",
       "      <td>False</td>\n",
       "      <td>False</td>\n",
       "      <td>False</td>\n",
       "      <td>1080259200</td>\n",
       "    </tr>\n",
       "    <tr>\n",
       "      <th>2</th>\n",
       "      <td>1139249</td>\n",
       "      <td>9.210340</td>\n",
       "      <td>434808</td>\n",
       "      <td>7009</td>\n",
       "      <td>121</td>\n",
       "      <td>3.0</td>\n",
       "      <td>2001</td>\n",
       "      <td>2838.0</td>\n",
       "      <td>High</td>\n",
       "      <td>226</td>\n",
       "      <td>...</td>\n",
       "      <td>26</td>\n",
       "      <td>3</td>\n",
       "      <td>57</td>\n",
       "      <td>False</td>\n",
       "      <td>False</td>\n",
       "      <td>False</td>\n",
       "      <td>False</td>\n",
       "      <td>False</td>\n",
       "      <td>False</td>\n",
       "      <td>1077753600</td>\n",
       "    </tr>\n",
       "    <tr>\n",
       "      <th>3</th>\n",
       "      <td>1139251</td>\n",
       "      <td>10.558414</td>\n",
       "      <td>1026470</td>\n",
       "      <td>332</td>\n",
       "      <td>121</td>\n",
       "      <td>3.0</td>\n",
       "      <td>2001</td>\n",
       "      <td>3486.0</td>\n",
       "      <td>High</td>\n",
       "      <td>PC120-6E</td>\n",
       "      <td>...</td>\n",
       "      <td>19</td>\n",
       "      <td>3</td>\n",
       "      <td>139</td>\n",
       "      <td>False</td>\n",
       "      <td>False</td>\n",
       "      <td>False</td>\n",
       "      <td>False</td>\n",
       "      <td>False</td>\n",
       "      <td>False</td>\n",
       "      <td>1305763200</td>\n",
       "    </tr>\n",
       "    <tr>\n",
       "      <th>4</th>\n",
       "      <td>1139253</td>\n",
       "      <td>9.305651</td>\n",
       "      <td>1057373</td>\n",
       "      <td>17311</td>\n",
       "      <td>121</td>\n",
       "      <td>3.0</td>\n",
       "      <td>2007</td>\n",
       "      <td>722.0</td>\n",
       "      <td>Medium</td>\n",
       "      <td>S175</td>\n",
       "      <td>...</td>\n",
       "      <td>23</td>\n",
       "      <td>3</td>\n",
       "      <td>204</td>\n",
       "      <td>False</td>\n",
       "      <td>False</td>\n",
       "      <td>False</td>\n",
       "      <td>False</td>\n",
       "      <td>False</td>\n",
       "      <td>False</td>\n",
       "      <td>1248307200</td>\n",
       "    </tr>\n",
       "  </tbody>\n",
       "</table>\n",
       "<p>5 rows × 65 columns</p>\n",
       "</div>"
      ],
      "text/plain": [
       "   SalesID  SalePrice  MachineID  ModelID  datasource  auctioneerID  YearMade  \\\n",
       "0  1139246  11.097410     999089     3157         121           3.0      2004   \n",
       "1  1139248  10.950807     117657       77         121           3.0      1996   \n",
       "2  1139249   9.210340     434808     7009         121           3.0      2001   \n",
       "3  1139251  10.558414    1026470      332         121           3.0      2001   \n",
       "4  1139253   9.305651    1057373    17311         121           3.0      2007   \n",
       "\n",
       "   MachineHoursCurrentMeter UsageBand fiModelDesc  ... saleDay saleDayofweek  \\\n",
       "0                      68.0       Low        521D  ...      16             3   \n",
       "1                    4640.0       Low      950FII  ...      26             4   \n",
       "2                    2838.0      High         226  ...      26             3   \n",
       "3                    3486.0      High    PC120-6E  ...      19             3   \n",
       "4                     722.0    Medium        S175  ...      23             3   \n",
       "\n",
       "  saleDayofyear saleIs_month_end saleIs_month_start saleIs_quarter_end  \\\n",
       "0           320            False              False              False   \n",
       "1            86            False              False              False   \n",
       "2            57            False              False              False   \n",
       "3           139            False              False              False   \n",
       "4           204            False              False              False   \n",
       "\n",
       "  saleIs_quarter_start saleIs_year_end saleIs_year_start saleElapsed  \n",
       "0                False           False             False  1163635200  \n",
       "1                False           False             False  1080259200  \n",
       "2                False           False             False  1077753600  \n",
       "3                False           False             False  1305763200  \n",
       "4                False           False             False  1248307200  \n",
       "\n",
       "[5 rows x 65 columns]"
      ]
     },
     "execution_count": 17,
     "metadata": {},
     "output_type": "execute_result"
    }
   ],
   "source": [
    "print(df_raw.shape)\n",
    "df_raw.head()"
   ]
  },
  {
   "cell_type": "code",
   "execution_count": 18,
   "metadata": {
    "scrolled": false
   },
   "outputs": [
    {
     "data": {
      "text/plain": [
       "array([dtype('int64'), dtype('float64'),\n",
       "       CategoricalDtype(categories=['High', 'Low', 'Medium'], ordered=True),\n",
       "       CategoricalDtype(categories=['100C', '104', '1066', '1066E', '1080', '1080B', '1088',\n",
       "                  '1088CK', '1088LT', '1088TTL',\n",
       "                  ...\n",
       "                  'ZX600LC', 'ZX70', 'ZX75', 'ZX75US', 'ZX75USA', 'ZX80',\n",
       "                  'ZX800', 'ZX800LC', 'ZX80LCK', 'ZX850H'],\n",
       "                 ordered=True),\n",
       "       CategoricalDtype(categories=['10', '100', '104', '1066', '1080', '1088', '10DG', '11',\n",
       "                  '110', '1105',\n",
       "                  ...\n",
       "                  'ZX370', 'ZX450', 'ZX460', 'ZX50', 'ZX600', 'ZX70', 'ZX75',\n",
       "                  'ZX80', 'ZX800', 'ZX850'],\n",
       "                 ordered=True),\n",
       "       CategoricalDtype(categories=[' MSR SPIN ACE', '#NAME?', '-2', '-3', '-5', '-5L', '-6',\n",
       "                  '-7', '0.7', '1',\n",
       "                  ...\n",
       "                  'XP', 'XT', 'Z', 'ZF', 'ZHS', 'ZHS G', 'ZT', 'ZTM', 'ZTS',\n",
       "                  'ZX'],\n",
       "                 ordered=True),\n",
       "       CategoricalDtype(categories=[' III', '#NAME?', '-1', '-1.50E+01', '-11', '-12', '-15',\n",
       "                  '-16', '-17', '-18',\n",
       "                  ...\n",
       "                  'V-2', 'VHP', 'VI', 'WT', 'WX', 'XLT', 'XT', 'ZHS', 'ZTS',\n",
       "                  'ZX'],\n",
       "                 ordered=True),\n",
       "       CategoricalDtype(categories=[' 14FT', ' LGP', ' SUPER', ' XLT', ' XT', ' ZX',\n",
       "                  '(BLADE RUNNER)', '1', '2', '2.00E+00',\n",
       "                  ...\n",
       "                  'XLVP', 'XP', 'XR', 'XT', 'XTV', 'XW', 'Y', 'Z', 'ZTS',\n",
       "                  'ZX'],\n",
       "                 ordered=True),\n",
       "       CategoricalDtype(categories=['Compact', 'Large', 'Large / Medium', 'Medium', 'Mini',\n",
       "                  'Small'],\n",
       "                 ordered=True),\n",
       "       CategoricalDtype(categories=['Backhoe Loader - 0.0 to 14.0 Ft Standard Digging Depth',\n",
       "                  'Backhoe Loader - 14.0 to 15.0 Ft Standard Digging Depth',\n",
       "                  'Backhoe Loader - 15.0 to 16.0 Ft Standard Digging Depth',\n",
       "                  'Backhoe Loader - 16.0 + Ft Standard Digging Depth',\n",
       "                  'Backhoe Loader - Unidentified',\n",
       "                  'Hydraulic Excavator, Track - 0.0 to 2.0 Metric Tons',\n",
       "                  'Hydraulic Excavator, Track - 11.0 to 12.0 Metric Tons',\n",
       "                  'Hydraulic Excavator, Track - 12.0 to 14.0 Metric Tons',\n",
       "                  'Hydraulic Excavator, Track - 14.0 to 16.0 Metric Tons',\n",
       "                  'Hydraulic Excavator, Track - 150.0 to 300.0 Metric Tons',\n",
       "                  'Hydraulic Excavator, Track - 16.0 to 19.0 Metric Tons',\n",
       "                  'Hydraulic Excavator, Track - 19.0 to 21.0 Metric Tons',\n",
       "                  'Hydraulic Excavator, Track - 2.0 to 3.0 Metric Tons',\n",
       "                  'Hydraulic Excavator, Track - 21.0 to 24.0 Metric Tons',\n",
       "                  'Hydraulic Excavator, Track - 24.0 to 28.0 Metric Tons',\n",
       "                  'Hydraulic Excavator, Track - 28.0 to 33.0 Metric Tons',\n",
       "                  'Hydraulic Excavator, Track - 3.0 to 4.0 Metric Tons',\n",
       "                  'Hydraulic Excavator, Track - 300.0 + Metric Tons',\n",
       "                  'Hydraulic Excavator, Track - 33.0 to 40.0 Metric Tons',\n",
       "                  'Hydraulic Excavator, Track - 4.0 to 5.0 Metric Tons',\n",
       "                  'Hydraulic Excavator, Track - 4.0 to 6.0 Metric Tons',\n",
       "                  'Hydraulic Excavator, Track - 40.0 to 50.0 Metric Tons',\n",
       "                  'Hydraulic Excavator, Track - 5.0 to 6.0 Metric Tons',\n",
       "                  'Hydraulic Excavator, Track - 50.0 to 66.0 Metric Tons',\n",
       "                  'Hydraulic Excavator, Track - 6.0 to 8.0 Metric Tons',\n",
       "                  'Hydraulic Excavator, Track - 66.0 to 90.0 Metric Tons',\n",
       "                  'Hydraulic Excavator, Track - 8.0 to 11.0 Metric Tons',\n",
       "                  'Hydraulic Excavator, Track - 90.0 to 150.0 Metric Tons',\n",
       "                  'Hydraulic Excavator, Track - Unidentified',\n",
       "                  'Hydraulic Excavator, Track - Unidentified (Compact Construction)',\n",
       "                  'Motorgrader - 130.0 to 145.0 Horsepower',\n",
       "                  'Motorgrader - 145.0 to 170.0 Horsepower',\n",
       "                  'Motorgrader - 170.0 to 200.0 Horsepower',\n",
       "                  'Motorgrader - 200.0 + Horsepower',\n",
       "                  'Motorgrader - 45.0 to 130.0 Horsepower',\n",
       "                  'Motorgrader - Unidentified',\n",
       "                  'Skid Steer Loader - 0.0 to 701.0 Lb Operating Capacity',\n",
       "                  'Skid Steer Loader - 1251.0 to 1351.0 Lb Operating Capacity',\n",
       "                  'Skid Steer Loader - 1351.0 to 1601.0 Lb Operating Capacity',\n",
       "                  'Skid Steer Loader - 1601.0 to 1751.0 Lb Operating Capacity',\n",
       "                  'Skid Steer Loader - 1751.0 to 2201.0 Lb Operating Capacity',\n",
       "                  'Skid Steer Loader - 2201.0 to 2701.0 Lb Operating Capacity',\n",
       "                  'Skid Steer Loader - 2701.0+ Lb Operating Capacity',\n",
       "                  'Skid Steer Loader - 701.0 to 976.0 Lb Operating Capacity',\n",
       "                  'Skid Steer Loader - 976.0 to 1251.0 Lb Operating Capacity',\n",
       "                  'Skid Steer Loader - Unidentified',\n",
       "                  'Track Type Tractor, Dozer - 105.0 to 130.0 Horsepower',\n",
       "                  'Track Type Tractor, Dozer - 130.0 to 160.0 Horsepower',\n",
       "                  'Track Type Tractor, Dozer - 160.0 to 190.0 Horsepower',\n",
       "                  'Track Type Tractor, Dozer - 190.0 to 260.0 Horsepower',\n",
       "                  'Track Type Tractor, Dozer - 20.0 to 75.0 Horsepower',\n",
       "                  'Track Type Tractor, Dozer - 260.0 + Horsepower',\n",
       "                  'Track Type Tractor, Dozer - 75.0 to 85.0 Horsepower',\n",
       "                  'Track Type Tractor, Dozer - 85.0 to 105.0 Horsepower',\n",
       "                  'Track Type Tractor, Dozer - Unidentified',\n",
       "                  'Wheel Loader - 0.0 to 40.0 Horsepower',\n",
       "                  'Wheel Loader - 100.0 to 110.0 Horsepower',\n",
       "                  'Wheel Loader - 1000.0 + Horsepower',\n",
       "                  'Wheel Loader - 110.0 to 120.0 Horsepower',\n",
       "                  'Wheel Loader - 120.0 to 135.0 Horsepower',\n",
       "                  'Wheel Loader - 135.0 to 150.0 Horsepower',\n",
       "                  'Wheel Loader - 150.0 to 175.0 Horsepower',\n",
       "                  'Wheel Loader - 175.0 to 200.0 Horsepower',\n",
       "                  'Wheel Loader - 200.0 to 225.0 Horsepower',\n",
       "                  'Wheel Loader - 225.0 to 250.0 Horsepower',\n",
       "                  'Wheel Loader - 250.0 to 275.0 Horsepower',\n",
       "                  'Wheel Loader - 275.0 to 350.0 Horsepower',\n",
       "                  'Wheel Loader - 350.0 to 500.0 Horsepower',\n",
       "                  'Wheel Loader - 40.0 to 60.0 Horsepower',\n",
       "                  'Wheel Loader - 500.0 to 1000.0 Horsepower',\n",
       "                  'Wheel Loader - 60.0 to 80.0 Horsepower',\n",
       "                  'Wheel Loader - 80.0 to 90.0 Horsepower',\n",
       "                  'Wheel Loader - 90.0 to 100.0 Horsepower',\n",
       "                  'Wheel Loader - Unidentified'],\n",
       "                 ordered=True),\n",
       "       CategoricalDtype(categories=['Alabama', 'Alaska', 'Arizona', 'Arkansas', 'California',\n",
       "                  'Colorado', 'Connecticut', 'Delaware', 'Florida', 'Georgia',\n",
       "                  'Hawaii', 'Idaho', 'Illinois', 'Indiana', 'Iowa', 'Kansas',\n",
       "                  'Kentucky', 'Louisiana', 'Maine', 'Maryland',\n",
       "                  'Massachusetts', 'Michigan', 'Minnesota', 'Mississippi',\n",
       "                  'Missouri', 'Montana', 'Nebraska', 'Nevada', 'New Hampshire',\n",
       "                  'New Jersey', 'New Mexico', 'New York', 'North Carolina',\n",
       "                  'North Dakota', 'Ohio', 'Oklahoma', 'Oregon', 'Pennsylvania',\n",
       "                  'Puerto Rico', 'Rhode Island', 'South Carolina',\n",
       "                  'South Dakota', 'Tennessee', 'Texas', 'Unspecified', 'Utah',\n",
       "                  'Vermont', 'Virginia', 'Washington', 'Washington DC',\n",
       "                  'West Virginia', 'Wisconsin', 'Wyoming'],\n",
       "                 ordered=True),\n",
       "       CategoricalDtype(categories=['BL', 'MG', 'SSL', 'TEX', 'TTT', 'WL'], ordered=True),\n",
       "       CategoricalDtype(categories=['Backhoe Loaders', 'Motor Graders', 'Skid Steer Loaders',\n",
       "                  'Track Excavators', 'Track Type Tractors', 'Wheel Loader'],\n",
       "                 ordered=True),\n",
       "       CategoricalDtype(categories=['All Wheel Drive', 'Four Wheel Drive', 'No',\n",
       "                  'Two Wheel Drive'],\n",
       "                 ordered=True),\n",
       "       CategoricalDtype(categories=['EROPS', 'EROPS AC', 'EROPS w AC', 'NO ROPS',\n",
       "                  'None or Unspecified', 'OROPS'],\n",
       "                 ordered=True),\n",
       "       CategoricalDtype(categories=['None or Unspecified', 'Yes'], ordered=True),\n",
       "       CategoricalDtype(categories=['Grouser', 'None or Unspecified', 'Reversible', 'Street'], ordered=True),\n",
       "       CategoricalDtype(categories=['No', 'None or Unspecified', 'Yes'], ordered=True),\n",
       "       CategoricalDtype(categories=['Extended', 'Standard'], ordered=True),\n",
       "       CategoricalDtype(categories=['AutoShift', 'Autoshift', 'Direct Drive', 'Hydrostatic',\n",
       "                  'None or Unspecified', 'Powershift', 'Powershuttle',\n",
       "                  'Standard'],\n",
       "                 ordered=True),\n",
       "       CategoricalDtype(categories=['12'', '13'', '14'', '16'', '<12'', 'None or Unspecified'], ordered=True),\n",
       "       CategoricalDtype(categories=['High Profile', 'Low Profile', 'None or Unspecified'], ordered=True),\n",
       "       CategoricalDtype(categories=['No', 'Variable'], ordered=True),\n",
       "       CategoricalDtype(categories=['2 Valve', '3 Valve', '4 Valve', 'Auxiliary',\n",
       "                  'Base + 1 Function', 'Base + 2 Function',\n",
       "                  'Base + 3 Function', 'Base + 4 Function',\n",
       "                  'Base + 5 Function', 'Base + 6 Function',\n",
       "                  'None or Unspecified', 'Standard'],\n",
       "                 ordered=True),\n",
       "       CategoricalDtype(categories=['Multi Shank', 'None or Unspecified', 'Single Shank', 'Yes'], ordered=True),\n",
       "       CategoricalDtype(categories=['None or Unspecified', 'Sideshift & Tip', 'Tip'], ordered=True),\n",
       "       CategoricalDtype(categories=['10 inch', '10\"', '13\"', '14\"', '15.5', '15.5\"', '17.5',\n",
       "                  '17.5\"', '20.5', '20.5\"', '23.1\"', '23.5', '23.5\"', '26.5',\n",
       "                  '29.5', '7.0\"', 'None or Unspecified'],\n",
       "                 ordered=True),\n",
       "       CategoricalDtype(categories=['Hydraulic', 'Manual', 'None or Unspecified'], ordered=True),\n",
       "       CategoricalDtype(categories=['High Flow', 'None or Unspecified', 'Standard'], ordered=True),\n",
       "       CategoricalDtype(categories=['Rubber', 'Steel'], ordered=True),\n",
       "       CategoricalDtype(categories=['14 inch', '15 inch', '16 inch', '18 inch', '20 inch',\n",
       "                  '22 inch', '24 inch', '25 inch', '26 inch', '27 inch',\n",
       "                  '28 inch', '30 inch', '31 inch', '31.5 inch', '32 inch',\n",
       "                  '33 inch', '34 inch', '36 inch', 'None or Unspecified'],\n",
       "                 ordered=True),\n",
       "       CategoricalDtype(categories=['10' 10\"', '10' 2\"', '10' 6\"', '11' 0\"', '11' 10\"',\n",
       "                  '12' 10\"', '12' 4\"', '12' 8\"', '13' 10\"', '13' 7\"', '13' 9\"',\n",
       "                  '14' 1\"', '15' 4\"', '15' 9\"', '19' 8\"', '24' 3\"', '6' 3\"',\n",
       "                  '7' 10\"', '8' 10\"', '8' 2\"', '8' 4\"', '8' 6\"', '9' 10\"',\n",
       "                  '9' 2\"', '9' 5\"', '9' 6\"', '9' 7\"', '9' 8\"',\n",
       "                  'None or Unspecified'],\n",
       "                 ordered=True),\n",
       "       CategoricalDtype(categories=['Double', 'Single', 'Triple'], ordered=True),\n",
       "       CategoricalDtype(categories=['Angle', 'Coal', 'Landfill', 'No', 'None or Unspecified',\n",
       "                  'PAT', 'Semi U', 'Straight', 'U', 'VPAT'],\n",
       "                 ordered=True),\n",
       "       CategoricalDtype(categories=['1 Speed', '2 Pedal', 'Differential Steer', 'Finger Tip',\n",
       "                  'Lever', 'None or Unspecified', 'Pedal'],\n",
       "                 ordered=True),\n",
       "       CategoricalDtype(categories=['Limited Slip', 'Locking', 'No Spin', 'Standard'], ordered=True),\n",
       "       CategoricalDtype(categories=['Command Control', 'Conventional', 'Four Wheel Standard',\n",
       "                  'No', 'Wheel'],\n",
       "                 ordered=True),\n",
       "       dtype('bool')], dtype=object)"
      ]
     },
     "execution_count": 18,
     "metadata": {},
     "output_type": "execute_result"
    }
   ],
   "source": [
    "df_raw.dtypes.unique()"
   ]
  },
  {
   "cell_type": "markdown",
   "metadata": {},
   "source": [
    "We can specify the order to use for categorical variables if we wish:"
   ]
  },
  {
   "cell_type": "code",
   "execution_count": 19,
   "metadata": {
    "scrolled": true
   },
   "outputs": [
    {
     "data": {
      "text/plain": [
       "[Low, High, Medium, NaN]\n",
       "Categories (3, object): [High < Low < Medium]"
      ]
     },
     "execution_count": 19,
     "metadata": {},
     "output_type": "execute_result"
    }
   ],
   "source": [
    "df_raw.UsageBand.unique()"
   ]
  },
  {
   "cell_type": "markdown",
   "metadata": {},
   "source": [
    "Codes associated with each category."
   ]
  },
  {
   "cell_type": "code",
   "execution_count": 20,
   "metadata": {},
   "outputs": [
    {
     "data": {
      "text/plain": [
       "array([ 1,  0,  2, -1])"
      ]
     },
     "execution_count": 20,
     "metadata": {},
     "output_type": "execute_result"
    }
   ],
   "source": [
    "df_raw.UsageBand.cat.codes.unique()"
   ]
  },
  {
   "cell_type": "code",
   "execution_count": 21,
   "metadata": {},
   "outputs": [
    {
     "data": {
      "text/plain": [
       "Index(['High', 'Low', 'Medium'], dtype='object')"
      ]
     },
     "execution_count": 21,
     "metadata": {},
     "output_type": "execute_result"
    }
   ],
   "source": [
    "df_raw.UsageBand.cat.categories"
   ]
  },
  {
   "cell_type": "markdown",
   "metadata": {},
   "source": [
    "Set the correct order for the categories."
   ]
  },
  {
   "cell_type": "code",
   "execution_count": 22,
   "metadata": {},
   "outputs": [],
   "source": [
    "df_raw.UsageBand.cat.set_categories(['High', 'Medium', 'Low'], ordered=True, inplace=True)"
   ]
  },
  {
   "cell_type": "code",
   "execution_count": 23,
   "metadata": {},
   "outputs": [
    {
     "data": {
      "text/plain": [
       "[Low, High, Medium, NaN]\n",
       "Categories (3, object): [High < Medium < Low]"
      ]
     },
     "execution_count": 23,
     "metadata": {},
     "output_type": "execute_result"
    }
   ],
   "source": [
    "df_raw.UsageBand.unique()"
   ]
  },
  {
   "cell_type": "code",
   "execution_count": 24,
   "metadata": {},
   "outputs": [
    {
     "data": {
      "text/plain": [
       "array([ 2,  0,  1, -1])"
      ]
     },
     "execution_count": 24,
     "metadata": {},
     "output_type": "execute_result"
    }
   ],
   "source": [
    "df_raw.UsageBand.cat.codes.unique() # 0 == high, 1 == medium, 2 == low"
   ]
  },
  {
   "cell_type": "code",
   "execution_count": 25,
   "metadata": {},
   "outputs": [
    {
     "data": {
      "text/plain": [
       "Index(['High', 'Medium', 'Low'], dtype='object')"
      ]
     },
     "execution_count": 25,
     "metadata": {},
     "output_type": "execute_result"
    }
   ],
   "source": [
    "df_raw.UsageBand.cat.categories"
   ]
  },
  {
   "cell_type": "markdown",
   "metadata": {},
   "source": [
    "Normally, pandas will continue displaying the text categories, while treating them as numerical data internally. Optionally, we can replace the text categories with numbers, which will make this variable non-categorical, like so:."
   ]
  },
  {
   "cell_type": "code",
   "execution_count": 26,
   "metadata": {},
   "outputs": [],
   "source": [
    "df_raw.UsageBand = df_raw.UsageBand.cat.codes"
   ]
  },
  {
   "cell_type": "code",
   "execution_count": 27,
   "metadata": {},
   "outputs": [
    {
     "data": {
      "text/plain": [
       "array([ 2,  0,  1, -1])"
      ]
     },
     "execution_count": 27,
     "metadata": {},
     "output_type": "execute_result"
    }
   ],
   "source": [
    "df_raw.UsageBand.unique()"
   ]
  },
  {
   "cell_type": "markdown",
   "metadata": {},
   "source": [
    "We're still not quite done - for instance we have lots of missing values, which we can't pass directly to a random forest."
   ]
  },
  {
   "cell_type": "code",
   "execution_count": 28,
   "metadata": {},
   "outputs": [
    {
     "data": {
      "text/plain": [
       "Backhoe_Mounting            0.803872\n",
       "Blade_Extension             0.937129\n",
       "Blade_Type                  0.800977\n",
       "Blade_Width                 0.937129\n",
       "Coupler                     0.466620\n",
       "Coupler_System              0.891660\n",
       "Differential_Type           0.826959\n",
       "Drive_System                0.739829\n",
       "Enclosure                   0.000810\n",
       "Enclosure_Type              0.937129\n",
       "Engine_Horsepower           0.937129\n",
       "Forks                       0.521154\n",
       "Grouser_Tracks              0.891899\n",
       "Grouser_Type                0.752813\n",
       "Hydraulics                  0.200823\n",
       "Hydraulics_Flow             0.891899\n",
       "MachineHoursCurrentMeter    0.644089\n",
       "MachineID                   0.000000\n",
       "ModelID                     0.000000\n",
       "Pad_Type                    0.802720\n",
       "Pattern_Changer             0.752651\n",
       "ProductGroup                0.000000\n",
       "ProductGroupDesc            0.000000\n",
       "ProductSize                 0.525460\n",
       "Pushblock                   0.937129\n",
       "Ride_Control                0.629527\n",
       "Ripper                      0.740388\n",
       "SalePrice                   0.000000\n",
       "SalesID                     0.000000\n",
       "Scarifier                   0.937102\n",
       "Steering_Controls           0.827064\n",
       "Stick                       0.802720\n",
       "Stick_Length                0.752651\n",
       "Thumb                       0.752476\n",
       "Tip_Control                 0.937129\n",
       "Tire_Size                   0.763869\n",
       "Track_Type                  0.752813\n",
       "Transmission                0.543210\n",
       "Travel_Controls             0.800975\n",
       "Turbocharged                0.802720\n",
       "Undercarriage_Pad_Width     0.751020\n",
       "UsageBand                   0.000000\n",
       "YearMade                    0.000000\n",
       "auctioneerID                0.050199\n",
       "datasource                  0.000000\n",
       "fiBaseModel                 0.000000\n",
       "fiModelDesc                 0.000000\n",
       "fiModelDescriptor           0.820707\n",
       "fiModelSeries               0.858129\n",
       "fiProductClassDesc          0.000000\n",
       "fiSecondaryDesc             0.342016\n",
       "saleDay                     0.000000\n",
       "saleDayofweek               0.000000\n",
       "saleDayofyear               0.000000\n",
       "saleElapsed                 0.000000\n",
       "saleIs_month_end            0.000000\n",
       "saleIs_month_start          0.000000\n",
       "saleIs_quarter_end          0.000000\n",
       "saleIs_quarter_start        0.000000\n",
       "saleIs_year_end             0.000000\n",
       "saleIs_year_start           0.000000\n",
       "saleMonth                   0.000000\n",
       "saleWeek                    0.000000\n",
       "saleYear                    0.000000\n",
       "state                       0.000000\n",
       "dtype: float64"
      ]
     },
     "metadata": {},
     "output_type": "display_data"
    }
   ],
   "source": [
    "# percentage of missing values\n",
    "display_all(df_raw.isnull().sum().sort_index()/len(df_raw))"
   ]
  },
  {
   "cell_type": "markdown",
   "metadata": {},
   "source": [
    "But let's save this file for now, since it's already in format can we be stored and accessed efficiently."
   ]
  },
  {
   "cell_type": "code",
   "execution_count": null,
   "metadata": {},
   "outputs": [],
   "source": [
    "######### KILLS THE KERNEL EVERY TIME ################\n",
    "try:\n",
    "    os.makedirs('tmp', exist_ok=True)\n",
    "    df_raw.to_feather('./tmp/bulldozers-raw')\n",
    "except Exception as e:\n",
    "    print(f'Error saving data to disc, {e}')"
   ]
  },
  {
   "cell_type": "markdown",
   "metadata": {},
   "source": [
    "Output the work so far to csv, since can't read/write to feather format."
   ]
  },
  {
   "cell_type": "code",
   "execution_count": 29,
   "metadata": {},
   "outputs": [],
   "source": [
    "df_raw.to_csv('./data/df_raw.csv')"
   ]
  },
  {
   "cell_type": "markdown",
   "metadata": {},
   "source": [
    "### Pre-processing"
   ]
  },
  {
   "cell_type": "markdown",
   "metadata": {},
   "source": [
    "In the future we can simply read it from this fast format."
   ]
  },
  {
   "cell_type": "code",
   "execution_count": 33,
   "metadata": {},
   "outputs": [
    {
     "name": "stdout",
     "output_type": "stream",
     "text": [
      "Could not read file: File is too small to be a well-formed file\n"
     ]
    }
   ],
   "source": [
    "try:\n",
    "    df_raw = pd.read_feather('tmp/bulldozers-raw')\n",
    "except Exception as e:\n",
    "    print(f'Could not read file: {e}')"
   ]
  },
  {
   "cell_type": "markdown",
   "metadata": {},
   "source": [
    "We'll replace categories with their numeric codes, handle missing continuous values, and split the dependent variable into a separate variable using the `proc_df` function (part of fast ai library).\n",
    "\n",
    "By default pandas replaces categorical variables with `NaN`,  with `-1`, `proc_df` adds `1` to every value.\n",
    "\n",
    "For numerical columns with `NaN` values we add an additional column with the column's name appended with `_na`, and assign a value of `1` if the value is missing or `0` otherwise. We replace the `NaN` value with the median of the column."
   ]
  },
  {
   "cell_type": "code",
   "execution_count": 35,
   "metadata": {},
   "outputs": [
    {
     "name": "stdout",
     "output_type": "stream",
     "text": [
      "(401125, 66)\n",
      "(401125,)\n",
      "<class 'dict'>\n",
      "{'auctioneerID': 2.0, 'MachineHoursCurrentMeter': 0.0}\n"
     ]
    },
    {
     "data": {
      "text/html": [
       "<div>\n",
       "<style scoped>\n",
       "    .dataframe tbody tr th:only-of-type {\n",
       "        vertical-align: middle;\n",
       "    }\n",
       "\n",
       "    .dataframe tbody tr th {\n",
       "        vertical-align: top;\n",
       "    }\n",
       "\n",
       "    .dataframe thead th {\n",
       "        text-align: right;\n",
       "    }\n",
       "</style>\n",
       "<table border=\"1\" class=\"dataframe\">\n",
       "  <thead>\n",
       "    <tr style=\"text-align: right;\">\n",
       "      <th></th>\n",
       "      <th>SalesID</th>\n",
       "      <th>MachineID</th>\n",
       "      <th>ModelID</th>\n",
       "      <th>datasource</th>\n",
       "      <th>auctioneerID</th>\n",
       "      <th>YearMade</th>\n",
       "      <th>MachineHoursCurrentMeter</th>\n",
       "      <th>UsageBand</th>\n",
       "      <th>fiModelDesc</th>\n",
       "      <th>fiBaseModel</th>\n",
       "      <th>fiSecondaryDesc</th>\n",
       "      <th>fiModelSeries</th>\n",
       "      <th>fiModelDescriptor</th>\n",
       "      <th>ProductSize</th>\n",
       "      <th>fiProductClassDesc</th>\n",
       "      <th>state</th>\n",
       "      <th>ProductGroup</th>\n",
       "      <th>ProductGroupDesc</th>\n",
       "      <th>Drive_System</th>\n",
       "      <th>Enclosure</th>\n",
       "      <th>Forks</th>\n",
       "      <th>Pad_Type</th>\n",
       "      <th>Ride_Control</th>\n",
       "      <th>Stick</th>\n",
       "      <th>Transmission</th>\n",
       "      <th>Turbocharged</th>\n",
       "      <th>Blade_Extension</th>\n",
       "      <th>Blade_Width</th>\n",
       "      <th>Enclosure_Type</th>\n",
       "      <th>Engine_Horsepower</th>\n",
       "      <th>Hydraulics</th>\n",
       "      <th>Pushblock</th>\n",
       "      <th>Ripper</th>\n",
       "      <th>Scarifier</th>\n",
       "      <th>Tip_Control</th>\n",
       "      <th>Tire_Size</th>\n",
       "      <th>Coupler</th>\n",
       "      <th>Coupler_System</th>\n",
       "      <th>Grouser_Tracks</th>\n",
       "      <th>Hydraulics_Flow</th>\n",
       "      <th>Track_Type</th>\n",
       "      <th>Undercarriage_Pad_Width</th>\n",
       "      <th>Stick_Length</th>\n",
       "      <th>Thumb</th>\n",
       "      <th>Pattern_Changer</th>\n",
       "      <th>Grouser_Type</th>\n",
       "      <th>Backhoe_Mounting</th>\n",
       "      <th>Blade_Type</th>\n",
       "      <th>Travel_Controls</th>\n",
       "      <th>Differential_Type</th>\n",
       "      <th>Steering_Controls</th>\n",
       "      <th>saleYear</th>\n",
       "      <th>saleMonth</th>\n",
       "      <th>saleWeek</th>\n",
       "      <th>saleDay</th>\n",
       "      <th>saleDayofweek</th>\n",
       "      <th>saleDayofyear</th>\n",
       "      <th>saleIs_month_end</th>\n",
       "      <th>saleIs_month_start</th>\n",
       "      <th>saleIs_quarter_end</th>\n",
       "      <th>saleIs_quarter_start</th>\n",
       "      <th>saleIs_year_end</th>\n",
       "      <th>saleIs_year_start</th>\n",
       "      <th>saleElapsed</th>\n",
       "      <th>auctioneerID_na</th>\n",
       "      <th>MachineHoursCurrentMeter_na</th>\n",
       "    </tr>\n",
       "  </thead>\n",
       "  <tbody>\n",
       "    <tr>\n",
       "      <th>401120</th>\n",
       "      <td>6333336</td>\n",
       "      <td>1840702</td>\n",
       "      <td>21439</td>\n",
       "      <td>149</td>\n",
       "      <td>1.0</td>\n",
       "      <td>2005</td>\n",
       "      <td>0.0</td>\n",
       "      <td>-1</td>\n",
       "      <td>657</td>\n",
       "      <td>207</td>\n",
       "      <td>106</td>\n",
       "      <td>63</td>\n",
       "      <td>0</td>\n",
       "      <td>5</td>\n",
       "      <td>17</td>\n",
       "      <td>20</td>\n",
       "      <td>4</td>\n",
       "      <td>4</td>\n",
       "      <td>0</td>\n",
       "      <td>1</td>\n",
       "      <td>0</td>\n",
       "      <td>0</td>\n",
       "      <td>0</td>\n",
       "      <td>0</td>\n",
       "      <td>0</td>\n",
       "      <td>0</td>\n",
       "      <td>0</td>\n",
       "      <td>0</td>\n",
       "      <td>0</td>\n",
       "      <td>0</td>\n",
       "      <td>4</td>\n",
       "      <td>0</td>\n",
       "      <td>0</td>\n",
       "      <td>0</td>\n",
       "      <td>0</td>\n",
       "      <td>0</td>\n",
       "      <td>3</td>\n",
       "      <td>0</td>\n",
       "      <td>0</td>\n",
       "      <td>0</td>\n",
       "      <td>2</td>\n",
       "      <td>19</td>\n",
       "      <td>29</td>\n",
       "      <td>3</td>\n",
       "      <td>2</td>\n",
       "      <td>1</td>\n",
       "      <td>0</td>\n",
       "      <td>0</td>\n",
       "      <td>0</td>\n",
       "      <td>0</td>\n",
       "      <td>0</td>\n",
       "      <td>2011</td>\n",
       "      <td>11</td>\n",
       "      <td>44</td>\n",
       "      <td>2</td>\n",
       "      <td>2</td>\n",
       "      <td>306</td>\n",
       "      <td>False</td>\n",
       "      <td>False</td>\n",
       "      <td>False</td>\n",
       "      <td>False</td>\n",
       "      <td>False</td>\n",
       "      <td>False</td>\n",
       "      <td>1320192000</td>\n",
       "      <td>False</td>\n",
       "      <td>True</td>\n",
       "    </tr>\n",
       "    <tr>\n",
       "      <th>401121</th>\n",
       "      <td>6333337</td>\n",
       "      <td>1830472</td>\n",
       "      <td>21439</td>\n",
       "      <td>149</td>\n",
       "      <td>1.0</td>\n",
       "      <td>2005</td>\n",
       "      <td>0.0</td>\n",
       "      <td>-1</td>\n",
       "      <td>657</td>\n",
       "      <td>207</td>\n",
       "      <td>106</td>\n",
       "      <td>63</td>\n",
       "      <td>0</td>\n",
       "      <td>5</td>\n",
       "      <td>17</td>\n",
       "      <td>20</td>\n",
       "      <td>4</td>\n",
       "      <td>4</td>\n",
       "      <td>0</td>\n",
       "      <td>1</td>\n",
       "      <td>0</td>\n",
       "      <td>0</td>\n",
       "      <td>0</td>\n",
       "      <td>0</td>\n",
       "      <td>0</td>\n",
       "      <td>0</td>\n",
       "      <td>0</td>\n",
       "      <td>0</td>\n",
       "      <td>0</td>\n",
       "      <td>0</td>\n",
       "      <td>12</td>\n",
       "      <td>0</td>\n",
       "      <td>0</td>\n",
       "      <td>0</td>\n",
       "      <td>0</td>\n",
       "      <td>0</td>\n",
       "      <td>3</td>\n",
       "      <td>0</td>\n",
       "      <td>0</td>\n",
       "      <td>0</td>\n",
       "      <td>2</td>\n",
       "      <td>19</td>\n",
       "      <td>29</td>\n",
       "      <td>3</td>\n",
       "      <td>2</td>\n",
       "      <td>1</td>\n",
       "      <td>0</td>\n",
       "      <td>0</td>\n",
       "      <td>0</td>\n",
       "      <td>0</td>\n",
       "      <td>0</td>\n",
       "      <td>2011</td>\n",
       "      <td>11</td>\n",
       "      <td>44</td>\n",
       "      <td>2</td>\n",
       "      <td>2</td>\n",
       "      <td>306</td>\n",
       "      <td>False</td>\n",
       "      <td>False</td>\n",
       "      <td>False</td>\n",
       "      <td>False</td>\n",
       "      <td>False</td>\n",
       "      <td>False</td>\n",
       "      <td>1320192000</td>\n",
       "      <td>False</td>\n",
       "      <td>True</td>\n",
       "    </tr>\n",
       "    <tr>\n",
       "      <th>401122</th>\n",
       "      <td>6333338</td>\n",
       "      <td>1887659</td>\n",
       "      <td>21439</td>\n",
       "      <td>149</td>\n",
       "      <td>1.0</td>\n",
       "      <td>2005</td>\n",
       "      <td>0.0</td>\n",
       "      <td>-1</td>\n",
       "      <td>657</td>\n",
       "      <td>207</td>\n",
       "      <td>106</td>\n",
       "      <td>63</td>\n",
       "      <td>0</td>\n",
       "      <td>5</td>\n",
       "      <td>17</td>\n",
       "      <td>20</td>\n",
       "      <td>4</td>\n",
       "      <td>4</td>\n",
       "      <td>0</td>\n",
       "      <td>1</td>\n",
       "      <td>0</td>\n",
       "      <td>0</td>\n",
       "      <td>0</td>\n",
       "      <td>0</td>\n",
       "      <td>0</td>\n",
       "      <td>0</td>\n",
       "      <td>0</td>\n",
       "      <td>0</td>\n",
       "      <td>0</td>\n",
       "      <td>0</td>\n",
       "      <td>4</td>\n",
       "      <td>0</td>\n",
       "      <td>0</td>\n",
       "      <td>0</td>\n",
       "      <td>0</td>\n",
       "      <td>0</td>\n",
       "      <td>3</td>\n",
       "      <td>0</td>\n",
       "      <td>0</td>\n",
       "      <td>0</td>\n",
       "      <td>2</td>\n",
       "      <td>19</td>\n",
       "      <td>29</td>\n",
       "      <td>3</td>\n",
       "      <td>2</td>\n",
       "      <td>1</td>\n",
       "      <td>0</td>\n",
       "      <td>0</td>\n",
       "      <td>0</td>\n",
       "      <td>0</td>\n",
       "      <td>0</td>\n",
       "      <td>2011</td>\n",
       "      <td>11</td>\n",
       "      <td>44</td>\n",
       "      <td>2</td>\n",
       "      <td>2</td>\n",
       "      <td>306</td>\n",
       "      <td>False</td>\n",
       "      <td>False</td>\n",
       "      <td>False</td>\n",
       "      <td>False</td>\n",
       "      <td>False</td>\n",
       "      <td>False</td>\n",
       "      <td>1320192000</td>\n",
       "      <td>False</td>\n",
       "      <td>True</td>\n",
       "    </tr>\n",
       "    <tr>\n",
       "      <th>401123</th>\n",
       "      <td>6333341</td>\n",
       "      <td>1903570</td>\n",
       "      <td>21435</td>\n",
       "      <td>149</td>\n",
       "      <td>2.0</td>\n",
       "      <td>2005</td>\n",
       "      <td>0.0</td>\n",
       "      <td>-1</td>\n",
       "      <td>483</td>\n",
       "      <td>159</td>\n",
       "      <td>106</td>\n",
       "      <td>0</td>\n",
       "      <td>0</td>\n",
       "      <td>5</td>\n",
       "      <td>13</td>\n",
       "      <td>9</td>\n",
       "      <td>4</td>\n",
       "      <td>4</td>\n",
       "      <td>0</td>\n",
       "      <td>1</td>\n",
       "      <td>0</td>\n",
       "      <td>0</td>\n",
       "      <td>0</td>\n",
       "      <td>0</td>\n",
       "      <td>0</td>\n",
       "      <td>0</td>\n",
       "      <td>0</td>\n",
       "      <td>0</td>\n",
       "      <td>0</td>\n",
       "      <td>0</td>\n",
       "      <td>12</td>\n",
       "      <td>0</td>\n",
       "      <td>0</td>\n",
       "      <td>0</td>\n",
       "      <td>0</td>\n",
       "      <td>0</td>\n",
       "      <td>3</td>\n",
       "      <td>0</td>\n",
       "      <td>0</td>\n",
       "      <td>0</td>\n",
       "      <td>2</td>\n",
       "      <td>19</td>\n",
       "      <td>29</td>\n",
       "      <td>3</td>\n",
       "      <td>2</td>\n",
       "      <td>1</td>\n",
       "      <td>0</td>\n",
       "      <td>0</td>\n",
       "      <td>0</td>\n",
       "      <td>0</td>\n",
       "      <td>0</td>\n",
       "      <td>2011</td>\n",
       "      <td>10</td>\n",
       "      <td>43</td>\n",
       "      <td>25</td>\n",
       "      <td>1</td>\n",
       "      <td>298</td>\n",
       "      <td>False</td>\n",
       "      <td>False</td>\n",
       "      <td>False</td>\n",
       "      <td>False</td>\n",
       "      <td>False</td>\n",
       "      <td>False</td>\n",
       "      <td>1319500800</td>\n",
       "      <td>False</td>\n",
       "      <td>True</td>\n",
       "    </tr>\n",
       "    <tr>\n",
       "      <th>401124</th>\n",
       "      <td>6333342</td>\n",
       "      <td>1926965</td>\n",
       "      <td>21435</td>\n",
       "      <td>149</td>\n",
       "      <td>2.0</td>\n",
       "      <td>2005</td>\n",
       "      <td>0.0</td>\n",
       "      <td>-1</td>\n",
       "      <td>483</td>\n",
       "      <td>159</td>\n",
       "      <td>106</td>\n",
       "      <td>0</td>\n",
       "      <td>0</td>\n",
       "      <td>5</td>\n",
       "      <td>13</td>\n",
       "      <td>9</td>\n",
       "      <td>4</td>\n",
       "      <td>4</td>\n",
       "      <td>0</td>\n",
       "      <td>1</td>\n",
       "      <td>0</td>\n",
       "      <td>0</td>\n",
       "      <td>0</td>\n",
       "      <td>0</td>\n",
       "      <td>0</td>\n",
       "      <td>0</td>\n",
       "      <td>0</td>\n",
       "      <td>0</td>\n",
       "      <td>0</td>\n",
       "      <td>0</td>\n",
       "      <td>12</td>\n",
       "      <td>0</td>\n",
       "      <td>0</td>\n",
       "      <td>0</td>\n",
       "      <td>0</td>\n",
       "      <td>0</td>\n",
       "      <td>3</td>\n",
       "      <td>0</td>\n",
       "      <td>0</td>\n",
       "      <td>0</td>\n",
       "      <td>2</td>\n",
       "      <td>19</td>\n",
       "      <td>29</td>\n",
       "      <td>3</td>\n",
       "      <td>2</td>\n",
       "      <td>1</td>\n",
       "      <td>0</td>\n",
       "      <td>0</td>\n",
       "      <td>0</td>\n",
       "      <td>0</td>\n",
       "      <td>0</td>\n",
       "      <td>2011</td>\n",
       "      <td>10</td>\n",
       "      <td>43</td>\n",
       "      <td>25</td>\n",
       "      <td>1</td>\n",
       "      <td>298</td>\n",
       "      <td>False</td>\n",
       "      <td>False</td>\n",
       "      <td>False</td>\n",
       "      <td>False</td>\n",
       "      <td>False</td>\n",
       "      <td>False</td>\n",
       "      <td>1319500800</td>\n",
       "      <td>False</td>\n",
       "      <td>True</td>\n",
       "    </tr>\n",
       "  </tbody>\n",
       "</table>\n",
       "</div>"
      ],
      "text/plain": [
       "        SalesID  MachineID  ModelID  datasource  auctioneerID  YearMade  \\\n",
       "401120  6333336    1840702    21439         149           1.0      2005   \n",
       "401121  6333337    1830472    21439         149           1.0      2005   \n",
       "401122  6333338    1887659    21439         149           1.0      2005   \n",
       "401123  6333341    1903570    21435         149           2.0      2005   \n",
       "401124  6333342    1926965    21435         149           2.0      2005   \n",
       "\n",
       "        MachineHoursCurrentMeter  UsageBand  fiModelDesc  fiBaseModel  \\\n",
       "401120                       0.0         -1          657          207   \n",
       "401121                       0.0         -1          657          207   \n",
       "401122                       0.0         -1          657          207   \n",
       "401123                       0.0         -1          483          159   \n",
       "401124                       0.0         -1          483          159   \n",
       "\n",
       "        fiSecondaryDesc  fiModelSeries  fiModelDescriptor  ProductSize  \\\n",
       "401120              106             63                  0            5   \n",
       "401121              106             63                  0            5   \n",
       "401122              106             63                  0            5   \n",
       "401123              106              0                  0            5   \n",
       "401124              106              0                  0            5   \n",
       "\n",
       "        fiProductClassDesc  state  ProductGroup  ProductGroupDesc  \\\n",
       "401120                  17     20             4                 4   \n",
       "401121                  17     20             4                 4   \n",
       "401122                  17     20             4                 4   \n",
       "401123                  13      9             4                 4   \n",
       "401124                  13      9             4                 4   \n",
       "\n",
       "        Drive_System  Enclosure  Forks  Pad_Type  Ride_Control  Stick  \\\n",
       "401120             0          1      0         0             0      0   \n",
       "401121             0          1      0         0             0      0   \n",
       "401122             0          1      0         0             0      0   \n",
       "401123             0          1      0         0             0      0   \n",
       "401124             0          1      0         0             0      0   \n",
       "\n",
       "        Transmission  Turbocharged  Blade_Extension  Blade_Width  \\\n",
       "401120             0             0                0            0   \n",
       "401121             0             0                0            0   \n",
       "401122             0             0                0            0   \n",
       "401123             0             0                0            0   \n",
       "401124             0             0                0            0   \n",
       "\n",
       "        Enclosure_Type  Engine_Horsepower  Hydraulics  Pushblock  Ripper  \\\n",
       "401120               0                  0           4          0       0   \n",
       "401121               0                  0          12          0       0   \n",
       "401122               0                  0           4          0       0   \n",
       "401123               0                  0          12          0       0   \n",
       "401124               0                  0          12          0       0   \n",
       "\n",
       "        Scarifier  Tip_Control  Tire_Size  Coupler  Coupler_System  \\\n",
       "401120          0            0          0        3               0   \n",
       "401121          0            0          0        3               0   \n",
       "401122          0            0          0        3               0   \n",
       "401123          0            0          0        3               0   \n",
       "401124          0            0          0        3               0   \n",
       "\n",
       "        Grouser_Tracks  Hydraulics_Flow  Track_Type  Undercarriage_Pad_Width  \\\n",
       "401120               0                0           2                       19   \n",
       "401121               0                0           2                       19   \n",
       "401122               0                0           2                       19   \n",
       "401123               0                0           2                       19   \n",
       "401124               0                0           2                       19   \n",
       "\n",
       "        Stick_Length  Thumb  Pattern_Changer  Grouser_Type  Backhoe_Mounting  \\\n",
       "401120            29      3                2             1                 0   \n",
       "401121            29      3                2             1                 0   \n",
       "401122            29      3                2             1                 0   \n",
       "401123            29      3                2             1                 0   \n",
       "401124            29      3                2             1                 0   \n",
       "\n",
       "        Blade_Type  Travel_Controls  Differential_Type  Steering_Controls  \\\n",
       "401120           0                0                  0                  0   \n",
       "401121           0                0                  0                  0   \n",
       "401122           0                0                  0                  0   \n",
       "401123           0                0                  0                  0   \n",
       "401124           0                0                  0                  0   \n",
       "\n",
       "        saleYear  saleMonth  saleWeek  saleDay  saleDayofweek  saleDayofyear  \\\n",
       "401120      2011         11        44        2              2            306   \n",
       "401121      2011         11        44        2              2            306   \n",
       "401122      2011         11        44        2              2            306   \n",
       "401123      2011         10        43       25              1            298   \n",
       "401124      2011         10        43       25              1            298   \n",
       "\n",
       "        saleIs_month_end  saleIs_month_start  saleIs_quarter_end  \\\n",
       "401120             False               False               False   \n",
       "401121             False               False               False   \n",
       "401122             False               False               False   \n",
       "401123             False               False               False   \n",
       "401124             False               False               False   \n",
       "\n",
       "        saleIs_quarter_start  saleIs_year_end  saleIs_year_start  saleElapsed  \\\n",
       "401120                 False            False              False   1320192000   \n",
       "401121                 False            False              False   1320192000   \n",
       "401122                 False            False              False   1320192000   \n",
       "401123                 False            False              False   1319500800   \n",
       "401124                 False            False              False   1319500800   \n",
       "\n",
       "        auctioneerID_na  MachineHoursCurrentMeter_na  \n",
       "401120            False                         True  \n",
       "401121            False                         True  \n",
       "401122            False                         True  \n",
       "401123            False                         True  \n",
       "401124            False                         True  "
      ]
     },
     "metadata": {},
     "output_type": "display_data"
    }
   ],
   "source": [
    "# split dataset into training and label (we want to predict the sales price)\n",
    "df, y, nas = proc_df(df_raw, 'SalePrice') \n",
    "\n",
    "print(df.shape) # dataframe minus 'SalePrice'\n",
    "print(y.shape) # 'SalePrice' column\n",
    "print(type(nas))\n",
    "print(nas)\n",
    "display_all(df.tail())"
   ]
  },
  {
   "cell_type": "code",
   "execution_count": 36,
   "metadata": {},
   "outputs": [
    {
     "data": {
      "text/plain": [
       "SalesID                          int64\n",
       "MachineID                        int64\n",
       "ModelID                          int64\n",
       "datasource                       int64\n",
       "auctioneerID                   float64\n",
       "YearMade                         int64\n",
       "MachineHoursCurrentMeter       float64\n",
       "UsageBand                         int8\n",
       "fiModelDesc                      int16\n",
       "fiBaseModel                      int16\n",
       "fiSecondaryDesc                  int16\n",
       "fiModelSeries                     int8\n",
       "fiModelDescriptor                int16\n",
       "ProductSize                       int8\n",
       "fiProductClassDesc                int8\n",
       "state                             int8\n",
       "ProductGroup                      int8\n",
       "ProductGroupDesc                  int8\n",
       "Drive_System                      int8\n",
       "Enclosure                         int8\n",
       "Forks                             int8\n",
       "Pad_Type                          int8\n",
       "Ride_Control                      int8\n",
       "Stick                             int8\n",
       "Transmission                      int8\n",
       "Turbocharged                      int8\n",
       "Blade_Extension                   int8\n",
       "Blade_Width                       int8\n",
       "Enclosure_Type                    int8\n",
       "Engine_Horsepower                 int8\n",
       "Hydraulics                        int8\n",
       "Pushblock                         int8\n",
       "Ripper                            int8\n",
       "Scarifier                         int8\n",
       "Tip_Control                       int8\n",
       "Tire_Size                         int8\n",
       "Coupler                           int8\n",
       "Coupler_System                    int8\n",
       "Grouser_Tracks                    int8\n",
       "Hydraulics_Flow                   int8\n",
       "Track_Type                        int8\n",
       "Undercarriage_Pad_Width           int8\n",
       "Stick_Length                      int8\n",
       "Thumb                             int8\n",
       "Pattern_Changer                   int8\n",
       "Grouser_Type                      int8\n",
       "Backhoe_Mounting                  int8\n",
       "Blade_Type                        int8\n",
       "Travel_Controls                   int8\n",
       "Differential_Type                 int8\n",
       "Steering_Controls                 int8\n",
       "saleYear                         int64\n",
       "saleMonth                        int64\n",
       "saleWeek                         int64\n",
       "saleDay                          int64\n",
       "saleDayofweek                    int64\n",
       "saleDayofyear                    int64\n",
       "saleIs_month_end                  bool\n",
       "saleIs_month_start                bool\n",
       "saleIs_quarter_end                bool\n",
       "saleIs_quarter_start              bool\n",
       "saleIs_year_end                   bool\n",
       "saleIs_year_start                 bool\n",
       "saleElapsed                      int64\n",
       "auctioneerID_na                   bool\n",
       "MachineHoursCurrentMeter_na       bool\n",
       "dtype: object"
      ]
     },
     "metadata": {},
     "output_type": "display_data"
    }
   ],
   "source": [
    "display_all(df.dtypes)"
   ]
  },
  {
   "cell_type": "markdown",
   "metadata": {},
   "source": [
    "We now have something we can pass to a random forest!"
   ]
  },
  {
   "cell_type": "code",
   "execution_count": 37,
   "metadata": {},
   "outputs": [
    {
     "name": "stderr",
     "output_type": "stream",
     "text": [
      "/home/theboymo/miniconda3/envs/fastai/lib/python3.6/site-packages/sklearn/ensemble/forest.py:246: FutureWarning: The default value of n_estimators will change from 10 in version 0.20 to 100 in 0.22.\n",
      "  \"10 in version 0.20 to 100 in 0.22.\", FutureWarning)\n"
     ]
    },
    {
     "data": {
      "text/plain": [
       "0.9826441951229976"
      ]
     },
     "execution_count": 37,
     "metadata": {},
     "output_type": "execute_result"
    }
   ],
   "source": [
    "m = RandomForestRegressor(n_jobs=-1) # create a separate job for each cpu\n",
    "m.fit(df, y)\n",
    "m.score(df,y)"
   ]
  },
  {
   "cell_type": "markdown",
   "metadata": {},
   "source": [
    "In statistics, the **coefficient of determination**, denoted R2 or r2 and pronounced **\"R squared\"**, is the proportion of the variance in the dependent variable that is predictable from the independent variable(s). https://en.wikipedia.org/wiki/Coefficient_of_determination"
   ]
  },
  {
   "cell_type": "markdown",
   "metadata": {},
   "source": [
    "Wow, an R^2 of 0.98 - that's great, right? Well, perhaps not...\n",
    "\n",
    "Possibly **the most important idea** in machine learning is that of having separate training & validation data sets. As motivation, suppose you don't divide up your data, but instead use all of it.  And suppose you have lots of parameters:\n",
    "\n",
    "<img src=\"images/overfitting2.png\" alt=\"\" style=\"width: 70%\"/>\n",
    "<center>\n",
    "[Underfitting and Overfitting](https://datascience.stackexchange.com/questions/361/when-is-a-model-underfitted)\n",
    "</center>\n",
    "\n",
    "The error for the pictured data points is lowest for the model on the far right (the blue curve passes through the red points almost perfectly), yet it's not the best choice.  Why is that?  If you were to gather some new data points, they most likely would not be on that curve in the graph on the right, but would be closer to the curve in the middle graph.\n",
    "\n",
    "This illustrates how using all our data can lead to **overfitting**. A validation set helps diagnose this problem."
   ]
  },
  {
   "cell_type": "code",
   "execution_count": 38,
   "metadata": {},
   "outputs": [
    {
     "data": {
      "text/plain": [
       "((389125, 66), (389125,), (12000, 66), (12000,))"
      ]
     },
     "execution_count": 38,
     "metadata": {},
     "output_type": "execute_result"
    }
   ],
   "source": [
    "# split the training set into training and validaton\n",
    "def split_vals(a,n): return a[:n].copy(), a[n:].copy()\n",
    "\n",
    "n_valid = 12000  # same as Kaggle's test set size\n",
    "n_trn = len(df) - n_valid\n",
    "\n",
    "raw_train, raw_valid = split_vals(df_raw, n_trn)\n",
    "\n",
    "X_train, X_valid = split_vals(df, n_trn)\n",
    "y_train, y_valid = split_vals(y, n_trn)\n",
    "\n",
    "X_train.shape, y_train.shape, X_valid.shape, y_valid.shape"
   ]
  },
  {
   "cell_type": "markdown",
   "metadata": {},
   "source": [
    "# Random Forests"
   ]
  },
  {
   "cell_type": "markdown",
   "metadata": {},
   "source": [
    "## Base model"
   ]
  },
  {
   "cell_type": "markdown",
   "metadata": {},
   "source": [
    "Let's try our model again, this time with separate training and validation sets.\n",
    "\n",
    "The RMSE (Root Mean Square Error) is a measure of the differences between the values predicted by a model or estimator and the observed values. Values are always less than `1`, a value of `0` (almost never achieved in practice) would indicate a perfect fit to the data. In general, a lower RMSE is better than a higher one. A negative value means that your model is worse than simply picking the means for predictions."
   ]
  },
  {
   "cell_type": "code",
   "execution_count": 39,
   "metadata": {},
   "outputs": [],
   "source": [
    "# pass in 2 * 1D arrays\n",
    "def rmse(x,y): \n",
    "    return math.sqrt(((x-y)**2).mean()) \n",
    "\n",
    "def print_score(m):\n",
    "    res = [\n",
    "        rmse(m.predict(X_train), y_train), \n",
    "        rmse(m.predict(X_valid), y_valid),\n",
    "        m.score(X_train, y_train), \n",
    "        m.score(X_valid, y_valid)\n",
    "    ]\n",
    "    \n",
    "    if hasattr(m, 'oob_score_'): res.append(m.oob_score_)\n",
    "    print(res)"
   ]
  },
  {
   "cell_type": "code",
   "execution_count": 40,
   "metadata": {},
   "outputs": [
    {
     "name": "stderr",
     "output_type": "stream",
     "text": [
      "/home/theboymo/miniconda3/envs/fastai/lib/python3.6/site-packages/sklearn/ensemble/forest.py:246: FutureWarning: The default value of n_estimators will change from 10 in version 0.20 to 100 in 0.22.\n",
      "  \"10 in version 0.20 to 100 in 0.22.\", FutureWarning)\n"
     ]
    },
    {
     "name": "stdout",
     "output_type": "stream",
     "text": [
      "CPU times: user 2min 5s, sys: 861 ms, total: 2min 6s\n",
      "Wall time: 42.1 s\n",
      "[0.00908053543193781, 0.025239261675904873, 0.982374361672824, 0.8845180585984204]\n"
     ]
    }
   ],
   "source": [
    "m = RandomForestRegressor(n_jobs=-1)\n",
    "%time m.fit(X_train, y_train)\n",
    "print_score(m)"
   ]
  },
  {
   "cell_type": "markdown",
   "metadata": {},
   "source": [
    "An R^2 in the high-80's isn't bad at all (and the RMSE puts us around rank 100 of 470 on the Kaggle leaderboard), but we can see from the validation set score that we're over-fitting badly. To understand this issue, let's simplify things down to a single small tree."
   ]
  },
  {
   "cell_type": "markdown",
   "metadata": {},
   "source": [
    "## Speeding things up"
   ]
  },
  {
   "cell_type": "code",
   "execution_count": 41,
   "metadata": {},
   "outputs": [],
   "source": [
    "# create a random subset of 30,000, then sample the first 20,000 from those\n",
    "# nas - dict of which numerical cols had missing values, and their median value\n",
    "# pass in the dict to ensure the same medians are used if req'd\n",
    "# the dict will be updated if the dataset has additional columns with missing values\n",
    "df_trn, y_trn, nas = proc_df(df_raw, 'SalePrice', subset=30000, na_dict=nas)\n",
    "X_train, _ = split_vals(df_trn, 20000)\n",
    "y_train, _ = split_vals(y_trn, 20000)"
   ]
  },
  {
   "cell_type": "code",
   "execution_count": 42,
   "metadata": {},
   "outputs": [
    {
     "name": "stderr",
     "output_type": "stream",
     "text": [
      "/home/theboymo/miniconda3/envs/fastai/lib/python3.6/site-packages/sklearn/ensemble/forest.py:246: FutureWarning: The default value of n_estimators will change from 10 in version 0.20 to 100 in 0.22.\n",
      "  \"10 in version 0.20 to 100 in 0.22.\", FutureWarning)\n"
     ]
    },
    {
     "name": "stdout",
     "output_type": "stream",
     "text": [
      "CPU times: user 4.14 s, sys: 15.4 ms, total: 4.16 s\n",
      "Wall time: 1.49 s\n",
      "[0.010893371694157845, 0.038339641445049345, 0.9734240851452681, 0.7335247504080129]\n"
     ]
    }
   ],
   "source": [
    "m = RandomForestRegressor(n_jobs=-1)\n",
    "%time m.fit(X_train, y_train)\n",
    "print_score(m)"
   ]
  },
  {
   "cell_type": "markdown",
   "metadata": {},
   "source": [
    "## Single tree"
   ]
  },
  {
   "cell_type": "code",
   "execution_count": 61,
   "metadata": {},
   "outputs": [
    {
     "name": "stdout",
     "output_type": "stream",
     "text": [
      "[0.052731355723315776, 0.05591323932180611, 0.40562598586523513, 0.4332518761324432]\n"
     ]
    }
   ],
   "source": [
    "# estimator == tree, max_depth of 3 == small tree, bootstrap False disables randomness,\n",
    "# making it a deterministic tree\n",
    "m = RandomForestRegressor(\n",
    "    n_estimators=1, \n",
    "    max_depth=3, \n",
    "    bootstrap=False, \n",
    "    n_jobs=-1\n",
    ")\n",
    "m.fit(X_train, y_train)\n",
    "print_score(m)"
   ]
  },
  {
   "cell_type": "code",
   "execution_count": 62,
   "metadata": {},
   "outputs": [
    {
     "data": {
      "image/svg+xml": [
       "<?xml version=\"1.0\" encoding=\"UTF-8\" standalone=\"no\"?>\n",
       "<!DOCTYPE svg PUBLIC \"-//W3C//DTD SVG 1.1//EN\"\n",
       " \"http://www.w3.org/Graphics/SVG/1.1/DTD/svg11.dtd\">\n",
       "<!-- Generated by graphviz version 2.40.1 (20161225.0304)\n",
       " -->\n",
       "<!-- Title: Tree Pages: 1 -->\n",
       "<svg width=\"720pt\" height=\"434pt\"\n",
       " viewBox=\"0.00 0.00 720.00 434.49\" xmlns=\"http://www.w3.org/2000/svg\" xmlns:xlink=\"http://www.w3.org/1999/xlink\">\n",
       "<g id=\"graph0\" class=\"graph\" transform=\"scale(.7787 .7787) rotate(0) translate(4 554)\">\n",
       "<title>Tree</title>\n",
       "<polygon fill=\"#ffffff\" stroke=\"transparent\" points=\"-4,4 -4,-554 920.6667,-554 920.6667,4 -4,4\"/>\n",
       "<!-- 0 -->\n",
       "<g id=\"node1\" class=\"node\">\n",
       "<title>0</title>\n",
       "<polygon fill=\"#e58139\" fill-opacity=\"0.705882\" stroke=\"#000000\" points=\"167.6667,-336.5 27.6667,-336.5 27.6667,-268.5 167.6667,-268.5 167.6667,-336.5\"/>\n",
       "<text text-anchor=\"start\" x=\"35.6667\" y=\"-321.3\" font-family=\"Times,serif\" font-size=\"14.00\" fill=\"#000000\">Coupler_System ≤ 0.5</text>\n",
       "<text text-anchor=\"start\" x=\"62.6667\" y=\"-306.3\" font-family=\"Times,serif\" font-size=\"14.00\" fill=\"#000000\">mse = 0.005</text>\n",
       "<text text-anchor=\"start\" x=\"47.1667\" y=\"-291.3\" font-family=\"Times,serif\" font-size=\"14.00\" fill=\"#000000\">samples = 389125</text>\n",
       "<text text-anchor=\"start\" x=\"59.6667\" y=\"-276.3\" font-family=\"Times,serif\" font-size=\"14.00\" fill=\"#000000\">value = 2.311</text>\n",
       "</g>\n",
       "<!-- 1 -->\n",
       "<g id=\"node2\" class=\"node\">\n",
       "<title>1</title>\n",
       "<polygon fill=\"#e58139\" fill-opacity=\"0.772549\" stroke=\"#000000\" points=\"399.6667,-372.5 271.6667,-372.5 271.6667,-304.5 399.6667,-304.5 399.6667,-372.5\"/>\n",
       "<text text-anchor=\"start\" x=\"279.6667\" y=\"-357.3\" font-family=\"Times,serif\" font-size=\"14.00\" fill=\"#000000\">YearMade ≤ 1991.5</text>\n",
       "<text text-anchor=\"start\" x=\"300.6667\" y=\"-342.3\" font-family=\"Times,serif\" font-size=\"14.00\" fill=\"#000000\">mse = 0.004</text>\n",
       "<text text-anchor=\"start\" x=\"285.1667\" y=\"-327.3\" font-family=\"Times,serif\" font-size=\"14.00\" fill=\"#000000\">samples = 348393</text>\n",
       "<text text-anchor=\"start\" x=\"297.6667\" y=\"-312.3\" font-family=\"Times,serif\" font-size=\"14.00\" fill=\"#000000\">value = 2.321</text>\n",
       "</g>\n",
       "<!-- 0&#45;&gt;1 -->\n",
       "<g id=\"edge1\" class=\"edge\">\n",
       "<title>0&#45;&gt;1</title>\n",
       "<path fill=\"none\" stroke=\"#000000\" d=\"M167.7873,-313.1065C197.23,-317.56 231.5046,-322.7444 261.3795,-327.2633\"/>\n",
       "<polygon fill=\"#000000\" stroke=\"#000000\" points=\"260.918,-330.7332 271.3291,-328.7683 261.965,-323.8119 260.918,-330.7332\"/>\n",
       "<text text-anchor=\"middle\" x=\"251.2064\" y=\"-339.9032\" font-family=\"Times,serif\" font-size=\"14.00\" fill=\"#000000\">True</text>\n",
       "</g>\n",
       "<!-- 8 -->\n",
       "<g id=\"node9\" class=\"node\">\n",
       "<title>8</title>\n",
       "<polygon fill=\"#e58139\" fill-opacity=\"0.149020\" stroke=\"#000000\" points=\"399.6667,-245.5 271.6667,-245.5 271.6667,-177.5 399.6667,-177.5 399.6667,-245.5\"/>\n",
       "<text text-anchor=\"start\" x=\"279.6667\" y=\"-230.3\" font-family=\"Times,serif\" font-size=\"14.00\" fill=\"#000000\">YearMade ≤ 1998.5</text>\n",
       "<text text-anchor=\"start\" x=\"300.6667\" y=\"-215.3\" font-family=\"Times,serif\" font-size=\"14.00\" fill=\"#000000\">mse = 0.001</text>\n",
       "<text text-anchor=\"start\" x=\"288.6667\" y=\"-200.3\" font-family=\"Times,serif\" font-size=\"14.00\" fill=\"#000000\">samples = 40732</text>\n",
       "<text text-anchor=\"start\" x=\"297.6667\" y=\"-185.3\" font-family=\"Times,serif\" font-size=\"14.00\" fill=\"#000000\">value = 2.219</text>\n",
       "</g>\n",
       "<!-- 0&#45;&gt;8 -->\n",
       "<g id=\"edge8\" class=\"edge\">\n",
       "<title>0&#45;&gt;8</title>\n",
       "<path fill=\"none\" stroke=\"#000000\" d=\"M167.7873,-275.6892C197.358,-264.3827 231.8027,-251.2127 261.769,-239.755\"/>\n",
       "<polygon fill=\"#000000\" stroke=\"#000000\" points=\"263.2385,-242.9403 271.3291,-236.0997 260.7385,-236.4019 263.2385,-242.9403\"/>\n",
       "<text text-anchor=\"middle\" x=\"248.5038\" y=\"-222.2012\" font-family=\"Times,serif\" font-size=\"14.00\" fill=\"#000000\">False</text>\n",
       "</g>\n",
       "<!-- 2 -->\n",
       "<g id=\"node3\" class=\"node\">\n",
       "<title>2</title>\n",
       "<polygon fill=\"#e58139\" fill-opacity=\"0.627451\" stroke=\"#000000\" points=\"648.6667,-486.5 528.6667,-486.5 528.6667,-418.5 648.6667,-418.5 648.6667,-486.5\"/>\n",
       "<text text-anchor=\"start\" x=\"536.6667\" y=\"-471.3\" font-family=\"Times,serif\" font-size=\"14.00\" fill=\"#000000\">ModelID ≤ 4418.5</text>\n",
       "<text text-anchor=\"start\" x=\"553.6667\" y=\"-456.3\" font-family=\"Times,serif\" font-size=\"14.00\" fill=\"#000000\">mse = 0.004</text>\n",
       "<text text-anchor=\"start\" x=\"538.1667\" y=\"-441.3\" font-family=\"Times,serif\" font-size=\"14.00\" fill=\"#000000\">samples = 153147</text>\n",
       "<text text-anchor=\"start\" x=\"550.6667\" y=\"-426.3\" font-family=\"Times,serif\" font-size=\"14.00\" fill=\"#000000\">value = 2.298</text>\n",
       "</g>\n",
       "<!-- 1&#45;&gt;2 -->\n",
       "<g id=\"edge2\" class=\"edge\">\n",
       "<title>1&#45;&gt;2</title>\n",
       "<path fill=\"none\" stroke=\"#000000\" d=\"M399.8363,-367.4144C436.2748,-383.8333 481.9121,-404.3971 519.1925,-421.1954\"/>\n",
       "<polygon fill=\"#000000\" stroke=\"#000000\" points=\"517.9248,-424.4631 528.4799,-425.3803 520.8005,-418.081 517.9248,-424.4631\"/>\n",
       "</g>\n",
       "<!-- 5 -->\n",
       "<g id=\"node6\" class=\"node\">\n",
       "<title>5</title>\n",
       "<polygon fill=\"#e58139\" fill-opacity=\"0.886275\" stroke=\"#000000\" points=\"670.1667,-372.5 507.1667,-372.5 507.1667,-304.5 670.1667,-304.5 670.1667,-372.5\"/>\n",
       "<text text-anchor=\"start\" x=\"515.1667\" y=\"-357.3\" font-family=\"Times,serif\" font-size=\"14.00\" fill=\"#000000\">fiProductClassDesc ≤ 13.5</text>\n",
       "<text text-anchor=\"start\" x=\"553.6667\" y=\"-342.3\" font-family=\"Times,serif\" font-size=\"14.00\" fill=\"#000000\">mse = 0.003</text>\n",
       "<text text-anchor=\"start\" x=\"538.1667\" y=\"-327.3\" font-family=\"Times,serif\" font-size=\"14.00\" fill=\"#000000\">samples = 195246</text>\n",
       "<text text-anchor=\"start\" x=\"553.6667\" y=\"-312.3\" font-family=\"Times,serif\" font-size=\"14.00\" fill=\"#000000\">value = 2.34</text>\n",
       "</g>\n",
       "<!-- 1&#45;&gt;5 -->\n",
       "<g id=\"edge5\" class=\"edge\">\n",
       "<title>1&#45;&gt;5</title>\n",
       "<path fill=\"none\" stroke=\"#000000\" d=\"M399.8363,-338.5C429.1621,-338.5 464.446,-338.5 496.5367,-338.5\"/>\n",
       "<polygon fill=\"#000000\" stroke=\"#000000\" points=\"496.832,-342.0001 506.8319,-338.5 496.8319,-335.0001 496.832,-342.0001\"/>\n",
       "</g>\n",
       "<!-- 3 -->\n",
       "<g id=\"node4\" class=\"node\">\n",
       "<title>3</title>\n",
       "<polygon fill=\"#e58139\" fill-opacity=\"0.764706\" stroke=\"#000000\" points=\"889.6667,-550 779.6667,-550 779.6667,-497 889.6667,-497 889.6667,-550\"/>\n",
       "<text text-anchor=\"start\" x=\"799.6667\" y=\"-534.8\" font-family=\"Times,serif\" font-size=\"14.00\" fill=\"#000000\">mse = 0.004</text>\n",
       "<text text-anchor=\"start\" x=\"787.6667\" y=\"-519.8\" font-family=\"Times,serif\" font-size=\"14.00\" fill=\"#000000\">samples = 78592</text>\n",
       "<text text-anchor=\"start\" x=\"799.6667\" y=\"-504.8\" font-family=\"Times,serif\" font-size=\"14.00\" fill=\"#000000\">value = 2.32</text>\n",
       "</g>\n",
       "<!-- 2&#45;&gt;3 -->\n",
       "<g id=\"edge3\" class=\"edge\">\n",
       "<title>2&#45;&gt;3</title>\n",
       "<path fill=\"none\" stroke=\"#000000\" d=\"M648.845,-469.8686C685.4057,-480.4206 732.0889,-493.8942 769.5173,-504.6967\"/>\n",
       "<polygon fill=\"#000000\" stroke=\"#000000\" points=\"768.7373,-508.1144 779.3158,-507.5247 770.6785,-501.3889 768.7373,-508.1144\"/>\n",
       "</g>\n",
       "<!-- 4 -->\n",
       "<g id=\"node5\" class=\"node\">\n",
       "<title>4</title>\n",
       "<polygon fill=\"#e58139\" fill-opacity=\"0.482353\" stroke=\"#000000\" points=\"889.6667,-479 779.6667,-479 779.6667,-426 889.6667,-426 889.6667,-479\"/>\n",
       "<text text-anchor=\"start\" x=\"799.6667\" y=\"-463.8\" font-family=\"Times,serif\" font-size=\"14.00\" fill=\"#000000\">mse = 0.003</text>\n",
       "<text text-anchor=\"start\" x=\"787.6667\" y=\"-448.8\" font-family=\"Times,serif\" font-size=\"14.00\" fill=\"#000000\">samples = 74555</text>\n",
       "<text text-anchor=\"start\" x=\"796.6667\" y=\"-433.8\" font-family=\"Times,serif\" font-size=\"14.00\" fill=\"#000000\">value = 2.274</text>\n",
       "</g>\n",
       "<!-- 2&#45;&gt;4 -->\n",
       "<g id=\"edge4\" class=\"edge\">\n",
       "<title>2&#45;&gt;4</title>\n",
       "<path fill=\"none\" stroke=\"#000000\" d=\"M648.845,-452.5C685.2501,-452.5 731.6917,-452.5 769.039,-452.5\"/>\n",
       "<polygon fill=\"#000000\" stroke=\"#000000\" points=\"769.3158,-456.0001 779.3158,-452.5 769.3157,-449.0001 769.3158,-456.0001\"/>\n",
       "</g>\n",
       "<!-- 6 -->\n",
       "<g id=\"node7\" class=\"node\">\n",
       "<title>6</title>\n",
       "<polygon fill=\"#e58139\" fill-opacity=\"0.709804\" stroke=\"#000000\" points=\"889.6667,-408 779.6667,-408 779.6667,-355 889.6667,-355 889.6667,-408\"/>\n",
       "<text text-anchor=\"start\" x=\"799.6667\" y=\"-392.8\" font-family=\"Times,serif\" font-size=\"14.00\" fill=\"#000000\">mse = 0.002</text>\n",
       "<text text-anchor=\"start\" x=\"787.6667\" y=\"-377.8\" font-family=\"Times,serif\" font-size=\"14.00\" fill=\"#000000\">samples = 76325</text>\n",
       "<text text-anchor=\"start\" x=\"796.6667\" y=\"-362.8\" font-family=\"Times,serif\" font-size=\"14.00\" fill=\"#000000\">value = 2.311</text>\n",
       "</g>\n",
       "<!-- 5&#45;&gt;6 -->\n",
       "<g id=\"edge6\" class=\"edge\">\n",
       "<title>5&#45;&gt;6</title>\n",
       "<path fill=\"none\" stroke=\"#000000\" d=\"M670.2394,-352.7587C702.4072,-358.3815 738.8553,-364.7525 769.2466,-370.0648\"/>\n",
       "<polygon fill=\"#000000\" stroke=\"#000000\" points=\"768.8528,-373.5489 779.3062,-371.8232 770.0582,-366.6535 768.8528,-373.5489\"/>\n",
       "</g>\n",
       "<!-- 7 -->\n",
       "<g id=\"node8\" class=\"node\">\n",
       "<title>7</title>\n",
       "<polygon fill=\"#e58139\" stroke=\"#000000\" points=\"893.1667,-337 776.1667,-337 776.1667,-284 893.1667,-284 893.1667,-337\"/>\n",
       "<text text-anchor=\"start\" x=\"799.6667\" y=\"-321.8\" font-family=\"Times,serif\" font-size=\"14.00\" fill=\"#000000\">mse = 0.003</text>\n",
       "<text text-anchor=\"start\" x=\"784.1667\" y=\"-306.8\" font-family=\"Times,serif\" font-size=\"14.00\" fill=\"#000000\">samples = 118921</text>\n",
       "<text text-anchor=\"start\" x=\"796.6667\" y=\"-291.8\" font-family=\"Times,serif\" font-size=\"14.00\" fill=\"#000000\">value = 2.359</text>\n",
       "</g>\n",
       "<!-- 5&#45;&gt;7 -->\n",
       "<g id=\"edge7\" class=\"edge\">\n",
       "<title>5&#45;&gt;7</title>\n",
       "<path fill=\"none\" stroke=\"#000000\" d=\"M670.2394,-329.2153C701.1414,-325.698 735.9933,-321.7311 765.6313,-318.3577\"/>\n",
       "<polygon fill=\"#000000\" stroke=\"#000000\" points=\"766.3422,-321.7995 775.8822,-317.1909 765.5505,-314.8444 766.3422,-321.7995\"/>\n",
       "</g>\n",
       "<!-- 9 -->\n",
       "<g id=\"node10\" class=\"node\">\n",
       "<title>9</title>\n",
       "<polygon fill=\"#e58139\" fill-opacity=\"0.031373\" stroke=\"#000000\" points=\"670.1667,-245.5 507.1667,-245.5 507.1667,-177.5 670.1667,-177.5 670.1667,-245.5\"/>\n",
       "<text text-anchor=\"start\" x=\"515.1667\" y=\"-230.3\" font-family=\"Times,serif\" font-size=\"14.00\" fill=\"#000000\">fiProductClassDesc ≤ 40.5</text>\n",
       "<text text-anchor=\"start\" x=\"553.6667\" y=\"-215.3\" font-family=\"Times,serif\" font-size=\"14.00\" fill=\"#000000\">mse = 0.001</text>\n",
       "<text text-anchor=\"start\" x=\"541.6667\" y=\"-200.3\" font-family=\"Times,serif\" font-size=\"14.00\" fill=\"#000000\">samples = 17328</text>\n",
       "<text text-anchor=\"start\" x=\"557.1667\" y=\"-185.3\" font-family=\"Times,serif\" font-size=\"14.00\" fill=\"#000000\">value = 2.2</text>\n",
       "</g>\n",
       "<!-- 8&#45;&gt;9 -->\n",
       "<g id=\"edge9\" class=\"edge\">\n",
       "<title>8&#45;&gt;9</title>\n",
       "<path fill=\"none\" stroke=\"#000000\" d=\"M399.8363,-211.5C429.1621,-211.5 464.446,-211.5 496.5367,-211.5\"/>\n",
       "<polygon fill=\"#000000\" stroke=\"#000000\" points=\"496.832,-215.0001 506.8319,-211.5 496.8319,-208.0001 496.832,-215.0001\"/>\n",
       "</g>\n",
       "<!-- 12 -->\n",
       "<g id=\"node13\" class=\"node\">\n",
       "<title>12</title>\n",
       "<polygon fill=\"#e58139\" fill-opacity=\"0.235294\" stroke=\"#000000\" points=\"670.1667,-131.5 507.1667,-131.5 507.1667,-63.5 670.1667,-63.5 670.1667,-131.5\"/>\n",
       "<text text-anchor=\"start\" x=\"515.1667\" y=\"-116.3\" font-family=\"Times,serif\" font-size=\"14.00\" fill=\"#000000\">fiProductClassDesc ≤ 40.5</text>\n",
       "<text text-anchor=\"start\" x=\"553.6667\" y=\"-101.3\" font-family=\"Times,serif\" font-size=\"14.00\" fill=\"#000000\">mse = 0.001</text>\n",
       "<text text-anchor=\"start\" x=\"541.6667\" y=\"-86.3\" font-family=\"Times,serif\" font-size=\"14.00\" fill=\"#000000\">samples = 23404</text>\n",
       "<text text-anchor=\"start\" x=\"550.6667\" y=\"-71.3\" font-family=\"Times,serif\" font-size=\"14.00\" fill=\"#000000\">value = 2.233</text>\n",
       "</g>\n",
       "<!-- 8&#45;&gt;12 -->\n",
       "<g id=\"edge12\" class=\"edge\">\n",
       "<title>8&#45;&gt;12</title>\n",
       "<path fill=\"none\" stroke=\"#000000\" d=\"M399.8363,-182.5856C431.2825,-168.4162 469.5796,-151.1598 503.4442,-135.9006\"/>\n",
       "<polygon fill=\"#000000\" stroke=\"#000000\" points=\"505.1895,-138.9532 512.8688,-131.654 502.3137,-132.5712 505.1895,-138.9532\"/>\n",
       "</g>\n",
       "<!-- 10 -->\n",
       "<g id=\"node11\" class=\"node\">\n",
       "<title>10</title>\n",
       "<polygon fill=\"transparent\" stroke=\"#000000\" points=\"889.6667,-266 779.6667,-266 779.6667,-213 889.6667,-213 889.6667,-266\"/>\n",
       "<text text-anchor=\"start\" x=\"799.6667\" y=\"-250.8\" font-family=\"Times,serif\" font-size=\"14.00\" fill=\"#000000\">mse = 0.001</text>\n",
       "<text text-anchor=\"start\" x=\"787.6667\" y=\"-235.8\" font-family=\"Times,serif\" font-size=\"14.00\" fill=\"#000000\">samples = 13018</text>\n",
       "<text text-anchor=\"start\" x=\"796.6667\" y=\"-220.8\" font-family=\"Times,serif\" font-size=\"14.00\" fill=\"#000000\">value = 2.195</text>\n",
       "</g>\n",
       "<!-- 9&#45;&gt;10 -->\n",
       "<g id=\"edge10\" class=\"edge\">\n",
       "<title>9&#45;&gt;10</title>\n",
       "<path fill=\"none\" stroke=\"#000000\" d=\"M670.2394,-220.7847C702.4072,-224.4461 738.8553,-228.5946 769.2466,-232.0538\"/>\n",
       "<polygon fill=\"#000000\" stroke=\"#000000\" points=\"768.9745,-235.5454 779.3062,-233.1988 769.7662,-228.5903 768.9745,-235.5454\"/>\n",
       "</g>\n",
       "<!-- 11 -->\n",
       "<g id=\"node12\" class=\"node\">\n",
       "<title>11</title>\n",
       "<polygon fill=\"#e58139\" fill-opacity=\"0.125490\" stroke=\"#000000\" points=\"886.6667,-195 782.6667,-195 782.6667,-142 886.6667,-142 886.6667,-195\"/>\n",
       "<text text-anchor=\"start\" x=\"799.6667\" y=\"-179.8\" font-family=\"Times,serif\" font-size=\"14.00\" fill=\"#000000\">mse = 0.001</text>\n",
       "<text text-anchor=\"start\" x=\"790.6667\" y=\"-164.8\" font-family=\"Times,serif\" font-size=\"14.00\" fill=\"#000000\">samples = 4310</text>\n",
       "<text text-anchor=\"start\" x=\"796.6667\" y=\"-149.8\" font-family=\"Times,serif\" font-size=\"14.00\" fill=\"#000000\">value = 2.215</text>\n",
       "</g>\n",
       "<!-- 9&#45;&gt;11 -->\n",
       "<g id=\"edge11\" class=\"edge\">\n",
       "<title>9&#45;&gt;11</title>\n",
       "<path fill=\"none\" stroke=\"#000000\" d=\"M670.2394,-197.2413C703.5381,-191.4208 741.4233,-184.7986 772.4291,-179.3789\"/>\n",
       "<polygon fill=\"#000000\" stroke=\"#000000\" points=\"773.4158,-182.7596 782.6638,-177.5899 772.2105,-175.8641 773.4158,-182.7596\"/>\n",
       "</g>\n",
       "<!-- 13 -->\n",
       "<g id=\"node14\" class=\"node\">\n",
       "<title>13</title>\n",
       "<polygon fill=\"#e58139\" fill-opacity=\"0.176471\" stroke=\"#000000\" points=\"889.6667,-124 779.6667,-124 779.6667,-71 889.6667,-71 889.6667,-124\"/>\n",
       "<text text-anchor=\"start\" x=\"799.6667\" y=\"-108.8\" font-family=\"Times,serif\" font-size=\"14.00\" fill=\"#000000\">mse = 0.001</text>\n",
       "<text text-anchor=\"start\" x=\"787.6667\" y=\"-93.8\" font-family=\"Times,serif\" font-size=\"14.00\" fill=\"#000000\">samples = 12554</text>\n",
       "<text text-anchor=\"start\" x=\"796.6667\" y=\"-78.8\" font-family=\"Times,serif\" font-size=\"14.00\" fill=\"#000000\">value = 2.223</text>\n",
       "</g>\n",
       "<!-- 12&#45;&gt;13 -->\n",
       "<g id=\"edge13\" class=\"edge\">\n",
       "<title>12&#45;&gt;13</title>\n",
       "<path fill=\"none\" stroke=\"#000000\" d=\"M670.2394,-97.5C702.4072,-97.5 738.8553,-97.5 769.2466,-97.5\"/>\n",
       "<polygon fill=\"#000000\" stroke=\"#000000\" points=\"769.3062,-101.0001 779.3062,-97.5 769.3061,-94.0001 769.3062,-101.0001\"/>\n",
       "</g>\n",
       "<!-- 14 -->\n",
       "<g id=\"node15\" class=\"node\">\n",
       "<title>14</title>\n",
       "<polygon fill=\"#e58139\" fill-opacity=\"0.301961\" stroke=\"#000000\" points=\"889.6667,-53 779.6667,-53 779.6667,0 889.6667,0 889.6667,-53\"/>\n",
       "<text text-anchor=\"start\" x=\"799.6667\" y=\"-37.8\" font-family=\"Times,serif\" font-size=\"14.00\" fill=\"#000000\">mse = 0.001</text>\n",
       "<text text-anchor=\"start\" x=\"787.6667\" y=\"-22.8\" font-family=\"Times,serif\" font-size=\"14.00\" fill=\"#000000\">samples = 10850</text>\n",
       "<text text-anchor=\"start\" x=\"796.6667\" y=\"-7.8\" font-family=\"Times,serif\" font-size=\"14.00\" fill=\"#000000\">value = 2.244</text>\n",
       "</g>\n",
       "<!-- 12&#45;&gt;14 -->\n",
       "<g id=\"edge14\" class=\"edge\">\n",
       "<title>12&#45;&gt;14</title>\n",
       "<path fill=\"none\" stroke=\"#000000\" d=\"M670.2394,-73.9566C702.5471,-64.6321 739.1723,-54.0614 769.6427,-45.2671\"/>\n",
       "<polygon fill=\"#000000\" stroke=\"#000000\" points=\"770.6689,-48.6138 779.3062,-42.478 768.7278,-41.8884 770.6689,-48.6138\"/>\n",
       "</g>\n",
       "</g>\n",
       "</svg>\n"
      ],
      "text/plain": [
       "<graphviz.files.Source at 0x7f76db500ba8>"
      ]
     },
     "metadata": {},
     "output_type": "display_data"
    }
   ],
   "source": [
    "draw_tree(m.estimators_[0], df_trn, precision=3);"
   ]
  },
  {
   "cell_type": "markdown",
   "metadata": {},
   "source": [
    "Let's see what happens if we create a bigger tree."
   ]
  },
  {
   "cell_type": "code",
   "execution_count": 45,
   "metadata": {},
   "outputs": [
    {
     "name": "stdout",
     "output_type": "stream",
     "text": [
      "[1.7732707845720615e-05, 0.048143506481798465, 0.9999999295771338, 0.5798191835667681]\n"
     ]
    }
   ],
   "source": [
    "# single tree, removing 'max_depth' means each leaf node will contain 1 element, R^2 becomes 1\n",
    "m = RandomForestRegressor(n_estimators=1, bootstrap=False, n_jobs=-1)\n",
    "m.fit(X_train, y_train)\n",
    "print_score(m)"
   ]
  },
  {
   "cell_type": "markdown",
   "metadata": {},
   "source": [
    "The training set result looks great! But the validation set is worse than our original model. This is why we need to use **bagging** of multiple trees to get more generalizable results.\n",
    "\n",
    "When there is no limit to the number of splits, `max_depth`, splitting carries on until the leaf nodes have one sample - giving an `R^2` of `1`."
   ]
  },
  {
   "cell_type": "markdown",
   "metadata": {},
   "source": [
    "## Bagging"
   ]
  },
  {
   "cell_type": "markdown",
   "metadata": {},
   "source": [
    "### Intro to bagging"
   ]
  },
  {
   "cell_type": "markdown",
   "metadata": {},
   "source": [
    "To learn about bagging in random forests, let's start with our basic model again."
   ]
  },
  {
   "cell_type": "code",
   "execution_count": 46,
   "metadata": {},
   "outputs": [
    {
     "name": "stderr",
     "output_type": "stream",
     "text": [
      "/home/theboymo/miniconda3/envs/fastai/lib/python3.6/site-packages/sklearn/ensemble/forest.py:246: FutureWarning: The default value of n_estimators will change from 10 in version 0.20 to 100 in 0.22.\n",
      "  \"10 in version 0.20 to 100 in 0.22.\", FutureWarning)\n"
     ]
    },
    {
     "name": "stdout",
     "output_type": "stream",
     "text": [
      "[0.011036888163344923, 0.03696450959582603, 0.9727192150303822, 0.7522973337561699]\n"
     ]
    }
   ],
   "source": [
    "m = RandomForestRegressor(n_jobs=-1) # by default creates 10 estimators/trees\n",
    "m.fit(X_train, y_train)\n",
    "print_score(m)"
   ]
  },
  {
   "cell_type": "markdown",
   "metadata": {},
   "source": [
    "We'll grab the predictions for each individual tree, and look at one example."
   ]
  },
  {
   "cell_type": "code",
   "execution_count": 47,
   "metadata": {},
   "outputs": [
    {
     "data": {
      "text/plain": [
       "(array([2.25988, 2.26681, 2.2701 , 2.23062, 2.23993, 2.23993, 2.21474, 2.20252, 2.22033, 2.22033]),\n",
       " 2.236518512868334,\n",
       " 2.2088215008013257)"
      ]
     },
     "execution_count": 47,
     "metadata": {},
     "output_type": "execute_result"
    }
   ],
   "source": [
    "# make a prediction with each tree in turn and then concatenate the results using np.stack\n",
    "preds = np.stack([t.predict(X_valid) for t in m.estimators_])\n",
    "# results from 10 trees, mean, actual prediction\n",
    "preds[:,0], np.mean(preds[:,0]), y_valid[0]"
   ]
  },
  {
   "cell_type": "markdown",
   "metadata": {},
   "source": [
    "The mean of the 10 trees is `2.365`, while the actual value is `2.2088`."
   ]
  },
  {
   "cell_type": "code",
   "execution_count": 48,
   "metadata": {},
   "outputs": [
    {
     "data": {
      "text/plain": [
       "(10, 12000)"
      ]
     },
     "execution_count": 48,
     "metadata": {},
     "output_type": "execute_result"
    }
   ],
   "source": [
    "preds.shape"
   ]
  },
  {
   "cell_type": "markdown",
   "metadata": {},
   "source": [
    "Predictions of 10 trees, 12000 validation set."
   ]
  },
  {
   "cell_type": "markdown",
   "metadata": {},
   "source": [
    "**Plot R^2 to determine the optimum number of trees**."
   ]
  },
  {
   "cell_type": "code",
   "execution_count": 49,
   "metadata": {},
   "outputs": [
    {
     "data": {
      "image/png": "[encoded data removed]",
      "text/plain": [
       "<Figure size 432x288 with 1 Axes>"
      ]
     },
     "metadata": {
      "needs_background": "light"
     },
     "output_type": "display_data"
    }
   ],
   "source": [
    "plt.plot([metrics.r2_score(y_valid, np.mean(preds[:i+1], axis=0)) for i in range(10)]);"
   ]
  },
  {
   "cell_type": "markdown",
   "metadata": {},
   "source": [
    "The shape of this curve suggests that adding more trees isn't going to help us much. Let's check. (Compare this to our original model on a sample)"
   ]
  },
  {
   "cell_type": "code",
   "execution_count": 50,
   "metadata": {},
   "outputs": [
    {
     "name": "stdout",
     "output_type": "stream",
     "text": [
      "[0.010065397274964126, 0.03686015248843981, 0.9773104741456232, 0.7536939731383628]\n"
     ]
    }
   ],
   "source": [
    "m = RandomForestRegressor(n_estimators=20, n_jobs=-1)\n",
    "m.fit(X_train, y_train)\n",
    "print_score(m)"
   ]
  },
  {
   "cell_type": "code",
   "execution_count": 51,
   "metadata": {},
   "outputs": [
    {
     "data": {
      "text/plain": [
       "(array([2.20252, 2.21474, 2.1958 , 2.23993, 2.20882, 2.1958 , 2.20882, 2.20882, 2.1958 , 2.1958 , 2.1958 ,\n",
       "        2.27634, 2.28219, 2.23993, 2.22283, 2.23993, 2.22033, 2.23062, 2.26681, 2.1958 ]),\n",
       " 2.2218721597014426,\n",
       " 2.2088215008013257)"
      ]
     },
     "execution_count": 51,
     "metadata": {},
     "output_type": "execute_result"
    }
   ],
   "source": [
    "# make a prediction with each tree in turn and then concatenate the results using np.stack\n",
    "preds = np.stack([t.predict(X_valid) for t in m.estimators_])\n",
    "# results from 10 trees, mean, actual prediction\n",
    "preds[:,0], np.mean(preds[:,0]), y_valid[0]"
   ]
  },
  {
   "cell_type": "code",
   "execution_count": 52,
   "metadata": {},
   "outputs": [
    {
     "data": {
      "image/png": "[encoded data removed]",
      "text/plain": [
       "<Figure size 432x288 with 1 Axes>"
      ]
     },
     "metadata": {
      "needs_background": "light"
     },
     "output_type": "display_data"
    }
   ],
   "source": [
    "plt.plot([metrics.r2_score(y_valid, np.mean(preds[:i+1], axis=0)) for i in range(20)]);"
   ]
  },
  {
   "cell_type": "code",
   "execution_count": 53,
   "metadata": {},
   "outputs": [
    {
     "name": "stdout",
     "output_type": "stream",
     "text": [
      "[0.009513999143165927, 0.03587830664413919, 0.9797283175437996, 0.7666409444835226]\n"
     ]
    }
   ],
   "source": [
    "m = RandomForestRegressor(n_estimators=40, n_jobs=-1)\n",
    "m.fit(X_train, y_train)\n",
    "print_score(m)"
   ]
  },
  {
   "cell_type": "code",
   "execution_count": 54,
   "metadata": {},
   "outputs": [
    {
     "name": "stdout",
     "output_type": "stream",
     "text": [
      "[0.009244080885984607, 0.035757286832180435, 0.9808622422663542, 0.7682125593222857]\n"
     ]
    }
   ],
   "source": [
    "m = RandomForestRegressor(n_estimators=80, n_jobs=-1)\n",
    "m.fit(X_train, y_train)\n",
    "print_score(m)"
   ]
  },
  {
   "cell_type": "code",
   "execution_count": 55,
   "metadata": {
    "scrolled": true
   },
   "outputs": [
    {
     "data": {
      "text/plain": [
       "(array([2.23062, 2.23993, 2.23993, 2.22561, 2.20252, 2.21474, 2.25988, 2.23993, 2.22033, 2.23062, 2.23062,\n",
       "        2.21474, 2.23993, 2.22033, 2.23993, 2.23993, 2.23062, 2.23993, 2.1958 , 2.24427, 2.22247, 2.23062,\n",
       "        2.23062, 2.20882, 2.20882, 2.20252, 2.22033, 2.23993, 2.21474, 2.23768, 2.20882, 2.22033, 2.20882,\n",
       "        2.23993, 2.23062, 2.25988, 2.21474, 2.20882, 2.23539, 2.23062, 2.21474, 2.23062, 2.23768, 2.23993,\n",
       "        2.21474, 2.23993, 2.20882, 2.3263 , 2.1958 , 2.22247, 2.1958 , 2.23993, 2.23062, 2.24841, 2.23062,\n",
       "        2.1958 , 2.25239, 2.20882, 2.22247, 2.21474, 2.22561, 2.23993, 2.26681, 2.23993, 2.25621, 2.1958 ,\n",
       "        2.223  , 2.1958 , 2.2701 , 2.21474, 2.21474, 2.23993, 2.3263 , 2.23993, 2.22247, 2.23768, 2.23062,\n",
       "        2.2701 , 2.21474, 2.1958 ]), 2.229570661059274, 2.2088215008013257)"
      ]
     },
     "execution_count": 55,
     "metadata": {},
     "output_type": "execute_result"
    }
   ],
   "source": [
    "# make a prediction with each tree in turn and then concatenate the results using np.stack\n",
    "preds = np.stack([t.predict(X_valid) for t in m.estimators_])\n",
    "# results from 10 trees, mean, actual prediction\n",
    "preds[:,0], np.mean(preds[:,0]), y_valid[0]"
   ]
  },
  {
   "cell_type": "code",
   "execution_count": 56,
   "metadata": {},
   "outputs": [
    {
     "data": {
      "image/png": "[encoded data removed]",
      "text/plain": [
       "<Figure size 432x288 with 1 Axes>"
      ]
     },
     "metadata": {
      "needs_background": "light"
     },
     "output_type": "display_data"
    }
   ],
   "source": [
    "plt.plot([metrics.r2_score(y_valid, np.mean(preds[:i+1], axis=0)) for i in range(80)]);"
   ]
  },
  {
   "cell_type": "markdown",
   "metadata": {},
   "source": [
    "### Out-of-bag (OOB) score"
   ]
  },
  {
   "cell_type": "markdown",
   "metadata": {},
   "source": [
    "**Is our validation set worse than our training set because we're over-fitting, or because the validation set is for a different time period, or a bit of both?** With the existing information we've shown, we can't tell. However, random forests have a very clever trick called **out-of-bag (OOB) error** which can handle this (and more!).\n",
    "\n",
    "The idea is to calculate error on the training set, but only include the trees in the calculation of a row's error where that row was **not** included in training that tree. This allows us to see whether the model is over-fitting, without needing a separate validation set.\n",
    "\n",
    "This also has the benefit of allowing us to see whether our model generalizes, even if we only have a small amount of data so want to avoid separating some out to create a validation set.\n",
    "\n",
    "This is as simple as adding one more parameter to our model constructor. We print the OOB error last in our `print_score` function below."
   ]
  },
  {
   "cell_type": "code",
   "execution_count": 57,
   "metadata": {},
   "outputs": [
    {
     "name": "stdout",
     "output_type": "stream",
     "text": [
      "[0.009561868755050135, 0.035846645901854594, 0.9795238107258663, 0.7670526172575465, 0.8558794766591288]\n"
     ]
    }
   ],
   "source": [
    "m = RandomForestRegressor(n_estimators=40, n_jobs=-1, oob_score=True)\n",
    "m.fit(X_train, y_train)\n",
    "print_score(m)"
   ]
  },
  {
   "cell_type": "markdown",
   "metadata": {},
   "source": [
    "This shows that our validation set time difference is making an impact, as is model over-fitting."
   ]
  },
  {
   "cell_type": "markdown",
   "metadata": {},
   "source": [
    "## Reducing over-fitting"
   ]
  },
  {
   "cell_type": "markdown",
   "metadata": {},
   "source": [
    "### Subsampling"
   ]
  },
  {
   "cell_type": "markdown",
   "metadata": {},
   "source": [
    "It turns out that one of the easiest ways to avoid over-fitting is also one of the best ways to speed up analysis: **subsampling**. Let's **return to using our full dataset**, so that we can demonstrate the impact of this technique."
   ]
  },
  {
   "cell_type": "code",
   "execution_count": 60,
   "metadata": {},
   "outputs": [],
   "source": [
    "# split the full dataset once more\n",
    "df_trn, y_trn, nas = proc_df(df_raw, 'SalePrice')\n",
    "X_train, X_valid = split_vals(df_trn, n_trn)\n",
    "y_train, y_valid = split_vals(y_trn, n_trn)"
   ]
  },
  {
   "cell_type": "markdown",
   "metadata": {},
   "source": [
    "The basic idea is this: rather than limit the total amount of data that our model can access, let's instead limit it to a **different random subset per tree**. That way, given enough trees, the model can still see **all** the data, but for each individual tree it'll be just as fast as if we had cut down our dataset as before."
   ]
  },
  {
   "cell_type": "code",
   "execution_count": 63,
   "metadata": {},
   "outputs": [],
   "source": [
    "# fastai function, set each tree to select a random sample of 20,000 from the full dataset\n",
    "set_rf_samples(20000)"
   ]
  },
  {
   "cell_type": "code",
   "execution_count": 69,
   "metadata": {},
   "outputs": [
    {
     "name": "stderr",
     "output_type": "stream",
     "text": [
      "/home/theboymo/miniconda3/envs/fastai/lib/python3.6/site-packages/sklearn/ensemble/forest.py:246: FutureWarning: The default value of n_estimators will change from 10 in version 0.20 to 100 in 0.22.\n",
      "  \"10 in version 0.20 to 100 in 0.22.\", FutureWarning)\n"
     ]
    },
    {
     "name": "stdout",
     "output_type": "stream",
     "text": [
      "CPU times: user 13.7 s, sys: 548 ms, total: 14.3 s\n",
      "Wall time: 7.61 s\n",
      "[0.024000267820002405, 0.027830904959864653, 0.8768727681790324, 0.859584374112291]\n"
     ]
    }
   ],
   "source": [
    "# can't use 'oob_score' with 'set_rf_samples' - they are incompatble\n",
    "m = RandomForestRegressor(n_jobs=-1)\n",
    "%time m.fit(X_train, y_train)\n",
    "print_score(m)"
   ]
  },
  {
   "cell_type": "markdown",
   "metadata": {},
   "source": [
    "Since each additional tree allows the model to see more data, this approach can make additional trees more useful."
   ]
  },
  {
   "cell_type": "code",
   "execution_count": 70,
   "metadata": {},
   "outputs": [
    {
     "name": "stdout",
     "output_type": "stream",
     "text": [
      "[0.022643691822522682, 0.0264435682305591, 0.890398522013455, 0.8732345511670145]\n"
     ]
    }
   ],
   "source": [
    "m = RandomForestRegressor(n_estimators=40, n_jobs=-1)\n",
    "m.fit(X_train, y_train)\n",
    "print_score(m)"
   ]
  },
  {
   "cell_type": "code",
   "execution_count": null,
   "metadata": {},
   "outputs": [],
   "source": []
  },
  {
   "cell_type": "markdown",
   "metadata": {},
   "source": [
    "### Tree building parameters"
   ]
  },
  {
   "cell_type": "markdown",
   "metadata": {},
   "source": [
    "We revert to using a full bootstrap sample in order to show the impact of other over-fitting avoidance methods."
   ]
  },
  {
   "cell_type": "code",
   "execution_count": 71,
   "metadata": {},
   "outputs": [],
   "source": [
    "reset_rf_samples() # get back to full dataset"
   ]
  },
  {
   "cell_type": "markdown",
   "metadata": {},
   "source": [
    "Let's get a baseline for this full set to compare to."
   ]
  },
  {
   "cell_type": "code",
   "execution_count": 72,
   "metadata": {},
   "outputs": [],
   "source": [
    "def dectree_max_depth(tree):\n",
    "    children_left = tree.children_left\n",
    "    children_right = tree.children_right\n",
    "\n",
    "    def walk(node_id):\n",
    "        if (children_left[node_id] != children_right[node_id]):\n",
    "            left_max = 1 + walk(children_left[node_id])\n",
    "            right_max = 1 + walk(children_right[node_id])\n",
    "            return max(left_max, right_max)\n",
    "        else: # leaf\n",
    "            return 1\n",
    "\n",
    "    root_node_id = 0\n",
    "    return walk(root_node_id)"
   ]
  },
  {
   "cell_type": "code",
   "execution_count": 73,
   "metadata": {},
   "outputs": [
    {
     "name": "stdout",
     "output_type": "stream",
     "text": [
      "CPU times: user 8min 1s, sys: 3.53 s, total: 8min 4s\n",
      "Wall time: 2min 23s\n",
      "[0.007868478307304996, 0.024536244429736537, 0.9867656247895945, 0.8908617558334198, 0.9058030582065997]\n"
     ]
    }
   ],
   "source": [
    "# train on the full dataset\n",
    "m = RandomForestRegressor(n_estimators=40, n_jobs=-1, oob_score=True)\n",
    "%time m.fit(X_train, y_train)\n",
    "print_score(m)"
   ]
  },
  {
   "cell_type": "code",
   "execution_count": 74,
   "metadata": {},
   "outputs": [],
   "source": [
    "t=m.estimators_[0].tree_"
   ]
  },
  {
   "cell_type": "code",
   "execution_count": 75,
   "metadata": {},
   "outputs": [
    {
     "data": {
      "text/plain": [
       "47"
      ]
     },
     "execution_count": 75,
     "metadata": {},
     "output_type": "execute_result"
    }
   ],
   "source": [
    "dectree_max_depth(t)"
   ]
  },
  {
   "cell_type": "code",
   "execution_count": 76,
   "metadata": {},
   "outputs": [
    {
     "name": "stdout",
     "output_type": "stream",
     "text": [
      "CPU times: user 6min 49s, sys: 2.54 s, total: 6min 51s\n",
      "Wall time: 1min 59s\n",
      "[0.014093504508872125, 0.023549466201912266, 0.9575419604672523, 0.89946369527898, 0.9044911780576165]\n"
     ]
    }
   ],
   "source": [
    "m = RandomForestRegressor(\n",
    "    n_estimators=40, \n",
    "    min_samples_leaf=5, \n",
    "    n_jobs=-1, \n",
    "    oob_score=True\n",
    ")\n",
    "%time m.fit(X_train, y_train)\n",
    "print_score(m)"
   ]
  },
  {
   "cell_type": "code",
   "execution_count": 77,
   "metadata": {},
   "outputs": [],
   "source": [
    "t=m.estimators_[0].tree_"
   ]
  },
  {
   "cell_type": "code",
   "execution_count": 78,
   "metadata": {},
   "outputs": [
    {
     "data": {
      "text/plain": [
       "37"
      ]
     },
     "execution_count": 78,
     "metadata": {},
     "output_type": "execute_result"
    }
   ],
   "source": [
    "dectree_max_depth(t)"
   ]
  },
  {
   "cell_type": "markdown",
   "metadata": {},
   "source": [
    "Another way to reduce over-fitting is to grow our trees less deeply. We do this by specifying (with `min_samples_leaf`) that we require some minimum number of rows in every leaf node. This has two benefits:\n",
    "\n",
    "- There are less decision rules for each leaf node; simpler models should generalize better\n",
    "- The predictions are made by averaging more rows in the leaf node, resulting in less volatility"
   ]
  },
  {
   "cell_type": "code",
   "execution_count": 79,
   "metadata": {},
   "outputs": [
    {
     "name": "stdout",
     "output_type": "stream",
     "text": [
      "CPU times: user 7min 5s, sys: 2.99 s, total: 7min 8s\n",
      "Wall time: 2min 5s\n",
      "[0.01152844298067298, 0.023776769559771246, 0.9715905221728117, 0.8975135426718127, 0.90591783078508]\n"
     ]
    }
   ],
   "source": [
    "m = RandomForestRegressor(\n",
    "    n_estimators=40, \n",
    "    min_samples_leaf=3, \n",
    "    n_jobs=-1, \n",
    "    oob_score=True\n",
    ")\n",
    "%time m.fit(X_train, y_train)\n",
    "print_score(m)"
   ]
  },
  {
   "cell_type": "markdown",
   "metadata": {},
   "source": [
    "We can also **increase the amount of variation amongst the trees** by not only use a sample of rows for each tree, but to also using a sample of *columns* for each *split*. We do this by specifying `max_features`, which is the proportion of features to randomly select from at each split."
   ]
  },
  {
   "cell_type": "markdown",
   "metadata": {},
   "source": [
    "- None\n",
    "- 0.5\n",
    "- 'sqrt'"
   ]
  },
  {
   "cell_type": "markdown",
   "metadata": {},
   "source": [
    "- 1, 3, 5, 10, 25, 100"
   ]
  },
  {
   "cell_type": "code",
   "execution_count": 80,
   "metadata": {},
   "outputs": [
    {
     "name": "stdout",
     "output_type": "stream",
     "text": [
      "CPU times: user 3min 50s, sys: 2.33 s, total: 3min 52s\n",
      "Wall time: 1min 11s\n",
      "[0.011930536363045382, 0.022958866935814035, 0.9695742090438557, 0.9044431806548704, 0.9093758627752208]\n"
     ]
    }
   ],
   "source": [
    "m = RandomForestRegressor(\n",
    "    n_estimators=40, \n",
    "    min_samples_leaf=3, \n",
    "    max_features=0.5, \n",
    "    n_jobs=-1, \n",
    "    oob_score=True\n",
    " )\n",
    "%time m.fit(X_train, y_train)\n",
    "print_score(m)"
   ]
  },
  {
   "cell_type": "markdown",
   "metadata": {},
   "source": [
    "We can't compare our results directly with the Kaggle competition, since it used a different validation set (and we can no longer to submit to this competition) - but we can at least see that we're getting similar results to the winners based on the dataset we have.\n",
    "\n",
    "The sklearn docs [show an example](http://scikit-learn.org/stable/auto_examples/ensemble/plot_ensemble_oob.html) of different `max_features` methods with increasing numbers of trees - as you see, using a subset of features on each split requires using more trees, but results in better models:\n",
    "![sklearn max_features chart](http://scikit-learn.org/stable/_images/sphx_glr_plot_ensemble_oob_001.png)"
   ]
  }
 ],
 "metadata": {
  "kernelspec": {
   "display_name": "Python 3",
   "language": "python",
   "name": "python3"
  },
  "language_info": {
   "codemirror_mode": {
    "name": "ipython",
    "version": 3
   },
   "file_extension": ".py",
   "mimetype": "text/x-python",
   "name": "python",
   "nbconvert_exporter": "python",
   "pygments_lexer": "ipython3",
   "version": "3.6.8"
  }
 },
 "nbformat": 4,
 "nbformat_minor": 2
}
