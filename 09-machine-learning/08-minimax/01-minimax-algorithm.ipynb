{
 "cells": [
  {
   "cell_type": "markdown",
   "metadata": {},
   "source": [
    "# MiniMax Algorithm\n",
    "\n",
    "The minimax algorithm is a decision-making algorithm that is used for finding the best move in a two player game. \n",
    "\n",
    "It's central concept is that of thinking ahead. In order for us to determine if making move A is a good idea, we need to think about what our opponent would do if we made that move.\n",
    "\n",
    "We'd guess what our opponent would do by running the minimax algorithm from our opponent's point of view. In the hypothetical world where we made move A, what would they do? Surely they want to win as badly as we do, so they'd evaluate the strength of their move by thinking about what we would do if they made move B.\n",
    "\n",
    "As this process repeats, we can start to make a tree of these hypothetical game states. We'll eventually reach a point where the game is over — we'll reach a leaf of the tree. Either we won, our opponent won, or it was a tie. At this point, the recursion can stop and the game is over.\n",
    "\n",
    "![MiniMax](img/minimax-1.png)"
   ]
  },
  {
   "cell_type": "markdown",
   "metadata": {},
   "source": [
    "### Tic-Tac-Toe game engine"
   ]
  },
  {
   "cell_type": "code",
   "execution_count": 1,
   "metadata": {},
   "outputs": [],
   "source": [
    "from tic_tac_toe import *\n",
    "from copy import deepcopy"
   ]
  },
  {
   "cell_type": "markdown",
   "metadata": {},
   "source": [
    "A board is represented as a list of lists, `my_board`.\n",
    "\n",
    "Player `X` has already made the first move. They've chosen the top right corner. To  print the board, use the `print_board()` function, using `my_board` as a parameter."
   ]
  },
  {
   "cell_type": "code",
   "execution_count": 2,
   "metadata": {},
   "outputs": [
    {
     "name": "stdout",
     "output_type": "stream",
     "text": [
      "|-------------|\n",
      "| Tic Tac Toe |\n",
      "|-------------|\n",
      "|             |\n",
      "|    1 2 X    |\n",
      "|    4 5 6    |\n",
      "|    7 8 9    |\n",
      "|             |\n",
      "|-------------|\n",
      "\n"
     ]
    }
   ],
   "source": [
    "my_board = [\n",
    "\t[\"1\", \"2\", \"X\"],\n",
    "\t[\"4\", \"5\", \"6\"],\n",
    "\t[\"7\", \"8\", \"9\"]    \n",
    "]\n",
    "print_board(my_board)"
   ]
  },
  {
   "cell_type": "markdown",
   "metadata": {},
   "source": [
    "To take a turn use the `select_space()` function. It takes three parameters:\n",
    "\n",
    " - The `board` that you want to take the turn on.\n",
    "\n",
    " - The `space` that you want to fill in. This should be an integer between `1` and `9`.\n",
    " \n",
    " - The `symbol` that you want to put in that space. This should be a string — either an `\"X\"` or an `\"O\"`."
   ]
  },
  {
   "cell_type": "code",
   "execution_count": 3,
   "metadata": {},
   "outputs": [
    {
     "name": "stdout",
     "output_type": "stream",
     "text": [
      "|-------------|\n",
      "| Tic Tac Toe |\n",
      "|-------------|\n",
      "|             |\n",
      "|    X O X    |\n",
      "|    4 O 6    |\n",
      "|    7 8 9    |\n",
      "|             |\n",
      "|-------------|\n",
      "\n"
     ]
    }
   ],
   "source": [
    "select_space(my_board, 5, 'O')\n",
    "select_space(my_board, 1, 'X')\n",
    "select_space(my_board, 2, 'O')\n",
    "print_board(my_board)"
   ]
  },
  {
   "cell_type": "markdown",
   "metadata": {},
   "source": [
    "We can also get a list of the available spaces using `available_moves()` function and passing the `board` as a parameter."
   ]
  },
  {
   "cell_type": "code",
   "execution_count": 4,
   "metadata": {},
   "outputs": [
    {
     "data": {
      "text/plain": [
       "[4, 6, 7, 8, 9]"
      ]
     },
     "execution_count": 4,
     "metadata": {},
     "output_type": "execute_result"
    }
   ],
   "source": [
    "available_moves(my_board)"
   ]
  },
  {
   "cell_type": "markdown",
   "metadata": {},
   "source": [
    "We can check to see if someone has won the game with the `has_won()` function takes the `board` and a `symbol` (either `\"X\"` or `\"O\"`). It returns `True` if that symbol has won the game, and `False` otherwise."
   ]
  },
  {
   "cell_type": "code",
   "execution_count": 5,
   "metadata": {},
   "outputs": [
    {
     "data": {
      "text/plain": [
       "False"
      ]
     },
     "execution_count": 5,
     "metadata": {},
     "output_type": "execute_result"
    }
   ],
   "source": [
    "has_won(my_board, 'X')"
   ]
  },
  {
   "cell_type": "code",
   "execution_count": 6,
   "metadata": {},
   "outputs": [
    {
     "data": {
      "text/plain": [
       "False"
      ]
     },
     "execution_count": 6,
     "metadata": {},
     "output_type": "execute_result"
    }
   ],
   "source": [
    "has_won(my_board, 'O')"
   ]
  },
  {
   "cell_type": "code",
   "execution_count": 7,
   "metadata": {},
   "outputs": [
    {
     "data": {
      "text/plain": [
       "[8, 9]"
      ]
     },
     "execution_count": 7,
     "metadata": {},
     "output_type": "execute_result"
    }
   ],
   "source": [
    "select_space(my_board, 4, 'X')\n",
    "select_space(my_board, 6, 'O')\n",
    "select_space(my_board, 7, 'X')\n",
    "\n",
    "available_moves(my_board)"
   ]
  },
  {
   "cell_type": "code",
   "execution_count": 8,
   "metadata": {},
   "outputs": [
    {
     "data": {
      "text/plain": [
       "False"
      ]
     },
     "execution_count": 8,
     "metadata": {},
     "output_type": "execute_result"
    }
   ],
   "source": [
    "has_won(my_board, 'O')"
   ]
  },
  {
   "cell_type": "code",
   "execution_count": 9,
   "metadata": {},
   "outputs": [
    {
     "data": {
      "text/plain": [
       "True"
      ]
     },
     "execution_count": 9,
     "metadata": {},
     "output_type": "execute_result"
    }
   ],
   "source": [
    "has_won(my_board, 'X')"
   ]
  },
  {
   "cell_type": "code",
   "execution_count": 10,
   "metadata": {},
   "outputs": [
    {
     "name": "stdout",
     "output_type": "stream",
     "text": [
      "|-------------|\n",
      "| Tic Tac Toe |\n",
      "|-------------|\n",
      "|             |\n",
      "|    X O X    |\n",
      "|    X O O    |\n",
      "|    X 8 9    |\n",
      "|             |\n",
      "|-------------|\n",
      "\n"
     ]
    }
   ],
   "source": [
    "print_board(my_board)"
   ]
  },
  {
   "cell_type": "markdown",
   "metadata": {},
   "source": [
    "### Detecting Tic-Tac-Toe Leaves\n",
    "\n",
    "An essential step in the minimax function is evaluating the strength of a leaf. If the game gets to a certain leaf, we want to know if that was a better outcome for player \"X\" or for player \"O\".\n",
    "\n",
    "One potential way to evaluate the situation: \n",
    "\n",
    " - a leaf where player \"X\" wins evaluates to a 1\n",
    "\n",
    " - a leaf where player \"O\" wins evaluates to a -1\n",
    "\n",
    " - a leaf that is a tie evaluates to 0."
   ]
  },
  {
   "cell_type": "markdown",
   "metadata": {},
   "source": [
    "First, we need to detect whether a board is a leaf, i.e. the game is over. A game is over if either player has won, or if there are no more open spaces.\n",
    "\n",
    "If the game is over, we now want to evaluate the state of the board. If \"X\" won, the board should have a value of 1. If \"O\" won, the board should have a value of -1. If neither player won, it was a tie, and the board should have a value of 0."
   ]
  },
  {
   "cell_type": "code",
   "execution_count": 11,
   "metadata": {},
   "outputs": [],
   "source": [
    "# return True if game is over, False otherwise\n",
    "def game_is_over(board):\n",
    "  return len(available_moves(board)) == 0 or has_won(board, 'X') or has_won(board, 'O')"
   ]
  },
  {
   "cell_type": "code",
   "execution_count": 12,
   "metadata": {},
   "outputs": [
    {
     "name": "stdout",
     "output_type": "stream",
     "text": [
      "False\n",
      "True\n",
      "True\n",
      "True\n"
     ]
    }
   ],
   "source": [
    "start_board = [\n",
    "\t[\"1\", \"2\", \"3\"],\n",
    "\t[\"4\", \"5\", \"6\"],\n",
    "\t[\"7\", \"8\", \"9\"]\n",
    "]\n",
    "\n",
    "x_won = [\n",
    "\t[\"X\", \"O\", \"3\"],\n",
    "\t[\"4\", \"X\", \"O\"],\n",
    "\t[\"7\", \"8\", \"X\"]\n",
    "]\n",
    "\n",
    "o_won = [\n",
    "\t[\"O\", \"X\", \"3\"],\n",
    "\t[\"O\", \"X\", \"X\"],\n",
    "\t[\"O\", \"8\", \"9\"]\n",
    "]\n",
    "\n",
    "tie = [\n",
    "\t[\"X\", \"X\", \"O\"],\n",
    "\t[\"O\", \"O\", \"X\"],\n",
    "\t[\"X\", \"O\", \"X\"]\n",
    "]\n",
    "\n",
    "print(game_is_over(start_board))\n",
    "print(game_is_over(x_won))\n",
    "print(game_is_over(o_won))\n",
    "print(game_is_over(tie))"
   ]
  },
  {
   "cell_type": "code",
   "execution_count": 13,
   "metadata": {},
   "outputs": [
    {
     "name": "stdout",
     "output_type": "stream",
     "text": [
      "1\n",
      "-1\n",
      "0\n"
     ]
    }
   ],
   "source": [
    "# takes board as a parameter,  called if we've detected the game is over. \n",
    "# The function should return a 1 if \"X\" won, a -1 if \"O\" won, and a 0 otherwise.\n",
    "def evaluate_board(board):\n",
    "  if has_won(board, 'X'):\n",
    "    return 1\n",
    "  elif has_won(board, 'O'):\n",
    "    return -1\n",
    "  else:\n",
    "    return 0\n",
    "\n",
    "if (game_is_over(start_board)):\n",
    "  print(evaluate_board(start_board))\n",
    "if (game_is_over(x_won)):\n",
    "  print(evaluate_board(x_won))\n",
    "if (game_is_over(o_won)):\n",
    "  print(evaluate_board(o_won))\n",
    "if (game_is_over(tie)):\n",
    "  print(evaluate_board(tie))"
   ]
  },
  {
   "cell_type": "markdown",
   "metadata": {},
   "source": [
    "### Evaluating Leaves\n",
    "\n",
    "Imagine a situation where you're playing as the `\"X\"` player in a game of Tic-Tac-Toe and the game is almost over. The game board isn't a leaf but it's close. You have three possible moves. All three moves will immediately end the game — each of those future boards will be leaves.\n",
    "\n",
    "Let's say picking move A will result in you winning and moves B and C will each result in a tie. You'd clearly pick move A.\n",
    "\n",
    "By picking move A, you've picked the move that led to the board with the highest value. You were picking between a `1` (an `\"X\"` win) or two `0`s (the moves that would lead to a tie). Because you picked the move with the highest value, we can say that `\"X\"` is the maximizing player.\n",
    "\n",
    "Let's say you were playing a the `\"O\"` player under the same circumstances. Picking move A would somehow immediately lead to `\"X\"` winning, while moves B and C would lead to a tie. You'd pick one of the boards that would lead to a tie. `\"O\"` is the minimizing player. You would love to pick a board with the value of `-1` (an `\"O\"` win), but unfortunately, that board doesn't exist. You'll have to settle with picking a board with the value of `0`. At least you prevent `\"X\"` from winning.\n",
    "\n",
    "Take a look at the gif below to see the minimax algorithm running on a game of Tic-Tac-Toe where the tree is slightly bigger. The leaf nodes get evaluated and those values get passed up the tree depending based on whether it was the minimizing or maximizing player's turn.\n",
    "\n",
    "The root of the tree ends up with a value of `0`. This means that the best move for the current player is the move that corresponded with the value of `0`.\n",
    "\n",
    "![Tic Tac Toe](img/tic-tac-toe.gif)"
   ]
  },
  {
   "cell_type": "markdown",
   "metadata": {},
   "source": [
    "### Writing the Minimax Function\n",
    "\n",
    "The result of this function will be the \"value\" of the best possible move.\n",
    "\n",
    "If the function returns a `1`, that means a move exists that guarantees that `\"X\"` will win. \n",
    "\n",
    "If the function returns a `-1`, that means that there's nothing that `\"X\"` can do to prevent `\"O\"` from winning. \n",
    "\n",
    "If the function returns a `0`, then the best `\"X\"` can do is force a tie (assuming `\"O\"` doesn't make a mistake).\n",
    "\n",
    "The function takes two parameters. The 1st, the current game state, the 2nd, the boolean `is_maximizing` which represents whose turn it is.\n",
    "\n",
    "If `is_maximizing` is `True`, then we know we're working with the maximizing player. This means when we're picking the \"best\" move from the list of moves, we'll pick the move with the highest value. \n",
    " \n",
    "If `is_maximizing` is `False`, then we're the minimizing player and want to pick the minimum value."
   ]
  },
  {
   "cell_type": "markdown",
   "metadata": {},
   "source": [
    "We've started the minimax() function with the base case:\n",
    "\n",
    "```py\n",
    "def minimax(input_board, is_maximizing):\n",
    "  # Base case - the game is over, so we return the value of the board\n",
    "  if game_is_over(input_board):\n",
    "    return evaluate_board(input_board)\n",
    "```\n",
    "\n",
    "We now need to define what should happen if the node isn't a leaf.\n",
    "\n",
    "We'll want to set up some variables that are different depending on whether `is_maximizing` is `True` or `False`:\n",
    "\n",
    "`best_value` - will keep track of the highest possible value from all of the potential moves.\n",
    "\n",
    "We'll start with `is_maximizing` is `True`. Right now, we haven't looked at any moves, so we should start `best_value` at something lower than the lowest possible value: `-float(\"Inf\")`. If the `is_maximizing` is `False`, we'll be setting up variables for the minimizing player. In this case, `best_value` should start at `float(\"Inf\")`.\n",
    "\n",
    "```py\n",
    "def minimax(input_board, is_maximizing):\n",
    "  # Base case - the game is over, so we return the value of the board\n",
    "  if game_is_over(input_board):\n",
    "    return evaluate_board(input_board)\n",
    "  \n",
    "  if is_maximizing:\n",
    "    # we're working with the maximizing player\n",
    "    best_value = -float('Inf')\n",
    "  else:\n",
    "    # we're working with the minimizing player\n",
    "    best_value = float('Inf')\n",
    "  return best_value  \n",
    "```\n",
    "\n",
    "We now want to loop through all of the possible moves of input_board before the return statement. We're looking to find the best possible move. We can get all of the possible moves by calling `available_moves()` using `input_board` as a parameter.\n",
    "\n",
    "\n",
    "```py\n",
    "def minimax(input_board, is_maximizing):\n",
    "  # Base case - the game is over, so we return the value of the board\n",
    "  if game_is_over(input_board):\n",
    "    return evaluate_board(input_board)\n",
    "  if is_maximizing:\n",
    "    best_value = -float('Inf')\n",
    "  else:\n",
    "    best_value = float('Inf')\n",
    "  \n",
    "  for move in available_moves(input_board):\n",
    "    print(move)\n",
    "  return best_value\n",
    "\n",
    "minimax(x_winning, True) # [2,4,6,7,8]\n",
    "```\n",
    "\n",
    "Instead of printing the move in the loop, we'll create a copy of our board and apply each move to the `ne_ board`. The `symbol` is different depending on whether we're the maximizing or minimizing player. In your if and else statements, create a variable named symbol. symbol should be \"X\" if we're the maximizing player and \"O\" if we're the minimizing player. Return the `new_board`.\n",
    "\n",
    "```py\n",
    "def minimax(input_board, is_maximizing):\n",
    "  # Base case - the game is over, so we return the value of the board\n",
    "  if game_is_over(input_board):\n",
    "    return evaluate_board(input_board)\n",
    "  if is_maximizing:\n",
    "    best_value = -float('Inf')\n",
    "    symbol = 'X'\n",
    "  else:\n",
    "    best_value = float('Inf')\n",
    "    symbol = 'O'\n",
    "    \n",
    "  for move in available_moves(input_board):\n",
    "    # determine which is the best move\n",
    "    new_board = deepcopy(input_board)\n",
    "    select_space(new_board, move, symbol)\n",
    "    \n",
    "  return new_board\n",
    "```"
   ]
  },
  {
   "cell_type": "markdown",
   "metadata": {},
   "source": [
    "#### making the recursive call\n",
    "\n",
    "We have our variable called `best_value`. We've made a hypothetical board where we've made one of our potential moves. We now want to know whether the value of that board is better than our current `best_value`.\n",
    "\n",
    "In order to find the value of the hypothetical board, we'll call minimax():\n",
    "\n",
    "The first parameter will be the `new_board`, the hypothetical board that we just made.\n",
    "\n",
    "The second parameter is dependent on whether we're the maximizing or minimizing player. If `is_maximizing` is `True`, then the new parameter should be `False`. If `is_maximizing` is `False`, then we should give the recursive call `True`. To give the recursive call the opposite of `is_maximizing`, we can give it `not is_maximizing`.\n",
    "\n",
    "That call to `minimax()` will return the value of the hypothetical board. We can then compare the value to our `best_value`. If the value of the hypothetical board was better than `best_value`, then we should make that value the new `best_value`.\n",
    "\n",
    "```py\n",
    "def minimax(input_board, is_maximizing):\n",
    "  # Base case - the game is over, so we return the value of the board\n",
    "  if game_is_over(input_board):\n",
    "    return evaluate_board(input_board)\n",
    " \n",
    "  if is_maximizing == True:\n",
    "    best_value = -float(\"Inf\")\n",
    "    symbol = \"X\"\n",
    "  else:\n",
    "    best_value = float(\"Inf\")\n",
    "    symbol = \"O\"\n",
    "    \n",
    "  for move in available_moves(input_board):\n",
    "    new_board = deepcopy(input_board)\n",
    "    select_space(new_board, move, symbol)\n",
    "    # make the recursive call\n",
    "    hypothetical_value = minimax(new_board, not is_maximizing)\n",
    "  return hypothetical_value\n",
    "```"
   ]
  },
  {
   "cell_type": "markdown",
   "metadata": {},
   "source": [
    "Now that we have `hypothetical_value` we want to see if it is better than best_value.\n",
    "\n",
    "If `is_maximizing` is `True`, then `best_value` should become the value of `hypothetical_value` if `hypothetical_value` is greater than `best_value`.\n",
    "\n",
    "If `is_maximizing` is `False`, then `best_value` should become the value of `hypothetical_value` if `hypothetical_value` is less than `best_value`.\n",
    "\n",
    "\n",
    "```py\n",
    "def minimax(input_board, is_maximizing):\n",
    "  # Base case - the game is over, so we return the value of the board\n",
    "  if game_is_over(input_board):\n",
    "    return evaluate_board(input_board)\n",
    " \n",
    "  if is_maximizing == True:\n",
    "    best_value = -float(\"Inf\")\n",
    "    symbol = \"X\"\n",
    "  else:\n",
    "    best_value = float(\"Inf\")\n",
    "    symbol = \"O\"\n",
    "    \n",
    "  for move in available_moves(input_board):\n",
    "    new_board = deepcopy(input_board)\n",
    "    select_space(new_board, move, symbol)\n",
    "    # make the recursive call\n",
    "    hypothetical_value = minimax(new_board, not is_maximizing)\n",
    "    if is_maximizing:\n",
    "      if hypothetical_value > best_value:\n",
    "        best_value = hypothetical_value\n",
    "    else:\n",
    "      if hypothetical_value < best_value:\n",
    "        best_value = hypothetical_value\n",
    "      \n",
    "  return best_value\n",
    "```"
   ]
  },
  {
   "cell_type": "code",
   "execution_count": 15,
   "metadata": {},
   "outputs": [],
   "source": [
    "# minimax function so far\n",
    "def minimax(input_board, is_maximizing):\n",
    "  # Base case - the game is over, so we return the value of the board\n",
    "  if game_is_over(input_board):\n",
    "    return evaluate_board(input_board)\n",
    " \n",
    "  if is_maximizing == True:\n",
    "    best_value = -float(\"Inf\")\n",
    "    symbol = \"X\"\n",
    "  else:\n",
    "    best_value = float(\"Inf\")\n",
    "    symbol = \"O\"\n",
    "    \n",
    "  for move in available_moves(input_board):\n",
    "    new_board = deepcopy(input_board)\n",
    "    select_space(new_board, move, symbol)\n",
    "    # make the recursive call\n",
    "    hypothetical_value = minimax(new_board, not is_maximizing)\n",
    "    if is_maximizing:\n",
    "      if hypothetical_value > best_value:\n",
    "        best_value = hypothetical_value\n",
    "    else:\n",
    "      if hypothetical_value < best_value:\n",
    "        best_value = hypothetical_value\n",
    "      \n",
    "  return best_value"
   ]
  },
  {
   "cell_type": "code",
   "execution_count": 17,
   "metadata": {},
   "outputs": [
    {
     "name": "stdout",
     "output_type": "stream",
     "text": [
      "1\n",
      "-1\n",
      "0\n"
     ]
    }
   ],
   "source": [
    "# Test minimax function\n",
    "# Test the minimax function\n",
    "new_game = [\n",
    "\t[\"1\", \"2\", \"3\"],\n",
    "\t[\"4\", \"5\", \"6\"],\n",
    "\t[\"7\", \"8\", \"9\"]\n",
    "]\n",
    "\n",
    "x_winning = [\n",
    "\t[\"X\", \"2\", \"O\"],\n",
    "\t[\"4\", \"O\", \"6\"],\n",
    "\t[\"7\", \"8\", \"X\"]\n",
    "]\n",
    "\n",
    "o_winning = [\n",
    "\t[\"X\", \"X\", \"O\"],\n",
    "\t[\"4\", \"X\", \"6\"],\n",
    "\t[\"7\", \"O\", \"O\"]\n",
    "]\n",
    "\n",
    "# it's 'X' turn, so set 'is_maximizing' to 'True'\n",
    "print(minimax(x_winning, True))\n",
    "print(minimax(o_winning, True))\n",
    "# start a new game\n",
    "print(minimax(new_game, True))"
   ]
  },
  {
   "cell_type": "markdown",
   "metadata": {},
   "source": [
    "Right now our minimax() function is returning the value of the best possible move. So if our final answer is a 1, we know that \"X\" should be able to win the game. But aren't keeping track of what move will cause that!\n",
    "\n",
    "First, we'll create `best_move` to keep track of the best move. When ever we find a new `best_value`, we'll update `best_move` with that value.\n",
    "\n",
    "Second, we'll return `best_move` at the end. But in order for the recursion to work, the algorithm is dependent on returning best_value. To fix this, we'll now return a list `[best_value, best_move]`."
   ]
  },
  {
   "cell_type": "code",
   "execution_count": 18,
   "metadata": {},
   "outputs": [],
   "source": [
    "# completed minimax - keeps track of the 'best_move'\n",
    "def minimax(input_board, is_maximizing):\n",
    "  # Base case - the game is over, so we return the value of the board\n",
    "  if game_is_over(input_board):\n",
    "    # return evaluate_board(input_board)\n",
    "    return [evaluate_board(input_board), \"\"]\n",
    "  best_move = ''\n",
    "  if is_maximizing == True:\n",
    "    best_value = -float(\"Inf\")\n",
    "    symbol = \"X\"\n",
    "  else:\n",
    "    best_value = float(\"Inf\")\n",
    "    symbol = \"O\"\n",
    "  for move in available_moves(input_board):\n",
    "    new_board = deepcopy(input_board)\n",
    "    select_space(new_board, move, symbol)\n",
    "    hypothetical_value = minimax(new_board, not is_maximizing)[0]\n",
    "    if is_maximizing == True and hypothetical_value > best_value:\n",
    "      best_value = hypothetical_value\n",
    "      best_move = move\n",
    "    if is_maximizing == False and hypothetical_value < best_value:\n",
    "      best_value = hypothetical_value\n",
    "      best_move = move\n",
    "  return [best_value, best_move]"
   ]
  },
  {
   "cell_type": "code",
   "execution_count": 19,
   "metadata": {},
   "outputs": [
    {
     "name": "stdout",
     "output_type": "stream",
     "text": [
      "[1, 7]\n",
      "[-1, 4]\n",
      "[0, 1]\n"
     ]
    }
   ],
   "source": [
    "# test the function so far\n",
    "# it's 'X' turn, so set 'is_maximizing' to 'True'\n",
    "print(minimax(x_winning, True))\n",
    "print(minimax(o_winning, True))\n",
    "# start a new game\n",
    "print(minimax(new_game, True))"
   ]
  },
  {
   "cell_type": "markdown",
   "metadata": {},
   "source": [
    "Our `minimax()` function is now returning a list of `[value, move]`. `move` gives you the number you should pick to play an optimal game of Tic-Tac-Toe for any given game state, i.e. the next move you should pick for the current state.\n",
    "\n",
    "You can try having two AIs play each other. The two AIs will play each other until the game is over."
   ]
  },
  {
   "cell_type": "code",
   "execution_count": 21,
   "metadata": {},
   "outputs": [
    {
     "name": "stdout",
     "output_type": "stream",
     "text": [
      "|-------------|\n",
      "| Tic Tac Toe |\n",
      "|-------------|\n",
      "|             |\n",
      "|    X 2 3    |\n",
      "|    4 5 6    |\n",
      "|    7 8 9    |\n",
      "|             |\n",
      "|-------------|\n",
      "\n",
      "|-------------|\n",
      "| Tic Tac Toe |\n",
      "|-------------|\n",
      "|             |\n",
      "|    X 2 3    |\n",
      "|    4 O 6    |\n",
      "|    7 8 9    |\n",
      "|             |\n",
      "|-------------|\n",
      "\n",
      "|-------------|\n",
      "| Tic Tac Toe |\n",
      "|-------------|\n",
      "|             |\n",
      "|    X X 3    |\n",
      "|    4 O 6    |\n",
      "|    7 8 9    |\n",
      "|             |\n",
      "|-------------|\n",
      "\n",
      "|-------------|\n",
      "| Tic Tac Toe |\n",
      "|-------------|\n",
      "|             |\n",
      "|    X X O    |\n",
      "|    4 O 6    |\n",
      "|    7 8 9    |\n",
      "|             |\n",
      "|-------------|\n",
      "\n",
      "|-------------|\n",
      "| Tic Tac Toe |\n",
      "|-------------|\n",
      "|             |\n",
      "|    X X O    |\n",
      "|    4 O 6    |\n",
      "|    X 8 9    |\n",
      "|             |\n",
      "|-------------|\n",
      "\n",
      "|-------------|\n",
      "| Tic Tac Toe |\n",
      "|-------------|\n",
      "|             |\n",
      "|    X X O    |\n",
      "|    O O 6    |\n",
      "|    X 8 9    |\n",
      "|             |\n",
      "|-------------|\n",
      "\n",
      "|-------------|\n",
      "| Tic Tac Toe |\n",
      "|-------------|\n",
      "|             |\n",
      "|    X X O    |\n",
      "|    O O X    |\n",
      "|    X 8 9    |\n",
      "|             |\n",
      "|-------------|\n",
      "\n",
      "|-------------|\n",
      "| Tic Tac Toe |\n",
      "|-------------|\n",
      "|             |\n",
      "|    X X O    |\n",
      "|    O O X    |\n",
      "|    X O 9    |\n",
      "|             |\n",
      "|-------------|\n",
      "\n",
      "|-------------|\n",
      "| Tic Tac Toe |\n",
      "|-------------|\n",
      "|             |\n",
      "|    X X O    |\n",
      "|    O O X    |\n",
      "|    X O X    |\n",
      "|             |\n",
      "|-------------|\n",
      "\n"
     ]
    }
   ],
   "source": [
    "# have the AI play against itself\n",
    "my_new_board = [\n",
    "\t[\"1\", \"2\", \"3\"],\n",
    "\t[\"4\", \"5\", \"6\"],\n",
    "\t[\"7\", \"8\", \"9\"]\n",
    "]\n",
    "while not game_is_over(my_new_board):\n",
    "  # instructs the AI to make a move as the \"X\" player:\n",
    "  select_space(my_new_board, minimax(my_new_board, True)[1], \"X\")\n",
    "  print_board(my_new_board)\n",
    "  if not game_is_over(my_new_board):\n",
    "    select_space(my_new_board, minimax(my_new_board, False)[1], \"O\")\n",
    "    print_board(my_new_board)  "
   ]
  },
  {
   "cell_type": "markdown",
   "metadata": {},
   "source": [
    "To take alternating turns:\n",
    "\n",
    "If you're playing with \"X\"s, make your move as \"X\", and then call` minimax()` on the board using `is_maximizing = False`. The second item in that list will tell you the AI's move. \n",
    "\n",
    "You can then enter the move for the AI as \"O\", make your next move as \"X\", and call the `minimax()` function again to get the AI's next move."
   ]
  },
  {
   "cell_type": "markdown",
   "metadata": {},
   "source": [
    "### Review\n",
    "\n",
    "1. A game can be represented as a tree. The current state of the game is the root of the tree, and each potential move is a child of that node. The leaves of the tree are game states where the game has ended (either in a win or a tie).\n",
    "\n",
    "2. The minimax algorithm returns the best possible move for a given game state. It assumes that your opponent will also be using the minimax algorithm to determine their best move.\n",
    "\n",
    "3. Game states can be evaluated and given a specific score. This is relatively easy when the game is over — the score is usually a 1, -1 depending on who won. If the game is a tie, the score is usually a 0."
   ]
  }
 ],
 "metadata": {
  "kernelspec": {
   "display_name": "Python 3",
   "language": "python",
   "name": "python3"
  },
  "language_info": {
   "codemirror_mode": {
    "name": "ipython",
    "version": 3
   },
   "file_extension": ".py",
   "mimetype": "text/x-python",
   "name": "python",
   "nbconvert_exporter": "python",
   "pygments_lexer": "ipython3",
   "version": "3.7.0"
  }
 },
 "nbformat": 4,
 "nbformat_minor": 2
}
