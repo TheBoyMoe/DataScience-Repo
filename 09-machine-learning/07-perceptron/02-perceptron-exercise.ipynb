{
 "cells": [
  {
   "cell_type": "markdown",
   "metadata": {},
   "source": [
    "# Exercise - Perceptron Logic Gate using Scikit-Learn\n",
    "\n",
    "We will use perceptrons to model the fundamental building blocks of computers — logic gates.\n",
    "\n",
    "![Perceptron](img/perceptron-7.png)"
   ]
  },
  {
   "cell_type": "markdown",
   "metadata": {},
   "source": [
    "The table below shows the results of an AND gate. Given two inputs, an AND gate will output a 1 only if both inputs are a 1:\n",
    "\n",
    "![Perceptron](img/perceptron-8.png)"
   ]
  },
  {
   "cell_type": "markdown",
   "metadata": {},
   "source": [
    " XOR gate — a gate that outputs a 1 only if one of the inputs is a 1:\n",
    "\n",
    "![Perceptron](img/perceptron-9.png)"
   ]
  },
  {
   "cell_type": "markdown",
   "metadata": {},
   "source": [
    "An AND gate can be thought of as linearly separable data and we can train a perceptron to perform AND.\n",
    "\n",
    "An XOR gate isn't linearly separable and so a perceptron fails to learn XOR."
   ]
  },
  {
   "cell_type": "code",
   "execution_count": 2,
   "metadata": {},
   "outputs": [],
   "source": [
    "from sklearn.linear_model import Perceptron\n",
    "import matplotlib.pyplot as plt\n",
    "import numpy as np\n",
    "from itertools import product"
   ]
  },
  {
   "cell_type": "markdown",
   "metadata": {},
   "source": [
    "Think of an AND gate as a dataset of four points. The four points should be the four possible inputs to the AND gate. For example, the first point in the dataset should be [0, 0]."
   ]
  },
  {
   "cell_type": "code",
   "execution_count": 3,
   "metadata": {},
   "outputs": [],
   "source": [
    "data = [[0,0], [0,1], [1,0], [1,1]]"
   ]
  },
  {
   "cell_type": "markdown",
   "metadata": {},
   "source": [
    "Each data point should have a label associated with it. The label will be the result of the AND gate given the input. This should be a list where each label corresponds to a point in data."
   ]
  },
  {
   "cell_type": "code",
   "execution_count": 10,
   "metadata": {},
   "outputs": [],
   "source": [
    "and_labels = [0, 0, 0, 1]\n",
    "xor_labels = [0, 1, 1, 0]\n",
    "or_labels = [0, 1, 1, 1]"
   ]
  },
  {
   "cell_type": "markdown",
   "metadata": {},
   "source": [
    "Plot these four points on a graph.\n",
    "\n",
    "Call plt.scatter() using three parameters:\n",
    "\n",
    "The first parameter should be a list of the x values of each point. You can get this using list comprehension — [point[0] for point in data].\n",
    "\n",
    "The second parameter should be a list of the y values of each point. \n",
    "\n",
    "The third parameter should be c = labels. This will make the points with label 1 a different color than points with label 0."
   ]
  },
  {
   "cell_type": "code",
   "execution_count": 12,
   "metadata": {},
   "outputs": [
    {
     "data": {
      "text/plain": [
       "<matplotlib.collections.PathCollection at 0x7f57fa435d30>"
      ]
     },
     "execution_count": 12,
     "metadata": {},
     "output_type": "execute_result"
    },
    {
     "data": {
      "image/png": "[encoded data removed]",
      "text/plain": [
       "<Figure size 432x288 with 1 Axes>"
      ]
     },
     "metadata": {
      "needs_background": "light"
     },
     "output_type": "display_data"
    }
   ],
   "source": [
    "x = [point[0] for point in data]\n",
    "y = [point[1] for point in data]\n",
    "\n",
    "plt.scatter(x, y, c=and_labels)"
   ]
  },
  {
   "cell_type": "markdown",
   "metadata": {},
   "source": [
    "The data is linearly separable because you can draw a line separating the yellow(1) dot from the black(0) dots, there is a clear boundary."
   ]
  },
  {
   "cell_type": "markdown",
   "metadata": {},
   "source": [
    "### Build the Perceptron\n",
    "\n",
    "Build a perceptron to learn AND. Create a Perceptron object named classifier. For now, set the parameter `max_iter` to 40. `max_iter` sets the number of times the perceptron loops through the training data. The default is 1000,"
   ]
  },
  {
   "cell_type": "code",
   "execution_count": 13,
   "metadata": {},
   "outputs": [
    {
     "name": "stdout",
     "output_type": "stream",
     "text": [
      "<class 'sklearn.linear_model.perceptron.Perceptron'>\n"
     ]
    }
   ],
   "source": [
    "classifier_and = Perceptron(max_iter=40)\n",
    "print(type(classifier_and))"
   ]
  },
  {
   "cell_type": "code",
   "execution_count": 15,
   "metadata": {},
   "outputs": [
    {
     "name": "stdout",
     "output_type": "stream",
     "text": [
      "1.0\n"
     ]
    }
   ],
   "source": [
    "# train the model\n",
    "classifier_and.fit(data, and_labels)\n",
    "\n",
    "# test the model's accuracy, did it learn AND\n",
    "print(classifier.score(data, and_labels)) # 1.0 get correct answer 100% of the time"
   ]
  },
  {
   "cell_type": "markdown",
   "metadata": {},
   "source": [
    "Your perceptron should have 100% accuracy, the perceptron preicts the correct answer 100% of the time.\n",
    "\n",
    "Note that it is pretty unusual to train and test on the same dataset. In this case, since there are only four possible inputs to AND, we're stuck training on every possible input and testing on those same points.\n",
    "\n",
    "Let's change the labels so your data now represents an XOR gate. The label should be a 1 only if one of the inputs is a 1. What is the accuracy of the perceptron now? Is the data linearly separable?"
   ]
  },
  {
   "cell_type": "code",
   "execution_count": 16,
   "metadata": {},
   "outputs": [
    {
     "name": "stdout",
     "output_type": "stream",
     "text": [
      "0.5\n"
     ]
    }
   ],
   "source": [
    "# build, train and test model's accuracy to predict XOR gate\n",
    "classifier_xor = Perceptron(max_iter=40)\n",
    "classifier_xor.fit(data, xor_labels)\n",
    "print(classifier_xor.score(data, xor_labels)) # 0.5"
   ]
  },
  {
   "cell_type": "markdown",
   "metadata": {},
   "source": [
    "A score of 50% means data not linearly seperable"
   ]
  },
  {
   "cell_type": "code",
   "execution_count": 17,
   "metadata": {},
   "outputs": [
    {
     "data": {
      "text/plain": [
       "<matplotlib.collections.PathCollection at 0x7f57fa36d2e8>"
      ]
     },
     "execution_count": 17,
     "metadata": {},
     "output_type": "execute_result"
    },
    {
     "data": {
      "image/png": "[encoded data removed]",
      "text/plain": [
       "<Figure size 432x288 with 1 Axes>"
      ]
     },
     "metadata": {
      "needs_background": "light"
     },
     "output_type": "display_data"
    }
   ],
   "source": [
    "plt.scatter(x, y, c=xor_labels)"
   ]
  },
  {
   "cell_type": "code",
   "execution_count": 18,
   "metadata": {},
   "outputs": [
    {
     "name": "stdout",
     "output_type": "stream",
     "text": [
      "1.0\n"
     ]
    }
   ],
   "source": [
    "# build, train and test model's accuracy to predict OR gate\n",
    "classifier_or = Perceptron(max_iter=40)\n",
    "classifier_or.fit(data, or_labels)\n",
    "print(classifier_or.score(data, or_labels))"
   ]
  },
  {
   "cell_type": "code",
   "execution_count": 19,
   "metadata": {},
   "outputs": [
    {
     "data": {
      "text/plain": [
       "<matplotlib.collections.PathCollection at 0x7f57fa2c3470>"
      ]
     },
     "execution_count": 19,
     "metadata": {},
     "output_type": "execute_result"
    },
    {
     "data": {
      "image/png": "[encoded data removed]",
      "text/plain": [
       "<Figure size 432x288 with 1 Axes>"
      ]
     },
     "metadata": {
      "needs_background": "light"
     },
     "output_type": "display_data"
    }
   ],
   "source": [
    "plt.scatter(x, y, c=or_labels)"
   ]
  },
  {
   "cell_type": "markdown",
   "metadata": {},
   "source": [
    "Let's try to visualize what decision boundary the perceptron is making for the AND gate.\n",
    "\n",
    "Given a list of points, the `.decision_function()` returns the distance those points are from the decision boundary. The closer the number is to 0, the closer that point is to the decision boundary."
   ]
  },
  {
   "cell_type": "code",
   "execution_count": 20,
   "metadata": {},
   "outputs": [
    {
     "name": "stdout",
     "output_type": "stream",
     "text": [
      "[-4.   1.  -1.5]\n"
     ]
    }
   ],
   "source": [
    "# [-4.   1.  -1.5] distance each point is from the decision boundary - \n",
    "# 0.0 is the furthest point from the decision boundary\n",
    "print(classifier_and.decision_function([[0, 0], [1, 1], [0.5, 0.5]]))"
   ]
  },
  {
   "cell_type": "markdown",
   "metadata": {},
   "source": [
    "If we do this for a grid of points, we can make a heat map that reveals the decision boundary.\n",
    " \n",
    "To begin, we need to create a list of the points we want to input to `.decision_function()`.\n",
    "\n",
    "Create a list, `x_values` should be a list of 100 evenly spaced decimals between 0 and 1."
   ]
  },
  {
   "cell_type": "code",
   "execution_count": 25,
   "metadata": {},
   "outputs": [],
   "source": [
    "x_values = np.linspace(0, 1, 100)\n",
    "y_values = np.linspace(0, 1, 100)"
   ]
  },
  {
   "cell_type": "markdown",
   "metadata": {},
   "source": [
    "We now want to find every possible combination of those x and y values using the `product` method."
   ]
  },
  {
   "cell_type": "code",
   "execution_count": 27,
   "metadata": {},
   "outputs": [],
   "source": [
    "point_grid = list(product(x_values, y_values)) # 10,000 points"
   ]
  },
  {
   "cell_type": "markdown",
   "metadata": {},
   "source": [
    "Call classifier's `.decision_function()` method using point_grid as a parameter."
   ]
  },
  {
   "cell_type": "code",
   "execution_count": 29,
   "metadata": {},
   "outputs": [],
   "source": [
    "distances = classifier_and.decision_function(point_grid)\n",
    "print(distance)"
   ]
  },
  {
   "cell_type": "markdown",
   "metadata": {},
   "source": [
    "Right now distances stores positive and negative values. We only care about how far away a point is from the boundary, iterate through the list and take the absolute value of each distance."
   ]
  },
  {
   "cell_type": "code",
   "execution_count": 30,
   "metadata": {},
   "outputs": [],
   "source": [
    "abs_distances = [abs(distance) for distance in distances]"
   ]
  },
  {
   "cell_type": "markdown",
   "metadata": {},
   "source": [
    "We're going to be using Matplotlib's `pcolormesh()` to plot a heat map of our distances.\n",
    "\n",
    "Right now, `abs_distances` is a list of 10000 numbers. `pcolormesh()` needs a two dimensional list. We need to turn abs_distances into a 100 by 100 2D array.\n",
    "\n",
    "We'll use Numpy's `reshape()` method to convert the distances list into a 100x100 2D array:"
   ]
  },
  {
   "cell_type": "code",
   "execution_count": 31,
   "metadata": {},
   "outputs": [
    {
     "name": "stdout",
     "output_type": "stream",
     "text": [
      "[[4.         3.97979798 3.95959596 ... 2.04040404 2.02020202 2.        ]\n",
      " [3.96969697 3.94949495 3.92929293 ... 2.01010101 1.98989899 1.96969697]\n",
      " [3.93939394 3.91919192 3.8989899  ... 1.97979798 1.95959596 1.93939394]\n",
      " ...\n",
      " [1.06060606 1.04040404 1.02020202 ... 0.8989899  0.91919192 0.93939394]\n",
      " [1.03030303 1.01010101 0.98989899 ... 0.92929293 0.94949495 0.96969697]\n",
      " [1.         0.97979798 0.95959596 ... 0.95959596 0.97979798 1.        ]]\n"
     ]
    }
   ],
   "source": [
    "distances_matrix = np.reshape(abs_distances, (100, 100))\n",
    "print(distances_matrix)"
   ]
  },
  {
   "cell_type": "code",
   "execution_count": 32,
   "metadata": {},
   "outputs": [
    {
     "data": {
      "text/plain": [
       "<matplotlib.colorbar.Colorbar at 0x7f57f85442e8>"
      ]
     },
     "execution_count": 32,
     "metadata": {},
     "output_type": "execute_result"
    },
    {
     "data": {
      "image/png": "[encoded data removed]",
      "text/plain": [
       "<Figure size 432x288 with 2 Axes>"
      ]
     },
     "metadata": {
      "needs_background": "light"
     },
     "output_type": "display_data"
    }
   ],
   "source": [
    "# draw the heat map\n",
    "heatmap = plt.pcolormesh(x_values, y_values, distances_matrix)\n",
    "\n",
    "# put a legend on the heat map\n",
    "plt.colorbar(heatmap)"
   ]
  },
  {
   "cell_type": "markdown",
   "metadata": {},
   "source": [
    "The heatmap is a  visualization of what the perceptron is doing. You should see a purple line where the distances are 0. That's the decision boundary!\n",
    "\n",
    "Change your labels back to representing an OR gate. Where does the decision boundary go?\n",
    "\n",
    "Change your labels to represent an XOR gate. Remember, this data is not linearly separable. Where does the decision boundary go?\n",
    "\n",
    "Perceptrons can't solve problems that aren't linearly separable. However, if you combine multiple perceptrons together, you now have a neural net that can solve these problems!\n",
    "\n",
    "This is incredibly similar to logic gates. AND gates and OR gates can't produce the output of XOR gates, but when you combine a few ANDs and ORs, you can make an XOR!"
   ]
  }
 ],
 "metadata": {
  "kernelspec": {
   "display_name": "Python 3",
   "language": "python",
   "name": "python3"
  },
  "language_info": {
   "codemirror_mode": {
    "name": "ipython",
    "version": 3
   },
   "file_extension": ".py",
   "mimetype": "text/x-python",
   "name": "python",
   "nbconvert_exporter": "python",
   "pygments_lexer": "ipython3",
   "version": "3.7.0"
  }
 },
 "nbformat": 4,
 "nbformat_minor": 2
}
