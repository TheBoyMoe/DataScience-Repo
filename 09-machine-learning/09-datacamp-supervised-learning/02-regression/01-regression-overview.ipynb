{
 "cells": [
  {
   "cell_type": "markdown",
   "metadata": {},
   "source": [
    "# Regression\n",
    "\n",
    "Regression is a measure of the relationship between one value(target) and the value of one or more other variables. The simplest way to model this relationship is to plot a graph our two variables an then fit a line that is as close as possible to the most number of points.\n",
    "\n",
    "A line in two dimensions is always of the form `y = ax + b`, where:\n",
    "\n",
    "- `y` is the target\n",
    "- `x` is the single feature\n",
    "- `a` and `b` are the parameters of the model that we want to learn.\n",
    "\n",
    "The process of fitting the line involves dtermining `a` and `b`.\n",
    "\n",
    "A common method is to define an **error function**(also called a loss or cost function) for any given line, and select the line that produces the smallest error.\n",
    "\n",
    "Since we want the line to be as close as possible to the data points, we want to minimize the vertical distance between the line and the data. For each data point we calculate the vertical distance between it and the line. Tis distance is called the **residual**.\n",
    "\n",
    "**Calulate the Cost/Loss Function**\n",
    "\n",
    "We can try to minimize the sum of the residuals, but then a large positive residual would cancel out a large negative residual. For this reason we minimise the sum of the squares of the residuals. This technique is called the **Ordinary Least Squares** or **OLS**. This is the same as **minimizing the mean squared error of the predictions on the training set**.\n",
    "\n",
    "![Linear Regression](../imgs/linear-regression-1.png)"
   ]
  },
  {
   "cell_type": "markdown",
   "metadata": {},
   "source": [
    "When you call `.fit()` on a linear regression model in sklearn, it performs **OLS**.\n",
    "\n",
    "When you have two features, our line is of the form:\n",
    "\n",
    "![Linear Regression](../imgs/linear-regression-2.png)\n",
    "\n",
    "To fit a linear regression model we need to specify three variables, `a1`, `a2` and `b`. \n",
    "\n",
    "In higher dimensions, threee or more features, a line will be of the following form:\n",
    "\n",
    "![Linear Regression](../imgs/linear-regression-3.png)\n",
    "\n",
    "To fit a linear regression model we need to specify a coefficient `ai` for each feature and aswell as the variable `b`.\n",
    "\n",
    "Sklearn works in exactly the same in this case, you pass the `.fit()` method two arrays, one containing the features, the other the target variable."
   ]
  }
 ],
 "metadata": {
  "kernelspec": {
   "display_name": "Python 3",
   "language": "python",
   "name": "python3"
  },
  "language_info": {
   "codemirror_mode": {
    "name": "ipython",
    "version": 3
   },
   "file_extension": ".py",
   "mimetype": "text/x-python",
   "name": "python",
   "nbconvert_exporter": "python",
   "pygments_lexer": "ipython3",
   "version": "3.6.7"
  }
 },
 "nbformat": 4,
 "nbformat_minor": 2
}
