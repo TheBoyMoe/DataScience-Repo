{
 "cells": [
  {
   "cell_type": "markdown",
   "metadata": {},
   "source": [
    "# Using Regression to Predict House Price"
   ]
  },
  {
   "cell_type": "code",
   "execution_count": 1,
   "metadata": {},
   "outputs": [],
   "source": [
    "import pandas as pd\n",
    "import numpy as np\n",
    "import matplotlib.pyplot as plt"
   ]
  },
  {
   "cell_type": "code",
   "execution_count": 2,
   "metadata": {},
   "outputs": [
    {
     "name": "stdout",
     "output_type": "stream",
     "text": [
      "<class 'pandas.core.frame.DataFrame'>\n",
      "RangeIndex: 506 entries, 0 to 505\n",
      "Data columns (total 14 columns):\n",
      "CRIM       506 non-null float64\n",
      "ZN         506 non-null float64\n",
      "INDUS      506 non-null float64\n",
      "CHAS       506 non-null int64\n",
      "NX         506 non-null float64\n",
      "RM         506 non-null float64\n",
      "AGE        506 non-null float64\n",
      "DIS        506 non-null float64\n",
      "RAD        506 non-null int64\n",
      "TAX        506 non-null float64\n",
      "PTRATIO    506 non-null float64\n",
      "B          506 non-null float64\n",
      "LSTAT      506 non-null float64\n",
      "MEDV       506 non-null float64\n",
      "dtypes: float64(12), int64(2)\n",
      "memory usage: 55.4 KB\n"
     ]
    }
   ],
   "source": [
    "# 'MEDV' == target(median value of owner occupied homes in $1000s)\n",
    "df = pd.read_csv('../data/boston.csv')\n",
    "df.info()"
   ]
  },
  {
   "cell_type": "code",
   "execution_count": 3,
   "metadata": {
    "collapsed": true
   },
   "outputs": [
    {
     "data": {
      "text/html": [
       "<div>\n",
       "<style scoped>\n",
       "    .dataframe tbody tr th:only-of-type {\n",
       "        vertical-align: middle;\n",
       "    }\n",
       "\n",
       "    .dataframe tbody tr th {\n",
       "        vertical-align: top;\n",
       "    }\n",
       "\n",
       "    .dataframe thead th {\n",
       "        text-align: right;\n",
       "    }\n",
       "</style>\n",
       "<table border=\"1\" class=\"dataframe\">\n",
       "  <thead>\n",
       "    <tr style=\"text-align: right;\">\n",
       "      <th></th>\n",
       "      <th>415</th>\n",
       "      <th>241</th>\n",
       "      <th>46</th>\n",
       "      <th>197</th>\n",
       "      <th>162</th>\n",
       "    </tr>\n",
       "  </thead>\n",
       "  <tbody>\n",
       "    <tr>\n",
       "      <th>CRIM</th>\n",
       "      <td>18.0846</td>\n",
       "      <td>0.10612</td>\n",
       "      <td>0.18836</td>\n",
       "      <td>0.04666</td>\n",
       "      <td>1.83377</td>\n",
       "    </tr>\n",
       "    <tr>\n",
       "      <th>ZN</th>\n",
       "      <td>0.0000</td>\n",
       "      <td>30.00000</td>\n",
       "      <td>0.00000</td>\n",
       "      <td>80.00000</td>\n",
       "      <td>0.00000</td>\n",
       "    </tr>\n",
       "    <tr>\n",
       "      <th>INDUS</th>\n",
       "      <td>18.1000</td>\n",
       "      <td>4.93000</td>\n",
       "      <td>6.91000</td>\n",
       "      <td>1.52000</td>\n",
       "      <td>19.58000</td>\n",
       "    </tr>\n",
       "    <tr>\n",
       "      <th>CHAS</th>\n",
       "      <td>0.0000</td>\n",
       "      <td>0.00000</td>\n",
       "      <td>0.00000</td>\n",
       "      <td>0.00000</td>\n",
       "      <td>1.00000</td>\n",
       "    </tr>\n",
       "    <tr>\n",
       "      <th>NX</th>\n",
       "      <td>0.6790</td>\n",
       "      <td>0.42800</td>\n",
       "      <td>0.44800</td>\n",
       "      <td>0.40400</td>\n",
       "      <td>0.60500</td>\n",
       "    </tr>\n",
       "    <tr>\n",
       "      <th>RM</th>\n",
       "      <td>6.4340</td>\n",
       "      <td>6.09500</td>\n",
       "      <td>5.78600</td>\n",
       "      <td>7.10700</td>\n",
       "      <td>7.80200</td>\n",
       "    </tr>\n",
       "    <tr>\n",
       "      <th>AGE</th>\n",
       "      <td>100.0000</td>\n",
       "      <td>65.10000</td>\n",
       "      <td>33.30000</td>\n",
       "      <td>36.60000</td>\n",
       "      <td>98.20000</td>\n",
       "    </tr>\n",
       "    <tr>\n",
       "      <th>DIS</th>\n",
       "      <td>1.8347</td>\n",
       "      <td>6.33610</td>\n",
       "      <td>5.10040</td>\n",
       "      <td>7.30900</td>\n",
       "      <td>2.04070</td>\n",
       "    </tr>\n",
       "    <tr>\n",
       "      <th>RAD</th>\n",
       "      <td>24.0000</td>\n",
       "      <td>6.00000</td>\n",
       "      <td>3.00000</td>\n",
       "      <td>2.00000</td>\n",
       "      <td>5.00000</td>\n",
       "    </tr>\n",
       "    <tr>\n",
       "      <th>TAX</th>\n",
       "      <td>666.0000</td>\n",
       "      <td>300.00000</td>\n",
       "      <td>233.00000</td>\n",
       "      <td>329.00000</td>\n",
       "      <td>403.00000</td>\n",
       "    </tr>\n",
       "    <tr>\n",
       "      <th>PTRATIO</th>\n",
       "      <td>20.2000</td>\n",
       "      <td>16.60000</td>\n",
       "      <td>17.90000</td>\n",
       "      <td>12.60000</td>\n",
       "      <td>14.70000</td>\n",
       "    </tr>\n",
       "    <tr>\n",
       "      <th>B</th>\n",
       "      <td>27.2500</td>\n",
       "      <td>394.62000</td>\n",
       "      <td>396.90000</td>\n",
       "      <td>354.31000</td>\n",
       "      <td>389.61000</td>\n",
       "    </tr>\n",
       "    <tr>\n",
       "      <th>LSTAT</th>\n",
       "      <td>29.0500</td>\n",
       "      <td>12.40000</td>\n",
       "      <td>14.15000</td>\n",
       "      <td>8.61000</td>\n",
       "      <td>1.92000</td>\n",
       "    </tr>\n",
       "    <tr>\n",
       "      <th>MEDV</th>\n",
       "      <td>7.2000</td>\n",
       "      <td>20.10000</td>\n",
       "      <td>20.00000</td>\n",
       "      <td>30.30000</td>\n",
       "      <td>50.00000</td>\n",
       "    </tr>\n",
       "  </tbody>\n",
       "</table>\n",
       "</div>"
      ],
      "text/plain": [
       "              415        241        46         197        162\n",
       "CRIM      18.0846    0.10612    0.18836    0.04666    1.83377\n",
       "ZN         0.0000   30.00000    0.00000   80.00000    0.00000\n",
       "INDUS     18.1000    4.93000    6.91000    1.52000   19.58000\n",
       "CHAS       0.0000    0.00000    0.00000    0.00000    1.00000\n",
       "NX         0.6790    0.42800    0.44800    0.40400    0.60500\n",
       "RM         6.4340    6.09500    5.78600    7.10700    7.80200\n",
       "AGE      100.0000   65.10000   33.30000   36.60000   98.20000\n",
       "DIS        1.8347    6.33610    5.10040    7.30900    2.04070\n",
       "RAD       24.0000    6.00000    3.00000    2.00000    5.00000\n",
       "TAX      666.0000  300.00000  233.00000  329.00000  403.00000\n",
       "PTRATIO   20.2000   16.60000   17.90000   12.60000   14.70000\n",
       "B         27.2500  394.62000  396.90000  354.31000  389.61000\n",
       "LSTAT     29.0500   12.40000   14.15000    8.61000    1.92000\n",
       "MEDV       7.2000   20.10000   20.00000   30.30000   50.00000"
      ]
     },
     "execution_count": 3,
     "metadata": {},
     "output_type": "execute_result"
    }
   ],
   "source": [
    "df.sample(5).T"
   ]
  },
  {
   "cell_type": "code",
   "execution_count": 4,
   "metadata": {
    "collapsed": true
   },
   "outputs": [
    {
     "name": "stdout",
     "output_type": "stream",
     "text": [
      "[[6.3200e-03 1.8000e+01 2.3100e+00 0.0000e+00 5.3800e-01 6.5750e+00\n",
      "  6.5200e+01 4.0900e+00 1.0000e+00 2.9600e+02 1.5300e+01 3.9690e+02\n",
      "  4.9800e+00]\n",
      " [2.7310e-02 0.0000e+00 7.0700e+00 0.0000e+00 4.6900e-01 6.4210e+00\n",
      "  7.8900e+01 4.9671e+00 2.0000e+00 2.4200e+02 1.7800e+01 3.9690e+02\n",
      "  9.1400e+00]\n",
      " [2.7290e-02 0.0000e+00 7.0700e+00 0.0000e+00 4.6900e-01 7.1850e+00\n",
      "  6.1100e+01 4.9671e+00 2.0000e+00 2.4200e+02 1.7800e+01 3.9283e+02\n",
      "  4.0300e+00]]\n",
      "[24.  21.6 34.7 33.4 36.2]\n"
     ]
    }
   ],
   "source": [
    "# create our features and target arrays\n",
    "X = df.drop('MEDV', axis=1).values\n",
    "y = df.MEDV.values\n",
    "print(X[:3])\n",
    "print(y[:5])"
   ]
  },
  {
   "cell_type": "markdown",
   "metadata": {},
   "source": [
    "### Predict the house price from a single feature\n",
    "\n",
    "We'll predict the house price based on the number of rooms in the house, `RM`, or the '6th' column, index `5`."
   ]
  },
  {
   "cell_type": "code",
   "execution_count": 5,
   "metadata": {},
   "outputs": [
    {
     "name": "stdout",
     "output_type": "stream",
     "text": [
      "(506,)\n",
      "[6.575 6.421 7.185 6.998 7.147]\n"
     ]
    }
   ],
   "source": [
    "X_rooms = X[:, 5]\n",
    "print(X_rooms.shape)\n",
    "print(X_rooms[:5])"
   ]
  },
  {
   "cell_type": "code",
   "execution_count": 6,
   "metadata": {},
   "outputs": [
    {
     "name": "stdout",
     "output_type": "stream",
     "text": [
      "<class 'numpy.ndarray'> <class 'numpy.ndarray'>\n",
      "(506,)\n"
     ]
    }
   ],
   "source": [
    "print(type(X_rooms), type(y))\n",
    "print(y.shape)"
   ]
  },
  {
   "cell_type": "code",
   "execution_count": 7,
   "metadata": {},
   "outputs": [
    {
     "name": "stdout",
     "output_type": "stream",
     "text": [
      "(506, 1) (506, 1)\n"
     ]
    }
   ],
   "source": [
    "# reshape both arrays by adding 1 dimension\n",
    "y = y.reshape(-1, 1)\n",
    "X_rooms = X_rooms.reshape(-1, 1)\n",
    "print(y.shape, X_rooms.shape)"
   ]
  },
  {
   "cell_type": "code",
   "execution_count": 11,
   "metadata": {},
   "outputs": [
    {
     "data": {
      "image/png": "[encoded data removed]",
      "text/plain": [
       "<Figure size 432x288 with 1 Axes>"
      ]
     },
     "metadata": {
      "needs_background": "light"
     },
     "output_type": "display_data"
    }
   ],
   "source": [
    "# plotting house prices vs number of rooms\n",
    "plt.scatter(X_rooms, y)\n",
    "plt.ylabel('House prices per 1000 ($)')\n",
    "plt.xlabel('Number of rooms')\n",
    "plt.show()"
   ]
  },
  {
   "cell_type": "markdown",
   "metadata": {},
   "source": [
    "We can see that number of rooms is correlated to house price, as number of rooms increases, prices go up.\n",
    "\n",
    "We'll fit a **linear regression** model to our data."
   ]
  },
  {
   "cell_type": "code",
   "execution_count": 12,
   "metadata": {},
   "outputs": [
    {
     "data": {
      "text/plain": [
       "LinearRegression(copy_X=True, fit_intercept=True, n_jobs=None,\n",
       "         normalize=False)"
      ]
     },
     "execution_count": 12,
     "metadata": {},
     "output_type": "execute_result"
    }
   ],
   "source": [
    "from sklearn.linear_model import LinearRegression\n",
    "\n",
    "# instantiate and fir our model\n",
    "reg = LinearRegression()\n",
    "reg.fit(X_rooms, y) # feature - number of rooms, target - house price"
   ]
  },
  {
   "cell_type": "code",
   "execution_count": 16,
   "metadata": {},
   "outputs": [
    {
     "name": "stdout",
     "output_type": "stream",
     "text": [
      "(50, 1)\n"
     ]
    },
    {
     "data": {
      "text/plain": [
       "array([[3.561     ],\n",
       "       [3.6675102 ],\n",
       "       [3.77402041],\n",
       "       [3.88053061],\n",
       "       [3.98704082]])"
      ]
     },
     "execution_count": 16,
     "metadata": {},
     "output_type": "execute_result"
    }
   ],
   "source": [
    "# create a range of values over which to create the predictions\n",
    "prediction_space = np.linspace(min(X_rooms), max(X_rooms)).reshape(-1, 1)\n",
    "print(prediction_space.shape)\n",
    "prediction_space[:5]"
   ]
  },
  {
   "cell_type": "code",
   "execution_count": 18,
   "metadata": {
    "scrolled": true
   },
   "outputs": [
    {
     "name": "stdout",
     "output_type": "stream",
     "text": [
      "(50, 1)\n"
     ]
    },
    {
     "data": {
      "text/plain": [
       "array([[-2.25801069],\n",
       "       [-1.28854321],\n",
       "       [-0.31907572],\n",
       "       [ 0.65039176],\n",
       "       [ 1.61985925]])"
      ]
     },
     "execution_count": 18,
     "metadata": {},
     "output_type": "execute_result"
    }
   ],
   "source": [
    "# check the regressors predictions over the range of the data\n",
    "y_pred = reg.predict(prediction_space)\n",
    "print(y_pred.shape)\n",
    "y_pred[:5]"
   ]
  },
  {
   "cell_type": "code",
   "execution_count": 31,
   "metadata": {},
   "outputs": [
    {
     "data": {
      "text/plain": [
       "0.4835254559913343"
      ]
     },
     "execution_count": 31,
     "metadata": {},
     "output_type": "execute_result"
    }
   ],
   "source": [
    "# model accuracy\n",
    "reg.score(X_rooms, y)"
   ]
  },
  {
   "cell_type": "code",
   "execution_count": 19,
   "metadata": {},
   "outputs": [
    {
     "data": {
      "image/png": "[encoded data removed]",
      "text/plain": [
       "<Figure size 432x288 with 1 Axes>"
      ]
     },
     "metadata": {
      "needs_background": "light"
     },
     "output_type": "display_data"
    }
   ],
   "source": [
    "# visualize the results\n",
    "plt.scatter(X_rooms, y, color='blue')\n",
    "plt.plot(prediction_space, y_pred, color='black', linewidth=3)\n",
    "plt.show()"
   ]
  },
  {
   "cell_type": "markdown",
   "metadata": {},
   "source": [
    "### Predict house price using multiple features"
   ]
  },
  {
   "cell_type": "code",
   "execution_count": 20,
   "metadata": {},
   "outputs": [],
   "source": [
    "import pandas as pd\n",
    "import numpy as np\n",
    "import seaborn as sns\n",
    "import matplotlib.pyplot as plt\n",
    "%matplotlib inline\n",
    "\n",
    "from sklearn.linear_model import LinearRegression\n",
    "from sklearn.model_selection import train_test_split"
   ]
  },
  {
   "cell_type": "code",
   "execution_count": 21,
   "metadata": {},
   "outputs": [],
   "source": [
    "# 'MEDV' == target(median value of owner occupied homes in $1000s)\n",
    "df = pd.read_csv('../data/boston.csv')"
   ]
  },
  {
   "cell_type": "code",
   "execution_count": 22,
   "metadata": {
    "collapsed": true
   },
   "outputs": [
    {
     "name": "stdout",
     "output_type": "stream",
     "text": [
      "<class 'pandas.core.frame.DataFrame'>\n",
      "RangeIndex: 506 entries, 0 to 505\n",
      "Data columns (total 14 columns):\n",
      "CRIM       506 non-null float64\n",
      "ZN         506 non-null float64\n",
      "INDUS      506 non-null float64\n",
      "CHAS       506 non-null int64\n",
      "NX         506 non-null float64\n",
      "RM         506 non-null float64\n",
      "AGE        506 non-null float64\n",
      "DIS        506 non-null float64\n",
      "RAD        506 non-null int64\n",
      "TAX        506 non-null float64\n",
      "PTRATIO    506 non-null float64\n",
      "B          506 non-null float64\n",
      "LSTAT      506 non-null float64\n",
      "MEDV       506 non-null float64\n",
      "dtypes: float64(12), int64(2)\n",
      "memory usage: 55.4 KB\n"
     ]
    }
   ],
   "source": [
    "df.info()"
   ]
  },
  {
   "cell_type": "code",
   "execution_count": 23,
   "metadata": {},
   "outputs": [
    {
     "name": "stdout",
     "output_type": "stream",
     "text": [
      "<class 'numpy.ndarray'> (506, 13)\n",
      "<class 'numpy.ndarray'> (506,)\n"
     ]
    }
   ],
   "source": [
    "X = df.drop('MEDV', axis=1).values\n",
    "y = df.MEDV.values\n",
    "\n",
    "print(type(X), X.shape)\n",
    "print(type(y), y.shape)"
   ]
  },
  {
   "cell_type": "code",
   "execution_count": 24,
   "metadata": {},
   "outputs": [
    {
     "name": "stdout",
     "output_type": "stream",
     "text": [
      "<class 'numpy.ndarray'> (506, 1)\n"
     ]
    }
   ],
   "source": [
    "# reshape y\n",
    "y = y.reshape(-1, 1)\n",
    "print(type(y), y.shape)"
   ]
  },
  {
   "cell_type": "code",
   "execution_count": 26,
   "metadata": {},
   "outputs": [],
   "source": [
    "# split are data to train/test\n",
    "X_train, X_test, y_train, y_test = train_test_split(X, y, \n",
    "                                        test_size=0.3, random_state=42)"
   ]
  },
  {
   "cell_type": "code",
   "execution_count": 27,
   "metadata": {},
   "outputs": [
    {
     "data": {
      "text/plain": [
       "LinearRegression(copy_X=True, fit_intercept=True, n_jobs=None,\n",
       "         normalize=False)"
      ]
     },
     "execution_count": 27,
     "metadata": {},
     "output_type": "execute_result"
    }
   ],
   "source": [
    "# fit our model\n",
    "reg_all = LinearRegression()\n",
    "reg_all.fit(X_train, y_train)"
   ]
  },
  {
   "cell_type": "code",
   "execution_count": 29,
   "metadata": {},
   "outputs": [
    {
     "name": "stdout",
     "output_type": "stream",
     "text": [
      "(152, 1)\n"
     ]
    },
    {
     "data": {
      "text/plain": [
       "array([[28.64896005],\n",
       "       [36.49501384],\n",
       "       [15.4111932 ],\n",
       "       [25.40321303],\n",
       "       [18.85527988]])"
      ]
     },
     "execution_count": 29,
     "metadata": {},
     "output_type": "execute_result"
    }
   ],
   "source": [
    "# make our predictions\n",
    "y_pred = reg_all.predict(X_test)\n",
    "print(y_pred.shape)\n",
    "y_pred[:5]"
   ]
  },
  {
   "cell_type": "markdown",
   "metadata": {},
   "source": [
    "For classification models we used **accuracy** to determine the performance of our model. For linear regression we'll use **R squared**, this quantifies the amount of variance in the target variable that is predicted by the feature variables. To compute the **R squared** we'll use sklearn `.score()` method."
   ]
  },
  {
   "cell_type": "code",
   "execution_count": 30,
   "metadata": {},
   "outputs": [
    {
     "data": {
      "text/plain": [
       "0.7112260057484929"
      ]
     },
     "execution_count": 30,
     "metadata": {},
     "output_type": "execute_result"
    }
   ],
   "source": [
    "# determine the models R^2 score\n",
    "reg_all.score(X_test, y_test)"
   ]
  },
  {
   "cell_type": "markdown",
   "metadata": {},
   "source": [
    "We can see that the accuracy of our model has improved when it is based on multiple features(71%) as apposed to a single feature(48%)\n",
    "\n",
    "Generally we'll **never** use linear regression model 'out of the box' like this. Usually we use **regularisation** to implement some constrainints on the models coefficients."
   ]
  }
 ],
 "metadata": {
  "kernelspec": {
   "display_name": "Python 3",
   "language": "python",
   "name": "python3"
  },
  "language_info": {
   "codemirror_mode": {
    "name": "ipython",
    "version": 3
   },
   "file_extension": ".py",
   "mimetype": "text/x-python",
   "name": "python",
   "nbconvert_exporter": "python",
   "pygments_lexer": "ipython3",
   "version": "3.6.7"
  }
 },
 "nbformat": 4,
 "nbformat_minor": 2
}
