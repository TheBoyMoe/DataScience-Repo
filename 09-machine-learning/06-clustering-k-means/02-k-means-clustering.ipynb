{
 "cells": [
  {
   "cell_type": "markdown",
   "metadata": {},
   "source": [
    "# K-Means Clustering\n",
    "\n",
    "The goal of clustering is to separate data, so that data points (observations) similar to one another are in the same group. We need to therefore decide how to define similarity, and how many groups do we choose. Clustering is commonly used to explore a dataset to either identify the underlying patterns in it or to create a group of characteristics. In the case of social networks, they can be clustered to identify communities.\n",
    "\n",
    "**K-Means** is the most popular clustering technique:\n",
    "\n",
    " - The \"K\" refers to the number of clusters (groups) we expect to find in a dataset.\n",
    "\n",
    " - The \"Means\" refers to the average distance between data points(observations) to each cluster center, also known as the `centroid`, which we are trying to minimize.\n",
    "\n",
    "The process is iterative, `k` data points are choosen at random to be the `centroids` and the mean distance of the neighbouring points to the `centroid` calculated. The process is repeated by randomly selecting another `k` centroids and calculating the mean distance of neighbouring points to the centroid(cluster center). \n",
    "\n",
    "This process is repeated until **convergance**, when the points don't move between clusters and centroids stabilize.\n",
    "\n",
    "We can now take a new unlabeled data point and assign it to the appropriate cluster.\n",
    "\n",
    "<img src=\"img/k-means-clustering-1.gif\" width=\"600\">"
   ]
  },
  {
   "cell_type": "markdown",
   "metadata": {},
   "source": [
    "## Using the Iris Dataset\n",
    "\n",
    "Available from `sklearn`, we can import and load it using the following commands:\n",
    "\n",
    "\n",
    "```py\n",
    "from sklearn import datasets\n",
    "iris = datasets.load_iris()\n",
    "```\n",
    "\n",
    "The data looks like this:\n",
    "\n",
    "```py\n",
    "[[ 5.1  3.5  1.4  0.2 ]\n",
    " [ 4.9  3.   1.4  0.2 ]\n",
    " [ 4.7  3.2  1.3  0.2 ]\n",
    " [ 4.6  3.1  1.5  0.2 ]\n",
    "   . . .\n",
    " [ 5.9  3.   5.1  1.8 ]]\n",
    "```"
   ]
  },
  {
   "cell_type": "markdown",
   "metadata": {},
   "source": [
    "Each inner list relates to one sample(flower), each value relates to a characteristic or **feature** and is a column in the dataset.\n",
    "\n",
    "There are 4 features/attributes recorded in the dataset:\n",
    "\n",
    " - Column 0: Sepal length in cm\n",
    " - Column 1: Sepal width in cm\n",
    " - Column 2: Petal length in cm\n",
    " - Column 3: Petal width in cm\n",
    " \n",
    "The dataset relates to 3 species of iris plants, 50 samples for each.\n",
    "\n",
    "You can see the actual data using:\n",
    "\n",
    "```py\n",
    "print(iris.data)\n",
    "\n",
    "[[5.1 3.5 1.4 0.2]\n",
    " [4.9 3.  1.4 0.2]\n",
    " [4.7 3.2 1.3 0.2]\n",
    " ....\n",
    " [4.4 2.9 1.4 0.2]\n",
    " [4.9 3.1 1.5 0.1]\n",
    "```\n",
    "\n",
    "and the label/target values using:\n",
    "\n",
    "```py\n",
    "print(iris.target)\n",
    "\n",
    "[0 0 0 ...0 0 0 1 1 1 ... 1 1 1 2 2 ... 2 2]\n",
    "```\n",
    "\n",
    "You can also get the descriptions using:\n",
    "\n",
    "```py\n",
    "print(iris.DESCR)\n",
    "```"
   ]
  },
  {
   "cell_type": "code",
   "execution_count": 1,
   "metadata": {},
   "outputs": [],
   "source": [
    "import matplotlib.pyplot as plt\n",
    "from sklearn import datasets\n",
    "import numpy as np\n",
    "from copy import deepcopy\n",
    "\n",
    "# load the iris dataset from sklearn\n",
    "iris = datasets.load_iris()\n",
    "# print(iris.data)"
   ]
  },
  {
   "cell_type": "code",
   "execution_count": 2,
   "metadata": {},
   "outputs": [
    {
     "name": "stdout",
     "output_type": "stream",
     "text": [
      "[0 0 0 0 0 0 0 0 0 0 0 0 0 0 0 0 0 0 0 0 0 0 0 0 0 0 0 0 0 0 0 0 0 0 0 0 0\n",
      " 0 0 0 0 0 0 0 0 0 0 0 0 0 1 1 1 1 1 1 1 1 1 1 1 1 1 1 1 1 1 1 1 1 1 1 1 1\n",
      " 1 1 1 1 1 1 1 1 1 1 1 1 1 1 1 1 1 1 1 1 1 1 1 1 1 1 2 2 2 2 2 2 2 2 2 2 2\n",
      " 2 2 2 2 2 2 2 2 2 2 2 2 2 2 2 2 2 2 2 2 2 2 2 2 2 2 2 2 2 2 2 2 2 2 2 2 2\n",
      " 2 2]\n",
      "Iris Plants Database\n",
      "====================\n",
      "\n",
      "Notes\n",
      "-----\n",
      "Data Set Characteristics:\n",
      "    :Number of Instances: 150 (50 in each of three classes)\n",
      "    :Number of Attributes: 4 numeric, predictive attributes and the class\n",
      "    :Attribute Information:\n",
      "        - sepal length in cm\n",
      "        - sepal width in cm\n",
      "        - petal length in cm\n",
      "        - petal width in cm\n",
      "        - class:\n",
      "                - Iris-Setosa\n",
      "                - Iris-Versicolour\n",
      "                - Iris-Virginica\n",
      "    :Summary Statistics:\n",
      "\n",
      "    ============== ==== ==== ======= ===== ====================\n",
      "                    Min  Max   Mean    SD   Class Correlation\n",
      "    ============== ==== ==== ======= ===== ====================\n",
      "    sepal length:   4.3  7.9   5.84   0.83    0.7826\n",
      "    sepal width:    2.0  4.4   3.05   0.43   -0.4194\n",
      "    petal length:   1.0  6.9   3.76   1.76    0.9490  (high!)\n",
      "    petal width:    0.1  2.5   1.20  0.76     0.9565  (high!)\n",
      "    ============== ==== ==== ======= ===== ====================\n",
      "\n",
      "    :Missing Attribute Values: None\n",
      "    :Class Distribution: 33.3% for each of 3 classes.\n",
      "    :Creator: R.A. Fisher\n",
      "    :Donor: Michael Marshall (MARSHALL%PLU@io.arc.nasa.gov)\n",
      "    :Date: July, 1988\n",
      "\n",
      "This is a copy of UCI ML iris datasets.\n",
      "http://archive.ics.uci.edu/ml/datasets/Iris\n",
      "\n",
      "The famous Iris database, first used by Sir R.A Fisher\n",
      "\n",
      "This is perhaps the best known database to be found in the\n",
      "pattern recognition literature.  Fisher's paper is a classic in the field and\n",
      "is referenced frequently to this day.  (See Duda & Hart, for example.)  The\n",
      "data set contains 3 classes of 50 instances each, where each class refers to a\n",
      "type of iris plant.  One class is linearly separable from the other 2; the\n",
      "latter are NOT linearly separable from each other.\n",
      "\n",
      "References\n",
      "----------\n",
      "   - Fisher,R.A. \"The use of multiple measurements in taxonomic problems\"\n",
      "     Annual Eugenics, 7, Part II, 179-188 (1936); also in \"Contributions to\n",
      "     Mathematical Statistics\" (John Wiley, NY, 1950).\n",
      "   - Duda,R.O., & Hart,P.E. (1973) Pattern Classification and Scene Analysis.\n",
      "     (Q327.D83) John Wiley & Sons.  ISBN 0-471-22361-1.  See page 218.\n",
      "   - Dasarathy, B.V. (1980) \"Nosing Around the Neighborhood: A New System\n",
      "     Structure and Classification Rule for Recognition in Partially Exposed\n",
      "     Environments\".  IEEE Transactions on Pattern Analysis and Machine\n",
      "     Intelligence, Vol. PAMI-2, No. 1, 67-71.\n",
      "   - Gates, G.W. (1972) \"The Reduced Nearest Neighbor Rule\".  IEEE Transactions\n",
      "     on Information Theory, May 1972, 431-433.\n",
      "   - See also: 1988 MLC Proceedings, 54-64.  Cheeseman et al\"s AUTOCLASS II\n",
      "     conceptual clustering system finds 3 classes in the data.\n",
      "   - Many, many more ...\n",
      "\n"
     ]
    }
   ],
   "source": [
    "print(iris.target)\n",
    "\n",
    "print(iris.DESCR)"
   ]
  },
  {
   "cell_type": "markdown",
   "metadata": {},
   "source": [
    "We can create a 2D scatter plot of the Iris dataset using two of its features (sepal length vs. petal length). The sepal length measurements are stored in column 0 of the matrix, and the petal length measurements are stored in column 2 of the matrix."
   ]
  },
  {
   "cell_type": "markdown",
   "metadata": {},
   "source": [
    "### Visualize the Iris Dataset\n",
    "\n",
    "We can create a 2D scatter plot of the Iris dataset using two of its features (sepal length vs. petal length) with Matplotlib. The sepal length measurements are stored in column 0 of the matrix, and the petal length measurements are stored in column 2 of the matrix.\n",
    "\n",
    "To retrieve specific columns of data, we can use the NumPy/Pandas notation [start:end, column_index], where 'start' is the index of the first row, 'end' is the index of the last row, and 'column_index' is the index of the reauired column. Thus `matrix[:, 0]` would be all rows of the 1st column."
   ]
  },
  {
   "cell_type": "code",
   "execution_count": 3,
   "metadata": {},
   "outputs": [
    {
     "data": {
      "text/plain": [
       "Text(0,0.5,'petal length (cm)')"
      ]
     },
     "execution_count": 3,
     "metadata": {},
     "output_type": "execute_result"
    },
    {
     "data": {
      "image/png": "[encoded data removed]",
      "text/plain": [
       "<Figure size 432x288 with 1 Axes>"
      ]
     },
     "metadata": {
      "needs_background": "light"
     },
     "output_type": "display_data"
    }
   ],
   "source": [
    "samples = iris.data\n",
    "x = samples[:, 0] # 1st column\n",
    "y = samples[:, 1] # 2nd column\n",
    "\n",
    "# plot the data\n",
    "plt.scatter(x, y, alpha=0.5)\n",
    "plt.xlabel('sepal length (cm)')\n",
    "plt.ylabel('petal length (cm)')"
   ]
  },
  {
   "cell_type": "markdown",
   "metadata": {},
   "source": [
    "## Implementing K-Means\n",
    "\n",
    "### 1. place k random centroids for the initial clusters\n",
    "\n",
    "Because we expect there to be three clusters (for the three species of flowers), let's implement K-Means where the k is 3."
   ]
  },
  {
   "cell_type": "code",
   "execution_count": 4,
   "metadata": {},
   "outputs": [],
   "source": [
    "# Number of clusters\n",
    "k = 3"
   ]
  },
  {
   "cell_type": "markdown",
   "metadata": {},
   "source": [
    "Use NumPy's `random.uniform()` function to generate random values in two lists:\n",
    "\n",
    " - a `centroids_x` list that will have k random values between `min(x)` and `max(x)`\n",
    " - a `centroids_y` list that will have k random values between `min(y)` and `max(y)`\n",
    "\n",
    "The `centroids_x` will have the x-values for our initial random centroids and the `centroids_y` will have the y-values for our initial random centroids."
   ]
  },
  {
   "cell_type": "code",
   "execution_count": 5,
   "metadata": {},
   "outputs": [],
   "source": [
    "# Create x coordinates of k random centroids\n",
    "centroids_x = np.random.uniform(min(x), max(x), size=k)\n",
    "# Create y coordinates of k random centroids\n",
    "centroids_y = np.random.uniform(min(y), max(y), size=k)"
   ]
  },
  {
   "cell_type": "markdown",
   "metadata": {},
   "source": [
    "Create an array of the initial `centroids`"
   ]
  },
  {
   "cell_type": "code",
   "execution_count": 6,
   "metadata": {},
   "outputs": [
    {
     "name": "stdout",
     "output_type": "stream",
     "text": [
      "[[7.65580563 3.92773935]\n",
      " [5.17125716 2.73612578]\n",
      " [7.25810635 3.1969983 ]]\n"
     ]
    }
   ],
   "source": [
    "centroids = np.array(list(zip(centroids_x, centroids_y)))\n",
    "print(centroids)"
   ]
  },
  {
   "cell_type": "markdown",
   "metadata": {},
   "source": [
    "Plot the `centroids`"
   ]
  },
  {
   "cell_type": "code",
   "execution_count": 7,
   "metadata": {},
   "outputs": [
    {
     "data": {
      "text/plain": [
       "Text(0,0.5,'petal length (cm)')"
      ]
     },
     "execution_count": 7,
     "metadata": {},
     "output_type": "execute_result"
    },
    {
     "data": {
      "image/png": "[encoded data removed]",
      "text/plain": [
       "<Figure size 432x288 with 1 Axes>"
      ]
     },
     "metadata": {
      "needs_background": "light"
     },
     "output_type": "display_data"
    }
   ],
   "source": [
    "plt.scatter(x, y, alpha=0.5)\n",
    "plt.scatter(centroids_x, centroids_y)\n",
    "\n",
    "plt.xlabel('sepal length (cm)')\n",
    "plt.ylabel('petal length (cm)')"
   ]
  },
  {
   "cell_type": "markdown",
   "metadata": {},
   "source": [
    "### 2. Assign data samples to the nearest centroid."
   ]
  },
  {
   "cell_type": "markdown",
   "metadata": {},
   "source": [
    "We've created 3 random `centroids`, the next stage is to iterate through the dataset and calculate the distance of EACH data point to EACH of the 3 `centeroids` using a Euclidean formula."
   ]
  },
  {
   "cell_type": "code",
   "execution_count": 8,
   "metadata": {},
   "outputs": [],
   "source": [
    "# Distance formula\n",
    "def distance(a, b):\n",
    "  distance = 0\n",
    "  for i in range(len(a)):\n",
    "    distance += (a[i] - b[i]) ** 2\n",
    "  return distance ** 0.5\n",
    "# def distance(a, b):\n",
    "#   one = (a[0] - b[0]) **2\n",
    "#   two = (a[1] - b[1]) **2\n",
    "#   distance = (one+two) ** 0.5\n",
    "#   return distance"
   ]
  },
  {
   "cell_type": "code",
   "execution_count": 9,
   "metadata": {},
   "outputs": [],
   "source": [
    "# Create an array that will hold the cluster labels for each data point. \n",
    "# Its size should be the length of the data sample.\n",
    "labels = np.zeros(len(samples)) # [ 0.  0.  0.  0.  0.  0.  ...  0.]\n",
    "\n",
    "# Create an array that will hold the distances for each centroid. \n",
    "# It should have the size of k.\n",
    "distances = np.zeros(k) # [ 0.  0.  0.]"
   ]
  },
  {
   "cell_type": "markdown",
   "metadata": {},
   "source": [
    "To assign each data point to the closest centroid, we need to iterate through the whole data sample and calculate each data point's distance to each centroid."
   ]
  },
  {
   "cell_type": "code",
   "execution_count": 10,
   "metadata": {},
   "outputs": [
    {
     "name": "stdout",
     "output_type": "stream",
     "text": [
      "[1. 1. 1. 1. 1. 1. 1. 1. 1. 1. 1. 1. 1. 1. 1. 1. 1. 1. 1. 1. 1. 1. 1. 1.\n",
      " 1. 1. 1. 1. 1. 1. 1. 1. 1. 1. 1. 1. 1. 1. 1. 1. 1. 1. 1. 1. 1. 1. 1. 1.\n",
      " 1. 1. 2. 2. 2. 1. 2. 1. 2. 1. 2. 1. 1. 1. 1. 1. 1. 2. 1. 1. 1. 1. 1. 1.\n",
      " 1. 1. 2. 2. 2. 2. 1. 1. 1. 1. 1. 1. 1. 1. 2. 1. 1. 1. 1. 1. 1. 1. 1. 1.\n",
      " 1. 1. 1. 1. 2. 1. 2. 2. 2. 2. 1. 2. 2. 2. 2. 2. 2. 1. 1. 2. 2. 0. 2. 1.\n",
      " 2. 1. 2. 2. 2. 2. 1. 1. 2. 2. 2. 0. 2. 2. 1. 2. 2. 2. 1. 2. 2. 2. 1. 2.\n",
      " 2. 2. 1. 2. 2. 1.]\n"
     ]
    }
   ],
   "source": [
    "sepal_length_width = np.array(list(zip(x, y)))\n",
    "\n",
    "for i in range(len(samples)):\n",
    "    # find the distance of each data point from the centroid\n",
    "    distances[0] = distance(sepal_length_width[i], centroids[0])\n",
    "    distances[1] = distance(sepal_length_width[i], centroids[1])\n",
    "    distances[2] = distance(sepal_length_width[i], centroids[2])\n",
    "    \n",
    "    # get the index of the smallest distance of distances\n",
    "    cluster = np.argmin(distances)\n",
    "    \n",
    "    # assign the cluster to each index of the labels array.\n",
    "    labels[i] = cluster\n",
    "    \n",
    "print(labels)"
   ]
  },
  {
   "cell_type": "markdown",
   "metadata": {},
   "source": [
    "### 3. Update centroids based on the above-assigned data samples.\n",
    "\n",
    "Repeat steps 2. and 3. until **convergence**\n",
    "\n"
   ]
  },
  {
   "cell_type": "code",
   "execution_count": 11,
   "metadata": {},
   "outputs": [],
   "source": [
    "# save a copy of the current centroids\n",
    "centroids_old = deepcopy(centroids)"
   ]
  },
  {
   "cell_type": "markdown",
   "metadata": {},
   "source": [
    "Find new cluster centers by taking the average of the assigned points.  Create a for loop that iterates k times, each time we calculate the mean of the points that have the same cluster label.\n",
    "\n",
    "Inside the for loop, create an array named points where we get all the data points that have the cluster label i."
   ]
  },
  {
   "cell_type": "code",
   "execution_count": 13,
   "metadata": {},
   "outputs": [],
   "source": [
    "for i in range(k):\n",
    "    points = []\n",
    "    for j in range(len(sepal_length_width)):\n",
    "        if labels[j] == i:\n",
    "            points.append(sepal_length_width[j])\n",
    "    \n",
    "    # calculate the mean of those points using .mean() to get the new centroid.  \n",
    "    centroids[i] = np.mean(points, axis=0)"
   ]
  },
  {
   "cell_type": "markdown",
   "metadata": {},
   "source": [
    "Note:\n",
    "\n",
    "If you don't have axis=0 parameter, the default is to compute the mean of the flattened array. We need the axis=0 here to specify that we want to compute the means along the rows."
   ]
  },
  {
   "cell_type": "code",
   "execution_count": 15,
   "metadata": {},
   "outputs": [
    {
     "name": "stdout",
     "output_type": "stream",
     "text": [
      "[[7.65580563 3.92773935]\n",
      " [5.17125716 2.73612578]\n",
      " [7.25810635 3.1969983 ]]\n",
      "------------------------\n",
      "[[7.8        3.8       ]\n",
      " [5.38316832 3.05049505]\n",
      " [6.74893617 3.02978723]]\n"
     ]
    }
   ],
   "source": [
    "print(centroids_old)\n",
    "print('------------------------')\n",
    "print(centroids)"
   ]
  },
  {
   "cell_type": "markdown",
   "metadata": {},
   "source": [
    "We can repeatedly execute Step 2 and 3 until the centroids stabilize (convergence) using a `while` loop, placing everything from steps 2. and 3. in the loop.\n",
    "\n",
    "For the condition that will terminate the loop, we'll create an array named errors. In each error index, we calculate the difference between the updated centroid (centroids) and the old centroid (centroids_old).\n",
    "\n",
    "The loop ends when all three values in errors are 0."
   ]
  },
  {
   "cell_type": "markdown",
   "metadata": {},
   "source": [
    "The refactored code:\n",
    "```py\n",
    "import matplotlib.pyplot as plt\n",
    "import numpy as np\n",
    "from sklearn import datasets\n",
    "from copy import deepcopy\n",
    "\n",
    "iris = datasets.load_iris()\n",
    "\n",
    "samples = iris.data\n",
    "\n",
    "x = samples[:,0]\n",
    "y = samples[:,1]\n",
    "\n",
    "sepal_length_width = np.array(list(zip(x, y)))\n",
    "\n",
    "# Step 1: Place K random centroids\n",
    "\n",
    "k = 3\n",
    "\n",
    "centroids_x = np.random.uniform(min(x), max(x), size=k)\n",
    "centroids_y = np.random.uniform(min(y), max(y), size=k)\n",
    "\n",
    "centroids = np.array(list(zip(centroids_x, centroids_y)))\n",
    "\n",
    "def distance(a, b):\n",
    "  one = (a[0] - b[0]) ** 2\n",
    "  two = (a[1] - b[1]) ** 2\n",
    "  distance = (one + two) ** 0.5\n",
    "  return distance\n",
    "\n",
    "# To store the value of centroids when it updates\n",
    "centroids_old = np.zeros(centroids.shape)\n",
    "\n",
    "# Cluster labeles (either 0, 1, or 2)\n",
    "labels = np.zeros(len(samples))\n",
    "\n",
    "distances = np.zeros(3)\n",
    "\n",
    "# Initialize error:\n",
    "error = np.zeros(3)\n",
    "\n",
    "error[0] = distance(centroids[0], centroids_old[0])\n",
    "error[1] = distance(centroids[1], centroids_old[1])\n",
    "error[2] = distance(centroids[2], centroids_old[2])\n",
    "\n",
    "# Repeat Steps 2 and 3 until convergence:\n",
    "\n",
    "while error.all() != 0:\n",
    "\n",
    "  # Step 2: Assign samples to nearest centroid\n",
    "\n",
    "  for i in range(len(samples)):\n",
    "    distances[0] = distance(sepal_length_width[i], centroids[0])\n",
    "    distances[1] = distance(sepal_length_width[i], centroids[1])\n",
    "    distances[2] = distance(sepal_length_width[i], centroids[2])\n",
    "    cluster = np.argmin(distances)\n",
    "    labels[i] = cluster\n",
    "\n",
    "  # Step 3: Update centroids\n",
    "\n",
    "  centroids_old = deepcopy(centroids)\n",
    "\n",
    "  for i in range(3):\n",
    "    points = [sepal_length_width[j] for j in range(len(sepal_length_width)) if labels[j] == i]\n",
    "    centroids[i] = np.mean(points, axis=0)\n",
    "  \n",
    "  error[0] = distance(centroids[0], centroids_old[0])\n",
    "  error[1] = distance(centroids[1],   centroids_old[1])\n",
    "  error[2] = distance(centroids[2], centroids_old[2])\n",
    "\n",
    "colors = ['r', 'g', 'b']\n",
    "\n",
    "for i in range(k):\n",
    "  # create an array named points where we get all the data points that have the cluster label i.\n",
    "  points = np.array([sepal_length_width[j] for j in range(len(samples)) if labels[j] == i])\n",
    "  plt.scatter(points[:, 0], points[:, 1], c=colors[i], alpha=0.5)\n",
    "\n",
    "#  make a scatter plot of points[:, 0] vs points[:, 1]\n",
    "plt.scatter(centroids[:, 0], centroids[:, 1], marker='D', s=150)\n",
    "\n",
    "plt.xlabel('sepal length (cm)')\n",
    "plt.ylabel('petal length (cm)')\n",
    "\n",
    "plt.show()\n",
    "```"
   ]
  }
 ],
 "metadata": {
  "kernelspec": {
   "display_name": "Python 3",
   "language": "python",
   "name": "python3"
  },
  "language_info": {
   "codemirror_mode": {
    "name": "ipython",
    "version": 3
   },
   "file_extension": ".py",
   "mimetype": "text/x-python",
   "name": "python",
   "nbconvert_exporter": "python",
   "pygments_lexer": "ipython3",
   "version": "3.7.0"
  }
 },
 "nbformat": 4,
 "nbformat_minor": 2
}
