{
 "cells": [
  {
   "cell_type": "markdown",
   "metadata": {},
   "source": [
    "# Box plots for Education"
   ]
  },
  {
   "cell_type": "code",
   "execution_count": 1,
   "metadata": {},
   "outputs": [],
   "source": [
    "# ignore deprecation warnings in sklearn\n",
    "import warnings\n",
    "warnings.filterwarnings(\"ignore\")\n",
    "\n",
    "import pandas as pd\n",
    "import numpy as np\n",
    "import seaborn as sns\n",
    "import matplotlib.pyplot as plt\n",
    "%matplotlib inline\n",
    "\n",
    "# set seed for reproducibility\n",
    "np.random.seed(0)"
   ]
  },
  {
   "cell_type": "code",
   "execution_count": 2,
   "metadata": {},
   "outputs": [
    {
     "data": {
      "text/html": [
       "<div>\n",
       "<style scoped>\n",
       "    .dataframe tbody tr th:only-of-type {\n",
       "        vertical-align: middle;\n",
       "    }\n",
       "\n",
       "    .dataframe tbody tr th {\n",
       "        vertical-align: top;\n",
       "    }\n",
       "\n",
       "    .dataframe thead th {\n",
       "        text-align: right;\n",
       "    }\n",
       "</style>\n",
       "<table border=\"1\" class=\"dataframe\">\n",
       "  <thead>\n",
       "    <tr style=\"text-align: right;\">\n",
       "      <th></th>\n",
       "      <th>134338</th>\n",
       "      <th>206341</th>\n",
       "      <th>326408</th>\n",
       "      <th>364634</th>\n",
       "      <th>47683</th>\n",
       "    </tr>\n",
       "  </thead>\n",
       "  <tbody>\n",
       "    <tr>\n",
       "      <th>Function</th>\n",
       "      <td>Teacher Compensation</td>\n",
       "      <td>NO_LABEL</td>\n",
       "      <td>Teacher Compensation</td>\n",
       "      <td>Substitute Compensation</td>\n",
       "      <td>Substitute Compensation</td>\n",
       "    </tr>\n",
       "    <tr>\n",
       "      <th>Use</th>\n",
       "      <td>Instruction</td>\n",
       "      <td>NO_LABEL</td>\n",
       "      <td>Instruction</td>\n",
       "      <td>Instruction</td>\n",
       "      <td>Instruction</td>\n",
       "    </tr>\n",
       "    <tr>\n",
       "      <th>Sharing</th>\n",
       "      <td>School Reported</td>\n",
       "      <td>NO_LABEL</td>\n",
       "      <td>School Reported</td>\n",
       "      <td>School Reported</td>\n",
       "      <td>School Reported</td>\n",
       "    </tr>\n",
       "    <tr>\n",
       "      <th>Reporting</th>\n",
       "      <td>School</td>\n",
       "      <td>NO_LABEL</td>\n",
       "      <td>School</td>\n",
       "      <td>School</td>\n",
       "      <td>School</td>\n",
       "    </tr>\n",
       "    <tr>\n",
       "      <th>Student_Type</th>\n",
       "      <td>NO_LABEL</td>\n",
       "      <td>NO_LABEL</td>\n",
       "      <td>Unspecified</td>\n",
       "      <td>Unspecified</td>\n",
       "      <td>Unspecified</td>\n",
       "    </tr>\n",
       "    <tr>\n",
       "      <th>Position_Type</th>\n",
       "      <td>Teacher</td>\n",
       "      <td>NO_LABEL</td>\n",
       "      <td>Teacher</td>\n",
       "      <td>Substitute</td>\n",
       "      <td>Teacher</td>\n",
       "    </tr>\n",
       "    <tr>\n",
       "      <th>Object_Type</th>\n",
       "      <td>NO_LABEL</td>\n",
       "      <td>NO_LABEL</td>\n",
       "      <td>Base Salary/Compensation</td>\n",
       "      <td>Benefits</td>\n",
       "      <td>Substitute Compensation</td>\n",
       "    </tr>\n",
       "    <tr>\n",
       "      <th>Pre_K</th>\n",
       "      <td>NO_LABEL</td>\n",
       "      <td>NO_LABEL</td>\n",
       "      <td>Non PreK</td>\n",
       "      <td>NO_LABEL</td>\n",
       "      <td>NO_LABEL</td>\n",
       "    </tr>\n",
       "    <tr>\n",
       "      <th>Operating_Status</th>\n",
       "      <td>PreK-12 Operating</td>\n",
       "      <td>Non-Operating</td>\n",
       "      <td>PreK-12 Operating</td>\n",
       "      <td>PreK-12 Operating</td>\n",
       "      <td>PreK-12 Operating</td>\n",
       "    </tr>\n",
       "    <tr>\n",
       "      <th>Object_Description</th>\n",
       "      <td>NaN</td>\n",
       "      <td>CONTRACTOR SERVICES</td>\n",
       "      <td>Personal Services - Teachers</td>\n",
       "      <td>EMPLOYEE BENEFITS</td>\n",
       "      <td>TEACHER COVERAGE FOR TEACHER</td>\n",
       "    </tr>\n",
       "    <tr>\n",
       "      <th>Text_2</th>\n",
       "      <td>NaN</td>\n",
       "      <td>BOND EXPENDITURES</td>\n",
       "      <td>NaN</td>\n",
       "      <td>TEACHER SUBS</td>\n",
       "      <td>TEACHER SUBS</td>\n",
       "    </tr>\n",
       "    <tr>\n",
       "      <th>SubFund_Description</th>\n",
       "      <td>NaN</td>\n",
       "      <td>BUILDING FUND</td>\n",
       "      <td>NaN</td>\n",
       "      <td>GENERAL FUND</td>\n",
       "      <td>GENERAL FUND</td>\n",
       "    </tr>\n",
       "    <tr>\n",
       "      <th>Job_Title_Description</th>\n",
       "      <td>Teacher-Elementary</td>\n",
       "      <td>(blank)</td>\n",
       "      <td>TCHER 2ND GRADE</td>\n",
       "      <td>Teacher, Short Term Sub</td>\n",
       "      <td>Teacher, Secondary (High)</td>\n",
       "    </tr>\n",
       "    <tr>\n",
       "      <th>Text_3</th>\n",
       "      <td>NaN</td>\n",
       "      <td>Regular</td>\n",
       "      <td>NaN</td>\n",
       "      <td>Regular</td>\n",
       "      <td>Alternative</td>\n",
       "    </tr>\n",
       "    <tr>\n",
       "      <th>Text_4</th>\n",
       "      <td>NaN</td>\n",
       "      <td>NaN</td>\n",
       "      <td>Regular Instruction</td>\n",
       "      <td>NaN</td>\n",
       "      <td>NaN</td>\n",
       "    </tr>\n",
       "    <tr>\n",
       "      <th>Sub_Object_Description</th>\n",
       "      <td>NaN</td>\n",
       "      <td>NaN</td>\n",
       "      <td>NaN</td>\n",
       "      <td>NaN</td>\n",
       "      <td>NaN</td>\n",
       "    </tr>\n",
       "    <tr>\n",
       "      <th>Location_Description</th>\n",
       "      <td>NaN</td>\n",
       "      <td>NaN</td>\n",
       "      <td>NaN</td>\n",
       "      <td>NaN</td>\n",
       "      <td>NaN</td>\n",
       "    </tr>\n",
       "    <tr>\n",
       "      <th>FTE</th>\n",
       "      <td>1</td>\n",
       "      <td>NaN</td>\n",
       "      <td>1</td>\n",
       "      <td>NaN</td>\n",
       "      <td>NaN</td>\n",
       "    </tr>\n",
       "    <tr>\n",
       "      <th>Function_Description</th>\n",
       "      <td>NaN</td>\n",
       "      <td>RGN  GOB</td>\n",
       "      <td>NaN</td>\n",
       "      <td>UNALLOC BUDGETS/SCHOOLS</td>\n",
       "      <td>NON-PROJECT</td>\n",
       "    </tr>\n",
       "    <tr>\n",
       "      <th>Facility_or_Department</th>\n",
       "      <td>NaN</td>\n",
       "      <td>NaN</td>\n",
       "      <td>NaN</td>\n",
       "      <td>NaN</td>\n",
       "      <td>NaN</td>\n",
       "    </tr>\n",
       "    <tr>\n",
       "      <th>Position_Extra</th>\n",
       "      <td>KINDERGARTEN</td>\n",
       "      <td>UNDESIGNATED</td>\n",
       "      <td>TEACHER</td>\n",
       "      <td>PROFESSIONAL-INSTRUCTIONAL</td>\n",
       "      <td>PROFESSIONAL-INSTRUCTIONAL</td>\n",
       "    </tr>\n",
       "    <tr>\n",
       "      <th>Total</th>\n",
       "      <td>50471.8</td>\n",
       "      <td>3477.86</td>\n",
       "      <td>62237.1</td>\n",
       "      <td>22.3</td>\n",
       "      <td>54.166</td>\n",
       "    </tr>\n",
       "    <tr>\n",
       "      <th>Program_Description</th>\n",
       "      <td>KINDERGARTEN</td>\n",
       "      <td>BUILDING IMPROVEMENT SERVICES</td>\n",
       "      <td>Instruction - Regular</td>\n",
       "      <td>GENERAL MIDDLE/JUNIOR HIGH SCH</td>\n",
       "      <td>GENERAL HIGH SCHOOL EDUCATION</td>\n",
       "    </tr>\n",
       "    <tr>\n",
       "      <th>Fund_Description</th>\n",
       "      <td>General Fund</td>\n",
       "      <td>NaN</td>\n",
       "      <td>General Purpose School</td>\n",
       "      <td>NaN</td>\n",
       "      <td>NaN</td>\n",
       "    </tr>\n",
       "    <tr>\n",
       "      <th>Text_1</th>\n",
       "      <td>NaN</td>\n",
       "      <td>BUILDING IMPROVEMENT SERVICES</td>\n",
       "      <td>NaN</td>\n",
       "      <td>REGULAR INSTRUCTION</td>\n",
       "      <td>REGULAR INSTRUCTION</td>\n",
       "    </tr>\n",
       "  </tbody>\n",
       "</table>\n",
       "</div>"
      ],
      "text/plain": [
       "                                      134338                         206341  \\\n",
       "Function                Teacher Compensation                       NO_LABEL   \n",
       "Use                              Instruction                       NO_LABEL   \n",
       "Sharing                      School Reported                       NO_LABEL   \n",
       "Reporting                             School                       NO_LABEL   \n",
       "Student_Type                        NO_LABEL                       NO_LABEL   \n",
       "Position_Type                        Teacher                       NO_LABEL   \n",
       "Object_Type                         NO_LABEL                       NO_LABEL   \n",
       "Pre_K                               NO_LABEL                       NO_LABEL   \n",
       "Operating_Status           PreK-12 Operating                  Non-Operating   \n",
       "Object_Description                       NaN            CONTRACTOR SERVICES   \n",
       "Text_2                                   NaN              BOND EXPENDITURES   \n",
       "SubFund_Description                      NaN                  BUILDING FUND   \n",
       "Job_Title_Description    Teacher-Elementary                         (blank)   \n",
       "Text_3                                   NaN                        Regular   \n",
       "Text_4                                   NaN                            NaN   \n",
       "Sub_Object_Description                   NaN                            NaN   \n",
       "Location_Description                     NaN                            NaN   \n",
       "FTE                                        1                            NaN   \n",
       "Function_Description                     NaN                       RGN  GOB   \n",
       "Facility_or_Department                   NaN                            NaN   \n",
       "Position_Extra                 KINDERGARTEN                    UNDESIGNATED   \n",
       "Total                                50471.8                        3477.86   \n",
       "Program_Description             KINDERGARTEN  BUILDING IMPROVEMENT SERVICES   \n",
       "Fund_Description                General Fund                            NaN   \n",
       "Text_1                                   NaN  BUILDING IMPROVEMENT SERVICES   \n",
       "\n",
       "                                              326408  \\\n",
       "Function                        Teacher Compensation   \n",
       "Use                                      Instruction   \n",
       "Sharing                              School Reported   \n",
       "Reporting                                     School   \n",
       "Student_Type                             Unspecified   \n",
       "Position_Type                                Teacher   \n",
       "Object_Type                 Base Salary/Compensation   \n",
       "Pre_K                                       Non PreK   \n",
       "Operating_Status                   PreK-12 Operating   \n",
       "Object_Description      Personal Services - Teachers   \n",
       "Text_2                                           NaN   \n",
       "SubFund_Description                              NaN   \n",
       "Job_Title_Description                TCHER 2ND GRADE   \n",
       "Text_3                                           NaN   \n",
       "Text_4                           Regular Instruction   \n",
       "Sub_Object_Description                           NaN   \n",
       "Location_Description                             NaN   \n",
       "FTE                                                1   \n",
       "Function_Description                             NaN   \n",
       "Facility_or_Department                           NaN   \n",
       "Position_Extra                               TEACHER   \n",
       "Total                                        62237.1   \n",
       "Program_Description            Instruction - Regular   \n",
       "Fund_Description              General Purpose School   \n",
       "Text_1                                           NaN   \n",
       "\n",
       "                                                364634  \\\n",
       "Function                       Substitute Compensation   \n",
       "Use                                        Instruction   \n",
       "Sharing                                School Reported   \n",
       "Reporting                                       School   \n",
       "Student_Type                               Unspecified   \n",
       "Position_Type                               Substitute   \n",
       "Object_Type                                   Benefits   \n",
       "Pre_K                                         NO_LABEL   \n",
       "Operating_Status                     PreK-12 Operating   \n",
       "Object_Description                   EMPLOYEE BENEFITS   \n",
       "Text_2                                    TEACHER SUBS   \n",
       "SubFund_Description                       GENERAL FUND   \n",
       "Job_Title_Description         Teacher, Short Term Sub    \n",
       "Text_3                                         Regular   \n",
       "Text_4                                             NaN   \n",
       "Sub_Object_Description                             NaN   \n",
       "Location_Description                               NaN   \n",
       "FTE                                                NaN   \n",
       "Function_Description           UNALLOC BUDGETS/SCHOOLS   \n",
       "Facility_or_Department                             NaN   \n",
       "Position_Extra              PROFESSIONAL-INSTRUCTIONAL   \n",
       "Total                                             22.3   \n",
       "Program_Description     GENERAL MIDDLE/JUNIOR HIGH SCH   \n",
       "Fund_Description                                   NaN   \n",
       "Text_1                             REGULAR INSTRUCTION   \n",
       "\n",
       "                                               47683   \n",
       "Function                      Substitute Compensation  \n",
       "Use                                       Instruction  \n",
       "Sharing                               School Reported  \n",
       "Reporting                                      School  \n",
       "Student_Type                              Unspecified  \n",
       "Position_Type                                 Teacher  \n",
       "Object_Type                   Substitute Compensation  \n",
       "Pre_K                                        NO_LABEL  \n",
       "Operating_Status                    PreK-12 Operating  \n",
       "Object_Description       TEACHER COVERAGE FOR TEACHER  \n",
       "Text_2                                   TEACHER SUBS  \n",
       "SubFund_Description                      GENERAL FUND  \n",
       "Job_Title_Description      Teacher, Secondary (High)   \n",
       "Text_3                                    Alternative  \n",
       "Text_4                                            NaN  \n",
       "Sub_Object_Description                            NaN  \n",
       "Location_Description                              NaN  \n",
       "FTE                                               NaN  \n",
       "Function_Description                      NON-PROJECT  \n",
       "Facility_or_Department                            NaN  \n",
       "Position_Extra             PROFESSIONAL-INSTRUCTIONAL  \n",
       "Total                                          54.166  \n",
       "Program_Description     GENERAL HIGH SCHOOL EDUCATION  \n",
       "Fund_Description                                  NaN  \n",
       "Text_1                            REGULAR INSTRUCTION  "
      ]
     },
     "execution_count": 2,
     "metadata": {},
     "output_type": "execute_result"
    }
   ],
   "source": [
    "df = pd.read_csv('../data/TrainingData.csv',index_col=0)\n",
    "df.head().T"
   ]
  },
  {
   "cell_type": "code",
   "execution_count": 3,
   "metadata": {},
   "outputs": [
    {
     "name": "stdout",
     "output_type": "stream",
     "text": [
      "<class 'pandas.core.frame.DataFrame'>\n",
      "Int64Index: 400277 entries, 134338 to 415831\n",
      "Data columns (total 25 columns):\n",
      "Function                  400277 non-null object\n",
      "Use                       400277 non-null object\n",
      "Sharing                   400277 non-null object\n",
      "Reporting                 400277 non-null object\n",
      "Student_Type              400277 non-null object\n",
      "Position_Type             400277 non-null object\n",
      "Object_Type               400277 non-null object\n",
      "Pre_K                     400277 non-null object\n",
      "Operating_Status          400277 non-null object\n",
      "Object_Description        375493 non-null object\n",
      "Text_2                    88217 non-null object\n",
      "SubFund_Description       306855 non-null object\n",
      "Job_Title_Description     292743 non-null object\n",
      "Text_3                    109152 non-null object\n",
      "Text_4                    53746 non-null object\n",
      "Sub_Object_Description    91603 non-null object\n",
      "Location_Description      162054 non-null object\n",
      "FTE                       126071 non-null float64\n",
      "Function_Description      342195 non-null object\n",
      "Facility_or_Department    53886 non-null object\n",
      "Position_Extra            264764 non-null object\n",
      "Total                     395722 non-null float64\n",
      "Program_Description       304660 non-null object\n",
      "Fund_Description          202877 non-null object\n",
      "Text_1                    292285 non-null object\n",
      "dtypes: float64(2), object(23)\n",
      "memory usage: 79.4+ MB\n"
     ]
    }
   ],
   "source": [
    "df.info()"
   ]
  },
  {
   "cell_type": "code",
   "execution_count": 4,
   "metadata": {
    "scrolled": true
   },
   "outputs": [
    {
     "data": {
      "text/plain": [
       "object     23\n",
       "float64     2\n",
       "dtype: int64"
      ]
     },
     "execution_count": 4,
     "metadata": {},
     "output_type": "execute_result"
    }
   ],
   "source": [
    "# count the number of different datatypes\n",
    "df.dtypes.value_counts()"
   ]
  },
  {
   "cell_type": "markdown",
   "metadata": {},
   "source": [
    "Our ultimate goal is to predict the probability that a certain label is attached to a budget line item. Many of the columns in our data are the inefficient object type.\n",
    "\n",
    "There are 9 columns of labels in the dataset that are of interest. Each of these columns is a category that has many possible values it can take. The 9 labels have been loaded into a list called `LABELS`. We can check out the type for these labels using `df[LABELS].dtypes`."
   ]
  },
  {
   "cell_type": "code",
   "execution_count": 5,
   "metadata": {},
   "outputs": [
    {
     "data": {
      "text/plain": [
       "Function            object\n",
       "Use                 object\n",
       "Sharing             object\n",
       "Reporting           object\n",
       "Student_Type        object\n",
       "Position_Type       object\n",
       "Object_Type         object\n",
       "Pre_K               object\n",
       "Operating_Status    object\n",
       "dtype: object"
      ]
     },
     "execution_count": 5,
     "metadata": {},
     "output_type": "execute_result"
    }
   ],
   "source": [
    "LABELS = ['Function',\n",
    " 'Use',\n",
    " 'Sharing',\n",
    " 'Reporting',\n",
    " 'Student_Type',\n",
    " 'Position_Type',\n",
    " 'Object_Type',\n",
    " 'Pre_K',\n",
    " 'Operating_Status']\n",
    "\n",
    "df[LABELS].dtypes"
   ]
  },
  {
   "cell_type": "markdown",
   "metadata": {},
   "source": [
    "They are all encoded as an `object` datatype. Because category datatypes are much more efficient, we'll convert the labels to category types using the `.astype()`.\n",
    "\n",
    "**Note**: \n",
    "\n",
    "`.astype()` only works on a pandas `Series`. Since we're working with a pandas DataFrame, we'll need to use the `.apply()` method and provide a `lambda` function called `categorize_label` that applies `.astype()` to each column, `x`."
   ]
  },
  {
   "cell_type": "code",
   "execution_count": 6,
   "metadata": {},
   "outputs": [],
   "source": [
    "# define a lambda function that converts the column into a category\n",
    "categorize_label = lambda x: x.astype('category')"
   ]
  },
  {
   "cell_type": "code",
   "execution_count": 7,
   "metadata": {},
   "outputs": [
    {
     "data": {
      "text/plain": [
       "Function            category\n",
       "Use                 category\n",
       "Sharing             category\n",
       "Reporting           category\n",
       "Student_Type        category\n",
       "Position_Type       category\n",
       "Object_Type         category\n",
       "Pre_K               category\n",
       "Operating_Status    category\n",
       "dtype: object"
      ]
     },
     "execution_count": 7,
     "metadata": {},
     "output_type": "execute_result"
    }
   ],
   "source": [
    "# Convert df[LABELS] to a categorical type\n",
    "df[LABELS] = df[LABELS].apply(categorize_label, axis=0)\n",
    "df[LABELS].dtypes"
   ]
  },
  {
   "cell_type": "markdown",
   "metadata": {},
   "source": [
    "There are over 100 unique labels in this dataset. We'll explore this fact by counting and plotting the number of unique values for each category of label, our `LABELS` list.\n",
    "\n",
    "Pandas provides a `pd.Series.nunique` method for counting the number of unique values in a Series which we can take advantage of."
   ]
  },
  {
   "cell_type": "code",
   "execution_count": 8,
   "metadata": {},
   "outputs": [
    {
     "data": {
      "image/png": "[encoded data removed]",
      "text/plain": [
       "<Figure size 432x288 with 1 Axes>"
      ]
     },
     "metadata": {
      "needs_background": "light"
     },
     "output_type": "display_data"
    }
   ],
   "source": [
    "# Calculate number of unique values for each label -\n",
    "# create the DataFrame 'num_unique_labels' by using the '.apply()' \n",
    "# method on df[LABELS] with 'pd.Series.nunique' as the argument.\n",
    "num_unique_labels = df[LABELS].apply(pd.Series.nunique)\n",
    "\n",
    "# Plot number of unique values for each label\n",
    "num_unique_labels.plot(kind='bar')\n",
    "plt.xlabel('Labels')\n",
    "plt.ylabel('Number of unique values')\n",
    "plt.title('Number of unique labels for each category label')\n",
    "plt.show()"
   ]
  },
  {
   "cell_type": "code",
   "execution_count": 9,
   "metadata": {},
   "outputs": [
    {
     "data": {
      "text/plain": [
       "Function            37\n",
       "Use                  8\n",
       "Sharing              5\n",
       "Reporting            3\n",
       "Student_Type         9\n",
       "Position_Type       25\n",
       "Object_Type         11\n",
       "Pre_K                3\n",
       "Operating_Status     3\n",
       "dtype: int64"
      ]
     },
     "execution_count": 9,
     "metadata": {},
     "output_type": "execute_result"
    }
   ],
   "source": [
    "# actual values\n",
    "df[LABELS].nunique()"
   ]
  },
  {
   "cell_type": "code",
   "execution_count": 10,
   "metadata": {},
   "outputs": [
    {
     "data": {
      "text/plain": [
       "Function                       0\n",
       "Use                            0\n",
       "Sharing                        0\n",
       "Reporting                      0\n",
       "Student_Type                   0\n",
       "Position_Type                  0\n",
       "Object_Type                    0\n",
       "Pre_K                          0\n",
       "Operating_Status               0\n",
       "Object_Description         24784\n",
       "Text_2                    312060\n",
       "SubFund_Description        93422\n",
       "Job_Title_Description     107534\n",
       "Text_3                    291125\n",
       "Text_4                    346531\n",
       "Sub_Object_Description    308674\n",
       "Location_Description      238223\n",
       "FTE                       274206\n",
       "Function_Description       58082\n",
       "Facility_or_Department    346391\n",
       "Position_Extra            135513\n",
       "Total                       4555\n",
       "Program_Description        95617\n",
       "Fund_Description          197400\n",
       "Text_1                    107992\n",
       "dtype: int64"
      ]
     },
     "execution_count": 10,
     "metadata": {},
     "output_type": "execute_result"
    }
   ],
   "source": [
    "# identify columns with missing data\n",
    "missing_values = df.isnull().sum()\n",
    "missing_values"
   ]
  },
  {
   "cell_type": "code",
   "execution_count": 11,
   "metadata": {},
   "outputs": [
    {
     "name": "stdout",
     "output_type": "stream",
     "text": [
      "Percentage missing:\n",
      " 29.400729994478823\n"
     ]
    }
   ],
   "source": [
    "# compute percentage of missing values\n",
    "total_cell_num = np.product(df.shape)\n",
    "total_missing_values = missing_values.sum()\n",
    "\n",
    "print('Percentage missing:\\n', total_missing_values/total_cell_num * 100)"
   ]
  },
  {
   "cell_type": "markdown",
   "metadata": {},
   "source": [
    "### Measuring success\n",
    "\n",
    "Accuracy is often used as a measure of success. But it can give a misleading impression of the success in a model in predicting a target, since all it tells us is the number of samples we predicited correctly, e.g. if 1% of email is spam(99% is valid) and you created a spam filter just to detect valid mail, it would have an accuracy of 99%, yet miss the spam - the purpose of using it.\n",
    "\n",
    "A better measure of success is **log loss**. It is a measure of error, which we want to minimize. We use a **loss function** to compute it.\n",
    "\n",
    "**Log Loss in Binary Classification**\n",
    "\n",
    "In binary classification, **log loss**:\n",
    "\n",
    "- takes the actual value, `y`, which can be `1`(yes) or `0`(no)\n",
    "- the probability, `p`, that is a value from `0` to `1`\n",
    "- and sums the log loss for each row in the dataset\n",
    "- then multiply by `-1/N`\n",
    "\n",
    "![Log Loss](imgs/log-loss-1.png)\n",
    "\n",
    "We can implement **log loss** function using Numpy:"
   ]
  },
  {
   "cell_type": "code",
   "execution_count": 13,
   "metadata": {},
   "outputs": [],
   "source": [
    "def compute_log_loss(predicted, actual, eps=1e-14):\n",
    "    predicted = np.clip(predicted, eps, 1 - eps)\n",
    "    loss = -1 * np.mean(actual * np.log(predicted)\n",
    "                        + (1 - actual) * np.log(1 - predicted))\n",
    "    return loss"
   ]
  },
  {
   "cell_type": "code",
   "execution_count": 14,
   "metadata": {},
   "outputs": [
    {
     "data": {
      "text/plain": [
       "2.302585092994046"
      ]
     },
     "execution_count": 14,
     "metadata": {},
     "output_type": "execute_result"
    }
   ],
   "source": [
    "# results of model prediction:\n",
    "compute_log_loss(predicted=0.9, actual=0)"
   ]
  },
  {
   "cell_type": "code",
   "execution_count": 15,
   "metadata": {},
   "outputs": [
    {
     "data": {
      "text/plain": [
       "0.6931471805599453"
      ]
     },
     "execution_count": 15,
     "metadata": {},
     "output_type": "execute_result"
    }
   ],
   "source": [
    "compute_log_loss(predicted=0.5, actual=1)"
   ]
  },
  {
   "cell_type": "markdown",
   "metadata": {},
   "source": [
    "Given the following numeric arrays simulating different types of predictions, caculate the **log loss** in each case:"
   ]
  },
  {
   "cell_type": "code",
   "execution_count": 16,
   "metadata": {},
   "outputs": [],
   "source": [
    "actual_labels = np.array([ 1.,  1.,  1.,  1.,  1.,  0.,  0.,  0.,  0.,  0.])\n",
    "correct_confident = np.array([ 0.95,  0.95,  0.95,  0.95,  0.95,  0.05,  0.05,  0.05,  0.05,  0.05])\n",
    "correct_not_confident = np.array([ 0.65,  0.65,  0.65,  0.65,  0.65,  0.35,  0.35,  0.35,  0.35,  0.35])\n",
    "wrong_confident = np.array([ 0.05,  0.05,  0.05,  0.05,  0.05,  0.95,  0.95,  0.95,  0.95,  0.95])\n",
    "wrong_not_confident = np.array([ 0.35,  0.35,  0.35,  0.35,  0.35,  0.65,  0.65,  0.65,  0.65,  0.65])"
   ]
  },
  {
   "cell_type": "code",
   "execution_count": 17,
   "metadata": {},
   "outputs": [
    {
     "name": "stdout",
     "output_type": "stream",
     "text": [
      "Log loss, correct and confident: 0.05129329438755058\n",
      "Log loss, correct and not confident: 0.4307829160924542\n",
      "Log loss, wrong and not confident: 1.049822124498678\n",
      "Log loss, wrong and confident: 2.9957322735539904\n",
      "Log loss, actual labels: 9.99200722162646e-15\n"
     ]
    }
   ],
   "source": [
    "# Compute and print log loss for 1st case\n",
    "correct_confident = compute_log_loss(correct_confident, actual_labels)\n",
    "print(\"Log loss, correct and confident: {}\".format(correct_confident)) \n",
    "\n",
    "# Compute log loss for 2nd case\n",
    "correct_not_confident = compute_log_loss(correct_not_confident, actual_labels)\n",
    "print(\"Log loss, correct and not confident: {}\".format(correct_not_confident)) \n",
    "\n",
    "# Compute and print log loss for 3rd case\n",
    "wrong_not_confident = compute_log_loss(wrong_not_confident, actual_labels)\n",
    "print(\"Log loss, wrong and not confident: {}\".format(wrong_not_confident)) \n",
    "\n",
    "# Compute and print log loss for 4th case\n",
    "wrong_confident = compute_log_loss(wrong_confident, actual_labels)\n",
    "print(\"Log loss, wrong and confident: {}\".format(wrong_confident)) \n",
    "\n",
    "# Compute and print log loss for actual labels\n",
    "actual_labels = compute_log_loss(actual_labels, actual_labels)\n",
    "print(\"Log loss, actual labels: {}\".format(actual_labels)) "
   ]
  },
  {
   "cell_type": "markdown",
   "metadata": {},
   "source": [
    "**Log loss** penalizes highly confident wrong answers much more than any other type. This will be a good metric to use on your models. "
   ]
  }
 ],
 "metadata": {
  "kernelspec": {
   "display_name": "Python 3",
   "language": "python",
   "name": "python3"
  },
  "language_info": {
   "codemirror_mode": {
    "name": "ipython",
    "version": 3
   },
   "file_extension": ".py",
   "mimetype": "text/x-python",
   "name": "python",
   "nbconvert_exporter": "python",
   "pygments_lexer": "ipython3",
   "version": "3.6.7"
  }
 },
 "nbformat": 4,
 "nbformat_minor": 2
}
