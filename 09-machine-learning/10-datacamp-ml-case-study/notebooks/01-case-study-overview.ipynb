{
 "cells": [
  {
   "cell_type": "markdown",
   "metadata": {},
   "source": [
    "# Box Plots for Education\n",
    "\n",
    "### Summary\n",
    "\n",
    "Budgets for schools and school districts are huge, complex, and unwieldy. It's no easy task to digest where and how schools are using their resources. Education Resource Strategies(ERS) is a non-profit that tackles just this task with the goal of letting districts be smarter, more strategic, and more effective in their spending.\n",
    "\n",
    "Your task is a **multi-class-multi-label classification** problem with the goal of attaching canonical labels to the freeform text in budget line items. There are 9 broad categories that each take on many possible sub-label instances.\n",
    "\n",
    "These labels let ERS understand how schools are spending money and tailor their strategy recommendations to improve outcomes for students, teachers, and administrators."
   ]
  },
  {
   "cell_type": "markdown",
   "metadata": {},
   "source": [
    "### Competition Description\n",
    "\n",
    "In order to compare budget or expenditure data across districts, ERS assigns every line item to certain categories in a comprehensive financial spending framework. For instance, Object_Type describes what the spending \"is\"—Base Salary/Compensation, Benefits, Stipends & Other Compensation, Equipment & Equipment Lease, Property Rental, and so on. Other categories describe what the spending \"does,\" which groups of students benefit, and where the funds come from.\n",
    "\n",
    "Once this process is complete, we can finally offer cross-district insight into a partner's finances. We might observe that a particular partner spends more on facilities and maintenance than peer districts, or staffs teaching assistants more richly. These findings are not in themselves good or bad—they depend on the context, goals, and strategy of the partner district.\n",
    "\n",
    "This task (which we call financial coding) is very time and labor-intensive. This limits our ability to provide this analysis to districts. It typically takes us several weeks to reliably code a financial file. Furthermore, the challenges of financial coding put a limit on the quality of our comparisons, since the only districts in our comparison database are those with whom we've gone through this lengthy, laborious process.\n",
    "\n",
    "The right algorithm, paired with some human checks, will allow us to code financial files more accurately, more quickly, and more cheaply. As a result, we will be able to offer these valuable insights to many more districts at a much lower cost, greatly extending our impact. Eventually, we hope to offer a free self-service version of the algorithm through our website, which would allow any district to upload their data and receive comparisons to similar districts on a time scale of days or even hours."
   ]
  },
  {
   "cell_type": "markdown",
   "metadata": {},
   "source": [
    "### Dataset features\n",
    "\n",
    "Your goal is to predict the probability that a certain label is attached to a budget line item. Each row in the budget has mostly free-form text features, except for the two below that are noted as float. Any of the fields may or may not be empty\n",
    "\n",
    "- FTE float - If an employee, the percentage of full-time that the employee works.\n",
    "- Facility_or_Department - If expenditure is tied to a department/facility, that department/facility.\n",
    "- Function_Description - A description of the function the expenditure was serving.\n",
    "- Fund_Description - A description of the source of the funds.\n",
    "- Job_Title_Description - If this is an employee, a description of that employee's job title.\n",
    "- Location_Description - A description of where the funds were spent.\n",
    "- Object_Description - A description of what the funds were used for.\n",
    "- Position_Extra - Any extra information about the position that we have.\n",
    "- Program_Description - A description of the program that the funds were used for.\n",
    "- SubFund_Description - More detail on Fund_Description\n",
    "- Sub_Object_Description - More detail on Object_Description\n",
    "- Text_1 - Any additional text supplied by the district.\n",
    "- Text_2 - Any additional text supplied by the district.\n",
    "- Text_3 - Any additional text supplied by the district.\n",
    "- Text_4 - Any additional text supplied by the district.\n",
    "- Total float - The total cost of the expenditure.\n",
    "\n"
   ]
  },
  {
   "cell_type": "markdown",
   "metadata": {},
   "source": [
    "### Dataset labels\n",
    "\n",
    "For each of these rows, ERS attaches one label from each of 9 different categories:\n",
    "\n",
    "- `Function`\n",
    "- `Object_Type`\n",
    "- `Operating_Status`\n",
    "- `Position_Type`\n",
    "- `Pre_K`\n",
    "- `Reporting`\n",
    "- `Sharing`\n",
    "- `Student_Type`\n",
    "- `Use`\n",
    "\n",
    "For a list of `sub_labels` check the [compettion page.](https://www.drivendata.org/competitions/46/box-plots-for-education-reboot/page/86/#labels_list)"
   ]
  },
  {
   "cell_type": "markdown",
   "metadata": {},
   "source": [
    "### Submission format\n",
    "\n",
    "Your goal is to predict a probability for each possible label in the dataset given a row of new data. Each of these probabilities goes in a separate column in the submission file. The submission must be `50064x104` where `50064` is the number of rows in the test dataset (excluding the header) and `104` is the number of columns (excluding a first column of row ids). The columns in the submission have the format `ColumnName__PossibleLabel`, which we have listed below for your convenience. This is simply a flattening of the labels that we listed above."
   ]
  },
  {
   "cell_type": "markdown",
   "metadata": {},
   "source": [
    "[Competition Page]('https://www.drivendata.org/competitions/46/box-plots-for-education-reboot/')  \n",
    "\n",
    "[Github Repo for the 1st, 2nd and 3rd place submissions]('https://github.com/drivendataorg/box-plots-for-education')  \n",
    "\n",
    "[Course resources repo]('https://github.com/datacamp/course-resources-ml-with-experts-budgets')"
   ]
  }
 ],
 "metadata": {
  "kernelspec": {
   "display_name": "Python 3",
   "language": "python",
   "name": "python3"
  },
  "language_info": {
   "codemirror_mode": {
    "name": "ipython",
    "version": 3
   },
   "file_extension": ".py",
   "mimetype": "text/x-python",
   "name": "python",
   "nbconvert_exporter": "python",
   "pygments_lexer": "ipython3",
   "version": "3.6.8"
  }
 },
 "nbformat": 4,
 "nbformat_minor": 2
}
