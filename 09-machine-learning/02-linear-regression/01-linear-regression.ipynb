{
 "cells": [
  {
   "cell_type": "markdown",
   "metadata": {},
   "source": [
    "# Linear Regression\n",
    "\n",
    "## Building a Linear Regression Algorithm from Scratch\n",
    "\n",
    "The purpose of machine learning is to create a model, that given an input is able to predict the output. The simplest model that we can fit to data is a straight line. Trying to find a line that fits a set of data is called **Linear Regression**, e.g. if we were to plot house prices vs square footage, can we predict the price given it's size?\n",
    "\n",
    "If we plotted weights against heights of a set of professional baseball players:\n",
    "![Scatter Plot 1](img/scatter-plot-1.png)"
   ]
  },
  {
   "cell_type": "markdown",
   "metadata": {},
   "source": [
    "If we were to draw a line to best fit the data:\n",
    "![Scatter plot 2](img/scatter-plot-2.png)"
   ]
  },
  {
   "cell_type": "markdown",
   "metadata": {},
   "source": [
    "Now, if we wanted to estimate the weight of a player with a height of 73 inches, we could estimate that it is around 143 pounds. A line allows us the ability to explain and predict variables that have a linear relationship with each other. We're looking for the best fit.\n",
    "\n",
    "A line is determined by its slope(a measure of how steep the line is) and its intercept(a measure of where the line hits the y-axis). For each point y on a line we can say:\n",
    "\n",
    "```py\n",
    "y = mx + b\n",
    "```\n",
    "\n",
    " - `y` is the point on the y-axis\n",
    " - `m` is the slope\n",
    " - `b` is the intercept\n",
    " - `x` is the point on the x-axis\n",
    "\n",
    "You calculate the predicted values of `y`, given the values of `x`, `m` and `b`. Then plot the `predicted y-values` vs x and see how close the line is to fitting the data."
   ]
  },
  {
   "cell_type": "code",
   "execution_count": 5,
   "metadata": {},
   "outputs": [
    {
     "data": {
      "text/plain": [
       "[<matplotlib.lines.Line2D at 0x7f1667460860>]"
      ]
     },
     "execution_count": 5,
     "metadata": {},
     "output_type": "execute_result"
    },
    {
     "data": {
      "image/png": "[encoded data removed]",
      "text/plain": [
       "<Figure size 432x288 with 1 Axes>"
      ]
     },
     "metadata": {
      "needs_background": "light"
     },
     "output_type": "display_data"
    }
   ],
   "source": [
    "import matplotlib.pyplot as plt\n",
    "months = [1, 2, 3, 4, 5, 6, 7, 8, 9, 10, 11, 12]\n",
    "revenue = [52, 74, 79, 95, 115, 110, 129, 126, 147, 146, 156, 184]\n",
    "\n",
    "#slope:\n",
    "m = 12\n",
    "#intercept:\n",
    "b = 40\n",
    "plt.plot(months, revenue, \"o\")\n",
    "\n",
    "# caluculate y values given x-values, slope and intercept\n",
    "y = [m * months + b for months in months]\n",
    "plt.plot(months, y, 's')\n",
    "\n",
    "# change the m and  b values so the line fits the data"
   ]
  },
  {
   "cell_type": "markdown",
   "metadata": {},
   "source": [
    "## Loss\n",
    "\n",
    "When we think about how we can assign a slope and intercept to fit a set of points, we have to define what the best fit is. For each data point, we calculate loss(or error), a number that measures how bad the model's (in this case, the line's) prediction was.\n",
    "It's the squared distance (instead of just the distance) so that points above and below the line both contribute to total loss:\n",
    "\n",
    "![Loss](img/loss.png)\n",
    "\n",
    "For point A, the squared distance is 9 (3²). For point B, the squared distance is 1 (1²). The totla loss for this model is `10`.  If we found a line that had less loss than 10, that line would be a better model for this data."
   ]
  },
  {
   "cell_type": "code",
   "execution_count": 7,
   "metadata": {},
   "outputs": [
    {
     "name": "stdout",
     "output_type": "stream",
     "text": [
      "[1, 2, 3]\n",
      "17\n",
      "13.5\n"
     ]
    }
   ],
   "source": [
    "# calculate line of best fit\n",
    "x = [1, 2, 3]\n",
    "y = [5, 1, 3]\n",
    "\n",
    "#y = x\n",
    "m1 = 1\n",
    "b1 = 0\n",
    "# predict the values of y, based on the values m1, b and x\n",
    "y_predicted1 = [m1 * x_value + b1 for x_value in x]\n",
    "print(y_predicted1)\n",
    "\n",
    "#y = 0.5x + 1\n",
    "m2 = 0.5\n",
    "b2 = 1\n",
    "y_predicted2 = [m2 * x_value + b2 for x_value in x]\n",
    "\n",
    "total_loss1 = 0\n",
    "\n",
    "# find the sum of the squared distance between the actual y-values of the points and the y_predicted1 values\n",
    "for i in range(len(y)):\n",
    "  total_loss1 += (y[i] - y_predicted1[i]) ** 2\n",
    "\n",
    "total_loss2 = 0\n",
    "for i in range(len(y)):\n",
    "  total_loss2 += (y[i] - y_predicted2[i]) ** 2\n",
    "\n",
    "print(total_loss1)\n",
    "print(total_loss2) # best fit, smallest loss\n"
   ]
  },
  {
   "cell_type": "markdown",
   "metadata": {},
   "source": [
    "The goal of a linear regression model is to find the slope and intercept pair (`b` and `m` values) that minimizes loss on average across all of the data using `Gradient Descent`."
   ]
  },
  {
   "cell_type": "markdown",
   "metadata": {},
   "source": [
    "## Gradient Descent for Intercept\n",
    "\n",
    "As we try to minimize loss, we take each parameter we are changing(`m` - slope, and `b` - intercept), and move it as long as we are decreasing loss. The process by which we do this is called gradient descent. We move in the direction(which can involve either decreasing/increasing the parameter) that decreases our loss the most. Gradient refers to the slope of the curve at any point.\n",
    "\n",
    "Let's say we are trying to find the intercept for a line. We currently have a guess of 10 for the intercept. At the point of 10 on the curve, the slope is downward. Therefore, if we increase the intercept, we should be lowering the loss. So we follow the gradient downwards.\n",
    "\n",
    "![Linear regression](img/linear-regression.gif)\n",
    "\n",
    "To derive the gradient at various points we:\n",
    "\n",
    "1. find the sum of `y_value - (m * x_value + b)` for all `y_values` and `x-values`.\n",
    "\n",
    "2. multiply the sum by a factor of `-2/N`, where `N` is the number of points.\n",
    "\n",
    "We can derive the gradient of `b` at each point using this formula:\n",
    "\n",
    "```py\n",
    "# x - x values, y - y values, b - slope, b - intercept\n",
    "# following the formula: gradient = y - (m * x + b)\n",
    "# N number of points\n",
    "def get_gradient_at_b(x, y, m, b):\n",
    "  diff = 0\n",
    "  N = len(x)\n",
    "  for i in range(0, len(x)):\n",
    "    y_val = y[i]\n",
    "    x_val = x[i]\n",
    "    diff += y_val - (m * x_val + b)\n",
    "    \n",
    "  b_gradient = -2/N * diff  \n",
    "  return b_gradient\n",
    "```"
   ]
  },
  {
   "cell_type": "markdown",
   "metadata": {},
   "source": [
    "## Gradient Descent for Slope\n",
    "\n",
    "To find the gradient of `m` at each point:\n",
    "\n",
    "1. find the sum of `x_value * (y_value - (m * x_value + b))` for all `x_values` and `y_values`.\n",
    "\n",
    "2. multiply the sum by a factor of `-2/N` where `N` is the number of points\n",
    "\n",
    "```py\n",
    "def get_gradient_at_m(x, y, b, m):\n",
    "  N = len(x)\n",
    "  diff = 0\n",
    "  for i in range(N):\n",
    "      x_val = x[i]\n",
    "      y_val = y[i]\n",
    "      diff += x_val * (y_val - ((m * x_val) + b))\n",
    "\n",
    "m_gradient = -(2/N) * diff  \n",
    "return m_gradient\n",
    "```\n",
    "\n",
    "Once we have a way to calculate both the m gradient and the b gradient, we'll be able to follow both of those gradients downwards to the point of lowest loss for both the m value and the b value. Then, we'll have the best m and the best b to fit our data!"
   ]
  },
  {
   "cell_type": "markdown",
   "metadata": {},
   "source": [
    "When calculating the gradient, we want to take small steps otherwise we will 'overshoot' the minimum error. We can scale the size of the step by multiplying the gradient by a `learning rate`. Thus to find a new `b` value we would:\n",
    "\n",
    "```py\n",
    "new_b = current_b - (learning_rate * b_gradient)\n",
    "```\n",
    "\n",
    "Where `current_b` is our guess for what the `b` value is, `b_gradient` is the gradient of the loss curve at our current guess, and `learning_rate` is proportional to the size of the step we want to take.\n",
    "\n",
    "We can put it all together and create a formula to calculate the `step gradient`:\n",
    "\n",
    "\n",
    "```py\n",
    "def step_gradient(x, y, b_current, m_current):\n",
    "  b_gradient = get_gradient_at_b(x, y, b_current, m_current)\n",
    "  m_gradient = get_gradient_at_m(x, y, b_current, m_current)\n",
    "  b = b_current - (0.01 * b_gradient)\n",
    "  m = m_current - (0.01 * m_gradient)\n",
    "  return [b, m]\n",
    "```"
   ]
  },
  {
   "cell_type": "code",
   "execution_count": null,
   "metadata": {},
   "outputs": [],
   "source": [
    "# Example bringing it all togther\n",
    "def get_gradient_at_b(x, y, b, m):\n",
    "  N = len(x)\n",
    "  diff = 0\n",
    "  for i in range(N):\n",
    "    x_val = x[i]\n",
    "    y_val = y[i]\n",
    "    diff += (y_val - ((m * x_val) + b))\n",
    "  b_gradient = -(2/N) * diff  \n",
    "  return b_gradient\n",
    "\n",
    "def get_gradient_at_m(x, y, b, m):\n",
    "  N = len(x)\n",
    "  diff = 0\n",
    "  for i in range(N):\n",
    "      x_val = x[i]\n",
    "      y_val = y[i]\n",
    "      diff += x_val * (y_val - ((m * x_val) + b))\n",
    "  m_gradient = -(2/N) * diff  \n",
    "  return m_gradient\n",
    "\n",
    "def step_gradient(x, y, b_current, m_current):\n",
    "  b_gradient = get_gradient_at_b(x, y, b_current, m_current)\n",
    "  m_gradient = get_gradient_at_m(x, y, b_current, m_current)\n",
    "  b = b_current - (0.01 * b_gradient)\n",
    "  m = m_current - (0.01 * m_gradient)\n",
    "  return (b, m)\n",
    "\n",
    "# sales data\n",
    "months = [1, 2, 3, 4, 5, 6, 7, 8, 9, 10, 11, 12]\n",
    "revenue = [52, 74, 79, 95, 115, 110, 129, 126, 147, 146, 156, 184]\n",
    "\n",
    "# current intercept guess:\n",
    "b = 0\n",
    "# current slope guess:\n",
    "m = 0\n",
    "\n",
    "# update b and m\n",
    "b, m = step_gradient(months, revenue, b, m)\n",
    "\n",
    "print(b, m)"
   ]
  },
  {
   "cell_type": "markdown",
   "metadata": {},
   "source": [
    "## Convergence\n",
    "\n",
    "How do we know when we should stop changing the parameters m and b? Or when our 'program' has learned enough?\n",
    "\n",
    "When the loss stops changing (or changes very slowly) when parameters are changed - the point of **Convergence**. Hopefully, the algorithm will converge at the best values for the parameters m and b. The linear regression algorithm stops when the parameters stop changing (or change very slowly).\n",
    "\n",
    "From the plot below we can see that it tock apprx. 800 iterations to reach convergence, a `b` value of 47.\n",
    "\n",
    "![Convergence](img/convergence.png)\n",
    "\n",
    "If the algorithm is taking too long to converge, should you move the learning rate up. Gradient descent is already being performed in steps that are too small, and lowering the learning rate would only make the steps smaller."
   ]
  },
  {
   "cell_type": "markdown",
   "metadata": {},
   "source": [
    "## Learning Rate\n",
    "\n",
    "We want our program to be able to iteratively learn what the best `m` and `b` values are. So for each `m` and `b` pair that we guess, we want to move them in the direction of the gradients we've calculated. But how far do we move in that direction?\n",
    "\n",
    "We have to choose a learning rate, which will determine how far down the loss curve we go.\n",
    "\n",
    "To small and it will take too long to converge — you might run out of time or cycles before getting an answer. A large learning rate might skip over the best value, never converging.\n",
    "\n",
    "![Converge](img/linear-regression-2.gif)\n",
    "\n",
    "Finding the absolute best learning rate is not necessary for training a model. You just have to find a learning rate large enough that gradient descent converges with the efficiency you need, and not so large that convergence never happens."
   ]
  },
  {
   "cell_type": "markdown",
   "metadata": {},
   "source": [
    "## Puting it all together!\n",
    "\n",
    "At each step, we know how to calculate the gradient and move in that direction with a step size proportional to our learning rate. Now, we want to make these steps until we reach convergence."
   ]
  },
  {
   "cell_type": "code",
   "execution_count": 6,
   "metadata": {},
   "outputs": [
    {
     "data": {
      "text/plain": [
       "[<matplotlib.lines.Line2D at 0x7fb89092d7b8>]"
      ]
     },
     "execution_count": 6,
     "metadata": {},
     "output_type": "execute_result"
    },
    {
     "data": {
      "image/png": "[encoded data removed]",
      "text/plain": [
       "<Figure size 432x288 with 1 Axes>"
      ]
     },
     "metadata": {
      "needs_background": "light"
     },
     "output_type": "display_data"
    }
   ],
   "source": [
    "import matplotlib.pyplot as plt\n",
    "\n",
    "def get_gradient_at_b(x, y, b, m):\n",
    "  N = len(x)\n",
    "  diff = 0\n",
    "  for i in range(N):\n",
    "    x_val = x[i]\n",
    "    y_val = y[i]\n",
    "    diff += (y_val - ((m * x_val) + b))\n",
    "  b_gradient = -(2/N) * diff  \n",
    "  return b_gradient\n",
    "\n",
    "def get_gradient_at_m(x, y, b, m):\n",
    "  N = len(x)\n",
    "  diff = 0\n",
    "  for i in range(N):\n",
    "      x_val = x[i]\n",
    "      y_val = y[i]\n",
    "      diff += x_val * (y_val - ((m * x_val) + b))\n",
    "  m_gradient = -(2/N) * diff  \n",
    "  return m_gradient\n",
    "\n",
    "# updated step_gradient function, added 'learning_rate'\n",
    "def step_gradient(b_current, m_current, x, y, learning_rate):\n",
    "    b_gradient = get_gradient_at_b(x, y, b_current, m_current)\n",
    "    m_gradient = get_gradient_at_m(x, y, b_current, m_current)\n",
    "    b = b_current - (learning_rate * b_gradient)\n",
    "    m = m_current - (learning_rate * m_gradient)\n",
    "    return [b, m]\n",
    "  \n",
    "# gradient_descent function\n",
    "def gradient_descent(x, y, learning_rate, num_iterations):\n",
    "  b= 0\n",
    "  m = 0\n",
    "  for i in range(num_iterations):\n",
    "    b, m = step_gradient(b, m, x, y, learning_rate)\n",
    "    \n",
    "  return (b, m)\n",
    "\n",
    "\n",
    "# Example ===================================================\n",
    "months = [1, 2, 3, 4, 5, 6, 7, 8, 9, 10, 11, 12]\n",
    "revenue = [52, 74, 79, 95, 115, 110, 129, 126, 147, 146, 156, 184]\n",
    "\n",
    "# calculate the 'best' intercept and slope (b and m) for the data sets\n",
    "b, m = gradient_descent(months, revenue, 0.01, 1000)\n",
    "\n",
    "# plot the line\n",
    "y = [m*x + b for x in months]\n",
    "plt.plot(months, revenue, \"o\")\n",
    "plt.plot(months, y)"
   ]
  },
  {
   "cell_type": "markdown",
   "metadata": {},
   "source": [
    "#### Example 2\n",
    "\n",
    "```py\n",
    "from gradient_descent_funcs import gradient_descent\n",
    "import pandas as pd\n",
    "import matplotlib.pyplot as plt\n",
    "\n",
    "df = pd.read_csv(\"heights.csv\")\n",
    "\n",
    "X = df[\"height\"]\n",
    "y = df[\"weight\"]\n",
    "\n",
    "plt.plot(X, y, 'o')\n",
    "\n",
    "# calculate every value of y for x, b and m\n",
    "b, m = gradient_descent(X, y, 0.0001, 1000)\n",
    "y_predictions = [i * m + b for i in X]\n",
    "\n",
    "# plot y_predictions vs x values\n",
    "plt.plot(X, y_predictions)\n",
    "plt.show()\n",
    "```\n",
    "\n",
    "![Scatter plot](img/scatter-plot-3.png)"
   ]
  },
  {
   "cell_type": "markdown",
   "metadata": {},
   "source": [
    "The goal of a linear regression algorithm is to find the intercept and slope that minimize average loss - produce the line of best fit."
   ]
  }
 ],
 "metadata": {
  "kernelspec": {
   "display_name": "Python 3",
   "language": "python",
   "name": "python3"
  },
  "language_info": {
   "codemirror_mode": {
    "name": "ipython",
    "version": 3
   },
   "file_extension": ".py",
   "mimetype": "text/x-python",
   "name": "python",
   "nbconvert_exporter": "python",
   "pygments_lexer": "ipython3",
   "version": "3.6.8"
  }
 },
 "nbformat": 4,
 "nbformat_minor": 2
}
