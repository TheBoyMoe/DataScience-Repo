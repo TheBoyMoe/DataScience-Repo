{
 "cells": [
  {
   "cell_type": "code",
   "execution_count": 15,
   "metadata": {
    "_cell_guid": "b1076dfc-b9ad-4769-8c92-a6c4dae69d19",
    "_uuid": "8f2839f25d086af736a60e9eeb907d3b93b6e0e5"
   },
   "outputs": [
    {
     "name": "stdout",
     "output_type": "stream",
     "text": [
      "['5day-data-challenge-signup-survey-responses', '80-cereals']\n"
     ]
    }
   ],
   "source": [
    "import numpy as np # linear algebra\n",
    "import pandas as pd # data processing, CSV file I/O (e.g. pd.read_csv)\n",
    "import matplotlib.pyplot as plt\n",
    "%matplotlib inline\n",
    "\n",
    "import os\n",
    "print(os.listdir(\"../input\"))\n",
    "\n",
    "data = pd.read_csv('../input/80-cereals/cereal.csv')"
   ]
  },
  {
   "cell_type": "markdown",
   "metadata": {
    "_uuid": "aa69aafbc80ebb21cd766fb970989b558990f927"
   },
   "source": [
    "### Examine the data and plot a histogram"
   ]
  },
  {
   "cell_type": "code",
   "execution_count": 16,
   "metadata": {
    "_cell_guid": "79c7e3d0-c299-4dcb-8224-4455121ee9b0",
    "_uuid": "d629ff2d2480ee46fbb7e2d37f6b5fab8052498a",
    "collapsed": true
   },
   "outputs": [
    {
     "name": "stdout",
     "output_type": "stream",
     "text": [
      "(77, 16)\n",
      "<class 'pandas.core.frame.DataFrame'>\n",
      "RangeIndex: 77 entries, 0 to 76\n",
      "Data columns (total 16 columns):\n",
      "name        77 non-null object\n",
      "mfr         77 non-null object\n",
      "type        77 non-null object\n",
      "calories    77 non-null int64\n",
      "protein     77 non-null int64\n",
      "fat         77 non-null int64\n",
      "sodium      77 non-null int64\n",
      "fiber       77 non-null float64\n",
      "carbo       77 non-null float64\n",
      "sugars      77 non-null int64\n",
      "potass      77 non-null int64\n",
      "vitamins    77 non-null int64\n",
      "shelf       77 non-null int64\n",
      "weight      77 non-null float64\n",
      "cups        77 non-null float64\n",
      "rating      77 non-null float64\n",
      "dtypes: float64(5), int64(8), object(3)\n",
      "memory usage: 9.7+ KB\n"
     ]
    }
   ],
   "source": [
    "print(data.shape)\n",
    "data.info()"
   ]
  },
  {
   "cell_type": "code",
   "execution_count": 17,
   "metadata": {
    "_uuid": "923ae9360e572a294468e3e2b9bab6b6ec0cbe77",
    "collapsed": true
   },
   "outputs": [
    {
     "data": {
      "text/html": [
       "<div>\n",
       "<style scoped>\n",
       "    .dataframe tbody tr th:only-of-type {\n",
       "        vertical-align: middle;\n",
       "    }\n",
       "\n",
       "    .dataframe tbody tr th {\n",
       "        vertical-align: top;\n",
       "    }\n",
       "\n",
       "    .dataframe thead th {\n",
       "        text-align: right;\n",
       "    }\n",
       "</style>\n",
       "<table border=\"1\" class=\"dataframe\">\n",
       "  <thead>\n",
       "    <tr style=\"text-align: right;\">\n",
       "      <th></th>\n",
       "      <th>name</th>\n",
       "      <th>mfr</th>\n",
       "      <th>type</th>\n",
       "      <th>calories</th>\n",
       "      <th>protein</th>\n",
       "      <th>fat</th>\n",
       "      <th>sodium</th>\n",
       "      <th>fiber</th>\n",
       "      <th>carbo</th>\n",
       "      <th>sugars</th>\n",
       "      <th>potass</th>\n",
       "      <th>vitamins</th>\n",
       "      <th>shelf</th>\n",
       "      <th>weight</th>\n",
       "      <th>cups</th>\n",
       "      <th>rating</th>\n",
       "    </tr>\n",
       "  </thead>\n",
       "  <tbody>\n",
       "    <tr>\n",
       "      <th>0</th>\n",
       "      <td>100% Bran</td>\n",
       "      <td>N</td>\n",
       "      <td>C</td>\n",
       "      <td>70</td>\n",
       "      <td>4</td>\n",
       "      <td>1</td>\n",
       "      <td>130</td>\n",
       "      <td>10.0</td>\n",
       "      <td>5.0</td>\n",
       "      <td>6</td>\n",
       "      <td>280</td>\n",
       "      <td>25</td>\n",
       "      <td>3</td>\n",
       "      <td>1.0</td>\n",
       "      <td>0.33</td>\n",
       "      <td>68.402973</td>\n",
       "    </tr>\n",
       "    <tr>\n",
       "      <th>1</th>\n",
       "      <td>100% Natural Bran</td>\n",
       "      <td>Q</td>\n",
       "      <td>C</td>\n",
       "      <td>120</td>\n",
       "      <td>3</td>\n",
       "      <td>5</td>\n",
       "      <td>15</td>\n",
       "      <td>2.0</td>\n",
       "      <td>8.0</td>\n",
       "      <td>8</td>\n",
       "      <td>135</td>\n",
       "      <td>0</td>\n",
       "      <td>3</td>\n",
       "      <td>1.0</td>\n",
       "      <td>1.00</td>\n",
       "      <td>33.983679</td>\n",
       "    </tr>\n",
       "    <tr>\n",
       "      <th>2</th>\n",
       "      <td>All-Bran</td>\n",
       "      <td>K</td>\n",
       "      <td>C</td>\n",
       "      <td>70</td>\n",
       "      <td>4</td>\n",
       "      <td>1</td>\n",
       "      <td>260</td>\n",
       "      <td>9.0</td>\n",
       "      <td>7.0</td>\n",
       "      <td>5</td>\n",
       "      <td>320</td>\n",
       "      <td>25</td>\n",
       "      <td>3</td>\n",
       "      <td>1.0</td>\n",
       "      <td>0.33</td>\n",
       "      <td>59.425505</td>\n",
       "    </tr>\n",
       "    <tr>\n",
       "      <th>3</th>\n",
       "      <td>All-Bran with Extra Fiber</td>\n",
       "      <td>K</td>\n",
       "      <td>C</td>\n",
       "      <td>50</td>\n",
       "      <td>4</td>\n",
       "      <td>0</td>\n",
       "      <td>140</td>\n",
       "      <td>14.0</td>\n",
       "      <td>8.0</td>\n",
       "      <td>0</td>\n",
       "      <td>330</td>\n",
       "      <td>25</td>\n",
       "      <td>3</td>\n",
       "      <td>1.0</td>\n",
       "      <td>0.50</td>\n",
       "      <td>93.704912</td>\n",
       "    </tr>\n",
       "    <tr>\n",
       "      <th>4</th>\n",
       "      <td>Almond Delight</td>\n",
       "      <td>R</td>\n",
       "      <td>C</td>\n",
       "      <td>110</td>\n",
       "      <td>2</td>\n",
       "      <td>2</td>\n",
       "      <td>200</td>\n",
       "      <td>1.0</td>\n",
       "      <td>14.0</td>\n",
       "      <td>8</td>\n",
       "      <td>-1</td>\n",
       "      <td>25</td>\n",
       "      <td>3</td>\n",
       "      <td>1.0</td>\n",
       "      <td>0.75</td>\n",
       "      <td>34.384843</td>\n",
       "    </tr>\n",
       "  </tbody>\n",
       "</table>\n",
       "</div>"
      ],
      "text/plain": [
       "                        name mfr type    ...      weight  cups     rating\n",
       "0                  100% Bran   N    C    ...         1.0  0.33  68.402973\n",
       "1          100% Natural Bran   Q    C    ...         1.0  1.00  33.983679\n",
       "2                   All-Bran   K    C    ...         1.0  0.33  59.425505\n",
       "3  All-Bran with Extra Fiber   K    C    ...         1.0  0.50  93.704912\n",
       "4             Almond Delight   R    C    ...         1.0  0.75  34.384843\n",
       "\n",
       "[5 rows x 16 columns]"
      ]
     },
     "execution_count": 17,
     "metadata": {},
     "output_type": "execute_result"
    }
   ],
   "source": [
    "data.head()"
   ]
  },
  {
   "cell_type": "code",
   "execution_count": 18,
   "metadata": {
    "_uuid": "fecb42704323347db69afbe2bae82bdc37c0eea3"
   },
   "outputs": [
    {
     "data": {
      "text/plain": [
       "Text(0.5,1,'Overview of different nutrients in common cereal brands')"
      ]
     },
     "execution_count": 18,
     "metadata": {},
     "output_type": "execute_result"
    },
    {
     "data": {
      "image/png": "[encoded data removed]",
      "text/plain": [
       "<Figure size 648x432 with 1 Axes>"
      ]
     },
     "metadata": {},
     "output_type": "display_data"
    }
   ],
   "source": [
    "data.plot(kind='hist', bins=20, figsize=(9,6));\n",
    "plt.title('Overview of different nutrients in common cereal brands')"
   ]
  },
  {
   "cell_type": "code",
   "execution_count": 19,
   "metadata": {
    "_uuid": "3ccda4bdf5735046454a35aca6b3d0801100d418"
   },
   "outputs": [
    {
     "data": {
      "text/plain": [
       "Text(0.5,1,'Plot for Sodium')"
      ]
     },
     "execution_count": 19,
     "metadata": {},
     "output_type": "execute_result"
    },
    {
     "data": {
      "image/png": "[encoded data removed]",
      "text/plain": [
       "<Figure size 648x432 with 1 Axes>"
      ]
     },
     "metadata": {},
     "output_type": "display_data"
    }
   ],
   "source": [
    "data.sodium.plot(kind='hist', bins=20, figsize=(9,6));\n",
    "plt.title('Plot for Sodium')"
   ]
  },
  {
   "cell_type": "markdown",
   "metadata": {
    "_uuid": "8616c407fb146c809c207dbd0ad1a30d6a55418d"
   },
   "source": [
    "### Perform a T-Test\n",
    "\n",
    "Perform a **t-test**. A t-test is a statistical test that can help us estimate whether the difference in a numerical measure between two groups is reliable.\n",
    "\n",
    "**Note**:\n",
    "You can do a t-test with only one sample, but you need to know what you’d expect the mean and standard deviation of the group you sampled it from to be.\n",
    "If you want to compare more than two groups, you can use an extension of a t-test called an “Analysis of Variance” or “ANOVA”.\n",
    "\n",
    "A t-test will return a p-value. If a p-value is very low (generally below 0.01) this is evidence that it’s unlikely that we would have drawn our second sample from the same distribution as the first just by chance."
   ]
  },
  {
   "cell_type": "code",
   "execution_count": 20,
   "metadata": {
    "_uuid": "07eae84529c8f2b9cfd032c9edf46e24ff977823"
   },
   "outputs": [],
   "source": [
    "# to do a t-test we need some additional libraries\n",
    "from scipy.stats import ttest_ind # just the t-test from scipy.stats\n",
    "from scipy.stats import probplot # for a qqplot, also matplotlib\n",
    "import pylab"
   ]
  },
  {
   "cell_type": "markdown",
   "metadata": {
    "_uuid": "e4a1ff6e88b03d52e563d729f391ac6b2f9fd39a"
   },
   "source": [
    "We should make sure that the variable is normally distributed,  so let's use a **qq-polt** to do that. We'll plot a **qqplot** to check normality. If the varaible is normally distributed, most of the points should be along the center diagonal."
   ]
  },
  {
   "cell_type": "code",
   "execution_count": 21,
   "metadata": {
    "_uuid": "a8133b22c47221a190de38fb90eba41bfc84598a"
   },
   "outputs": [
    {
     "data": {
      "text/plain": [
       "((array([-2.3672044 , -2.01892399, -1.81615497, -1.6685929 , -1.55038319,\n",
       "         -1.45056491, -1.36341252, -1.28553894, -1.2147656 , -1.14960406,\n",
       "         -1.08898961, -1.03213271, -0.97843053, -0.92741151, -0.87869918,\n",
       "         -0.8319877 , -0.78702477, -0.74359942, -0.70153318, -0.66067335,\n",
       "         -0.62088802, -0.5820622 , -0.54409476, -0.50689606, -0.47038604,\n",
       "         -0.43449267, -0.39915065, -0.36430042, -0.32988724, -0.29586046,\n",
       "         -0.26217291, -0.22878038, -0.19564108, -0.16271532, -0.12996506,\n",
       "         -0.09735365, -0.06484548, -0.0324057 ,  0.        ,  0.0324057 ,\n",
       "          0.06484548,  0.09735365,  0.12996506,  0.16271532,  0.19564108,\n",
       "          0.22878038,  0.26217291,  0.29586046,  0.32988724,  0.36430042,\n",
       "          0.39915065,  0.43449267,  0.47038604,  0.50689606,  0.54409476,\n",
       "          0.5820622 ,  0.62088802,  0.66067335,  0.70153318,  0.74359942,\n",
       "          0.78702477,  0.8319877 ,  0.87869918,  0.92741151,  0.97843053,\n",
       "          1.03213271,  1.08898961,  1.14960406,  1.2147656 ,  1.28553894,\n",
       "          1.36341252,  1.45056491,  1.55038319,  1.6685929 ,  1.81615497,\n",
       "          2.01892399,  2.3672044 ]),\n",
       "  array([  0,   0,   0,   0,   0,   0,   0,   0,   0,  15,  15,  45,  70,\n",
       "          75,  80,  90,  95, 125, 125, 130, 135, 135, 140, 140, 140, 140,\n",
       "         140, 140, 140, 150, 150, 150, 160, 170, 170, 170, 170, 170, 180,\n",
       "         180, 180, 180, 180, 190, 190, 190, 200, 200, 200, 200, 200, 200,\n",
       "         200, 200, 210, 210, 210, 210, 220, 220, 220, 220, 220, 230, 230,\n",
       "         240, 240, 250, 250, 260, 260, 280, 280, 290, 290, 290, 320])),\n",
       " (82.64670675777266, 159.67532467532465, 0.9676059304411793))"
      ]
     },
     "execution_count": 21,
     "metadata": {},
     "output_type": "execute_result"
    },
    {
     "data": {
      "image/png": "[encoded data removed]",
      "text/plain": [
       "<Figure size 432x288 with 1 Axes>"
      ]
     },
     "metadata": {},
     "output_type": "display_data"
    }
   ],
   "source": [
    "probplot(data[\"sodium\"], dist=\"norm\", plot=pylab)"
   ]
  },
  {
   "cell_type": "code",
   "execution_count": 22,
   "metadata": {
    "_uuid": "30dbcc245b436cc2660495e94f9993c66f7c9907"
   },
   "outputs": [
    {
     "data": {
      "text/plain": [
       "((array([-2.3672044 , -2.01892399, -1.81615497, -1.6685929 , -1.55038319,\n",
       "         -1.45056491, -1.36341252, -1.28553894, -1.2147656 , -1.14960406,\n",
       "         -1.08898961, -1.03213271, -0.97843053, -0.92741151, -0.87869918,\n",
       "         -0.8319877 , -0.78702477, -0.74359942, -0.70153318, -0.66067335,\n",
       "         -0.62088802, -0.5820622 , -0.54409476, -0.50689606, -0.47038604,\n",
       "         -0.43449267, -0.39915065, -0.36430042, -0.32988724, -0.29586046,\n",
       "         -0.26217291, -0.22878038, -0.19564108, -0.16271532, -0.12996506,\n",
       "         -0.09735365, -0.06484548, -0.0324057 ,  0.        ,  0.0324057 ,\n",
       "          0.06484548,  0.09735365,  0.12996506,  0.16271532,  0.19564108,\n",
       "          0.22878038,  0.26217291,  0.29586046,  0.32988724,  0.36430042,\n",
       "          0.39915065,  0.43449267,  0.47038604,  0.50689606,  0.54409476,\n",
       "          0.5820622 ,  0.62088802,  0.66067335,  0.70153318,  0.74359942,\n",
       "          0.78702477,  0.8319877 ,  0.87869918,  0.92741151,  0.97843053,\n",
       "          1.03213271,  1.08898961,  1.14960406,  1.2147656 ,  1.28553894,\n",
       "          1.36341252,  1.45056491,  1.55038319,  1.6685929 ,  1.81615497,\n",
       "          2.01892399,  2.3672044 ]),\n",
       "  array([0.5 , 0.5 , 0.83, 1.  , 1.  , 1.  , 1.  , 1.  , 1.  , 1.  , 1.  ,\n",
       "         1.  , 1.  , 1.  , 1.  , 1.  , 1.  , 1.  , 1.  , 1.  , 1.  , 1.  ,\n",
       "         1.  , 1.  , 1.  , 1.  , 1.  , 1.  , 1.  , 1.  , 1.  , 1.  , 1.  ,\n",
       "         1.  , 1.  , 1.  , 1.  , 1.  , 1.  , 1.  , 1.  , 1.  , 1.  , 1.  ,\n",
       "         1.  , 1.  , 1.  , 1.  , 1.  , 1.  , 1.  , 1.  , 1.  , 1.  , 1.  ,\n",
       "         1.  , 1.  , 1.  , 1.  , 1.  , 1.  , 1.  , 1.  , 1.  , 1.  , 1.  ,\n",
       "         1.  , 1.25, 1.25, 1.3 , 1.33, 1.33, 1.33, 1.33, 1.33, 1.5 , 1.5 ])),\n",
       " (0.11284810084946943, 1.0296103896103894, 0.7360529096720418))"
      ]
     },
     "execution_count": 22,
     "metadata": {},
     "output_type": "execute_result"
    },
    {
     "data": {
      "image/png": "[encoded data removed]",
      "text/plain": [
       "<Figure size 432x288 with 1 Axes>"
      ]
     },
     "metadata": {},
     "output_type": "display_data"
    }
   ],
   "source": [
    "probplot(data[\"weight\"], dist=\"norm\", plot=pylab)"
   ]
  },
  {
   "cell_type": "code",
   "execution_count": 23,
   "metadata": {
    "_uuid": "ba7f495e05c3e5694c1d3d11fc0e6fc04f5714bd"
   },
   "outputs": [
    {
     "data": {
      "text/plain": [
       "((array([-2.3672044 , -2.01892399, -1.81615497, -1.6685929 , -1.55038319,\n",
       "         -1.45056491, -1.36341252, -1.28553894, -1.2147656 , -1.14960406,\n",
       "         -1.08898961, -1.03213271, -0.97843053, -0.92741151, -0.87869918,\n",
       "         -0.8319877 , -0.78702477, -0.74359942, -0.70153318, -0.66067335,\n",
       "         -0.62088802, -0.5820622 , -0.54409476, -0.50689606, -0.47038604,\n",
       "         -0.43449267, -0.39915065, -0.36430042, -0.32988724, -0.29586046,\n",
       "         -0.26217291, -0.22878038, -0.19564108, -0.16271532, -0.12996506,\n",
       "         -0.09735365, -0.06484548, -0.0324057 ,  0.        ,  0.0324057 ,\n",
       "          0.06484548,  0.09735365,  0.12996506,  0.16271532,  0.19564108,\n",
       "          0.22878038,  0.26217291,  0.29586046,  0.32988724,  0.36430042,\n",
       "          0.39915065,  0.43449267,  0.47038604,  0.50689606,  0.54409476,\n",
       "          0.5820622 ,  0.62088802,  0.66067335,  0.70153318,  0.74359942,\n",
       "          0.78702477,  0.8319877 ,  0.87869918,  0.92741151,  0.97843053,\n",
       "          1.03213271,  1.08898961,  1.14960406,  1.2147656 ,  1.28553894,\n",
       "          1.36341252,  1.45056491,  1.55038319,  1.6685929 ,  1.81615497,\n",
       "          2.01892399,  2.3672044 ]),\n",
       "  array([18.042851, 19.823573, 21.871292, 22.396513, 22.736446, 23.804043,\n",
       "         26.734515, 27.753301, 28.025765, 28.592785, 28.742414, 29.509541,\n",
       "         29.924285, 30.313351, 30.450843, 31.072217, 31.230054, 31.435973,\n",
       "         32.207582, 33.174094, 33.983679, 34.139765, 34.384843, 35.252444,\n",
       "         35.782791, 36.176196, 36.187559, 36.471512, 36.523683, 37.038562,\n",
       "         37.136863, 37.840594, 38.839746, 39.106174, 39.241114, 39.259197,\n",
       "         39.7034  , 40.105965, 40.400208, 40.448772, 40.560159, 40.69232 ,\n",
       "         40.917047, 41.015492, 41.445019, 41.50354 , 41.998933, 44.330856,\n",
       "         45.328074, 45.811716, 45.863324, 46.658844, 46.895644, 49.120253,\n",
       "         49.511874, 49.787445, 50.764999, 50.828392, 51.592193, 52.076897,\n",
       "         53.131324, 53.313813, 53.371007, 54.850917, 55.333142, 58.345141,\n",
       "         59.363993, 59.425505, 59.642837, 60.756112, 63.005645, 64.533816,\n",
       "         68.235885, 68.402973, 72.801787, 74.472949, 93.704912])),\n",
       " (13.953047023805542, 42.66570498701299, 0.9749018036873922))"
      ]
     },
     "execution_count": 23,
     "metadata": {},
     "output_type": "execute_result"
    },
    {
     "data": {
      "image/png": "[encoded data removed]",
      "text/plain": [
       "<Figure size 432x288 with 1 Axes>"
      ]
     },
     "metadata": {},
     "output_type": "display_data"
    }
   ],
   "source": [
    "probplot(data[\"rating\"], dist=\"norm\", plot=pylab)"
   ]
  },
  {
   "cell_type": "code",
   "execution_count": 24,
   "metadata": {
    "_uuid": "06070306e03d3e83b2e232a7f670b4f0017d1adb"
   },
   "outputs": [
    {
     "data": {
      "text/plain": [
       "((array([-2.3672044 , -2.01892399, -1.81615497, -1.6685929 , -1.55038319,\n",
       "         -1.45056491, -1.36341252, -1.28553894, -1.2147656 , -1.14960406,\n",
       "         -1.08898961, -1.03213271, -0.97843053, -0.92741151, -0.87869918,\n",
       "         -0.8319877 , -0.78702477, -0.74359942, -0.70153318, -0.66067335,\n",
       "         -0.62088802, -0.5820622 , -0.54409476, -0.50689606, -0.47038604,\n",
       "         -0.43449267, -0.39915065, -0.36430042, -0.32988724, -0.29586046,\n",
       "         -0.26217291, -0.22878038, -0.19564108, -0.16271532, -0.12996506,\n",
       "         -0.09735365, -0.06484548, -0.0324057 ,  0.        ,  0.0324057 ,\n",
       "          0.06484548,  0.09735365,  0.12996506,  0.16271532,  0.19564108,\n",
       "          0.22878038,  0.26217291,  0.29586046,  0.32988724,  0.36430042,\n",
       "          0.39915065,  0.43449267,  0.47038604,  0.50689606,  0.54409476,\n",
       "          0.5820622 ,  0.62088802,  0.66067335,  0.70153318,  0.74359942,\n",
       "          0.78702477,  0.8319877 ,  0.87869918,  0.92741151,  0.97843053,\n",
       "          1.03213271,  1.08898961,  1.14960406,  1.2147656 ,  1.28553894,\n",
       "          1.36341252,  1.45056491,  1.55038319,  1.6685929 ,  1.81615497,\n",
       "          2.01892399,  2.3672044 ]),\n",
       "  array([  0,   0,   0,   0,   0,   0,   0,   0,  25,  25,  25,  25,  25,\n",
       "          25,  25,  25,  25,  25,  25,  25,  25,  25,  25,  25,  25,  25,\n",
       "          25,  25,  25,  25,  25,  25,  25,  25,  25,  25,  25,  25,  25,\n",
       "          25,  25,  25,  25,  25,  25,  25,  25,  25,  25,  25,  25,  25,\n",
       "          25,  25,  25,  25,  25,  25,  25,  25,  25,  25,  25,  25,  25,\n",
       "          25,  25,  25,  25,  25,  25, 100, 100, 100, 100, 100, 100])),\n",
       " (15.754333930293335, 28.246753246753244, 0.6920734171437645))"
      ]
     },
     "execution_count": 24,
     "metadata": {},
     "output_type": "execute_result"
    },
    {
     "data": {
      "image/png": "[encoded data removed]",
      "text/plain": [
       "<Figure size 432x288 with 1 Axes>"
      ]
     },
     "metadata": {},
     "output_type": "display_data"
    }
   ],
   "source": [
    "probplot(data[\"vitamins\"], dist=\"norm\", plot=pylab)"
   ]
  },
  {
   "cell_type": "markdown",
   "metadata": {
    "_uuid": "1ca020996b652af12f77f693939cd12a8542e22a"
   },
   "source": [
    "Perform the t-test"
   ]
  },
  {
   "cell_type": "code",
   "execution_count": 25,
   "metadata": {
    "_uuid": "011040025622c0b4ec718fa343e978cd5c9801f2"
   },
   "outputs": [
    {
     "name": "stdout",
     "output_type": "stream",
     "text": [
      "20    80\n",
      "43     0\n",
      "57     0\n",
      "Name: sodium, dtype: int64\n"
     ]
    }
   ],
   "source": [
    "# get sodium values for cereals set as 'hot'\n",
    "hc = data.sodium[data['type'] == 'H']\n",
    "print(hc)"
   ]
  },
  {
   "cell_type": "code",
   "execution_count": 26,
   "metadata": {
    "_uuid": "a7b948c410741af75f116bf9bc2a92f867ae34c8"
   },
   "outputs": [
    {
     "name": "stdout",
     "output_type": "stream",
     "text": [
      "0     130\n",
      "1      15\n",
      "2     260\n",
      "3     140\n",
      "4     200\n",
      "5     180\n",
      "6     125\n",
      "7     210\n",
      "8     200\n",
      "9     210\n",
      "10    220\n",
      "11    290\n",
      "12    210\n",
      "13    140\n",
      "14    180\n",
      "15    280\n",
      "16    290\n",
      "17     90\n",
      "18    180\n",
      "19    140\n",
      "21    220\n",
      "22    140\n",
      "23    190\n",
      "24    125\n",
      "25    200\n",
      "26      0\n",
      "27    160\n",
      "28    240\n",
      "29    135\n",
      "30     45\n",
      "     ... \n",
      "46    150\n",
      "47    220\n",
      "48    190\n",
      "49    220\n",
      "50    170\n",
      "51    170\n",
      "52    200\n",
      "53    320\n",
      "54      0\n",
      "55      0\n",
      "56    135\n",
      "58    210\n",
      "59    140\n",
      "60      0\n",
      "61    240\n",
      "62    290\n",
      "63      0\n",
      "64      0\n",
      "65      0\n",
      "66     70\n",
      "67    230\n",
      "68     15\n",
      "69    200\n",
      "70    190\n",
      "71    200\n",
      "72    250\n",
      "73    140\n",
      "74    230\n",
      "75    200\n",
      "76    200\n",
      "Name: sodium, Length: 74, dtype: int64\n"
     ]
    }
   ],
   "source": [
    "# get the sodium values for 'C' cereals\n",
    "cc = data.sodium[data['type'] == 'C']\n",
    "print(cc)"
   ]
  },
  {
   "cell_type": "code",
   "execution_count": 27,
   "metadata": {
    "_uuid": "fad86be853e99ace20f35a416cd59a0eaf8e5c43"
   },
   "outputs": [
    {
     "data": {
      "text/plain": [
       "Ttest_indResult(statistic=-4.896357618932593, pvalue=0.02411482081945822)"
      ]
     },
     "execution_count": 27,
     "metadata": {},
     "output_type": "execute_result"
    }
   ],
   "source": [
    "# perform the t-test\n",
    "ttest_ind(hc, cc, equal_var=False)"
   ]
  },
  {
   "cell_type": "markdown",
   "metadata": {
    "_uuid": "3bc381f23df7a9d01ab71f48ed9871240bc5bc3c"
   },
   "source": [
    "So, if we decided to set our alpha (the highest p-value that would still allow us to reject the null) to 0.05 before we started, we would reject the null (i.e. can be pretty sure that there's not a difference between these two groups). Statistic is the actual value of the t-test, and the pvalue is the probability that we saw a difference this large between our two groups just due to chance if they were actually drawn from the same underlying population."
   ]
  },
  {
   "cell_type": "code",
   "execution_count": 28,
   "metadata": {
    "_uuid": "f32095167259aa2e42e6de2ddcf15b90a0928124"
   },
   "outputs": [
    {
     "name": "stdout",
     "output_type": "stream",
     "text": [
      "Mean sodium for the hot cereals:\n",
      "26.666666666666668\n",
      "Mean sodium for the cold cereals:\n",
      "165.06756756756758\n"
     ]
    }
   ],
   "source": [
    "# let's look at the means (averages) of each group to see which is larger\n",
    "print(\"Mean sodium for the hot cereals:\")\n",
    "print(hc.mean())\n",
    "\n",
    "print(\"Mean sodium for the cold cereals:\")\n",
    "print(cc.mean())"
   ]
  },
  {
   "cell_type": "markdown",
   "metadata": {
    "_uuid": "0de03089c82cf0dc4adc6cb5dded5f0f68ac800b"
   },
   "source": [
    "Plotting the two cereal types"
   ]
  },
  {
   "cell_type": "code",
   "execution_count": 29,
   "metadata": {
    "_uuid": "a6a2e81af8feef786c972d126879f41016bdb71c"
   },
   "outputs": [
    {
     "data": {
      "image/png": "[encoded data removed]",
      "text/plain": [
       "<Figure size 432x288 with 1 Axes>"
      ]
     },
     "metadata": {},
     "output_type": "display_data"
    }
   ],
   "source": [
    "# plot the cold cereals\n",
    "plt.hist(cc, alpha=0.5, label='cold')\n",
    "# and the hot cereals\n",
    "plt.hist(hc, label='hot')\n",
    "# and add a legend\n",
    "plt.legend(loc='upper right')\n",
    "# add a title\n",
    "plt.title(\"Sodium(mg) content of cereals by type\");"
   ]
  },
  {
   "cell_type": "markdown",
   "metadata": {
    "_uuid": "565b042fdf4162e8983dc7d62d990488578e0177"
   },
   "source": [
    "## Analysing Categorical Data"
   ]
  },
  {
   "cell_type": "markdown",
   "metadata": {
    "_uuid": "e6983fc88e5d5e69e46444ecfd61afe005e78069"
   },
   "source": [
    "### Visualize categorical data\n",
    "\n",
    "Categorical data is a statistical data type consisting of categorical variables - a variable that can take on one of a limited number of possible values. Each value(or observation) is assigned to a group or category on the basis of some qualitative property, e.g. t-shirt size, dog breed, etc.\n",
    "\n",
    "We’re going to visualize categorical data using a bar chart. Ech category is represented by different bar, the height of which indicates the number of items in that category."
   ]
  },
  {
   "cell_type": "code",
   "execution_count": 30,
   "metadata": {
    "_uuid": "d0099ba4b67f1d1336a4ea98b41a653faaee9934",
    "scrolled": true
   },
   "outputs": [
    {
     "name": "stdout",
     "output_type": "stream",
     "text": [
      "['5day-data-challenge-signup-survey-responses', '80-cereals']\n"
     ]
    },
    {
     "data": {
      "text/html": [
       "<div>\n",
       "<style scoped>\n",
       "    .dataframe tbody tr th:only-of-type {\n",
       "        vertical-align: middle;\n",
       "    }\n",
       "\n",
       "    .dataframe tbody tr th {\n",
       "        vertical-align: top;\n",
       "    }\n",
       "\n",
       "    .dataframe thead th {\n",
       "        text-align: right;\n",
       "    }\n",
       "</style>\n",
       "<table border=\"1\" class=\"dataframe\">\n",
       "  <thead>\n",
       "    <tr style=\"text-align: right;\">\n",
       "      <th></th>\n",
       "      <th>Have you ever taken a course in statistics?</th>\n",
       "      <th>Do you have any previous experience with programming?</th>\n",
       "      <th>What's your interest in data science?</th>\n",
       "      <th>Just for fun, do you prefer dogs or cat?</th>\n",
       "    </tr>\n",
       "  </thead>\n",
       "  <tbody>\n",
       "    <tr>\n",
       "      <th>0</th>\n",
       "      <td>Yep</td>\n",
       "      <td>Nope</td>\n",
       "      <td>I want to get a job where I use data science</td>\n",
       "      <td>Cats ?±</td>\n",
       "    </tr>\n",
       "    <tr>\n",
       "      <th>1</th>\n",
       "      <td>Yep</td>\n",
       "      <td>I have quite a bit of experience</td>\n",
       "      <td>I want to get a job where I use data science</td>\n",
       "      <td>Dogs ?¶</td>\n",
       "    </tr>\n",
       "    <tr>\n",
       "      <th>2</th>\n",
       "      <td>Yep</td>\n",
       "      <td>I have a little bit of experience</td>\n",
       "      <td>It will help me in my current job</td>\n",
       "      <td>Dogs ?¶</td>\n",
       "    </tr>\n",
       "    <tr>\n",
       "      <th>3</th>\n",
       "      <td>Nope</td>\n",
       "      <td>I have a little bit of experience</td>\n",
       "      <td>Just curious</td>\n",
       "      <td>Cats ?±</td>\n",
       "    </tr>\n",
       "    <tr>\n",
       "      <th>4</th>\n",
       "      <td>Yes, but I've forgotten everything</td>\n",
       "      <td>I have quite a bit of experience</td>\n",
       "      <td>I want to get a job where I use data science</td>\n",
       "      <td>Neither ?…</td>\n",
       "    </tr>\n",
       "  </tbody>\n",
       "</table>\n",
       "</div>"
      ],
      "text/plain": [
       "  Have you ever taken a course in statistics?                   ...                    Just for fun, do you prefer dogs or cat?\n",
       "0                                         Yep                   ...                                                     Cats ?±\n",
       "1                                         Yep                   ...                                                     Dogs ?¶\n",
       "2                                         Yep                   ...                                                     Dogs ?¶\n",
       "3                                        Nope                   ...                                                     Cats ?±\n",
       "4          Yes, but I've forgotten everything                   ...                                                  Neither ?…\n",
       "\n",
       "[5 rows x 4 columns]"
      ]
     },
     "execution_count": 30,
     "metadata": {},
     "output_type": "execute_result"
    }
   ],
   "source": [
    "import pandas as pd\n",
    "import scipy.stats\n",
    "import numpy as np\n",
    "import matplotlib.pyplot as plt\n",
    "import seaborn as sns\n",
    "import os\n",
    "print(os.listdir(\"../input\"))\n",
    "\n",
    "# read in our data\n",
    "df = pd.read_csv('../input/5day-data-challenge-signup-survey-responses/anonymous-survey-responses.csv')\n",
    "# look at the first few rows\n",
    "df.head()\n"
   ]
  },
  {
   "cell_type": "markdown",
   "metadata": {
    "_uuid": "9202cb2e4826d110326eb1198adc8f003da6428e"
   },
   "source": [
    "To plot the barchart, you will need to pass the function the following things:\n",
    "\n",
    "The positions where the bars should be (as a list of numbers, e.g. [1, 2, 3])\n",
    "The counts for each bar in order, also as a list of numbers\n",
    "The labels for each bar in order, as a list of words, to be added after the bars are plotting using plt.xticks"
   ]
  },
  {
   "cell_type": "code",
   "execution_count": 31,
   "metadata": {
    "_uuid": "4e98d1bd1c697e4803adc3e9c2b3129f2d7b339e"
   },
   "outputs": [
    {
     "data": {
      "text/plain": [
       "Text(0.5,1,'Pet Preferences')"
      ]
     },
     "execution_count": 31,
     "metadata": {},
     "output_type": "execute_result"
    },
    {
     "data": {
      "image/png": "[encoded data removed]",
      "text/plain": [
       "<Figure size 432x288 with 1 Axes>"
      ]
     },
     "metadata": {},
     "output_type": "display_data"
    }
   ],
   "source": [
    "# count how often each pet preference is observed \n",
    "petFreqTable = df[\"Just for fun, do you prefer dogs or cat?\"].value_counts()\n",
    "\n",
    "# get a list of the names\n",
    "labels = list(petFreqTable.index)\n",
    "\n",
    "# get a list of the counts\n",
    "counts = petFreqTable.values\n",
    "\n",
    "# generate a list of numbers as long as our number of labels\n",
    "positionsForBars = list(range(len(labels)))\n",
    "\n",
    "# plot the names and counts to the bar function\n",
    "plt.bar(positionsForBars, counts) # plot our bars\n",
    "plt.xticks(positionsForBars, labels) # add lables\n",
    "plt.title(\"Pet Preferences\")"
   ]
  },
  {
   "cell_type": "markdown",
   "metadata": {
    "_uuid": "36c433f54f8b7b53ac3bd2145184fb3d55234e1d"
   },
   "source": [
    "An alternative is to use the **Seaborn** package to plot our data"
   ]
  },
  {
   "cell_type": "code",
   "execution_count": 32,
   "metadata": {
    "_uuid": "5916b15e642198937c26c4d9c904109f1e04ae55"
   },
   "outputs": [
    {
     "data": {
      "text/plain": [
       "Text(0.5,1,'Dogs vs. Cats')"
      ]
     },
     "execution_count": 32,
     "metadata": {},
     "output_type": "execute_result"
    },
    {
     "data": {
      "image/png": "[encoded data removed]",
      "text/plain": [
       "<Figure size 432x288 with 1 Axes>"
      ]
     },
     "metadata": {},
     "output_type": "display_data"
    }
   ],
   "source": [
    "sns.countplot(df[\"Just for fun, do you prefer dogs or cat?\"]).set_title(\"Dogs vs. Cats\")"
   ]
  },
  {
   "cell_type": "markdown",
   "metadata": {
    "_uuid": "96eaa3898151974cc53dc656c76619ce0dec56c0"
   },
   "source": [
    "### Perform a Chi-square Test\n",
    "\n",
    "Designed to analyze categorical data, it is intended to test how likely it is that an observed distribution is due to chance. It is also called a \"goodness of fit\" statistic, because it measures how well the observed distribution of data fits with the distribution that is expected if the variables are independent. \n",
    "\n",
    "It will not work with parametric or continuous data (such as height in inches). For example, if you want to test whether attending class influences how students perform on an exam, using test scores (from 0-100) as data would not be appropriate for a Chi-square test. However, arranging students into the categories \"Pass\" and \"Fail\" would.\n",
    "\n",
    "Note:  The chisquare function from scipy.stats will only do a one-way comparison."
   ]
  },
  {
   "cell_type": "code",
   "execution_count": 33,
   "metadata": {
    "_uuid": "964b2c6343fdf6ccf2cdefbab085391617d08931",
    "scrolled": true
   },
   "outputs": [
    {
     "data": {
      "text/plain": [
       "Power_divergenceResult(statistic=108.50120096076861, pvalue=2.7495623442639547e-24)"
      ]
     },
     "execution_count": 33,
     "metadata": {},
     "output_type": "execute_result"
    }
   ],
   "source": [
    "# first let's do a one-way chi-squared test for stats background\n",
    "scipy.stats.chisquare(df[\"Have you ever taken a course in statistics?\"].value_counts())"
   ]
  },
  {
   "cell_type": "markdown",
   "metadata": {
    "_uuid": "8ca95c9705e4035dc856005bcd32415897d932fa"
   },
   "source": [
    "Statistic here is the chi-square value (larger = more difference from a uniform distrobution) and pvalue is very low here."
   ]
  },
  {
   "cell_type": "code",
   "execution_count": 34,
   "metadata": {
    "_uuid": "05ec505b3c2e413ed5736218e7b94dcd8ddade29",
    "scrolled": true
   },
   "outputs": [
    {
     "data": {
      "text/plain": [
       "Power_divergenceResult(statistic=906.2001601281024, pvalue=7.55591487886036e-195)"
      ]
     },
     "execution_count": 34,
     "metadata": {},
     "output_type": "execute_result"
    }
   ],
   "source": [
    "# first let's do a one-way chi-squared test for programming background\n",
    "scipy.stats.chisquare(df[\"Do you have any previous experience with programming?\"].value_counts())"
   ]
  },
  {
   "cell_type": "markdown",
   "metadata": {
    "_uuid": "759b8c85f97a8fe6ddc21a084e50d4acaad2ece0"
   },
   "source": [
    "And, again, our p-value is very low. This means that we can be sure, for both these questions, that the people who answered them are not drawn from a pool of people who are uniformly likely to have chosen each answer.\n",
    "\n",
    "Now let's do a two-way comparison. Is there a relationship between having programming background and having taken statistics?"
   ]
  },
  {
   "cell_type": "code",
   "execution_count": 35,
   "metadata": {
    "_uuid": "313a24e7ea1d0564209dd6b36d68ecb029a5d36c",
    "scrolled": true
   },
   "outputs": [
    {
     "data": {
      "text/plain": [
       "(16.827631021435366,\n",
       " 0.03195483698199162,\n",
       " 8,\n",
       " array([[ 94.48839071, 204.47878303, 162.03282626],\n",
       "        [  0.40992794,   0.88710969,   0.70296237],\n",
       "        [ 43.45236189,  94.0336269 ,  74.51401121],\n",
       "        [108.22097678, 234.19695757, 185.58206565],\n",
       "        [  9.42834267,  20.40352282,  16.16813451]]))"
      ]
     },
     "execution_count": 35,
     "metadata": {},
     "output_type": "execute_result"
    }
   ],
   "source": [
    "# now let's do a two-way chi-square test. Is there a relationship between programming background \n",
    "# and stats background?\n",
    "contingencyTable = pd.crosstab(df[\"Do you have any previous experience with programming?\"],\n",
    "                              df[\"Have you ever taken a course in statistics?\"])\n",
    "\n",
    "scipy.stats.chi2_contingency(contingencyTable)"
   ]
  },
  {
   "cell_type": "markdown",
   "metadata": {
    "_uuid": "3dbe019baa312642739f05d20faeb1a37962679c"
   },
   "source": [
    "Here, the first value (16.827) is the  χ2  value, the second value (0.032) is the p-value and the third value (8) is the degrees of freedom. Since our p-value is under our alpha of 0.05, we can say that it seems unlikely that there isn't a connection between these two things, right?\n",
    "\n",
    "BUT! Becuase we have preformed three tests of statistical significance we need to correct for the fact that the probability that we're going to get a significant effect just by chance increases with each test. (If you set your alpha to 0.05, you'll be wrong just by chance 1/20 times, so if you preform 20 test you're very likely to get the wrong answer on one of them & you need to correct for that.) We can do by dividing our alpha by x, where x is the number of tests we have preformed. So in this case, our p-value would have to be below a value of 0.016 to have an overall alphs of 0.05.\n",
    "\n",
    "Because we did three tests, this final result is not significant at alpha = 0.05."
   ]
  }
 ],
 "metadata": {
  "kernelspec": {
   "display_name": "Python 3",
   "language": "python",
   "name": "python3"
  },
  "language_info": {
   "codemirror_mode": {
    "name": "ipython",
    "version": 3
   },
   "file_extension": ".py",
   "mimetype": "text/x-python",
   "name": "python",
   "nbconvert_exporter": "python",
   "pygments_lexer": "ipython3",
   "version": "3.6.7"
  }
 },
 "nbformat": 4,
 "nbformat_minor": 1
}
