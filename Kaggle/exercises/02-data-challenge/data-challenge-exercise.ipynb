{
  "cells": [
    {
      "metadata": {
        "_uuid": "8f2839f25d086af736a60e9eeb907d3b93b6e0e5",
        "_cell_guid": "b1076dfc-b9ad-4769-8c92-a6c4dae69d19",
        "trusted": true
      },
      "cell_type": "code",
      "source": "import numpy as np # linear algebra\nimport pandas as pd # data processing, CSV file I/O (e.g. pd.read_csv)\nimport matplotlib.pyplot as plt\n%matplotlib inline\n\nimport os\nprint(os.listdir(\"../input\"))\n\ndata = pd.read_csv('../input/cereal.csv')",
      "execution_count": null,
      "outputs": []
    },
    {
      "metadata": {
        "_uuid": "aa69aafbc80ebb21cd766fb970989b558990f927"
      },
      "cell_type": "markdown",
      "source": "### Examine the data and plot a histogram"
    },
    {
      "metadata": {
        "_cell_guid": "79c7e3d0-c299-4dcb-8224-4455121ee9b0",
        "collapsed": true,
        "_uuid": "d629ff2d2480ee46fbb7e2d37f6b5fab8052498a",
        "trusted": true
      },
      "cell_type": "code",
      "source": "print(data.shape)\ndata.info()",
      "execution_count": null,
      "outputs": []
    },
    {
      "metadata": {
        "trusted": true,
        "_uuid": "923ae9360e572a294468e3e2b9bab6b6ec0cbe77",
        "collapsed": true
      },
      "cell_type": "code",
      "source": "data",
      "execution_count": null,
      "outputs": []
    },
    {
      "metadata": {
        "trusted": true,
        "_uuid": "fecb42704323347db69afbe2bae82bdc37c0eea3",
        "collapsed": true
      },
      "cell_type": "code",
      "source": "data.plot(kind='hist', bins=20, figsize=(9,6));\nplt.title('Overview of different nutrients in common cereal brands')",
      "execution_count": null,
      "outputs": []
    },
    {
      "metadata": {
        "trusted": true,
        "_uuid": "3ccda4bdf5735046454a35aca6b3d0801100d418",
        "collapsed": true
      },
      "cell_type": "code",
      "source": "data.sodium.plot(kind='hist', bins=20, figsize=(9,6));\nplt.title('Plot for Sodium')",
      "execution_count": null,
      "outputs": []
    },
    {
      "metadata": {
        "_uuid": "8616c407fb146c809c207dbd0ad1a30d6a55418d"
      },
      "cell_type": "markdown",
      "source": "### Perform a T-Test\n\nPerform a **t-test**. A t-test is a statistical test that can help us estimate whether the difference in a numerical measure between two groups is reliable.\n\n**Note**:\nYou can do a t-test with only one sample, but you need to know what you’d expect the mean and standard deviation of the group you sampled it from to be.\nIf you want to compare more than two groups, you can use an extension of a t-test called an “Analysis of Variance” or “ANOVA”.\n\nA t-test will return a p-value. If a p-value is very low (generally below 0.01) this is evidence that it’s unlikely that we would have drawn our second sample from the same distribution as the first just by chance."
    },
    {
      "metadata": {
        "trusted": true,
        "_uuid": "07eae84529c8f2b9cfd032c9edf46e24ff977823"
      },
      "cell_type": "code",
      "source": "# to do a t-test we need some additional libraries\nfrom scipy.stats import ttest_ind # just the t-test from scipy.stats\nfrom scipy.stats import probplot # for a qqplot, also matplotlib\nimport pylab",
      "execution_count": null,
      "outputs": []
    },
    {
      "metadata": {
        "_uuid": "e4a1ff6e88b03d52e563d729f391ac6b2f9fd39a"
      },
      "cell_type": "markdown",
      "source": "We should make sure that the variable is normally distributed,  so let's use a **qq-polt** to do that. We'll plot a **qqplot** to check normality. If the varaible is normally distributed, most of the points should be along the center diagonal."
    },
    {
      "metadata": {
        "trusted": true,
        "collapsed": true,
        "_uuid": "a8133b22c47221a190de38fb90eba41bfc84598a"
      },
      "cell_type": "code",
      "source": "probplot(data[\"sodium\"], dist=\"norm\", plot=pylab)",
      "execution_count": null,
      "outputs": []
    },
    {
      "metadata": {
        "trusted": true,
        "collapsed": true,
        "_uuid": "30dbcc245b436cc2660495e94f9993c66f7c9907"
      },
      "cell_type": "code",
      "source": "probplot(data[\"weight\"], dist=\"norm\", plot=pylab)",
      "execution_count": null,
      "outputs": []
    },
    {
      "metadata": {
        "trusted": true,
        "collapsed": true,
        "_uuid": "ba7f495e05c3e5694c1d3d11fc0e6fc04f5714bd"
      },
      "cell_type": "code",
      "source": "probplot(data[\"rating\"], dist=\"norm\", plot=pylab)",
      "execution_count": null,
      "outputs": []
    },
    {
      "metadata": {
        "trusted": true,
        "_uuid": "06070306e03d3e83b2e232a7f670b4f0017d1adb",
        "collapsed": true
      },
      "cell_type": "code",
      "source": "probplot(data[\"vitamins\"], dist=\"norm\", plot=pylab)",
      "execution_count": null,
      "outputs": []
    },
    {
      "metadata": {
        "_uuid": "1ca020996b652af12f77f693939cd12a8542e22a"
      },
      "cell_type": "markdown",
      "source": "Perform the t-test"
    },
    {
      "metadata": {
        "trusted": true,
        "collapsed": true,
        "_uuid": "011040025622c0b4ec718fa343e978cd5c9801f2"
      },
      "cell_type": "code",
      "source": "# get sodium values for cereals set as 'hot'\nhc = data.sodium[data['type'] == 'H']\nprint(hc)",
      "execution_count": null,
      "outputs": []
    },
    {
      "metadata": {
        "trusted": true,
        "collapsed": true,
        "_uuid": "a7b948c410741af75f116bf9bc2a92f867ae34c8"
      },
      "cell_type": "code",
      "source": "# get the sodium values for 'C' cereals\ncc = data.sodium[data['type'] == 'C']\nprint(cc)",
      "execution_count": null,
      "outputs": []
    },
    {
      "metadata": {
        "trusted": true,
        "_uuid": "fad86be853e99ace20f35a416cd59a0eaf8e5c43"
      },
      "cell_type": "code",
      "source": "# perform the t-test\nttest_ind(hc, cc, equal_var=False)",
      "execution_count": null,
      "outputs": []
    },
    {
      "metadata": {
        "_uuid": "3bc381f23df7a9d01ab71f48ed9871240bc5bc3c"
      },
      "cell_type": "markdown",
      "source": "So, if we decided to set our alpha (the highest p-value that would still allow us to reject the null) to 0.05 before we started, we would reject the null (i.e. can be pretty sure that there's not a difference between these two groups). Statistic is the actual value of the t-test, and the pvalue is the probability that we saw a difference this large between our two groups just due to chance if they were actually drawn from the same underlying population."
    },
    {
      "metadata": {
        "trusted": true,
        "_uuid": "f32095167259aa2e42e6de2ddcf15b90a0928124"
      },
      "cell_type": "code",
      "source": "# let's look at the means (averages) of each group to see which is larger\nprint(\"Mean sodium for the hot cereals:\")\nprint(hc.mean())\n\nprint(\"Mean sodium for the cold cereals:\")\nprint(cc.mean())",
      "execution_count": null,
      "outputs": []
    },
    {
      "metadata": {
        "_uuid": "0de03089c82cf0dc4adc6cb5dded5f0f68ac800b"
      },
      "cell_type": "markdown",
      "source": "Plotting the two cereal types"
    },
    {
      "metadata": {
        "trusted": true,
        "_uuid": "a6a2e81af8feef786c972d126879f41016bdb71c"
      },
      "cell_type": "code",
      "source": "# plot the cold cereals\nplt.hist(cc, alpha=0.5, label='cold')\n# and the hot cereals\nplt.hist(hc, label='hot')\n# and add a legend\nplt.legend(loc='upper right')\n# add a title\nplt.title(\"Sodium(mg) content of cereals by type\");",
      "execution_count": null,
      "outputs": []
    },
    {
      "metadata": {
        "_uuid": "565b042fdf4162e8983dc7d62d990488578e0177"
      },
      "cell_type": "markdown",
      "source": "## Analysing Categorical Data"
    },
    {
      "metadata": {
        "_uuid": "e6983fc88e5d5e69e46444ecfd61afe005e78069"
      },
      "cell_type": "markdown",
      "source": "### Visualize categorical data\n\nCategorical data is a statistical data type consisting of categorical variables - a variable that can take on one of a limited number of possible values. Each value(or observation) is assigned to a group or category on the basis of some qualitative property, e.g. t-shirt size, dog breed, etc.\n\nWe’re going to visualize categorical data using a bar chart. Ech category is represented by different bar, the height of which indicates the number of items in that category."
    },
    {
      "metadata": {
        "trusted": true,
        "scrolled": true,
        "_uuid": "d0099ba4b67f1d1336a4ea98b41a653faaee9934"
      },
      "cell_type": "code",
      "source": "import pandas as pd\nimport scipy.stats\nimport numpy as np\nimport matplotlib.pyplot as plt\nimport seaborn as sns\nimport os\nprint(os.listdir(\"../input\"))\n\n# read in our data\ndf = pd.read_csv('../input/5day-data-challenge-signup-survey-responses/anonymous-survey-responses.csv')\n# look at the first few rows\ndf.head()\n",
      "execution_count": 8,
      "outputs": [
        {
          "output_type": "stream",
          "text": "['5day-data-challenge-signup-survey-responses', '80-cereals']\n",
          "name": "stdout"
        },
        {
          "output_type": "execute_result",
          "execution_count": 8,
          "data": {
            "text/plain": "  Have you ever taken a course in statistics?                   ...                    Just for fun, do you prefer dogs or cat?\n0                                         Yep                   ...                                                     Cats ?±\n1                                         Yep                   ...                                                     Dogs ?¶\n2                                         Yep                   ...                                                     Dogs ?¶\n3                                        Nope                   ...                                                     Cats ?±\n4          Yes, but I've forgotten everything                   ...                                                  Neither ?…\n\n[5 rows x 4 columns]",
            "text/html": "<div>\n<style scoped>\n    .dataframe tbody tr th:only-of-type {\n        vertical-align: middle;\n    }\n\n    .dataframe tbody tr th {\n        vertical-align: top;\n    }\n\n    .dataframe thead th {\n        text-align: right;\n    }\n</style>\n<table border=\"1\" class=\"dataframe\">\n  <thead>\n    <tr style=\"text-align: right;\">\n      <th></th>\n      <th>Have you ever taken a course in statistics?</th>\n      <th>Do you have any previous experience with programming?</th>\n      <th>What's your interest in data science?</th>\n      <th>Just for fun, do you prefer dogs or cat?</th>\n    </tr>\n  </thead>\n  <tbody>\n    <tr>\n      <th>0</th>\n      <td>Yep</td>\n      <td>Nope</td>\n      <td>I want to get a job where I use data science</td>\n      <td>Cats ?±</td>\n    </tr>\n    <tr>\n      <th>1</th>\n      <td>Yep</td>\n      <td>I have quite a bit of experience</td>\n      <td>I want to get a job where I use data science</td>\n      <td>Dogs ?¶</td>\n    </tr>\n    <tr>\n      <th>2</th>\n      <td>Yep</td>\n      <td>I have a little bit of experience</td>\n      <td>It will help me in my current job</td>\n      <td>Dogs ?¶</td>\n    </tr>\n    <tr>\n      <th>3</th>\n      <td>Nope</td>\n      <td>I have a little bit of experience</td>\n      <td>Just curious</td>\n      <td>Cats ?±</td>\n    </tr>\n    <tr>\n      <th>4</th>\n      <td>Yes, but I've forgotten everything</td>\n      <td>I have quite a bit of experience</td>\n      <td>I want to get a job where I use data science</td>\n      <td>Neither ?…</td>\n    </tr>\n  </tbody>\n</table>\n</div>"
          },
          "metadata": {}
        }
      ]
    },
    {
      "metadata": {
        "_uuid": "9202cb2e4826d110326eb1198adc8f003da6428e"
      },
      "cell_type": "markdown",
      "source": "To plot the barchart, you will need to pass the function the following things:\n\nThe positions where the bars should be (as a list of numbers, e.g. [1, 2, 3])\nThe counts for each bar in order, also as a list of numbers\nThe labels for each bar in order, as a list of words, to be added after the bars are plotting using plt.xticks"
    },
    {
      "metadata": {
        "trusted": true,
        "_uuid": "4e98d1bd1c697e4803adc3e9c2b3129f2d7b339e"
      },
      "cell_type": "code",
      "source": "# count how often each pet preference is observed \npetFreqTable = df[\"Just for fun, do you prefer dogs or cat?\"].value_counts()\n\n# get a list of the names\nlabels = list(petFreqTable.index)\n\n# get a list of the counts\ncounts = petFreqTable.values\n\n# generate a list of numbers as long as our number of labels\npositionsForBars = list(range(len(labels)))\n\n# plot the names and counts to the bar function\nplt.bar(positionsForBars, counts) # plot our bars\nplt.xticks(positionsForBars, labels) # add lables\nplt.title(\"Pet Preferences\")",
      "execution_count": 9,
      "outputs": [
        {
          "output_type": "execute_result",
          "execution_count": 9,
          "data": {
            "text/plain": "Text(0.5,1,'Pet Preferences')"
          },
          "metadata": {}
        },
        {
          "output_type": "display_data",
          "data": {
            "text/plain": "<Figure size 432x288 with 1 Axes>",
            "image/png": "[encoded data removed]"
          },
          "metadata": {}
        }
      ]
    },
    {
      "metadata": {
        "_uuid": "36c433f54f8b7b53ac3bd2145184fb3d55234e1d"
      },
      "cell_type": "markdown",
      "source": "An alternative is to use the **Seaborn** package to plot our data"
    },
    {
      "metadata": {
        "trusted": true,
        "_uuid": "5916b15e642198937c26c4d9c904109f1e04ae55"
      },
      "cell_type": "code",
      "source": "sns.countplot(df[\"Just for fun, do you prefer dogs or cat?\"]).set_title(\"Dogs vs. Cats\")",
      "execution_count": 10,
      "outputs": [
        {
          "output_type": "execute_result",
          "execution_count": 10,
          "data": {
            "text/plain": "Text(0.5,1,'Dogs vs. Cats')"
          },
          "metadata": {}
        },
        {
          "output_type": "display_data",
          "data": {
            "text/plain": "<Figure size 432x288 with 1 Axes>",
            "image/png": "[encoded data removed]"
          },
          "metadata": {}
        }
      ]
    },
    {
      "metadata": {
        "_uuid": "96eaa3898151974cc53dc656c76619ce0dec56c0"
      },
      "cell_type": "markdown",
      "source": "### Perform a Chi-square Test\n\nDesigned to analyze categorical data, it is intended to test how likely it is that an observed distribution is due to chance. It is also called a \"goodness of fit\" statistic, because it measures how well the observed distribution of data fits with the distribution that is expected if the variables are independent. \n\nIt will not work with parametric or continuous data (such as height in inches). For example, if you want to test whether attending class influences how students perform on an exam, using test scores (from 0-100) as data would not be appropriate for a Chi-square test. However, arranging students into the categories \"Pass\" and \"Fail\" would.\n\nNote:  The chisquare function from scipy.stats will only do a one-way comparison."
    },
    {
      "metadata": {
        "trusted": true,
        "scrolled": true,
        "_uuid": "964b2c6343fdf6ccf2cdefbab085391617d08931"
      },
      "cell_type": "code",
      "source": "# first let's do a one-way chi-squared test for stats background\nscipy.stats.chisquare(df[\"Have you ever taken a course in statistics?\"].value_counts())",
      "execution_count": 12,
      "outputs": [
        {
          "output_type": "execute_result",
          "execution_count": 12,
          "data": {
            "text/plain": "Power_divergenceResult(statistic=108.50120096076861, pvalue=2.7495623442639547e-24)"
          },
          "metadata": {}
        }
      ]
    },
    {
      "metadata": {
        "_uuid": "8ca95c9705e4035dc856005bcd32415897d932fa"
      },
      "cell_type": "markdown",
      "source": "Statistic here is the chi-square value (larger = more difference from a uniform distrobution) and pvalue is very low here."
    },
    {
      "metadata": {
        "trusted": true,
        "scrolled": true,
        "_uuid": "05ec505b3c2e413ed5736218e7b94dcd8ddade29"
      },
      "cell_type": "code",
      "source": "# first let's do a one-way chi-squared test for programming background\nscipy.stats.chisquare(df[\"Do you have any previous experience with programming?\"].value_counts())",
      "execution_count": 13,
      "outputs": [
        {
          "output_type": "execute_result",
          "execution_count": 13,
          "data": {
            "text/plain": "Power_divergenceResult(statistic=906.2001601281024, pvalue=7.55591487886036e-195)"
          },
          "metadata": {}
        }
      ]
    },
    {
      "metadata": {
        "_uuid": "759b8c85f97a8fe6ddc21a084e50d4acaad2ece0"
      },
      "cell_type": "markdown",
      "source": "And, again, our p-value is very low. This means that we can be sure, for both these questions, that the people who answered them are not drawn from a pool of people who are uniformly likely to have chosen each answer.\n\nNow let's do a two-way comparison. Is there a relationship between having programming background and having taken statistics?"
    },
    {
      "metadata": {
        "trusted": true,
        "scrolled": true,
        "_uuid": "313a24e7ea1d0564209dd6b36d68ecb029a5d36c"
      },
      "cell_type": "code",
      "source": "# now let's do a two-way chi-square test. Is there a relationship between programming background \n# and stats background?\ncontingencyTable = pd.crosstab(df[\"Do you have any previous experience with programming?\"],\n                              df[\"Have you ever taken a course in statistics?\"])\n\nscipy.stats.chi2_contingency(contingencyTable)",
      "execution_count": 14,
      "outputs": [
        {
          "output_type": "execute_result",
          "execution_count": 14,
          "data": {
            "text/plain": "(16.827631021435366,\n 0.03195483698199162,\n 8,\n array([[ 94.48839071, 204.47878303, 162.03282626],\n        [  0.40992794,   0.88710969,   0.70296237],\n        [ 43.45236189,  94.0336269 ,  74.51401121],\n        [108.22097678, 234.19695757, 185.58206565],\n        [  9.42834267,  20.40352282,  16.16813451]]))"
          },
          "metadata": {}
        }
      ]
    },
    {
      "metadata": {
        "_uuid": "3dbe019baa312642739f05d20faeb1a37962679c"
      },
      "cell_type": "markdown",
      "source": "Here, the first value (16.827) is the  χ2  value, the second value (0.032) is the p-value and the third value (8) is the degrees of freedom. Since our p-value is under our alpha of 0.05, we can say that it seems unlikely that there isn't a connection between these two things, right?\n\nBUT! Becuase we have preformed three tests of statistical significance we need to correct for the fact that the probability that we're going to get a significant effect just by chance increases with each test. (If you set your alpha to 0.05, you'll be wrong just by chance 1/20 times, so if you preform 20 test you're very likely to get the wrong answer on one of them & you need to correct for that.) We can do by dividing our alpha by x, where x is the number of tests we have preformed. So in this case, our p-value would have to be below a value of 0.016 to have an overall alphs of 0.05.\n\nBecause we did three tests, this final result is not significant at alpha = 0.05."
    }
  ],
  "metadata": {
    "kernelspec": {
      "display_name": "Python 3",
      "language": "python",
      "name": "python3"
    },
    "language_info": {
      "name": "python",
      "version": "3.6.6",
      "mimetype": "text/x-python",
      "codemirror_mode": {
        "name": "ipython",
        "version": 3
      },
      "pygments_lexer": "ipython3",
      "nbconvert_exporter": "python",
      "file_extension": ".py"
    }
  },
  "nbformat": 4,
  "nbformat_minor": 1
}