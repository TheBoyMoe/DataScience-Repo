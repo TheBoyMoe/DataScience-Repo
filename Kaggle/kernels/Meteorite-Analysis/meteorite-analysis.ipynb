{
  "cells": [
    {
      "metadata": {
        "_uuid": "8f2839f25d086af736a60e9eeb907d3b93b6e0e5",
        "_cell_guid": "b1076dfc-b9ad-4769-8c92-a6c4dae69d19",
        "trusted": true
      },
      "cell_type": "code",
      "source": "# Reference https://www.kaggle.com/pylablanche/meteorite-landings-simple-analysis\nimport numpy as np\nimport pandas as pd\nimport seaborn as sns\nimport matplotlib.pyplot as plt\n%matplotlib inline\n\nnp.random.seed(0)",
      "execution_count": 56,
      "outputs": []
    },
    {
      "metadata": {
        "_uuid": "7a7516a1222fc7fb4bcb16e7d9c8c50370ae1c29"
      },
      "cell_type": "markdown",
      "source": "### 1. Examine dateset"
    },
    {
      "metadata": {
        "trusted": true,
        "_uuid": "406886dfb9f6fb6b9bf696629f567fba6c10aa46"
      },
      "cell_type": "code",
      "source": "data = pd.read_csv('../input/meteorite-landings.csv')\ndata.columns = ['name', 'id', 'nametype', 'class', 'mass', 'fall', 'year', 'latitude', 'longitude', 'geo_location']\ndata.info()",
      "execution_count": 84,
      "outputs": [
        {
          "output_type": "stream",
          "text": "<class 'pandas.core.frame.DataFrame'>\nRangeIndex: 45716 entries, 0 to 45715\nData columns (total 10 columns):\nname            45716 non-null object\nid              45716 non-null int64\nnametype        45716 non-null object\nclass           45716 non-null object\nmass            45585 non-null float64\nfall            45716 non-null object\nyear            45428 non-null float64\nlatitude        38401 non-null float64\nlongitude       38401 non-null float64\ngeo_location    38401 non-null object\ndtypes: float64(4), int64(1), object(5)\nmemory usage: 3.5+ MB\n",
          "name": "stdout"
        }
      ]
    },
    {
      "metadata": {
        "trusted": true,
        "_uuid": "0842833b9e9adccc0b1feb483a417672979c593e"
      },
      "cell_type": "code",
      "source": "data.sample(10)",
      "execution_count": 85,
      "outputs": [
        {
          "output_type": "execute_result",
          "execution_count": 85,
          "data": {
            "text/plain": "                              name            ...                         geo_location\n12445      Frontier Mountain 97010            ...             (-72.953060, 160.482500)\n28764        Northwest Africa 4568            ...                                  NaN\n6125               Dar al Gani 360            ...               (27.927500, 15.831170)\n28431        Northwest Africa 4188            ...                                  NaN\n7565                    Dhofar 194            ...               (18.836670, 54.270000)\n23431        Meteorite Hills 00738            ...             (-79.683330, 155.750000)\n11628                       Elyria            ...              (38.280000, -97.365000)\n33434  Queen Alexandra Range 94648            ...             (-84.000000, 168.000000)\n34063  Queen Alexandra Range 97452            ...             (-84.000000, 168.000000)\n42789                 Yamato 86035            ...              (-71.500000, 35.666670)\n\n[10 rows x 10 columns]",
            "text/html": "<div>\n<style scoped>\n    .dataframe tbody tr th:only-of-type {\n        vertical-align: middle;\n    }\n\n    .dataframe tbody tr th {\n        vertical-align: top;\n    }\n\n    .dataframe thead th {\n        text-align: right;\n    }\n</style>\n<table border=\"1\" class=\"dataframe\">\n  <thead>\n    <tr style=\"text-align: right;\">\n      <th></th>\n      <th>name</th>\n      <th>id</th>\n      <th>nametype</th>\n      <th>class</th>\n      <th>mass</th>\n      <th>fall</th>\n      <th>year</th>\n      <th>latitude</th>\n      <th>longitude</th>\n      <th>geo_location</th>\n    </tr>\n  </thead>\n  <tbody>\n    <tr>\n      <th>12445</th>\n      <td>Frontier Mountain 97010</td>\n      <td>10743</td>\n      <td>Valid</td>\n      <td>L4</td>\n      <td>23.10</td>\n      <td>Found</td>\n      <td>1997.0</td>\n      <td>-72.95306</td>\n      <td>160.48250</td>\n      <td>(-72.953060, 160.482500)</td>\n    </tr>\n    <tr>\n      <th>28764</th>\n      <td>Northwest Africa 4568</td>\n      <td>45518</td>\n      <td>Valid</td>\n      <td>Ureilite</td>\n      <td>123.00</td>\n      <td>Found</td>\n      <td>2005.0</td>\n      <td>NaN</td>\n      <td>NaN</td>\n      <td>NaN</td>\n    </tr>\n    <tr>\n      <th>6125</th>\n      <td>Dar al Gani 360</td>\n      <td>5908</td>\n      <td>Valid</td>\n      <td>L6</td>\n      <td>87.00</td>\n      <td>Found</td>\n      <td>1997.0</td>\n      <td>27.92750</td>\n      <td>15.83117</td>\n      <td>(27.927500, 15.831170)</td>\n    </tr>\n    <tr>\n      <th>28431</th>\n      <td>Northwest Africa 4188</td>\n      <td>34460</td>\n      <td>Valid</td>\n      <td>L3-4</td>\n      <td>120.00</td>\n      <td>Found</td>\n      <td>2002.0</td>\n      <td>NaN</td>\n      <td>NaN</td>\n      <td>NaN</td>\n    </tr>\n    <tr>\n      <th>7565</th>\n      <td>Dhofar 194</td>\n      <td>6978</td>\n      <td>Valid</td>\n      <td>H4</td>\n      <td>134.00</td>\n      <td>Found</td>\n      <td>2000.0</td>\n      <td>18.83667</td>\n      <td>54.27000</td>\n      <td>(18.836670, 54.270000)</td>\n    </tr>\n    <tr>\n      <th>23431</th>\n      <td>Meteorite Hills 00738</td>\n      <td>15972</td>\n      <td>Valid</td>\n      <td>H5</td>\n      <td>36.37</td>\n      <td>Found</td>\n      <td>2000.0</td>\n      <td>-79.68333</td>\n      <td>155.75000</td>\n      <td>(-79.683330, 155.750000)</td>\n    </tr>\n    <tr>\n      <th>11628</th>\n      <td>Elyria</td>\n      <td>10030</td>\n      <td>Valid</td>\n      <td>Iron, IIIAB</td>\n      <td>10900.00</td>\n      <td>Found</td>\n      <td>1971.0</td>\n      <td>38.28000</td>\n      <td>-97.36500</td>\n      <td>(38.280000, -97.365000)</td>\n    </tr>\n    <tr>\n      <th>33434</th>\n      <td>Queen Alexandra Range 94648</td>\n      <td>20279</td>\n      <td>Valid</td>\n      <td>L5</td>\n      <td>23.70</td>\n      <td>Found</td>\n      <td>1994.0</td>\n      <td>-84.00000</td>\n      <td>168.00000</td>\n      <td>(-84.000000, 168.000000)</td>\n    </tr>\n    <tr>\n      <th>34063</th>\n      <td>Queen Alexandra Range 97452</td>\n      <td>20908</td>\n      <td>Valid</td>\n      <td>LL5</td>\n      <td>7.30</td>\n      <td>Found</td>\n      <td>1997.0</td>\n      <td>-84.00000</td>\n      <td>168.00000</td>\n      <td>(-84.000000, 168.000000)</td>\n    </tr>\n    <tr>\n      <th>42789</th>\n      <td>Yamato 86035</td>\n      <td>29541</td>\n      <td>Valid</td>\n      <td>L6</td>\n      <td>2.41</td>\n      <td>Found</td>\n      <td>1986.0</td>\n      <td>-71.50000</td>\n      <td>35.66667</td>\n      <td>(-71.500000, 35.666670)</td>\n    </tr>\n  </tbody>\n</table>\n</div>"
          },
          "metadata": {}
        }
      ]
    },
    {
      "metadata": {
        "_cell_guid": "79c7e3d0-c299-4dcb-8224-4455121ee9b0",
        "collapsed": true,
        "_uuid": "d629ff2d2480ee46fbb7e2d37f6b5fab8052498a",
        "trusted": false
      },
      "cell_type": "markdown",
      "source": "### **2. Handle missing values**"
    },
    {
      "metadata": {
        "trusted": true,
        "_uuid": "40e8dd1300a2f622ee1d3277882bfc529c4b649f"
      },
      "cell_type": "code",
      "source": "# discard any entries with lat/long of 0.0\ndata = data[(data.latitude != 0) & (data.longitude != 0)]",
      "execution_count": 86,
      "outputs": []
    },
    {
      "metadata": {
        "trusted": true,
        "collapsed": true,
        "_uuid": "4b66b8f99ce87c913c1071a4cb69e77947b85d50"
      },
      "cell_type": "code",
      "source": "data.info()",
      "execution_count": 87,
      "outputs": [
        {
          "output_type": "stream",
          "text": "<class 'pandas.core.frame.DataFrame'>\nInt64Index: 39278 entries, 0 to 45715\nData columns (total 10 columns):\nname            39278 non-null object\nid              39278 non-null int64\nnametype        39278 non-null object\nclass           39278 non-null object\nmass            39147 non-null float64\nfall            39278 non-null object\nyear            39018 non-null float64\nlatitude        31963 non-null float64\nlongitude       31963 non-null float64\ngeo_location    31963 non-null object\ndtypes: float64(4), int64(1), object(5)\nmemory usage: 3.3+ MB\n",
          "name": "stdout"
        }
      ]
    },
    {
      "metadata": {
        "trusted": true,
        "_uuid": "2f184440f13bf699c83398182f834c7942a0bc55"
      },
      "cell_type": "code",
      "source": "data.sample(10)",
      "execution_count": 88,
      "outputs": [
        {
          "output_type": "execute_result",
          "execution_count": 88,
          "data": {
            "text/plain": "                         name            ...                         geo_location\n13472  Grove Mountains 020035            ...              (-73.108060, 75.204170)\n7919               Dhofar 559            ...               (18.718480, 54.220000)\n9474   Elephant Moraine 83236            ...             (-76.328060, 157.201940)\n14346  Grove Mountains 022318            ...              (-72.773330, 75.339170)\n18501    LaPaz Icefield 03948            ...                                  NaN\n42721             Yamato 8425            ...              (-71.500000, 35.666670)\n20440       Lewis Cliff 86540            ...             (-84.271210, 161.351330)\n7600               Dhofar 229            ...               (19.056670, 54.575000)\n38123                  Ultuna            ...               (59.816670, 17.666670)\n12581  Geologists Range 99119            ...             (-82.500000, 155.500000)\n\n[10 rows x 10 columns]",
            "text/html": "<div>\n<style scoped>\n    .dataframe tbody tr th:only-of-type {\n        vertical-align: middle;\n    }\n\n    .dataframe tbody tr th {\n        vertical-align: top;\n    }\n\n    .dataframe thead th {\n        text-align: right;\n    }\n</style>\n<table border=\"1\" class=\"dataframe\">\n  <thead>\n    <tr style=\"text-align: right;\">\n      <th></th>\n      <th>name</th>\n      <th>id</th>\n      <th>nametype</th>\n      <th>class</th>\n      <th>mass</th>\n      <th>fall</th>\n      <th>year</th>\n      <th>latitude</th>\n      <th>longitude</th>\n      <th>geo_location</th>\n    </tr>\n  </thead>\n  <tbody>\n    <tr>\n      <th>13472</th>\n      <td>Grove Mountains 020035</td>\n      <td>46634</td>\n      <td>Valid</td>\n      <td>L3</td>\n      <td>6.32</td>\n      <td>Found</td>\n      <td>2002.0</td>\n      <td>-73.10806</td>\n      <td>75.20417</td>\n      <td>(-73.108060, 75.204170)</td>\n    </tr>\n    <tr>\n      <th>7919</th>\n      <td>Dhofar 559</td>\n      <td>7320</td>\n      <td>Valid</td>\n      <td>H5</td>\n      <td>113.00</td>\n      <td>Found</td>\n      <td>2001.0</td>\n      <td>18.71848</td>\n      <td>54.22000</td>\n      <td>(18.718480, 54.220000)</td>\n    </tr>\n    <tr>\n      <th>9474</th>\n      <td>Elephant Moraine 83236</td>\n      <td>7877</td>\n      <td>Valid</td>\n      <td>Eucrite-pmict</td>\n      <td>6.40</td>\n      <td>Found</td>\n      <td>1983.0</td>\n      <td>-76.32806</td>\n      <td>157.20194</td>\n      <td>(-76.328060, 157.201940)</td>\n    </tr>\n    <tr>\n      <th>14346</th>\n      <td>Grove Mountains 022318</td>\n      <td>49981</td>\n      <td>Valid</td>\n      <td>L6</td>\n      <td>5.79</td>\n      <td>Found</td>\n      <td>2003.0</td>\n      <td>-72.77333</td>\n      <td>75.33917</td>\n      <td>(-72.773330, 75.339170)</td>\n    </tr>\n    <tr>\n      <th>18501</th>\n      <td>LaPaz Icefield 03948</td>\n      <td>34765</td>\n      <td>Valid</td>\n      <td>LL6</td>\n      <td>12.50</td>\n      <td>Found</td>\n      <td>2003.0</td>\n      <td>NaN</td>\n      <td>NaN</td>\n      <td>NaN</td>\n    </tr>\n    <tr>\n      <th>42721</th>\n      <td>Yamato 8425</td>\n      <td>29472</td>\n      <td>Valid</td>\n      <td>H6</td>\n      <td>7.40</td>\n      <td>Found</td>\n      <td>1984.0</td>\n      <td>-71.50000</td>\n      <td>35.66667</td>\n      <td>(-71.500000, 35.666670)</td>\n    </tr>\n    <tr>\n      <th>20440</th>\n      <td>Lewis Cliff 86540</td>\n      <td>13468</td>\n      <td>Valid</td>\n      <td>Iron, IAB-sLH</td>\n      <td>21.10</td>\n      <td>Found</td>\n      <td>1986.0</td>\n      <td>-84.27121</td>\n      <td>161.35133</td>\n      <td>(-84.271210, 161.351330)</td>\n    </tr>\n    <tr>\n      <th>7600</th>\n      <td>Dhofar 229</td>\n      <td>7013</td>\n      <td>Valid</td>\n      <td>H6</td>\n      <td>716.00</td>\n      <td>Found</td>\n      <td>2000.0</td>\n      <td>19.05667</td>\n      <td>54.57500</td>\n      <td>(19.056670, 54.575000)</td>\n    </tr>\n    <tr>\n      <th>38123</th>\n      <td>Ultuna</td>\n      <td>24109</td>\n      <td>Valid</td>\n      <td>H</td>\n      <td>1900.00</td>\n      <td>Found</td>\n      <td>1944.0</td>\n      <td>59.81667</td>\n      <td>17.66667</td>\n      <td>(59.816670, 17.666670)</td>\n    </tr>\n    <tr>\n      <th>12581</th>\n      <td>Geologists Range 99119</td>\n      <td>10893</td>\n      <td>Valid</td>\n      <td>H6</td>\n      <td>11.40</td>\n      <td>Found</td>\n      <td>1999.0</td>\n      <td>-82.50000</td>\n      <td>155.50000</td>\n      <td>(-82.500000, 155.500000)</td>\n    </tr>\n  </tbody>\n</table>\n</div>"
          },
          "metadata": {}
        }
      ]
    },
    {
      "metadata": {
        "trusted": true,
        "_uuid": "2cdbf5f3f113952ad13f5ab5df00edee4e06ef39"
      },
      "cell_type": "code",
      "source": "# count the number of missing values for each column\nmissing_values_count = data.isnull().sum()\nmissing_values_count",
      "execution_count": 89,
      "outputs": [
        {
          "output_type": "execute_result",
          "execution_count": 89,
          "data": {
            "text/plain": "name               0\nid                 0\nnametype           0\nclass              0\nmass             131\nfall               0\nyear             260\nlatitude        7315\nlongitude       7315\ngeo_location    7315\ndtype: int64"
          },
          "metadata": {}
        }
      ]
    },
    {
      "metadata": {
        "trusted": true,
        "_uuid": "49b8e8d8eb010d1152b844a942d8fc9c561de9df"
      },
      "cell_type": "code",
      "source": "# count number of meteorites with invalid nametype\ndata.groupby('nametype').id.count()",
      "execution_count": 90,
      "outputs": [
        {
          "output_type": "execute_result",
          "execution_count": 90,
          "data": {
            "text/plain": "nametype\nRelict       75\nValid     39203\nName: id, dtype: int64"
          },
          "metadata": {}
        }
      ]
    },
    {
      "metadata": {
        "trusted": true,
        "_uuid": "142b30c320312425b944ef8fb1c434bd9a38a186"
      },
      "cell_type": "code",
      "source": "# discard samples that do not have a valid nametype\ndata = data[data['nametype'] == 'Valid']\ndata.groupby('nametype').id.count()",
      "execution_count": 97,
      "outputs": [
        {
          "output_type": "execute_result",
          "execution_count": 97,
          "data": {
            "text/plain": "nametype\nValid    39203\nName: id, dtype: int64"
          },
          "metadata": {}
        }
      ]
    },
    {
      "metadata": {
        "trusted": true,
        "_uuid": "855862e7e65b5ef35563dd88e1d3728d390d3ffe",
        "collapsed": true
      },
      "cell_type": "code",
      "source": "data.info()",
      "execution_count": 98,
      "outputs": [
        {
          "output_type": "stream",
          "text": "<class 'pandas.core.frame.DataFrame'>\nInt64Index: 39203 entries, 0 to 45715\nData columns (total 10 columns):\nname            39203 non-null object\nid              39203 non-null int64\nnametype        39203 non-null object\nclass           39203 non-null object\nmass            39121 non-null float64\nfall            39203 non-null object\nyear            38944 non-null float64\nlatitude        31893 non-null float64\nlongitude       31893 non-null float64\ngeo_location    31893 non-null object\ndtypes: float64(4), int64(1), object(5)\nmemory usage: 3.3+ MB\n",
          "name": "stdout"
        }
      ]
    },
    {
      "metadata": {
        "trusted": true,
        "collapsed": true,
        "_uuid": "4a3c8558b835ae9954347f1198815c9a15e6c040"
      },
      "cell_type": "code",
      "source": "data.dropna(inplace=True)\ndata.info()",
      "execution_count": 99,
      "outputs": [
        {
          "output_type": "stream",
          "text": "<class 'pandas.core.frame.DataFrame'>\nInt64Index: 31685 entries, 0 to 45715\nData columns (total 10 columns):\nname            31685 non-null object\nid              31685 non-null int64\nnametype        31685 non-null object\nclass           31685 non-null object\nmass            31685 non-null float64\nfall            31685 non-null object\nyear            31685 non-null float64\nlatitude        31685 non-null float64\nlongitude       31685 non-null float64\ngeo_location    31685 non-null object\ndtypes: float64(4), int64(1), object(5)\nmemory usage: 2.7+ MB\n",
          "name": "stdout"
        },
        {
          "output_type": "stream",
          "text": "/opt/conda/lib/python3.6/site-packages/ipykernel_launcher.py:1: SettingWithCopyWarning: \nA value is trying to be set on a copy of a slice from a DataFrame\n\nSee the caveats in the documentation: http://pandas.pydata.org/pandas-docs/stable/indexing.html#indexing-view-versus-copy\n  \"\"\"Entry point for launching an IPython kernel.\n",
          "name": "stderr"
        }
      ]
    }
  ],
  "metadata": {
    "kernelspec": {
      "display_name": "Python 3",
      "language": "python",
      "name": "python3"
    },
    "language_info": {
      "name": "python",
      "version": "3.6.6",
      "mimetype": "text/x-python",
      "codemirror_mode": {
        "name": "ipython",
        "version": 3
      },
      "pygments_lexer": "ipython3",
      "nbconvert_exporter": "python",
      "file_extension": ".py"
    }
  },
  "nbformat": 4,
  "nbformat_minor": 1
}