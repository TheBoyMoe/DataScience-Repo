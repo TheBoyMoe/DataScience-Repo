{
 "cells": [
  {
   "cell_type": "markdown",
   "metadata": {},
   "source": [
    "# Step 1: Import, Clean and Transform your data\n",
    "\n",
    "In this notebook, we'll walk through how to import your data from csv, clean it so it is usable, and transform it into\n",
    "a usable format. Lastly, we'll re-save this data to use it for other notebooks. "
   ]
  },
  {
   "cell_type": "code",
   "execution_count": 91,
   "metadata": {},
   "outputs": [],
   "source": [
    "#Import your libraries\n",
    "import pandas as pd\n",
    "import numpy as np\n",
    "import os"
   ]
  },
  {
   "cell_type": "code",
   "execution_count": 96,
   "metadata": {},
   "outputs": [],
   "source": [
    "#Define your path directory..for this example it will be Datasets. If you create your own folders, it'll be different. \n",
    "file_dir = os.path.join(\"..\",'Datasets')\n",
    "df = pd.read_csv(os.path.join(file_dir,'EconLossesEU.csv'))"
   ]
  },
  {
   "cell_type": "code",
   "execution_count": 97,
   "metadata": {},
   "outputs": [
    {
     "data": {
      "text/html": [
       "<div>\n",
       "<style scoped>\n",
       "    .dataframe tbody tr th:only-of-type {\n",
       "        vertical-align: middle;\n",
       "    }\n",
       "\n",
       "    .dataframe tbody tr th {\n",
       "        vertical-align: top;\n",
       "    }\n",
       "\n",
       "    .dataframe thead th {\n",
       "        text-align: right;\n",
       "    }\n",
       "</style>\n",
       "<table border=\"1\" class=\"dataframe\">\n",
       "  <thead>\n",
       "    <tr style=\"text-align: right;\">\n",
       "      <th></th>\n",
       "      <th>stk_flow</th>\n",
       "      <th>geo</th>\n",
       "      <th>Year</th>\n",
       "      <th>Value</th>\n",
       "    </tr>\n",
       "  </thead>\n",
       "  <tbody>\n",
       "    <tr>\n",
       "      <th>0</th>\n",
       "      <td>LOSS_CLIM_MEUR</td>\n",
       "      <td>EU28</td>\n",
       "      <td>2016</td>\n",
       "      <td>681.0</td>\n",
       "    </tr>\n",
       "    <tr>\n",
       "      <th>1</th>\n",
       "      <td>LOSS_CUM_EUR_HAB</td>\n",
       "      <td>AT</td>\n",
       "      <td>2016</td>\n",
       "      <td>1590.0</td>\n",
       "    </tr>\n",
       "    <tr>\n",
       "      <th>2</th>\n",
       "      <td>LOSS_CUM_EUR_HAB</td>\n",
       "      <td>BE</td>\n",
       "      <td>2016</td>\n",
       "      <td>399.0</td>\n",
       "    </tr>\n",
       "    <tr>\n",
       "      <th>3</th>\n",
       "      <td>LOSS_CUM_EUR_HAB</td>\n",
       "      <td>BG</td>\n",
       "      <td>2016</td>\n",
       "      <td>296.0</td>\n",
       "    </tr>\n",
       "    <tr>\n",
       "      <th>4</th>\n",
       "      <td>LOSS_CUM_EUR_HAB</td>\n",
       "      <td>CH</td>\n",
       "      <td>2016</td>\n",
       "      <td>2580.0</td>\n",
       "    </tr>\n",
       "  </tbody>\n",
       "</table>\n",
       "</div>"
      ],
      "text/plain": [
       "           stk_flow   geo  Year   Value\n",
       "0    LOSS_CLIM_MEUR  EU28  2016   681.0\n",
       "1  LOSS_CUM_EUR_HAB    AT  2016  1590.0\n",
       "2  LOSS_CUM_EUR_HAB    BE  2016   399.0\n",
       "3  LOSS_CUM_EUR_HAB    BG  2016   296.0\n",
       "4  LOSS_CUM_EUR_HAB    CH  2016  2580.0"
      ]
     },
     "execution_count": 97,
     "metadata": {},
     "output_type": "execute_result"
    }
   ],
   "source": [
    "df.head()"
   ]
  },
  {
   "cell_type": "markdown",
   "metadata": {},
   "source": [
    "Let's check out our data"
   ]
  },
  {
   "cell_type": "code",
   "execution_count": 98,
   "metadata": {},
   "outputs": [
    {
     "data": {
      "text/plain": [
       "stk_flow     object\n",
       "geo          object\n",
       "Year          int64\n",
       "Value       float64\n",
       "dtype: object"
      ]
     },
     "execution_count": 98,
     "metadata": {},
     "output_type": "execute_result"
    }
   ],
   "source": [
    "df.dtypes"
   ]
  },
  {
   "cell_type": "markdown",
   "metadata": {},
   "source": [
    "We could chance Year to datetime, but in this case it doesn't impact much. \n",
    "If you wanted to, you could type: \n",
    "\n",
    "```python\n",
    "df['Year'] = pd.to_datetime(df['Year']).dt.year\n",
    "```"
   ]
  },
  {
   "cell_type": "code",
   "execution_count": 99,
   "metadata": {},
   "outputs": [
    {
     "data": {
      "text/html": [
       "<div>\n",
       "<style scoped>\n",
       "    .dataframe tbody tr th:only-of-type {\n",
       "        vertical-align: middle;\n",
       "    }\n",
       "\n",
       "    .dataframe tbody tr th {\n",
       "        vertical-align: top;\n",
       "    }\n",
       "\n",
       "    .dataframe thead th {\n",
       "        text-align: right;\n",
       "    }\n",
       "</style>\n",
       "<table border=\"1\" class=\"dataframe\">\n",
       "  <thead>\n",
       "    <tr style=\"text-align: right;\">\n",
       "      <th></th>\n",
       "      <th>Year</th>\n",
       "      <th>Value</th>\n",
       "    </tr>\n",
       "  </thead>\n",
       "  <tbody>\n",
       "    <tr>\n",
       "      <th>count</th>\n",
       "      <td>182.000000</td>\n",
       "      <td>182.000000</td>\n",
       "    </tr>\n",
       "    <tr>\n",
       "      <th>mean</th>\n",
       "      <td>2001.362637</td>\n",
       "      <td>4644.203297</td>\n",
       "    </tr>\n",
       "    <tr>\n",
       "      <th>std</th>\n",
       "      <td>11.946026</td>\n",
       "      <td>6070.755348</td>\n",
       "    </tr>\n",
       "    <tr>\n",
       "      <th>min</th>\n",
       "      <td>1980.000000</td>\n",
       "      <td>1.000000</td>\n",
       "    </tr>\n",
       "    <tr>\n",
       "      <th>25%</th>\n",
       "      <td>1991.000000</td>\n",
       "      <td>734.000000</td>\n",
       "    </tr>\n",
       "    <tr>\n",
       "      <th>50%</th>\n",
       "      <td>2002.000000</td>\n",
       "      <td>2446.500000</td>\n",
       "    </tr>\n",
       "    <tr>\n",
       "      <th>75%</th>\n",
       "      <td>2013.750000</td>\n",
       "      <td>5367.000000</td>\n",
       "    </tr>\n",
       "    <tr>\n",
       "      <th>max</th>\n",
       "      <td>2016.000000</td>\n",
       "      <td>30056.000000</td>\n",
       "    </tr>\n",
       "  </tbody>\n",
       "</table>\n",
       "</div>"
      ],
      "text/plain": [
       "              Year         Value\n",
       "count   182.000000    182.000000\n",
       "mean   2001.362637   4644.203297\n",
       "std      11.946026   6070.755348\n",
       "min    1980.000000      1.000000\n",
       "25%    1991.000000    734.000000\n",
       "50%    2002.000000   2446.500000\n",
       "75%    2013.750000   5367.000000\n",
       "max    2016.000000  30056.000000"
      ]
     },
     "execution_count": 99,
     "metadata": {},
     "output_type": "execute_result"
    }
   ],
   "source": [
    "df.describe()"
   ]
  },
  {
   "cell_type": "code",
   "execution_count": 100,
   "metadata": {},
   "outputs": [
    {
     "data": {
      "text/plain": [
       "stk_flow    0\n",
       "geo         0\n",
       "Year        0\n",
       "Value       0\n",
       "dtype: int64"
      ]
     },
     "execution_count": 100,
     "metadata": {},
     "output_type": "execute_result"
    }
   ],
   "source": [
    "df.isnull().sum()"
   ]
  },
  {
   "cell_type": "code",
   "execution_count": 101,
   "metadata": {},
   "outputs": [
    {
     "data": {
      "text/plain": [
       "LOSS_HYD_MEUR       37\n",
       "LOSS_CLIM_MEUR      37\n",
       "LOSS_MEUR           37\n",
       "LOSS_MET_MEUR       37\n",
       "LOSS_CUM_EUR_HAB    34\n",
       "Name: stk_flow, dtype: int64"
      ]
     },
     "execution_count": 101,
     "metadata": {},
     "output_type": "execute_result"
    }
   ],
   "source": [
    "df.stk_flow.value_counts()"
   ]
  },
  {
   "cell_type": "markdown",
   "metadata": {},
   "source": [
    "But what do these mean?\n",
    "Looking at the source info here: https://ec.europa.eu/eurostat/cache/metadata/en/cli_iad_loss_esms.htm,\n",
    "We can see that: \n",
    "\n",
    "LOSS_HYD_MEUR= hydrological losses (Mill Euro)\n",
    "\n",
    "LOSS_CLIM_MEUR = climatological losses (Mill Euro)\n",
    "\n",
    "LOSS_MEUR = total losses (Mill Euro)\n",
    "\n",
    "LOSS_MET_MEUR = meterological losses (Mill Euro)\n",
    "\n",
    "LOSS_CUM_EUR_HAB = cumulative losses since 1980 in EUR per capita\n"
   ]
  },
  {
   "cell_type": "code",
   "execution_count": 102,
   "metadata": {},
   "outputs": [],
   "source": [
    "translate ={'LOSS_HYD_MEUR':'water_losses','LOSS_CLIM_MEUR':'clim_losses','LOSS_MEUR':'total_losses','LOSS_MET_MEUR':'met_losses',\n",
    "           \"LOSS_CUM_EUR_HAB\":'per_cap_losses'}\n",
    "\n"
   ]
  },
  {
   "cell_type": "code",
   "execution_count": 103,
   "metadata": {},
   "outputs": [],
   "source": [
    "#The map function will map values of stk_flow to the varaible name we want to use as defined in the variable 'translate'\n",
    "df['variable']= df['stk_flow'].map(translate)"
   ]
  },
  {
   "cell_type": "code",
   "execution_count": 104,
   "metadata": {},
   "outputs": [
    {
     "data": {
      "text/html": [
       "<div>\n",
       "<style scoped>\n",
       "    .dataframe tbody tr th:only-of-type {\n",
       "        vertical-align: middle;\n",
       "    }\n",
       "\n",
       "    .dataframe tbody tr th {\n",
       "        vertical-align: top;\n",
       "    }\n",
       "\n",
       "    .dataframe thead th {\n",
       "        text-align: right;\n",
       "    }\n",
       "</style>\n",
       "<table border=\"1\" class=\"dataframe\">\n",
       "  <thead>\n",
       "    <tr style=\"text-align: right;\">\n",
       "      <th></th>\n",
       "      <th>stk_flow</th>\n",
       "      <th>geo</th>\n",
       "      <th>Year</th>\n",
       "      <th>Value</th>\n",
       "      <th>variable</th>\n",
       "    </tr>\n",
       "  </thead>\n",
       "  <tbody>\n",
       "    <tr>\n",
       "      <th>0</th>\n",
       "      <td>LOSS_CLIM_MEUR</td>\n",
       "      <td>EU28</td>\n",
       "      <td>2016</td>\n",
       "      <td>681.0</td>\n",
       "      <td>clim_losses</td>\n",
       "    </tr>\n",
       "    <tr>\n",
       "      <th>1</th>\n",
       "      <td>LOSS_CUM_EUR_HAB</td>\n",
       "      <td>AT</td>\n",
       "      <td>2016</td>\n",
       "      <td>1590.0</td>\n",
       "      <td>per_cap_losses</td>\n",
       "    </tr>\n",
       "    <tr>\n",
       "      <th>2</th>\n",
       "      <td>LOSS_CUM_EUR_HAB</td>\n",
       "      <td>BE</td>\n",
       "      <td>2016</td>\n",
       "      <td>399.0</td>\n",
       "      <td>per_cap_losses</td>\n",
       "    </tr>\n",
       "    <tr>\n",
       "      <th>3</th>\n",
       "      <td>LOSS_CUM_EUR_HAB</td>\n",
       "      <td>BG</td>\n",
       "      <td>2016</td>\n",
       "      <td>296.0</td>\n",
       "      <td>per_cap_losses</td>\n",
       "    </tr>\n",
       "    <tr>\n",
       "      <th>4</th>\n",
       "      <td>LOSS_CUM_EUR_HAB</td>\n",
       "      <td>CH</td>\n",
       "      <td>2016</td>\n",
       "      <td>2580.0</td>\n",
       "      <td>per_cap_losses</td>\n",
       "    </tr>\n",
       "  </tbody>\n",
       "</table>\n",
       "</div>"
      ],
      "text/plain": [
       "           stk_flow   geo  Year   Value        variable\n",
       "0    LOSS_CLIM_MEUR  EU28  2016   681.0     clim_losses\n",
       "1  LOSS_CUM_EUR_HAB    AT  2016  1590.0  per_cap_losses\n",
       "2  LOSS_CUM_EUR_HAB    BE  2016   399.0  per_cap_losses\n",
       "3  LOSS_CUM_EUR_HAB    BG  2016   296.0  per_cap_losses\n",
       "4  LOSS_CUM_EUR_HAB    CH  2016  2580.0  per_cap_losses"
      ]
     },
     "execution_count": 104,
     "metadata": {},
     "output_type": "execute_result"
    }
   ],
   "source": [
    "df.head()"
   ]
  },
  {
   "cell_type": "code",
   "execution_count": 105,
   "metadata": {},
   "outputs": [],
   "source": [
    "#That looks like it worked, so let's get rid of stk_flow:\n",
    "df = df.drop('stk_flow',axis = 1)"
   ]
  },
  {
   "cell_type": "code",
   "execution_count": 106,
   "metadata": {},
   "outputs": [
    {
     "data": {
      "text/plain": [
       "EU28    149\n",
       "IT        1\n",
       "RO        1\n",
       "BG        1\n",
       "LI        1\n",
       "NL        1\n",
       "AT        1\n",
       "HU        1\n",
       "ES        1\n",
       "LV        1\n",
       "EL        1\n",
       "CY        1\n",
       "SE        1\n",
       "PL        1\n",
       "NO        1\n",
       "HR        1\n",
       "CZ        1\n",
       "FI        1\n",
       "TR        1\n",
       "LU        1\n",
       "PT        1\n",
       "SK        1\n",
       "EE        1\n",
       "MT        1\n",
       "IS        1\n",
       "SI        1\n",
       "FR        1\n",
       "IE        1\n",
       "UK        1\n",
       "BE        1\n",
       "DK        1\n",
       "LT        1\n",
       "DE        1\n",
       "CH        1\n",
       "Name: geo, dtype: int64"
      ]
     },
     "execution_count": 106,
     "metadata": {},
     "output_type": "execute_result"
    }
   ],
   "source": [
    "df.geo.value_counts()"
   ]
  },
  {
   "cell_type": "markdown",
   "metadata": {},
   "source": [
    "There seems to be only one year/one metric of data for each country, but more data available for all of Europe."
   ]
  },
  {
   "cell_type": "code",
   "execution_count": 107,
   "metadata": {},
   "outputs": [
    {
     "data": {
      "text/plain": [
       "clim_losses       37\n",
       "total_losses      37\n",
       "water_losses      37\n",
       "met_losses        37\n",
       "per_cap_losses     1\n",
       "Name: variable, dtype: int64"
      ]
     },
     "execution_count": 107,
     "metadata": {},
     "output_type": "execute_result"
    }
   ],
   "source": [
    "df[df['geo']=='EU28']['variable'].value_counts()"
   ]
  },
  {
   "cell_type": "code",
   "execution_count": 108,
   "metadata": {},
   "outputs": [
    {
     "data": {
      "text/plain": [
       "2016    5\n",
       "1997    4\n",
       "1995    4\n",
       "1994    4\n",
       "1993    4\n",
       "1992    4\n",
       "1991    4\n",
       "1990    4\n",
       "1989    4\n",
       "1988    4\n",
       "1987    4\n",
       "1986    4\n",
       "1985    4\n",
       "1984    4\n",
       "1983    4\n",
       "1982    4\n",
       "1981    4\n",
       "1996    4\n",
       "1998    4\n",
       "2015    4\n",
       "1999    4\n",
       "2014    4\n",
       "2013    4\n",
       "2012    4\n",
       "2011    4\n",
       "2010    4\n",
       "2009    4\n",
       "2008    4\n",
       "2007    4\n",
       "2006    4\n",
       "2005    4\n",
       "2004    4\n",
       "2003    4\n",
       "2002    4\n",
       "2001    4\n",
       "2000    4\n",
       "1980    4\n",
       "Name: Year, dtype: int64"
      ]
     },
     "execution_count": 108,
     "metadata": {},
     "output_type": "execute_result"
    }
   ],
   "source": [
    "df[df['geo']=='EU28']['Year'].value_counts()"
   ]
  },
  {
   "cell_type": "code",
   "execution_count": 67,
   "metadata": {},
   "outputs": [],
   "source": [
    "#Let's see what's available for the country-level info"
   ]
  },
  {
   "cell_type": "code",
   "execution_count": 68,
   "metadata": {},
   "outputs": [
    {
     "data": {
      "text/html": [
       "<div>\n",
       "<style scoped>\n",
       "    .dataframe tbody tr th:only-of-type {\n",
       "        vertical-align: middle;\n",
       "    }\n",
       "\n",
       "    .dataframe tbody tr th {\n",
       "        vertical-align: top;\n",
       "    }\n",
       "\n",
       "    .dataframe thead th {\n",
       "        text-align: right;\n",
       "    }\n",
       "</style>\n",
       "<table border=\"1\" class=\"dataframe\">\n",
       "  <thead>\n",
       "    <tr style=\"text-align: right;\">\n",
       "      <th></th>\n",
       "      <th>variable</th>\n",
       "      <th>Year</th>\n",
       "    </tr>\n",
       "  </thead>\n",
       "  <tbody>\n",
       "    <tr>\n",
       "      <th>1</th>\n",
       "      <td>per_cap_losses</td>\n",
       "      <td>2016</td>\n",
       "    </tr>\n",
       "  </tbody>\n",
       "</table>\n",
       "</div>"
      ],
      "text/plain": [
       "         variable  Year\n",
       "1  per_cap_losses  2016"
      ]
     },
     "execution_count": 68,
     "metadata": {},
     "output_type": "execute_result"
    }
   ],
   "source": [
    "df[df['geo']!='EU28'][['variable','Year']].drop_duplicates()"
   ]
  },
  {
   "cell_type": "markdown",
   "metadata": {},
   "source": [
    "For any analysis we do, it probably makes sense to split this up into two data sets:\n",
    "1 for country comparisons, and 1 for EU comparisons over time. "
   ]
  },
  {
   "cell_type": "code",
   "execution_count": 69,
   "metadata": {},
   "outputs": [],
   "source": [
    "country = df[df['geo']!='EU28']"
   ]
  },
  {
   "cell_type": "code",
   "execution_count": 70,
   "metadata": {},
   "outputs": [],
   "source": [
    "EU = df[df['geo']=='EU28']"
   ]
  },
  {
   "cell_type": "code",
   "execution_count": 71,
   "metadata": {},
   "outputs": [
    {
     "data": {
      "text/html": [
       "<div>\n",
       "<style scoped>\n",
       "    .dataframe tbody tr th:only-of-type {\n",
       "        vertical-align: middle;\n",
       "    }\n",
       "\n",
       "    .dataframe tbody tr th {\n",
       "        vertical-align: top;\n",
       "    }\n",
       "\n",
       "    .dataframe thead th {\n",
       "        text-align: right;\n",
       "    }\n",
       "</style>\n",
       "<table border=\"1\" class=\"dataframe\">\n",
       "  <thead>\n",
       "    <tr style=\"text-align: right;\">\n",
       "      <th></th>\n",
       "      <th>geo</th>\n",
       "      <th>Year</th>\n",
       "      <th>Value</th>\n",
       "      <th>variable</th>\n",
       "    </tr>\n",
       "  </thead>\n",
       "  <tbody>\n",
       "    <tr>\n",
       "      <th>1</th>\n",
       "      <td>AT</td>\n",
       "      <td>2016</td>\n",
       "      <td>1590.0</td>\n",
       "      <td>per_cap_losses</td>\n",
       "    </tr>\n",
       "    <tr>\n",
       "      <th>2</th>\n",
       "      <td>BE</td>\n",
       "      <td>2016</td>\n",
       "      <td>399.0</td>\n",
       "      <td>per_cap_losses</td>\n",
       "    </tr>\n",
       "    <tr>\n",
       "      <th>3</th>\n",
       "      <td>BG</td>\n",
       "      <td>2016</td>\n",
       "      <td>296.0</td>\n",
       "      <td>per_cap_losses</td>\n",
       "    </tr>\n",
       "    <tr>\n",
       "      <th>4</th>\n",
       "      <td>CH</td>\n",
       "      <td>2016</td>\n",
       "      <td>2580.0</td>\n",
       "      <td>per_cap_losses</td>\n",
       "    </tr>\n",
       "    <tr>\n",
       "      <th>5</th>\n",
       "      <td>CY</td>\n",
       "      <td>2016</td>\n",
       "      <td>574.0</td>\n",
       "      <td>per_cap_losses</td>\n",
       "    </tr>\n",
       "  </tbody>\n",
       "</table>\n",
       "</div>"
      ],
      "text/plain": [
       "  geo  Year   Value        variable\n",
       "1  AT  2016  1590.0  per_cap_losses\n",
       "2  BE  2016   399.0  per_cap_losses\n",
       "3  BG  2016   296.0  per_cap_losses\n",
       "4  CH  2016  2580.0  per_cap_losses\n",
       "5  CY  2016   574.0  per_cap_losses"
      ]
     },
     "execution_count": 71,
     "metadata": {},
     "output_type": "execute_result"
    }
   ],
   "source": [
    "country.head()"
   ]
  },
  {
   "cell_type": "code",
   "execution_count": 63,
   "metadata": {},
   "outputs": [],
   "source": [
    "#A lot of this data is now not necessary--\n",
    "#all of our data is for 2016 per capita losses, but we can tidy it up a bit"
   ]
  },
  {
   "cell_type": "code",
   "execution_count": 73,
   "metadata": {},
   "outputs": [],
   "source": [
    "country = country.drop('variable',axis = 1)\n",
    "country.columns = ['Country','Year','Per_Cap_Losses']"
   ]
  },
  {
   "cell_type": "code",
   "execution_count": 74,
   "metadata": {},
   "outputs": [
    {
     "data": {
      "text/html": [
       "<div>\n",
       "<style scoped>\n",
       "    .dataframe tbody tr th:only-of-type {\n",
       "        vertical-align: middle;\n",
       "    }\n",
       "\n",
       "    .dataframe tbody tr th {\n",
       "        vertical-align: top;\n",
       "    }\n",
       "\n",
       "    .dataframe thead th {\n",
       "        text-align: right;\n",
       "    }\n",
       "</style>\n",
       "<table border=\"1\" class=\"dataframe\">\n",
       "  <thead>\n",
       "    <tr style=\"text-align: right;\">\n",
       "      <th></th>\n",
       "      <th>Country</th>\n",
       "      <th>Year</th>\n",
       "      <th>Per_Cap_Losses</th>\n",
       "    </tr>\n",
       "  </thead>\n",
       "  <tbody>\n",
       "    <tr>\n",
       "      <th>1</th>\n",
       "      <td>AT</td>\n",
       "      <td>2016</td>\n",
       "      <td>1590.0</td>\n",
       "    </tr>\n",
       "    <tr>\n",
       "      <th>2</th>\n",
       "      <td>BE</td>\n",
       "      <td>2016</td>\n",
       "      <td>399.0</td>\n",
       "    </tr>\n",
       "    <tr>\n",
       "      <th>3</th>\n",
       "      <td>BG</td>\n",
       "      <td>2016</td>\n",
       "      <td>296.0</td>\n",
       "    </tr>\n",
       "    <tr>\n",
       "      <th>4</th>\n",
       "      <td>CH</td>\n",
       "      <td>2016</td>\n",
       "      <td>2580.0</td>\n",
       "    </tr>\n",
       "    <tr>\n",
       "      <th>5</th>\n",
       "      <td>CY</td>\n",
       "      <td>2016</td>\n",
       "      <td>574.0</td>\n",
       "    </tr>\n",
       "  </tbody>\n",
       "</table>\n",
       "</div>"
      ],
      "text/plain": [
       "  Country  Year  Per_Cap_Losses\n",
       "1      AT  2016          1590.0\n",
       "2      BE  2016           399.0\n",
       "3      BG  2016           296.0\n",
       "4      CH  2016          2580.0\n",
       "5      CY  2016           574.0"
      ]
     },
     "execution_count": 74,
     "metadata": {},
     "output_type": "execute_result"
    }
   ],
   "source": [
    "country.head()"
   ]
  },
  {
   "cell_type": "code",
   "execution_count": 75,
   "metadata": {},
   "outputs": [
    {
     "data": {
      "text/html": [
       "<div>\n",
       "<style scoped>\n",
       "    .dataframe tbody tr th:only-of-type {\n",
       "        vertical-align: middle;\n",
       "    }\n",
       "\n",
       "    .dataframe tbody tr th {\n",
       "        vertical-align: top;\n",
       "    }\n",
       "\n",
       "    .dataframe thead th {\n",
       "        text-align: right;\n",
       "    }\n",
       "</style>\n",
       "<table border=\"1\" class=\"dataframe\">\n",
       "  <thead>\n",
       "    <tr style=\"text-align: right;\">\n",
       "      <th></th>\n",
       "      <th>geo</th>\n",
       "      <th>Year</th>\n",
       "      <th>Value</th>\n",
       "      <th>variable</th>\n",
       "    </tr>\n",
       "  </thead>\n",
       "  <tbody>\n",
       "    <tr>\n",
       "      <th>0</th>\n",
       "      <td>EU28</td>\n",
       "      <td>2016</td>\n",
       "      <td>681.0</td>\n",
       "      <td>clim_losses</td>\n",
       "    </tr>\n",
       "    <tr>\n",
       "      <th>12</th>\n",
       "      <td>EU28</td>\n",
       "      <td>2016</td>\n",
       "      <td>852.0</td>\n",
       "      <td>per_cap_losses</td>\n",
       "    </tr>\n",
       "    <tr>\n",
       "      <th>35</th>\n",
       "      <td>EU28</td>\n",
       "      <td>2016</td>\n",
       "      <td>5950.0</td>\n",
       "      <td>water_losses</td>\n",
       "    </tr>\n",
       "    <tr>\n",
       "      <th>36</th>\n",
       "      <td>EU28</td>\n",
       "      <td>2016</td>\n",
       "      <td>2765.0</td>\n",
       "      <td>met_losses</td>\n",
       "    </tr>\n",
       "    <tr>\n",
       "      <th>37</th>\n",
       "      <td>EU28</td>\n",
       "      <td>2016</td>\n",
       "      <td>9396.0</td>\n",
       "      <td>total_losses</td>\n",
       "    </tr>\n",
       "  </tbody>\n",
       "</table>\n",
       "</div>"
      ],
      "text/plain": [
       "     geo  Year   Value        variable\n",
       "0   EU28  2016   681.0     clim_losses\n",
       "12  EU28  2016   852.0  per_cap_losses\n",
       "35  EU28  2016  5950.0    water_losses\n",
       "36  EU28  2016  2765.0      met_losses\n",
       "37  EU28  2016  9396.0    total_losses"
      ]
     },
     "execution_count": 75,
     "metadata": {},
     "output_type": "execute_result"
    }
   ],
   "source": [
    "#Now for the EU data...\n",
    "EU.head()"
   ]
  },
  {
   "cell_type": "code",
   "execution_count": 76,
   "metadata": {},
   "outputs": [],
   "source": [
    "#Let's drop geo, since its all EU28\n",
    "EU = EU.drop('geo',axis = 1)"
   ]
  },
  {
   "cell_type": "code",
   "execution_count": 77,
   "metadata": {},
   "outputs": [],
   "source": [
    "#let's turn each variable into its own column so we can compare them\n",
    "EU_piv = EU.pivot_table(index = ['Year'],columns='variable',values = 'Value')"
   ]
  },
  {
   "cell_type": "code",
   "execution_count": 78,
   "metadata": {},
   "outputs": [
    {
     "data": {
      "text/html": [
       "<div>\n",
       "<style scoped>\n",
       "    .dataframe tbody tr th:only-of-type {\n",
       "        vertical-align: middle;\n",
       "    }\n",
       "\n",
       "    .dataframe tbody tr th {\n",
       "        vertical-align: top;\n",
       "    }\n",
       "\n",
       "    .dataframe thead th {\n",
       "        text-align: right;\n",
       "    }\n",
       "</style>\n",
       "<table border=\"1\" class=\"dataframe\">\n",
       "  <thead>\n",
       "    <tr style=\"text-align: right;\">\n",
       "      <th>variable</th>\n",
       "      <th>clim_losses</th>\n",
       "      <th>met_losses</th>\n",
       "      <th>per_cap_losses</th>\n",
       "      <th>total_losses</th>\n",
       "      <th>water_losses</th>\n",
       "    </tr>\n",
       "    <tr>\n",
       "      <th>Year</th>\n",
       "      <th></th>\n",
       "      <th></th>\n",
       "      <th></th>\n",
       "      <th></th>\n",
       "      <th></th>\n",
       "    </tr>\n",
       "  </thead>\n",
       "  <tbody>\n",
       "    <tr>\n",
       "      <th>1980</th>\n",
       "      <td>3170.0</td>\n",
       "      <td>158.0</td>\n",
       "      <td>NaN</td>\n",
       "      <td>3414.0</td>\n",
       "      <td>86.0</td>\n",
       "    </tr>\n",
       "    <tr>\n",
       "      <th>1981</th>\n",
       "      <td>2.0</td>\n",
       "      <td>1919.0</td>\n",
       "      <td>NaN</td>\n",
       "      <td>2277.0</td>\n",
       "      <td>356.0</td>\n",
       "    </tr>\n",
       "    <tr>\n",
       "      <th>1982</th>\n",
       "      <td>7026.0</td>\n",
       "      <td>2452.0</td>\n",
       "      <td>NaN</td>\n",
       "      <td>14331.0</td>\n",
       "      <td>4853.0</td>\n",
       "    </tr>\n",
       "    <tr>\n",
       "      <th>1983</th>\n",
       "      <td>4149.0</td>\n",
       "      <td>708.0</td>\n",
       "      <td>NaN</td>\n",
       "      <td>11026.0</td>\n",
       "      <td>6169.0</td>\n",
       "    </tr>\n",
       "    <tr>\n",
       "      <th>1984</th>\n",
       "      <td>2.0</td>\n",
       "      <td>4346.0</td>\n",
       "      <td>NaN</td>\n",
       "      <td>4690.0</td>\n",
       "      <td>342.0</td>\n",
       "    </tr>\n",
       "  </tbody>\n",
       "</table>\n",
       "</div>"
      ],
      "text/plain": [
       "variable  clim_losses  met_losses  per_cap_losses  total_losses  water_losses\n",
       "Year                                                                         \n",
       "1980           3170.0       158.0             NaN        3414.0          86.0\n",
       "1981              2.0      1919.0             NaN        2277.0         356.0\n",
       "1982           7026.0      2452.0             NaN       14331.0        4853.0\n",
       "1983           4149.0       708.0             NaN       11026.0        6169.0\n",
       "1984              2.0      4346.0             NaN        4690.0         342.0"
      ]
     },
     "execution_count": 78,
     "metadata": {},
     "output_type": "execute_result"
    }
   ],
   "source": [
    "EU_piv.head()"
   ]
  },
  {
   "cell_type": "code",
   "execution_count": 79,
   "metadata": {},
   "outputs": [
    {
     "data": {
      "text/html": [
       "<div>\n",
       "<style scoped>\n",
       "    .dataframe tbody tr th:only-of-type {\n",
       "        vertical-align: middle;\n",
       "    }\n",
       "\n",
       "    .dataframe tbody tr th {\n",
       "        vertical-align: top;\n",
       "    }\n",
       "\n",
       "    .dataframe thead th {\n",
       "        text-align: right;\n",
       "    }\n",
       "</style>\n",
       "<table border=\"1\" class=\"dataframe\">\n",
       "  <thead>\n",
       "    <tr style=\"text-align: right;\">\n",
       "      <th>variable</th>\n",
       "      <th>clim_losses</th>\n",
       "      <th>met_losses</th>\n",
       "      <th>per_cap_losses</th>\n",
       "      <th>total_losses</th>\n",
       "      <th>water_losses</th>\n",
       "    </tr>\n",
       "  </thead>\n",
       "  <tbody>\n",
       "    <tr>\n",
       "      <th>count</th>\n",
       "      <td>37.000000</td>\n",
       "      <td>37.000000</td>\n",
       "      <td>1.0</td>\n",
       "      <td>37.000000</td>\n",
       "      <td>37.000000</td>\n",
       "    </tr>\n",
       "    <tr>\n",
       "      <th>mean</th>\n",
       "      <td>2579.027027</td>\n",
       "      <td>4279.432432</td>\n",
       "      <td>852.0</td>\n",
       "      <td>11092.108108</td>\n",
       "      <td>4233.648649</td>\n",
       "    </tr>\n",
       "    <tr>\n",
       "      <th>std</th>\n",
       "      <td>3029.190646</td>\n",
       "      <td>5011.413354</td>\n",
       "      <td>NaN</td>\n",
       "      <td>7876.957759</td>\n",
       "      <td>5167.074039</td>\n",
       "    </tr>\n",
       "    <tr>\n",
       "      <th>min</th>\n",
       "      <td>1.000000</td>\n",
       "      <td>158.000000</td>\n",
       "      <td>852.0</td>\n",
       "      <td>2277.000000</td>\n",
       "      <td>29.000000</td>\n",
       "    </tr>\n",
       "    <tr>\n",
       "      <th>25%</th>\n",
       "      <td>681.000000</td>\n",
       "      <td>1457.000000</td>\n",
       "      <td>852.0</td>\n",
       "      <td>4812.000000</td>\n",
       "      <td>750.000000</td>\n",
       "    </tr>\n",
       "    <tr>\n",
       "      <th>50%</th>\n",
       "      <td>2116.000000</td>\n",
       "      <td>2452.000000</td>\n",
       "      <td>852.0</td>\n",
       "      <td>9265.000000</td>\n",
       "      <td>1882.000000</td>\n",
       "    </tr>\n",
       "    <tr>\n",
       "      <th>75%</th>\n",
       "      <td>3170.000000</td>\n",
       "      <td>5411.000000</td>\n",
       "      <td>852.0</td>\n",
       "      <td>15628.000000</td>\n",
       "      <td>5371.000000</td>\n",
       "    </tr>\n",
       "    <tr>\n",
       "      <th>max</th>\n",
       "      <td>16556.000000</td>\n",
       "      <td>22958.000000</td>\n",
       "      <td>852.0</td>\n",
       "      <td>30056.000000</td>\n",
       "      <td>23991.000000</td>\n",
       "    </tr>\n",
       "  </tbody>\n",
       "</table>\n",
       "</div>"
      ],
      "text/plain": [
       "variable   clim_losses    met_losses  per_cap_losses  total_losses  \\\n",
       "count        37.000000     37.000000             1.0     37.000000   \n",
       "mean       2579.027027   4279.432432           852.0  11092.108108   \n",
       "std        3029.190646   5011.413354             NaN   7876.957759   \n",
       "min           1.000000    158.000000           852.0   2277.000000   \n",
       "25%         681.000000   1457.000000           852.0   4812.000000   \n",
       "50%        2116.000000   2452.000000           852.0   9265.000000   \n",
       "75%        3170.000000   5411.000000           852.0  15628.000000   \n",
       "max       16556.000000  22958.000000           852.0  30056.000000   \n",
       "\n",
       "variable  water_losses  \n",
       "count        37.000000  \n",
       "mean       4233.648649  \n",
       "std        5167.074039  \n",
       "min          29.000000  \n",
       "25%         750.000000  \n",
       "50%        1882.000000  \n",
       "75%        5371.000000  \n",
       "max       23991.000000  "
      ]
     },
     "execution_count": 79,
     "metadata": {},
     "output_type": "execute_result"
    }
   ],
   "source": [
    "EU_piv.describe()"
   ]
  },
  {
   "cell_type": "code",
   "execution_count": 80,
   "metadata": {},
   "outputs": [
    {
     "data": {
      "text/html": [
       "<div>\n",
       "<style scoped>\n",
       "    .dataframe tbody tr th:only-of-type {\n",
       "        vertical-align: middle;\n",
       "    }\n",
       "\n",
       "    .dataframe tbody tr th {\n",
       "        vertical-align: top;\n",
       "    }\n",
       "\n",
       "    .dataframe thead th {\n",
       "        text-align: right;\n",
       "    }\n",
       "</style>\n",
       "<table border=\"1\" class=\"dataframe\">\n",
       "  <thead>\n",
       "    <tr style=\"text-align: right;\">\n",
       "      <th>variable</th>\n",
       "      <th>clim_losses</th>\n",
       "      <th>met_losses</th>\n",
       "      <th>per_cap_losses</th>\n",
       "      <th>total_losses</th>\n",
       "      <th>water_losses</th>\n",
       "    </tr>\n",
       "    <tr>\n",
       "      <th>Year</th>\n",
       "      <th></th>\n",
       "      <th></th>\n",
       "      <th></th>\n",
       "      <th></th>\n",
       "      <th></th>\n",
       "    </tr>\n",
       "  </thead>\n",
       "  <tbody>\n",
       "    <tr>\n",
       "      <th>2016</th>\n",
       "      <td>681.0</td>\n",
       "      <td>2765.0</td>\n",
       "      <td>852.0</td>\n",
       "      <td>9396.0</td>\n",
       "      <td>5950.0</td>\n",
       "    </tr>\n",
       "  </tbody>\n",
       "</table>\n",
       "</div>"
      ],
      "text/plain": [
       "variable  clim_losses  met_losses  per_cap_losses  total_losses  water_losses\n",
       "Year                                                                         \n",
       "2016            681.0      2765.0           852.0        9396.0        5950.0"
      ]
     },
     "execution_count": 80,
     "metadata": {},
     "output_type": "execute_result"
    }
   ],
   "source": [
    "EU_piv[EU_piv['per_cap_losses'].isnull()==False]"
   ]
  },
  {
   "cell_type": "code",
   "execution_count": 81,
   "metadata": {},
   "outputs": [],
   "source": [
    "#Since we only have 1 entry for this, let's drop it. \n",
    "EU_piv = EU_piv.drop('per_cap_losses',axis = 1)"
   ]
  },
  {
   "cell_type": "code",
   "execution_count": 82,
   "metadata": {},
   "outputs": [
    {
     "data": {
      "text/html": [
       "<div>\n",
       "<style scoped>\n",
       "    .dataframe tbody tr th:only-of-type {\n",
       "        vertical-align: middle;\n",
       "    }\n",
       "\n",
       "    .dataframe tbody tr th {\n",
       "        vertical-align: top;\n",
       "    }\n",
       "\n",
       "    .dataframe thead th {\n",
       "        text-align: right;\n",
       "    }\n",
       "</style>\n",
       "<table border=\"1\" class=\"dataframe\">\n",
       "  <thead>\n",
       "    <tr style=\"text-align: right;\">\n",
       "      <th>variable</th>\n",
       "      <th>clim_losses</th>\n",
       "      <th>met_losses</th>\n",
       "      <th>total_losses</th>\n",
       "      <th>water_losses</th>\n",
       "    </tr>\n",
       "    <tr>\n",
       "      <th>Year</th>\n",
       "      <th></th>\n",
       "      <th></th>\n",
       "      <th></th>\n",
       "      <th></th>\n",
       "    </tr>\n",
       "  </thead>\n",
       "  <tbody>\n",
       "    <tr>\n",
       "      <th>1980</th>\n",
       "      <td>3170.0</td>\n",
       "      <td>158.0</td>\n",
       "      <td>3414.0</td>\n",
       "      <td>86.0</td>\n",
       "    </tr>\n",
       "    <tr>\n",
       "      <th>1981</th>\n",
       "      <td>2.0</td>\n",
       "      <td>1919.0</td>\n",
       "      <td>2277.0</td>\n",
       "      <td>356.0</td>\n",
       "    </tr>\n",
       "    <tr>\n",
       "      <th>1982</th>\n",
       "      <td>7026.0</td>\n",
       "      <td>2452.0</td>\n",
       "      <td>14331.0</td>\n",
       "      <td>4853.0</td>\n",
       "    </tr>\n",
       "    <tr>\n",
       "      <th>1983</th>\n",
       "      <td>4149.0</td>\n",
       "      <td>708.0</td>\n",
       "      <td>11026.0</td>\n",
       "      <td>6169.0</td>\n",
       "    </tr>\n",
       "    <tr>\n",
       "      <th>1984</th>\n",
       "      <td>2.0</td>\n",
       "      <td>4346.0</td>\n",
       "      <td>4690.0</td>\n",
       "      <td>342.0</td>\n",
       "    </tr>\n",
       "  </tbody>\n",
       "</table>\n",
       "</div>"
      ],
      "text/plain": [
       "variable  clim_losses  met_losses  total_losses  water_losses\n",
       "Year                                                         \n",
       "1980           3170.0       158.0        3414.0          86.0\n",
       "1981              2.0      1919.0        2277.0         356.0\n",
       "1982           7026.0      2452.0       14331.0        4853.0\n",
       "1983           4149.0       708.0       11026.0        6169.0\n",
       "1984              2.0      4346.0        4690.0         342.0"
      ]
     },
     "execution_count": 82,
     "metadata": {},
     "output_type": "execute_result"
    }
   ],
   "source": [
    "EU_piv.head()"
   ]
  },
  {
   "cell_type": "code",
   "execution_count": 90,
   "metadata": {},
   "outputs": [],
   "source": [
    "#Now that these look usable, let's export to csv to use in another workbook:\n",
    "country.to_csv(os.path.join(file_dir,'EU_Country_Losses_16.csv'))\n",
    "EU_piv.to_csv(os.path.join(file_dir,'EU_Total_Losses_80-15.csv'))\n"
   ]
  }
 ],
 "metadata": {
  "kernelspec": {
   "display_name": "Python 3",
   "language": "python",
   "name": "python3"
  },
  "language_info": {
   "codemirror_mode": {
    "name": "ipython",
    "version": 3
   },
   "file_extension": ".py",
   "mimetype": "text/x-python",
   "name": "python",
   "nbconvert_exporter": "python",
   "pygments_lexer": "ipython3",
   "version": "3.6.7"
  }
 },
 "nbformat": 4,
 "nbformat_minor": 2
}
