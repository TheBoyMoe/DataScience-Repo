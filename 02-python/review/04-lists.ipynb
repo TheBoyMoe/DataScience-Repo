{
 "cells": [
  {
   "cell_type": "markdown",
   "metadata": {},
   "source": [
    "# Lists\n",
    "\n",
    "\n",
    "### Basics\n",
    "\n",
    "Lists in python are the equivalent of arrays in other languages.\n",
    "\n",
    "Is a collection which is ordered and mutable, is zero-indexed and can have duplicate members.\n",
    "\n",
    "Can hold any Python data type, including other lists(nested lists) and multiple data types in the same list.\n",
    "\n",
    "```py\n",
    "heights = [['Jenny', 61], ['Alexus', 70], ['Sam', 67], ['Grace', 64], ['Vik', 68]]\n",
    "```\n",
    "Some list methods, e.g. `sort()` will not work on 'mixed' lists."
   ]
  },
  {
   "cell_type": "markdown",
   "metadata": {},
   "source": [
    "Like other languages, you can select elements and assign elements in the list using `bracket notation`"
   ]
  },
  {
   "cell_type": "code",
   "execution_count": 1,
   "metadata": {},
   "outputs": [
    {
     "data": {
      "text/plain": [
       "'c'"
      ]
     },
     "execution_count": 1,
     "metadata": {},
     "output_type": "execute_result"
    }
   ],
   "source": [
    "my_strings = ['a', 'b', 'c', 'd']\n",
    "my_strings[2]"
   ]
  },
  {
   "cell_type": "code",
   "execution_count": 2,
   "metadata": {},
   "outputs": [
    {
     "data": {
      "text/plain": [
       "['a', 'b', 'c', 'e']"
      ]
     },
     "execution_count": 2,
     "metadata": {},
     "output_type": "execute_result"
    }
   ],
   "source": [
    "my_strings[3] = 'e'\n",
    "my_strings"
   ]
  },
  {
   "cell_type": "markdown",
   "metadata": {},
   "source": [
    "However, you CAN NOT use it to append elements to the list, i.e. you **can not** use assignment to add additional elements to a list, use `.append()` instead. Raises the `IndexError` exception"
   ]
  },
  {
   "cell_type": "code",
   "execution_count": 3,
   "metadata": {},
   "outputs": [
    {
     "name": "stdout",
     "output_type": "stream",
     "text": [
      "index out of range\n"
     ]
    }
   ],
   "source": [
    "try:\n",
    "    my_strings[4] = 'f'\n",
    "except IndexError:\n",
    "    print('index out of range')"
   ]
  },
  {
   "cell_type": "markdown",
   "metadata": {},
   "source": [
    "We can use negative indices, in which case we start from the 'rear' of the list and count backwards. Lists are `0` indexed, going from `0` to `N - 1`(left to right/front to back), or from `-1` to `-N` going from right to left(back to front), where `N` is the length of the list."
   ]
  },
  {
   "cell_type": "code",
   "execution_count": 4,
   "metadata": {},
   "outputs": [
    {
     "data": {
      "text/plain": [
       "'c'"
      ]
     },
     "execution_count": 4,
     "metadata": {},
     "output_type": "execute_result"
    }
   ],
   "source": [
    "my_strings[-2]"
   ]
  },
  {
   "cell_type": "markdown",
   "metadata": {},
   "source": [
    "When iterating over a list, the prefered way is to iterate directly over each element in turn using a `for` loop without an index:\n",
    "\n",
    "```py\n",
    "for item in items:\n",
    "    print(item)\n",
    "```\n",
    "Not only do you not have to keep track of an index, but you do not have to worry with it going out of range."
   ]
  },
  {
   "cell_type": "markdown",
   "metadata": {},
   "source": [
    "When you need the `index`, use the `enumerate()` method. `enumerate()` is a built-in function that generates a series of value pairs (tuples) of the form `index`, `item`, in which `index` is a running count, and `item` refers to an element.\n",
    "\n",
    "General syntax:\n",
    "\n",
    "```py\n",
    "enumerate(iterable, start=0)\n",
    "```\n",
    "`enumerate()` is most often used with a `for` loop, each call to the method yielding an index, item pair. The iterable is usually a collection, string, list, tuple, but may also be a generator. `start` defaults to `0` if left out. Setting a different value changes the starting value of the index produced, **NOT** the values yielded by the iterable."
   ]
  },
  {
   "cell_type": "code",
   "execution_count": 5,
   "metadata": {},
   "outputs": [
    {
     "name": "stdout",
     "output_type": "stream",
     "text": [
      "3:a\n",
      "4:b\n",
      "5:c\n",
      "6:d\n",
      "7:e\n"
     ]
    }
   ],
   "source": [
    "for i, v in enumerate(['a', 'b', 'c', 'd', 'e'], start=3):\n",
    "    print('{}:{}'.format(i, v))"
   ]
  },
  {
   "cell_type": "markdown",
   "metadata": {},
   "source": [
    "### Join\n",
    "\n",
    "We can use `.join()` concatenate a lists contents into a string. Call `.join()` on the string used to concatenate the list items together.\n",
    "\n",
    "We can create a list with the `*` operator, and convert it to a string using `.join()`."
   ]
  },
  {
   "cell_type": "code",
   "execution_count": 6,
   "metadata": {},
   "outputs": [
    {
     "data": {
      "text/plain": [
       "'abcd abcd abcd abcd abcd abcd abcd abcd abcd abcd'"
      ]
     },
     "execution_count": 6,
     "metadata": {},
     "output_type": "execute_result"
    }
   ],
   "source": [
    "lst = ['abcd'] * 10\n",
    "s = ' '.join(lst)\n",
    "s"
   ]
  },
  {
   "cell_type": "markdown",
   "metadata": {},
   "source": [
    "### In\n",
    "\n",
    "You can you use `in` just as you can with strings to check if a value exists within a list. Returns a `boolean`."
   ]
  },
  {
   "cell_type": "code",
   "execution_count": 7,
   "metadata": {},
   "outputs": [
    {
     "data": {
      "text/plain": [
       "True"
      ]
     },
     "execution_count": 7,
     "metadata": {},
     "output_type": "execute_result"
    }
   ],
   "source": [
    "strings = ['a', 2, '4', 'g', 5]\n",
    "'4' in strings"
   ]
  },
  {
   "cell_type": "code",
   "execution_count": 8,
   "metadata": {},
   "outputs": [
    {
     "data": {
      "text/plain": [
       "False"
      ]
     },
     "execution_count": 8,
     "metadata": {},
     "output_type": "execute_result"
    }
   ],
   "source": [
    "'h' in strings"
   ]
  },
  {
   "cell_type": "markdown",
   "metadata": {},
   "source": [
    "### Slicing\n",
    "\n",
    "We can use the `list[start:end:direction/step]` syntax to slice the list, where:\n",
    "\n",
    "`start` - the index we want to start the selection\n",
    "\n",
    "`end` - continue selection upto, but not including the `end` index\n",
    "\n",
    "`step` - specifies how much the index should increase during iteration, e.g. return every 2nd, 3rd, etc element. Use negative indice to reverse direction and go from back to front.\n",
    "\n",
    "The original list is unchanged, a **new selection is returned**.\n",
    "\n",
    "General syntax(upto but not including the end):\n",
    "\n",
    "```py\n",
    "list[start:end]\n",
    "\n",
    "list[:end]\n",
    "\n",
    "list[start:]\n",
    "\n",
    "list[start:end:step]\n",
    "```"
   ]
  },
  {
   "cell_type": "code",
   "execution_count": 9,
   "metadata": {},
   "outputs": [
    {
     "name": "stdout",
     "output_type": "stream",
     "text": [
      "['c', 'd', 'e', 'f']\n",
      "['a', 'b', 'c', 'd', 'e', 'f', 'g']\n"
     ]
    }
   ],
   "source": [
    "letters = ['a', 'b', 'c', 'd', 'e', 'f', 'g']\n",
    "chars = letters[2:6]\n",
    "print(chars)\n",
    "print(letters)"
   ]
  },
  {
   "cell_type": "markdown",
   "metadata": {},
   "source": [
    "If we omit the `start` index, selection starts from index 0."
   ]
  },
  {
   "cell_type": "code",
   "execution_count": 10,
   "metadata": {},
   "outputs": [
    {
     "data": {
      "text/plain": [
       "['a', 'b', 'c']"
      ]
     },
     "execution_count": 10,
     "metadata": {},
     "output_type": "execute_result"
    }
   ],
   "source": [
    "letters[:3]"
   ]
  },
  {
   "cell_type": "markdown",
   "metadata": {},
   "source": [
    "If we omit the `end` index, selection goes upto and including the last element"
   ]
  },
  {
   "cell_type": "code",
   "execution_count": 11,
   "metadata": {},
   "outputs": [
    {
     "data": {
      "text/plain": [
       "['d', 'e', 'f', 'g']"
      ]
     },
     "execution_count": 11,
     "metadata": {},
     "output_type": "execute_result"
    }
   ],
   "source": [
    "letters[3:]"
   ]
  },
  {
   "cell_type": "markdown",
   "metadata": {},
   "source": [
    "We can also start the selection from the 'rear' of the list by using negative indexes"
   ]
  },
  {
   "cell_type": "code",
   "execution_count": 12,
   "metadata": {},
   "outputs": [
    {
     "data": {
      "text/plain": [
       "['e', 'f', 'g']"
      ]
     },
     "execution_count": 12,
     "metadata": {},
     "output_type": "execute_result"
    }
   ],
   "source": [
    "letters[-3:]"
   ]
  },
  {
   "cell_type": "code",
   "execution_count": 13,
   "metadata": {},
   "outputs": [
    {
     "data": {
      "text/plain": [
       "['a', 'b', 'c', 'd']"
      ]
     },
     "execution_count": 13,
     "metadata": {},
     "output_type": "execute_result"
    }
   ],
   "source": [
    "letters[:-3]"
   ]
  },
  {
   "cell_type": "code",
   "execution_count": 14,
   "metadata": {},
   "outputs": [
    {
     "name": "stdout",
     "output_type": "stream",
     "text": [
      "['a', 'b', 'c', 'd', 'e', 'f', 'g']\n",
      "['a', 'b', 'c', 'd', 'e', 'f', 'g', 'h']\n"
     ]
    }
   ],
   "source": [
    "# copy a list\n",
    "lst = letters[:]\n",
    "letters.append('h')\n",
    "print(lst)\n",
    "print(letters)"
   ]
  },
  {
   "cell_type": "code",
   "execution_count": 15,
   "metadata": {},
   "outputs": [
    {
     "name": "stdout",
     "output_type": "stream",
     "text": [
      "['a', 'b', 'c', 'd', 'e', 'f', 'g', 'h']\n",
      "['h', 'g', 'f', 'e', 'd', 'c', 'b', 'a']\n"
     ]
    }
   ],
   "source": [
    "# create a copy that is reversed\n",
    "lst2 = letters[::-1]\n",
    "print(letters)\n",
    "print(lst2)"
   ]
  },
  {
   "cell_type": "markdown",
   "metadata": {},
   "source": [
    "Because Python lists are mutable, we can use slicing to specify a target, as well as the source, of an assignment. We can use the technique to **replace** items `d` and `e` with `1,2,3,4,5`."
   ]
  },
  {
   "cell_type": "code",
   "execution_count": 16,
   "metadata": {},
   "outputs": [
    {
     "name": "stdout",
     "output_type": "stream",
     "text": [
      "['a', 'b', 'c', 1, 2, 3, 4, 5, 'f', 'g', 'h']\n"
     ]
    }
   ],
   "source": [
    "letters[3:5] = [1,2,3,4,5]\n",
    "print(letters)"
   ]
  },
  {
   "cell_type": "markdown",
   "metadata": {},
   "source": [
    "You can use the same technique to **replace** a single element with one, or more elements. The value to the right of the assignment operator **MUST** be an iterable, e.g. list."
   ]
  },
  {
   "cell_type": "code",
   "execution_count": 17,
   "metadata": {},
   "outputs": [
    {
     "name": "stdout",
     "output_type": "stream",
     "text": [
      "['a', 'b', 'c', 1, 99, 3, 4, 5, 'f', 'g', 'h']\n"
     ]
    }
   ],
   "source": [
    "letters[4:5] = [99]\n",
    "print(letters)"
   ]
  },
  {
   "cell_type": "markdown",
   "metadata": {},
   "source": [
    "## List Methods\n",
    "\n",
    "These are functions called on the list object itself\n",
    "\n",
    "## Append\n",
    "\n",
    "`.append()` will add a **single** element to the end of a list\n",
    "\n",
    "- could be a **primitive, another list, tuple, set or dictionary**. \n",
    "- takes exactly one argument otherwise raises a `TypeError` exception.\n",
    "- acts **in-place**, i.e. mutates the original list. \n",
    "- operation returns `None`."
   ]
  },
  {
   "cell_type": "code",
   "execution_count": 19,
   "metadata": {},
   "outputs": [
    {
     "data": {
      "text/plain": [
       "[1, 2, 3, 4, 5]"
      ]
     },
     "execution_count": 19,
     "metadata": {},
     "output_type": "execute_result"
    }
   ],
   "source": [
    "numbers = [1,2,3,4]\n",
    "numbers.append(5)\n",
    "numbers"
   ]
  },
  {
   "cell_type": "code",
   "execution_count": 20,
   "metadata": {},
   "outputs": [
    {
     "data": {
      "text/plain": [
       "[[1, 2, 3, 4], [5, 6, 7]]"
      ]
     },
     "execution_count": 20,
     "metadata": {},
     "output_type": "execute_result"
    }
   ],
   "source": [
    "lists = [[1,2,3,4]]\n",
    "result = lists.append([5,6,7])\n",
    "lists"
   ]
  },
  {
   "cell_type": "code",
   "execution_count": 21,
   "metadata": {},
   "outputs": [
    {
     "name": "stdout",
     "output_type": "stream",
     "text": [
      "None\n"
     ]
    }
   ],
   "source": [
    "print(result)"
   ]
  },
  {
   "cell_type": "markdown",
   "metadata": {},
   "source": [
    "### Count\n",
    "\n",
    "We can use the `count` method to count the number of times a particular item occurs in a list"
   ]
  },
  {
   "cell_type": "code",
   "execution_count": 22,
   "metadata": {},
   "outputs": [
    {
     "data": {
      "text/plain": [
       "4"
      ]
     },
     "execution_count": 22,
     "metadata": {},
     "output_type": "execute_result"
    }
   ],
   "source": [
    "letters = ['m', 'i', 's', 's', 'i', 's', 's', 'i', 'p', 'p', 'i']\n",
    "letters.count('i')"
   ]
  },
  {
   "cell_type": "code",
   "execution_count": 23,
   "metadata": {},
   "outputs": [
    {
     "data": {
      "text/plain": [
       "0"
      ]
     },
     "execution_count": 23,
     "metadata": {},
     "output_type": "execute_result"
    }
   ],
   "source": [
    "# returns 0 when no match found\n",
    "letters.count('x')"
   ]
  },
  {
   "cell_type": "code",
   "execution_count": 24,
   "metadata": {},
   "outputs": [
    {
     "data": {
      "text/plain": [
       "5"
      ]
     },
     "execution_count": 24,
     "metadata": {},
     "output_type": "execute_result"
    }
   ],
   "source": [
    "my_numbers = [1,11,2,4,7,23,11,6,456,11,76,22,11,887,64,11]\n",
    "my_numbers.count(11)"
   ]
  },
  {
   "cell_type": "code",
   "execution_count": 25,
   "metadata": {},
   "outputs": [
    {
     "data": {
      "text/plain": [
       "3"
      ]
     },
     "execution_count": 25,
     "metadata": {},
     "output_type": "execute_result"
    }
   ],
   "source": [
    "my_lists = [[1,2],[3],[2,4,5,6],[1,2],[3],[87,34,56],[1,2],[3],[54,23],[5]]\n",
    "my_lists.count([1,2])"
   ]
  },
  {
   "cell_type": "code",
   "execution_count": 26,
   "metadata": {},
   "outputs": [
    {
     "data": {
      "text/plain": [
       "9"
      ]
     },
     "execution_count": 26,
     "metadata": {},
     "output_type": "execute_result"
    }
   ],
   "source": [
    "votes = ['Jake', 'Jake', 'Laurie', 'Laurie', 'Laurie', 'Jake', 'Jake', 'Jake', 'Laurie', 'Cassie', 'Cassie', 'Jake', 'Jake', 'Cassie', 'Laurie', 'Cassie', 'Jake', 'Jake', 'Cassie', 'Laurie']\n",
    "votes.count('Jake')"
   ]
  },
  {
   "cell_type": "markdown",
   "metadata": {},
   "source": [
    "### Index\n",
    "\n",
    "Return the index of the first occurence of the element, otherwise raise a `ValueError`"
   ]
  },
  {
   "cell_type": "code",
   "execution_count": 27,
   "metadata": {},
   "outputs": [
    {
     "name": "stdout",
     "output_type": "stream",
     "text": [
      "3\n",
      "Value not found\n"
     ]
    }
   ],
   "source": [
    "nums = [1,2,3,4,5,6,4,7,8]\n",
    "try:\n",
    "    print(nums.index(4))\n",
    "    print(nums.index(9))\n",
    "except ValueError:\n",
    "    print('Value not found')"
   ]
  },
  {
   "cell_type": "code",
   "execution_count": null,
   "metadata": {},
   "outputs": [],
   "source": []
  },
  {
   "cell_type": "markdown",
   "metadata": {},
   "source": [
    "### Sort\n",
    "\n",
    "`.sort()` - Sorts lists **in-place** in either numerical or alphabetical order (cannot sort lists with a mix of numbers and strings), it returns `None`.\n",
    "\n",
    "Can only be used with lists in which every element can be meaningfully compared to every other element in the list.\n",
    "\n",
    "Check `sorted()` in functions list."
   ]
  },
  {
   "cell_type": "code",
   "execution_count": 28,
   "metadata": {},
   "outputs": [
    {
     "data": {
      "text/plain": [
       "['Aardvark', 'Angel', 'Biff', 'Buffy', 'Gavin', 'Giles', 'Willow', 'Xander']"
      ]
     },
     "execution_count": 28,
     "metadata": {},
     "output_type": "execute_result"
    }
   ],
   "source": [
    "names = ['Aardvark','Xander', 'Biff', 'Buffy', 'Angel', 'Willow', 'Gavin', 'Giles']\n",
    "names.sort()\n",
    "names"
   ]
  },
  {
   "cell_type": "code",
   "execution_count": 29,
   "metadata": {},
   "outputs": [
    {
     "data": {
      "text/plain": [
       "[1, 2, 4, 6, 7, 11, 11, 11, 11, 11, 22, 23, 64, 76, 456, 887]"
      ]
     },
     "execution_count": 29,
     "metadata": {},
     "output_type": "execute_result"
    }
   ],
   "source": [
    "my_numbers.sort()\n",
    "my_numbers"
   ]
  },
  {
   "cell_type": "markdown",
   "metadata": {},
   "source": [
    "### Plus (+)\n",
    "\n",
    "We can combine, or contatenate, two or more **LISTS** using `+` operator(you can not add individual items(use `append()`), place them in a list first).\n",
    "\n",
    "The lists can be of any length, of any data type.\n",
    "\n",
    "The operation returns a new list, the orginal list is unchanged. "
   ]
  },
  {
   "cell_type": "code",
   "execution_count": 30,
   "metadata": {},
   "outputs": [
    {
     "data": {
      "text/plain": [
       "[1, 2, 3, 4, 5, 6, 7, 8, 9]"
      ]
     },
     "execution_count": 30,
     "metadata": {},
     "output_type": "execute_result"
    }
   ],
   "source": [
    "new_numbers = numbers + [6, 7, 8, 9]\n",
    "new_numbers"
   ]
  },
  {
   "cell_type": "code",
   "execution_count": 31,
   "metadata": {},
   "outputs": [
    {
     "data": {
      "text/plain": [
       "[1, 2, 3, 4, 5]"
      ]
     },
     "execution_count": 31,
     "metadata": {},
     "output_type": "execute_result"
    }
   ],
   "source": [
    "numbers"
   ]
  },
  {
   "cell_type": "code",
   "execution_count": 32,
   "metadata": {},
   "outputs": [
    {
     "data": {
      "text/plain": [
       "[[1, 2, 3, 4], [5, 6, 7], [8, 9, 10]]"
      ]
     },
     "execution_count": 32,
     "metadata": {},
     "output_type": "execute_result"
    }
   ],
   "source": [
    "lists + [[8,9,10]]"
   ]
  },
  {
   "cell_type": "code",
   "execution_count": 33,
   "metadata": {},
   "outputs": [
    {
     "data": {
      "text/plain": [
       "[[1, 2, 3, 4], [5, 6, 7]]"
      ]
     },
     "execution_count": 33,
     "metadata": {},
     "output_type": "execute_result"
    }
   ],
   "source": [
    "lists"
   ]
  },
  {
   "cell_type": "code",
   "execution_count": 34,
   "metadata": {},
   "outputs": [
    {
     "data": {
      "text/plain": [
       "[1, 2, 3, 4, 5, 6, 7, 8, 9, 1, 2, 3, 4, 5, 11, 12, 13, 14, 15]"
      ]
     },
     "execution_count": 34,
     "metadata": {},
     "output_type": "execute_result"
    }
   ],
   "source": [
    "# combine three lists\n",
    "newer_numbers = new_numbers + numbers + [11,12,13,14,15]\n",
    "newer_numbers"
   ]
  },
  {
   "cell_type": "code",
   "execution_count": 35,
   "metadata": {},
   "outputs": [
    {
     "data": {
      "text/plain": [
       "[1, 2, 3, 4, 5, 'a', 'b', 'c', [1, 2, 3, 4], [5, 6, 7]]"
      ]
     },
     "execution_count": 35,
     "metadata": {},
     "output_type": "execute_result"
    }
   ],
   "source": [
    "mixed = numbers + ['a', 'b', 'c'] + lists\n",
    "mixed"
   ]
  },
  {
   "cell_type": "markdown",
   "metadata": {},
   "source": [
    "### Insert\n",
    "\n",
    "Insert an item at a given position. Takes two args, 1st is the index, 2nd is the item. Operates **in-place**"
   ]
  },
  {
   "cell_type": "code",
   "execution_count": 36,
   "metadata": {},
   "outputs": [],
   "source": [
    "numbers.insert(2, [2,3,4,5,6]) "
   ]
  },
  {
   "cell_type": "code",
   "execution_count": 37,
   "metadata": {},
   "outputs": [
    {
     "data": {
      "text/plain": [
       "[1, 2, [2, 3, 4, 5, 6], 3, 4, 5]"
      ]
     },
     "execution_count": 37,
     "metadata": {},
     "output_type": "execute_result"
    }
   ],
   "source": [
    "numbers"
   ]
  },
  {
   "cell_type": "code",
   "execution_count": 38,
   "metadata": {},
   "outputs": [
    {
     "data": {
      "text/plain": [
       "[1, 2, 5, 3, 4, 5]"
      ]
     },
     "execution_count": 38,
     "metadata": {},
     "output_type": "execute_result"
    }
   ],
   "source": [
    "nums = [1,2,3,4,5]\n",
    "nums.insert(2,5)\n",
    "nums"
   ]
  },
  {
   "cell_type": "markdown",
   "metadata": {},
   "source": [
    "### Remove\n",
    "\n",
    "Remove an item from that location(the 1st occurence), takes one argument, the actual item you want to remove.\n",
    "\n",
    "- Raises `ValueError` if the item does not exist.\n",
    "- Does **NOT** return the value\n",
    "- Mutatues the list"
   ]
  },
  {
   "cell_type": "code",
   "execution_count": 39,
   "metadata": {},
   "outputs": [
    {
     "name": "stdout",
     "output_type": "stream",
     "text": [
      "Item not found\n"
     ]
    }
   ],
   "source": [
    "strings = ['a', 'b', 'c', 'd', 'e', 'f']\n",
    "try:\n",
    "    strings.remove(3)\n",
    "except ValueError:\n",
    "    print('Item not found')"
   ]
  },
  {
   "cell_type": "code",
   "execution_count": 40,
   "metadata": {},
   "outputs": [
    {
     "data": {
      "text/plain": [
       "['a', 'b', 'd', 'e', 'f']"
      ]
     },
     "execution_count": 40,
     "metadata": {},
     "output_type": "execute_result"
    }
   ],
   "source": [
    "strings.remove('c')\n",
    "strings"
   ]
  },
  {
   "cell_type": "code",
   "execution_count": 41,
   "metadata": {},
   "outputs": [
    {
     "name": "stdout",
     "output_type": "stream",
     "text": [
      "None\n"
     ]
    }
   ],
   "source": [
    "value = strings.remove('f')\n",
    "print(value)"
   ]
  },
  {
   "cell_type": "markdown",
   "metadata": {},
   "source": [
    "**NOTE**\n",
    "\n",
    "`insert()` - inserts based on the index position.\n",
    "\n",
    "`remove()` - removes the actual value passed if it exists in the list."
   ]
  },
  {
   "cell_type": "markdown",
   "metadata": {},
   "source": [
    "### Pop\n",
    "\n",
    "Removes the item at the given position. Takes one argument, the index. If no argument is supplied, removes the last element of the list.\n",
    "\n",
    "The item is returned, the list is mutated"
   ]
  },
  {
   "cell_type": "code",
   "execution_count": 42,
   "metadata": {},
   "outputs": [
    {
     "name": "stdout",
     "output_type": "stream",
     "text": [
      "b\n",
      "['a', 'c', 'd']\n"
     ]
    }
   ],
   "source": [
    "strings = ['a','b', 'c', 'd']\n",
    "str = strings.pop(1)\n",
    "print(str)\n",
    "print(strings)"
   ]
  },
  {
   "cell_type": "markdown",
   "metadata": {},
   "source": [
    "### Clear\n",
    "\n",
    "Removes all items from the list, returns 'None'"
   ]
  },
  {
   "cell_type": "code",
   "execution_count": 43,
   "metadata": {},
   "outputs": [
    {
     "name": "stdout",
     "output_type": "stream",
     "text": [
      "None\n",
      "[]\n"
     ]
    }
   ],
   "source": [
    "lst = strings.clear()\n",
    "print(lst)\n",
    "print(strings)"
   ]
  },
  {
   "cell_type": "markdown",
   "metadata": {},
   "source": [
    "### Reverse\n",
    "\n",
    "Reverses the elelments of a list in place"
   ]
  },
  {
   "cell_type": "code",
   "execution_count": 44,
   "metadata": {},
   "outputs": [
    {
     "name": "stdout",
     "output_type": "stream",
     "text": [
      "['f', 'e', 'd', 'c', 'b', 'a']\n",
      "['f', 'e', 'd', 'c', 'b', 'a']\n",
      "['a', 'b', 'c', 'd', 'e', 'f']\n"
     ]
    }
   ],
   "source": [
    "strings = ['a', 'b', 'c', 'd', 'e', 'f']\n",
    "strings.reverse() # in-place\n",
    "print(strings)\n",
    "\n",
    "strings = ['a', 'b', 'c', 'd', 'e', 'f']\n",
    "strs = strings[::-1] # reversed copy\n",
    "print(strs)\n",
    "print(strings)"
   ]
  },
  {
   "cell_type": "markdown",
   "metadata": {},
   "source": [
    "### Copy\n",
    "\n",
    "Create a shallow copy of a list"
   ]
  },
  {
   "cell_type": "code",
   "execution_count": 45,
   "metadata": {},
   "outputs": [
    {
     "name": "stdout",
     "output_type": "stream",
     "text": [
      "['a', 'b', 'c', 'd', 'e', 'f']\n",
      "['a', 'b', 'c', 'd', 'e', 'f', 9]\n"
     ]
    }
   ],
   "source": [
    "my_strings = strings.copy()\n",
    "my_strings.append(9)\n",
    "print(strings)\n",
    "print(my_strings)"
   ]
  },
  {
   "cell_type": "markdown",
   "metadata": {},
   "source": [
    "Alternatively - use `[:]`"
   ]
  },
  {
   "cell_type": "code",
   "execution_count": 46,
   "metadata": {},
   "outputs": [
    {
     "name": "stdout",
     "output_type": "stream",
     "text": [
      "['a', 'b', 'c', 'd', 'e', 'f', 9, 'e']\n",
      "['a', 'b', 'c', 'd', 'e', 'f', 9]\n"
     ]
    }
   ],
   "source": [
    "my_copy = my_strings[:]\n",
    "my_copy.append('e')\n",
    "print(my_copy)\n",
    "print(my_strings)"
   ]
  },
  {
   "cell_type": "markdown",
   "metadata": {},
   "source": [
    "OR - use the `list()` constructor"
   ]
  },
  {
   "cell_type": "code",
   "execution_count": 47,
   "metadata": {},
   "outputs": [
    {
     "name": "stdout",
     "output_type": "stream",
     "text": [
      "['a', 'b', 'c', 'd', 'e', 'f', 9]\n",
      "['a', 'b', 'c', 'd', 'e', 'f', 9, 11]\n"
     ]
    }
   ],
   "source": [
    "my_second_copy = list(my_strings)\n",
    "my_second_copy.append(11)\n",
    "print(my_strings)\n",
    "print(my_second_copy)"
   ]
  },
  {
   "cell_type": "markdown",
   "metadata": {},
   "source": [
    "## List Functions\n",
    "\n",
    "These a utility functions provided by the Python language"
   ]
  },
  {
   "cell_type": "markdown",
   "metadata": {},
   "source": [
    "### Del\n",
    "\n",
    "Removes the item(s) based on index\n",
    "\n",
    "- original list is mutated\n",
    "- remove multiple items in one go\n",
    "- Interpreter raises an `InvalidSyntax` error if you try to assign the result of `del()` to a variable.\n",
    "\n"
   ]
  },
  {
   "cell_type": "code",
   "execution_count": 48,
   "metadata": {},
   "outputs": [
    {
     "name": "stdout",
     "output_type": "stream",
     "text": [
      "['a', 'b', 'c', 'd', 'g', 'h']\n"
     ]
    }
   ],
   "source": [
    "lst = ['a', 'b', 'c', 'd', 'e', 'f', 'g', 'h']\n",
    "del(lst[-4:-2]) # upto but not including 'g' - same as lst[4:6]\n",
    "print(lst)"
   ]
  },
  {
   "cell_type": "code",
   "execution_count": 49,
   "metadata": {},
   "outputs": [
    {
     "name": "stdout",
     "output_type": "stream",
     "text": [
      "['a', 'c', 'd', 'e', 'f']\n",
      "['a', 'c', 'd']\n"
     ]
    }
   ],
   "source": [
    "strs = ['a', 'b', 'c', 'd', 'e', 'f']\n",
    "del(strs[1])\n",
    "print(strs)\n",
    "del(strs[3:])\n",
    "print(strs)"
   ]
  },
  {
   "cell_type": "markdown",
   "metadata": {},
   "source": [
    "### Sorted\n",
    "\n",
    "Unlike, `sort()`, it takes the list as an argument and returns a **new** list. The original is unchanged. Also. takes two **optional** arguments which must be specified as **keyword arguments**.\n",
    "\n",
    "- `key` - default is `None`. Specifies a function of one argument that is used to extract a comparison key from each element in the iterable .\n",
    "\n",
    "- `reverse` - default is `False`, sorts the elements in `Ascending` order."
   ]
  },
  {
   "cell_type": "code",
   "execution_count": 50,
   "metadata": {},
   "outputs": [
    {
     "data": {
      "text/plain": [
       "['Aardvark', 'Angel', 'Biff', 'Buffy', 'Gavin', 'Giles', 'Willow', 'Xander']"
      ]
     },
     "execution_count": 50,
     "metadata": {},
     "output_type": "execute_result"
    }
   ],
   "source": [
    "names_new = ['Aardvark','Xander', 'Biff', 'Buffy', 'Angel', 'Willow', 'Gavin', 'Giles']\n",
    "sorted(names_new)"
   ]
  },
  {
   "cell_type": "code",
   "execution_count": 51,
   "metadata": {},
   "outputs": [
    {
     "data": {
      "text/plain": [
       "['Xander', 'Willow', 'Giles', 'Gavin', 'Buffy', 'Biff', 'Angel', 'Aardvark']"
      ]
     },
     "execution_count": 51,
     "metadata": {},
     "output_type": "execute_result"
    }
   ],
   "source": [
    "sorted(names_new, reverse=True)"
   ]
  },
  {
   "cell_type": "code",
   "execution_count": 52,
   "metadata": {},
   "outputs": [
    {
     "data": {
      "text/plain": [
       "['Aardvark', 'Xander', 'Biff', 'Buffy', 'Angel', 'Willow', 'Gavin', 'Giles']"
      ]
     },
     "execution_count": 52,
     "metadata": {},
     "output_type": "execute_result"
    }
   ],
   "source": [
    "names_new"
   ]
  },
  {
   "cell_type": "markdown",
   "metadata": {},
   "source": [
    "### Zip\n",
    "\n",
    "Takes two or more lists, and combines these into a single zip object, the elements of which are tuples. Zip takes the first element from each list to create the first tuple, then takes the 2nd element from each list to create the 2nd tuple, and so on. Each tuple contains one element from each of the list inputs. This continues whilst each list has a value to contribute to the tuple, at which point the process stops.\n",
    "\n",
    "Where lists have different lengths, the resultant 'combined' list will contain as many elements as the length of the smallest list.\n",
    "\n",
    "The `zip()` function returns the reference to the zip object in memory, which can be converted to a list using `list()` function."
   ]
  },
  {
   "cell_type": "code",
   "execution_count": 53,
   "metadata": {},
   "outputs": [
    {
     "data": {
      "text/plain": [
       "[('Jenny', 'Elphonse'),\n",
       " ('Alexus', 'Dr. Doggy DDS'),\n",
       " ('Sam', 'Carter'),\n",
       " ('Grace', 'Ralph')]"
      ]
     },
     "execution_count": 53,
     "metadata": {},
     "output_type": "execute_result"
    }
   ],
   "source": [
    "names = ['Jenny', 'Alexus', 'Sam', 'Grace']\n",
    "dogs_names = ['Elphonse', 'Dr. Doggy DDS', 'Carter', 'Ralph']\n",
    "combined = zip(names, dogs_names)\n",
    "list(combined)"
   ]
  },
  {
   "cell_type": "code",
   "execution_count": 54,
   "metadata": {},
   "outputs": [
    {
     "data": {
      "text/plain": [
       "[('Jenny', 'Elphonse', 2),\n",
       " ('Alexus', 'Dr. Doggy DDS', 5),\n",
       " ('Sam', 'Carter', 7),\n",
       " ('Grace', 'Ralph', 8)]"
      ]
     },
     "execution_count": 54,
     "metadata": {},
     "output_type": "execute_result"
    }
   ],
   "source": [
    "ages = [2,5,7,8]\n",
    "combined = zip(names, dogs_names, ages)\n",
    "list(combined)"
   ]
  },
  {
   "cell_type": "code",
   "execution_count": 55,
   "metadata": {},
   "outputs": [
    {
     "data": {
      "text/plain": [
       "[('Jenny', 'Elphonse', 2, 'pit'), ('Alexus', 'Dr. Doggy DDS', 5, 'pug')]"
      ]
     },
     "execution_count": 55,
     "metadata": {},
     "output_type": "execute_result"
    }
   ],
   "source": [
    "# the length of the zip obeject reflects the length of the smallest input list\n",
    "breeds = ['pit', 'pug']\n",
    "combined = zip(names, dogs_names, ages, breeds)\n",
    "list(combined)"
   ]
  },
  {
   "cell_type": "code",
   "execution_count": 56,
   "metadata": {},
   "outputs": [
    {
     "data": {
      "text/plain": [
       "[]"
      ]
     },
     "execution_count": 56,
     "metadata": {},
     "output_type": "execute_result"
    }
   ],
   "source": [
    "addresses = []\n",
    "combined = zip(names, dogs_names, addresses)\n",
    "list(combined)"
   ]
  },
  {
   "cell_type": "code",
   "execution_count": 57,
   "metadata": {},
   "outputs": [
    {
     "data": {
      "text/plain": [
       "[('a', 1, 16), ('b', 2, 17), ('c', 3, 18)]"
      ]
     },
     "execution_count": 57,
     "metadata": {},
     "output_type": "execute_result"
    }
   ],
   "source": [
    "a, b, c = ['a', 'b', 'c', 'd'], [1,2,3,4,5,6,7,8,9,0], [16,17,18]\n",
    "lst = zip(a, b, c)\n",
    "list(lst)"
   ]
  },
  {
   "cell_type": "markdown",
   "metadata": {},
   "source": [
    "### Range\n",
    "\n",
    "We can create lists of consecutive numbers using the `range()` function, it returns a range object which can be converted to a list using `list()`.\n",
    "\n",
    "`range()` takes a single argument and generates a list  starting at 0, and going upto but not including the input number."
   ]
  },
  {
   "cell_type": "code",
   "execution_count": 58,
   "metadata": {},
   "outputs": [
    {
     "data": {
      "text/plain": [
       "[0, 1, 2, 3, 4, 5, 6, 7, 8, 9]"
      ]
     },
     "execution_count": 58,
     "metadata": {},
     "output_type": "execute_result"
    }
   ],
   "source": [
    "list(range(10))"
   ]
  },
  {
   "cell_type": "markdown",
   "metadata": {},
   "source": [
    "You can define the starting point by passing two arguments to `range()`"
   ]
  },
  {
   "cell_type": "code",
   "execution_count": 59,
   "metadata": {},
   "outputs": [
    {
     "data": {
      "text/plain": [
       "[3, 4, 5, 6, 7, 8, 9, 10, 11, 12, 13, 14, 15, 16, 17, 18, 19]"
      ]
     },
     "execution_count": 59,
     "metadata": {},
     "output_type": "execute_result"
    }
   ],
   "source": [
    "list(range(3, 20))"
   ]
  },
  {
   "cell_type": "markdown",
   "metadata": {},
   "source": [
    "By default, each number in the list will be greater than the previous by 1. By passing a 3rd argument, you can define the increment value, e.g. starting at 5, use an increment of 5:"
   ]
  },
  {
   "cell_type": "code",
   "execution_count": 60,
   "metadata": {
    "scrolled": true
   },
   "outputs": [
    {
     "data": {
      "text/plain": [
       "[5, 10, 15, 20]"
      ]
     },
     "execution_count": 60,
     "metadata": {},
     "output_type": "execute_result"
    }
   ],
   "source": [
    "list(range(5, 25, 5))"
   ]
  },
  {
   "cell_type": "markdown",
   "metadata": {},
   "source": [
    "General syntax(go up to, but not including the `end`:\n",
    "\n",
    "```py\n",
    "range(end)\n",
    "\n",
    "range(start, end)\n",
    "\n",
    "range(start, end, step)\n",
    "```"
   ]
  },
  {
   "cell_type": "markdown",
   "metadata": {},
   "source": [
    "### Min/Max\n",
    "\n",
    "Retern the value of the lowest/highest element. Can only be used with lists in which every element can be meaningfully compared to every other element in the list, i.e. a list of all strings or numbers."
   ]
  },
  {
   "cell_type": "markdown",
   "metadata": {},
   "source": [
    "### Length\n",
    "\n",
    "You can get the list length wiht the `len()` funciton. It takes one argument, the list, and returns the number of elements."
   ]
  },
  {
   "cell_type": "code",
   "execution_count": 1,
   "metadata": {},
   "outputs": [],
   "source": [
    "def same_values(lst1, lst2):\n",
    "  combined = list(zip(lst1, lst2))\n",
    "  print(combined)\n",
    "  result = []\n",
    "  i = 0\n",
    "  for elm in combined:\n",
    "    if elm[0] == elm[1]:\n",
    "      result.append(i)\n",
    "    i += 1\n",
    "  return result"
   ]
  },
  {
   "cell_type": "code",
   "execution_count": 2,
   "metadata": {},
   "outputs": [
    {
     "name": "stdout",
     "output_type": "stream",
     "text": [
      "[(1, 5), (2, 6), (3, 7), (4, 8), (5, 9)]\n"
     ]
    },
    {
     "data": {
      "text/plain": [
       "[]"
      ]
     },
     "execution_count": 2,
     "metadata": {},
     "output_type": "execute_result"
    }
   ],
   "source": [
    "same_values([1,2,3,4,5], [5,6,7,8,9])"
   ]
  },
  {
   "cell_type": "code",
   "execution_count": 3,
   "metadata": {},
   "outputs": [
    {
     "name": "stdout",
     "output_type": "stream",
     "text": [
      "[(5, 5), (1, 10), (-10, -10), (3, 3), (3, 5)]\n"
     ]
    },
    {
     "data": {
      "text/plain": [
       "[0, 2, 3]"
      ]
     },
     "execution_count": 3,
     "metadata": {},
     "output_type": "execute_result"
    }
   ],
   "source": [
    "same_values([5, 1, -10, 3, 3], [5, 10, -10, 3, 5])"
   ]
  },
  {
   "cell_type": "markdown",
   "metadata": {},
   "source": [
    "### Modifying list elements with a for loop"
   ]
  },
  {
   "cell_type": "code",
   "execution_count": 4,
   "metadata": {},
   "outputs": [
    {
     "data": {
      "text/plain": [
       "[1, 2, 3, 4, 5, 6, 7, 8]"
      ]
     },
     "execution_count": 4,
     "metadata": {},
     "output_type": "execute_result"
    }
   ],
   "source": [
    " # can't change the list like this\n",
    "lst = [1,2,3,4,5,6,7,8]\n",
    "for i in lst:\n",
    "    i = 0\n",
    "lst"
   ]
  },
  {
   "cell_type": "code",
   "execution_count": 5,
   "metadata": {},
   "outputs": [
    {
     "data": {
      "text/plain": [
       "[1, 4, 9, 16, 25, 36, 49, 64]"
      ]
     },
     "execution_count": 5,
     "metadata": {},
     "output_type": "execute_result"
    }
   ],
   "source": [
    "for i, v in enumerate(lst):\n",
    "    lst[i] = v ** 2\n",
    "lst"
   ]
  },
  {
   "cell_type": "markdown",
   "metadata": {},
   "source": [
    "## References\n",
    "\n",
    "[List Docs](https://docs.python.org/3/tutorial/datastructures.html)  \n"
   ]
  }
 ],
 "metadata": {
  "kernelspec": {
   "display_name": "Python 3",
   "language": "python",
   "name": "python3"
  },
  "language_info": {
   "codemirror_mode": {
    "name": "ipython",
    "version": 3
   },
   "file_extension": ".py",
   "mimetype": "text/x-python",
   "name": "python",
   "nbconvert_exporter": "python",
   "pygments_lexer": "ipython3",
   "version": "3.6.7"
  }
 },
 "nbformat": 4,
 "nbformat_minor": 2
}
