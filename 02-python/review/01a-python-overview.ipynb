{
 "cells": [
  {
   "cell_type": "markdown",
   "metadata": {},
   "source": [
    "# Python Overview"
   ]
  },
  {
   "cell_type": "markdown",
   "metadata": {},
   "source": [
    "## General"
   ]
  },
  {
   "cell_type": "markdown",
   "metadata": {},
   "source": [
    "### Summary\n",
    "\n",
    "* everything in Python is an object\n",
    "* built in objects are number(ints, floats and complex numbers), strings, lists, dictionaries, tuples, booleans, sets, program units(functions, classes and modules).\n",
    "* of the builtin/core types, numbers, strings, booleans and tuples are **immutable**.\n",
    "* when operations are chained. Python runs from left to right, inside out when operations are nested.\n",
    "* methods starting and ending in double underscore, e.g. `__add__`, represent the implementation of the object and are available to support customization. You should not call them directly.\n",
    "* when we lose the last reference to the object—by assigning its variable to something else, for example—all of the memory space occupied by that object’s structure is automatically cleaned up for us."
   ]
  },
  {
   "cell_type": "markdown",
   "metadata": {},
   "source": [
    "### Methods (built in)"
   ]
  },
  {
   "cell_type": "markdown",
   "metadata": {},
   "source": [
    "**dir**\n",
    "\n",
    "* returns the names of all variables in the caller's scope\n",
    "* returns the names of all the attributes available for any object passed to it."
   ]
  },
  {
   "cell_type": "markdown",
   "metadata": {},
   "source": [
    "**help**\n",
    "\n",
    "* returns the documentation of any object passed to it."
   ]
  },
  {
   "cell_type": "markdown",
   "metadata": {},
   "source": [
    "**sorted**\n",
    "\n",
    "* iterate over a dictionary in `key` order, e.g. `for key in sorted(<obj>):`"
   ]
  },
  {
   "cell_type": "markdown",
   "metadata": {},
   "source": [
    "**next**\n",
    "\n",
    "* returns the next value of an iterable object, until all returned, at which point a `StopIteration` error is raised."
   ]
  },
  {
   "cell_type": "markdown",
   "metadata": {},
   "source": [
    "## Strings"
   ]
  },
  {
   "cell_type": "markdown",
   "metadata": {},
   "source": [
    "### Summary"
   ]
  },
  {
   "cell_type": "markdown",
   "metadata": {},
   "source": []
  },
  {
   "cell_type": "markdown",
   "metadata": {},
   "source": [
    "### Methods"
   ]
  },
  {
   "cell_type": "markdown",
   "metadata": {},
   "source": [
    "**find**\n",
    "\n",
    "* substring search, returns the offset/index of the passed-in string, or `-1` if not present."
   ]
  },
  {
   "cell_type": "markdown",
   "metadata": {},
   "source": [
    "**replace**\n",
    "\n",
    "* find and replace, takes two args. The 1st is the substring to be found, 2nd is the substring to replace with.\n",
    "* replaces every instance.\n",
    "* returns new string.\n",
    "* returns origina; string if no match found."
   ]
  },
  {
   "cell_type": "markdown",
   "metadata": {},
   "source": [
    "##  Lists"
   ]
  },
  {
   "cell_type": "markdown",
   "metadata": {},
   "source": [
    "### Summary\n",
    "\n",
    "*  positionally ordered collections of arbitrarily typed    objects (no fixed type constraint, objects can be ints, floats, bools, dicts, other lists, etc).\n",
    "* no fixed size, can grow or shrink.\n",
    "* are **mutable**\n",
    "* as they're sequences, support all the sequence operations of strings, e.g. slicing.\n",
    "* Python raises an error when trying to reference an item that is not present., includes trying to assign items to he end of a list(use append method).\n",
    "* can be nested to any depth."
   ]
  },
  {
   "cell_type": "markdown",
   "metadata": {},
   "source": [
    "### Methods"
   ]
  },
  {
   "cell_type": "markdown",
   "metadata": {},
   "source": [
    "**pop**\n",
    "\n",
    "* removes the item given an offset(index)\n",
    "* removes last item if NO arg provided\n",
    "* acts **inplace**, retuens the item."
   ]
  },
  {
   "cell_type": "markdown",
   "metadata": {},
   "source": [
    "## Numbers"
   ]
  },
  {
   "cell_type": "markdown",
   "metadata": {},
   "source": [
    "### Summary"
   ]
  },
  {
   "cell_type": "markdown",
   "metadata": {},
   "source": []
  },
  {
   "cell_type": "markdown",
   "metadata": {},
   "source": [
    "### Methods"
   ]
  },
  {
   "cell_type": "markdown",
   "metadata": {},
   "source": []
  },
  {
   "cell_type": "markdown",
   "metadata": {},
   "source": [
    "## Tuples"
   ]
  },
  {
   "cell_type": "markdown",
   "metadata": {},
   "source": [
    "### Summary"
   ]
  },
  {
   "cell_type": "markdown",
   "metadata": {},
   "source": [
    "* tuples are **immutable** sequences of items,  they’re used to represent fixed collections of items.\n",
    "* they support mixed types and nesting.\n",
    "* convert a list to a tuple, pass the list to `tuple()`. Convert it back to a list by passing it to `list()`."
   ]
  },
  {
   "cell_type": "markdown",
   "metadata": {},
   "source": [
    "### Methods"
   ]
  },
  {
   "cell_type": "markdown",
   "metadata": {},
   "source": []
  },
  {
   "cell_type": "markdown",
   "metadata": {},
   "source": [
    "## List comprehensions\n",
    "\n",
    "* they are a way to build a new list by running an expression on each item in a sequence, one at a time, from left to right.\n",
    "*  iterate over any iterable object.\n",
    "* they are coded in square brackets and are composed of an      expression and a looping construct.\n",
    "* enclosing a comprehension in parentheses, e.g. `(x * 2 for x in range(10)`, can also be used to create generators - produce results on demand by calling `next()`."
   ]
  },
  {
   "cell_type": "markdown",
   "metadata": {},
   "source": [
    "## Dictionaries\n",
    "\n",
    "* are mappings, they're a collection of objects stored by `key` instead of relative position as in a list - they map keys to associated values.\n",
    "* they're **mutable**, can grow or shrink on demand.\n",
    "* dictionaries are coded in curly braces and consist of a series of “key: value” pairs.\n",
    "* we can assign non-existant keys, trying to access a non-existant key raises an error, use `if/else`, or `get`, e.g. `<obj>.get(<key>, 'not found')`.\n",
    "* do not maintain a dependable left-to-right order, keys can come back in an order different to that entered.\n",
    "* to get an order, `list(<obj>.keys())`, sort the list, then iterate over the list, grabbing the `value` for each `key` in turn. With Python 3, use the builtin `sorted` function to do this in on step."
   ]
  },
  {
   "cell_type": "markdown",
   "metadata": {},
   "source": [
    "## Iterable objects\n",
    "\n",
    "* an object is iterable if it is either a physically stored sequence in memory, or an object that generates one item at a time in the context of an iteration operation. Such objects, e.g. strings, lists, tuples, dicts, generator object all posses `__iter__` method. Generator objects also respond to the `next()` function, allowing it to retrun items, one at a time, on demand.\n",
    "* file objects similarly iterate line by line when used by an iteration tool"
   ]
  },
  {
   "cell_type": "markdown",
   "metadata": {},
   "source": [
    "## File Objects\n",
    "\n",
    "* Python's interface to external files.\n",
    "* can be used to read, write to files.\n",
    "* to create a file object, you call the built-in `open` function, passing in an external filename and an optional processing mode as strings, e.g. `open('path/data.txt', 'r')`.\n",
    "* a file’s contents are always a string in your script, regardless of the type of data the file contains."
   ]
  },
  {
   "cell_type": "markdown",
   "metadata": {},
   "source": [
    "## Sets\n",
    "\n",
    "* are unordered collections of unique and immutable objects, e.g. a set can not contain dicts or lists.\n",
    "* set are **mutable**(you can add and remove items), it's items are NOT.\n",
    "* you canvert a list of immutable items into a set, pass it to `set()`, convert it back to a list by passing it to `list()`.\n",
    "* if you pass a dictionary to `set()`, the values are lost, creates a set of only the keys.\n",
    "* created by calling the built-in `set` function or using the set literal, `{}`, e.g. `{1,2,3,4}`. `set()` only takes one argument.\n",
    "* often used to filter out duplicates."
   ]
  }
 ],
 "metadata": {
  "kernelspec": {
   "display_name": "Python 3",
   "language": "python",
   "name": "python3"
  },
  "language_info": {
   "codemirror_mode": {
    "name": "ipython",
    "version": 3
   },
   "file_extension": ".py",
   "mimetype": "text/x-python",
   "name": "python",
   "nbconvert_exporter": "python",
   "pygments_lexer": "ipython3",
   "version": "3.6.7"
  }
 },
 "nbformat": 4,
 "nbformat_minor": 2
}
