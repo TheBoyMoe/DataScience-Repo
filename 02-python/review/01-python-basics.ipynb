{
 "cells": [
  {
   "cell_type": "markdown",
   "metadata": {},
   "source": [
    "# Python Basics"
   ]
  },
  {
   "cell_type": "markdown",
   "metadata": {},
   "source": [
    "### Python Types\n",
    "\n",
    "Everything in Python is an object.\n",
    "\n",
    "Different types:\n",
    "\n",
    "- Numbers - integers, floats and complex numbers(have an imaginary aprt)\n",
    "- Strings\n",
    "- Booleans\n",
    "- Collections - Lists, Sets, Tuples, Dictionaries\n",
    "- Functions\n",
    "- Classes\n",
    "\n",
    "Strings, numbers and tupples are **immutable**(they cannot be changed/overwritten), all you can do is create a new one and assign it to the same name(variable).\n",
    "\n",
    "You can use the `dir([object])` method to find **ALL** the methods and attributes assigned to that object.\n",
    "\n",
    "- the names without the underscores in this list are the callable methods on string objects.\n",
    "- the names with the double underscores represent the implementation of the string      object and are available to support customization via method overloading - allow you to customize the object.\n",
    "\n",
    "To find out what a method does, use the `help()` method."
   ]
  },
  {
   "cell_type": "code",
   "execution_count": 12,
   "metadata": {},
   "outputs": [
    {
     "name": "stdout",
     "output_type": "stream",
     "text": [
      "Help on built-in function replace:\n",
      "\n",
      "replace(...) method of builtins.str instance\n",
      "    S.replace(old, new[, count]) -> str\n",
      "    \n",
      "    Return a copy of S with all occurrences of substring\n",
      "    old replaced by new.  If the optional argument count is\n",
      "    given, only the first count occurrences are replaced.\n",
      "\n"
     ]
    }
   ],
   "source": [
    "help('s'.replace)"
   ]
  },
  {
   "cell_type": "markdown",
   "metadata": {},
   "source": [
    "**Lists**\n",
    "\n",
    "Lists store items by their relative position, are postionally ordered(the sequence in which they're accessed depends upon their position in the sequence).\n",
    "\n",
    "- are mutable(most list methods change the list **in-place**\n",
    "- have NO fixed size(grow and shrink on demand - remove items from the middle, items to the right 'scoot' across - the list shrinks)\n",
    "- the items can have any type\n",
    "- can be nested in any combination, to any depth."
   ]
  },
  {
   "cell_type": "markdown",
   "metadata": {},
   "source": [
    "**Dictionaries**\n",
    "\n",
    "Store objects based on a `key`, order is **not** maintained. \n",
    "\n",
    "- map keys to associated values.\n",
    "- are mutable(grow and shrink on demand)\n",
    "- the associated values can be of any data type."
   ]
  },
  {
   "cell_type": "code",
   "execution_count": 29,
   "metadata": {},
   "outputs": [
    {
     "data": {
      "text/plain": [
       "{1, 'hello'}"
      ]
     },
     "execution_count": 29,
     "metadata": {},
     "output_type": "execute_result"
    }
   ],
   "source": [
    "# you can use multiple objects when using set literals, \n",
    "# they must also be hashable type - immutable\n",
    "{1, 'hello'}"
   ]
  },
  {
   "cell_type": "markdown",
   "metadata": {},
   "source": [
    "**Once all references to a particular object are removed, th object is removed(garbage collected) immeadiately.**"
   ]
  },
  {
   "cell_type": "markdown",
   "metadata": {},
   "source": [
    "### Comments\n",
    "\n",
    "Single line comments use '#'. Alnthough `''' '''`  and `\"\"\" \"\"\"` are often used as multiline comments, they are actually multiline strings."
   ]
  },
  {
   "cell_type": "markdown",
   "metadata": {},
   "source": [
    "### Variables\n",
    "\n",
    "Must NOT begin with numbers(numbers else where are fine)\n",
    "\n",
    "CANNOT have SPACES or SYMBOLS in their names\n",
    "\n",
    "Follow 'snake_case' format, using underscores, '_' to separate words\n",
    "\n",
    "Variables don't have types, only the objects to which the variable refer to do. They thus appear dynamically typed, can be reasigned, and there is no need for a keyword data type as in some languages. The type of the objects themselves are not checked for syntax errors, until the statement is actually run.\n",
    "\n",
    "The variable itself has no type.\n",
    "\n",
    "For a variable to be recognized:\n",
    "\n",
    "- it must already exist because of an earlier assignment.\n",
    "- it is created by assigning it a value\n",
    "- the variable exists because it represents a value passed to the function as an argument.\n",
    "\n",
    "**ALL** variables in Python are names that reference an object. When an object no longer has any variables referencing it, it is **garbage collected** - freeing up the objects memory.\n",
    "\n",
    "Variables are NEVER declared ahead of time, they're created at the time the value is assigned. Since we're not pre-declaring variables, you must have assigned them a value, at least once before using them, otherwise raises a `NameError`.\n",
    "\n",
    "A variable never has any type information or constraints associated with it. A variable can thus reference any type. Python is thus refered to as a **dynamically typed** language. Dynamic typing is the basis of Python's **Polymorphism**.\n",
    "\n",
    "In Python variables are **always** references(pointers) to objects. So setting a variable to a new value does not alter the original object, but rather causes the variable to reference an entirely different object.\n",
    "\n",
    "To check if two variables reference the **same** object use `is`."
   ]
  },
  {
   "cell_type": "code",
   "execution_count": 1,
   "metadata": {},
   "outputs": [
    {
     "name": "stdout",
     "output_type": "stream",
     "text": [
      "True\n",
      "False\n",
      "False\n",
      "True\n"
     ]
    }
   ],
   "source": [
    "a = [1,2,3,4]\n",
    "b = [1,2,3,4]\n",
    "c = b\n",
    "print(a == b)\n",
    "print(a is b)\n",
    "print(a is c)\n",
    "print(b is c)"
   ]
  },
  {
   "cell_type": "code",
   "execution_count": 15,
   "metadata": {},
   "outputs": [
    {
     "name": "stdout",
     "output_type": "stream",
     "text": [
      "4\n"
     ]
    }
   ],
   "source": [
    "string = 'ee'\n",
    "string = 4\n",
    "print(string)"
   ]
  },
  {
   "cell_type": "markdown",
   "metadata": {},
   "source": [
    "### Data Types & Operators\n",
    "\n",
    "Python supports FOUR primitive data types: `int`, `float`, `boolean`, `string`."
   ]
  },
  {
   "cell_type": "markdown",
   "metadata": {},
   "source": [
    "You can define strings using single `''` or double `\"\"` quotes. You can define strings that span multiple lines using `''' '''` and `\"\"\" \"\"\"`. You will raise a `TypeError` if trying to define a multiline string with single or double quotes."
   ]
  },
  {
   "cell_type": "code",
   "execution_count": 33,
   "metadata": {},
   "outputs": [
    {
     "name": "stdout",
     "output_type": "stream",
     "text": [
      "\n",
      "multi line string\n",
      "\n",
      "with even more stuff,\n",
      "and more stuff.\n",
      "\n"
     ]
    }
   ],
   "source": [
    "my_string = \"\"\"\n",
    "multi line string\n",
    "\"\"\"\n",
    "\n",
    "my_string += '''\n",
    "with even more stuff,\n",
    "and more stuff.\n",
    "'''\n",
    "print(my_string)"
   ]
  },
  {
   "cell_type": "markdown",
   "metadata": {},
   "source": [
    "This method is useful if the string being defined contains a lot of quotation marks and we want to be sure we don't close it prematurely."
   ]
  },
  {
   "cell_type": "markdown",
   "metadata": {},
   "source": [
    "Python supports `+`, `-`,`/`, `*`, `%`, `+=`, `-=`, `*=`, `/=` operators and **PRESEDENCE**"
   ]
  },
  {
   "cell_type": "markdown",
   "metadata": {},
   "source": [
    "Python can perform exponation, where the base number `b` is raised to the `n`th power - `b` is repeatedly multipled by itself `n` times. Pythoon uses the `**` operator."
   ]
  },
  {
   "cell_type": "code",
   "execution_count": 24,
   "metadata": {},
   "outputs": [
    {
     "data": {
      "text/plain": [
       "25"
      ]
     },
     "execution_count": 24,
     "metadata": {},
     "output_type": "execute_result"
    }
   ],
   "source": [
    "var = 5\n",
    "var ** 2"
   ]
  },
  {
   "cell_type": "markdown",
   "metadata": {},
   "source": [
    "String concatenation using `+` or `+=` operators returns a new string"
   ]
  },
  {
   "cell_type": "markdown",
   "metadata": {},
   "source": [
    "**Coercion** NOT supported, e.g. you CANNOT add a `string` and an `int`, raises a `TypeError`"
   ]
  },
  {
   "cell_type": "code",
   "execution_count": 31,
   "metadata": {},
   "outputs": [
    {
     "name": "stdout",
     "output_type": "stream",
     "text": [
      "Unsupported oeration\n"
     ]
    }
   ],
   "source": [
    "try:\n",
    "    2 + 'ee'\n",
    "except TypeError:\n",
    "    print('Unsupported oeration')"
   ]
  },
  {
   "cell_type": "markdown",
   "metadata": {},
   "source": [
    "You can use the `*` operator with strings and numbers"
   ]
  },
  {
   "cell_type": "code",
   "execution_count": 32,
   "metadata": {},
   "outputs": [
    {
     "data": {
      "text/plain": [
       "'aaaaaa'"
      ]
     },
     "execution_count": 32,
     "metadata": {},
     "output_type": "execute_result"
    }
   ],
   "source": [
    "3 * 'aa'"
   ]
  },
  {
   "cell_type": "code",
   "execution_count": 33,
   "metadata": {},
   "outputs": [
    {
     "data": {
      "text/plain": [
       "'a b ca b ca b c'"
      ]
     },
     "execution_count": 33,
     "metadata": {},
     "output_type": "execute_result"
    }
   ],
   "source": [
    "'a b c' * 3"
   ]
  },
  {
   "cell_type": "markdown",
   "metadata": {},
   "source": [
    "Use the `str()` function to convert a number to a string and concatenate it with another string"
   ]
  },
  {
   "cell_type": "code",
   "execution_count": 20,
   "metadata": {},
   "outputs": [
    {
     "data": {
      "text/plain": [
       "'2ee'"
      ]
     },
     "execution_count": 20,
     "metadata": {},
     "output_type": "execute_result"
    }
   ],
   "source": [
    "# concatenate a number and string\n",
    "str(2) + 'ee'"
   ]
  },
  {
   "cell_type": "markdown",
   "metadata": {},
   "source": [
    "You can concatenate lists and strings. You **CANNNOT** concatenate dictionaries, raises `TypeError`.\n",
    "\n",
    "NOTE: \n",
    "\n",
    "You can **ONLY** concatenate items of the same datatype, i.e. strings with strinsg, lists with lists, etc. You can't mix and match -  raises a `TypeError`.\n",
    "\n",
    "Your **ALWAYS** returning a **NEW** string or list."
   ]
  },
  {
   "cell_type": "code",
   "execution_count": 1,
   "metadata": {},
   "outputs": [
    {
     "data": {
      "text/plain": [
       "[1, 2, 3, 4, 3, 3, 4, 5]"
      ]
     },
     "execution_count": 1,
     "metadata": {},
     "output_type": "execute_result"
    }
   ],
   "source": [
    "a = [1,2,3,4]\n",
    "a + [3,3,4,5]"
   ]
  },
  {
   "cell_type": "code",
   "execution_count": 2,
   "metadata": {},
   "outputs": [
    {
     "data": {
      "text/plain": [
       "[1, 2, 3, 4]"
      ]
     },
     "execution_count": 2,
     "metadata": {},
     "output_type": "execute_result"
    }
   ],
   "source": [
    "a"
   ]
  },
  {
   "cell_type": "code",
   "execution_count": 3,
   "metadata": {},
   "outputs": [],
   "source": [
    "a += [2,4,6,7,8,'324']"
   ]
  },
  {
   "cell_type": "code",
   "execution_count": 4,
   "metadata": {},
   "outputs": [
    {
     "data": {
      "text/plain": [
       "[1, 2, 3, 4, 2, 4, 6, 7, 8, '324']"
      ]
     },
     "execution_count": 4,
     "metadata": {},
     "output_type": "execute_result"
    }
   ],
   "source": [
    "a"
   ]
  },
  {
   "cell_type": "code",
   "execution_count": 35,
   "metadata": {},
   "outputs": [
    {
     "name": "stdout",
     "output_type": "stream",
     "text": [
      "Unsupported operation\n"
     ]
    }
   ],
   "source": [
    "b = {'w': 23, 'r': 3}\n",
    "try:\n",
    "    b + {'t': 44}\n",
    "except TypeError:\n",
    "    print('Unsupported operation')"
   ]
  },
  {
   "cell_type": "markdown",
   "metadata": {},
   "source": [
    "### is vs ==\n",
    "\n",
    "The `is` operator, tests for object identity - it returns `True` only if both names point to the exact same object, i.e. it compares the pointers. It returns `False` if the names point to equivalent but different objects\n",
    "\n",
    "The `==` operator tests if both object have the same values, i.e. compares the objects."
   ]
  },
  {
   "cell_type": "code",
   "execution_count": 3,
   "metadata": {},
   "outputs": [
    {
     "name": "stdout",
     "output_type": "stream",
     "text": [
      "True\n",
      "False\n",
      "True\n"
     ]
    }
   ],
   "source": [
    "a = {'a':2, 'b':3, 'c':4}\n",
    "b = {'a':2, 'b':3, 'c':4}\n",
    "c = a\n",
    "print(a == b)\n",
    "print(a is b)\n",
    "print(a is c)"
   ]
  },
  {
   "cell_type": "markdown",
   "metadata": {},
   "source": [
    "This is not the case with small integers and strings. To improve performance, these are cached and reused."
   ]
  },
  {
   "cell_type": "code",
   "execution_count": 4,
   "metadata": {},
   "outputs": [
    {
     "name": "stdout",
     "output_type": "stream",
     "text": [
      "True\n",
      "True\n"
     ]
    }
   ],
   "source": [
    "d = 42\n",
    "e = 42\n",
    "print(d == e)\n",
    "print(d is e)"
   ]
  },
  {
   "cell_type": "code",
   "execution_count": 5,
   "metadata": {},
   "outputs": [
    {
     "name": "stdout",
     "output_type": "stream",
     "text": [
      "True\n",
      "False\n"
     ]
    }
   ],
   "source": [
    "googl_1 = 10 ** 100\n",
    "googl_2 = 10 ** 100\n",
    "print(googl_1 == googl_2)\n",
    "print(googl_1 is googl_2)"
   ]
  }
 ],
 "metadata": {
  "kernelspec": {
   "display_name": "Python 3",
   "language": "python",
   "name": "python3"
  },
  "language_info": {
   "codemirror_mode": {
    "name": "ipython",
    "version": 3
   },
   "file_extension": ".py",
   "mimetype": "text/x-python",
   "name": "python",
   "nbconvert_exporter": "python",
   "pygments_lexer": "ipython3",
   "version": "3.6.7"
  }
 },
 "nbformat": 4,
 "nbformat_minor": 2
}
