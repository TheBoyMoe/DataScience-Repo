{
 "cells": [
  {
   "cell_type": "markdown",
   "metadata": {},
   "source": [
    "# Dictionaries\n",
    "\n",
    "A dictionary is an **unordered** collection of **key:value** pairs, separated by commas and enclosed in a set of `{}`. A dictionary can be empty, simply a set of `{}`.\n",
    "\n",
    "Dictionaries provide a way to **map** pieces of data to one another, enabling values to be quickly found.\n",
    "\n",
    " - Keys can any immutable type, e.g. **strings**, **numbers** or **booleans**`\n",
    " \n",
    " - they have to be **unique**, latter duplicate keys will overwrite earlier ones\n",
    " \n",
    " - values can by **any data type**, string, integer, float, boolean, list, tuple, dictionary, etc\n",
    " \n",
    " - the **order** is not guaranteed\n",
    " \n",
    " \n",
    "NOTE:\n",
    "\n",
    "Keys can ONLY be data types that are **hashable** - values that are **immutable**, i.e. strings, numbers and booleans. Lists and dictionaries are **mutable** data types and so are **unhashable**. The interpreter will raise a `TypeError` exception - `unhashable type` if you try.\n",
    "\n",
    "Dictionaries in Python rely on each key having a hash value, a specific identifier for the key. If the key can change, that hash value would not be reliable."
   ]
  },
  {
   "cell_type": "code",
   "execution_count": 1,
   "metadata": {},
   "outputs": [
    {
     "data": {
      "text/plain": [
       "{'str': 'new value', 2: 3, 2.3: 'value', 3: 5}"
      ]
     },
     "execution_count": 1,
     "metadata": {},
     "output_type": "execute_result"
    }
   ],
   "source": [
    "{'str': 3, 2: 'value', 2.3: 'value', 3: 5, 2: 3, 'str': 'new value'}"
   ]
  },
  {
   "cell_type": "code",
   "execution_count": 2,
   "metadata": {},
   "outputs": [
    {
     "data": {
      "text/plain": [
       "{'a': [1, 2, 3, 4, 5],\n",
       " 'b': (2, 4, 6, 7),\n",
       " 4: True,\n",
       " 9.8: {'a': 3, 'b': 4},\n",
       " True: False}"
      ]
     },
     "execution_count": 2,
     "metadata": {},
     "output_type": "execute_result"
    }
   ],
   "source": [
    "{'a': [1,2,3,4,5], 'b': (2,4,6,7), 4: True, 9.8: {'a': 3, 'b': 4}, True: False}"
   ]
  },
  {
   "cell_type": "markdown",
   "metadata": {},
   "source": [
    "We can create a dictionary using the `dict()` function, simply passing it a series of comma separated keyword arguments(`name=value`) pairs. **Note** the use of the `=` sign instead of a `:`."
   ]
  },
  {
   "cell_type": "code",
   "execution_count": 12,
   "metadata": {},
   "outputs": [
    {
     "data": {
      "text/plain": [
       "{'tom': 'to jones', 'bob': 'bob jones', 'harry': 'harry'}"
      ]
     },
     "execution_count": 12,
     "metadata": {},
     "output_type": "execute_result"
    }
   ],
   "source": [
    "dict(tom='to jones', bob='bob jones', harry='harry')"
   ]
  },
  {
   "cell_type": "markdown",
   "metadata": {},
   "source": [
    "## Add a Key"
   ]
  },
  {
   "cell_type": "markdown",
   "metadata": {},
   "source": [
    "To add a new **key:value pair**, use the following syntax:\n",
    "\n",
    "```py\n",
    "my_dic['new_key'] = 'new_value'\n",
    "```\n",
    "To add multiple keys, use the `.update()`, passing it a dictionary of **key:value** pairs    "
   ]
  },
  {
   "cell_type": "code",
   "execution_count": 3,
   "metadata": {},
   "outputs": [
    {
     "data": {
      "text/plain": [
       "{'living room': 21,\n",
       " 'kitchen': 23,\n",
       " 'bedroom': 20,\n",
       " 'pantry': 22,\n",
       " 'guest room': 25,\n",
       " 'patio': 34}"
      ]
     },
     "execution_count": 3,
     "metadata": {},
     "output_type": "execute_result"
    }
   ],
   "source": [
    "sensors =  {\"living room\": 21, \"kitchen\": 23, \"bedroom\": 20}\n",
    "sensors.update({\"pantry\": 22, \"guest room\": 25, \"patio\": 34})\n",
    "sensors"
   ]
  },
  {
   "cell_type": "markdown",
   "metadata": {},
   "source": [
    "Whether adding single, or multiple **key:value** pairs, if that particular **key** already exists, it's value will be overwritten with the new value"
   ]
  },
  {
   "cell_type": "code",
   "execution_count": 4,
   "metadata": {},
   "outputs": [
    {
     "data": {
      "text/plain": [
       "{'living room': 21,\n",
       " 'kitchen': 17,\n",
       " 'bedroom': 20,\n",
       " 'pantry': 22,\n",
       " 'guest room': 18,\n",
       " 'patio': 34,\n",
       " 'garage': 16}"
      ]
     },
     "execution_count": 4,
     "metadata": {},
     "output_type": "execute_result"
    }
   ],
   "source": [
    "sensors.update({'guest room': 18, 'kitchen': 17, 'garage': 16})\n",
    "sensors"
   ]
  },
  {
   "cell_type": "markdown",
   "metadata": {},
   "source": [
    "### Combine Two Lists into a Dictionary\n",
    "\n",
    "We can combine two lists into a dictionary using a `list comprehension` using the following syntax:\n",
    "\n",
    "```py\n",
    "my_dic = {key:value for key, value in zip(list_of_keys, list_of_values)}\n",
    "```\n",
    "The values of the first list become the dictionary keys, the values of the 2nd list become the dictionaries values."
   ]
  },
  {
   "cell_type": "code",
   "execution_count": 5,
   "metadata": {},
   "outputs": [
    {
     "data": {
      "text/plain": [
       "{'Jenny': 61, 'Alexus': 70, 'Sam': 67, 'Grace': 64}"
      ]
     },
     "execution_count": 5,
     "metadata": {},
     "output_type": "execute_result"
    }
   ],
   "source": [
    "names = ['Jenny', 'Alexus', 'Sam', 'Grace']\n",
    "heights = [61, 70, 67, 64]\n",
    "{name:height for name, height in zip(names, heights)}"
   ]
  },
  {
   "cell_type": "code",
   "execution_count": 6,
   "metadata": {},
   "outputs": [
    {
     "data": {
      "text/plain": [
       "{'espresso': 64, 'chai': 40, 'decaf': 0, 'drip': 120}"
      ]
     },
     "execution_count": 6,
     "metadata": {},
     "output_type": "execute_result"
    }
   ],
   "source": [
    "drinks = [\"espresso\", \"chai\", \"decaf\", \"drip\"]\n",
    "caffeine = [64, 40, 0, 120]\n",
    "zipped_drinks = zip(drinks, caffeine)\n",
    "{drink:caffeine for drink, caffeine in zipped_drinks}"
   ]
  },
  {
   "cell_type": "markdown",
   "metadata": {},
   "source": [
    "An alternative is to pass the zipped object to the `dict()` function"
   ]
  },
  {
   "cell_type": "code",
   "execution_count": 13,
   "metadata": {},
   "outputs": [
    {
     "data": {
      "text/plain": [
       "{'espresso': 64, 'chai': 40, 'decaf': 0, 'drip': 120}"
      ]
     },
     "execution_count": 13,
     "metadata": {},
     "output_type": "execute_result"
    }
   ],
   "source": [
    "drinks = [\"espresso\", \"chai\", \"decaf\", \"drip\"]\n",
    "caffeine = [64, 40, 0, 120]\n",
    "dict(zip(drinks, caffeine))"
   ]
  },
  {
   "cell_type": "markdown",
   "metadata": {},
   "source": [
    "## Get A Key\n",
    "\n",
    "To access a key's value, use the following syntax:\n",
    "\n",
    "```py\n",
    "my_dic[key]\n",
    "```"
   ]
  },
  {
   "cell_type": "code",
   "execution_count": 32,
   "metadata": {},
   "outputs": [
    {
     "data": {
      "text/plain": [
       "[1, 2, 3, 4, 5]"
      ]
     },
     "execution_count": 32,
     "metadata": {},
     "output_type": "execute_result"
    }
   ],
   "source": [
    "map = {'a': [1,2,3,4,5], 'b': (2,4,6,7), 4: True, 9.8: {'a': 3, 'b': 4}, True: [3,4,5,6]}\n",
    "map['a']"
   ]
  },
  {
   "cell_type": "code",
   "execution_count": 33,
   "metadata": {},
   "outputs": [
    {
     "data": {
      "text/plain": [
       "{'a': 3, 'b': 4}"
      ]
     },
     "execution_count": 33,
     "metadata": {},
     "output_type": "execute_result"
    }
   ],
   "source": [
    "map[9.8]"
   ]
  },
  {
   "cell_type": "code",
   "execution_count": 37,
   "metadata": {},
   "outputs": [
    {
     "data": {
      "text/plain": [
       "[3, 4, 5, 6]"
      ]
     },
     "execution_count": 37,
     "metadata": {},
     "output_type": "execute_result"
    }
   ],
   "source": [
    "map[True]"
   ]
  },
  {
   "cell_type": "markdown",
   "metadata": {},
   "source": [
    "If the **key** does **not exist/found**, `KeyError` raised. One way to avoid this is to first check if the key exists in the dictionary using `in`. It returns `True` if the key is found(it does NOT return the value), `False` otherwise."
   ]
  },
  {
   "cell_type": "code",
   "execution_count": 38,
   "metadata": {},
   "outputs": [
    {
     "name": "stdout",
     "output_type": "stream",
     "text": [
      "Key not found\n"
     ]
    }
   ],
   "source": [
    "drinks = {'espresso': 64, 'chai': 40, 'decaf': 0, 'drip': 120}\n",
    "\n",
    "# check for 'containment' using 'in' - as with strings/lists returns 'boolean'\n",
    "if 'mocha' in drinks:\n",
    "    print(drinks['mocha'])\n",
    "else:\n",
    "    print('Key not found')"
   ]
  },
  {
   "cell_type": "markdown",
   "metadata": {},
   "source": [
    "We could also use a `try except` block:"
   ]
  },
  {
   "cell_type": "code",
   "execution_count": 39,
   "metadata": {},
   "outputs": [
    {
     "name": "stdout",
     "output_type": "stream",
     "text": [
      "Key not found\n"
     ]
    }
   ],
   "source": [
    "try:\n",
    "    print(drinks['mocha'])\n",
    "except KeyError:\n",
    "    print('Key not found')"
   ]
  },
  {
   "cell_type": "markdown",
   "metadata": {},
   "source": [
    "This particular technique of retriving key is problematic since we don't know what key a user may try and retrieve. A better way is to use the `.get()` method. Call `.get()` on the dictionary passing it the key of interest as an argument. `None` is returned if the key does not exist."
   ]
  },
  {
   "cell_type": "code",
   "execution_count": 40,
   "metadata": {},
   "outputs": [
    {
     "name": "stdout",
     "output_type": "stream",
     "text": [
      "None\n"
     ]
    }
   ],
   "source": [
    "print(drinks.get('mocha'))"
   ]
  },
  {
   "cell_type": "markdown",
   "metadata": {},
   "source": [
    "We can also specify a default value, as a 2nd argument, if the key does not exist."
   ]
  },
  {
   "cell_type": "code",
   "execution_count": 41,
   "metadata": {},
   "outputs": [
    {
     "name": "stdout",
     "output_type": "stream",
     "text": [
      "Key not found!\n"
     ]
    }
   ],
   "source": [
    "print(drinks.get('mocha', 'Key not found!'))"
   ]
  },
  {
   "cell_type": "markdown",
   "metadata": {},
   "source": [
    "## Delete a Key\n",
    " \n",
    "To remove a key from a dictionary use the `.pop()` method, passing it the `key` as an argument and returning the `value`. You can optionally provide a default value if the key does not exist. `.pop()` raises the `KeyError` if the value does not exist."
   ]
  },
  {
   "cell_type": "code",
   "execution_count": 42,
   "metadata": {},
   "outputs": [
    {
     "data": {
      "text/plain": [
       "120"
      ]
     },
     "execution_count": 42,
     "metadata": {},
     "output_type": "execute_result"
    }
   ],
   "source": [
    "drinks = {'espresso': 64, 'chai': 40, 'decaf': 0, 'drip': 120}\n",
    "removed = drinks.pop('drip')\n",
    "removed"
   ]
  },
  {
   "cell_type": "code",
   "execution_count": 47,
   "metadata": {},
   "outputs": [
    {
     "data": {
      "text/plain": [
       "'Key not found'"
      ]
     },
     "execution_count": 47,
     "metadata": {},
     "output_type": "execute_result"
    }
   ],
   "source": [
    "drinks.pop('drip', 'Key not found')"
   ]
  },
  {
   "cell_type": "code",
   "execution_count": 45,
   "metadata": {},
   "outputs": [
    {
     "name": "stdout",
     "output_type": "stream",
     "text": [
      "None\n"
     ]
    }
   ],
   "source": [
    "print(drinks.get('drip'))"
   ]
  },
  {
   "cell_type": "code",
   "execution_count": 49,
   "metadata": {},
   "outputs": [
    {
     "data": {
      "text/plain": [
       "'Key not found'"
      ]
     },
     "execution_count": 49,
     "metadata": {},
     "output_type": "execute_result"
    }
   ],
   "source": [
    "drinks.get('drip', 'Key not found')"
   ]
  },
  {
   "cell_type": "code",
   "execution_count": 50,
   "metadata": {},
   "outputs": [
    {
     "data": {
      "text/plain": [
       "65"
      ]
     },
     "execution_count": 50,
     "metadata": {},
     "output_type": "execute_result"
    }
   ],
   "source": [
    "available_items = {\"health potion\": 10, \"cake of the cure\": 5, \"green elixir\": 20, \"strength sandwich\": 25, \"stamina grains\": 15, \"power stew\": 30}\n",
    "health_points = 20\n",
    "health_points += available_items.pop('stamina grains', 0)\n",
    "health_points += available_items.pop('power stew', 0)\n",
    "health_points += available_items.pop('mystic bread', 0)\n",
    "health_points"
   ]
  },
  {
   "cell_type": "markdown",
   "metadata": {},
   "source": [
    "An **alternative** is to use `del()`, passing the `key` as the sole argument. The interpreter raises the `KeyError` if the `key` does not exist."
   ]
  },
  {
   "cell_type": "code",
   "execution_count": 51,
   "metadata": {},
   "outputs": [
    {
     "data": {
      "text/plain": [
       "{'a': 1, 'b': 2, 'd': 4, 'e': 5, 'f': 6}"
      ]
     },
     "execution_count": 51,
     "metadata": {},
     "output_type": "execute_result"
    }
   ],
   "source": [
    "dummy = {'a': 1, 'b': 2, 'c': 3, 'd': 4, 'e': 5, 'f': 6}\n",
    "del(dummy['c'])\n",
    "dummy"
   ]
  },
  {
   "cell_type": "code",
   "execution_count": 53,
   "metadata": {},
   "outputs": [
    {
     "name": "stdout",
     "output_type": "stream",
     "text": [
      "Key not found\n"
     ]
    }
   ],
   "source": [
    "try:\n",
    "    del(dummy['c'])\n",
    "except KeyError:\n",
    "    print('Key not found')"
   ]
  },
  {
   "cell_type": "markdown",
   "metadata": {},
   "source": [
    "## Get All Keys\n",
    "\n",
    "One way is to use the `list()` method which takes the dictionary as an argument and returns a list of all the keys."
   ]
  },
  {
   "cell_type": "code",
   "execution_count": 54,
   "metadata": {},
   "outputs": [
    {
     "data": {
      "text/plain": [
       "['Grace', 'Jeffrey', 'Sylvia', 'Pedro', 'Martin', 'Dina']"
      ]
     },
     "execution_count": 54,
     "metadata": {},
     "output_type": "execute_result"
    }
   ],
   "source": [
    "test_scores = {\"Grace\":[80, 72, 90], \"Jeffrey\":[88, 68, 81], \"Sylvia\":[80, 82, 84], \"Pedro\":[98, 96, 95], \"Martin\":[78, 80, 78], \"Dina\":[64, 60, 75]}\n",
    "list(test_scores)"
   ]
  },
  {
   "cell_type": "markdown",
   "metadata": {},
   "source": [
    "We can also use the `.keys()` method which returns a `dict_keys` object."
   ]
  },
  {
   "cell_type": "code",
   "execution_count": 55,
   "metadata": {},
   "outputs": [
    {
     "data": {
      "text/plain": [
       "dict_keys(['Grace', 'Jeffrey', 'Sylvia', 'Pedro', 'Martin', 'Dina'])"
      ]
     },
     "execution_count": 55,
     "metadata": {},
     "output_type": "execute_result"
    }
   ],
   "source": [
    "test_scores.keys()"
   ]
  },
  {
   "cell_type": "markdown",
   "metadata": {},
   "source": [
    "A `dict_keys` object is a `view` object, which provides a look at the current state of the dicitonary. You cannot add or remove elements from a `dict_keys` object, but it can be used in the place of a list for iteration(it's an iterable object):"
   ]
  },
  {
   "cell_type": "code",
   "execution_count": 56,
   "metadata": {},
   "outputs": [
    {
     "name": "stdout",
     "output_type": "stream",
     "text": [
      "Grace\n",
      "Jeffrey\n",
      "Sylvia\n",
      "Pedro\n",
      "Martin\n",
      "Dina\n"
     ]
    }
   ],
   "source": [
    "for student in test_scores.keys():\n",
    "    print(student)"
   ]
  },
  {
   "cell_type": "code",
   "execution_count": 59,
   "metadata": {},
   "outputs": [
    {
     "name": "stdout",
     "output_type": "stream",
     "text": [
      "Best Picture:Moonlight\n",
      "Best Actor:Casey Affleck\n",
      "Best Actress:Emma Stone\n",
      "Animated Feature:Zootopia\n"
     ]
    }
   ],
   "source": [
    "# we can iterate through all keys using `in`\n",
    "oscars = {\"Best Picture\": \"Moonlight\", \"Best Actor\": \"Casey Affleck\", \"Best Actress\": \"Emma Stone\", \"Animated Feature\": \"Zootopia\"}\n",
    "\n",
    "for key in oscars:\n",
    "  print('{}:{}'.format(key, oscars[key]))"
   ]
  },
  {
   "cell_type": "markdown",
   "metadata": {},
   "source": [
    "Dictionaries do not maintain any order, so the order in which you get the keys back may well be different to the order they're displayed or were entered.\n",
    "\n",
    "If you require them to be in order, alphabetic, you cen get all the keys using `.keys()`, sort the returned list then loop through the list."
   ]
  },
  {
   "cell_type": "code",
   "execution_count": 72,
   "metadata": {},
   "outputs": [
    {
     "name": "stdout",
     "output_type": "stream",
     "text": [
      "Animated Feature:Zootopia\n",
      "Best Actor:Casey Affleck\n",
      "Best Actress:Emma Stone\n",
      "Best Picture:Moonlight\n"
     ]
    }
   ],
   "source": [
    "oscars = {\"Best Picture\": \"Moonlight\", \"Best Actor\": \"Casey Affleck\", \"Best Actress\": \"Emma Stone\", \"Animated Feature\": \"Zootopia\"}\n",
    "key_list = list(oscars.keys())\n",
    "key_list.sort() #sorts in-place\n",
    "for key in key_list:\n",
    "    print('{}:{}'.format(key, oscars[key]))"
   ]
  },
  {
   "cell_type": "markdown",
   "metadata": {},
   "source": [
    "## Get All Values\n",
    "\n",
    "Dictionaries have a `.values()` method that returns a `dict_values` object. Just like `dict_keys`, it can be used in the place of a list for iteration."
   ]
  },
  {
   "cell_type": "code",
   "execution_count": 63,
   "metadata": {},
   "outputs": [
    {
     "name": "stdout",
     "output_type": "stream",
     "text": [
      "[80, 72, 90]\n",
      "[88, 68, 81]\n",
      "[80, 82, 84]\n",
      "[98, 96, 95]\n",
      "[78, 80, 78]\n",
      "[64, 60, 75]\n"
     ]
    }
   ],
   "source": [
    "for grades in test_scores.values():\n",
    "    print(grades)"
   ]
  },
  {
   "cell_type": "markdown",
   "metadata": {},
   "source": [
    "Where you need a list, you can convert either `dict_keys` or `dict_values` objects into a list using the `list()` function."
   ]
  },
  {
   "cell_type": "code",
   "execution_count": 64,
   "metadata": {},
   "outputs": [
    {
     "data": {
      "text/plain": [
       "['Grace', 'Jeffrey', 'Sylvia', 'Pedro', 'Martin', 'Dina']"
      ]
     },
     "execution_count": 64,
     "metadata": {},
     "output_type": "execute_result"
    }
   ],
   "source": [
    "list(test_scores.keys())"
   ]
  },
  {
   "cell_type": "code",
   "execution_count": 65,
   "metadata": {},
   "outputs": [
    {
     "data": {
      "text/plain": [
       "[[80, 72, 90],\n",
       " [88, 68, 81],\n",
       " [80, 82, 84],\n",
       " [98, 96, 95],\n",
       " [78, 80, 78],\n",
       " [64, 60, 75]]"
      ]
     },
     "execution_count": 65,
     "metadata": {},
     "output_type": "execute_result"
    }
   ],
   "source": [
    "list(test_scores.values())"
   ]
  },
  {
   "cell_type": "markdown",
   "metadata": {},
   "source": [
    "## Get All Items\n",
    "\n",
    "You can get both the keys and values using the `.items()` method. It too returns an **iterable object**, the `dict_list` object. Each element yielded is a `(key, value)` tuple."
   ]
  },
  {
   "cell_type": "code",
   "execution_count": 66,
   "metadata": {},
   "outputs": [
    {
     "name": "stdout",
     "output_type": "stream",
     "text": [
      "Grace scores [80, 72, 90]\n",
      "Jeffrey scores [88, 68, 81]\n",
      "Sylvia scores [80, 82, 84]\n",
      "Pedro scores [98, 96, 95]\n",
      "Martin scores [78, 80, 78]\n",
      "Dina scores [64, 60, 75]\n"
     ]
    }
   ],
   "source": [
    "for name, grades in test_scores.items():\n",
    "    print('{} scores {}'.format(name, grades))"
   ]
  },
  {
   "cell_type": "markdown",
   "metadata": {},
   "source": [
    "**Iterating over Dictionaries**\n",
    "\n",
    "There are three options:\n",
    "\n",
    "1. Iterate over the entire item with `.items()`\n",
    "\n",
    "```py\n",
    "for key, value in my_dict.items():\n",
    "print('The value for {k} is {v}'.format(key=k, value=v))\n",
    "```\n",
    "\n",
    "2. iterate over the keys with `.keys()`\n",
    "\n",
    "```py\n",
    "for key in my_dict.keys():\n",
    "    print(my_dict.key) #=> value\n",
    "```\n",
    "\n",
    "3. interate over the values with `.values()`\n",
    "\n",
    "```py\n",
    "for value in my_dict.values():\n",
    "    print(value)\n",
    "```\n"
   ]
  },
  {
   "cell_type": "markdown",
   "metadata": {},
   "source": [
    "### Copy a Dictionary\n",
    "\n",
    "Use the `.copy()` method, or pass the dict object to the `dict()` function."
   ]
  },
  {
   "cell_type": "code",
   "execution_count": 1,
   "metadata": {},
   "outputs": [
    {
     "name": "stdout",
     "output_type": "stream",
     "text": [
      "{'a': 2, 'b': 3, 'c': 4}\n",
      "{'a': 2, 'b': 3}\n"
     ]
    }
   ],
   "source": [
    "a = {'a':2, 'b':3}\n",
    "b = a.copy()\n",
    "a.update({'c':4})\n",
    "print(a)\n",
    "print(b)"
   ]
  },
  {
   "cell_type": "code",
   "execution_count": 2,
   "metadata": {},
   "outputs": [
    {
     "name": "stdout",
     "output_type": "stream",
     "text": [
      "{'a': 2, 'b': 3, 'c': 4}\n",
      "{'a': 2, 'b': 3}\n"
     ]
    }
   ],
   "source": [
    "a = {'a':2, 'b':3}\n",
    "b = dict(a)\n",
    "a.update({'c':4})\n",
    "print(a)\n",
    "print(b)"
   ]
  }
 ],
 "metadata": {
  "kernelspec": {
   "display_name": "Python 3",
   "language": "python",
   "name": "python3"
  },
  "language_info": {
   "codemirror_mode": {
    "name": "ipython",
    "version": 3
   },
   "file_extension": ".py",
   "mimetype": "text/x-python",
   "name": "python",
   "nbconvert_exporter": "python",
   "pygments_lexer": "ipython3",
   "version": "3.6.7"
  }
 },
 "nbformat": 4,
 "nbformat_minor": 2
}
