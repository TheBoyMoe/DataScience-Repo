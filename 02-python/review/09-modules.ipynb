{
 "cells": [
  {
   "cell_type": "markdown",
   "metadata": {},
   "source": [
    "# Modules\n",
    "\n",
    "Modules, often refered to as libraries, or packages are simply Python declarations that allow you to share and use other peoples code. The general syntax for using module, which goes at the top of your file:\n",
    "\n",
    "```py\n",
    "import <package_name>\n",
    "```\n",
    "\n",
    "To import a specific part of a package, use the syntax:\n",
    "\n",
    "```py\n",
    "from <package_name> import <object_name>\n",
    "```\n",
    "\n",
    "You can rename the object, to simplfy referencing it, e.g.\n",
    "\n",
    "```py\n",
    "from <module_name> import <object_name> as <alias>\n",
    "```\n",
    "\n",
    "OR\n",
    "\n",
    "```py\n",
    "import <package_name> as <alias>\n",
    "```\n",
    "\n",
    "To import the function`inv()`, which is in the `linalg` subpackage of the `scipy` package."
   ]
  },
  {
   "cell_type": "code",
   "execution_count": 1,
   "metadata": {},
   "outputs": [],
   "source": [
    "from scipy.linalg import inv as my_inv"
   ]
  },
  {
   "cell_type": "markdown",
   "metadata": {},
   "source": [
    "### Common modules from the Python Standard Library\n",
    "\n",
    "#### Datetime"
   ]
  },
  {
   "cell_type": "code",
   "execution_count": 2,
   "metadata": {},
   "outputs": [
    {
     "data": {
      "text/plain": [
       "datetime.datetime(2018, 12, 13, 18, 42, 14, 268767)"
      ]
     },
     "execution_count": 2,
     "metadata": {},
     "output_type": "execute_result"
    }
   ],
   "source": [
    "from datetime import datetime as dt\n",
    "\n",
    "current_time = dt.now()\n",
    "current_time"
   ]
  },
  {
   "cell_type": "markdown",
   "metadata": {},
   "source": [
    "#### Random"
   ]
  },
  {
   "cell_type": "markdown",
   "metadata": {},
   "source": [
    "Another common module is the `random` module. It provides a number of methods, two common ones are:\n",
    "\n",
    "`random.choice()` - which takes a list as an argument and returns a number from the list.\n",
    "\n",
    "`random.randint()` -  which takes two numbers as arguments and generates a random number between the two numbers you passed in.\n",
    "\n",
    "`random.sample()` - takes two arguments, the 1st is a `range()`, and the second is an integer indicating the number of random numbers to be returned within the range specified."
   ]
  },
  {
   "cell_type": "code",
   "execution_count": 3,
   "metadata": {},
   "outputs": [
    {
     "data": {
      "text/plain": [
       "49"
      ]
     },
     "execution_count": 3,
     "metadata": {},
     "output_type": "execute_result"
    }
   ],
   "source": [
    "import random\n",
    "\n",
    "random.seed(42)\n",
    "\n",
    "# Create random_list between 1 and 100 inclusive\n",
    "random_list = [random.randint(1,101) for i in range(101)]\n",
    "\n",
    "# Select randomer_number from the list:\n",
    "random.choice(random_list)"
   ]
  },
  {
   "cell_type": "code",
   "execution_count": 5,
   "metadata": {},
   "outputs": [
    {
     "data": {
      "text/plain": [
       "[517, 515, 978, 851, 580, 306, 550, 274, 374, 557, 141, 705]"
      ]
     },
     "execution_count": 5,
     "metadata": {},
     "output_type": "execute_result"
    }
   ],
   "source": [
    "random.sample(range(1000), 12)"
   ]
  },
  {
   "cell_type": "markdown",
   "metadata": {},
   "source": [
    "**Summary**\n",
    "\n",
    "**seed** - initialize the generator, otherwise uses system time.\n",
    "\n",
    "**choice** - returns a random item from the list arg.\n",
    "\n",
    "**randint** - generates a random number between the 1st and 2nd arg\n",
    "\n",
    "**shuffle** - shuffle the sequence in place, new obj returned for immutable objs.\n",
    "\n",
    "**sample** - return x number of items from a sequence.\n",
    "\n",
    "**random** - return float between 0.0 and 1.0\n",
    "\n",
    "**uniform** - return a random float between the two supplied args."
   ]
  },
  {
   "cell_type": "markdown",
   "metadata": {},
   "source": [
    "#### Decimal\n",
    "\n",
    "Floating point arithmetic generally causes rounding errors. In order to perform decimal arithmetic more accurately you can use the `decimal` module's `Decimal` data type."
   ]
  },
  {
   "cell_type": "code",
   "execution_count": 10,
   "metadata": {},
   "outputs": [
    {
     "data": {
      "text/plain": [
       "Decimal('0.45')"
      ]
     },
     "execution_count": 10,
     "metadata": {},
     "output_type": "execute_result"
    }
   ],
   "source": [
    "from decimal import Decimal\n",
    "\n",
    "cost_of_gum = Decimal('0.10')\n",
    "cost_of_gumdrop = Decimal('0.35')\n",
    "\n",
    "cost_of_gum + cost_of_gumdrop"
   ]
  },
  {
   "cell_type": "code",
   "execution_count": 11,
   "metadata": {},
   "outputs": [
    {
     "name": "stdout",
     "output_type": "stream",
     "text": [
      "0.8899999999999999\n",
      "0.34450000000000003\n"
     ]
    }
   ],
   "source": [
    "three_decimal_points = 0.2 + 0.69\n",
    "print(three_decimal_points)\n",
    "\n",
    "four_decimal_points = 0.53 * 0.65\n",
    "print(four_decimal_points)"
   ]
  },
  {
   "cell_type": "code",
   "execution_count": 14,
   "metadata": {},
   "outputs": [
    {
     "data": {
      "text/plain": [
       "Decimal('0.890')"
      ]
     },
     "execution_count": 14,
     "metadata": {},
     "output_type": "execute_result"
    }
   ],
   "source": [
    "Decimal('0.200') + Decimal('0.690')\n"
   ]
  },
  {
   "cell_type": "code",
   "execution_count": 15,
   "metadata": {},
   "outputs": [
    {
     "data": {
      "text/plain": [
       "Decimal('0.3445')"
      ]
     },
     "execution_count": 15,
     "metadata": {},
     "output_type": "execute_result"
    }
   ],
   "source": [
    "Decimal('0.53') * Decimal('0.65')"
   ]
  },
  {
   "cell_type": "markdown",
   "metadata": {},
   "source": [
    "### Namespaces\n",
    "\n",
    "Notice that when we want to invoke the `randint()` function we call `random.randint()`. This is default behavior where Python offers a namespace for the module. A namespace isolates the functions, classes, and variables defined in the module from the code in the file doing the importing. Your local namespace, meanwhile, is where your code is run.\n",
    "\n",
    "Python defaults to naming the namespace after the module being imported. Sometimes, the module's name could also conflict with an object you have defined within your local namespace. This is where **aliasing** using the `as` keyword is used.\n",
    "\n",
    "Aliasing is often used as a convinence when the library name is long and you don't want to type the name.\n",
    "\n",
    "You might also occasionally encounter `import *`. The `*` is known as a \"wildcard\" and matches anything and everything, e.g.\n",
    "\n",
    "```py\n",
    "from math import *\n",
    "```\n",
    "This will import all the methods of the `math` module. Although convient, it also pollutes your local namespace, increasing the odds with a method you have already defined with the same name."
   ]
  },
  {
   "cell_type": "markdown",
   "metadata": {},
   "source": [
    "### Module, Files and Scope\n",
    "\n",
    "Just as functions have scope, variables defined therein are not accessible outside, so files also have scope.\n",
    "\n",
    "Files inside the same directory **DO NOT** have access to each other's variables, functions, classes, or any other code.\n",
    "\n",
    "How do you access methods, classes, etc from a different file? Files are actually modules, so you can import file in another file using the `import` keyword. \n",
    "\n",
    "General syntax:\n",
    "```py\n",
    "from <file_name> import <method_name>\n",
    "\n",
    "## library.py\n",
    "\n",
    "def always_three():\n",
    "  return 3\n",
    "\n",
    "\n",
    "## script.py \n",
    "# - raises the `NameError` exception if you try and call always_three() without import\n",
    "from library import always_three\n",
    "\n",
    "always_three()\n",
    "```"
   ]
  },
  {
   "cell_type": "markdown",
   "metadata": {},
   "source": [
    "## Packaging Python Code"
   ]
  },
  {
   "cell_type": "markdown",
   "metadata": {},
   "source": [
    "### Build a Package\n",
    "\n",
    "1. Create a project directory, within which create a package directory for any req'd python files.\n",
    "\n",
    "2. To turn your Python code into a package and provide users access to your code, you need to add a file called `__init__.py`, which will initialise your package and tell Python about the package contents.\n",
    "\n",
    "3. For each python method you wish to share add an `import` statement to `__init__.py`, general syntax:\n",
    "\n",
    "```py\n",
    "from .<file_name> import <method_name>\n",
    "```\n",
    "\n",
    "You can reference the functions by name, or import all functions within a file using `*`.\n",
    "\n",
    "4. To test what we've done so far, create a `test.py` file in the project root. Add import statements to load the various methods you defined.\n",
    "\n",
    "The `module` is the name of the project folder\n",
    "\n",
    "```py\n",
    "from <module> import <method_name_a>, <method_name_b>\n",
    "```\n",
    "Import all methods shared through `__init__`\n",
    "```py\n",
    "from <module> import *\n",
    "```"
   ]
  },
  {
   "cell_type": "markdown",
   "metadata": {},
   "source": [
    "### Create a Setup Program\n",
    "\n",
    "At the moment, your module can only be accessed if the program that is calling it is saved in the root of the project directory. For your module to be accessible to all Python programs, it needs to be installed. \n",
    "\n",
    "Requires creating a setup program, which is simply a python file that calls Python's `setup` function, passing it all the information necessary to install the module.\n",
    "\n",
    "1. Create `setup.py` in the project root, and import the `setup` function from the Python `setuptools` module:\n",
    "\n",
    "```py\n",
    "from setuptools import setup\n",
    "```\n",
    "\n",
    "2. Create the following variables, assigning the info necessary for your package:\n",
    "\n",
    "```py\n",
    "__project__ = <module_name>\n",
    "__version__ = <version_number>\n",
    "__description__ = \"add a string description\"\n",
    "__packages__ = <list of the packages that should be installed>\n",
    "```\n",
    "\n",
    "3. Call the setup function, passing the variables you just created to it.\n",
    "\n",
    "```py\n",
    "setup(\n",
    "    name = __project__,\n",
    "    version = __version__,\n",
    "    description = __description__,\n",
    "    packages = __packages__\n",
    ")\n",
    "```"
   ]
  },
  {
   "cell_type": "markdown",
   "metadata": {},
   "source": [
    "### Install your module\n",
    "\n",
    "To install the module, we need to run the `setup.py` program from the command line, passing it an additional `install` parameter.\n",
    "\n",
    "For Linux, open a terminal window and cd in to the project folder:\n",
    "\n",
    "```py\n",
    "sudo pyhton3 setup install\n",
    "```\n",
    "\n",
    "Once installed, we should be able to use the module and it's methods from any Python3 program. To do so, create a copy of the `test.py` file outside of the project root and run it as before. There should not be any errors.\n",
    "\n",
    "**NOTE**:\n",
    "\n",
    "Be mindful of which version you install the module under!"
   ]
  },
  {
   "cell_type": "markdown",
   "metadata": {},
   "source": [
    "### Adding additional information to setup.py\n",
    "\n",
    "Our `setup.py` file contains the minimum amount of information. We can add additional info such as author, email, url for github repo, list of classifiers (language, status, environment, etc), list of appropriate keywords that could be used to search for your project, list of any other Python packages that are req'd by your package, etc.\n",
    "\n",
    "```py\n",
    "__author__ = <your_name>\n",
    "__email__ = <your_email>\n",
    "__url__ = <github_repo>\n",
    "__classifiers__ = [\n",
    "    \"Development Status :: 3 - Alpha\",\n",
    "    \"Intended Audience :: Education\",\n",
    "    \"Programming Language :: Python :: 3\",\n",
    "]\n",
    "__keywords__ = ['Python3', 'application', 'etc']\n",
    "__requires__ = ['package_a', 'package_b']\n",
    "```\n",
    "\n",
    "Don't forget to define the necessary parameters in the call to `setup` .\n",
    "\n",
    "```py\n",
    "setup(\n",
    "    name = __project__,\n",
    "    version = __version__,\n",
    "    description = __description__,\n",
    "    packages = __packages__,\n",
    "    author = __author__,\n",
    "    keywords = __keywords__,\n",
    "    classifiers = __classifiers__,\n",
    "    requires = __requires__\n",
    ")\n",
    "```"
   ]
  },
  {
   "cell_type": "markdown",
   "metadata": {},
   "source": [
    "### Publish you package\n",
    "\n",
    "1. Create an account on `PyPI`, pypi.org, to which we can upload our package.\n",
    "\n",
    "2. To share your package with others, who can then install it via `pip` or `conda`, you need to create a distribution. To do so run the following command from the terminal:\n",
    "\n",
    "```py\n",
    "python3 setup.py sdist\n",
    "```\n",
    "\n",
    "The `sdist` parameter tells `setup.py` to create a source distribution. `setup.py` will have created a directory called `dist` in your project root directory that contains the distribution files for your project.\n",
    "\n",
    "3. Once you have created your distribution, you can upload it to `PyPI` using `twine`. Navigate into the `dist` directory and upload the files using the following command:\n",
    "\n",
    "```py\n",
    "twine upload *\n",
    "```\n",
    "Enter your account details when prompted.\n",
    "\n",
    "When ever you update the package:\n",
    "\n",
    "* Update the version number in `setup.py`\n",
    "* Run `setup.py` to create a new source distribution\n",
    "* Upload the new version using `twine`"
   ]
  },
  {
   "cell_type": "markdown",
   "metadata": {},
   "source": [
    "### References\n",
    "\n",
    "[Packaging Python Code](https://projects.raspberrypi.org/en/projects/packaging-your-code)  \n",
    "[Github repo](https://github.com/raspberrypilearning/packaging-your-code)  \n",
    "[List of possible Classifiers](https://pypi.org/pypi?%3Aaction=list_classifiers)  \n",
    "[Packaging Python Projects](https://packaging.python.org/tutorials/packaging-projects/)  \n",
    "[Publish Python packages](https://pypi.org/)  \n"
   ]
  }
 ],
 "metadata": {
  "kernelspec": {
   "display_name": "Python 3",
   "language": "python",
   "name": "python3"
  },
  "language_info": {
   "codemirror_mode": {
    "name": "ipython",
    "version": 3
   },
   "file_extension": ".py",
   "mimetype": "text/x-python",
   "name": "python",
   "nbconvert_exporter": "python",
   "pygments_lexer": "ipython3",
   "version": "3.6.7"
  }
 },
 "nbformat": 4,
 "nbformat_minor": 2
}
