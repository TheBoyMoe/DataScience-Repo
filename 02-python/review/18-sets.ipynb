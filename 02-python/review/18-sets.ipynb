{
 "cells": [
  {
   "cell_type": "markdown",
   "metadata": {},
   "source": [
    "# Sets"
   ]
  },
  {
   "cell_type": "markdown",
   "metadata": {},
   "source": [
    "Are a collection of unordered, unique and immutable objects - the items are immutable, sets themselves are mutable.\n",
    "\n",
    "Sets support mathematical set theory.\n",
    "\n",
    "Create them using the `set()` method or using a set literal `{}`.\n",
    "\n",
    "- items are unique (duplicate item will overwrite other) \n",
    "- items are immutable, e.g. strings, numbers - are hashable\n",
    "\n",
    "Note: you can convert a list or dictionary to a set using `set()` - a dictionay object loses the values associated with each key - they are essentialy a valueless dictionary.\n",
    "\n",
    "- items are unordered - order is not guarenteed\n",
    "- supports mixed types and nesting\n",
    "- sets are akin to dictionaries without the values, only keys. They have no index.\n",
    "- you can mutate a set using `add()` and `remove()`.\n",
    "- you can copy a set using `.copy()` method or pass the set object to `set()`."
   ]
  },
  {
   "cell_type": "code",
   "execution_count": 4,
   "metadata": {},
   "outputs": [
    {
     "data": {
      "text/plain": [
       "{23, 'a', 'bcdef'}"
      ]
     },
     "execution_count": 4,
     "metadata": {},
     "output_type": "execute_result"
    }
   ],
   "source": [
    "# create an empty set object, and add hashable(immutable) items\n",
    "my_set = set()\n",
    "my_set.add('a')\n",
    "my_set.add('bcdef')\n",
    "my_set.add(23)\n",
    "my_set"
   ]
  },
  {
   "cell_type": "code",
   "execution_count": 8,
   "metadata": {},
   "outputs": [
    {
     "data": {
      "text/plain": [
       "{'a', 'b', 'c', 'e', 'f', 'g'}"
      ]
     },
     "execution_count": 8,
     "metadata": {},
     "output_type": "execute_result"
    }
   ],
   "source": [
    "# Alternatively pass in a single sequence\n",
    "set('abcefg')"
   ]
  },
  {
   "cell_type": "code",
   "execution_count": 7,
   "metadata": {},
   "outputs": [
    {
     "data": {
      "text/plain": [
       "{1, 2, 3, 4, 5, 6}"
      ]
     },
     "execution_count": 7,
     "metadata": {},
     "output_type": "execute_result"
    }
   ],
   "source": [
    "# you can convert a list of items into a set\n",
    "set([1,2,3,4,5,6])"
   ]
  },
  {
   "cell_type": "code",
   "execution_count": 10,
   "metadata": {},
   "outputs": [
    {
     "data": {
      "text/plain": [
       "{'efr', 'grte', 'wd'}"
      ]
     },
     "execution_count": 10,
     "metadata": {},
     "output_type": "execute_result"
    }
   ],
   "source": [
    "set(['wd', 'efr', 'grte'])"
   ]
  },
  {
   "cell_type": "code",
   "execution_count": 8,
   "metadata": {},
   "outputs": [
    {
     "data": {
      "text/plain": [
       "{'a', 'b'}"
      ]
     },
     "execution_count": 8,
     "metadata": {},
     "output_type": "execute_result"
    }
   ],
   "source": [
    "# you can convert a dictionary to a set - values are LOST\n",
    "set({'a':3, 'b':4})"
   ]
  },
  {
   "cell_type": "code",
   "execution_count": 2,
   "metadata": {},
   "outputs": [
    {
     "data": {
      "text/plain": [
       "{2, 4.5, 'a', 'hello'}"
      ]
     },
     "execution_count": 2,
     "metadata": {},
     "output_type": "execute_result"
    }
   ],
   "source": [
    "# you can use a set literal to create a set, only accepts hashable, immutable types\n",
    "{2, 'hello', 4.5, 'a'}"
   ]
  },
  {
   "cell_type": "code",
   "execution_count": 4,
   "metadata": {},
   "outputs": [
    {
     "name": "stdout",
     "output_type": "stream",
     "text": [
      "Key not found\n"
     ]
    }
   ],
   "source": [
    "# raises a KeyError if try and remove a key that does not exist\n",
    "my_set.remove('b')\n",
    "try:\n",
    "    my_set.remove('b')\n",
    "except KeyError:\n",
    "    print('Key not found')"
   ]
  },
  {
   "cell_type": "code",
   "execution_count": 5,
   "metadata": {},
   "outputs": [
    {
     "name": "stdout",
     "output_type": "stream",
     "text": [
      "Unhashable type\n"
     ]
    }
   ],
   "source": [
    "# you cannot add a list, or dictionary to a set(not hashable since they are mutable)\n",
    "my_set = set()\n",
    "try:\n",
    "    my_set.add([1,2,3])\n",
    "except TypeError:\n",
    "    print('Unhashable type')"
   ]
  }
 ],
 "metadata": {
  "kernelspec": {
   "display_name": "Python 3",
   "language": "python",
   "name": "python3"
  },
  "language_info": {
   "codemirror_mode": {
    "name": "ipython",
    "version": 3
   },
   "file_extension": ".py",
   "mimetype": "text/x-python",
   "name": "python",
   "nbconvert_exporter": "python",
   "pygments_lexer": "ipython3",
   "version": "3.6.7"
  }
 },
 "nbformat": 4,
 "nbformat_minor": 2
}
