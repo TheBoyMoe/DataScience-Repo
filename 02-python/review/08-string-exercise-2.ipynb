{
 "cells": [
  {
   "cell_type": "markdown",
   "metadata": {},
   "source": [
    "# String Exercise"
   ]
  },
  {
   "cell_type": "code",
   "execution_count": 1,
   "metadata": {},
   "outputs": [
    {
     "name": "stdout",
     "output_type": "stream",
     "text": [
      "4\n",
      "4\n"
     ]
    }
   ],
   "source": [
    "# Return the total number of unique letters in the string. \n",
    "# Uppercase and lowercase letters should be counted as different letters.\n",
    "letters = \"ABCDEFGHIJKLMNOPQRSTUVWXYZabcdefghijklmnopqrstuvwxyz\"\n",
    "# Write your unique_english_letters function here:\n",
    "def unique_english_letters(word):\n",
    "  letters = []\n",
    "  for i in range(len(word)):\n",
    "    if letters.count(word[i]) == 0:\n",
    "      letters.append(word[i])\n",
    "  return len(letters)\n",
    "      \n",
    "  \n",
    "  \n",
    "# Uncomment these function calls to test your function:\n",
    "print(unique_english_letters(\"mississippi\"))\n",
    "# should print 4\n",
    "print(unique_english_letters(\"Apple\"))\n",
    "# should print 4"
   ]
  },
  {
   "cell_type": "code",
   "execution_count": 8,
   "metadata": {},
   "outputs": [
    {
     "name": "stdout",
     "output_type": "stream",
     "text": [
      "pl\n",
      "hello\n",
      "apple\n"
     ]
    }
   ],
   "source": [
    "# Write your substring_between_letters function here:\n",
    "def substring_between_letters(word, start, end):\n",
    "  if not start in word or not end in word:\n",
    "    print('hello')\n",
    "    return word\n",
    "  start_index = word.find(start) + 1\n",
    "  end_index = word.find(end)\n",
    "  return word[start_index:end_index]\n",
    "  \n",
    "# Uncomment these function calls to test your function:\n",
    "print(substring_between_letters(\"apple\", \"p\", \"e\"))\n",
    "# should print \"pl\"\n",
    "print(substring_between_letters(\"apple\", \"p\", \"c\"))\n",
    "# should print \"apple\""
   ]
  },
  {
   "cell_type": "code",
   "execution_count": 9,
   "metadata": {},
   "outputs": [
    {
     "name": "stdout",
     "output_type": "stream",
     "text": [
      "False\n",
      "True\n"
     ]
    }
   ],
   "source": [
    "# This function should return True if every word in \n",
    "# sentence has a length greater than or equal to x.\n",
    "# Write your x_length_words function here:\n",
    "def x_length_words(sentence, x):\n",
    "  count = 0\n",
    "  words = sentence.split()\n",
    "  for word in words:\n",
    "    if len(word) >= x:\n",
    "      count += 1\n",
    "  return count == len(words)\n",
    "\n",
    "# Uncomment these function calls to test your tip function:\n",
    "print(x_length_words(\"i like apples\", 2))\n",
    "# should print False\n",
    "print(x_length_words(\"he likes apples\", 2))\n",
    "# should print True"
   ]
  },
  {
   "cell_type": "code",
   "execution_count": 10,
   "metadata": {},
   "outputs": [
    {
     "name": "stdout",
     "output_type": "stream",
     "text": [
      "True\n",
      "True\n",
      "False\n"
     ]
    }
   ],
   "source": [
    "# The function should return True if name appears in sentence in all \n",
    "# lowercase letters, all uppercase letters, or with any mix of uppercase \n",
    "# and lowercase letters. The function should return False otherwise.\n",
    "# Write your check_for_name function here:\n",
    "def check_for_name(sentence, name):\n",
    "  result = False\n",
    "  lower = name.lower()\n",
    "  upper = name.upper()\n",
    "  title = name.title()\n",
    "  if lower in sentence or upper in sentence or title in sentence:\n",
    "    result = True\n",
    "  return result\n",
    "\n",
    "# Uncomment these function calls to test your  function:\n",
    "print(check_for_name(\"My name is Jamie\", \"Jamie\"))\n",
    "# should print True\n",
    "print(check_for_name(\"My name is jamie\", \"Jamie\"))\n",
    "# should print True\n",
    "print(check_for_name(\"My name is Samantha\", \"Jamie\"))\n",
    "# should print False"
   ]
  },
  {
   "cell_type": "code",
   "execution_count": 11,
   "metadata": {},
   "outputs": [
    {
     "name": "stdout",
     "output_type": "stream",
     "text": [
      "Cdcdm\n",
      "Hlowrd\n",
      "\n"
     ]
    }
   ],
   "source": [
    "# The function should return a string containing every other letter in word.\n",
    "# Write your every_other_letter function here:\n",
    "def every_other_letter(word):\n",
    "  string = ''\n",
    "  for i in range(len(word)):\n",
    "    if i % 2 == 0:\n",
    "      string += word[i]\n",
    "  return string\n",
    "\n",
    "# Uncomment these function calls to test your function:\n",
    "print(every_other_letter(\"Codecademy\"))\n",
    "# should print Cdcdm\n",
    "print(every_other_letter(\"Hello world!\"))\n",
    "# should print Hlowrd\n",
    "print(every_other_letter(\"\"))\n",
    "# should print "
   ]
  },
  {
   "cell_type": "code",
   "execution_count": null,
   "metadata": {},
   "outputs": [],
   "source": [
    "# The function should return word in reverse.\n",
    "# Write your reverse_string function here:\n",
    "def reverse_string(word):\n",
    "  string = ''\n",
    "  i = len(word) - 1\n",
    "  while i >= 0:\n",
    "    string += word[i]\n",
    "    i -= 1\n",
    "  return string\n",
    "    \n",
    "# Uncomment these function calls to test your  function:\n",
    "print(reverse_string(\"Codecademy\"))\n",
    "# should print ymedacedoC\n",
    "print(reverse_string(\"Hello world!\"))\n",
    "# should print !dlrow olleH\n",
    "print(reverse_string(\"\"))\n",
    "# should print"
   ]
  },
  {
   "cell_type": "code",
   "execution_count": 12,
   "metadata": {},
   "outputs": [
    {
     "name": "stdout",
     "output_type": "stream",
     "text": [
      "Codecademy!!!!!!!!!!\n",
      "Codecademy is the best place to learn\n"
     ]
    }
   ],
   "source": [
    "#  This function should add exclamation points to the end of word until \n",
    "# word is 20 characters long. If word is already at least 20 characters long, \n",
    "# just return word.\n",
    "# Write your add_exclamation function here:\n",
    "def add_exclamation(word):\n",
    "  if len(word) >= 20:\n",
    "    return word\n",
    "  i = 20\n",
    "  length = len(word)\n",
    "  while i > length:\n",
    "    word += '!'\n",
    "    i -= 1\n",
    "  return word\n",
    "\n",
    "# Uncomment these function calls to test your function:\n",
    "print(add_exclamation(\"Codecademy\"))\n",
    "# should print Codecademy!!!!!!!!!!\n",
    "print(add_exclamation(\"Codecademy is the best place to learn\"))\n",
    "# should print Codecademy is the best place to learn"
   ]
  },
  {
   "cell_type": "code",
   "execution_count": null,
   "metadata": {},
   "outputs": [],
   "source": []
  }
 ],
 "metadata": {
  "kernelspec": {
   "display_name": "Python 3",
   "language": "python",
   "name": "python3"
  },
  "language_info": {
   "codemirror_mode": {
    "name": "ipython",
    "version": 3
   },
   "file_extension": ".py",
   "mimetype": "text/x-python",
   "name": "python",
   "nbconvert_exporter": "python",
   "pygments_lexer": "ipython3",
   "version": "3.7.1"
  }
 },
 "nbformat": 4,
 "nbformat_minor": 2
}
