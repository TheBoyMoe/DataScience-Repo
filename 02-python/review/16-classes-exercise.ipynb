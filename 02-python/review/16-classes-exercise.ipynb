{
 "cells": [
  {
   "cell_type": "code",
   "execution_count": 4,
   "metadata": {},
   "outputs": [
    {
     "name": "stdout",
     "output_type": "stream",
     "text": [
      "Brunch menu, available from 1100 to 1600pm\n",
      "13.5\n",
      "21.5\n",
      "[Brunch menu, available from 1100 to 1600pm, Kids menu, available from 1100 to 2100pm]\n",
      "[Early bird menu, available from 1500 to 1800pm, Dinner menu, available from 1700 to 2300pm, Kids menu, available from 1100 to 2100pm]\n"
     ]
    }
   ],
   "source": [
    "class Menu:\n",
    "  def __init__(self, name, items, start_time, end_time):\n",
    "    self.name = name\n",
    "    self.items = items\n",
    "    self.start_time = start_time\n",
    "    self.end_time = end_time\n",
    "    \n",
    "  def __repr__(self):\n",
    "    return '{name} menu, available from {start} to {end}pm'.format(name=self.name, start=self.start_time, end=self.end_time)\n",
    "  \n",
    "  def calculate_bill(self, purchased_items):\n",
    "    total = 0\n",
    "    for purchased_item in purchased_items:\n",
    "      if purchased_item in self.items:\n",
    "        total += self.items[purchased_item]\n",
    "    return total\n",
    " \n",
    "class Franchise:\n",
    "  def __init__(self, address, menus):\n",
    "    self.address = address\n",
    "    self.menus = menus\n",
    "    \n",
    "  def __repr__(self):\n",
    "    return \"Welcome, we're at {}\".format(self.address)\n",
    "  \n",
    "  def available_menus(self, time):\n",
    "    return [menu for menu in self.menus if time >= menu.start_time and time <= menu.end_time]\n",
    " \n",
    "class Business:\n",
    "  def __init__(self, name, franchises):\n",
    "    self.name = name\n",
    "    self.franchises = franchises\n",
    "    \n",
    "brunch_items = {\n",
    "  'pancakes': 7.50, 'waffles': 9.00, 'burger': 11.00, 'home fries': 4.50, 'coffee': 1.50, 'espresso': 3.00, 'tea': 1.00, 'mimosa': 10.50, 'orange juice': 3.50\n",
    "}\n",
    "early_bird_items = {\n",
    "  'salumeria plate': 8.00, 'salad and breadsticks (serves 2, no refills)': 14.00, 'pizza with quattro formaggi': 9.00, 'duck ragu': 17.50, 'mushroom ravioli (vegan)': 13.50, 'coffee': 1.50, 'espresso': 3.00\n",
    "}\n",
    "dinner_items = {\n",
    "  'crostini with eggplant caponata': 13.00, 'ceaser salad': 16.00, 'pizza with quattro formaggi': 11.00, 'duck ragu': 19.50, 'mushroom ravioli (vegan)': 13.50, 'coffee': 2.00, 'espresso': 3.00\n",
    "}\n",
    "kids_items = {\n",
    "  'chicken nuggets': 6.50, 'fusilli with wild mushrooms': 12.00, 'apple juice': 3.00\n",
    "}\n",
    "arepa_items = {\n",
    "  'arepa pabellon': 7.00, 'pernil arepa': 8.50, 'guayanes arepa': 8.00, 'jamon arepa': 7.50\n",
    "}\n",
    "\n",
    "brunch = Menu('Brunch', brunch_items, 1100, 1600)\n",
    "early_bird = Menu('Early bird', early_bird_items, 1500, 1800)\n",
    "dinner = Menu('Dinner', dinner_items, 1700, 2300)\n",
    "kids = Menu('Kids', kids_items, 1100, 2100)\n",
    "arepas_menu = Menu('Arepa', arepa_items, 1000, 2000)\n",
    "\n",
    "print(brunch)\n",
    "print(brunch.calculate_bill(['pancakes', 'home fries', 'coffee']))\n",
    "print(early_bird.calculate_bill(['salumeria plate', 'mushroom ravioli (vegan)']))\n",
    "\n",
    "flagship_store = Franchise('1232 West End Road', [brunch, early_bird, dinner, kids])\n",
    "new_installment = Franchise('12 East Mulberry Street', [brunch, early_bird, dinner, kids])\n",
    "arepas_place = Franchise(\"189 Fitzgerald Avenue\", [arepas_menu])\n",
    "\n",
    "print(flagship_store.available_menus(1200))\n",
    "print(flagship_store.available_menus(1700))\n",
    "\n",
    "basta_fazoo = Business(\"Basta Fazoolin' with my Heart\", [flagship_store, new_installment])\n",
    "take_a_arepa = Business(\"Take a' Arepa\", [arepas_place])"
   ]
  },
  {
   "cell_type": "code",
   "execution_count": null,
   "metadata": {},
   "outputs": [],
   "source": []
  }
 ],
 "metadata": {
  "kernelspec": {
   "display_name": "Python 3",
   "language": "python",
   "name": "python3"
  },
  "language_info": {
   "codemirror_mode": {
    "name": "ipython",
    "version": 3
   },
   "file_extension": ".py",
   "mimetype": "text/x-python",
   "name": "python",
   "nbconvert_exporter": "python",
   "pygments_lexer": "ipython3",
   "version": "3.7.1"
  }
 },
 "nbformat": 4,
 "nbformat_minor": 2
}
