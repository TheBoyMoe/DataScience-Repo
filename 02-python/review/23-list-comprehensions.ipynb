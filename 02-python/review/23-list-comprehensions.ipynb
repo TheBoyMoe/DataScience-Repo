{
 "cells": [
  {
   "cell_type": "markdown",
   "metadata": {},
   "source": [
    "# List Comprehensions\n",
    "\n",
    "List comprehensions allow you to iterate over any iterable, e.g. list or dictionary, execute some procedure with/on the iterable element and return a collection of modified elements, e.g. list, dictionary, all in one line of code.\n",
    "\n",
    "They require the following components:\n",
    "\n",
    "1. an iterable\n",
    "2. an iterator variable (represent members of the iterable)\n",
    "3. output expression(the first part of our list comprehension)\n",
    "\n",
    "General syntax:\n",
    "\n",
    "```py\n",
    "output = [variable for_statement_header]\n",
    "```"
   ]
  },
  {
   "cell_type": "code",
   "execution_count": 1,
   "metadata": {},
   "outputs": [
    {
     "data": {
      "text/plain": [
       "['hh', 'ee', 'll', 'll', 'oo', '  ', 'ww', 'oo', 'rr', 'll', 'dd', '!!']"
      ]
     },
     "execution_count": 1,
     "metadata": {},
     "output_type": "execute_result"
    }
   ],
   "source": [
    "# using a string\n",
    "[char * 2 for char in 'hello world!']"
   ]
  },
  {
   "cell_type": "code",
   "execution_count": 2,
   "metadata": {},
   "outputs": [
    {
     "data": {
      "text/plain": [
       "[2, 4, 6, 8, 10, 12, 14, 16]"
      ]
     },
     "execution_count": 2,
     "metadata": {},
     "output_type": "execute_result"
    }
   ],
   "source": [
    "# using a list\n",
    "nums = [1,2,3,4,5,6,7,8]\n",
    "[num * 2 for num in nums]"
   ]
  },
  {
   "cell_type": "code",
   "execution_count": 3,
   "metadata": {},
   "outputs": [
    {
     "data": {
      "text/plain": [
       "[2, 4, 6, 8, 10, 12, 14, 16]"
      ]
     },
     "execution_count": 3,
     "metadata": {},
     "output_type": "execute_result"
    }
   ],
   "source": [
    "# using a range object\n",
    "[num * 2 for num in range(1,9)]"
   ]
  },
  {
   "cell_type": "markdown",
   "metadata": {},
   "source": [
    "We can also use list comprehensions with nested loops(you can use list comprehension for any number of nested loops)."
   ]
  },
  {
   "cell_type": "code",
   "execution_count": 4,
   "metadata": {},
   "outputs": [
    {
     "name": "stdout",
     "output_type": "stream",
     "text": [
      "[(1, 1), (1, 2), (1, 3), (2, 1), (2, 2), (2, 3)]\n"
     ]
    }
   ],
   "source": [
    "pairs = []\n",
    "for i in range(1, 3):\n",
    "    for j in range(1, 4):\n",
    "        pairs.append((i, j))\n",
    "        \n",
    "print(pairs)"
   ]
  },
  {
   "cell_type": "code",
   "execution_count": 5,
   "metadata": {},
   "outputs": [
    {
     "data": {
      "text/plain": [
       "[(1, 1), (1, 2), (1, 3), (2, 1), (2, 2), (2, 3)]"
      ]
     },
     "execution_count": 5,
     "metadata": {},
     "output_type": "execute_result"
    }
   ],
   "source": [
    "# using a list comprehension\n",
    "# we need the output expression followed by the two for loop clauses\n",
    "[(i, j) for i in range(1,3) for j in range(1,4)]"
   ]
  },
  {
   "cell_type": "code",
   "execution_count": 6,
   "metadata": {},
   "outputs": [
    {
     "data": {
      "text/plain": [
       "[1, 2, 3, 2, 4, 6]"
      ]
     },
     "execution_count": 6,
     "metadata": {},
     "output_type": "execute_result"
    }
   ],
   "source": [
    "[i * j for i in range(1,3) for j in range(1,4)]"
   ]
  },
  {
   "cell_type": "code",
   "execution_count": 8,
   "metadata": {},
   "outputs": [
    {
     "data": {
      "text/plain": [
       "['Audre Lorde',\n",
       " 'William Carlos Williams',\n",
       " 'Gabriela Mistral',\n",
       " 'Jean Toomer',\n",
       " 'An Qi',\n",
       " 'Walt Whitman',\n",
       " 'Shel Silverstein',\n",
       " 'Carmen Boullosa',\n",
       " 'Kamala Suraiyya',\n",
       " 'Langston Hughes',\n",
       " 'Adrienne Rich',\n",
       " 'Nikki Giovanni']"
      ]
     },
     "execution_count": 8,
     "metadata": {},
     "output_type": "execute_result"
    }
   ],
   "source": [
    "# split into author names\n",
    "authors = '''Audre Lorde, William Carlos Williams, Gabriela Mistral\n",
    "Jean Toomer, An Qi, Walt Whitman, Shel Silverstein\n",
    "Carmen Boullosa, Kamala Suraiyya, Langston Hughes\n",
    "Adrienne Rich, Nikki Giovanni'''\n",
    "\n",
    "[name for line in authors.split('\\n') for name in line.split(', ')]"
   ]
  },
  {
   "cell_type": "markdown",
   "metadata": {},
   "source": [
    "### Dict Comprehensions\n",
    "\n",
    "Return a **dictionary**, as apposed to list comprehensions which return lists. We need to surround the comprehension with `{}` and separate the `key` and `value` in the output expression with a `:`."
   ]
  },
  {
   "cell_type": "code",
   "execution_count": null,
   "metadata": {},
   "outputs": [],
   "source": [
    "# we can iterate over a dictionary, returning an amended dictionary\n",
    "my_dict = {'a': 1, 'b': 2, 'c': 3, 'd': 4, 'e': 5}\n",
    "{key:val * 2 for key, val in my_dict.items()}"
   ]
  },
  {
   "cell_type": "code",
   "execution_count": null,
   "metadata": {},
   "outputs": [],
   "source": [
    "# we can create a dictionary from a list or range\n",
    "chars = [12,23,43,45,65,76,87,98,76]\n",
    "{index:num for index, num in enumerate(chars)}"
   ]
  },
  {
   "cell_type": "code",
   "execution_count": null,
   "metadata": {},
   "outputs": [],
   "source": [
    "{num: num ** 2 for num in range(10)}"
   ]
  },
  {
   "cell_type": "markdown",
   "metadata": {},
   "source": [
    "### Use list comprehension to create a 2-D matrix\n",
    "\n",
    "To create the list of lists, you simply have to supply the list comprehension as the output expression of the overall list comprehension, the output expression is itself a list comprehension:\n",
    "\n",
    "```py\n",
    "[[output expression] for iterator variable in iterable]\n",
    "```\n",
    "1. In the inner list comprehension - that is, the output expression of the nested list comprehension - create a list of values from 0 to 4 using range(). Use col as the iterator variable.\n",
    "\n",
    "2. In the iterable part of your nested list comprehension, use range() to count 5 rows - that is, create a list of values from 0 to 4. Use row as the iterator variable; note that you won't be needing this to create values in the list of lists."
   ]
  },
  {
   "cell_type": "code",
   "execution_count": null,
   "metadata": {},
   "outputs": [],
   "source": [
    "# use list comprehension to create a 2-D matrix\n",
    "[[col for col in range(5)] for row in range(5)]"
   ]
  },
  {
   "cell_type": "markdown",
   "metadata": {},
   "source": [
    "### Using List Comprehensions with Conditionals\n",
    "\n",
    "Useful technique to filter an iterable. We can apply the conditional to the **iterable variable**.\n",
    "\n",
    "```py\n",
    "[ output_expression for iterator variable in iterable if predicat_expression ].\n",
    "```"
   ]
  },
  {
   "cell_type": "code",
   "execution_count": null,
   "metadata": {},
   "outputs": [],
   "source": [
    "nums = [23,54,34,76,34,86,32,45,11,21,42,53,64]\n",
    "[val for val in nums if val > 60]"
   ]
  },
  {
   "cell_type": "code",
   "execution_count": null,
   "metadata": {},
   "outputs": [],
   "source": [
    "[val ** 2 for val in range(20) if val % 2 != 0] # return odd numbers"
   ]
  },
  {
   "cell_type": "markdown",
   "metadata": {},
   "source": [
    "We can apply the conditional to a nested loop"
   ]
  },
  {
   "cell_type": "code",
   "execution_count": null,
   "metadata": {},
   "outputs": [],
   "source": [
    "[i * j for i in range(1,3) for j in range(1,4) if not i > j] # check tuples in block 5"
   ]
  },
  {
   "cell_type": "markdown",
   "metadata": {},
   "source": [
    "We can also apply the conditional to the **output expression**."
   ]
  },
  {
   "cell_type": "code",
   "execution_count": null,
   "metadata": {},
   "outputs": [],
   "source": [
    "[val ** 2 if val % 2 == 0 else 0 for val in range(20)]"
   ]
  },
  {
   "cell_type": "code",
   "execution_count": null,
   "metadata": {},
   "outputs": [],
   "source": [
    "fellowship = ['frodo', 'samwise', 'merry', 'aragorn', 'legolas', 'boromir', 'gimli']\n",
    "[member for member in fellowship if len(member) >= 7]"
   ]
  },
  {
   "cell_type": "code",
   "execution_count": null,
   "metadata": {},
   "outputs": [],
   "source": [
    "[member if len(member) >= 7 else '' for member in fellowship]"
   ]
  },
  {
   "cell_type": "code",
   "execution_count": null,
   "metadata": {},
   "outputs": [],
   "source": [
    "{value: len(value) for value in fellowship}"
   ]
  },
  {
   "cell_type": "markdown",
   "metadata": {},
   "source": [
    "### Extract time-stamped data from tweet dataset"
   ]
  },
  {
   "cell_type": "code",
   "execution_count": null,
   "metadata": {},
   "outputs": [],
   "source": [
    "import pandas as pd\n",
    "\n",
    "df = pd.read_csv('tweets.csv')\n",
    "df.head(2)"
   ]
  },
  {
   "cell_type": "code",
   "execution_count": null,
   "metadata": {},
   "outputs": [],
   "source": [
    "tweet_time = df['created_at']\n",
    "tweet_time[0:5] # limit to 1st 5 rows"
   ]
  },
  {
   "cell_type": "code",
   "execution_count": null,
   "metadata": {},
   "outputs": [],
   "source": [
    "# DEBUG\n",
    "for i, entry in enumerate(tweet_time):\n",
    "    print(entry[11:19])\n",
    "    if i == 5:\n",
    "        break"
   ]
  },
  {
   "cell_type": "code",
   "execution_count": null,
   "metadata": {},
   "outputs": [],
   "source": [
    "# list comprehension\n",
    "tweet_clook_time = [entry[11:19] for entry in tweet_time]\n",
    "print(tweet_clook_time)"
   ]
  },
  {
   "cell_type": "code",
   "execution_count": null,
   "metadata": {},
   "outputs": [],
   "source": [
    "# only select the times in which entry[17:19] is equal to '19'\n",
    "tweet_clock_time = [entry[11:19] for entry in tweet_time if entry[17:19] == '19']\n",
    "\n",
    "# Print the extracted times\n",
    "print(tweet_clock_time)"
   ]
  }
 ],
 "metadata": {
  "kernelspec": {
   "display_name": "Python 3",
   "language": "python",
   "name": "python3"
  },
  "language_info": {
   "codemirror_mode": {
    "name": "ipython",
    "version": 3
   },
   "file_extension": ".py",
   "mimetype": "text/x-python",
   "name": "python",
   "nbconvert_exporter": "python",
   "pygments_lexer": "ipython3",
   "version": "3.6.7"
  }
 },
 "nbformat": 4,
 "nbformat_minor": 2
}
