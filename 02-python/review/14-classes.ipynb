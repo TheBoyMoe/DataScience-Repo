{
 "cells": [
  {
   "cell_type": "markdown",
   "metadata": {},
   "source": [
    "# Python Classes\n",
    "\n",
    "Classes of primitive and collections:"
   ]
  },
  {
   "cell_type": "code",
   "execution_count": 1,
   "metadata": {},
   "outputs": [
    {
     "name": "stdout",
     "output_type": "stream",
     "text": [
      "<class 'int'>\n"
     ]
    }
   ],
   "source": [
    "print(type(4))"
   ]
  },
  {
   "cell_type": "code",
   "execution_count": 2,
   "metadata": {},
   "outputs": [
    {
     "name": "stdout",
     "output_type": "stream",
     "text": [
      "<class 'float'>\n"
     ]
    }
   ],
   "source": [
    "print(type(1.1))"
   ]
  },
  {
   "cell_type": "code",
   "execution_count": 3,
   "metadata": {},
   "outputs": [
    {
     "name": "stdout",
     "output_type": "stream",
     "text": [
      "<class 'bool'>\n"
     ]
    }
   ],
   "source": [
    "print(type(True))"
   ]
  },
  {
   "cell_type": "code",
   "execution_count": 4,
   "metadata": {},
   "outputs": [
    {
     "name": "stdout",
     "output_type": "stream",
     "text": [
      "<class 'str'>\n"
     ]
    }
   ],
   "source": [
    "print(type('a'))"
   ]
  },
  {
   "cell_type": "code",
   "execution_count": 5,
   "metadata": {},
   "outputs": [
    {
     "name": "stdout",
     "output_type": "stream",
     "text": [
      "<class 'dict'>\n"
     ]
    }
   ],
   "source": [
    "print(type({}))"
   ]
  },
  {
   "cell_type": "code",
   "execution_count": 6,
   "metadata": {},
   "outputs": [
    {
     "name": "stdout",
     "output_type": "stream",
     "text": [
      "<class 'list'>\n"
     ]
    }
   ],
   "source": [
    "print(type([]))"
   ]
  },
  {
   "cell_type": "markdown",
   "metadata": {},
   "source": [
    "`type()` returns the actual class the object is an implementation of. Calling type with a class returns a type object.\n",
    "\n",
    "A class is a template for a data type. It describes the kinds of information that a class will hold and how  to interact with that data via methods. \n",
    "\n",
    "Define a class using the `class` keyword. PEP 8 Style Guide for Python Code recommends capitalizing the names of classes(including the first letter) to make them easier to identify.\n",
    "\n",
    "**NOTE:**\n",
    "\n",
    "Use the `pass` keyword when you want to intentionally leave a code block blank."
   ]
  },
  {
   "cell_type": "code",
   "execution_count": 7,
   "metadata": {},
   "outputs": [],
   "source": [
    "class MyClass:\n",
    "    pass"
   ]
  },
  {
   "cell_type": "markdown",
   "metadata": {},
   "source": [
    "Classes inherit from a base class called `object`. A class must be instantiated, create an object instance, in order to be used. Simply add a pair of parentheses to the class name. Calling type on an instance of a class returns the class that object is an instance of.\n",
    "\n",
    "`__main__` refers to the current file, i.e. the current file has a class `MyClass`"
   ]
  },
  {
   "cell_type": "code",
   "execution_count": 8,
   "metadata": {},
   "outputs": [
    {
     "name": "stdout",
     "output_type": "stream",
     "text": [
      "<class '__main__.MyClass'>\n"
     ]
    }
   ],
   "source": [
    "my_class = MyClass()\n",
    "print(type(my_class))"
   ]
  },
  {
   "cell_type": "code",
   "execution_count": 9,
   "metadata": {},
   "outputs": [
    {
     "name": "stdout",
     "output_type": "stream",
     "text": [
      "<class 'type'>\n"
     ]
    }
   ],
   "source": [
    "print(type(MyClass))"
   ]
  },
  {
   "cell_type": "markdown",
   "metadata": {},
   "source": [
    "### Class variables\n",
    "\n",
    "**Class variables** are variables that are the same for every instance of that class. Class variables are accessed on the instance of the object using the syntax `object.variable`."
   ]
  },
  {
   "cell_type": "code",
   "execution_count": 10,
   "metadata": {},
   "outputs": [
    {
     "data": {
      "text/plain": [
       "'Musician'"
      ]
     },
     "execution_count": 10,
     "metadata": {},
     "output_type": "execute_result"
    }
   ],
   "source": [
    "class Musician:\n",
    "    occupation = 'Musician'\n",
    "    \n",
    "drummer = Musician()\n",
    "drummer.occupation"
   ]
  },
  {
   "cell_type": "markdown",
   "metadata": {},
   "source": [
    "### Methods\n",
    "\n",
    "Are functions called on class instances, are a means of adding a behaviour to the class.\n",
    "\n",
    "Methods are defined with the `def` keyword. In Python all methods take at least one argument, `self`. It is always the first argument and refers to the particular object instance the method is being called on. When refering to `class variables` inside the method definition always use the syntax `self.variable_name` to access them, but **DO NOT** use `self` when defining them.\n",
    "\n",
    "**DON'T** use the `self` as an argument when you call the method on the object instance, the interpreter automatically passes the object calling the method as the first argument."
   ]
  },
  {
   "cell_type": "code",
   "execution_count": 11,
   "metadata": {},
   "outputs": [
    {
     "name": "stdout",
     "output_type": "stream",
     "text": [
      "Dogs experience 7 years for every human year.\n",
      "None\n"
     ]
    }
   ],
   "source": [
    "class Dog:\n",
    "    dog_time = 7 # class variable - DO NOT use 'self'\n",
    "    \n",
    "    def dog_years(self):\n",
    "        print('Dogs experience {} years for every human year.'.format(self.dog_time))\n",
    "        \n",
    "my_dog = Dog()\n",
    "print(my_dog.dog_years())    "
   ]
  },
  {
   "cell_type": "markdown",
   "metadata": {},
   "source": [
    "### Methods with Arguments\n",
    "\n",
    "Methods can take multiple arguments. The `self` argument is implicity passed, so you only need pass any other arguments."
   ]
  },
  {
   "cell_type": "code",
   "execution_count": 12,
   "metadata": {},
   "outputs": [
    {
     "data": {
      "text/plain": [
       "16.09"
      ]
     },
     "execution_count": 12,
     "metadata": {},
     "output_type": "execute_result"
    }
   ],
   "source": [
    "class DistanceConverter:\n",
    "  kms_in_a_mile = 1.609\n",
    "  def how_many_kms(self, miles):\n",
    "    return miles * self.kms_in_a_mile\n",
    "converter = DistanceConverter()\n",
    "converter.how_many_kms(10)"
   ]
  },
  {
   "cell_type": "markdown",
   "metadata": {},
   "source": [
    "### Constructors\n",
    "\n",
    "The `__init__` method is used to **initialize** a class and is called every time a class is instanstiated. Such methods are known as **constructors**.\n",
    "\n",
    "When instantiating a class, arguments can be passed to the call. Those arguments are received by `__init__`. It also receives `self` as an argument."
   ]
  },
  {
   "cell_type": "code",
   "execution_count": 13,
   "metadata": {},
   "outputs": [
    {
     "name": "stdout",
     "output_type": "stream",
     "text": [
      "HELP\n"
     ]
    }
   ],
   "source": [
    "class Shouter:\n",
    "    def __init__(self, phrase):\n",
    "        if type(phrase) == str:\n",
    "            print(phrase.upper())\n",
    "    \n",
    "shout = Shouter('help')"
   ]
  },
  {
   "cell_type": "code",
   "execution_count": 14,
   "metadata": {},
   "outputs": [
    {
     "data": {
      "text/plain": [
       "<__main__.Shouter at 0x7f8d5c10e588>"
      ]
     },
     "execution_count": 14,
     "metadata": {},
     "output_type": "execute_result"
    }
   ],
   "source": [
    "shout"
   ]
  },
  {
   "cell_type": "code",
   "execution_count": 15,
   "metadata": {},
   "outputs": [
    {
     "name": "stdout",
     "output_type": "stream",
     "text": [
      "New circle with diameter: 36\n",
      "<__main__.Circle object at 0x7f8d5c10e128>\n"
     ]
    }
   ],
   "source": [
    "class Circle:\n",
    "  pi = 3.14\n",
    "\n",
    "  def __init__(self, diameter):\n",
    "    print('New circle with diameter: {}'.format(diameter))\n",
    "    \n",
    "print(Circle(36))"
   ]
  },
  {
   "cell_type": "markdown",
   "metadata": {},
   "source": [
    "### Instance variables\n",
    "\n",
    "Instance variables are variables specific to that particular instance of a class.\n",
    "\n",
    "Instance attributes are set by the `costructor` method, `__init__`, the arguments being apssed at the time the instance is instantiated. We can define instance variables in the `constructor` without passing an argument to the `constructor`.\n",
    "\n",
    "You can also use the same attribute notation that is used to access **class variables** to assign **instance variables**."
   ]
  },
  {
   "cell_type": "code",
   "execution_count": 20,
   "metadata": {},
   "outputs": [
    {
     "name": "stdout",
     "output_type": "stream",
     "text": [
      "3r23irh23rh23rh\n"
     ]
    }
   ],
   "source": [
    "class MyDict():\n",
    "    my_var = 42 # class variable\n",
    "    def __init__(self):\n",
    "        self.values = []\n",
    "\n",
    "my_dict_1 = MyDict()\n",
    "my_dict_2 = MyDict()\n",
    "\n",
    "my_dict_1.id = '3r23irh23rh23rh'\n",
    "my_dict_2.id = '454t345yrtr5ere'\n",
    "\n",
    "print(my_dict_1.id)"
   ]
  },
  {
   "cell_type": "code",
   "execution_count": 21,
   "metadata": {},
   "outputs": [
    {
     "name": "stdout",
     "output_type": "stream",
     "text": [
      "454t345yrtr5ere\n"
     ]
    }
   ],
   "source": [
    "print(my_dict_2.id)"
   ]
  },
  {
   "cell_type": "code",
   "execution_count": 22,
   "metadata": {},
   "outputs": [
    {
     "data": {
      "text/plain": [
       "[]"
      ]
     },
     "execution_count": 22,
     "metadata": {},
     "output_type": "execute_result"
    }
   ],
   "source": [
    "my_dict_2.values"
   ]
  },
  {
   "cell_type": "code",
   "execution_count": 23,
   "metadata": {},
   "outputs": [
    {
     "data": {
      "text/plain": [
       "42"
      ]
     },
     "execution_count": 23,
     "metadata": {},
     "output_type": "execute_result"
    }
   ],
   "source": [
    "my_dict_2.my_var"
   ]
  },
  {
   "cell_type": "markdown",
   "metadata": {},
   "source": [
    "If you try and access a varible on an instance that is neither a **class variable** nor a **instance variable**, the interpreter will raise a `AttributeError` - both are considered to be attributes of the object."
   ]
  },
  {
   "cell_type": "code",
   "execution_count": 18,
   "metadata": {},
   "outputs": [
    {
     "ename": "AttributeError",
     "evalue": "'MyDict' object has no attribute 'name'",
     "output_type": "error",
     "traceback": [
      "\u001b[0;31m---------------------------------------------------------------------------\u001b[0m",
      "\u001b[0;31mAttributeError\u001b[0m                            Traceback (most recent call last)",
      "\u001b[0;32m<ipython-input-18-3e0429f7ebfa>\u001b[0m in \u001b[0;36m<module>\u001b[0;34m\u001b[0m\n\u001b[0;32m----> 1\u001b[0;31m \u001b[0mmy_dict_1\u001b[0m\u001b[0;34m.\u001b[0m\u001b[0mname\u001b[0m\u001b[0;34m\u001b[0m\u001b[0;34m\u001b[0m\u001b[0m\n\u001b[0m",
      "\u001b[0;31mAttributeError\u001b[0m: 'MyDict' object has no attribute 'name'"
     ]
    }
   ],
   "source": [
    "my_dict_1.name"
   ]
  },
  {
   "cell_type": "markdown",
   "metadata": {},
   "source": [
    "We can check whether an atttribute exists using the `hasattr()` method. It evaluates whether the given instance has the attribute specified. It returns `True` when present, `False` otherwise. It takes two arguments, the instance and the attribute name."
   ]
  },
  {
   "cell_type": "code",
   "execution_count": null,
   "metadata": {},
   "outputs": [],
   "source": [
    "hasattr(my_dict_1, 'name')"
   ]
  },
  {
   "cell_type": "markdown",
   "metadata": {},
   "source": [
    "We can retrive the attribute value using `getattr()`. It takes the instance and attribute name as arguments, as well as a third optional argument which will return a default value if the attribute does not exist. If the 3rd argument is not supplied, and the attribute does not exist, the interpreter will raise a `AttributeError` exception"
   ]
  },
  {
   "cell_type": "code",
   "execution_count": null,
   "metadata": {},
   "outputs": [],
   "source": [
    "getattr(my_dict_1, 'name', 'The attibute was not found')"
   ]
  },
  {
   "cell_type": "code",
   "execution_count": null,
   "metadata": {},
   "outputs": [],
   "source": [
    "how_many_s = [{'s': False}, \"sassafrass\", 18, [\"a\", \"c\", \"s\", \"d\", \"s\"]]\n",
    "\n",
    "# strings and lists have the method `count`, \n",
    "# returns the number of times that item occurs in the element\n",
    "for elm in how_many_s:\n",
    "  if hasattr(elm, 'count'):\n",
    "    print(elm.count('s'))"
   ]
  },
  {
   "cell_type": "code",
   "execution_count": null,
   "metadata": {},
   "outputs": [],
   "source": [
    "class SearchEngineEntry:\n",
    "  secure_prefix = \"https://\" # class variable - does NOT require 'self' when defining it.\n",
    "  def __init__(self, url): \n",
    "    self.url = url # instance variable - requires 'self' when defining it.\n",
    "\n",
    "  def secure(self):\n",
    "    # secure is a method called on the instance, both attribute variables \n",
    "    # require 'self' to be accessed\n",
    "    return \"{prefix}{site}\".format(prefix=self.secure_prefix, site=self.url)\n",
    "\n",
    "codecademy = SearchEngineEntry(\"www.codecademy.com\")\n",
    "wikipedia = SearchEngineEntry(\"www.wikipedia.org\")\n",
    "\n",
    "print(codecademy.url, wikipedia.url)\n",
    "print(codecademy.secure(), wikipedia.secure())"
   ]
  },
  {
   "cell_type": "code",
   "execution_count": null,
   "metadata": {},
   "outputs": [],
   "source": [
    "class Circle:\n",
    "  pi = 3.14\n",
    "  def __init__(self, diameter):\n",
    "    print(\"Creating circle with diameter {d}\".format(d=diameter))\n",
    "    # Add assignment for self.radius here:\n",
    "    self.radius = diameter / 2 # instance variable\n",
    "    \n",
    "  def circumference(self):\n",
    "    return 2 * self.pi * self.radius\n",
    "    \n",
    "medium_pizza = Circle(12)\n",
    "teaching_table = Circle(36)\n",
    "round_room = Circle(11460)"
   ]
  },
  {
   "cell_type": "code",
   "execution_count": null,
   "metadata": {},
   "outputs": [],
   "source": [
    "print(medium_pizza.circumference())\n",
    "print(teaching_table.circumference())\n",
    "print(round_room.circumference())"
   ]
  },
  {
   "cell_type": "markdown",
   "metadata": {},
   "source": [
    "We can discover an objects attributes with the `dir()` method. A number of attributes are built in, e.g. `__init__`, these indicated by the `__` double underscore either side of their name, the **dunder attributes**. The list will also include method names and all attribute properties(instance and class variables) in alphabetical order."
   ]
  },
  {
   "cell_type": "code",
   "execution_count": null,
   "metadata": {},
   "outputs": [],
   "source": [
    "dir(medium_pizza)"
   ]
  },
  {
   "cell_type": "markdown",
   "metadata": {},
   "source": [
    "Other objects, such as lists will have additional **dunder attributes** as well as other attributes, e.g. `append`, `copy`, `sort`, etc - all the methods available on a python list instance."
   ]
  },
  {
   "cell_type": "code",
   "execution_count": null,
   "metadata": {},
   "outputs": [],
   "source": [
    "lst = []\n",
    "dir(lst)"
   ]
  },
  {
   "cell_type": "markdown",
   "metadata": {},
   "source": [
    "The same goes for a python dictionary instnce, where you'll find `keys`, `values`, `update`, etc."
   ]
  },
  {
   "cell_type": "code",
   "execution_count": null,
   "metadata": {},
   "outputs": [],
   "source": [
    "obj = {}\n",
    "dir(obj)"
   ]
  },
  {
   "cell_type": "markdown",
   "metadata": {},
   "source": [
    "Everythong in python is an object, you can pass int, float, boolean, string and functions to `dir()` and see similar output."
   ]
  },
  {
   "cell_type": "code",
   "execution_count": null,
   "metadata": {},
   "outputs": [],
   "source": [
    "def my_method():\n",
    "    pass\n",
    "dir(my_method)"
   ]
  },
  {
   "cell_type": "markdown",
   "metadata": {},
   "source": [
    "### String Representation of a Class Instance"
   ]
  },
  {
   "cell_type": "code",
   "execution_count": null,
   "metadata": {},
   "outputs": [],
   "source": [
    "print(medium_pizza)"
   ]
  },
  {
   "cell_type": "markdown",
   "metadata": {},
   "source": [
    "By default we get where the class is defined, in this case it's the current file, and the memory address of this particular instance.\n",
    "\n",
    "Another **dunder** method, `__repr__`, can be implemented and used to return a string representation of the instance. It takes one parameter, `self`, and must return a string - overriding the default definition and returning a custom representation. "
   ]
  },
  {
   "cell_type": "code",
   "execution_count": null,
   "metadata": {},
   "outputs": [],
   "source": [
    "class Employee():\n",
    "  def __init__(self, name, age):\n",
    "    self.name = name\n",
    "    self.age = age\n",
    "\n",
    "  def __repr__(self):\n",
    "    return 'My name is {n}, and I am {a} yrs old'.format(n=self.name, a=self.age)\n",
    "\n",
    "tom = Employee('Tom', 54)\n",
    "print(tom)"
   ]
  },
  {
   "cell_type": "code",
   "execution_count": null,
   "metadata": {},
   "outputs": [],
   "source": [
    "# Example\n",
    "class Student:\n",
    "  def __init__(self, name, year):\n",
    "    self.name = name\n",
    "    self.year = year\n",
    "    self.grades = []\n",
    "    self.attendance = {'12122018': True}\n",
    "    \n",
    "  def add_grade(self, grade):\n",
    "    if type(grade) == Grade:\n",
    "      self.grades.append(grade)\n",
    "      \n",
    "  def get_average(self):\n",
    "    sum = 0\n",
    "    for grade in self.grades:\n",
    "      sum += grade\n",
    "    return sum / len(self.grades)\n",
    "    \n",
    "roger = Student('Roger van der Weyden', 10)\n",
    "sandro = Student('Sandro Botticelli', 12)\n",
    "pieter = Student('Pieter Bruegel the Elder', 8)\n",
    "\n",
    "class Grade:\n",
    "  minimum_passing = 65\n",
    "  \n",
    "  def __init__(self, score):\n",
    "    self.score = score\n",
    "    \n",
    "  def is_passing(self):\n",
    "    return self.score >= self.minimum_passing\n",
    "\n",
    "new_grade = Grade(100)\n",
    "pieter.add_grade(new_grade)"
   ]
  },
  {
   "cell_type": "code",
   "execution_count": null,
   "metadata": {},
   "outputs": [],
   "source": []
  }
 ],
 "metadata": {
  "kernelspec": {
   "display_name": "Python 3",
   "language": "python",
   "name": "python3"
  },
  "language_info": {
   "codemirror_mode": {
    "name": "ipython",
    "version": 3
   },
   "file_extension": ".py",
   "mimetype": "text/x-python",
   "name": "python",
   "nbconvert_exporter": "python",
   "pygments_lexer": "ipython3",
   "version": "3.6.7"
  }
 },
 "nbformat": 4,
 "nbformat_minor": 2
}
