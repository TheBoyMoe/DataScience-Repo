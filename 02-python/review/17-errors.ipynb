{
 "cells": [
  {
   "cell_type": "markdown",
   "metadata": {},
   "source": [
    "# Error Handling\n",
    "\n",
    "Two common errors encountered are `SyntaxError` and `RunTimeErrors`(the third error type are `Logic Errors` - does not raise an exception, you just don't get the result you expected).\n",
    "\n",
    "`SyntaxError` - there is an error in the way the code was written, e.g. missing paranthesis, improper spacing, punctuation that does not belong, mismatched quotes in a string etc\n",
    "\n",
    "`RunTimeErrors` - occur at the time of program execution - these are common since there is no type checking in Python until the program is actually run. These are the actual errors that we can catch with a `try/except` block. We can't (by default) catch `SyntaxErrors`."
   ]
  },
  {
   "cell_type": "markdown",
   "metadata": {},
   "source": [
    "### Common Run Time Errors\n",
    "\n",
    "`NameError` - the interpreter encounters a word it does not recognize, e.g. a variable that has not been defined that is being referenced.\n",
    "\n",
    "`ZeroDivisionError` - raised when the interpreter tries to divide by zero.\n",
    "\n",
    "`TypeError` - raised when trying to carryout an operation on a type that is not supported, e.g trying to add an `int` with a `string`"
   ]
  },
  {
   "cell_type": "markdown",
   "metadata": {},
   "source": [
    "## Handling errors/exceptions\n",
    "\n",
    "Use the `try-except` block. The interpreter will 'try' to run all the code in the `try` section, should an exception be raised during execution, the code in the `except:` block is run."
   ]
  },
  {
   "cell_type": "code",
   "execution_count": 1,
   "metadata": {},
   "outputs": [
    {
     "data": {
      "text/plain": [
       "16"
      ]
     },
     "execution_count": 1,
     "metadata": {},
     "output_type": "execute_result"
    }
   ],
   "source": [
    "def sqrt(x):\n",
    "    try:\n",
    "        return x ** 2\n",
    "    except:\n",
    "        return 'you need to provide a number'\n",
    "    \n",
    "sqrt(4)"
   ]
  },
  {
   "cell_type": "code",
   "execution_count": 2,
   "metadata": {},
   "outputs": [
    {
     "data": {
      "text/plain": [
       "'you need to provide a number'"
      ]
     },
     "execution_count": 2,
     "metadata": {},
     "output_type": "execute_result"
    }
   ],
   "source": [
    "sqrt('hi')"
   ]
  },
  {
   "cell_type": "markdown",
   "metadata": {},
   "source": [
    "We can catch specific errors and execute specific code, allowing other exceptions to pass and be raised. If we use `except` with out specifying the type of error, **ALL** errors will be caught."
   ]
  },
  {
   "cell_type": "code",
   "execution_count": 3,
   "metadata": {},
   "outputs": [
    {
     "data": {
      "text/plain": [
       "16.0"
      ]
     },
     "execution_count": 3,
     "metadata": {},
     "output_type": "execute_result"
    }
   ],
   "source": [
    "def sqrt(x):\n",
    "    try:\n",
    "        return x ** 2\n",
    "    except TypeError:\n",
    "        return 'TypeError: you need to provide a number'\n",
    "    \n",
    "sqrt(4.0)"
   ]
  },
  {
   "cell_type": "code",
   "execution_count": 4,
   "metadata": {},
   "outputs": [
    {
     "data": {
      "text/plain": [
       "'TypeError: you need to provide a number'"
      ]
     },
     "execution_count": 4,
     "metadata": {},
     "output_type": "execute_result"
    }
   ],
   "source": [
    "sqrt('Hi')"
   ]
  },
  {
   "cell_type": "code",
   "execution_count": 5,
   "metadata": {},
   "outputs": [
    {
     "data": {
      "text/plain": [
       "'hello!!!'"
      ]
     },
     "execution_count": 5,
     "metadata": {},
     "output_type": "execute_result"
    }
   ],
   "source": [
    "def shout_echo(word1, echo=1):\n",
    "    \"\"\"Concatenate echo copies of word1 and three\n",
    "    exclamation marks at the end of the string.\"\"\"\n",
    "\n",
    "    # Initialize empty strings: echo_word, shout_words\n",
    "    echo_word = ''\n",
    "    shout_words = ''\n",
    "    \n",
    "    # Add exception handling with try-except\n",
    "    try:\n",
    "        # Concatenate echo copies of word1 using *: echo_word\n",
    "        echo_word = word1 * echo\n",
    "\n",
    "        # Concatenate '!!!' to echo_word: shout_words\n",
    "        shout_words = echo_word + '!!!'\n",
    "    except:\n",
    "        # Print error message\n",
    "        print(\"word1 must be a string and echo must be an integer.\")\n",
    "\n",
    "    # Return shout_words\n",
    "    return shout_words\n",
    "\n",
    "shout_echo('hello')"
   ]
  },
  {
   "cell_type": "code",
   "execution_count": 6,
   "metadata": {},
   "outputs": [
    {
     "name": "stdout",
     "output_type": "stream",
     "text": [
      "word1 must be a string and echo must be an integer.\n",
      "word1 must be a string and echo must be an integer.\n"
     ]
    },
    {
     "data": {
      "text/plain": [
       "''"
      ]
     },
     "execution_count": 6,
     "metadata": {},
     "output_type": "execute_result"
    }
   ],
   "source": [
    "shout_echo(2,2)\n",
    "shout_echo('hello', 'goodbye')"
   ]
  },
  {
   "cell_type": "markdown",
   "metadata": {},
   "source": [
    "Often when an error occurs we'll want to raise an error using the `raise` keyword."
   ]
  },
  {
   "cell_type": "code",
   "execution_count": 10,
   "metadata": {},
   "outputs": [],
   "source": [
    "# raise an error and handle it\n",
    "def sqrt(x):\n",
    "    try:\n",
    "        # x is an int/float and less than 1\n",
    "        if (type(x) == int or type(x) == float) and (x < 1):\n",
    "            raise ValueError\n",
    "        return x ** 2\n",
    "    except TypeError:\n",
    "        return 'TypeError: x must be an int or float'\n",
    "    except ValueError:\n",
    "        return 'ValueError: x must be positive'\n",
    "        "
   ]
  },
  {
   "cell_type": "code",
   "execution_count": 11,
   "metadata": {},
   "outputs": [
    {
     "data": {
      "text/plain": [
       "4"
      ]
     },
     "execution_count": 11,
     "metadata": {},
     "output_type": "execute_result"
    }
   ],
   "source": [
    "sqrt(2)"
   ]
  },
  {
   "cell_type": "code",
   "execution_count": 12,
   "metadata": {},
   "outputs": [
    {
     "data": {
      "text/plain": [
       "'TypeError: x must be an int or float'"
      ]
     },
     "execution_count": 12,
     "metadata": {},
     "output_type": "execute_result"
    }
   ],
   "source": [
    "sqrt('hi')"
   ]
  },
  {
   "cell_type": "code",
   "execution_count": 13,
   "metadata": {},
   "outputs": [
    {
     "data": {
      "text/plain": [
       "'ValueError: x must be positive'"
      ]
     },
     "execution_count": 13,
     "metadata": {},
     "output_type": "execute_result"
    }
   ],
   "source": [
    "sqrt(-1)"
   ]
  },
  {
   "cell_type": "code",
   "execution_count": 16,
   "metadata": {},
   "outputs": [],
   "source": [
    "# raise an error and 'throw' it\n",
    "def greeting(name):\n",
    "    if type(name) != str:\n",
    "        raise TypeError('Argument must be a string!')\n",
    "    return 'Hello {}'.format(name)"
   ]
  },
  {
   "cell_type": "code",
   "execution_count": 18,
   "metadata": {},
   "outputs": [
    {
     "name": "stdout",
     "output_type": "stream",
     "text": [
      "Hello tom\n"
     ]
    }
   ],
   "source": [
    "try:\n",
    "    print(greeting('tom'))\n",
    "except Exception as error:\n",
    "    print(error)"
   ]
  },
  {
   "cell_type": "code",
   "execution_count": 19,
   "metadata": {},
   "outputs": [
    {
     "name": "stdout",
     "output_type": "stream",
     "text": [
      "Argument must be a string!\n"
     ]
    }
   ],
   "source": [
    "try:\n",
    "    print(greeting(1))\n",
    "except Exception as error:\n",
    "    print(error)"
   ]
  },
  {
   "cell_type": "code",
   "execution_count": 24,
   "metadata": {},
   "outputs": [
    {
     "data": {
      "text/plain": [
       "'particleparticle!!!'"
      ]
     },
     "execution_count": 24,
     "metadata": {},
     "output_type": "execute_result"
    }
   ],
   "source": [
    "def shout_echo(word1, echo=1):\n",
    "    \"\"\"Concatenate echo copies of word1 and three\n",
    "    exclamation marks at the end of the string.\"\"\"\n",
    "\n",
    "    # Raise an error with raise\n",
    "    if echo < 0:\n",
    "        raise ValueError('Echo must be greater than 0!!')\n",
    "\n",
    "    # Concatenate echo copies of word1 using *: echo_word\n",
    "    echo_word = word1 * echo\n",
    "\n",
    "    # Concatenate '!!!' to echo_word: shout_word\n",
    "    shout_word = echo_word + '!!!'\n",
    "\n",
    "    # Return shout_word\n",
    "    return shout_word\n",
    "\n",
    "shout_echo(\"particle\", echo=2)"
   ]
  },
  {
   "cell_type": "code",
   "execution_count": 28,
   "metadata": {},
   "outputs": [
    {
     "name": "stdout",
     "output_type": "stream",
     "text": [
      "Echo must be greater than 0!!\n"
     ]
    }
   ],
   "source": [
    "try:\n",
    "    shout_echo(\"particle\", echo=-5)\n",
    "except ValueError as error:\n",
    "    print(error)"
   ]
  },
  {
   "cell_type": "markdown",
   "metadata": {},
   "source": [
    "You can also add an `else` and `finally` clauses to the `try except` block, both are optional.\n",
    "\n",
    "The `else` clause is executed if the `try` block finishes execution without any exception being raised.\n",
    "\n",
    "`finally` is **always** executed after everything else."
   ]
  },
  {
   "cell_type": "code",
   "execution_count": 29,
   "metadata": {},
   "outputs": [
    {
     "name": "stdout",
     "output_type": "stream",
     "text": [
      "Operation successful\n",
      "Operation completed!\n"
     ]
    }
   ],
   "source": [
    "try:\n",
    "    # do something\n",
    "    pass\n",
    "except:\n",
    "    print('An error occurred')\n",
    "else:\n",
    "    print('Operation successful')\n",
    "finally:\n",
    "    # perform some clean up\n",
    "    print('Operation completed!')"
   ]
  },
  {
   "cell_type": "code",
   "execution_count": 32,
   "metadata": {},
   "outputs": [
    {
     "name": "stdout",
     "output_type": "stream",
     "text": [
      "Exception raised: division by zero\n",
      "Operation completed!\n"
     ]
    }
   ],
   "source": [
    "try:\n",
    "    5/0\n",
    "except Exception as error:\n",
    "    print('Exception raised:', error)\n",
    "else:\n",
    "    print('Operation successful')\n",
    "finally:\n",
    "    # perform some clean up\n",
    "    print('Operation completed!')"
   ]
  },
  {
   "cell_type": "code",
   "execution_count": 33,
   "metadata": {},
   "outputs": [
    {
     "name": "stdout",
     "output_type": "stream",
     "text": [
      "Enter file: wer.txt\n",
      "File not found, try again.\n",
      "Enter file: \n"
     ]
    }
   ],
   "source": [
    "# File handling with input loop\n",
    "while True:\n",
    "    try:\n",
    "        fname = input('Enter file: ')\n",
    "        if not fname:\n",
    "            break\n",
    "        f = open(fname, 'r')\n",
    "        print(f.read())\n",
    "        f.close()\n",
    "        break\n",
    "    except FileNotFoundError:\n",
    "        print('File not found, try again.')"
   ]
  },
  {
   "cell_type": "code",
   "execution_count": 34,
   "metadata": {},
   "outputs": [
    {
     "name": "stdout",
     "output_type": "stream",
     "text": [
      "[Errno 2] No such file or directory: './countries2.txt'\n",
      "Operation completed!\n"
     ]
    }
   ],
   "source": [
    "try:\n",
    "    with open('./countries2.txt', mode='r') as f:\n",
    "        line = f.readline()\n",
    "        while line:\n",
    "            print(line)\n",
    "            line = f.readline()\n",
    "except FileNotFoundError as error:\n",
    "    print(error)\n",
    "finally:\n",
    "    print('Operation completed!')"
   ]
  },
  {
   "cell_type": "code",
   "execution_count": 39,
   "metadata": {},
   "outputs": [
    {
     "name": "stdout",
     "output_type": "stream",
     "text": [
      "To one who has been long in city pent,\n",
      "\n",
      "’Tis very sweet to look into the fair\n",
      "\n",
      "And open face of heaven,—to breathe a prayer\n",
      "\n",
      "Full in the smile of the blue firmament.\n",
      "\n",
      "An additional line of text....\n",
      "\n",
      "!!Operation completed!!\n"
     ]
    }
   ],
   "source": [
    "try:\n",
    "    with open('./keats_sonnet.txt', mode='r') as f:\n",
    "        line = f.readline()\n",
    "        while line:\n",
    "            print(line)\n",
    "            line = f.readline()\n",
    "except FileNotFoundError as error:\n",
    "    print(error)\n",
    "finally:\n",
    "    print('\\n!!Operation completed!!')"
   ]
  }
 ],
 "metadata": {
  "kernelspec": {
   "display_name": "Python 3",
   "language": "python",
   "name": "python3"
  },
  "language_info": {
   "codemirror_mode": {
    "name": "ipython",
    "version": 3
   },
   "file_extension": ".py",
   "mimetype": "text/x-python",
   "name": "python",
   "nbconvert_exporter": "python",
   "pygments_lexer": "ipython3",
   "version": "3.6.7"
  }
 },
 "nbformat": 4,
 "nbformat_minor": 2
}
