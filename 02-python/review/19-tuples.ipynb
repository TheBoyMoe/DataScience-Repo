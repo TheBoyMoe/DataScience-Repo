{
 "cells": [
  {
   "cell_type": "markdown",
   "metadata": {},
   "source": [
    "# Tuples\n",
    "\n",
    "Similar to lists in that it can contain multiple values of different data type. However:\n",
    "\n",
    "- tuples are **immutable**, raises a `TypeError`.\n",
    "- created with **parentheses**, `()`.\n",
    "\n",
    "You can unpack a tuple into several variables in one-line in the order they appear"
   ]
  },
  {
   "cell_type": "code",
   "execution_count": 3,
   "metadata": {},
   "outputs": [
    {
     "name": "stdout",
     "output_type": "stream",
     "text": [
      "1 a {'a': 2, 'b': 3} [1, 2, 3, 4] (1, 2, 3)\n"
     ]
    }
   ],
   "source": [
    "my_tuple = (1, 'a', {'a': 2, 'b':3}, [1,2,3,4], (1,2,3))\n",
    "a,b,c,d,e = my_tuple\n",
    "print(a,b,c,d,e)"
   ]
  },
  {
   "cell_type": "markdown",
   "metadata": {},
   "source": [
    "You can also access tuple values using bracket notation as you do with lists."
   ]
  },
  {
   "cell_type": "code",
   "execution_count": 5,
   "metadata": {},
   "outputs": [
    {
     "name": "stdout",
     "output_type": "stream",
     "text": [
      "{'a': 2, 'b': 3} (1, 2, 3)\n"
     ]
    }
   ],
   "source": [
    "print(my_tuple[2], my_tuple[4])"
   ]
  },
  {
   "cell_type": "markdown",
   "metadata": {},
   "source": [
    "You can use the fact that you can 'unpack' a tuple with 'one-line' to **return multiple values** from a **function** by simply having that function return a tuple created with the appropriate values."
   ]
  },
  {
   "cell_type": "code",
   "execution_count": 6,
   "metadata": {},
   "outputs": [
    {
     "name": "stdout",
     "output_type": "stream",
     "text": [
      "4 9 12\n"
     ]
    }
   ],
   "source": [
    "def my_tuple(a, b, c):\n",
    "    return (a*2, b*3, c*3)\n",
    "\n",
    "a, b, c = my_tuple(2,3,4)\n",
    "print(a, b, c)"
   ]
  },
  {
   "cell_type": "markdown",
   "metadata": {},
   "source": [
    "We don't even need to construct the tuple, this will happen automatically, i.e. surround the return values with `()`."
   ]
  },
  {
   "cell_type": "code",
   "execution_count": 7,
   "metadata": {},
   "outputs": [
    {
     "name": "stdout",
     "output_type": "stream",
     "text": [
      "4 9 12\n"
     ]
    }
   ],
   "source": [
    "def my_tuple_two(a, b, c):\n",
    "    return a*2, b*3, c*3\n",
    "\n",
    "a, b, c = my_tuple_two(2,3,4)\n",
    "print(a, b, c)"
   ]
  }
 ],
 "metadata": {
  "kernelspec": {
   "display_name": "Python 3",
   "language": "python",
   "name": "python3"
  },
  "language_info": {
   "codemirror_mode": {
    "name": "ipython",
    "version": 3
   },
   "file_extension": ".py",
   "mimetype": "text/x-python",
   "name": "python",
   "nbconvert_exporter": "python",
   "pygments_lexer": "ipython3",
   "version": "3.7.1"
  }
 },
 "nbformat": 4,
 "nbformat_minor": 2
}
