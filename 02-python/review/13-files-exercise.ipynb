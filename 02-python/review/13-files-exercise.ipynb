{
 "cells": [
  {
   "cell_type": "markdown",
   "metadata": {},
   "source": [
    "# Files Exercise"
   ]
  },
  {
   "cell_type": "code",
   "execution_count": 8,
   "metadata": {},
   "outputs": [],
   "source": [
    "import csv\n",
    "import json\n",
    "\n",
    "# generate a list of usernames\n",
    "compromised_users = []\n",
    "with open('passwords.csv', newline='') as password_file:\n",
    "  password_csv = csv.DictReader(password_file)\n",
    "  for password_row in password_csv:\n",
    "    compromised_users.append(password_row['Username'])\n",
    "  # print(compromised_users)\n",
    "\n",
    "# write the list of usernames to a text file\n",
    "with open('compromised_users.txt', 'w') as compromised_user_file:\n",
    "  for compromised_user in compromised_users:\n",
    "    compromised_user_file.write(compromised_user + '\\n')\n",
    "  "
   ]
  },
  {
   "cell_type": "code",
   "execution_count": 9,
   "metadata": {},
   "outputs": [],
   "source": [
    "# write a python object to json\n",
    "with open('boss_message.json', 'w') as boss_message:\n",
    "  boss_message_dict = {\n",
    "    'recipient': 'The Boss',\n",
    "    'message': 'Mission Success'\n",
    "  }\n",
    "  # serialize to a json obj and write to the file\n",
    "  json.dump(boss_message_dict, boss_message)"
   ]
  },
  {
   "cell_type": "code",
   "execution_count": 12,
   "metadata": {},
   "outputs": [],
   "source": [
    "# write a multi-line string to csv\n",
    "with open('new_passwords.csv', 'w') as new_passwords_obj:\n",
    "  slash_null_sig = '''\n",
    "   _  _     ___   __  ____             \n",
    "  / )( \\   / __) /  \\(_  _)            \n",
    "  ) \\/ (  ( (_ \\(  O ) )(              \n",
    "  \\____/   \\___/ \\__/ (__)             \n",
    "   _  _   __    ___  __ _  ____  ____  \n",
    "  / )( \\ / _\\  / __)(  / )(  __)(    \\ \n",
    "  ) __ (/    \\( (__  )  (  ) _)  ) D ( \n",
    "  \\_)(_/\\_/\\_/ \\___)(__\\_)(____)(____/ \n",
    "          ____  __     __   ____  _  _ \n",
    "   ___   / ___)(  )   / _\\ / ___)/ )( \\\n",
    "  (___)  \\___ \\/ (_/\\/    \\\\___ \\) __ (\n",
    "         (____/\\____/\\_/\\_/(____/\\_)(_/\n",
    "   __ _  _  _  __    __                \n",
    "  (  ( \\/ )( \\(  )  (  )               \n",
    "  /    /) \\/ (/ (_/\\/ (_/\\             \n",
    "  \\_)__)\\____/\\____/\\____/\n",
    "  '''\n",
    "  new_passwords_obj.write(slash_null_sig)"
   ]
  }
 ],
 "metadata": {
  "kernelspec": {
   "display_name": "Python 3",
   "language": "python",
   "name": "python3"
  },
  "language_info": {
   "codemirror_mode": {
    "name": "ipython",
    "version": 3
   },
   "file_extension": ".py",
   "mimetype": "text/x-python",
   "name": "python",
   "nbconvert_exporter": "python",
   "pygments_lexer": "ipython3",
   "version": "3.7.1"
  }
 },
 "nbformat": 4,
 "nbformat_minor": 2
}
