{
 "cells": [
  {
   "cell_type": "markdown",
   "metadata": {},
   "source": [
    "# Inheritance and Polymorphism\n",
    "\n",
    "Class inheritance or subclassing in python follows the basic example:"
   ]
  },
  {
   "cell_type": "code",
   "execution_count": 2,
   "metadata": {},
   "outputs": [],
   "source": [
    "# base class\n",
    "class User:\n",
    "    is_admin = False # class variable\n",
    "    \n",
    "    # constructor\n",
    "    def __init__(self, username):\n",
    "        self.username = username # instance variable\n",
    "        \n",
    "# subclass\n",
    "class Admin(User):\n",
    "    is_admin = True"
   ]
  },
  {
   "cell_type": "code",
   "execution_count": 9,
   "metadata": {},
   "outputs": [
    {
     "name": "stdout",
     "output_type": "stream",
     "text": [
      "Tom False\n",
      "Mike True\n"
     ]
    }
   ],
   "source": [
    "user = User('Tom')\n",
    "admin = Admin('Mike')\n",
    "\n",
    "print(user.username, user.is_admin)\n",
    "print(admin.username, admin.is_admin)"
   ]
  },
  {
   "cell_type": "markdown",
   "metadata": {},
   "source": [
    "Our `Admin` subclass has inherited the constructor(we need to pass it the username on initialization) and class variable, `is_admin` from the base or parent class, `User`.\n",
    "\n",
    "We can validate that a class is a subclass through the `issubclass()` function. It takes two arguments and returns `True` if the 1st argument is a subclass of the 2nd, otherwise `False`. It raises a `TypeError` if either argument is not a class."
   ]
  },
  {
   "cell_type": "code",
   "execution_count": 11,
   "metadata": {},
   "outputs": [
    {
     "data": {
      "text/plain": [
       "True"
      ]
     },
     "execution_count": 11,
     "metadata": {},
     "output_type": "execute_result"
    }
   ],
   "source": [
    "issubclass(Admin, User)"
   ]
  },
  {
   "cell_type": "code",
   "execution_count": 12,
   "metadata": {},
   "outputs": [
    {
     "data": {
      "text/plain": [
       "False"
      ]
     },
     "execution_count": 12,
     "metadata": {},
     "output_type": "execute_result"
    }
   ],
   "source": [
    "issubclass(User, Admin)"
   ]
  },
  {
   "cell_type": "markdown",
   "metadata": {},
   "source": [
    "### Inheritance and Python Exceptions\n",
    "\n",
    "In Python, exceptions (errors that are raised) inherit from the `Exception` class. Thus `TypeError`, `ZeroDivisionError`, etc all inherit from the `Exception` class."
   ]
  },
  {
   "cell_type": "code",
   "execution_count": 13,
   "metadata": {},
   "outputs": [
    {
     "data": {
      "text/plain": [
       "True"
      ]
     },
     "execution_count": 13,
     "metadata": {},
     "output_type": "execute_result"
    }
   ],
   "source": [
    "issubclass(TypeError, Exception)"
   ]
  },
  {
   "cell_type": "markdown",
   "metadata": {},
   "source": [
    "This also means that we can create our own exceptions that inherit from `Exception`. "
   ]
  },
  {
   "cell_type": "code",
   "execution_count": 14,
   "metadata": {},
   "outputs": [],
   "source": [
    "class KitchenException(Exception):\n",
    "  \"\"\"\n",
    "  Exception that gets thrown when a kitchen appliance isn't working\n",
    "  \"\"\"\n",
    "\n",
    "class MicrowaveException(KitchenException):\n",
    "  \"\"\"\n",
    "  Exception for when the microwave stops working\n",
    "  \"\"\"\n",
    "\n",
    "class RefrigeratorException(KitchenException):\n",
    "  \"\"\"\n",
    "  Exception for when the refrigerator stops working\n",
    "  \"\"\""
   ]
  },
  {
   "cell_type": "markdown",
   "metadata": {},
   "source": [
    "We define `KitchenException` which inherits from the base, `Exception` class, so it inherits the behaviour of a regular **exception**. We then subclass `KitchenException` to create specific exceptions, each being raised under different circumstances. "
   ]
  },
  {
   "cell_type": "markdown",
   "metadata": {},
   "source": [
    "```py\n",
    "def get_food_from_fridge():\n",
    "  if refrigerator.cooling == False:\n",
    "    raise RefrigeratorException\n",
    "  else:\n",
    "    return food\n",
    "\n",
    "def heat_food(food):\n",
    "  if microwave.working == False:\n",
    "    raise MicrowaveException\n",
    "  else:\n",
    "    microwave.cook(food)\n",
    "    return food\n",
    "\n",
    "try:\n",
    "  food = get_food_from_fridge() # potentially raises RefrigeratorException\n",
    "  food = heat_food(food) # potentially raises MicrowaveException\n",
    "except KitchenException: # catches EITHER\n",
    "  food = order_takeout()\n",
    "```"
   ]
  },
  {
   "cell_type": "markdown",
   "metadata": {},
   "source": [
    "In the above example, we attempt to retrieve food from the fridge and heat it in the microwave. If either `RefrigeratorException` or `MicrowaveException` is raised, we opt to order takeout instead. We catch both exceptions in our `try/except` block because both are subclasses of `KitchenException`."
   ]
  },
  {
   "cell_type": "code",
   "execution_count": 12,
   "metadata": {},
   "outputs": [
    {
     "name": "stdout",
     "output_type": "stream",
     "text": [
      "{'blue': 5, 'red': 1, 'green': 0}\n"
     ]
    }
   ],
   "source": [
    "# Define a custom error that \n",
    "class OutOfStock(Exception):\n",
    "    '''The current item is out of stock'''\n",
    "    def __init__(self, message):\n",
    "        self.message = message\n",
    "\n",
    "# Update the class below to raise OutOfStock\n",
    "class CandleShop:\n",
    "    name = \"Here's a Hot Tip: Buy Drip Candles\"\n",
    "    def __init__(self, stock):\n",
    "        self.stock = stock\n",
    "    \n",
    "    def buy(self, color):\n",
    "        if self.stock[color] < 1:\n",
    "            raise OutOfStock('The requested item is out of stock')\n",
    "        self.stock[color] -= 1\n",
    "\n",
    "candle_shop = CandleShop({'blue': 6, 'red': 2, 'green': 1})\n",
    "candle_shop.buy('blue')\n",
    "candle_shop.buy('red')\n",
    "candle_shop.buy('green')\n",
    "print(candle_shop.stock)"
   ]
  },
  {
   "cell_type": "code",
   "execution_count": 14,
   "metadata": {},
   "outputs": [
    {
     "name": "stdout",
     "output_type": "stream",
     "text": [
      "OutOfStock: The requested item is out of stock\n"
     ]
    }
   ],
   "source": [
    "# This should raise OutOfStock:\n",
    "try:\n",
    "    candle_shop.buy('green')\n",
    "except OutOfStock as error:\n",
    "    print('OutOfStock:', error)"
   ]
  },
  {
   "cell_type": "markdown",
   "metadata": {},
   "source": [
    "### Overriding Methods\n",
    "\n",
    "We can **override** methods in a subclass by simply providing a new definition of the method. When overriding methods the method name remains the same, but the parameters and code block can change."
   ]
  },
  {
   "cell_type": "code",
   "execution_count": 36,
   "metadata": {},
   "outputs": [],
   "source": [
    "class User:\n",
    "    def __init__(self, username, permissions):\n",
    "        self.username = username\n",
    "        self.permissions = permissions\n",
    "\n",
    "    def has_permission_for(self, key):\n",
    "        if self.permissions.get(key):\n",
    "            return True\n",
    "        else:\n",
    "            return False\n",
    "\n",
    "class Admin(User):\n",
    "    def has_permission_for(self, key):\n",
    "        return True"
   ]
  },
  {
   "cell_type": "markdown",
   "metadata": {},
   "source": [
    "Above we defined a class `User` which takes a parameter, permissions, which is a dictionary in its constructor. The method `.has_permission_for()` checks to see if a given key is in its permissions dictionary.\n",
    "\n",
    "Here we define an `Admin` class that subclasses `User`. It has all methods, attributes, and functionality that `User` has. However, `has_permission_for()` does not check its permissions dictionary, it simply returns `True` everytime."
   ]
  },
  {
   "cell_type": "code",
   "execution_count": 32,
   "metadata": {},
   "outputs": [],
   "source": [
    "user = User('tom', {'file': True})\n",
    "admin = Admin('mike', {'file': False})"
   ]
  },
  {
   "cell_type": "code",
   "execution_count": 33,
   "metadata": {},
   "outputs": [
    {
     "data": {
      "text/plain": [
       "True"
      ]
     },
     "execution_count": 33,
     "metadata": {},
     "output_type": "execute_result"
    }
   ],
   "source": [
    "user.has_permission_for('file')"
   ]
  },
  {
   "cell_type": "code",
   "execution_count": 34,
   "metadata": {},
   "outputs": [
    {
     "data": {
      "text/plain": [
       "True"
      ]
     },
     "execution_count": 34,
     "metadata": {},
     "output_type": "execute_result"
    }
   ],
   "source": [
    "admin.has_permission_for('file')"
   ]
  },
  {
   "cell_type": "markdown",
   "metadata": {},
   "source": [
    "In some cases we do not want to re-define an existing method, but add some logic to the existing method. We can do so using `super()`. It provides a **proxy object** with which we can call the method in the parent/base/superclass. We call the required function as a method on `super()`."
   ]
  },
  {
   "cell_type": "code",
   "execution_count": 35,
   "metadata": {},
   "outputs": [],
   "source": [
    "class Sink:\n",
    "    def __init__(self, basin, nozzle):\n",
    "        self.basin = basin\n",
    "        self.nozzle = nozzle\n",
    "\n",
    "class KitchenSink(Sink):\n",
    "    def __init__(self, basin, nozzle, trash_compactor=None):\n",
    "        super().__init__(self, basin, nozzle)\n",
    "        if trash_compactor:\n",
    "            self.trash_compactor = trash_compactor"
   ]
  },
  {
   "cell_type": "markdown",
   "metadata": {},
   "source": [
    "`KitchenSink`'s constructor takes an additional parameter, `trash_compactor`, and then calls the constructor for `Sink` with the `basin` and `nozzle` parameters it received using the `super()` function in the line `super().__init__(self, basin, nozzle)`.\n",
    "\n",
    "In this way, we can override a parent class's method to add some new functionality (like adding a `trash_compactor` to a sink), while still retaining the behavior of the original constructor (like setting the `basin` and `nozzle` as instance variables)."
   ]
  },
  {
   "cell_type": "code",
   "execution_count": 48,
   "metadata": {},
   "outputs": [],
   "source": [
    "class PotatoSalad:\n",
    "    def __init__(self, potatoes, celery, onions):\n",
    "        self.potatoes = potatoes\n",
    "        self.celery = celery\n",
    "        self.onions = onions\n",
    "    \n",
    "class PotatoSaladPlus(PotatoSalad):\n",
    "    def __init__(self, potatoes, celery, onions):\n",
    "        super().__init__(potatoes, celery, onions)\n",
    "        self.raisins = 40\n",
    "    \n",
    "class PotatoSaladMinus(PotatoSalad):\n",
    "    def __init__(self):\n",
    "        self.potatoes = 5\n",
    "        \n",
    "saladPlus = PotatoSaladPlus(5, 20, 12)\n",
    "saladMinus = PotatoSaladMinus()"
   ]
  },
  {
   "cell_type": "markdown",
   "metadata": {},
   "source": [
    "### Interfaces\n",
    "\n",
    "There are times when it might not matter which class an object is an instance of, all we're interested in is whether the object can perform a particular task(s), i.e. has a particular behaviour.\n",
    "\n",
    "```py\n",
    "class Chess:\n",
    "  def __init__(self):\n",
    "    self.board = setup_board()\n",
    "    self.pieces = add_chess_pieces()\n",
    "\n",
    "  def play(self):\n",
    "    print(\"Playing chess!\")\n",
    "\n",
    "class Checkers:\n",
    "  def __init__(self):\n",
    "    self.board = setup_board()\n",
    "    self.pieces = add_checkers_pieces()\n",
    "\n",
    "  def play(self):\n",
    "    print(\"Playing checkers!\")\n",
    "```"
   ]
  },
  {
   "cell_type": "markdown",
   "metadata": {},
   "source": [
    "Both classes define the same constructor and have a `play()` method.  If we have a `play_game()` function that takes either object instance, it could call the `.play()` method without having to check which class the object is an instance of.\n",
    "\n",
    "```py\n",
    "def play_game(chess_or_checkers):\n",
    "  chess_or_checkers.play()\n",
    "\n",
    "chess_game = Chess()\n",
    "checkers_game = Checkers()\n",
    "chess_game_2 = Chess()\n",
    "\n",
    "for game in [chess_game, checkers_game, chess_game_2]:\n",
    "  play_game(game)\n",
    "\n",
    "Playing chess!\n",
    "Playing checkers!\n",
    "Playing chess!\n",
    "```"
   ]
  },
  {
   "cell_type": "markdown",
   "metadata": {},
   "source": [
    "When two classes have the same method names and attributes, we say they implement the same interface - different objects from different classes can perform the same operation (even if it is implemented differently for each class)."
   ]
  },
  {
   "cell_type": "markdown",
   "metadata": {},
   "source": [
    "### Polymorphism\n",
    "\n",
    "Polymorphism is used to describe the same method carrying out different actions depending on the type of data, e.g `+` will add two numbers, will concatenating two strings and combining two lists. While `len()` will count the number of elements in a list, number of attributes in a dictionary and return the length of a string.\n",
    "\n",
    "One way that we can introduce polymorphism to our class definitions is by using Python's special dunder methods. We ca use these so that our custom classes look and behave like built-in classes."
   ]
  },
  {
   "cell_type": "code",
   "execution_count": 51,
   "metadata": {},
   "outputs": [],
   "source": [
    "class Color:\n",
    "    def __init__(self, red, blue, green):\n",
    "        self.red = red\n",
    "        self.blue = blue\n",
    "        self.green = green\n",
    "\n",
    "    def __repr__(self):\n",
    "        return \"Color with RGB = ({red}, {blue}, {green})\".format(red=self.red, blue=self.blue, green=self.green)\n",
    "\n",
    "    def __add__(self, other):\n",
    "        \"\"\"\n",
    "        Adds two RGB colors together\n",
    "        Maximum value is 255\n",
    "        \"\"\"\n",
    "        new_red = min(self.red + other.red, 255)\n",
    "        new_blue = min(self.blue + other.blue, 255)\n",
    "        new_green = min(self.green + other.green, 255)\n",
    "\n",
    "        return Color(new_red, new_blue, new_green)\n",
    "\n",
    "red = Color(255, 0, 0)\n",
    "blue = Color(0, 255, 0)\n",
    "green = Color(0, 0, 255)"
   ]
  },
  {
   "cell_type": "markdown",
   "metadata": {},
   "source": [
    "We can now add the colors together with the `+` operator."
   ]
  },
  {
   "cell_type": "code",
   "execution_count": 52,
   "metadata": {},
   "outputs": [],
   "source": [
    "# Color with RGB: (255, 255, 0)\n",
    "magenta = red + blue\n",
    "\n",
    "# Color with RGB: (0, 255, 255)\n",
    "cyan = blue + green\n",
    "\n",
    "# Color with RGB: (255, 0, 255)\n",
    "yellow = red + green\n",
    "\n",
    "# Color with RGB: (255, 255, 255)\n",
    "white = red + blue + green"
   ]
  },
  {
   "cell_type": "code",
   "execution_count": 56,
   "metadata": {},
   "outputs": [
    {
     "data": {
      "text/plain": [
       "<__main__.Molecule at 0x7f0868094898>"
      ]
     },
     "execution_count": 56,
     "metadata": {},
     "output_type": "execute_result"
    }
   ],
   "source": [
    "class Atom:\n",
    "    def __init__(self, label):\n",
    "        self.label = label\n",
    "    \n",
    "    def __add__(self, other):\n",
    "        return Molecule([self, other])\n",
    "    \n",
    "class Molecule:\n",
    "    def __init__(self, atoms):\n",
    "        if type(atoms) is list:\n",
    "            self.atoms = atoms\n",
    "      \n",
    "sodium = Atom(\"Na\")\n",
    "chlorine = Atom(\"Cl\")\n",
    "salt = sodium + chlorine\n",
    "salt\n",
    "# salt = sodium + chlorine"
   ]
  },
  {
   "cell_type": "markdown",
   "metadata": {},
   "source": [
    "There are other Python **dunder** methods that allow us to use the same syntax as python's built in data types, e.g. we can **override** the `__iter__()`, `__len__()` and `__contains__()` methods so that our custom class behaves like a list. This allows you to use syntax you already know for built in classes on your custom classes."
   ]
  },
  {
   "cell_type": "code",
   "execution_count": 57,
   "metadata": {},
   "outputs": [],
   "source": [
    "class UserGroup:\n",
    "    def __init__(self, users, permissions):\n",
    "        self.user_list = users\n",
    "        self.permissions = permissions\n",
    "\n",
    "    def __iter__(self):\n",
    "        return iter(self.user_list)\n",
    "\n",
    "    def __len__(self):\n",
    "        return len(self.user_list)\n",
    "\n",
    "    def __contains__(self, user):\n",
    "        return user in self.user_list"
   ]
  },
  {
   "cell_type": "markdown",
   "metadata": {},
   "source": [
    "`__iter__` -  the iterator, we use the `iter()` function to turn the list `self.user_list` into an iterator so we can use `for user in user_group` syntax.\n",
    "\n",
    "`__len__` - the length method, so when we call `len(user_group)` it will return the length of the underlying `self.user_list` list.\n",
    "\n",
    "`__contains__` - the check for containment, allows us to use `user in user_group` syntax to check if a User exists in the `user_list` we have."
   ]
  },
  {
   "cell_type": "code",
   "execution_count": 59,
   "metadata": {},
   "outputs": [],
   "source": [
    "class User:\n",
    "    def __init__(self, username):\n",
    "        self.username = username\n",
    "\n",
    "diana = User('diana')\n",
    "frank = User('frank')\n",
    "jenn = User('jenn')\n",
    "\n",
    "can_edit = UserGroup([diana, frank], {'can_edit_page': True})\n",
    "can_delete = UserGroup([diana, jenn], {'can_delete_posts': True})"
   ]
  },
  {
   "cell_type": "code",
   "execution_count": 62,
   "metadata": {},
   "outputs": [
    {
     "name": "stdout",
     "output_type": "stream",
     "text": [
      "2\n",
      "2\n"
     ]
    }
   ],
   "source": [
    "# check the three methods\n",
    "print(len(can_edit))\n",
    "print(len(can_delete))"
   ]
  },
  {
   "cell_type": "code",
   "execution_count": 63,
   "metadata": {},
   "outputs": [
    {
     "name": "stdout",
     "output_type": "stream",
     "text": [
      "diana\n",
      "frank\n"
     ]
    }
   ],
   "source": [
    "for user in can_edit:\n",
    "    print(user.username)"
   ]
  },
  {
   "cell_type": "code",
   "execution_count": 64,
   "metadata": {},
   "outputs": [
    {
     "name": "stdout",
     "output_type": "stream",
     "text": [
      "Where are you!\n"
     ]
    }
   ],
   "source": [
    "if frank in can_delete:\n",
    "    print('I found you!')\n",
    "else:\n",
    "    print('Where are you!')"
   ]
  },
  {
   "cell_type": "code",
   "execution_count": 67,
   "metadata": {},
   "outputs": [],
   "source": [
    "class SortedList(list):\n",
    "  # sort the list upon initialization\n",
    "    def __init__(self, lst):\n",
    "        super().__init__(lst)\n",
    "        self.sort()\n",
    "    \n",
    "  # add an item to the list and sort it\n",
    "    def append(self, value):\n",
    "        super().append(value)\n",
    "        self.sort()"
   ]
  },
  {
   "cell_type": "code",
   "execution_count": 69,
   "metadata": {},
   "outputs": [
    {
     "data": {
      "text/plain": [
       "[1, 1, 1, 2, 3, 3, 4, 5, 5, 6, 6, 7, 9, 11, 22, 55, 65, 88]"
      ]
     },
     "execution_count": 69,
     "metadata": {},
     "output_type": "execute_result"
    }
   ],
   "source": [
    "sorted_list = SortedList([2,6,1,22,11,55,5,7,9,4,6,3,1,3,5,1,88,65])\n",
    "sorted_list"
   ]
  },
  {
   "cell_type": "code",
   "execution_count": 70,
   "metadata": {},
   "outputs": [
    {
     "data": {
      "text/plain": [
       "[1, 1, 1, 2, 3, 3, 4, 5, 5, 6, 6, 7, 9, 11, 22, 29, 55, 63, 65, 88, 100]"
      ]
     },
     "execution_count": 70,
     "metadata": {},
     "output_type": "execute_result"
    }
   ],
   "source": [
    "sorted_list.append(100)\n",
    "sorted_list.append(63)\n",
    "sorted_list.append(29)\n",
    "sorted_list"
   ]
  }
 ],
 "metadata": {
  "kernelspec": {
   "display_name": "Python 3",
   "language": "python",
   "name": "python3"
  },
  "language_info": {
   "codemirror_mode": {
    "name": "ipython",
    "version": 3
   },
   "file_extension": ".py",
   "mimetype": "text/x-python",
   "name": "python",
   "nbconvert_exporter": "python",
   "pygments_lexer": "ipython3",
   "version": "3.6.7"
  }
 },
 "nbformat": 4,
 "nbformat_minor": 2
}
