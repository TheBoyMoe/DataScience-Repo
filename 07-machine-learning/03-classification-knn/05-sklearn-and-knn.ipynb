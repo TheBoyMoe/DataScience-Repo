{
 "cells": [
  {
   "cell_type": "markdown",
   "metadata": {},
   "source": [
    "# Using Scikit-Learn to calculate KNN\n",
    "\n",
    "`sklearn` comes with a built in K-Nearest Neighbor classifier. In order to use it:\n",
    "\n",
    "1.  create a `KNeighborsClassifier` object. This object takes one parameter - k\n",
    "\n",
    "```py\n",
    "#  create a classifier where k = 3\n",
    "classifier = KNeighborsClassifier(n_neighbors = 3)\n",
    "```\n",
    "\n",
    "2. train the classifier - use the classifier objects `.fit()` method. It takes two parameters, the first is a list of points, and the second is the labels associated with those points.\n",
    "\n",
    "```py\n",
    "training_points = [\n",
    "  [0.5, 0.2, 0.1],\n",
    "  [0.9, 0.7, 0.3],\n",
    "  [0.4, 0.5, 0.7]\n",
    "]\n",
    "training_labels = [0, 1, 1]\n",
    "\n",
    "classifier.fit(training_points, training_labels)\n",
    "```\n",
    "\n",
    "3. after training the model, we can classify new points - use the classifier objects `.predict()` method. It takes a list of points that you want to classify and returns a list of its guesses for those points.\n",
    "\n",
    "```py\n",
    "unknown_points = [\n",
    "  [0.2, 0.1, 0.7],\n",
    "  [0.4, 0.7, 0.6],\n",
    "  [0.5, 0.8, 0.1]\n",
    "]\n",
    "\n",
    "guesses = classifier.predict(unknown_points)\n",
    "```"
   ]
  },
  {
   "cell_type": "markdown",
   "metadata": {},
   "source": [
    "### Example\n",
    "\n",
    "```py\n",
    "from movies import movie_dataset, labels\n",
    "from sklearn.neighbors import KNeighborsClassifier\n",
    "\n",
    "# using k == 5\n",
    "classifier = KNeighborsClassifier(n_neighbors = 5)\n",
    "\n",
    "# train the classifier\n",
    "classifier.fit(movie_dataset, labels)\n",
    "\n",
    "# classifiy some unknown data points\n",
    "unknown_movies = [[.45, .2, .5], [.25, .8, .9],[.1, .1, .9]]\n",
    "guesses = classifier.predict(unknown_movies)\n",
    "print(guesses) # [1, 1, 0] - good, good, bad\n",
    "```"
   ]
  }
 ],
 "metadata": {
  "kernelspec": {
   "display_name": "Python 3",
   "language": "python",
   "name": "python3"
  },
  "language_info": {
   "codemirror_mode": {
    "name": "ipython",
    "version": 3
   },
   "file_extension": ".py",
   "mimetype": "text/x-python",
   "name": "python",
   "nbconvert_exporter": "python",
   "pygments_lexer": "ipython3",
   "version": "3.7.0"
  }
 },
 "nbformat": 4,
 "nbformat_minor": 2
}
