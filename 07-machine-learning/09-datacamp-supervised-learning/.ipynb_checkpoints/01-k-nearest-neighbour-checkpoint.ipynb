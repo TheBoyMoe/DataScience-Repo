{
 "cells": [
  {
   "cell_type": "markdown",
   "metadata": {},
   "source": [
    "# K Nearest Neighbour and Sklearn\n",
    "\n",
    "KNN is an algorithm based on the idea that data points with similar atributes tend to fall into similar categories. When you plot a series of data points in a 2-D plot, data points with similar attributes will be close together and so will be classified as belonging to the same category.\n",
    "\n",
    "The KNN algorithm draws a series of **decision boundaries** in order to classify the data points. \n",
    "\n",
    "![knn](imgs/knn-1.png)"
   ]
  },
  {
   "cell_type": "markdown",
   "metadata": {},
   "source": [
    "All machine learning models in sklearn are implemented as Python classes. These classes serve two purposes, they:\n",
    "\n",
    "- implement the algorithms for learning and predicting\n",
    "- store the information learned from the data.\n",
    "\n",
    "Training the model is called **fitting** a model to the data, we use the sklearn `.fit()` method.\n",
    "\n",
    "To predict the label of a new data point we use sklearn's `.predict()` method."
   ]
  },
  {
   "cell_type": "markdown",
   "metadata": {},
   "source": [
    "### Overview of using Sklearn to fit a KNN Classifier"
   ]
  },
  {
   "cell_type": "code",
   "execution_count": null,
   "metadata": {},
   "outputs": [],
   "source": [
    "import pandas as pd\n",
    "import numpy as np\n",
    "\n",
    "from sklearn.neighbors import KNeighborsClassifier\n",
    "from sklearn import datasets\n",
    "\n",
    "# load the data\n",
    "iris = datasets.load_iris()\n",
    "X = iris.data # features, 2-D numpy array\n",
    "y = iris.target # target, 1-D numpy array\n",
    "\n",
    "# create the classifier\n",
    "knn = KNeighborsClassifier(n_neighbors=6)\n",
    "\n",
    "# fit the classifier to the training set\n",
    "knn.fit(X, y)\n",
    "KNeighborsClassifier(algorithm='auto', leaf_size=30, metric='minkowski', \n",
    "                     metric_params=None, n_jobs=1, n_neighbors=6, weights='uniform');"
   ]
  },
  {
   "cell_type": "markdown",
   "metadata": {},
   "source": [
    "**NOTE**  \n",
    "\n",
    "Sklearn requires that:\n",
    "\n",
    "- the features are homogenous, continuous values, e.g. all floats, as apposed to categorical data, e.g. male/female\n",
    "- the features and labels/target must be a numpy array or pandas dataframe of the correct shape.\n",
    "- there are no missing values in the dataset.\n",
    "- each row be a sample or observation point, and each column be a variable or feature\n",
    "- the target needs to be a single column with the same number of observations as the feature data. \n",
    "\n",
    "Common practce name the feature array `X` and response variable `y`.\n",
    "\n",
    "The classifier is returned modified to fit our data. We can now pass it some unlabelled data. \n",
    "\n",
    "We call the `.predict()` method on the classifier and pass it the unlabelled data. Sklearn requires that the unlabelled data be an array, with the features in columns and the observations in rows.\n",
    "\n",
    "For every observation in our unlabelled dataset, the classifier will return a prediction. Thus a unlabelled dataset of (3,4) - 3 observations/4 features, will return a 1-D array with 3 predictions, e.g. [1, 1, 0]"
   ]
  },
  {
   "cell_type": "code",
   "execution_count": null,
   "metadata": {},
   "outputs": [],
   "source": [
    "X_new = []\n",
    "\n",
    "# predicting on unlabelled data\n",
    "y_prediction = knn.predict(X_new)"
   ]
  },
  {
   "cell_type": "markdown",
   "metadata": {},
   "source": [
    "Using the house votes as an example."
   ]
  },
  {
   "cell_type": "code",
   "execution_count": null,
   "metadata": {},
   "outputs": [],
   "source": [
    "import pandas as pd\n",
    "import numpy as np\n",
    "\n",
    "from sklearn.neighbors import KNeighborsClassifier\n",
    "\n",
    "df = "
   ]
  }
 ],
 "metadata": {
  "kernelspec": {
   "display_name": "Python 3",
   "language": "python",
   "name": "python3"
  },
  "language_info": {
   "codemirror_mode": {
    "name": "ipython",
    "version": 3
   },
   "file_extension": ".py",
   "mimetype": "text/x-python",
   "name": "python",
   "nbconvert_exporter": "python",
   "pygments_lexer": "ipython3",
   "version": "3.6.7"
  }
 },
 "nbformat": 4,
 "nbformat_minor": 2
}
