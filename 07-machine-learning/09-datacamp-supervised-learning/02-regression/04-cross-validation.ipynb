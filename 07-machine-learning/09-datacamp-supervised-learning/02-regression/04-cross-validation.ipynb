{
 "cells": [
  {
   "cell_type": "markdown",
   "metadata": {},
   "source": [
    "# Cross Validation\n",
    "\n",
    "We're calculating model performance using **R^2**. However, this leads to a problem. We're calculating **R^2** on our test set, which means the result is dependent upon the way we split up the data, **train-test split**, which is arbitary. The the data points in our data may have some 'pecularity' which will influence our model's ability to generalize on unseen data.\n",
    "\n",
    "To overcome this issue, we can implement **cross validation**.\n",
    "\n",
    "**Cross-Validation basics**\n",
    "\n",
    "- begin by spliting the dataset into five groups or **folds**.\n",
    "\n",
    "- set aside the first **fold** as a test set.\n",
    "\n",
    "- fit the model on the remaining 4 folds.\n",
    "\n",
    "- predict on the test set, computing .the metric of interest.\n",
    "\n",
    "- Repeat the process, but this time set aside the **2nd fold** as the test set and fit on the remaining folds. Then predict the metric of interest on the test set(2nd fold) one more.\n",
    "\n",
    "- Repeat this process again using the **3rd fold** as the test set, and so on until all **5 folds** have been used as test sets.\n",
    "\n",
    "As a result, we'll end up with five values of `R^2`, from which we can calulate the `mean`, `median`, `95% confidence intervals`, etc.\n",
    "\n",
    "This particular process is called **5-fold cross validation**. We can use **10 folds** - **10 fold cross validation**.\n",
    "\n",
    "Generally refered to **k fold validation** or **k fold CV**\n",
    "\n",
    "This technique avoids the problem on your predicted metric being dependent on the **train-test split**, but is computationally more expensive the more folds carried out."
   ]
  },
  {
   "cell_type": "markdown",
   "metadata": {},
   "source": [
    "Cross-validation is a vital step in evaluating a model. It maximizes the amount of data that is used to train the model, as during the course of training, the model is not only trained, but also tested on all of the available data.\n",
    "\n",
    "By default, scikit-learn's `cross_val_score()` function uses `R^2` as the metric of choice for regression. Since you are performing 5-fold cross-validation, the function will return 5 scores."
   ]
  },
  {
   "cell_type": "markdown",
   "metadata": {},
   "source": [
    "### Performing CV in sklearn"
   ]
  },
  {
   "cell_type": "code",
   "execution_count": 2,
   "metadata": {},
   "outputs": [],
   "source": [
    "import pandas as pd\n",
    "import numpy as np\n",
    "import seaborn as sns\n",
    "import matplotlib.pyplot as plt\n",
    "%matplotlib inline\n",
    "\n",
    "from sklearn.linear_model import LinearRegression\n",
    "from sklearn.model_selection import cross_val_score;"
   ]
  },
  {
   "cell_type": "markdown",
   "metadata": {},
   "source": [
    "We'll use the Boston housing data to calculate house price using multiple features, `MEDV` (average house price) being the target."
   ]
  },
  {
   "cell_type": "code",
   "execution_count": 3,
   "metadata": {},
   "outputs": [
    {
     "name": "stdout",
     "output_type": "stream",
     "text": [
      "<class 'numpy.ndarray'> (506, 13)\n",
      "<class 'numpy.ndarray'> (506,)\n"
     ]
    }
   ],
   "source": [
    "# prepare our X and y sets\n",
    "df = pd.read_csv('../data/boston.csv')\n",
    "X = df.drop('MEDV', axis=1).values\n",
    "y = df.MEDV.values\n",
    "print(type(X), X.shape)\n",
    "print(type(y), y.shape)"
   ]
  },
  {
   "cell_type": "code",
   "execution_count": 4,
   "metadata": {},
   "outputs": [
    {
     "name": "stdout",
     "output_type": "stream",
     "text": [
      "(506, 1)\n"
     ]
    }
   ],
   "source": [
    "y = y.reshape(-1, 1)\n",
    "print(y.shape)"
   ]
  },
  {
   "cell_type": "code",
   "execution_count": 9,
   "metadata": {},
   "outputs": [
    {
     "name": "stdout",
     "output_type": "stream",
     "text": [
      "<class 'numpy.ndarray'> (5,)\n"
     ]
    },
    {
     "data": {
      "text/plain": [
       "array([ 0.63919994,  0.71386698,  0.58702344,  0.07923081, -0.25294154])"
      ]
     },
     "execution_count": 9,
     "metadata": {},
     "output_type": "execute_result"
    }
   ],
   "source": [
    "# instantiate the regressor\n",
    "reg = LinearRegression()\n",
    "\n",
    "# fit the model, returning an array of cross-validation results\n",
    "# length of the array is the mnumber of folds utilised\n",
    "cv_scores = cross_val_score(reg, X, y, cv=5) # create 5 folds\n",
    "print(type(cv_scores), cv_scores.shape)\n",
    "cv_scores"
   ]
  },
  {
   "cell_type": "markdown",
   "metadata": {},
   "source": [
    "The scores returned are the `R^2` scores, 5 in total, one for each fold.\n",
    "\n",
    "We can now perform various statistical analysis."
   ]
  },
  {
   "cell_type": "code",
   "execution_count": 10,
   "metadata": {},
   "outputs": [
    {
     "data": {
      "text/plain": [
       "0.3532759243958781"
      ]
     },
     "execution_count": 10,
     "metadata": {},
     "output_type": "execute_result"
    }
   ],
   "source": [
    "np.mean(cv_scores)"
   ]
  },
  {
   "cell_type": "code",
   "execution_count": 11,
   "metadata": {},
   "outputs": [
    {
     "data": {
      "text/plain": [
       "0.37656783933262405"
      ]
     },
     "execution_count": 11,
     "metadata": {},
     "output_type": "execute_result"
    }
   ],
   "source": [
    "np.std(cv_scores)"
   ]
  },
  {
   "cell_type": "code",
   "execution_count": 12,
   "metadata": {},
   "outputs": [
    {
     "data": {
      "text/plain": [
       "0.587023436305781"
      ]
     },
     "execution_count": 12,
     "metadata": {},
     "output_type": "execute_result"
    }
   ],
   "source": [
    "np.median(cv_scores)"
   ]
  },
  {
   "cell_type": "code",
   "execution_count": 13,
   "metadata": {},
   "outputs": [
    {
     "data": {
      "text/plain": [
       "0.6989335717345951"
      ]
     },
     "execution_count": 13,
     "metadata": {},
     "output_type": "execute_result"
    }
   ],
   "source": [
    "np.percentile(cv_scores, 95.0)"
   ]
  },
  {
   "cell_type": "markdown",
   "metadata": {},
   "source": [
    "Calulate life expectancy using the Gapminder dataset(implementing multiple features)."
   ]
  },
  {
   "cell_type": "code",
   "execution_count": 14,
   "metadata": {},
   "outputs": [
    {
     "name": "stdout",
     "output_type": "stream",
     "text": [
      "<class 'numpy.ndarray'> (139, 8)\n",
      "<class 'numpy.ndarray'> (139,)\n"
     ]
    }
   ],
   "source": [
    "data = pd.read_csv('../data/gyn_2008_region.csv')\n",
    "X_life = data.drop(['life', 'Region'], axis=1).values\n",
    "y_life = data.life.values\n",
    "\n",
    "print(type(X_life), X_life.shape)\n",
    "print(type(y_life), y_life.shape)"
   ]
  },
  {
   "cell_type": "code",
   "execution_count": 15,
   "metadata": {},
   "outputs": [
    {
     "name": "stdout",
     "output_type": "stream",
     "text": [
      "(139, 1)\n"
     ]
    }
   ],
   "source": [
    "y_life = y_life.reshape(-1, 1)\n",
    "print(y_life.shape)"
   ]
  },
  {
   "cell_type": "code",
   "execution_count": 16,
   "metadata": {},
   "outputs": [
    {
     "name": "stdout",
     "output_type": "stream",
     "text": [
      "[0.81720569 0.82917058 0.90214134 0.80633989 0.94495637]\n"
     ]
    }
   ],
   "source": [
    "reg_life = LinearRegression()\n",
    "cv_scores_life = cross_val_score(reg_life, X_life, y_life, cv=5)\n",
    "print(cv_scores_life)"
   ]
  },
  {
   "cell_type": "code",
   "execution_count": 17,
   "metadata": {},
   "outputs": [
    {
     "data": {
      "text/plain": [
       "0.8599627722793267"
      ]
     },
     "execution_count": 17,
     "metadata": {},
     "output_type": "execute_result"
    }
   ],
   "source": [
    "np.mean(cv_scores_life)"
   ]
  },
  {
   "cell_type": "markdown",
   "metadata": {},
   "source": [
    "**R^2** score previously(using train-test split) was 0.8380."
   ]
  },
  {
   "cell_type": "code",
   "execution_count": 18,
   "metadata": {},
   "outputs": [
    {
     "data": {
      "text/plain": [
       "0.05413812652270428"
      ]
     },
     "execution_count": 18,
     "metadata": {},
     "output_type": "execute_result"
    }
   ],
   "source": [
    "np.std(cv_scores_life)"
   ]
  },
  {
   "cell_type": "markdown",
   "metadata": {},
   "source": [
    "**Now that we have cross-validated our model, we can more confidently evaluate its predictions.**"
   ]
  },
  {
   "cell_type": "markdown",
   "metadata": {},
   "source": [
    "**Cross validation is essential**. However, the more folds we use, the more computationally expensive cross-validation becomes. We'll explre performing 3-fold cross-validation and then 10-fold cross-validation on the Gapminder dataset.\n",
    "\n",
    "We can use `%timeit` to see how long 3-fold CV takes compared to 10-fold CV by executing the following:\n",
    "\n",
    "```py\n",
    "%timeit cross_val_score(reg, X, y, cv=<no. folds>)\n",
    "```"
   ]
  },
  {
   "cell_type": "code",
   "execution_count": 30,
   "metadata": {},
   "outputs": [
    {
     "name": "stdout",
     "output_type": "stream",
     "text": [
      "3.75 ms ± 43.2 µs per loop (mean ± std. dev. of 7 runs, 100 loops each)\n"
     ]
    }
   ],
   "source": [
    "%timeit cross_val_score(reg, X_life, y_life, cv=3)"
   ]
  },
  {
   "cell_type": "code",
   "execution_count": 31,
   "metadata": {},
   "outputs": [
    {
     "name": "stdout",
     "output_type": "stream",
     "text": [
      "11.8 ms ± 58.1 µs per loop (mean ± std. dev. of 7 runs, 100 loops each)\n"
     ]
    }
   ],
   "source": [
    "%timeit cross_val_score(reg, X_life, y_life, cv=10)"
   ]
  },
  {
   "cell_type": "code",
   "execution_count": 33,
   "metadata": {},
   "outputs": [
    {
     "name": "stdout",
     "output_type": "stream",
     "text": [
      "0.8718712782621969\n",
      "0.8599627722793267\n",
      "0.8436128620131095\n"
     ]
    }
   ],
   "source": [
    "# Perform 3-fold CV\n",
    "cvscores_3 = cross_val_score(reg, X_life, y_life, cv=3)\n",
    "print(np.mean(cvscores_3))\n",
    "\n",
    "# Perform 5-fold CV\n",
    "cvscores_5 = cross_val_score(reg, X_life, y_life, cv=5)\n",
    "print(np.mean(cvscores_5))\n",
    "\n",
    "# Perform 10-fold CV\n",
    "cvscores_10 = cross_val_score(reg, X_life, y_life, cv=10)\n",
    "print(np.mean(cvscores_10))"
   ]
  }
 ],
 "metadata": {
  "kernelspec": {
   "display_name": "Python 3",
   "language": "python",
   "name": "python3"
  },
  "language_info": {
   "codemirror_mode": {
    "name": "ipython",
    "version": 3
   },
   "file_extension": ".py",
   "mimetype": "text/x-python",
   "name": "python",
   "nbconvert_exporter": "python",
   "pygments_lexer": "ipython3",
   "version": "3.6.7"
  }
 },
 "nbformat": 4,
 "nbformat_minor": 2
}
