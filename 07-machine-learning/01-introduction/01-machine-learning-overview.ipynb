{
 "cells": [
  {
   "cell_type": "markdown",
   "metadata": {},
   "source": [
    "# Machine Learning\n",
    "\n",
    "'The ability of machines to learn without being explicitly programmed'.\n",
    "\n",
    "![Machine Learning Timeline](machine-learning-timeline.png)"
   ]
  },
  {
   "cell_type": "markdown",
   "metadata": {},
   "source": [
    "There are two categories:\n",
    "\n",
    "**Supervised Learning** \n",
    "\n",
    "The algorithm is trained on labeled data, discovers the properties that make up the desired result. When you then show it unlabeled data it predicts the likelihood that the item matches the desired result. For credit card fraud detection you would pass in as input a set of transactions. For each transaction, the program would predict if it is fraudulent or not.\n",
    "\n",
    "Supervised learning problems can be further grouped into regression and classification problems:\n",
    " \n",
    " - Regression: the target variable is continuous, can be any value within a range. Regression involves a statistical process for estimating the relationship between variables, helps to determine how one variable changes when another variable is varied. There are a number of examples, `Polynomial Regresssion`, `Linear Regression`, `Logistice Regression`, etc. `Linear Regression` is the process of trying to find the line of best fit through a series of points and is used widely in machine learning. Used to predict house prices, stock prices, consumer spending, etc.\n",
    " \n",
    " - Clasification: the target variable is discrete, can one of a number of values, such as a particular `category`. We are trying to identify(predict) to which category a new data point belongs to, e.g. is this the picture human or cat, is this email spam or not, is the credit card transaction fraudulent or not. There are a number of different statistical techniques available, `Naive Bayes Classifier`, `Support Vector Machines`, `K-Nearest Neighbour`, `Decision Trees`, etc.\n",
    "\n",
    "**Unsupervised Learning**\n",
    "\n",
    "The algorithm looks for patterns in unlabeled data and groups them into clusters, e.g. clustering of a news feed into topics, clustering users for recommendations, search engine groups similar objects into a cluster etc. The program learns to recognize the inherent structure in the input data\n"
   ]
  }
 ],
 "metadata": {
  "kernelspec": {
   "display_name": "Python 3",
   "language": "python",
   "name": "python3"
  },
  "language_info": {
   "codemirror_mode": {
    "name": "ipython",
    "version": 3
   },
   "file_extension": ".py",
   "mimetype": "text/x-python",
   "name": "python",
   "nbconvert_exporter": "python",
   "pygments_lexer": "ipython3",
   "version": "3.6.7"
  }
 },
 "nbformat": 4,
 "nbformat_minor": 2
}
