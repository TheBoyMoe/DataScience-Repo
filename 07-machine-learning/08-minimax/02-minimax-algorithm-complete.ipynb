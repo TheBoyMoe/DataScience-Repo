{
 "cells": [
  {
   "cell_type": "markdown",
   "metadata": {},
   "source": [
    "# Minimax Algorithm"
   ]
  },
  {
   "cell_type": "code",
   "execution_count": 1,
   "metadata": {},
   "outputs": [],
   "source": [
    "from tic_tac_toe import *\n",
    "from copy import deepcopy\n",
    "\n",
    "# return True if game is over, False otherwise\n",
    "def game_is_over(board):\n",
    "  return len(available_moves(board)) == 0 or has_won(board, 'X') or has_won(board, 'O')\n",
    "\n",
    "# The function should return a 1 if \"X\" won, a -1 if \"O\" won, and a 0 otherwise.\n",
    "def evaluate_board(board):\n",
    "  if has_won(board, 'X'):\n",
    "    return 1\n",
    "  elif has_won(board, 'O'):\n",
    "    return -1\n",
    "  else:\n",
    "    return 0\n",
    "\n",
    "def minimax(input_board, is_maximizing):\n",
    "  # Base case - the game is over, so we return the value of the board\n",
    "  if game_is_over(input_board):\n",
    "    # return evaluate_board(input_board)\n",
    "    return [evaluate_board(input_board), \"\"]\n",
    "  best_move = ''\n",
    "  if is_maximizing == True:\n",
    "    best_value = -float(\"Inf\")\n",
    "    symbol = \"X\"\n",
    "  else:\n",
    "    best_value = float(\"Inf\")\n",
    "    symbol = \"O\"\n",
    "  for move in available_moves(input_board):\n",
    "    new_board = deepcopy(input_board)\n",
    "    select_space(new_board, move, symbol)\n",
    "    hypothetical_value = minimax(new_board, not is_maximizing)[0]\n",
    "    if is_maximizing == True and hypothetical_value > best_value:\n",
    "      best_value = hypothetical_value\n",
    "      best_move = move\n",
    "    if is_maximizing == False and hypothetical_value < best_value:\n",
    "      best_value = hypothetical_value\n",
    "      best_move = move\n",
    "  return [best_value, best_move]"
   ]
  },
  {
   "cell_type": "code",
   "execution_count": 2,
   "metadata": {},
   "outputs": [
    {
     "name": "stdout",
     "output_type": "stream",
     "text": [
      "[['1', '2', '3'], ['4', '5', '6'], ['7', '8', '9']]\n"
     ]
    }
   ],
   "source": [
    "my_board = [\n",
    "    ['1', '2', '3'],\n",
    "    ['4', '5', '6'],\n",
    "    ['7', '8', '9']\n",
    "]\n",
    "\n",
    "print(my_board)"
   ]
  },
  {
   "cell_type": "code",
   "execution_count": 3,
   "metadata": {},
   "outputs": [
    {
     "data": {
      "text/plain": [
       "[1, 2, 3, 4, 5, 6, 7, 8, 9]"
      ]
     },
     "execution_count": 3,
     "metadata": {},
     "output_type": "execute_result"
    }
   ],
   "source": [
    "available_moves(my_board)"
   ]
  },
  {
   "cell_type": "markdown",
   "metadata": {},
   "source": [
    "Example move, playing as player 'X', minimax will return the best move to win, since `is_maximizing` is set to `True`\n",
    " \n",
    "```py\n",
    "select_space(my_board, minimax(my_board, True)[1], \"X\")\n",
    "print_board(my_board)\n",
    "```"
   ]
  },
  {
   "cell_type": "code",
   "execution_count": 5,
   "metadata": {},
   "outputs": [
    {
     "name": "stdout",
     "output_type": "stream",
     "text": [
      "|-------------|\n",
      "| Tic Tac Toe |\n",
      "|-------------|\n",
      "|             |\n",
      "|    1 2 3    |\n",
      "|    4 X 6    |\n",
      "|    7 8 9    |\n",
      "|             |\n",
      "|-------------|\n",
      "\n"
     ]
    }
   ],
   "source": [
    "select_space(my_board, 5, 'X')\n",
    "print_board(my_board)"
   ]
  },
  {
   "cell_type": "code",
   "execution_count": 6,
   "metadata": {},
   "outputs": [
    {
     "data": {
      "text/plain": [
       "1"
      ]
     },
     "execution_count": 6,
     "metadata": {},
     "output_type": "execute_result"
    }
   ],
   "source": [
    "minimax(my_board, False)[1]"
   ]
  },
  {
   "cell_type": "code",
   "execution_count": 7,
   "metadata": {},
   "outputs": [
    {
     "name": "stdout",
     "output_type": "stream",
     "text": [
      "|-------------|\n",
      "| Tic Tac Toe |\n",
      "|-------------|\n",
      "|             |\n",
      "|    O 2 3    |\n",
      "|    4 X 6    |\n",
      "|    7 8 9    |\n",
      "|             |\n",
      "|-------------|\n",
      "\n"
     ]
    }
   ],
   "source": [
    "select_space(my_board, 1, 'O')\n",
    "print_board(my_board)"
   ]
  },
  {
   "cell_type": "code",
   "execution_count": 8,
   "metadata": {},
   "outputs": [
    {
     "name": "stdout",
     "output_type": "stream",
     "text": [
      "|-------------|\n",
      "| Tic Tac Toe |\n",
      "|-------------|\n",
      "|             |\n",
      "|    O X 3    |\n",
      "|    4 X 6    |\n",
      "|    7 8 9    |\n",
      "|             |\n",
      "|-------------|\n",
      "\n"
     ]
    }
   ],
   "source": [
    "# my move\n",
    "select_space(my_board, 2, 'X')\n",
    "print_board(my_board)"
   ]
  },
  {
   "cell_type": "code",
   "execution_count": 9,
   "metadata": {},
   "outputs": [
    {
     "data": {
      "text/plain": [
       "8"
      ]
     },
     "execution_count": 9,
     "metadata": {},
     "output_type": "execute_result"
    }
   ],
   "source": [
    "# AI move\n",
    "minimax(my_board, False)[1]"
   ]
  },
  {
   "cell_type": "code",
   "execution_count": 10,
   "metadata": {},
   "outputs": [
    {
     "name": "stdout",
     "output_type": "stream",
     "text": [
      "|-------------|\n",
      "| Tic Tac Toe |\n",
      "|-------------|\n",
      "|             |\n",
      "|    O X 3    |\n",
      "|    4 X 6    |\n",
      "|    7 O 9    |\n",
      "|             |\n",
      "|-------------|\n",
      "\n"
     ]
    }
   ],
   "source": [
    "# play AI move\n",
    "select_space(my_board, 8, 'O')\n",
    "print_board(my_board)"
   ]
  },
  {
   "cell_type": "code",
   "execution_count": 11,
   "metadata": {},
   "outputs": [
    {
     "name": "stdout",
     "output_type": "stream",
     "text": [
      "|-------------|\n",
      "| Tic Tac Toe |\n",
      "|-------------|\n",
      "|             |\n",
      "|    O X 3    |\n",
      "|    4 X 6    |\n",
      "|    X O 9    |\n",
      "|             |\n",
      "|-------------|\n",
      "\n"
     ]
    }
   ],
   "source": [
    "# my move\n",
    "select_space(my_board, 7, 'X')\n",
    "print_board(my_board)"
   ]
  },
  {
   "cell_type": "code",
   "execution_count": 12,
   "metadata": {},
   "outputs": [
    {
     "data": {
      "text/plain": [
       "3"
      ]
     },
     "execution_count": 12,
     "metadata": {},
     "output_type": "execute_result"
    }
   ],
   "source": [
    "# AI move\n",
    "minimax(my_board, False)[1]"
   ]
  },
  {
   "cell_type": "code",
   "execution_count": 13,
   "metadata": {},
   "outputs": [
    {
     "name": "stdout",
     "output_type": "stream",
     "text": [
      "|-------------|\n",
      "| Tic Tac Toe |\n",
      "|-------------|\n",
      "|             |\n",
      "|    O X O    |\n",
      "|    4 X 6    |\n",
      "|    X O 9    |\n",
      "|             |\n",
      "|-------------|\n",
      "\n"
     ]
    }
   ],
   "source": [
    "# play AI move\n",
    "select_space(my_board, 3, 'O')\n",
    "print_board(my_board)"
   ]
  },
  {
   "cell_type": "code",
   "execution_count": 14,
   "metadata": {},
   "outputs": [
    {
     "name": "stdout",
     "output_type": "stream",
     "text": [
      "|-------------|\n",
      "| Tic Tac Toe |\n",
      "|-------------|\n",
      "|             |\n",
      "|    O X O    |\n",
      "|    4 X X    |\n",
      "|    X O 9    |\n",
      "|             |\n",
      "|-------------|\n",
      "\n"
     ]
    }
   ],
   "source": [
    "# my move\n",
    "select_space(my_board, 6, 'X')\n",
    "print_board(my_board)"
   ]
  },
  {
   "cell_type": "code",
   "execution_count": 15,
   "metadata": {},
   "outputs": [
    {
     "data": {
      "text/plain": [
       "4"
      ]
     },
     "execution_count": 15,
     "metadata": {},
     "output_type": "execute_result"
    }
   ],
   "source": [
    "# AI move\n",
    "minimax(my_board, False)[1]"
   ]
  },
  {
   "cell_type": "code",
   "execution_count": 16,
   "metadata": {},
   "outputs": [
    {
     "name": "stdout",
     "output_type": "stream",
     "text": [
      "|-------------|\n",
      "| Tic Tac Toe |\n",
      "|-------------|\n",
      "|             |\n",
      "|    O X O    |\n",
      "|    O X X    |\n",
      "|    X O 9    |\n",
      "|             |\n",
      "|-------------|\n",
      "\n"
     ]
    }
   ],
   "source": [
    "# play AI move\n",
    "select_space(my_board, 4, 'O')\n",
    "print_board(my_board)"
   ]
  },
  {
   "cell_type": "code",
   "execution_count": 17,
   "metadata": {},
   "outputs": [
    {
     "name": "stdout",
     "output_type": "stream",
     "text": [
      "|-------------|\n",
      "| Tic Tac Toe |\n",
      "|-------------|\n",
      "|             |\n",
      "|    O X O    |\n",
      "|    O X X    |\n",
      "|    X O X    |\n",
      "|             |\n",
      "|-------------|\n",
      "\n"
     ]
    }
   ],
   "source": [
    "# my move\n",
    "select_space(my_board, 9, 'X')\n",
    "print_board(my_board)"
   ]
  },
  {
   "cell_type": "code",
   "execution_count": 20,
   "metadata": {},
   "outputs": [
    {
     "data": {
      "text/plain": [
       "False"
      ]
     },
     "execution_count": 20,
     "metadata": {},
     "output_type": "execute_result"
    }
   ],
   "source": [
    "has_won(my_board, 'O')"
   ]
  },
  {
   "cell_type": "code",
   "execution_count": 21,
   "metadata": {},
   "outputs": [
    {
     "data": {
      "text/plain": [
       "False"
      ]
     },
     "execution_count": 21,
     "metadata": {},
     "output_type": "execute_result"
    }
   ],
   "source": [
    "has_won(my_board, 'X')"
   ]
  },
  {
   "cell_type": "code",
   "execution_count": 22,
   "metadata": {},
   "outputs": [
    {
     "data": {
      "text/plain": [
       "[]"
      ]
     },
     "execution_count": 22,
     "metadata": {},
     "output_type": "execute_result"
    }
   ],
   "source": [
    "available_moves(my_board)"
   ]
  }
 ],
 "metadata": {
  "kernelspec": {
   "display_name": "Python 3",
   "language": "python",
   "name": "python3"
  },
  "language_info": {
   "codemirror_mode": {
    "name": "ipython",
    "version": 3
   },
   "file_extension": ".py",
   "mimetype": "text/x-python",
   "name": "python",
   "nbconvert_exporter": "python",
   "pygments_lexer": "ipython3",
   "version": "3.7.0"
  }
 },
 "nbformat": 4,
 "nbformat_minor": 2
}
