{
 "cells": [
  {
   "cell_type": "markdown",
   "metadata": {},
   "source": [
    "# Seaborn Stylin\n",
    "\n",
    "## Styling Plots\n",
    "\n",
    "After you have formatted and visualized your data, the last step is to style your visualization in order to communicate the information your're trying to convey so as to increase it's impact. Seaborn allows you to change elements like the background color, grids, and spines.\n",
    "\n",
    "Seaborn has 5 built in themes: `darkgrid`(default), `whitegrid`, `dark`, `white` and `ticks`. You can set the themes through `sns.set_style()`.\n",
    "\n",
    "```py\n",
    "sns.set_style(\"darkgrid\")\n",
    "sns.stripplot(x=\"day\", y=\"total_bill\", data=tips)\n",
    "```\n",
    "\n",
    "![Strip Plot](img/strip-plot-1.png)"
   ]
  },
  {
   "cell_type": "markdown",
   "metadata": {},
   "source": [
    "You have a choice between a grey (darkgrid and dark themes) and white (whitegrid, white and ticks themes). A grid is shown in the darkgrid and whitegrid themes - a grid allows users to more easily read a chart.\n",
    "\n",
    "you can also define the usage of a `spine`, these are the borders around the edge of the figure. By default a plot has 4 spines. You can automatically take away the top and right spines using the `sns.despine()` method - plot looks like a traditional graph. \n",
    "\n",
    "Note: this function must be called after you have called your plot.\n",
    "\n",
    "```py\n",
    "sns.set_style(\"white\")\n",
    "sns.stripplot(x=\"day\", y=\"total_bill\", data=tips)\n",
    "sns.despine()\n",
    "```\n",
    "![Strip Plot 2](img/strip-plot-2.png)\n"
   ]
  },
  {
   "cell_type": "markdown",
   "metadata": {},
   "source": [
    "You can also specify how many spines you want to include by calling despine() and passing in the spines you want to get rid of, such as: left, bottom, top, right.\n",
    "\n",
    "```py\n",
    "sns.set_style(\"whitegrid\")\n",
    "sns.stripplot(x=\"day\", y=\"total_bill\", data=tips)\n",
    "sns.despine(left=True, bottom=True)\n",
    "```\n",
    "\n",
    "![Strip Plot3](img/strip-plot-3.png)"
   ]
  },
  {
   "cell_type": "markdown",
   "metadata": {},
   "source": [
    "## Scaling Plots\n",
    "\n",
    "Seaborn makes it easy to produce the same plots in a variety of different visual formats so you can customize the presentation of your data for the appropriate context. You can set the context using `sns.set_context()`. The methods takes upto 3 args:\n",
    "\n",
    " - pass in one arg to adjust the scale of the plot\n",
    " - 2 args to adjust scale and fonxt size.\n",
    " - 3 args to adjust scale, font size and `rc` property.\n",
    "\n",
    "Seaborn has 4 presets for scale which set the size of the plot depending on how it is being presented. In order of relative size: `paper`, `notebook` (default), `talk` and `poster`.\n",
    "\n",
    "```py\n",
    "sns.set_style(\"ticks\")\n",
    "\n",
    "# Smallest context:\n",
    "sns.set_context(\"paper\")\n",
    "sns.stripplot(x=\"day\", y=\"total_bill\", data=tips)\n",
    "```\n",
    "\n",
    "You can change the size of the text using the font_scale parameter for `sns.set_context()`. You can alse change the grid line width with the `rc` parameter.\n",
    "\n",
    "```py\n",
    "# Set font scale and reduce grid line width to match\n",
    "sns.set_context(\"poster\", font_scale = .5, rc={\"grid.linewidth\": 0.6})\n",
    "sns.stripplot(x=\"day\", y=\"total_bill\", data=tips)\n",
    "```"
   ]
  },
  {
   "cell_type": "markdown",
   "metadata": {},
   "source": [
    "The `rc` parameter or 'run command', takes a dictionary which allows you to configure a number of paramters of the plot:\n",
    "\n",
    "```py\n",
    "{\n",
    " 'axes.labelsize': 17.6,\n",
    " 'axes.titlesize': 19.200000000000003,\n",
    " 'font.size': 19.200000000000003,\n",
    " 'grid.linewidth': 1.6,\n",
    " 'legend.fontsize': 16.0,\n",
    " 'lines.linewidth': 2.8000000000000003,\n",
    " 'lines.markeredgewidth': 0.0,\n",
    " 'lines.markersize': 11.200000000000001,\n",
    " 'patch.linewidth': 0.48,\n",
    " 'xtick.labelsize': 16.0,\n",
    " 'xtick.major.pad': 11.200000000000001,\n",
    " 'xtick.major.width': 1.6,\n",
    " 'xtick.minor.width': 0.8,\n",
    " 'ytick.labelsize': 16.0,\n",
    " 'ytick.major.pad': 11.200000000000001,\n",
    " 'ytick.major.width': 1.6,\n",
    " 'ytick.minor.width': 0.8\n",
    " }\n",
    "```"
   ]
  },
  {
   "cell_type": "markdown",
   "metadata": {},
   "source": [
    "### Styling Color\n",
    "\n",
    "You can configure the color palette of your plots through `sns.color_palette()` method. The method accepts a color palette or a list of colors(RGB tuples, hex color codes or HTML color names) as an argument.\n",
    "\n",
    "To see what colors a palette has, use the function `sns.palplot()`:\n",
    "\n",
    "```py\n",
    "# Save a palette to a variable:\n",
    "palette = sns.color_palette(\"bright\")\n",
    "\n",
    "# Use palplot and pass in the variable:\n",
    "sns.palplot(palette)\n",
    "```\n",
    "![Color Palette](img/color-palette.png)\n"
   ]
  },
  {
   "cell_type": "markdown",
   "metadata": {},
   "source": [
    "To set a color palette, use the `sns.set_palette()`, passing the name of the palette. Six color palettes are provided: `deep`, `muted`, `pastel`, `bright`, `dark`, and `colorblind`.\n",
    "\n",
    "```py\n",
    "# Set the palette using the name of a palette:\n",
    "sns.set_palette(\"Paired\")\n",
    "\n",
    "# Plot a chart:\n",
    "sns.stripplot(x=\"day\", y=\"total_bill\", data=tips)\n",
    "```\n",
    "\n",
    "![Strip Plot 4](img/strip-plot-4.png)"
   ]
  },
  {
   "cell_type": "markdown",
   "metadata": {},
   "source": [
    "Seaborn also supports the `Color Brewer` palettes. To use one, pass the name of the palette to any of the color methods.\n",
    "\n",
    "```py\n",
    "custom_palette = sns.color_palette(\"Paired\", 9)\n",
    "sns.palplot(custom_palette)\n",
    "```\n",
    "\n",
    "![Color palette](img/color-palette-2.png)\n",
    "\n",
    "Some `color brewer` palettes include `Paired`, `Pastel1`, `Accent`, `Dark2`, `Set1`, `Set2`, `Set3`, `Accent`, etc.\n",
    "\n",
    "**Qualitative Palettes**  \n",
    "\n",
    "When using a dataset that uses distinct categories where there is no inherent ordering, e.g. different breeds of dog, it's good to use qualitative palettes. Qualitative palettes are sets of distinct colors which make it easy to distinguish the categories when plotted but don't imply any particular ordering or meaning. One example would be `color brewer Set3` color palette.\n",
    "\n",
    "```py\n",
    "qualitative_colors = sns.color_palette(\"Set3\", 10)\n",
    "sns.palplot(qualitative_colors)\n",
    "```\n",
    "\n",
    "![Color Palette](img/color-palette-3.png)\n",
    "\n",
    "**Sequential Palettes**  \n",
    "\n",
    "Are a set of colors that move sequentially from a lighter to a darker color. They're appropriate when a variable exists as ordered categories, such as grade in school, or as continuous values that can be put into groups, such as yearly income.\n",
    "\n",
    "Because the darkest colors will attract the most visual attention, sequential palettes are most useful when only high values need to be emphasized.\n",
    "\n",
    "```py\n",
    "sequential_colors = sns.color_palette(\"RdPu\", 10)\n",
    "sns.palplot(sequential_colors)\n",
    "```\n",
    "![Color Palette](img/color-palette-4.png)\n",
    "\n",
    "**Diverging Palettes** \n",
    "\n",
    "Diverging palettes are best suited for datasets where both the low and high values might be of equal interest, such as hot and cold temperatures.\n",
    "\n",
    "```py\n",
    "diverging_colors = sns.color_palette(\"RdBu\", 10)\n",
    "sns.palplot(diverging_colors)\n",
    "```\n",
    "\n",
    "![Color Palette](img/color-palette-5.png)\n",
    "\n",
    "Comparing color palettes:\n",
    "\n",
    "![Color Palette Comparison](img/color-palette-6.png)"
   ]
  }
 ],
 "metadata": {
  "kernelspec": {
   "display_name": "Python 3",
   "language": "python",
   "name": "python3"
  },
  "language_info": {
   "codemirror_mode": {
    "name": "ipython",
    "version": 3
   },
   "file_extension": ".py",
   "mimetype": "text/x-python",
   "name": "python",
   "nbconvert_exporter": "python",
   "pygments_lexer": "ipython3",
   "version": "3.6.7"
  }
 },
 "nbformat": 4,
 "nbformat_minor": 2
}
