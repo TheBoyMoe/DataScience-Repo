{
 "cells": [
  {
   "cell_type": "markdown",
   "metadata": {},
   "source": [
    "# Plotting Time Series"
   ]
  },
  {
   "cell_type": "code",
   "execution_count": 4,
   "metadata": {},
   "outputs": [],
   "source": [
    "import pandas as pd\n",
    "import numpy as np\n",
    "\n",
    "import matplotlib.pyplot as plt\n",
    "import seaborn as sns\n",
    "\n",
    "aapl = pd.read_csv('./data/stocks.csv', usecols=['AAPL', 'Date'], index_col='Date')\n",
    "ibm = pd.read_csv('./data/stocks.csv', usecols=['IBM', 'Date'], index_col='Date')\n",
    "csco = pd.read_csv('./data/stocks.csv', usecols=['CSCO', 'Date'], index_col='Date')\n",
    "msft = pd.read_csv('./data/stocks.csv', usecols=['MSFT', 'Date'], index_col='Date')"
   ]
  },
  {
   "cell_type": "code",
   "execution_count": null,
   "metadata": {
    "scrolled": false
   },
   "outputs": [],
   "source": [
    "# Import matplotlib.pyplot\n",
    "import matplotlib.pyplot as plt\n",
    "\n",
    "# Plot the aapl time series in blue\n",
    "plt.plot(aapl, color='blue', label='AAPL')\n",
    "\n",
    "# Plot the ibm time series in green\n",
    "# plt.plot(ibm, color='green', label='IBM')\n",
    "\n",
    "# Plot the csco time series in red\n",
    "# plt.plot(csco, color='cyan', label='CSCO')\n",
    "\n",
    "# Plot the msft time series in magenta\n",
    "# plt.plot(msft.MSFT, color='magenta', label='MSFT')\n",
    "\n",
    "# Add a legend in the top left corner of the plot\n",
    "plt.legend(loc='upper left')\n",
    "\n",
    "# Specify the orientation of the xticks\n",
    "plt.xticks(rotation=60)\n",
    "\n",
    "# Display the plot\n",
    "plt.show()"
   ]
  },
  {
   "cell_type": "markdown",
   "metadata": {},
   "source": [
    "![Moving Average](./img/time-series-plot.png)"
   ]
  },
  {
   "cell_type": "markdown",
   "metadata": {},
   "source": [
    "You can easily slice subsets corresponding to different time intervals from a time series. In particular, you can use strings like `'2001:2005'`, `'2011-03:2011-12'`, or `'2010-04-19:2010-04-30'` to extract data from time intervals of length 5 years, 10 months, or 12 days respectively.\n",
    "\n",
    "Unlike slicing from standard Python lists, tuples, and strings, when slicing time series by labels (and other pandas Series & DataFrames by labels), the slice includes the right-most portion of the slice. That is, extracting my_time_series['1990':'1995'] extracts data from my_time_series corresponding to 1990, 1991, 1992, 1993, 1994, and 1995 inclusive.\n",
    "\n",
    "You can use partial strings or datetime objects for indexing and slicing from time series."
   ]
  },
  {
   "cell_type": "code",
   "execution_count": null,
   "metadata": {},
   "outputs": [],
   "source": [
    "# Plot the series in the top subplot in blue\n",
    "plt.subplot(2,1,1)\n",
    "plt.xticks(rotation=45)\n",
    "plt.title('AAPL: 2001 to 2011')\n",
    "plt.plot(aapl, color='blue')\n",
    "\n",
    "# Slice aapl from '2007' to '2008' inclusive: view\n",
    "view = aapl['2007':'2008']\n",
    "\n",
    "# Plot the sliced data in the bottom subplot in black\n",
    "plt.subplot(2,1,2)\n",
    "plt.xticks(rotation=45)\n",
    "plt.title('AAPL: 2007 to 2008')\n",
    "plt.plot(view, color='black')\n",
    "plt.tight_layout()\n",
    "plt.show()"
   ]
  },
  {
   "cell_type": "markdown",
   "metadata": {},
   "source": [
    "![Moving Average](./img/multiple-plots-2.png)"
   ]
  },
  {
   "cell_type": "markdown",
   "metadata": {},
   "source": [
    "Partial string indexing works without slicing as well. For instance, using `my_time_series['1995']`, `my_time_series['1999-05']`, and `my_time_series['2000-11-04']` respectively extracts views of the time series `my_time_series` corresponding to the entire year 1995, the entire month May 1999, and the entire day November 4, 2000."
   ]
  },
  {
   "cell_type": "code",
   "execution_count": null,
   "metadata": {},
   "outputs": [],
   "source": [
    "# Extract a slice named view from the series aapl \n",
    "# containing data from November 2007 to April 2008 (inclusive). \n",
    "view = aapl['2007-11':'2008-04']\n",
    "\n",
    "# Plot the slice view in 'red' in the top subplot of a vertically-stacked \n",
    "# pair of subplots with the xticks rotated to 45 degrees.\n",
    "plt.subplot(2,1,1)\n",
    "plt.plot(view, color='red')\n",
    "plt.title('AAPL: Nov. 2007 to Apr. 2008')\n",
    "plt.xticks(rotation=45)\n",
    "\n",
    "# Reassign the slice view to contain data from the \n",
    "# series aapl for January 2008. This has been done for you.\n",
    "view = aapl['2008-01']\n",
    "\n",
    "# Plot the slice view in 'green' in the bottom subplot with the xticks rotated to 45 degrees.\n",
    "plt.subplot(2,1,2)\n",
    "plt.plot(view, color='green')\n",
    "plt.title('AAPL: Jan. 2008')\n",
    "plt.xticks(rotation=45)\n",
    "\n",
    "# Improve spacing and display the plot\n",
    "plt.tight_layout()\n",
    "plt.show()"
   ]
  },
  {
   "cell_type": "markdown",
   "metadata": {},
   "source": [
    "![Moving Average](./img/multiple-plots.png)"
   ]
  },
  {
   "cell_type": "markdown",
   "metadata": {},
   "source": [
    "Rather than comparing plots with subplots or overlayed plots, we can generate an inset view directly using `plt.axes()`. We can reproduce two of the time series plots from the preceding two examples - the figure will contain an inset plot to highlight the dramatic changes in AAPL stock price between November 2007 and April 2008 (as compared to the 11 years from 2001 to 2011)."
   ]
  },
  {
   "cell_type": "code",
   "execution_count": null,
   "metadata": {},
   "outputs": [],
   "source": [
    "# Extract a slice of series aapl from November 2007 to April 2008 inclusive\n",
    "view = aapl['2007-11':'2008-04']\n",
    "\n",
    "# Plot the entire series \n",
    "plt.plot(aapl)\n",
    "plt.xticks(rotation=45)\n",
    "plt.title('AAPL: 2001-2011')\n",
    "\n",
    "# Create a set of axes with lower left corner (0.25, 0.5), width 0.35, and height 0.35. \n",
    "# Pass these coordinates to plt.axes() as a list (all in units relative to the figure dimensions).\n",
    "plt.axes([0.25, 0.5, 0.35, 0.35])\n",
    "\n",
    "# Plot the sliced series in red using the current axes\n",
    "plt.plot(view, color='red')\n",
    "plt.xticks(rotation=45)\n",
    "plt.title('2007/11-2008/04')\n",
    "plt.show()"
   ]
  },
  {
   "cell_type": "markdown",
   "metadata": {},
   "source": [
    "![INset View](./img/inset-view.png)"
   ]
  },
  {
   "cell_type": "markdown",
   "metadata": {},
   "source": [
    "### Plotting Moving Averages (Moving Windows)"
   ]
  },
  {
   "cell_type": "markdown",
   "metadata": {},
   "source": [
    "we want to plot pre-computed moving averages of AAPL stock prices in distinct subplots.\n",
    "\n",
    "The time series aapl is overlayed in black in each subplot for comparison.\n",
    "\n",
    "The time series mean_30, mean_75, mean_125, and mean_250 have been computed for you (containing the windowed averages of the series aapl computed over windows of width 30 days, 75 days, 125 days, and 250 days respectively)."
   ]
  },
  {
   "cell_type": "code",
   "execution_count": null,
   "metadata": {},
   "outputs": [],
   "source": [
    "# Plot the 30-day moving average in the top left subplot in green\n",
    "plt.subplot(2,2,1)\n",
    "plt.plot(mean_30, color='green')\n",
    "plt.plot(aapl, 'k-.')\n",
    "plt.xticks(rotation=60)\n",
    "plt.title('30d averages')\n",
    "\n",
    "# Plot the 75-day moving average in the top right subplot in red\n",
    "plt.subplot(2,2,2)\n",
    "plt.plot(mean_75, 'red')\n",
    "plt.plot(aapl, 'k-.')\n",
    "plt.xticks(rotation=60)\n",
    "plt.title('75d averages')\n",
    "\n",
    "# Plot the 125-day moving average in the bottom left subplot in magenta\n",
    "plt.subplot(2, 2, 3)\n",
    "plt.plot(mean_125, color='magenta')\n",
    "plt.plot(aapl, 'k-.')\n",
    "plt.xticks(rotation=60)\n",
    "plt.title('125d averages')\n",
    "\n",
    "# Plot the 250-day moving average in the bottom right subplot in cyan\n",
    "plt.subplot(2,2,4)\n",
    "plt.plot(mean_250, color='cyan')\n",
    "plt.plot(aapl, 'k-.')\n",
    "plt.xticks(rotation=60)\n",
    "plt.title('250d averages')\n",
    "\n",
    "# Display the plot\n",
    "plt.show()"
   ]
  },
  {
   "cell_type": "markdown",
   "metadata": {},
   "source": [
    "![Moving Average](./img/moving-average.png)"
   ]
  },
  {
   "cell_type": "markdown",
   "metadata": {},
   "source": [
    "### Ploting Moving Standard Deviations"
   ]
  },
  {
   "cell_type": "markdown",
   "metadata": {},
   "source": [
    "Having plotted pre-computed moving averages of AAPL stock prices on distinct subplots in the previous exercise, you will now plot pre-computed moving standard deviations of the same stock prices, this time together on common axes.\n",
    "\n",
    "* The time series aapl is not plotted in this case; it is of a different length scale than the standard deviations.\n",
    "\n",
    "* The time series std_30, std_75, stdn_125, & std_250 have been computed for you (containing the windowed standard deviations of the series aapl computed over windows of width 30 days, 75 days, 125 days, & 250 days respectively"
   ]
  },
  {
   "cell_type": "code",
   "execution_count": null,
   "metadata": {},
   "outputs": [],
   "source": [
    "# Plot std_30 in red\n",
    "plt.plot(std_30, color='red', label='30d')\n",
    "\n",
    "# Plot std_75 in cyan\n",
    "plt.plot(std_75, color='cyan', label='75d')\n",
    "\n",
    "# Plot std_125 in green\n",
    "plt.plot(std_125, color='green', label='125d')\n",
    "\n",
    "# Plot std_250 in magenta\n",
    "plt.plot(std_250, color='magenta', label='250d')\n",
    "\n",
    "# Add a legend to the upper left\n",
    "plt.legend(loc='upper left')\n",
    "\n",
    "# Add a title\n",
    "plt.title('Moving standard deviations')\n",
    "\n",
    "# Display the plot\n",
    "plt.show()"
   ]
  },
  {
   "cell_type": "markdown",
   "metadata": {},
   "source": [
    "![image](./img/moving-std.png)"
   ]
  }
 ],
 "metadata": {
  "kernelspec": {
   "display_name": "Python 3",
   "language": "python",
   "name": "python3"
  },
  "language_info": {
   "codemirror_mode": {
    "name": "ipython",
    "version": 3
   },
   "file_extension": ".py",
   "mimetype": "text/x-python",
   "name": "python",
   "nbconvert_exporter": "python",
   "pygments_lexer": "ipython3",
   "version": "3.6.8"
  }
 },
 "nbformat": 4,
 "nbformat_minor": 2
}
