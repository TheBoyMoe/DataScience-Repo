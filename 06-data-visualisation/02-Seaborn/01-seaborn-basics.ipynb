{
 "cells": [
  {
   "cell_type": "markdown",
   "metadata": {},
   "source": [
    "# Seaborn basics\n",
    "\n",
    "Seaborn is a Python library based on `Matplotlib` that allows you to create charts for statistical analysis.\n",
    "\n",
    "It improves upon `Matplotlib`, e.g. it natively supports `Pandas`, allows you to summarize large `Panda DataFrames` into aggregated charts. One of the most important tasks that Seaborn automates for us is calculating aggregate statistics over large datasets\n",
    "\n",
    "To import `Seaborn`, add the following line at the top of your script `import seaborn as sns`. You'll need to import `Pandas` aswell `import pandas as pd`."
   ]
  },
  {
   "cell_type": "markdown",
   "metadata": {},
   "source": [
    "If you were to plot a satisfaction survey, 'satisfaction vs gender' using `Matplotlib`, you would do the following:\n",
    "\n",
    "```py\n",
    "df = pd.read_csv(\"results.csv\")\n",
    "ax = plt.subplot()\n",
    "plt.bar(range(len(df)),\n",
    "        df[\"Mean Satisfaction\"])\n",
    "ax.set_xticks(range(len(df)))\n",
    "ax.set_xticklabels(df.Gender)\n",
    "plt.xlabel(\"Gender\")\n",
    "plt.ylabel(\"Mean Satisfaction\")\n",
    "```"
   ]
  },
  {
   "cell_type": "markdown",
   "metadata": {},
   "source": [
    "This task is much simpler using the `Seaborn` method `barplot()`. It takes a min of 3 args:\n",
    " - `data` - a dataframe\n",
    " - `x` - a string indicating the column in the dataframe that contains the labels identifying the bars\n",
    " - `y` - a string indicating the column in the dataframe that has the heights of each bar\n",
    " \n",
    " \n",
    "```py\n",
    "sns.barplot(data=<name of DataFrame>,\n",
    "  x=<column for x-data>,\n",
    "  y=<column for y-data>)\n",
    "```\n",
    " \n",
    "By default, Seaborn will aggregate and plot the mean of each category."
   ]
  },
  {
   "cell_type": "markdown",
   "metadata": {},
   "source": [
    "#### Example\n",
    "\n",
    "```py\n",
    "# results.csv\n",
    "\tGender\tMean Satisfaction\n",
    "0\tMale\t7.2\n",
    "1\tFemale\t8.1\n",
    "2\tNon-binary\t6.8\n",
    "```\n",
    "\n",
    "```py\n",
    "import pandas as pd\n",
    "from matplotlib import pyplot as plt\n",
    "import seaborn as sns\n",
    "\n",
    "# Load results.csv here:\n",
    "df = pd.read_csv('results.csv')\n",
    "print(df)\n",
    "\n",
    "sns.barplot(\n",
    "\t data=df,\n",
    "\t x='Gender' ,\n",
    "\t y='Mean Satisfaction'\n",
    ")\n",
    "plt.show()\n",
    "```"
   ]
  },
  {
   "cell_type": "markdown",
   "metadata": {},
   "source": [
    "Seaborn can also calculate `aggregate statistics`(mean, mode, median, std deviaton, etc) on datasets. By default it will plot the `mean` of our data.\n",
    "\n",
    "Using `Numpy` you could calculate the mean grade for Assignment 1 like so:\n",
    "\n",
    "```py\n",
    "import pandas as pd\n",
    "import numpy as np\n",
    "\n",
    "gradebook = pd.read_csv(\"gradebook.csv\")\n",
    "assignment1 = gradebook[gradebook.assignment_name == 'Assignment 1'] # grab all assignment 1 rows\n",
    "asn1_mean = np.mean(assignment1.grade) # calculate the mean grade\n",
    "print(asn1_mean) # 88.0\n",
    "```"
   ]
  },
  {
   "cell_type": "markdown",
   "metadata": {},
   "source": [
    " Using `Seaborn` you could do the following:\n",
    " \n",
    " ```py\n",
    " # first 5 rows of gradebook dataframe\n",
    " \tstudent\tassignment_name\tgrade\n",
    "0\tAmy\tAssignment 1\t75\n",
    "1\tAmy\tAssignment 2\t82\n",
    "2\tBob\tAssignment 1\t99\n",
    "3\tBob\tAssignment 2\t90\n",
    "4\tChris\tAssignment 1\t72\n",
    " ```\n",
    " \n",
    "```py\n",
    "import pandas as pd\n",
    "from matplotlib import pyplot as plt\n",
    "import seaborn as sns\n",
    "\n",
    "gradebook = pd.read_csv(\"gradebook.csv\")\n",
    "sns.barplot(data=gradebook, x=\"assignment_name\", y=\"grade\")\n",
    "plt.show()\n",
    "```"
   ]
  },
  {
   "cell_type": "markdown",
   "metadata": {},
   "source": [
    "By default, Seaborn will place error bars on each bar when you use the `barplot()` function. These are a visual indication of the range of values that might be expected.\n",
    "\n",
    "By default, Seaborn uses something called a `bootstrapped confidence interval` or `95% confidence interval`. This interval means that \"based on the data, you can be confident that the mean value represented by the bar would be within the range indicated by the error bar 95% of the time\".\n",
    "\n",
    "This confidence interval is calulated for `median` and `mode` as well as `mean`.\n",
    "\n",
    "If you're calculating a mean and would prefer to use standard deviation for your error bars, you can pass in the keyword argument ci=\"sd\" to sns.barplot() which will represent one standard deviation.\n",
    "\n",
    "```py\n",
    "sns.barplot(data=gradebook, x=\"name\", y=\"grade\", ci=\"sd\")\n",
    "```"
   ]
  },
  {
   "cell_type": "markdown",
   "metadata": {},
   "source": [
    "We can also plot the `median`, when the dataset possess many outliers. If our data is categorical, we might want to count how many times each category appears, e.g.the case of a survey response.\n",
    "\n",
    "To calculate other aggregates, use the `estimator` keyword, which accepts any function that works on a list.\n",
    "\n",
    "```py\n",
    "sns.barplot(data=df,\n",
    "  x=\"x-values\",\n",
    "  y=\"y-values\",\n",
    "  estimator=np.median)\n",
    "```"
   ]
  },
  {
   "cell_type": "markdown",
   "metadata": {},
   "source": [
    "To calculate the number of times a particular value appears in the Response column , we pass in `len`:\n",
    "\n",
    "```py\n",
    "sns.barplot(data=df,\n",
    "  x=\"Patient ID\",\n",
    "  y=\"Response\",\n",
    "  estimator=len)\n",
    "```"
   ]
  },
  {
   "cell_type": "markdown",
   "metadata": {},
   "source": [
    "### Using hue keyword\n",
    "\n",
    "Seaborn allows you to aggregate multiple columns to visualize nested categorical variables, e.g. a customer satisfaction survey might depend on 'Gender' as well as 'age'. We can compare both `Gender` and `Age Range` columns using the keyword 'hue`.\n",
    "\n",
    "```py\n",
    "sns.barplot(data=df,\n",
    "            x=\"Gender\",\n",
    "            y=\"Response\",\n",
    "            hue=\"Age Range\")\n",
    "```\n",
    "\n",
    "Example:\n",
    "\n",
    "Given a dataset that includes information on the number of licks it takes people to get to the center of a tootsie pop, and includes columns with a person's age range, and gender; which is the correct use of hue to create the following chart?\n",
    "\n",
    "```py\n",
    "sns.barplot(x=\"Age Range\",\n",
    "  y=\"Number of Licks\",\n",
    "  hue=\"Gender\",\n",
    "  data=df)\n",
    "```\n",
    "\n",
    "![bar-plot](img/bar-plot.png)"
   ]
  },
  {
   "cell_type": "markdown",
   "metadata": {},
   "source": [
    "### Summary\n",
    "\n",
    "1. Import the following libraries\n",
    "\n",
    "```py\n",
    "import pandas as pd\n",
    "from matplotlib import pyplot as plt\n",
    "import seaborn as sns\n",
    "import numpy as np # optional, req'd to calculate some aggregates\n",
    "```\n",
    "\n",
    "2. Ingest data from a CSV file to Pandas DataFrame.\n",
    "\n",
    "```py\n",
    "df = pd.read_csv('file_name.csv')\n",
    "```\n",
    "\n",
    "3. Set sns.barplot() with desired values for x, y, and set data equal to your DataFrame.\n",
    "\n",
    "```py\n",
    "sns.barplot(data=df, x='X-Values', y='Y-Values')\n",
    "```\n",
    "\n",
    "4. Set desired values for estimator and hue parameters.\n",
    "\n",
    "```py\n",
    "sns.barplot(data=df, x='X-Values', y='Y-Values', estimator=len, hue='Value')\n",
    "```\n",
    "\n",
    "5. Render plot\n",
    "\n",
    "```py\n",
    "plt.show()\n",
    "```"
   ]
  }
 ],
 "metadata": {
  "kernelspec": {
   "display_name": "Python 3",
   "language": "python",
   "name": "python3"
  },
  "language_info": {
   "codemirror_mode": {
    "name": "ipython",
    "version": 3
   },
   "file_extension": ".py",
   "mimetype": "text/x-python",
   "name": "python",
   "nbconvert_exporter": "python",
   "pygments_lexer": "ipython3",
   "version": "3.6.7"
  }
 },
 "nbformat": 4,
 "nbformat_minor": 2
}
