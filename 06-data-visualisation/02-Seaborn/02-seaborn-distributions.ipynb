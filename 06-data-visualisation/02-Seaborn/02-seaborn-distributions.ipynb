{
 "cells": [
  {
   "cell_type": "markdown",
   "metadata": {},
   "source": [
    "# Plotting Distributions with Seaborn\n",
    "\n",
    "Bar charts/plots in Seaborn are not able to visualize distributions, we use KDE, Box and Violin plots for that."
   ]
  },
  {
   "cell_type": "markdown",
   "metadata": {},
   "source": [
    "## KDE Plots\n",
    "\n",
    "A barchart can plot the mean of our dataset, but don't give any indication of the data's distribution, e.g. is the data clustered around the mean or evenly distributed across the entire range.\n",
    "\n",
    "In order to examine a datasets distribution you could use a histogram. A better option is a `KDE plot`. With histograms, depending on how you group the data into bins and the width of the bins, you can draw wildly different conclusions about the shape of the data. Using a KDE plot can mitigate these issues, because they smooth the dataset they allow us to generalize over the shape of our data.\n",
    "\n",
    "A KDE or Kernel Density Estimator plot gives us the sense of a univariate as a curve. A univariate dataset only has one variable(also referred to as being one-dimensional). As opposed to bivariate or two-dimensional datasets which have two variables."
   ]
  },
  {
   "cell_type": "markdown",
   "metadata": {},
   "source": [
    "To plot a KDE, use `sns.kdeplot()`. It takes two args:\n",
    " - `data` the univariante dataset being visualized(panda dataframe, python list or numpy array)\n",
    " - `shade` a boolean that determines whether or not the space underneath the curve is shaded.\n",
    "\n",
    "Plot each dataset separetly, rather than using a combined dataframe.\n",
    "\n",
    " ```py\n",
    "sns.kdeplot(dataset1, shade=True)\n",
    "sns.kdeplot(dataset2, shade=True)\n",
    "sns.kdeplot(dataset3, shade=True)\n",
    "plt.legend()\n",
    "plt.show()\n",
    " ```\n",
    "![KDE plot](img/kde-plot.png)"
   ]
  },
  {
   "cell_type": "markdown",
   "metadata": {},
   "source": [
    "The plot demonstrates:\n",
    " - Dataset 1 is skewed left\n",
    " - Dataset 2 is normally distributed\n",
    " - Dataset 3 is bimodal (it has two peaks)"
   ]
  },
  {
   "cell_type": "markdown",
   "metadata": {},
   "source": [
    "#### Example\n",
    "\n",
    "```py\n",
    "import pandas as pd\n",
    "import numpy as np\n",
    "from matplotlib import pyplot as plt\n",
    "import seaborn as sns\n",
    "\n",
    "# Take in the data from the CSVs as NumPy arrays:\n",
    "set_one = np.genfromtxt(\"dataset1.csv\", delimiter=\",\")\n",
    "set_two = np.genfromtxt(\"dataset2.csv\", delimiter=\",\")\n",
    "set_three = np.genfromtxt(\"dataset3.csv\", delimiter=\",\")\n",
    "set_four = np.genfromtxt(\"dataset4.csv\", delimiter=\",\")\n",
    "\n",
    "# Creating a Pandas DataFrame:\n",
    "n=500\n",
    "df = pd.DataFrame({\n",
    "    \"label\": [\"set_one\"] * n + [\"set_two\"] * n + [\"set_three\"] * n + [\"set_four\"] * n,\n",
    "    \"value\": np.concatenate([set_one, set_two, set_three, set_four])\n",
    "})\n",
    "\n",
    "# Setting styles:\n",
    "sns.set_style(\"darkgrid\")\n",
    "sns.set_palette(\"pastel\")\n",
    "\n",
    "# Add your code below:\n",
    "sns.kdeplot(set_one, shade=True)\n",
    "sns.kdeplot(set_two, shade=True)\n",
    "sns.kdeplot(set_three, shade=True)\n",
    "sns.kdeplot(set_four, shade=True)\n",
    "\n",
    "plt.show()\n",
    "```"
   ]
  },
  {
   "cell_type": "markdown",
   "metadata": {},
   "source": [
    "## Box Plots\n",
    "\n",
    "A `Box plot` can tell us how out dataset is distributed(like a KDE plot), but unlike a KDE plot, it shows us the range of our dataset, gives us an idea about where a significant portion of our data lies, and whether or not any outliers are present.\n",
    "\n",
    "To create a box plot, use `sns.boxplot()`, which takes 3 srgs:\n",
    " - `data` the dataset, a DataFrame, python list, or numpy array\n",
    " - `x`  a one-dimensional set of values, like  Series, list, or array\n",
    " - `y ` a second set of one-dimensional data\n",
    "\n",
    "If you use a Pandas Series for the x and y values, the Series will also generate the axis labels - uses the name as the label."
   ]
  },
  {
   "cell_type": "markdown",
   "metadata": {},
   "source": [
    "#### Interpreting a Box Plot\n",
    "\n",
    "- The **box** represents the interquartile range\n",
    "- The **line in the middle** of the box is the median\n",
    "- The **end lines** are the first and third quartiles\n",
    "- The **diamonds** show outliers\n",
    "\n",
    "![Box Plot](img/box-plot-2.png)"
   ]
  },
  {
   "cell_type": "markdown",
   "metadata": {},
   "source": [
    "To create a box plot of the 3 datasets from above:\n",
    "\n",
    "```py\n",
    "sns.boxplot(data=df, x='label', y='value')\n",
    "plt.show()\n",
    "```\n",
    "A box plot likes like so:\n",
    "\n",
    "![Box plot](img/box-plot.png)"
   ]
  },
  {
   "cell_type": "markdown",
   "metadata": {},
   "source": [
    "It shows that dataset one is skewed to the left and dataset two is uniform, as does the KDE plot. But it does not show that dataset three is bimodal."
   ]
  },
  {
   "cell_type": "markdown",
   "metadata": {},
   "source": [
    "#### Example\n",
    "\n",
    "```py\n",
    "import pandas as pd\n",
    "import numpy as np\n",
    "from matplotlib import pyplot as plt\n",
    "import seaborn as sns\n",
    "\n",
    "# Take in the data from the CSVs as NumPy arrays:\n",
    "set_one = np.genfromtxt(\"dataset1.csv\", delimiter=\",\")\n",
    "set_two = np.genfromtxt(\"dataset2.csv\", delimiter=\",\")\n",
    "set_three = np.genfromtxt(\"dataset3.csv\", delimiter=\",\")\n",
    "set_four = np.genfromtxt(\"dataset4.csv\", delimiter=\",\")\n",
    "\n",
    "# Creating a Pandas DataFrame:\n",
    "n=500\n",
    "df = pd.DataFrame({\n",
    "    \"label\": [\"set_one\"] * n + [\"set_two\"] * n + [\"set_three\"] * n + [\"set_four\"] * n,\n",
    "    \"value\": np.concatenate([set_one, set_two, set_three, set_four])\n",
    "})\n",
    "\n",
    "# Setting styles:\n",
    "sns.set_style(\"darkgrid\")\n",
    "sns.set_palette(\"pastel\")\n",
    "\n",
    "# Add your code below:\n",
    "sns.boxplot(data=df, x='label', y='value')\n",
    "plt.show()\n",
    "```"
   ]
  },
  {
   "cell_type": "markdown",
   "metadata": {},
   "source": [
    "## Violin Plots\n",
    "\n",
    "They show a dataset's distributions, like the KDE plot, as well as information about the median and interquartile range, like the box plot - they're a combination of KDE and Box plots. You can compare multiple distributions at once.\n",
    "\n",
    "To create a violin plot, use the `sns.violinplot()` method, it takes a min of 3 args:\n",
    " - `data` the dataset - a dataframe, python list, or numpy array\n",
    " - `x`  a one-dimensional set of values, like  Series, list, or array\n",
    " - `y ` a second set of one-dimensional data values (Series, list, or array)\n",
    "\n",
    "It can also take:\n",
    " - `hue` a one-dimensional set of values, like  Series, list, or array\n",
    " - any of the parameters accepted by `sns.boxplt()`\n",
    " \n",
    " ```py\n",
    "sns.violinplot(data=df, x=\"label\", y=\"value\")\n",
    "plt.show()\n",
    " ```\n",
    " \n",
    "A violin plot of the 3 datasets from above demonstrates that dataset 1  is skewed to the left, dataset 2 is uniform and dataset 3 is bimodal\n",
    "![Violin plot](img/violin-plot.png)\n",
    "\n",
    "\n",
    "### Interpreting a Violin Plot\n",
    "\n",
    " - they are symmetrical along the center line.\n",
    " - the white dot represents the median.\n",
    " - the thick black line in the center of each violin represents the interquartile range(visualize confidence levels).\n",
    " - the lines that extend from the center are the confidence intervals - a violin plot displays the 95% confidence interval.\n",
    " \n",
    " ![Violin plot](img/violin-plot-2.png)"
   ]
  },
  {
   "cell_type": "markdown",
   "metadata": {},
   "source": [
    "#### Example\n",
    "\n",
    "```py\n",
    "import pandas as pd\n",
    "import numpy as np\n",
    "from matplotlib import pyplot as plt\n",
    "import seaborn as sns\n",
    "\n",
    "# Take in the data from the CSVs as NumPy arrays:\n",
    "set_one = np.genfromtxt(\"dataset1.csv\", delimiter=\",\")\n",
    "set_two = np.genfromtxt(\"dataset2.csv\", delimiter=\",\")\n",
    "set_three = np.genfromtxt(\"dataset3.csv\", delimiter=\",\")\n",
    "set_four = np.genfromtxt(\"dataset4.csv\", delimiter=\",\")\n",
    "\n",
    "# Creating a Pandas DataFrame:\n",
    "n=500\n",
    "df = pd.DataFrame({\n",
    "    \"label\": [\"set_one\"] * n + [\"set_two\"] * n + [\"set_three\"] * n + [\"set_four\"] * n,\n",
    "    \"value\": np.concatenate([set_one, set_two, set_three, set_four])\n",
    "})\n",
    "\n",
    "# Setting styles:\n",
    "sns.set_style(\"darkgrid\")\n",
    "sns.set_palette(\"pastel\")\n",
    "\n",
    "# Add your code below:\n",
    "sns.violinplot(data=df, x=\"label\", y=\"value\")\n",
    "plt.show()\n",
    "```"
   ]
  },
  {
   "cell_type": "markdown",
   "metadata": {},
   "source": [
    "## Summary\n",
    "\n",
    "Seaborn's strength is in visualizing statistical calculations. Seaborn includes several plots that allow you to graph univariate distributions, including KDE plots, box plots, and violin plots.\n",
    "\n",
    "Read the datasets, concatenate them using numpy and convert them to a dataframe.\n",
    "\n",
    "```py\n",
    "import numpy as np\n",
    "import pandas as pd\n",
    "import matplotlib.pyplot as plt\n",
    "import seaborn as sns\n",
    "\n",
    "dataset1 = np.genfromtxt(\"dataset1.csv\", delimiter=\",\")\n",
    "dataset2 = np.genfromtxt(\"dataset2.csv\", delimiter=\",\")\n",
    "dataset3 = np.genfromtxt(\"dataset3.csv\", delimiter=\",\")\n",
    "\n",
    "n=500\n",
    "df = pd.DataFrame({\n",
    "    \"label\": [\"set_one\"] * n + [\"set_two\"] * n + [\"set_three\"] * n,\n",
    "    \"value\": np.concatenate([dataset1, dataset2, dataset3])\n",
    "})\n",
    "\n",
    "sns.set()\n",
    "```\n",
    "\n",
    "Plot the dataset\n",
    "\n",
    "```py\n",
    "sns.barplot(data=df, x='label', y='value')\n",
    "plt.show()\n",
    "```\n",
    "![bar chart](img/bar-chart.png)\n"
   ]
  },
  {
   "cell_type": "markdown",
   "metadata": {},
   "source": [
    "To discover the distribution(how spread out) the data is, we use a `KDE` plot.\n",
    "\n",
    "```py\n",
    "sns.kdeplot(dataset1, shade=True, label=\"dataset1\")\n",
    "sns.kdeplot(dataset2, shade=True, label=\"dataset2\")\n",
    "sns.kdeplot(dataset3, shade=True, label=\"dataset3\")\n",
    "\n",
    "plt.legend()\n",
    "plt.show()\n",
    "```\n",
    "![KDE plot](img/kde-plot.png)"
   ]
  },
  {
   "cell_type": "markdown",
   "metadata": {},
   "source": [
    "This particular plot is difficult to interpret. in which case we can generate a `Box Plot`, which makes it easier to compare distributions, identify outliers and the interquartile range.\n",
    "\n",
    "```py\n",
    "sns.boxplot(data=df, x='label', y='value')\n",
    "plt.show()\n",
    "```\n",
    "![Box plot](img/box-plot.png)\n"
   ]
  },
  {
   "cell_type": "markdown",
   "metadata": {},
   "source": [
    "In order to see data's 'shape', create a `violin plot`.\n",
    "\n",
    "```py\n",
    "sns.violinplot(data=df, x=\"label\", y=\"value\")\n",
    "plt.show()\n",
    "```\n",
    "![Violin plot](img/violin-plot.png)"
   ]
  }
 ],
 "metadata": {
  "kernelspec": {
   "display_name": "Python 3",
   "language": "python",
   "name": "python3"
  },
  "language_info": {
   "codemirror_mode": {
    "name": "ipython",
    "version": 3
   },
   "file_extension": ".py",
   "mimetype": "text/x-python",
   "name": "python",
   "nbconvert_exporter": "python",
   "pygments_lexer": "ipython3",
   "version": "3.6.7"
  }
 },
 "nbformat": 4,
 "nbformat_minor": 2
}
